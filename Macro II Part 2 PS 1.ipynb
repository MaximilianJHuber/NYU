{
 "cells": [
  {
   "cell_type": "markdown",
   "metadata": {},
   "source": [
    "# Question 2\n",
    "You can find this code on my GitHub account: https://github.com/MaximilianJHuber/NYU\n",
    "## d.)"
   ]
  },
  {
   "cell_type": "code",
   "execution_count": 1,
   "metadata": {
    "collapsed": false
   },
   "outputs": [
    {
     "data": {
      "text/plain": [
       "Plots.PyPlotBackend()"
      ]
     },
     "execution_count": 1,
     "metadata": {},
     "output_type": "execute_result"
    }
   ],
   "source": [
    "using Optim\n",
    "using Plots\n",
    "pyplot()"
   ]
  },
  {
   "cell_type": "code",
   "execution_count": 2,
   "metadata": {
    "collapsed": false
   },
   "outputs": [],
   "source": [
    "p = 0.95; q = 0.95\n",
    "μ = [0.02, -0.02] #high, low\n",
    "β = 0.98; γ = 2\n",
    "Q = [p 1-p; 1-q q];"
   ]
  },
  {
   "cell_type": "markdown",
   "metadata": {},
   "source": [
    "$$1=\\beta\\mathbb{E}_t\\left[\\left(\\frac{C_{t+1}}{C_{t}}\\right)^{-\\gamma}\\right] R_{t+1}^{f}=\\beta\\, Q*\\left(\\begin{array}{c}\n",
    "e^{-\\gamma\\mu_{h}}\\\\\n",
    "e^{-\\gamma\\mu_{l}}\n",
    "\\end{array}\\right) R_{t+1}^{f}$$"
   ]
  },
  {
   "cell_type": "code",
   "execution_count": 3,
   "metadata": {
    "collapsed": false,
    "scrolled": true
   },
   "outputs": [
    {
     "data": {
      "text/plain": [
       "2-element Array{Float64,1}:\n",
       " 1.05765 \n",
       " 0.984181"
      ]
     },
     "execution_count": 3,
     "metadata": {},
     "output_type": "execute_result"
    }
   ],
   "source": [
    "Rf = β^-1 * (Q*exp((-γ)*μ)).^(-1)"
   ]
  },
  {
   "cell_type": "markdown",
   "metadata": {},
   "source": [
    "In order to find the price-dividend-ratio $q \\in \\mathbb{R}^2$ we need to solve:\n",
    "$$q(s) = \\mathbb{E}\\left[ \\left(\\frac{C_{t+1}}{C_{t}}\\right)^{-\\gamma} \\left( q(s') + 1 \\right) \\mid s \\right]$$"
   ]
  },
  {
   "cell_type": "code",
   "execution_count": 4,
   "metadata": {
    "collapsed": false,
    "scrolled": true
   },
   "outputs": [
    {
     "data": {
      "text/plain": [
       "Results of Optimization Algorithm\n",
       " * Algorithm: BFGS\n",
       " * Starting Point: [1.0,1.0]\n",
       " * Minimizer: [49.4040268598965,67.15537139769843]\n",
       " * Minimum: 0.000000e+00\n",
       " * Iterations: 22\n",
       " * Convergence: true\n",
       "   * |x - x'| < 1.0e-32: false\n",
       "   * |f(x) - f(x')| / |f(x)| < 1.0e-32: true\n",
       "   * |g(x)| < 1.0e-12: false\n",
       "   * f(x) > f(x'): false\n",
       "   * Reached Maximum Number of Iterations: false\n",
       " * Objective Function Calls: 185\n",
       " * Gradient Calls: 185"
      ]
     },
     "execution_count": 4,
     "metadata": {},
     "output_type": "execute_result"
    }
   ],
   "source": [
    "res = optimize(q -> norm(β * (Q * (exp((1-γ)*μ) .* (q+1)))- q), [1.,1.], BFGS(), Optim.Options(g_tol=1e-12))"
   ]
  },
  {
   "cell_type": "code",
   "execution_count": 5,
   "metadata": {
    "collapsed": false
   },
   "outputs": [
    {
     "data": {
      "text/plain": [
       "2-element Array{Float64,1}:\n",
       " 49.404 \n",
       " 67.1554"
      ]
     },
     "execution_count": 5,
     "metadata": {},
     "output_type": "execute_result"
    }
   ],
   "source": [
    "PrDi = res.minimizer"
   ]
  },
  {
   "cell_type": "markdown",
   "metadata": {},
   "source": [
    "$$\\mathbb{E}_t \\left[ R_{t+1} \\right] = \\mathbb{E}\\left[ \\frac{C_{t+1}}{C_{t}} \\frac{1 + q(s')}{q(s)} \\mid s \\right]$$"
   ]
  },
  {
   "cell_type": "code",
   "execution_count": 6,
   "metadata": {
    "collapsed": false
   },
   "outputs": [
    {
     "data": {
      "text/plain": [
       "2-element Array{Float64,1}:\n",
       " 1.05642 \n",
       " 0.983341"
      ]
     },
     "execution_count": 6,
     "metadata": {},
     "output_type": "execute_result"
    }
   ],
   "source": [
    "ER = (Q * ((1+PrDi).*exp(μ))) ./ PrDi"
   ]
  },
  {
   "cell_type": "code",
   "execution_count": 7,
   "metadata": {
    "collapsed": false
   },
   "outputs": [
    {
     "data": {
      "text/plain": [
       "2-element Array{Float64,1}:\n",
       " -0.00122676\n",
       " -0.0008398 "
      ]
     },
     "execution_count": 7,
     "metadata": {},
     "output_type": "execute_result"
    }
   ],
   "source": [
    "ERexcess = ER - Rf"
   ]
  },
  {
   "cell_type": "markdown",
   "metadata": {},
   "source": [
    "## e.)\n",
    "The stationary distribution is the solution to:\n",
    "$$\\pi=Q' \\pi$$\n",
    "that is the right eigenvalues of $Q'$."
   ]
  },
  {
   "cell_type": "code",
   "execution_count": 8,
   "metadata": {
    "collapsed": false
   },
   "outputs": [
    {
     "data": {
      "text/plain": [
       "2-element Array{Float64,1}:\n",
       " 0.5\n",
       " 0.5"
      ]
     },
     "execution_count": 8,
     "metadata": {},
     "output_type": "execute_result"
    }
   ],
   "source": [
    "π = eigvecs(Q')[:,2] / norm(eigvecs(Q')[:,2],1)"
   ]
  },
  {
   "cell_type": "code",
   "execution_count": 9,
   "metadata": {
    "collapsed": false
   },
   "outputs": [
    {
     "data": {
      "text/plain": [
       "1-element Array{Float64,1}:\n",
       " 1.01988"
      ]
     },
     "execution_count": 9,
     "metadata": {},
     "output_type": "execute_result"
    }
   ],
   "source": [
    "uER = π' * ER"
   ]
  },
  {
   "cell_type": "code",
   "execution_count": 10,
   "metadata": {
    "collapsed": false,
    "scrolled": true
   },
   "outputs": [
    {
     "data": {
      "text/plain": [
       "1-element Array{Float64,1}:\n",
       " -0.00103328"
      ]
     },
     "execution_count": 10,
     "metadata": {},
     "output_type": "execute_result"
    }
   ],
   "source": [
    "uERexcess = π' * ERexcess"
   ]
  },
  {
   "cell_type": "markdown",
   "metadata": {},
   "source": [
    "## f.)"
   ]
  },
  {
   "cell_type": "markdown",
   "metadata": {},
   "source": [
    "$$\\mathbb{V}_t\\left[R_{t+1} \\right] = \\mathbb{E} \\left[ \\left( \\frac{1+q(s')}{q(s)} \\frac{c_{t+1}(s')}{c_t(s)} \\right)^2 \\mid s \\right] - \\left(\\mathbb{E}_t \\left[R_{t+1} \\right] \\right)^2$$"
   ]
  },
  {
   "cell_type": "code",
   "execution_count": 11,
   "metadata": {
    "collapsed": false
   },
   "outputs": [
    {
     "data": {
      "text/plain": [
       "calcReturns (generic function with 1 method)"
      ]
     },
     "execution_count": 11,
     "metadata": {},
     "output_type": "execute_result"
    }
   ],
   "source": [
    "function calcReturns(γ::Real; β = 0.98, Q = [0.95 0.05; 0.05 0.95], μ = [0.02, -0.02])\n",
    "    Rf = β^-1 * (Q*exp((-γ)*μ)).^(-1)\n",
    "    PrDi = optimize(q -> norm(β * (Q * (exp((1-γ)*μ) .* (q+1)))- q), [1.,1.], \n",
    "                    BFGS(), Optim.Options(g_tol=1e-12)).minimizer\n",
    "    ER = (Q * ((1+PrDi).*exp(μ))) ./ PrDi\n",
    "    ERexcess = ER - Rf\n",
    "    π = eigvecs(Q')[:,2] / norm(eigvecs(Q')[:,2],1)\n",
    "    \n",
    "    VR = ((Q * (((1+PrDi).^2).*(exp(2.*μ)))) ./ PrDi.^2 - (Q*ER).^2)\n",
    "    \n",
    "    return [(π' * ERexcess)[1], sqrt((π' * VR)[1]), (π' * Rf)[1]]\n",
    "end"
   ]
  },
  {
   "cell_type": "code",
   "execution_count": 12,
   "metadata": {
    "collapsed": false
   },
   "outputs": [],
   "source": [
    "X = Array(Float64,100,3)\n",
    "γs = linspace(1.1,7,100)\n",
    "for i in 1:100\n",
    "    X[i,:] = calcReturns(γs[i])\n",
    "end"
   ]
  },
  {
   "cell_type": "code",
   "execution_count": 13,
   "metadata": {
    "collapsed": false
   },
   "outputs": [
    {
     "data": {
      "text/html": [
       "<img src=\"data:image/png;base64,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\" />"
      ]
     },
     "execution_count": 13,
     "metadata": {},
     "output_type": "execute_result"
    }
   ],
   "source": [
    "plot(γs, X[:,1], label=\"Expected Return\")"
   ]
  },
  {
   "cell_type": "code",
   "execution_count": 14,
   "metadata": {
    "collapsed": false
   },
   "outputs": [
    {
     "data": {
      "text/html": [
       "<img src=\"data:image/png;base64,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\" />"
      ]
     },
     "execution_count": 14,
     "metadata": {},
     "output_type": "execute_result"
    }
   ],
   "source": [
    "plot(γs, X[:,2], label=\"Volatility\")"
   ]
  },
  {
   "cell_type": "code",
   "execution_count": 15,
   "metadata": {
    "collapsed": false
   },
   "outputs": [
    {
     "data": {
      "text/html": [
       "<img src=\"data:image/png;base64,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\" />"
      ]
     },
     "execution_count": 15,
     "metadata": {},
     "output_type": "execute_result"
    }
   ],
   "source": [
    "plot(γs, X[:,3], label=\"Risk-free Rate\")"
   ]
  },
  {
   "cell_type": "markdown",
   "metadata": {
    "collapsed": true
   },
   "source": [
    "## g.)"
   ]
  },
  {
   "cell_type": "code",
   "execution_count": 16,
   "metadata": {
    "collapsed": false,
    "scrolled": true
   },
   "outputs": [
    {
     "data": {
      "text/plain": [
       "modelMoments (generic function with 1 method)"
      ]
     },
     "execution_count": 16,
     "metadata": {},
     "output_type": "execute_result"
    }
   ],
   "source": [
    "function modelMoments(input)\n",
    "    p = input[1]\n",
    "    q = p\n",
    "    μm = input[2]\n",
    "    δ = input[3]\n",
    "    \n",
    "    Q = [p 1-p; 1-p p]\n",
    "    μ = [μm - δ, μm + δ]\n",
    "    π = eigvecs(Q')[:,2] / norm(eigvecs(Q')[:,2],1)\n",
    "\n",
    "    meanC = (π' * μ)[1]\n",
    "    varC = (π' * (((Q * (μ.^2)) - (Q*μ).^2)))[1]\n",
    "    acorrC = (μ[1]*μ[1]*p*π[1]+μ[1]*μ[2]*(1-p)*π[1]+μ[2]*μ[1]*(1-q)*π[2]+μ[2]*μ[2]*q*π[2]-(μ[1]*π[1]+μ[2]*π[2])^2)/varC\n",
    "\n",
    "    return norm([meanC-0.02, 1000*(varC-0.0006), acorrC+0.1])\n",
    "end"
   ]
  },
  {
   "cell_type": "code",
   "execution_count": 17,
   "metadata": {
    "collapsed": false,
    "scrolled": true
   },
   "outputs": [
    {
     "data": {
      "text/plain": [
       "Results of Optimization Algorithm\n",
       " * Algorithm: BFGS\n",
       " * Starting Point: [0.4,0.02,0.03]\n",
       " * Minimizer: [0.45048918254607934,0.019998963966074416, ...]\n",
       " * Minimum: 3.568298e-06\n",
       " * Iterations: 20\n",
       " * Convergence: false\n",
       "   * |x - x'| < 1.0e-32: false\n",
       "   * |f(x) - f(x')| / |f(x)| < 1.0e-32: false\n",
       "   * |g(x)| < 1.0e-12: false\n",
       "   * f(x) > f(x'): true\n",
       "   * Reached Maximum Number of Iterations: false\n",
       " * Objective Function Calls: 144\n",
       " * Gradient Calls: 144"
      ]
     },
     "execution_count": 17,
     "metadata": {},
     "output_type": "execute_result"
    }
   ],
   "source": [
    "res = optimize(modelMoments, [0.4, 0.02, 0.03], BFGS(), Optim.Options(g_tol=1e-12))"
   ]
  },
  {
   "cell_type": "code",
   "execution_count": 18,
   "metadata": {
    "collapsed": false
   },
   "outputs": [
    {
     "data": {
      "text/plain": [
       "3-element Array{Float64,1}:\n",
       " 0.450489 \n",
       " 0.019999 \n",
       " 0.0246158"
      ]
     },
     "execution_count": 18,
     "metadata": {},
     "output_type": "execute_result"
    }
   ],
   "source": [
    "input = res.minimizer"
   ]
  }
 ],
 "metadata": {
  "anaconda-cloud": {},
  "kernelspec": {
   "display_name": "Julia 0.5.0",
   "language": "julia",
   "name": "julia-0.5"
  },
  "language_info": {
   "file_extension": ".jl",
   "mimetype": "application/julia",
   "name": "julia",
   "version": "0.5.0"
  }
 },
 "nbformat": 4,
 "nbformat_minor": 0
}
