{
 "cells": [
  {
   "cell_type": "markdown",
   "metadata": {},
   "source": [
    "Econometrics II PS 5\n",
    "==\n",
    "Maximilian Huber\n",
    "\n",
    "\n",
    "You can find this code on my GitHub account: https://github.com/MaximilianJHuber/NYU\n",
    "Question 2\n",
    "==\n",
    "\n",
    "$$\\hat{\\theta}_n = \\Pi_{i=1}^n exp(x_i)$$\n",
    "$$\\sqrt{n}\\,\\left(\\bar{x}_{n}-0\\right)\\sim N\\left(0,6\\right)\\implies\\sqrt{n}\\,\\left(exp(\\bar{x}_{n})-1\\right)\\approx N\\left(0,6\\right)$$\n",
    "Hence, $\\mathbb{V}\\left[ exp(\\bar{x}_n) \\right] \\approx 6/n$."
   ]
  },
  {
   "cell_type": "code",
   "execution_count": 1,
   "metadata": {
    "collapsed": false,
    "scrolled": true
   },
   "outputs": [],
   "source": [
    "@everywhere using Distributions\n",
    "@everywhere using StatsBase"
   ]
  },
  {
   "cell_type": "code",
   "execution_count": 2,
   "metadata": {
    "collapsed": false
   },
   "outputs": [],
   "source": [
    "@everywhere function bootstrap(x,θhat,n)\n",
    "    x_star = x[ceil(Integer, rand(Uniform(),n)*n)]\n",
    "    θ_star = exp(mean(x_star))\n",
    "    return abs(sqrt(n)*(θ_star - θhat)/sqrt(6/n))\n",
    "end"
   ]
  },
  {
   "cell_type": "code",
   "execution_count": 3,
   "metadata": {
    "collapsed": false
   },
   "outputs": [
    {
     "data": {
      "text/plain": [
       "sim (generic function with 2 methods)"
      ]
     },
     "execution_count": 3,
     "metadata": {},
     "output_type": "execute_result"
    }
   ],
   "source": [
    "function sim(B=10000)\n",
    "    n = 10\n",
    "    result = SharedArray(Bool,B,2)\n",
    "    @sync @parallel for j in 1:B\n",
    "        x = rand(Normal(0,6),n)\n",
    "        θhat = exp(mean(x))\n",
    "        \n",
    "        t = Array(Float64,10000)\n",
    "        for i=1:10000\n",
    "            t[i] = bootstrap(x,θhat,n)\n",
    "        end\n",
    "        z_star = percentile(t,100-5)\n",
    "        result[j,:] = [convert(Bool,sum(1 .<= θhat + sqrt(6/n) * [-z_star, z_star])%2), \n",
    "            convert(Bool,sum(1 .<= θhat + sqrt(6/n) * [-1.96, 1.96])%2)]\n",
    "    end\n",
    "    return result\n",
    "end"
   ]
  },
  {
   "cell_type": "code",
   "execution_count": 4,
   "metadata": {
    "collapsed": false
   },
   "outputs": [
    {
     "name": "stdout",
     "output_type": "stream",
     "text": [
      " 62.636689 seconds (4.01 M allocations: 175.962 MB, 0.30% gc time)\n"
     ]
    },
    {
     "data": {
      "text/plain": [
       "1×2 Array{Float64,2}:\n",
       " 0.9735  0.6861"
      ]
     },
     "execution_count": 4,
     "metadata": {},
     "output_type": "execute_result"
    }
   ],
   "source": [
    "@time result = sim()\n",
    "sum(result,1)./size(result)[1]"
   ]
  },
  {
   "cell_type": "markdown",
   "metadata": {},
   "source": [
    "The bootstrap (first number) achieves much more accurate coverage than the asymptotic confidence interval."
   ]
  },
  {
   "cell_type": "code",
   "execution_count": null,
   "metadata": {
    "collapsed": true
   },
   "outputs": [],
   "source": []
  }
 ],
 "metadata": {
  "anaconda-cloud": {},
  "kernelspec": {
   "display_name": "Julia 0.5.0",
   "language": "julia",
   "name": "julia-0.5"
  },
  "language_info": {
   "file_extension": ".jl",
   "mimetype": "application/julia",
   "name": "julia",
   "version": "0.5.0"
  }
 },
 "nbformat": 4,
 "nbformat_minor": 0
}
