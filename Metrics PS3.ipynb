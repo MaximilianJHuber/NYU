{
 "cells": [
  {
   "cell_type": "code",
   "execution_count": 3,
   "metadata": {
    "collapsed": false
   },
   "outputs": [
    {
     "name": "stderr",
     "output_type": "stream",
     "text": [
      "INFO: Nothing to be done\n",
      "INFO: Precompiling module Distributions.\n"
     ]
    }
   ],
   "source": [
    "Pkg.add(\"Distributions\")\n",
    "using Distributions"
   ]
  },
  {
   "cell_type": "code",
   "execution_count": 9,
   "metadata": {
    "collapsed": false,
    "scrolled": true
   },
   "outputs": [
    {
     "data": {
      "text/plain": [
       "convolution (generic function with 1 method)"
      ]
     },
     "execution_count": 9,
     "metadata": {},
     "output_type": "execute_result"
    }
   ],
   "source": [
    "convolution(z,p)=sum([cdf(Binomial(20,p),x-z)*pdf(Binomial(20,p),x) for x in 1:20])"
   ]
  },
  {
   "cell_type": "code",
   "execution_count": 12,
   "metadata": {
    "collapsed": false,
    "scrolled": false
   },
   "outputs": [
    {
     "data": {
      "text/plain": [
       "20-element Array{Float64,1}:\n",
       " 0.433405   \n",
       " 0.307373   \n",
       " 0.200612   \n",
       " 0.119708   \n",
       " 0.0649201  \n",
       " 0.03182    \n",
       " 0.014018   \n",
       " 0.00551904 \n",
       " 0.00192995 \n",
       " 0.000595285\n",
       " 0.000160654\n",
       " 3.75703e-5 \n",
       " 7.52312e-6 \n",
       " 1.27044e-6 \n",
       " 1.77349e-7 \n",
       " 1.99098e-8 \n",
       " 1.72677e-9 \n",
       " 1.08543e-10\n",
       " 4.39866e-12\n",
       " 8.62481e-14"
      ]
     },
     "execution_count": 12,
     "metadata": {},
     "output_type": "execute_result"
    }
   ],
   "source": [
    "function errorrates(h0, h1,c)\n",
    "    findfirst(convolution(floor(Integer,,h0)"
   ]
  },
  {
   "cell_type": "code",
   "execution_count": 13,
   "metadata": {
    "collapsed": false
   },
   "outputs": [
    {
     "data": {
      "text/plain": [
       "c_star (generic function with 1 method)"
      ]
     },
     "execution_count": 13,
     "metadata": {},
     "output_type": "execute_result"
    }
   ],
   "source": [
    "c_star(c) = 4*log(4/3)*log(c)/(log(3/2*2))"
   ]
  },
  {
   "cell_type": "code",
   "execution_count": null,
   "metadata": {
    "collapsed": true
   },
   "outputs": [],
   "source": []
  }
 ],
 "metadata": {
  "kernelspec": {
   "display_name": "Julia 0.5.0",
   "language": "julia",
   "name": "julia-0.5"
  },
  "language_info": {
   "file_extension": ".jl",
   "mimetype": "application/julia",
   "name": "julia",
   "version": "0.5.0"
  }
 },
 "nbformat": 4,
 "nbformat_minor": 0
}
