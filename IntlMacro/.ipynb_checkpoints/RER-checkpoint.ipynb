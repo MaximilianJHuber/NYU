{
 "cells": [
  {
   "cell_type": "code",
   "execution_count": 14,
   "metadata": {},
   "outputs": [
    {
     "name": "stdout",
     "output_type": "stream",
     "text": [
      "API key loaded.\n"
     ]
    }
   ],
   "source": [
    "using FredData; f = Fred();\n",
    "using Plots; pyplot();\n",
    "using DataFrames; using TimeSeries"
   ]
  },
  {
   "cell_type": "code",
   "execution_count": 60,
   "metadata": {},
   "outputs": [
    {
     "data": {
      "text/plain": [
       "FRED2TS (generic function with 1 method)"
      ]
     },
     "execution_count": 60,
     "metadata": {},
     "output_type": "execute_result"
    }
   ],
   "source": [
    "function FRED(id)\n",
    "    get_data(f, id, observation_start=\"1994-01-01\", frequency = \"m\")\n",
    "end\n",
    "\n",
    "function FRED2TS(data)\n",
    "    \n",
    "    timeseries = TimeArray(data[1].df[3], data[1].df[4])\n",
    "    timeseries.colnames[1] = data[1].id\n",
    "    \n",
    "    for i in 2:length(data)\n",
    "        timeseries = merge(timeseries, TimeArray(data[i].df[3], data[i].df[4]))\n",
    "        timeseries.colnames[i] = data[i].id\n",
    "    end\n",
    "    \n",
    "    return timeseries\n",
    "end"
   ]
  },
  {
   "cell_type": "code",
   "execution_count": 61,
   "metadata": {
    "scrolled": true
   },
   "outputs": [
    {
     "data": {
      "text/plain": [
       "286x4 TimeSeries.TimeArray{Float64,2,Date,DataArrays.DataArray{Float64,2}} 1994-01-01 to 2017-10-01\n",
       "│            │ NBMXBIS │ RBMXBIS │ MEXCPIALLMINMEI │ CPIAUCSL │\n",
       "├────────────┼─────────┼─────────┼─────────────────┼──────────┤\n",
       "│ 1994-01-01 │ 404.8   │ 120.05  │ 19.0            │ 146.3    │\n",
       "│ 1994-02-01 │ 403.79  │ 119.42  │ 19.1            │ 146.7    │\n",
       "│ 1994-03-01 │ 382.48  │ 112.79  │ 19.2            │ 147.1    │\n",
       "│ 1994-04-01 │ 378.91  │ 111.53  │ 19.29           │ 147.2    │\n",
       "│ 1994-05-01 │ 383.76  │ 112.8   │ 19.39           │ 147.5    │\n",
       "│ 1994-06-01 │ 379.22  │ 111.14  │ 19.48           │ 147.9    │\n",
       "│ 1994-07-01 │ 373.43  │ 109.56  │ 19.57           │ 148.4    │\n",
       "│ 1994-08-01 │ 375.73  │ 110.2   │ 19.66           │ 149.0    │\n",
       "│ 1994-09-01 │ 372.26  │ 109.58  │ 19.8            │ 149.3    │\n",
       "│ 1994-10-01 │ 369.17  │ 109.06  │ 19.91           │ 149.4    │\n",
       "│ 1994-11-01 │ 367.41  │ 108.9   │ 20.01           │ 149.8    │\n",
       "│ 1994-12-01 │ 319.66  │ 95.5    │ 20.19           │ 150.1    │\n",
       "   ⋮\n",
       "│ 2016-12-01 │ 67.34   │ 74.09   │ 125.38          │ 242.821  │\n",
       "│ 2017-01-01 │ 64.46   │ 71.83   │ 127.52          │ 244.158  │\n",
       "│ 2017-02-01 │ 67.45   │ 75.37   │ 128.25          │ 244.456  │\n",
       "│ 2017-03-01 │ 70.95   │ 79.69   │ 129.04          │ 243.752  │\n",
       "│ 2017-04-01 │ 72.83   │ 81.68   │ 129.2           │ 244.158  │\n",
       "│ 2017-05-01 │ 72.64   │ 81.3    │ 129.04          │ 243.846  │\n",
       "│ 2017-06-01 │ 74.86   │ 83.95   │ 129.37          │ 243.79   │\n",
       "│ 2017-07-01 │ 75.81   │ 85.36   │ 129.86          │ 244.048  │\n",
       "│ 2017-08-01 │ 75.38   │ 85.0    │ 130.5           │ 245.03   │\n",
       "│ 2017-09-01 │ 74.94   │ 84.38   │ 130.91          │ 246.373  │\n",
       "│ 2017-10-01 │ 71.47   │ 80.92   │ 131.73          │ 246.639  │"
      ]
     },
     "execution_count": 61,
     "metadata": {},
     "output_type": "execute_result"
    }
   ],
   "source": [
    "data = FRED.([\"NBMXBIS\", \"RBMXBIS\", \"MEXCPIALLMINMEI\", \"CPIAUCSL\"])\n",
    "timeseries = FRED2TS(data)"
   ]
  },
  {
   "cell_type": "code",
   "execution_count": null,
   "metadata": {},
   "outputs": [],
   "source": []
  }
 ],
 "metadata": {
  "kernelspec": {
   "display_name": "Julia 0.6.2",
   "language": "julia",
   "name": "julia-0.6"
  },
  "language_info": {
   "file_extension": ".jl",
   "mimetype": "application/julia",
   "name": "julia",
   "version": "0.6.2"
  }
 },
 "nbformat": 4,
 "nbformat_minor": 2
}
