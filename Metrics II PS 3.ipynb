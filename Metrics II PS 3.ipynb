{
 "cells": [
  {
   "cell_type": "markdown",
   "metadata": {},
   "source": [
    "Econometrics II PS 3\n",
    "==\n",
    "Maximilian Huber\n",
    "\n",
    "\n",
    "You can find this code on my GitHub account: https://github.com/MaximilianJHuber/NYU\n",
    "1.\n",
    "==\n",
    "a.\n",
    "--"
   ]
  },
  {
   "cell_type": "code",
   "execution_count": 6,
   "metadata": {
    "collapsed": false,
    "scrolled": true
   },
   "outputs": [],
   "source": [
    "using Optim\n",
    "using DataFrames\n",
    "using ForwardDiff\n",
    "using Roots\n",
    "using Distributions"
   ]
  },
  {
   "cell_type": "code",
   "execution_count": 2,
   "metadata": {
    "collapsed": false
   },
   "outputs": [],
   "source": [
    "data = convert(Matrix,readtable(\"hsdata.csv\"));\n",
    "dataexp = exp(data);"
   ]
  },
  {
   "cell_type": "code",
   "execution_count": 3,
   "metadata": {
    "collapsed": false
   },
   "outputs": [
    {
     "data": {
      "text/plain": [
       "Qn_wrapper (generic function with 1 method)"
      ]
     },
     "execution_count": 3,
     "metadata": {},
     "output_type": "execute_result"
    }
   ],
   "source": [
    "#operates on single observations!\n",
    "function g(w,z,theta) \n",
    "    return (theta[1] * w[1]^(-theta[2]) * w[2] - 1) .* collect(z[:])\n",
    "end\n",
    "\n",
    "#operates on data set!\n",
    "function gn(w,z,theta)\n",
    "    i = 1\n",
    "    result = g(w[i,:],z[i,:],theta)\n",
    "    \n",
    "    for i in 2:size(w)[1]\n",
    "        result .+= g(w[i,:],z[i,:],theta)\n",
    "    end\n",
    "    return result/size(w)[1]\n",
    "end\n",
    "\n",
    "#Wrapper creates a closure around the data set provided\n",
    "function Qn_wrapper(w,z)\n",
    "    return theta -> 1/2*(gn(w,z,theta)'*gn(w,z,theta))[1,1]\n",
    "end"
   ]
  },
  {
   "cell_type": "code",
   "execution_count": 4,
   "metadata": {
    "collapsed": false
   },
   "outputs": [
    {
     "data": {
      "text/plain": [
       "Results of Optimization Algorithm\n",
       " * Algorithm: BFGS\n",
       " * Starting Point: [1.0,4.0]\n",
       " * Minimizer: [0.9949535485769525,4.439870328581574]\n",
       " * Minimum: 1.811863e-08\n",
       " * Iterations: 10\n",
       " * Convergence: true\n",
       "   * |x - x'| < 1.0e-32: false\n",
       "   * |f(x) - f(x')| / |f(x)| < 1.0e-32: false\n",
       "   * |g(x)| < 1.0e-12: true\n",
       "   * Reached Maximum Number of Iterations: false\n",
       " * Objective Function Calls: 53\n",
       " * Gradient Calls: 53"
      ]
     },
     "execution_count": 4,
     "metadata": {},
     "output_type": "execute_result"
    }
   ],
   "source": [
    "w = dataexp[2:end,[2,4]]\n",
    "z = hcat(ones(size(dataexp)[1]-1), dataexp[1:end-1,4], 1 .+ data[1:end-1,2])\n",
    "\n",
    "Qn = Qn_wrapper(w,z)\n",
    "optres = optimize(Qn, [1., 4.], BFGS(), Optim.OptimizationOptions(g_tol=1e-12, autodiff=true))"
   ]
  },
  {
   "cell_type": "markdown",
   "metadata": {},
   "source": [
    "So $\\theta_A = (0.995,4.4399)$.\n",
    "\n",
    "b.\n",
    "--\n",
    "I define:\n",
    "$$\\hat{W}_A=\\left(\\frac{1}{n} \\sum_{t=1}^n{g(w_t,\\theta_A)g(w_t,\\theta_A)'}\\right)^{-1}$$\n",
    "as in equation (3.5)."
   ]
  },
  {
   "cell_type": "code",
   "execution_count": 5,
   "metadata": {
    "collapsed": false
   },
   "outputs": [
    {
     "data": {
      "text/plain": [
       "3×3 Array{Float64,2}:\n",
       "  54729.1    3945.03  -57729.5\n",
       "   3945.03   2427.59   -6456.5\n",
       " -57729.5   -6456.5    63401.5"
      ]
     },
     "execution_count": 5,
     "metadata": {},
     "output_type": "execute_result"
    }
   ],
   "source": [
    "thetaA = optres.minimum\n",
    "\n",
    "function What(w,z,theta) \n",
    "    result = zeros(Float64, size(z)[2], size(z)[2])\n",
    "    for i in 1:size(w)[1]\n",
    "        result .+= g(w[i,:],z[i,:],theta)*g(w[i,:],z[i,:],theta)'\n",
    "    end\n",
    "    return inv(result/size(z)[1])\n",
    "end\n",
    "\n",
    "WhatA = What(w,z,thetaA) "
   ]
  },
  {
   "cell_type": "code",
   "execution_count": 6,
   "metadata": {
    "collapsed": false
   },
   "outputs": [
    {
     "data": {
      "text/plain": [
       "Results of Optimization Algorithm\n",
       " * Algorithm: BFGS\n",
       " * Starting Point: [0.9949535485769525,4.439870328581574]\n",
       " * Minimizer: [0.97852918332263,3.386000838445892]\n",
       " * Minimum: 3.513570e-04\n",
       " * Iterations: 8\n",
       " * Convergence: true\n",
       "   * |x - x'| < 1.0e-32: false\n",
       "   * |f(x) - f(x')| / |f(x)| < 1.0e-32: true\n",
       "   * |g(x)| < 1.0e-12: true\n",
       "   * Reached Maximum Number of Iterations: false\n",
       " * Objective Function Calls: 37\n",
       " * Gradient Calls: 37"
      ]
     },
     "execution_count": 6,
     "metadata": {},
     "output_type": "execute_result"
    }
   ],
   "source": [
    "function Qn_wrapper(w,z,What)\n",
    "    return theta -> 1/2*(gn(w,z,theta)'*What*gn(w,z,theta))[1,1]\n",
    "end\n",
    "\n",
    "QnWhatA = Qn_wrapper(w,z,WhatA)\n",
    "optresB = optimize(QnWhatA, thetaA, BFGS(), Optim.OptimizationOptions(g_tol=1e-12))"
   ]
  },
  {
   "cell_type": "markdown",
   "metadata": {},
   "source": [
    "So $\\theta_B = (0.9785,3.3860)$.\n",
    "\n",
    "c.\n",
    "--\n",
    "\n",
    "I need an estimate for the asymptotic variance $\\left(G'S^{-1}G\\right)^{-1}$:\n",
    "\n",
    "$$\\hat{G} = \\frac{1}{n} \\sum_{t=1}^n{\\frac{\\partial d(w_t,\\theta_B)}{\\partial \\theta}} = \\frac{\\partial \\frac{1}{n} \\sum_{t=1}^n{d(w_t,\\theta_B)}}{\\partial \\theta} = \\frac{\\partial gn(\\theta_B)}{\\partial \\theta}$$ and \n",
    "$$\\hat{S} = \\hat{W}_B$$\n",
    "\n",
    "I use automatic differentiation (rather than numeric differentiation) for all calculations (see, http://www.juliadiff.org/)."
   ]
  },
  {
   "cell_type": "code",
   "execution_count": 7,
   "metadata": {
    "collapsed": false
   },
   "outputs": [
    {
     "data": {
      "text/plain": [
       "3×2 Array{Float64,2}:\n",
       " 1.02203  -0.0165615\n",
       " 1.10959  -0.0174242\n",
       " 1.03983  -0.0166105"
      ]
     },
     "execution_count": 7,
     "metadata": {},
     "output_type": "execute_result"
    }
   ],
   "source": [
    "thetaB = optresB.minimum\n",
    "\n",
    "#creats a closure around the data set\n",
    "function gn_wrapper(w,z)\n",
    "    return theta -> gn(w,z,theta)\n",
    "end\n",
    "\n",
    "dgn(theta) = ForwardDiff.jacobian(gn_wrapper(w,z),theta)\n",
    "\n",
    "GhatB = convert(Array{Float64,2},dgn(thetaB))"
   ]
  },
  {
   "cell_type": "code",
   "execution_count": 8,
   "metadata": {
    "collapsed": false,
    "scrolled": false
   },
   "outputs": [
    {
     "data": {
      "text/plain": [
       "3×3 Array{Float64,2}:\n",
       " 0.01575    0.0173241  0.0160744\n",
       " 0.0173241  0.0195261  0.0177314\n",
       " 0.0160744  0.0177314  0.0164239"
      ]
     },
     "execution_count": 8,
     "metadata": {},
     "output_type": "execute_result"
    }
   ],
   "source": [
    "Shat = inv(What(w,z,thetaB))"
   ]
  },
  {
   "cell_type": "code",
   "execution_count": 9,
   "metadata": {
    "collapsed": false
   },
   "outputs": [
    {
     "data": {
      "text/plain": [
       "2×2 Array{Float64,2}:\n",
       " 0.10586    5.40968\n",
       " 5.40968  321.828  "
      ]
     },
     "execution_count": 9,
     "metadata": {},
     "output_type": "execute_result"
    }
   ],
   "source": [
    "aVar = inv(GhatB'*inv(Shat)*GhatB)"
   ]
  },
  {
   "cell_type": "code",
   "execution_count": 10,
   "metadata": {
    "collapsed": false
   },
   "outputs": [
    {
     "data": {
      "text/plain": [
       "2-element Array{Float64,1}:\n",
       " 0.340822\n",
       " 1.61624 "
      ]
     },
     "execution_count": 10,
     "metadata": {},
     "output_type": "execute_result"
    }
   ],
   "source": [
    "thetaB[1] .+ sqrt(aVar[1,1]) * [-1.96, 1.96]"
   ]
  },
  {
   "cell_type": "code",
   "execution_count": 11,
   "metadata": {
    "collapsed": false,
    "scrolled": true
   },
   "outputs": [
    {
     "data": {
      "text/plain": [
       "2-element Array{Float64,1}:\n",
       " -31.7755\n",
       "  38.5475"
      ]
     },
     "execution_count": 11,
     "metadata": {},
     "output_type": "execute_result"
    }
   ],
   "source": [
    "thetaB[2] .+ sqrt(aVar[2,2]) * [-1.96, 1.96]"
   ]
  },
  {
   "cell_type": "markdown",
   "metadata": {},
   "source": [
    "d.\n",
    "--\n",
    "Since I do minimization of a positive function, the Hansen-Sargan statistic is:\n",
    "$$J=2Qn(\\theta_B)$$"
   ]
  },
  {
   "cell_type": "code",
   "execution_count": null,
   "metadata": {
    "collapsed": true
   },
   "outputs": [],
   "source": [
    "2*size(z)[1]*QnWhatA(thetaB)"
   ]
  },
  {
   "cell_type": "code",
   "execution_count": 12,
   "metadata": {
    "collapsed": false
   },
   "outputs": [
    {
     "data": {
      "text/plain": [
       "0.6757269985575208"
      ]
     },
     "execution_count": 12,
     "metadata": {},
     "output_type": "execute_result"
    }
   ],
   "source": [
    "1-cdf(Chisq(1),2*size(z)[1]*QnWhatA(thetaB))"
   ]
  },
  {
   "cell_type": "markdown",
   "metadata": {},
   "source": [
    "The p-value is not significant. I accept the $H_0$, that the $\\mathbb{E}\\left[ g(w_t;\\theta_0 \\right]=0$.\n",
    "e.\n",
    "--"
   ]
  },
  {
   "cell_type": "code",
   "execution_count": 91,
   "metadata": {
    "collapsed": false
   },
   "outputs": [
    {
     "data": {
      "text/plain": [
       "Results of Optimization Algorithm\n",
       " * Algorithm: BFGS\n",
       " * Starting Point: [1.0,4.0]\n",
       " * Minimizer: [0.9970035183861444,4.576082645831093]\n",
       " * Minimum: 1.614946e-07\n",
       " * Iterations: 10\n",
       " * Convergence: true\n",
       "   * |x - x'| < 1.0e-32: false\n",
       "   * |f(x) - f(x')| / |f(x)| < 1.0e-32: true\n",
       "   * |g(x)| < 1.0e-12: true\n",
       "   * Reached Maximum Number of Iterations: false\n",
       " * Objective Function Calls: 54\n",
       " * Gradient Calls: 54"
      ]
     },
     "execution_count": 91,
     "metadata": {},
     "output_type": "execute_result"
    }
   ],
   "source": [
    "w = dataexp[3:end,[2,4]]\n",
    "z = hcat(ones(size(dataexp)[1]-2), dataexp[2:end-1,4], 1 .+ data[2:end-1,3], 1 .+ data[2:end-1,2],\n",
    "        dataexp[1:end-2,4], 1 .+ data[1:end-2,3], 1 .+ data[1:end-2,2])\n",
    "\n",
    "Qn = Qn_wrapper(w,z)\n",
    "optres = optimize(Qn, [1., 4.], BFGS(), Optim.OptimizationOptions(g_tol=1e-12, autodiff=true))"
   ]
  },
  {
   "cell_type": "code",
   "execution_count": 92,
   "metadata": {
    "collapsed": false
   },
   "outputs": [
    {
     "data": {
      "text/plain": [
       "7×7 Array{Float64,2}:\n",
       "      2.10229e5  -49990.2        …   35729.9  -45719.0      -1.82658e5\n",
       " -49990.2             1.93473e5     -11887.1   22359.0       2.34519e5\n",
       "  66704.9            -2.27365e5      17095.0  -29530.4      -2.82283e5\n",
       " -29033.0            -1.75958e5       8384.1  -16963.8      -1.91669e5\n",
       "  35729.9        -11887.1            27165.7  -32152.7  -45008.2      \n",
       " -45719.0         22359.0        …  -32152.7   41287.6   60775.8      \n",
       "     -1.82658e5       2.34519e5     -45008.2   60775.8       3.88417e5"
      ]
     },
     "execution_count": 92,
     "metadata": {},
     "output_type": "execute_result"
    }
   ],
   "source": [
    "thetaA = optres.minimum\n",
    "WhatA = What(w,z,thetaA) "
   ]
  },
  {
   "cell_type": "code",
   "execution_count": 98,
   "metadata": {
    "collapsed": false
   },
   "outputs": [
    {
     "data": {
      "text/plain": [
       "Results of Optimization Algorithm\n",
       " * Algorithm: BFGS\n",
       " * Starting Point: [0.9970035183861444,4.576082645831093]\n",
       " * Minimizer: [0.97962853228036,3.467092989529142]\n",
       " * Minimum: 1.378672e-03\n",
       " * Iterations: 6\n",
       " * Convergence: true\n",
       "   * |x - x'| < 1.0e-32: false\n",
       "   * |f(x) - f(x')| / |f(x)| < 1.0e-32: true\n",
       "   * |g(x)| < 1.0e-12: false\n",
       "   * Reached Maximum Number of Iterations: false\n",
       " * Objective Function Calls: 28\n",
       " * Gradient Calls: 28"
      ]
     },
     "execution_count": 98,
     "metadata": {},
     "output_type": "execute_result"
    }
   ],
   "source": [
    "QnWhatA = Qn_wrapper(w,z,WhatA)\n",
    "optresB = optimize(QnWhatA, thetaA, BFGS(), Optim.OptimizationOptions(g_tol=1e-12))"
   ]
  },
  {
   "cell_type": "code",
   "execution_count": 99,
   "metadata": {
    "collapsed": false
   },
   "outputs": [
    {
     "name": "stderr",
     "output_type": "stream",
     "text": [
      "WARNING: Method definition dgn(Any) in module Main at In[94]:1 overwritten at In[99]:2.\n"
     ]
    },
    {
     "data": {
      "text/plain": [
       "2-element Array{Float64,1}:\n",
       " 0.412923\n",
       " 1.54633 "
      ]
     },
     "execution_count": 99,
     "metadata": {},
     "output_type": "execute_result"
    }
   ],
   "source": [
    "thetaB = optresB.minimum\n",
    "dgn(theta) = ForwardDiff.jacobian(gn_wrapper(w,z),theta)\n",
    "GhatB = convert(Array{Float64,2},dgn(thetaB))\n",
    "Shat = inv(What(w,z,thetaB))\n",
    "aVar = inv(GhatB'*inv(Shat)*GhatB)\n",
    "thetaB[1] .+ sqrt(aVar[1,1]) * [-1.96, 1.96]"
   ]
  },
  {
   "cell_type": "code",
   "execution_count": 100,
   "metadata": {
    "collapsed": false,
    "scrolled": false
   },
   "outputs": [
    {
     "data": {
      "text/plain": [
       "2-element Array{Float64,1}:\n",
       " -27.9268\n",
       "  34.861 "
      ]
     },
     "execution_count": 100,
     "metadata": {},
     "output_type": "execute_result"
    }
   ],
   "source": [
    "thetaB[2] .+ sqrt(aVar[2,2]) * [-1.96, 1.96]"
   ]
  },
  {
   "cell_type": "code",
   "execution_count": 101,
   "metadata": {
    "collapsed": false
   },
   "outputs": [
    {
     "data": {
      "text/plain": [
       "0.683821428196953"
      ]
     },
     "execution_count": 101,
     "metadata": {},
     "output_type": "execute_result"
    }
   ],
   "source": [
    "2*size(z)[1]*QnWhatA(thetaB)"
   ]
  },
  {
   "cell_type": "code",
   "execution_count": 102,
   "metadata": {
    "collapsed": false
   },
   "outputs": [
    {
     "data": {
      "text/plain": [
       "0.4082739268399961"
      ]
     },
     "execution_count": 102,
     "metadata": {},
     "output_type": "execute_result"
    }
   ],
   "source": [
    "1-cdf(Chisq(1),2*size(z)[1]*QnWhatA(thetaB))"
   ]
  },
  {
   "cell_type": "markdown",
   "metadata": {},
   "source": [
    "2.\n",
    "==\n",
    "a.\n",
    "--\n",
    "With \n",
    "$\n",
    "\\Gamma=\\left(\\begin{array}{cc}\n",
    "1 & 0\\\\\n",
    "-\\gamma & 1\n",
    "\\end{array}\\right)^{-1}\n",
    "$, $\\Sigma=\\left(\\begin{array}{cc}\n",
    "\\sigma_{c}^{2} & \\rho\\sigma_{c}\\sigma_{r}\\\\\n",
    "\\rho\\sigma_{c}\\sigma_{r} & \\sigma_{r}^{2}\n",
    "\\end{array}\\right)$ and $\\sigma^{2}(\\gamma)=\\left(\\begin{array}{cc}\n",
    "-\\gamma & 1\\end{array}\\right)\\Sigma\\left(\\begin{array}{c}\n",
    "-\\gamma\\\\\n",
    "1\n",
    "\\end{array}\\right)$ I find:\n",
    "\n",
    "$$x_{t+1}=\\left(\\begin{array}{c}\n",
    "c_{t+1}\\\\\n",
    "r_{t+1}\n",
    "\\end{array}\\right)-\\Gamma\\left(\\begin{array}{cc}\n",
    "\\alpha & \\beta\\\\\n",
    "0 & 0\n",
    "\\end{array}\\right)\\left(\\begin{array}{c}\n",
    "c_{t}\\\\\n",
    "r_{t}\n",
    "\\end{array}\\right)-\\Gamma\\left(\\begin{array}{c}\n",
    "\\mu_{c}\\\\\n",
    "\\lg(\\delta)+\\frac{1}{2}\\sigma^{2}(\\gamma)\n",
    "\\end{array}\\right)\\sim\\mathbb{\\mathcal{N}}\\left(\\left[\\begin{array}{c}\n",
    "0\\\\\n",
    "0\n",
    "\\end{array}\\right],\\Gamma\\Sigma\\Gamma'\\right)$$\n",
    "I maximize: $$Q_{n}\\left(\\theta\\right)=\\frac{1}{n}\\sum_{t=1}^{n-1}\\lg\\: f\\left(x_{t+1}\\mid x_{t};\\theta\\right)$$"
   ]
  },
  {
   "cell_type": "code",
   "execution_count": 19,
   "metadata": {
    "collapsed": false
   },
   "outputs": [
    {
     "name": "stderr",
     "output_type": "stream",
     "text": [
      "WARNING: Method definition m(Any, Any) in module Main at In[18]:7 overwritten at In[19]:7.\n",
      "WARNING: Method definition Qn_wrapper(Any) in module Main at In[14]:16 overwritten at In[19]:16.\n"
     ]
    },
    {
     "data": {
      "text/plain": [
       "Qn_wrapper (generic function with 1 method)"
      ]
     },
     "execution_count": 19,
     "metadata": {},
     "output_type": "execute_result"
    }
   ],
   "source": [
    "w = data[1:end,[2,4]]\n",
    "\n",
    "#theta = (δ,γ,α,β,μc,σc,σr,ρ)\n",
    "\n",
    "#for a single observation:\n",
    "@inline function m(w,theta)\n",
    "    (δ,γ,α,β,μc,σc,σr,ρ) = theta\n",
    "    Σ = [σc^2 ρ*σc*σr; ρ*σc*σr σr^2]\n",
    "    Γ = inv([1 0; -γ 1])\n",
    "    \n",
    "    x = w[:] - (Γ*[α β; 0 0]*w[:]) - Γ*[μc; log(δ) + [-γ 1]*Σ*[-γ; 1]]\n",
    "    return log(pdf(MvNormal([0, 0], Γ*Σ*Γ'),x))\n",
    "end\n",
    "\n",
    "function Qn_wrapper(w)\n",
    "    return function(theta)\n",
    "        i = 2\n",
    "        result = m(w[i,:],theta)\n",
    "        \n",
    "        for i in 3:size(w)[1]\n",
    "            result += m(w[i,:],theta)\n",
    "        end\n",
    "        \n",
    "        return -result/size(w)[1] #I am going to minimize this function!\n",
    "    \n",
    "        end\n",
    "end"
   ]
  },
  {
   "cell_type": "code",
   "execution_count": 20,
   "metadata": {
    "collapsed": false
   },
   "outputs": [
    {
     "ename": "LoadError",
     "evalue": "LoadError: InterruptException:\nwhile loading In[20], in expression starting on line 5",
     "output_type": "error",
     "traceback": [
      "LoadError: InterruptException:\nwhile loading In[20], in expression starting on line 5",
      "",
      " in generic_matvecmul!(::Array{Real,1}, ::Char, ::Array{Float64,2}, ::Array{Real,1}) at ./linalg/matmul.jl:417",
      " in * at ./operators.jl:138 [inlined]",
      " in m at ./In[19]:11 [inlined]",
      " in (::##7#8{Array{Real,2}})(::Array{Float64,1}) at ./In[19]:21",
      " in optimize(::##7#8{Array{Real,2}}, ::Array{Float64,1}, ::Optim.NelderMead{Optim.AffineSimplexer,Optim.AdaptiveParameters}, ::Optim.OptimizationOptions{Void}) at /Users/Max/.julia/v0.5/Optim/src/nelder_mead.jl:207"
     ]
    }
   ],
   "source": [
    "Qn = Qn_wrapper(w)\n",
    "#theta =     (δ, γ , α,   β,  μc, σc, σr, ρ)\n",
    "\n",
    "\n",
    "optres = optimize(Qn, [1,0.1,0.5,0.99,1.1,0.8,0.4,0.5], \n",
    "            NelderMead(), Optim.OptimizationOptions(iterations=5000, autodiff=true))"
   ]
  },
  {
   "cell_type": "code",
   "execution_count": 11,
   "metadata": {
    "collapsed": false
   },
   "outputs": [
    {
     "data": {
      "text/plain": [
       "8-element Array{Float64,1}:\n",
       "  1.04574   \n",
       "  0.789876  \n",
       " -0.162603  \n",
       "  0.00693633\n",
       "  0.0199066 \n",
       "  0.032986  \n",
       "  0.132013  \n",
       "  0.431393  "
      ]
     },
     "execution_count": 11,
     "metadata": {},
     "output_type": "execute_result"
    }
   ],
   "source": [
    "thetahat = optres.minimum"
   ]
  },
  {
   "cell_type": "markdown",
   "metadata": {},
   "source": [
    "Since I am worried that the model is misspecified I calculate the sandwich estimator for the asymptotic variance $\\hat{H}^{-1} \\hat{\\Sigma} \\hat{H}^{-1}$ where:\n",
    "\n",
    "$$\\hat{H}=\\frac{1}{n} \\sum_{t=1}^{n-1} {H(w_t; \\hat{\\theta}}) = \\frac{\\partial^2 Q_n(\\hat{\\theta})}{\\partial \\theta \\partial \\theta'}$$"
   ]
  },
  {
   "cell_type": "code",
   "execution_count": 13,
   "metadata": {
    "collapsed": false
   },
   "outputs": [
    {
     "data": {
      "text/plain": [
       "8×8 Array{Float64,2}:\n",
       "   64.2119     1.04363     …    -3.29818   16.2398      -0.461386\n",
       "    1.04363    0.0964241        -4.08929    1.35424      0.295367\n",
       "   -2.01987   -0.00509994       -2.10164    0.0642685   -0.162918\n",
       "   -8.37412   -0.0730475        -6.75836   -0.307002    -0.494004\n",
       " -115.929     -1.88422           6.23055  -29.3062       0.837223\n",
       "   -3.29818   -4.08929     …  2041.08     -53.3016     -15.9303  \n",
       "   16.2398     1.35424         -53.3016   131.56        -4.10459 \n",
       "   -0.461386   0.295367        -15.9303    -4.10459      1.78378 "
      ]
     },
     "execution_count": 13,
     "metadata": {},
     "output_type": "execute_result"
    }
   ],
   "source": [
    "ForwardDiff.hessian(Qn,thetahat)"
   ]
  },
  {
   "cell_type": "code",
   "execution_count": null,
   "metadata": {
    "collapsed": true
   },
   "outputs": [],
   "source": []
  }
 ],
 "metadata": {
  "anaconda-cloud": {},
  "kernelspec": {
   "display_name": "Julia 0.5.0",
   "language": "julia",
   "name": "julia-0.5"
  },
  "language_info": {
   "file_extension": ".jl",
   "mimetype": "application/julia",
   "name": "julia",
   "version": "0.5.0"
  }
 },
 "nbformat": 4,
 "nbformat_minor": 0
}
