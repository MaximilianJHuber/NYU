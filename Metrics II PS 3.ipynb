{
 "cells": [
  {
   "cell_type": "markdown",
   "metadata": {},
   "source": [
    "Computational Exercise\n",
    "==\n",
    "a.\n",
    "--"
   ]
  },
  {
   "cell_type": "code",
   "execution_count": 1,
   "metadata": {
    "collapsed": false,
    "scrolled": true
   },
   "outputs": [],
   "source": [
    "using Optim\n",
    "using DataFrames"
   ]
  },
  {
   "cell_type": "code",
   "execution_count": 2,
   "metadata": {
    "collapsed": false
   },
   "outputs": [
    {
     "data": {
      "text/html": [
       "<table class=\"data-frame\"><tr><th></th><th>time</th><th>c</th><th>d</th><th>r</th></tr><tr><th>1</th><td>1</td><td>0.038243814</td><td>-0.139685811</td><td>-0.041037829</td></tr><tr><th>2</th><td>2</td><td>0.035488924</td><td>0.066637794</td><td>0.139808473</td></tr><tr><th>3</th><td>3</td><td>0.011135564</td><td>0.060121765</td><td>0.098999892</td></tr><tr><th>4</th><td>4</td><td>0.065275842</td><td>-0.015548595</td><td>0.089697058</td></tr><tr><th>5</th><td>5</td><td>0.044419714</td><td>-0.018336139</td><td>0.022571397</td></tr><tr><th>6</th><td>6</td><td>0.04769839</td><td>0.01983362</td><td>0.086112798</td></tr></table>"
      ],
      "text/plain": [
       "6×4 DataFrames.DataFrame\n",
       "│ Row │ time │ c         │ d          │ r          │\n",
       "├─────┼──────┼───────────┼────────────┼────────────┤\n",
       "│ 1   │ 1    │ 0.0382438 │ -0.139686  │ -0.0410378 │\n",
       "│ 2   │ 2    │ 0.0354889 │ 0.0666378  │ 0.139808   │\n",
       "│ 3   │ 3    │ 0.0111356 │ 0.0601218  │ 0.0989999  │\n",
       "│ 4   │ 4    │ 0.0652758 │ -0.0155486 │ 0.0896971  │\n",
       "│ 5   │ 5    │ 0.0444197 │ -0.0183361 │ 0.0225714  │\n",
       "│ 6   │ 6    │ 0.0476984 │ 0.0198336  │ 0.0861128  │"
      ]
     },
     "execution_count": 2,
     "metadata": {},
     "output_type": "execute_result"
    }
   ],
   "source": [
    "df = readtable(\"hsdata.csv\");\n",
    "data = exp(convert(Matrix,df));\n",
    "head(df)"
   ]
  },
  {
   "cell_type": "code",
   "execution_count": 9,
   "metadata": {
    "collapsed": false
   },
   "outputs": [
    {
     "name": "stderr",
     "output_type": "stream",
     "text": [
      "WARNING: Method definition g(Any, Any, Any) in module Main at In[7]:2 overwritten at In[9]:2.\n",
      "WARNING: Method definition gn(Any, Any, Any) in module Main at In[7]:6 overwritten at In[9]:6.\n",
      "WARNING: Method definition Qn_wrapper(Any, Any) in module Main at In[7]:15 overwritten at In[9]:15.\n"
     ]
    },
    {
     "data": {
      "text/plain": [
       "Qn_wrapper (generic function with 1 method)"
      ]
     },
     "execution_count": 9,
     "metadata": {},
     "output_type": "execute_result"
    }
   ],
   "source": [
    "function g(w,z,theta) \n",
    "    return (theta[1] * w[1]^(-theta[2]) * w[2] - 1) .* collect(z[:])\n",
    "end\n",
    "\n",
    "function gn(w,z,theta)\n",
    "    result = zeros(Float64, size(z)[2])\n",
    "    for i in 1:size(w)[1]\n",
    "        result .+= g(w[i,:],z[i,:],theta)\n",
    "    end\n",
    "    return result/size(w)[1]\n",
    "end\n",
    "\n",
    "#Wrapper creates a closure around the data provided\n",
    "function Qn_wrapper(w,z)\n",
    "    return theta -> (gn(w,z,theta)'*gn(w,z,theta))[1,1]\n",
    "end"
   ]
  },
  {
   "cell_type": "code",
   "execution_count": 24,
   "metadata": {
    "collapsed": false
   },
   "outputs": [
    {
     "data": {
      "text/plain": [
       "Results of Optimization Algorithm\n",
       " * Algorithm: Nelder-Mead\n",
       " * Starting Point: [1.0,4.0]\n",
       " * Minimizer: [0.9962444849312304,4.5251117866486315]\n",
       " * Minimum: 3.688057e-08\n",
       " * Iterations: 21\n",
       " * Convergence: true\n",
       "   *  √(Σ(yᵢ-ȳ)²)/n < 1.0e-08: true\n",
       "   * Reached Maximum Number of Iterations: false\n",
       " * Objective Function Calls: 25\n"
      ]
     },
     "execution_count": 24,
     "metadata": {},
     "output_type": "execute_result"
    }
   ],
   "source": [
    "w = data[2:end,[2,4]]\n",
    "z = hcat(ones(size(data)[1]-1), data[1:end-1,4], 1 .* data[1:end-1,2])\n",
    "\n",
    "Qn = Qn_wrapper(w,z)\n",
    "optres = optimize(Qn, [1., 4.])"
   ]
  },
  {
   "cell_type": "markdown",
   "metadata": {},
   "source": [
    "b.\n",
    "--"
   ]
  },
  {
   "cell_type": "code",
   "execution_count": 25,
   "metadata": {
    "collapsed": false
   },
   "outputs": [
    {
     "name": "stderr",
     "output_type": "stream",
     "text": [
      "WARNING: Method definition Qn_wrapper(Any, Any, Any) in module Main at In[23]:9 overwritten at In[25]:9.\n"
     ]
    },
    {
     "data": {
      "text/plain": [
       "Results of Optimization Algorithm\n",
       " * Algorithm: Nelder-Mead\n",
       " * Starting Point: [0.9962444849312304,4.5251117866486315]\n",
       " * Minimizer: [0.9790600035979021,3.418229100409705]\n",
       " * Minimum: 6.467554e-04\n",
       " * Iterations: 25\n",
       " * Convergence: true\n",
       "   *  √(Σ(yᵢ-ȳ)²)/n < 1.0e-08: true\n",
       "   * Reached Maximum Number of Iterations: false\n",
       " * Objective Function Calls: 30\n"
      ]
     },
     "execution_count": 25,
     "metadata": {},
     "output_type": "execute_result"
    }
   ],
   "source": [
    "theta = optres.minimum\n",
    "What = zeros(Float64, size(z)[2], size(z)[2])\n",
    "for i in 1:size(w)[1]\n",
    "    What .+= g(w[i,:],z[i,:],theta)*g(w[i,:],z[i,:],theta)'\n",
    "end\n",
    "What = inv(What/size(z)[1])\n",
    "\n",
    "function Qn_wrapper(w,z,What)\n",
    "    return theta -> (gn(w,z,theta)'*What*gn(w,z,theta))[1,1]\n",
    "end\n",
    "\n",
    "QnWhat = Qn_wrapper(w,z,What)\n",
    "optresWhat = optimize(QnWhat, theta)"
   ]
  },
  {
   "cell_type": "markdown",
   "metadata": {},
   "source": [
    "c.\n",
    "--"
   ]
  },
  {
   "cell_type": "code",
   "execution_count": null,
   "metadata": {
    "collapsed": true
   },
   "outputs": [],
   "source": []
  }
 ],
 "metadata": {
  "anaconda-cloud": {},
  "kernelspec": {
   "display_name": "Julia 0.5.0",
   "language": "julia",
   "name": "julia-0.5"
  },
  "language_info": {
   "file_extension": ".jl",
   "mimetype": "application/julia",
   "name": "julia",
   "version": "0.5.0"
  }
 },
 "nbformat": 4,
 "nbformat_minor": 0
}
