{
 "cells": [
  {
   "cell_type": "markdown",
   "metadata": {},
   "source": [
    "Computational Exercise\n",
    "=="
   ]
  },
  {
   "cell_type": "code",
   "execution_count": null,
   "metadata": {
    "collapsed": false,
    "scrolled": true
   },
   "outputs": [],
   "source": [
    "using Optim\n",
    "using DataFrames"
   ]
  },
  {
   "cell_type": "code",
   "execution_count": 3,
   "metadata": {
    "collapsed": false
   },
   "outputs": [
    {
     "ename": "MethodError",
     "evalue": "MethodError: no method matching take!(::Base.AbstractIOBuffer{Array{UInt8,1}})\u001b[0m\nClosest candidates are:\n  take!(\u001b[1m\u001b[31m::Channel{T}\u001b[0m) at channels.jl:73\n  take!(\u001b[1m\u001b[31m::Base.RemoteValue\u001b[0m, \u001b[1m\u001b[31m::Any...\u001b[0m) at multi.jl:1218\n  take!(\u001b[1m\u001b[31m::RemoteChannel{T<:AbstractChannel}\u001b[0m, \u001b[1m\u001b[31m::Any...\u001b[0m) at multi.jl:1230\n  ...\u001b[0m",
     "output_type": "error",
     "traceback": [
      "MethodError: no method matching take!(::Base.AbstractIOBuffer{Array{UInt8,1}})\u001b[0m\nClosest candidates are:\n  take!(\u001b[1m\u001b[31m::Channel{T}\u001b[0m) at channels.jl:73\n  take!(\u001b[1m\u001b[31m::Base.RemoteValue\u001b[0m, \u001b[1m\u001b[31m::Any...\u001b[0m) at multi.jl:1218\n  take!(\u001b[1m\u001b[31m::RemoteChannel{T<:AbstractChannel}\u001b[0m, \u001b[1m\u001b[31m::Any...\u001b[0m) at multi.jl:1230\n  ...\u001b[0m",
      "",
      " in send_stream(::String) at /opt/julia_packages/.julia/v0.5/IJulia/src/stdio.jl:111",
      " in flush(::Base.PipeEndpoint) at /opt/julia_packages/.julia/v0.5/IJulia/src/stdio.jl:222",
      " in execute_request(::ZMQ.Socket, ::IJulia.Msg) at /opt/julia_packages/.julia/v0.5/IJulia/src/execute_request.jl:180",
      " in eventloop(::ZMQ.Socket) at /opt/julia_packages/.julia/v0.5/IJulia/src/eventloop.jl:8",
      " in (::IJulia.##13#19)() at ./task.jl:360"
     ]
    }
   ],
   "source": [
    "df = readtable(\"hsdata.csv\")"
   ]
  },
  {
   "cell_type": "code",
   "execution_count": null,
   "metadata": {
    "collapsed": true
   },
   "outputs": [],
   "source": []
  }
 ],
 "metadata": {
  "anaconda-cloud": {},
  "kernelspec": {
   "display_name": "Julia 0.5.0",
   "language": "julia",
   "name": "julia-0.5"
  },
  "language_info": {
   "file_extension": ".jl",
   "mimetype": "application/julia",
   "name": "julia",
   "version": "0.5.0"
  }
 },
 "nbformat": 4,
 "nbformat_minor": 0
}
