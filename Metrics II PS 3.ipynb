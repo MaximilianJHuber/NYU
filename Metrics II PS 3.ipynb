{
 "cells": [
  {
   "cell_type": "markdown",
   "metadata": {},
   "source": [
    "Econometrics II PS 3\n",
    "==\n",
    "Maximilian Huber\n",
    "\n",
    "\n",
    "You can find this code on my GitHub account: https://github.com/MaximilianJHuber/NYU\n",
    "1.\n",
    "==\n",
    "a.\n",
    "--"
   ]
  },
  {
   "cell_type": "code",
   "execution_count": 21,
   "metadata": {
    "collapsed": false,
    "scrolled": true
   },
   "outputs": [],
   "source": [
    "using Optim\n",
    "using DataFrames\n",
    "using ForwardDiff\n",
    "using Roots\n",
    "using Distributions"
   ]
  },
  {
   "cell_type": "code",
   "execution_count": 22,
   "metadata": {
    "collapsed": false
   },
   "outputs": [],
   "source": [
    "data = convert(Matrix,readtable(\"hsdata.csv\"));\n",
    "dataexp = exp(data);"
   ]
  },
  {
   "cell_type": "code",
   "execution_count": 23,
   "metadata": {
    "collapsed": false
   },
   "outputs": [
    {
     "name": "stderr",
     "output_type": "stream",
     "text": [
      "WARNING: Method definition g(Any, Any, Any) in module Main at In[7]:3 overwritten at In[23]:3.\n",
      "WARNING: Method definition gn(Any, Any, Any) in module Main at In[7]:8 overwritten at In[23]:8.\n",
      "WARNING: Method definition Qn_wrapper(Any, Any) in module Main at In[7]:19 overwritten at In[23]:19.\n"
     ]
    },
    {
     "data": {
      "text/plain": [
       "Qn_wrapper (generic function with 2 methods)"
      ]
     },
     "execution_count": 23,
     "metadata": {},
     "output_type": "execute_result"
    }
   ],
   "source": [
    "#operates on single observations!\n",
    "function g(w,z,theta) \n",
    "    return (theta[1] * w[1]^(-theta[2]) * w[2] - 1) .* collect(z[:])\n",
    "end\n",
    "\n",
    "#operates on data set!\n",
    "function gn(w,z,theta)\n",
    "    i = 1\n",
    "    result = g(w[i,:],z[i,:],theta)\n",
    "    \n",
    "    for i in 2:size(w)[1]\n",
    "        result .+= g(w[i,:],z[i,:],theta)\n",
    "    end\n",
    "    return result/size(w)[1]\n",
    "end\n",
    "\n",
    "#Wrapper creates a closure around the data set provided\n",
    "function Qn_wrapper(w,z)\n",
    "    return theta -> 1/2*(gn(w,z,theta)'*gn(w,z,theta))[1,1]\n",
    "end"
   ]
  },
  {
   "cell_type": "code",
   "execution_count": 24,
   "metadata": {
    "collapsed": false
   },
   "outputs": [
    {
     "data": {
      "text/plain": [
       "Results of Optimization Algorithm\n",
       " * Algorithm: BFGS\n",
       " * Starting Point: [1.0,4.0]\n",
       " * Minimizer: [0.9949535485769525,4.439870328581574]\n",
       " * Minimum: 1.811863e-08\n",
       " * Iterations: 10\n",
       " * Convergence: true\n",
       "   * |x - x'| < 1.0e-32: false\n",
       "   * |f(x) - f(x')| / |f(x)| < 1.0e-32: false\n",
       "   * |g(x)| < 1.0e-12: true\n",
       "   * Reached Maximum Number of Iterations: false\n",
       " * Objective Function Calls: 53\n",
       " * Gradient Calls: 53"
      ]
     },
     "execution_count": 24,
     "metadata": {},
     "output_type": "execute_result"
    }
   ],
   "source": [
    "w = dataexp[2:end,[2,4]]\n",
    "z = hcat(ones(size(dataexp)[1]-1), dataexp[1:end-1,4], 1 .+ data[1:end-1,2])\n",
    "\n",
    "Qn = Qn_wrapper(w,z)\n",
    "optres = optimize(Qn, [1., 4.], BFGS(), Optim.OptimizationOptions(g_tol=1e-12, autodiff=true))"
   ]
  },
  {
   "cell_type": "markdown",
   "metadata": {},
   "source": [
    "So $\\theta_A = (0.995,4.4399)$.\n",
    "\n",
    "b.\n",
    "--\n",
    "I define:\n",
    "$$\\hat{W}_A=\\left(\\frac{1}{n} \\sum_{t=1}^n{g(w_t,\\theta_A)g(w_t,\\theta_A)'}\\right)^{-1}$$\n",
    "as in equation (3.5)."
   ]
  },
  {
   "cell_type": "code",
   "execution_count": 25,
   "metadata": {
    "collapsed": false
   },
   "outputs": [
    {
     "name": "stderr",
     "output_type": "stream",
     "text": [
      "WARNING: Method definition What(Any, Any, Any) in module Main at In[9]:4 overwritten at In[25]:4.\n"
     ]
    },
    {
     "data": {
      "text/plain": [
       "3×3 Array{Float64,2}:\n",
       "  54729.1    3945.03  -57729.5\n",
       "   3945.03   2427.59   -6456.5\n",
       " -57729.5   -6456.5    63401.5"
      ]
     },
     "execution_count": 25,
     "metadata": {},
     "output_type": "execute_result"
    }
   ],
   "source": [
    "thetaA = optres.minimum\n",
    "\n",
    "function What(w,z,theta) \n",
    "    result = zeros(Float64, size(z)[2], size(z)[2])\n",
    "    for i in 1:size(w)[1]\n",
    "        result .+= g(w[i,:],z[i,:],theta)*g(w[i,:],z[i,:],theta)'\n",
    "    end\n",
    "    return inv(result/size(z)[1])\n",
    "end\n",
    "\n",
    "WhatA = What(w,z,thetaA) "
   ]
  },
  {
   "cell_type": "code",
   "execution_count": 26,
   "metadata": {
    "collapsed": false
   },
   "outputs": [
    {
     "name": "stderr",
     "output_type": "stream",
     "text": [
      "WARNING: Method definition Qn_wrapper(Any, Any, Any) in module Main at In[10]:2 overwritten at In[26]:2.\n"
     ]
    },
    {
     "data": {
      "text/plain": [
       "Results of Optimization Algorithm\n",
       " * Algorithm: BFGS\n",
       " * Starting Point: [0.9949535485769525,4.439870328581574]\n",
       " * Minimizer: [0.97852918332263,3.386000838445892]\n",
       " * Minimum: 3.513570e-04\n",
       " * Iterations: 8\n",
       " * Convergence: true\n",
       "   * |x - x'| < 1.0e-32: false\n",
       "   * |f(x) - f(x')| / |f(x)| < 1.0e-32: true\n",
       "   * |g(x)| < 1.0e-12: true\n",
       "   * Reached Maximum Number of Iterations: false\n",
       " * Objective Function Calls: 37\n",
       " * Gradient Calls: 37"
      ]
     },
     "execution_count": 26,
     "metadata": {},
     "output_type": "execute_result"
    }
   ],
   "source": [
    "function Qn_wrapper(w,z,What)\n",
    "    return theta -> 1/2*(gn(w,z,theta)'*What*gn(w,z,theta))[1,1]\n",
    "end\n",
    "\n",
    "QnWhatA = Qn_wrapper(w,z,WhatA)\n",
    "optresB = optimize(QnWhatA, thetaA, BFGS(), Optim.OptimizationOptions(g_tol=1e-12))"
   ]
  },
  {
   "cell_type": "markdown",
   "metadata": {},
   "source": [
    "So $\\theta_B = (0.9785,3.3860)$.\n",
    "\n",
    "c.\n",
    "--\n",
    "\n",
    "I need an estimate for the asymptotic variance $\\left(G'S^{-1}G\\right)^{-1}$:\n",
    "\n",
    "$$\\hat{G} = \\frac{1}{n} \\sum_{t=1}^n{\\frac{\\partial g(w_t,\\theta_B)}{\\partial \\theta}} = \\frac{\\partial \\frac{1}{n} \\sum_{t=1}^n{g(w_t,\\theta_B)}}{\\partial \\theta} = \\frac{\\partial gn(\\theta_B)}{\\partial \\theta}$$ and \n",
    "$$\\hat{S} = \\hat{W}_B^{-1}$$\n",
    "\n",
    "I use automatic differentiation (rather than numeric differentiation) for all calculations (see, http://www.juliadiff.org/)."
   ]
  },
  {
   "cell_type": "code",
   "execution_count": 27,
   "metadata": {
    "collapsed": false
   },
   "outputs": [
    {
     "name": "stderr",
     "output_type": "stream",
     "text": [
      "WARNING: Method definition gn_wrapper(Any, Any) in module Main at In[11]:5 overwritten at In[27]:5.\n",
      "WARNING: Method definition dgn(Any) in module Main at In[11]:8 overwritten at In[27]:8.\n"
     ]
    },
    {
     "data": {
      "text/plain": [
       "3×2 Array{Float64,2}:\n",
       " 1.02203  -0.0165615\n",
       " 1.10959  -0.0174242\n",
       " 1.03983  -0.0166105"
      ]
     },
     "execution_count": 27,
     "metadata": {},
     "output_type": "execute_result"
    }
   ],
   "source": [
    "thetaB = optresB.minimum\n",
    "\n",
    "#creats a closure around the data set\n",
    "function gn_wrapper(w,z)\n",
    "    return theta -> gn(w,z,theta)\n",
    "end\n",
    "\n",
    "dgn(theta) = ForwardDiff.jacobian(gn_wrapper(w,z),theta)\n",
    "\n",
    "GhatB = convert(Array{Float64,2},dgn(thetaB))"
   ]
  },
  {
   "cell_type": "code",
   "execution_count": 28,
   "metadata": {
    "collapsed": false
   },
   "outputs": [
    {
     "data": {
      "text/plain": [
       "2×2 Array{Float64,2}:\n",
       " 0.10586    5.40968\n",
       " 5.40968  321.828  "
      ]
     },
     "execution_count": 28,
     "metadata": {},
     "output_type": "execute_result"
    }
   ],
   "source": [
    "aVar = inv(GhatB'*What(w,z,thetaB)*GhatB)"
   ]
  },
  {
   "cell_type": "code",
   "execution_count": 29,
   "metadata": {
    "collapsed": false
   },
   "outputs": [
    {
     "data": {
      "text/plain": [
       "2-element Array{Float64,1}:\n",
       " 0.340822\n",
       " 1.61624 "
      ]
     },
     "execution_count": 29,
     "metadata": {},
     "output_type": "execute_result"
    }
   ],
   "source": [
    "thetaB[1] .+ sqrt(aVar[1,1]) * [-1.96, 1.96]"
   ]
  },
  {
   "cell_type": "code",
   "execution_count": 30,
   "metadata": {
    "collapsed": false,
    "scrolled": true
   },
   "outputs": [
    {
     "data": {
      "text/plain": [
       "2-element Array{Float64,1}:\n",
       " -31.7755\n",
       "  38.5475"
      ]
     },
     "execution_count": 30,
     "metadata": {},
     "output_type": "execute_result"
    }
   ],
   "source": [
    "thetaB[2] .+ sqrt(aVar[2,2]) * [-1.96, 1.96]"
   ]
  },
  {
   "cell_type": "markdown",
   "metadata": {},
   "source": [
    "d.\n",
    "--\n",
    "Since I do minimization of a positive function, the Hansen-Sargan statistic is:\n",
    "$$J=2Qn(\\theta_B)$$"
   ]
  },
  {
   "cell_type": "code",
   "execution_count": 31,
   "metadata": {
    "collapsed": false
   },
   "outputs": [
    {
     "data": {
      "text/plain": [
       "0.17497579531348584"
      ]
     },
     "execution_count": 31,
     "metadata": {},
     "output_type": "execute_result"
    }
   ],
   "source": [
    "2*size(z)[1]*QnWhatA(thetaB)"
   ]
  },
  {
   "cell_type": "code",
   "execution_count": 32,
   "metadata": {
    "collapsed": false
   },
   "outputs": [
    {
     "data": {
      "text/plain": [
       "0.6757269985575208"
      ]
     },
     "execution_count": 32,
     "metadata": {},
     "output_type": "execute_result"
    }
   ],
   "source": [
    "1-cdf(Chisq(1),2*size(z)[1]*QnWhatA(thetaB))"
   ]
  },
  {
   "cell_type": "markdown",
   "metadata": {},
   "source": [
    "The p-value is not significant. I accept the $H_0$, that the $\\mathbb{E}\\left[ g(w_t;\\theta_0 \\right]=0$.\n",
    "e.\n",
    "--"
   ]
  },
  {
   "cell_type": "code",
   "execution_count": 33,
   "metadata": {
    "collapsed": false
   },
   "outputs": [
    {
     "data": {
      "text/plain": [
       "Results of Optimization Algorithm\n",
       " * Algorithm: BFGS\n",
       " * Starting Point: [1.0,4.0]\n",
       " * Minimizer: [0.9970035183861444,4.576082645831093]\n",
       " * Minimum: 1.614946e-07\n",
       " * Iterations: 10\n",
       " * Convergence: true\n",
       "   * |x - x'| < 1.0e-32: false\n",
       "   * |f(x) - f(x')| / |f(x)| < 1.0e-32: true\n",
       "   * |g(x)| < 1.0e-12: true\n",
       "   * Reached Maximum Number of Iterations: false\n",
       " * Objective Function Calls: 54\n",
       " * Gradient Calls: 54"
      ]
     },
     "execution_count": 33,
     "metadata": {},
     "output_type": "execute_result"
    }
   ],
   "source": [
    "w = dataexp[3:end,[2,4]]\n",
    "z = hcat(ones(size(dataexp)[1]-2), dataexp[2:end-1,4], 1 .+ data[2:end-1,3], 1 .+ data[2:end-1,2],\n",
    "        dataexp[1:end-2,4], 1 .+ data[1:end-2,3], 1 .+ data[1:end-2,2])\n",
    "\n",
    "Qn = Qn_wrapper(w,z)\n",
    "optres = optimize(Qn, [1., 4.], BFGS(), Optim.OptimizationOptions(g_tol=1e-12, autodiff=true))"
   ]
  },
  {
   "cell_type": "code",
   "execution_count": 34,
   "metadata": {
    "collapsed": false
   },
   "outputs": [
    {
     "data": {
      "text/plain": [
       "7×7 Array{Float64,2}:\n",
       "      2.10229e5  -49990.2        …   35729.9  -45719.0      -1.82658e5\n",
       " -49990.2             1.93473e5     -11887.1   22359.0       2.34519e5\n",
       "  66704.9            -2.27365e5      17095.0  -29530.4      -2.82283e5\n",
       " -29033.0            -1.75958e5       8384.1  -16963.8      -1.91669e5\n",
       "  35729.9        -11887.1            27165.7  -32152.7  -45008.2      \n",
       " -45719.0         22359.0        …  -32152.7   41287.6   60775.8      \n",
       "     -1.82658e5       2.34519e5     -45008.2   60775.8       3.88417e5"
      ]
     },
     "execution_count": 34,
     "metadata": {},
     "output_type": "execute_result"
    }
   ],
   "source": [
    "thetaA = optres.minimum\n",
    "WhatA = What(w,z,thetaA) "
   ]
  },
  {
   "cell_type": "code",
   "execution_count": 35,
   "metadata": {
    "collapsed": false
   },
   "outputs": [
    {
     "data": {
      "text/plain": [
       "Results of Optimization Algorithm\n",
       " * Algorithm: BFGS\n",
       " * Starting Point: [0.9970035183861444,4.576082645831093]\n",
       " * Minimizer: [0.97962853228036,3.467092989529142]\n",
       " * Minimum: 1.378672e-03\n",
       " * Iterations: 6\n",
       " * Convergence: true\n",
       "   * |x - x'| < 1.0e-32: false\n",
       "   * |f(x) - f(x')| / |f(x)| < 1.0e-32: true\n",
       "   * |g(x)| < 1.0e-12: false\n",
       "   * Reached Maximum Number of Iterations: false\n",
       " * Objective Function Calls: 28\n",
       " * Gradient Calls: 28"
      ]
     },
     "execution_count": 35,
     "metadata": {},
     "output_type": "execute_result"
    }
   ],
   "source": [
    "QnWhatA = Qn_wrapper(w,z,WhatA)\n",
    "optresB = optimize(QnWhatA, thetaA, BFGS(), Optim.OptimizationOptions(g_tol=1e-12))"
   ]
  },
  {
   "cell_type": "code",
   "execution_count": 36,
   "metadata": {
    "collapsed": false
   },
   "outputs": [
    {
     "name": "stderr",
     "output_type": "stream",
     "text": [
      "WARNING: Method definition dgn(Any) in module Main at In[27]:8 overwritten at In[36]:2.\n"
     ]
    },
    {
     "data": {
      "text/plain": [
       "2-element Array{Float64,1}:\n",
       " 0.412923\n",
       " 1.54633 "
      ]
     },
     "execution_count": 36,
     "metadata": {},
     "output_type": "execute_result"
    }
   ],
   "source": [
    "thetaB = optresB.minimum\n",
    "dgn(theta) = ForwardDiff.jacobian(gn_wrapper(w,z),theta)\n",
    "GhatB = convert(Array{Float64,2},dgn(thetaB))\n",
    "Shat = inv(What(w,z,thetaB))\n",
    "aVar = inv(GhatB'*inv(Shat)*GhatB)\n",
    "thetaB[1] .+ sqrt(aVar[1,1]) * [-1.96, 1.96]"
   ]
  },
  {
   "cell_type": "code",
   "execution_count": 37,
   "metadata": {
    "collapsed": false,
    "scrolled": false
   },
   "outputs": [
    {
     "data": {
      "text/plain": [
       "2-element Array{Float64,1}:\n",
       " -27.9268\n",
       "  34.861 "
      ]
     },
     "execution_count": 37,
     "metadata": {},
     "output_type": "execute_result"
    }
   ],
   "source": [
    "thetaB[2] .+ sqrt(aVar[2,2]) * [-1.96, 1.96]"
   ]
  },
  {
   "cell_type": "code",
   "execution_count": 38,
   "metadata": {
    "collapsed": false
   },
   "outputs": [
    {
     "data": {
      "text/plain": [
       "0.683821428196953"
      ]
     },
     "execution_count": 38,
     "metadata": {},
     "output_type": "execute_result"
    }
   ],
   "source": [
    "2*size(z)[1]*QnWhatA(thetaB)"
   ]
  },
  {
   "cell_type": "code",
   "execution_count": 39,
   "metadata": {
    "collapsed": false
   },
   "outputs": [
    {
     "data": {
      "text/plain": [
       "0.4082739268399961"
      ]
     },
     "execution_count": 39,
     "metadata": {},
     "output_type": "execute_result"
    }
   ],
   "source": [
    "1-cdf(Chisq(1),2*size(z)[1]*QnWhatA(thetaB))"
   ]
  },
  {
   "cell_type": "markdown",
   "metadata": {},
   "source": [
    "2.\n",
    "==\n",
    "a.\n",
    "--\n",
    "With \n",
    "$\n",
    "\\Gamma=\\left(\\begin{array}{cc}\n",
    "1 & 0\\\\\n",
    "-\\gamma & 1\n",
    "\\end{array}\\right)^{-1}\n",
    "$, $\\Sigma=\\left(\\begin{array}{cc}\n",
    "\\sigma_{c}^{2} & \\rho\\sigma_{c}\\sigma_{r}\\\\\n",
    "\\rho\\sigma_{c}\\sigma_{r} & \\sigma_{r}^{2}\n",
    "\\end{array}\\right)$ and $\\sigma^{2}(\\gamma)=\\left(\\begin{array}{cc}\n",
    "-\\gamma & 1\\end{array}\\right)\\Sigma\\left(\\begin{array}{c}\n",
    "-\\gamma\\\\\n",
    "1\n",
    "\\end{array}\\right)$ I find:\n",
    "\n",
    "$$x_{t+1}=\\left(\\begin{array}{c}\n",
    "c_{t+1}\\\\\n",
    "r_{t+1}\n",
    "\\end{array}\\right)-\\Gamma\\left(\\begin{array}{cc}\n",
    "\\alpha & \\beta\\\\\n",
    "0 & 0\n",
    "\\end{array}\\right)\\left(\\begin{array}{c}\n",
    "c_{t}\\\\\n",
    "r_{t}\n",
    "\\end{array}\\right)-\\Gamma\\left(\\begin{array}{c}\n",
    "\\mu_{c}\\\\\n",
    "\\lg(\\delta)+\\frac{1}{2}\\sigma^{2}(\\gamma)\n",
    "\\end{array}\\right)\\sim\\mathbb{\\mathcal{N}}\\left(\\left[\\begin{array}{c}\n",
    "0\\\\\n",
    "0\n",
    "\\end{array}\\right],\\Gamma\\Sigma\\Gamma'\\right)$$\n",
    "I maximize: $$Q_{n}\\left(\\theta\\right)=\\frac{1}{n}\\sum_{t=1}^{n-1}\\lg\\: f\\left(x_{t+1}\\mid x_{t};\\theta\\right)$$"
   ]
  },
  {
   "cell_type": "code",
   "execution_count": 40,
   "metadata": {
    "collapsed": false
   },
   "outputs": [
    {
     "data": {
      "text/plain": [
       "Qn_wrapper (generic function with 3 methods)"
      ]
     },
     "execution_count": 40,
     "metadata": {},
     "output_type": "execute_result"
    }
   ],
   "source": [
    "w = data[1:end,[2,4]]\n",
    "\n",
    "#theta = (δ,γ,α,β,μc,σc,σr,ρ)\n",
    "\n",
    "#for a single observation:\n",
    "@inline function m(w,wold,theta)\n",
    "    (δ,γ,α,β,μc,σc,σr,ρ) = theta\n",
    "    Σ = [σc^2 ρ*σc*σr; ρ*σc*σr σr^2]\n",
    "    Γ = inv([1 0; -γ 1])\n",
    "    \n",
    "    x = w[:] - (Γ*[α β; 0 0]*wold[:]) - Γ*[μc; log(δ) + [-γ 1]*Σ*[-γ; 1]]\n",
    "    return log(pdf(MvNormal([0, 0], Γ*Σ*Γ'),x))\n",
    "end\n",
    "\n",
    "function Qn_wrapper(w)\n",
    "    return function(theta)\n",
    "        i = 2\n",
    "        result = m(w[i,:],w[i-1,:],theta)\n",
    "        \n",
    "        for i in 3:size(w)[1]\n",
    "            result += m(w[i,:],w[i-1,:],theta)\n",
    "        end\n",
    "        \n",
    "        return -result/size(w)[1] #I am going to minimize this function!\n",
    "    \n",
    "        end\n",
    "end"
   ]
  },
  {
   "cell_type": "code",
   "execution_count": 41,
   "metadata": {
    "collapsed": false
   },
   "outputs": [
    {
     "data": {
      "text/plain": [
       "Results of Optimization Algorithm\n",
       " * Algorithm: Nelder-Mead\n",
       " * Starting Point: [1.0,4.0,-0.2,0.01,0.02,0.03,0.1,-0.3]\n",
       " * Minimizer: [0.9759011462045103,3.5166610059991483, ...]\n",
       " * Minimum: -2.700392e+00\n",
       " * Iterations: 479\n",
       " * Convergence: true\n",
       "   *  √(Σ(yᵢ-ȳ)²)/n < 1.0e-08: true\n",
       "   * Reached Maximum Number of Iterations: false\n",
       " * Objective Function Calls: 584\n"
      ]
     },
     "execution_count": 41,
     "metadata": {},
     "output_type": "execute_result"
    }
   ],
   "source": [
    "Qn = Qn_wrapper(w)\n",
    "\n",
    "optres = optimize(Qn, [1,4,-0.2,0.01,0.02,0.03,0.1,-0.3], \n",
    "    NelderMead(), Optim.OptimizationOptions(iterations=5000, autodiff=true))"
   ]
  },
  {
   "cell_type": "code",
   "execution_count": 42,
   "metadata": {
    "collapsed": false,
    "scrolled": true
   },
   "outputs": [
    {
     "data": {
      "text/plain": [
       "8-element Array{Float64,1}:\n",
       "  0.975901  \n",
       "  3.51666   \n",
       " -0.206426  \n",
       "  0.00074108\n",
       "  0.0211232 \n",
       "  0.0329353 \n",
       "  0.122865  \n",
       " -0.27504   "
      ]
     },
     "execution_count": 42,
     "metadata": {},
     "output_type": "execute_result"
    }
   ],
   "source": [
    "thetahat = optres.minimum"
   ]
  },
  {
   "cell_type": "markdown",
   "metadata": {},
   "source": [
    "Since I am worried that the model is misspecified I calculate the sandwich estimator for the asymptotic variance $\\hat{H}^{-1} \\hat{\\Sigma} \\hat{H}^{-1}$ where:\n",
    "\n",
    "$$\\hat{H}=\\frac{1}{n} \\sum_{t=1}^{n-1} {H(w_t; \\hat{\\theta}}) = \\frac{\\partial^2 Q_n(\\hat{\\theta})}{\\partial \\theta \\partial \\theta'}$$\n",
    "\n",
    "$$\\hat{\\Sigma} = \\frac{1}{n} \\sum_{t=1}^{n-1} {\\frac{\\partial \\lg\\: f\\left(x_{t+1}\\mid x_{t};\\hat{\\theta}\\right) }{\\partial \\theta} \\, \\frac{\\partial \\lg\\: f\\left(x_{t+1}\\mid x_{t};\\hat{\\theta}\\right) }{\\partial \\theta}' }$$"
   ]
  },
  {
   "cell_type": "code",
   "execution_count": 43,
   "metadata": {
    "collapsed": false
   },
   "outputs": [
    {
     "data": {
      "text/plain": [
       "8×8 Array{Float64,2}:\n",
       " 74.9469    2.00667     1.30753    …    76.9661    22.6364     -2.08139  \n",
       "  2.00667   0.134503    0.0182571        4.4729    -0.0405153   0.233139 \n",
       "  1.30753   0.0182571   1.41308          1.34943    0.393509   -0.0369015\n",
       "  5.42086   0.107047    4.02407          6.79594    1.30778    -0.297633 \n",
       " 75.0449    2.0093     17.3073          77.1       22.6641     -2.08323  \n",
       " 76.9661    4.4729      1.34943    …  1990.85       3.1006      6.86165  \n",
       " 22.6364   -0.0405153   0.393509         3.1006   144.212       1.78364  \n",
       " -2.08139   0.233139   -0.0369015        6.86165    1.78364     1.31191  "
      ]
     },
     "execution_count": 43,
     "metadata": {},
     "output_type": "execute_result"
    }
   ],
   "source": [
    "Hhat = ForwardDiff.hessian(Qn,thetahat)"
   ]
  },
  {
   "cell_type": "code",
   "execution_count": 44,
   "metadata": {
    "collapsed": false
   },
   "outputs": [
    {
     "data": {
      "text/plain": [
       "Sigmahat (generic function with 1 method)"
      ]
     },
     "execution_count": 44,
     "metadata": {},
     "output_type": "execute_result"
    }
   ],
   "source": [
    "function Sigmahat(w,theta) \n",
    "    i = 2\n",
    "    result = ForwardDiff.gradient(theta -> m(w[i,:],w[i-1,:],theta), thetahat)*\n",
    "            ForwardDiff.gradient(theta -> m(w[i,:],w[i-1,:],theta), thetahat)'\n",
    "    \n",
    "    for i in 3:size(w)[1]\n",
    "        result .+= ForwardDiff.gradient(theta -> m(w[i,:],w[i-1,:],theta), thetahat)*\n",
    "            ForwardDiff.gradient(theta -> m(w[i,:],w[i-1,:],theta), thetahat)'\n",
    "    end\n",
    "    return result/size(w)[1]\n",
    "end"
   ]
  },
  {
   "cell_type": "code",
   "execution_count": 45,
   "metadata": {
    "collapsed": false
   },
   "outputs": [],
   "source": [
    "Shat = Sigmahat(w,thetahat);"
   ]
  },
  {
   "cell_type": "code",
   "execution_count": 46,
   "metadata": {
    "collapsed": false,
    "scrolled": true
   },
   "outputs": [
    {
     "data": {
      "text/plain": [
       "8×8 Array{Float64,2}:\n",
       "   0.537321     -14.1682      -0.369048    …  -0.124697       3.48988   \n",
       " -14.1682       383.743        9.55204         3.3676       -93.8609    \n",
       "  -0.369048       9.55204      1.6183          0.0786097     -2.39135   \n",
       "   0.0878321     -2.3298      -0.258861       -0.019591       0.558093  \n",
       "  -0.00288662     0.0596454   -0.00898523      0.000162853   -0.013091  \n",
       "  -0.000857348    0.00640132  -0.00288241  …   0.000376705   -0.00610259\n",
       "  -0.124697       3.3676       0.0786097       0.0379139     -0.849502  \n",
       "   3.48988      -93.8609      -2.39135        -0.849502      23.9079    "
      ]
     },
     "execution_count": 46,
     "metadata": {},
     "output_type": "execute_result"
    }
   ],
   "source": [
    "aVar = inv(Hhat)*Shat*inv(Hhat)"
   ]
  },
  {
   "cell_type": "markdown",
   "metadata": {},
   "source": [
    "Now the estimated confidece intervals for $\\delta$ and $\\gamma$:"
   ]
  },
  {
   "cell_type": "code",
   "execution_count": 47,
   "metadata": {
    "collapsed": false
   },
   "outputs": [
    {
     "data": {
      "text/plain": [
       "2-element Array{Float64,1}:\n",
       " -0.460821\n",
       "  2.41262 "
      ]
     },
     "execution_count": 47,
     "metadata": {},
     "output_type": "execute_result"
    }
   ],
   "source": [
    "thetahat[1] .+ sqrt(aVar[1,1]) * [-1.96, 1.96]"
   ]
  },
  {
   "cell_type": "code",
   "execution_count": 48,
   "metadata": {
    "collapsed": false
   },
   "outputs": [
    {
     "data": {
      "text/plain": [
       "2-element Array{Float64,1}:\n",
       " -34.8785\n",
       "  41.9118"
      ]
     },
     "execution_count": 48,
     "metadata": {},
     "output_type": "execute_result"
    }
   ],
   "source": [
    "thetahat[2] .+ sqrt(aVar[2,2]) * [-1.96, 1.96]"
   ]
  },
  {
   "cell_type": "markdown",
   "metadata": {},
   "source": [
    "c.\n",
    "--\n",
    "The estimates are close to the ones in part 1. But I believe the normality assumption is particularily unwarranted and the linerization of the model leads to certainty equivalence. Both increase confidence intervals, especially those for the subjective discount rate."
   ]
  },
  {
   "cell_type": "code",
   "execution_count": null,
   "metadata": {
    "collapsed": true
   },
   "outputs": [],
   "source": []
  }
 ],
 "metadata": {
  "anaconda-cloud": {},
  "kernelspec": {
   "display_name": "Julia 0.5.0",
   "language": "julia",
   "name": "julia-0.5"
  },
  "language_info": {
   "file_extension": ".jl",
   "mimetype": "application/julia",
   "name": "julia",
   "version": "0.5.0"
  }
 },
 "nbformat": 4,
 "nbformat_minor": 0
}
