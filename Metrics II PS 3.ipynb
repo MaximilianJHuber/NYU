{
 "cells": [
  {
   "cell_type": "markdown",
   "metadata": {},
   "source": [
    "Econometrics II PS 3\n",
    "==\n",
    "Maximilian Huber\n",
    "\n",
    "\n",
    "You can find this code on my GitHub account: https://github.com/MaximilianJHuber/NYU\n",
    "1.\n",
    "==\n",
    "a.\n",
    "--"
   ]
  },
  {
   "cell_type": "code",
   "execution_count": 1,
   "metadata": {
    "collapsed": false,
    "scrolled": true
   },
   "outputs": [
    {
     "ename": "LoadError",
     "evalue": "ArgumentError: module Optim not found in current path.\nRun `Pkg.add(\"Optim\")` to install the Optim package.",
     "output_type": "error",
     "traceback": [
      "ArgumentError: module Optim not found in current path.\nRun `Pkg.add(\"Optim\")` to install the Optim package.",
      "",
      " in require at ./loading.jl:246"
     ]
    }
   ],
   "source": [
    "using Optim\n",
    "using DataFrames\n",
    "using ForwardDiff\n",
    "using Roots\n",
    "using Distributions"
   ]
  },
  {
   "cell_type": "code",
   "execution_count": 2,
   "metadata": {
    "collapsed": false
   },
   "outputs": [
    {
     "ename": "LoadError",
     "evalue": "UndefVarError: readtable not defined",
     "output_type": "error",
     "traceback": [
      "UndefVarError: readtable not defined",
      ""
     ]
    }
   ],
   "source": [
    "data = convert(Matrix,readtable(\"hsdata.csv\"));\n",
    "dataexp = exp(data);"
   ]
  },
  {
   "cell_type": "code",
   "execution_count": 3,
   "metadata": {
    "collapsed": false
   },
   "outputs": [
    {
     "data": {
      "text/plain": [
       "Qn_wrapper (generic function with 1 method)"
      ]
     },
     "execution_count": 3,
     "metadata": {},
     "output_type": "execute_result"
    }
   ],
   "source": [
    "#operates on single observations!\n",
    "function g(w,z,theta) \n",
    "    return (theta[1] * w[1]^(-theta[2]) * w[2] - 1) .* collect(z[:])\n",
    "end\n",
    "\n",
    "#operates on data set!\n",
    "function gn(w,z,theta)\n",
    "    i = 1\n",
    "    result = g(w[i,:],z[i,:],theta)\n",
    "    \n",
    "    for i in 2:size(w)[1]\n",
    "        result .+= g(w[i,:],z[i,:],theta)\n",
    "    end\n",
    "    return result/size(w)[1]\n",
    "end\n",
    "\n",
    "#Wrapper creates a closure around the data set provided\n",
    "function Qn_wrapper(w,z)\n",
    "    return theta -> 1/2*(gn(w,z,theta)'*gn(w,z,theta))[1,1]\n",
    "end"
   ]
  },
  {
   "cell_type": "code",
   "execution_count": 4,
   "metadata": {
    "collapsed": false
   },
   "outputs": [
    {
     "ename": "LoadError",
     "evalue": "UndefVarError: dataexp not defined",
     "output_type": "error",
     "traceback": [
      "UndefVarError: dataexp not defined",
      ""
     ]
    }
   ],
   "source": [
    "w = dataexp[2:end,[2,4]]\n",
    "z = hcat(ones(size(dataexp)[1]-1), dataexp[1:end-1,4], 1 .+ data[1:end-1,2])\n",
    "\n",
    "Qn = Qn_wrapper(w,z)\n",
    "optres = optimize(Qn, [1., 4.], BFGS(), Optim.OptimizationOptions(g_tol=1e-12, autodiff=true))"
   ]
  },
  {
   "cell_type": "markdown",
   "metadata": {},
   "source": [
    "So $\\theta_A = (0.995,4.4399)$.\n",
    "\n",
    "b.\n",
    "--\n",
    "I define:\n",
    "$$\\hat{W}_A=\\left(\\frac{1}{n} \\sum_{t=1}^n{g(w_t,\\theta_A)g(w_t,\\theta_A)'}\\right)^{-1}$$\n",
    "as in equation (3.5)."
   ]
  },
  {
   "cell_type": "code",
   "execution_count": 5,
   "metadata": {
    "collapsed": false
   },
   "outputs": [
    {
     "ename": "LoadError",
     "evalue": "UndefVarError: optres not defined",
     "output_type": "error",
     "traceback": [
      "UndefVarError: optres not defined",
      ""
     ]
    }
   ],
   "source": [
    "thetaA = optres.minimum\n",
    "\n",
    "function What(w,z,theta) \n",
    "    result = zeros(Float64, size(z)[2], size(z)[2])\n",
    "    for i in 1:size(w)[1]\n",
    "        result .+= g(w[i,:],z[i,:],theta)*g(w[i,:],z[i,:],theta)'\n",
    "    end\n",
    "    return inv(result/size(z)[1])\n",
    "end\n",
    "\n",
    "WhatA = What(w,z,thetaA) "
   ]
  },
  {
   "cell_type": "code",
   "execution_count": 6,
   "metadata": {
    "collapsed": false
   },
   "outputs": [
    {
     "ename": "LoadError",
     "evalue": "UndefVarError: w not defined",
     "output_type": "error",
     "traceback": [
      "UndefVarError: w not defined",
      ""
     ]
    }
   ],
   "source": [
    "function Qn_wrapper(w,z,What)\n",
    "    return theta -> 1/2*(gn(w,z,theta)'*What*gn(w,z,theta))[1,1]\n",
    "end\n",
    "\n",
    "QnWhatA = Qn_wrapper(w,z,WhatA)\n",
    "optresB = optimize(QnWhatA, thetaA, BFGS(), Optim.OptimizationOptions(g_tol=1e-12))"
   ]
  },
  {
   "cell_type": "markdown",
   "metadata": {},
   "source": [
    "So $\\theta_B = (0.9785,3.3860)$.\n",
    "\n",
    "c.\n",
    "--\n",
    "\n",
    "I need an estimate for the asymptotic variance $\\left(G'S^{-1}G\\right)^{-1}$:\n",
    "\n",
    "$$\\hat{G} = \\frac{1}{n} \\sum_{t=1}^n{\\frac{\\partial d(w_t,\\theta_B)}{\\partial \\theta}} = \\frac{\\partial \\frac{1}{n} \\sum_{t=1}^n{d(w_t,\\theta_B)}}{\\partial \\theta} = \\frac{\\partial gn(\\theta_B)}{\\partial \\theta}$$ and \n",
    "$$\\hat{S} = \\hat{W}_B$$\n",
    "\n",
    "I use automatic differentiation (rather than numeric differentiation) for all calculations (see, http://www.juliadiff.org/)."
   ]
  },
  {
   "cell_type": "code",
   "execution_count": 7,
   "metadata": {
    "collapsed": false
   },
   "outputs": [
    {
     "ename": "LoadError",
     "evalue": "UndefVarError: optresB not defined",
     "output_type": "error",
     "traceback": [
      "UndefVarError: optresB not defined",
      ""
     ]
    }
   ],
   "source": [
    "thetaB = optresB.minimum\n",
    "\n",
    "#creats a closure around the data set\n",
    "function gn_wrapper(w,z)\n",
    "    return theta -> gn(w,z,theta)\n",
    "end\n",
    "\n",
    "dgn(theta) = ForwardDiff.jacobian(gn_wrapper(w,z),theta)\n",
    "\n",
    "GhatB = convert(Array{Float64,2},dgn(thetaB))"
   ]
  },
  {
   "cell_type": "code",
   "execution_count": 8,
   "metadata": {
    "collapsed": false,
    "scrolled": false
   },
   "outputs": [
    {
     "ename": "LoadError",
     "evalue": "UndefVarError: What not defined",
     "output_type": "error",
     "traceback": [
      "UndefVarError: What not defined",
      ""
     ]
    }
   ],
   "source": [
    "Shat = inv(What(w,z,thetaB))"
   ]
  },
  {
   "cell_type": "code",
   "execution_count": 9,
   "metadata": {
    "collapsed": false
   },
   "outputs": [
    {
     "ename": "LoadError",
     "evalue": "UndefVarError: GhatB not defined",
     "output_type": "error",
     "traceback": [
      "UndefVarError: GhatB not defined",
      ""
     ]
    }
   ],
   "source": [
    "aVar = inv(GhatB'*inv(Shat)*GhatB)"
   ]
  },
  {
   "cell_type": "code",
   "execution_count": 10,
   "metadata": {
    "collapsed": false
   },
   "outputs": [
    {
     "ename": "LoadError",
     "evalue": "UndefVarError: thetaB not defined",
     "output_type": "error",
     "traceback": [
      "UndefVarError: thetaB not defined",
      ""
     ]
    }
   ],
   "source": [
    "thetaB[1] .+ sqrt(aVar[1,1]) * [-1.96, 1.96]"
   ]
  },
  {
   "cell_type": "code",
   "execution_count": 11,
   "metadata": {
    "collapsed": false,
    "scrolled": true
   },
   "outputs": [
    {
     "ename": "LoadError",
     "evalue": "UndefVarError: thetaB not defined",
     "output_type": "error",
     "traceback": [
      "UndefVarError: thetaB not defined",
      ""
     ]
    }
   ],
   "source": [
    "thetaB[2] .+ sqrt(aVar[2,2]) * [-1.96, 1.96]"
   ]
  },
  {
   "cell_type": "markdown",
   "metadata": {},
   "source": [
    "d.\n",
    "--\n",
    "Since I do minimization of a positive function, the Hansen-Sargan statistic is:\n",
    "$$J=2Qn(\\theta_B)$$"
   ]
  },
  {
   "cell_type": "code",
   "execution_count": 12,
   "metadata": {
    "collapsed": false
   },
   "outputs": [
    {
     "ename": "LoadError",
     "evalue": "UndefVarError: z not defined",
     "output_type": "error",
     "traceback": [
      "UndefVarError: z not defined",
      ""
     ]
    }
   ],
   "source": [
    "2*size(z)[1]*QnWhatA(thetaB)"
   ]
  },
  {
   "cell_type": "code",
   "execution_count": 13,
   "metadata": {
    "collapsed": false
   },
   "outputs": [
    {
     "ename": "LoadError",
     "evalue": "UndefVarError: cdf not defined",
     "output_type": "error",
     "traceback": [
      "UndefVarError: cdf not defined",
      ""
     ]
    }
   ],
   "source": [
    "1-cdf(Chisq(1),2*size(z)[1]*QnWhatA(thetaB))"
   ]
  },
  {
   "cell_type": "markdown",
   "metadata": {},
   "source": [
    "The p-value is not significant. I accept the $H_0$, that the $\\mathbb{E}\\left[ g(w_t;\\theta_0 \\right]=0$.\n",
    "e.\n",
    "--"
   ]
  },
  {
   "cell_type": "code",
   "execution_count": 14,
   "metadata": {
    "collapsed": false
   },
   "outputs": [
    {
     "ename": "LoadError",
     "evalue": "UndefVarError: dataexp not defined",
     "output_type": "error",
     "traceback": [
      "UndefVarError: dataexp not defined",
      ""
     ]
    }
   ],
   "source": [
    "w = dataexp[3:end,[2,4]]\n",
    "z = hcat(ones(size(dataexp)[1]-2), dataexp[2:end-1,4], 1 .+ data[2:end-1,3], 1 .+ data[2:end-1,2],\n",
    "        dataexp[1:end-2,4], 1 .+ data[1:end-2,3], 1 .+ data[1:end-2,2])\n",
    "\n",
    "Qn = Qn_wrapper(w,z)\n",
    "optres = optimize(Qn, [1., 4.], BFGS(), Optim.OptimizationOptions(g_tol=1e-12, autodiff=true))"
   ]
  },
  {
   "cell_type": "code",
   "execution_count": 15,
   "metadata": {
    "collapsed": false
   },
   "outputs": [
    {
     "ename": "LoadError",
     "evalue": "UndefVarError: optres not defined",
     "output_type": "error",
     "traceback": [
      "UndefVarError: optres not defined",
      ""
     ]
    }
   ],
   "source": [
    "thetaA = optres.minimum\n",
    "WhatA = What(w,z,thetaA) "
   ]
  },
  {
   "cell_type": "code",
   "execution_count": 16,
   "metadata": {
    "collapsed": false
   },
   "outputs": [
    {
     "ename": "LoadError",
     "evalue": "UndefVarError: w not defined",
     "output_type": "error",
     "traceback": [
      "UndefVarError: w not defined",
      ""
     ]
    }
   ],
   "source": [
    "QnWhatA = Qn_wrapper(w,z,WhatA)\n",
    "optresB = optimize(QnWhatA, thetaA, BFGS(), Optim.OptimizationOptions(g_tol=1e-12))"
   ]
  },
  {
   "cell_type": "code",
   "execution_count": 17,
   "metadata": {
    "collapsed": false
   },
   "outputs": [
    {
     "ename": "LoadError",
     "evalue": "UndefVarError: optresB not defined",
     "output_type": "error",
     "traceback": [
      "UndefVarError: optresB not defined",
      ""
     ]
    }
   ],
   "source": [
    "thetaB = optresB.minimum\n",
    "dgn(theta) = ForwardDiff.jacobian(gn_wrapper(w,z),theta)\n",
    "GhatB = convert(Array{Float64,2},dgn(thetaB))\n",
    "Shat = inv(What(w,z,thetaB))\n",
    "aVar = inv(GhatB'*inv(Shat)*GhatB)\n",
    "thetaB[1] .+ sqrt(aVar[1,1]) * [-1.96, 1.96]"
   ]
  },
  {
   "cell_type": "code",
   "execution_count": 18,
   "metadata": {
    "collapsed": false,
    "scrolled": false
   },
   "outputs": [
    {
     "ename": "LoadError",
     "evalue": "UndefVarError: thetaB not defined",
     "output_type": "error",
     "traceback": [
      "UndefVarError: thetaB not defined",
      ""
     ]
    }
   ],
   "source": [
    "thetaB[2] .+ sqrt(aVar[2,2]) * [-1.96, 1.96]"
   ]
  },
  {
   "cell_type": "code",
   "execution_count": 19,
   "metadata": {
    "collapsed": false
   },
   "outputs": [
    {
     "ename": "LoadError",
     "evalue": "UndefVarError: z not defined",
     "output_type": "error",
     "traceback": [
      "UndefVarError: z not defined",
      ""
     ]
    }
   ],
   "source": [
    "2*size(z)[1]*QnWhatA(thetaB)"
   ]
  },
  {
   "cell_type": "code",
   "execution_count": 20,
   "metadata": {
    "collapsed": false
   },
   "outputs": [
    {
     "ename": "LoadError",
     "evalue": "UndefVarError: cdf not defined",
     "output_type": "error",
     "traceback": [
      "UndefVarError: cdf not defined",
      ""
     ]
    }
   ],
   "source": [
    "1-cdf(Chisq(1),2*size(z)[1]*QnWhatA(thetaB))"
   ]
  },
  {
   "cell_type": "markdown",
   "metadata": {},
   "source": [
    "2.\n",
    "==\n",
    "a.\n",
    "--\n",
    "With \n",
    "$\n",
    "\\Gamma=\\left(\\begin{array}{cc}\n",
    "1 & 0\\\\\n",
    "-\\gamma & 1\n",
    "\\end{array}\\right)^{-1}\n",
    "$, $\\Sigma=\\left(\\begin{array}{cc}\n",
    "\\sigma_{c}^{2} & \\rho\\sigma_{c}\\sigma_{r}\\\\\n",
    "\\rho\\sigma_{c}\\sigma_{r} & \\sigma_{r}^{2}\n",
    "\\end{array}\\right)$ and $\\sigma^{2}(\\gamma)=\\left(\\begin{array}{cc}\n",
    "-\\gamma & 1\\end{array}\\right)\\Sigma\\left(\\begin{array}{c}\n",
    "-\\gamma\\\\\n",
    "1\n",
    "\\end{array}\\right)$ I find:\n",
    "\n",
    "$$x_{t+1}=\\left(\\begin{array}{c}\n",
    "c_{t+1}\\\\\n",
    "r_{t+1}\n",
    "\\end{array}\\right)-\\Gamma\\left(\\begin{array}{cc}\n",
    "\\alpha & \\beta\\\\\n",
    "0 & 0\n",
    "\\end{array}\\right)\\left(\\begin{array}{c}\n",
    "c_{t}\\\\\n",
    "r_{t}\n",
    "\\end{array}\\right)-\\Gamma\\left(\\begin{array}{c}\n",
    "\\mu_{c}\\\\\n",
    "\\lg(\\delta)+\\frac{1}{2}\\sigma^{2}(\\gamma)\n",
    "\\end{array}\\right)\\sim\\mathbb{\\mathcal{N}}\\left(\\left[\\begin{array}{c}\n",
    "0\\\\\n",
    "0\n",
    "\\end{array}\\right],\\Gamma\\Sigma\\Gamma'\\right)$$\n",
    "I maximize: $$Q_{n}\\left(\\theta\\right)=\\frac{1}{n}\\sum_{t=1}^{n-1}\\lg\\: f\\left(x_{t+1}\\mid x_{t};\\theta\\right)$$"
   ]
  },
  {
   "cell_type": "code",
   "execution_count": 21,
   "metadata": {
    "collapsed": false
   },
   "outputs": [
    {
     "ename": "LoadError",
     "evalue": "UndefVarError: data not defined",
     "output_type": "error",
     "traceback": [
      "UndefVarError: data not defined",
      ""
     ]
    }
   ],
   "source": [
    "w = data[1:end,[2,4]]\n",
    "\n",
    "#theta = (δ,γ,α,β,μc,σc,σr,ρ)\n",
    "\n",
    "#for a single observation:\n",
    "@inline function m(w,wold,theta)\n",
    "    (δ,γ,α,β,μc,σc,σr,ρ) = theta\n",
    "    Σ = [σc^2 ρ*σc*σr; ρ*σc*σr σr^2]\n",
    "    Γ = inv([1 0; -γ 1])\n",
    "    \n",
    "    x = w[:] - (Γ*[α β; 0 0]*wold[:]) - Γ*[μc; log(δ) + [-γ 1]*Σ*[-γ; 1]]\n",
    "    return log(pdf(MvNormal([0, 0], Γ*Σ*Γ'),x))\n",
    "end\n",
    "\n",
    "function Qn_wrapper(w)\n",
    "    return function(theta)\n",
    "        i = 2\n",
    "        result = m(w[i,:],w[i-1,:],theta)\n",
    "        \n",
    "        for i in 3:size(w)[1]\n",
    "            result += m(w[i,:],w[i-1,:],theta)\n",
    "        end\n",
    "        \n",
    "        return -result/size(w)[1] #I am going to minimize this function!\n",
    "    \n",
    "        end\n",
    "end"
   ]
  },
  {
   "cell_type": "code",
   "execution_count": 22,
   "metadata": {
    "collapsed": false
   },
   "outputs": [
    {
     "ename": "LoadError",
     "evalue": "UndefVarError: w not defined",
     "output_type": "error",
     "traceback": [
      "UndefVarError: w not defined",
      ""
     ]
    }
   ],
   "source": [
    "Qn = Qn_wrapper(w)\n",
    "#theta =     (δ, γ , α,   β,  μc, σc, σr, ρ)\n",
    "\n",
    "optres = optimize(Qn, [1,0.1,0.5,0.99,1.1,0.8,0.4,0.5], \n",
    "            NelderMead(), Optim.OptimizationOptions(iterations=5000, autodiff=true))"
   ]
  },
  {
   "cell_type": "code",
   "execution_count": 23,
   "metadata": {
    "collapsed": false
   },
   "outputs": [
    {
     "ename": "LoadError",
     "evalue": "UndefVarError: optres not defined",
     "output_type": "error",
     "traceback": [
      "UndefVarError: optres not defined",
      ""
     ]
    }
   ],
   "source": [
    "thetahat = optres.minimum"
   ]
  },
  {
   "cell_type": "markdown",
   "metadata": {},
   "source": [
    "Since I am worried that the model is misspecified I calculate the sandwich estimator for the asymptotic variance $\\hat{H}^{-1} \\hat{\\Sigma} \\hat{H}^{-1}$ where:\n",
    "\n",
    "$$\\hat{H}=\\frac{1}{n} \\sum_{t=1}^{n-1} {H(w_t; \\hat{\\theta}}) = \\frac{\\partial^2 Q_n(\\hat{\\theta})}{\\partial \\theta \\partial \\theta'}$$\n",
    "\n",
    "$$\\hat{\\Sigma} = \\frac{1}{n} \\sum_{t=1}^{n-1} {\\frac{\\partial \\lg\\: f\\left(x_{t+1}\\mid x_{t};\\hat{\\theta}\\right) }{\\partial \\theta} \\, \\frac{\\partial \\lg\\: f\\left(x_{t+1}\\mid x_{t};\\hat{\\theta}\\right) }{\\partial \\theta}' }$$"
   ]
  },
  {
   "cell_type": "code",
   "execution_count": 24,
   "metadata": {
    "collapsed": false
   },
   "outputs": [
    {
     "ename": "LoadError",
     "evalue": "UndefVarError: ForwardDiff not defined",
     "output_type": "error",
     "traceback": [
      "UndefVarError: ForwardDiff not defined",
      ""
     ]
    }
   ],
   "source": [
    "Hhat = ForwardDiff.hessian(Qn,thetahat)"
   ]
  },
  {
   "cell_type": "code",
   "execution_count": 25,
   "metadata": {
    "collapsed": false
   },
   "outputs": [
    {
     "data": {
      "text/plain": [
       "Sigmahat (generic function with 1 method)"
      ]
     },
     "execution_count": 25,
     "metadata": {},
     "output_type": "execute_result"
    }
   ],
   "source": [
    "function Sigmahat(w,theta) \n",
    "    i = 2\n",
    "    result = ForwardDiff.gradient(theta -> m(w[i,:],w[i-1,:],theta), thetahat)*\n",
    "            ForwardDiff.gradient(theta -> m(w[i,:],w[i-1,:],theta), thetahat)'\n",
    "    \n",
    "    for i in 3:size(w)[1]\n",
    "        result .+= ForwardDiff.gradient(theta -> m(w[i,:],w[i-1,:],theta), thetahat)*\n",
    "            ForwardDiff.gradient(theta -> m(w[i,:],w[i-1,:],theta), thetahat)'\n",
    "    end\n",
    "    return result/size(w)[1]\n",
    "end"
   ]
  },
  {
   "cell_type": "code",
   "execution_count": 26,
   "metadata": {
    "collapsed": false
   },
   "outputs": [
    {
     "ename": "LoadError",
     "evalue": "UndefVarError: w not defined",
     "output_type": "error",
     "traceback": [
      "UndefVarError: w not defined",
      ""
     ]
    }
   ],
   "source": [
    "Shat = Sigmahat(w,thetahat);"
   ]
  },
  {
   "cell_type": "code",
   "execution_count": 27,
   "metadata": {
    "collapsed": false,
    "scrolled": true
   },
   "outputs": [
    {
     "ename": "LoadError",
     "evalue": "UndefVarError: Hhat not defined",
     "output_type": "error",
     "traceback": [
      "UndefVarError: Hhat not defined",
      ""
     ]
    }
   ],
   "source": [
    "aVar = inv(Hhat)*Shat*inv(Hhat)"
   ]
  },
  {
   "cell_type": "markdown",
   "metadata": {},
   "source": [
    "Now the estimated confidece intervals for $\\delta$ and $\\gamma$:"
   ]
  },
  {
   "cell_type": "code",
   "execution_count": 28,
   "metadata": {
    "collapsed": false
   },
   "outputs": [
    {
     "ename": "LoadError",
     "evalue": "UndefVarError: thetahat not defined",
     "output_type": "error",
     "traceback": [
      "UndefVarError: thetahat not defined",
      ""
     ]
    }
   ],
   "source": [
    "thetahat[1] .+ sqrt(aVar[1,1]) * [-1.96, 1.96]"
   ]
  },
  {
   "cell_type": "code",
   "execution_count": 29,
   "metadata": {
    "collapsed": false
   },
   "outputs": [
    {
     "ename": "LoadError",
     "evalue": "UndefVarError: thetahat not defined",
     "output_type": "error",
     "traceback": [
      "UndefVarError: thetahat not defined",
      ""
     ]
    }
   ],
   "source": [
    "thetahat[2] .+ sqrt(aVar[2,2]) * [-1.96, 1.96]"
   ]
  },
  {
   "cell_type": "markdown",
   "metadata": {},
   "source": [
    "c.\n",
    "--\n",
    "The estimates are less believable in part 2. A $\\delta>0$ means that consumers have a negative subjective discount rate and a $\\gamma<1$ is also not plausible. But I believe this is because the normality assumption is particularily unwarranted and the linerization of the model leads to certainty equivalence."
   ]
  },
  {
   "cell_type": "code",
   "execution_count": null,
   "metadata": {
    "collapsed": true
   },
   "outputs": [],
   "source": []
  }
 ],
 "metadata": {
  "anaconda-cloud": {},
  "kernelspec": {
   "display_name": "Julia 0.5.0",
   "language": "julia",
   "name": "julia-0.5"
  },
  "language_info": {
   "file_extension": ".jl",
   "mimetype": "application/julia",
   "name": "julia",
   "version": "0.5.0"
  }
 },
 "nbformat": 4,
 "nbformat_minor": 0
}
