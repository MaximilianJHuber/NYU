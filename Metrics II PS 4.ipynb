{
 "cells": [
  {
   "cell_type": "markdown",
   "metadata": {},
   "source": [
    "Question 2\n",
    "=="
   ]
  },
  {
   "cell_type": "code",
   "execution_count": 1,
   "metadata": {
    "collapsed": false,
    "scrolled": true
   },
   "outputs": [],
   "source": [
    "using Optim\n",
    "using DataFrames\n",
    "using ForwardDiff\n",
    "using Roots\n",
    "using Distributions"
   ]
  },
  {
   "cell_type": "code",
   "execution_count": 2,
   "metadata": {
    "collapsed": false
   },
   "outputs": [],
   "source": [
    "data = convert(Matrix,readtable(\"hsdata.csv\"));\n",
    "dataexp = exp(data);"
   ]
  },
  {
   "cell_type": "code",
   "execution_count": 3,
   "metadata": {
    "collapsed": false
   },
   "outputs": [
    {
     "data": {
      "text/plain": [
       "gn_wrapper (generic function with 1 method)"
      ]
     },
     "execution_count": 3,
     "metadata": {},
     "output_type": "execute_result"
    }
   ],
   "source": [
    "#operates on single observations!\n",
    "function g(w,z,theta) \n",
    "    return (theta[1] * w[1]^(-theta[2]) * w[2] - 1) .* collect(z[:])\n",
    "end\n",
    "\n",
    "#operates on data set!\n",
    "function gn(w,z,theta)\n",
    "    i = 1\n",
    "    result = g(w[i,:],z[i,:],theta)\n",
    "    \n",
    "    for i in 2:size(w)[1]\n",
    "        result .+= g(w[i,:],z[i,:],theta)\n",
    "    end\n",
    "    return result/size(w)[1]\n",
    "end\n",
    "\n",
    "#Wrapper creates a closure around the data set provided\n",
    "function Qn_wrapper(w,z)\n",
    "    return theta -> 1/2*(gn(w,z,theta)'*gn(w,z,theta))[1,1]\n",
    "end\n",
    "\n",
    "function Qn_wrapper(w,z,What)\n",
    "    return theta -> 1/2*(gn(w,z,theta)'*What*gn(w,z,theta))[1,1]\n",
    "end\n",
    "\n",
    "#Calculates What\n",
    "function What(w,z,theta) \n",
    "    result = zeros(Float64, size(z)[2], size(z)[2])\n",
    "    for i in 1:size(w)[1]\n",
    "        result .+= g(w[i,:],z[i,:],theta)*g(w[i,:],z[i,:],theta)'\n",
    "    end\n",
    "    return inv(result/size(z)[1])\n",
    "end\n",
    "\n",
    "#creates a closure around the data set\n",
    "function gn_wrapper(w,z)\n",
    "    return theta -> gn(w,z,theta)\n",
    "end"
   ]
  },
  {
   "cell_type": "code",
   "execution_count": 4,
   "metadata": {
    "collapsed": false
   },
   "outputs": [],
   "source": [
    "#w = dataexp[2:end,[2,4]]\n",
    "#z = hcat(ones(size(dataexp)[1]-1), dataexp[1:end-1,4], 1 .+ data[1:end-1,2])\n",
    "w = convert(SharedArray{Float64},dataexp[2:end,[2,4]])\n",
    "z = convert(SharedArray{Float64},hcat(ones(size(dataexp)[1]-1), dataexp[1:end-1,4], 1 .+ data[1:end-1,2]));\n",
    "n = size(w)[1]\n",
    "\n",
    "Qn = Qn_wrapper(w,z)\n",
    "optres = optimize(Qn, [1., 4.], BFGS(), Optim.OptimizationOptions(g_tol=1e-12, autodiff=true));"
   ]
  },
  {
   "cell_type": "code",
   "execution_count": 5,
   "metadata": {
    "collapsed": false
   },
   "outputs": [],
   "source": [
    "θhat = optres.minimum\n",
    "WhatA = What(w,z,θhat);"
   ]
  },
  {
   "cell_type": "code",
   "execution_count": 6,
   "metadata": {
    "collapsed": false
   },
   "outputs": [
    {
     "data": {
      "text/plain": [
       "2-element Array{Float64,1}:\n",
       " 0.978529\n",
       " 3.386   "
      ]
     },
     "execution_count": 6,
     "metadata": {},
     "output_type": "execute_result"
    }
   ],
   "source": [
    "QnWhatA = Qn_wrapper(w,z,WhatA)\n",
    "optresB = optimize(QnWhatA, θhat, BFGS(), Optim.OptimizationOptions(g_tol=1e-12, autodiff=true))\n",
    "θhat = optresB.minimum"
   ]
  },
  {
   "cell_type": "code",
   "execution_count": 7,
   "metadata": {
    "collapsed": false
   },
   "outputs": [
    {
     "data": {
      "text/plain": [
       "2×2 Array{Float64,2}:\n",
       " 0.10586    5.40968\n",
       " 5.40968  321.828  "
      ]
     },
     "execution_count": 7,
     "metadata": {},
     "output_type": "execute_result"
    }
   ],
   "source": [
    "dgn(theta) = ForwardDiff.jacobian(gn_wrapper(w,z),theta)\n",
    "GhatB = convert(Array{Float64,2},dgn(θhat))\n",
    "aVar = inv(GhatB'*What(w,z,θhat)*GhatB)"
   ]
  },
  {
   "cell_type": "markdown",
   "metadata": {},
   "source": [
    "a\n",
    "--\n",
    "The Wald-test ist:"
   ]
  },
  {
   "cell_type": "code",
   "execution_count": 8,
   "metadata": {
    "collapsed": false
   },
   "outputs": [
    {
     "data": {
      "text/plain": [
       "0.3137423217331219"
      ]
     },
     "execution_count": 8,
     "metadata": {},
     "output_type": "execute_result"
    }
   ],
   "source": [
    "a(theta) = [theta[1]-0.99, theta[2]-4]\n",
    "A(theta) = ForwardDiff.jacobian(a, theta)\n",
    "ξW = n*(a(θhat)'*inv(A(θhat)*aVar*A(θhat)')*a(θhat))[1,1]"
   ]
  },
  {
   "cell_type": "code",
   "execution_count": 9,
   "metadata": {
    "collapsed": false,
    "scrolled": true
   },
   "outputs": [
    {
     "data": {
      "text/plain": [
       "0.8548141852421143"
      ]
     },
     "execution_count": 9,
     "metadata": {},
     "output_type": "execute_result"
    }
   ],
   "source": [
    "1-cdf(Chisq(2), ξW)"
   ]
  },
  {
   "cell_type": "markdown",
   "metadata": {},
   "source": [
    "The LM-test is:"
   ]
  },
  {
   "cell_type": "code",
   "execution_count": 10,
   "metadata": {
    "collapsed": false
   },
   "outputs": [
    {
     "data": {
      "text/plain": [
       "0.22557851779285745"
      ]
     },
     "execution_count": 10,
     "metadata": {},
     "output_type": "execute_result"
    }
   ],
   "source": [
    "ξLM = (n*ForwardDiff.gradient(QnWhatA,[0.99, 4])'*(aVar)*ForwardDiff.gradient(QnWhatA,[0.99, 4]))[1,1]"
   ]
  },
  {
   "cell_type": "code",
   "execution_count": 11,
   "metadata": {
    "collapsed": false
   },
   "outputs": [
    {
     "data": {
      "text/plain": [
       "0.893338903506397"
      ]
     },
     "execution_count": 11,
     "metadata": {},
     "output_type": "execute_result"
    }
   ],
   "source": [
    "1-cdf(Chisq(2), ξLM)"
   ]
  },
  {
   "cell_type": "markdown",
   "metadata": {},
   "source": [
    "The QLR-test is:"
   ]
  },
  {
   "cell_type": "code",
   "execution_count": 12,
   "metadata": {
    "collapsed": false
   },
   "outputs": [
    {
     "data": {
      "text/plain": [
       "0.2631771655274612"
      ]
     },
     "execution_count": 12,
     "metadata": {},
     "output_type": "execute_result"
    }
   ],
   "source": [
    "ξQLR = 2*n*(- QnWhatA(θhat) + QnWhatA([0.99, 4]))"
   ]
  },
  {
   "cell_type": "code",
   "execution_count": 13,
   "metadata": {
    "collapsed": false
   },
   "outputs": [
    {
     "data": {
      "text/plain": [
       "0.876701611046324"
      ]
     },
     "execution_count": 13,
     "metadata": {},
     "output_type": "execute_result"
    }
   ],
   "source": [
    "1-cdf(Chisq(2), ξQLR)"
   ]
  },
  {
   "cell_type": "markdown",
   "metadata": {},
   "source": [
    "b\n",
    "--\n",
    "The Wald-test ist:"
   ]
  },
  {
   "cell_type": "code",
   "execution_count": 14,
   "metadata": {
    "collapsed": false
   },
   "outputs": [
    {
     "name": "stderr",
     "output_type": "stream",
     "text": [
      "WARNING: Method definition a(Any) in module Main at In[8]:1 overwritten at In[14]:1.\n"
     ]
    },
    {
     "data": {
      "text/plain": [
       "0.3094975163248656"
      ]
     },
     "execution_count": 14,
     "metadata": {},
     "output_type": "execute_result"
    }
   ],
   "source": [
    "a(theta) = theta[1]-0.99\n",
    "ξW = n*(a(θhat)'*inv(aVar[1,1])*a(θhat))[1,1]"
   ]
  },
  {
   "cell_type": "code",
   "execution_count": 15,
   "metadata": {
    "collapsed": false
   },
   "outputs": [
    {
     "data": {
      "text/plain": [
       "0.8566303718383055"
      ]
     },
     "execution_count": 15,
     "metadata": {},
     "output_type": "execute_result"
    }
   ],
   "source": [
    "1-cdf(Chisq(2), ξW)"
   ]
  },
  {
   "cell_type": "markdown",
   "metadata": {},
   "source": [
    "The LM-test is:"
   ]
  },
  {
   "cell_type": "code",
   "execution_count": 16,
   "metadata": {
    "collapsed": false
   },
   "outputs": [
    {
     "data": {
      "text/plain": [
       "0.2204654210213198"
      ]
     },
     "execution_count": 16,
     "metadata": {},
     "output_type": "execute_result"
    }
   ],
   "source": [
    "gammaRes = optimize(gamma -> QnWhatA([0.99, gamma]), 2,6).minimum\n",
    "ξLM = (n*ForwardDiff.gradient(QnWhatA,[0.99, gammaRes])'*(aVar)*ForwardDiff.gradient(QnWhatA,[0.99, gammaRes]))[1,1]"
   ]
  },
  {
   "cell_type": "code",
   "execution_count": 17,
   "metadata": {
    "collapsed": false
   },
   "outputs": [
    {
     "data": {
      "text/plain": [
       "0.8956256895321376"
      ]
     },
     "execution_count": 17,
     "metadata": {},
     "output_type": "execute_result"
    }
   ],
   "source": [
    "1-cdf(Chisq(2), ξLM)"
   ]
  },
  {
   "cell_type": "markdown",
   "metadata": {},
   "source": [
    "The QLR-test is:"
   ]
  },
  {
   "cell_type": "code",
   "execution_count": 18,
   "metadata": {
    "collapsed": false
   },
   "outputs": [
    {
     "data": {
      "text/plain": [
       "0.25775040434650043"
      ]
     },
     "execution_count": 18,
     "metadata": {},
     "output_type": "execute_result"
    }
   ],
   "source": [
    "ξQLR = 2*n*(- QnWhatA(θhat) + QnWhatA([0.99, gammaRes]))"
   ]
  },
  {
   "cell_type": "code",
   "execution_count": 19,
   "metadata": {
    "collapsed": false
   },
   "outputs": [
    {
     "data": {
      "text/plain": [
       "0.8790836664313266"
      ]
     },
     "execution_count": 19,
     "metadata": {},
     "output_type": "execute_result"
    }
   ],
   "source": [
    "1-cdf(Chisq(2), ξQLR)"
   ]
  },
  {
   "cell_type": "markdown",
   "metadata": {
    "collapsed": true
   },
   "source": [
    "Question 3\n",
    "==\n",
    "a\n",
    "--\n",
    "I fixed my wrong sample correction from PS3:"
   ]
  },
  {
   "cell_type": "code",
   "execution_count": 20,
   "metadata": {
    "collapsed": false,
    "scrolled": true
   },
   "outputs": [
    {
     "data": {
      "text/plain": [
       "2-element Array{Float64,1}:\n",
       " 0.978529\n",
       " 3.386   "
      ]
     },
     "execution_count": 20,
     "metadata": {},
     "output_type": "execute_result"
    }
   ],
   "source": [
    "θhat"
   ]
  },
  {
   "cell_type": "code",
   "execution_count": 21,
   "metadata": {
    "collapsed": false
   },
   "outputs": [
    {
     "data": {
      "text/plain": [
       "2-element Array{Float64,1}:\n",
       " 0.938116\n",
       " 1.01894 "
      ]
     },
     "execution_count": 21,
     "metadata": {},
     "output_type": "execute_result"
    }
   ],
   "source": [
    "θhat[1] .+ sqrt(aVar[1,1]/n) * [-1.96, 1.96]"
   ]
  },
  {
   "cell_type": "code",
   "execution_count": 22,
   "metadata": {
    "collapsed": false
   },
   "outputs": [
    {
     "data": {
      "text/plain": [
       "2-element Array{Float64,1}:\n",
       " 1.15773\n",
       " 5.61427"
      ]
     },
     "execution_count": 22,
     "metadata": {},
     "output_type": "execute_result"
    }
   ],
   "source": [
    "θhat[2] .+ sqrt(aVar[2,2]/n) * [-1.96, 1.96]"
   ]
  },
  {
   "cell_type": "markdown",
   "metadata": {},
   "source": [
    "b\n",
    "--"
   ]
  },
  {
   "cell_type": "code",
   "execution_count": 23,
   "metadata": {
    "collapsed": false
   },
   "outputs": [
    {
     "data": {
      "text/plain": [
       "Qn_wrapper_star (generic function with 2 methods)"
      ]
     },
     "execution_count": 23,
     "metadata": {},
     "output_type": "execute_result"
    }
   ],
   "source": [
    "#all functions from above are adapted to include the re-centering:\n",
    "@inline function g_star(w,z,theta, g_center) \n",
    "    return (theta[1] * w[1]^(-theta[2]) * w[2] - 1) .* z[:] - g_center\n",
    "end\n",
    "\n",
    "function gn_star(w,z,theta, g_center)    \n",
    "    1/size(w)[1]*(sum((theta[1] * w[:,1] .^(-theta[2]) .* w[:,2] - 1) .* z, 1))[1,:] - g_center\n",
    "end\n",
    "\n",
    "function gn_wrapper_star(w,z,g_center)\n",
    "    return theta -> gn_star(w,z,theta,g_center)\n",
    "end\n",
    "\n",
    "function What_star(w,z,theta, g_center) \n",
    "    result = zeros(Float64, size(z)[2], size(z)[2])\n",
    "    for i in 1:size(w)[1]\n",
    "        result .+= g_star(w[i,:],z[i,:],theta,g_center)*g_star(w[i,:],z[i,:],theta,g_center)'\n",
    "    end\n",
    "    return inv(result/size(z)[1])\n",
    "end\n",
    "\n",
    "function Qn_wrapper_star(w, z, g_center)\n",
    "    return function f(theta) \n",
    "        v = gn_star(w,z,theta,g_center)\n",
    "        return 1/2*(v'*v)[1,1]\n",
    "    end\n",
    "end\n",
    "\n",
    "function Qn_wrapper_star(w, z, What, g_center)\n",
    "    return function f(theta) \n",
    "        v = gn_star(w,z,theta,g_center)\n",
    "        return 1/2*(v'*What*v)[1,1]\n",
    "    end\n",
    "end\n",
    "\n"
   ]
  },
  {
   "cell_type": "code",
   "execution_count": 24,
   "metadata": {
    "collapsed": false,
    "scrolled": false
   },
   "outputs": [
    {
     "data": {
      "text/plain": [
       "z_star (generic function with 3 methods)"
      ]
     },
     "execution_count": 24,
     "metadata": {},
     "output_type": "execute_result"
    }
   ],
   "source": [
    "#draws from block bootstrap, calculates θ, aVar and returns t-statistics\n",
    "function bootstrap_draw(w,z,θhat,length=5)\n",
    "    n = size(w)[1] #number of rows\n",
    "    no_blocks = ceil(Integer,n/length) #number of blocks in the original data\n",
    "    sel_blocks = ceil(Integer,rand(Uniform(),50)*no_blocks) #randomly selected blocks\n",
    "    \n",
    "    #prepare new matrices:\n",
    "    i = 1\n",
    "    w_perm = w[length*(sel_blocks[i]-1)+1:min(n,length*sel_blocks[i]),:]\n",
    "    z_perm = z[length*(sel_blocks[i]-1)+1:min(n,length*sel_blocks[i]),:]\n",
    "    \n",
    "    for i in 2:50\n",
    "        w_perm = vcat(w_perm, w[length*(sel_blocks[i]-1)+1:min(n,length*sel_blocks[i]),:])\n",
    "        z_perm = vcat(z_perm, z[length*(sel_blocks[i]-1)+1:min(n,length*sel_blocks[i]),:])\n",
    "    end\n",
    "    \n",
    "    n = size(w_perm)[1]\n",
    "    \n",
    "    #GMM\n",
    "    \n",
    "        g_center = gn(w, z, θhat) #g_center is calculated from the original data set\n",
    "        Qn = Qn_wrapper_star(w_perm, z_perm, g_center)\n",
    "        θfirst = optimize(Qn, θhat, BFGS(), Optim.OptimizationOptions(g_tol=1e-15, autodiff=true)).minimum\n",
    "        Whatfirst = What_star(w_perm, z_perm, θfirst, g_center)\n",
    "        \n",
    "        Qnsecond = Qn_wrapper_star(w_perm, z_perm, Whatfirst, g_center) \n",
    "        θsecond = optimize(Qnsecond, θfirst, BFGS(), Optim.OptimizationOptions(g_tol=1e-15, autodiff=true)).minimum\n",
    "        \n",
    "        #aVar\n",
    "        dgn_star(theta) = ForwardDiff.jacobian(gn_wrapper_star(w_perm,z_perm, g_center),theta)\n",
    "        G = convert(Array{Float64,2},dgn_star(θsecond))\n",
    "        aVar = inv(G'*What_star(w_perm,z_perm,θsecond, g_center)*G)\n",
    "    \n",
    "        tδ = (θsecond[1]-θhat[1])/sqrt(aVar[1,1]/n)\n",
    "        tγ = (θsecond[2]-θhat[2])/sqrt(aVar[2,2]/n)\n",
    "\n",
    "    return [tδ tγ]\n",
    "end\n",
    "\n",
    "#iterates the above function and calculates z_star\n",
    "function z_star(w, z, B=100, length=5)\n",
    "    \n",
    "    i = 1\n",
    "    boot_dist = bootstrap_draw(w,z,θhat,length)\n",
    "    \n",
    "    while size(boot_dist)[1]<B \n",
    "        try\n",
    "            boot_dist = vcat(boot_dist, bootstrap_draw(w,z,θhat,length))\n",
    "            catch y\n",
    "        end\n",
    "    end\n",
    "    \n",
    "    return [percentile(abs(boot_dist[:,1]),100-5), percentile(abs(boot_dist[:,2]),100-5)]\n",
    "end"
   ]
  },
  {
   "cell_type": "code",
   "execution_count": 25,
   "metadata": {
    "collapsed": false
   },
   "outputs": [
    {
     "name": "stdout",
     "output_type": "stream",
     "text": [
      "417.871041 seconds (223.97 M allocations: 10.679 GB, 1.24% gc time)\n"
     ]
    },
    {
     "data": {
      "text/plain": [
       "2-element Array{Float64,1}:\n",
       " 1.96021\n",
       " 1.98819"
      ]
     },
     "execution_count": 25,
     "metadata": {},
     "output_type": "execute_result"
    }
   ],
   "source": [
    "@time zstar_boot5 = z_star(w, z, 1000, 5)"
   ]
  },
  {
   "cell_type": "code",
   "execution_count": 26,
   "metadata": {
    "collapsed": false
   },
   "outputs": [
    {
     "data": {
      "text/plain": [
       "2-element Array{Float64,1}:\n",
       " 0.938112\n",
       " 1.01895 "
      ]
     },
     "execution_count": 26,
     "metadata": {},
     "output_type": "execute_result"
    }
   ],
   "source": [
    "θhat[1] + sqrt(aVar[1,1]/n) * [-zstar_boot5[1], zstar_boot5[1]]"
   ]
  },
  {
   "cell_type": "code",
   "execution_count": 27,
   "metadata": {
    "collapsed": false
   },
   "outputs": [
    {
     "data": {
      "text/plain": [
       "2-element Array{Float64,1}:\n",
       " 1.12568\n",
       " 5.64632"
      ]
     },
     "execution_count": 27,
     "metadata": {},
     "output_type": "execute_result"
    }
   ],
   "source": [
    "θhat[2] + sqrt(aVar[2,2]/n) * [-zstar_boot5[2], zstar_boot5[2]]"
   ]
  },
  {
   "cell_type": "markdown",
   "metadata": {},
   "source": [
    "c\n",
    "--\n",
    "For a block length of 2:"
   ]
  },
  {
   "cell_type": "code",
   "execution_count": 28,
   "metadata": {
    "collapsed": false
   },
   "outputs": [
    {
     "data": {
      "text/plain": [
       "2-element Array{Float64,1}:\n",
       " 1.75665\n",
       " 1.67427"
      ]
     },
     "execution_count": 28,
     "metadata": {},
     "output_type": "execute_result"
    }
   ],
   "source": [
    "zstar_boot2 = z_star(w, z, 1000, 2)"
   ]
  },
  {
   "cell_type": "code",
   "execution_count": 29,
   "metadata": {
    "collapsed": false
   },
   "outputs": [
    {
     "data": {
      "text/plain": [
       "2-element Array{Float64,1}:\n",
       " 0.942309\n",
       " 1.01475 "
      ]
     },
     "execution_count": 29,
     "metadata": {},
     "output_type": "execute_result"
    }
   ],
   "source": [
    "θhat[1] + sqrt(aVar[1,1]/n) * [-zstar_boot2[1], zstar_boot2[1]]"
   ]
  },
  {
   "cell_type": "code",
   "execution_count": 30,
   "metadata": {
    "collapsed": false
   },
   "outputs": [
    {
     "data": {
      "text/plain": [
       "2-element Array{Float64,1}:\n",
       " 1.48257\n",
       " 5.64632"
      ]
     },
     "execution_count": 30,
     "metadata": {},
     "output_type": "execute_result"
    }
   ],
   "source": [
    "θhat[2] + sqrt(aVar[2,2]/n) * [-zstar_boot2[2], zstar_boot5[2]]"
   ]
  },
  {
   "cell_type": "markdown",
   "metadata": {},
   "source": [
    "For a block length of 10:"
   ]
  },
  {
   "cell_type": "code",
   "execution_count": 31,
   "metadata": {
    "collapsed": false
   },
   "outputs": [
    {
     "data": {
      "text/plain": [
       "2-element Array{Float64,1}:\n",
       " 1.82353\n",
       " 1.75656"
      ]
     },
     "execution_count": 31,
     "metadata": {},
     "output_type": "execute_result"
    }
   ],
   "source": [
    "zstar_boot10 = z_star(w, z, 1000, 2)"
   ]
  },
  {
   "cell_type": "code",
   "execution_count": 32,
   "metadata": {
    "collapsed": false
   },
   "outputs": [
    {
     "data": {
      "text/plain": [
       "2-element Array{Float64,1}:\n",
       " 0.94093\n",
       " 1.01613"
      ]
     },
     "execution_count": 32,
     "metadata": {},
     "output_type": "execute_result"
    }
   ],
   "source": [
    "θhat[1] + sqrt(aVar[1,1]/n) * [-zstar_boot10[1], zstar_boot10[1]]"
   ]
  },
  {
   "cell_type": "code",
   "execution_count": 33,
   "metadata": {
    "collapsed": false
   },
   "outputs": [
    {
     "data": {
      "text/plain": [
       "2-element Array{Float64,1}:\n",
       " 1.38902\n",
       " 5.38298"
      ]
     },
     "execution_count": 33,
     "metadata": {},
     "output_type": "execute_result"
    }
   ],
   "source": [
    "θhat[2] + sqrt(aVar[2,2]/n) * [-zstar_boot10[2], zstar_boot10[2]]"
   ]
  },
  {
   "cell_type": "markdown",
   "metadata": {
    "collapsed": true
   },
   "source": [
    "d\n",
    "--\n",
    "I report $\\delta$ and $\\gamma$ in columns:"
   ]
  },
  {
   "cell_type": "code",
   "execution_count": 34,
   "metadata": {
    "collapsed": false
   },
   "outputs": [
    {
     "data": {
      "text/plain": [
       "3-element Array{Array{Float64,1},1}:\n",
       " [1.75665,1.67427]\n",
       " [1.96021,1.98819]\n",
       " [1.82353,1.75656]"
      ]
     },
     "execution_count": 34,
     "metadata": {},
     "output_type": "execute_result"
    }
   ],
   "source": [
    "[zstar_boot2, zstar_boot5, zstar_boot10]"
   ]
  },
  {
   "cell_type": "code",
   "execution_count": null,
   "metadata": {
    "collapsed": true
   },
   "outputs": [],
   "source": []
  }
 ],
 "metadata": {
  "anaconda-cloud": {},
  "kernelspec": {
   "display_name": "Julia 0.5.1",
   "language": "julia",
   "name": "julia-0.5"
  },
  "language_info": {
   "file_extension": ".jl",
   "mimetype": "application/julia",
   "name": "julia",
   "version": "0.5.1"
  }
 },
 "nbformat": 4,
 "nbformat_minor": 0
}
