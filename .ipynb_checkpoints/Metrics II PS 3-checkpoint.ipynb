{
 "cells": [
  {
   "cell_type": "markdown",
   "metadata": {},
   "source": [
    "You can find this code on my GitHub account: https://github.com/MaximilianJHuber/NYU\n",
    "1.\n",
    "==\n",
    "a.\n",
    "--"
   ]
  },
  {
   "cell_type": "code",
   "execution_count": 1,
   "metadata": {
    "collapsed": false,
    "scrolled": true
   },
   "outputs": [],
   "source": [
    "using Optim\n",
    "using DataFrames\n",
    "using ForwardDiff\n",
    "using Roots\n",
    "using Distributions"
   ]
  },
  {
   "cell_type": "code",
   "execution_count": 2,
   "metadata": {
    "collapsed": false
   },
   "outputs": [],
   "source": [
    "data = convert(Matrix,readtable(\"hsdata.csv\"));\n",
    "dataexp = exp(data);"
   ]
  },
  {
   "cell_type": "code",
   "execution_count": 3,
   "metadata": {
    "collapsed": false
   },
   "outputs": [
    {
     "data": {
      "text/plain": [
       "Qn_wrapper (generic function with 1 method)"
      ]
     },
     "execution_count": 3,
     "metadata": {},
     "output_type": "execute_result"
    }
   ],
   "source": [
    "#operates on single observations!\n",
    "function g(w,z,theta) \n",
    "    return (theta[1] * w[1]^(-theta[2]) * w[2] - 1) .* collect(z[:])\n",
    "end\n",
    "\n",
    "#operates on data set!\n",
    "function gn(w,z,theta)\n",
    "    i = 1\n",
    "    result = g(w[i,:],z[i,:],theta)\n",
    "    \n",
    "    for i in 2:size(w)[1]\n",
    "        result .+= g(w[i,:],z[i,:],theta)\n",
    "    end\n",
    "    return result/size(w)[1]\n",
    "end\n",
    "\n",
    "#Wrapper creates a closure around the data set provided\n",
    "function Qn_wrapper(w,z)\n",
    "    return theta -> 1/2*(gn(w,z,theta)'*gn(w,z,theta))[1,1]\n",
    "end"
   ]
  },
  {
   "cell_type": "code",
   "execution_count": 4,
   "metadata": {
    "collapsed": false
   },
   "outputs": [
    {
     "data": {
      "text/plain": [
       "Results of Optimization Algorithm\n",
       " * Algorithm: BFGS\n",
       " * Starting Point: [1.0,4.0]\n",
       " * Minimizer: [0.9949535485769525,4.439870328581574]\n",
       " * Minimum: 1.811863e-08\n",
       " * Iterations: 10\n",
       " * Convergence: true\n",
       "   * |x - x'| < 1.0e-32: false\n",
       "   * |f(x) - f(x')| / |f(x)| < 1.0e-32: false\n",
       "   * |g(x)| < 1.0e-12: true\n",
       "   * Reached Maximum Number of Iterations: false\n",
       " * Objective Function Calls: 53\n",
       " * Gradient Calls: 53"
      ]
     },
     "execution_count": 4,
     "metadata": {},
     "output_type": "execute_result"
    }
   ],
   "source": [
    "w = dataexp[2:end,[2,4]]\n",
    "z = hcat(ones(size(dataexp)[1]-1), dataexp[1:end-1,4], 1 .+ data[1:end-1,2])\n",
    "\n",
    "Qn = Qn_wrapper(w,z)\n",
    "optres = optimize(Qn, [1., 4.], BFGS(), Optim.OptimizationOptions(g_tol=1e-12, autodiff=true))"
   ]
  },
  {
   "cell_type": "markdown",
   "metadata": {},
   "source": [
    "So $\\theta_A = (0.995,4.4399)$.\n",
    "\n",
    "b.\n",
    "--\n",
    "I define:\n",
    "$$\\hat{W}_A=\\left(\\frac{1}{n} \\sum_{t=1}^n{g(w_t,\\theta_A)g(w_t,\\theta_A)'}\\right)^{-1}$$\n",
    "as in equation (3.5)."
   ]
  },
  {
   "cell_type": "code",
   "execution_count": 5,
   "metadata": {
    "collapsed": false
   },
   "outputs": [
    {
     "data": {
      "text/plain": [
       "3×3 Array{Float64,2}:\n",
       "  54729.1    3945.03  -57729.5\n",
       "   3945.03   2427.59   -6456.5\n",
       " -57729.5   -6456.5    63401.5"
      ]
     },
     "execution_count": 5,
     "metadata": {},
     "output_type": "execute_result"
    }
   ],
   "source": [
    "thetaA = optres.minimum\n",
    "\n",
    "function What(w,z,theta) \n",
    "    result = zeros(Float64, size(z)[2], size(z)[2])\n",
    "    for i in 1:size(w)[1]\n",
    "        result .+= g(w[i,:],z[i,:],theta)*g(w[i,:],z[i,:],theta)'\n",
    "    end\n",
    "    return inv(result/size(z)[1])\n",
    "end\n",
    "\n",
    "WhatA = What(w,z,thetaA) "
   ]
  },
  {
   "cell_type": "code",
   "execution_count": 6,
   "metadata": {
    "collapsed": false
   },
   "outputs": [
    {
     "data": {
      "text/plain": [
       "Results of Optimization Algorithm\n",
       " * Algorithm: BFGS\n",
       " * Starting Point: [0.9949535485769525,4.439870328581574]\n",
       " * Minimizer: [0.97852918332263,3.386000838445892]\n",
       " * Minimum: 3.513570e-04\n",
       " * Iterations: 8\n",
       " * Convergence: true\n",
       "   * |x - x'| < 1.0e-32: false\n",
       "   * |f(x) - f(x')| / |f(x)| < 1.0e-32: true\n",
       "   * |g(x)| < 1.0e-12: true\n",
       "   * Reached Maximum Number of Iterations: false\n",
       " * Objective Function Calls: 37\n",
       " * Gradient Calls: 37"
      ]
     },
     "execution_count": 6,
     "metadata": {},
     "output_type": "execute_result"
    }
   ],
   "source": [
    "function Qn_wrapper(w,z,What)\n",
    "    return theta -> 1/2*(gn(w,z,theta)'*What*gn(w,z,theta))[1,1]\n",
    "end\n",
    "\n",
    "QnWhatA = Qn_wrapper(w,z,WhatA)\n",
    "optresB = optimize(QnWhatA, thetaA, BFGS(), Optim.OptimizationOptions(g_tol=1e-12))"
   ]
  },
  {
   "cell_type": "markdown",
   "metadata": {},
   "source": [
    "So $\\theta_B = (0.9785,3.3860)$.\n",
    "\n",
    "c.\n",
    "--\n",
    "\n",
    "I need an estimate for the asymptotic variance $\\left(G'S^{-1}G\\right)^{-1}$:\n",
    "\n",
    "$$\\hat{G} = \\frac{1}{n} \\sum_{t=1}^n{\\frac{\\partial g(w_t,\\theta_B)}{\\partial \\theta}} = \\frac{\\partial \\frac{1}{n} \\sum_{t=1}^n{g(w_t,\\theta_B)}}{\\partial \\theta} = \\frac{\\partial gn(\\theta_B)}{\\partial \\theta}$$ and \n",
    "$$\\hat{S} = \\hat{W}_B^{-1}$$\n",
    "\n",
    "I use automatic differentiation (rather than numeric differentiation) for all calculations (see, http://www.juliadiff.org/)."
   ]
  },
  {
   "cell_type": "code",
   "execution_count": 7,
   "metadata": {
    "collapsed": false
   },
   "outputs": [
    {
     "data": {
      "text/plain": [
       "3×2 Array{Float64,2}:\n",
       " 1.02203  -0.0165615\n",
       " 1.10959  -0.0174242\n",
       " 1.03983  -0.0166105"
      ]
     },
     "execution_count": 7,
     "metadata": {},
     "output_type": "execute_result"
    }
   ],
   "source": [
    "thetaB = optresB.minimum\n",
    "\n",
    "#creats a closure around the data set\n",
    "function gn_wrapper(w,z)\n",
    "    return theta -> gn(w,z,theta)\n",
    "end\n",
    "\n",
    "dgn(theta) = ForwardDiff.jacobian(gn_wrapper(w,z),theta)\n",
    "\n",
    "GhatB = convert(Array{Float64,2},dgn(thetaB))"
   ]
  },
  {
   "cell_type": "code",
   "execution_count": 8,
   "metadata": {
    "collapsed": false,
    "scrolled": true
   },
   "outputs": [
    {
     "data": {
      "text/plain": [
       "2×2 Array{Float64,2}:\n",
       " 0.10586    5.40968\n",
       " 5.40968  321.828  "
      ]
     },
     "execution_count": 8,
     "metadata": {},
     "output_type": "execute_result"
    }
   ],
   "source": [
    "aVar = inv(GhatB'*What(w,z,thetaB)*GhatB)"
   ]
  },
  {
   "cell_type": "markdown",
   "metadata": {},
   "source": [
    "The confidence interval for $\\delta$ is:"
   ]
  },
  {
   "cell_type": "code",
   "execution_count": 9,
   "metadata": {
    "collapsed": false
   },
   "outputs": [
    {
     "data": {
      "text/plain": [
       "2-element Array{Float64,1}:\n",
       " 0.938116\n",
       " 1.01894 "
      ]
     },
     "execution_count": 9,
     "metadata": {},
     "output_type": "execute_result"
    }
   ],
   "source": [
    "thetaB[1] .+ sqrt(aVar[1,1]/size(z)[1]) * [-1.96, 1.96]"
   ]
  },
  {
   "cell_type": "markdown",
   "metadata": {},
   "source": [
    "The confidence interval for $\\gamma$ is:"
   ]
  },
  {
   "cell_type": "code",
   "execution_count": 10,
   "metadata": {
    "collapsed": false,
    "scrolled": true
   },
   "outputs": [
    {
     "data": {
      "text/plain": [
       "2-element Array{Float64,1}:\n",
       " 1.15773\n",
       " 5.61427"
      ]
     },
     "execution_count": 10,
     "metadata": {},
     "output_type": "execute_result"
    }
   ],
   "source": [
    "thetaB[2] .+ sqrt(aVar[2,2]/size(z)[1]) * [-1.96, 1.96]"
   ]
  },
  {
   "cell_type": "markdown",
   "metadata": {},
   "source": [
    "d.\n",
    "--\n",
    "Since I do minimization of a positive function, the Hansen-Sargan statistic is:\n",
    "$$J=2Qn(\\theta_B)$$"
   ]
  },
  {
   "cell_type": "code",
   "execution_count": 11,
   "metadata": {
    "collapsed": false
   },
   "outputs": [
    {
     "data": {
      "text/plain": [
       "0.17497579531348584"
      ]
     },
     "execution_count": 11,
     "metadata": {},
     "output_type": "execute_result"
    }
   ],
   "source": [
    "2*size(z)[1]*QnWhatA(thetaB)"
   ]
  },
  {
   "cell_type": "code",
   "execution_count": 12,
   "metadata": {
    "collapsed": false
   },
   "outputs": [
    {
     "data": {
      "text/plain": [
       "0.6757269985575208"
      ]
     },
     "execution_count": 12,
     "metadata": {},
     "output_type": "execute_result"
    }
   ],
   "source": [
    "1-cdf(Chisq(1),2*size(z)[1]*QnWhatA(thetaB))"
   ]
  },
  {
   "cell_type": "markdown",
   "metadata": {},
   "source": [
    "The p-value is not significant. I accept the $H_0$, that the $\\mathbb{E}\\left[ g(w_t;\\theta_0 \\right]=0$.\n",
    "e.\n",
    "--"
   ]
  },
  {
   "cell_type": "code",
   "execution_count": 13,
   "metadata": {
    "collapsed": false
   },
   "outputs": [
    {
     "data": {
      "text/plain": [
       "Results of Optimization Algorithm\n",
       " * Algorithm: BFGS\n",
       " * Starting Point: [1.0,4.0]\n",
       " * Minimizer: [0.9970035183861444,4.576082645831093]\n",
       " * Minimum: 1.614946e-07\n",
       " * Iterations: 10\n",
       " * Convergence: true\n",
       "   * |x - x'| < 1.0e-32: false\n",
       "   * |f(x) - f(x')| / |f(x)| < 1.0e-32: true\n",
       "   * |g(x)| < 1.0e-12: true\n",
       "   * Reached Maximum Number of Iterations: false\n",
       " * Objective Function Calls: 54\n",
       " * Gradient Calls: 54"
      ]
     },
     "execution_count": 13,
     "metadata": {},
     "output_type": "execute_result"
    }
   ],
   "source": [
    "w = dataexp[3:end,[2,4]]\n",
    "z = hcat(ones(size(dataexp)[1]-2), dataexp[2:end-1,4], 1 .+ data[2:end-1,3], 1 .+ data[2:end-1,2],\n",
    "        dataexp[1:end-2,4], 1 .+ data[1:end-2,3], 1 .+ data[1:end-2,2])\n",
    "\n",
    "Qn = Qn_wrapper(w,z)\n",
    "optres = optimize(Qn, [1., 4.], BFGS(), Optim.OptimizationOptions(g_tol=1e-12, autodiff=true))"
   ]
  },
  {
   "cell_type": "code",
   "execution_count": 14,
   "metadata": {
    "collapsed": false
   },
   "outputs": [
    {
     "data": {
      "text/plain": [
       "7×7 Array{Float64,2}:\n",
       "      2.10229e5  -49990.2        …   35729.9  -45719.0      -1.82658e5\n",
       " -49990.2             1.93473e5     -11887.1   22359.0       2.34519e5\n",
       "  66704.9            -2.27365e5      17095.0  -29530.4      -2.82283e5\n",
       " -29033.0            -1.75958e5       8384.1  -16963.8      -1.91669e5\n",
       "  35729.9        -11887.1            27165.7  -32152.7  -45008.2      \n",
       " -45719.0         22359.0        …  -32152.7   41287.6   60775.8      \n",
       "     -1.82658e5       2.34519e5     -45008.2   60775.8       3.88417e5"
      ]
     },
     "execution_count": 14,
     "metadata": {},
     "output_type": "execute_result"
    }
   ],
   "source": [
    "thetaA = optres.minimum\n",
    "WhatA = What(w,z,thetaA) "
   ]
  },
  {
   "cell_type": "code",
   "execution_count": 15,
   "metadata": {
    "collapsed": false,
    "scrolled": true
   },
   "outputs": [
    {
     "data": {
      "text/plain": [
       "Results of Optimization Algorithm\n",
       " * Algorithm: BFGS\n",
       " * Starting Point: [0.9970035183861444,4.576082645831093]\n",
       " * Minimizer: [0.97962853228036,3.467092989529142]\n",
       " * Minimum: 1.378672e-03\n",
       " * Iterations: 6\n",
       " * Convergence: true\n",
       "   * |x - x'| < 1.0e-32: false\n",
       "   * |f(x) - f(x')| / |f(x)| < 1.0e-32: true\n",
       "   * |g(x)| < 1.0e-12: false\n",
       "   * Reached Maximum Number of Iterations: false\n",
       " * Objective Function Calls: 28\n",
       " * Gradient Calls: 28"
      ]
     },
     "execution_count": 15,
     "metadata": {},
     "output_type": "execute_result"
    }
   ],
   "source": [
    "QnWhatA = Qn_wrapper(w,z,WhatA)\n",
    "optresB = optimize(QnWhatA, thetaA, BFGS(), Optim.OptimizationOptions(g_tol=1e-12))"
   ]
  },
  {
   "cell_type": "markdown",
   "metadata": {},
   "source": [
    "The confidence interval for $\\delta$ is:"
   ]
  },
  {
   "cell_type": "code",
   "execution_count": 16,
   "metadata": {
    "collapsed": false,
    "scrolled": true
   },
   "outputs": [
    {
     "name": "stderr",
     "output_type": "stream",
     "text": [
      "WARNING: Method definition dgn(Any) in module Main at In[7]:8 overwritten at In[16]:2.\n"
     ]
    },
    {
     "data": {
      "text/plain": [
       "2-element Array{Float64,1}:\n",
       " 0.943643\n",
       " 1.01561 "
      ]
     },
     "execution_count": 16,
     "metadata": {},
     "output_type": "execute_result"
    }
   ],
   "source": [
    "thetaB = optresB.minimum\n",
    "dgn(theta) = ForwardDiff.jacobian(gn_wrapper(w,z),theta)\n",
    "GhatB = convert(Array{Float64,2},dgn(thetaB))\n",
    "Shat = inv(What(w,z,thetaB))\n",
    "aVar = inv(GhatB'*inv(Shat)*GhatB)\n",
    "thetaB[1] .+ sqrt(aVar[1,1]/size(z)[1]) * [-1.96, 1.96]"
   ]
  },
  {
   "cell_type": "markdown",
   "metadata": {},
   "source": [
    "The confidence interval for $\\gamma$ is:"
   ]
  },
  {
   "cell_type": "code",
   "execution_count": 17,
   "metadata": {
    "collapsed": false,
    "scrolled": false
   },
   "outputs": [
    {
     "data": {
      "text/plain": [
       "2-element Array{Float64,1}:\n",
       " 1.47358\n",
       " 5.46061"
      ]
     },
     "execution_count": 17,
     "metadata": {},
     "output_type": "execute_result"
    }
   ],
   "source": [
    "thetaB[2] .+ sqrt(aVar[2,2]/size(z)[1]) * [-1.96, 1.96]"
   ]
  },
  {
   "cell_type": "markdown",
   "metadata": {},
   "source": [
    "The Hansen-Sargan test again accepts the $H_0$."
   ]
  },
  {
   "cell_type": "code",
   "execution_count": 18,
   "metadata": {
    "collapsed": false
   },
   "outputs": [
    {
     "data": {
      "text/plain": [
       "0.683821428196953"
      ]
     },
     "execution_count": 18,
     "metadata": {},
     "output_type": "execute_result"
    }
   ],
   "source": [
    "2*size(z)[1]*QnWhatA(thetaB)"
   ]
  },
  {
   "cell_type": "code",
   "execution_count": 19,
   "metadata": {
    "collapsed": false
   },
   "outputs": [
    {
     "data": {
      "text/plain": [
       "0.4082739268399961"
      ]
     },
     "execution_count": 19,
     "metadata": {},
     "output_type": "execute_result"
    }
   ],
   "source": [
    "1-cdf(Chisq(1),2*size(z)[1]*QnWhatA(thetaB))"
   ]
  },
  {
   "cell_type": "markdown",
   "metadata": {},
   "source": [
    "2.\n",
    "==\n",
    "a.\n",
    "--\n",
    "With $\\Gamma=\\left(\\begin{array}{cc}\n",
    "1 & 0\\\\\n",
    "-\\gamma & 1\n",
    "\\end{array}\\right)^{-1}\n",
    "$,$\\Sigma=\\left(\\begin{array}{cc}\n",
    "\\sigma_{c}^{2} & \\rho\\sigma_{c}\\sigma_{r}\\\\\n",
    "\\rho\\sigma_{c}\\sigma_{r} & \\sigma_{r}^{2}\n",
    "\\end{array}\\right)$ and $\\sigma^{2}(\\gamma)=\\left(\\begin{array}{cc}\n",
    "-\\gamma & 1\\end{array}\\right)\\Sigma\\left(\\begin{array}{c}\n",
    "-\\gamma\\\\\n",
    "1\n",
    "\\end{array}\\right)$ I find:\n",
    "\n",
    "$$x_{t+1}=\\left(\\begin{array}{c}\n",
    "c_{t+1}\\\\\n",
    "r_{t+1}\n",
    "\\end{array}\\right)-\\Gamma\\left(\\begin{array}{cc}\n",
    "\\alpha & \\beta\\\\\n",
    "0 & 0\n",
    "\\end{array}\\right)\\left(\\begin{array}{c}\n",
    "c_{t}\\\\\n",
    "r_{t}\n",
    "\\end{array}\\right)-\\Gamma\\left(\\begin{array}{c}\n",
    "\\mu_{c}\\\\\n",
    "\\lg(\\delta)+\\frac{1}{2}\\sigma^{2}(\\gamma)\n",
    "\\end{array}\\right)\\sim\\mathbb{\\mathcal{N}}\\left(\\left(\\begin{array}{c}\n",
    "0\\\\\n",
    "0\n",
    "\\end{array}\\right),\\Gamma\\Sigma\\Gamma'\\right)$$\n",
    "\n",
    "\n",
    "I maximize: $$Q_{n}\\left(\\theta\\right)=\\frac{1}{n}\\sum_{t=1}^{n-1}\\lg\\: f\\left(x_{t+1}\\mid x_{t};\\theta\\right)$$"
   ]
  },
  {
   "cell_type": "code",
   "execution_count": 20,
   "metadata": {
    "collapsed": false
   },
   "outputs": [
    {
     "data": {
      "text/plain": [
       "Qn_wrapper (generic function with 3 methods)"
      ]
     },
     "execution_count": 20,
     "metadata": {},
     "output_type": "execute_result"
    }
   ],
   "source": [
    "w = data[1:end,[2,4]]\n",
    "\n",
    "#theta = (δ,γ,α,β,μc,σc,σr,ρ)\n",
    "\n",
    "#for a single observation:\n",
    "@inline function m(w,wold,theta)\n",
    "    (δ,γ,α,β,μc,σc,σr,ρ) = theta\n",
    "    Σ = [σc^2 ρ*σc*σr; ρ*σc*σr σr^2]\n",
    "    Γ = inv([1 0; -γ 1])\n",
    "    \n",
    "    x = w[:] - (Γ*[α β; 0 0]*wold[:]) - Γ*[μc; log(δ) + 1/2*[-γ 1]*Σ*[-γ; 1]]\n",
    "    return log(pdf(MvNormal([0, 0], Γ*Σ*Γ'),x))\n",
    "end\n",
    "\n",
    "function Qn_wrapper(w)\n",
    "    return function(theta)\n",
    "        i = 2\n",
    "        result = m(w[i,:],w[i-1,:],theta)\n",
    "        \n",
    "        for i in 3:size(w)[1]\n",
    "            result += m(w[i,:],w[i-1,:],theta)\n",
    "        end\n",
    "        \n",
    "        return -result/size(w)[1] #I am going to minimize this function!\n",
    "    \n",
    "        end\n",
    "end"
   ]
  },
  {
   "cell_type": "code",
   "execution_count": 21,
   "metadata": {
    "collapsed": false,
    "scrolled": true
   },
   "outputs": [
    {
     "data": {
      "text/plain": [
       "Results of Optimization Algorithm\n",
       " * Algorithm: Nelder-Mead\n",
       " * Starting Point: [1.0,4.0,-0.2,0.01,0.02,0.03,0.1,-0.3]\n",
       " * Minimizer: [0.9937595447539255,3.51804969551279, ...]\n",
       " * Minimum: -2.700392e+00\n",
       " * Iterations: 436\n",
       " * Convergence: true\n",
       "   *  √(Σ(yᵢ-ȳ)²)/n < 1.0e-08: true\n",
       "   * Reached Maximum Number of Iterations: false\n",
       " * Objective Function Calls: 534\n"
      ]
     },
     "execution_count": 21,
     "metadata": {},
     "output_type": "execute_result"
    }
   ],
   "source": [
    "Qn = Qn_wrapper(w)\n",
    "\n",
    "optres = optimize(Qn, [1,4,-0.2,0.01,0.02,0.03,0.1,-0.3], \n",
    "    NelderMead(), Optim.OptimizationOptions(iterations=5000, autodiff=true))"
   ]
  },
  {
   "cell_type": "code",
   "execution_count": 22,
   "metadata": {
    "collapsed": false,
    "scrolled": true
   },
   "outputs": [
    {
     "data": {
      "text/plain": [
       "8-element Array{Float64,1}:\n",
       "  0.99376    \n",
       "  3.51805    \n",
       " -0.2064     \n",
       "  0.000748018\n",
       "  0.0211237  \n",
       "  0.0329381  \n",
       "  0.122884   \n",
       " -0.275374   "
      ]
     },
     "execution_count": 22,
     "metadata": {},
     "output_type": "execute_result"
    }
   ],
   "source": [
    "thetahat = optres.minimum"
   ]
  },
  {
   "cell_type": "markdown",
   "metadata": {},
   "source": [
    "Since I am worried that the model is misspecified I calculate the sandwich estimator for the asymptotic variance $\\hat{H}^{-1} \\hat{\\Sigma} \\hat{H}^{-1}$ where:\n",
    "\n",
    "$$\\hat{H}=\\frac{1}{n} \\sum_{t=1}^{n-1} {H(w_t; \\hat{\\theta}}) = \\frac{\\partial^2 Q_n(\\hat{\\theta})}{\\partial \\theta \\partial \\theta'}$$\n",
    "\n",
    "$$\\hat{\\Sigma} = \\frac{1}{n} \\sum_{t=1}^{n-1} {\\frac{\\partial \\lg\\: f\\left(x_{t+1}\\mid x_{t};\\hat{\\theta}\\right) }{\\partial \\theta} \\, \\frac{\\partial \\lg\\: f\\left(x_{t+1}\\mid x_{t};\\hat{\\theta}\\right) }{\\partial \\theta}' }$$"
   ]
  },
  {
   "cell_type": "code",
   "execution_count": 23,
   "metadata": {
    "collapsed": false
   },
   "outputs": [
    {
     "data": {
      "text/plain": [
       "8×8 Array{Float64,2}:\n",
       " 72.2691    1.61677     1.28554    …    37.8252     11.1138    -1.02308  \n",
       "  1.61677   0.116937    0.0119883        3.26121    -0.398778   0.265963 \n",
       "  1.28554   0.0119883   1.41312          0.675522    0.196542  -0.0187497\n",
       "  5.32971   0.0810943   4.0242           3.99825     0.490494  -0.222594 \n",
       " 73.7831    1.65063    17.3078          38.5517     11.3485    -1.0454   \n",
       " 37.8252    3.26121     0.675522   …  1931.01      -14.3743     8.47311  \n",
       " 11.1138   -0.398778    0.196542       -14.3743    139.036      2.25767  \n",
       " -1.02308   0.265963   -0.0187497        8.47311     2.25767    1.26894  "
      ]
     },
     "execution_count": 23,
     "metadata": {},
     "output_type": "execute_result"
    }
   ],
   "source": [
    "Hhat = ForwardDiff.hessian(Qn,thetahat)"
   ]
  },
  {
   "cell_type": "code",
   "execution_count": 24,
   "metadata": {
    "collapsed": false
   },
   "outputs": [
    {
     "data": {
      "text/plain": [
       "Sigmahat (generic function with 1 method)"
      ]
     },
     "execution_count": 24,
     "metadata": {},
     "output_type": "execute_result"
    }
   ],
   "source": [
    "function Sigmahat(w,theta) \n",
    "    i = 2\n",
    "    result = ForwardDiff.gradient(theta -> m(w[i,:],w[i-1,:],theta), thetahat)*\n",
    "            ForwardDiff.gradient(theta -> m(w[i,:],w[i-1,:],theta), thetahat)'\n",
    "    \n",
    "    for i in 3:size(w)[1]\n",
    "        result .+= ForwardDiff.gradient(theta -> m(w[i,:],w[i-1,:],theta), thetahat)*\n",
    "            ForwardDiff.gradient(theta -> m(w[i,:],w[i-1,:],theta), thetahat)'\n",
    "    end\n",
    "    return result/size(w)[1]\n",
    "end"
   ]
  },
  {
   "cell_type": "code",
   "execution_count": 25,
   "metadata": {
    "collapsed": false
   },
   "outputs": [],
   "source": [
    "Shat = Sigmahat(w,thetahat);"
   ]
  },
  {
   "cell_type": "code",
   "execution_count": 26,
   "metadata": {
    "collapsed": false,
    "scrolled": true
   },
   "outputs": [
    {
     "data": {
      "text/plain": [
       "8×8 Array{Float64,2}:\n",
       "   0.314259     -10.7652      -0.286694    …  -0.0931831      2.63825   \n",
       " -10.7652       385.981        9.6238          3.39306      -94.4096    \n",
       "  -0.286694       9.6238       1.62018         0.079392      -2.409     \n",
       "   0.0681545     -2.3405      -0.259152       -0.0197188      0.560679  \n",
       "  -0.0024981      0.0589833   -0.00900207      0.000157437   -0.0129214 \n",
       "  -0.000447576    0.00640219  -0.00288125  …   0.000377299   -0.00610752\n",
       "  -0.0931831      3.39306      0.079392        0.038193      -0.855773  \n",
       "   2.63825      -94.4096      -2.409          -0.855773      24.0423    "
      ]
     },
     "execution_count": 26,
     "metadata": {},
     "output_type": "execute_result"
    }
   ],
   "source": [
    "aVar = inv(Hhat)*Shat*inv(Hhat)"
   ]
  },
  {
   "cell_type": "markdown",
   "metadata": {},
   "source": [
    "Now the estimated confidence intervals for $\\delta$ and $\\gamma$:"
   ]
  },
  {
   "cell_type": "code",
   "execution_count": 29,
   "metadata": {
    "collapsed": false
   },
   "outputs": [
    {
     "data": {
      "text/plain": [
       "2-element Array{Float64,1}:\n",
       " 0.923989\n",
       " 1.06353 "
      ]
     },
     "execution_count": 29,
     "metadata": {},
     "output_type": "execute_result"
    }
   ],
   "source": [
    "thetahat[1] .+ sqrt(aVar[1,1]/size(z)[1]) * [-1.96, 1.96]"
   ]
  },
  {
   "cell_type": "code",
   "execution_count": 30,
   "metadata": {
    "collapsed": false
   },
   "outputs": [
    {
     "data": {
      "text/plain": [
       "2-element Array{Float64,1}:\n",
       " 1.07286\n",
       " 5.96324"
      ]
     },
     "execution_count": 30,
     "metadata": {},
     "output_type": "execute_result"
    }
   ],
   "source": [
    "thetahat[2] .+ sqrt(aVar[2,2]/size(z)[1]) * [-1.96, 1.96]"
   ]
  },
  {
   "cell_type": "markdown",
   "metadata": {},
   "source": [
    "c.\n",
    "--\n",
    "The estimates are close to the ones in part 1. But I believe the normality assumption is particularily unwarranted and the linerization of the model leads to certainty equivalence. Both increase confidence intervals, especially those for the subjective discount rate."
   ]
  },
  {
   "cell_type": "code",
   "execution_count": null,
   "metadata": {
    "collapsed": true
   },
   "outputs": [],
   "source": []
  }
 ],
 "metadata": {
  "anaconda-cloud": {},
  "kernelspec": {
   "display_name": "Julia 0.5.0",
   "language": "julia",
   "name": "julia-0.5"
  },
  "language_info": {
   "file_extension": ".jl",
   "mimetype": "application/julia",
   "name": "julia",
   "version": "0.5.0"
  }
 },
 "nbformat": 4,
 "nbformat_minor": 0
}
