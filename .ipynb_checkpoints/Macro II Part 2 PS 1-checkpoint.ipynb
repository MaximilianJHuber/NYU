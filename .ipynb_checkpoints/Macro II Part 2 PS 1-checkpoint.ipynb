{
 "cells": [
  {
   "cell_type": "markdown",
   "metadata": {},
   "source": [
    "# Question 2\n",
    "You can find this code on my GitHub account: https://github.com/MaximilianJHuber/NYU\n",
    "## d.)"
   ]
  },
  {
   "cell_type": "code",
   "execution_count": 1,
   "metadata": {
    "collapsed": false
   },
   "outputs": [],
   "source": [
    "p = 0.95; q = 0.95\n",
    "μ = [1.02, 0.98]\n",
    "β = 0.98; γ = 2\n",
    "Q = [p 1-p; 1-q q];"
   ]
  },
  {
   "cell_type": "code",
   "execution_count": 2,
   "metadata": {
    "collapsed": false
   },
   "outputs": [
    {
     "data": {
      "text/plain": [
       "2-element Array{Float64,1}:\n",
       " 0.133235\n",
       " 0.143181"
      ]
     },
     "execution_count": 2,
     "metadata": {},
     "output_type": "execute_result"
    }
   ],
   "source": [
    "Rf = β^-1 * (Q*exp(-γ*μ))"
   ]
  },
  {
   "cell_type": "code",
   "execution_count": 3,
   "metadata": {
    "collapsed": false
   },
   "outputs": [
    {
     "data": {
      "text/plain": [
       "2-element Array{Float64,1}:\n",
       " 6.72629\n",
       " 6.81807"
      ]
     },
     "execution_count": 3,
     "metadata": {},
     "output_type": "execute_result"
    }
   ],
   "source": [
    "q = inv(eye(2) - β*Q)*exp(-γ*μ)"
   ]
  },
  {
   "cell_type": "code",
   "execution_count": 4,
   "metadata": {
    "collapsed": false
   },
   "outputs": [
    {
     "data": {
      "text/plain": [
       "2-element Array{Float64,1}:\n",
       " 3.18738\n",
       " 3.05346"
      ]
     },
     "execution_count": 4,
     "metadata": {},
     "output_type": "execute_result"
    }
   ],
   "source": [
    "ER = (Q * (1+q).*exp(μ)) ./ q"
   ]
  },
  {
   "cell_type": "code",
   "execution_count": 5,
   "metadata": {
    "collapsed": false
   },
   "outputs": [
    {
     "data": {
      "text/plain": [
       "2-element Array{Float64,1}:\n",
       " 3.05414\n",
       " 2.91028"
      ]
     },
     "execution_count": 5,
     "metadata": {},
     "output_type": "execute_result"
    }
   ],
   "source": [
    "ERexcess = ER - Rf"
   ]
  },
  {
   "cell_type": "markdown",
   "metadata": {},
   "source": [
    "## e.)\n",
    "The stationary distribution is the solution to:\n",
    "$$\\pi=Q' \\pi$$\n",
    "that is the right eigenvalues of $Q'$."
   ]
  },
  {
   "cell_type": "code",
   "execution_count": 6,
   "metadata": {
    "collapsed": false
   },
   "outputs": [
    {
     "data": {
      "text/plain": [
       "2-element Array{Float64,1}:\n",
       " 0.5\n",
       " 0.5"
      ]
     },
     "execution_count": 6,
     "metadata": {},
     "output_type": "execute_result"
    }
   ],
   "source": [
    "π = eigvecs(Q')[:,2] / norm(eigvecs(Q')[:,2],1)"
   ]
  },
  {
   "cell_type": "code",
   "execution_count": 7,
   "metadata": {
    "collapsed": false
   },
   "outputs": [
    {
     "data": {
      "text/plain": [
       "1-element Array{Float64,1}:\n",
       " 3.12042"
      ]
     },
     "execution_count": 7,
     "metadata": {},
     "output_type": "execute_result"
    }
   ],
   "source": [
    "uER = π' * ER"
   ]
  },
  {
   "cell_type": "code",
   "execution_count": 8,
   "metadata": {
    "collapsed": false
   },
   "outputs": [
    {
     "data": {
      "text/plain": [
       "1-element Array{Float64,1}:\n",
       " 2.98221"
      ]
     },
     "execution_count": 8,
     "metadata": {},
     "output_type": "execute_result"
    }
   ],
   "source": [
    "uERexcess = π' * ERexcess"
   ]
  },
  {
   "cell_type": "code",
   "execution_count": 18,
   "metadata": {
    "collapsed": false
   },
   "outputs": [
    {
     "data": {
      "text/plain": [
       "2-element Array{Float64,1}:\n",
       " 6.801e-5  \n",
       " 6.11024e-5"
      ]
     },
     "execution_count": 18,
     "metadata": {},
     "output_type": "execute_result"
    }
   ],
   "source": [
    "(Q * ((1+q).^2).*(exp(μ).^2)) ./ q.^2 - ER.^2"
   ]
  },
  {
   "cell_type": "markdown",
   "metadata": {},
   "source": [
    "## f.)"
   ]
  },
  {
   "cell_type": "code",
   "execution_count": 22,
   "metadata": {
    "collapsed": false
   },
   "outputs": [
    {
     "data": {
      "text/plain": [
       "calcReturns (generic function with 1 method)"
      ]
     },
     "execution_count": 22,
     "metadata": {},
     "output_type": "execute_result"
    }
   ],
   "source": [
    "function calcReturns(γ::Real; β = 0.98, Q = [0.95 0.05; 0.05 0.95], μ = [1.02, 0.98])\n",
    "    Rf = β^-1 * (Q*exp(-γ*μ))\n",
    "    q = inv(eye(2) - β*Q)*exp(-γ*μ)\n",
    "    ER = (Q * (1+q).*exp(μ)) ./ q\n",
    "    ERexcess = ER - Rf\n",
    "    π = eigvecs(Q')[:,2] / norm(eigvecs(Q')[:,2],1)\n",
    "    \n",
    "    VR = (Q * ((1+q).^2).*(exp(μ).^2)) ./ q.^2 - ER.^2\n",
    "    \n",
    "    return ((π' * ER)[1], sqrt((π' * VR)[1]), (π' * Rf)[1])\n",
    "end"
   ]
  },
  {
   "cell_type": "code",
   "execution_count": 23,
   "metadata": {
    "collapsed": false
   },
   "outputs": [
    {
     "data": {
      "text/plain": [
       "100-element Array{Tuple{Any,Any,Any},1}:\n",
       " (2.8084860210624254,0.0020091379749490614,0.6189397821411643) \n",
       " (2.8126555130371367,0.0021917882887844994,0.5914415983973194) \n",
       " (2.8170187656270085,0.0023744376958266342,0.5651655677453236) \n",
       " (2.8215847804618743,0.0025570859360679503,0.5400573510057425) \n",
       " (2.826362977227353,0.002739732744920717,0.5160650259407213)   \n",
       " (2.831363213072622,0.0029223778603456848,0.49313897971041204) \n",
       " (2.836595802918836,0.0031050210180965797,0.47123180611644366) \n",
       " (2.8420715407099344,0.003287661956654167,0.45029820741927395) \n",
       " (2.8478017216495886,0.00347030041241206,0.43029490052575364)  \n",
       " (2.8537981654700015,0.0036529361222634956,0.4111805273523044) \n",
       " (2.8600732407804395,0.003835568823770039,0.39291556917778653) \n",
       " (2.8666398905455717,0.004018198253681588,0.37546226480840705) \n",
       " (2.8735116587460245,0.004200824149379419,0.3587845323849363)  \n",
       " ⋮                                                             \n",
       " (7.596643294839724,0.0180501062014424,0.011381651379226886)   \n",
       " (7.823094768270457,0.018231673812496796,0.01087677729431315)  \n",
       " (8.06005519086424,0.018413217540126568,0.010394307235114215)  \n",
       " (8.30801206404409,0.018594737127705464,0.009933246633310924)  \n",
       " (8.567475495189793,0.01877623231689652,0.00949264508871506)   \n",
       " (8.838979245490828,0.0189577028519472,0.00907159440704158)    \n",
       " (9.123081826351434,0.01913914847427326,0.008669226724888856)  \n",
       " (9.420367646596713,0.019320568928472653,0.008284712718049415) \n",
       " (9.731448212832568,0.019501963954705152,0.00791725988944655)  \n",
       " (10.05696338542142,0.01968333330044513,0.007566110933156525)  \n",
       " (10.397582692649461,0.019864676706909765,0.007230542171133976)\n",
       " (10.754006705780576,0.020045993917136795,0.00690986205940815) "
      ]
     },
     "execution_count": 23,
     "metadata": {},
     "output_type": "execute_result"
    }
   ],
   "source": [
    "X = [calcReturns(γ) for γ in linspace(0.5, 5, 100)]"
   ]
  },
  {
   "cell_type": "code",
   "execution_count": 11,
   "metadata": {
    "collapsed": false
   },
   "outputs": [
    {
     "ename": "LoadError",
     "evalue": "ArgumentError: module Pyplot not found in current path.\nRun `Pkg.add(\"Pyplot\")` to install the Pyplot package.",
     "output_type": "error",
     "traceback": [
      "ArgumentError: module Pyplot not found in current path.\nRun `Pkg.add(\"Pyplot\")` to install the Pyplot package.",
      "",
      " in require at ./loading.jl:246"
     ]
    }
   ],
   "source": [
    "using Pyplot\n",
    "pyplot()\n"
   ]
  }
 ],
 "metadata": {
  "anaconda-cloud": {},
  "kernelspec": {
   "display_name": "Julia 0.4.7",
   "language": "julia",
   "name": "julia-0.4"
  },
  "language_info": {
   "file_extension": ".jl",
   "mimetype": "application/julia",
   "name": "julia",
   "version": "0.4.7"
  }
 },
 "nbformat": 4,
 "nbformat_minor": 0
}
