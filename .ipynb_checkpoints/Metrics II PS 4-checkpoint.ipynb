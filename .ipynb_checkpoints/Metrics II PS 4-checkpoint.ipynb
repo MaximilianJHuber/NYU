{
 "cells": [
  {
   "cell_type": "markdown",
   "metadata": {},
   "source": [
    "Econometrics II PS 4\n",
    "==\n",
    "Maximilian Huber\n",
    "\n",
    "\n",
    "You can find this code on my GitHub account: https://github.com/MaximilianJHuber/NYU\n",
    "Question 2\n",
    "=="
   ]
  },
  {
   "cell_type": "code",
   "execution_count": 1,
   "metadata": {
    "collapsed": false,
    "scrolled": true
   },
   "outputs": [],
   "source": [
    "using Optim\n",
    "using DataFrames\n",
    "using ForwardDiff\n",
    "using Roots\n",
    "using Distributions"
   ]
  },
  {
   "cell_type": "code",
   "execution_count": 2,
   "metadata": {
    "collapsed": false
   },
   "outputs": [],
   "source": [
    "data = convert(Matrix,readtable(\"hsdata.csv\"));\n",
    "dataexp = exp(data);"
   ]
  },
  {
   "cell_type": "code",
   "execution_count": 3,
   "metadata": {
    "collapsed": false
   },
   "outputs": [
    {
     "data": {
      "text/plain": [
       "gn_wrapper (generic function with 1 method)"
      ]
     },
     "execution_count": 3,
     "metadata": {},
     "output_type": "execute_result"
    }
   ],
   "source": [
    "#operates on single observations!\n",
    "function g(w,z,theta) \n",
    "    return (theta[1] * w[1]^(-theta[2]) * w[2] - 1) .* collect(z[:])\n",
    "end\n",
    "\n",
    "#operates on data set!\n",
    "function gn(w,z,theta)\n",
    "    i = 1\n",
    "    result = g(w[i,:],z[i,:],theta)\n",
    "    \n",
    "    for i in 2:size(w)[1]\n",
    "        result .+= g(w[i,:],z[i,:],theta)\n",
    "    end\n",
    "    return result/size(w)[1]\n",
    "end\n",
    "\n",
    "#Wrapper creates a closure around the data set provided\n",
    "function Qn_wrapper(w,z)\n",
    "    return theta -> 1/2*(gn(w,z,theta)'*gn(w,z,theta))[1,1]\n",
    "end\n",
    "\n",
    "function Qn_wrapper(w,z,What)\n",
    "    return theta -> 1/2*(gn(w,z,theta)'*What*gn(w,z,theta))[1,1]\n",
    "end\n",
    "\n",
    "#Calculates What\n",
    "function What(w,z,theta) \n",
    "    result = zeros(Float64, size(z)[2], size(z)[2])\n",
    "    for i in 1:size(w)[1]\n",
    "        result .+= g(w[i,:],z[i,:],theta)*g(w[i,:],z[i,:],theta)'\n",
    "    end\n",
    "    return inv(result/size(z)[1])\n",
    "end\n",
    "\n",
    "#creates a closure around the data set\n",
    "function gn_wrapper(w,z)\n",
    "    return theta -> gn(w,z,theta)\n",
    "end"
   ]
  },
  {
   "cell_type": "code",
   "execution_count": 4,
   "metadata": {
    "collapsed": false
   },
   "outputs": [],
   "source": [
    "w = dataexp[2:end,[2,4]]\n",
    "z = hcat(ones(size(dataexp)[1]-1), dataexp[1:end-1,4], 1 .+ data[1:end-1,2])\n",
    "n = size(w)[1]\n",
    "\n",
    "Qn = Qn_wrapper(w,z)\n",
    "optres = optimize(Qn, [1., 4.], BFGS(), Optim.OptimizationOptions(g_tol=1e-12, autodiff=true));"
   ]
  },
  {
   "cell_type": "code",
   "execution_count": 5,
   "metadata": {
    "collapsed": false
   },
   "outputs": [],
   "source": [
    "θhat = optres.minimum\n",
    "WhatA = What(w,z,θhat);"
   ]
  },
  {
   "cell_type": "code",
   "execution_count": 6,
   "metadata": {
    "collapsed": false
   },
   "outputs": [
    {
     "data": {
      "text/plain": [
       "2-element Array{Float64,1}:\n",
       " 0.978529\n",
       " 3.386   "
      ]
     },
     "execution_count": 6,
     "metadata": {},
     "output_type": "execute_result"
    }
   ],
   "source": [
    "QnWhatA = Qn_wrapper(w,z,WhatA)\n",
    "optresB = optimize(QnWhatA, θhat, BFGS(), Optim.OptimizationOptions(g_tol=1e-12, autodiff=true))\n",
    "θhat = optresB.minimum"
   ]
  },
  {
   "cell_type": "code",
   "execution_count": 7,
   "metadata": {
    "collapsed": false
   },
   "outputs": [
    {
     "data": {
      "text/plain": [
       "2×2 Array{Float64,2}:\n",
       " 0.10586    5.40968\n",
       " 5.40968  321.828  "
      ]
     },
     "execution_count": 7,
     "metadata": {},
     "output_type": "execute_result"
    }
   ],
   "source": [
    "dgn(theta) = ForwardDiff.jacobian(gn_wrapper(w,z),theta)\n",
    "GhatB = convert(Array{Float64,2},dgn(θhat))\n",
    "aVar = inv(GhatB'*What(w,z,θhat)*GhatB)"
   ]
  },
  {
   "cell_type": "markdown",
   "metadata": {},
   "source": [
    "a\n",
    "--\n",
    "The Wald-test ist:"
   ]
  },
  {
   "cell_type": "code",
   "execution_count": 8,
   "metadata": {
    "collapsed": false
   },
   "outputs": [
    {
     "data": {
      "text/plain": [
       "0.19721568611836904"
      ]
     },
     "execution_count": 8,
     "metadata": {},
     "output_type": "execute_result"
    }
   ],
   "source": [
    "a(theta) = [theta[1]-0.99, theta[2]-0.99]\n",
    "A(theta) = ForwardDiff.jacobian(a, theta)\n",
    "ξW = (a(θhat)'*inv(A(θhat)*aVar*A(θhat)')*a(θhat))[1,1]"
   ]
  },
  {
   "cell_type": "code",
   "execution_count": 9,
   "metadata": {
    "collapsed": false
   },
   "outputs": [
    {
     "data": {
      "text/plain": [
       "0.9060979709679547"
      ]
     },
     "execution_count": 9,
     "metadata": {},
     "output_type": "execute_result"
    }
   ],
   "source": [
    "1-cdf(Chisq(2), ξW)"
   ]
  },
  {
   "cell_type": "markdown",
   "metadata": {},
   "source": [
    "The LM-test is:"
   ]
  },
  {
   "cell_type": "code",
   "execution_count": 10,
   "metadata": {
    "collapsed": false
   },
   "outputs": [
    {
     "data": {
      "text/plain": [
       "0.22557851779285745"
      ]
     },
     "execution_count": 10,
     "metadata": {},
     "output_type": "execute_result"
    }
   ],
   "source": [
    "ξLM = (n*ForwardDiff.gradient(QnWhatA,[0.99, 4])'*(aVar)*ForwardDiff.gradient(QnWhatA,[0.99, 4]))[1,1]"
   ]
  },
  {
   "cell_type": "code",
   "execution_count": 11,
   "metadata": {
    "collapsed": false
   },
   "outputs": [
    {
     "data": {
      "text/plain": [
       "0.893338903506397"
      ]
     },
     "execution_count": 11,
     "metadata": {},
     "output_type": "execute_result"
    }
   ],
   "source": [
    "1-cdf(Chisq(2), ξLM)"
   ]
  },
  {
   "cell_type": "markdown",
   "metadata": {},
   "source": [
    "The QLR-test is:"
   ]
  },
  {
   "cell_type": "code",
   "execution_count": 12,
   "metadata": {
    "collapsed": false
   },
   "outputs": [
    {
     "data": {
      "text/plain": [
       "0.2631771655274612"
      ]
     },
     "execution_count": 12,
     "metadata": {},
     "output_type": "execute_result"
    }
   ],
   "source": [
    "ξQLR = 2*n*(- QnWhatA(θhat) + QnWhatA([0.99, 4]))"
   ]
  },
  {
   "cell_type": "code",
   "execution_count": 13,
   "metadata": {
    "collapsed": false
   },
   "outputs": [
    {
     "data": {
      "text/plain": [
       "0.876701611046324"
      ]
     },
     "execution_count": 13,
     "metadata": {},
     "output_type": "execute_result"
    }
   ],
   "source": [
    "1-cdf(Chisq(2), ξQLR)"
   ]
  },
  {
   "cell_type": "markdown",
   "metadata": {},
   "source": [
    "b\n",
    "--\n",
    "The Wald-test ist:"
   ]
  },
  {
   "cell_type": "code",
   "execution_count": 14,
   "metadata": {
    "collapsed": false
   },
   "outputs": [
    {
     "name": "stderr",
     "output_type": "stream",
     "text": [
      "WARNING: Method definition a(Any) in module Main at In[8]:1 overwritten at In[14]:1.\n"
     ]
    },
    {
     "data": {
      "text/plain": [
       "0.6077356912093345"
      ]
     },
     "execution_count": 14,
     "metadata": {},
     "output_type": "execute_result"
    }
   ],
   "source": [
    "a(theta) = theta-0.99\n",
    "ξW = (a(θhat)'*aVar[1,1]*a(θhat))[1,1]"
   ]
  },
  {
   "cell_type": "code",
   "execution_count": 15,
   "metadata": {
    "collapsed": false
   },
   "outputs": [
    {
     "data": {
      "text/plain": [
       "0.7379583844508109"
      ]
     },
     "execution_count": 15,
     "metadata": {},
     "output_type": "execute_result"
    }
   ],
   "source": [
    "1-cdf(Chisq(2), ξW)"
   ]
  },
  {
   "cell_type": "markdown",
   "metadata": {},
   "source": [
    "The LM-test is:"
   ]
  },
  {
   "cell_type": "code",
   "execution_count": 16,
   "metadata": {
    "collapsed": false
   },
   "outputs": [
    {
     "data": {
      "text/plain": [
       "0.2204654210213198"
      ]
     },
     "execution_count": 16,
     "metadata": {},
     "output_type": "execute_result"
    }
   ],
   "source": [
    "gammaRes = optimize(gamma -> QnWhatA([0.99, gamma]), 2,6).minimum\n",
    "ξLM = (n*ForwardDiff.gradient(QnWhatA,[0.99, gammaRes])'*(aVar)*ForwardDiff.gradient(QnWhatA,[0.99, gammaRes]))[1,1]"
   ]
  },
  {
   "cell_type": "code",
   "execution_count": 17,
   "metadata": {
    "collapsed": false
   },
   "outputs": [
    {
     "data": {
      "text/plain": [
       "0.8956256895321376"
      ]
     },
     "execution_count": 17,
     "metadata": {},
     "output_type": "execute_result"
    }
   ],
   "source": [
    "1-cdf(Chisq(2), ξLM)"
   ]
  },
  {
   "cell_type": "markdown",
   "metadata": {},
   "source": [
    "The QLR-test is:"
   ]
  },
  {
   "cell_type": "code",
   "execution_count": 18,
   "metadata": {
    "collapsed": false
   },
   "outputs": [
    {
     "data": {
      "text/plain": [
       "0.25775040434650043"
      ]
     },
     "execution_count": 18,
     "metadata": {},
     "output_type": "execute_result"
    }
   ],
   "source": [
    "ξQLR = 2*n*(- QnWhatA(θhat) + QnWhatA([0.99, gammaRes]))"
   ]
  },
  {
   "cell_type": "code",
   "execution_count": 19,
   "metadata": {
    "collapsed": false
   },
   "outputs": [
    {
     "data": {
      "text/plain": [
       "0.8790836664313266"
      ]
     },
     "execution_count": 19,
     "metadata": {},
     "output_type": "execute_result"
    }
   ],
   "source": [
    "1-cdf(Chisq(2), ξQLR)"
   ]
  },
  {
   "cell_type": "markdown",
   "metadata": {
    "collapsed": true
   },
   "source": [
    "Question 3\n",
    "==\n",
    "a\n",
    "--\n",
    "I fixed my wrong sample correction from PS3:"
   ]
  },
  {
   "cell_type": "code",
   "execution_count": 23,
   "metadata": {
    "collapsed": false,
    "scrolled": true
   },
   "outputs": [
    {
     "data": {
      "text/plain": [
       "2-element Array{Float64,1}:\n",
       " 0.978529\n",
       " 3.386   "
      ]
     },
     "execution_count": 23,
     "metadata": {},
     "output_type": "execute_result"
    }
   ],
   "source": [
    "θhat"
   ]
  },
  {
   "cell_type": "code",
   "execution_count": 24,
   "metadata": {
    "collapsed": false
   },
   "outputs": [
    {
     "data": {
      "text/plain": [
       "2-element Array{Float64,1}:\n",
       " 0.938116\n",
       " 1.01894 "
      ]
     },
     "execution_count": 24,
     "metadata": {},
     "output_type": "execute_result"
    }
   ],
   "source": [
    "θhat[1] .+ sqrt(aVar[1,1]/n) * [-1.96, 1.96]"
   ]
  },
  {
   "cell_type": "code",
   "execution_count": 25,
   "metadata": {
    "collapsed": false
   },
   "outputs": [
    {
     "data": {
      "text/plain": [
       "2-element Array{Float64,1}:\n",
       " 1.15773\n",
       " 5.61427"
      ]
     },
     "execution_count": 25,
     "metadata": {},
     "output_type": "execute_result"
    }
   ],
   "source": [
    "θhat[2] .+ sqrt(aVar[2,2]/n) * [-1.96, 1.96]"
   ]
  },
  {
   "cell_type": "markdown",
   "metadata": {},
   "source": [
    "b\n",
    "--"
   ]
  },
  {
   "cell_type": "code",
   "execution_count": null,
   "metadata": {
    "collapsed": true
   },
   "outputs": [],
   "source": [
    "function bootstrap_iteration(w,z)\n",
    "    \n",
    "end"
   ]
  }
 ],
 "metadata": {
  "anaconda-cloud": {},
  "kernelspec": {
   "display_name": "Julia 0.5.0",
   "language": "julia",
   "name": "julia-0.5"
  },
  "language_info": {
   "file_extension": ".jl",
   "mimetype": "application/julia",
   "name": "julia",
   "version": "0.5.0"
  }
 },
 "nbformat": 4,
 "nbformat_minor": 0
}
