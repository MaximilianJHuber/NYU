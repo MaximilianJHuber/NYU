{
 "cells": [
  {
   "cell_type": "markdown",
   "metadata": {},
   "source": [
    "Computational Exercise\n",
    "=="
   ]
  },
  {
   "cell_type": "code",
   "execution_count": 2,
   "metadata": {
    "collapsed": false,
    "scrolled": true
   },
   "outputs": [
    {
     "name": "stderr",
     "output_type": "stream",
     "text": [
      "WARNING: No working GUI backend found for matplotlib.\n"
     ]
    },
    {
     "data": {
      "text/plain": [
       "Plots.PyPlotBackend()"
      ]
     },
     "execution_count": 2,
     "metadata": {},
     "output_type": "execute_result"
    }
   ],
   "source": [
    "using Distributions\n",
    "using Plots\n",
    "pyplot()"
   ]
  },
  {
   "cell_type": "code",
   "execution_count": 73,
   "metadata": {
    "collapsed": false
   },
   "outputs": [
    {
     "name": "stderr",
     "output_type": "stream",
     "text": [
      "WARNING: Method definition sim() in module Main at In[71]:2 overwritten at In[73]:2.\n",
      "WARNING: Method definition sim(Any) in module Main at In[71]:2 overwritten at In[73]:2.\n",
      "WARNING: Method definition sim(Any, Any) in module Main at In[71]:2 overwritten at In[73]:2.\n",
      "WARNING: Method definition sim(Any, Any, Any) in module Main at In[71]:2 overwritten at In[73]:2.\n",
      "WARNING: Method definition sim(Any, Any, Any, Any) in module Main at In[71]:2 overwritten at In[73]:2.\n"
     ]
    },
    {
     "data": {
      "text/plain": [
       "sim (generic function with 5 methods)"
      ]
     },
     "execution_count": 73,
     "metadata": {},
     "output_type": "execute_result"
    }
   ],
   "source": [
    "function sim(n=200, β=1, σeu=0.5, R=0.5)\n",
    "    γ = sqrt(R/(1-R))\n",
    "    e = rand(MvNormal([0., 0],[1 0.1; 0.1 1]), n)'\n",
    "    Z = rand(Normal(),n)\n",
    "    X = Z*β + e[:,2]\n",
    "    y = X*γ + e[:,1]\n",
    "        \n",
    "    βols = (X'X)\\(X'y)\n",
    "    β2sls = 1/(X'Z.*1/(Z'Z)[1,1].*Z'X)[1,1].*X'Z.*1/(Z'Z)[1,1].*Z'y\n",
    "    \n",
    "    return vcat(βols, β2sls)\n",
    "end"
   ]
  },
  {
   "cell_type": "code",
   "execution_count": 74,
   "metadata": {
    "collapsed": false
   },
   "outputs": [],
   "source": [
    "simulations = SharedArray(Float64, 10000, 2)\n",
    "for i in 1:10000\n",
    "    simulations[i,:] = sim()\n",
    "end;"
   ]
  },
  {
   "cell_type": "markdown",
   "metadata": {},
   "source": [
    "$\\beta_{ols}$:"
   ]
  },
  {
   "cell_type": "code",
   "execution_count": 78,
   "metadata": {
    "collapsed": false,
    "scrolled": false
   },
   "outputs": [
    {
     "data": {
      "text/html": [
       "<img src=\"data:image/png;base64,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\" />"
      ]
     },
     "execution_count": 78,
     "metadata": {},
     "output_type": "execute_result"
    }
   ],
   "source": [
    "histogram(simulations[:,1], nbins=50, normed=true, ylim=(0,10),xlim=(0.5,1.5))"
   ]
  },
  {
   "cell_type": "code",
   "execution_count": null,
   "metadata": {
    "collapsed": true
   },
   "outputs": [],
   "source": []
  }
 ],
 "metadata": {
  "anaconda-cloud": {},
  "kernelspec": {
   "display_name": "Julia 0.5.0",
   "language": "julia",
   "name": "julia-0.5"
  },
  "language_info": {
   "file_extension": ".jl",
   "mimetype": "application/julia",
   "name": "julia",
   "version": "0.5.0"
  }
 },
 "nbformat": 4,
 "nbformat_minor": 0
}
