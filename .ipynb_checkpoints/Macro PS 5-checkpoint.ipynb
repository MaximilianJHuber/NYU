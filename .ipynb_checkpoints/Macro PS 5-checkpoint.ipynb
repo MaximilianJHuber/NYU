{
 "cells": [
  {
   "cell_type": "markdown",
   "metadata": {
    "collapsed": true
   },
   "source": [
    "Question 1\n",
    "=="
   ]
  },
  {
   "cell_type": "markdown",
   "metadata": {},
   "source": [
    "$$x_{t+1}=A_0x_t+Cw_{t+1}$$\n",
    "$$y_{t+1}=Gx_t+Dw_{t+1}$$\n",
    "with $x_t \\in \\mathbb{R}^n$, $y_t \\in \\mathbb{R}^k$ and $w_t \\in \\mathbb{R}^m$.\n",
    "\n",
    "1.5.\n",
    "--\n",
    "\n",
    "This code heavily borrows from QuantEcon's http://lectures.quantecon.org/jl/linear_models.html and http://lectures.quantecon.org/jl/kalman.html."
   ]
  },
  {
   "cell_type": "code",
   "execution_count": 1,
   "metadata": {
    "collapsed": false
   },
   "outputs": [
    {
     "data": {
      "text/plain": [
       "LSSgeneralized"
      ]
     },
     "execution_count": 1,
     "metadata": {},
     "output_type": "execute_result"
    }
   ],
   "source": [
    "using Distributions \n",
    "\n",
    "type LSSgeneralized\n",
    "    #matrices\n",
    "    A::Matrix\n",
    "    C::Matrix\n",
    "    G::Matrix\n",
    "    D::Matrix\n",
    "    \n",
    "    #dimensions\n",
    "    k::Int\n",
    "    n::Int\n",
    "    m::Int\n",
    "    \n",
    "    #prior\n",
    "    mu_0::Vector\n",
    "    Sigma_0::Matrix\n",
    "    dist::MultivariateNormal\n",
    "    \n",
    "    #filter\n",
    "    xhat::MultivariateNormal\n",
    "end\n",
    "\n",
    "function LSSgeneralized(A::Matrix, C::Matrix, G::Matrix, D::Matrix, \n",
    "        mu_0::Array, Sigma_0::Matrix)\n",
    "    k = size(G, 1)\n",
    "    n = size(G, 2)\n",
    "    m = size(C, 2)\n",
    "    \n",
    "    return LSSgeneralized(A,C,G,D,k,n,m,mu_0,Sigma_0,MultivariateNormal(mu_0, Sigma_0),MultivariateNormal(mu_0, Sigma_0))\n",
    "end"
   ]
  },
  {
   "cell_type": "markdown",
   "metadata": {},
   "source": [
    "Mind: $(x_t,y_{t+1})$."
   ]
  },
  {
   "cell_type": "code",
   "execution_count": 2,
   "metadata": {
    "collapsed": false
   },
   "outputs": [
    {
     "data": {
      "text/plain": [
       "simulate (generic function with 2 methods)"
      ]
     },
     "execution_count": 2,
     "metadata": {},
     "output_type": "execute_result"
    }
   ],
   "source": [
    "function simulate(lss::LSSgeneralized, ts_length=100)\n",
    "    x = Array(Float64, lss.n, ts_length)\n",
    "    y = Array(Float64, lss.m, ts_length)\n",
    "    x[:, 1] = rand(lss.dist)\n",
    "    \n",
    "    w = randn(lss.k, ts_length - 1)\n",
    "    for t=1:ts_length-1\n",
    "        y[:, t] = lss.G * x[:,t] .+ lss.D * w[:, t]\n",
    "        x[:, t+1] = lss.A * x[:, t] .+ lss.C * w[:, t]\n",
    "    end\n",
    "    \n",
    "    y[:,end] = NaN*zeros(lss.m)    #last observation is not defined!\n",
    "\n",
    "    return (x, y)\n",
    "end"
   ]
  },
  {
   "cell_type": "markdown",
   "metadata": {},
   "source": [
    "Mind that $\\hat{x}_t$ is a nowcast! The function \"prior_to_nowcast\" takes a single $y_t$ observation and does the update."
   ]
  },
  {
   "cell_type": "code",
   "execution_count": 3,
   "metadata": {
    "collapsed": false
   },
   "outputs": [
    {
     "data": {
      "text/plain": [
       "prior_to_nowcast! (generic function with 1 method)"
      ]
     },
     "execution_count": 3,
     "metadata": {},
     "output_type": "execute_result"
    }
   ],
   "source": [
    "function prior_to_nowcast!(k::LSSgeneralized, y::Vector)\n",
    "\n",
    "    K = (k.A*k.xhat.Σ*k.G + k.C*k.D')*inv(k.G*k.xhat.Σ*G'+k.D*k.D')\n",
    "    \n",
    "    k.xhat = MultivariateDistribution(k.A*k.xhat.μ+K*(y-k.G*k.xhat.μ),\n",
    "                (k.A-K*k.G)*k.xhat.Σ*(k.A-K*k.G)' + (C-K*D)*(C-K*D)')\n",
    "    \n",
    "    Void\n",
    "end"
   ]
  },
  {
   "cell_type": "markdown",
   "metadata": {},
   "source": [
    "The function \"kalmanian\" takes a whole time series, with one observation per row."
   ]
  },
  {
   "cell_type": "code",
   "execution_count": 4,
   "metadata": {
    "collapsed": false
   },
   "outputs": [
    {
     "data": {
      "text/plain": [
       "kalmanian (generic function with 1 method)"
      ]
     },
     "execution_count": 4,
     "metadata": {},
     "output_type": "execute_result"
    }
   ],
   "source": [
    "function kalmanian(k::LSSgeneralized, y::Matrix)\n",
    "    \n",
    "    T=size(y,1)\n",
    "    Xhat = Array(MultivariateNormal,T)\n",
    "    \n",
    "    for i in 1:size(y,1)\n",
    "        prior_to_nowcast!(k,y[i,:])\n",
    "        Xhat[i] = k.xhat\n",
    "    end\n",
    "    \n",
    "    return Xhat\n",
    "end"
   ]
  },
  {
   "cell_type": "code",
   "execution_count": 5,
   "metadata": {
    "collapsed": false
   },
   "outputs": [
    {
     "data": {
      "text/plain": [
       "state_likelihood (generic function with 1 method)"
      ]
     },
     "execution_count": 5,
     "metadata": {},
     "output_type": "execute_result"
    }
   ],
   "source": [
    "function state_likelihood(y::LSSgeneralized, x::Matrix)\n",
    "    T = size(x,1)\n",
    "    return sum([log(pdf(MultivariateNormal(k.A*x[t-1,:],k.C*k.C'), x[t;:])) for t in 2:T]) +\n",
    "                log(pdf(k.dist,x[1,:]))\n",
    "end"
   ]
  },
  {
   "cell_type": "code",
   "execution_count": 6,
   "metadata": {
    "collapsed": false
   },
   "outputs": [
    {
     "data": {
      "text/plain": [
       "observation_likelihood (generic function with 1 method)"
      ]
     },
     "execution_count": 6,
     "metadata": {},
     "output_type": "execute_result"
    }
   ],
   "source": [
    "function observation_likelihood(k::LSSgeneralized, y::Matrix)\n",
    "    T = size(y,1)\n",
    "    \n",
    "    Xhat = kalmanian(k,y)\n",
    "    return sum([\n",
    "        log(pdf(MultivariateNormal(k.G*Xhat[t-1].μ,G*Xhat[t-1].Σ*G' + k.D*k.D'), y[t;:])) \n",
    "        for t in 2:T])\n",
    "end"
   ]
  },
  {
   "cell_type": "markdown",
   "metadata": {},
   "source": [
    "1.6\n",
    "--"
   ]
  },
  {
   "cell_type": "code",
   "execution_count": 7,
   "metadata": {
    "collapsed": false
   },
   "outputs": [
    {
     "data": {
      "text/plain": [
       "0.03"
      ]
     },
     "execution_count": 7,
     "metadata": {},
     "output_type": "execute_result"
    }
   ],
   "source": [
    "ρ=0.8; σ1=0.02; σ2=0.05; σ3=0.03"
   ]
  },
  {
   "cell_type": "code",
   "execution_count": 10,
   "metadata": {
    "collapsed": false
   },
   "outputs": [],
   "source": [
    "lss = LSSgeneralized([ρ 0; 0 0 ], [σ1 0; 0 σ2], [1 1], \n",
    "        reshape([σ3],1,1), [0, 0], [0.01 0; 0 0.01]);"
   ]
  },
  {
   "cell_type": "code",
   "execution_count": 11,
   "metadata": {
    "collapsed": false
   },
   "outputs": [
    {
     "ename": "LoadError",
     "evalue": "LoadError: DimensionMismatch(\"tried to assign 1-element array to 2×1 destination\")\nwhile loading In[11], in expression starting on line 1",
     "output_type": "error",
     "traceback": [
      "LoadError: DimensionMismatch(\"tried to assign 1-element array to 2×1 destination\")\nwhile loading In[11], in expression starting on line 1",
      "",
      " in throw_setindex_mismatch(::Array{Float64,1}, ::Tuple{Int64,Int64}) at ./operators.jl:421",
      " in setindex_shape_check(::Array{Float64,1}, ::Int64, ::Int64) at ./operators.jl:473",
      " in macro expansion at ./multidimensional.jl:425 [inlined]",
      " in _unsafe_batchsetindex!(::Array{Float64,2}, ::Array{Float64,1}, ::Colon, ::Int64) at ./multidimensional.jl:421",
      " in simulate(::LSSgeneralized, ::Int64) at ./In[2]:8"
     ]
    }
   ],
   "source": [
    "data = simulate(lss,160)"
   ]
  },
  {
   "cell_type": "code",
   "execution_count": 13,
   "metadata": {
    "collapsed": false
   },
   "outputs": [
    {
     "data": {
      "text/plain": [
       "1×159 Array{Float64,2}:\n",
       " -0.147957  -1.07618  0.495646  -1.90825  …  -0.608429  -0.636274  -1.36559"
      ]
     },
     "execution_count": 13,
     "metadata": {},
     "output_type": "execute_result"
    }
   ],
   "source": [
    "ts_length=160\n",
    "x = Array(Float64, lss.n, ts_length)\n",
    "    y = Array(Float64, lss.m, ts_length)\n",
    "    x[:, 1] = rand(lss.dist)\n",
    "    \n",
    "    w = randn(lss.k, ts_length - 1)"
   ]
  },
  {
   "cell_type": "code",
   "execution_count": 16,
   "metadata": {
    "collapsed": false
   },
   "outputs": [
    {
     "ename": "LoadError",
     "evalue": "LoadError: DimensionMismatch(\"second dimension of A, 2, does not match length of x, 1\")\nwhile loading In[16], in expression starting on line 3",
     "output_type": "error",
     "traceback": [
      "LoadError: DimensionMismatch(\"second dimension of A, 2, does not match length of x, 1\")\nwhile loading In[16], in expression starting on line 3",
      "",
      " in gemv!(::Array{Float64,1}, ::Char, ::Array{Float64,2}, ::Array{Float64,1}) at ./linalg/matmul.jl:219",
      " in *(::Array{Float64,2}, ::Array{Float64,1}) at ./linalg/matmul.jl:80"
     ]
    }
   ],
   "source": [
    "t=1\n",
    "y[:, t] = lss.G * x[:,t] .+ lss.D * w[:, t]\n",
    "#x[:, t+1] = lss.A * x[:, t] .+ lss.C * w[:, t]"
   ]
  },
  {
   "cell_type": "code",
   "execution_count": 17,
   "metadata": {
    "collapsed": false
   },
   "outputs": [
    {
     "data": {
      "text/plain": [
       "2-element Array{Float64,1}:\n",
       " 6.92789e-310\n",
       " 6.92772e-310"
      ]
     },
     "execution_count": 17,
     "metadata": {},
     "output_type": "execute_result"
    }
   ],
   "source": [
    "y[:, t]"
   ]
  },
  {
   "cell_type": "code",
   "execution_count": null,
   "metadata": {
    "collapsed": true
   },
   "outputs": [],
   "source": []
  }
 ],
 "metadata": {
  "anaconda-cloud": {},
  "kernelspec": {
   "display_name": "Julia 0.5.0",
   "language": "julia",
   "name": "julia-0.5"
  },
  "language_info": {
   "file_extension": ".jl",
   "mimetype": "application/julia",
   "name": "julia",
   "version": "0.5.0"
  }
 },
 "nbformat": 4,
 "nbformat_minor": 0
}
