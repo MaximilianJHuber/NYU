{
 "cells": [
  {
   "cell_type": "markdown",
   "metadata": {},
   "source": [
    "# Question 1\n",
    "You can find this code on my GitHub account: https://github.com/MaximilianJHuber/NYU"
   ]
  },
  {
   "cell_type": "code",
   "execution_count": 1,
   "metadata": {
    "collapsed": false
   },
   "outputs": [],
   "source": [
    "using ExcelReaders\n",
    "using DataFrames"
   ]
  },
  {
   "cell_type": "code",
   "execution_count": 43,
   "metadata": {
    "collapsed": false
   },
   "outputs": [],
   "source": [
    "df = readxlsheet(DataFrame, \"data_homework_nyu.xls\", \"Sheet1\");"
   ]
  },
  {
   "cell_type": "markdown",
   "metadata": {},
   "source": [
    "## (1)\n",
    "All transformated time series I calculate are in measured in percent."
   ]
  },
  {
   "cell_type": "code",
   "execution_count": 72,
   "metadata": {
    "collapsed": false,
    "scrolled": true
   },
   "outputs": [
    {
     "data": {
      "text/html": [
       "<table class=\"data-frame\"><thead><tr><th></th><th>year</th><th>C_ND</th><th>P_ND</th><th>exr</th><th>smb</th><th>hml</th><th>rf</th><th>s1</th><th>s2</th><th>s3</th><th>b1</th><th>b2</th><th>b3</th><th>gC_ND</th><th>INFL</th><th>Rm</th><th>rRm</th><th>rRf</th><th>rs1</th><th>rs2</th><th>rs3</th><th>rb1</th><th>rb2</th><th>rb3</th></tr></thead><tbody><tr><th>1</th><td>1929.0</td><td>13.89</td><td>11.234</td><td>-19.54</td><td>-30.78</td><td>11.83</td><td>4.75</td><td>-50.49</td><td>-42.8</td><td>-43.15</td><td>-28.57</td><td>-17.31</td><td>-12.27</td><td>-5.212383009359223</td><td>-5.189602990920439</td><td>-14.79</td><td>-8.600397009079561</td><td>10.939602990920438</td><td>-44.30039700907956</td><td>-36.610397009079556</td><td>-36.96039700907956</td><td>-22.380397009079562</td><td>-11.12039700907956</td><td>-6.080397009079561</td></tr><tr><th>2</th><td>1930.0</td><td>13.166</td><td>10.651</td><td>-31.23</td><td>-5.13</td><td>-12.28</td><td>2.41</td><td>-41.23</td><td>-38.9</td><td>-45.1</td><td>-34.96</td><td>-39.41</td><td>-48.19</td><td>-1.0709403007747476</td><td>-14.505680217819904</td><td>-28.82</td><td>-13.314319782180096</td><td>17.915680217819904</td><td>-25.724319782180093</td><td>-23.394319782180094</td><td>-29.594319782180097</td><td>-19.454319782180097</td><td>-23.904319782180092</td><td>-32.6843197821801</td></tr><tr><th>3</th><td>1931.0</td><td>13.025</td><td>9.106</td><td>-45.11</td><td>3.53</td><td>-14.29</td><td>1.07</td><td>-49.02</td><td>-46.55</td><td>-41.12</td><td>-42.92</td><td>-56.09</td><td>-55.16</td><td>-8.813819577735128</td><td>-14.265319569514624</td><td>-44.04</td><td>-28.774680430485375</td><td>16.335319569514624</td><td>-33.75468043048538</td><td>-31.284680430485373</td><td>-25.854680430485374</td><td>-27.654680430485378</td><td>-40.82468043048538</td><td>-39.89468043048537</td></tr><tr><th>4</th><td>1932.0</td><td>11.877</td><td>7.807</td><td>-9.39</td><td>4.68</td><td>10.16</td><td>0.96</td><td>-16.86</td><td>4.13</td><td>40.52</td><td>-13.79</td><td>-10.7</td><td>5.28</td><td>-0.3536246526900544</td><td>-0.5123607019341225</td><td>-8.43</td><td>-6.917639298065877</td><td>2.4723607019341225</td><td>-15.347639298065877</td><td>5.642360701934122</td><td>42.032360701934124</td><td>-12.277639298065877</td><td>-9.187639298065877</td><td>6.792360701934123</td></tr><tr><th>5</th><td>1933.0</td><td>11.835</td><td>7.767</td><td>57.05</td><td>48.94</td><td>28.27</td><td>0.3</td><td>126.72</td><td>162.41</td><td>227.19</td><td>57.41</td><td>112.91</td><td>127.52</td><td>8.153781157583406</td><td>10.608986738766557</td><td>57.349999999999994</td><td>47.741013261233434</td><td>-9.308986738766556</td><td>117.11101326123344</td><td>152.80101326123344</td><td>217.58101326123344</td><td>47.801013261233436</td><td>103.30101326123344</td><td>117.91101326123344</td></tr><tr><th>6</th><td>1934.0</td><td>12.8</td><td>8.591</td><td>3.02</td><td>25.44</td><td>-27.37</td><td>0.16</td><td>39.05</td><td>23.68</td><td>22.62</td><td>12.61</td><td>11.5</td><td>-18.58</td><td>5.726562499999988</td><td>3.3407053893609318</td><td>3.18</td><td>0.8392946106390684</td><td>-2.1807053893609316</td><td>36.70929461063906</td><td>21.33929461063907</td><td>20.27929461063907</td><td>10.269294610639069</td><td>9.15929461063907</td><td>-20.92070538936093</td></tr></tbody></table>"
      ],
      "text/plain": [
       "6×24 DataFrames.DataFrame\n",
       "│ Row │ year   │ C_ND   │ P_ND   │ exr    │ smb    │ hml    │ rf   │ s1     │\n",
       "├─────┼────────┼────────┼────────┼────────┼────────┼────────┼──────┼────────┤\n",
       "│ 1   │ 1929.0 │ 13.89  │ 11.234 │ -19.54 │ -30.78 │ 11.83  │ 4.75 │ -50.49 │\n",
       "│ 2   │ 1930.0 │ 13.166 │ 10.651 │ -31.23 │ -5.13  │ -12.28 │ 2.41 │ -41.23 │\n",
       "│ 3   │ 1931.0 │ 13.025 │ 9.106  │ -45.11 │ 3.53   │ -14.29 │ 1.07 │ -49.02 │\n",
       "│ 4   │ 1932.0 │ 11.877 │ 7.807  │ -9.39  │ 4.68   │ 10.16  │ 0.96 │ -16.86 │\n",
       "│ 5   │ 1933.0 │ 11.835 │ 7.767  │ 57.05  │ 48.94  │ 28.27  │ 0.3  │ 126.72 │\n",
       "│ 6   │ 1934.0 │ 12.8   │ 8.591  │ 3.02   │ 25.44  │ -27.37 │ 0.16 │ 39.05  │\n",
       "\n",
       "│ Row │ s2     │ s3     │ b1     │ b2     │ b3     │ gC_ND     │ INFL      │\n",
       "├─────┼────────┼────────┼────────┼────────┼────────┼───────────┼───────────┤\n",
       "│ 1   │ -42.8  │ -43.15 │ -28.57 │ -17.31 │ -12.27 │ -5.21238  │ -5.1896   │\n",
       "│ 2   │ -38.9  │ -45.1  │ -34.96 │ -39.41 │ -48.19 │ -1.07094  │ -14.5057  │\n",
       "│ 3   │ -46.55 │ -41.12 │ -42.92 │ -56.09 │ -55.16 │ -8.81382  │ -14.2653  │\n",
       "│ 4   │ 4.13   │ 40.52  │ -13.79 │ -10.7  │ 5.28   │ -0.353625 │ -0.512361 │\n",
       "│ 5   │ 162.41 │ 227.19 │ 57.41  │ 112.91 │ 127.52 │ 8.15378   │ 10.609    │\n",
       "│ 6   │ 23.68  │ 22.62  │ 12.61  │ 11.5   │ -18.58 │ 5.72656   │ 3.34071   │\n",
       "\n",
       "│ Row │ Rm     │ rRm      │ rRf      │ rs1      │ rs2      │ rs3      │\n",
       "├─────┼────────┼──────────┼──────────┼──────────┼──────────┼──────────┤\n",
       "│ 1   │ -14.79 │ -8.6004  │ 10.9396  │ -44.3004 │ -36.6104 │ -36.9604 │\n",
       "│ 2   │ -28.82 │ -13.3143 │ 17.9157  │ -25.7243 │ -23.3943 │ -29.5943 │\n",
       "│ 3   │ -44.04 │ -28.7747 │ 16.3353  │ -33.7547 │ -31.2847 │ -25.8547 │\n",
       "│ 4   │ -8.43  │ -6.91764 │ 2.47236  │ -15.3476 │ 5.64236  │ 42.0324  │\n",
       "│ 5   │ 57.35  │ 47.741   │ -9.30899 │ 117.111  │ 152.801  │ 217.581  │\n",
       "│ 6   │ 3.18   │ 0.839295 │ -2.18071 │ 36.7093  │ 21.3393  │ 20.2793  │\n",
       "\n",
       "│ Row │ rb1      │ rb2      │ rb3      │\n",
       "├─────┼──────────┼──────────┼──────────┤\n",
       "│ 1   │ -22.3804 │ -11.1204 │ -6.0804  │\n",
       "│ 2   │ -19.4543 │ -23.9043 │ -32.6843 │\n",
       "│ 3   │ -27.6547 │ -40.8247 │ -39.8947 │\n",
       "│ 4   │ -12.2776 │ -9.18764 │ 6.79236  │\n",
       "│ 5   │ 47.801   │ 103.301  │ 117.911  │\n",
       "│ 6   │ 10.2693  │ 9.15929  │ -20.9207 │"
      ]
     },
     "execution_count": 72,
     "metadata": {},
     "output_type": "execute_result"
    }
   ],
   "source": [
    "a = DataArray(Float64,88)\n",
    "a[1:end-1] = exp(diff(log(df[:C_ND])))\n",
    "df[:gC_ND] = (a-1).*100\n",
    "a = DataArray(Float64,88)\n",
    "a[1:end-1] = exp(diff(log(df[:P_ND])))\n",
    "df[:INFL] = (a-1).*100\n",
    "df[:Rm] = df[:exr] + df[:rf]\n",
    "df[:rRf] = df[:rf] - (df[:INFL]-1)\n",
    "df[:rRm] = df[:Rm] - (df[:INFL]-1)\n",
    "\n",
    "df[:rs1] = df[:s1] - (df[:INFL]-1)\n",
    "df[:rs2] = df[:s2] - (df[:INFL]-1)\n",
    "df[:rs3] = df[:s3] - (df[:INFL]-1)\n",
    "df[:rb1] = df[:b1] - (df[:INFL]-1)\n",
    "df[:rb2] = df[:b2] - (df[:INFL]-1)\n",
    "df[:rb3] = df[:b3] - (df[:INFL]-1)\n",
    "head(df)"
   ]
  },
  {
   "cell_type": "markdown",
   "metadata": {},
   "source": [
    "## (2)"
   ]
  },
  {
   "cell_type": "code",
   "execution_count": 73,
   "metadata": {
    "collapsed": false,
    "scrolled": false
   },
   "outputs": [
    {
     "data": {
      "text/html": [
       "<table class=\"data-frame\"><thead><tr><th></th><th>name</th><th>mean</th><th>sd</th><th>acorr</th></tr></thead><tbody><tr><th>1</th><td>gC_ND</td><td>[2.49224]</td><td>[2.61236]</td><td>[0.344014]</td></tr><tr><th>2</th><td>rRf</td><td>[1.72125]</td><td>[5.36304]</td><td>[0.671843]</td></tr><tr><th>3</th><td>rRm</td><td>[9.47045]</td><td>[19.5807]</td><td>[0.0190547]</td></tr><tr><th>4</th><td>rs1</td><td>[8.81079]</td><td>[34.5712]</td><td>[-0.0380369]</td></tr><tr><th>5</th><td>rs2</td><td>[13.3624]</td><td>[32.6558]</td><td>[0.0206261]</td></tr><tr><th>6</th><td>rs3</td><td>[19.8076]</td><td>[39.7194]</td><td>[0.10446]</td></tr><tr><th>7</th><td>rb1</td><td>[6.0562]</td><td>[21.1125]</td><td>[-0.0254042]</td></tr><tr><th>8</th><td>rb2</td><td>[8.08608]</td><td>[23.2538]</td><td>[-0.0184032]</td></tr><tr><th>9</th><td>rb3</td><td>[10.0333]</td><td>[27.5116]</td><td>[-0.103473]</td></tr></tbody></table>"
      ],
      "text/plain": [
       "9×4 DataFrames.DataFrame\n",
       "│ Row │ name  │ mean      │ sd        │ acorr        │\n",
       "├─────┼───────┼───────────┼───────────┼──────────────┤\n",
       "│ 1   │ gC_ND │ [2.49224] │ [2.61236] │ [0.344014]   │\n",
       "│ 2   │ rRf   │ [1.72125] │ [5.36304] │ [0.671843]   │\n",
       "│ 3   │ rRm   │ [9.47045] │ [19.5807] │ [0.0190547]  │\n",
       "│ 4   │ rs1   │ [8.81079] │ [34.5712] │ [-0.0380369] │\n",
       "│ 5   │ rs2   │ [13.3624] │ [32.6558] │ [0.0206261]  │\n",
       "│ 6   │ rs3   │ [19.8076] │ [39.7194] │ [0.10446]    │\n",
       "│ 7   │ rb1   │ [6.0562]  │ [21.1125] │ [-0.0254042] │\n",
       "│ 8   │ rb2   │ [8.08608] │ [23.2538] │ [-0.0184032] │\n",
       "│ 9   │ rb3   │ [10.0333] │ [27.5116] │ [-0.103473]  │"
      ]
     },
     "execution_count": 73,
     "metadata": {},
     "output_type": "execute_result"
    }
   ],
   "source": [
    "stat = DataFrame()\n",
    "stat[:name] = df.colindex.names\n",
    "stat[:mean] = colwise(x -> mean(x[!isna(x)]), df)\n",
    "stat[:sd] = colwise(x -> std(x[!isna(x)]), df)\n",
    "stat[:acorr] = colwise(x -> autocor(x[!isna(x)]), df)\n",
    "stat[[14, 18, 17, 19, 20, 21, 22, 23, 24],:]"
   ]
  },
  {
   "cell_type": "markdown",
   "metadata": {},
   "source": [
    "## (3)"
   ]
  },
  {
   "cell_type": "code",
   "execution_count": 74,
   "metadata": {
    "collapsed": false
   },
   "outputs": [
    {
     "data": {
      "text/html": [
       "<table class=\"data-frame\"><thead><tr><th></th><th>name</th><th>meanlog</th><th>sdlog</th></tr></thead><tbody><tr><th>1</th><td>gC_ND</td><td>[0.0242918]</td><td>[0.0257341]</td></tr><tr><th>2</th><td>rRf</td><td>[0.015674]</td><td>[0.0532858]</td></tr><tr><th>3</th><td>rRm</td><td>[0.0734558]</td><td>[0.18973]</td></tr><tr><th>4</th><td>rs1</td><td>[0.0337553]</td><td>[0.325673]</td></tr><tr><th>5</th><td>rs2</td><td>[0.0846046]</td><td>[0.291254]</td></tr><tr><th>6</th><td>rs3</td><td>[0.131097]</td><td>[0.316275]</td></tr><tr><th>7</th><td>rb1</td><td>[0.0370711]</td><td>[0.216451]</td></tr><tr><th>8</th><td>rb2</td><td>[0.0543497]</td><td>[0.220955]</td></tr><tr><th>9</th><td>rb3</td><td>[0.0648147]</td><td>[0.251615]</td></tr></tbody></table>"
      ],
      "text/plain": [
       "9×3 DataFrames.DataFrame\n",
       "│ Row │ name  │ meanlog     │ sdlog       │\n",
       "├─────┼───────┼─────────────┼─────────────┤\n",
       "│ 1   │ gC_ND │ [0.0242918] │ [0.0257341] │\n",
       "│ 2   │ rRf   │ [0.015674]  │ [0.0532858] │\n",
       "│ 3   │ rRm   │ [0.0734558] │ [0.18973]   │\n",
       "│ 4   │ rs1   │ [0.0337553] │ [0.325673]  │\n",
       "│ 5   │ rs2   │ [0.0846046] │ [0.291254]  │\n",
       "│ 6   │ rs3   │ [0.131097]  │ [0.316275]  │\n",
       "│ 7   │ rb1   │ [0.0370711] │ [0.216451]  │\n",
       "│ 8   │ rb2   │ [0.0543497] │ [0.220955]  │\n",
       "│ 9   │ rb3   │ [0.0648147] │ [0.251615]  │"
      ]
     },
     "execution_count": 74,
     "metadata": {},
     "output_type": "execute_result"
    }
   ],
   "source": [
    "stat = DataFrame()\n",
    "stat[:name] = df[:,[14, 18, 17, 19, 20, 21, 22, 23, 24]].colindex.names\n",
    "stat[:meanlog] = colwise(x -> mean(log(1+x[!isna(x)]./100)), df[:,[14, 18, 17, 19, 20, 21, 22, 23, 24]])\n",
    "stat[:sdlog] = colwise(x -> std(log(1+x[!isna(x)]./100)), df[:,[14, 18, 17, 19, 20, 21, 22, 23, 24]])\n",
    "\n",
    "stat"
   ]
  },
  {
   "cell_type": "markdown",
   "metadata": {},
   "source": [
    "## (4)\n",
    "I regress:\n",
    "$$R_t^i = \\alpha * \\beta R_t^m$$"
   ]
  },
  {
   "cell_type": "code",
   "execution_count": 102,
   "metadata": {
    "collapsed": false
   },
   "outputs": [
    {
     "data": {
      "text/plain": [
       "Plots.GRBackend()"
      ]
     },
     "execution_count": 102,
     "metadata": {},
     "output_type": "execute_result"
    }
   ],
   "source": [
    "using GLM\n",
    "using Plots; gr()"
   ]
  },
  {
   "cell_type": "code",
   "execution_count": 103,
   "metadata": {
    "collapsed": false,
    "scrolled": true
   },
   "outputs": [
    {
     "data": {
      "text/html": [
       "<table class=\"data-frame\"><thead><tr><th></th><th>name</th><th>rs1</th><th>rs2</th><th>rs3</th><th>rb1</th><th>rb2</th><th>rb3</th></tr></thead><tbody><tr><th>1</th><td>α</td><td>-4.660369078436886</td><td>0.37904037238552185</td><td>5.532935047716625</td><td>-3.6978023436496397</td><td>-2.104865798629688</td><td>-1.6837943995092681</td></tr><tr><th>2</th><td>β</td><td>1.4224418259548646</td><td>1.3709342112037364</td><td>1.5072823076845963</td><td>1.0299404453069008</td><td>1.0760785426025612</td><td>1.2372292892676264</td></tr></tbody></table>"
      ],
      "text/plain": [
       "2×7 DataFrames.DataFrame\n",
       "│ Row │ name │ rs1      │ rs2     │ rs3     │ rb1     │ rb2      │ rb3      │\n",
       "├─────┼──────┼──────────┼─────────┼─────────┼─────────┼──────────┼──────────┤\n",
       "│ 1   │ \"α\"  │ -4.66037 │ 0.37904 │ 5.53294 │ -3.6978 │ -2.10487 │ -1.68379 │\n",
       "│ 2   │ \"β\"  │ 1.42244  │ 1.37093 │ 1.50728 │ 1.02994 │ 1.07608  │ 1.23723  │"
      ]
     },
     "execution_count": 103,
     "metadata": {},
     "output_type": "execute_result"
    }
   ],
   "source": [
    "coefs = DataFrame()\n",
    "coefs[:name] = [\"α\", \"β\"]\n",
    "coefs[:rs1] = coef(glm(@formula(rs1 ~ rRm), df, Normal(), IdentityLink()))\n",
    "coefs[:rs2] = coef(glm(@formula(rs2 ~ rRm), df, Normal(), IdentityLink()))\n",
    "coefs[:rs3] = coef(glm(@formula(rs3 ~ rRm), df, Normal(), IdentityLink()))\n",
    "coefs[:rb1] = coef(glm(@formula(rb1 ~ rRm), df, Normal(), IdentityLink()))\n",
    "coefs[:rb2] = coef(glm(@formula(rb2 ~ rRm), df, Normal(), IdentityLink()))\n",
    "coefs[:rb3] = coef(glm(@formula(rb3 ~ rRm), df, Normal(), IdentityLink()))\n",
    "coefs"
   ]
  },
  {
   "cell_type": "code",
   "execution_count": 140,
   "metadata": {
    "collapsed": false
   },
   "outputs": [
    {
     "data": {
      "text/html": [
       "<?xml version=\"1.0\" encoding=\"utf-8\"?>\n",
       "<svg xmlns=\"http://www.w3.org/2000/svg\" xmlns:xlink=\"http://www.w3.org/1999/xlink\" width=\"600\" height=\"400\" viewBox=\"0 0 600 400\">\n",
       "<defs>\n",
       "  <clipPath id=\"clip00\">\n",
       "    <rect x=\"0\" y=\"0\" width=\"600\" height=\"400\"/>\n",
       "  </clipPath>\n",
       "</defs>\n",
       "<polygon clip-path=\"url(#clip00)\" points=\"\n",
       "0,400 600,400 600,0 0,0 \n",
       "  \" fill=\"#ffffff\" fill-opacity=\"1\"/>\n",
       "<defs>\n",
       "  <clipPath id=\"clip01\">\n",
       "    <rect x=\"120\" y=\"0\" width=\"421\" height=\"400\"/>\n",
       "  </clipPath>\n",
       "</defs>\n",
       "<polygon clip-path=\"url(#clip00)\" points=\"\n",
       "39.4926,384.952 596.063,384.952 596.063,3.93701 39.4926,3.93701 \n",
       "  \" fill=\"#ffffff\" fill-opacity=\"1\"/>\n",
       "<defs>\n",
       "  <clipPath id=\"clip02\">\n",
       "    <rect x=\"39\" y=\"3\" width=\"557\" height=\"382\"/>\n",
       "  </clipPath>\n",
       "</defs>\n",
       "<polyline clip-path=\"url(#clip02)\" style=\"stroke:#00002d; stroke-width:0.8; stroke-opacity:0.5; fill:none\" stroke-dasharray=\"1, 2\" points=\"\n",
       "  132.309,379.237 132.309,9.65223 \n",
       "  \"/>\n",
       "<polyline clip-path=\"url(#clip02)\" style=\"stroke:#00002d; stroke-width:0.8; stroke-opacity:0.5; fill:none\" stroke-dasharray=\"1, 2\" points=\"\n",
       "  242.307,379.237 242.307,9.65223 \n",
       "  \"/>\n",
       "<polyline clip-path=\"url(#clip02)\" style=\"stroke:#00002d; stroke-width:0.8; stroke-opacity:0.5; fill:none\" stroke-dasharray=\"1, 2\" points=\"\n",
       "  352.305,379.237 352.305,9.65223 \n",
       "  \"/>\n",
       "<polyline clip-path=\"url(#clip02)\" style=\"stroke:#00002d; stroke-width:0.8; stroke-opacity:0.5; fill:none\" stroke-dasharray=\"1, 2\" points=\"\n",
       "  462.303,379.237 462.303,9.65223 \n",
       "  \"/>\n",
       "<polyline clip-path=\"url(#clip02)\" style=\"stroke:#00002d; stroke-width:0.8; stroke-opacity:0.5; fill:none\" stroke-dasharray=\"1, 2\" points=\"\n",
       "  572.301,379.237 572.301,9.65223 \n",
       "  \"/>\n",
       "<polyline clip-path=\"url(#clip02)\" style=\"stroke:#00002d; stroke-width:0.8; stroke-opacity:0.5; fill:none\" stroke-dasharray=\"1, 2\" points=\"\n",
       "  47.8411,314.183 587.714,314.183 \n",
       "  \"/>\n",
       "<polyline clip-path=\"url(#clip02)\" style=\"stroke:#00002d; stroke-width:0.8; stroke-opacity:0.5; fill:none\" stroke-dasharray=\"1, 2\" points=\"\n",
       "  47.8411,129.551 587.714,129.551 \n",
       "  \"/>\n",
       "<polyline clip-path=\"url(#clip02)\" style=\"stroke:#00002d; stroke-width:0.8; stroke-opacity:1; fill:none\" points=\"\n",
       "  39.4926,384.952 596.063,384.952 \n",
       "  \"/>\n",
       "<polyline clip-path=\"url(#clip02)\" style=\"stroke:#00002d; stroke-width:0.8; stroke-opacity:1; fill:none\" points=\"\n",
       "  132.309,384.952 132.309,379.237 \n",
       "  \"/>\n",
       "<polyline clip-path=\"url(#clip02)\" style=\"stroke:#00002d; stroke-width:0.8; stroke-opacity:1; fill:none\" points=\"\n",
       "  242.307,384.952 242.307,379.237 \n",
       "  \"/>\n",
       "<polyline clip-path=\"url(#clip02)\" style=\"stroke:#00002d; stroke-width:0.8; stroke-opacity:1; fill:none\" points=\"\n",
       "  352.305,384.952 352.305,379.237 \n",
       "  \"/>\n",
       "<polyline clip-path=\"url(#clip02)\" style=\"stroke:#00002d; stroke-width:0.8; stroke-opacity:1; fill:none\" points=\"\n",
       "  462.303,384.952 462.303,379.237 \n",
       "  \"/>\n",
       "<polyline clip-path=\"url(#clip02)\" style=\"stroke:#00002d; stroke-width:0.8; stroke-opacity:1; fill:none\" points=\"\n",
       "  572.301,384.952 572.301,379.237 \n",
       "  \"/>\n",
       "<polyline clip-path=\"url(#clip02)\" style=\"stroke:#00002d; stroke-width:0.8; stroke-opacity:1; fill:none\" points=\"\n",
       "  39.4926,384.952 39.4926,3.93701 \n",
       "  \"/>\n",
       "<polyline clip-path=\"url(#clip02)\" style=\"stroke:#00002d; stroke-width:0.8; stroke-opacity:1; fill:none\" points=\"\n",
       "  39.4926,314.183 47.8411,314.183 \n",
       "  \"/>\n",
       "<polyline clip-path=\"url(#clip02)\" style=\"stroke:#00002d; stroke-width:0.8; stroke-opacity:1; fill:none\" points=\"\n",
       "  39.4926,129.551 47.8411,129.551 \n",
       "  \"/>\n",
       "<g clip-path=\"url(#clip00)\">\n",
       "<text style=\"fill:#00002d; fill-opacity:1; font-family:Arial,Helvetica Neue,Helvetica,sans-serif; font-size:12; text-anchor:middle;\" transform=\"rotate(0, 132.309, 396.952)\" x=\"132.309\" y=\"396.952\">1.1</text>\n",
       "</g>\n",
       "<g clip-path=\"url(#clip00)\">\n",
       "<text style=\"fill:#00002d; fill-opacity:1; font-family:Arial,Helvetica Neue,Helvetica,sans-serif; font-size:12; text-anchor:middle;\" transform=\"rotate(0, 242.307, 396.952)\" x=\"242.307\" y=\"396.952\">1.2</text>\n",
       "</g>\n",
       "<g clip-path=\"url(#clip00)\">\n",
       "<text style=\"fill:#00002d; fill-opacity:1; font-family:Arial,Helvetica Neue,Helvetica,sans-serif; font-size:12; text-anchor:middle;\" transform=\"rotate(0, 352.305, 396.952)\" x=\"352.305\" y=\"396.952\">1.3</text>\n",
       "</g>\n",
       "<g clip-path=\"url(#clip00)\">\n",
       "<text style=\"fill:#00002d; fill-opacity:1; font-family:Arial,Helvetica Neue,Helvetica,sans-serif; font-size:12; text-anchor:middle;\" transform=\"rotate(0, 462.303, 396.952)\" x=\"462.303\" y=\"396.952\">1.4</text>\n",
       "</g>\n",
       "<g clip-path=\"url(#clip00)\">\n",
       "<text style=\"fill:#00002d; fill-opacity:1; font-family:Arial,Helvetica Neue,Helvetica,sans-serif; font-size:12; text-anchor:middle;\" transform=\"rotate(0, 572.301, 396.952)\" x=\"572.301\" y=\"396.952\">1.5</text>\n",
       "</g>\n",
       "<g clip-path=\"url(#clip00)\">\n",
       "<text style=\"fill:#00002d; fill-opacity:1; font-family:Arial,Helvetica Neue,Helvetica,sans-serif; font-size:12; text-anchor:end;\" transform=\"rotate(0, 38.2926, 318.683)\" x=\"38.2926\" y=\"318.683\">0.05</text>\n",
       "</g>\n",
       "<g clip-path=\"url(#clip00)\">\n",
       "<text style=\"fill:#00002d; fill-opacity:1; font-family:Arial,Helvetica Neue,Helvetica,sans-serif; font-size:12; text-anchor:end;\" transform=\"rotate(0, 38.2926, 134.051)\" x=\"38.2926\" y=\"134.051\">0.10</text>\n",
       "</g>\n",
       "<circle clip-path=\"url(#clip02)\" style=\"fill:#00002d; stroke:none; fill-opacity:1\" cx=\"486.988\" cy=\"374.168\" r=\"3\"/>\n",
       "<circle clip-path=\"url(#clip02)\" style=\"fill:#0099ff; stroke:none; fill-opacity:1\" cx=\"486.988\" cy=\"374.168\" r=\"2\"/>\n",
       "<circle clip-path=\"url(#clip02)\" style=\"fill:#00002d; stroke:none; fill-opacity:1\" cx=\"430.331\" cy=\"186.401\" r=\"3\"/>\n",
       "<circle clip-path=\"url(#clip02)\" style=\"fill:#0099ff; stroke:none; fill-opacity:1\" cx=\"430.331\" cy=\"186.401\" r=\"2\"/>\n",
       "<circle clip-path=\"url(#clip02)\" style=\"fill:#00002d; stroke:none; fill-opacity:1\" cx=\"580.311\" cy=\"14.7204\" r=\"3\"/>\n",
       "<circle clip-path=\"url(#clip02)\" style=\"fill:#0099ff; stroke:none; fill-opacity:1\" cx=\"580.311\" cy=\"14.7204\" r=\"2\"/>\n",
       "<circle clip-path=\"url(#clip02)\" style=\"fill:#00002d; stroke:none; fill-opacity:1\" cx=\"55.2446\" cy=\"361.925\" r=\"3\"/>\n",
       "<circle clip-path=\"url(#clip02)\" style=\"fill:#0099ff; stroke:none; fill-opacity:1\" cx=\"55.2446\" cy=\"361.925\" r=\"2\"/>\n",
       "<circle clip-path=\"url(#clip02)\" style=\"fill:#00002d; stroke:none; fill-opacity:1\" cx=\"105.996\" cy=\"298.121\" r=\"3\"/>\n",
       "<circle clip-path=\"url(#clip02)\" style=\"fill:#0099ff; stroke:none; fill-opacity:1\" cx=\"105.996\" cy=\"298.121\" r=\"2\"/>\n",
       "<circle clip-path=\"url(#clip02)\" style=\"fill:#00002d; stroke:none; fill-opacity:1\" cx=\"283.258\" cy=\"259.477\" r=\"3\"/>\n",
       "<circle clip-path=\"url(#clip02)\" style=\"fill:#0099ff; stroke:none; fill-opacity:1\" cx=\"283.258\" cy=\"259.477\" r=\"2\"/>\n",
       "<polygon clip-path=\"url(#clip00)\" points=\"\n",
       "505.547,55.057 578.063,55.057 578.063,24.817 505.547,24.817 \n",
       "  \" fill=\"#ffffff\" fill-opacity=\"1\"/>\n",
       "<polyline clip-path=\"url(#clip00)\" style=\"stroke:#00002d; stroke-width:0.8; stroke-opacity:1; fill:none\" points=\"\n",
       "  505.547,55.057 578.063,55.057 578.063,24.817 505.547,24.817 505.547,55.057 \n",
       "  \"/>\n",
       "<circle clip-path=\"url(#clip00)\" style=\"fill:#00002d; stroke:none; fill-opacity:1\" cx=\"517.547\" cy=\"39.937\" r=\"7\"/>\n",
       "<circle clip-path=\"url(#clip00)\" style=\"fill:#0099ff; stroke:none; fill-opacity:1\" cx=\"517.547\" cy=\"39.937\" r=\"7\"/>\n",
       "<circle clip-path=\"url(#clip00)\" style=\"fill:#00002d; stroke:none; fill-opacity:1\" cx=\"541.547\" cy=\"39.937\" r=\"7\"/>\n",
       "<circle clip-path=\"url(#clip00)\" style=\"fill:#0099ff; stroke:none; fill-opacity:1\" cx=\"541.547\" cy=\"39.937\" r=\"7\"/>\n",
       "<g clip-path=\"url(#clip00)\">\n",
       "<text style=\"fill:#00002d; fill-opacity:1; font-family:Arial,Helvetica Neue,Helvetica,sans-serif; font-size:12; text-anchor:start;\" transform=\"rotate(0, 553.547, 44.437)\" x=\"553.547\" y=\"44.437\">y1</text>\n",
       "</g>\n",
       "</svg>\n"
      ]
     },
     "execution_count": 140,
     "metadata": {},
     "output_type": "execute_result"
    }
   ],
   "source": [
    "scatter(Array(coefs[2,2:end])[1,:], [stat[4:end,2][i][1] for i in 1:6])"
   ]
  },
  {
   "cell_type": "markdown",
   "metadata": {},
   "source": [
    "CAPM predicts a positive relationship and the data show this behavior.\n",
    "## (6)"
   ]
  },
  {
   "cell_type": "code",
   "execution_count": 162,
   "metadata": {
    "collapsed": false
   },
   "outputs": [
    {
     "data": {
      "text/html": [
       "<?xml version=\"1.0\" encoding=\"utf-8\"?>\n",
       "<svg xmlns=\"http://www.w3.org/2000/svg\" xmlns:xlink=\"http://www.w3.org/1999/xlink\" width=\"600\" height=\"400\" viewBox=\"0 0 600 400\">\n",
       "<defs>\n",
       "  <clipPath id=\"clip00\">\n",
       "    <rect x=\"0\" y=\"0\" width=\"600\" height=\"400\"/>\n",
       "  </clipPath>\n",
       "</defs>\n",
       "<polygon clip-path=\"url(#clip00)\" points=\"\n",
       "0,400 600,400 600,0 0,0 \n",
       "  \" fill=\"#ffffff\" fill-opacity=\"1\"/>\n",
       "<defs>\n",
       "  <clipPath id=\"clip01\">\n",
       "    <rect x=\"120\" y=\"0\" width=\"421\" height=\"400\"/>\n",
       "  </clipPath>\n",
       "</defs>\n",
       "<polygon clip-path=\"url(#clip00)\" points=\"\n",
       "39.4926,384.952 596.063,384.952 596.063,3.93701 39.4926,3.93701 \n",
       "  \" fill=\"#ffffff\" fill-opacity=\"1\"/>\n",
       "<defs>\n",
       "  <clipPath id=\"clip02\">\n",
       "    <rect x=\"39\" y=\"3\" width=\"557\" height=\"382\"/>\n",
       "  </clipPath>\n",
       "</defs>\n",
       "<polyline clip-path=\"url(#clip02)\" style=\"stroke:#00002d; stroke-width:0.8; stroke-opacity:0.5; fill:none\" stroke-dasharray=\"1, 2\" points=\"\n",
       "  125.023,379.237 125.023,9.65223 \n",
       "  \"/>\n",
       "<polyline clip-path=\"url(#clip02)\" style=\"stroke:#00002d; stroke-width:0.8; stroke-opacity:0.5; fill:none\" stroke-dasharray=\"1, 2\" points=\"\n",
       "  258.911,379.237 258.911,9.65223 \n",
       "  \"/>\n",
       "<polyline clip-path=\"url(#clip02)\" style=\"stroke:#00002d; stroke-width:0.8; stroke-opacity:0.5; fill:none\" stroke-dasharray=\"1, 2\" points=\"\n",
       "  392.799,379.237 392.799,9.65223 \n",
       "  \"/>\n",
       "<polyline clip-path=\"url(#clip02)\" style=\"stroke:#00002d; stroke-width:0.8; stroke-opacity:0.5; fill:none\" stroke-dasharray=\"1, 2\" points=\"\n",
       "  526.686,379.237 526.686,9.65223 \n",
       "  \"/>\n",
       "<polyline clip-path=\"url(#clip02)\" style=\"stroke:#00002d; stroke-width:0.8; stroke-opacity:0.5; fill:none\" stroke-dasharray=\"1, 2\" points=\"\n",
       "  47.8411,314.183 587.714,314.183 \n",
       "  \"/>\n",
       "<polyline clip-path=\"url(#clip02)\" style=\"stroke:#00002d; stroke-width:0.8; stroke-opacity:0.5; fill:none\" stroke-dasharray=\"1, 2\" points=\"\n",
       "  47.8411,129.551 587.714,129.551 \n",
       "  \"/>\n",
       "<polyline clip-path=\"url(#clip02)\" style=\"stroke:#00002d; stroke-width:0.8; stroke-opacity:1; fill:none\" points=\"\n",
       "  39.4926,384.952 596.063,384.952 \n",
       "  \"/>\n",
       "<polyline clip-path=\"url(#clip02)\" style=\"stroke:#00002d; stroke-width:0.8; stroke-opacity:1; fill:none\" points=\"\n",
       "  125.023,384.952 125.023,379.237 \n",
       "  \"/>\n",
       "<polyline clip-path=\"url(#clip02)\" style=\"stroke:#00002d; stroke-width:0.8; stroke-opacity:1; fill:none\" points=\"\n",
       "  258.911,384.952 258.911,379.237 \n",
       "  \"/>\n",
       "<polyline clip-path=\"url(#clip02)\" style=\"stroke:#00002d; stroke-width:0.8; stroke-opacity:1; fill:none\" points=\"\n",
       "  392.799,384.952 392.799,379.237 \n",
       "  \"/>\n",
       "<polyline clip-path=\"url(#clip02)\" style=\"stroke:#00002d; stroke-width:0.8; stroke-opacity:1; fill:none\" points=\"\n",
       "  526.686,384.952 526.686,379.237 \n",
       "  \"/>\n",
       "<polyline clip-path=\"url(#clip02)\" style=\"stroke:#00002d; stroke-width:0.8; stroke-opacity:1; fill:none\" points=\"\n",
       "  39.4926,384.952 39.4926,3.93701 \n",
       "  \"/>\n",
       "<polyline clip-path=\"url(#clip02)\" style=\"stroke:#00002d; stroke-width:0.8; stroke-opacity:1; fill:none\" points=\"\n",
       "  39.4926,314.183 47.8411,314.183 \n",
       "  \"/>\n",
       "<polyline clip-path=\"url(#clip02)\" style=\"stroke:#00002d; stroke-width:0.8; stroke-opacity:1; fill:none\" points=\"\n",
       "  39.4926,129.551 47.8411,129.551 \n",
       "  \"/>\n",
       "<g clip-path=\"url(#clip00)\">\n",
       "<text style=\"fill:#00002d; fill-opacity:1; font-family:Arial,Helvetica Neue,Helvetica,sans-serif; font-size:12; text-anchor:middle;\" transform=\"rotate(0, 125.023, 396.952)\" x=\"125.023\" y=\"396.952\">5</text>\n",
       "</g>\n",
       "<g clip-path=\"url(#clip00)\">\n",
       "<text style=\"fill:#00002d; fill-opacity:1; font-family:Arial,Helvetica Neue,Helvetica,sans-serif; font-size:12; text-anchor:middle;\" transform=\"rotate(0, 258.911, 396.952)\" x=\"258.911\" y=\"396.952\">6</text>\n",
       "</g>\n",
       "<g clip-path=\"url(#clip00)\">\n",
       "<text style=\"fill:#00002d; fill-opacity:1; font-family:Arial,Helvetica Neue,Helvetica,sans-serif; font-size:12; text-anchor:middle;\" transform=\"rotate(0, 392.799, 396.952)\" x=\"392.799\" y=\"396.952\">7</text>\n",
       "</g>\n",
       "<g clip-path=\"url(#clip00)\">\n",
       "<text style=\"fill:#00002d; fill-opacity:1; font-family:Arial,Helvetica Neue,Helvetica,sans-serif; font-size:12; text-anchor:middle;\" transform=\"rotate(0, 526.686, 396.952)\" x=\"526.686\" y=\"396.952\">8</text>\n",
       "</g>\n",
       "<g clip-path=\"url(#clip00)\">\n",
       "<text style=\"fill:#00002d; fill-opacity:1; font-family:Arial,Helvetica Neue,Helvetica,sans-serif; font-size:12; text-anchor:end;\" transform=\"rotate(0, 38.2926, 318.683)\" x=\"38.2926\" y=\"318.683\">0.05</text>\n",
       "</g>\n",
       "<g clip-path=\"url(#clip00)\">\n",
       "<text style=\"fill:#00002d; fill-opacity:1; font-family:Arial,Helvetica Neue,Helvetica,sans-serif; font-size:12; text-anchor:end;\" transform=\"rotate(0, 38.2926, 134.051)\" x=\"38.2926\" y=\"134.051\">0.10</text>\n",
       "</g>\n",
       "<circle clip-path=\"url(#clip02)\" style=\"fill:#00002d; stroke:none; fill-opacity:1\" cx=\"433.939\" cy=\"374.168\" r=\"3\"/>\n",
       "<circle clip-path=\"url(#clip02)\" style=\"fill:#0099ff; stroke:none; fill-opacity:1\" cx=\"433.939\" cy=\"374.168\" r=\"2\"/>\n",
       "<circle clip-path=\"url(#clip02)\" style=\"fill:#00002d; stroke:none; fill-opacity:1\" cx=\"496.196\" cy=\"186.401\" r=\"3\"/>\n",
       "<circle clip-path=\"url(#clip02)\" style=\"fill:#0099ff; stroke:none; fill-opacity:1\" cx=\"496.196\" cy=\"186.401\" r=\"2\"/>\n",
       "<circle clip-path=\"url(#clip02)\" style=\"fill:#00002d; stroke:none; fill-opacity:1\" cx=\"580.311\" cy=\"14.7204\" r=\"3\"/>\n",
       "<circle clip-path=\"url(#clip02)\" style=\"fill:#0099ff; stroke:none; fill-opacity:1\" cx=\"580.311\" cy=\"14.7204\" r=\"2\"/>\n",
       "<circle clip-path=\"url(#clip02)\" style=\"fill:#00002d; stroke:none; fill-opacity:1\" cx=\"70.0831\" cy=\"361.925\" r=\"3\"/>\n",
       "<circle clip-path=\"url(#clip02)\" style=\"fill:#0099ff; stroke:none; fill-opacity:1\" cx=\"70.0831\" cy=\"361.925\" r=\"2\"/>\n",
       "<circle clip-path=\"url(#clip02)\" style=\"fill:#00002d; stroke:none; fill-opacity:1\" cx=\"198.857\" cy=\"298.121\" r=\"3\"/>\n",
       "<circle clip-path=\"url(#clip02)\" style=\"fill:#0099ff; stroke:none; fill-opacity:1\" cx=\"198.857\" cy=\"298.121\" r=\"2\"/>\n",
       "<circle clip-path=\"url(#clip02)\" style=\"fill:#00002d; stroke:none; fill-opacity:1\" cx=\"276.814\" cy=\"259.477\" r=\"3\"/>\n",
       "<circle clip-path=\"url(#clip02)\" style=\"fill:#0099ff; stroke:none; fill-opacity:1\" cx=\"276.814\" cy=\"259.477\" r=\"2\"/>\n",
       "<circle clip-path=\"url(#clip02)\" style=\"fill:#00002d; stroke:none; fill-opacity:1\" cx=\"55.2446\" cy=\"14.7204\" r=\"3\"/>\n",
       "<circle clip-path=\"url(#clip02)\" style=\"fill:#e9746a; stroke:none; fill-opacity:1\" cx=\"55.2446\" cy=\"14.7204\" r=\"2\"/>\n",
       "<polygon clip-path=\"url(#clip00)\" points=\"\n",
       "505.547,70.177 578.063,70.177 578.063,24.817 505.547,24.817 \n",
       "  \" fill=\"#ffffff\" fill-opacity=\"1\"/>\n",
       "<polyline clip-path=\"url(#clip00)\" style=\"stroke:#00002d; stroke-width:0.8; stroke-opacity:1; fill:none\" points=\"\n",
       "  505.547,70.177 578.063,70.177 578.063,24.817 505.547,24.817 505.547,70.177 \n",
       "  \"/>\n",
       "<circle clip-path=\"url(#clip00)\" style=\"fill:#00002d; stroke:none; fill-opacity:1\" cx=\"517.547\" cy=\"39.937\" r=\"7\"/>\n",
       "<circle clip-path=\"url(#clip00)\" style=\"fill:#0099ff; stroke:none; fill-opacity:1\" cx=\"517.547\" cy=\"39.937\" r=\"7\"/>\n",
       "<circle clip-path=\"url(#clip00)\" style=\"fill:#00002d; stroke:none; fill-opacity:1\" cx=\"541.547\" cy=\"39.937\" r=\"7\"/>\n",
       "<circle clip-path=\"url(#clip00)\" style=\"fill:#0099ff; stroke:none; fill-opacity:1\" cx=\"541.547\" cy=\"39.937\" r=\"7\"/>\n",
       "<g clip-path=\"url(#clip00)\">\n",
       "<text style=\"fill:#00002d; fill-opacity:1; font-family:Arial,Helvetica Neue,Helvetica,sans-serif; font-size:12; text-anchor:start;\" transform=\"rotate(0, 553.547, 44.437)\" x=\"553.547\" y=\"44.437\">y1</text>\n",
       "</g>\n",
       "<circle clip-path=\"url(#clip00)\" style=\"fill:#00002d; stroke:none; fill-opacity:1\" cx=\"517.547\" cy=\"55.057\" r=\"7\"/>\n",
       "<circle clip-path=\"url(#clip00)\" style=\"fill:#e9746a; stroke:none; fill-opacity:1\" cx=\"517.547\" cy=\"55.057\" r=\"7\"/>\n",
       "<circle clip-path=\"url(#clip00)\" style=\"fill:#00002d; stroke:none; fill-opacity:1\" cx=\"541.547\" cy=\"55.057\" r=\"7\"/>\n",
       "<circle clip-path=\"url(#clip00)\" style=\"fill:#e9746a; stroke:none; fill-opacity:1\" cx=\"541.547\" cy=\"55.057\" r=\"7\"/>\n",
       "<g clip-path=\"url(#clip00)\">\n",
       "<text style=\"fill:#00002d; fill-opacity:1; font-family:Arial,Helvetica Neue,Helvetica,sans-serif; font-size:12; text-anchor:start;\" transform=\"rotate(0, 553.547, 59.557)\" x=\"553.547\" y=\"59.557\">y2</text>\n",
       "</g>\n",
       "</svg>\n"
      ]
     },
     "execution_count": 162,
     "metadata": {},
     "output_type": "execute_result"
    }
   ],
   "source": [
    "coefs = DataFrame()\n",
    "coefs[:name] = [\"α\", \"β\"]\n",
    "coefs[:rs1] = coef(glm(@formula(rs1 ~ gC_ND), df, Normal(), IdentityLink()))\n",
    "coefs[:rs2] = coef(glm(@formula(rs2 ~ gC_ND), df, Normal(), IdentityLink()))\n",
    "coefs[:rs3] = coef(glm(@formula(rs3 ~ gC_ND), df, Normal(), IdentityLink()))\n",
    "coefs[:rb1] = coef(glm(@formula(rb1 ~ gC_ND), df, Normal(), IdentityLink()))\n",
    "coefs[:rb2] = coef(glm(@formula(rb2 ~ gC_ND), df, Normal(), IdentityLink()))\n",
    "coefs[:rb3] = coef(glm(@formula(rb3 ~ gC_ND), df, Normal(), IdentityLink()))\n",
    "coefs[:rRm] = coef(glm(@formula(rRm ~ gC_ND), df, Normal(), IdentityLink()))\n",
    "\n",
    "scatter(Array(coefs[2,2:end-1])[1,:], [stat[4:end,2][i][1] for i in 1:6])\n",
    "scatter!([coefs[2,8]], [stat[4:end,2][3][1]])"
   ]
  },
  {
   "cell_type": "markdown",
   "metadata": {},
   "source": []
  }
 ],
 "metadata": {
  "anaconda-cloud": {},
  "kernelspec": {
   "display_name": "Julia 0.5.1",
   "language": "julia",
   "name": "julia-0.5"
  },
  "language_info": {
   "file_extension": ".jl",
   "mimetype": "application/julia",
   "name": "julia",
   "version": "0.5.1"
  }
 },
 "nbformat": 4,
 "nbformat_minor": 0
}
