{
 "cells": [
  {
   "cell_type": "code",
   "execution_count": 1,
   "metadata": {
    "collapsed": true
   },
   "outputs": [],
   "source": [
    "using QuantEcon"
   ]
  },
  {
   "cell_type": "code",
   "execution_count": 4,
   "metadata": {
    "collapsed": false
   },
   "outputs": [
    {
     "data": {
      "text/plain": [
       "QuantEcon.LQ([0.5 0.0 0.0; 0.0 1.0 0.0; 0.0 0.0 1.0],[0.0 0.0 0.0; 0.0 0.0 0.0; 0.0 0.0 0.0],[1.0 0.0 0.0; 60.6 1.01 0.0; 0.0 0.0 -1.0],[0.0 0.0 0.0; 1.01 -1.01 0.0; 0.0 0.0 1.0],0.95,[0.0 0.0 0.0; 0.0 0.0 0.0; 0.0 0.0 0.0],1.0,nothing,[NaN NaN NaN; NaN NaN NaN; NaN NaN NaN],[NaN NaN NaN; NaN NaN NaN; NaN NaN NaN],0.0,[0.0 0.0 0.0; 0.0 0.0 0.0; 0.0 0.0 0.0])"
      ]
     },
     "execution_count": 4,
     "metadata": {},
     "output_type": "execute_result"
    }
   ],
   "source": [
    "#lq = QuantEcon.LQ(Q, R, A, B, C, N, bet, capT, rf, P, d, F) at /Users/Max/.julia/v0.5/QuantEcon/src/lqcontrol.jl:68()\n",
    "R=1.01\n",
    "cbar=60\n",
    "lq = LQ([0.5 0 0; 0 1 0; 0 0 1], zeros(3,3), [1 0 0; R*cbar R 0; 0 0 -1], [0 0 0; R -R 0; 0 0 1], 0.95)"
   ]
  },
  {
   "cell_type": "code",
   "execution_count": 5,
   "metadata": {
    "collapsed": false
   },
   "outputs": [
    {
     "data": {
      "text/plain": [
       "(\n",
       "[0.0 0.0 0.0; 0.0 0.0 0.0; 0.0 0.0 0.0],\n",
       "\n",
       "[0.0 0.0 0.0; 0.0 0.0 0.0; 0.0 0.0 0.0],\n",
       "\n",
       "NaN)"
      ]
     },
     "execution_count": 5,
     "metadata": {},
     "output_type": "execute_result"
    }
   ],
   "source": [
    "stationary_values!(lq)"
   ]
  },
  {
   "cell_type": "code",
   "execution_count": 12,
   "metadata": {
    "collapsed": false
   },
   "outputs": [
    {
     "data": {
      "text/plain": [
       "(\n",
       "[0.0 0.0 0.0; 0.0 0.0 0.0; 0.0 0.0 0.612715],\n",
       "\n",
       "[0.0 0.0 0.0; 0.0 0.0 -0.387285],\n",
       "\n",
       "0.0)"
      ]
     },
     "execution_count": 12,
     "metadata": {},
     "output_type": "execute_result"
    }
   ],
   "source": [
    "lq2 = QuantEcon.LQ([0.5 0; 0 2], [0 0 0; 0 0 0; 0 0 1], [1 0 0; R*cbar R 0; 0 0 0], [0 0; R -R; 0 1], \n",
    "    [0; 0; 0], [0 0 0; 0 0 -1], 0.95)\n",
    "stationary_values!(lq2)"
   ]
  },
  {
   "cell_type": "code",
   "execution_count": 13,
   "metadata": {
    "collapsed": false
   },
   "outputs": [
    {
     "data": {
      "text/plain": [
       "2×3 Array{Float64,2}:\n",
       " -0.0  -0.0  -0.0     \n",
       " -0.0  -0.0   0.387285"
      ]
     },
     "execution_count": 13,
     "metadata": {},
     "output_type": "execute_result"
    }
   ],
   "source": [
    "-lq2.F"
   ]
  },
  {
   "cell_type": "code",
   "execution_count": null,
   "metadata": {
    "collapsed": true
   },
   "outputs": [],
   "source": []
  }
 ],
 "metadata": {
  "anaconda-cloud": {},
  "kernelspec": {
   "display_name": "Julia 0.5.0",
   "language": "julia",
   "name": "julia-0.5"
  },
  "language_info": {
   "file_extension": ".jl",
   "mimetype": "application/julia",
   "name": "julia",
   "version": "0.5.0"
  }
 },
 "nbformat": 4,
 "nbformat_minor": 0
}
