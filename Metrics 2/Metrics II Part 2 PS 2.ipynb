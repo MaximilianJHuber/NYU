{
 "cells": [
  {
   "cell_type": "markdown",
   "metadata": {},
   "source": [
    "# Question 4"
   ]
  },
  {
   "cell_type": "code",
   "execution_count": 1,
   "metadata": {
    "collapsed": false
   },
   "outputs": [],
   "source": [
    "using MAT\n",
    "using Plots; gr()\n",
    "\n",
    "readdata = matread(\"ps2.mat\");"
   ]
  },
  {
   "cell_type": "code",
   "execution_count": 2,
   "metadata": {
    "collapsed": false
   },
   "outputs": [],
   "source": [
    "data = hcat(readdata[\"dlny\"],readdata[\"Zic\"]);"
   ]
  },
  {
   "cell_type": "markdown",
   "metadata": {},
   "source": [
    "## (a)\n",
    "$$Z_t=\\left[\\Delta \\log y_t, Zic_t, \\Delta \\log y_{t-1}, Zic_{t-1} \\right]$$"
   ]
  },
  {
   "cell_type": "code",
   "execution_count": 3,
   "metadata": {
    "collapsed": false
   },
   "outputs": [],
   "source": [
    " #first row has 1947.5 and 1947.25\n",
    "laggeddata = hcat(data[2:end,:], data[1:end-1,:]);"
   ]
  },
  {
   "cell_type": "code",
   "execution_count": 4,
   "metadata": {
    "collapsed": false
   },
   "outputs": [
    {
     "data": {
      "text/plain": [
       "4×4 Array{Float64,2}:\n",
       " 0.374551     -0.018988    0.150745    0.00363384\n",
       " 1.83133       0.737839    0.576952    0.111332  \n",
       " 1.0          -4.7409e-8  -2.49717e-7  3.62078e-7\n",
       " 0.000138383   0.999998   -1.04206e-5  1.51094e-5"
      ]
     },
     "execution_count": 4,
     "metadata": {},
     "output_type": "execute_result"
    }
   ],
   "source": [
    "F = (((laggeddata[1:end-1,:].-mean(laggeddata,1))'*(laggeddata[1:end-1,:].-mean(laggeddata,1))) \\ \n",
    "    (laggeddata[1:end-1,:].-mean(laggeddata,1))'*(laggeddata[2:end,:].-mean(laggeddata,1)))'"
   ]
  },
  {
   "cell_type": "markdown",
   "metadata": {},
   "source": [
    "## (b)"
   ]
  },
  {
   "cell_type": "code",
   "execution_count": 5,
   "metadata": {
    "collapsed": false
   },
   "outputs": [],
   "source": [
    "τ = ([1 0 0 0] * inv(eye(4) - F) * F * laggeddata[1:end,:]')';"
   ]
  },
  {
   "cell_type": "code",
   "execution_count": 6,
   "metadata": {
    "collapsed": false,
    "scrolled": false
   },
   "outputs": [
    {
     "data": {
      "text/html": [
       "<?xml version=\"1.0\" encoding=\"utf-8\"?>\n",
       "<svg xmlns=\"http://www.w3.org/2000/svg\" xmlns:xlink=\"http://www.w3.org/1999/xlink\" width=\"600\" height=\"400\" viewBox=\"0 0 600 400\">\n",
       "<defs>\n",
       "  <clipPath id=\"clip00\">\n",
       "    <rect x=\"0\" y=\"0\" width=\"600\" height=\"400\"/>\n",
       "  </clipPath>\n",
       "</defs>\n",
       "<polygon clip-path=\"url(#clip00)\" points=\"\n",
       "0,400 600,400 600,0 0,0 \n",
       "  \" fill=\"#ffffff\" fill-opacity=\"1\"/>\n",
       "<defs>\n",
       "  <clipPath id=\"clip01\">\n",
       "    <rect x=\"120\" y=\"0\" width=\"421\" height=\"400\"/>\n",
       "  </clipPath>\n",
       "</defs>\n",
       "<polygon clip-path=\"url(#clip00)\" points=\"\n",
       "28.1037,384.952 596.063,384.952 596.063,3.93701 28.1037,3.93701 \n",
       "  \" fill=\"#ffffff\" fill-opacity=\"1\"/>\n",
       "<defs>\n",
       "  <clipPath id=\"clip02\">\n",
       "    <rect x=\"28\" y=\"3\" width=\"568\" height=\"382\"/>\n",
       "  </clipPath>\n",
       "</defs>\n",
       "<polyline clip-path=\"url(#clip02)\" style=\"stroke:#00002d; stroke-width:0.8; stroke-opacity:0.5; fill:none\" stroke-dasharray=\"1, 2\" points=\"\n",
       "  234.067,379.237 234.067,9.65223 \n",
       "  \"/>\n",
       "<polyline clip-path=\"url(#clip02)\" style=\"stroke:#00002d; stroke-width:0.8; stroke-opacity:0.5; fill:none\" stroke-dasharray=\"1, 2\" points=\"\n",
       "  442.111,379.237 442.111,9.65223 \n",
       "  \"/>\n",
       "<polyline clip-path=\"url(#clip02)\" style=\"stroke:#00002d; stroke-width:0.8; stroke-opacity:0.5; fill:none\" stroke-dasharray=\"1, 2\" points=\"\n",
       "  36.6231,384.763 587.544,384.763 \n",
       "  \"/>\n",
       "<polyline clip-path=\"url(#clip02)\" style=\"stroke:#00002d; stroke-width:0.8; stroke-opacity:0.5; fill:none\" stroke-dasharray=\"1, 2\" points=\"\n",
       "  36.6231,209.332 587.544,209.332 \n",
       "  \"/>\n",
       "<polyline clip-path=\"url(#clip02)\" style=\"stroke:#00002d; stroke-width:0.8; stroke-opacity:0.5; fill:none\" stroke-dasharray=\"1, 2\" points=\"\n",
       "  36.6231,33.9017 587.544,33.9017 \n",
       "  \"/>\n",
       "<polyline clip-path=\"url(#clip02)\" style=\"stroke:#00002d; stroke-width:0.8; stroke-opacity:1; fill:none\" points=\"\n",
       "  28.1037,384.952 596.063,384.952 \n",
       "  \"/>\n",
       "<polyline clip-path=\"url(#clip02)\" style=\"stroke:#00002d; stroke-width:0.8; stroke-opacity:1; fill:none\" points=\"\n",
       "  234.067,384.952 234.067,379.237 \n",
       "  \"/>\n",
       "<polyline clip-path=\"url(#clip02)\" style=\"stroke:#00002d; stroke-width:0.8; stroke-opacity:1; fill:none\" points=\"\n",
       "  442.111,384.952 442.111,379.237 \n",
       "  \"/>\n",
       "<polyline clip-path=\"url(#clip02)\" style=\"stroke:#00002d; stroke-width:0.8; stroke-opacity:1; fill:none\" points=\"\n",
       "  28.1037,384.952 28.1037,3.93701 \n",
       "  \"/>\n",
       "<polyline clip-path=\"url(#clip02)\" style=\"stroke:#00002d; stroke-width:0.8; stroke-opacity:1; fill:none\" points=\"\n",
       "  28.1037,384.763 36.6231,384.763 \n",
       "  \"/>\n",
       "<polyline clip-path=\"url(#clip02)\" style=\"stroke:#00002d; stroke-width:0.8; stroke-opacity:1; fill:none\" points=\"\n",
       "  28.1037,209.332 36.6231,209.332 \n",
       "  \"/>\n",
       "<polyline clip-path=\"url(#clip02)\" style=\"stroke:#00002d; stroke-width:0.8; stroke-opacity:1; fill:none\" points=\"\n",
       "  28.1037,33.9017 36.6231,33.9017 \n",
       "  \"/>\n",
       "<g clip-path=\"url(#clip00)\">\n",
       "<text style=\"fill:#00002d; fill-opacity:1; font-family:Arial,Helvetica Neue,Helvetica,sans-serif; font-size:12; text-anchor:middle;\" transform=\"rotate(0, 234.067, 396.952)\" x=\"234.067\" y=\"396.952\">100</text>\n",
       "</g>\n",
       "<g clip-path=\"url(#clip00)\">\n",
       "<text style=\"fill:#00002d; fill-opacity:1; font-family:Arial,Helvetica Neue,Helvetica,sans-serif; font-size:12; text-anchor:middle;\" transform=\"rotate(0, 442.111, 396.952)\" x=\"442.111\" y=\"396.952\">200</text>\n",
       "</g>\n",
       "<g clip-path=\"url(#clip00)\">\n",
       "<text style=\"fill:#00002d; fill-opacity:1; font-family:Arial,Helvetica Neue,Helvetica,sans-serif; font-size:12; text-anchor:end;\" transform=\"rotate(0, 26.9037, 389.263)\" x=\"26.9037\" y=\"389.263\">0</text>\n",
       "</g>\n",
       "<g clip-path=\"url(#clip00)\">\n",
       "<text style=\"fill:#00002d; fill-opacity:1; font-family:Arial,Helvetica Neue,Helvetica,sans-serif; font-size:12; text-anchor:end;\" transform=\"rotate(0, 26.9037, 213.832)\" x=\"26.9037\" y=\"213.832\">1</text>\n",
       "</g>\n",
       "<g clip-path=\"url(#clip00)\">\n",
       "<text style=\"fill:#00002d; fill-opacity:1; font-family:Arial,Helvetica Neue,Helvetica,sans-serif; font-size:12; text-anchor:end;\" transform=\"rotate(0, 26.9037, 38.4017)\" x=\"26.9037\" y=\"38.4017\">2</text>\n",
       "</g>\n",
       "<g clip-path=\"url(#clip00)\">\n",
       "<text style=\"fill:#00002d; fill-opacity:1; font-family:Arial,Helvetica Neue,Helvetica,sans-serif; font-size:16; text-anchor:middle;\" transform=\"rotate(-90, 14.4, 194.444)\" x=\"14.4\" y=\"194.444\">log growth</text>\n",
       "</g>\n",
       "<polyline clip-path=\"url(#clip02)\" style=\"stroke:#0099ff; stroke-width:0.8; stroke-opacity:1; fill:none\" points=\"\n",
       "  28.1037,384.945 30.1841,382.203 32.2645,379.645 34.345,376.811 36.4254,375.833 38.5059,375.652 40.5863,378.065 42.6667,378.652 44.7472,376.733 46.8276,378.31 \n",
       "  48.908,371.454 50.9885,366.23 53.0689,359.594 55.1494,356.244 57.2298,353.86 59.3102,350.841 61.3907,347.264 63.4711,346.876 65.5515,345.028 67.632,344.666 \n",
       "  69.7124,343.399 71.7929,337.733 73.8733,334.499 75.9537,333.134 78.0342,334.124 80.1146,336.805 82.195,337.622 84.2755,337.434 86.3559,335.456 88.4363,332.069 \n",
       "  90.5168,327.13 92.5972,324.296 94.6777,321.958 96.7581,320.901 98.8385,321.584 100.919,320.14 102.999,320.284 105.08,317.441 107.16,316.312 109.241,316.7 \n",
       "  111.321,315.002 113.402,316.811 115.482,321.413 117.562,320.265 119.643,316.251 121.723,312.194 123.804,308.964 125.884,304.748 127.965,305.088 130.045,304.398 \n",
       "  132.126,300.53 134.206,301.2 136.286,300.761 138.367,302.9 140.447,301.708 142.528,298.481 144.608,295.579 146.689,292.06 148.769,288.925 150.849,287.048 \n",
       "  152.93,285.386 155.01,284.707 157.091,282.762 159.171,280.493 161.252,277.099 163.332,275.85 165.413,272.099 167.493,270.023 169.573,267.656 171.654,267.037 \n",
       "  173.734,262.76 175.815,260.38 177.895,256.851 179.976,252.765 182.056,248.484 184.136,247.767 186.217,246.52 188.297,245.024 190.378,243.422 192.458,243.268 \n",
       "  194.539,241.759 196.619,240.354 198.7,236.827 200.78,233.89 202.86,232.631 204.941,231.85 207.021,229.145 209.102,228.581 211.182,227.489 213.263,228.254 \n",
       "  215.343,228.566 217.423,228.257 219.504,226.709 221.584,228.522 223.665,223.889 225.745,222.89 227.826,221.52 229.906,221.009 231.987,217.892 234.067,213.874 \n",
       "  236.147,212.267 238.228,209.377 240.308,205.11 242.389,203.132 244.469,204.089 246.55,202.459 248.63,203.924 250.71,203.461 252.791,205.168 254.871,205.871 \n",
       "  256.952,208.006 259.032,206.659 261.113,203.781 263.193,201.435 265.273,197.516 267.354,196.194 269.434,195.304 271.515,193.992 273.595,191.963 275.676,188.554 \n",
       "  277.756,185.478 279.837,185.46 281.917,184.849 283.997,178.158 286.078,176.452 288.158,174.114 290.239,173.767 292.319,173.555 294.4,172.298 296.48,171.844 \n",
       "  298.56,171.279 300.641,174.872 302.721,175.139 304.802,171.917 306.882,168.325 308.963,169.609 311.043,167.607 313.124,169.668 315.204,172.626 317.284,171.674 \n",
       "  319.365,172.306 321.445,172.136 323.526,169.852 325.606,165.894 327.687,162.493 329.767,158.911 331.847,155.46 333.928,152.406 336.008,150.688 338.089,149.295 \n",
       "  340.169,147.56 342.25,145.961 344.33,143.252 346.411,141.942 348.491,140.323 350.571,139.52 352.652,137.761 354.732,136.855 356.813,135.633 358.893,133.676 \n",
       "  360.974,132.092 363.054,129.219 365.134,128.236 367.215,125.933 369.295,124.923 371.376,122.614 373.456,120.854 375.537,119.48 377.617,118.176 379.698,117.805 \n",
       "  381.778,115.895 383.858,115.218 385.939,115.175 388.019,116.675 390.1,117.5 392.18,116.144 394.261,115.304 396.341,114.541 398.421,112.479 400.502,110.557 \n",
       "  402.582,108.859 404.663,107.111 406.743,106.783 408.824,105.743 410.904,104.89 412.985,102.564 415.065,100.851 417.145,98.4701 419.226,97.4381 421.306,95.4585 \n",
       "  423.387,94.8592 425.467,94.248 427.548,92.7518 429.628,91.5121 431.708,90.364 433.789,87.3273 435.869,85.7119 437.95,83.8678 440.03,82.5366 442.111,79.9089 \n",
       "  444.191,77.6902 446.272,76.3345 448.352,74.6075 450.432,72.9143 452.513,70.6333 454.593,67.7769 456.674,66.3815 458.754,64.9414 460.835,62.7466 462.915,59.7285 \n",
       "  464.995,59.2196 467.076,55.9375 469.156,55.7258 471.237,54.7324 473.317,55.2312 475.398,54.304 477.478,54.8597 479.559,54.373 481.639,52.7649 483.719,51.8003 \n",
       "  485.8,50.9478 487.88,50.8368 489.961,49.9298 492.041,48.3097 494.122,45.3956 496.202,43.357 498.282,42.351 500.363,41.0703 502.443,39.4827 504.524,37.9722 \n",
       "  506.604,36.1121 508.685,35.1987 510.765,33.7307 512.846,32.7319 514.926,30.6366 517.006,30.1128 519.087,29.9565 521.167,28.5887 523.248,28.4803 525.328,27.1428 \n",
       "  527.409,25.9668 529.489,25.342 531.569,26.5432 533.65,25.6747 535.73,26.5185 537.811,30.2643 539.891,32.7124 541.972,32.9493 544.052,32.3771 546.133,30.6873 \n",
       "  548.213,29.9301 550.293,28.2434 552.374,27.0624 554.454,25.961 556.535,26.6399 558.615,25.3678 560.696,24.9995 562.776,23.0345 564.856,21.8753 566.937,21.0581 \n",
       "  569.017,20.8481 571.098,20.8082 573.178,19.9788 575.259,19.4915 577.339,18.2037 579.419,16.5588 581.5,16.9666 583.58,15.0074 585.661,13.1713 587.741,12.2719 \n",
       "  589.822,11.9908 591.902,10.304 593.983,9.44254 596.063,8.83864 \n",
       "  \"/>\n",
       "<polyline clip-path=\"url(#clip02)\" style=\"stroke:#e9746a; stroke-width:0.8; stroke-opacity:1; fill:none\" points=\"\n",
       "  28.1037,384.952 30.1841,382.149 32.2645,379.59 34.345,376.775 36.4254,375.869 38.5059,375.685 40.5863,377.971 42.6667,378.38 44.7472,376.414 46.8276,378.033 \n",
       "  48.908,371.048 50.9885,365.906 53.0689,359.289 55.1494,356.77 57.2298,354.127 59.3102,351.377 61.3907,347.285 63.4711,346.572 65.5515,344.685 67.632,343.816 \n",
       "  69.7124,342.786 71.7929,336.741 73.8733,333.59 75.9537,332.476 78.0342,333.74 80.1146,336.125 82.195,336.617 84.2755,336.135 86.3559,334.265 88.4363,330.806 \n",
       "  90.5168,326.14 92.5972,323.829 94.6777,321.746 96.7581,321.271 98.8385,322.179 100.919,320.236 102.999,320.539 105.08,317.027 107.16,315.895 109.241,316.561 \n",
       "  111.321,314.615 113.402,315.738 115.482,320.323 117.562,318.161 119.643,314.064 121.723,310.737 123.804,307.825 125.884,303.971 127.965,304.205 130.045,303.805 \n",
       "  132.126,300.522 134.206,300.445 136.286,299.887 138.367,300.875 140.447,299.484 142.528,296.266 144.608,294.152 146.689,290.569 148.769,287.958 150.849,285.938 \n",
       "  152.93,284.452 155.01,283.335 157.091,281.631 159.171,279.351 161.252,275.79 163.332,275.209 165.413,271.112 167.493,268.874 169.573,266.549 171.654,266.591 \n",
       "  173.734,262.691 175.815,260.329 177.895,256.905 179.976,252.368 182.056,248.987 184.136,249.095 186.217,247.56 188.297,246.123 190.378,243.899 192.458,243.068 \n",
       "  194.539,241.638 196.619,240.475 198.7,236.268 200.78,233.709 202.86,231.965 204.941,231.912 207.021,229.625 209.102,229.37 211.182,228.492 213.263,228.71 \n",
       "  215.343,228.203 217.423,227.567 219.504,225.476 221.584,227.151 223.665,222.783 225.745,222.872 227.826,221.97 229.906,220.793 231.987,217.953 234.067,214.323 \n",
       "  236.147,213.588 238.228,210.5 240.308,206.241 242.389,205.976 244.469,207.567 246.55,206.373 248.63,207.151 250.71,206.226 252.791,207.08 254.871,208.349 \n",
       "  256.952,206.706 259.032,203.006 261.113,200.341 263.193,198.288 265.273,195.604 267.354,196.381 269.434,195.95 271.515,194.39 273.595,193.032 275.676,190.542 \n",
       "  277.756,188.591 279.837,189.873 281.917,189.602 283.997,181.245 286.078,181.756 288.158,180.688 290.239,181.096 292.319,181.202 294.4,178.795 296.48,177.929 \n",
       "  298.56,176.86 300.641,180.204 302.721,177.035 304.802,173.607 306.882,172.18 308.963,174.983 311.043,173.549 313.124,176.407 315.204,177.08 317.284,173.962 \n",
       "  319.365,174.036 321.445,170.493 323.526,167.108 325.606,163.667 327.687,161.42 329.767,160.215 331.847,159.528 333.928,157.341 336.008,156.727 338.089,154.985 \n",
       "  340.169,151.144 342.25,149.513 344.33,145.236 346.411,145.612 348.491,143.787 350.571,142.757 352.652,139.016 354.732,138.048 356.813,137.683 358.893,134.608 \n",
       "  360.974,132.499 363.054,131.159 365.134,128.823 367.215,126.33 369.295,125.535 371.376,122.658 373.456,122.036 375.537,120.257 377.617,118.105 379.698,117.901 \n",
       "  381.778,115.023 383.858,114.38 385.939,113.732 388.019,113.84 390.1,113.587 392.18,110.227 394.261,109.468 396.341,109.97 398.421,105.402 400.502,104.77 \n",
       "  402.582,102.97 404.663,101.877 406.743,103.145 408.824,101.576 410.904,100.231 412.985,98.3789 415.065,97.8113 417.145,96.8025 419.226,95.5479 421.306,94.412 \n",
       "  423.387,94.8929 425.467,93.1028 427.548,90.4983 429.628,89.6921 431.708,88.817 433.789,85.662 435.869,85.9765 437.95,83.9344 440.03,83.347 442.111,81.5832 \n",
       "  444.191,79.6048 446.272,78.8282 448.352,78.5098 450.432,75.4141 452.513,73.125 454.593,70.4136 456.674,70.915 458.754,68.8527 460.835,66.4769 462.915,63.0807 \n",
       "  464.995,63.2079 467.076,60.8521 469.156,61.0602 471.237,59.7822 473.317,58.3778 475.398,56.2722 477.478,56.5743 479.559,52.5682 481.639,51.0735 483.719,50.2195 \n",
       "  485.8,49.2577 487.88,49.2244 489.961,48.1456 492.041,45.2773 494.122,42.0641 496.202,41.7272 498.282,41.6876 500.363,41.926 502.443,40.6895 504.524,39.8591 \n",
       "  506.604,38.9523 508.685,37.7972 510.765,36.2775 512.846,37.1457 514.926,34.9487 517.006,34.515 519.087,34.2548 521.167,30.8211 523.248,30.3514 525.328,28.3862 \n",
       "  527.409,26.2089 529.489,24.734 531.569,25.3263 533.65,21.7921 535.73,22.1368 537.811,25.6601 539.891,21.737 541.972,15.5612 544.052,11.7837 546.133,12.2092 \n",
       "  548.213,13.6221 550.293,13.5292 552.374,13.7616 554.454,12.0575 556.535,12.4029 558.615,11.4557 560.696,11.3356 562.776,11.6758 564.856,11.6481 566.937,12.567 \n",
       "  569.017,12.7713 571.098,12.46 573.178,11.5723 575.259,11.9172 577.339,11.2262 579.419,9.21804 581.5,10.9948 583.58,8.64963 585.661,6.80607 587.741,6.83568 \n",
       "  589.822,8.41439 591.902,5.49848 593.983,4.52401 596.063,3.93701 \n",
       "  \"/>\n",
       "<polygon clip-path=\"url(#clip00)\" points=\"\n",
       "494.999,70.177 578.063,70.177 578.063,24.817 494.999,24.817 \n",
       "  \" fill=\"#ffffff\" fill-opacity=\"1\"/>\n",
       "<polyline clip-path=\"url(#clip00)\" style=\"stroke:#00002d; stroke-width:0.8; stroke-opacity:1; fill:none\" points=\"\n",
       "  494.999,70.177 578.063,70.177 578.063,24.817 494.999,24.817 494.999,70.177 \n",
       "  \"/>\n",
       "<polyline clip-path=\"url(#clip00)\" style=\"stroke:#0099ff; stroke-width:0.8; stroke-opacity:1; fill:none\" points=\"\n",
       "  500.999,39.937 536.999,39.937 \n",
       "  \"/>\n",
       "<g clip-path=\"url(#clip00)\">\n",
       "<text style=\"fill:#00002d; fill-opacity:1; font-family:Arial,Helvetica Neue,Helvetica,sans-serif; font-size:12; text-anchor:start;\" transform=\"rotate(0, 542.999, 44.437)\" x=\"542.999\" y=\"44.437\">data</text>\n",
       "</g>\n",
       "<polyline clip-path=\"url(#clip00)\" style=\"stroke:#e9746a; stroke-width:0.8; stroke-opacity:1; fill:none\" points=\"\n",
       "  500.999,55.057 536.999,55.057 \n",
       "  \"/>\n",
       "<g clip-path=\"url(#clip00)\">\n",
       "<text style=\"fill:#00002d; fill-opacity:1; font-family:Symbol; font-size:13; text-anchor:start;\" transform=\"rotate(0, 542.999, 58.4698)\" x=\"542.999\" y=\"58.4698\">τ</text>\n",
       "</g>\n",
       "</svg>\n"
      ]
     },
     "execution_count": 6,
     "metadata": {},
     "output_type": "execute_result"
    }
   ],
   "source": [
    "plot(cumsum(data[2:end,1]), ylabel=\"log growth\", label=\"data\", )\n",
    "plot!(cumsum(data[2:end,1]) .* (1+τ), label=\"\\\\tau\")"
   ]
  },
  {
   "cell_type": "code",
   "execution_count": 7,
   "metadata": {
    "collapsed": false
   },
   "outputs": [
    {
     "data": {
      "text/html": [
       "<?xml version=\"1.0\" encoding=\"utf-8\"?>\n",
       "<svg xmlns=\"http://www.w3.org/2000/svg\" xmlns:xlink=\"http://www.w3.org/1999/xlink\" width=\"600\" height=\"400\" viewBox=\"0 0 600 400\">\n",
       "<defs>\n",
       "  <clipPath id=\"clip00\">\n",
       "    <rect x=\"0\" y=\"0\" width=\"600\" height=\"400\"/>\n",
       "  </clipPath>\n",
       "</defs>\n",
       "<polygon clip-path=\"url(#clip00)\" points=\"\n",
       "0,400 600,400 600,0 0,0 \n",
       "  \" fill=\"#ffffff\" fill-opacity=\"1\"/>\n",
       "<defs>\n",
       "  <clipPath id=\"clip01\">\n",
       "    <rect x=\"120\" y=\"0\" width=\"421\" height=\"400\"/>\n",
       "  </clipPath>\n",
       "</defs>\n",
       "<polygon clip-path=\"url(#clip00)\" points=\"\n",
       "45.8815,384.952 596.063,384.952 596.063,3.93701 45.8815,3.93701 \n",
       "  \" fill=\"#ffffff\" fill-opacity=\"1\"/>\n",
       "<defs>\n",
       "  <clipPath id=\"clip02\">\n",
       "    <rect x=\"45\" y=\"3\" width=\"551\" height=\"382\"/>\n",
       "  </clipPath>\n",
       "</defs>\n",
       "<polyline clip-path=\"url(#clip02)\" style=\"stroke:#00002d; stroke-width:0.8; stroke-opacity:0.5; fill:none\" stroke-dasharray=\"1, 2\" points=\"\n",
       "  187.144,379.237 187.144,9.65223 \n",
       "  \"/>\n",
       "<polyline clip-path=\"url(#clip02)\" style=\"stroke:#00002d; stroke-width:0.8; stroke-opacity:0.5; fill:none\" stroke-dasharray=\"1, 2\" points=\"\n",
       "  335.842,379.237 335.842,9.65223 \n",
       "  \"/>\n",
       "<polyline clip-path=\"url(#clip02)\" style=\"stroke:#00002d; stroke-width:0.8; stroke-opacity:0.5; fill:none\" stroke-dasharray=\"1, 2\" points=\"\n",
       "  484.54,379.237 484.54,9.65223 \n",
       "  \"/>\n",
       "<polyline clip-path=\"url(#clip02)\" style=\"stroke:#00002d; stroke-width:0.8; stroke-opacity:0.5; fill:none\" stroke-dasharray=\"1, 2\" points=\"\n",
       "  54.1342,323.145 587.81,323.145 \n",
       "  \"/>\n",
       "<polyline clip-path=\"url(#clip02)\" style=\"stroke:#00002d; stroke-width:0.8; stroke-opacity:0.5; fill:none\" stroke-dasharray=\"1, 2\" points=\"\n",
       "  54.1342,237.061 587.81,237.061 \n",
       "  \"/>\n",
       "<polyline clip-path=\"url(#clip02)\" style=\"stroke:#00002d; stroke-width:0.8; stroke-opacity:0.5; fill:none\" stroke-dasharray=\"1, 2\" points=\"\n",
       "  54.1342,150.976 587.81,150.976 \n",
       "  \"/>\n",
       "<polyline clip-path=\"url(#clip02)\" style=\"stroke:#00002d; stroke-width:0.8; stroke-opacity:0.5; fill:none\" stroke-dasharray=\"1, 2\" points=\"\n",
       "  54.1342,64.8908 587.81,64.8908 \n",
       "  \"/>\n",
       "<polyline clip-path=\"url(#clip02)\" style=\"stroke:#00002d; stroke-width:0.8; stroke-opacity:1; fill:none\" points=\"\n",
       "  45.8815,384.952 596.063,384.952 \n",
       "  \"/>\n",
       "<polyline clip-path=\"url(#clip02)\" style=\"stroke:#00002d; stroke-width:0.8; stroke-opacity:1; fill:none\" points=\"\n",
       "  187.144,384.952 187.144,379.237 \n",
       "  \"/>\n",
       "<polyline clip-path=\"url(#clip02)\" style=\"stroke:#00002d; stroke-width:0.8; stroke-opacity:1; fill:none\" points=\"\n",
       "  335.842,384.952 335.842,379.237 \n",
       "  \"/>\n",
       "<polyline clip-path=\"url(#clip02)\" style=\"stroke:#00002d; stroke-width:0.8; stroke-opacity:1; fill:none\" points=\"\n",
       "  484.54,384.952 484.54,379.237 \n",
       "  \"/>\n",
       "<polyline clip-path=\"url(#clip02)\" style=\"stroke:#00002d; stroke-width:0.8; stroke-opacity:1; fill:none\" points=\"\n",
       "  45.8815,384.952 45.8815,3.93701 \n",
       "  \"/>\n",
       "<polyline clip-path=\"url(#clip02)\" style=\"stroke:#00002d; stroke-width:0.8; stroke-opacity:1; fill:none\" points=\"\n",
       "  45.8815,323.145 54.1342,323.145 \n",
       "  \"/>\n",
       "<polyline clip-path=\"url(#clip02)\" style=\"stroke:#00002d; stroke-width:0.8; stroke-opacity:1; fill:none\" points=\"\n",
       "  45.8815,237.061 54.1342,237.061 \n",
       "  \"/>\n",
       "<polyline clip-path=\"url(#clip02)\" style=\"stroke:#00002d; stroke-width:0.8; stroke-opacity:1; fill:none\" points=\"\n",
       "  45.8815,150.976 54.1342,150.976 \n",
       "  \"/>\n",
       "<polyline clip-path=\"url(#clip02)\" style=\"stroke:#00002d; stroke-width:0.8; stroke-opacity:1; fill:none\" points=\"\n",
       "  45.8815,64.8908 54.1342,64.8908 \n",
       "  \"/>\n",
       "<g clip-path=\"url(#clip00)\">\n",
       "<text style=\"fill:#00002d; fill-opacity:1; font-family:Arial,Helvetica Neue,Helvetica,sans-serif; font-size:12; text-anchor:middle;\" transform=\"rotate(0, 187.144, 396.952)\" x=\"187.144\" y=\"396.952\">20</text>\n",
       "</g>\n",
       "<g clip-path=\"url(#clip00)\">\n",
       "<text style=\"fill:#00002d; fill-opacity:1; font-family:Arial,Helvetica Neue,Helvetica,sans-serif; font-size:12; text-anchor:middle;\" transform=\"rotate(0, 335.842, 396.952)\" x=\"335.842\" y=\"396.952\">40</text>\n",
       "</g>\n",
       "<g clip-path=\"url(#clip00)\">\n",
       "<text style=\"fill:#00002d; fill-opacity:1; font-family:Arial,Helvetica Neue,Helvetica,sans-serif; font-size:12; text-anchor:middle;\" transform=\"rotate(0, 484.54, 396.952)\" x=\"484.54\" y=\"396.952\">60</text>\n",
       "</g>\n",
       "<g clip-path=\"url(#clip00)\">\n",
       "<text style=\"fill:#00002d; fill-opacity:1; font-family:Arial,Helvetica Neue,Helvetica,sans-serif; font-size:12; text-anchor:end;\" transform=\"rotate(0, 44.6815, 327.645)\" x=\"44.6815\" y=\"327.645\">1.8</text>\n",
       "</g>\n",
       "<g clip-path=\"url(#clip00)\">\n",
       "<text style=\"fill:#00002d; fill-opacity:1; font-family:Arial,Helvetica Neue,Helvetica,sans-serif; font-size:12; text-anchor:end;\" transform=\"rotate(0, 44.6815, 241.561)\" x=\"44.6815\" y=\"241.561\">1.9</text>\n",
       "</g>\n",
       "<g clip-path=\"url(#clip00)\">\n",
       "<text style=\"fill:#00002d; fill-opacity:1; font-family:Arial,Helvetica Neue,Helvetica,sans-serif; font-size:12; text-anchor:end;\" transform=\"rotate(0, 44.6815, 155.476)\" x=\"44.6815\" y=\"155.476\">2.0</text>\n",
       "</g>\n",
       "<g clip-path=\"url(#clip00)\">\n",
       "<text style=\"fill:#00002d; fill-opacity:1; font-family:Arial,Helvetica Neue,Helvetica,sans-serif; font-size:12; text-anchor:end;\" transform=\"rotate(0, 44.6815, 69.3908)\" x=\"44.6815\" y=\"69.3908\">2.1</text>\n",
       "</g>\n",
       "<g clip-path=\"url(#clip00)\">\n",
       "<text style=\"fill:#00002d; fill-opacity:1; font-family:Arial,Helvetica Neue,Helvetica,sans-serif; font-size:16; text-anchor:middle;\" transform=\"rotate(-90, 14.4, 194.444)\" x=\"14.4\" y=\"194.444\">log growth</text>\n",
       "</g>\n",
       "<polyline clip-path=\"url(#clip02)\" style=\"stroke:#0099ff; stroke-width:0.8; stroke-opacity:1; fill:none\" points=\"\n",
       "  45.8815,376.736 53.3163,365.849 60.7512,359.196 68.1861,350.722 75.621,342.413 83.0559,331.22 90.4908,317.204 97.9257,310.356 105.361,303.289 112.795,292.519 \n",
       "  120.23,277.709 127.665,275.212 135.1,259.107 142.535,258.068 149.97,253.193 157.405,255.641 164.84,251.091 172.275,253.818 179.709,251.43 187.144,243.539 \n",
       "  194.579,238.805 202.014,234.622 209.449,234.077 216.884,229.627 224.319,221.677 231.754,207.377 239.188,197.373 246.623,192.437 254.058,186.152 261.493,178.362 \n",
       "  268.928,170.95 276.363,161.822 283.798,157.34 291.233,150.136 298.668,145.235 306.102,134.954 313.537,132.383 320.972,131.616 328.407,124.904 335.842,124.372 \n",
       "  343.277,117.809 350.712,112.039 358.147,108.973 365.582,114.867 373.016,110.605 380.451,114.746 387.886,133.127 395.321,145.139 402.756,146.302 410.191,143.494 \n",
       "  417.626,135.202 425.061,131.487 432.496,123.21 439.93,117.415 447.365,112.01 454.8,115.341 462.235,109.099 469.67,107.292 477.105,97.6495 484.54,91.9615 \n",
       "  491.975,87.9512 499.409,86.9208 506.844,86.7249 514.279,82.6553 521.714,80.2639 529.149,73.9447 536.584,65.8728 544.019,67.8741 551.454,58.2601 558.889,49.2504 \n",
       "  566.323,44.8367 573.758,43.4573 581.193,35.18 588.628,30.953 596.063,27.9896 \n",
       "  \"/>\n",
       "<polyline clip-path=\"url(#clip02)\" style=\"stroke:#e9746a; stroke-width:0.8; stroke-opacity:1; fill:none\" points=\"\n",
       "  45.8815,384.952 53.3163,375.243 60.7512,371.433 68.1861,369.871 75.621,354.68 83.0559,343.447 90.4908,330.142 97.9257,332.602 105.361,322.483 112.795,310.824 \n",
       "  120.23,294.159 127.665,294.783 135.1,283.223 142.535,284.244 149.97,277.973 157.405,271.081 164.84,260.749 172.275,262.232 179.709,242.573 187.144,235.239 \n",
       "  194.579,231.048 202.014,226.329 209.449,226.165 216.884,220.871 224.319,206.796 231.754,191.029 239.188,189.376 246.623,189.181 254.058,190.352 261.493,184.284 \n",
       "  268.928,180.209 276.363,175.759 283.798,170.091 291.233,162.634 298.668,166.894 306.102,156.114 313.537,153.985 320.972,152.708 328.407,135.859 335.842,133.554 \n",
       "  343.277,123.911 350.712,113.227 358.147,105.989 365.582,108.895 373.016,91.5532 380.451,93.2447 387.886,110.533 395.321,91.2829 402.756,60.9777 410.191,42.4412 \n",
       "  417.626,44.5289 425.061,51.4622 432.496,51.0067 439.93,52.147 447.365,43.7845 454.8,45.4799 462.235,40.8316 469.67,40.2425 477.105,41.9116 484.54,41.7759 \n",
       "  491.975,46.285 499.409,47.2875 506.844,45.76 514.279,41.4039 521.714,43.0962 529.149,39.7056 536.584,29.8514 544.019,38.5701 551.454,27.0621 558.889,18.0157 \n",
       "  566.323,18.161 573.758,25.9078 581.193,11.5993 588.628,6.81748 596.063,3.93701 \n",
       "  \"/>\n",
       "<polygon clip-path=\"url(#clip00)\" points=\"\n",
       "494.999,70.177 578.063,70.177 578.063,24.817 494.999,24.817 \n",
       "  \" fill=\"#ffffff\" fill-opacity=\"1\"/>\n",
       "<polyline clip-path=\"url(#clip00)\" style=\"stroke:#00002d; stroke-width:0.8; stroke-opacity:1; fill:none\" points=\"\n",
       "  494.999,70.177 578.063,70.177 578.063,24.817 494.999,24.817 494.999,70.177 \n",
       "  \"/>\n",
       "<polyline clip-path=\"url(#clip00)\" style=\"stroke:#0099ff; stroke-width:0.8; stroke-opacity:1; fill:none\" points=\"\n",
       "  500.999,39.937 536.999,39.937 \n",
       "  \"/>\n",
       "<g clip-path=\"url(#clip00)\">\n",
       "<text style=\"fill:#00002d; fill-opacity:1; font-family:Arial,Helvetica Neue,Helvetica,sans-serif; font-size:12; text-anchor:start;\" transform=\"rotate(0, 542.999, 44.437)\" x=\"542.999\" y=\"44.437\">data</text>\n",
       "</g>\n",
       "<polyline clip-path=\"url(#clip00)\" style=\"stroke:#e9746a; stroke-width:0.8; stroke-opacity:1; fill:none\" points=\"\n",
       "  500.999,55.057 536.999,55.057 \n",
       "  \"/>\n",
       "<g clip-path=\"url(#clip00)\">\n",
       "<text style=\"fill:#00002d; fill-opacity:1; font-family:Symbol; font-size:13; text-anchor:start;\" transform=\"rotate(0, 542.999, 58.4698)\" x=\"542.999\" y=\"58.4698\">τ</text>\n",
       "</g>\n",
       "</svg>\n"
      ]
     },
     "execution_count": 7,
     "metadata": {},
     "output_type": "execute_result"
    }
   ],
   "source": [
    "plot(cumsum(data[2:end,1])[200:end], ylabel=\"log growth\", label=\"data\", )\n",
    "plot!((cumsum(data[2:end,1]) .* (1+τ))[200:end], label=\"\\\\tau\")"
   ]
  },
  {
   "cell_type": "markdown",
   "metadata": {},
   "source": [
    "## (c)\n",
    "Let's see wheter ForwardDiff can differentiate automatically through a matrix inversion:"
   ]
  },
  {
   "cell_type": "code",
   "execution_count": 8,
   "metadata": {
    "collapsed": false
   },
   "outputs": [
    {
     "data": {
      "text/plain": [
       "4×8 Array{Float64,2}:\n",
       " -1.92974    -1.92974    -30.8121    …   0.196445    3.13662   3.13662 \n",
       "  0.196445    0.196445    -6.07346      -0.0199978   0.618269  0.618269\n",
       " -0.17756    -1.56671     -8.14887       0.159489    0.829542  0.829542\n",
       "  0.0148582   0.0148582   -0.788136     -0.00151254  0.080231  0.221644"
      ]
     },
     "execution_count": 8,
     "metadata": {},
     "output_type": "execute_result"
    }
   ],
   "source": [
    "function B(β)\n",
    "    -[1 0 0 0] * inv(eye(4) - [β[1] β[3] β[2] β[4]; β[5] β[7] β[6] β[8]; 1 0 0 0; 0 1 0 0])\n",
    "end\n",
    "\n",
    "using ForwardDiff\n",
    "\n",
    "dB = ForwardDiff.jacobian(B,[F[1,1] F[1,3] F[1,2] F[1,4] F[2,1] F[2,3] F[2,2] F[2,4]])"
   ]
  },
  {
   "cell_type": "markdown",
   "metadata": {},
   "source": [
    "Yes, it does!"
   ]
  },
  {
   "cell_type": "code",
   "execution_count": 9,
   "metadata": {
    "collapsed": false
   },
   "outputs": [
    {
     "data": {
      "text/plain": [
       "4×4 Array{Float64,2}:\n",
       "  0.0035635    -4.33637e-6   -0.00144438   4.37386e-5\n",
       " -0.000176214   0.00358105   -0.00572157  -0.00309614\n",
       "  2.40058e-8   -2.32245e-11  -8.80231e-9   3.43645e-9\n",
       "  1.00175e-6   -9.6915e-10   -3.67317e-7   1.43402e-7"
      ]
     },
     "execution_count": 9,
     "metadata": {},
     "output_type": "execute_result"
    }
   ],
   "source": [
    "ϵ = (laggeddata[2:end,:].-mean(laggeddata,1))' - F * (laggeddata[1:end-1,:].-mean(laggeddata,1))'\n",
    "Ω = 1/size(data)[1] * ϵ * ϵ'\n",
    "V = Ω * inv((laggeddata[1:end-1,:].-mean(laggeddata,1))' * (laggeddata[1:end-1,:].-mean(laggeddata,1)))"
   ]
  },
  {
   "cell_type": "markdown",
   "metadata": {},
   "source": [
    "My confidence interval is:"
   ]
  },
  {
   "cell_type": "code",
   "execution_count": 10,
   "metadata": {
    "collapsed": false
   },
   "outputs": [
    {
     "data": {
      "text/plain": [
       "1×2 Array{Float64,2}:\n",
       " 2.19662  2.14499"
      ]
     },
     "execution_count": 10,
     "metadata": {},
     "output_type": "execute_result"
    }
   ],
   "source": [
    "(cumsum(data[2:end,1]) .* (1+τ))[end] + [1.96 -1.96] * (dB' * V * dB)[1,1]"
   ]
  },
  {
   "cell_type": "markdown",
   "metadata": {},
   "source": [
    "The data end point is:"
   ]
  },
  {
   "cell_type": "code",
   "execution_count": 11,
   "metadata": {
    "collapsed": false
   },
   "outputs": [
    {
     "data": {
      "text/plain": [
       "2.1428659701596757"
      ]
     },
     "execution_count": 11,
     "metadata": {},
     "output_type": "execute_result"
    }
   ],
   "source": [
    "cumsum(data[2:end,1])[end]"
   ]
  },
  {
   "cell_type": "markdown",
   "metadata": {},
   "source": [
    "The data is just not in my 95% confidence interval."
   ]
  }
 ],
 "metadata": {
  "kernelspec": {
   "display_name": "Julia 0.5.1",
   "language": "julia",
   "name": "julia-0.5"
  },
  "language_info": {
   "file_extension": ".jl",
   "mimetype": "application/julia",
   "name": "julia",
   "version": "0.5.1"
  }
 },
 "nbformat": 4,
 "nbformat_minor": 2
}
