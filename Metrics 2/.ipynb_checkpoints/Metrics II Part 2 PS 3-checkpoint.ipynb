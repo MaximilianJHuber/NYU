{
 "cells": [
  {
   "cell_type": "markdown",
   "metadata": {},
   "source": [
    "# Metrics II Part 2 PS 3\n",
    "$$A(\\theta)X_t = B(\\theta)\\mathbb{E}\\left[X_{t+1} \\right] + C(\\theta)X_{t-1} + D(\\theta)\\eta_t$$ with\n",
    "$$X_t = \\left[x_t \\, \\pi_t \\, i_t \\, g_t \\, u_t\\right]'$$ $$\\eta_t = \\left[0 \\, 0 \\, \\epsilon_{it} \\, \\epsilon_{gt} \\, \\epsilon_{ut} \\right]'$$\n",
    "## (a)\n",
    "Coding up the system in matrices:"
   ]
  },
  {
   "cell_type": "code",
   "execution_count": 30,
   "metadata": {
    "collapsed": false
   },
   "outputs": [],
   "source": [
    "σ = 1; κ = 0.2; β = 0.99; ϕ_π = 1.25; ϕ_x = 0.25; ρ_i = 0.5; \n",
    "σ_i = 2; ρ_g = 0.75; ρ_u = 0.75; σ_g = 1; σ_u = 1; σ_m = 0.1;\n",
    "\n",
    "A = [1 0 σ -1 0; -κ 1 0 0 -1; -ϕ_x*(1-ρ_i) -ϕ_π*(1-ρ_i) 1 0 0; 0 0 0 1 0; 0 0 0 0 1]\n",
    "B = [1 σ 0 0 0; 0 β 0 0 0; 0 0 0 0 0; 0 0 0 0 0; 0 0 0 0 0]\n",
    "C = [0 0 0 0 0; 0 0 0 0 0; 0 0 ρ_i 0 0; 0 0 0 ρ_g 0; 0 0 0 0 ρ_u]\n",
    "D = [0 0 0 0 0; 0 0 0 0 0; 0 0 σ_i 0 0; 0 0 0 σ_g 0; 0 0 0 0 σ_u];"
   ]
  },
  {
   "cell_type": "markdown",
   "metadata": {},
   "source": [
    "## (b)\n",
    "Solving for $F$ and $G$ in our guess from the lecture notes\n",
    "$$X_t = F(\\theta)X_{t-1} + G(\\theta)\\eta_t$$but I bypass the Schur decomposition and find $F$ numerically:"
   ]
  },
  {
   "cell_type": "code",
   "execution_count": 35,
   "metadata": {
    "collapsed": false
   },
   "outputs": [
    {
     "data": {
      "text/plain": [
       "5×5 Array{Float64,2}:\n",
       "  1.40737      -0.200788     0.313952     -0.718155      1.63127    \n",
       " -0.442304      0.0631031    0.802762     -0.329794     -1.73695    \n",
       " -0.100519      0.014341     1.04097      -0.295891     -0.881684   \n",
       " -6.38151e-10  -2.23535e-9   4.09e-10      0.75         -2.09153e-10\n",
       "  2.90496e-11  -3.19405e-9  -8.59732e-10  -3.32865e-10   0.75       "
      ]
     },
     "execution_count": 35,
     "metadata": {},
     "output_type": "execute_result"
    }
   ],
   "source": [
    "using Optim\n",
    "\n",
    "f = optimize(f -> norm(B*reshape(f, 5, 5)^2 - A*reshape(f, 5, 5) + C),  reshape(eye(5),25), \n",
    "    BFGS(), Optim.Options(g_tol = 1e-12))\n",
    "F = reshape(f.minimizer, 5, 5)"
   ]
  },
  {
   "cell_type": "code",
   "execution_count": 102,
   "metadata": {
    "collapsed": false
   },
   "outputs": [
    {
     "data": {
      "text/plain": [
       "Base.LinAlg.GeneralizedSchur{Float64,Array{Float64,2}}([0.0 0.0 … 0.0 0.0; 0.0 0.0 … 0.0 0.0; … ; -0.0 -0.0 … 0.6 0.8; -0.0 -0.0 … 0.0 1.25],[1.0 0.0 … 0.0 0.0; 0.0 1.0 … 0.0 0.0; … ; 0.0 0.0 … 0.8 -0.6; 0.0 0.0 … 0.0 0.0],Complex{Float64}[0.0+0.0im,0.0+0.0im,0.337617+0.0im,0.897735+0.0im,1.28184+0.0im,1.28695+0.0im,0.6+0.0im,-1.25+0.0im,0.6+0.0im,1.25+0.0im],[1.0,1.0,1.03666,0.633462,1.17143,0.0,0.8,0.0,0.8,0.0],[1.0 0.0 … 0.0 0.0; 0.0 1.0 … 0.0 0.0; … ; 0.0 0.0 … 0.0 0.0; 0.0 0.0 … 0.0 1.0],[1.0 0.0 … 0.0 0.0; 0.0 1.0 … 0.0 0.0; … ; 0.0 0.0 … 0.0 0.0; 0.0 0.0 … 0.6 0.8])"
      ]
     },
     "execution_count": 102,
     "metadata": {},
     "output_type": "execute_result"
    }
   ],
   "source": [
    "QZ = schurfact(vcat(hcat(zeros(5,5), eye(5)), hcat(-C, A)), \n",
    "    vcat(hcat(eye(5), zeros(5,5)), hcat(zeros(5,5), B))) "
   ]
  },
  {
   "cell_type": "code",
   "execution_count": 103,
   "metadata": {
    "collapsed": false
   },
   "outputs": [
    {
     "ename": "LoadError",
     "evalue": "Base.LinAlg.LAPACKException(1)",
     "output_type": "error",
     "traceback": [
      "Base.LinAlg.LAPACKException(1)",
      "",
      " in chklapackerror(::Int64) at .\\linalg\\lapack.jl:32",
      " in trtrs!(::Char, ::Char, ::Char, ::Array{Float64,2}, ::Array{Float64,2}) at .\\linalg\\lapack.jl:3289",
      " in inv(::UpperTriangular{Float64,Array{Float64,2}}) at .\\linalg\\triangular.jl:452",
      " in inv(::Array{Float64,2}) at .\\linalg\\dense.jl:360"
     ]
    }
   ],
   "source": [
    "QZ.Q[1:5,1:5]*QZ.T[1:5,1:5]*inv(QZ.S[1:5,1:5])*inv(QZ.Q[1:5,1:5])"
   ]
  },
  {
   "cell_type": "code",
   "execution_count": 104,
   "metadata": {
    "collapsed": false
   },
   "outputs": [
    {
     "data": {
      "text/plain": [
       "Base.LinAlg.GeneralizedSchur{Float64,Array{Float64,2}}([0.0 0.0 … 0.0 0.0; 0.0 0.0 … 0.0 0.0; … ; -0.0 -0.0 … 0.6 0.8; -0.0 -0.0 … 0.0 1.25],[1.0 0.0 … 0.0 0.0; 0.0 1.0 … 0.0 0.0; … ; 0.0 0.0 … 0.8 -0.6; 0.0 0.0 … 0.0 0.0],Complex{Float64}[0.0+0.0im,0.0+0.0im,0.337617+0.0im,0.740712+0.0im,-1.78599+0.0im,0.88503+0.0im,0.737155+0.0im,1.28695+0.0im,0.6+0.0im,1.25+0.0im],[1.0,1.0,1.03666,0.987615,4.46761e-17,0.624496,0.67366,0.0,0.8,0.0],[1.0 0.0 … 0.0 0.0; 0.0 1.0 … 0.0 0.0; … ; 0.0 0.0 … 0.0 0.0; 0.0 0.0 … 0.0 1.0],[1.0 0.0 … 0.0 0.0; 0.0 1.0 … 0.0 0.0; … ; 0.0 0.0 … 0.0 0.0; 0.0 0.0 … 0.6 0.8])"
      ]
     },
     "execution_count": 104,
     "metadata": {},
     "output_type": "execute_result"
    }
   ],
   "source": [
    "select = real(QZ.alpha) .<= 0.6\n",
    "select[9] = false\n",
    "ordschur(QZ, select)"
   ]
  },
  {
   "cell_type": "code",
   "execution_count": 105,
   "metadata": {
    "collapsed": false
   },
   "outputs": [
    {
     "ename": "LoadError",
     "evalue": "Base.LinAlg.LAPACKException(4)",
     "output_type": "error",
     "traceback": [
      "Base.LinAlg.LAPACKException(4)",
      "",
      " in chklapackerror(::Int64) at .\\linalg\\lapack.jl:32",
      " in trtrs!(::Char, ::Char, ::Char, ::Array{Float64,2}, ::Array{Float64,2}) at .\\linalg\\lapack.jl:3289",
      " in inv(::UpperTriangular{Float64,Array{Float64,2}}) at .\\linalg\\triangular.jl:452",
      " in inv(::Array{Float64,2}) at .\\linalg\\dense.jl:360",
      " in ^(::Array{Float64,2}, ::Int64) at .\\linalg\\dense.jl:157"
     ]
    }
   ],
   "source": [
    "QZ.Z[6:end,1:5]*QZ.Z[1:5,1:5]^-1"
   ]
  },
  {
   "cell_type": "code",
   "execution_count": 106,
   "metadata": {
    "collapsed": false
   },
   "outputs": [
    {
     "ename": "LoadError",
     "evalue": "Base.LinAlg.LAPACKException(1)",
     "output_type": "error",
     "traceback": [
      "Base.LinAlg.LAPACKException(1)",
      "",
      " in chklapackerror(::Int64) at .\\linalg\\lapack.jl:32",
      " in trtrs!(::Char, ::Char, ::Char, ::Array{Float64,2}, ::Array{Float64,2}) at .\\linalg\\lapack.jl:3289",
      " in inv(::UpperTriangular{Float64,Array{Float64,2}}) at .\\linalg\\triangular.jl:452",
      " in inv(::Array{Float64,2}) at .\\linalg\\dense.jl:360"
     ]
    }
   ],
   "source": [
    "QZ.Q[1:5,1:5]*QZ.T[1:5,1:5]*inv(QZ.S[1:5,1:5])*inv(QZ.Q[1:5,1:5])"
   ]
  },
  {
   "cell_type": "code",
   "execution_count": 36,
   "metadata": {
    "collapsed": false
   },
   "outputs": [
    {
     "data": {
      "text/plain": [
       "5×5 Array{Float64,2}:\n",
       " 0.0  0.0  3.20279  -1.55253   -3.33805 \n",
       " 0.0  0.0  2.59916  -0.252734  -0.583295\n",
       " 0.0  0.0  4.02482  -0.352025  -0.781816\n",
       " 0.0  0.0  0.0       1.0        0.0     \n",
       " 0.0  0.0  0.0       0.0        1.0     "
      ]
     },
     "execution_count": 36,
     "metadata": {},
     "output_type": "execute_result"
    }
   ],
   "source": [
    "G = inv(A-B*F)*D"
   ]
  },
  {
   "cell_type": "markdown",
   "metadata": {},
   "source": [
    "Observables:\n",
    "$$Y_t = \\left[x_t^{obs} \\, \\pi_t^{obs} \\, i_t^{obs} \\right]$$ with\n",
    "$$Y_t = H(\\theta)X_t + J(\\theta)\\nu_t$$ and:"
   ]
  },
  {
   "cell_type": "code",
   "execution_count": 32,
   "metadata": {
    "collapsed": false
   },
   "outputs": [],
   "source": [
    "H = [1 0 0 0 0; 0 1 0 0 0; 0 0 1 0 0]\n",
    "J = σ_m;"
   ]
  },
  {
   "cell_type": "markdown",
   "metadata": {},
   "source": [
    "## (c)"
   ]
  },
  {
   "cell_type": "code",
   "execution_count": 67,
   "metadata": {
    "collapsed": false
   },
   "outputs": [],
   "source": [
    "using Distributions\n",
    "\n",
    "N = 1000\n",
    "η = rand(MvNormal(zeros(5), eye(5)), N)\n",
    "ν = rand(MvNormal(zeros(3), eye(3)), N)\n",
    "X = zeros(5,N)\n",
    "Y = zeros(3,N)\n",
    "\n",
    "for i in 2:size(X)[2]\n",
    "    X[:,i] = F*X[:,i-1] + G*η[:,i]\n",
    "    Y[:,i] = H*X[:,i] + J*ν[:,i]\n",
    "end"
   ]
  },
  {
   "cell_type": "code",
   "execution_count": 69,
   "metadata": {
    "collapsed": false
   },
   "outputs": [
    {
     "data": {
      "text/plain": [
       "1000-element Array{Float64,1}:\n",
       "  0.0        \n",
       " -0.81663    \n",
       "  0.446598   \n",
       " -0.148844   \n",
       " -1.64879    \n",
       "  1.06498    \n",
       "  1.83038    \n",
       "  2.82678    \n",
       "  2.29844    \n",
       "  2.00653    \n",
       "  1.79416    \n",
       "  1.35265    \n",
       "  1.50242    \n",
       "  ⋮          \n",
       "  2.1101e140 \n",
       "  2.99042e140\n",
       "  4.23799e140\n",
       "  6.00604e140\n",
       "  8.5117e140 \n",
       "  1.20627e141\n",
       "  1.70951e141\n",
       "  2.42271e141\n",
       "  3.43344e141\n",
       "  4.86583e141\n",
       "  6.89581e141\n",
       "  9.77267e141"
      ]
     },
     "execution_count": 69,
     "metadata": {},
     "output_type": "execute_result"
    }
   ],
   "source": [
    "X[4,:]"
   ]
  },
  {
   "cell_type": "code",
   "execution_count": null,
   "metadata": {
    "collapsed": true
   },
   "outputs": [],
   "source": []
  }
 ],
 "metadata": {
  "kernelspec": {
   "display_name": "Julia 0.5.1",
   "language": "julia",
   "name": "julia-0.5"
  },
  "language_info": {
   "file_extension": ".jl",
   "mimetype": "application/julia",
   "name": "julia",
   "version": "0.5.1"
  }
 },
 "nbformat": 4,
 "nbformat_minor": 2
}
