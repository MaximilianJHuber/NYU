{
 "cells": [
  {
   "cell_type": "markdown",
   "metadata": {},
   "source": [
    "Econometrics II PS 5\n",
    "==\n",
    "Maximilian Huber\n",
    "\n",
    "\n",
    "You can find this code on my GitHub account: https://github.com/MaximilianJHuber/NYU\n",
    "Question 2\n",
    "==\n",
    "\n",
    "$$\\hat{\\theta}_n = \\Pi_{i=1}^n exp(x_i)$$\n",
    "$$\\sqrt{n}\\,\\left(\\bar{x}_{n}^*-\\bar{x}_{n}\\right)\\sim N\\left(0,6\\right)\\implies\\sqrt{n}\\,\\left(\\exp(\\bar{x}_{n}^*)-\\exp(\\bar{x}_{n})\\right)\\approx \\exp(\\bar{x}_{n})\\,N\\left(0,6\\right)$$\n",
    "Hence, $\\mathbb{V}\\left[ exp(\\bar{x}_n^*) \\right] \\approx \\exp(2\\bar{x}_{n}^*)\\,6/n$."
   ]
  },
  {
   "cell_type": "code",
   "execution_count": 1,
   "metadata": {
    "collapsed": false,
    "scrolled": true
   },
   "outputs": [],
   "source": [
    "@everywhere using Distributions\n",
    "@everywhere using StatsBase"
   ]
  },
  {
   "cell_type": "code",
   "execution_count": 2,
   "metadata": {
    "collapsed": false
   },
   "outputs": [],
   "source": [
    "@everywhere function bootstrap(x,θhat,n)\n",
    "    x_star = x[ceil(Integer, rand(Uniform(),n)*n)]\n",
    "    θ_star = exp(mean(x_star))\n",
    "    return abs(sqrt(n)*(θ_star - θhat)/sqrt(var(x_star)*(θhat^2)))\n",
    "end"
   ]
  },
  {
   "cell_type": "code",
   "execution_count": 3,
   "metadata": {
    "collapsed": false
   },
   "outputs": [
    {
     "data": {
      "text/plain": [
       "sim (generic function with 2 methods)"
      ]
     },
     "execution_count": 3,
     "metadata": {},
     "output_type": "execute_result"
    }
   ],
   "source": [
    "function sim(B=10000)\n",
    "    n = 10\n",
    "    result = SharedArray(Bool,B,2)\n",
    "    @sync @parallel for j in 1:B\n",
    "        x = rand(Normal(0,6),n)\n",
    "        θhat = exp(mean(x))\n",
    "        \n",
    "        t = Array(Float64,10000)\n",
    "        for i=1:10000\n",
    "            t[i] = bootstrap(x,θhat,n)\n",
    "        end\n",
    "        z_star = percentile(t,100-5)\n",
    "        result[j,:] = [convert(Bool,sum(1 .<= θhat + sqrt(var(x)*(θhat^2)) * [-z_star, z_star])%2), \n",
    "            convert(Bool,sum(1 .<= θhat + sqrt(var(x)*(θhat^2)) * [-1.96, 1.96])%2)]\n",
    "    end\n",
    "    return result\n",
    "end"
   ]
  },
  {
   "cell_type": "code",
   "execution_count": 4,
   "metadata": {
    "collapsed": false
   },
   "outputs": [
    {
     "name": "stdout",
     "output_type": "stream",
     "text": [
      "121.233870 seconds (4.01 M allocations: 175.597 MB, 0.21% gc time)\n"
     ]
    },
    {
     "data": {
      "text/plain": [
       "1×2 Array{Float64,2}:\n",
       " 0.9798  0.9021"
      ]
     },
     "execution_count": 4,
     "metadata": {},
     "output_type": "execute_result"
    }
   ],
   "source": [
    "@time result = sim()\n",
    "sum(result,1)./size(result)[1]"
   ]
  },
  {
   "cell_type": "markdown",
   "metadata": {},
   "source": [
    "The bootstrap (first number) achieves more accurate coverage than the asymptotic confidence interval.\n",
    "Modification\n",
    "--\n",
    "In a setup where the true variance is known to be $\\mathbb{V}\\left[ exp(\\bar{x}_n^*) \\right] \\approx 6/n$:"
   ]
  },
  {
   "cell_type": "code",
   "execution_count": 5,
   "metadata": {
    "collapsed": false
   },
   "outputs": [
    {
     "name": "stderr",
     "output_type": "stream",
     "text": [
      "WARNING: Method definition bootstrap(Any, Any, Any) in module Main at In[2]:2 overwritten at In[5]:2.\n"
     ]
    }
   ],
   "source": [
    "@everywhere function bootstrap(x,θhat,n)\n",
    "    x_star = x[ceil(Integer, rand(Uniform(),n)*n)]\n",
    "    θ_star = exp(mean(x_star))\n",
    "    return abs(sqrt(n)*(θ_star - θhat)/sqrt(6/n))\n",
    "end"
   ]
  },
  {
   "cell_type": "code",
   "execution_count": 6,
   "metadata": {
    "collapsed": false
   },
   "outputs": [
    {
     "name": "stderr",
     "output_type": "stream",
     "text": [
      "WARNING: Method definition sim() in module Main at In[3]:2 overwritten at In[6]:2.\n",
      "WARNING: Method definition sim(Any) in module Main at In[3]:2 overwritten at In[6]:2.\n"
     ]
    },
    {
     "data": {
      "text/plain": [
       "sim (generic function with 2 methods)"
      ]
     },
     "execution_count": 6,
     "metadata": {},
     "output_type": "execute_result"
    }
   ],
   "source": [
    "function sim(B=10000)\n",
    "    n = 10\n",
    "    result = SharedArray(Bool,B,2)\n",
    "    @sync @parallel for j in 1:B\n",
    "        x = rand(Normal(0,6),n)\n",
    "        θhat = exp(mean(x))\n",
    "        \n",
    "        t = Array(Float64,10000)\n",
    "        for i=1:10000\n",
    "            t[i] = bootstrap(x,θhat,n)\n",
    "        end\n",
    "        z_star = percentile(t,100-5)\n",
    "        result[j,:] = [convert(Bool,sum(1 .<= θhat + sqrt(6/n) * [-z_star, z_star])%2), \n",
    "            convert(Bool,sum(1 .<= θhat + sqrt(6/n) * [-1.96, 1.96])%2)]\n",
    "    end\n",
    "    return result\n",
    "end"
   ]
  },
  {
   "cell_type": "code",
   "execution_count": 7,
   "metadata": {
    "collapsed": false
   },
   "outputs": [
    {
     "name": "stdout",
     "output_type": "stream",
     "text": [
      " 78.807012 seconds (344.12 k allocations: 15.116 MB)\n"
     ]
    },
    {
     "data": {
      "text/plain": [
       "1×2 Array{Float64,2}:\n",
       " 0.9738  0.6877"
      ]
     },
     "execution_count": 7,
     "metadata": {},
     "output_type": "execute_result"
    }
   ],
   "source": [
    "@time result = sim()\n",
    "sum(result,1)./size(result)[1]"
   ]
  },
  {
   "cell_type": "markdown",
   "metadata": {
    "collapsed": true
   },
   "source": [
    "The bootstrap (first number) achieves much more accurate coverage than the asymptotic confidence interval."
   ]
  }
 ],
 "metadata": {
  "anaconda-cloud": {},
  "kernelspec": {
   "display_name": "Julia 0.5.0",
   "language": "julia",
   "name": "julia-0.5"
  },
  "language_info": {
   "file_extension": ".jl",
   "mimetype": "application/julia",
   "name": "julia",
   "version": "0.5.0"
  }
 },
 "nbformat": 4,
 "nbformat_minor": 0
}
