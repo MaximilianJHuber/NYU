{
 "cells": [
  {
   "cell_type": "markdown",
   "metadata": {},
   "source": [
    "This notebook replicates key steps of \"The Macro-Dynamics of Sorting between Workers and Firms\" by Jeremy Lise and Jean-Marc Robin: https://www.aeaweb.org/articles?id=10.1257/aer.20131118"
   ]
  },
  {
   "cell_type": "markdown",
   "metadata": {},
   "source": [
    "# Model\n",
    "The economy consists of workers with ability $x \\sim Beta(\\beta_1,\\beta_2)$ and firms with productivity $y\\sim{U}(y)$, both with a measure of one. The beginning of period mass of employed and unemployed workers, $h_t(x,y)$ and $u_t(x)$, are such that $u_t(x) + \\int h_t(x,y)\\,dy=l(x)$. \n",
    "\n",
    "An aggregate shock, $z$, which follows a Markov chain with transition probability $\\pi(z,z')$, hits the economy and might result in the termination of a job. The post-shock measure are $h_{t+}(x,y)$ and $u_{t+}(x)$. \n",
    "\n",
    "It is assumed that workers costlessly search with different intensities: employed workers search with $s$ and unemloyed with $1$. The aggregate effort is $L_t = \\int 1\\cdot u_{t+}(x)\\, dx + \\int \\int s \\cdot h_{t+}(x,y) \\, dx \\,dy$. Firms post $v_t(y)$ job opportunities for a cost $c(v)$. Aggregate opportunities are $V_t = \\int v_t(y)\\,dy$. Meetings are assigned randomly with meeting technology $M_t=M(L_t, V_t)=\\min \\Big( \\alpha L_t^\\omega V_t^{1-\\omega}, L_t, V_t \\Big)$. The meeting probabilities for an unemployed and an employed worker are $\\lambda_t=\\frac{M_t}{L_t}$ and $s\\lambda_t$. The meeting probabiliby per posted opportunity is $q_t=\\frac{M_t}{V_t}$.\n",
    "\n",
    "The joint value of a match, $P_t(x,y)$, is the value of a match and includes continuation values of the worker and the firm. The value of being unemployed is $B_{t}(x)$. A match is dissolved if $\\mathbb{1}\\Big(P_{t+1}(x,y)<B_{t+1}(x)\\Big) + \\delta \\cdot \\mathbb{1}\\Big(P_{t+1}(x,y) \\geq B_{t+1}(x)\\Big)$, where $\\delta$ is the exogenous seperation rate.\n",
    "\n",
    "The unemployed worker engages in home production $b(x,z_t)$ and values being unemployed:\n",
    "$$B_t(x) = b(x,z_t) + \\frac{1}{1+r} \\mathbb{E}_t B_{t+1}(x)$$\n",
    "Let $S_t(x,y) = P_t(x,y) - B_t(x)$ be the match surplus, then proposition 1 defines the equilibrium to be such that:\n",
    "\n",
    "$$S(x,y,z) = s(x,y,z) + \\frac{1-\\delta}{1+r} \\int S(x,y,z')^+ \\pi(z,z') \\, dz'$$\n",
    "where $s(x,y,z) = p(x,y,z) - b(x,z)$ and $x^+ = \\max\\Big(x,0\\Big)$.\n",
    "\n"
   ]
  },
  {
   "cell_type": "markdown",
   "metadata": {},
   "source": [
    "# Implementation"
   ]
  },
  {
   "cell_type": "code",
   "execution_count": 8,
   "metadata": {},
   "outputs": [],
   "source": [
    "using QuantEcon"
   ]
  },
  {
   "cell_type": "code",
   "execution_count": 9,
   "metadata": {},
   "outputs": [
    {
     "name": "stdout",
     "output_type": "stream",
     "text": [
      "search: \u001b[1mt\u001b[22m\u001b[1ma\u001b[22m\u001b[1mu\u001b[22m\u001b[1mc\u001b[22m\u001b[1mh\u001b[22m\u001b[1me\u001b[22m\u001b[1mn\u001b[22m\n",
      "\n"
     ]
    },
    {
     "data": {
      "text/markdown": [
       "Tauchen's (1996) method for approximating AR(1) process with finite markov chain\n",
       "\n",
       "The process follows\n",
       "\n",
       "$$\n",
       "    y_t = \\mu + \\rho y_{t-1} + \\epsilon_t\n",
       "$$\n",
       "\n",
       "where $\\epsilon_t \\sim N (0, \\sigma^2)$\n",
       "\n",
       "##### Arguments\n",
       "\n",
       "  * `N::Integer`: Number of points in markov process\n",
       "  * `ρ::Real` : Persistence parameter in AR(1) process\n",
       "  * `σ::Real` : Standard deviation of random component of AR(1) process\n",
       "  * `μ::Real(0.0)` : Mean of AR(1) process\n",
       "  * `n_std::Integer(3)` : The number of standard deviations to each side the process should span\n",
       "\n",
       "##### Returns\n",
       "\n",
       "  * `mc::MarkovChain{Float64}` : Markov chain holding the state values and transition matrix\n"
      ],
      "text/plain": [
       "Tauchen's (1996) method for approximating AR(1) process with finite markov chain\n",
       "\n",
       "The process follows\n",
       "\n",
       "$$\n",
       "    y_t = \\mu + \\rho y_{t-1} + \\epsilon_t\n",
       "$$\n",
       "\n",
       "where $\\epsilon_t \\sim N (0, \\sigma^2)$\n",
       "\n",
       "##### Arguments\n",
       "\n",
       "  * `N::Integer`: Number of points in markov process\n",
       "  * `ρ::Real` : Persistence parameter in AR(1) process\n",
       "  * `σ::Real` : Standard deviation of random component of AR(1) process\n",
       "  * `μ::Real(0.0)` : Mean of AR(1) process\n",
       "  * `n_std::Integer(3)` : The number of standard deviations to each side the process should span\n",
       "\n",
       "##### Returns\n",
       "\n",
       "  * `mc::MarkovChain{Float64}` : Markov chain holding the state values and transition matrix\n"
      ]
     },
     "execution_count": 9,
     "metadata": {},
     "output_type": "execute_result"
    }
   ],
   "source": [
    "?tauchen()"
   ]
  },
  {
   "cell_type": "code",
   "execution_count": null,
   "metadata": {},
   "outputs": [],
   "source": [
    "struct Model\n",
    "    #deep parameters\n",
    "    β1::Float64\n",
    "    β2::Float64\n",
    "    c0::Float64\n",
    "    c1::Float64\n",
    "    α::Float64\n",
    "    ω::Float64\n",
    "    r::Float64\n",
    "\n",
    "    p1::Float64\n",
    "    p2::Float64\n",
    "    p3::Float64\n",
    "    p4::Float64\n",
    "    p5::Float64\n",
    "    p6::Float64\n",
    "\n",
    "    σ::Float64\n",
    "    ρ::Float64\n",
    "    s::Float64\n",
    "\n",
    "    #technical\n",
    "    dt::Float64\n",
    "    ϵ::Float64\n",
    "\n",
    "    Nx::Int64\n",
    "    Ny::Int64\n",
    "    Nz::Int64\n",
    "    Gridx::Vector{Float64}\n",
    "    Gridy::Vector{Float64}\n",
    "    Gridz::Vector{Float64}\n",
    "\n",
    "    Π::Matrix{Float64}\n",
    "end\n",
    "#β1, β2, c0, c1, α, ω, r, p1, p2, p3, p4, p5, p6, σ, ρ, s, dt, ϵ, Nx, Ny, Nz, Gridx, Gridy, Gridz\n",
    "\n",
    "function Model(;β1=2.148, β2=12.001, c0=0.028, c1=0.084, α=0.497, ω=1/2, r=0.05, p1=0.003, p2=2.053, p3=-0.140, p4=8.035, p5=-1.907, p6=6.596, σ=0.071, ρ=0.999, s=0.027, dt=1/52, ϵ=0.001, Nx=21, Ny=21, Nz=51)\n",
    "    \n",
    "    Gridx = collect(linspace(ϵ, 1-ϵ, Nx))\n",
    "    Gridy = collect(linspace(ϵ, 1-ϵ, Ny))\n",
    "    mc = tauchen(Nz, ρ, σ * √(1-ρ^2))\n",
    "    Π = \n",
    "\n",
    "    \n",
    "    return Model(β1, β2, c0, c1, α, ω, r, p1, p2, p3, p4, p5, p6, σ, ρ, s, dt, ϵ, Nx, Ny, Nz,\n",
    "        Gridx, Gridy, Gridz, Π)\n",
    "\n",
    "end"
   ]
  },
  {
   "cell_type": "code",
   "execution_count": 11,
   "metadata": {},
   "outputs": [
    {
     "data": {
      "text/plain": [
       "Discrete Markov Chain\n",
       "stochastic matrix of type Array{Float64,2}:\n",
       "[0.898824 0.101139 … 0.0 0.0; 0.079804 0.819494 … 0.0 0.0; … ; 0.0 0.0 … 0.819494 0.079804; 0.0 0.0 … 0.101139 0.898824]"
      ]
     },
     "execution_count": 11,
     "metadata": {},
     "output_type": "execute_result"
    }
   ],
   "source": [
    "mc = tauchen(51, 0.999, 0.071 * √(1-0.999^2))"
   ]
  },
  {
   "cell_type": "code",
   "execution_count": 12,
   "metadata": {},
   "outputs": [
    {
     "data": {
      "text/plain": [
       "51-element Array{Float64,1}:\n",
       " -0.213  \n",
       " -0.20448\n",
       " -0.19596\n",
       " -0.18744\n",
       " -0.17892\n",
       " -0.1704 \n",
       " -0.16188\n",
       " -0.15336\n",
       " -0.14484\n",
       " -0.13632\n",
       " -0.1278 \n",
       " -0.11928\n",
       " -0.11076\n",
       "  ⋮      \n",
       "  0.11928\n",
       "  0.1278 \n",
       "  0.13632\n",
       "  0.14484\n",
       "  0.15336\n",
       "  0.16188\n",
       "  0.1704 \n",
       "  0.17892\n",
       "  0.18744\n",
       "  0.19596\n",
       "  0.20448\n",
       "  0.213  "
      ]
     },
     "execution_count": 12,
     "metadata": {},
     "output_type": "execute_result"
    }
   ],
   "source": [
    "mc.state_values"
   ]
  },
  {
   "cell_type": "code",
   "execution_count": 7,
   "metadata": {},
   "outputs": [
    {
     "data": {
      "text/plain": [
       "0.0:0.1111111111111111:1.0"
      ]
     },
     "execution_count": 7,
     "metadata": {},
     "output_type": "execute_result"
    }
   ],
   "source": [
    "linspace(0,1,10)"
   ]
  },
  {
   "cell_type": "code",
   "execution_count": 6,
   "metadata": {},
   "outputs": [
    {
     "ename": "LoadError",
     "evalue": "\u001b[91mMethodError: no method matching Model()\u001b[0m\nClosest candidates are:\n  Model(\u001b[91m::Float64\u001b[39m, \u001b[91m::Float64\u001b[39m, \u001b[91m::Float64\u001b[39m, \u001b[91m::Float64\u001b[39m, \u001b[91m::Float64\u001b[39m, \u001b[91m::Float64\u001b[39m, \u001b[91m::Float64\u001b[39m, \u001b[91m::Float64\u001b[39m, \u001b[91m::Float64\u001b[39m, \u001b[91m::Float64\u001b[39m, \u001b[91m::Float64\u001b[39m, \u001b[91m::Float64\u001b[39m, \u001b[91m::Float64\u001b[39m, \u001b[91m::Float64\u001b[39m, \u001b[91m::Float64\u001b[39m, \u001b[91m::Float64\u001b[39m, \u001b[91m::Float64\u001b[39m, \u001b[91m::Float64\u001b[39m, \u001b[91m::Int64\u001b[39m, \u001b[91m::Int64\u001b[39m, \u001b[91m::Int64\u001b[39m, \u001b[91m::Array{Float64,1}\u001b[39m, \u001b[91m::Array{Float64,1}\u001b[39m, \u001b[91m::Array{Float64,1}\u001b[39m) at In[5]:3\n  Model(\u001b[91m::Any\u001b[39m, \u001b[91m::Any\u001b[39m, \u001b[91m::Any\u001b[39m, \u001b[91m::Any\u001b[39m, \u001b[91m::Any\u001b[39m, \u001b[91m::Any\u001b[39m, \u001b[91m::Any\u001b[39m, \u001b[91m::Any\u001b[39m, \u001b[91m::Any\u001b[39m, \u001b[91m::Any\u001b[39m, \u001b[91m::Any\u001b[39m, \u001b[91m::Any\u001b[39m, \u001b[91m::Any\u001b[39m, \u001b[91m::Any\u001b[39m, \u001b[91m::Any\u001b[39m, \u001b[91m::Any\u001b[39m, \u001b[91m::Any\u001b[39m, \u001b[91m::Any\u001b[39m, \u001b[91m::Any\u001b[39m, \u001b[91m::Any\u001b[39m, \u001b[91m::Any\u001b[39m, \u001b[91m::Any\u001b[39m, \u001b[91m::Any\u001b[39m, \u001b[91m::Any\u001b[39m) at In[5]:3\u001b[39m",
     "output_type": "error",
     "traceback": [
      "\u001b[91mMethodError: no method matching Model()\u001b[0m\nClosest candidates are:\n  Model(\u001b[91m::Float64\u001b[39m, \u001b[91m::Float64\u001b[39m, \u001b[91m::Float64\u001b[39m, \u001b[91m::Float64\u001b[39m, \u001b[91m::Float64\u001b[39m, \u001b[91m::Float64\u001b[39m, \u001b[91m::Float64\u001b[39m, \u001b[91m::Float64\u001b[39m, \u001b[91m::Float64\u001b[39m, \u001b[91m::Float64\u001b[39m, \u001b[91m::Float64\u001b[39m, \u001b[91m::Float64\u001b[39m, \u001b[91m::Float64\u001b[39m, \u001b[91m::Float64\u001b[39m, \u001b[91m::Float64\u001b[39m, \u001b[91m::Float64\u001b[39m, \u001b[91m::Float64\u001b[39m, \u001b[91m::Float64\u001b[39m, \u001b[91m::Int64\u001b[39m, \u001b[91m::Int64\u001b[39m, \u001b[91m::Int64\u001b[39m, \u001b[91m::Array{Float64,1}\u001b[39m, \u001b[91m::Array{Float64,1}\u001b[39m, \u001b[91m::Array{Float64,1}\u001b[39m) at In[5]:3\n  Model(\u001b[91m::Any\u001b[39m, \u001b[91m::Any\u001b[39m, \u001b[91m::Any\u001b[39m, \u001b[91m::Any\u001b[39m, \u001b[91m::Any\u001b[39m, \u001b[91m::Any\u001b[39m, \u001b[91m::Any\u001b[39m, \u001b[91m::Any\u001b[39m, \u001b[91m::Any\u001b[39m, \u001b[91m::Any\u001b[39m, \u001b[91m::Any\u001b[39m, \u001b[91m::Any\u001b[39m, \u001b[91m::Any\u001b[39m, \u001b[91m::Any\u001b[39m, \u001b[91m::Any\u001b[39m, \u001b[91m::Any\u001b[39m, \u001b[91m::Any\u001b[39m, \u001b[91m::Any\u001b[39m, \u001b[91m::Any\u001b[39m, \u001b[91m::Any\u001b[39m, \u001b[91m::Any\u001b[39m, \u001b[91m::Any\u001b[39m, \u001b[91m::Any\u001b[39m, \u001b[91m::Any\u001b[39m) at In[5]:3\u001b[39m",
      "",
      "Stacktrace:",
      " [1] \u001b[1minclude_string\u001b[22m\u001b[22m\u001b[1m(\u001b[22m\u001b[22m::String, ::String\u001b[1m)\u001b[22m\u001b[22m at \u001b[1m./loading.jl:515\u001b[22m\u001b[22m"
     ]
    }
   ],
   "source": [
    "model = "
   ]
  },
  {
   "cell_type": "code",
   "execution_count": null,
   "metadata": {},
   "outputs": [],
   "source": []
  }
 ],
 "metadata": {
  "kernelspec": {
   "display_name": "Julia 0.6.0",
   "language": "julia",
   "name": "julia-0.6"
  },
  "language_info": {
   "file_extension": ".jl",
   "mimetype": "application/julia",
   "name": "julia",
   "version": "0.6.0"
  }
 },
 "nbformat": 4,
 "nbformat_minor": 2
}
