{
 "cells": [
  {
   "cell_type": "markdown",
   "metadata": {},
   "source": [
    "# Empirical IO PS 2\n",
    "Maximilian Huber\n",
    "\n",
    "This code is stored at: https://github.com/MaximilianJHuber/NYU/blob/master/EmpIO/PS2.ipynb"
   ]
  },
  {
   "cell_type": "code",
   "execution_count": 24,
   "metadata": {
    "scrolled": true
   },
   "outputs": [
    {
     "data": {
      "text/html": [
       "<table class=\"data-frame\"><thead><tr><th></th><th>car</th><th>year</th><th>firm</th><th>price</th><th>quantity</th><th>weight</th><th>hp</th><th>ac</th></tr></thead><tbody><tr><th>1</th><td>91</td><td>1990</td><td>19</td><td>5995</td><td>52409</td><td>1620</td><td>55</td><td>0</td></tr><tr><th>2</th><td>35</td><td>1990</td><td>7</td><td>8695</td><td>17122</td><td>2220</td><td>100</td><td>0</td></tr><tr><th>3</th><td>61</td><td>1990</td><td>16</td><td>8845</td><td>65590</td><td>2615</td><td>93</td><td>0</td></tr><tr><th>4</th><td>52</td><td>1990</td><td>10</td><td>10819</td><td>49877</td><td>2524</td><td>92</td><td>0</td></tr><tr><th>5</th><td>26</td><td>1990</td><td>4</td><td>13800</td><td>35944</td><td>2182</td><td>116</td><td>0</td></tr><tr><th>6</th><td>54</td><td>1990</td><td>11</td><td>16995</td><td>4640</td><td>2732</td><td>128</td><td>1</td></tr></tbody></table>"
      ],
      "text/plain": [
       "6×8 DataFrames.DataFrame\n",
       "│ Row │ car │ year │ firm │ price │ quantity │ weight │ hp  │ ac │\n",
       "├─────┼─────┼──────┼──────┼───────┼──────────┼────────┼─────┼────┤\n",
       "│ 1   │ 91  │ 1990 │ 19   │ 5995  │ 52409    │ 1620   │ 55  │ 0  │\n",
       "│ 2   │ 35  │ 1990 │ 7    │ 8695  │ 17122    │ 2220   │ 100 │ 0  │\n",
       "│ 3   │ 61  │ 1990 │ 16   │ 8845  │ 65590    │ 2615   │ 93  │ 0  │\n",
       "│ 4   │ 52  │ 1990 │ 10   │ 10819 │ 49877    │ 2524   │ 92  │ 0  │\n",
       "│ 5   │ 26  │ 1990 │ 4    │ 13800 │ 35944    │ 2182   │ 116 │ 0  │\n",
       "│ 6   │ 54  │ 1990 │ 11   │ 16995 │ 4640     │ 2732   │ 128 │ 1  │"
      ]
     },
     "execution_count": 24,
     "metadata": {},
     "output_type": "execute_result"
    }
   ],
   "source": [
    "using DataFrames\n",
    "\n",
    "data = readtable(\"data_ps2.txt\", header=false, separator=' ')\n",
    "rename!(data, names(data), [:car, :year, :firm, :price, :quantity, :weight, :hp, :ac, :nest3, :nest4])\n",
    "head(data)"
   ]
  },
  {
   "cell_type": "code",
   "execution_count": null,
   "metadata": {},
   "outputs": [],
   "source": []
  }
 ],
 "metadata": {
  "kernelspec": {
   "display_name": "Julia 0.6.0",
   "language": "julia",
   "name": "julia-0.6"
  },
  "language_info": {
   "file_extension": ".jl",
   "mimetype": "application/julia",
   "name": "julia",
   "version": "0.6.0"
  }
 },
 "nbformat": 4,
 "nbformat_minor": 2
}
