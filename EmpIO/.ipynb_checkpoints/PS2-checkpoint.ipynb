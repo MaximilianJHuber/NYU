{
 "cells": [
  {
   "cell_type": "markdown",
   "metadata": {},
   "source": [
    "# Empirical IO PS 2\n",
    "Maximilian Huber\n",
    "\n",
    "This code is stored at: https://github.com/MaximilianJHuber/NYU/blob/master/EmpIO/PS2.ipynb.\n",
    "The notation follows along the lines of Berry, Levinsohn, Pakes (1995): http://www.tcd.ie/Economics/staff/ppwalsh/papers/BLP.pdf"
   ]
  },
  {
   "cell_type": "code",
   "execution_count": 1,
   "metadata": {
    "scrolled": true
   },
   "outputs": [
    {
     "name": "stderr",
     "output_type": "stream",
     "text": [
      "WARNING: Compat.UTF8String is deprecated, use String instead.\n",
      "  likely near In[1]:6\n",
      "WARNING: Compat.UTF8String is deprecated, use String instead.\n",
      "  likely near In[1]:6\n",
      "WARNING: Compat.UTF8String is deprecated"
     ]
    }
   ],
   "source": [
    "using DataFrames\n",
    "using GLM\n",
    "using Optim\n",
    "using LaTeXStrings\n",
    "\n",
    "data = readtable(\"data_ps2.txt\", header=false, separator=',')\n",
    "rename!(data, names(data), [:car, :year, :firm, :price, :quantity, :weight, :hp, :ac, :nest3, :nest4]);"
   ]
  },
  {
   "cell_type": "markdown",
   "metadata": {},
   "source": [
    "A car can change characteristics over the years:"
   ]
  },
  {
   "cell_type": "code",
   "execution_count": 2,
   "metadata": {
    "scrolled": true
   },
   "outputs": [
    {
     "name": "stderr",
     "output_type": "stream",
     "text": [
      ", use String instead.\n",
      "  likely near In[1]:6\n",
      "WARNING: Compat.UTF8String is deprecated, use String instead.\n",
      "  likely near In[1]:6\n",
      "WARNING: Compat.UTF8String is deprecated, use String instead.\n",
      "  likely near In[1]:6\n",
      "WARNING: Compat.UTF8String is deprecated, use String instead.\n",
      "  likely near In[1]:6\n",
      "WARNING: Compat.UTF8String is deprecated, use String instead.\n",
      "  likely near In[1]:6\n",
      "WARNING: Compat.UTF8String is deprecated, use String"
     ]
    },
    {
     "data": {
      "text/html": [
       "<table class=\"data-frame\"><thead><tr><th></th><th>car</th><th>year</th><th>firm</th><th>price</th><th>quantity</th><th>weight</th><th>hp</th><th>ac</th><th>nest3</th><th>nest4</th></tr></thead><tbody><tr><th>1</th><td>91</td><td>1990</td><td>19</td><td>5995</td><td>52409.0</td><td>1620</td><td>55</td><td>0</td><td>1</td><td>1</td></tr><tr><th>2</th><td>91</td><td>1991</td><td>19</td><td>6807</td><td>55056.0</td><td>1620</td><td>55</td><td>1</td><td>1</td><td>1</td></tr><tr><th>3</th><td>91</td><td>1992</td><td>19</td><td>8219</td><td>66046.0</td><td>1576</td><td>55</td><td>1</td><td>1</td><td>1</td></tr></tbody></table>"
      ],
      "text/plain": [
       "3×10 DataFrames.DataFrame\n",
       "│ Row │ car │ year │ firm │ price │ quantity │ weight │ hp │ ac │ nest3 │\n",
       "├─────┼─────┼──────┼──────┼───────┼──────────┼────────┼────┼────┼───────┤\n",
       "│ 1   │ 91  │ 1990 │ 19   │ 5995  │ 52409.0  │ 1620   │ 55 │ 0  │ 1     │\n",
       "│ 2   │ 91  │ 1991 │ 19   │ 6807  │ 55056.0  │ 1620   │ 55 │ 1  │ 1     │\n",
       "│ 3   │ 91  │ 1992 │ 19   │ 8219  │ 66046.0  │ 1576   │ 55 │ 1  │ 1     │\n",
       "\n",
       "│ Row │ nest4 │\n",
       "├─────┼───────┤\n",
       "│ 1   │ 1     │\n",
       "│ 2   │ 1     │\n",
       "│ 3   │ 1     │"
      ]
     },
     "execution_count": 2,
     "metadata": {},
     "output_type": "execute_result"
    },
    {
     "name": "stderr",
     "output_type": "stream",
     "text": [
      " instead.\n",
      "  likely near In[1]:6\n"
     ]
    }
   ],
   "source": [
    "data[data[:car] .== 91, :]"
   ]
  },
  {
   "cell_type": "markdown",
   "metadata": {},
   "source": [
    "Therefore, one can argue that product and time dimensions collapse into one. But for the time being lets treat good $j$ to be a _car_, time $t$ to be a _year_ and characteristics $x$ to be _weight_, _horse power_ and _air conditioning_ and finally the price $p$ be _price_."
   ]
  },
  {
   "cell_type": "markdown",
   "metadata": {},
   "source": [
    "## Part A: Logit\n",
    "\n",
    "This part follows BLP (1995) section 6.1.\n",
    "\n",
    "### 1\n",
    "Agent $i$ derives utility from good $j$ at time $t$ in the following manner:\n",
    "$$u_{ijt} = \\delta_{jt}^* + \\epsilon_{ijt} \\quad \\text{and} \\quad \\delta_{jt}^* = x'_{jt}\\beta_t - \\alpha_t p_{jt}+ \\xi_{jt} \\quad \\forall t \\in T$$\n",
    "where $\\epsilon_{ijt}$ is an i.i.d. extrem value.\n",
    "This logit model has market shares:\n",
    "$$s_{jt} = \\frac{e^{\\delta_{jt}^*}}{1 + \\sum_{k=1}^J e^{\\delta_{kt}^*}}$$\n",
    "Taking logs yields:\n",
    "$$\\log s_{jt} - \\log s_{0t} = \\delta_{jt}^* = x'_{jt}\\beta_t - \\alpha_t p_{jt} + \\xi_{jt} $$\n",
    "where $\\xi_{jt}$ is the unobservable good and time specific utility.\n",
    "\n",
    "This equation will be estimated year-by-year.\n",
    "\n",
    "### 2 \n",
    "If I had chosen instead to pool the years the derivation would not change, but panel logit relies on the time-independence of $\\xi_{jt}$, which is very implausible.\n",
    "\n",
    "### 3 \n",
    "Now I estimate the model with GMM using the BLP instrument for $p$:\n",
    "\n",
    "#### Data Preparation\n",
    "Market shares are calculated with an assumed market size of 100 million:"
   ]
  },
  {
   "cell_type": "code",
   "execution_count": 3,
   "metadata": {
    "scrolled": false
   },
   "outputs": [
    {
     "name": "stderr",
     "output_type": "stream",
     "text": [
      "WARNING: Compat.UTF8String is deprecated, use String instead.\n",
      "  likely near In[1]:6\n",
      "WARNING: Compat.UTF8String is deprecated, use String instead.\n",
      "  likely near In[1]:6\n",
      "WARNING: Compat.UTF8String is deprecated, use String instead.\n",
      "  likely near In[1]:6\n",
      "WARNING: Compat.UTF8String is deprecated, use String instead.\n",
      "  likely near In[1]:6\n",
      "WARNING: Compat.UTF8String is deprecated, use "
     ]
    }
   ],
   "source": [
    "data[:share] = data[:quantity] / 1e8;"
   ]
  },
  {
   "cell_type": "markdown",
   "metadata": {},
   "source": [
    "Instruments for the price are constructed by looking at the good's competitors, as defined by the goods produced by other firms, avaiable in the same year. I average of the characteristics of those competing goods."
   ]
  },
  {
   "cell_type": "markdown",
   "metadata": {},
   "source": [
    "I normalize weight, horse power and price BEFORE creating the instruments, to get the condition number of the matrices down:"
   ]
  },
  {
   "cell_type": "code",
   "execution_count": 4,
   "metadata": {},
   "outputs": [
    {
     "name": "stderr",
     "output_type": "stream",
     "text": [
      "String instead.\n",
      "  likely near In[1]:6\n",
      "WARNING: Compat.UTF8String is deprecated, use String instead.\n",
      "  likely near In[1]:6\n",
      "WARNING: Compat.UTF8String is deprecated, use String"
     ]
    }
   ],
   "source": [
    "data[:weight] = data[:weight] / mean(data[:weight])\n",
    "data[:hp]     = data[:hp] / mean(data[:hp])\n",
    "data[:price]  = data[:price] / mean(data[:price]);"
   ]
  },
  {
   "cell_type": "code",
   "execution_count": 5,
   "metadata": {},
   "outputs": [
    {
     "name": "stderr",
     "output_type": "stream",
     "text": [
      " instead.\n",
      "  likely near In[1]:6\n",
      "WARNING: Compat.UTF8String is deprecated, use String instead.\n",
      "  likely near In[1]:6\n",
      "WARNING: Compat.UTF8String is deprecated, use String"
     ]
    },
    {
     "data": {
      "text/plain": [
       "competitor_mean_characteristic (generic function with 1 method)"
      ]
     },
     "execution_count": 5,
     "metadata": {},
     "output_type": "execute_result"
    }
   ],
   "source": [
    "function competitor_mean_characteristic(good, char::Symbol)\n",
    "    mean(data[(data[:firm] .!= good[:firm]) .* (data[:year] .== good[:year]), char]) #same year, different firm\n",
    "end"
   ]
  },
  {
   "cell_type": "code",
   "execution_count": 6,
   "metadata": {},
   "outputs": [
    {
     "name": "stderr",
     "output_type": "stream",
     "text": [
      " instead.\n",
      "  likely near In[1]:6\n",
      "WARNING: Compat.UTF8String is deprecated, use String instead.\n",
      "  likely near In[1]:6\n",
      "WARNING: Compat.UTF8String is deprecated, use String instead.\n",
      "  likely near In[1]:6\n",
      "WARNING: Compat.UTF8String is deprecated"
     ]
    }
   ],
   "source": [
    "data[:comp_weight] = [competitor_mean_characteristic(good, :weight) for good in eachrow(data)]\n",
    "data[:comp_hp]     = [competitor_mean_characteristic(good, :hp) for good in eachrow(data)]\n",
    "data[:comp_ac]     = [competitor_mean_characteristic(good, :ac) for good in eachrow(data)];"
   ]
  },
  {
   "cell_type": "markdown",
   "metadata": {},
   "source": [
    "And the left hand side of the model is:"
   ]
  },
  {
   "cell_type": "code",
   "execution_count": 7,
   "metadata": {},
   "outputs": [
    {
     "name": "stderr",
     "output_type": "stream",
     "text": [
      ", use String instead.\n",
      "  likely near In[1]:6\n",
      "WARNING: Compat.UTF8String is deprecated, use String instead.\n",
      "  likely near In[1]:6\n",
      "WARNING: Compat.UTF8String is deprecated, use String instead.\n",
      "  likely near In[1]:6\n",
      "WARNING: Compat.UTF8String is deprecated, use String instead.\n",
      "  likely near In[1]:6\n",
      "in #readtable#84 at C:\\\\\\\\\\\\\\\\\\\\\\\\\\\\\\\\\\\\\\\\\\\\\\\\\\\\\\\\\\\\\\\\\\\\\\\\\\\\\\\\\\\\\\\\\\\\\\\\\\\\\\\\\\\\\\\\\\Users\\Max\\AppData\\Local\\JuliaPro-0.6.0.1\\pkgs-0.6.0.1\\v0.6\\DataFrames\\src\\dataframe\\io.jl\n",
      "WARNING: Compat.UTF8String is deprecated, use String instead.\n",
      "  likely near In[1]:6\n",
      "in #readtable#84 at C:\\\\\\\\\\\\\\\\\\\\\\\\\\\\\\\\\\\\\\\\\\\\\\\\\\\\\\\\\\\\\\\\\\\\\\\\\\\\\\\\\\\\\\\\\\\\\\\\\\\\\\\\\\\\\\\\\\Users\\Max\\AppData\\Local\\JuliaPro-0.6.0.1\\pkgs-0.6.0.1\\v0.6\\DataFrames\\src\\dataframe\\io.jl"
     ]
    }
   ],
   "source": [
    "data[:LHS] = zeros(size(data)[1])\n",
    "\n",
    "for y in [1990, 1991, 1992]\n",
    "    data[data[:year] .== y, :LHS] = \n",
    "        log(data[data[:year] .== y, :share]) - log(1 - sum(data[data[:year] .== y, :share]))\n",
    "end"
   ]
  },
  {
   "cell_type": "code",
   "execution_count": 8,
   "metadata": {},
   "outputs": [
    {
     "name": "stderr",
     "output_type": "stream",
     "text": [
      "\n",
      "WARNING: Compat.UTF8String is deprecated, use String instead.\n",
      "  likely near In[1]:6\n",
      "WARNING: Compat.UTF8String is deprecated, use String instead.\n",
      "  likely near In[1]:6\n",
      "WARNING: Compat.UTF8String is deprecated"
     ]
    },
    {
     "data": {
      "text/html": [
       "<table class=\"data-frame\"><thead><tr><th></th><th>car</th><th>year</th><th>firm</th><th>price</th><th>quantity</th><th>weight</th><th>hp</th><th>ac</th><th>nest3</th><th>nest4</th><th>share</th><th>comp_weight</th><th>comp_hp</th><th>comp_ac</th><th>LHS</th></tr></thead><tbody><tr><th>1</th><td>91</td><td>1990</td><td>19</td><td>0.2970233932704021</td><td>52409.0</td><td>0.5559956020578457</td><td>0.4081228050300215</td><td>0</td><td>1</td><td>1</td><td>0.00052409</td><td>0.9900775851227993</td><td>0.9764801886258073</td><td>0.4270833333333333</td><td>-7.462877776838659</td></tr><tr><th>2</th><td>35</td><td>1990</td><td>7</td><td>0.4307953969117842</td><td>17122.0</td><td>0.7619198991163071</td><td>0.7420414636909483</td><td>0</td><td>2</td><td>2</td><td>0.00017122</td><td>1.007985368233883</td><td>1.001208568345631</td><td>0.45081967213114754</td><td>-8.581591922822227</td></tr><tr><th>3</th><td>61</td><td>1990</td><td>16</td><td>0.43822717489186097</td><td>65590.0</td><td>0.8974867280131275</td><td>0.6900985612325818</td><td>0</td><td>1</td><td>1</td><td>0.0006559</td><td>1.0072831756766172</td><td>1.0122090818191223</td><td>0.5043478260869565</td><td>-7.238532863836876</td></tr><tr><th>4</th><td>52</td><td>1990</td><td>10</td><td>0.5360293731096715</td><td>49877.0</td><td>0.8662548762925941</td><td>0.6826781465956724</td><td>0</td><td>1</td><td>1</td><td>0.00049877</td><td>1.0086561218201344</td><td>1.001989689829612</td><td>0.47244094488188976</td><td>-7.51239613448586</td></tr><tr><th>5</th><td>26</td><td>1990</td><td>4</td><td>0.6837235741670641</td><td>35944.0</td><td>0.7488780269692712</td><td>0.8607680978814999</td><td>0</td><td>2</td><td>3</td><td>0.00035944</td><td>1.0075772348148713</td><td>0.996691248532191</td><td>0.46825396825396826</td><td>-7.839993937374661</td></tr><tr><th>6</th><td>54</td><td>1990</td><td>11</td><td>0.8420204451426995</td><td>4640.0</td><td>0.9376419659395274</td><td>0.9498130735244137</td><td>1</td><td>2</td><td>2</td><td>4.64e-5</td><td>1.0036015934934468</td><td>0.9906541153244582</td><td>0.4496124031007752</td><td>-9.887241742904356</td></tr></tbody></table>"
      ],
      "text/plain": [
       "6×15 DataFrames.DataFrame\n",
       "│ Row │ car │ year │ firm │ price    │ quantity │ weight   │ hp       │ ac │\n",
       "├─────┼─────┼──────┼──────┼──────────┼──────────┼──────────┼──────────┼────┤\n",
       "│ 1   │ 91  │ 1990 │ 19   │ 0.297023 │ 52409.0  │ 0.555996 │ 0.408123 │ 0  │\n",
       "│ 2   │ 35  │ 1990 │ 7    │ 0.430795 │ 17122.0  │ 0.76192  │ 0.742041 │ 0  │\n",
       "│ 3   │ 61  │ 1990 │ 16   │ 0.438227 │ 65590.0  │ 0.897487 │ 0.690099 │ 0  │\n",
       "│ 4   │ 52  │ 1990 │ 10   │ 0.536029 │ 49877.0  │ 0.866255 │ 0.682678 │ 0  │\n",
       "│ 5   │ 26  │ 1990 │ 4    │ 0.683724 │ 35944.0  │ 0.748878 │ 0.860768 │ 0  │\n",
       "│ 6   │ 54  │ 1990 │ 11   │ 0.84202  │ 4640.0   │ 0.937642 │ 0.949813 │ 1  │\n",
       "\n",
       "│ Row │ nest3 │ nest4 │ share      │ comp_weight │ comp_hp  │ comp_ac  │\n",
       "├─────┼───────┼───────┼────────────┼─────────────┼──────────┼──────────┤\n",
       "│ 1   │ 1     │ 1     │ 0.00052409 │ 0.990078    │ 0.97648  │ 0.427083 │\n",
       "│ 2   │ 2     │ 2     │ 0.00017122 │ 1.00799     │ 1.00121  │ 0.45082  │\n",
       "│ 3   │ 1     │ 1     │ 0.0006559  │ 1.00728     │ 1.01221  │ 0.504348 │\n",
       "│ 4   │ 1     │ 1     │ 0.00049877 │ 1.00866     │ 1.00199  │ 0.472441 │\n",
       "│ 5   │ 2     │ 3     │ 0.00035944 │ 1.00758     │ 0.996691 │ 0.468254 │\n",
       "│ 6   │ 2     │ 2     │ 4.64e-5    │ 1.0036      │ 0.990654 │ 0.449612 │\n",
       "\n",
       "│ Row │ LHS      │\n",
       "├─────┼──────────┤\n",
       "│ 1   │ -7.46288 │\n",
       "│ 2   │ -8.58159 │\n",
       "│ 3   │ -7.23853 │\n",
       "│ 4   │ -7.5124  │\n",
       "│ 5   │ -7.83999 │\n",
       "│ 6   │ -9.88724 │"
      ]
     },
     "execution_count": 8,
     "metadata": {},
     "output_type": "execute_result"
    },
    {
     "name": "stderr",
     "output_type": "stream",
     "text": [
      ", use String"
     ]
    }
   ],
   "source": [
    "head(data)"
   ]
  },
  {
   "cell_type": "markdown",
   "metadata": {},
   "source": [
    "#### GMM Estimation\n",
    "I estimate $\\hat{\\theta}$ using the following GMM procedure:\n",
    "$$\\max_\\theta Q_n\\big(\\theta \\big)$$\n",
    "where $Q_n\\big(\\theta\\big) = -\\frac{1}{2}g_n\\big(\\theta\\big)'\\,\\hat{W}\\,g_n\\big(\\theta\\big)$ and $g_n\\big(\\theta\\big) = \\frac{1}{n}\\sum_{r=1}^R g\\big(w_r; \\theta\\big)$. \n",
    "\n",
    "$g\\big(w_r; \\theta\\big) = z_r \\cdot (y_r - x_r \\cdot \\theta)$ is the residual $\\xi_{jt}$ from the model above times the instruments calculated using $w_r$, a row of data.\n",
    "\n",
    "The efficient GMM is with estimated weighting matrix $\\hat{W}_A=\\left(\\frac{1}{n} \\sum_{o=1}^n{g(w_o,\\theta_{first})g(w_o,\\theta_{first})'}\\right)^{-1}$:"
   ]
  },
  {
   "cell_type": "code",
   "execution_count": 9,
   "metadata": {},
   "outputs": [
    {
     "name": "stderr",
     "output_type": "stream",
     "text": [
      " instead.\n",
      "  likely near In[1]:6\n",
      "WARNING: Compat.UTF8String is deprecated, use String instead.\n",
      "  likely near In[1]:6\n",
      "WARNING: Compat.UTF8String is deprecated, use String instead.\n",
      "  likely near In[1]:6\n",
      "WARNING: Compat.UTF8String is deprecated, use String instead.\n",
      "  likely near In[1]:6\n"
     ]
    },
    {
     "data": {
      "text/plain": [
       "What (generic function with 1 method)"
      ]
     },
     "execution_count": 9,
     "metadata": {},
     "output_type": "execute_result"
    }
   ],
   "source": [
    "# w is data, with the left-hand-side as its first column, z are included regressors and excluded instruments\n",
    "function gn(w, z, θ)\n",
    "\n",
    "    1/size(w)[1] .* z' * (w[:,1] - w[:, 2:end] * θ)\n",
    "    \n",
    "end\n",
    "\n",
    "#Wrapper creates a closure around the provided data set \n",
    "function Qn_wrapper(w, z)\n",
    "    return θ -> 1/2 * (gn(w,z,θ)' * gn(w,z,θ))[1,1]\n",
    "end\n",
    "\n",
    "function Qn_wrapper(w, z, W)\n",
    "    return θ -> 1/2 * (gn(w,z,θ)' * W * gn(w,z,θ))[1,1]\n",
    "end\n",
    "\n",
    "\n",
    "function g(w, z, θ)\n",
    "    z * (w[1] - w[2:end]' * θ)\n",
    "end\n",
    "\n",
    "function What(w, z, θ)\n",
    "    result = zeros(Float64, size(z)[2], size(z)[2])\n",
    "    for i in 1:size(w)[1]\n",
    "        result .+= g(w[i,:],z[i,:],θ) * g(w[i,:],z[i,:],θ)'\n",
    "    end\n",
    "    return inv(result/size(z)[1])\n",
    "end"
   ]
  },
  {
   "cell_type": "code",
   "execution_count": 10,
   "metadata": {
    "scrolled": true
   },
   "outputs": [
    {
     "name": "stderr",
     "output_type": "stream",
     "text": [
      "WARNING: Compat.UTF8String is deprecated, use String instead.\n",
      "  likely near In[1]:6\n",
      "in builddf at C:\\\\\\\\\\\\\\\\\\\\\\\\\\\\\\\\\\\\\\\\\\\\\\\\\\\\\\\\\\\\\\\\\\\\\\\\\\\\\\\\\\\\\\\\\\\\\\\\\\\\\\\\\\\\\\\\\\Users\\Max\\AppData\\Local\\JuliaPro-0.6.0.1\\pkgs-0.6.0.1\\v0.6\\DataFrames\\src\\dataframe\\io.jl\n"
     ]
    },
    {
     "data": {
      "text/html": [
       "<table class=\"data-frame\"><thead><tr><th></th><th>year</th><th>βw</th><th>βhp</th><th>βac</th><th>α</th></tr></thead><tbody><tr><th>1</th><td>1990</td><td>-0.14773648666540135</td><td>-19.223330773099537</td><td>-3.191339584178792</td><td>-13.752715568946247</td></tr><tr><th>2</th><td>1991</td><td>-0.9513776168253341</td><td>-15.063324832825115</td><td>-1.0394038967574601</td><td>-8.6793352740717</td></tr><tr><th>3</th><td>1992</td><td>-1.4523264007228</td><td>-13.174051159130832</td><td>-0.962987121327918</td><td>-6.839267481816083</td></tr></tbody></table>"
      ],
      "text/plain": [
       "3×5 DataFrames.DataFrame\n",
       "│ Row │ year │ βw        │ βhp      │ βac       │ α        │\n",
       "├─────┼──────┼───────────┼──────────┼───────────┼──────────┤\n",
       "│ 1   │ 1990 │ -0.147736 │ -19.2233 │ -3.19134  │ -13.7527 │\n",
       "│ 2   │ 1991 │ -0.951378 │ -15.0633 │ -1.0394   │ -8.67934 │\n",
       "│ 3   │ 1992 │ -1.45233  │ -13.1741 │ -0.962987 │ -6.83927 │"
      ]
     },
     "execution_count": 10,
     "metadata": {},
     "output_type": "execute_result"
    }
   ],
   "source": [
    "table3 = DataFrame()\n",
    "table3[:year] = [1990, 1991, 1992]\n",
    "\n",
    "table3 = hcat(table3, convert(DataFrame, hcat(\n",
    "    [begin\n",
    "        w = convert(Array{Float64}, data[data[:year] .== year, [:LHS, :weight, :hp, :ac, :price]])\n",
    "        z = convert(Array{Float64}, data[data[:year] .== year, [:weight, :hp, :ac, :comp_weight, :comp_hp, :comp_ac]])\n",
    "\n",
    "        Qn = Qn_wrapper(w, z)\n",
    "\n",
    "        optres = optimize(Qn, zeros(4), BFGS())\n",
    "        θfirst = optres.minimizer\n",
    "\n",
    "        Qn = Qn_wrapper(w, z, What(w, z, θfirst))\n",
    "        optres = optimize(Qn, θfirst, BFGS())\n",
    "        optres.minimizer\n",
    "    end for year in [1990, 1991, 1992]]...)')\n",
    ")\n",
    "\n",
    "rename!(table3, names(table3)[2:end], [:βw, :βhp, :βac, :α])\n",
    "table3[:α] = - table3[:α]\n",
    "\n",
    "table3"
   ]
  },
  {
   "cell_type": "markdown",
   "metadata": {},
   "source": [
    "### 4\n",
    "Cross-price elasticities are constant over all goods, which is rather unrealistic. For example, increasing the price of a Aston Martin DB11 would shift market share equally to the Ford Prius and the Ferrari 911. \n",
    "\n",
    "Similarily, the own-price elasticity is constant, but in reality some cars will have higher and some lower.\n",
    "## Part B: Nested Logit\n",
    "### 5\n",
    "Using Berry (1994) notation:\n",
    "\n",
    "$$\\log s_{jt} - \\log s_{0t} = \\frac{\\delta_{jt}^*}{1-\\sigma} - \\sigma \\log{D_g}$$\n",
    "where $D_g=\\sum_{j \\in g} e^{\\delta_{jt}^*/(1-\\sigma)}$. That yields:\n",
    "\n",
    "$$\\log s_{jt} - \\log s_{0t} = x'_{jt}\\beta_t - \\alpha_t p_{jt} + \\sigma \\log s_{j|g} + \\xi_{jt}  $$\n",
    "### 6\n",
    "Let me calculate the within group shares:"
   ]
  },
  {
   "cell_type": "code",
   "execution_count": 11,
   "metadata": {},
   "outputs": [],
   "source": [
    "for nest_structure in [:nest3, :nest4]\n",
    "    # initialize a column of zeros\n",
    "    data[Symbol(string(\"share_\", string(nest_structure)))] = zeros(size(data)[1])\n",
    "\n",
    "    for y in [1990, 1991, 1992]\n",
    "        for nest in 1:maximum(data[nest_structure])\n",
    "            data[(data[:year] .== y) .* (data[nest_structure] .== nest), Symbol(string(\"share_\", string(nest_structure)))] = \n",
    "                log(data[(data[:year] .== y) .* (data[nest_structure] .== nest), :share]) - \n",
    "                log(sum(data[(data[:year] .== y) .* (data[nest_structure] .== nest), :share]))\n",
    "        end\n",
    "    end\n",
    "end"
   ]
  },
  {
   "cell_type": "markdown",
   "metadata": {},
   "source": [
    "And the within group competitor's characteristics, which are being used as an instrument for the within shares:"
   ]
  },
  {
   "cell_type": "code",
   "execution_count": 12,
   "metadata": {},
   "outputs": [
    {
     "data": {
      "text/plain": [
       "nest_competitor_mean_characteristic (generic function with 1 method)"
      ]
     },
     "execution_count": 12,
     "metadata": {},
     "output_type": "execute_result"
    }
   ],
   "source": [
    "function nest_competitor_mean_characteristic(good, char::Symbol, nest_structure::Symbol)\n",
    "    mean(data[(data[nest_structure] .== good[nest_structure]) .* (data[:year] .== good[:year]) .* \n",
    "            (data[:car] .!= good[:car]), char]) #same year, same nest, different car\n",
    "end"
   ]
  },
  {
   "cell_type": "code",
   "execution_count": 13,
   "metadata": {
    "collapsed": true
   },
   "outputs": [],
   "source": [
    "for nest_structure in [:nest3, :nest4]\n",
    "\n",
    "    data[Symbol(string(\"comp_weight_\", string(nest_structure)))] = \n",
    "        [nest_competitor_mean_characteristic(good, :weight, nest_structure) for good in eachrow(data)]\n",
    "\n",
    "    data[Symbol(string(\"comp_hp_\", string(nest_structure)))] = \n",
    "        [nest_competitor_mean_characteristic(good, :hp, nest_structure) for good in eachrow(data)]\n",
    "\n",
    "    data[Symbol(string(\"comp_ac_\", string(nest_structure)))] = \n",
    "        [nest_competitor_mean_characteristic(good, :ac, nest_structure) for good in eachrow(data)];\n",
    "    \n",
    "end"
   ]
  },
  {
   "cell_type": "code",
   "execution_count": 14,
   "metadata": {},
   "outputs": [
    {
     "data": {
      "text/html": [
       "<table class=\"data-frame\"><thead><tr><th></th><th>car</th><th>year</th><th>firm</th><th>price</th><th>quantity</th><th>weight</th><th>hp</th><th>ac</th><th>nest3</th><th>nest4</th><th>share</th><th>comp_weight</th><th>comp_hp</th><th>comp_ac</th><th>LHS</th><th>share_nest3</th><th>share_nest4</th><th>comp_weight_nest3</th><th>comp_hp_nest3</th><th>comp_ac_nest3</th><th>comp_weight_nest4</th><th>comp_hp_nest4</th><th>comp_ac_nest4</th></tr></thead><tbody><tr><th>1</th><td>91</td><td>1990</td><td>19</td><td>0.2970233932704021</td><td>52409.0</td><td>0.5559956020578457</td><td>0.4081228050300215</td><td>0</td><td>1</td><td>1</td><td>0.00052409</td><td>0.9900775851227993</td><td>0.9764801886258073</td><td>0.4270833333333333</td><td>-7.462877776838659</td><td>-4.304576788942753</td><td>-3.684711188040598</td><td>0.9528997625875185</td><td>0.7518815787529369</td><td>0.2608695652173913</td><td>0.9115978224718131</td><td>0.6863883539141272</td><td>0.11538461538461539</td></tr><tr><th>2</th><td>35</td><td>1990</td><td>7</td><td>0.4307953969117842</td><td>17122.0</td><td>0.7619198991163071</td><td>0.7420414636909483</td><td>0</td><td>2</td><td>2</td><td>0.00017122</td><td>1.007985368233883</td><td>1.001208568345631</td><td>0.45081967213114754</td><td>-8.581591922822227</td><td>-5.573016845671248</td><td>-5.7614217762818</td><td>1.009372262748225</td><td>1.027351029368062</td><td>0.4927536231884058</td><td>0.9905522864668314</td><td>0.927348530582537</td><td>0.4246575342465753</td></tr><tr><th>3</th><td>61</td><td>1990</td><td>16</td><td>0.43822717489186097</td><td>65590.0</td><td>0.8974867280131275</td><td>0.6900985612325818</td><td>0</td><td>1</td><td>1</td><td>0.0006559</td><td>1.0072831756766172</td><td>1.0122090818191223</td><td>0.5043478260869565</td><td>-7.238532863836876</td><td>-4.08023187594097</td><td>-3.460366275038815</td><td>0.9454760424580558</td><td>0.7457516710094029</td><td>0.2608695652173913</td><td>0.89846354839661</td><td>0.6755431325217209</td><td>0.11538461538461539</td></tr><tr><th>4</th><td>52</td><td>1990</td><td>10</td><td>0.5360293731096715</td><td>49877.0</td><td>0.8662548762925941</td><td>0.6826781465956724</td><td>0</td><td>1</td><td>1</td><td>0.00049877</td><td>1.0086561218201344</td><td>1.001989689829612</td><td>0.47244094488188976</td><td>-7.51239613448586</td><td>-4.354095146589954</td><td>-3.7342295456877985</td><td>0.9461549957563283</td><td>0.7459129843710749</td><td>0.2608695652173913</td><td>0.8996647734627844</td><td>0.675828533084679</td><td>0.11538461538461539</td></tr><tr><th>5</th><td>26</td><td>1990</td><td>4</td><td>0.6837235741670641</td><td>35944.0</td><td>0.7488780269692712</td><td>0.8607680978814999</td><td>0</td><td>2</td><td>3</td><td>0.00035944</td><td>1.0075772348148713</td><td>0.996691248532191</td><td>0.46825396825396826</td><td>-7.839993937374661</td><td>-4.831418860223682</td><td>-3.3802007968344165</td><td>1.0095612753880372</td><td>1.025630353510228</td><td>0.4927536231884058</td><td>1.1384493562225968</td><td>1.3454560903014512</td><td>0.8636363636363636</td></tr><tr><th>6</th><td>54</td><td>1990</td><td>11</td><td>0.8420204451426995</td><td>4640.0</td><td>0.9376419659395274</td><td>0.9498130735244137</td><td>1</td><td>2</td><td>2</td><td>4.64e-5</td><td>1.0036015934934468</td><td>0.9906541153244582</td><td>0.4496124031007752</td><td>-9.887241742904356</td><td>-6.878666665753377</td><td>-7.067071596363929</td><td>1.0068255661275984</td><td>1.0243398466168523</td><td>0.4782608695652174</td><td>0.9881451348665133</td><td>0.924502344146462</td><td>0.410958904109589</td></tr></tbody></table>"
      ],
      "text/plain": [
       "6×23 DataFrames.DataFrame\n",
       "│ Row │ car │ year │ firm │ price    │ quantity │ weight   │ hp       │ ac │\n",
       "├─────┼─────┼──────┼──────┼──────────┼──────────┼──────────┼──────────┼────┤\n",
       "│ 1   │ 91  │ 1990 │ 19   │ 0.297023 │ 52409.0  │ 0.555996 │ 0.408123 │ 0  │\n",
       "│ 2   │ 35  │ 1990 │ 7    │ 0.430795 │ 17122.0  │ 0.76192  │ 0.742041 │ 0  │\n",
       "│ 3   │ 61  │ 1990 │ 16   │ 0.438227 │ 65590.0  │ 0.897487 │ 0.690099 │ 0  │\n",
       "│ 4   │ 52  │ 1990 │ 10   │ 0.536029 │ 49877.0  │ 0.866255 │ 0.682678 │ 0  │\n",
       "│ 5   │ 26  │ 1990 │ 4    │ 0.683724 │ 35944.0  │ 0.748878 │ 0.860768 │ 0  │\n",
       "│ 6   │ 54  │ 1990 │ 11   │ 0.84202  │ 4640.0   │ 0.937642 │ 0.949813 │ 1  │\n",
       "\n",
       "│ Row │ nest3 │ nest4 │ share      │ comp_weight │ comp_hp  │ comp_ac  │\n",
       "├─────┼───────┼───────┼────────────┼─────────────┼──────────┼──────────┤\n",
       "│ 1   │ 1     │ 1     │ 0.00052409 │ 0.990078    │ 0.97648  │ 0.427083 │\n",
       "│ 2   │ 2     │ 2     │ 0.00017122 │ 1.00799     │ 1.00121  │ 0.45082  │\n",
       "│ 3   │ 1     │ 1     │ 0.0006559  │ 1.00728     │ 1.01221  │ 0.504348 │\n",
       "│ 4   │ 1     │ 1     │ 0.00049877 │ 1.00866     │ 1.00199  │ 0.472441 │\n",
       "│ 5   │ 2     │ 3     │ 0.00035944 │ 1.00758     │ 0.996691 │ 0.468254 │\n",
       "│ 6   │ 2     │ 2     │ 4.64e-5    │ 1.0036      │ 0.990654 │ 0.449612 │\n",
       "\n",
       "│ Row │ LHS      │ share_nest3 │ share_nest4 │ comp_weight_nest3 │\n",
       "├─────┼──────────┼─────────────┼─────────────┼───────────────────┤\n",
       "│ 1   │ -7.46288 │ -4.30458    │ -3.68471    │ 0.9529            │\n",
       "│ 2   │ -8.58159 │ -5.57302    │ -5.76142    │ 1.00937           │\n",
       "│ 3   │ -7.23853 │ -4.08023    │ -3.46037    │ 0.945476          │\n",
       "│ 4   │ -7.5124  │ -4.3541     │ -3.73423    │ 0.946155          │\n",
       "│ 5   │ -7.83999 │ -4.83142    │ -3.3802     │ 1.00956           │\n",
       "│ 6   │ -9.88724 │ -6.87867    │ -7.06707    │ 1.00683           │\n",
       "\n",
       "│ Row │ comp_hp_nest3 │ comp_ac_nest3 │ comp_weight_nest4 │ comp_hp_nest4 │\n",
       "├─────┼───────────────┼───────────────┼───────────────────┼───────────────┤\n",
       "│ 1   │ 0.751882      │ 0.26087       │ 0.911598          │ 0.686388      │\n",
       "│ 2   │ 1.02735       │ 0.492754      │ 0.990552          │ 0.927349      │\n",
       "│ 3   │ 0.745752      │ 0.26087       │ 0.898464          │ 0.675543      │\n",
       "│ 4   │ 0.745913      │ 0.26087       │ 0.899665          │ 0.675829      │\n",
       "│ 5   │ 1.02563       │ 0.492754      │ 1.13845           │ 1.34546       │\n",
       "│ 6   │ 1.02434       │ 0.478261      │ 0.988145          │ 0.924502      │\n",
       "\n",
       "│ Row │ comp_ac_nest4 │\n",
       "├─────┼───────────────┤\n",
       "│ 1   │ 0.115385      │\n",
       "│ 2   │ 0.424658      │\n",
       "│ 3   │ 0.115385      │\n",
       "│ 4   │ 0.115385      │\n",
       "│ 5   │ 0.863636      │\n",
       "│ 6   │ 0.410959      │"
      ]
     },
     "execution_count": 14,
     "metadata": {},
     "output_type": "execute_result"
    }
   ],
   "source": [
    "head(data)"
   ]
  },
  {
   "cell_type": "markdown",
   "metadata": {},
   "source": [
    "#### 6.a."
   ]
  },
  {
   "cell_type": "code",
   "execution_count": 15,
   "metadata": {},
   "outputs": [
    {
     "data": {
      "text/html": [
       "<table class=\"data-frame\"><thead><tr><th></th><th>year</th><th>nest</th><th>βw</th><th>βhp</th><th>βac</th><th>α</th><th>σ</th></tr></thead><tbody><tr><th>1</th><td>1990</td><td>3</td><td>-1.2719376209090105</td><td>-4.379978695470563</td><td>0.05076184825827891</td><td>-2.2999502733401953</td><td>0.9690951928539002</td></tr><tr><th>2</th><td>1991</td><td>3</td><td>-0.8301643487342931</td><td>-2.0238276128900345</td><td>-0.003952554361051232</td><td>-0.8623334389041235</td><td>1.2558420455246175</td></tr><tr><th>3</th><td>1992</td><td>3</td><td>-1.473254567620196</td><td>-2.534228169868762</td><td>-0.1850286135541211</td><td>-1.209403792682061</td><td>1.0664739428544119</td></tr><tr><th>4</th><td>1990</td><td>4</td><td>-0.14163499647361066</td><td>-7.549133203378204</td><td>-0.15951471552449165</td><td>-3.851278212355502</td><td>0.8588797261800747</td></tr><tr><th>5</th><td>1991</td><td>4</td><td>-1.2460353568693108</td><td>-5.9523095223955655</td><td>0.19833234933197522</td><td>-2.872992249777215</td><td>0.7866821695497277</td></tr><tr><th>6</th><td>1992</td><td>4</td><td>2.0306936842297287</td><td>-7.2526842155543525</td><td>-0.44886072785761605</td><td>-2.3442116911240403</td><td>1.1040830493657352</td></tr></tbody></table>"
      ],
      "text/plain": [
       "6×7 DataFrames.DataFrame\n",
       "│ Row │ year │ nest │ βw        │ βhp      │ βac         │ α         │\n",
       "├─────┼──────┼──────┼───────────┼──────────┼─────────────┼───────────┤\n",
       "│ 1   │ 1990 │ 3    │ -1.27194  │ -4.37998 │ 0.0507618   │ -2.29995  │\n",
       "│ 2   │ 1991 │ 3    │ -0.830164 │ -2.02383 │ -0.00395255 │ -0.862333 │\n",
       "│ 3   │ 1992 │ 3    │ -1.47325  │ -2.53423 │ -0.185029   │ -1.2094   │\n",
       "│ 4   │ 1990 │ 4    │ -0.141635 │ -7.54913 │ -0.159515   │ -3.85128  │\n",
       "│ 5   │ 1991 │ 4    │ -1.24604  │ -5.95231 │ 0.198332    │ -2.87299  │\n",
       "│ 6   │ 1992 │ 4    │ 2.03069   │ -7.25268 │ -0.448861   │ -2.34421  │\n",
       "\n",
       "│ Row │ σ        │\n",
       "├─────┼──────────┤\n",
       "│ 1   │ 0.969095 │\n",
       "│ 2   │ 1.25584  │\n",
       "│ 3   │ 1.06647  │\n",
       "│ 4   │ 0.85888  │\n",
       "│ 5   │ 0.786682 │\n",
       "│ 6   │ 1.10408  │"
      ]
     },
     "execution_count": 15,
     "metadata": {},
     "output_type": "execute_result"
    }
   ],
   "source": [
    "nest_structure = :nest3\n",
    "\n",
    "table6 = DataFrame()\n",
    "table6[:year] = [1990, 1991, 1992, 1990, 1991, 1992]\n",
    "table6[:nesting] = [3, 3, 3, 4, 4, 4]\n",
    "\n",
    "table6 = hcat(table6, convert(DataFrame, hcat(\n",
    "    [begin\n",
    "        # do 2SLS:\n",
    "        X = convert(Array{Float64}, data[data[:year] .== year, \n",
    "                [:weight, :hp, :ac, :price, Symbol(string(\"share_\", string(nest_structure)))]])\n",
    "        Z = convert(Array{Float64}, data[data[:year] .== year, \n",
    "                [:weight, :hp, :ac, :comp_weight, :comp_hp, :comp_ac, Symbol(string(\"comp_weight_\", string(nest_structure))), \n",
    "                Symbol(string(\"comp_hp_\", string(nest_structure))), Symbol(string(\"comp_ac_\", string(nest_structure)))]])\n",
    "\n",
    "        y = convert(Array{Float64}, data[data[:year] .== year, [:LHS]])\n",
    "\n",
    "        θ2SLS = ((X'Z * (Z'Z)^(-1) * Z'X) \\ (X'Z * (Z'Z)^(-1) * Z'y))[:,1]\n",
    "\n",
    "        # so efficient GMM starting from 2SLS:\n",
    "        w = hcat(data[data[:year] .== year, :LHS], X)\n",
    "        z = Z\n",
    "\n",
    "        Qn = Qn_wrapper(w, z)\n",
    "\n",
    "        optres = optimize(Qn, θ2SLS, BFGS())\n",
    "        θfirst = optres.minimizer\n",
    "\n",
    "        Qn = Qn_wrapper(w, z, What(w, z, θfirst))\n",
    "        optres = optimize(Qn, θfirst, BFGS())\n",
    "        optres.minimizer\n",
    "    end for nest_structure in [:nest3, :nest4] for year in [1990, 1991, 1992]] ...)')\n",
    ")\n",
    "\n",
    "rename!(table6, names(table6)[2:end], [:nest, :βw, :βhp, :βac, :α, :σ])\n",
    "table6[:α] = - table6[:α]\n",
    "\n",
    "table6"
   ]
  },
  {
   "cell_type": "markdown",
   "metadata": {},
   "source": [
    "The estimates for the price coefficients are higher!\n",
    "\n",
    "#### 6.b.\n",
    "The conditional error must be time-independent. This is very implausible with real data, since brands have autocorrelation in how much they are liked by buyers.\n",
    "\n",
    "#### 6.c.\n",
    "$\\sigma$ is often close to one, but in 1991 the two nesting structures give very different estimates for $\\sigma$. With 4 nests the $\\sigma=0.79$ indicates there is much correlation within the nest. With 3 nests the $\\sigma=1.26$ might not be consistent with random utility maximization! \n",
    "#### 6.d.\n",
    "The $\\alpha$ also varies a lot over the three years! \n",
    "### 7\n",
    "#### 7.a.\n",
    "Lets have a look at price elasticities in the logit and the nested logit model:\n",
    "\n",
    "|          |   Standard Logit   | Nested Logit  |\n",
    "|:-:|:-:|:-:|\n",
    "| $\\frac{\\partial s_{jt}}{\\partial p_{jt}}$  | $-\\alpha s_{jt}\\big(1-s_{jt}\\big)$  | $-\\alpha s_{jt}\\big(\\frac{1}{1-\\sigma}-\\frac{\\sigma}{1-\\sigma}s_{jt|g}-s_{jt}\\big)$  |\n",
    "|  $\\frac{\\partial s_{jt}}{\\partial p_{kt}}$ | $\\alpha s_{jt}s_{kt}$  | $\\quad\\quad\\begin{cases}\n",
    "\\alpha s_{kt}\\big(\\frac{\\sigma}{1-\\sigma}s_{jt|g}+s_{jt}\\big) & \\text{same}\\\\\n",
    "\\alpha s_{jt}s_{kt} & \\text{different}\n",
    "\\end{cases}$  |\n",
    "\n",
    "The nested logit allows for a more flexible substitution pattern!\n",
    "#### 7.b.\n",
    "One could grow a dicision tree (or use some other machine learning methods, \"nearest neighbor\", etc.) to flexibly use the existing data (characteristics only, no market shares) to create nests. As validation I would check whether the catagories resemble something like: hypercar/supercar, sports car, SUV, hatchback, ...\n",
    "#### 7.c.\n",
    "We need to define the nesting structure a priori and must not make any mistakes. It is clear that we would need multiple layers of nesting to get a realistic classification, but then it is hard to justify why to split first according to one criterium instead of another.\n",
    "\n",
    "### 8\n",
    "#### 8.a.\n",
    "Probit would allow for a very flexible substitution pattern, but with more than 120 cars per year the covariance matrix would get very big!\n",
    "#### 8.b.\n",
    "The pure characteristics model could not reflect the (unobserved) emotional value of people buying an Alfa Romeo Giulia Quadrifoglio although it is a bad car for the price.\n",
    "\n",
    "## Part C: Mixed Logit\n",
    "### 9\n",
    "Now:\n",
    "$$u_{ijt} = x'_{jt}\\beta_t - \\alpha_{i} p_{jt}+ \\xi_{jt} + \\epsilon_{ijt} \\quad \\forall t \\in T$$\n",
    "where $\\alpha_i=\\frac{1}{y_i}$ and $y_i \\sim \\mathcal{LN}$, the log-normal distribution.\n",
    "\n",
    "Compared to BLP (1995) this is different in the sense the my $\\delta$ is now $x'_{jt}\\beta_t - \\mu_\\alpha p_{jt} + \\xi_{jt}$, the $\\alpha$ is integrated out and its distributional parameters are estimated.\n",
    "\n",
    "The mixed logit shares are in this setting:\n",
    "$$s_{jt}=\\int_{0}^{\\infty}\\frac{exp\\big(x'_{jt}\\beta_{t}-(\\mu_{\\alpha}-\\mu_{\\alpha}+\\frac{1}{y_{i}})p_{jt}+\\xi_{jt}\\big)}{1+\\sum_{k}exp\\big(x'_{jt}\\beta_{t}-\\frac{1}{y_{i}}p_{jt}+\\xi_{jt}\\big)}\\frac{1}{y_{i}\\sigma_{y}\\sqrt{2\\pi}}\\exp\\Big(-\\frac{(\\log y_{i}-\\mu_{y})^{2}}{2\\sigma_{y}^{2}}\\Big)dy_{i}=\n",
    "$$\n",
    "\n",
    "$$\\int_{0}^{\\infty}\\frac{exp\\big(\\delta_{jt}+(\\mu_{\\alpha}-\\frac{1}{y_{i}})p_{jt}\\big)}{1+\\sum_{k}exp\\big(\\delta_{jt}+(\\mu_{\\alpha}-\\frac{1}{y_{i}})p_{jt}\\big)}\\frac{1}{y_{i}\\sigma_{y}\\sqrt{2\\pi}}\\exp\\Big(-\\frac{(\\log y_{i}-\\mu_{y})^{2}}{2\\sigma_{y}^{2}}\\Big)dy_{i}=\n",
    "$$\n",
    "\n",
    "$$\\int_{0}^{\\infty}\\frac{exp\\big(\\delta_{jt}+(\\mu_{\\alpha}-\\frac{1}{\\exp(e_{i})})p_{jt}\\big)}{1+\\sum_{k}exp\\big(\\delta_{kt}+(\\mu_{\\alpha}-\\frac{1}{\\exp(e_{i})})p_{kt}\\big)}\\frac{1}{\\exp(e_{i})\\sigma_{y}\\sqrt{2\\pi}}\\exp\\Big(-\\frac{(e_{i}-\\mu_{y})^{2}}{2\\sigma_{y}^{2}}\\Big)\\exp(e_{i})de_{i}=\n",
    "$$\n",
    "\n",
    "$$\\int_{0}^{\\infty}\\frac{exp\\Big(\\delta_{jt}+(\\mu_{\\alpha}-\\exp(-e_{i}))p_{jt}\\Big)}{1+\\sum_{k}exp\\Big(\\delta_{kt}+(\\mu_{\\alpha}-\\exp(-e_{i}))p_{kt}\\Big)}\\frac{1}{\\sigma_{y}\\sqrt{2\\pi}}\\exp\\Big(-\\frac{(e_{i}-\\mu_{y})^{2}}{2\\sigma_{y}^{2}}\\Big)de_{i}=\n",
    "$$\n",
    "\n",
    "$$\\int_{0}^{\\infty}\\underset{h(e_{i};\\delta_{jt},\\,p_{jt})}{\\underbrace{\\frac{1}{\\sqrt{\\pi}}\\frac{exp\\Big(\\delta_{jt}+\\Big(\\exp(-\\mu_{y}+\\frac{1}{2}\\sigma_{y}^{2})-\\exp(-\\mu_{y}-\\sqrt{2}\\sigma_{y}e_{i})\\Big)\\,p_{jt}\\Big)}{1+\\sum_{k}exp\\Big(\\delta_{kt}+\\Big(\\exp(-\\mu_{y}+\\frac{1}{2}\\sigma_{y}^{2})-\\exp(-\\mu_{y}-\\sqrt{2}\\sigma_{y}e_{i})\\Big)\\,p_{kt}\\Big)}}}\\phi(e_{i})de_{i}\\approx\n",
    "$$\n",
    "\n",
    "$$\\approx\\sum_{l=1}^n q_l \\, h\\Big(e_{l};\\delta_{jt},\\,p_{jt}\\Big)$$\n",
    "where $q_l$ and $e_l$ are the Gauss-Hermite weights and points."
   ]
  },
  {
   "cell_type": "code",
   "execution_count": 21,
   "metadata": {},
   "outputs": [
    {
     "data": {
      "text/plain": [
       "Qn_wrapper_BLP (generic function with 1 method)"
      ]
     },
     "execution_count": 21,
     "metadata": {},
     "output_type": "execute_result"
    }
   ],
   "source": [
    "using FastGaussQuadrature\n",
    "\n",
    "function gn_BLP(w, z, θ)\n",
    "    1/size(w)[1] .* z' * (w[:,1] .- w[:, 2:4] * θ[1:3] .+ θ[4] .* w[:, 5])\n",
    "end\n",
    "\n",
    "#Wrapper creates a closure around the provided data set \n",
    "function Qn_wrapper_BLP(w, z)\n",
    "    \n",
    "    δ = zeros(size(w)[1])\n",
    "    (e, q) = gausshermite(30)\n",
    "    p = w[:, 5] #price\n",
    "    s = w[:, 1] #share\n",
    "    \n",
    "    \n",
    "    return θ -> begin #w, hp, ac, mu, sigma\n",
    "        μ_y = θ[4]\n",
    "        σ_y = θ[5]\n",
    "        \n",
    "        h(e) = 1/(√π) .* exp.(δ .+ (exp(-μ_y + 1/2 * σ_y^2) - exp(-μ_y - (√2) * σ_y * e)) .* p) / \n",
    "            (1 + sum(exp.(δ .+ (exp(-μ_y + 1/2 * σ_y^2) - exp(-μ_y - (√2) * σ_y * e)) .* p)))\n",
    "        \n",
    "        error = 1\n",
    "        \n",
    "        while error > 1e-13\n",
    "            δold = copy(δ)\n",
    "            δ = δold .+ log.(s) .- log.(hcat(h.(e)...) * q)\n",
    "            error = maximum(abs.(δ - δold))\n",
    "        end\n",
    "\n",
    "        gvec = gn_BLP(hcat(δ, w[:, 2:5]), z, θ) \n",
    "        1/2 * (gvec' * gvec)[1,1]\n",
    "    end\n",
    "end"
   ]
  },
  {
   "cell_type": "code",
   "execution_count": 26,
   "metadata": {
    "scrolled": true
   },
   "outputs": [
    {
     "data": {
      "text/plain": [
       "Results of Optimization Algorithm\n",
       " * Algorithm: Nelder-Mead\n",
       " * Starting Point: [0.0,0.0,0.0,0.0,1.0]\n",
       " * Minimizer: [-5.691735033022672,-5.0549542860660175, ...]\n",
       " * Minimum: 1.126676e-02\n",
       " * Iterations: 1000\n",
       " * Convergence: false\n",
       "   *  √(Σ(yᵢ-ȳ)²)/n < 1.0e-08: false\n",
       "   * Reached Maximum Number of Iterations: true\n",
       " * Objective Function Calls: 1403"
      ]
     },
     "execution_count": 26,
     "metadata": {},
     "output_type": "execute_result"
    }
   ],
   "source": [
    "year = 1990\n",
    "\n",
    "w = convert(Array{Float64}, data[data[:year] .== year, [:share, :weight, :hp, :ac, :price]])\n",
    "z = convert(Array{Float64}, data[data[:year] .== year, [:weight, :hp, :ac, :comp_weight, :comp_hp, :comp_ac]])\n",
    "\n",
    "Qn = Qn_wrapper_BLP(w, z)\n",
    "\n",
    "optres = optimize(Qn, vcat(zeros(4), 1), NelderMead())"
   ]
  },
  {
   "cell_type": "code",
   "execution_count": 27,
   "metadata": {},
   "outputs": [
    {
     "data": {
      "text/plain": [
       "Results of Optimization Algorithm\n",
       " * Algorithm: Nelder-Mead\n",
       " * Starting Point: [-5.691735033022672,-5.0549542860660175, ...]\n",
       " * Minimizer: [-5.691735033022672,-5.0549542860660175, ...]\n",
       " * Minimum: 1.126676e-02\n",
       " * Iterations: 1000\n",
       " * Convergence: false\n",
       "   *  √(Σ(yᵢ-ȳ)²)/n < 1.0e-08: false\n",
       "   * Reached Maximum Number of Iterations: true\n",
       " * Objective Function Calls: 1007"
      ]
     },
     "execution_count": 27,
     "metadata": {},
     "output_type": "execute_result"
    }
   ],
   "source": [
    "optres = optimize(Qn, optres.minimizer, NelderMead())"
   ]
  },
  {
   "cell_type": "code",
   "execution_count": 28,
   "metadata": {},
   "outputs": [
    {
     "data": {
      "text/plain": [
       "Results of Optimization Algorithm\n",
       " * Algorithm: Nelder-Mead\n",
       " * Starting Point: [-5.691735033022672,-5.0549542860660175, ...]\n",
       " * Minimizer: [-5.691735033022672,-5.0549542860660175, ...]\n",
       " * Minimum: NaN\n",
       " * Iterations: 1000\n",
       " * Convergence: false\n",
       "   *  √(Σ(yᵢ-ȳ)²)/n < 1.0e-08: false\n",
       "   * Reached Maximum Number of Iterations: true\n",
       " * Objective Function Calls: 1007"
      ]
     },
     "execution_count": 28,
     "metadata": {},
     "output_type": "execute_result"
    }
   ],
   "source": [
    "optres = optimize(Qn, optres.minimizer, NelderMead())"
   ]
  },
  {
   "cell_type": "code",
   "execution_count": 29,
   "metadata": {},
   "outputs": [
    {
     "data": {
      "text/plain": [
       "Results of Optimization Algorithm\n",
       " * Algorithm: Nelder-Mead\n",
       " * Starting Point: [-5.691735033022672,-5.0549542860660175, ...]\n",
       " * Minimizer: [-5.691735033022672,-5.0549542860660175, ...]\n",
       " * Minimum: NaN\n",
       " * Iterations: 1000\n",
       " * Convergence: false\n",
       "   *  √(Σ(yᵢ-ȳ)²)/n < 1.0e-08: false\n",
       "   * Reached Maximum Number of Iterations: true\n",
       " * Objective Function Calls: 1007"
      ]
     },
     "execution_count": 29,
     "metadata": {},
     "output_type": "execute_result"
    }
   ],
   "source": [
    "optres = optimize(Qn, optres.minimizer, NelderMead())"
   ]
  },
  {
   "cell_type": "code",
   "execution_count": null,
   "metadata": {},
   "outputs": [
    {
     "name": "stderr",
     "output_type": "stream",
     "text": [
      "\u001b[1m\u001b[33mWARNING: \u001b[39m\u001b[22m\u001b[33mOptimizationOptions(args...; kwargs...) is deprecated, use Optim.Options(args...; kwargs...) instead.\u001b[39m\n",
      "Stacktrace:\n",
      " [1] \u001b[1mdepwarn\u001b[22m\u001b[22m\u001b[1m(\u001b[22m\u001b[22m::"
     ]
    }
   ],
   "source": [
    "optres = optimize(Qn, optres.minimizer, NelderMead(), Optim.OptimizationOptions(iterations=100000))"
   ]
  },
  {
   "cell_type": "code",
   "execution_count": null,
   "metadata": {
    "collapsed": true
   },
   "outputs": [],
   "source": []
  }
 ],
 "metadata": {
  "kernelspec": {
   "display_name": "Julia 0.6.0",
   "language": "julia",
   "name": "julia-0.6"
  },
  "language_info": {
   "file_extension": ".jl",
   "mimetype": "application/julia",
   "name": "julia",
   "version": "0.6.0"
  }
 },
 "nbformat": 4,
 "nbformat_minor": 2
}
