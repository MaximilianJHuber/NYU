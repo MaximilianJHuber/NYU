{
 "cells": [
  {
   "cell_type": "markdown",
   "metadata": {},
   "source": [
    "# PS 3\n",
    "Maximilian Huber\n",
    "\n",
    "This code is stored at: https://github.com/MaximilianJHuber/NYU/blob/master/EmpIO/PS3.ipynb.\n",
    "## Part 1\n",
    "The package StatsFuns implements such a function:"
   ]
  },
  {
   "cell_type": "code",
   "execution_count": 76,
   "metadata": {},
   "outputs": [
    {
     "data": {
      "text/plain": [
       "Plots.PyPlotBackend()"
      ]
     },
     "execution_count": 76,
     "metadata": {},
     "output_type": "execute_result"
    }
   ],
   "source": [
    "using StatsFuns\n",
    "using StatsBase\n",
    "using Parameters\n",
    "using Optim\n",
    "using Plots; pyplot()"
   ]
  },
  {
   "cell_type": "code",
   "execution_count": 77,
   "metadata": {
    "scrolled": true
   },
   "outputs": [
    {
     "name": "stdout",
     "output_type": "stream",
     "text": [
      "# common facilities\n",
      "\n",
      "# scalar functions\n",
      "\n",
      "xlogx(x::Real) = x > zero(x) ? x * log(x) : zero(log(x))\n",
      "\n",
      "xlogy{T<:Real}(x::T, y::T) = x > zero(T) ? x * log(y) : zero(log(x))\n",
      "xlogy(x::Real, y::Real) = xlogy(promote(x, y)...)\n",
      "\n",
      "# logistic: 1 / (1 + exp(-x))\n",
      "#\n",
      "logistic(x::Real) = one(x) / (one(x) + exp(-x))\n",
      "\n",
      "# logit: log(x / (1 - x))\n",
      "#\n",
      "logit(x::Real) = log(x / (one(x) - x))\n",
      "\n",
      "# log1psq: log(1+x^2)\n",
      "#\n",
      "log1psq(x::Real) = log1p(abs2(x))\n",
      "log1psq(x::Union{Float32,Float64}) = (ax = abs(x); ax < maxintfloat(x) ? log1p(abs2(ax)) : 2 * log(ax))\n",
      "\n",
      "# log1pexp: log(1+exp(x))\n",
      "#\n",
      "log1pexp(x::Real) = x < 18.0 ? log1p(exp(x)) : x < 33.3 ? x + exp(-x) : oftype(exp(-x), x)\n",
      "log1pexp(x::Float32) = x < 9.0f0 ? log1p(exp(x)) : x < 16.0f0 ? x + exp(-x) : oftype(exp(-x), x)\n",
      "\n",
      "# log1mexp: log(1 - exp(x))\n",
      "#\n",
      "# See:\n",
      "#   Martin Maechler (2012) \"Accurately Computing log(1 − exp(− |a|))\"\n",
      "#   http://cran.r-project.org/web/packages/Rmpfr/vignettes/log1mexp-note.pdf\n",
      "#\n",
      "# Note: different than Maechler (2012), no negation inside parantheses\n",
      "log1mexp(x::Real) = x < loghalf ? log1p(-exp(x)) : log(-expm1(x))\n",
      "\n",
      "# log2mexp: log(2 - exp(x))\n",
      "#\n",
      "log2mexp(x::Real) = log1p(-expm1(x))\n",
      "\n",
      "# logexpm1: log(exp(x) - 1)\n",
      "#\n",
      "logexpm1(x::Real) = x <= 18.0 ? log(expm1(x)) : x <= 33.3 ? x - exp(-x) : oftype(exp(-x), x)\n",
      "logexpm1(x::Float32) = x <= 9f0 ? log(expm1(x)) : x <= 16f0 ? x - exp(-x) : oftype(exp(-x), x)\n",
      "\n",
      "Compat.@dep_vectorize_1arg Real xlogx\n",
      "Compat.@dep_vectorize_2arg Real xlogy\n",
      "Compat.@dep_vectorize_1arg Real logistic\n",
      "Compat.@dep_vectorize_1arg Real logit\n",
      "Compat.@dep_vectorize_1arg Real log1psq\n",
      "Compat.@dep_vectorize_1arg Real log1pexp\n",
      "Compat.@dep_vectorize_1arg Real log1mexp\n",
      "Compat.@dep_vectorize_1arg Real log2mexp\n",
      "Compat.@dep_vectorize_1arg Real logexpm1\n",
      "\n",
      "const softplus = log1pexp\n",
      "const invsoftplus = logexpm1\n",
      "\n",
      "# log1pmx: log(1 + x) - x\n",
      "#\n",
      "# use naive calculation or range reduction outside kernel range.\n",
      "# accurate ~2ulps for all x\n",
      "function log1pmx(x::Float64)\n",
      "    if !(-0.7 < x < 0.9)\n",
      "        return log1p(x) - x\n",
      "    elseif x > 0.315\n",
      "        u = (x-0.5)/1.5\n",
      "        return _log1pmx_ker(u) - 9.45348918918356180e-2 - 0.5*u\n",
      "    elseif x > -0.227\n",
      "        return _log1pmx_ker(x)\n",
      "    elseif x > -0.4\n",
      "        u = (x+0.25)/0.75\n",
      "        return _log1pmx_ker(u) - 3.76820724517809274e-2 + 0.25*u\n",
      "    elseif x > -0.6\n",
      "        u = (x+0.5)*2.0\n",
      "        return _log1pmx_ker(u) - 1.93147180559945309e-1 + 0.5*u\n",
      "    else\n",
      "        u = (x+0.625)/0.375\n",
      "        return _log1pmx_ker(u) - 3.55829253011726237e-1 + 0.625*u\n",
      "    end\n",
      "end\n",
      "\n",
      "# logmxp1: log(x) - x + 1\n",
      "#\n",
      "function logmxp1(x::Float64)\n",
      "    if x <= 0.3\n",
      "        return (log(x) + 1.0) - x\n",
      "    elseif x <= 0.4\n",
      "        u = (x-0.375)/0.375\n",
      "        return _log1pmx_ker(u) - 3.55829253011726237e-1 + 0.625*u\n",
      "    elseif x <= 0.6\n",
      "        u = 2.0*(x-0.5)\n",
      "        return _log1pmx_ker(u) - 1.93147180559945309e-1 + 0.5*u\n",
      "    else\n",
      "        return log1pmx(x - 1.0)\n",
      "    end\n",
      "end\n",
      "\n",
      "# The kernel of log1pmx\n",
      "# Accuracy within ~2ulps for -0.227 < x < 0.315\n",
      "function _log1pmx_ker(x::Float64)\n",
      "    r = x/(x+2.0)\n",
      "    t = r*r\n",
      "    w = @horner(t,\n",
      "                6.66666666666666667e-1, # 2/3\n",
      "                4.00000000000000000e-1, # 2/5\n",
      "                2.85714285714285714e-1, # 2/7\n",
      "                2.22222222222222222e-1, # 2/9\n",
      "                1.81818181818181818e-1, # 2/11\n",
      "                1.53846153846153846e-1, # 2/13\n",
      "                1.33333333333333333e-1, # 2/15\n",
      "                1.17647058823529412e-1) # 2/17\n",
      "    hxsq = 0.5*x*x\n",
      "    r*(hxsq+w*t)-hxsq\n",
      "end\n",
      "\n",
      "\n",
      "## logsumexp\n",
      "\n",
      "function logsumexp{T<:Real}(x::T, y::T)\n",
      "    x == y && abs(x) == Inf && return x\n",
      "    x > y ? x + log1p(exp(y - x)) : y + log1p(exp(x - y))\n",
      "end\n",
      "\n",
      "logsumexp(x::Real, y::Real) = logsumexp(promote(x, y)...)\n",
      "\n",
      "function logsumexp{T<:Real}(x::AbstractArray{T})\n",
      "    S = typeof(exp(zero(T)))    # because of 0.4.0\n",
      "    isempty(x) && return -S(Inf)\n",
      "    u = maximum(x)\n",
      "    abs(u) == Inf && return any(isnan, x) ? S(NaN) : u\n",
      "    s = zero(S)\n",
      "    for i = 1:length(x)\n",
      "        @inbounds s += exp(x[i] - u)\n",
      "    end\n",
      "    log(s) + u\n",
      "end\n",
      "\n",
      "## softmax\n",
      "\n",
      "function softmax!{R<:AbstractFloat,T<:Real}(r::AbstractArray{R}, x::AbstractArray{T})\n",
      "    n = length(x)\n",
      "    length(r) == n || throw(DimensionMismatch(\"Inconsistent array lengths.\"))\n",
      "    u = maximum(x)\n",
      "    s = 0.\n",
      "    @inbounds for i = 1:n\n",
      "        s += (r[i] = exp(x[i] - u))\n",
      "    end\n",
      "    invs = convert(R, inv(s))\n",
      "    @inbounds for i = 1:n\n",
      "        r[i] *= invs\n",
      "    end\n",
      "    r\n",
      "end\n",
      "\n",
      "softmax!{T<:AbstractFloat}(x::AbstractArray{T}) = softmax!(x, x)\n",
      "softmax{T<:Real}(x::AbstractArray{T}) = softmax!(Array{Float64}(size(x)), x)\n"
     ]
    }
   ],
   "source": [
    "@less logsumexp([1., 2.]) "
   ]
  },
  {
   "cell_type": "code",
   "execution_count": 78,
   "metadata": {
    "scrolled": true
   },
   "outputs": [
    {
     "data": {
      "text/html": [
       "<table class=\"data-frame\"><thead><tr><th></th><th>ID</th><th>x_t</th><th>d_t</th></tr></thead><tbody><tr><th>1</th><td>1</td><td>0.0</td><td>0</td></tr><tr><th>2</th><td>2</td><td>0.09675</td><td>0</td></tr><tr><th>3</th><td>3</td><td>1.1574</td><td>0</td></tr><tr><th>4</th><td>4</td><td>3.1956</td><td>0</td></tr><tr><th>5</th><td>5</td><td>4.9654</td><td>1</td></tr><tr><th>6</th><td>6</td><td>0.72995</td><td>0</td></tr></tbody></table>"
      ],
      "text/plain": [
       "6×3 DataFrames.DataFrame\n",
       "│ Row │ ID │ x_t     │ d_t │\n",
       "├─────┼────┼─────────┼─────┤\n",
       "│ 1   │ 1  │ 0.0     │ 0   │\n",
       "│ 2   │ 2  │ 0.09675 │ 0   │\n",
       "│ 3   │ 3  │ 1.1574  │ 0   │\n",
       "│ 4   │ 4  │ 3.1956  │ 0   │\n",
       "│ 5   │ 5  │ 4.9654  │ 1   │\n",
       "│ 6   │ 6  │ 0.72995 │ 0   │"
      ]
     },
     "execution_count": 78,
     "metadata": {},
     "output_type": "execute_result"
    }
   ],
   "source": [
    "using DataFrames\n",
    "using BasisMatrices\n",
    "\n",
    "data = readtable(\"rustdata1.csv\", header=true, separator=',')\n",
    "head(data)"
   ]
  },
  {
   "cell_type": "markdown",
   "metadata": {},
   "source": [
    "The Rust (1987) problem is:\n",
    "$$\\log\\mathcal{L} = \\sum_t^{T}\\log\\mathbb{P}\\left.\\Big[i_t \\,\\middle|\\, x_t\\Big]\\right.$$\n",
    "where $\\theta = [\\theta_c, RC]$ and $\\theta_p$ is estimated outside of the ML estimation.\n"
   ]
  },
  {
   "cell_type": "markdown",
   "metadata": {},
   "source": [
    "The expected continuation value given today's mileage and replacement decision, $EV\\Big(x_t, i_t\\Big)$, can be found solving for a fixed point, see (4.14) from Rust (1987):\n",
    "\n",
    "$$EV\\Big(x_t, i_t\\Big) = \\int \\log\\Big(\\sum_{i'=0,1}\\exp\\Big(u(x',i') + \\beta \\cdot EV\\Big(x', i'\\Big)\\Big)\\Big) p(x'|\\theta_p, x_t, i_t)$$"
   ]
  },
  {
   "cell_type": "markdown",
   "metadata": {},
   "source": [
    "With $EV\\Big(x_t, i_t\\Big)$, I can find:\n",
    "$$\\tilde{V}\\Big(x_t, i_t\\Big)=\\left\\{\\begin{matrix}\n",
    "-c(0) -RC + \\beta EV\\Big(x_t, 1\\Big) & \\text{if } i_t = 1 \\\\ \n",
    "-c(x_t) + \\beta EV\\Big(x_t, 0\\Big) & \\text{if } i_t = 0\n",
    "\\end{matrix}\\right.$$\n",
    "And using (4.13) from Rust (1987):\n",
    "$$\\mathbb{P}\\left.\\Big[i_t \\,\\middle|\\, x_t\\Big]\\right. = \\frac{\\exp\\Big(\\tilde{V}\\Big(x_t, i_t\\Big)\\Big)}{\\exp\\Big(\\tilde{V}\\Big(x_t, 0\\Big)\\Big)+\\exp\\Big(\\tilde{V}\\Big(x_t, 1\\Big)\\Big)}$$\n",
    "This probability takes $\\theta_c$, $RC$, $\\beta$ and $\\theta_p$ as given."
   ]
  },
  {
   "cell_type": "markdown",
   "metadata": {},
   "source": [
    "The derivatives are:\n",
    "$$\\frac{\\partial \\log\\mathbb{P}}{\\partial \\theta} = \\frac{1}{\\mathbb{P}}\\frac{\\partial \\mathbb{P}}{\\partial \\theta}$$\n",
    "$$\\frac{\\partial \\mathbb{P}}{\\partial \\theta}\\Big[x_t, i_t\\Big] = \\frac{\\exp\\Big(\\tilde{V}\\Big(x_t, 0\\Big)+\\tilde{V}\\Big(x_t, 1\\Big)\\Big)}{\\Big(\\exp\\Big(\\tilde{V}\\Big(x_t, 0\\Big)\\Big)+\\exp\\Big(\\tilde{V}\\Big(x_t, 1\\Big)\\Big)\\Big)^2}\\Big(\\frac{\\partial \\tilde{V}}{\\partial \\theta}\\Big(x_t, i_t\\Big)\\Big)-\\frac{\\partial \\tilde{V}}{\\partial \\theta}\\Big(x_t, 1-i_t\\Big)\\Big)\\Big)$$\n",
    "\n",
    "We could use the implicit function theorem to get the derivative of $EV$, but this will lead to a 200-row linear system of equations with one $dEV$ on the left-hand-side and ten $dEV$s on the right each. That I could solve to get $\\frac{\\partial EV}{\\partial \\theta_c}$.\n",
    "\n",
    "I am not going to do this. I solve the MPEC first and get a good guess for the NFXP and use Nelder-Mead (needs no derivative)."
   ]
  },
  {
   "cell_type": "markdown",
   "metadata": {},
   "source": [
    "## Part 2\n",
    "### 1.\n",
    "I collect all the not ML estimated values into a type. I take the first difference of mileage data and throw out all negative entries to find $\\theta_p$:"
   ]
  },
  {
   "cell_type": "code",
   "execution_count": 79,
   "metadata": {},
   "outputs": [
    {
     "data": {
      "text/plain": [
       "RustModel"
      ]
     },
     "execution_count": 79,
     "metadata": {},
     "output_type": "execute_result"
    }
   ],
   "source": [
    "@with_kw mutable struct RustModel\n",
    "    # deep model parameters\n",
    "    θp::Vector{Float64}\n",
    "    β::Float64\n",
    "    \n",
    "    # book-keeping\n",
    "    breaks::Vector{Float64}\n",
    "    grid_size::Int64\n",
    "    grid::Vector{Float64}\n",
    "    y::Vector{Float64}                 #possible increments in mileage\n",
    "    basis::BasisMatrices.Basis{1,Tuple{BasisMatrices.LinParams{Array{Float64,1}}}}\n",
    "    EV0::Vector{Float64}\n",
    "    EV1::Vector{Float64}\n",
    "\n",
    "    x::Vector{Float64}\n",
    "    i::Vector{Int64}\n",
    "end\n",
    "\n",
    "function RustModel(data::DataFrame)\n",
    "    \n",
    "    breaks = [0, 0.5, 1, 1.5, 2, 3]\n",
    "    changes = diff(data[:x_t])[diff(data[:x_t]) .> 0]\n",
    "    θp = [sum(breaks[i] .<= changes .< breaks[i+1]) for i in 1:length(breaks)-1]/length(changes)\n",
    "    \n",
    "    grid_size = 100\n",
    "    grid = collect(linspace(0, 15, grid_size))     #the grid is big enough for all the observations!\n",
    "    y = (breaks[2:end] .+ breaks[1:end-1])/2       #I take the midpoints of the intervals, \n",
    "                                                   #i.e. I assume uniform distribution within an interval\n",
    "    basis = Basis(LinParams(grid, 0))\n",
    "    \n",
    "    return RustModel(θp, 0.975, breaks, grid_size, grid, y, basis, zeros(grid_size), zeros(grid_size), convert(Array{Float64}, data[:x_t]), convert(Array{Int64}, data[:d_t]))\n",
    "end"
   ]
  },
  {
   "cell_type": "code",
   "execution_count": 80,
   "metadata": {},
   "outputs": [
    {
     "data": {
      "text/plain": [
       "RustModel\n",
       "  θp: Array{Float64}((5,)) [0.256868, 0.245879, 0.229396, 0.195055, 0.0728022]\n",
       "  β: Float64 0.975\n",
       "  breaks: Array{Float64}((6,)) [0.0, 0.5, 1.0, 1.5, 2.0, 3.0]\n",
       "  grid_size: Int64 100\n",
       "  grid: Array{Float64}((100,)) [0.0, 0.151515, 0.30303, 0.454545, 0.606061, 0.757576, 0.909091, 1.06061, 1.21212, 1.36364  …  13.6364, 13.7879, 13.9394, 14.0909, 14.2424, 14.3939, 14.5455, 14.697, 14.8485, 15.0]\n",
       "  y: Array{Float64}((5,)) [0.25, 0.75, 1.25, 1.75, 2.5]\n",
       "  basis: BasisMatrices.Basis{1,Tuple{BasisMatrices.LinParams{Array{Float64,1}}}}\n",
       "  EV0: Array{Float64}((100,)) [0.0, 0.0, 0.0, 0.0, 0.0, 0.0, 0.0, 0.0, 0.0, 0.0  …  0.0, 0.0, 0.0, 0.0, 0.0, 0.0, 0.0, 0.0, 0.0, 0.0]\n",
       "  EV1: Array{Float64}((100,)) [0.0, 0.0, 0.0, 0.0, 0.0, 0.0, 0.0, 0.0, 0.0, 0.0  …  0.0, 0.0, 0.0, 0.0, 0.0, 0.0, 0.0, 0.0, 0.0, 0.0]\n",
       "  x: Array{Float64}((1000,)) [0.0, 0.09675, 1.1574, 3.1956, 4.9654, 0.72995, 1.0019, 2.7135, 3.0876, 4.915  …  1.2539, 0.68476, 0.81895, 2.4645, 3.3241, 3.3862, 0.93309, 1.7654, 0.99437, 0.78175]\n",
       "  i: Array{Int64}((1000,)) [0, 0, 0, 0, 1, 0, 0, 0, 0, 1  …  1, 0, 0, 0, 0, 1, 0, 1, 1, 0]\n"
      ]
     },
     "execution_count": 80,
     "metadata": {},
     "output_type": "execute_result"
    }
   ],
   "source": [
    "model = RustModel(data)"
   ]
  },
  {
   "cell_type": "markdown",
   "metadata": {},
   "source": [
    "## NFXP"
   ]
  },
  {
   "cell_type": "markdown",
   "metadata": {},
   "source": [
    "### 2.\n"
   ]
  },
  {
   "cell_type": "code",
   "execution_count": 81,
   "metadata": {},
   "outputs": [
    {
     "data": {
      "text/plain": [
       "c (generic function with 1 method)"
      ]
     },
     "execution_count": 81,
     "metadata": {},
     "output_type": "execute_result"
    }
   ],
   "source": [
    "function c(x, θc)\n",
    "    θc[1] .* x + θc[2] .* x.^2\n",
    "end"
   ]
  },
  {
   "cell_type": "code",
   "execution_count": 82,
   "metadata": {},
   "outputs": [],
   "source": [
    "#todo newton\n",
    "function solve_fp!(θc, RC, model::RustModel)\n",
    "    @unpack θp, β, breaks, grid_size, grid, y, basis, EV0, EV1, x, i = model\n",
    "    \n",
    "    Ψ = BasisMatrix(basis, Expanded(), (grid .+ y')[:]).vals[1]\n",
    "    Φ = BasisMatrix(basis, Expanded(), (zeros(grid_size,length(y)) .+ y')[:]).vals[1]\n",
    "\n",
    "    oldEV0 = similar(EV0)\n",
    "    oldEV1 = similar(EV1)\n",
    "    error = 1.\n",
    "\n",
    "    while error > 1e-12\n",
    "\n",
    "        oldEV0 = copy(EV0)\n",
    "        oldEV1 = copy(EV1)\n",
    "\n",
    "        # no replace\n",
    "        EV0 = logsumexp.(-c(grid .+ y', θc) .+ β .* reshape(Ψ * oldEV0, grid_size, length(y)), \n",
    "            zeros(grid_size,length(y)) - RC .+ β .* reshape(Ψ * oldEV1, grid_size, length(y))\n",
    "            ) * θp\n",
    "\n",
    "        # replace\n",
    "        EV1 = logsumexp.(-c(zeros(grid_size,length(y)) .+ y', θc) .+ β .* reshape(Φ * oldEV0, grid_size, length(y)), \n",
    "            zeros(grid_size,length(y)) - RC .+ β .* reshape(Φ * oldEV1, grid_size, length(y))\n",
    "            ) * θp\n",
    "\n",
    "        error = maximum(abs.(vcat(EV0, EV1) .- vcat(oldEV0, oldEV1)))\n",
    "    end\n",
    "    \n",
    "    model.EV0 = EV0\n",
    "    model.EV1 = EV1\n",
    "    \n",
    "    return nothing\n",
    "end\n",
    "\n",
    "solve_fp!([1., 1/2], 100., RustModel(data));"
   ]
  },
  {
   "cell_type": "code",
   "execution_count": 83,
   "metadata": {
    "scrolled": true
   },
   "outputs": [
    {
     "name": "stdout",
     "output_type": "stream",
     "text": [
      "  0.109371 seconds (46.45 k allocations: 107.239 MiB, 22.36% gc time)\n"
     ]
    }
   ],
   "source": [
    "@time solve_fp!([1., 1/2], 10., model);"
   ]
  },
  {
   "cell_type": "markdown",
   "metadata": {},
   "source": [
    "### 3.\n",
    "I compute the CCP as in (4.13) from Rust (1987):"
   ]
  },
  {
   "cell_type": "code",
   "execution_count": 84,
   "metadata": {},
   "outputs": [
    {
     "data": {
      "text/plain": [
       "V (generic function with 1 method)"
      ]
     },
     "execution_count": 84,
     "metadata": {},
     "output_type": "execute_result"
    }
   ],
   "source": [
    "function V(x::Vector{Float64}, i::Vector{Int64}, θc, RC, model::RustModel)\n",
    "    ifelse.(i .== 1, \n",
    "        0 - RC + model.β * BasisMatrix(model.basis, Expanded(), x).vals[1] * model.EV1,\n",
    "        -c(x, θc) + model.β * BasisMatrix(model.basis, Expanded(), x).vals[1] * model.EV0)\n",
    "end"
   ]
  },
  {
   "cell_type": "code",
   "execution_count": 85,
   "metadata": {},
   "outputs": [
    {
     "data": {
      "text/plain": [
       "P (generic function with 1 method)"
      ]
     },
     "execution_count": 85,
     "metadata": {},
     "output_type": "execute_result"
    }
   ],
   "source": [
    "function P(θc, RC, model::RustModel)\n",
    "    exp.(V(model.x, model.i, θc, RC, model)) ./\n",
    "        (exp.(V(model.x, zeros(Int64, length(model.x)), θc, RC, model)) .+ \n",
    "        exp.(V(model.x, ones(Int64, length(model.x)), θc, RC, model)))\n",
    "end"
   ]
  },
  {
   "cell_type": "code",
   "execution_count": 86,
   "metadata": {},
   "outputs": [
    {
     "data": {
      "text/plain": [
       "L (generic function with 1 method)"
      ]
     },
     "execution_count": 86,
     "metadata": {},
     "output_type": "execute_result"
    }
   ],
   "source": [
    "function L(θ, model::RustModel)\n",
    "    \n",
    "    θc = θ[1:2]\n",
    "    RC = θ[3]\n",
    "    \n",
    "    solve_fp!(θc, RC, model)\n",
    "    \n",
    "    sum(log.(P(θc, RC, model)))\n",
    "end"
   ]
  },
  {
   "cell_type": "markdown",
   "metadata": {},
   "source": [
    "Let me start with a good guess (that actually came from the MPEC, because it worked better):"
   ]
  },
  {
   "cell_type": "code",
   "execution_count": 87,
   "metadata": {
    "scrolled": false
   },
   "outputs": [
    {
     "name": "stdout",
     "output_type": "stream",
     "text": [
      " 12.796324 seconds (4.90 M allocations: 11.144 GiB, 20.76% gc time)\n"
     ]
    },
    {
     "data": {
      "text/plain": [
       "Results of Optimization Algorithm\n",
       " * Algorithm: Nelder-Mead\n",
       " * Starting Point: [0.05,0.001,1.0]\n",
       " * Minimizer: [0.05455101880466138,0.0013391222716874073, ...]\n",
       " * Minimum: 6.237264e+02\n",
       " * Iterations: 72\n",
       " * Convergence: true\n",
       "   *  √(Σ(yᵢ-ȳ)²)/n < 1.0e-08: true\n",
       "   * Reached Maximum Number of Iterations: false\n",
       " * Objective Calls: 144"
      ]
     },
     "execution_count": 87,
     "metadata": {},
     "output_type": "execute_result"
    }
   ],
   "source": [
    "objective(θ) = -L(θ, model)\n",
    "objective([0.05, 0.001, 1.])\n",
    "@time result = optimize(objective, [0.05, 0.001, 1.], NelderMead())"
   ]
  },
  {
   "cell_type": "code",
   "execution_count": 88,
   "metadata": {},
   "outputs": [
    {
     "data": {
      "text/plain": [
       "3-element Array{Float64,1}:\n",
       " 0.054551  \n",
       " 0.00133912\n",
       " 1.15173   "
      ]
     },
     "execution_count": 88,
     "metadata": {},
     "output_type": "execute_result"
    }
   ],
   "source": [
    "NFXPθ = result.minimizer"
   ]
  },
  {
   "cell_type": "code",
   "execution_count": 89,
   "metadata": {},
   "outputs": [
    {
     "data": {
      "text/plain": [
       "100×2 Array{Float64,2}:\n",
       " 5.81879  5.81879\n",
       " 5.80089  5.81879\n",
       " 5.7832   5.81879\n",
       " 5.76574  5.81879\n",
       " 5.7485   5.81879\n",
       " 5.73147  5.81879\n",
       " 5.71466  5.81879\n",
       " 5.69806  5.81879\n",
       " 5.68167  5.81879\n",
       " 5.66548  5.81879\n",
       " 5.6495   5.81879\n",
       " 5.63372  5.81879\n",
       " 5.61814  5.81879\n",
       " ⋮               \n",
       " 4.87194  5.81879\n",
       " 4.8663   5.81879\n",
       " 4.86073  5.81879\n",
       " 4.85523  5.81879\n",
       " 4.8498   5.81879\n",
       " 4.84444  5.81879\n",
       " 4.83914  5.81879\n",
       " 4.8339   5.81879\n",
       " 4.82873  5.81879\n",
       " 4.82361  5.81879\n",
       " 4.81856  5.81879\n",
       " 4.81356  5.81879"
      ]
     },
     "execution_count": 89,
     "metadata": {},
     "output_type": "execute_result"
    }
   ],
   "source": [
    "solve_fp!(NFXPθ[1:2], NFXPθ[3], model)\n",
    "NFXPEV = hcat(model.EV0, model.EV1)"
   ]
  },
  {
   "cell_type": "markdown",
   "metadata": {},
   "source": [
    "## MPEC\n",
    "The MPEC formulation of the problem is done in JuMP, I use IpOpt as solver:"
   ]
  },
  {
   "cell_type": "code",
   "execution_count": 90,
   "metadata": {},
   "outputs": [],
   "source": [
    "using JuMP\n",
    "using Ipopt"
   ]
  },
  {
   "cell_type": "code",
   "execution_count": 91,
   "metadata": {},
   "outputs": [],
   "source": [
    "@unpack θp, β, breaks, grid_size, grid, y, basis, EV0, EV1, x, i = model\n",
    "\n",
    "m = Model(solver=IpoptSolver(print_level=5));"
   ]
  },
  {
   "cell_type": "markdown",
   "metadata": {},
   "source": [
    "I have three kinds of variables:"
   ]
  },
  {
   "cell_type": "code",
   "execution_count": 92,
   "metadata": {},
   "outputs": [
    {
     "data": {
      "text/latex": [
       "$$ θc_{i} \\geq 0 \\quad\\forall i \\in \\{1,2\\} $$"
      ],
      "text/plain": [
       "2-element Array{JuMP.Variable,1}:\n",
       " θc[1]\n",
       " θc[2]"
      ]
     },
     "execution_count": 92,
     "metadata": {},
     "output_type": "execute_result"
    }
   ],
   "source": [
    "@variable(m, θc[1:2] >= 0, start = 1)"
   ]
  },
  {
   "cell_type": "code",
   "execution_count": 93,
   "metadata": {},
   "outputs": [
    {
     "data": {
      "text/latex": [
       "$$ RC $$"
      ],
      "text/plain": [
       "RC"
      ]
     },
     "execution_count": 93,
     "metadata": {},
     "output_type": "execute_result"
    }
   ],
   "source": [
    "@variable(m, RC >= 0, start = 10)"
   ]
  },
  {
   "cell_type": "code",
   "execution_count": 94,
   "metadata": {},
   "outputs": [
    {
     "data": {
      "text/latex": [
       "$$ EV_{i,j} \\quad\\forall i \\in \\{1,2,\\dots,99,100\\}, j \\in \\{0,1\\} $$"
      ],
      "text/plain": [
       "EV[i,j] ∀ i ∈ {1,2,…,99,100}, j ∈ {0,1}"
      ]
     },
     "execution_count": 94,
     "metadata": {},
     "output_type": "execute_result"
    }
   ],
   "source": [
    "@variable(m, EV[1:grid_size, 0:1])"
   ]
  },
  {
   "cell_type": "markdown",
   "metadata": {},
   "source": [
    "I code up the probability of every observation $j$ by linearly interpolating between the closest elements of $EV$. The grid for the $x$-axis has been chosen, such that all observations lie in the interior."
   ]
  },
  {
   "cell_type": "code",
   "execution_count": 95,
   "metadata": {},
   "outputs": [],
   "source": [
    "right = zeros(Int64, length(x))\n",
    "left = zeros(Int64, length(x))\n",
    "rightweight = zeros(length(x))\n",
    "\n",
    "for k in 2:length(x)\n",
    "    right[k] = findfirst(x[k] - grid .<= 0)\n",
    "    left[k] = right[k] - 1\n",
    "    rightweight[k] = (x[k] - grid[left[k]])/(grid[right[k]] - grid[left[k]])\n",
    "end\n",
    "\n",
    "ProbExpr = @NLexpression(m, Prob[k=2:length(x)], exp(ifelse(i[k] == 0, -θc[1]*x[k] -θc[2]*x[k]^2, 0 - RC) + \n",
    "        β * ((1-rightweight[k]) * EV[left[k], i[k]] + rightweight[k] * EV[right[k], i[k]])) / (\n",
    "        exp(-θc[1]*x[k] -θc[2]*x[k]^2 + β * ((1-rightweight[k]) * EV[left[k], 0] + rightweight[k] * EV[right[k], 0])) + \n",
    "        exp(0 - RC + β * ((1-rightweight[k]) * EV[left[k], 1] + rightweight[k] * EV[right[k], 1]))\n",
    "        ));"
   ]
  },
  {
   "cell_type": "markdown",
   "metadata": {},
   "source": [
    "Now I figure out the integrand of the $EV$-fixed-point equation. In my notation: $x' = x + y$, where $y$ is one of the possible increments:"
   ]
  },
  {
   "cell_type": "code",
   "execution_count": 96,
   "metadata": {},
   "outputs": [],
   "source": [
    "xprime = zeros(grid_size, length(y), 2)\n",
    "right = zeros(Int64, grid_size, length(y), 2)\n",
    "left = zeros(Int64, grid_size, length(y), 2)\n",
    "rightweight = zeros(grid_size, length(y), 2)\n",
    "\n",
    "for j in 1:grid_size #x_t\n",
    "    for k in 1:length(y) #y\n",
    "        for i in 1:2 #i_t\n",
    "            if i == 1\n",
    "                xprime[j, k, i] = grid[j] + y[k] #no replace\n",
    "                else \n",
    "                xprime[j, k, i] = y[k] #replace\n",
    "            end\n",
    "            \n",
    "            right[j, k, i] = findfirst(xprime[j, k, i] - grid .<= 0)\n",
    "            \n",
    "            if right[j, k, i] == 0 # if \"findfirst\" finds nothing, i.e. we fall off the grid on the right!\n",
    "                right[j, k, i] = grid_size # set to the most right grid point\n",
    "                left[j, k, i] = grid_size - 1\n",
    "                rightweight[j, k, i] = 1\n",
    "            else \n",
    "                left[j, k, i] = right[j, k, i] - 1\n",
    "                rightweight[j, k, i] = (xprime[j, k, i] - grid[left[j, k, i]])/(grid[right[j, k, i]] - grid[left[j, k, i]])\n",
    "            end\n",
    "        end\n",
    "    end\n",
    "end"
   ]
  },
  {
   "cell_type": "markdown",
   "metadata": {},
   "source": [
    "I have to register my $logsumexp$-function in order to have it automatically differentiated:"
   ]
  },
  {
   "cell_type": "code",
   "execution_count": 97,
   "metadata": {},
   "outputs": [],
   "source": [
    "function mylogsumexp(x, y)\n",
    "    u = max(x, y)\n",
    "    log(exp(x - u) + exp(y - u)) + u\n",
    "end\n",
    "\n",
    "JuMP.register(m, :mylogsumexp, 2, mylogsumexp, autodiff=true)\n",
    "\n",
    "@NLexpression(m, integrand[j=1:grid_size, i=0:1, k=1:length(y)], mylogsumexp(\n",
    "                    -θc[1]*xprime[j, k, i+1] -θc[2]*xprime[j, k, i+1]^2 + β * ((1-rightweight[j, k, i+1]) * \n",
    "                        EV[left[j, k, i+1], 0] + rightweight[j, k, i+1] * EV[right[j, k, i+1], 0]), \n",
    "                    -RC + β * ((1-rightweight[j, k, i+1]) * \n",
    "                        EV[left[j, k, i+1], 1] + rightweight[j, k, i+1] * EV[right[j, k, i+1], 1])\n",
    "                        ));"
   ]
  },
  {
   "cell_type": "code",
   "execution_count": 98,
   "metadata": {},
   "outputs": [],
   "source": [
    "@NLconstraint(m, integralconstraint[j=1:grid_size, i=0:1], EV[j, i] == sum(integrand[j, i, k] * θp[k] for k in 1:length(y)))\n",
    "\n",
    "@NLobjective(m, Max, sum(log(Prob[k]) for k in 2:length(x)))"
   ]
  },
  {
   "cell_type": "markdown",
   "metadata": {},
   "source": [
    "It could make sense to set the initial value of $EV$ to be feasible. It is not necessary in this application, but is a bit faster:"
   ]
  },
  {
   "cell_type": "code",
   "execution_count": 99,
   "metadata": {
    "scrolled": false
   },
   "outputs": [],
   "source": [
    "solve_fp!(getvalue(θc), getvalue(RC), model)\n",
    "for j in 1:grid_size\n",
    "    setvalue(EV[j, 0], model.EV0[j])\n",
    "    setvalue(EV[j, 1], model.EV1[j])\n",
    "end"
   ]
  },
  {
   "cell_type": "code",
   "execution_count": 100,
   "metadata": {
    "scrolled": false
   },
   "outputs": [
    {
     "name": "stdout",
     "output_type": "stream",
     "text": [
      "This is Ipopt version 3.12.1, running with linear solver mumps.\n",
      "NOTE: Other linear solvers might be more efficient (see Ipopt documentation).\n",
      "\n",
      "Number of nonzeros in equality constraint Jacobian...:     4652\n",
      "Number of nonzeros in inequality constraint Jacobian.:        0\n",
      "Number of nonzeros in Lagrangian Hessian.............:        0\n",
      "\n",
      "Total number of variables............................:      203\n",
      "                     variables with only lower bounds:        3\n",
      "                variables with lower and upper bounds:        0\n",
      "                     variables with only upper bounds:        0\n",
      "Total number of equality constraints.................:      200\n",
      "Total number of inequality constraints...............:        0\n",
      "        inequality constraints with only lower bounds:        0\n",
      "   inequality constraints with lower and upper bounds:        0\n",
      "        inequality constraints with only upper bounds:        0\n",
      "\n",
      "iter    objective    inf_pr   inf_du lg(mu)  ||d||  lg(rg) alpha_du alpha_pr  ls\n",
      "   0  6.4031964e+03 9.66e-13 3.05e+01   0.0 0.00e+00    -  0.00e+00 0.00e+00   0\n",
      "   1  2.0289156e+03 2.03e-01 7.18e+01  -5.4 1.60e+01    -  5.83e-02 8.30e-02f  1\n",
      "   2  1.9962334e+03 1.94e-01 1.11e+02  -1.1 5.05e-01    -  9.95e-01 4.36e-02f  1\n",
      "   3  2.0780440e+03 1.23e-03 9.01e+00  -2.5 1.25e-01    -  1.00e+00 1.00e+00h  1\n",
      "   4  1.8494879e+03 5.23e-02 1.13e+01  -3.8 6.77e-01    -  1.00e+00 1.00e+00f  1\n",
      "   5  1.6356258e+03 2.12e-01 8.83e+00  -5.3 1.51e+00    -  1.00e+00 1.00e+00f  1\n",
      "   6  1.6894606e+03 9.74e-04 6.84e-01  -6.0 3.19e-01    -  1.00e+00 1.00e+00h  1\n",
      "   7  1.6885560e+03 8.60e-04 8.95e-01  -7.3 1.75e-01    -  1.00e+00 1.00e+00h  1\n",
      "   8  1.6871079e+03 1.52e-04 1.25e+00  -9.2 3.13e-01    -  1.00e+00 1.00e+00h  1\n",
      "   9  1.6446223e+03 1.29e-02 8.23e+00 -11.0 8.06e+00    -  1.00e+00 1.00e+00f  1\n",
      "iter    objective    inf_pr   inf_du lg(mu)  ||d||  lg(rg) alpha_du alpha_pr  ls\n",
      "  10  1.3410700e+03 1.56e-01 3.24e+01 -11.0 6.28e+01    -  1.00e+00 1.00e+00f  1\n",
      "  11  7.9102760e+02 9.27e-01 5.32e+01  -8.8 3.69e+02    -  1.00e+00 3.47e-01f  1\n",
      "  12  7.7560839e+02 9.11e-01 2.29e+01  -7.5 1.39e+02    -  5.73e-01 2.08e-02h  1\n",
      "  13  7.2680263e+02 7.84e-01 2.26e+01  -6.2 3.84e+01    -  1.39e-02 1.40e-01h  1\n",
      "  14  6.4904064e+02 4.25e-01 4.50e+00  -6.1 2.70e+01    -  1.42e-04 1.00e+00h  1\n",
      "  15  6.4864047e+02 4.34e-01 6.90e+00  -5.1 2.17e+03    -  3.26e-04 2.83e-04h  1\n",
      "  16  6.4687579e+02 4.30e-01 1.19e+01 -11.0 3.26e+02    -  3.97e-05 1.74e-02h  1\n",
      "  17  6.4556294e+02 4.30e-01 1.14e+01  -6.5 2.48e+03    -  3.66e-03 1.27e-04h  1\n",
      "  18  6.2360042e+02 2.90e-02 5.90e-01  -7.1 1.47e+00    -  2.10e-04 1.00e+00h  1\n",
      "  19  6.2345665e+02 1.07e-03 2.98e-01  -9.3 1.02e+00    -  1.00e+00 1.00e+00h  1\n",
      "iter    objective    inf_pr   inf_du lg(mu)  ||d||  lg(rg) alpha_du alpha_pr  ls\n",
      "  20  6.2345259e+02 2.93e-04 1.41e-01 -10.9 3.31e-01    -  1.00e+00 1.00e+00h  1\n",
      "  21  6.2345238e+02 4.97e-04 5.09e-02  -8.3 3.81e+00    -  1.00e+00 1.79e-03h  4\n",
      "  22  6.2345180e+02 2.18e-06 5.28e-04 -10.0 9.05e-02    -  1.00e+00 1.00e+00h  1\n",
      "  23  6.2345180e+02 2.18e-06 4.77e-03  -8.0 1.50e+00    -  1.00e+00 1.67e-03h 10\n",
      "  24  6.2345180e+02 4.15e-09 3.66e-11 -10.1 2.24e-03    -  1.00e+00 1.00e+00h  1\n",
      "\n",
      "Number of Iterations....: 24\n",
      "\n",
      "                                   (scaled)                 (unscaled)\n",
      "Objective...............:   1.0064973522622640e+01    6.2345179967421245e+02\n",
      "Dual infeasibility......:   3.6567927260097904e-11    2.2651167446611566e-09\n",
      "Constraint violation....:   4.1529872873979912e-09    4.1529872873979912e-09\n",
      "Complementarity.........:   9.2491802237730482e-11    5.7291934678829442e-09\n",
      "Overall NLP error.......:   4.1529872873979912e-09    5.7291934678829442e-09\n",
      "\n",
      "\n",
      "Number of objective function evaluations             = 41\n",
      "Number of objective gradient evaluations             = 25\n",
      "Number of equality constraint evaluations            = 41\n",
      "Number of inequality constraint evaluations          = 0\n",
      "Number of equality constraint Jacobian evaluations   = 25\n",
      "Number of inequality constraint Jacobian evaluations = 0\n",
      "Number of Lagrangian Hessian evaluations             = 0\n",
      "Total CPU secs in IPOPT (w/o function evaluations)   =      0.108\n",
      "Total CPU secs in NLP function evaluations           =      0.368\n",
      "\n",
      "EXIT: Optimal Solution Found.\n"
     ]
    },
    {
     "data": {
      "text/plain": [
       ":Optimal"
      ]
     },
     "execution_count": 100,
     "metadata": {},
     "output_type": "execute_result"
    }
   ],
   "source": [
    "solve(m)"
   ]
  },
  {
   "cell_type": "markdown",
   "metadata": {},
   "source": [
    "The solution is found!"
   ]
  },
  {
   "cell_type": "code",
   "execution_count": 101,
   "metadata": {},
   "outputs": [
    {
     "data": {
      "text/plain": [
       "3-element Array{Float64,1}:\n",
       " 0.0523134 \n",
       " 0.00153601\n",
       " 1.14394   "
      ]
     },
     "execution_count": 101,
     "metadata": {},
     "output_type": "execute_result"
    }
   ],
   "source": [
    "MPECθ = vcat(getvalue(θc), getvalue(RC))"
   ]
  },
  {
   "cell_type": "code",
   "execution_count": 102,
   "metadata": {
    "scrolled": false
   },
   "outputs": [],
   "source": [
    "MPECEV = hcat([getvalue(EV)[:, i] for i in 0:1]...);"
   ]
  },
  {
   "cell_type": "markdown",
   "metadata": {},
   "source": [
    "No matter where we are on the grid, replacing has the same value as starting with an engine with zero mileage.\n",
    "\n",
    "Let me get the functions back from the solver:"
   ]
  },
  {
   "cell_type": "code",
   "execution_count": 31,
   "metadata": {},
   "outputs": [],
   "source": [
    "d = JuMP.NLPEvaluator(m)\n",
    "MathProgBase.initialize(d, [:Grad, :Jac])"
   ]
  },
  {
   "cell_type": "code",
   "execution_count": 32,
   "metadata": {},
   "outputs": [],
   "source": [
    "optimizer = vcat(MPECθ, MPECEV'[:]);"
   ]
  },
  {
   "cell_type": "code",
   "execution_count": 33,
   "metadata": {},
   "outputs": [
    {
     "name": "stdout",
     "output_type": "stream",
     "text": [
      "  0.000037 seconds (11 allocations: 304 bytes)\n"
     ]
    },
    {
     "data": {
      "text/html": [
       "-623.4517996742125"
      ],
      "text/plain": [
       "-623.4517996742125"
      ]
     },
     "execution_count": 33,
     "metadata": {},
     "output_type": "execute_result"
    }
   ],
   "source": [
    "@time f = MathProgBase.eval_f(d, optimizer)"
   ]
  },
  {
   "cell_type": "code",
   "execution_count": 34,
   "metadata": {},
   "outputs": [
    {
     "name": "stdout",
     "output_type": "stream",
     "text": [
      "  0.000042 seconds (10 allocations: 288 bytes)\n"
     ]
    },
    {
     "data": {
      "text/html": [
       "-7.65707497407675e-11"
      ],
      "text/plain": [
       "-7.65707497407675e-11"
      ]
     },
     "execution_count": 34,
     "metadata": {},
     "output_type": "execute_result"
    }
   ],
   "source": [
    "g = zeros(200)\n",
    "@time MathProgBase.eval_g(d, g, optimizer)\n",
    "maximum(g)"
   ]
  },
  {
   "cell_type": "markdown",
   "metadata": {},
   "source": [
    "The constraints are fullfilled!"
   ]
  },
  {
   "cell_type": "markdown",
   "metadata": {},
   "source": [
    "## Comparison"
   ]
  },
  {
   "cell_type": "code",
   "execution_count": 120,
   "metadata": {},
   "outputs": [
    {
     "data": {
      "text/html": [
       "<table class=\"data-frame\"><thead><tr><th></th><th>Method</th><th>θc1</th><th>θc2</th><th>RC</th></tr></thead><tbody><tr><th>1</th><td>NFXP</td><td>0.0546</td><td>0.0013</td><td>1.1517</td></tr><tr><th>2</th><td>MPEC</td><td>0.0523</td><td>0.0015</td><td>1.1439</td></tr></tbody></table>"
      ],
      "text/plain": [
       "2×4 DataFrames.DataFrame\n",
       "│ Row │ Method │ θc1    │ θc2    │ RC     │\n",
       "├─────┼────────┼────────┼────────┼────────┤\n",
       "│ 1   │ \"NFXP\" │ 0.0546 │ 0.0013 │ 1.1517 │\n",
       "│ 2   │ \"MPEC\" │ 0.0523 │ 0.0015 │ 1.1439 │"
      ]
     },
     "execution_count": 120,
     "metadata": {},
     "output_type": "execute_result"
    }
   ],
   "source": [
    "table = DataFrame()\n",
    "table[:Method] = [\"NFXP\", \"MPEC\"]; table[:θc1] = round.([NFXPθ[1], MPECθ[1]], 4);\n",
    "table[:θc2] = round.([NFXPθ[2], MPECθ[2]], 4);\n",
    "table[:RC] = round.([NFXPθ[3], MPECθ[3]], 4);\n",
    "\n",
    "table"
   ]
  },
  {
   "cell_type": "code",
   "execution_count": 113,
   "metadata": {},
   "outputs": [
    {
     "data": {
      "text/html": [
       "<img src=\"data:image/png;base64,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\" />"
      ]
     },
     "execution_count": 113,
     "metadata": {},
     "output_type": "execute_result"
    }
   ],
   "source": [
    "plot(grid, NFXPEV, label=[\"NFXP EV0\" \"NFXP EV1\"], color=[\"red\" \"blue\"])\n",
    "plot!(grid, MPECEV, label=[\"MPEC EV0\" \"MPEC EV1\"], color=[\"darkred\" \"darkblue\"])"
   ]
  },
  {
   "cell_type": "markdown",
   "metadata": {},
   "source": [
    "Quite close, but maybe there is a small error in my program!"
   ]
  },
  {
   "cell_type": "code",
   "execution_count": null,
   "metadata": {},
   "outputs": [],
   "source": []
  }
 ],
 "metadata": {
  "kernelspec": {
   "display_name": "Julia 0.6.0",
   "language": "julia",
   "name": "julia-0.6"
  },
  "language_info": {
   "file_extension": ".jl",
   "mimetype": "application/julia",
   "name": "julia",
   "version": "0.6.0"
  }
 },
 "nbformat": 4,
 "nbformat_minor": 2
}
