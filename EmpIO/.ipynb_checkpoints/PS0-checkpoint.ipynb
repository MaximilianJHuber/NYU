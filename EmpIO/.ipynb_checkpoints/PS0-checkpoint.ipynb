{
 "cells": [
  {
   "cell_type": "markdown",
   "metadata": {},
   "source": [
    "# Empirical IO PS 0\n",
    "Maximilian Huber\n",
    "\n",
    "This code is stored at: https://github.com/MaximilianJHuber/NYU/blob/master/EmpIO/PS0.ipynb"
   ]
  },
  {
   "cell_type": "markdown",
   "metadata": {},
   "source": [
    "## Part 0: Logit Inclusive Value"
   ]
  },
  {
   "cell_type": "markdown",
   "metadata": {},
   "source": [
    "### 1 \n",
    "The derivative of $ -\\log\\Big(\\sum_{i=1}^N \\exp(x_i)\\Big) $ is $\\frac{\\partial f}{\\partial x_i} = -\\frac{exp(x_i)}{\\sum_{k=1}^N exp(x_k)}$, hence:\n",
    "    $$\\frac{\\partial^2 f}{\\partial x_i^2}=\\frac{exp(x_i) \\sum_{k\\neq i}exp(x_k)}{\\big(\\sum_{k=1}^N exp(x_k)\\big)^2} \\quad \\text{and} \\quad \\frac{\\partial^2 f}{\\partial x_j \\partial x_i}=\\frac{exp(x_i + x_j)}{\\big(\\sum_{k=1}^N exp(x_k)\\big)^2} \\forall j \\neq i$$\n",
    "I gather the partial derivatives into a matrix $H$ and factor the common terms, $h_i = \\frac{exp(x_i)}{\\sum_{j=1}^N exp(x_j)}$, then:\n",
    "    $$H = h \\, h' - \\begin{bmatrix}\n",
    "    h_1 & \\cdots & 0\\\\ \n",
    "    \\vdots & \\ddots & \\vdots\\\\ \n",
    "    0 & \\cdots  & h_N\n",
    "    \\end{bmatrix}$$\n",
    "   Let $y$ be any non-zero vector, then $y'Hy=y'hh'y - y' \\begin{bmatrix}\n",
    "    h_1 & \\cdots & 0\\\\ \n",
    "    \\vdots & \\ddots & \\vdots\\\\ \n",
    "    0 & \\cdots  & h_N\n",
    "    \\end{bmatrix}$$ y=\\big(y_1h_1+\\cdots+y_Nh_N\\big) - \\big(y_1^2h_1+\\cdots+y_N^2h_N\\big)$\n",
    "    \n",
    "    \n",
    "Interpreting $h_i$ as probability this is: $-\\Big(\\mathbb{E}\\big[Y^2\\big] - \\mathbb{E}\\big[Y\\big]^2\\Big)$, the negative of a positive-semidefinite variance matrix is negative-definite. Hence, the function itself is concave.\n",
    "\n",
    "### 2"
   ]
  },
  {
   "cell_type": "code",
   "execution_count": 1,
   "metadata": {},
   "outputs": [],
   "source": [
    "using Plots; pyplot();"
   ]
  },
  {
   "cell_type": "code",
   "execution_count": 2,
   "metadata": {},
   "outputs": [
    {
     "data": {
      "text/plain": [
       "IV (generic function with 1 method)"
      ]
     },
     "execution_count": 2,
     "metadata": {},
     "output_type": "execute_result"
    }
   ],
   "source": [
    "function IV(x)\n",
    "    - log(sum(exp.(x)))\n",
    "end"
   ]
  },
  {
   "cell_type": "code",
   "execution_count": 3,
   "metadata": {},
   "outputs": [
    {
     "data": {
      "text/plain": [
       "10-element Array{Float64,1}:\n",
       " -690.0  \n",
       " -693.333\n",
       " -696.667\n",
       " -700.0  \n",
       " -703.333\n",
       " -706.667\n",
       " -Inf    \n",
       " -Inf    \n",
       " -Inf    \n",
       " -Inf    "
      ]
     },
     "execution_count": 3,
     "metadata": {},
     "output_type": "execute_result"
    }
   ],
   "source": [
    "[IV(x) for x in linspace(690, 720, 10)]"
   ]
  },
  {
   "cell_type": "markdown",
   "metadata": {},
   "source": [
    "For any $m\\in\\mathbb{R}$, also $m = max(x)$, the following holds:\n",
    "$$ -\\log\\Big(\\sum_{i=1}^N \\exp(x_i)\\Big) = -\\log\\Big(\\sum_{i=1}^N \\exp(x_i - m + m)\\Big) = -\\log\\Big(\\sum_{i=1}^N \\exp(x_i - m) * \\exp(m)\\Big) = -\\log\\Big(\\sum_{i=1}^N \\exp(x_i - m) \\Big) - m$$ \n"
   ]
  },
  {
   "cell_type": "code",
   "execution_count": 4,
   "metadata": {},
   "outputs": [
    {
     "data": {
      "text/plain": [
       "IV2 (generic function with 1 method)"
      ]
     },
     "execution_count": 4,
     "metadata": {},
     "output_type": "execute_result"
    }
   ],
   "source": [
    "function IV2(x)\n",
    "    m = maximum(x)\n",
    "    - log(sum(exp.(x .- m))) - m\n",
    "end"
   ]
  },
  {
   "cell_type": "code",
   "execution_count": 5,
   "metadata": {},
   "outputs": [
    {
     "data": {
      "text/plain": [
       "-Inf"
      ]
     },
     "execution_count": 5,
     "metadata": {},
     "output_type": "execute_result"
    }
   ],
   "source": [
    "IV([1000, 2])"
   ]
  },
  {
   "cell_type": "code",
   "execution_count": 6,
   "metadata": {},
   "outputs": [
    {
     "data": {
      "text/plain": [
       "-1000.0"
      ]
     },
     "execution_count": 6,
     "metadata": {},
     "output_type": "execute_result"
    }
   ],
   "source": [
    "IV2([1000, 2])"
   ]
  },
  {
   "cell_type": "markdown",
   "metadata": {},
   "source": [
    "At least it is not infinity, but the loss of significance (https://en.wikipedia.org/wiki/Loss_of_significance) acts up."
   ]
  },
  {
   "cell_type": "markdown",
   "metadata": {},
   "source": [
    "## Part 1: Markov Chains\n",
    "\n",
    "The stationary distribution, $\\pi^*$ of an ergodic MC is uniquely given by:\n",
    "$$\\pi^* = \\pi^* P \\implies \\pi^* * (I - P) = 0$$\n",
    "I.e. the left eigenvector of $P'$ corresponding to the eigenvalue one."
   ]
  },
  {
   "cell_type": "code",
   "execution_count": 7,
   "metadata": {},
   "outputs": [
    {
     "data": {
      "text/plain": [
       "3×3 Array{Float64,2}:\n",
       " 0.2  0.4  0.4\n",
       " 0.1  0.3  0.6\n",
       " 0.5  0.1  0.4"
      ]
     },
     "execution_count": 7,
     "metadata": {},
     "output_type": "execute_result"
    }
   ],
   "source": [
    "P = [0.2 0.4 0.4; 0.1 0.3 0.6; 0.5 0.1 0.4]"
   ]
  },
  {
   "cell_type": "code",
   "execution_count": 8,
   "metadata": {
    "scrolled": true
   },
   "outputs": [
    {
     "data": {
      "text/plain": [
       "stationary (generic function with 1 method)"
      ]
     },
     "execution_count": 8,
     "metadata": {},
     "output_type": "execute_result"
    }
   ],
   "source": [
    "function stationary(P)\n",
    "    F = eig(P')    \n",
    "    pos = F[1] .≈ Complex(1) #array of true or false\n",
    "    \n",
    "    if sum(pos) > 1 throw(\"The eigenvalue one has a algebraic multiplicity of higher than one!\")\n",
    "        elseif sum(pos) < 1 throw(\"The eigenvalue one has a algebraic multiplicity of zero!\")\n",
    "    end\n",
    "            \n",
    "    πstar = convert(Array{Float64}, F[2][:, pos])\n",
    "    πstar = (πstar / sum(πstar))\n",
    "end"
   ]
  },
  {
   "cell_type": "code",
   "execution_count": 9,
   "metadata": {},
   "outputs": [
    {
     "data": {
      "text/plain": [
       "3×1 Array{Float64,2}:\n",
       " 0.310345\n",
       " 0.241379\n",
       " 0.448276"
      ]
     },
     "execution_count": 9,
     "metadata": {},
     "output_type": "execute_result"
    }
   ],
   "source": [
    "πstar = stationary(P)"
   ]
  },
  {
   "cell_type": "code",
   "execution_count": 10,
   "metadata": {},
   "outputs": [
    {
     "data": {
      "text/plain": [
       "1×3 Array{Float64,2}:\n",
       " 1.66533e-16  2.77556e-17  -1.66533e-16"
      ]
     },
     "execution_count": 10,
     "metadata": {},
     "output_type": "execute_result"
    }
   ],
   "source": [
    "πstar' * P - πstar'"
   ]
  },
  {
   "cell_type": "markdown",
   "metadata": {},
   "source": [
    "This is the stationary distribution.\n",
    "## Part 2: Numerical Integration\n",
    "I use the package \"FastGaussQuadrature\" for the Gauss-Hermite and \"HCubature\" for adaptive quadrature."
   ]
  },
  {
   "cell_type": "code",
   "execution_count": 11,
   "metadata": {
    "scrolled": true
   },
   "outputs": [],
   "source": [
    "using FastGaussQuadrature\n",
    "using Distributions\n",
    "using HCubature\n",
    "using BasisMatrices"
   ]
  },
  {
   "cell_type": "markdown",
   "metadata": {},
   "source": [
    "### 1"
   ]
  },
  {
   "cell_type": "code",
   "execution_count": 12,
   "metadata": {},
   "outputs": [
    {
     "data": {
      "text/plain": [
       "binomiallogit (generic function with 1 method)"
      ]
     },
     "execution_count": 12,
     "metadata": {},
     "output_type": "execute_result"
    }
   ],
   "source": [
    "function binomiallogit(β)\n",
    "    exp(β * 0.5) / (1 + exp(β * 0.5))\n",
    "end"
   ]
  },
  {
   "cell_type": "code",
   "execution_count": 13,
   "metadata": {},
   "outputs": [
    {
     "data": {
      "text/plain": [
       "binomiallogit_known (generic function with 1 method)"
      ]
     },
     "execution_count": 13,
     "metadata": {},
     "output_type": "execute_result"
    }
   ],
   "source": [
    "function binomiallogit_known(β)\n",
    "    exp.(β * 0.5) ./ (1 + exp.(β * 0.5)) .* pdf(Normal(0.5, 2), β)\n",
    "end"
   ]
  },
  {
   "cell_type": "markdown",
   "metadata": {},
   "source": [
    "### 2\n",
    "Matlab uses an adapative quadrature, I mimic this by using the \"HCubature\" package. The function \"binomiallogit_known\" is numerically zero outside $[-1000,\\,1000]$."
   ]
  },
  {
   "cell_type": "code",
   "execution_count": 14,
   "metadata": {},
   "outputs": [
    {
     "data": {
      "text/plain": [
       "1-element Array{Float64,1}:\n",
       " 0.551493"
      ]
     },
     "execution_count": 14,
     "metadata": {},
     "output_type": "execute_result"
    }
   ],
   "source": [
    "oneDtrue = hcubature(binomiallogit_known, [-1000.], [1000])[1]"
   ]
  },
  {
   "cell_type": "markdown",
   "metadata": {},
   "source": [
    "I also use a very precise Gauss-Hermite quadrature with the appropriate transformation. I follow https://en.wikipedia.org/wiki/Gauss%E2%80%93Hermite_quadrature#Example_with_change_of_variable for the non-standard normally distributed $\\beta$."
   ]
  },
  {
   "cell_type": "code",
   "execution_count": 15,
   "metadata": {},
   "outputs": [
    {
     "data": {
      "text/html": [
       "0.5559391628434668"
      ],
      "text/plain": [
       "0.5559391628434668"
      ]
     },
     "execution_count": 15,
     "metadata": {},
     "output_type": "execute_result"
    }
   ],
   "source": [
    "1/sqrt(π) * (gausshermite(100000)[2]' * binomiallogit.(sqrt(2) * sqrt(2) * gausshermite(100000)[1] + 0.5))"
   ]
  },
  {
   "cell_type": "markdown",
   "metadata": {},
   "source": [
    "### 3"
   ]
  },
  {
   "cell_type": "code",
   "execution_count": 16,
   "metadata": {
    "scrolled": true
   },
   "outputs": [
    {
     "data": {
      "text/plain": [
       "3-element Array{Float64,1}:\n",
       " 0.518433\n",
       " 0.550616\n",
       " 0.538423"
      ]
     },
     "execution_count": 16,
     "metadata": {},
     "output_type": "execute_result"
    }
   ],
   "source": [
    "oneDmonte = [mean(binomiallogit.(rand(Normal(0.5, 2), n))) for n in [20, 400, 1000]]"
   ]
  },
  {
   "cell_type": "markdown",
   "metadata": {},
   "source": [
    "### 4"
   ]
  },
  {
   "cell_type": "code",
   "execution_count": 17,
   "metadata": {},
   "outputs": [
    {
     "data": {
      "text/plain": [
       "5-element Array{Float64,1}:\n",
       " 0.555916\n",
       " 0.555944\n",
       " 0.555939\n",
       " 0.555939\n",
       " 0.555939"
      ]
     },
     "execution_count": 17,
     "metadata": {},
     "output_type": "execute_result"
    }
   ],
   "source": [
    "oneDgauss = [1/sqrt(π) * (gausshermite(n)[2]' * binomiallogit.(sqrt(2) * sqrt(2) * gausshermite(n)[1] + 0.5)) for n in [4, 5, 7, 8, 12]]"
   ]
  },
  {
   "cell_type": "markdown",
   "metadata": {},
   "source": [
    "### 5\n",
    "The results are similar, but the Gauss-Hermite quadrature works already with very few points.\n",
    "### 6"
   ]
  },
  {
   "cell_type": "code",
   "execution_count": 18,
   "metadata": {},
   "outputs": [
    {
     "data": {
      "text/plain": [
       "binomiallogit_multi_known (generic function with 1 method)"
      ]
     },
     "execution_count": 18,
     "metadata": {},
     "output_type": "execute_result"
    }
   ],
   "source": [
    "function binomiallogit_multi(β)\n",
    "    exp(β' * [0.5, 1]) / (1 + exp(β' * [0.5, 1]))\n",
    "end\n",
    "\n",
    "#the hcubature calls this function and hands over a row from a StaticArray (for increased performance),\n",
    "#while vector product understands this, the Distributions packages does not.\n",
    "function binomiallogit_multi_known(β)\n",
    "    exp(β' * [0.5, 1]) / (1 + exp(β' * [0.5, 1])) * pdf(MvNormal([0.5, 1], [2. 0; 0 1]), convert(Vector{Float64}, β))\n",
    "end"
   ]
  },
  {
   "cell_type": "markdown",
   "metadata": {},
   "source": [
    "The adaptive cubature gives:"
   ]
  },
  {
   "cell_type": "code",
   "execution_count": 19,
   "metadata": {},
   "outputs": [
    {
     "data": {
      "text/html": [
       "0.7258859806374939"
      ],
      "text/plain": [
       "0.7258859806374939"
      ]
     },
     "execution_count": 19,
     "metadata": {},
     "output_type": "execute_result"
    }
   ],
   "source": [
    "twoDtrue = hcubature(binomiallogit_multi_known, [-100., -100], [100., 100])[1]"
   ]
  },
  {
   "cell_type": "markdown",
   "metadata": {},
   "source": [
    "The Monte-Carlo-simulation yields:"
   ]
  },
  {
   "cell_type": "code",
   "execution_count": 20,
   "metadata": {},
   "outputs": [
    {
     "data": {
      "text/plain": [
       "3-element Array{Float64,1}:\n",
       " 0.739186\n",
       " 0.740382\n",
       " 0.719469"
      ]
     },
     "execution_count": 20,
     "metadata": {},
     "output_type": "execute_result"
    }
   ],
   "source": [
    "twoDmonte = [mean([binomiallogit_multi(rand(MvNormal([0.5, 1], [2. 0; 0 1]))) for i in 1:n]) for n in [20, 400, 1000]]"
   ]
  },
  {
   "cell_type": "markdown",
   "metadata": {},
   "source": [
    "The Gauss-Hermite-cubature can be split into two successive integrations:\n",
    "$$\\int \\frac{1}{\\sqrt{\\det{2\\pi\\Sigma}}} e^{-\\frac{1}{2}(y-\\mu)^T\\Sigma^{-1}(y-\\mu)} f(y) dy$$\n",
    "\n",
    "A change of variables with $x = \\frac{1}{\\sqrt{2}}L^{-1}(y-\\mu)$, where $\\Sigma = LL^T$ the Cholesky decomposition, yields:\n",
    "\n",
    "$$\\int \\frac{1}{\\sqrt{\\det{2\\pi\\Sigma}}} e^{-x' x} f\\left(\\sqrt{2}Lx + \\mu\\right)  \\det \\left(\\sqrt{2} L\\right) dx = \n",
    "\\int \\pi^{-\\frac{N}{2}} e^{-x' x} f\\left(\\sqrt{2}Lx + \\mu\\right) dx = \\frac{1}{\\pi} \\int e^{-x_2^2} \\int e^{-x_1^2} f\\left(\\sqrt{2}Lx + \\mu\\right) dx_1 dx_2=$$\n",
    "$$\\frac{1}{\\pi} \\sum_{j=1}^n w_{2,j} e^{x_{2,j}^2} \\sum_{i=1}^n w_{1,i} e^{x_{1,i}^2} f\\left(\\sqrt{2}L\\begin{bmatrix}\n",
    "x_{1,i}\\\\ \n",
    "x_{2,j}\n",
    "\\end{bmatrix} + \\mu\\right)$$"
   ]
  },
  {
   "cell_type": "code",
   "execution_count": 21,
   "metadata": {
    "scrolled": false
   },
   "outputs": [
    {
     "data": {
      "text/plain": [
       "5-element Array{Float64,1}:\n",
       " 0.722989\n",
       " 0.723047\n",
       " 0.723046\n",
       " 0.723046\n",
       " 0.723046"
      ]
     },
     "execution_count": 21,
     "metadata": {},
     "output_type": "execute_result"
    }
   ],
   "source": [
    "twoDgauss = [begin \n",
    "    (nodes, weights) = gausshermite(n)\n",
    "    L = chol([2. 0; 0 1])\n",
    "    X = gridmake(nodes, nodes)\n",
    "    F = [binomiallogit_multi(sqrt(2) * L * X[i,:] + [0.5, 1]) for i in 1:n^2]\n",
    "    Weights = prod(gridmake(weights, weights),2)\n",
    "    1 / 2π * sum(Weights' * (prod(exp.(X), 2)[:,1] .* F))\n",
    "end for n in [4, 5, 7, 8, 12]]"
   ]
  },
  {
   "cell_type": "markdown",
   "metadata": {},
   "source": [
    "Looks good!"
   ]
  },
  {
   "cell_type": "markdown",
   "metadata": {},
   "source": [
    "### 7"
   ]
  },
  {
   "cell_type": "code",
   "execution_count": 33,
   "metadata": {},
   "outputs": [
    {
     "data": {
      "text/html": [
       "<h2 style='padding: 10px'>Errors</h2><table class='table table-striped'> <thead> <tr> <th></th> <th>1D</th> <th>2D</th> </tr> </thead> <tbody>  <tr> <th scope='row'>Monte Carlo 20</th> <td>-0.03305989384114105</td> <td>0.013299766452589012</td></tr>     <tr> <th scope='row'>Monte Carlo 400</th> <td> -0.0008769477121990388 </td> <td>0.01449596685490151</td>  </tr>     <tr> <th scope='row'>Monte Carlo 1000</th> <td>-0.013070615830005239</td> <td>-0.006417449502746253 </td>  </tr>     <tr> <th scope='row'>Gauss Hermite 4</th> <td>0.004422402841519291</td> <td>-0.0028967801455583864 </td>  </tr>     <tr> <th scope='row'>Gauss Hermite 5</th> <td>0.004450598425182584</td> <td>-0.0028386034965228735 </td>  </tr>     <tr> <th scope='row'>Gauss Hermite 7</th> <td>0.004446134888879905</td> <td>-0.0028395280606751117 </td>  </tr>     <tr> <th scope='row'>Gauss Hermite 8</th> <td>0.00444582837033991</td> <td>-0.002839741240676319 </td>  </tr>     <tr> <th scope='row'>Gauss Hermite 12</th> <td>0.004445889791657498</td> <td>-0.002839701558751573 </td>  </tr>     </tbody> </table>"
      ]
     },
     "metadata": {},
     "output_type": "display_data"
    }
   ],
   "source": [
    "display(\"text/html\", \"<h2 style='padding: 10px'>Errors</h2><table class='table table-striped'> <thead> <tr> <th></th> <th>1D</th> <th>2D</th> </tr> </thead> <tbody>  <tr> <th scope='row'>Monte Carlo 20</th> <td>$((oneDmonte[1]-oneDtrue)[1])</td> <td>$((twoDmonte[1]-twoDtrue)[1])</td></tr>     <tr> <th scope='row'>Monte Carlo 400</th> <td> $((oneDmonte[2]-oneDtrue)[1]) </td> <td>$((twoDmonte[2]-twoDtrue)[1])</td>  </tr>     <tr> <th scope='row'>Monte Carlo 1000</th> <td>$((oneDmonte[3]-oneDtrue)[1])</td> <td>$((twoDmonte[3]-twoDtrue)[1]) </td>  </tr>     <tr> <th scope='row'>Gauss Hermite 4</th> <td>$((oneDgauss[1]-oneDtrue)[1])</td> <td>$((twoDgauss[1]-twoDtrue)[1]) </td>  </tr>     <tr> <th scope='row'>Gauss Hermite 5</th> <td>$((oneDgauss[2]-oneDtrue)[1])</td> <td>$((twoDgauss[2]-twoDtrue)[1]) </td>  </tr>     <tr> <th scope='row'>Gauss Hermite 7</th> <td>$((oneDgauss[3]-oneDtrue)[1])</td> <td>$((twoDgauss[3]-twoDtrue)[1]) </td>  </tr>     <tr> <th scope='row'>Gauss Hermite 8</th> <td>$((oneDgauss[4]-oneDtrue)[1])</td> <td>$((twoDgauss[4]-twoDtrue)[1]) </td>  </tr>     <tr> <th scope='row'>Gauss Hermite 12</th> <td>$((oneDgauss[5]-oneDtrue)[1])</td> <td>$((twoDgauss[5]-twoDtrue)[1]) </td>  </tr>     </tbody> </table>\")"
   ]
  },
  {
   "cell_type": "markdown",
   "metadata": {},
   "source": [
    "### 8 "
   ]
  },
  {
   "cell_type": "code",
   "execution_count": 23,
   "metadata": {},
   "outputs": [
    {
     "data": {
      "text/plain": [
       "binomiallogitmixture (generic function with 1 method)"
      ]
     },
     "execution_count": 23,
     "metadata": {},
     "output_type": "execute_result"
    }
   ],
   "source": [
    "function p(β, x)\n",
    "    exp.(β * x) / (1 + exp.(β * x))\n",
    "end\n",
    "\n",
    "function binomiallogitmixture(X)\n",
    "    nodes, weights = gausshermite(12)\n",
    "    1/sqrt(π) * (weights' * reshape(mapslices(x -> p(x[1], x[2]), \n",
    "                gridmake(sqrt(2) * sqrt(2) * nodes + 0.5, X), 2), length(nodes), length(X)))'\n",
    "end"
   ]
  },
  {
   "cell_type": "code",
   "execution_count": 24,
   "metadata": {},
   "outputs": [
    {
     "data": {
      "text/plain": [
       "2-element Array{Float64,1}:\n",
       " 0.589948\n",
       " 0.617203"
      ]
     },
     "execution_count": 24,
     "metadata": {},
     "output_type": "execute_result"
    }
   ],
   "source": [
    "binomiallogitmixture([1, 2.])"
   ]
  },
  {
   "cell_type": "markdown",
   "metadata": {},
   "source": [
    "## Part 3: Function Approximation\n",
    "I use my favorite package for very fast generation of basis matrices, BasisMatrices."
   ]
  },
  {
   "cell_type": "code",
   "execution_count": 25,
   "metadata": {},
   "outputs": [
    {
     "data": {
      "text/plain": [
       "binomiallogitmixture (generic function with 1 method)"
      ]
     },
     "execution_count": 25,
     "metadata": {},
     "output_type": "execute_result"
    }
   ],
   "source": [
    "N = 20\n",
    "M = 40\n",
    "basis = Basis(ChebParams(N, -4, 4))\n",
    "f = binomiallogitmixture"
   ]
  },
  {
   "cell_type": "markdown",
   "metadata": {},
   "source": [
    "It calcualtes the correct Chebyshev nodes:"
   ]
  },
  {
   "cell_type": "markdown",
   "metadata": {},
   "source": [
    "### 1"
   ]
  },
  {
   "cell_type": "code",
   "execution_count": 26,
   "metadata": {},
   "outputs": [
    {
     "data": {
      "text/html": [
       "4.440892098500626e-16"
      ],
      "text/plain": [
       "4.440892098500626e-16"
      ]
     },
     "execution_count": 26,
     "metadata": {},
     "output_type": "execute_result"
    }
   ],
   "source": [
    "maximum(nodes(basis)[1] - ((1 + (- cos.((2 * (1:N) - 1) / (2 * N) * π))) * (4 - -4) / 2 - 4))"
   ]
  },
  {
   "cell_type": "markdown",
   "metadata": {},
   "source": [
    "### 2, 3, 4, 5\n",
    "I write a function that takes all the parameters as input and returns the approximate function."
   ]
  },
  {
   "cell_type": "code",
   "execution_count": 27,
   "metadata": {},
   "outputs": [
    {
     "data": {
      "text/plain": [
       "chebfit (generic function with 3 methods)"
      ]
     },
     "execution_count": 27,
     "metadata": {},
     "output_type": "execute_result"
    }
   ],
   "source": [
    "function chebfit(f, a, b, N=20, M=40)\n",
    "    \n",
    "    basis = Basis(ChebParams(N, a, b))\n",
    "    grid = nodes(Basis(ChebParams(M, a, b)))[1]\n",
    "    \n",
    "    X = BasisMatrix(basis, Expanded(), grid).vals[1] # M * N matrix of Chebyshev polynomials evaluated at grid points\n",
    "    y = f(grid)\n",
    "    \n",
    "    coeff = (X' * X) \\ (X' * y) # regression using LU-factorization, very fast, not the most precise!\n",
    "    \n",
    "    return function(Xeval) \n",
    "        BasisMatrix(basis, Expanded(), Xeval).vals[1] * coeff\n",
    "    end\n",
    "end"
   ]
  },
  {
   "cell_type": "code",
   "execution_count": 28,
   "metadata": {},
   "outputs": [
    {
     "data": {
      "text/plain": [
       "(::#19) (generic function with 1 method)"
      ]
     },
     "execution_count": 28,
     "metadata": {},
     "output_type": "execute_result"
    }
   ],
   "source": [
    "fhat = chebfit(f, -4, 4)"
   ]
  },
  {
   "cell_type": "code",
   "execution_count": 29,
   "metadata": {},
   "outputs": [
    {
     "data": {
      "text/html": [
       "<img src=\"data:image/png;base64,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\" />"
      ]
     },
     "execution_count": 29,
     "metadata": {},
     "output_type": "execute_result"
    }
   ],
   "source": [
    "Xtest = -4:0.01:4\n",
    "plot(Xtest, f(Xtest), label = \"f\")\n",
    "plot!(Xtest, fhat(Xtest), label = \"fhat\")"
   ]
  },
  {
   "cell_type": "code",
   "execution_count": 30,
   "metadata": {},
   "outputs": [
    {
     "data": {
      "text/html": [
       "<img src=\"data:image/png;base64,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\" />"
      ]
     },
     "execution_count": 30,
     "metadata": {},
     "output_type": "execute_result"
    }
   ],
   "source": [
    "plot(Xtest, f(Xtest) - fhat(Xtest), label = \"error\")"
   ]
  },
  {
   "cell_type": "markdown",
   "metadata": {},
   "source": [
    "The approximation is relatively good!"
   ]
  },
  {
   "cell_type": "markdown",
   "metadata": {},
   "source": [
    "### 8 \n",
    "The polynomials diverge outside of the domain:"
   ]
  },
  {
   "cell_type": "code",
   "execution_count": 31,
   "metadata": {},
   "outputs": [
    {
     "data": {
      "text/html": [
       "<img src=\"data:image/png;base64,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\" />"
      ]
     },
     "execution_count": 31,
     "metadata": {},
     "output_type": "execute_result"
    }
   ],
   "source": [
    "Xtest = -8:0.01:8\n",
    "plot(Xtest, f(Xtest), label = \"f\")\n",
    "plot!(Xtest, fhat(Xtest), label = \"fhat\")"
   ]
  },
  {
   "cell_type": "markdown",
   "metadata": {},
   "source": [
    "The function approximation gets better and better with an increased number of polynomials:"
   ]
  },
  {
   "cell_type": "code",
   "execution_count": 32,
   "metadata": {},
   "outputs": [
    {
     "data": {
      "text/html": [
       "<img src=\"data:image/png;base64,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\" />"
      ]
     },
     "execution_count": 32,
     "metadata": {},
     "output_type": "execute_result"
    }
   ],
   "source": [
    "Xtest = -4:0.01:4\n",
    "plot(20:40, [begin \n",
    "        fhat = chebfit(f, -4, 4, n); \n",
    "        maximum(f(Xtest) - fhat(Xtest))\n",
    "            end for n in 20:40], label=\"maximal error within domain\")"
   ]
  },
  {
   "cell_type": "code",
   "execution_count": null,
   "metadata": {
    "collapsed": true
   },
   "outputs": [],
   "source": []
  }
 ],
 "metadata": {
  "kernelspec": {
   "display_name": "Julia 0.6.0",
   "language": "julia",
   "name": "julia-0.6"
  },
  "language_info": {
   "file_extension": ".jl",
   "mimetype": "application/julia",
   "name": "julia",
   "version": "0.6.0"
  }
 },
 "nbformat": 4,
 "nbformat_minor": 2
}
