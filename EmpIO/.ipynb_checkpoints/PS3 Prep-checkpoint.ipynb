{
 "cells": [
  {
   "cell_type": "markdown",
   "metadata": {},
   "source": [
    "### MPEC\n",
    "Let me try Dube Fox Su (2012):\n",
    "$$s_{jt}=\\int_{0}^{\\infty}\\frac{exp\\big(x'_{jt}\\beta_{t}-\\frac{1}{y_{i}}p_{jt}+\\xi_{jt}\\big)}{1+\\sum_{k}exp\\big(x'_{jt}\\beta_{t}-\\frac{1}{y_{i}}p_{jt}+\\xi_{jt}\\big)}\\frac{1}{y_{i}\\sigma_{y}\\sqrt{2\\pi}}\\exp\\Big(-\\frac{(\\log y_{i}-\\mu_{y})^{2}}{2\\sigma_{y}^{2}}\\Big)dy_{i}=\n",
    "$$\n",
    "$$s_{jt}=\\int_{-\\infty}^{\\infty}\\frac{exp\\big(x'_{jt}\\beta_{t}-\\frac{1}{\\exp e_{i}}p_{jt}+\\xi_{jt}\\big)}{1+\\sum_{k}exp\\big(x'_{jt}\\beta_{t}-\\frac{1}{\\exp e_{i}}p_{jt}+\\xi_{jt}\\big)}\\frac{1}{\\sigma_{y}\\sqrt{2\\pi}}\\exp\\Big(-\\frac{(e_{i}-\\mu_{y})^{2}}{2\\sigma_{y}^{2}}\\Big)de_{i}=\n",
    "$$\n",
    "$$s_{jt}=\\int_{-\\infty}^{\\infty}\\frac{1}{\\sqrt\\pi}\\frac{exp\\big(x'_{jt}\\beta_{t}-\\exp (-\\mu_{y}-\\sqrt{2}\\sigma_{y}e_{i}) p_{jt}+\\xi_{jt}\\big)}{1+\\sum_{k}exp\\big(x'_{jt}\\beta_{t}-\\exp (-\\mu_{y}-\\sqrt{2}\\sigma_{y}e_{i})p_{jt}+\\xi_{jt}\\big)}\\phi(e_i)de_{i}=\n",
    "$$"
   ]
  },
  {
   "cell_type": "markdown",
   "metadata": {},
   "source": [
    "I prepare the data:"
   ]
  },
  {
   "cell_type": "code",
   "execution_count": 1,
   "metadata": {},
   "outputs": [
    {
     "name": "stderr",
     "output_type": "stream",
     "text": [
      "\u001b[1m\u001b[36mINFO: \u001b[39m\u001b[22m\u001b[36mPrecompiling module DataStructures.\n",
      "\u001b[39m\u001b[1m\u001b[36mINFO: \u001b[39m\u001b[22m\u001b[36mRecompiling stale cache file /home/juser/.julia/lib/v0.6/StatsBase.ji for module StatsBase.\n",
      "\u001b[39m\u001b[1m\u001b[36mINFO: \u001b[39m\u001b[22m\u001b[36mRecompiling stale cache file /home/juser/.julia/lib/v0.6/DataFrames.ji for module DataFrames.\n",
      "\u001b[39m\u001b[1m\u001b[36mINFO: \u001b[39m\u001b[22m\u001b[36mRecompiling stale cache file /home/juser/.julia/lib/v0.6/JuMP.ji for module JuMP.\n",
      "\u001b[39m"
     ]
    }
   ],
   "source": [
    "using DataFrames\n",
    "using FastGaussQuadrature\n",
    "using JuMP\n",
    "using Ipopt\n",
    "\n",
    "data = readtable(\"data_ps2.txt\", header=false, separator=',')\n",
    "rename!(data, names(data), [:car, :year, :firm, :price, :quantity, :weight, :hp, :ac, :nest3, :nest4]);\n",
    "data[:share] = data[:quantity] / 1e8;\n",
    "meanweight = mean(data[:price])\n",
    "meanhp = mean(data[:price])\n",
    "meanprice = mean(data[:price])\n",
    "\n",
    "data[:weight] = data[:weight] / mean(data[:weight])\n",
    "data[:hp]     = data[:hp] / mean(data[:hp])\n",
    "data[:price]  = data[:price] / mean(data[:price]);\n",
    "\n",
    "function competitor_mean_characteristic(good, char::Symbol)\n",
    "    mean(data[(data[:firm] .!= good[:firm]) .* (data[:year] .== good[:year]), char]) #same year, different firm\n",
    "end\n",
    "\n",
    "function firm_mean_characteristic(good, char::Symbol)\n",
    "    mean(data[(data[:firm] .== good[:firm]) .* (data[:year] .== good[:year]) .* \n",
    "            (data[:car] .!= good[:car]), char]) #same year, same firm, different product\n",
    "end\n",
    "\n",
    "data[:comp_weight] = [competitor_mean_characteristic(good, :weight) for good in eachrow(data)]\n",
    "data[:comp_hp]     = [competitor_mean_characteristic(good, :hp) for good in eachrow(data)]\n",
    "data[:comp_ac]     = [competitor_mean_characteristic(good, :ac) for good in eachrow(data)]\n",
    "\n",
    "data[:firm_weight] = [firm_mean_characteristic(good, :weight) for good in eachrow(data)]\n",
    "data[:firm_hp]     = [firm_mean_characteristic(good, :hp) for good in eachrow(data)]\n",
    "data[:firm_ac]     = [firm_mean_characteristic(good, :ac) for good in eachrow(data)];\n",
    "\n",
    "data[isnan.(data[:firm_weight]),:firm_weight] = 0.0\n",
    "data[isnan.(data[:firm_hp]),:firm_hp] = 0.0\n",
    "data[isnan.(data[:firm_ac]),:firm_ac] = 0.0;"
   ]
  },
  {
   "cell_type": "code",
   "execution_count": 2,
   "metadata": {},
   "outputs": [],
   "source": [
    "year = 1990\n",
    "\n",
    "w = convert(Array{Float64}, data[data[:year] .== year, [:share, :weight, :hp, :ac, :price]])\n",
    "z = convert(Array{Float64}, data[data[:year] .== year, [:weight, :hp, :ac, :comp_weight, :comp_hp, :comp_ac,\n",
    "                                                                      :firm_weight, :firm_hp, :firm_ac]]);\n",
    "w = w[1:20,:]\n",
    "z = z[1:20,:]\n",
    "\n",
    "share = w[:, 1]\n",
    "weight = w[:, 2]\n",
    "hp = w[:, 3]\n",
    "ac = w[:, 4]\n",
    "price = w[:, 5];"
   ]
  },
  {
   "cell_type": "markdown",
   "metadata": {},
   "source": [
    "This is the mathematical program to be solved by IpOpt:"
   ]
  },
  {
   "cell_type": "code",
   "execution_count": 3,
   "metadata": {},
   "outputs": [],
   "source": [
    "using FastGaussQuadrature\n",
    "using JuMP\n",
    "using Ipopt\n",
    "using NLopt\n",
    "\n",
    "# Data\n",
    "K=3\n",
    "I=size(w)[1]\n",
    "(e0, q0) = gausshermite(3)\n",
    "\n",
    "# Model\n",
    "#m = Model(solver=NLoptSolver(algorithm=:LD_SLSQP))\n",
    "m = Model(solver=IpoptSolver(print_level=5, print_frequency_iter=1))\n",
    "\n",
    "@variable(m, β[1:3], start = 10.0)\n",
    "@variable(m, μy, start = -10)\n",
    "@variable(m, σy, start = 1.0)\n",
    "@variable(m, ξ[1:I], start=0)\n",
    "\n",
    "@objective(m, Min, (z' * ξ)' * (z' * ξ))\n",
    "\n",
    "@NLexpression(m, integrand[i=1:I, k=1:K], exp(ξ[i] + weight[i] * β[1] + hp[i] * β[2] + ac[i] * β[3] - exp(-μy -sqrt(2) * σy * e0[k]) * price[i]) / (1 + sum((exp(ξ[j]) + weight[j] * β[1] + hp[j] * β[2] + ac[j] * β[3] - exp(-μy - sqrt(2) * σy * e0[k]) * price[j]) for j in 1:I)))\n",
    "\n",
    "@NLconstraint(m, integral_constraint[i=1:I], (share[i]) == (sum(integrand[i,k] * q0[k] for k in 1:K)));"
   ]
  },
  {
   "cell_type": "code",
   "execution_count": 4,
   "metadata": {},
   "outputs": [
    {
     "name": "stdout",
     "output_type": "stream",
     "text": [
      "\n",
      "******************************************************************************\n",
      "This program contains Ipopt, a library for large-scale nonlinear optimization.\n",
      " Ipopt is released as open source code under the Eclipse Public License (EPL).\n",
      "         For more information visit http://projects.coin-or.org/Ipopt\n",
      "******************************************************************************\n",
      "\n",
      "This is Ipopt version 3.12.1, running with linear solver mumps.\n",
      "NOTE: Other linear solvers might be more efficient (see Ipopt documentation).\n",
      "\n",
      "Number of nonzeros in equality constraint Jacobian...:      500\n",
      "Number of nonzeros in inequality constraint Jacobian.:        0\n",
      "Number of nonzeros in Lagrangian Hessian.............:    10100\n",
      "\n",
      "Total number of variables............................:       25\n",
      "                     variables with only lower bounds:        0\n",
      "                variables with lower and upper bounds:        0\n",
      "                     variables with only upper bounds:        0\n",
      "Total number of equality constraints.................:       20\n",
      "Total number of inequality constraints...............:        0\n",
      "        inequality constraints with only lower bounds:        0\n",
      "   inequality constraints with lower and upper bounds:        0\n",
      "        inequality constraints with only upper bounds:        0\n",
      "\n",
      "iter    objective    inf_pr   inf_du lg(mu)  ||d||  lg(rg) alpha_du alpha_pr  ls\n",
      "   0  0.0000000e+00 1.18e-03 0.00e+00  -1.0 0.00e+00    -  0.00e+00 0.00e+00   0\n",
      "   1r 0.0000000e+00 1.18e-03 9.99e+02  -2.9 0.00e+00  -2.0 0.00e+00 4.77e-07R 22\n",
      "   2r 0.0000000e+00 1.18e-03 1.18e-08  -2.9 7.31e-18    -  1.00e+00 1.00e+00   0\n",
      "   3r 0.0000000e+00 1.18e-03 1.13e+00  -6.6 6.20e-07    -  1.00e+00 9.76e-01f  1\n",
      "   4r 0.0000000e+00 1.18e-03 2.96e-12  -6.6 1.37e-08    -  1.00e+00 1.00e+00f  1\n",
      "\n",
      "Number of Iterations....: 4\n",
      "\n",
      "                                   (scaled)                 (unscaled)\n",
      "Objective...............:   0.0000000000000000e+00    0.0000000000000000e+00\n",
      "Dual infeasibility......:   0.0000000000000000e+00    0.0000000000000000e+00\n",
      "Constraint violation....:   1.1802000000000000e-03    1.1802000000000000e-03\n",
      "Complementarity.........:   0.0000000000000000e+00    0.0000000000000000e+00\n",
      "Overall NLP error.......:   1.1802000000000000e-03    1.1802000000000000e-03\n",
      "\n",
      "\n",
      "Number of objective function evaluations             = 29\n",
      "Number of objective gradient evaluations             = 3\n",
      "Number of equality constraint evaluations            = 29\n",
      "Number of inequality constraint evaluations          = 0\n",
      "Number of equality constraint Jacobian evaluations   = 7\n",
      "Number of inequality constraint Jacobian evaluations = 0\n",
      "Number of Lagrangian Hessian evaluations             = 5\n",
      "Total CPU secs in IPOPT (w/o function evaluations)   =      0.192\n",
      "Total CPU secs in NLP function evaluations           =      0.068\n",
      "\n",
      "EXIT: Converged to a point of local infeasibility. Problem may be infeasible.\n"
     ]
    },
    {
     "name": "stderr",
     "output_type": "stream",
     "text": [
      "\u001b[1m\u001b[33mWARNING: \u001b[39m\u001b[22m\u001b[33mNot solved to optimality, status: Infeasible\u001b[39m\n"
     ]
    },
    {
     "data": {
      "text/plain": [
       ":Infeasible"
      ]
     },
     "execution_count": 4,
     "metadata": {},
     "output_type": "execute_result"
    }
   ],
   "source": [
    "solve(m)"
   ]
  }
 ],
 "metadata": {
  "kernelspec": {
   "display_name": "Julia 0.6.0",
   "language": "julia",
   "name": "julia-0.6"
  },
  "language_info": {
   "file_extension": ".jl",
   "mimetype": "application/julia",
   "name": "julia",
   "version": "0.6.0"
  }
 },
 "nbformat": 4,
 "nbformat_minor": 2
}
