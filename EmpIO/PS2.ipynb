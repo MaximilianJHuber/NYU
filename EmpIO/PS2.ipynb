{
 "cells": [
  {
   "cell_type": "markdown",
   "metadata": {},
   "source": [
    "# Empirical IO PS 2\n",
    "Maximilian Huber\n",
    "\n",
    "This code is stored at: https://github.com/MaximilianJHuber/NYU/blob/master/EmpIO/PS2.ipynb.\n",
    "The notation follows along the lines of Berry, Levinsohn, Pakes (1995): http://www.tcd.ie/Economics/staff/ppwalsh/papers/BLP.pdf"
   ]
  },
  {
   "cell_type": "code",
   "execution_count": 1,
   "metadata": {
    "scrolled": true
   },
   "outputs": [],
   "source": [
    "using DataFrames\n",
    "using GLM\n",
    "using Optim\n",
    "using LaTeXStrings\n",
    "\n",
    "data = readtable(\"data_ps2.txt\", header=false, separator=',')\n",
    "rename!(data, names(data), [:car, :year, :firm, :price, :quantity, :weight, :hp, :ac, :nest3, :nest4]);"
   ]
  },
  {
   "cell_type": "markdown",
   "metadata": {},
   "source": [
    "A car can change characteristics over the years:"
   ]
  },
  {
   "cell_type": "code",
   "execution_count": 2,
   "metadata": {
    "scrolled": true
   },
   "outputs": [
    {
     "data": {
      "text/html": [
       "<table class=\"data-frame\"><thead><tr><th></th><th>car</th><th>year</th><th>firm</th><th>price</th><th>quantity</th><th>weight</th><th>hp</th><th>ac</th><th>nest3</th><th>nest4</th></tr></thead><tbody><tr><th>1</th><td>91</td><td>1990</td><td>19</td><td>5995</td><td>52409.0</td><td>1620</td><td>55</td><td>0</td><td>1</td><td>1</td></tr><tr><th>2</th><td>91</td><td>1991</td><td>19</td><td>6807</td><td>55056.0</td><td>1620</td><td>55</td><td>1</td><td>1</td><td>1</td></tr><tr><th>3</th><td>91</td><td>1992</td><td>19</td><td>8219</td><td>66046.0</td><td>1576</td><td>55</td><td>1</td><td>1</td><td>1</td></tr></tbody></table>"
      ],
      "text/plain": [
       "3×10 DataFrames.DataFrame\n",
       "│ Row │ car │ year │ firm │ price │ quantity │ weight │ hp │ ac │ nest3 │\n",
       "├─────┼─────┼──────┼──────┼───────┼──────────┼────────┼────┼────┼───────┤\n",
       "│ 1   │ 91  │ 1990 │ 19   │ 5995  │ 52409.0  │ 1620   │ 55 │ 0  │ 1     │\n",
       "│ 2   │ 91  │ 1991 │ 19   │ 6807  │ 55056.0  │ 1620   │ 55 │ 1  │ 1     │\n",
       "│ 3   │ 91  │ 1992 │ 19   │ 8219  │ 66046.0  │ 1576   │ 55 │ 1  │ 1     │\n",
       "\n",
       "│ Row │ nest4 │\n",
       "├─────┼───────┤\n",
       "│ 1   │ 1     │\n",
       "│ 2   │ 1     │\n",
       "│ 3   │ 1     │"
      ]
     },
     "execution_count": 2,
     "metadata": {},
     "output_type": "execute_result"
    }
   ],
   "source": [
    "data[data[:car] .== 91, :]"
   ]
  },
  {
   "cell_type": "markdown",
   "metadata": {},
   "source": [
    "Therefore, one can argue that product and time dimensions collapse into one. But for the time being lets treat good $j$ to be a _car_, time $t$ to be a _year_ and characteristics $x$ to be _weight_, _horse power_ and _air conditioning_ and finally the price $p$ be _price_."
   ]
  },
  {
   "cell_type": "markdown",
   "metadata": {},
   "source": [
    "## Part A: Logit\n",
    "\n",
    "This part follows BLP (1995) section 6.1.\n",
    "\n",
    "### 1\n",
    "Agent $i$ derives utility from good $j$ at time $t$ in the following manner:\n",
    "$$u_{ijt} = \\delta_{jt}^* + \\epsilon_{ijt} \\quad \\text{and} \\quad \\delta_{jt}^* = x'_{jt}\\beta_t - \\alpha_t p_{jt}+ \\xi_{jt} \\quad \\forall t \\in T$$\n",
    "where $\\epsilon_{ijt}$ is an i.i.d. extrem value.\n",
    "This logit model has market shares:\n",
    "$$s_{jt} = \\frac{e^{\\delta_{jt}^*}}{1 + \\sum_{k=1}^J e^{\\delta_{kt}^*}}$$\n",
    "Taking logs yields:\n",
    "$$\\log s_{jt} - \\log s_{0t} = \\delta_{jt}^* = x'_{jt}\\beta_t - \\alpha_t p_{jt} + \\xi_{jt} $$\n",
    "where $\\xi_{jt}$ is the unobservable good and time specific utility.\n",
    "\n",
    "This equation will be estimated year-by-year.\n",
    "\n",
    "### 2 \n",
    "If I had chosen instead to pool the years the derivation would not change, but panel logit relies on the time-independence of $\\xi_{jt}$, which is very implausible.\n",
    "\n",
    "### 3 \n",
    "Now I estimate the model with GMM using the BLP instrument for $p$:\n",
    "\n",
    "#### Data Preparation\n",
    "Market shares are calculated with an assumed market size of 100 million:"
   ]
  },
  {
   "cell_type": "code",
   "execution_count": 3,
   "metadata": {
    "scrolled": false
   },
   "outputs": [],
   "source": [
    "data[:share] = data[:quantity] / 1e8;"
   ]
  },
  {
   "cell_type": "markdown",
   "metadata": {},
   "source": [
    "Instruments for the price are constructed by looking at the good's competitors, as defined by the goods produced by other firms, avaiable in the same year. I average of the characteristics of those competing goods."
   ]
  },
  {
   "cell_type": "code",
   "execution_count": 4,
   "metadata": {},
   "outputs": [
    {
     "data": {
      "text/plain": [
       "competitor_mean_characteristic (generic function with 1 method)"
      ]
     },
     "execution_count": 4,
     "metadata": {},
     "output_type": "execute_result"
    }
   ],
   "source": [
    "function competitor_mean_characteristic(good, char::Symbol)\n",
    "    mean(data[(data[:firm] .!= good[:firm]) .* (data[:year] .== good[:year]), char]) #same year, different firm\n",
    "end"
   ]
  },
  {
   "cell_type": "code",
   "execution_count": 5,
   "metadata": {},
   "outputs": [],
   "source": [
    "data[:comp_weight] = [competitor_mean_characteristic(good, :weight) for good in eachrow(data)]\n",
    "data[:comp_hp]     = [competitor_mean_characteristic(good, :hp) for good in eachrow(data)]\n",
    "data[:comp_ac]     = [competitor_mean_characteristic(good, :ac) for good in eachrow(data)];"
   ]
  },
  {
   "cell_type": "markdown",
   "metadata": {},
   "source": [
    "I normalize weight, horse power and price after creating the instruments:"
   ]
  },
  {
   "cell_type": "code",
   "execution_count": 6,
   "metadata": {},
   "outputs": [],
   "source": [
    "data[:weight] = data[:weight] / mean(data[:weight])\n",
    "data[:hp]     = data[:hp] / mean(data[:hp])\n",
    "data[:price]  = data[:price] / mean(data[:price]);"
   ]
  },
  {
   "cell_type": "markdown",
   "metadata": {},
   "source": [
    "And the left hand side of the model is:"
   ]
  },
  {
   "cell_type": "code",
   "execution_count": 7,
   "metadata": {},
   "outputs": [],
   "source": [
    "data[:LHS] = zeros(size(data)[1])\n",
    "\n",
    "for y in [1990, 1991, 1992]\n",
    "    data[data[:year] .== y, :LHS] = \n",
    "        log(data[data[:year] .== y, :share]) - log(1 - sum(data[data[:year] .== y, :share]))\n",
    "end"
   ]
  },
  {
   "cell_type": "code",
   "execution_count": 8,
   "metadata": {},
   "outputs": [
    {
     "data": {
      "text/html": [
       "<table class=\"data-frame\"><thead><tr><th></th><th>car</th><th>year</th><th>firm</th><th>price</th><th>quantity</th><th>weight</th><th>hp</th><th>ac</th><th>nest3</th><th>nest4</th><th>share</th><th>comp_weight</th><th>comp_hp</th><th>comp_ac</th><th>LHS</th></tr></thead><tbody><tr><th>1</th><td>91</td><td>1990</td><td>19</td><td>0.2970233932704021</td><td>52409.0</td><td>0.5559956020578457</td><td>0.4081228050300215</td><td>0</td><td>1</td><td>1</td><td>0.00052409</td><td>2884.78125</td><td>131.59375</td><td>0.4270833333333333</td><td>-7.462877776838659</td></tr><tr><th>2</th><td>35</td><td>1990</td><td>7</td><td>0.4307953969117842</td><td>17122.0</td><td>0.7619198991163071</td><td>0.7420414636909483</td><td>0</td><td>2</td><td>2</td><td>0.00017122</td><td>2936.9590163934427</td><td>134.9262295081967</td><td>0.45081967213114754</td><td>-8.581591922822227</td></tr><tr><th>3</th><td>61</td><td>1990</td><td>16</td><td>0.43822717489186097</td><td>65590.0</td><td>0.8974867280131275</td><td>0.6900985612325818</td><td>0</td><td>1</td><td>1</td><td>0.0006559</td><td>2934.913043478261</td><td>136.40869565217392</td><td>0.5043478260869565</td><td>-7.238532863836876</td></tr><tr><th>4</th><td>52</td><td>1990</td><td>10</td><td>0.5360293731096715</td><td>49877.0</td><td>0.8662548762925941</td><td>0.6826781465956724</td><td>0</td><td>1</td><td>1</td><td>0.00049877</td><td>2938.9133858267714</td><td>135.03149606299212</td><td>0.47244094488188976</td><td>-7.51239613448586</td></tr><tr><th>5</th><td>26</td><td>1990</td><td>4</td><td>0.6837235741670641</td><td>35944.0</td><td>0.7488780269692712</td><td>0.8607680978814999</td><td>0</td><td>2</td><td>3</td><td>0.00035944</td><td>2935.7698412698414</td><td>134.31746031746033</td><td>0.46825396825396826</td><td>-7.839993937374661</td></tr><tr><th>6</th><td>54</td><td>1990</td><td>11</td><td>0.8420204451426995</td><td>4640.0</td><td>0.9376419659395274</td><td>0.9498130735244137</td><td>1</td><td>2</td><td>2</td><td>4.64e-5</td><td>2924.186046511628</td><td>133.50387596899225</td><td>0.4496124031007752</td><td>-9.887241742904356</td></tr></tbody></table>"
      ],
      "text/plain": [
       "6×15 DataFrames.DataFrame\n",
       "│ Row │ car │ year │ firm │ price    │ quantity │ weight   │ hp       │ ac │\n",
       "├─────┼─────┼──────┼──────┼──────────┼──────────┼──────────┼──────────┼────┤\n",
       "│ 1   │ 91  │ 1990 │ 19   │ 0.297023 │ 52409.0  │ 0.555996 │ 0.408123 │ 0  │\n",
       "│ 2   │ 35  │ 1990 │ 7    │ 0.430795 │ 17122.0  │ 0.76192  │ 0.742041 │ 0  │\n",
       "│ 3   │ 61  │ 1990 │ 16   │ 0.438227 │ 65590.0  │ 0.897487 │ 0.690099 │ 0  │\n",
       "│ 4   │ 52  │ 1990 │ 10   │ 0.536029 │ 49877.0  │ 0.866255 │ 0.682678 │ 0  │\n",
       "│ 5   │ 26  │ 1990 │ 4    │ 0.683724 │ 35944.0  │ 0.748878 │ 0.860768 │ 0  │\n",
       "│ 6   │ 54  │ 1990 │ 11   │ 0.84202  │ 4640.0   │ 0.937642 │ 0.949813 │ 1  │\n",
       "\n",
       "│ Row │ nest3 │ nest4 │ share      │ comp_weight │ comp_hp │ comp_ac  │\n",
       "├─────┼───────┼───────┼────────────┼─────────────┼─────────┼──────────┤\n",
       "│ 1   │ 1     │ 1     │ 0.00052409 │ 2884.78     │ 131.594 │ 0.427083 │\n",
       "│ 2   │ 2     │ 2     │ 0.00017122 │ 2936.96     │ 134.926 │ 0.45082  │\n",
       "│ 3   │ 1     │ 1     │ 0.0006559  │ 2934.91     │ 136.409 │ 0.504348 │\n",
       "│ 4   │ 1     │ 1     │ 0.00049877 │ 2938.91     │ 135.031 │ 0.472441 │\n",
       "│ 5   │ 2     │ 3     │ 0.00035944 │ 2935.77     │ 134.317 │ 0.468254 │\n",
       "│ 6   │ 2     │ 2     │ 4.64e-5    │ 2924.19     │ 133.504 │ 0.449612 │\n",
       "\n",
       "│ Row │ LHS      │\n",
       "├─────┼──────────┤\n",
       "│ 1   │ -7.46288 │\n",
       "│ 2   │ -8.58159 │\n",
       "│ 3   │ -7.23853 │\n",
       "│ 4   │ -7.5124  │\n",
       "│ 5   │ -7.83999 │\n",
       "│ 6   │ -9.88724 │"
      ]
     },
     "execution_count": 8,
     "metadata": {},
     "output_type": "execute_result"
    }
   ],
   "source": [
    "head(data)"
   ]
  },
  {
   "cell_type": "markdown",
   "metadata": {},
   "source": [
    "#### GMM Estimation\n",
    "I estimate $\\hat{\\theta}$ using the following GMM procedure:\n",
    "$$\\max_\\theta Q_n\\big(\\theta \\big)$$\n",
    "where $Q_n\\big(\\theta\\big) = -\\frac{1}{2}g_n\\big(\\theta\\big)'\\,\\hat{W}\\,g_n\\big(\\theta\\big)$ and $g_n\\big(\\theta\\big) = \\frac{1}{n}\\sum_{r=1}^R g\\big(w_r; \\theta\\big)$. $g\\big(w_r; \\theta\\big)$ is the residual $\\xi_{jt}$ from the model above calculated using $w_r$, a row of data.\n",
    "\n",
    "The 2SLS estimator is a GMM estimator for the linear model and is even efficient if we have conditional homoskedasticity, see Hansen chapter 11."
   ]
  },
  {
   "cell_type": "code",
   "execution_count": 9,
   "metadata": {},
   "outputs": [
    {
     "data": {
      "text/html": [
       "<table class=\"data-frame\"><thead><tr><th></th><th>year</th><th>βw</th><th>βhp</th><th>βac</th><th>α</th></tr></thead><tbody><tr><th>1</th><td>1990</td><td>-0.08405896423711075</td><td>-21.290509729697302</td><td>-4.129767308892385</td><td>-16.714196999654447</td></tr><tr><th>2</th><td>1991</td><td>-1.4700778232438163</td><td>-14.870662851337608</td><td>-1.2811553140174523</td><td>-9.323690458487931</td></tr><tr><th>3</th><td>1992</td><td>-1.6934071890953748</td><td>-13.299647960191331</td><td>-1.1806367646892164</td><td>-7.481351947986721</td></tr></tbody></table>"
      ],
      "text/plain": [
       "3×5 DataFrames.DataFrame\n",
       "│ Row │ year │ βw        │ βhp      │ βac      │ α        │\n",
       "├─────┼──────┼───────────┼──────────┼──────────┼──────────┤\n",
       "│ 1   │ 1990 │ -0.084059 │ -21.2905 │ -4.12977 │ -16.7142 │\n",
       "│ 2   │ 1991 │ -1.47008  │ -14.8707 │ -1.28116 │ -9.32369 │\n",
       "│ 3   │ 1992 │ -1.69341  │ -13.2996 │ -1.18064 │ -7.48135 │"
      ]
     },
     "execution_count": 9,
     "metadata": {},
     "output_type": "execute_result"
    }
   ],
   "source": [
    "table3 = DataFrame()\n",
    "table3[:year] = [1990, 1991, 1992]\n",
    "\n",
    "table3 = hcat(table3, convert(DataFrame, hcat(\n",
    "    [begin\n",
    "        X = convert(Array{Float64}, data[data[:year] .== year, [:weight, :hp, :ac, :price]])\n",
    "        Z = convert(Array{Float64}, data[data[:year] .== year, [:weight, :hp, :ac, :comp_weight, :comp_hp, :comp_ac]])\n",
    "        y = convert(Array{Float64}, data[data[:year] .== year, [:LHS]])\n",
    "        ((X'Z * (Z'Z)^(-1) * Z'X) \\ (X'Z * (Z'Z)^(-1) * Z'y))[:,1]\n",
    "    end for year in [1990, 1991, 1992]]...)')\n",
    ")\n",
    "\n",
    "rename!(table3, names(table3)[2:end], [:βw, :βhp, :βac, :α])\n",
    "table3[:α] = - table3[:α]\n",
    "\n",
    "table3"
   ]
  },
  {
   "cell_type": "code",
   "execution_count": null,
   "metadata": {},
   "outputs": [],
   "source": []
  }
 ],
 "metadata": {
  "kernelspec": {
   "display_name": "Julia 0.6.0",
   "language": "julia",
   "name": "julia-0.6"
  },
  "language_info": {
   "file_extension": ".jl",
   "mimetype": "application/julia",
   "name": "julia",
   "version": "0.6.0"
  }
 },
 "nbformat": 4,
 "nbformat_minor": 2
}
