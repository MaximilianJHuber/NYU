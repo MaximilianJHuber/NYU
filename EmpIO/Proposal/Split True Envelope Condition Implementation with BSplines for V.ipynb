{
 "cells": [
  {
   "cell_type": "markdown",
   "metadata": {},
   "source": [
    "In this exercise I solve a deterministic growth model using simulated data generated from an economy with parameters $\\beta = 0.95$, $\\alpha = 0.3$, $A = 1.0$, $\\delta = 0.05$, $\\gamma = 2.0$. I initiate the variables of the mathematical program at the true values, which should make the optimization easy."
   ]
  },
  {
   "cell_type": "code",
   "execution_count": 1,
   "metadata": {
    "scrolled": false
   },
   "outputs": [
    {
     "name": "stderr",
     "output_type": "stream",
     "text": [
      "WARNING: Method definition ==(Base.Nullable{S}, Base.Nullable{T}) in module Base at nullable.jl:238 overwritten in module NullableArrays at /home/juser/.julia/v0.6/NullableArrays/src/operators.jl:99.\n",
      "WARNING: Compat.AsyncCondition is deprecated, use Base.AsyncCondition instead.\n",
      "  likely near In[1]:2\n",
      "WARNING: Compat.AsyncCondition is deprecated, use Base.AsyncCondition instead.\n",
      "  likely near In[1]:2\n"
     ]
    },
    {
     "data": {
      "text/html": [
       "<img src=\"data:image/png;base64,iVBORw0KGgoAAAANSUhEUgAAAlgAAAGQCAYAAAByNR6YAAAABHNCSVQICAgIfAhkiAAAAAlwSFlzAAAPYQAAD2EBqD+naQAAIABJREFUeJzt3XmcVNWd9/HvvVW9780O3eybitCAIqIsLrgQo8aYmETjxLhEMz7GiU90MiYxE6NPknGYqJknJppoHjWGhEUdUYwbi4oRFVAUkAYaGtl737ur7u/5o7qbbja76aW2z/v1qte9dbc6XYeyvp5z6lzHzEwAAADoNm64CwAAABBrCFgAAADd7IQClpmpsrJS9C4CAAAcyX8iJ1VVVSkrK0sVFRXKzMzs7jKhB1VUVCgrKyvcxUA3oT5jSzzXp5kpaFKjJzUEpcag1OCFlo2e1ORJjZ61Pm8Mtmxrsz8oNXmmJu/QvqbDHgFrWQ8dF2izLXC059aytHb7A54UtMPWD1+ayTMn3G/tcblOqKXFdUIPR5LjSL42z9suj7Xeumy+ntP2em32tT/eaX29ttvbXqPtfqcHtqkD2yUpK9HRb87ydeq9PaGAhegVDAbDXQR0I+oztoS7Ps1MjZ5UGwg96lqWQWt9XhcMLeuDUl3AQstg6Hl98/b6oDUvQ4+G5kdo3Q5t8w7tawhK3dEn4nOkBDf0SHQPrSe4kr/tuuMcsd3ffG5ym+f+1qXbem2/G3odvyP52hzXdpvPkRrqapWZnnbE9rYP/2Hb3JZ1t+1zp92+Yy0dHTq3bWhqe1zbQOU4kR3+oh0BCwCijJmpJiBVNUnVTaFlVZOpqlGqDoS21QRM1c37W57XBKSaJoWWAak2EApONYFDocrrRMpJ8kkpPinZJ6X4Q8vQuqMkV0pu3paVqNBzn6Mkn6MkX+jcJFet64muWvcluoe2JbQ7xlFim+2tS9+h4ORGUGgoLW1Sbi5DneMVAQsAepFnpqomqbxBKm+UyhtNZc3re8oS1JQQVEWjVNFoqmyUKhqlyiapsjF0XmVzoPq8IJTql9ITpHS/lJYgpfsdpTavD0qV0vxSWoKrNH/o2EMPp3U9pTk4pfqd1vWWZZIvssIMEGkIWABwAjwzlTdIB+ulgw2mknqptEEqqbfQskEqbQiFp7KW9cZQsDpWNkrxJSkr0VNWYmjMR2ZiqPUnL03KSHSVmSBlJkqZCY4yEqSMhFCIymh+nt78SPNLPpfwE06NjY3aunWr9u/fH+6ioIN8Pp+GDRumxMTEbrkeAQsAFOp2K2+U9tVJe2tN++ukA/Wm/fXSgTppf73pQPO2g/WhAHW0VqT0BKlPkpSbJOUmOcpNkkZkOMppXs9JcpSdKOUkSdnNQSq7OUhVV5QpNze39/94dKtdu3bpG9/4hqqrq+W6dBFGk9TUVD3zzDMaMmRIl69FwAIQ04KeaV+dtLvWtLtW2lNr2lOr5kdofV9d6JhGr/25Ca7UL1nqnyL1T3aUny5N6euqb7KaH476Jkt9kkLLnKTQOCLEL8/z9LOf/UzZ2dmaP3++0tPTw10kdFB9fb1+/OMf69///d/1yCOPdDkcE7AARK2AFwpNxdWm4hppZ7VpV420q8b0WY30Wa1pb23oJ/MtXEcakBIahzQoxdGkPtLAFFcDUqSBqY4GpEgDUkLLrER+aYXOOXjwoD744APdd999KigokN/P12w0ufXWW3X33XerpKRE/fr169K1qHkAEasxaNpZLRVVm4qqpKIq046W9epQuGrbTZeRIOWnSXlpjk7JkS7IczUkVRqS5mhImqNBqVL/ZMYnoeeUl5dLkvLy8sJcEpyIlnorKysjYAGIblWNpsJKaUuFaWuVaVulaVuVtK3StLPmUIByJA1Jk4alOxqeIc0a5GpoupSf5mhoeqj7LiuR4ITw8rxQP7PP17lJKREZWuqtpR67goAFoMc1BkOhaVO5aVO5aXOFqbBC2lIZGvvUIidJGpXhaGSmNK2fq5GZjkZmhAaJ56VJiYxvAsKuoKBAq1atUkZGhn7961/ra1/7mgYOHPi5533rW99SQUGBbr/99l4oZfgRsAB0m9qAaVO59HGZ6ZMy0yfNgWpr5aFxUJkJ0rhsR2MypfOGuBqT5Wh0pjQm01FuMgEKiHTr1q1rXf/1r3+tOXPmdChgxRsCFoBOC3qhbr0PS6318XGZaVvloTme8tOkk3Mczct3NT5bGpflaHx2aPA4A8eB3rV69Wr94Ac/UFVVlcxM9957r1atWqUVK1aoqalJmZmZevTRRzVu3DhJoc/o3XffraVLl6qmpkb33HOPrr766tZ9ZWVleuihh7R7925dddVVSklJ0RNPPKGSkhL96Ec/Un19vRobG/X9739f119/fTj/9LAhYAE4rtqA6cMS0wclprUHTetLpQ2lprrm2+YNTJFOzXV02TBXJ2eHBpefnOMok/FQgKTQeMLyxp65dnaiNDLz+J+10tJSXX755Vq4cKFmzpwpz/NUXl6uGTNm6IEHHpAk/eUvf9H3vvc9LVu2rPU8x3G0du1abdu2TaeddprOOussDR8+vHX/T37yE/3xj3/UggULVFBQICk0OPzNN9+Uz+dTaWmpJk+erAsvvDAuB/0TsAC0qguY1paY1hwwvX8gFKo2locGmie40ik50qRcR18f5WpirqNTcx31TyFIAcdysN405q+BTt3jsTN8jrT3Gr/6Hqd7ffXq1Ro3bpxmzpwpSXJdV7m5ufrzn/+shx9+WFVVVfI8T6Wlpe3Ou+GGGyRJI0eO1KxZs7Ry5cp2AetoSkpKdP311+vTTz+V3+9XSUmJNmzYQMACED88M20sk97Zb3r3gGnNAU8flUoBC91nrqCPo1kDXd0+wdGUvqGWKSbRBDqnb7KjLV/192gL1vHC1bHs3LlTt956q9asWaNRo0bpww8/1KxZs457Tke69m+++WbNmzdPixYtkuM4mjJliurr6ztdvlhAwALiRFVjKEi9vS/0WL3fVNEYmnjzlBzp9L6OvnOSo9P7uTo1V0pgriigW3xeF15PmzFjhrZs2aJVq1a1dhFu375dCQkJGjRokMxMv/nNb4447/HHH9dPf/pTFRUVadWqVfr1r399xDGZmZmqqKhofV5WVqZhw4bJcRytXLlS69ev79G/LZIRsIAYVVJvenOvaeVe04o9oa4/z0L/xztjgKMfTHR1Zn9H0/o7Sk8gTAGxKicnR0uWLNEdd9yhqqoqua6re++9V1/72td0yimnqE+fPrr88suPOC8YDGry5MmqqanRQw89dNTuwdtuu0033nijUlNT9cQTT+gXv/iFvvvd7+ree+9VQUGBzjjjjF74CyOTY2ad7hmurKxUVlaWKioqlJmZ2RPlQg8pLS3lZrIxpG19ljWYlu82vb7btGJvqLtPkoamS7MHOpo5yNXZAxyNy5ZcfsUXkfh8Rr9Nmzbpmmuu0VNPPaXRo0dH7a1yWn4pmJ2dHe6i9Kq29Td+/PguXSs6ax6A6gKm5ft8ercwqNc+Cw1I90wamSGdM9jR/z7V1exBjoZlEKYAoLcRsIAoYWbaUiG9tMvTsmLT8j2m+mCqBqR4Onewo5tP8um8IY6GE6gAdNEJdG7hMAQsIILVB0JdfkuLTS8Ve9peJSW60qxBju47zdUZGVWaMTyLiTsBIMIQsIAIc6AuFKie3+Hp5V2m2kCo229evquL8hydM9hRWvOg9NJSj3AFABGIgAVEgB1VpkXbPS0pMr2932QmTe/v6MeTXV02LHSrGYIUAEQPAhYQJtsqTQu3e1q4PTRzepJPumCIo0dn+vSFfEcDUglUABCt3HAXAIgnn9WYHvgwqKlLmjRqQUD3vO8pP0368zk+7b/Gr+cv9Ovb41zCFQAcpqioSI888ki7bfPmzdPmzZvDVKLjowUL6GHlDaZF201PF3pavseU6JO+kO/oromu5g1lkk8A6IiWgHXzzTe3bnvxxRfDWKLjowUL6AEBz7R0p6crXw1owFMB3bgqKNeRHpvl075r/Fo016+vjnIJVwB6xerVq3X22Wdr0qRJmjhxop577jm99957mjFjhiZOnKhp06bprbfekhQKMtnZ2brnnns0depUjR49ujXI1NXV6aqrrtLJJ5+sSZMm6YILLpAkLV++XAUFBa2vt2HDhtaZ31uu9+Mf/1hTpkzRmDFj9NZbb+lf/uVfVFBQoAkTJmjDhg2t15kwYYKuvfZaTZgwQVOnTtW6deskhe5zuHnzZhUUFOjSSy+VJA0fPrx1f2Fhoc4//3xNnDhRBQUFevbZZ1vL4ziO7r//fk2bNk0jRozQ448/3oPvdjM7ARUVFSbJKioqTuR0hFFJSUm4ixDTNpd59q//CNigpxpNv2+0iQsb7T/XB+yzaq9HXo/6jC3UZ/TbuHGjTZ061TZu3GhNTU3hLo6Zhf5d9e/f31auXGlmZsFg0Pbt22f5+fm2bNkyMzNbtWqVDRgwwKqqqmz79u0myRYuXGhmZi+99JKNHTvWzMwWL15sF1xwQbtrm5m98cYbNmnSpNbtH330kQ0bNszMrPV6S5YsMTOzxx57zNLS0uz11183M7Nf/epXduWVV7ZeR5K9+uqrZma2YMECGzdunHmed8RrmJkNGzbM1q5da2Zm06ZNs0ceecTMzD799FPLzc21oqIiMzOTZA888ICZheooPT39qPXTtv66ii5CoItqA6a/bjP9YZOnN/eZcpKkq0e5um6cq8l9+PUfEO8CB/fIq6vukWu7Keny9x103GNWr16tcePGaebMmaFzXFf79u2T67q68MILJUlnn322BgwYoHXr1ikvL0/Jycm64oorJElnnnmmtm7dKkmaNGmSNm7cqO9+97uaPXu25s2b16FyJicnt97v8LTTTlN6errOOeccSdK0adP09NNPtx47fPhwnXfeeZKkr371q7rppptUXFx83OtXVVXpgw8+aG2FGzNmjM4++2ytWrVKw4YNkyRdffXVkqTx48fL7/dr7969ysvL61D5TwQBCzhBn5abHtno6YktnsobpPOHOPrLuT5dNsxRsp9QBUAKVldo733XS+b1zAu4rgb97Bn50rO6fKm2/zOYlJTU+tzn8ykYDEqSRo4cqU8++USvv/66Xn31Vd15551at26d/H5/6zGSVF9f3+7aSUlJres+n0/JycntngcCgeOW60T+R/Xwczrzmt2BgAV0QsAzPb/D9NuNnl79zNQnSbpxnKvvnORqZCahCkB7vvQsDbz7Dz3agvV54WrGjBnasmWLVq1apZkzZ8rzPA0YMECe5+mVV17R3Llz9fbbb2vv3r0qKCjQwYMHj3mtXbt2KScnR5deeqkuuugiPfvssyouLtbIkSO1Y8cOHThwQP369dOTTz55wn9TUVGR3njjDZ1zzjlauHChBgwYoLy8PB04cEAVFRVHPScjI0NTpkzR448/rhtvvFGFhYV688039dBDD51wObqKgAV0QHmD6bHNnh7+2NPOaunM/o6enOPTlSNorQJwfJ/XhdfTcnJytGTJEt1xxx2qqqqS67q69957tXjxYt1222264447lJycrIULFyo9Pf24Aeujjz7SD3/4Q5mZAoGAvvnNb2rixImSpDvvvFPTpk3TgAEDdPHFF59weU855RQ98cQTuu2225SYmKhnnnlGjuNo4sSJOuWUUzRhwgSNHDlSzz//fLvznn76ad188836zW9+I8dx9Nhjj2no0KEnXI6ucpoHf3VKZWWlsrKyVFFRoczMzJ4oF3pIaWmpcnNzw12MqLGt0vTQx57+sNlTQ1D6xihH35vg0+S+kRGqqM/YQn1Gv02bNumaa67RU089pdGjR8vvpx2jM5YvX67bb7+99ZeBva1t/Y0fP75L16LmgaN4d7+nX6739OwOU06idPsEV9892dUgJgAFAHQAAQtoZmZavsd031pPr+02jc2S/u9Zrr45xlUq3YAA0OPmzJkTttar7kbAQtwzMy3dabpvnad39psm95H+dp5PXxruyOcSrAAAnUfAQtwyMz23w3TP+0F9WCqdNcDRixf5dFHeif0kGACAFgQsxB0z07Jdph+/5+n9g6bzBjtacYmrWYO4cxSArnHd0H9HmpqawlwSnIiWemupx64gYCGuvLHb04/e8/T2PtNZAxy98QWf5gwmWAHoHoMHD1ZiYqIeffRRXXfddUpJSQl3kdBBTU1NevTRR5WYmKjBgwd3+XoELMSFtQdNP/hHUK/tNp3W19Gyi3y6gK5AAN0sPT1d8+fP1/e//329+eab3dISgt6TmJio+fPnKz09vcvXImAhphVXm370XlBPbjGNz5aWzA3dyoZgBaCnTJ8+XX//+9/1ySefMFdkFHFdV4MHD+6WcCURsBCjKhtNv1zvaf5HnjITpd+e7er6ca78/CoQQC9IT0/X6NGjmTg2jhGwEFOCXuiWNj9+z1N1k/S/J7q6c6KrjESCFQCg9xCwEDPe2efp1rdDvwy8doyj+07zKS+dYAUA6H0ELES9A3Wmf303qD9+Gpok9O1LfTpzAANLAQDhQ8BC1Ap6pkc2hqZdcJzQbW1uGu8y+zoAIOwIWIhKH5aYrl8Z1HsHTTeMc3T/6T71SyFYAQAiAwELUaU+YLp3radfrfc0LpvuQABAZCJgIWqs2uPpxlVBbauSfjTZ1Q8LXCX6aLUCAEQeAhYiXlWj6a53Pf12o6fp/R2tPd+nU3IJVgCAyEXAQkR7c6+na5cHtb9OevBMV/98MoPYAQCRj4CFiNQQNN3zfmis1YwBjl6Z59OoTIIVACA6ELAQcTaUmq55I6BPyqX7T3f1g4m0WgEAogsBCxHDM9N/feTp39Z4GpslvXu5XwV9CFYAgOhDwEJEOFBnunZ5UC/vMn3/VFc/P81Vsp9wBQCITgQshN3KPZ6+/npQTZ607GKfLshjXisAQHQ76jfZ448/Lsdx9Oyzz/Z2eRBHgp7p5x8Edc7SoMZmOVp3hZ9wBQCICUe0YBUVFenRRx/V9OnTw1EexIl9taZrlgf12memH09x9ZPJDGQHAMSOds0Fnufphhtu0MMPP6ykpKRwlQkxbvU+T5OXBPRRqemVeT79+1Qf4QoAEFPatWDNnz9fZ511lqZOndqhkysrK9s9T0pKIpjhuB7b5Om7bwU1rZ+jv53v06BUghUAIPa0BqwNGzZo0aJFWrlyZYdPzs/Pb/f8zjvv1F133dV9pUO3KysrC8vrNnrSD9cl6YntibpuZKPun9SgxHqptD4sxYkZ4apP9AzqM7ZQn7ElNze3U8e3BqxVq1apqKhIY8aMkSTt3btXN910k/bs2aNbbrnlqCcXFxcrMzOz9TktWNGhs/9IumpvrenKV4N694Dp9zN9unF8mqS0Xi1DLOvt+kTPoj5jC/UZvxwzs6PtmDNnjm6//XZdfvnlR+yrrKxUVlaWKioq2gUsRL7S0tJe/cC/u9/TFa8G5Zm06HyfzhzArwS7U2/XJ3oW9RlbqM/4xrcdesyi7Z5mvxBUfpqj9y73E64AAHHjmBONLl++vBeLgVhiZpr/kacf/MPTV0c6emK2j1nZAQBxhZnc0a0Cnum2tz39dqOnHxaEbnnjOoQrAEB8IWCh21Q3ma56LXQ/wUdn+nTDeLoEAQDxiYCFbrG7xnTJywEVVkovXsT9BAEA8Y2AhS4rrDDNfTGggElvXerXqbl0CQIA4hvNDOiS9SWms/8noGS/9DbhCgAASQQsdMHb+zzNeSGgvDRHKy/xKz+dcAUAgETAwglaVuzp/KVBTerj6PUv+NQvhXAFAEALAhY6bcFWT5f+Pajzhzh66SKfMhMJVwAAtEXAQqc88amnr78e1FUjHS2a61MKE4gCAHAEAhY67IlPPX17RVA3jXf1pzk+JbiEKwAAjoaAhQ5pG67+79nMzg4AwPEQsPC5CFcAAHQOAQvH1RKubiRcAQDQYQQsHFPbcPVbwhUAAB1GwMJRLdgaClc3jHcIVwAAdBIBC0dYVuzpmjeCuma0o0fO9hGuAADoJAIW2nlrr6crXglq3lBHf5hNuAIA4EQQsNBqfYnpCy8HdUZ/RwvOZZ4rAABOFAELkqQtFaYLXgpodKaj5y7wKZkZ2gEAOGEELGhXtWnuiwHlJol7CwIA0A0IWHGuvMF04UsBmaS/X+xXvxTCFQAAXeUPdwEQPo1B0xWvBLWnTlp9qV/56YQrAAC6AwErTpmZblwV1Fv7TK/M82lcNuEKAIDuQsCKU/eu9fT/tpiePsenWYPoKQYAoDvxzRqHntzi6Z73Pd071dU3RvNPAACA7kYLVpx584BP178Z1HVjHd09mXAFAEBP4Bs2jmwsM127OkWzBjr63UyfHGZpBwCgRxCw4kRZg+mLfw9oYLKnheczSzsAAD2JLsI4EPRMX389qNIG6dU5dcpOSg53kQAAiGkErDhw93ueXvnMtOwin4anWriLAwBAzKOLMMYt2Orpl+s9/Wqaq7l5VDcAAL2Bb9wYtr7EdN2KoK4e7ej7p1LVAAD0Fr51Y9TBetPlfw/opBzpUX4xCABAr2IMVgwKeKarXguqJiCtmOtXip9wBQBAbyJgxaB/W+NpxR7Ta1/waSg3cAYAoNcRsGLMCzs8/ceHnh44w9Vs7jEIAEBY8A0cQ3ZWm/5pRVBfHMqgdgAAwolv4RjR5Jm+9lpQ6QnSE7MZ1A4AQDjRRRgj7l7jac0B06ov+pSbTLgCACCcCFgxoGXc1X+e4Wr6ABolAQAIN76No1zbcVf/wrgrAAAiAt/IUYxxVwAARCa6CKPYzz5g3BUAAJGIFqwo9fY+T/ev83TPFMZdAQAQafhmjkJVjaZvvhHUtH6O/rWAKgQAINLQRRiFvv9OUPvqpL/P88nv0jUIAECkIWBFmed3eHpss+nRmT6NyiRcAQAQiehfiiL7ak03rAzq0mGOrh9HuAIAIFIRsKKEmemGVUE5jvToTKZkAAAgktFFGCUe3WR6Yafpfy7wqX8K4QoAgEhGC1YU2FZp+v47Qd003tUlw6gyAAAiHd/WEc7MdNOqoPomSw+cQXUBABAN6CKMcH/cbHptt+nli33KSKRrEACAaECTSATbXWO64x9BfWusowvyqCoAAKIF39oRysx0y1tBpfik+dN94S4OAADoBLoII9Rft5me32FadL5POUl0DQIAEE1owYpAB+tN/+vtoK4c4eiKEVQRAADRhm/vCHT76qACJj08g65BAACiEV2EEWbpTk9PF5r+NNungal0DQIAEI1owYog1U2mm98M6sI8R98cQ7gCACBaEbAiyM8+8HSwXvrtWdxrEACAaEbAihAfl5r+6yNPdxe4GpFJuAIAIJoRsCKAmemf3w5qRIb0g0lUCQAA0Y5B7hHgz1tNK/aEboeT5KP1CgCAaEdzSZiVN5jueCeor4zgdjgAAMQKvtHD7Cfve6pu4nY4AADEEroIw2jtQdN/f+LpV9Nc5aXTNQgAQKygBStMvOabOZ+ULd02gWoAACCW0IIVJn/cbPrHftOKS3xKcGm9AgAgltB0EgYVjaZ/WxPUNaMdzRpEFQAAEGv4dg+D+9eGBrb/n9MZ2A4AQCwiYPWybZWmX2/wdOckBrYDABCrCFi97K53g+qbLP1gIm89AACxikHuvWjVHk8Lt5v+NNuntARarwAAiFU0o/QSz0z/8o6n0/o6umYM4QoAgFhGC1YveWqL6f2DppWX+OQ6BCwAAGIZLVi9oKbJ9MM1QV05wtFMpmUAACDm8W3fC/7jQ08H66VfTmNaBgAA4gEBq4ftqjb9ar2n2ye4GplJ1yAAAPGAgNXD7nk/qPQE6d8m81YDABAvGOTegzaVm57YYvqv6a6yEmm9AgAgXtCs0oN+9F5Q+WnSd07ibQYAIJ7QgtVD1hzwtGi76fHZPiX5aL0CACCe0LTSQ/5tjaeTs6VvjiZcAQAQb2jB6gGvf+bp1c9Mi8/3yecSsAAAiDe0YHUzM9MP13ia1s/R5cMJVwAAxCNasLrZs0Wmdw+YXpvnk8MtcQAAiEu0YHWjoGe6+72gzh/i6NwhvLUAAMQrWrC60ZOFpo3l0p/mEK4AAIhnRwSsCy64QHv37pXrusrIyNBDDz2kyZMnh6NsUaUhaLrn/aC+PMLR6f0IWAAAxLMjAtZf//pXZWdnS5KWLFmib33rW1q/fn2vFyza/GGzp1010rKLuKEzAADx7oimlpZwJUkVFRUM1O6AhqDp/6zz9LWRjk7K4f0CACDeHXUM1rXXXqs33nhDkvTiiy8e8+TKysp2z5OSkpSUlNSNxYsOT3zq6bMa6UeTab0CAACSY2Z2rJ1/+tOftGDBgiNCVmVlpbKyso44/s4779Rdd93V/aWMYI2edPrLaTo9N6jHzqgPd3E+V1lZmXJycsJdDHQT6jO2UJ+xhfqMLbm5uZ06/rgBS5JSUlK0a9cu9enTp3VbS8AqLi5WZmZm6/Z4bMF6bJOnG1cFteHLfp2SG/ndg6WlpZ3+R4LIRX3GFuoztlCf8a1dF2F5eblqa2s1ePBgSdKzzz6rPn36HPMfSGZmZruAFW+aPNN9a4O6coQTFeEKAAD0jnYBq6KiQl/5yldUV1cn13XVr18/vfDCCwx0P4antpiKqqXnLmDsFQAAOKRdwBo2bJjefffdcJUlqgQ8033rgvrScEcT+xBAAQDAIczkfoL+XGjaWiktPJ/WKwAA0B5Tjp+AgGf6+dqgLh3mqIDWKwAAcBhasE7Agm2mLZXSM+fSegUAAI5EC1YnBZtbr76Q72hqP1qvAADAkWjB6qTndpg2lUtPzCabAgCAoyMldIKZ6ZfrPc0e5OiM/rx1AADg6GjB6oSVe03vHjC9eBFjrwAAwLHRDNMJv1rv6dRc6aI8xl4BAIBjowWrgz4qNb1YbHpyjo+Z7QEAwHHRgtVB/7E+qKHp0lWjCFcAAOD4CFgdsLPa9MxW0/dPdZXgErAAAMDxEbA64L8+8pSRKF0/jrcLAAB8PhLD5yitNz26ydOtJ7tKT6D1CgAAfD4C1uf4v594Cpp06ym8VQAAoGNIDcdRFzA99LGnb49z1T+F1isAANAxBKzjeOJTTyUN0h2n8jYBAICOIznEdr+EAAAeIUlEQVQcQ9Az/edHnq4c4WhkJq1XAACg45ho9BheLDZtrZSePocMCgAAOof0cAwPbvB0Rn9u6gwAADqP9HAUG0pNr+02fY9fDgIAgBNAgjiKhz4OanCqdOVIxl4BAIDOI2AdpqTe9OQW03dP5rY4AADgxBCwDvPoJk8m6abxvDUAAODEkCLaaPJM//2Jp6tHOerHxKIAAOAEEbDaWLLdtKtG+t4EX7iLAgAAohgBq40HP/Y0Z5CjiX1ovQIAACeOiUabvXfA09v7TEvm0noFAAC6hhasZg9u8DQiQ/riUFqvAABA1xCwJO2pNS3YZrr1ZFc+pmYAAABdRMCS9LuNnhJd6dvjeDsAAEDXxX2iaPJMv9/k6doxrrKTaL0CAABdF/cB6392mPbUSjefFPdvBQAA6CZxnyoe2ehpxgCmZgAAAN0nrgPWlgrTK58ZrVcAAKBbxXWy+P0mT7lJ0ldG0HoFAAC6T9wGrPqA6fHNnq4b6yrZT8ACAADdJ24D1qIiU0mDdNP4uH0LAABAD4nbdPHIJ57OG+xobDatVwAAoHvFZcD6qNT05j4GtwMAgJ4Rlwnjdxs9DUyRLhtO6xUAAOh+cRewqptM/2+LpxvGu0rgvoMAAKAHxF3A+stWU01AupHB7QAAoIfEXcp4ZKOnefmOhqbTegUAAHpGXAWsNQc8vX/QdAuD2wEAQA+Kq6Tx2CZTfpp0YR6tVwAAoOfETcCqDZie2erpunGufAxuBwAAPShuAtai7aaqJulbY+LmTwYAAGESN2njj5s9nTvY0YhMWq8AAEDPiouAtbXStHyP6dvj4uLPBQAAYRYXieOJTz1lJUpXMHM7AADoBTEfsIKe6YlPPX19lKsUPwELAAD0vJgPWK98ZtpVI317HOEKAAD0jpgPWH/c7GlCjnRaXwIWAADoHTEdsA7Wm57dERrc7jgELAAA0DtiOmD9udCTmXTN6Jj+MwEAQISJ2eRhZvrDZk+XDnPUL4XWKwAA0HtiNmCtLZE+LBVzXwEAgF4Xs+njj5s9DUrlxs4AAKD3xWTAqg+Yni709E9jXPm5sTMAAOhlMRmwnt9hKm+Urhsbk38eAACIcDGZQJ4q9HRGf0djs2m9AgAAvS/mAtbBetNLxaZrRhOuAABAeMRcwFqw1ZMkXTUy5v40AAAQJWIuhTxVaLoon7mvAABA+MRUwCqsML2z35i5HQAAhFVMJZGnCj1lJEiXDqP1CgAAhE/MBCwz01OFnq4c4SjFT8ACAADhEzMB6x/7TVsrubEzAAAIv5hJI08WmvLSpDmDab0CAADhFRMBqzFoWrDV0zdGuXIdAhYAAAivmAhYy3aZShqkb46JiT8HAABEuZhIJE9t8TQpV5qQS+sVAAAIv6gPWBWNpud3mq6h9QoAAESIqE8lC7eZGoPSN0ZF/Z8CAABiRNSnkqcKPZ03xNHgNLoHAQBAZIjqgLWr2rRij+lq5r4CAAARJKqTyd+2e0pwpS8Np/UKAABEjqgOWAu2mS7Od5SVSMACAACRI2oD1vZK0z/2m77G4HYAABBhojad/HWbpxSfdMlQWq8AAEBkidqA9Zdtni4Z6ig9gYAFAAAiS1QGrE/LTetKRPcgAACISFGZUBZs85SeIF2cT+sVAACIPFEZsP6y1dPlwxyl+AlYAAAg8kRdwNpQavqkXLpqZNQVHQAAxImoSyl/2eopO1G6II/WKwAAEJmiKmCZmRZs83TFcEeJPgIWAACITFEVsD44KBVWSlfx60EAABDB2iWV+vp6XX755Ro7dqwmTZqkuXPnqrCwMFxlO8KCbZ76JkvnDqb1CgAARK4jmoJuuukmbd68WevXr9dll12mG264IRzlOkJL9+CVI1z5XQIWAACIXO0CVnJysubNmyfHCQWY6dOnq6ioKBzlOsI7+007q6WrRhKuAABAZPMfb+eDDz6oyy677Jj7Kysr2z1PSkpSUlJS95TsMAu2mQamSDMHErAAAEBkO2bAuv/++1VYWKjXXnvtmCfn5+e3e37nnXfqrrvu6r7SNfNM+uvWNH1xcEAV5VXdfv14UlZWFu4ioBtRn7GF+owt1Gdsyc3N7dTxRw1YDzzwgBYvXqxXX31Vqampxzy5uLhYmZmZrc97qgVr9T5Pe+qCuuakFOXmpnX79eNNZ/+RILJRn7GF+owt1Gf8OiJgzZ8/X88884xeffVVZWdnH/fkzMzMdgGrpyzabuqfIp01gO5BAAAQ+doFrF27dumOO+7QyJEjdc4550gKtUr94x//CEvhpNCvBxdt9/SlYa58/HoQAABEgXYBKy8vT2YWrrIc1doSqaha+vIIwhUAAIgOET8l+uLtnnKSpDlMLgoAAKJExAesRUWeLh3qKIHuQQAAECUiOmB9UmbaVC59eUREFxMAAKCdiE4ui7Z7Sk+Q5g6h9QoAAESPiA9Ylwx1lOwnYAEAgOgRsQFra6Vpfan05eERW0QAAICjitj0smi7pxSfdHE+rVcAACC6RHDAMl2U7ygtgYAFAACiS0QGrOJq07sHjF8PAgCAqBSRCWZJkacEV7pkKK1XAAAg+kRkwFq03TR3iKOsRAIWAACIPhEXsPbVmlbtpXsQAABEr4hLMc/u8OQ60mXDaL0CAADRKeIC1pIi0+xBjvokE7AAAEB0iqiAVdloen230XoFAACiWkQFrGXFpiZPumxYRBULAACgUyIqyTy3w9OkXGlYBi1YAAAgekVMwGryTC8Wmy7j3oMAACDKRUyaWbnHVN5I9yAAAIh+EZNmntthyk+TJvcJd0kAAAC6JiIClpnpuR2eLh3mynEYfwUAAKJbRASs9aXSzmomFwUAALEhIgLWc0WeMhOk2YMIWAAAIPpFRMB6doeneUMdJfoIWAAAIPqFPWDtqDKtK+HXgwAAIHaEPdU8v8NTgitdnE/rFQAAiA1hD1jP7TDNGeQoK5GABQAAYkNYA1Z5g2nFHm7uDAAAYktYA9aLxaaASZcy/goAAMSQsCab53Z4mtJXyk+nBQsAAMSOsAWshqDppWLj14MAACDmhC3dLN9tqmpiegYAABB7wpZuXthpGpouTcwNVwkAAAB6RlgClpnphZ2eLhnKzZ0BAEDsCUvA+qRMKqqWLhlKuAIAALEnLAFrabGnVL90Djd3BgAAMSgsAeuFnabzBjtK9hOwAABA7On1gFVab3prn+mSofx6EAAAxKZeTznLdpk8k77A+CsAABCjej1gLd3paXIfaUgaAQsAAMSmXg1YAc/00i66BwEAQGzr1aSzep+prIHuQQAAENt6NWC9sNPUL1k6vR8BCwAAxK5eDlievjDUkcvs7QAAIIb1WsDaXmn6pFyMvwIAADGv19LO0mJPCa40dwitVwAAILb1WsB6Yadp1kBHmYkELAAAENt6JWBVN5ne2G3c3BkAAMSFXglYr31mavQYfwUAAOJDrySeF3Z6Gpcljc6iBQsAAMS+Hg9YnpmWFpu+QOsVAACIEz2eetaVSHtqpS/k03oFAADiQ48HrBd3espIkGYOImABAID40OMB66VdpvOHOEpwCVgAACA+9GjAKq03vbPfdHE+468AAED86NHk88pnJs+ki/NovQIAAPGjRwPWS8WeJuRIeekELAAAED/8PXVhz0wv7TJ9awzdgwDQm8xMMpPUvGzzsLbbZJIXWh7zHElmnmRqvy+0o3mbDruuJPPaHKM2r632r3PYdVrLLzvi/LbHtD3f7LBjDz/30BvTbpt15Ph2+9tuP/KcdmebKVBdrdr0tKOce5QzDn/tw7bbsY5t/6LHvUaHtx/tOsf5Ozt37WO9ZGeO76bX7MQ1nORUpU2b26lL9VjAWntQ2l8nXcz0DADaMDPJ86RgQOYFpWBQ5gVCy2BA8rzm7c37vaAsGAxtDwZCz5u3KxgMffkHW7Z5zfvbL2Ve6BrmHbq+54X2N2+T13wtz2u/z5rXm5+3HtP8d7R7bm3Paw40XrBNYGnZb63HmB26lhcMao/jNAcRLxR+rCUAea1hqPVa7cJTcwhqCTaICKXhLkBvcI71PX+M7ceMBUfZ0dlrd+LSxz72yIPdpAgKWC8Vh6ZnOGsgAQvobRYMygKNsqbmR6BRamqUBZpC2wNNsqZGKdDUvO3QQ8FAaD0YOLQ/2CQFArLmfQoeZT0YCB3jBQ4dG2wbnAKhkBMM9Pwb4LqS45PjCy3lc+U4vtB215XjuIet+46xPbTPcZzma4YeTvMx8ifIdd3Qf5CdNue1Hu80P3clN3SM0+bYQ/sdyXFUV9+glNTU5m1qfr3m81xHknPotRyn+Vpttkltth+6ruRIriNHTvttbc531Pb11H6/mq/ZfP0jriEdKosOO7/lnJZrHL6vzf6W13bU9rw2+9tua1sWNZ/Tcu3jHHdovw6dd/jxR7z2kee1+9uPtk9SWXm5cnJyDtt32JN2r+scY/Vof9OJX6+9Y4WgNvWKE9JzAYvpGYAjWDAga6iT11Avazz08BrqZU0NspZlY8uy+dHU8mhs87xRTfW12usFDwWppoZQmPJOoBXDcSR/ghxfghx/ghy/P/S8eZt8fjl+f7vnbkpaaLvrk+NvPsbnP3Ss65d8vkPbfL5Dx7dsc91D57lu89IXCja+w5auL3S9lkDk+g+FIF9zUGoJMVEoWFqqrNzccBcD3cSpbwx9RhCXeiRgtUzP8MjZvp64PNBrzCwUaOpr5NXXyqurkTXUyquvldU3Lxtq5dXXyeprZY11ofWGOnkNtaHA1FAnr7FO1lDfsdYbx5WTmCwnMSn0SEiSk5AY2paQKCcxSW5qupyERHlBU3JGphx/Ymhfy7EJiYe2+RMOBaWEpObwlCAnIfHQdn/CoZYaAECX9UjAYnoGRBLzvFBAqqmSV9v8qKtuXq9uXbe6Gnl1NaHndTWyump59bWhMTzH4CQkyUlKkZOcIjc5VU5SqtykZLnpWfL3GRjal5QiNylFTlJyKCQlpchNTG4TopLlJCU3b0uSfAkdDjqlpaXKpsUDACJOjwSsl4o9nZrL9AzofmYWahGqLlewukJedbm86kp5NZUKVpfLqwmte9UVh8JUbfXRB/66Prmp6XJT0uWmZshJSQsFo36D5aaky0lODe1LSQutJ6fJSUmVm9S8npwS6s4CAOAw3f7twPQMOBFeQ728ylIFK0sVrCqVV1mmYFWZgpWl8qrKFawqCy1rKqSmxiPOd1LS5UvPkpuWKTctU/4B+aH11IzWbW5qRptHeqjliC4xAEAP6PaAxfQMaMs8T15VmYIVBxUsP6hgRUloWX4gFKYqShWsLJHV17Y/0ZcgX2aO3Iwc+TKylThklNyMbLnp2fK1XTaHJ1qSAACRpNu/lZieIb5YU6MCpfsULN2nQNl+Bcv2K1h2ILRefkDB8oPtB3b7EuTL7iNfVh/5svoqYfBI+bJy5cvsIzczV77mh5OSRusSACBqdX/A2mWay/QMMcPM5FWVKXBwtwIH94QeJXtCgapkr7zKNtPoOW4oOOX0ky+nv5KGnxRaz+4nX3Zf+bL7yk3LIjgBAGJetwaslukZfsf0DFEnWFOpwP5dChz4LPRoWT+4R9ZY33qcm5krf99B8vcZpKSxk+XPHSBf7oDQMrtfaL4iAADiXLcGrJbpGS5ieoaIZGbyKg6qft82Ne0rVmDfTjXt26nAvmJ5NZWtx/my+8nff4gSh5+s1NPPl7/vYPn7DpKvz0C5iclh/AsAAIgO3RqwmJ4hcgRrKtW0e7sCe4rU1PrYIWuoVb1C8zf5++fJP3CoksdPlb9/vvz9h8jfdzAhCgCALuq2gOWZadku0z8xPUOvMjMFS/epaVehGj/bqqbPtqlp11YFKw6GDvAlKGFAvhIGD1fKqTNUn5arnDGnyJfTP3SLEgAA0O26LWCtL5H21UkXMT1DjzEzBcsPqHHnp2ra+akad36qxuItsvoaSZKbnq2EvFFKPe1cJQwZpYTBw+XvN6TdFAZNpaXyM/M3AAA9qtsC1rJdntITpLMGELC6i9dQp8Ydm9VYtDH02PmpvOpySZIvu68S8scq49wrlZA3WolDRsqX1SfMJQYAAFI3BqyXd5nOHewo0UfAOlGBsgNq3PqRGrZ/osaijWravV0yT05ymhKHj1fajHlKHDpWifljCFMAAESwbglYlY2mt/aaHpzBmJ6OMjMFD+5Rw9aPWh/B0n2SJH//fCWOOEnpZ1+ixBEny98/n/FSAABEkW4JWG/sNgVMuiiPEHA8wYoS1W9Zp4bNa9WwZV1olnPHUcKQkUo5dYaSRk1Q4shT5EvPDndRAQBAF3RLwFq2yzQ6UxqZSfdgW9bYoPrCD9Ww6X3Vf7pWgb07JEkJg0copWCWksZMUtKIU+Smpoe5pAAAoDt1OWCZmZYVe7pkKK1XkhQ4uEf1G9eo/pM1qi9cLzU1hm4bM26yMi/4upLGFMiXQQsVAACxrMsBa0uFVFQtXRins7eb56lx52bVffi26jesVmD/Lsn1KWnUqcqa909KPul0+Qfkc/89AADiSJcD1su7PCW60pzB8RMgLNCkhi3rVffRatVtWC2vslRuepaSTzlDWZdcp6SxBXKT08JdTAAAECZdDljLdpnOHugoPSG2A5YFA2r4dJ1q165Q3Ydvy+pr5MsdoNTJs5Uy8SwljjhJjsuNjgEAQBcDVn3AtHyP6adTYnP8lXlBNWzdoLq1K1S3/i15NRXy9xui9FmXKmXSTCUMHkHXHwAAOEKXAtbq/abagHRhjE3P0LSvWLXvvqLa915XsOKgfDn9lXrGBUqdMlsJQ0YRqgAAwHF1KWC9tts0KFU6NQZubefVVql27UrVvvuKGndskpOartQpc5Q69VwlDj+JUAUAADqsSwHr1V2eLhzmRG34MDM1bvtY1W8vVd36NyUvqOTxpyn3W3crZcIZcvyJ4S4iAACIQl0KWBvLpZ+cFX3dg15djWrfe03Vby1VYO8O+fsNUda8a5U69Vzu8QcAALqsy78inDskelqvmnZvV/Wq51X7/huyQKNSJpyp7C99R0ljCrjXHwAA6DZdClhT+zrqkxzZAcvM1LDpfVUtX6yGzR/Il9VXGed+RWnTL5Qvu2+4iwcAAGJQu4B122236fnnn9eOHTu0du1aFRQUHPfk8yO49cqaGlX7/huqWr5Ygb07lJA3WrnfvEspBTPl+LrlFowAAABH1S5pXHnllbrzzjt19tlnd+jk8yIwYHkNdap56wVVvbFYXnW5kk85QzlX/rMSR50atYPxAQBAdGkXsGbNmtWpk6f2jZzA4tXXqHrV/6h6+WJ59bVKmzZX6ed8WQn988JdNAAAEGe61FdWW10lv3soZCUlJSkpKanLheoMr7ZK1SufU9WKZ2WNDUo78yJlnPcV+XP692o5AAAAWnQpYOXn57d7fuedd+quu+7qUoE6ypoaFPjHMjW99T9SsEn+qefJf+YlssxcVZqk0tJeKUe0KSsrC3cR0I2oz9hCfcYW6jO25OZ2blb1LgWs4uJiZWZmtj7vjRYsCwZV8+7fVbnsKXnVFUqfMU8Zc78mX2YMTCffSzr7jwSRjfqMLdRnbKE+41eXAlZmZma7gNWTzEz1H72tihceV2D/LqVMPUdZF18rf99BvfL6AAAAHdUuYH3nO9/R0qVLtXfvXl144YXKyMhQYWFhuMrWqrF4i8oX/1aN2z9R0rgpyr32X5WYNzrcxQIAADiqdgHrd7/7XbjKcVTBmkpVLv2Tala/KP+Aoep7y/1KHjcl3MUCAAA4roiccdO8oGpWL1Pl0idkXlBZl39H6WdfwgShAAAgKkRcYmncsVllf3tYTbsKlTptrrK++G35MnLCXSwAAIAOi5iA5TXWq/KlJ1W9fIkShoxQv+/NV9KIk8NdLAAAgE6LiIDVsPUjlT3zXwqUH1DWJdcpfc4Vcny+cBcLAADghIQ1YHn1tap44Y+qefMFJY44WQNu/HclDMj//BMBAAAiWNgCVv2W9Sr783/Kq6lQ9hW3KO3sL8px3XAVBwAAoNv0esCyYFCVLz+lqlf+osSRE9Tvn3/JZKEAACCm9GrACpTsVemTv1Tjzs3KvPhaZZz/VTkuY60AAEBs6bWAVbtupcr+8qDclDT1+18P8AtBAAAQs3o8YFljg8qXPKKa1S8ppWCWcr56m9zU9J5+WQAAgLDp0YAVKD+gkj/8TIG9O5XztduVesaFchynJ18SAAAg7HosYDVs+1glj/9cjj9B/b73n9ycGQAAxI0eCVjVq19S+cL/VuLwk9TnW3fLl5HdEy8DAAAQkbo1YFkwEBpv9eYLSjv7EmV/6WZu0AwAAOJOt6Ufr7ZKB//wMzUWbVT2Vd9T+pkXd9elAQAAokq3TJ0eLD+o/Q//QIE9Rer3z78gXEWohoYG/fKXv1RDQ0O4i4JuQH3GFuoztlCfsaWhoUE//elPO1WfjplZZ1+osrJSWVlZqqioUEpdhQ4+crdkpr4336eEgUM7ezn0krb1lpmZGe7ioIuoz9hCfcYW6jO2nEh9dqmLsGHHp6r+y6/kZuSo780/lz+7X1cuBwAAEBO61EVY8thP5O+fp/63PUC4AgAAaHZCLVgtvYqNQ8Yp8ep/VXXApMrKbi0Yul9lcx1VUlcxgfqMLdRnbKE+Y0tLPXZmVNUJjcHatWuX8vPzO3saAABA1Nq/f7/69etYj90JBSzP87R7925lZGRw6xsAABAXOpN7TihgAQAA4Ni6ZR4sAAAAHELAAgAA6GYErBhVX1+vyy+/XGPHjtWkSZM0d+5cFRYWSgoN0rvooos0ZswYTZgwQStXrgxzadFRjz/+uBzH0bPPPiuJuoxmDQ0NuvXWWzVmzBideuqpuuaaayRJW7Zs0YwZMzR27Fidfvrp+vjjj8NcUnyeF198UVOmTFFBQYEmTJigP/3pT5L4fEaL2267TcOHD5fjOFq3bl3r9uN9Fjv0OTXEpLq6Olu6dKl5nmdmZg8//LDNnj3bzMyuu+46u+eee8zM7N1337UhQ4ZYY2NjmEqKjtq+fbudeeaZNn36dFuyZImZUZfR7Pbbb7dbb7219TO6Z88eMzM755xz7PHHHzczs7/97W922mmnhauI6ADP8ywnJ8fWr19vZqHPaVJSklVWVvL5jBIrVqyw4uJiGzZsmK1du7Z1+/E+ix35nBKw4sSaNWts2LBhZmaWlpbW+h9zM7PTTz/dXnnllTCVDB0RDAbtvPPOs/fee89mz57dGrCoy+hUXV1tGRkZVlFR0W77vn37LCMjw5qamsws9OU9YMAA27JlSziKiQ7wPM9yc3NtxYoVZma2fv16Gzx4sDU0NPD5jDJtA9bxPosd/Zx26VY5iB4PPvigLrvsMpWUlKipqUkDBw5s3Td8+HDt3LkzjKXD55k/f77OOussTZ06tXUbdRm9tm7dqtzcXN1///169dVXlZKSop/+9KfKzs7WoEGD5PeH/tPsOI6GDh2qnTt3avTo0WEuNY7GcRwtWLBAV1xxhdLS0lRWVqbFixerqqqKz2cUKy4uPuZnMSsrq0OfUwJWHLj//vtVWFio1157TXV1deEuDjppw4YNWrRoEeM3YkggENCOHTt08skn6xe/+IXWrl2ruXPnaunSpeEuGjopEAjo5z//uRYvXqxZs2ZpzZo1uvTSS9uN5UF8YpB7jHvggQe0ePFivfTSS0pNTVWfPn3k9/u1d+/e1mOKioo0dOjQMJYSx7Nq1SoVFRVpzJgxGj58uN555x3ddNNN+utf/0pdRqmhQ4fKdV1dffXVkqTJkydrxIgR2rFjh/bs2aNAICApdFuOnTt3UqcRbN26ddq9e7dmzZolSTr99NOVl5enDz/8kM9nFMvPzz/mZ/F4+9oiYMWw+fPn65lnntErr7yi7Ozs1u1f+cpX9Mgjj0iS1qxZo88++0yzZ88OVzHxOW655Rbt2bNHRUVFKioq0vTp0/X73/9et9xyC3UZpfr27avzzjtPL7/8siRp+/bt2r59u8466yxNmTJFTz31lCRp0aJFysvLo3swgrV82W7cuFGSVFhYqK1bt2rcuHF8PqNY//79j/lZPN6+dnpx/Bh6UXFxsUmykSNH2qRJk2zSpEk2bdo0MzPbu3evzZ0710aPHm0nn3yyvf7662EuLTqj7SB36jJ6bd261ebMmWMTJkywiRMn2sKFC83MbNOmTTZ9+nQbM2aMTZ061T788MMwlxSf589//nNrPU6YMMGefvppM+PzGS1uuukmGzJkiPl8Puvfv7+NGjXKzI7/WezI55Rb5QAAAHQzuggBAAC6GQELAACgmxGwAAAAutn/B9pxtyZAHSTGAAAAAElFTkSuQmCC\" />"
      ]
     },
     "execution_count": 1,
     "metadata": {},
     "output_type": "execute_result"
    }
   ],
   "source": [
    "using CSV\n",
    "using Plots; pyplot()\n",
    "\n",
    "df = CSV.read(\"data.csv\"; header=false, types=[Float64, Float64])\n",
    "dataK = convert(Vector{Float64}, df[1])\n",
    "dataC = convert(Vector{Float64}, df[2])\n",
    "\n",
    "plot(dataK, label=\"capital\")\n",
    "plot!(dataC, label=\"consumption\")"
   ]
  },
  {
   "cell_type": "markdown",
   "metadata": {},
   "source": [
    "The economy's steady state for capital is:"
   ]
  },
  {
   "cell_type": "code",
   "execution_count": 2,
   "metadata": {},
   "outputs": [],
   "source": [
    "k_stst = 4.628988089138438;"
   ]
  },
  {
   "cell_type": "markdown",
   "metadata": {},
   "source": [
    "# The Mathematical Program\n",
    "I define the needed function related to utility and production:"
   ]
  },
  {
   "cell_type": "code",
   "execution_count": 727,
   "metadata": {},
   "outputs": [
    {
     "data": {
      "text/plain": [
       "f_prime (generic function with 1 method)"
      ]
     },
     "execution_count": 727,
     "metadata": {},
     "output_type": "execute_result"
    }
   ],
   "source": [
    "u_crra(c, γ) = begin\n",
    "    return c^(1-γ)/(1-γ)\n",
    "end\n",
    "\n",
    "u_crra_prime(c, γ) = begin\n",
    "    return c^-γ\n",
    "end\n",
    "\n",
    "u_crra_prime_inv(u, γ) = begin\n",
    "    return u^(-1/γ) \n",
    "end\n",
    "\n",
    "function f(k, α, A)\n",
    "    if (k <= 0)\n",
    "        return zero(k)\n",
    "    else\n",
    "        A*k^α\n",
    "    end\n",
    "end\n",
    "\n",
    "function f_prime(k, α, A)\n",
    "    if (k <= 0)\n",
    "        return zero(k)\n",
    "    else\n",
    "        A*α*k^(α-1)\n",
    "    end\n",
    "end"
   ]
  },
  {
   "cell_type": "code",
   "execution_count": 804,
   "metadata": {},
   "outputs": [
    {
     "data": {
      "text/plain": [
       "f_prime (generic function with 1 method)"
      ]
     },
     "execution_count": 804,
     "metadata": {},
     "output_type": "execute_result"
    }
   ],
   "source": [
    "u_crra(c, γ) = begin\n",
    "    if c <= 0\n",
    "        return -10000.\n",
    "    else\n",
    "        return c^(1-γ)/(1-γ)\n",
    "    end\n",
    "end\n",
    "\n",
    "u_crra_prime(c, γ) = begin\n",
    "    if c <= 0\n",
    "        return -1000.\n",
    "    else\n",
    "        return c^-γ\n",
    "    end\n",
    "end\n",
    "\n",
    "u_crra_prime_inv(u, γ) = begin\n",
    "    if u <= 0\n",
    "        return +1000.\n",
    "    else\n",
    "        return u^(-1/γ) \n",
    "    end\n",
    "end\n",
    "\n",
    "function f(k, α, A)\n",
    "    if (k <= 0)\n",
    "        return zero(k)\n",
    "    else\n",
    "        A*k^α\n",
    "    end\n",
    "end\n",
    "\n",
    "function f_prime(k, α, A)\n",
    "    if (k <= 0)\n",
    "        return zero(k)\n",
    "    else\n",
    "        A*α*k^(α-1)\n",
    "    end\n",
    "end\n"
   ]
  },
  {
   "cell_type": "markdown",
   "metadata": {},
   "source": [
    "I use the Julia Mathematical Programming languange JuMP and the IpOpt solver:"
   ]
  },
  {
   "cell_type": "code",
   "execution_count": 951,
   "metadata": {},
   "outputs": [],
   "source": [
    "using JuMP\n",
    "using Ipopt\n",
    "\n",
    "#m = Model(solver=IpoptSolver(print_level=5, max_iter=500, mu_strategy=\"adaptive\", mu_oracle=\"probing\", tol=1e-12));\n",
    "#m = Model(solver=IpoptSolver(print_level=5, max_iter=500, mu_strategy=\"adaptive\", mu_oracle=\"probing\", corrector_type=\"affine\"));\n",
    "#m = Model(solver=IpoptSolver(print_level=5, max_iter=0));\n",
    "#m = Model(solver=IpoptSolver(print_level=5, max_iter=500, mehrotra_algorithm=\"yes\"));\n",
    "m = Model(solver=IpoptSolver(print_level=5, max_iter=500, mu_strategy=\"monotone\", tol=1e-12));"
   ]
  },
  {
   "cell_type": "markdown",
   "metadata": {},
   "source": [
    "I define the deep parameters variables and give the the correct starting values:"
   ]
  },
  {
   "cell_type": "code",
   "execution_count": 952,
   "metadata": {},
   "outputs": [],
   "source": [
    "@variable(m, 0 <= β <= 1, start = 0.80)\n",
    "@variable(m, 0 <= δ <= 1, start = 0.1)\n",
    "@variable(m, 0 <= α <= 1, start = 0.5)\n",
    "@variable(m, A >= 0, start = 1)\n",
    "@variable(m, 100 >= γ >= 1, start = 2);"
   ]
  },
  {
   "cell_type": "markdown",
   "metadata": {},
   "source": [
    "The policy function is approximated by 10 Chebyshev polynomials on a grid around the steady state for capital, the coefficients on the polynomials are $\\theta$:"
   ]
  },
  {
   "cell_type": "markdown",
   "metadata": {},
   "source": [
    "I define a grid on capital, $K$, with 10 nodes, and evaluate the Chebyshev polynomials at those point into $\\Psi$ and at the observed data points into $\\Phi$:"
   ]
  },
  {
   "cell_type": "code",
   "execution_count": 953,
   "metadata": {},
   "outputs": [
    {
     "name": "stderr",
     "output_type": "stream",
     "text": [
      "WARNING: redefining constant params\n"
     ]
    }
   ],
   "source": [
    "using BasisMatrices\n",
    "global const params = SplineParams(linspace(0.2*k_stst, 2*k_stst, 10), 0, 3)\n",
    "basis = Basis(params)\n",
    "K = nodes(basis)[1] #grid\n",
    "Ψ = BasisMatrix(basis, Expanded(), K).vals[1]\n",
    "Ψprime = BasisMatrix(basis, Expanded(), K, 1).vals[1]\n",
    "Ψprimeprime = BasisMatrix(basis, Expanded(), K, 2).vals[1]\n",
    "Φ = BasisMatrix(basis, Expanded(), dataK).vals[1]\n",
    "Φprime = BasisMatrix(basis, Expanded(), dataK, 1).vals[1];"
   ]
  },
  {
   "cell_type": "code",
   "execution_count": 954,
   "metadata": {},
   "outputs": [],
   "source": [
    "@variable(m, θ[1:length(K)], start = 0);"
   ]
  },
  {
   "cell_type": "markdown",
   "metadata": {},
   "source": [
    "And I initialize $\\theta$ such that the consumer myopically consumes almost everything available, leaving just $0.5$ capital for the next period:"
   ]
  },
  {
   "cell_type": "markdown",
   "metadata": {},
   "source": [
    "In the equilibrium constraint the polynomials have to be evaluated also outside the grid, I define this function here:"
   ]
  },
  {
   "cell_type": "code",
   "execution_count": 955,
   "metadata": {
    "scrolled": false
   },
   "outputs": [
    {
     "data": {
      "text/plain": [
       "interpV (generic function with 1 method)"
      ]
     },
     "execution_count": 955,
     "metadata": {},
     "output_type": "execute_result"
    }
   ],
   "source": [
    "function interpV(x, values...) #x is the point of evaluation, values are on the grid\n",
    "    return (evalbase(params, [x], 0) * collect(values))[1]\n",
    "end"
   ]
  },
  {
   "cell_type": "markdown",
   "metadata": {},
   "source": [
    "I register all user-defined functions with JuMP for automatic differentiation:"
   ]
  },
  {
   "cell_type": "code",
   "execution_count": 956,
   "metadata": {},
   "outputs": [],
   "source": [
    "JuMP.register(m, :interpV, 1+length(K), interpV, autodiff=true)\n",
    "JuMP.register(m, :u_crra, 2, u_crra, autodiff=true)\n",
    "JuMP.register(m, :u_crra_prime, 2, u_crra_prime, autodiff=true)\n",
    "JuMP.register(m, :f, 3, f, autodiff=true)\n",
    "JuMP.register(m, :f_prime, 3, f_prime, autodiff=true)\n",
    "JuMP.register(m, :u_crra_prime_inv, 2, u_crra_prime_inv, autodiff=true)"
   ]
  },
  {
   "cell_type": "markdown",
   "metadata": {},
   "source": [
    "The auxiliary and equilibrium constraints are all defined on the grid with 10 nodes:"
   ]
  },
  {
   "cell_type": "code",
   "execution_count": 957,
   "metadata": {},
   "outputs": [],
   "source": [
    "@variable(m, modelC[i=1:length(K)] >= 0, start = 1)\n",
    "@variable(m, modelKprime[i=1:length(K)] >= 0, start = 1)\n",
    "\n",
    "@NLconstraint(m, cons_today[i=1:length(K)], modelC[i] == u_crra_prime_inv(sum(Ψprime[i, k] * θ[k] for k in 1:length(K)) / \n",
    "            (f_prime(K[i], α, A) + 1-δ), γ))\n",
    "    \n",
    "@NLconstraint(m, capi_tomor[i=1:length(K)], modelKprime[i] == f(K[i], α, A) + (1-δ)*K[i] - u_crra_prime_inv(sum(Ψprime[i, k] * θ[k] for k in 1:length(K)) / \n",
    "            (f_prime(K[i], α, A) + 1-δ), γ));"
   ]
  },
  {
   "cell_type": "code",
   "execution_count": 958,
   "metadata": {},
   "outputs": [],
   "source": [
    "b2 = Basis(ChebParams(10, 0.2*k_stst, 2*k_stst))\n",
    "K2 = nodes(b2)[1] #grid\n",
    "Ψ2 = BasisMatrix(b2, Expanded(), K2).vals[1]\n",
    "θ2 = Ψ2 \\ [0.731039, 0.830067, 0.984055, 1.15697 , 1.32812 , 1.48555 , 1.62093 , 1.72778 , 1.80161 , 1.8393]\n",
    "ν  = Ψ \\ (BasisMatrix(b2, Expanded(), K).vals[1] * [-15.112, 2.69213, -0.640543, 0.208069, -0.0777003, 0.0304588, -0.0123556, 0.00602886, -0.00329544, 0.00114639])\n",
    "\n",
    "for i in 1:length(K)\n",
    "    setvalue(modelC[i], (BasisMatrix(b2, Expanded(), K).vals[1] * θ2)[i])\n",
    "    setvalue(modelKprime[i], f(K[i], getvalue(α), getvalue(A)) + (1-getvalue(δ))*K[i] - getvalue(modelC[i]))\n",
    "    setvalue(θ[i], ν[i])\n",
    "end"
   ]
  },
  {
   "cell_type": "code",
   "execution_count": 959,
   "metadata": {},
   "outputs": [],
   "source": [
    "@NLconstraint(m, increasing[i=1:length(K)], sum(Ψprime[i, k] * θ[k] for k in 1:length(K)) >= 0)\n",
    "@NLconstraint(m, concave[i=1:length(K)], sum(Ψprimeprime[i, k] * θ[k] for k in 1:length(K)) <= 0)\n",
    "\n",
    "@NLconstraint(m, EE[i=1:length(K)], sum(Ψ[i, k] * θ[k] for k in 1:length(K)) == u_crra(modelC[i], γ) + \n",
    "            β * interpV(modelKprime[i], θ[1], θ[2], θ[3], θ[4], θ[5], θ[6], θ[7], θ[8], θ[9], θ[10], θ[11], θ[12]));"
   ]
  },
  {
   "cell_type": "markdown",
   "metadata": {},
   "source": [
    "I define auxiliary expressions for the predictions of the equilibrium conditions:"
   ]
  },
  {
   "cell_type": "code",
   "execution_count": 960,
   "metadata": {},
   "outputs": [],
   "source": [
    "@NLexpression(m, predictedK[t=2:100], f(dataK[t-1], α, A) + (1-δ)*dataK[t-1] - dataC[t-1])\n",
    "R = f_prime.(dataK, 0.3, 1.) + 1-0.05\n",
    "@NLexpression(m, predictedC[t=1:100], u_crra_prime_inv(sum(Φprime[t, k] * θ[k] for k in 1:length(K)) / R[t], γ));\n",
    "#/ (f_prime(dataK[t], α, A) + 1-δ)"
   ]
  },
  {
   "cell_type": "markdown",
   "metadata": {},
   "source": [
    "The objective is to minimize the sum of squared errors:"
   ]
  },
  {
   "cell_type": "code",
   "execution_count": 961,
   "metadata": {},
   "outputs": [],
   "source": [
    "#+ (β-0.95)^2 + (δ-0.05)^2 + (α-0.3)^2 + (A-1)^2 + (γ-2)^2)\n",
    "@NLobjective(m, Min, sum((dataC[t] - predictedC[t])^2 for t in 1:100) +\n",
    "    sum((dataK[t] - predictedK[t])^2 for t in 2:100))"
   ]
  },
  {
   "cell_type": "code",
   "execution_count": 962,
   "metadata": {
    "scrolled": true
   },
   "outputs": [
    {
     "name": "stdout",
     "output_type": "stream",
     "text": [
      "This is Ipopt version 3.12.1, running with linear solver mumps.\n",
      "NOTE: Other linear solvers might be more efficient (see Ipopt documentation).\n",
      "\n",
      "Number of nonzeros in equality constraint Jacobian...:      600\n",
      "Number of nonzeros in inequality constraint Jacobian.:      288\n",
      "Number of nonzeros in Lagrangian Hessian.............:        0\n",
      "\n",
      "Total number of variables............................:       41\n",
      "                     variables with only lower bounds:       25\n",
      "                variables with lower and upper bounds:        4\n",
      "                     variables with only upper bounds:        0\n",
      "Total number of equality constraints.................:       36\n",
      "Total number of inequality constraints...............:       24\n",
      "        inequality constraints with only lower bounds:       12\n",
      "   inequality constraints with lower and upper bounds:        0\n",
      "        inequality constraints with only upper bounds:       12\n",
      "\n",
      "iter    objective    inf_pr   inf_du lg(mu)  ||d||  lg(rg) alpha_du alpha_pr  ls\n",
      "   0  8.8685841e+00 2.64e+00 1.31e+00  -1.0 0.00e+00    -  0.00e+00 0.00e+00   0\n",
      "   1  4.8439116e-01 1.91e+00 1.00e+02  -1.0 2.02e+00    -  5.02e-01 2.53e-01f  1\n",
      "   2  3.4155922e-01 4.06e-02 1.18e+01  -1.0 1.95e-01    -  7.97e-01 1.00e+00h  1\n",
      "   3  2.3107787e-01 2.88e-02 1.17e+01  -1.0 4.85e-01    -  9.99e-01 1.00e+00h  1\n",
      "   4  3.6025657e-01 1.65e-02 1.41e+01  -1.0 2.39e-01    -  1.00e+00 1.00e+00h  1\n",
      "   5  2.3189239e-01 1.57e-01 1.57e+01  -1.0 2.95e-01    -  1.00e+00 1.00e+00h  1\n",
      "   6  3.4244170e-01 4.62e-02 1.57e+00  -1.0 3.76e-01    -  1.00e+00 1.00e+00h  1\n",
      "   7  4.5196094e-01 5.48e-03 2.15e+00  -1.0 3.18e-01    -  1.00e+00 1.00e+00h  1\n",
      "   8  5.9834526e-01 2.06e-02 9.32e+00  -1.0 3.31e-01    -  1.00e+00 1.00e+00h  1\n",
      "   9  5.1565281e-01 2.58e-03 2.30e+00  -1.0 1.02e-01    -  1.00e+00 1.00e+00h  1\n",
      "iter    objective    inf_pr   inf_du lg(mu)  ||d||  lg(rg) alpha_du alpha_pr  ls\n",
      "  10  5.1813515e-01 2.23e-03 8.62e-01  -1.0 1.04e-01    -  1.00e+00 1.00e+00h  1\n",
      "  11  3.5382829e-02 2.43e-01 5.16e+00  -1.7 9.92e-01    -  7.65e-01 1.00e+00f  1\n",
      "  12  3.9853232e-02 2.66e-03 2.30e+00  -1.7 8.35e-02    -  1.00e+00 1.00e+00h  1\n",
      "  13  8.7242371e-02 1.02e-03 2.45e+00  -1.7 4.01e-01    -  1.00e+00 1.00e+00H  1\n",
      "  14  6.1598367e-02 5.53e-04 9.49e-01  -1.7 1.26e-01    -  1.00e+00 1.00e+00h  1\n",
      "  15  6.4767484e-02 6.40e-04 3.15e-01  -1.7 6.77e-02    -  1.00e+00 1.00e+00h  1\n",
      "  16  5.9953013e-02 3.81e-04 4.86e-01  -1.7 2.20e-02    -  1.00e+00 1.00e+00h  1\n",
      "  17  6.0176490e-02 2.15e-03 7.14e-01  -1.7 1.64e-01    -  1.00e+00 1.00e+00h  1\n",
      "  18  4.0483354e-02 2.09e-04 2.31e+00  -1.7 9.07e-02    -  1.00e+00 1.00e+00H  1\n",
      "  19  5.6943240e-02 1.72e-03 2.47e-01  -1.7 8.96e-02    -  1.00e+00 1.00e+00h  1\n",
      "iter    objective    inf_pr   inf_du lg(mu)  ||d||  lg(rg) alpha_du alpha_pr  ls\n",
      "  20  7.4161242e-02 1.38e-04 6.17e-01  -1.7 7.03e-02    -  1.00e+00 1.00e+00H  1\n",
      "  21  5.9441761e-02 1.44e-03 1.27e-01  -1.7 4.13e-02    -  1.00e+00 1.00e+00h  1\n",
      "  22  3.8454882e-02 4.82e-02 6.61e+00  -2.5 7.63e-01    -  9.82e-01 1.00e+00h  1\n",
      "  23  1.8527340e-02 3.42e-02 2.51e+00  -2.5 1.81e+00    -  3.97e-01 1.22e-01h  3\n",
      "  24  1.7987605e-03 5.58e-02 3.07e-01  -2.5 1.20e+00    -  8.69e-01 5.00e-01h  2\n",
      "  25  9.8288423e-03 3.92e-03 1.60e+00  -2.5 2.97e-01    -  1.00e+00 1.00e+00h  1\n",
      "  26  1.0450151e-02 1.14e-03 5.02e-01  -2.5 2.50e-01    -  1.00e+00 1.00e+00H  1\n",
      "  27  6.8460953e-02 8.84e-04 7.66e+00  -2.5 4.40e-01    -  1.00e+00 1.00e+00H  1\n",
      "  28  3.9053652e-03 1.86e-02 3.24e-01  -2.5 4.84e-01    -  1.00e+00 1.00e+00H  1\n",
      "  29  1.0276887e-02 3.26e-03 7.16e-01  -2.5 5.02e-01    -  1.00e+00 2.50e-01h  3\n",
      "iter    objective    inf_pr   inf_du lg(mu)  ||d||  lg(rg) alpha_du alpha_pr  ls\n",
      "  30  9.6496145e-03 4.75e-03 8.06e-01  -2.5 1.95e-01    -  1.00e+00 1.00e+00h  1\n",
      "  31  5.3103601e-03 5.88e-03 9.21e-01  -2.5 8.60e-01    -  1.00e+00 1.25e-01h  4\n",
      "  32  4.3362846e-03 2.02e-03 6.09e-02  -2.5 5.72e-02    -  1.00e+00 1.00e+00h  1\n",
      "  33  4.6681993e-03 5.63e-05 1.33e+00  -2.5 1.66e-01    -  1.00e+00 1.00e+00H  1\n",
      "  34  4.2913200e-03 1.49e-03 2.80e-02  -2.5 1.32e-01    -  1.00e+00 1.00e+00h  1\n",
      "  35  2.6025979e-03 4.09e-03 5.39e-01  -3.8 2.16e-01    -  1.00e+00 1.00e+00h  1\n",
      "  36  3.0264098e-02 8.47e-04 9.93e-01  -3.8 4.28e-01    -  6.70e-01 1.00e+00H  1\n",
      "  37  1.9663666e-03 6.96e-02 7.63e-02  -3.8 4.62e-01    -  1.00e+00 1.00e+00h  1\n",
      "  38  2.0146403e-03 5.39e-02 4.57e-01  -3.8 3.29e-01    -  1.00e+00 2.50e-01h  3\n",
      "  39  1.9949266e-03 6.39e-04 5.61e-01  -3.8 2.44e-02    -  1.00e+00 1.00e+00h  1\n",
      "iter    objective    inf_pr   inf_du lg(mu)  ||d||  lg(rg) alpha_du alpha_pr  ls\n",
      "  40  3.0357968e-03 7.50e-04 3.76e-01  -3.8 1.16e-01    -  1.00e+00 1.00e+00h  1\n",
      "  41  2.8919749e-03 7.42e-04 3.68e-01  -3.8 4.71e-01    -  1.00e+00 3.12e-02h  6\n",
      "  42  2.8058250e-03 7.26e-04 3.70e-01  -3.8 2.42e-01    -  1.00e+00 1.56e-02h  7\n",
      "  43  1.3078512e-02 5.10e-04 9.32e-01  -3.8 1.17e-01    -  1.00e+00 1.00e+00H  1\n",
      "  44  1.3716256e-03 1.31e-03 2.75e-02  -3.8 3.46e-02    -  1.00e+00 1.00e+00h  1\n",
      "  45  1.3152597e-03 6.53e-05 7.00e-02  -3.8 2.01e-02    -  1.00e+00 1.00e+00h  1\n",
      "  46  1.2991430e-03 9.80e-05 1.88e-02  -3.8 2.56e-01    -  1.00e+00 6.25e-02h  5\n",
      "  47  1.3051928e-03 1.94e-05 4.19e-03  -3.8 1.06e-02    -  1.00e+00 1.00e+00h  1\n",
      "  48  1.3053667e-03 2.14e-09 2.85e-05  -3.8 3.95e-04    -  1.00e+00 1.00e+00h  1\n",
      "  49  1.9862553e-03 7.73e-10 7.03e-03  -5.7 7.32e-02    -  9.97e-01 1.00e+00H  1\n",
      "iter    objective    inf_pr   inf_du lg(mu)  ||d||  lg(rg) alpha_du alpha_pr  ls\n",
      "  50  1.2992849e-03 1.86e-04 7.26e-03  -5.7 6.64e-02    -  1.00e+00 1.00e+00f  1\n",
      "  51  1.3020064e-03 7.28e-05 6.53e-02  -5.7 1.80e-02    -  1.00e+00 1.00e+00h  1\n",
      "  52  1.3394834e-03 1.18e-09 1.46e-03  -5.7 2.98e-02    -  1.00e+00 1.00e+00H  1\n",
      "  53  1.2885859e-03 1.92e-04 1.49e-02  -5.7 3.04e-02    -  1.00e+00 1.00e+00h  1\n",
      "  54  1.2695591e-03 3.25e-04 7.58e-02  -5.7 3.33e-01    -  1.00e+00 5.00e-01h  2\n",
      "  55  1.2585839e-03 4.07e-04 2.65e-02  -5.7 1.01e+02    -  1.99e-01 1.32e-03h  6\n",
      "  56  9.9645238e-04 9.29e-02 3.23e-01  -5.7 1.45e+03    -  3.65e-02 3.49e-03h  3\n",
      "  57  1.0282946e-03 9.28e-02 1.34e-01  -5.7 1.06e+02    -  4.86e-02 2.60e-03h  8\n",
      "  58  8.5921225e-04 2.63e-02 1.54e-01  -5.7 2.30e+00    -  9.93e-01 1.00e+00h  1\n",
      "  59  7.9011961e-04 4.76e-04 5.17e-02  -5.7 8.80e-01    -  1.00e+00 1.00e+00h  1\n",
      "iter    objective    inf_pr   inf_du lg(mu)  ||d||  lg(rg) alpha_du alpha_pr  ls\n",
      "  60  7.7212503e-04 1.16e-03 1.24e-01  -5.7 3.40e+03    -  7.16e-03 1.72e-04h  7\n",
      "  61  7.7195432e-04 1.16e-03 1.06e-01  -5.7 3.71e+02    -  4.05e-02 8.87e-05h 11\n",
      "  62  7.6486786e-04 7.42e-03 1.28e-01  -5.7 7.29e+02    -  6.09e-02 1.98e-03h  4\n",
      "  63  7.6352972e-04 7.51e-03 9.81e-02  -5.7 2.98e+03    -  9.07e-03 7.03e-05h  8\n",
      "  64  7.4143257e-04 5.61e-04 5.02e-02  -5.7 3.29e-01    -  1.00e+00 1.00e+00h  1\n",
      "  65  7.3772804e-04 3.31e-05 7.45e-04  -5.7 1.27e-01    -  1.00e+00 1.00e+00h  1\n",
      "  66  7.3766937e-04 4.99e-05 1.13e-03  -5.7 2.98e+01    -  1.00e+00 2.92e-03h  9\n",
      "  67  7.3763810e-04 5.12e-05 1.68e-03  -5.7 5.14e+00    -  1.00e+00 3.91e-03h  9\n",
      "  68  7.3765455e-04 5.12e-05 5.20e-04  -5.7 1.54e+00    -  1.00e+00 4.88e-04h 12\n",
      "  69  7.3776576e-04 1.42e-06 3.44e-03  -5.7 2.69e-02    -  1.00e+00 1.00e+00h  1\n",
      "iter    objective    inf_pr   inf_du lg(mu)  ||d||  lg(rg) alpha_du alpha_pr  ls\n",
      "  70  7.3777367e-04 5.97e-06 1.26e-03  -5.7 2.18e+01    -  6.10e-01 1.95e-03h 10\n",
      "  71  7.3767864e-04 1.55e-05 1.65e-03  -5.7 8.46e-02    -  1.00e+00 1.00e+00h  1\n",
      "  72  7.3767922e-04 1.55e-05 2.30e-03  -5.7 8.84e+00    -  1.00e+00 2.44e-04h 13\n",
      "  73  7.3768151e-04 1.69e-05 1.09e-03  -5.7 2.61e+01    -  1.00e+00 9.77e-04h 11\n",
      "  74  7.3768533e-04 1.70e-05 7.79e-04  -5.7 5.21e+00    -  1.00e+00 9.77e-04h 11\n",
      "  75  7.4903052e-04 1.83e-07 4.39e-02  -5.7 1.17e-01    -  1.00e+00 1.00e+00H  1\n",
      "  76  8.2812400e-04 1.04e-07 1.63e-02  -5.7 1.98e+00    -  1.00e+00 1.00e+00H  1\n",
      "  77  8.2790047e-04 1.25e-07 1.63e-02  -5.7 2.48e+03    -  1.26e-02 1.27e-06h 14\n",
      "  78  8.2780836e-04 1.45e-07 1.63e-02  -5.7 5.93e+00    -  1.00e+00 4.88e-04h 12\n",
      "  79  8.2757814e-04 1.52e-07 1.62e-02  -5.7 1.69e+03    -  8.92e-03 8.96e-07h 16\n",
      "iter    objective    inf_pr   inf_du lg(mu)  ||d||  lg(rg) alpha_du alpha_pr  ls\n",
      "  80  8.2720498e-04 1.58e-07 1.62e-02  -5.7 7.53e+02    -  5.18e-02 1.73e-06h 14\n",
      "  81  8.2718012e-04 1.69e-07 1.61e-02  -5.7 1.42e+02    -  8.11e-02 1.00e-05h 15\n",
      "  82  8.1609260e-04 3.31e-02 9.49e-02  -5.7 3.28e+00    -  1.00e+00 1.00e+00h  1\n",
      "  83  8.1718331e-04 3.31e-02 1.27e-01  -5.7 1.49e+02    -  2.92e-01 4.68e-04h  7\n",
      "  84  7.3517119e-04 1.59e-02 4.44e-02  -5.7 2.16e+00    -  9.51e-01 1.00e+00h  1\n",
      "  85  7.3392073e-04 1.61e-02 3.88e-02  -5.7 3.32e+02    -  1.72e-01 1.02e-03h  7\n",
      "  86  7.3260895e-04 1.62e-02 3.37e-03  -5.7 3.72e+02    -  5.70e-02 5.61e-04h  9\n",
      "  87  7.3282927e-04 1.61e-02 1.22e-02  -5.7 1.13e+01    -  1.00e+00 1.64e-02h  6\n",
      "  88  7.9928022e-04 1.68e-04 1.62e-01  -5.7 8.38e-02    -  1.00e+00 1.00e+00h  1\n",
      "  89  7.4028629e-04 1.23e-04 8.18e-03  -5.7 1.82e-01    -  1.00e+00 1.00e+00h  1\n",
      "iter    objective    inf_pr   inf_du lg(mu)  ||d||  lg(rg) alpha_du alpha_pr  ls\n",
      "  90  7.3940235e-04 5.17e-04 1.55e-02  -5.7 4.04e+02    -  1.79e-01 1.09e-03h  7\n",
      "  91  8.9112985e-04 1.19e-07 1.32e-01  -5.7 3.40e+00    -  1.00e+00 1.00e+00H  1\n",
      "  92  8.9032544e-04 6.27e-08 3.73e-03  -5.7 2.89e+00  -4.0 3.70e-01 6.05e-05h 13\n",
      "  93  7.5015911e-04 1.16e-04 5.42e-02  -5.7 1.28e+00    -  1.00e+00 1.00e+00H  1\n",
      "  94  7.4967735e-04 1.23e-04 5.61e-02  -5.7 5.99e+02    -  1.12e-01 9.73e-05h 10\n",
      "  95  7.4905953e-04 1.28e-04 5.72e-02  -5.7 1.21e+02    -  4.91e-01 3.41e-04h  9\n",
      "  96  7.4902428e-04 1.29e-04 5.08e-02  -5.7 3.33e+01    -  4.34e-01 7.88e-04h 11\n",
      "  97  7.4591808e-04 7.21e-03 7.48e-02  -5.7 3.16e+01    -  1.00e+00 5.10e-02h  4\n",
      "  98  7.4466202e-03 5.73e-05 2.97e-01  -5.7 1.93e+00    -  9.52e-01 1.00e+00H  1\n",
      "  99  7.2446900e-03 8.56e-05 2.92e-01  -5.7 7.59e+00    -  1.00e+00 1.56e-02h  7\n",
      "iter    objective    inf_pr   inf_du lg(mu)  ||d||  lg(rg) alpha_du alpha_pr  ls\n",
      " 100  7.2273483e-03 1.08e-04 2.92e-01  -5.7 3.12e+03    -  5.69e-03 3.06e-05h 10\n",
      " 101  7.2114347e-03 1.30e-04 2.92e-01  -5.7 6.01e+03    -  3.64e-03 1.58e-05h 10\n",
      " 102  7.2094139e-03 1.30e-04 2.92e-01  -5.7 5.99e+03    -  5.77e-03 1.96e-06h 13\n",
      " 103  7.7787006e-03 5.23e-05 2.47e+00  -5.7 3.33e-02    -  1.00e+00 1.00e+00H  1\n",
      " 104  3.3799014e-03 2.96e-04 2.43e+00  -5.7 4.09e-02    -  1.00e+00 1.00e+00h  1\n",
      " 105  1.3912212e-03 2.25e-04 3.24e-01  -5.7 2.38e-02    -  1.00e+00 1.00e+00h  1\n",
      " 106  1.2123443e-03 4.19e-06 8.14e-03  -5.7 8.25e-03    -  1.00e+00 1.00e+00h  1\n",
      " 107  8.9189431e-04 1.96e-04 2.10e-01  -5.7 4.95e-02    -  1.00e+00 1.00e+00h  1\n",
      " 108  1.0753859e-03 9.09e-05 2.97e-01  -5.7 2.19e-02    -  1.00e+00 1.00e+00h  1\n",
      " 109  7.5146909e-04 3.14e-05 8.86e-03  -5.7 2.36e-02    -  1.00e+00 1.00e+00h  1\n",
      "iter    objective    inf_pr   inf_du lg(mu)  ||d||  lg(rg) alpha_du alpha_pr  ls\n",
      " 110  7.5165432e-04 3.03e-08 3.60e-05  -5.7 5.58e-04    -  1.00e+00 1.00e+00h  1\n",
      " 111  7.5146043e-04 3.17e-07 1.71e-03  -5.7 9.88e-04    -  1.00e+00 1.00e+00h  1\n",
      " 112  7.5480948e-04 3.63e-09 1.13e-03  -5.7 3.27e-03    -  1.00e+00 1.00e+00H  1\n",
      " 113  7.5124446e-04 2.60e-07 3.41e-03  -5.7 8.03e-04    -  1.00e+00 1.00e+00h  1\n",
      " 114  7.5123432e-04 1.25e-07 5.40e-04  -5.7 7.14e-04    -  1.00e+00 1.00e+00h  1\n",
      " 115  7.5124362e-04 2.80e-08 6.17e-05  -5.7 1.11e-04    -  1.00e+00 1.00e+00h  1\n",
      " 116  7.5123475e-04 3.25e-09 1.39e-05  -5.7 3.73e-05    -  1.00e+00 1.00e+00h  1\n",
      " 117  7.5123126e-04 6.38e-09 2.00e-06  -8.6 2.17e-04    -  1.00e+00 1.00e+00h  1\n",
      " 118  7.5123656e-04 2.44e-11 8.41e-06  -8.6 2.06e-04    -  1.00e+00 1.00e+00H  1\n",
      " 119  7.5123074e-04 4.97e-08 1.90e-06  -8.6 2.14e-04    -  1.00e+00 1.00e+00h  1\n",
      "iter    objective    inf_pr   inf_du lg(mu)  ||d||  lg(rg) alpha_du alpha_pr  ls\n",
      " 120  7.5123083e-04 4.66e-08 6.68e-06  -8.6 1.21e-04    -  1.00e+00 6.25e-02h  5\n",
      " 121  7.5123070e-04 3.87e-11 1.04e-06  -8.6 4.81e-06    -  1.00e+00 1.00e+00h  1\n",
      " 122  7.5123065e-04 1.05e-12 1.20e-06  -8.6 2.61e-06    -  1.00e+00 1.00e+00h  1\n",
      " 123  7.5122968e-04 6.11e-11 1.09e-05  -8.6 5.53e-05    -  1.00e+00 1.00e+00h  1\n",
      " 124  7.5122951e-04 1.79e-10 7.11e-06  -8.6 2.66e-02    -  1.00e+00 9.77e-04h 11\n",
      " 125  7.5122561e-04 6.87e-10 2.97e-05  -8.6 2.59e-04    -  1.00e+00 1.00e+00h  1\n",
      " 126  7.5439474e-04 2.46e-14 2.27e-04  -8.6 5.94e-03    -  1.00e+00 1.00e+00H  1\n",
      " 127  7.5120967e-04 2.17e-06 3.22e-03  -8.6 4.95e-03    -  1.00e+00 1.00e+00f  1\n",
      " 128  7.5116654e-04 6.74e-07 8.18e-04  -8.6 3.49e-03    -  1.00e+00 1.00e+00h  1\n",
      " 129  7.3537360e-04 5.19e-03 2.19e-02  -8.6 1.40e+00    -  1.00e+00 1.00e+00h  1\n",
      "iter    objective    inf_pr   inf_du lg(mu)  ||d||  lg(rg) alpha_du alpha_pr  ls\n",
      " 130  7.3512044e-04 5.20e-03 1.15e-02  -8.6 5.39e+03    -  1.09e-02 1.06e-05h 10\n",
      " 131  7.3563943e-04 5.18e-03 2.84e-02  -8.6 1.28e+01    -  1.00e+00 4.95e-03h  8\n",
      " 132  7.5074417e-04 5.18e-03 3.36e-02  -8.6 1.57e+01    -  1.00e+00 5.91e-03h  6\n",
      " 133  7.3725740e-04 3.04e-04 2.21e-04  -8.6 2.56e-01    -  9.85e-01 1.00e+00h  1\n",
      " 134  7.4080375e-04 1.28e-04 1.18e-02  -8.6 2.65e-01    -  1.00e+00 1.00e+00h  1\n",
      " 135  7.4079815e-04 1.54e-04 1.01e-02  -8.6 3.00e+02    -  4.33e-02 3.35e-04h 10\n",
      " 136  7.4079719e-04 1.54e-04 9.67e-03  -8.6 2.31e+02    -  1.05e-01 1.45e-05h 15\n",
      " 137  7.4077758e-04 1.54e-04 1.17e-02  -8.6 2.24e+01    -  1.00e+00 4.88e-04h 12\n",
      " 138  7.4077992e-04 1.54e-04 1.32e-02  -8.6 1.71e+01    -  9.62e-01 1.22e-04h 14\n",
      " 139  7.4104828e-04 1.23e-05 1.26e-02  -8.6 6.70e-01    -  1.00e+00 1.00e+00H  1\n",
      "iter    objective    inf_pr   inf_du lg(mu)  ||d||  lg(rg) alpha_du alpha_pr  ls\n",
      " 140  7.3801097e-04 8.72e-06 4.29e-04  -8.6 5.55e-01    -  1.00e+00 1.00e+00H  1\n",
      " 141  7.3766771e-04 5.57e-05 1.54e-03  -8.6 2.76e+02    -  1.65e-01 5.30e-04h  7\n",
      " 142  7.3774994e-04 5.53e-05 7.14e-03  -8.6 4.62e-01    -  1.00e+00 7.81e-03h  8\n",
      " 143  7.3774974e-04 5.53e-05 6.80e-03  -8.6 7.98e+00    -  1.00e+00 2.44e-04h 13\n",
      " 144  7.3774972e-04 5.53e-05 6.78e-03  -8.6 3.53e+01    -  1.58e-01 7.63e-06h 18\n",
      " 145  7.3890001e-04 2.66e-07 6.38e-03  -8.6 2.22e-01    -  1.00e+00 1.00e+00H  1\n",
      " 146  7.3872164e-04 3.13e-06 4.28e-03  -8.6 5.92e-01    -  1.00e+00 6.25e-02h  5\n",
      " 147  7.3870621e-04 4.54e-06 4.39e-03  -8.6 1.44e+02    -  3.50e-01 1.60e-04h 10\n",
      " 148  7.3769054e-04 4.83e-05 3.62e-04  -8.6 3.11e+02    -  9.93e-02 4.98e-04h 10\n",
      " 149  7.3768845e-04 4.86e-05 1.85e-03  -8.6 6.40e+00    -  7.99e-01 1.95e-03h 10\n",
      "iter    objective    inf_pr   inf_du lg(mu)  ||d||  lg(rg) alpha_du alpha_pr  ls\n",
      " 150  7.3790958e-04 3.79e-05 1.48e-03  -8.6 8.48e-02    -  1.00e+00 2.50e-01h  3\n",
      " 151  7.3789169e-04 3.81e-05 2.55e-03  -8.6 3.79e+00    -  1.00e+00 3.91e-03h  9\n",
      " 152  7.3788945e-04 2.99e-05 3.79e-03  -8.6 3.97e-02    -  1.00e+00 2.50e-01h  3\n",
      " 153  7.3778378e-04 3.68e-05 5.97e-03  -8.6 2.62e+01    -  3.78e-01 1.95e-03h 10\n",
      " 154  7.3778348e-04 3.88e-05 6.08e-03  -8.6 3.78e+02    -  1.37e-01 7.45e-05h 10\n",
      " 155  7.3778175e-04 4.50e-05 1.57e-03  -8.6 2.07e+03    -  1.98e-02 2.73e-05h 10\n",
      " 156  7.4083182e-04 2.37e-05 3.41e-03  -8.6 5.72e-02    -  1.00e+00 1.00e+00w  1\n",
      " 157  7.3767732e-04 2.71e-05 1.88e-03  -8.6 1.06e-01    -  1.00e+00 1.00e+00h  1\n",
      " 158  7.3767316e-04 2.72e-05 6.96e-05  -8.6 8.23e+04    -  7.92e-04 7.52e-08h 13\n",
      " 159  7.3767660e-04 2.71e-05 8.34e-04  -8.6 7.77e-01    -  1.00e+00 1.56e-02h  7\n",
      "iter    objective    inf_pr   inf_du lg(mu)  ||d||  lg(rg) alpha_du alpha_pr  ls\n",
      " 160r 7.3767660e-04 2.71e-05 9.99e+02  -4.6 0.00e+00    -  0.00e+00 9.94e-08R 21\n",
      " 161r 7.3765851e-04 1.09e-06 4.21e-03  -4.6 2.71e-02    -  1.00e+00 9.90e-04f  1\n",
      " 162  7.3766527e-04 2.29e-07 1.72e-04  -8.6 1.01e-02    -  1.00e+00 1.00e+00h  1\n",
      " 163  7.9116832e-04 1.03e-13 1.45e-03  -8.6 1.62e-02  -4.5 1.00e+00 1.00e+00H  1\n",
      " 164  7.3769285e-04 9.26e-10 1.60e-05  -8.6 6.43e-02    -  1.00e+00 1.00e+00F  1\n",
      " 165  7.3768826e-04 1.21e-07 5.81e-05  -8.6 7.50e+00    -  1.00e+00 9.77e-04h 11\n",
      " 166  7.3768822e-04 1.21e-07 7.20e-04  -8.6 2.16e-01  -5.0 1.00e+00 1.22e-04h 14\n",
      " 167  7.3767139e-04 2.25e-08 7.12e-06  -8.6 4.19e-02    -  1.00e+00 1.00e+00H  1\n",
      " 168  7.3766537e-04 1.40e-07 1.50e-04  -8.6 1.29e+03    -  3.22e-03 4.11e-06h 13\n",
      " 169  7.3766541e-04 1.40e-07 1.23e-04  -8.6 6.41e-02    -  1.00e+00 2.44e-04h 13\n",
      "iter    objective    inf_pr   inf_du lg(mu)  ||d||  lg(rg) alpha_du alpha_pr  ls\n",
      " 170  7.3766531e-04 1.71e-08 3.60e-08  -8.6 2.23e-03    -  1.00e+00 1.00e+00h  1\n",
      "\n",
      "Number of Iterations....: 170\n",
      "\n",
      "                                   (scaled)                 (unscaled)\n",
      "Objective...............:   2.9884286911902453e-04    7.3766530598497030e-04\n",
      "Dual infeasibility......:   3.6043811674584462e-08    8.8970733838080280e-08\n",
      "Constraint violation....:   1.7118676254312959e-08    1.7118676254312959e-08\n",
      "Complementarity.........:   2.5059036400604784e-09    6.1855856921177771e-09\n",
      "Overall NLP error.......:   3.6043811674584462e-08    8.8970733838080280e-08\n",
      "\n",
      "\n",
      "Number of objective function evaluations             = 1012\n",
      "Number of objective gradient evaluations             = 172\n",
      "Number of equality constraint evaluations            = 1031\n",
      "Number of inequality constraint evaluations          = 1031\n",
      "Number of equality constraint Jacobian evaluations   = 173\n",
      "Number of inequality constraint Jacobian evaluations = 173\n",
      "Number of Lagrangian Hessian evaluations             = 0\n",
      "Total CPU secs in IPOPT (w/o function evaluations)   =      0.380\n",
      "Total CPU secs in NLP function evaluations           =      1.344\n",
      "\n",
      "EXIT: Solved To Acceptable Level.\n"
     ]
    },
    {
     "data": {
      "text/plain": [
       ":Optimal"
      ]
     },
     "execution_count": 962,
     "metadata": {},
     "output_type": "execute_result"
    }
   ],
   "source": [
    "solve(m)"
   ]
  },
  {
   "cell_type": "code",
   "execution_count": 963,
   "metadata": {
    "scrolled": true
   },
   "outputs": [
    {
     "data": {
      "text/plain": [
       "(0.9461969360367629, 0.03388158737253169, 0.2744848504960561, 0.9912239612819828, 1.7113672992941298)"
      ]
     },
     "execution_count": 963,
     "metadata": {},
     "output_type": "execute_result"
    }
   ],
   "source": [
    "getvalue(β), getvalue(δ), getvalue(α), getvalue(A), getvalue(γ)"
   ]
  },
  {
   "cell_type": "code",
   "execution_count": 964,
   "metadata": {},
   "outputs": [
    {
     "data": {
      "text/html": [
       "<img src=\"data:image/png;base64,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\" />"
      ]
     },
     "execution_count": 964,
     "metadata": {},
     "output_type": "execute_result"
    }
   ],
   "source": [
    "plot(nodes(Basis(ChebParams(10, 0.2*k_stst, 2*k_stst)))[1], [0.731039, 0.830067, 0.984055, 1.15697 , 1.32812 , 1.48555 , 1.62093 , 1.72778 , 1.80161 , 1.8393], label=\"True Policy Fucntion\")\n",
    "plot!(K, u_crra_prime_inv.((Ψprime * getvalue(θ))./(f_prime.(f.(K, getvalue(α), getvalue(A)) + (1-getvalue(δ))*K - \n",
    "            u_crra_prime_inv.((Ψprime * getvalue(θ)) ./ (f_prime.(K, getvalue(α), getvalue(A)) + 1-getvalue(δ)), getvalue(γ)), getvalue(α), getvalue(A)) + 1-getvalue(δ)), getvalue(γ)), label=\"Estimated Policy Function\")\n",
    "#plot!(K, getvalue(modelC), label=\"Estimated Policy Function\")"
   ]
  },
  {
   "cell_type": "code",
   "execution_count": 965,
   "metadata": {},
   "outputs": [
    {
     "data": {
      "text/html": [
       "<img src=\"data:image/png;base64,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\" />"
      ]
     },
     "execution_count": 965,
     "metadata": {},
     "output_type": "execute_result"
    }
   ],
   "source": [
    "plot(K, u_crra_prime_inv.((Ψprime * getvalue(θ))./(f_prime.(f.(K, getvalue(α), getvalue(A)) + (1-getvalue(δ))*K - \n",
    "            u_crra_prime_inv.((Ψprime * getvalue(θ)) ./ (f_prime.(K, getvalue(α), getvalue(A)) + 1-getvalue(δ)), getvalue(γ)), getvalue(α), getvalue(A)) + 1-getvalue(δ)), getvalue(γ)))\n",
    "plot!(K, Ψprime * getvalue(θ))"
   ]
  },
  {
   "cell_type": "code",
   "execution_count": 966,
   "metadata": {},
   "outputs": [
    {
     "data": {
      "text/html": [
       "0"
      ],
      "text/plain": [
       "0"
      ]
     },
     "execution_count": 966,
     "metadata": {},
     "output_type": "execute_result"
    }
   ],
   "source": [
    "sum(u_crra_prime_inv.(Φprime * getvalue(θ), getvalue(γ)) .< 0)"
   ]
  },
  {
   "cell_type": "code",
   "execution_count": 967,
   "metadata": {},
   "outputs": [
    {
     "data": {
      "text/plain": [
       "12-element Array{Float64,1}:\n",
       " 2.22097 \n",
       " 1.80026 \n",
       " 1.29611 \n",
       " 0.948194\n",
       " 0.746321\n",
       " 0.627885\n",
       " 0.53607 \n",
       " 0.470986\n",
       " 0.420371\n",
       " 0.37983 \n",
       " 0.356983\n",
       " 0.346619"
      ]
     },
     "execution_count": 967,
     "metadata": {},
     "output_type": "execute_result"
    }
   ],
   "source": [
    "Ψprime * getvalue(θ)"
   ]
  },
  {
   "cell_type": "code",
   "execution_count": 968,
   "metadata": {},
   "outputs": [
    {
     "data": {
      "text/plain": [
       "12-element Array{Float64,1}:\n",
       " 0.716   \n",
       " 0.788849\n",
       " 0.927814\n",
       " 1.08821 \n",
       " 1.23522 \n",
       " 1.3547  \n",
       " 1.47666 \n",
       " 1.58528 \n",
       " 1.68797 \n",
       " 1.78572 \n",
       " 1.84852 \n",
       " 1.87917 "
      ]
     },
     "execution_count": 968,
     "metadata": {},
     "output_type": "execute_result"
    }
   ],
   "source": [
    "getvalue(modelC)"
   ]
  },
  {
   "cell_type": "code",
   "execution_count": 969,
   "metadata": {},
   "outputs": [
    {
     "data": {
      "text/plain": [
       "12-element Array{Float64,1}:\n",
       " 1.1489 \n",
       " 1.45393\n",
       " 2.03489\n",
       " 2.90711\n",
       " 3.76233\n",
       " 4.62697\n",
       " 5.4769 \n",
       " 6.33131\n",
       " 7.18485\n",
       " 8.03796\n",
       " 8.60658\n",
       " 8.89099"
      ]
     },
     "execution_count": 969,
     "metadata": {},
     "output_type": "execute_result"
    }
   ],
   "source": [
    "getvalue(modelKprime)"
   ]
  },
  {
   "cell_type": "code",
   "execution_count": null,
   "metadata": {},
   "outputs": [],
   "source": []
  },
  {
   "cell_type": "code",
   "execution_count": null,
   "metadata": {},
   "outputs": [],
   "source": []
  },
  {
   "cell_type": "code",
   "execution_count": null,
   "metadata": {},
   "outputs": [],
   "source": []
  },
  {
   "cell_type": "code",
   "execution_count": null,
   "metadata": {},
   "outputs": [],
   "source": []
  },
  {
   "cell_type": "code",
   "execution_count": null,
   "metadata": {},
   "outputs": [],
   "source": []
  },
  {
   "cell_type": "code",
   "execution_count": null,
   "metadata": {},
   "outputs": [],
   "source": []
  },
  {
   "cell_type": "code",
   "execution_count": null,
   "metadata": {},
   "outputs": [],
   "source": []
  },
  {
   "cell_type": "code",
   "execution_count": null,
   "metadata": {},
   "outputs": [],
   "source": []
  },
  {
   "cell_type": "code",
   "execution_count": null,
   "metadata": {},
   "outputs": [],
   "source": []
  },
  {
   "cell_type": "code",
   "execution_count": null,
   "metadata": {},
   "outputs": [],
   "source": []
  }
 ],
 "metadata": {
  "kernelspec": {
   "display_name": "Julia 0.6.0",
   "language": "julia",
   "name": "julia-0.6"
  },
  "language_info": {
   "file_extension": ".jl",
   "mimetype": "application/julia",
   "name": "julia",
   "version": "0.6.0"
  }
 },
 "nbformat": 4,
 "nbformat_minor": 2
}
