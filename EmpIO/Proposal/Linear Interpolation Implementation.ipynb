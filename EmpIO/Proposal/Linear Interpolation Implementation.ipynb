{
 "cells": [
  {
   "cell_type": "markdown",
   "metadata": {},
   "source": [
    "In this exercise I solve a deterministic growth model using simulated data generated from an economy with parameters $\\beta = 0.95$, $\\alpha = 0.3$, $A = 1.0$, $\\delta = 0.05$, $\\gamma = 2.0$. I initiate the variables of the mathematical program at the true values, which should make the optimization easy."
   ]
  },
  {
   "cell_type": "code",
   "execution_count": 1,
   "metadata": {
    "scrolled": false
   },
   "outputs": [
    {
     "name": "stderr",
     "output_type": "stream",
     "text": [
      "WARNING: Method definition ==(Base.Nullable{S}, Base.Nullable{T}) in module Base at nullable.jl:238 overwritten in module NullableArrays at /home/juser/.julia/v0.6/NullableArrays/src/operators.jl:99.\n",
      "WARNING: Compat.AsyncCondition is deprecated, use Base.AsyncCondition instead.\n",
      "  likely near In[1]:2\n",
      "WARNING: Compat.AsyncCondition is deprecated, use Base.AsyncCondition instead.\n",
      "  likely near In[1]:2\n"
     ]
    },
    {
     "data": {
      "text/html": [
       "<img src=\"data:image/png;base64,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\" />"
      ]
     },
     "execution_count": 1,
     "metadata": {},
     "output_type": "execute_result"
    }
   ],
   "source": [
    "using CSV\n",
    "using Plots; pyplot()\n",
    "\n",
    "df = CSV.read(\"data.csv\"; header=false, types=[Float64, Float64])\n",
    "dataK = convert(Vector{Float64}, df[1])\n",
    "dataC = convert(Vector{Float64}, df[2])\n",
    "\n",
    "plot(dataK, label=\"capital\")\n",
    "plot!(dataC, label=\"consumption\")"
   ]
  },
  {
   "cell_type": "markdown",
   "metadata": {},
   "source": [
    "The economy's steady state for capital is:"
   ]
  },
  {
   "cell_type": "code",
   "execution_count": 2,
   "metadata": {},
   "outputs": [],
   "source": [
    "k_stst = 4.628988089138438;"
   ]
  },
  {
   "cell_type": "markdown",
   "metadata": {},
   "source": [
    "# The Mathematical Program\n",
    "I define the needed function related to utility and production:"
   ]
  },
  {
   "cell_type": "code",
   "execution_count": 29,
   "metadata": {},
   "outputs": [
    {
     "data": {
      "text/plain": [
       "f_prime (generic function with 1 method)"
      ]
     },
     "execution_count": 29,
     "metadata": {},
     "output_type": "execute_result"
    }
   ],
   "source": [
    "u_crra_prime(c, γ) = begin\n",
    "    if (c <= 0)\n",
    "        return -1000000.\n",
    "        else\n",
    "        return c^-γ\n",
    "    end\n",
    "end\n",
    "\n",
    "u_crra_prime_inv(u, γ) = begin\n",
    "    if (u <= 0)\n",
    "        return +1000000.\n",
    "    else\n",
    "        return u^(-1/γ) \n",
    "    end\n",
    "end\n",
    "\n",
    "function f(k, α, A)\n",
    "    if (k <= 0)\n",
    "        return zero(k)\n",
    "    else\n",
    "        A*k^α\n",
    "    end\n",
    "end\n",
    "\n",
    "function f_prime(k, α, A)\n",
    "    if (k <= 0)\n",
    "        return zero(k)\n",
    "    else\n",
    "        A*α*k^(α-1)\n",
    "    end\n",
    "end"
   ]
  },
  {
   "cell_type": "markdown",
   "metadata": {},
   "source": [
    "I use the Julia Mathematical Programming languange JuMP and the IpOpt solver:"
   ]
  },
  {
   "cell_type": "code",
   "execution_count": 30,
   "metadata": {},
   "outputs": [],
   "source": [
    "using JuMP\n",
    "using Ipopt\n",
    "\n",
    "m = Model(solver=IpoptSolver(print_level=3, max_iter=500));"
   ]
  },
  {
   "cell_type": "markdown",
   "metadata": {},
   "source": [
    "I define the deep parameters variables and give the the correct starting values:"
   ]
  },
  {
   "cell_type": "code",
   "execution_count": 31,
   "metadata": {},
   "outputs": [],
   "source": [
    "@variable(m, 0 <= β <= 1, start = 0.95)\n",
    "@variable(m, 0 <= δ <= 1, start = 0.05)\n",
    "@variable(m, 0 <= α <= 1, start = 0.3)\n",
    "@variable(m, A >= 0, start = 1)\n",
    "@variable(m, γ >= 0, start = 2);"
   ]
  },
  {
   "cell_type": "markdown",
   "metadata": {},
   "source": [
    "The policy function is approximated piece-wise linearly on a grid around the steady state for capital, the value at the grid points are $\\theta$:"
   ]
  },
  {
   "cell_type": "code",
   "execution_count": 32,
   "metadata": {},
   "outputs": [],
   "source": [
    "@variable(m, θ[1:10] >= 0, start = 0);"
   ]
  },
  {
   "cell_type": "markdown",
   "metadata": {},
   "source": [
    "I define a grid on capital, $K$, with 10 nodes:"
   ]
  },
  {
   "cell_type": "code",
   "execution_count": 33,
   "metadata": {},
   "outputs": [
    {
     "data": {
      "text/plain": [
       "interp2 (generic function with 1 method)"
      ]
     },
     "execution_count": 33,
     "metadata": {},
     "output_type": "execute_result"
    }
   ],
   "source": [
    "using BasisMatrices\n",
    "params = LinParams(10, 0.2*k_stst, 2*k_stst)\n",
    "basis = Basis(params)\n",
    "K = nodes(basis)[1]\n",
    "\n",
    "function interp2(x, values...) #x is the point of evaluation, values are on the grid\n",
    "    params = LinParams(10, 0.2*k_stst, 2*k_stst)\n",
    "    return (evalbase(params, x) * collect(values))[1]\n",
    "end"
   ]
  },
  {
   "cell_type": "markdown",
   "metadata": {},
   "source": [
    "I define auxiliary variables for model predictions of capital and consumption:"
   ]
  },
  {
   "cell_type": "code",
   "execution_count": 34,
   "metadata": {},
   "outputs": [],
   "source": [
    "@variable(m, modelCprime[i=1:10], start = 1)\n",
    "@variable(m, modelKprime[i=1:10], start = 1);"
   ]
  },
  {
   "cell_type": "markdown",
   "metadata": {},
   "source": [
    "I register all user-defined functions with JuMP for automatic differentiation:"
   ]
  },
  {
   "cell_type": "code",
   "execution_count": 35,
   "metadata": {},
   "outputs": [],
   "source": [
    "JuMP.register(m, :interp2, 11, interp2, autodiff=true)\n",
    "JuMP.register(m, :u_crra_prime, 2, u_crra_prime, autodiff=true)\n",
    "JuMP.register(m, :f, 3, f, autodiff=true)\n",
    "JuMP.register(m, :f_prime, 3, f_prime, autodiff=true)\n",
    "JuMP.register(m, :u_crra_prime_inv, 2, u_crra_prime_inv, autodiff=true)"
   ]
  },
  {
   "cell_type": "markdown",
   "metadata": {},
   "source": [
    "The auxiliary and equilibrium constraints are all defined on the grid with 10 nodes, I also impose that the policy function must be increasing:"
   ]
  },
  {
   "cell_type": "code",
   "execution_count": 36,
   "metadata": {},
   "outputs": [],
   "source": [
    "@NLconstraint(m, capi_tomor[i=1:10], modelKprime[i] == f(K[i], α, A) + (1-δ)*K[i] - θ[i]) \n",
    "@NLconstraint(m, cons_tomor[i=1:10], modelCprime[i] == interp2(modelKprime[i], θ[1], θ[2], θ[3], θ[4], θ[5], θ[6],θ[7], θ[8], θ[9], θ[10]))\n",
    "\n",
    "@NLconstraint(m, EE[i=1:10], θ[i] == u_crra_prime_inv(\n",
    "    β * u_crra_prime(modelCprime[i], γ) * (f_prime(modelKprime[i], α, A) + 1-δ), γ));\n",
    "\n",
    "@constraint(m, increasing[i=2:10], θ[i-1] <= θ[i]);"
   ]
  },
  {
   "cell_type": "markdown",
   "metadata": {},
   "source": [
    "I define auxiliary expressions for the predictions of the equilibrium conditions:"
   ]
  },
  {
   "cell_type": "code",
   "execution_count": 37,
   "metadata": {},
   "outputs": [],
   "source": [
    "@NLexpression(m, predictedK[t=2:100], f(dataK[t-1], α, A) + (1-δ)*dataK[t-1] - dataC[t-1])\n",
    "@NLexpression(m, predictedC[t=1:100], interp2(dataK[t], θ[1], θ[2], θ[3], θ[4], θ[5], θ[6],θ[7], θ[8], θ[9], θ[10]));"
   ]
  },
  {
   "cell_type": "markdown",
   "metadata": {},
   "source": [
    "The objective is to minimize the sum of squared errors:"
   ]
  },
  {
   "cell_type": "code",
   "execution_count": 38,
   "metadata": {},
   "outputs": [],
   "source": [
    "@NLobjective(m, Min, sum((dataC[t] - predictedC[t])^2 for t in 1:100) +\n",
    "    sum((dataK[t] - predictedK[t])^2 for t in 2:100))"
   ]
  },
  {
   "cell_type": "code",
   "execution_count": 39,
   "metadata": {
    "scrolled": false
   },
   "outputs": [
    {
     "name": "stdout",
     "output_type": "stream",
     "text": [
      "Total number of variables............................:       35\n",
      "                     variables with only lower bounds:       12\n",
      "                variables with lower and upper bounds:        3\n",
      "                     variables with only upper bounds:        0\n",
      "Total number of equality constraints.................:       30\n",
      "Total number of inequality constraints...............:        9\n",
      "        inequality constraints with only lower bounds:        0\n",
      "   inequality constraints with lower and upper bounds:        0\n",
      "        inequality constraints with only upper bounds:        9\n",
      "\n",
      "\n",
      "Number of Iterations....: 500\n",
      "\n",
      "                                   (scaled)                 (unscaled)\n",
      "Objective...............:   2.2346041001283846e-04    3.9999348031779581e-04\n",
      "Dual infeasibility......:   1.2883771855368706e-01    2.3061913937029446e-01\n",
      "Constraint violation....:   2.8825839670787445e-07    2.8825839670787445e-07\n",
      "Complementarity.........:   1.4151354175473349e-11    2.5330882582432151e-11\n",
      "Overall NLP error.......:   1.2883771855368706e-01    2.3061913937029446e-01\n",
      "\n",
      "\n",
      "Number of objective function evaluations             = 2444\n",
      "Number of objective gradient evaluations             = 501\n",
      "Number of equality constraint evaluations            = 2454\n",
      "Number of inequality constraint evaluations          = 2449\n",
      "Number of equality constraint Jacobian evaluations   = 501\n",
      "Number of inequality constraint Jacobian evaluations = 501\n",
      "Number of Lagrangian Hessian evaluations             = 0\n",
      "Total CPU secs in IPOPT (w/o function evaluations)   =      0.824\n",
      "Total CPU secs in NLP function evaluations           =      6.068\n",
      "\n",
      "EXIT: Maximum Number of Iterations Exceeded.\n"
     ]
    },
    {
     "name": "stderr",
     "output_type": "stream",
     "text": [
      "\u001b[1m\u001b[33mWARNING: \u001b[39m\u001b[22m\u001b[33mNot solved to optimality, status: UserLimit\u001b[39m\n"
     ]
    },
    {
     "data": {
      "text/plain": [
       ":UserLimit"
      ]
     },
     "execution_count": 39,
     "metadata": {},
     "output_type": "execute_result"
    }
   ],
   "source": [
    "solve(m)"
   ]
  },
  {
   "cell_type": "code",
   "execution_count": 40,
   "metadata": {},
   "outputs": [
    {
     "data": {
      "text/plain": [
       "(0.9496028167619708, 0.04797644324096802, 0.29789325237867775, 0.9976185698550362, 2.1833661817454932)"
      ]
     },
     "execution_count": 40,
     "metadata": {},
     "output_type": "execute_result"
    }
   ],
   "source": [
    "getvalue(β), getvalue(δ), getvalue(α), getvalue(A), getvalue(γ)"
   ]
  },
  {
   "cell_type": "code",
   "execution_count": 41,
   "metadata": {},
   "outputs": [
    {
     "data": {
      "text/html": [
       "<img src=\"data:image/png;base64,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\" />"
      ]
     },
     "execution_count": 41,
     "metadata": {},
     "output_type": "execute_result"
    }
   ],
   "source": [
    "plot(nodes(Basis(ChebParams(10, 0.2*k_stst, 2*k_stst)))[1], [0.731039, 0.830067, 0.984055, 1.15697 , 1.32812 , 1.48555 , 1.62093 , 1.72778 , 1.80161 , 1.8393], label=\"True Policy Fucntion\")\n",
    "plot!(K, getvalue(θ), label=\"Estimated Policy Function\")"
   ]
  },
  {
   "cell_type": "code",
   "execution_count": null,
   "metadata": {},
   "outputs": [],
   "source": []
  }
 ],
 "metadata": {
  "kernelspec": {
   "display_name": "Julia 0.6.0",
   "language": "julia",
   "name": "julia-0.6"
  },
  "language_info": {
   "file_extension": ".jl",
   "mimetype": "application/julia",
   "name": "julia",
   "version": "0.6.0"
  }
 },
 "nbformat": 4,
 "nbformat_minor": 2
}
