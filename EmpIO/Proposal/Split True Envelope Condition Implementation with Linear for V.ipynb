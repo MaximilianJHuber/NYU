{
 "cells": [
  {
   "cell_type": "markdown",
   "metadata": {},
   "source": [
    "In this exercise I solve a deterministic growth model using simulated data generated from an economy with parameters $\\beta = 0.95$, $\\alpha = 0.3$, $A = 1.0$, $\\delta = 0.05$, $\\gamma = 2.0$. I initiate the variables of the mathematical program at the true values, which should make the optimization easy."
   ]
  },
  {
   "cell_type": "code",
   "execution_count": 1,
   "metadata": {
    "scrolled": false
   },
   "outputs": [
    {
     "name": "stderr",
     "output_type": "stream",
     "text": [
      "WARNING: Method definition ==(Base.Nullable{S}, Base.Nullable{T}) in module Base at nullable.jl:238 overwritten in module NullableArrays at /home/juser/.julia/v0.6/NullableArrays/src/operators.jl:99.\n",
      "WARNING: Compat.AsyncCondition is deprecated, use Base.AsyncCondition instead.\n",
      "  likely near In[1]:2\n",
      "WARNING: Compat.AsyncCondition is deprecated, use Base.AsyncCondition instead.\n",
      "  likely near In[1]:2\n"
     ]
    },
    {
     "data": {
      "text/html": [
       "<img src=\"data:image/png;base64,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\" />"
      ]
     },
     "execution_count": 1,
     "metadata": {},
     "output_type": "execute_result"
    }
   ],
   "source": [
    "using CSV\n",
    "using Plots; pyplot()\n",
    "\n",
    "df = CSV.read(\"data.csv\"; header=false, types=[Float64, Float64])\n",
    "dataK = convert(Vector{Float64}, df[1])\n",
    "dataC = convert(Vector{Float64}, df[2])\n",
    "\n",
    "plot(dataK, label=\"capital\")\n",
    "plot!(dataC, label=\"consumption\")"
   ]
  },
  {
   "cell_type": "markdown",
   "metadata": {},
   "source": [
    "The economy's steady state for capital is:"
   ]
  },
  {
   "cell_type": "code",
   "execution_count": 2,
   "metadata": {},
   "outputs": [],
   "source": [
    "k_stst = 4.628988089138438;"
   ]
  },
  {
   "cell_type": "markdown",
   "metadata": {},
   "source": [
    "# The Mathematical Program\n",
    "I define the needed function related to utility and production:"
   ]
  },
  {
   "cell_type": "code",
   "execution_count": 56,
   "metadata": {
    "scrolled": true
   },
   "outputs": [
    {
     "data": {
      "text/plain": [
       "f_prime (generic function with 1 method)"
      ]
     },
     "execution_count": 56,
     "metadata": {},
     "output_type": "execute_result"
    }
   ],
   "source": [
    "u_crra(c, γ) = begin\n",
    "    if (c <= 0)\n",
    "        warn(\"u_crra_prime\")\n",
    "        return -1000000.\n",
    "        else\n",
    "        return c^(1-γ)/(1-γ)\n",
    "    end\n",
    "end\n",
    "\n",
    "u_crra_prime(c, γ) = begin\n",
    "    if (c <= 0)\n",
    "        warn(\"u_crra_prime\")\n",
    "        return -1000000.\n",
    "        else\n",
    "        return c^-γ\n",
    "    end\n",
    "end\n",
    "\n",
    "u_crra_prime_inv(u, γ) = begin\n",
    "    if (u <= 0)\n",
    "        warn(\"u_crra_prime_inv\")\n",
    "        return +1000000.\n",
    "    else\n",
    "        return u^(-1/γ) \n",
    "    end\n",
    "end\n",
    "\n",
    "function f(k, α, A)\n",
    "    if (k <= 0)\n",
    "        warn(\"f\")\n",
    "        return zero(k)\n",
    "    else\n",
    "        A*k^α\n",
    "    end\n",
    "end\n",
    "\n",
    "function f_prime(k, α, A)\n",
    "    if (k <= 0)\n",
    "        warn(\"f_prime\")\n",
    "        return zero(k)\n",
    "    else\n",
    "        A*α*k^(α-1)\n",
    "    end\n",
    "end"
   ]
  },
  {
   "cell_type": "markdown",
   "metadata": {},
   "source": [
    "I use the Julia Mathematical Programming languange JuMP and the IpOpt solver:"
   ]
  },
  {
   "cell_type": "code",
   "execution_count": 126,
   "metadata": {},
   "outputs": [],
   "source": [
    "using JuMP\n",
    "using Ipopt\n",
    "\n",
    "m = Model(solver=IpoptSolver(print_level=5, max_iter=500));"
   ]
  },
  {
   "cell_type": "markdown",
   "metadata": {},
   "source": [
    "I define the deep parameters variables and give the the correct starting values:"
   ]
  },
  {
   "cell_type": "code",
   "execution_count": 127,
   "metadata": {},
   "outputs": [],
   "source": [
    "@variable(m, 0 <= β <= 1, start = 0.90)\n",
    "@variable(m, 0 <= δ <= 1, start = 0.10)\n",
    "@variable(m, 0 <= α <= 1, start = 0.4)\n",
    "@variable(m, A >= 0, start = 1)\n",
    "@variable(m, 100 >= γ >= 1, start = 3);"
   ]
  },
  {
   "cell_type": "markdown",
   "metadata": {},
   "source": [
    "The policy function is approximated by 12 cubic splines on a grid around the steady state for capital, the coefficients on the polynomials are $\\theta$:"
   ]
  },
  {
   "cell_type": "markdown",
   "metadata": {},
   "source": [
    "I define a grid on capital, $K$, with 12 nodes, and evaluate the spline polynomials at those point into $\\Psi$ and at the observed data points into $\\Phi$:"
   ]
  },
  {
   "cell_type": "code",
   "execution_count": 128,
   "metadata": {},
   "outputs": [
    {
     "name": "stderr",
     "output_type": "stream",
     "text": [
      "WARNING: redefining constant params\n"
     ]
    }
   ],
   "source": [
    "using BasisMatrices\n",
    "global const params = LinParams(10, 0.2*k_stst, 2*k_stst)\n",
    "basis = Basis(params)\n",
    "K = nodes(basis)[1]\n",
    "Ψ = BasisMatrix(basis, Expanded(), K).vals[1]\n",
    "Ψprime = BasisMatrix(basis, Expanded(), K, 1).vals[1]\n",
    "\n",
    "Φ = BasisMatrix(basis, Expanded(), dataK).vals[1]\n",
    "Φprime = BasisMatrix(basis, Expanded(), dataK, 1).vals[1];"
   ]
  },
  {
   "cell_type": "code",
   "execution_count": 129,
   "metadata": {},
   "outputs": [],
   "source": [
    "@variable(m, θ[1:length(K)], start = 0);"
   ]
  },
  {
   "cell_type": "markdown",
   "metadata": {},
   "source": [
    "In the equilibrium constraint the polynomials have to be evaluated also outside the grid, I define this function here:"
   ]
  },
  {
   "cell_type": "code",
   "execution_count": 130,
   "metadata": {
    "scrolled": false
   },
   "outputs": [
    {
     "data": {
      "text/plain": [
       "interpV (generic function with 1 method)"
      ]
     },
     "execution_count": 130,
     "metadata": {},
     "output_type": "execute_result"
    }
   ],
   "source": [
    "function interpV(x, values...) #x is the point of evaluation, values are on the grid\n",
    "    return (evalbase(params, [x], 0) * collect(values))[1]\n",
    "end"
   ]
  },
  {
   "cell_type": "markdown",
   "metadata": {},
   "source": [
    "I register all user-defined functions with JuMP for automatic differentiation:"
   ]
  },
  {
   "cell_type": "code",
   "execution_count": 131,
   "metadata": {},
   "outputs": [],
   "source": [
    "JuMP.register(m, :interpV, 1+length(K), interpV, autodiff=true)\n",
    "JuMP.register(m, :u_crra, 2, u_crra, autodiff=true)\n",
    "JuMP.register(m, :u_crra_prime, 2, u_crra_prime, autodiff=true)\n",
    "JuMP.register(m, :f, 3, f, autodiff=true)\n",
    "JuMP.register(m, :f_prime, 3, f_prime, autodiff=true)\n",
    "JuMP.register(m, :u_crra_prime_inv, 2, u_crra_prime_inv, autodiff=true)"
   ]
  },
  {
   "cell_type": "markdown",
   "metadata": {},
   "source": [
    "The auxiliary and equilibrium constraints are all defined on the grid with 10 nodes:"
   ]
  },
  {
   "cell_type": "code",
   "execution_count": 132,
   "metadata": {},
   "outputs": [],
   "source": [
    "@variable(m, modelC[i=1:length(K)] >= 0, start = 1)\n",
    "@variable(m, modelKprime[i=1:length(K)] >= 0, start = 1)\n",
    "\n",
    "@NLconstraint(m, cons_today[i=1:length(K)], modelC[i] == u_crra_prime_inv(sum(Ψprime[i, k] * θ[k] for k in 1:length(K)) / \n",
    "            (f_prime(modelKprime[i], α, A) + 1-δ), γ))\n",
    "    \n",
    "@NLconstraint(m, capi_tomor[i=1:length(K)], modelKprime[i] == f(K[i], α, A) + (1-δ)*K[i] - u_crra_prime_inv(sum(Ψprime[i, k] * θ[k] for k in 1:length(K)) / \n",
    "            (f_prime(K[i], α, A) + 1-δ), γ));"
   ]
  },
  {
   "cell_type": "markdown",
   "metadata": {},
   "source": [
    "And I initialize $\\theta$ and the auxiliary variables at the true values:"
   ]
  },
  {
   "cell_type": "code",
   "execution_count": 133,
   "metadata": {},
   "outputs": [],
   "source": [
    "b2 = Basis(ChebParams(10, 0.2*k_stst, 2*k_stst))\n",
    "K2 = nodes(b2)[1] #grid\n",
    "Ψ2 = BasisMatrix(b2, Expanded(), K2).vals[1]\n",
    "θ2 = Ψ2 \\ [0.731039, 0.830067, 0.984055, 1.15697 , 1.32812 , 1.48555 , 1.62093 , 1.72778 , 1.80161 , 1.8393]\n",
    "ν  = Ψ \\ (BasisMatrix(b2, Expanded(), K).vals[1] * [-15.112, 2.69213, -0.640543, 0.208069, -0.0777003, 0.0304588, -0.0123556, 0.00602886, -0.00329544, 0.00114639])\n",
    "\n",
    "for i in 1:length(K)\n",
    "    setvalue(modelC[i], (BasisMatrix(b2, Expanded(), K).vals[1] * θ2)[i])\n",
    "    setvalue(modelKprime[i], f(K[i], getvalue(α), getvalue(A)) + (1-getvalue(δ))*K[i] - getvalue(modelC[i]))\n",
    "    setvalue(θ[i], ν[i])\n",
    "end"
   ]
  },
  {
   "cell_type": "markdown",
   "metadata": {},
   "source": [
    "The Bellman equation:"
   ]
  },
  {
   "cell_type": "code",
   "execution_count": 134,
   "metadata": {},
   "outputs": [],
   "source": [
    "@NLconstraint(m, increasing[i=1:length(K)], sum(Ψprime[i, k] * θ[k] for k in 1:length(K)) >= 0)\n",
    "#@NLconstraint(m, concave[i=1:length(K)], sum(Ψprimeprime[i, k] * θ[k] for k in 1:length(K)) <= 0)\n",
    "\n",
    "@NLconstraint(m, EE[i=1:length(K)], sum(Ψ[i, k] * θ[k] for k in 1:length(K)) == u_crra(modelC[i], γ) + \n",
    "            β * interpV(modelKprime[i], θ[1], θ[2], θ[3], θ[4], θ[5], θ[6], θ[7], θ[8], θ[9], θ[10]));"
   ]
  },
  {
   "cell_type": "markdown",
   "metadata": {},
   "source": [
    "I define auxiliary expressions for the predictions of the equilibrium conditions:"
   ]
  },
  {
   "cell_type": "code",
   "execution_count": 135,
   "metadata": {},
   "outputs": [],
   "source": [
    "@NLexpression(m, predictedK[t=2:100], f(dataK[t-1], α, A) + (1-δ)*dataK[t-1] - dataC[t-1])\n",
    "\n",
    "R = f_prime.(dataK, 0.3, 1.) + 1-0.05\n",
    "@NLexpression(m, predictedC[t=1:100], u_crra_prime_inv(sum(Φprime[t, k] * θ[k] for k in 1:length(K)) / R[t], γ));"
   ]
  },
  {
   "cell_type": "markdown",
   "metadata": {},
   "source": [
    "The objective is to minimize the sum of squared errors:"
   ]
  },
  {
   "cell_type": "code",
   "execution_count": 136,
   "metadata": {},
   "outputs": [],
   "source": [
    "#+ (β-0.95)^2 + (δ-0.05)^2 + (α-0.3)^2 + (A-1)^2 + (γ-2)^2)\n",
    "@NLobjective(m, Min, sum((dataC[t] - predictedC[t])^2 for t in 1:100) +\n",
    "    sum((dataK[t] - predictedK[t])^2 for t in 2:100))"
   ]
  },
  {
   "cell_type": "code",
   "execution_count": 137,
   "metadata": {
    "scrolled": true
   },
   "outputs": [
    {
     "name": "stdout",
     "output_type": "stream",
     "text": [
      "This is Ipopt version 3.12.1, running with linear solver mumps.\n",
      "NOTE: Other linear solvers might be more efficient (see Ipopt documentation).\n",
      "\n",
      "Number of nonzeros in equality constraint Jacobian...:      450\n",
      "Number of nonzeros in inequality constraint Jacobian.:      100\n",
      "Number of nonzeros in Lagrangian Hessian.............:        0\n",
      "\n",
      "Total number of variables............................:       35\n",
      "                     variables with only lower bounds:       21\n",
      "                variables with lower and upper bounds:        4\n",
      "                     variables with only upper bounds:        0\n",
      "Total number of equality constraints.................:       30\n",
      "Total number of inequality constraints...............:       10\n",
      "        inequality constraints with only lower bounds:       10\n",
      "   inequality constraints with lower and upper bounds:        0\n",
      "        inequality constraints with only upper bounds:        0\n",
      "\n",
      "iter    objective    inf_pr   inf_du lg(mu)  ||d||  lg(rg) alpha_du alpha_pr  ls\n",
      "   0  1.3793612e+00 1.30e+00 1.40e+00   0.0 0.00e+00    -  0.00e+00 0.00e+00   0\n",
      "   1  2.2981216e+01 2.93e-01 2.89e+02  -0.1 9.17e-01    -  9.86e-01 1.00e+00h  1\n",
      "   2  3.7046495e+00 2.71e-01 5.35e+01  -0.6 3.60e-01    -  1.00e+00 1.00e+00f  1\n",
      "   3  3.8133035e-01 3.04e-02 4.98e+01  -1.3 5.97e-01    -  1.00e+00 1.00e+00f  1\n",
      "   4  2.4489834e-01 7.53e-02 6.06e+01  -1.1 2.51e-01    -  1.00e+00 1.00e+00f  1\n",
      "   5  1.5954018e-01 2.85e-02 6.16e+00  -1.8 4.39e-01    -  1.00e+00 1.00e+00h  1\n",
      "   6  1.4173823e-01 1.00e-02 9.60e+00  -2.3 2.86e-01    -  1.00e+00 1.00e+00h  1\n",
      "   7  8.7138907e-02 2.39e-03 4.11e+00  -3.3 7.41e-02    -  1.00e+00 1.00e+00h  1\n",
      "   8  7.1655988e-02 1.40e-03 5.44e+00  -5.0 4.67e-02    -  1.00e+00 1.00e+00h  1\n",
      "   9  6.1755156e-02 2.24e-02 1.75e+00  -5.8 1.98e-01    -  1.00e+00 1.00e+00h  1\n",
      "iter    objective    inf_pr   inf_du lg(mu)  ||d||  lg(rg) alpha_du alpha_pr  ls\n",
      "  10  4.6788694e-02 2.78e-03 1.90e+00  -6.4 6.00e-02    -  1.00e+00 1.00e+00h  1\n",
      "  11  4.3559996e-02 1.00e-03 7.22e-01  -7.7 3.79e-02    -  1.00e+00 1.00e+00h  1\n",
      "  12  3.5496424e-02 4.31e-02 3.15e-01  -6.3 6.11e-01    -  1.00e+00 3.48e-01h  2\n",
      "  13  3.0326884e-02 5.05e-02 5.19e+00  -4.3 9.61e-01    -  1.00e+00 9.75e-02h  1\n",
      "  14  2.1652020e-02 4.50e-03 1.87e+00  -5.0 5.19e-02    -  1.00e+00 1.00e+00h  1\n",
      "  15  2.0244296e-02 6.00e-04 1.24e-01  -5.5 3.23e-02    -  1.00e+00 1.00e+00h  1\n",
      "  16  2.0200039e-02 2.75e-07 8.31e-03  -7.4 2.24e-03    -  1.00e+00 1.00e+00h  1\n",
      "  17  2.0200374e-02 9.55e-10 1.24e-04  -9.3 1.36e-04    -  1.00e+00 1.00e+00h  1\n",
      "  18  2.0200336e-02 4.79e-10 1.29e-04 -11.0 1.02e-04    -  1.00e+00 1.00e+00h  1\n",
      "  19  2.0199946e-02 7.32e-08 8.90e-04 -11.0 7.30e-04    -  1.00e+00 1.00e+00h  1\n",
      "iter    objective    inf_pr   inf_du lg(mu)  ||d||  lg(rg) alpha_du alpha_pr  ls\n",
      "  20  2.0688178e-02 1.93e-08 4.51e-02 -11.0 3.11e-02    -  1.00e+00 1.00e+00H  1\n",
      "  21  2.0187141e-02 3.21e-05 2.97e-02 -11.0 2.45e-02    -  1.00e+00 1.00e+00f  1\n",
      "  22  2.0307116e-02 5.12e-07 3.39e-01 -11.0 3.05e-02    -  1.00e+00 1.00e+00H  1\n",
      "  23  2.0195485e-02 4.06e-05 1.36e-02 -11.0 3.20e-02    -  1.00e+00 1.00e+00h  1\n",
      "  24  2.0155129e-02 4.84e-06 9.99e-03 -11.0 3.83e-02    -  1.00e+00 1.00e+00h  1\n",
      "  25  1.9949635e-02 2.41e-01 1.61e+00  -9.0 2.05e+03    -  8.98e-01 5.16e-03f  3\n",
      "  26  1.9863630e-02 2.47e-01 2.80e+00  -7.1 1.23e+04    -  5.65e-03 8.05e-05h  5\n",
      "  27  1.5422991e-02 2.07e-02 5.16e-01  -9.1 4.90e+00    -  1.00e+00 1.00e+00h  1\n",
      "  28  1.4881122e-02 2.68e-02 1.52e+00  -7.0 9.85e+04    -  1.44e-04 1.16e-05f  5\n",
      "  29  1.3590966e-02 5.75e-03 8.61e-01  -7.0 6.82e-01    -  6.72e-01 1.00e+00h  1\n",
      "iter    objective    inf_pr   inf_du lg(mu)  ||d||  lg(rg) alpha_du alpha_pr  ls\n",
      "  30  1.3266763e-02 3.43e-04 5.55e-01  -5.2 6.06e-02    -  4.40e-02 1.00e+00h  1\n",
      "  31  1.4704118e-02 2.63e-04 2.59e+00  -7.4 9.40e-01    -  1.00e+00 1.00e+00H  1\n",
      "  32  1.4646237e-02 4.80e-02 6.73e-01  -5.5 2.12e+01    -  4.33e-03 1.46e-01h  3\n",
      "  33  1.4601424e-02 4.83e-02 7.89e-01  -7.4 9.28e+03    -  1.12e-03 2.17e-05h  6\n",
      "  34  1.4594906e-02 4.81e-02 9.99e-01  -7.4 2.00e+01    -  3.96e-01 4.09e-03h  5\n"
     ]
    },
    {
     "name": "stderr",
     "output_type": "stream",
     "text": [
      "\u001b[1m\u001b[33mWARNING: \u001b[39m\u001b[22m\u001b[33mu_crra_prime_inv\u001b[39m\n",
      "\u001b[1m\u001b[33mWARNING: \u001b[39m\u001b[22m\u001b[33mu_crra_prime_inv\u001b[39m\n",
      "\u001b[1m\u001b[33mWARNING: \u001b[39m\u001b[22m\u001b[33mu_crra_prime_inv\u001b[39m\u001b[1m\u001b[33mWARNING: \u001b[39m\u001b[22m\u001b[33mu_crra_prime_inv\u001b[39m\n",
      "\u001b[1m\u001b[33mWARNING: \u001b[39m\u001b[22m\n",
      "\u001b[1m\u001b[33mWARNING: \u001b[39m\u001b[22m\u001b[33mu_crra_prime_inv\u001b[39m\n"
     ]
    },
    {
     "name": "stdout",
     "output_type": "stream",
     "text": [
      "  35  1.4484152e-02 4.84e-02 3.29e-01  -7.4 8.38e+01    -  1.79e-02 2.58e-03h  6\n",
      "  36  1.6215877e-02 4.51e-02 2.26e+00  -7.4 9.85e-01    -  7.53e-01 8.55e-02h  1\n",
      "  37  1.2704071e-02 7.54e-03 1.36e+00  -7.4 3.26e-01    -  1.00e+00 1.00e+00f  1\n",
      "  38  1.2164335e-02 5.48e-04 5.62e-01  -6.3 1.93e-01    -  1.00e+00 1.00e+00h  1\n",
      "  39  1.3642937e-02 2.64e-04 2.64e+00  -3.7 1.45e+00    -  1.00e+00 1.00e+00H  1\n",
      "iter    objective    inf_pr   inf_du lg(mu)  ||d||  lg(rg) alpha_du alpha_pr  ls\n",
      "  40  1.3694912e-02 1.14e-04 2.22e+00  -3.2 2.18e+01    -  1.00e+00 5.87e-03h  6\n",
      "  41  1.3533183e-02 6.88e-05 2.38e+00  -2.9 2.06e+00    -  1.00e+00 3.12e-02h  6\n",
      "  42  1.3261063e-02 1.44e-03 2.96e+00  -3.0 3.39e+00    -  1.00e+00 4.17e-02h  3\n",
      "  43  1.2780643e-02 8.97e-03 4.35e-01  -3.1 8.22e+00    -  6.35e-01 1.01e-01h  4\n",
      "  44  1.2115596e-02 1.63e-03 1.77e-01  -3.1 2.58e-01    -  1.00e+00 1.00e+00h  1\n",
      "  45  1.3877803e-02 6.83e-04 2.55e+00  -3.8 6.72e-01    -  9.90e-01 1.00e+00H  1\n",
      "  46  1.3742821e-02 7.54e-04 1.87e+00  -3.8 1.03e+01    -  6.74e-01 1.17e-02h  7\n",
      "  47  1.3691136e-02 7.23e-04 1.93e+00  -3.8 2.69e+01    -  1.53e-01 5.12e-03h  5\n",
      "  48  2.6497370e-02 7.64e-04 8.22e+00  -3.8 5.59e-01    -  1.00e+00 1.00e+00H  1\n",
      "  49  2.6086931e-02 7.66e-04 8.09e+00  -3.8 2.76e+00    -  6.82e-02 7.81e-03h  8\n",
      "iter    objective    inf_pr   inf_du lg(mu)  ||d||  lg(rg) alpha_du alpha_pr  ls\n",
      "  50  2.6005462e-02 7.70e-04 8.06e+00  -3.8 2.77e+01    -  1.36e-01 6.09e-04h  7\n",
      "  51  2.5926966e-02 7.74e-04 8.06e+00  -3.8 1.12e+02    -  5.12e-02 1.58e-04h  7\n",
      "  52  2.5860598e-02 7.75e-04 8.54e+00  -3.8 3.77e+01    -  1.00e+00 3.13e-04h  8\n",
      "  53  2.5782738e-02 7.76e-04 8.41e+00  -3.8 3.31e+01    -  1.39e-01 3.04e-04h 10\n",
      "  54  2.4812428e-02 9.11e-04 5.51e+00  -3.8 1.77e+01    -  2.00e-01 3.51e-03f  6\n",
      "  55  1.7033354e-02 3.39e-02 3.00e+00  -3.8 6.69e+00    -  1.00e+00 2.01e-01h  3\n",
      "  56  1.8719941e-02 2.84e-02 1.86e+00  -3.8 1.39e+00    -  5.75e-01 1.00e+00h  1\n",
      "  57  1.7879395e-02 3.44e-02 3.14e+00  -3.8 5.73e+01    -  2.30e-03 4.72e-03h  4\n",
      "  58  1.6845112e-02 3.35e-02 3.59e+00  -3.8 3.71e+00    -  1.00e+00 1.25e-01h  4\n",
      "  59  1.6617322e-02 3.35e-02 2.57e+00  -3.8 5.80e+01    -  1.67e-01 1.24e-03h  7\n",
      "iter    objective    inf_pr   inf_du lg(mu)  ||d||  lg(rg) alpha_du alpha_pr  ls\n",
      "  60  2.0204056e-02 2.48e-03 4.99e+00  -3.8 9.14e-01    -  1.00e+00 1.00e+00h  1\n",
      "  61  1.8898544e-02 6.12e-03 1.25e+00  -3.8 7.50e+00    -  1.31e-01 4.04e-02h  4\n",
      "  62  1.4952155e-02 2.20e-02 3.39e+00  -3.8 2.48e+00    -  1.00e+00 2.72e-01h  2\n",
      "  63  1.4359885e-02 2.27e-02 2.05e+00  -3.8 6.82e+00    -  1.00e+00 2.60e-02h  3\n",
      "  64  1.4280791e-02 2.30e-02 2.25e+00  -3.8 2.18e+01    -  2.26e-01 8.35e-03h  6\n",
      "  65  1.4358369e-02 2.28e-02 7.58e-01  -3.8 2.85e+00    -  1.00e+00 1.88e-01h  3\n",
      "  66  1.2214591e-02 1.03e-03 5.22e-01  -3.8 5.22e-01    -  7.90e-01 1.00e+00h  1\n",
      "  67  1.2211854e-02 1.03e-03 4.03e-01  -3.8 2.12e+00    -  1.00e+00 4.09e-03h  7\n",
      "  68  1.1961621e-02 9.06e-04 7.07e-02  -3.8 3.48e-01    -  1.00e+00 1.00e+00h  1\n",
      "  69  1.2282412e-02 1.10e-03 7.19e-01  -2.5 1.02e+01    -  9.13e-01 1.12e-02h  6\n",
      "iter    objective    inf_pr   inf_du lg(mu)  ||d||  lg(rg) alpha_du alpha_pr  ls\n",
      "  70  1.5759441e-02 9.02e-04 1.19e+00  -2.6 1.38e+00    -  1.00e+00 1.00e+00H  1\n",
      "  71  1.5546306e-02 1.05e-03 1.42e+00  -2.6 1.35e+01    -  3.63e-01 1.27e-02h  7\n",
      "  72  1.2479725e-02 1.22e-03 3.82e-01  -2.6 1.39e+00    -  1.00e+00 1.00e+00H  1\n",
      "  73  1.2654049e-02 9.74e-05 1.62e+00  -2.6 6.35e-01    -  1.00e+00 1.00e+00H  1\n",
      "  74  1.2609669e-02 1.39e-04 1.16e+00  -3.1 1.88e+00    -  1.00e+00 3.12e-02h  6\n",
      "  75  1.4503237e-02 3.08e-05 2.71e+00  -3.8 1.59e+00    -  1.00e+00 1.00e+00H  1\n",
      "  76  1.5432725e-02 3.13e-03 3.67e+00  -2.5 1.90e+01    -  1.00e+00 2.49e-02h  5\n",
      "  77  1.9526356e-02 3.74e-03 3.92e+00  -2.7 5.87e+00    -  8.46e-01 6.25e-02h  5\n",
      "  78  1.6079271e-02 1.48e-02 1.66e+00  -2.7 8.33e-01    -  1.00e+00 1.00e+00h  1\n",
      "  79  1.4701123e-02 4.93e-03 4.78e-01  -2.7 7.93e-01    -  1.00e+00 1.00e+00h  1\n",
      "iter    objective    inf_pr   inf_du lg(mu)  ||d||  lg(rg) alpha_du alpha_pr  ls\n",
      "  80  1.4289120e-02 5.04e-03 9.67e-01  -2.7 3.55e+00    -  1.00e+00 6.25e-02h  5\n",
      "  81  1.6000218e-02 8.73e-04 3.34e+00  -2.7 9.79e-01    -  1.00e+00 1.00e+00H  1\n",
      "  82  1.5350735e-02 9.39e-04 1.35e+00  -2.7 2.41e+01    -  2.63e-01 4.13e-03h  8\n",
      "  83  1.2266286e-02 1.38e-03 4.01e-01  -2.7 2.46e-01    -  1.00e+00 1.00e+00h  1\n",
      "  84  1.5123208e-02 8.55e-05 5.27e-01  -2.7 1.18e+00    -  1.00e+00 1.00e+00H  1\n",
      "  85  1.4685780e-02 2.53e-05 1.34e+00  -2.7 1.65e+00    -  1.00e+00 1.00e+00H  1\n",
      "  86  1.4725640e-02 8.83e-05 2.89e+00  -3.0 2.71e+00    -  1.00e+00 3.12e-02h  6\n",
      "  87  1.3975663e-02 2.82e-03 3.13e-01  -3.2 3.28e+00    -  1.00e+00 9.07e-02h  2\n",
      "  88  1.3710971e-02 1.29e-02 1.28e-01  -3.2 2.00e+00    -  3.93e-01 5.00e-01h  2\n",
      "  89  1.3193738e-02 1.18e-02 1.47e+00  -3.2 1.62e+00    -  1.00e+00 1.25e-01h  4\n",
      "iter    objective    inf_pr   inf_du lg(mu)  ||d||  lg(rg) alpha_du alpha_pr  ls\n",
      "  90  1.3021223e-02 1.70e-02 6.89e-01  -3.2 5.90e+00    -  7.21e-01 1.25e-01h  4\n",
      "  91  1.2787400e-02 1.80e-02 3.38e-01  -3.2 1.82e+01    -  4.45e-01 2.29e-02h  5\n",
      "  92  1.3200011e-02 1.60e-02 8.68e-01  -3.2 1.59e+00    -  3.03e-01 1.25e-01h  4\n",
      "  93  1.2197527e-02 2.60e-03 2.29e-01  -3.2 5.77e-01    -  1.00e+00 1.00e+00h  1\n",
      "  94  6.7286109e-02 8.40e-05 1.46e+01  -3.2 3.74e+00    -  1.00e+00 1.00e+00H  1\n",
      "  95  1.2145299e-02 2.70e-03 5.28e-01  -3.2 1.63e+00    -  1.00e+00 1.00e+00F  1\n",
      "  96  1.2079212e-02 2.75e-03 1.54e-01  -3.2 1.00e+01    -  8.88e-01 1.13e-02h  7\n",
      "  97  1.2056585e-02 2.75e-03 3.69e-02  -3.2 2.71e+00    -  1.00e+00 7.81e-03h  8\n",
      "  98  1.3823484e-02 2.15e-04 1.77e+00  -3.2 2.00e-01    -  1.00e+00 1.00e+00H  1\n",
      "  99  1.2037611e-02 3.24e-03 1.97e-01  -3.2 2.42e-01    -  1.00e+00 1.00e+00h  1\n",
      "iter    objective    inf_pr   inf_du lg(mu)  ||d||  lg(rg) alpha_du alpha_pr  ls\n",
      " 100  1.2058164e-02 3.03e-03 1.95e-01  -3.2 3.55e-01    -  1.00e+00 6.25e-02h  5\n",
      " 101  1.2012156e-02 2.26e-05 1.83e-01  -3.2 3.99e-02    -  1.00e+00 1.00e+00h  1\n",
      " 102  1.1950745e-02 3.70e-04 3.88e-02  -3.5 3.21e+00    -  1.00e+00 6.25e-02h  5\n",
      " 103  1.1939966e-02 4.11e-04 2.20e-01  -4.3 4.26e+00    -  1.00e+00 1.56e-02h  7\n",
      " 104  1.1935117e-02 4.13e-04 3.11e-01  -4.3 5.73e+00    -  1.00e+00 3.91e-03h  9\n",
      " 105  8.8499407e-02 1.40e-04 1.61e+01  -3.8 2.77e+00    -  1.00e+00 1.00e+00H  1\n",
      " 106  1.7108291e-02 8.79e-02 1.76e-01  -3.9 1.70e+00    -  9.85e-01 1.00e+00f  1\n",
      " 107  1.2989593e-02 1.73e-03 7.69e-01  -3.9 2.37e-01    -  1.00e+00 1.00e+00h  1\n",
      " 108  1.4605596e-02 9.99e-04 2.06e+00  -3.9 9.97e-01    -  1.00e+00 1.00e+00H  1\n",
      " 109  1.4387088e-02 1.61e-03 1.63e+00  -3.9 5.94e+01    -  1.88e-01 5.13e-03h  4\n",
      "iter    objective    inf_pr   inf_du lg(mu)  ||d||  lg(rg) alpha_du alpha_pr  ls\n",
      " 110  1.4347173e-02 1.75e-03 2.14e+00  -3.9 4.97e+01    -  3.54e-01 2.58e-03h  7\n",
      " 111  1.4288714e-02 1.74e-03 2.32e+00  -3.9 1.92e+00    -  9.80e-01 1.56e-02h  7\n",
      " 112  1.6892188e-02 3.08e-04 4.75e+00  -3.9 9.82e-01    -  1.00e+00 1.00e+00H  1\n",
      " 113  1.6664183e-02 6.07e-04 4.83e+00  -3.9 5.24e+00    -  1.27e-01 2.00e-02h  6\n",
      " 114  1.3976274e-02 1.73e-03 8.99e-01  -3.9 1.62e+00    -  1.00e+00 1.25e-01h  4\n",
      " 115  1.2399417e-02 2.66e-03 6.12e-01  -3.9 5.13e-01    -  1.00e+00 1.00e+00h  1\n",
      " 116  1.2350000e-02 2.97e-03 2.81e-01  -3.9 2.06e+01    -  3.79e-01 9.48e-03h  6\n",
      " 117  1.2321204e-02 4.17e-03 2.27e-01  -3.9 9.17e+00    -  1.00e+00 3.79e-02h  5\n",
      " 118  1.1998084e-02 4.15e-03 9.11e-01  -3.9 9.35e-01    -  8.24e-01 4.18e-03h  7\n",
      " 119  1.1891129e-02 5.71e-04 1.46e-01  -3.9 2.82e-01    -  1.00e+00 1.00e+00h  1\n",
      "iter    objective    inf_pr   inf_du lg(mu)  ||d||  lg(rg) alpha_du alpha_pr  ls\n",
      " 120  1.1926705e-02 5.81e-04 2.09e-01  -9.9 4.16e+00    -  2.07e-01 1.56e-02h  7\n",
      " 121  1.1919113e-02 9.97e-04 3.48e-01  -4.2 2.65e+00    -  1.00e+00 6.25e-02h  5\n",
      " 122  1.1914060e-02 1.28e-03 2.36e-01  -4.3 5.17e+00    -  3.67e-01 2.74e-02h  6\n",
      " 123  1.1847076e-02 1.30e-03 1.42e-01  -4.3 9.05e+00    -  9.70e-01 1.07e-02h  5\n",
      " 124  1.2248242e-02 6.55e-05 2.82e-01  -5.2 3.51e-01    -  1.00e+00 1.00e+00H  1\n",
      " 125  1.2240371e-02 1.08e-04 2.13e-01  -5.3 1.24e+01    -  4.90e-01 5.06e-03h  7\n",
      " 126  1.2243379e-02 1.11e-04 2.00e-01  -5.3 4.01e+00    -  4.30e-01 2.70e-03h  6\n",
      " 127  1.1852299e-02 1.32e-03 1.86e-01  -5.3 2.87e-01    -  1.00e+00 1.00e+00h  1\n",
      " 128  1.4207223e-02 3.96e-04 2.31e+00  -5.5 2.49e-01    -  1.00e+00 1.00e+00H  1\n",
      " 129  1.3426709e-02 1.00e-02 1.67e+00  -5.6 3.25e+00    -  1.00e+00 2.50e-01h  3\n",
      "iter    objective    inf_pr   inf_du lg(mu)  ||d||  lg(rg) alpha_du alpha_pr  ls\n",
      " 130  1.3257971e-02 2.01e-02 3.61e-01  -5.6 7.35e+02    -  4.00e-03 8.73e-04h  3\n",
      " 131  1.3154396e-02 2.00e-02 8.04e-02  -5.6 6.31e+00    -  1.00e+00 3.12e-02h  6\n",
      " 132  1.3156921e-02 1.99e-02 2.11e-01  -5.6 1.70e+01    -  3.29e-01 2.09e-03h  8\n",
      " 133  1.2983680e-02 2.07e-02 5.07e-02  -5.6 1.93e+02    -  1.59e-02 7.69e-04h  4\n",
      " 134  1.2236444e-02 6.69e-03 4.36e-02  -5.6 6.63e-01    -  1.00e+00 1.00e+00h  1\n",
      " 135  1.2123875e-02 7.16e-03 2.33e-01  -5.6 6.82e-01    -  1.00e+00 1.00e+00h  1\n",
      " 136  1.2123170e-02 7.16e-03 2.00e-01  -5.6 2.45e+01    -  1.95e-01 5.63e-04h 10\n",
      " 137  1.2118780e-02 7.23e-03 1.10e-01  -5.6 4.12e+01    -  3.23e-02 1.39e-03h  7\n",
      " 138  1.2118508e-02 7.23e-03 8.11e-02  -5.6 2.98e+01    -  2.26e-01 3.01e-04h 10\n",
      " 139  1.2117956e-02 7.22e-03 1.37e-01  -5.6 8.57e+00    -  4.30e-01 3.40e-03h  8\n",
      "iter    objective    inf_pr   inf_du lg(mu)  ||d||  lg(rg) alpha_du alpha_pr  ls\n",
      " 140  1.1799763e-02 7.15e-04 6.31e-02  -5.6 1.70e-01    -  1.00e+00 1.00e+00h  1\n",
      " 141  1.1773148e-02 2.93e-04 1.00e-02  -7.0 1.35e-01    -  1.00e+00 1.00e+00h  1\n",
      " 142  1.1804819e-02 8.66e-05 2.02e-02  -7.4 3.56e-01    -  9.93e-01 1.00e+00H  1\n",
      " 143  1.1804800e-02 8.68e-05 2.47e-02  -5.4 1.69e+01    -  1.00e+00 2.13e-04h 11\n",
      " 144  1.3129221e-02 5.61e-05 1.54e+00  -5.5 1.68e-01    -  1.00e+00 1.00e+00H  1\n",
      " 145  1.3439402e-02 2.54e-05 1.87e+00  -5.5 3.61e-01    -  1.00e+00 1.00e+00H  1\n",
      " 146  1.2520956e-02 2.92e-03 1.00e+00  -4.6 1.94e+01    -  1.00e+00 2.45e-02h  5\n",
      " 147  1.2388303e-02 3.49e-03 4.75e-01  -4.8 8.21e+01    -  5.57e-02 2.60e-03h  5\n",
      " 148  1.2344293e-02 3.49e-03 1.28e-01  -4.8 2.60e+01    -  1.63e-01 4.69e-04h  8\n",
      " 149  1.1957921e-02 8.02e-04 8.00e-01  -4.8 9.38e-02    -  1.00e+00 1.00e+00h  1\n",
      "iter    objective    inf_pr   inf_du lg(mu)  ||d||  lg(rg) alpha_du alpha_pr  ls\n",
      " 150  2.1388601e-02 1.70e-04 5.62e+00  -4.8 6.50e-01    -  1.00e+00 1.00e+00H  1\n",
      " 151  1.1660974e-02 7.43e-03 2.19e-01  -4.8 6.76e-01    -  1.00e+00 1.00e+00h  1\n",
      " 152  1.1652783e-02 7.75e-03 1.71e-01  -3.9 2.87e+01    -  1.00e+00 6.39e-03h  6\n",
      " 153  9.0567274e-02 4.71e-03 3.93e+00  -3.4 2.49e+00    -  1.00e+00 1.00e+00H  1\n",
      " 154  7.8920268e-02 1.27e-02 8.28e+00  -3.5 3.77e+00    -  6.35e-01 1.05e-01h  4\n",
      " 155  2.5235355e-02 1.46e-02 9.30e+00  -3.5 1.46e+01    -  1.11e-01 2.27e-02f  3\n",
      " 156  3.7260693e-02 1.65e-02 1.35e+00  -3.5 2.99e+00    -  1.00e+00 2.17e-01h  2\n",
      " 157  2.3307002e-02 8.97e-03 5.72e+00  -3.5 5.51e-01    -  1.00e+00 1.00e+00h  1\n",
      " 158  1.7900211e-02 7.24e-03 4.17e+00  -3.5 3.37e-01    -  1.00e+00 1.00e+00h  1\n",
      " 159  1.6072672e-02 7.15e-03 3.19e+00  -3.5 4.30e+00    -  1.09e-01 4.21e-02h  5\n",
      "iter    objective    inf_pr   inf_du lg(mu)  ||d||  lg(rg) alpha_du alpha_pr  ls\n",
      " 160  5.0626532e-02 1.02e-03 1.23e+01  -3.5 7.81e-01    -  1.00e+00 1.00e+00H  1\n",
      " 161  3.9889478e-02 1.52e-03 1.08e+01  -3.5 2.07e+00    -  1.00e+00 1.25e-01h  4\n",
      " 162  3.4406646e-02 4.01e-03 1.10e+01  -3.5 5.23e+01    -  9.41e-02 5.39e-03h  4\n",
      " 163  3.1664159e-02 4.66e-03 1.01e+01  -3.5 8.49e+00    -  1.00e+00 1.73e-02h  5\n",
      " 164  2.4225639e-02 4.92e-03 7.79e+00  -3.5 2.02e+00    -  7.52e-01 5.93e-02h  5\n",
      " 165  9.9555689e-02 3.83e-03 2.03e+01  -3.5 9.89e-01    -  1.00e+00 1.00e+00H  1\n",
      " 166  4.4891414e-02 3.26e-03 7.63e+00  -3.5 1.07e+00    -  1.00e+00 1.00e+00F  1\n",
      " 167  1.8121918e-02 2.47e-02 2.58e+00  -3.5 2.79e+00    -  7.92e-01 2.50e-01h  3\n",
      " 168  1.8716123e-02 2.30e-02 3.01e+00  -3.5 1.97e+00    -  1.00e+00 7.07e-02h  4\n",
      " 169  1.6914070e-02 5.59e-04 5.91e-01  -3.5 7.71e-02    -  1.00e+00 1.00e+00h  1\n",
      "iter    objective    inf_pr   inf_du lg(mu)  ||d||  lg(rg) alpha_du alpha_pr  ls\n",
      " 170  1.5269092e-02 4.04e-03 1.38e+00  -3.5 5.85e+00    -  3.36e-01 5.06e-02h  5\n",
      " 171  1.0431466e-01 2.72e-04 7.02e+00  -3.5 1.00e+00    -  1.00e+00 1.00e+00H  1\n",
      " 172  1.4336248e-02 3.54e-02 1.92e+00  -3.5 1.01e+00    -  1.00e+00 1.00e+00f  1\n",
      " 173  1.4700772e-02 2.68e-02 9.38e-01  -3.5 7.63e-01    -  1.00e+00 2.50e-01h  3\n",
      " 174  1.5024151e-02 1.83e-02 1.11e+00  -3.5 7.73e-01    -  1.00e+00 5.00e-01h  2\n",
      " 175  1.4852079e-02 1.41e-02 8.51e-01  -3.5 4.56e-01    -  1.00e+00 2.50e-01h  3\n"
     ]
    },
    {
     "name": "stderr",
     "output_type": "stream",
     "text": [
      "\u001b[33mu_crra_prime_inv\u001b[39m\n",
      "\u001b[1m\u001b[33mWARNING: \u001b[39m\u001b[22m\u001b[33mu_crra_prime_inv\u001b[39m\n",
      "\u001b[1m\u001b[33mWARNING: \u001b[39m\u001b[22m\u001b[33mu_crra_prime_inv\u001b[39m\n",
      "\u001b[1m\u001b[33mWARNING: \u001b[39m\u001b[22m\u001b[33mu_crra_prime_inv\u001b[39m\n",
      "\u001b[1m\u001b[33mWARNING: \u001b[39m\u001b[22m\u001b[33mu_crra_prime_inv\u001b[39m\n",
      "\u001b[1m\u001b[33mWARNING: \u001b[39m\u001b[22m\u001b[33mu_crra_prime_inv\u001b[39m\n",
      "\u001b[1m\u001b[33mWARNING: \u001b[39m\u001b[22m\u001b[33mu_crra_prime_inv\u001b[39m\n",
      "\u001b[1m\u001b[33mWARNING: \u001b[39m\u001b[22m\u001b[33mu_crra_prime_inv\u001b[39m\n",
      "\u001b[1m\u001b[33mWARNING: \u001b[39m\u001b[22m\u001b[33mu_crra_prime_inv\u001b[39m\n",
      "\u001b[1m\u001b[33mWARNING: \u001b[39m\u001b[22m\u001b[33mu_crra_prime_inv\u001b[39m\n",
      "\u001b[1m\u001b[33mWARNING: \u001b[39m\u001b[22m\u001b[33mu_crra_prime_inv\u001b[39m\n",
      "\u001b[1m\u001b[33mWARNING: \u001b[39m\u001b[22m\u001b[33mu_crra_prime_inv\u001b[39m\n",
      "\u001b[1m\u001b[33mWARNING: \u001b[39m\u001b[22m\u001b[33mu_crra_prime_inv\u001b[39m\n",
      "\u001b[1m\u001b[33mWARNING: \u001b[39m\u001b[22m\u001b[33mu_crra_prime_inv\u001b[39m\n",
      "\u001b[1m\u001b[33mWARNING: \u001b[39m\u001b[22m\u001b[33mu_crra_prime_inv\u001b[39m\n",
      "\u001b[1m\u001b[33mWARNING: \u001b[39m\u001b[22m\u001b[33mu_crra_prime_inv\u001b[39m\n",
      "\u001b[1m\u001b[33mWARNING: \u001b[39m\u001b[22m\u001b[33mu_crra_prime_inv\u001b[39m\n",
      "\u001b[1m\u001b[33mWARNING: \u001b[39m\u001b[22m\u001b[33mu_crra_prime_inv\u001b[39m\n",
      "\u001b[1m\u001b[33mWARNING: \u001b[39m\u001b[22m\u001b[33mu_crra_prime_inv\u001b[39m\n",
      "\u001b[1m\u001b[33mWARNING: \u001b[39m\u001b[22m\u001b[33mu_crra_prime_inv\u001b[39m\n",
      "\u001b[1m\u001b[33mWARNING: \u001b[39m\u001b[22m\u001b[33mu_crra_prime_inv\u001b[39m\n",
      "\u001b[1m\u001b[33mWARNING: \u001b[39m\u001b[22m\u001b[33mu_crra_prime_inv\u001b[39m\n",
      "\u001b[1m\u001b[33mWARNING: \u001b[39m\u001b[22m\u001b[33mu_crra_prime_inv\u001b[39m\n",
      "\u001b[1m\u001b[33mWARNING: \u001b[39m\u001b[22m\u001b[33mu_crra_prime_inv\u001b[39m\n",
      "\u001b[1m\u001b[33mWARNING: \u001b[39m\u001b[22m\u001b[33mu_crra_prime_inv\u001b[39m\n",
      "\u001b[1m\u001b[33mWARNING: \u001b[39m\u001b[22m\u001b[33mu_crra_prime_inv\u001b[39m\n",
      "\u001b[1m\u001b[33mWARNING: \u001b[39m\u001b[22m\u001b[33mu_crra_prime_inv\u001b[39m\n",
      "\u001b[1m\u001b[33mWARNING: \u001b[39m\u001b[22m\u001b[33mu_crra_prime_inv\u001b[39m\n",
      "\u001b[1m\u001b[33mWARNING: \u001b[39m\u001b[22m\u001b[33mu_crra_prime_inv\u001b[39m\n",
      "\u001b[1m\u001b[33mWARNING: \u001b[39m\u001b[22m\u001b[33mu_crra_prime_inv\u001b[39m\n",
      "\u001b[1m\u001b[33mWARNING: \u001b[39m\u001b[22m\u001b[33mu_crra_prime_inv\u001b[39m\n",
      "\u001b[1m\u001b[33mWARNING: \u001b[39m\u001b[22m\u001b[33mu_crra_prime_inv\u001b[39m\n",
      "\u001b[1m\u001b[33mWARNING: \u001b[39m\u001b[22m\u001b[33mu_crra_prime_inv\u001b[39m\n",
      "\u001b[1m\u001b[33mWARNING: \u001b[39m\u001b[22m\u001b[33mu_crra_prime_inv\u001b[39m\n",
      "\u001b[1m\u001b[33mWARNING: \u001b[39m\u001b[22m\u001b[33mu_crra_prime_inv\u001b[39m\n",
      "\u001b[1m\u001b[33mWARNING: \u001b[39m\u001b[22m\u001b[33mu_crra_prime_inv\u001b[39m\n",
      "\u001b[1m\u001b[33mWARNING: \u001b[39m\u001b[22m\u001b[33mu_crra_prime_inv\u001b[39m\n",
      "\u001b[1m\u001b[33mWARNING: \u001b[39m\u001b[22m\u001b[33mu_crra_prime_inv\u001b[39m\n",
      "\u001b[1m\u001b[33mWARNING: \u001b[39m\u001b[22m\u001b[33mu_crra_prime_inv\u001b[39m\n",
      "\u001b[1m\u001b[33mWARNING: \u001b[39m\u001b[22m\u001b[33mu_crra_prime_inv\u001b[39m\n",
      "\u001b[1m\u001b[33mWARNING: \u001b[39m\u001b[22m\u001b[33mu_crra_prime_inv\u001b[39m\n",
      "\u001b[1m\u001b[33mWARNING: \u001b[39m\u001b[22m\u001b[33mu_crra_prime_inv\u001b[39m\n",
      "\u001b[1m\u001b[33mWARNING: \u001b[39m\u001b[22m\u001b[33mu_crra_prime_inv\u001b[39m\n",
      "\u001b[1m\u001b[33mWARNING: \u001b[39m\u001b[22m\u001b[33mu_crra_prime_inv\u001b[39m\n",
      "\u001b[1m\u001b[33mWARNING: \u001b[39m\u001b[22m\u001b[33mu_crra_prime_inv\u001b[39m\n",
      "\u001b[1m\u001b[33mWARNING: \u001b[39m\u001b[22m\u001b[33mu_crra_prime_inv\u001b[39m\n",
      "\u001b[1m\u001b[33mWARNING: \u001b[39m\u001b[22m\u001b[33mu_crra_prime_inv\u001b[39m\n",
      "\u001b[1m\u001b[33mWARNING: \u001b[39m\u001b[22m\u001b[33mu_crra_prime_inv\u001b[39m\n",
      "\u001b[1m\u001b[33mWARNING: \u001b[39m\u001b[22m\u001b[33mu_crra_prime_inv\u001b[39m\n",
      "\u001b[1m\u001b[33mWARNING: \u001b[39m\u001b[22m\u001b[33mu_crra_prime_inv\u001b[39m\n",
      "\u001b[1m\u001b[33mWARNING: \u001b[39m\u001b[22m\u001b[33mu_crra_prime_inv\u001b[39m\n",
      "\u001b[1m\u001b[33mWARNING: \u001b[39m\u001b[22m\u001b[33mu_crra_prime_inv\u001b[39m\n",
      "\u001b[1m\u001b[33mWARNING: \u001b[39m\u001b[22m\u001b[33mu_crra_prime_inv\u001b[39m\n"
     ]
    },
    {
     "name": "stdout",
     "output_type": "stream",
     "text": [
      " 176  1.4897869e-02 1.55e-02 1.54e+00  -3.5 3.52e+00    -  5.45e-01 6.25e-02h  5\n",
      " 177  1.3998731e-02 6.50e-04 2.29e-01  -3.5 1.46e-01    -  1.00e+00 1.00e+00h  1\n",
      " 178  1.3915810e-02 8.19e-04 3.17e-01  -3.5 1.85e+00    -  9.05e-01 3.09e-02h  6\n",
      " 179  1.4668598e-02 1.18e-04 1.87e+00  -3.5 4.52e-01    -  1.00e+00 1.00e+00H  1\n",
      "iter    objective    inf_pr   inf_du lg(mu)  ||d||  lg(rg) alpha_du alpha_pr  ls\n",
      " 180  1.4554066e-02 1.83e-04 1.51e+00  -3.5 2.39e+00    -  1.00e+00 3.12e-02h  6\n",
      " 181  1.3096265e-02 3.19e-03 1.40e-01  -3.5 2.09e+00    -  1.00e+00 1.25e-01h  4\n",
      " 182  1.2609923e-02 1.89e-03 4.36e-01  -3.5 1.78e-01    -  1.00e+00 1.00e+00h  1\n",
      " 183  1.2526490e-02 1.99e-03 4.10e-01  -3.5 8.67e+00    -  4.12e-01 9.63e-03h  5\n",
      " 184  1.2463492e-02 2.85e-03 8.78e-01  -3.5 1.12e+00    -  1.00e+00 1.19e-01h  4\n",
      " 185  1.2462809e-02 2.77e-03 3.94e-01  -3.5 1.14e+00    -  1.00e+00 3.12e-02h  6\n",
      " 186  1.2479116e-02 3.60e-03 6.18e-01  -3.5 1.55e+00    -  1.00e+00 1.25e-01h  4\n",
      " 187  1.2460288e-02 3.59e-03 4.84e-01  -3.5 2.71e+00    -  2.77e-01 1.56e-02h  7\n",
      " 188  1.2231519e-02 4.00e-03 1.48e-01  -3.5 3.88e-01    -  1.00e+00 1.00e+00h  1\n",
      " 189  1.2200794e-02 3.98e-03 9.10e-02  -3.5 2.62e+00    -  1.00e+00 1.56e-02h  7\n",
      "iter    objective    inf_pr   inf_du lg(mu)  ||d||  lg(rg) alpha_du alpha_pr  ls\n",
      " 190  1.2133631e-02 4.18e-03 4.87e-01  -3.5 1.04e+00    -  1.00e+00 1.25e-01h  4\n",
      " 191  1.2497868e-02 4.27e-03 4.88e-01  -3.5 7.04e-01    -  1.00e+00 1.03e-01h  3\n",
      " 192  1.2232961e-02 2.42e-03 7.61e-02  -3.5 4.88e-01    -  9.47e-01 1.00e+00h  1\n",
      " 193  1.2159480e-02 2.81e-03 4.41e-01  -3.5 1.40e+01    -  3.03e-01 1.31e-02h  6\n",
      " 194  1.2106988e-02 2.87e-03 5.80e-01  -3.5 2.33e+00    -  1.00e+00 6.25e-02h  5\n",
      " 195  1.2006067e-02 2.98e-03 8.25e-02  -3.5 8.04e+00    -  4.52e-01 1.43e-02h  5\n",
      " 196  1.1961667e-02 2.94e-03 3.39e-01  -3.5 1.85e+00    -  1.00e+00 6.25e-02h  5\n",
      " 197  1.1790294e-02 3.00e-03 2.19e-01  -3.5 3.36e+00    -  5.78e-01 1.54e-02h  4\n",
      " 198  1.1782656e-02 3.04e-04 1.39e-01  -3.5 1.53e-01    -  1.00e+00 1.00e+00h  1\n",
      " 199  1.2035647e-02 7.00e-05 3.65e-01  -4.4 2.91e-01    -  9.98e-01 1.00e+00H  1\n",
      "iter    objective    inf_pr   inf_du lg(mu)  ||d||  lg(rg) alpha_du alpha_pr  ls\n",
      " 200  1.2023860e-02 6.67e-05 4.46e-01  -4.4 8.39e+00    -  8.55e-01 7.74e-03h  6\n",
      " 201  1.3941647e-02 2.39e-05 3.26e-01  -4.4 6.04e-01    -  1.00e+00 1.00e+00H  1\n",
      " 202  1.3916428e-02 4.11e-05 3.26e-01  -4.4 3.47e+01    -  9.10e-02 1.18e-03h  8\n",
      " 203  1.3907657e-02 1.31e-03 8.85e-01  -4.2 1.32e+01    -  1.00e+00 1.39e-02h  4\n",
      " 204  2.1467506e-02 2.61e-04 7.53e-01  -4.3 4.07e-01    -  1.00e+00 1.00e+00H  1\n",
      " 205  1.2213578e-02 5.91e-03 2.27e-01  -4.3 5.40e-01    -  1.00e+00 1.00e+00h  1\n",
      " 206  1.2786349e-02 5.49e-03 4.34e-01  -4.3 6.58e-01    -  1.00e+00 1.16e-01h  4\n",
      " 207  1.2750263e-02 4.49e-03 9.64e-01  -4.3 7.94e-01    -  6.42e-01 2.50e-01h  3\n",
      " 208  1.2303591e-02 4.62e-03 2.54e-01  -4.3 1.49e+00    -  1.00e+00 6.25e-02h  5\n",
      " 209  1.2278792e-02 4.66e-03 2.35e-01  -4.3 4.09e+00    -  1.00e+00 3.12e-02h  6\n",
      "iter    objective    inf_pr   inf_du lg(mu)  ||d||  lg(rg) alpha_du alpha_pr  ls\n",
      " 210  1.2242747e-02 6.74e-03 1.54e-01  -4.3 2.83e+01    -  4.03e-01 1.39e-02h  4\n",
      " 211  1.2202602e-02 7.44e-03 9.12e-02  -4.3 7.31e+00    -  5.21e-01 3.96e-02h  5\n",
      " 212  1.2056641e-02 7.67e-03 1.48e-01  -4.3 1.89e+01    -  5.28e-01 9.64e-03h  5\n",
      " 213  1.2043641e-02 7.68e-03 3.28e-01  -4.3 3.40e+00    -  6.36e-01 5.06e-02h  5\n",
      " 214  1.2123986e-02 7.00e-03 4.83e-01  -4.3 1.55e+00    -  1.00e+00 1.25e-01h  4\n",
      " 215  1.2105735e-02 6.96e-03 4.85e-01  -4.3 2.87e+00    -  1.00e+00 5.39e-02h  5\n",
      " 216  8.6525800e-01 2.18e-01 2.87e+01  -4.3 4.00e+01    -  2.36e-01 5.44e-02w  1\n",
      " 217  8.5743310e-01 1.06e+01 6.38e+03  -4.3 3.31e+00    -  7.12e-02 9.28e-01w  1\n",
      " 218  7.7509975e-01 1.00e+06 5.40e+01  -4.3 4.16e+00    -  4.59e-01 2.21e-01w  1\n"
     ]
    },
    {
     "name": "stderr",
     "output_type": "stream",
     "text": [
      "\u001b[1m\u001b[33mWARNING: \u001b[39m\u001b[22m\u001b[33mu_crra_prime_inv\u001b[39m\n",
      "\u001b[1m\u001b[33mWARNING: \u001b[39m\u001b[22m\u001b[33mu_crra_prime_inv\u001b[39m\n",
      "\u001b[1m\u001b[33mWARNING: \u001b[39m\u001b[22m\u001b[33mu_crra_prime_inv\u001b[39m\n",
      "\u001b[1m\u001b[33mWARNING: \u001b[39m\u001b[22m\u001b[33mu_crra_prime_inv\u001b[39m\n",
      "\u001b[1m\u001b[33mWARNING: \u001b[39m\u001b[22m\u001b[33mu_crra_prime_inv\u001b[39m\n",
      "\u001b[1m\u001b[33mWARNING: \u001b[39m\u001b[22m\u001b[33mu_crra_prime_inv\u001b[39m\n",
      "\u001b[1m\u001b[33mWARNING: \u001b[39m\u001b[22m\u001b[33mu_crra_prime_inv\u001b[39m\n",
      "\u001b[1m\u001b[33mWARNING: \u001b[39m\u001b[22m\u001b[33mu_crra_prime_inv\u001b[39m\n"
     ]
    },
    {
     "name": "stdout",
     "output_type": "stream",
     "text": [
      " 219  1.2055099e-02 6.97e-03 4.80e-02  -4.3 3.29e+06    -  2.36e-01 4.25e-04h  7\n",
      "iter    objective    inf_pr   inf_du lg(mu)  ||d||  lg(rg) alpha_du alpha_pr  ls\n",
      " 220  4.8654999e-02 8.37e-05 5.40e+00  -4.3 5.91e-01    -  9.91e-01 1.00e+00H  1\n",
      " 221  3.9876464e-02 1.15e-04 2.64e+00  -4.3 8.35e-01    -  1.00e+00 1.25e-01h  4\n",
      " 222  3.6586535e-02 1.73e-04 3.19e+00  -4.3 1.41e+01    -  5.52e-02 1.77e-03f  7\n",
      " 223  3.4018407e-02 2.06e-04 3.27e+00  -4.3 2.28e+00    -  1.00e+00 3.12e-02h  6\n",
      " 224  3.2614751e-02 2.27e-04 3.13e+00  -4.3 4.93e+00    -  8.50e-01 7.81e-03h  8\n",
      " 225  2.7625623e-02 1.51e-02 2.14e+00  -4.3 1.46e+01    -  4.24e-01 8.46e-02h  3\n",
      " 226  3.0969540e-02 1.93e-02 3.96e+00  -4.3 2.21e+01    -  1.15e-01 1.27e-02h  1\n",
      " 227  1.4684728e-02 1.62e-02 1.85e-01  -4.3 9.40e-01    -  1.41e-02 1.00e+00h  1\n",
      " 228  1.2959041e-02 1.70e-02 1.99e+00  -4.3 1.38e+02    -  1.59e-02 1.75e-03h  5\n",
      " 229  1.2406512e-02 8.53e-04 3.42e-01  -4.3 4.79e-01    -  1.00e+00 1.00e+00h  1\n",
      "iter    objective    inf_pr   inf_du lg(mu)  ||d||  lg(rg) alpha_du alpha_pr  ls\n",
      " 230  1.2337427e-02 8.48e-04 1.17e+00  -4.3 1.06e+01    -  4.21e-01 2.43e-03h  6\n",
      " 231  1.1891646e-02 2.56e-04 1.43e-01  -4.3 1.19e-01    -  1.00e+00 1.00e+00h  1\n",
      " 232  1.1877016e-02 3.34e-04 1.43e-01  -4.3 3.01e+00    -  1.00e+00 3.12e-02h  6\n",
      " 233  1.1863509e-02 6.32e-04 2.20e-01  -4.3 8.65e+00    -  2.39e-01 1.77e-02h  6\n",
      " 234  1.1855130e-02 6.38e-04 2.05e-01  -4.3 2.02e+01    -  1.24e-01 6.26e-04h  8\n",
      " 235  1.1827039e-02 3.99e-04 1.22e-01  -4.3 1.68e-01    -  1.00e+00 1.00e+00h  1\n",
      " 236  1.1820298e-02 4.00e-04 7.08e-02  -4.3 5.22e+00    -  9.00e-01 3.18e-03h  9\n",
      " 237  1.1798066e-02 4.59e-04 1.10e-02  -4.3 1.74e-01    -  1.00e+00 1.00e+00h  1\n",
      " 238  1.1798094e-02 4.59e-04 6.95e-02  -4.3 6.38e+00    -  6.76e-01 1.01e-03h  9\n",
      " 239  1.1913725e-02 2.31e-04 1.77e-01  -4.3 4.05e-01    -  1.00e+00 1.00e+00H  1\n",
      "iter    objective    inf_pr   inf_du lg(mu)  ||d||  lg(rg) alpha_du alpha_pr  ls\n",
      " 240  1.3487932e-02 1.07e-04 2.32e+00  -4.3 3.96e-01    -  1.00e+00 1.00e+00H  1\n",
      " 241  1.3179110e-02 9.89e-05 1.83e+00  -4.3 9.30e-01    -  1.00e+00 6.25e-02h  5\n",
      " 242  1.2990029e-02 1.37e-04 1.75e+00  -4.3 9.42e+00    -  3.64e-01 8.50e-03h  7\n",
      " 243  1.2705130e-02 1.74e-04 1.40e+00  -4.3 3.90e+01    -  5.89e-02 1.27e-03h  7\n",
      " 244  1.2629564e-02 1.81e-04 1.41e+00  -4.3 7.51e+00    -  6.50e-01 2.61e-03h  6\n",
      " 245  1.2604332e-02 1.93e-04 1.53e+00  -4.3 5.87e+00    -  9.53e-01 5.23e-03h  8\n",
      " 246  3.1392822e-02 1.42e-04 7.17e+00  -4.3 6.95e-01    -  1.00e+00 1.00e+00H  1\n",
      " 247  1.2926866e-02 2.09e-05 5.15e-01  -4.3 2.63e-01    -  1.00e+00 1.00e+00H  1\n",
      " 248  1.2786015e-02 4.51e-04 4.02e-01  -3.5 2.38e+00    -  1.00e+00 6.25e-02h  5\n",
      " 249  1.2348248e-02 1.83e-03 4.86e-01  -3.6 2.35e+01    -  2.49e-01 1.62e-02h  5\n",
      "iter    objective    inf_pr   inf_du lg(mu)  ||d||  lg(rg) alpha_du alpha_pr  ls\n",
      " 250  1.2165415e-02 3.06e-03 8.67e-01  -3.6 2.12e+01    -  1.01e-01 1.44e-02h  5\n",
      " 251  1.6963294e-02 1.37e-04 2.77e+00  -3.6 1.47e+00    -  1.00e+00 1.00e+00H  1\n",
      " 252  1.6700184e-02 1.45e-04 2.37e+00  -3.6 6.69e+00    -  9.75e-01 2.80e-02h  6\n",
      " 253  1.6318448e-02 3.00e-04 2.36e+00  -3.6 2.47e+02    -  3.85e-02 6.25e-04h  7\n",
      " 254  1.5979583e-02 4.70e-04 2.29e+00  -3.6 2.43e+02    -  6.80e-02 6.17e-04h  7\n",
      " 255  1.5907107e-02 4.93e-04 2.27e+00  -3.6 1.93e+01    -  1.62e-01 2.74e-03h  8\n",
      " 256  1.2159503e-02 4.61e-03 1.21e+00  -3.6 3.31e+01    -  5.28e-01 2.05e-02h  2\n",
      " 257  1.2112050e-02 4.84e-03 3.05e-01  -3.6 2.88e+01    -  9.02e-02 1.41e-02h  5\n",
      " 258  1.2122623e-02 3.63e-03 6.47e-01  -3.6 7.10e-01    -  1.00e+00 5.00e-01h  2\n",
      " 259  1.2006705e-02 4.87e-03 2.35e-01  -3.6 9.32e+00    -  3.21e-01 4.29e-02h  5\n",
      "iter    objective    inf_pr   inf_du lg(mu)  ||d||  lg(rg) alpha_du alpha_pr  ls\n",
      " 260  1.1976150e-02 4.91e-03 2.09e-02  -3.6 9.89e+00    -  1.00e+00 1.06e-02h  7\n",
      " 261  1.7348806e-02 7.72e-04 3.16e+00  -3.6 1.75e+00    -  1.00e+00 1.00e+00H  1\n",
      " 262  1.2416356e-02 5.69e-04 9.45e-01  -3.6 1.41e+00    -  1.00e+00 1.00e+00H  1\n",
      " 263  1.2090040e-02 1.82e-03 6.98e-01  -3.6 4.48e+01    -  2.60e-01 9.39e-03h  3\n",
      " 264  1.2170522e-02 2.75e-04 2.13e-01  -3.6 1.15e-01    -  1.00e+00 1.00e+00h  1\n",
      " 265  3.3283905e-02 2.78e-04 7.26e+00  -3.6 8.95e-01    -  7.78e-01 1.00e+00H  1\n",
      " 266  3.3131326e-02 2.85e-04 7.24e+00  -3.6 1.10e+01    -  4.09e-01 2.62e-03h  7\n",
      " 267  3.2992473e-02 2.90e-04 7.26e+00  -3.6 2.36e+02    -  4.53e-02 1.05e-04h  9\n",
      " 268  3.2787879e-02 2.92e-04 7.20e+00  -3.6 2.82e+02    -  4.12e-02 6.82e-05h 10\n",
      " 269  3.2768908e-02 2.92e-04 7.20e+00  -3.6 8.59e+02    -  2.56e-02 9.45e-06h 11\n",
      "iter    objective    inf_pr   inf_du lg(mu)  ||d||  lg(rg) alpha_du alpha_pr  ls\n",
      " 270  3.2759272e-02 2.92e-04 7.20e+00  -3.6 4.37e+02    -  9.53e-02 9.29e-06h 12\n",
      " 271  2.1287695e-02 9.08e-02 6.11e+00  -3.6 8.88e+01    -  1.00e+00 4.72e-02h  2\n",
      " 272  2.1296409e-02 8.16e-02 6.85e+00  -3.6 3.39e-01    -  5.62e-01 1.03e-01h  3\n",
      " 273  2.9419618e-02 5.85e-02 3.50e-01  -3.6 1.74e-01    -  1.00e+00 2.94e-01h  2\n",
      " 274  2.9986465e-02 5.22e-02 1.12e+00  -3.6 2.14e-01    -  1.00e+00 1.09e-01h  3\n",
      " 275  3.1038126e-02 4.83e-02 1.09e+00  -3.6 2.03e-01    -  1.00e+00 7.42e-02h  4\n",
      " 276  4.1053354e-02 1.49e-02 4.98e+00  -3.6 3.10e-01    -  1.00e+00 7.55e-01w  1\n",
      " 277  3.6043656e-02 1.47e-03 1.71e+00  -3.6 1.72e-01    -  2.32e-01 1.00e+00w  1\n",
      " 278  7.4968473e-02 4.88e-02 2.00e+01  -3.6 5.13e-01    -  1.00e+00 1.00e+00w  1\n",
      " 279  3.1528298e-02 3.94e-02 1.92e+00  -3.6 1.80e-01    -  1.00e+00 1.89e-01h  2\n",
      "iter    objective    inf_pr   inf_du lg(mu)  ||d||  lg(rg) alpha_du alpha_pr  ls\n",
      " 280  3.4461643e-02 1.51e-02 6.89e+00  -3.6 5.47e-01    -  6.50e-01 1.00e+00h  1\n",
      " 281  1.4032437e-01 1.82e-02 7.27e+00  -3.6 8.57e-01    -  1.00e+00 1.00e+00h  1\n",
      " 282  2.5048465e-02 1.48e-02 8.85e-01  -3.6 7.45e-01    -  1.00e+00 1.00e+00h  1\n",
      " 283  3.8160116e-02 1.31e-02 6.66e+00  -3.6 3.91e-01    -  7.57e-01 1.00e+00h  1\n",
      " 284  1.8243998e-02 2.83e-03 7.62e-01  -3.6 1.40e-01    -  1.00e+00 1.00e+00h  1\n",
      " 285  1.6264399e-02 1.54e-03 1.13e+00  -3.6 1.26e-01    -  1.00e+00 1.00e+00h  1\n",
      " 286  4.8904179e-02 8.36e-04 5.38e+00  -3.6 5.14e-01    -  1.00e+00 1.00e+00H  1\n",
      " 287  1.4842034e-02 2.31e-03 9.91e-01  -3.6 3.49e-01    -  1.00e+00 1.00e+00h  1\n",
      " 288  1.5947264e-02 1.35e-03 2.44e+00  -3.6 1.31e-01    -  1.00e+00 1.00e+00h  1\n",
      " 289  1.4098312e-02 1.04e-03 3.05e-01  -3.6 1.40e-01    -  1.00e+00 1.00e+00h  1\n",
      "iter    objective    inf_pr   inf_du lg(mu)  ||d||  lg(rg) alpha_du alpha_pr  ls\n",
      " 290  1.4073215e-02 2.58e-04 3.52e-01  -3.6 5.28e-02    -  1.00e+00 1.00e+00h  1\n",
      " 291  1.4068661e-02 3.32e-04 4.23e-01  -3.6 1.13e+00    -  1.00e+00 3.12e-02h  6\n",
      " 292  1.4008528e-02 2.69e-05 3.95e-01  -3.6 2.52e-02    -  1.00e+00 1.00e+00h  1\n",
      " 293  1.3972296e-02 4.79e-06 2.03e-01  -3.6 1.11e-02    -  1.00e+00 1.00e+00h  1\n",
      " 294  1.3947457e-02 1.06e-05 4.23e-02  -4.3 6.03e-01    -  1.00e+00 3.12e-02h  6\n",
      " 295  1.3795120e-02 2.59e-04 3.32e-01  -6.1 7.18e-02    -  1.00e+00 1.00e+00h  1\n",
      " 296  1.3815762e-02 2.75e-04 2.94e-01  -6.1 3.34e+00    -  1.53e-01 8.45e-03h  7\n",
      " 297  1.3783405e-02 1.78e-03 1.26e-01  -6.1 6.91e-01    -  1.00e+00 2.50e-01h  3\n",
      " 298  1.3692777e-02 6.84e-03 8.59e-01  -6.1 6.47e+01    -  3.20e-02 5.02e-03h  4\n",
      " 299  1.3661934e-02 8.15e-03 3.89e-01  -6.1 3.51e+00    -  1.00e+00 6.25e-02h  5\n",
      "iter    objective    inf_pr   inf_du lg(mu)  ||d||  lg(rg) alpha_du alpha_pr  ls\n",
      " 300  1.3484625e-02 8.32e-03 3.22e-01  -6.1 3.48e+00    -  7.11e-01 3.12e-02h  6\n",
      " 301  1.3276043e-02 8.98e-03 1.61e-01  -6.1 5.37e+00    -  2.99e-01 3.00e-02h  5\n",
      " 302  1.3516847e-02 6.93e-03 2.46e-01  -6.1 4.82e-01    -  1.00e+00 2.50e-01h  3\n",
      " 303  1.3161668e-02 1.54e-03 1.22e+00  -6.1 1.75e-01    -  1.00e+00 1.00e+00h  1\n",
      " 304  1.2507031e-02 2.76e-03 1.61e+00  -6.1 6.52e-01    -  1.00e+00 1.00e+00H  1\n",
      " 305  1.2378905e-02 2.60e-03 5.47e-01  -6.1 6.73e+01    -  8.99e-03 9.12e-04h  7\n",
      " 306  1.1820900e-02 3.66e-03 5.57e-01  -6.1 4.29e+00    -  8.19e-01 6.25e-02h  5\n",
      " 307  1.2220843e-02 3.39e-03 6.24e-01  -6.1 4.49e+01    -  2.89e-02 2.98e-03h  7\n",
      " 308  1.2092267e-02 3.66e-03 7.10e-01  -6.1 1.95e+00    -  1.00e+00 1.25e-01h  4\n",
      " 309  1.1857064e-02 3.41e-03 2.44e-01  -6.1 2.75e+00    -  1.00e+00 1.19e-01h  4\n",
      "iter    objective    inf_pr   inf_du lg(mu)  ||d||  lg(rg) alpha_du alpha_pr  ls\n",
      " 310  1.1792193e-02 3.57e-04 2.25e-01  -6.1 1.85e-01    -  1.00e+00 1.00e+00h  1\n",
      " 311  1.1791766e-02 3.63e-04 2.32e-01  -6.1 1.12e+01    -  3.14e-01 1.46e-03h  8\n",
      " 312  1.1787891e-02 3.78e-04 1.94e-02  -6.1 1.10e+02    -  3.43e-02 2.79e-04h  8\n",
      " 313  1.1784694e-02 4.50e-04 1.73e-02  -6.1 2.16e+02    -  1.87e-02 2.51e-04h  6\n",
      " 314  1.1774803e-02 2.80e-05 8.55e-02  -6.1 1.96e-01    -  1.00e+00 1.00e+00H  1\n",
      " 315  1.1773984e-02 3.79e-05 8.98e-02  -5.4 1.68e+01    -  1.00e+00 1.17e-03h  7\n",
      " 316  1.1767976e-02 1.79e-04 1.70e-02  -5.5 1.20e-01    -  1.00e+00 1.00e+00h  1\n",
      " 317  1.1767890e-02 1.83e-04 1.78e-02  -4.7 2.67e+01    -  1.00e+00 5.86e-04h  9\n",
      " 318  1.1767659e-02 1.84e-04 2.93e-02  -4.9 3.40e+01    -  2.07e-01 2.78e-04h 10\n",
      " 319  2.6178745e-02 1.10e-04 9.11e+00  -5.3 1.18e+00    -  9.88e-01 1.00e+00H  1\n",
      "iter    objective    inf_pr   inf_du lg(mu)  ||d||  lg(rg) alpha_du alpha_pr  ls\n",
      " 320  1.4188961e-02 1.70e-02 7.57e-01  -5.4 8.22e-01    -  1.00e+00 1.00e+00h  1\n",
      " 321  1.5309142e-02 1.14e-02 4.38e+00  -5.4 7.55e-01    -  1.00e+00 1.00e+00h  1\n",
      " 322  1.8671007e-02 2.82e-03 4.84e+00  -5.4 3.44e-01    -  7.66e-01 1.00e+00H  1\n",
      " 323  1.4100002e-02 2.96e-02 1.16e+00  -5.4 3.33e+00    -  1.00e+00 5.00e-01h  2\n",
      " 324  1.3463166e-02 3.25e-02 1.33e+00  -5.4 6.31e+02    -  4.57e-03 5.56e-04h  5\n",
      " 325  1.3236210e-02 3.67e-02 1.42e+00  -5.4 2.81e+01    -  1.74e-01 1.56e-02h  4\n",
      " 326  1.3208251e-02 3.92e-02 1.40e+00  -5.4 4.04e+01    -  8.76e-02 8.13e-03h  5\n",
      " 327  1.3202103e-02 3.92e-02 1.39e+00  -5.4 1.63e+01    -  8.34e-01 6.26e-03h  6\n",
      " 328  1.3249207e-02 3.73e-02 1.29e+00  -5.4 3.15e+00    -  1.00e+00 1.25e-01h  4\n",
      " 329  1.3714171e-02 2.80e-02 9.36e-01  -5.4 4.05e-02    -  1.00e+00 2.50e-01h  3\n",
      "iter    objective    inf_pr   inf_du lg(mu)  ||d||  lg(rg) alpha_du alpha_pr  ls\n",
      " 330  1.6221926e-02 8.48e-04 3.37e+00  -5.4 3.09e-02    -  1.00e+00 1.00e+00h  1\n",
      " 331  1.4872633e-02 6.83e-05 5.47e-01  -5.4 1.38e-02    -  1.00e+00 1.00e+00h  1\n",
      " 332  1.4388895e-02 1.65e-05 1.56e-01  -5.4 5.72e-03    -  1.00e+00 1.00e+00h  1\n",
      " 333  1.4190704e-02 3.71e-06 3.86e-02  -5.4 6.16e-03    -  1.00e+00 1.00e+00h  1\n",
      " 334  1.3508762e-02 5.96e-05 5.16e-01  -5.4 2.65e-02    -  1.00e+00 1.00e+00h  1\n",
      " 335  1.2472423e-02 2.24e-04 5.88e-01  -5.4 5.72e-02    -  1.00e+00 1.00e+00h  1\n",
      " 336  1.3246999e-02 9.02e-06 2.52e+00  -5.4 6.34e-02    -  1.00e+00 1.00e+00H  1\n",
      " 337  1.2565620e-02 1.02e-03 2.11e-01  -6.0 6.18e-02    -  1.00e+00 1.00e+00h  1\n",
      " 338  1.2829144e-02 1.04e-03 1.10e+00  -6.1 1.26e-01    -  1.00e+00 1.00e+00H  1\n",
      " 339  1.2606629e-02 2.08e-04 1.30e+00  -6.1 4.00e-02    -  1.00e+00 1.00e+00h  1\n",
      "iter    objective    inf_pr   inf_du lg(mu)  ||d||  lg(rg) alpha_du alpha_pr  ls\n",
      " 340  1.2023646e-02 3.55e-04 2.95e-01  -6.1 6.34e-02    -  1.00e+00 1.00e+00h  1\n",
      " 341  1.2098991e-02 5.87e-05 3.82e-01  -6.1 2.95e-02    -  1.00e+00 1.00e+00h  1\n",
      " 342  1.3356843e-02 9.76e-06 2.69e+00  -6.1 5.81e-02    -  1.00e+00 1.00e+00H  1\n",
      " 343  1.1996077e-02 3.02e-04 1.75e-01  -6.1 3.43e-02    -  1.00e+00 1.00e+00h  1\n",
      " 344  1.1994046e-02 4.00e-05 1.01e-01  -6.1 1.66e-02    -  1.00e+00 1.00e+00h  1\n",
      " 345  1.1993176e-02 6.26e-07 4.03e-03  -6.1 3.23e-03    -  1.00e+00 1.00e+00h  1\n",
      " 346  1.1993394e-02 4.60e-07 4.82e-02  -8.2 4.60e-03    -  1.00e+00 1.00e+00h  1\n",
      " 347  1.2003171e-02 1.34e-08 3.36e-03  -9.9 1.62e-02    -  1.00e+00 1.00e+00H  1\n",
      " 348  1.1995989e-02 2.43e-05 1.11e-01 -11.0 1.47e-02    -  1.00e+00 1.00e+00h  1\n",
      " 349  1.2012845e-02 4.42e-07 2.22e-01 -11.0 2.45e-02    -  1.00e+00 1.00e+00H  1\n",
      "iter    objective    inf_pr   inf_du lg(mu)  ||d||  lg(rg) alpha_du alpha_pr  ls\n",
      " 350  1.1996745e-02 3.86e-06 7.88e-02 -11.0 3.10e-02    -  1.00e+00 1.00e+00H  1\n",
      " 351  1.2071533e-02 1.37e-08 1.18e-02 -11.0 3.60e-02    -  1.00e+00 1.00e+00H  1\n",
      " 352  1.2030842e-02 1.64e-07 3.23e-01 -11.0 2.93e-02    -  1.00e+00 1.00e+00H  1\n",
      " 353  1.2010855e-02 1.68e-06 2.59e-01 -11.0 2.12e-01    -  1.00e+00 3.12e-02h  6\n",
      " 354  1.2004525e-02 5.93e-07 3.54e-02 -11.0 2.13e-02    -  1.00e+00 1.00e+00H  1\n",
      " 355  1.2778655e-02 7.16e-08 5.27e-02 -11.0 3.36e-02    -  1.00e+00 1.00e+00H  1\n",
      " 356  1.1974500e-02 1.73e-04 1.33e-02 -11.0 5.22e-02    -  1.00e+00 1.00e+00f  1\n",
      " 357  1.2073551e-02 3.75e-07 4.97e-01 -11.0 5.60e-02    -  1.00e+00 1.00e+00H  1\n",
      " 358  1.1995520e-02 1.39e-04 9.56e-02 -11.0 3.71e-02    -  1.00e+00 1.00e+00h  1\n",
      " 359  1.1995182e-02 1.38e-04 6.02e-02 -11.0 2.19e-01    -  1.00e+00 3.12e-02h  6\n",
      "iter    objective    inf_pr   inf_du lg(mu)  ||d||  lg(rg) alpha_du alpha_pr  ls\n",
      " 360  1.1994012e-02 3.35e-06 1.91e-02 -11.0 7.30e-03    -  1.00e+00 1.00e+00h  1\n",
      " 361  1.2022044e-02 8.44e-08 7.72e-03 -11.0 1.83e-02    -  1.00e+00 1.00e+00H  1\n",
      " 362  1.1987134e-02 3.39e-05 5.38e-03 -11.0 1.70e-02    -  1.00e+00 1.00e+00h  1\n",
      " 363  1.2122674e-02 1.00e-05 4.52e-02 -11.0 6.23e-02    -  1.00e+00 1.00e+00H  1\n",
      " 364  1.1965583e-02 3.13e-04 6.75e-02 -11.0 6.03e-02    -  1.00e+00 1.00e+00h  1\n",
      " 365  1.2064883e-02 2.77e-04 7.16e-01 -11.0 3.20e-01    -  1.00e+00 6.25e-02h  5\n",
      " 366  1.1966288e-02 2.81e-05 1.22e-02 -11.0 2.21e-02    -  1.00e+00 1.00e+00h  1\n",
      " 367  1.2025005e-02 2.96e-06 1.40e-01 -11.0 4.15e-02    -  1.00e+00 1.00e+00H  1\n",
      " 368  1.1932218e-02 3.51e-05 7.67e-02 -11.0 3.67e-02    -  1.00e+00 1.00e+00h  1\n",
      " 369  1.1931880e-02 3.50e-05 9.63e-02 -11.0 8.57e-01    -  1.00e+00 2.41e-03h  9\n",
      "iter    objective    inf_pr   inf_du lg(mu)  ||d||  lg(rg) alpha_du alpha_pr  ls\n",
      " 370  1.1909000e-02 6.04e-05 9.26e-02 -11.0 5.43e-02    -  1.00e+00 1.00e+00h  1\n",
      " 371  1.1909558e-02 6.35e-05 1.11e-01 -11.0 8.62e+00    -  3.35e-01 1.03e-03h  7\n",
      " 372  1.1890821e-02 8.94e-04 7.34e-02 -11.0 2.01e-01    -  1.00e+00 1.00e+00h  1\n",
      " 373  1.1890145e-02 8.95e-04 2.40e-02 -11.0 9.98e+01    -  5.78e-02 2.36e-05h 10\n",
      " 374  1.1827279e-02 3.78e-04 2.79e-02 -11.0 1.30e-01    -  1.00e+00 1.00e+00h  1\n",
      " 375  1.1827180e-02 3.78e-04 3.08e-02 -11.0 1.37e+01    -  3.95e-01 4.28e-04h 10\n",
      " 376  1.1836659e-02 4.12e-04 2.28e-01 -11.0 1.73e+01    -  1.39e-01 1.53e-03h  5\n",
      " 377  1.1790673e-02 4.35e-04 6.65e-02 -11.0 1.61e-01    -  1.00e+00 1.00e+00h  1\n",
      " 378  1.1790861e-02 4.34e-04 7.06e-02 -11.0 1.31e+00    -  1.00e+00 7.81e-03h  8\n",
      " 379  1.1801631e-02 7.82e-05 4.21e-01 -11.0 6.09e-02    -  1.00e+00 1.00e+00h  1\n",
      "iter    objective    inf_pr   inf_du lg(mu)  ||d||  lg(rg) alpha_du alpha_pr  ls\n",
      " 380  1.1799320e-02 1.17e-04 4.10e-01 -11.0 6.57e+00    -  5.79e-01 6.86e-03h  7\n",
      " 381  1.1798292e-02 2.87e-04 2.79e-01 -11.0 4.60e+01    -  1.20e-01 1.62e-03h  5\n",
      " 382  1.1795486e-02 3.00e-04 1.96e-01 -11.0 2.38e+02    -  2.08e-02 1.30e-04h  8\n",
      " 383  1.1787013e-02 3.72e-04 1.37e-01 -11.0 1.98e+00    -  4.68e-01 3.12e-02h  6\n",
      " 384  1.1786863e-02 3.80e-04 1.46e-01 -11.0 1.36e+02    -  2.96e-02 1.47e-04h  8\n",
      " 385  1.1778211e-02 2.65e-04 6.86e-02 -11.0 1.36e-01    -  1.00e+00 1.00e+00h  1\n",
      " 386  1.1777260e-02 2.92e-04 1.02e-01 -11.0 1.46e+00    -  1.00e+00 3.12e-02h  6\n",
      " 387  1.1775176e-02 3.24e-04 8.57e-02 -11.0 8.22e-01    -  1.00e+00 6.25e-02h  5\n",
      " 388  1.1775128e-02 3.24e-04 9.57e-02 -11.0 1.07e+01    -  1.79e-01 1.38e-04h  9\n"
     ]
    },
    {
     "name": "stdout",
     "output_type": "stream",
     "text": [
      " 389  1.1774432e-02 3.40e-04 3.50e-02 -11.0 2.48e+01    -  1.81e-01 1.38e-03h  8\n",
      "iter    objective    inf_pr   inf_du lg(mu)  ||d||  lg(rg) alpha_du alpha_pr  ls\n",
      " 390  1.1773980e-02 3.45e-04 7.49e-03 -11.0 1.81e+01    -  3.65e-01 8.98e-04h  8\n",
      " 391  1.1757903e-02 2.41e-06 3.74e-03 -11.0 1.42e-02    -  1.00e+00 1.00e+00h  1\n",
      " 392  1.1757817e-02 8.57e-09 1.12e-06 -11.0 7.15e-04    -  1.00e+00 1.00e+00h  1\n",
      " 393  1.1757909e-02 1.10e-09 3.49e-04 -11.0 1.53e-02    -  1.00e+00 1.00e+00H  1\n",
      " 394  1.1760313e-02 6.05e-11 2.03e-03 -11.0 1.15e-02    -  1.00e+00 1.00e+00H  1\n",
      " 395  1.1760309e-02 3.50e-07 1.03e-02 -11.0 1.47e-01    -  1.00e+00 1.56e-02h  7\n",
      " 396  1.1760305e-02 4.46e-07 7.38e-03 -11.0 2.55e+00    -  1.00e+00 9.77e-04h 11\n"
     ]
    },
    {
     "name": "stderr",
     "output_type": "stream",
     "text": [
      "\u001b[1m\u001b[33mWARNING: \u001b[39m\u001b[22m\u001b[33mu_crra_prime_inv\u001b[39m\n",
      "\u001b[1m\u001b[33mWARNING: \u001b[39m\u001b[22m\u001b[33mu_crra_prime_inv\u001b[39m\n",
      "\u001b[1m\u001b[33mWARNING: \u001b[39m\u001b[22m\u001b[33mu_crra_prime_inv\u001b[39m\n",
      "\u001b[1m\u001b[33mWARNING: \u001b[39m\u001b[22m\u001b[33mu_crra_prime_inv\u001b[39m\n",
      "\u001b[1m\u001b[33mWARNING: \u001b[39m\u001b[22m\u001b[33mu_crra_prime_inv\u001b[39m\n",
      "\u001b[1m\u001b[33mWARNING: \u001b[39m\u001b[22m\u001b[33mu_crra_prime_inv\u001b[39m\n",
      "\u001b[1m\u001b[33mWARNING: \u001b[39m\u001b[22m\u001b[33mu_crra_prime_inv\u001b[39m\n",
      "\u001b[1m\u001b[33mWARNING: \u001b[39m\u001b[22m\u001b[33mu_crra_prime_inv\u001b[39m\n",
      "\u001b[1m\u001b[33mWARNING: \u001b[39m\u001b[22m\u001b[33mu_crra_prime_inv\u001b[39m\n",
      "\u001b[1m\u001b[33mWARNING: \u001b[39m\u001b[22m\u001b[33mu_crra_prime_inv\u001b[39m\n",
      "\u001b[1m\u001b[33mWARNING: \u001b[39m\u001b[22m\u001b[33mu_crra_prime_inv\u001b[39m\n",
      "\u001b[1m\u001b[33mWARNING: \u001b[39m\u001b[22m\u001b[33mu_crra_prime_inv\u001b[39m\n",
      "\u001b[1m\u001b[33mWARNING: \u001b[39m\u001b[22m\u001b[33mu_crra_prime_inv\u001b[39m\n",
      "\u001b[1m\u001b[33mWARNING: \u001b[39m\u001b[22m\u001b[33mu_crra_prime_inv\u001b[39m\n",
      "\u001b[1m\u001b[33mWARNING: \u001b[39m\u001b[22m\u001b[33mu_crra_prime_inv\u001b[39m\n",
      "\u001b[1m\u001b[33mWARNING: \u001b[39m\u001b[22m\u001b[33mu_crra_prime_inv\u001b[39m\n",
      "\u001b[1m\u001b[33mWARNING: \u001b[39m\u001b[22m\u001b[33mu_crra_prime_inv\u001b[39m\n",
      "\u001b[1m\u001b[33mWARNING: \u001b[39m\u001b[22m\u001b[33mu_crra_prime_inv\u001b[39m\n",
      "\u001b[1m\u001b[33mWARNING: \u001b[39m\u001b[22m\u001b[33mu_crra_prime_inv\u001b[39m\n",
      "\u001b[1m\u001b[33mWARNING: \u001b[39m\u001b[22m\u001b[33mu_crra_prime_inv\u001b[39m\n"
     ]
    },
    {
     "name": "stdout",
     "output_type": "stream",
     "text": [
      " 397  1.1760190e-02 4.84e-06 1.75e-02 -11.0 2.80e+01    -  1.85e-01 5.45e-04h  9\n",
      " 398  1.1758846e-02 1.27e-05 7.89e-02 -11.0 7.41e+00    -  4.26e-01 3.21e-03h  9\n",
      " 399  1.1758823e-02 1.29e-05 7.79e-02 -11.0 1.44e+00    -  1.00e+00 1.95e-03h 10\n",
      "iter    objective    inf_pr   inf_du lg(mu)  ||d||  lg(rg) alpha_du alpha_pr  ls\n",
      " 400  1.1757848e-02 5.41e-07 4.69e-03 -11.0 4.44e-02    -  1.00e+00 1.00e+00H  1\n",
      " 401  1.1761931e-02 4.60e-12 1.90e-03 -11.0 1.11e-02    -  1.00e+00 1.00e+00H  1\n",
      " 402  1.1758197e-02 3.55e-08 5.72e-04 -11.0 3.34e-02    -  1.00e+00 1.00e+00H  1\n",
      " 403  1.1758180e-02 2.71e-07 9.39e-03 -11.0 3.60e+01    -  1.44e-01 1.20e-04h 11\n",
      " 404  1.1758104e-02 3.41e-07 2.47e-03 -11.0 5.42e+00    -  1.00e+00 2.71e-04h 12\n",
      " 405  1.1758623e-02 2.50e-09 3.23e-04 -11.0 6.84e-02    -  1.00e+00 1.00e+00H  1\n"
     ]
    },
    {
     "name": "stderr",
     "output_type": "stream",
     "text": [
      "\u001b[1m\u001b[33mWARNING: \u001b[39m\u001b[22m\u001b[33mu_crra_prime_inv\u001b[39m\n",
      "\u001b[1m\u001b[33mWARNING: \u001b[39m\u001b[22m\u001b[33mu_crra_prime_inv\u001b[39m\n",
      "\u001b[1m\u001b[33mWARNING: \u001b[39m\u001b[22m\u001b[33mu_crra_prime_inv\u001b[39m\n",
      "\u001b[1m\u001b[33mWARNING: \u001b[39m\u001b[22m\u001b[33mu_crra_prime_inv\u001b[39m\n",
      "\u001b[1m\u001b[33mWARNING: \u001b[39m\u001b[22m\u001b[33mu_crra_prime_inv\u001b[39m\n",
      "\u001b[1m\u001b[33mWARNING: \u001b[39m\u001b[22m\u001b[33mu_crra_prime_inv\u001b[39m\n",
      "\u001b[1m\u001b[33mWARNING: \u001b[39m\u001b[22m\u001b[33mu_crra_prime_inv\u001b[39m\n",
      "\u001b[1m\u001b[33mWARNING: \u001b[39m\u001b[22m\u001b[33mu_crra_prime_inv\u001b[39m\n",
      "\u001b[1m\u001b[33mWARNING: \u001b[39m\u001b[22m\u001b[33mu_crra_prime_inv\u001b[39m\n",
      "\u001b[1m\u001b[33mWARNING: \u001b[39m\u001b[22m\u001b[33mu_crra_prime_inv\u001b[39m\n",
      "\u001b[1m\u001b[33mWARNING: \u001b[39m\u001b[22m\u001b[33mu_crra_prime_inv\u001b[39m\n",
      "\u001b[1m\u001b[33mWARNING: \u001b[39m\u001b[22m\u001b[33mu_crra_prime_inv\u001b[39m\n",
      "\u001b[1m\u001b[33mWARNING: \u001b[39m\u001b[22m\u001b[33mf_prime\u001b[39m\n",
      "\u001b[1m\u001b[33mWARNING: \u001b[39m\u001b[22m\u001b[33mf_prime\u001b[39m\n",
      "\u001b[1m\u001b[33mWARNING: \u001b[39m\u001b[22m\u001b[33mu_crra_prime_inv\u001b[39m\n",
      "\u001b[1m\u001b[33mWARNING: \u001b[39m\u001b[22m\u001b[33mu_crra_prime_inv\u001b[39m\n",
      "\u001b[1m\u001b[33mWARNING: \u001b[39m\u001b[22m\u001b[33mu_crra_prime_inv\u001b[39m\n",
      "\u001b[1m\u001b[33mWARNING: \u001b[39m\u001b[22m\u001b[33mu_crra_prime_inv\u001b[39m\n",
      "\u001b[1m\u001b[33mWARNING: \u001b[39m\u001b[22m\u001b[33mu_crra_prime_inv\u001b[39m\n",
      "\u001b[1m\u001b[33mWARNING: \u001b[39m\u001b[22m\u001b[33mu_crra_prime_inv\u001b[39m\n",
      "\u001b[1m\u001b[33mWARNING: \u001b[39m\u001b[22m\u001b[33mu_crra_prime_inv\u001b[39m\n",
      "\u001b[1m\u001b[33mWARNING: \u001b[39m\u001b[22m\u001b[33mu_crra_prime_inv\u001b[39m\n",
      "\u001b[1m\u001b[33mWARNING: \u001b[39m\u001b[22m\u001b[33mu_crra_prime_inv\u001b[39m\n",
      "\u001b[1m\u001b[33mWARNING: \u001b[39m\u001b[22m\u001b[33mu_crra_prime_inv\u001b[39m\n",
      "\u001b[1m\u001b[33mWARNING: \u001b[39m\u001b[22m\u001b[33mu_crra_prime_inv\u001b[39m\n",
      "\u001b[1m\u001b[33mWARNING: \u001b[39m\u001b[22m\u001b[33mu_crra_prime_inv\u001b[39m\n"
     ]
    },
    {
     "name": "stdout",
     "output_type": "stream",
     "text": [
      " 406  1.1758620e-02 1.65e-08 3.15e-04 -11.0 1.23e+01    -  2.62e-01 7.92e-05h 13\n",
      " 407  1.1758607e-02 3.03e-08 3.64e-04 -11.0 5.92e-01    -  1.00e+00 9.77e-04h 11\n",
      " 408  1.1757833e-02 4.50e-07 1.23e-03 -11.0 4.28e-02    -  1.00e+00 1.00e+00H  1\n",
      " 409  1.1757832e-02 4.53e-07 2.85e-03 -11.0 2.71e+00    -  9.85e-01 2.44e-04h 13\n",
      "iter    objective    inf_pr   inf_du lg(mu)  ||d||  lg(rg) alpha_du alpha_pr  ls\n",
      " 410  1.1757832e-02 4.54e-07 1.96e-03 -11.0 2.08e+00    -  1.00e+00 1.22e-04h 14\n",
      " 411  1.1757819e-02 4.14e-08 1.40e-05 -11.0 1.30e-03    -  1.00e+00 1.00e+00h  1\n",
      " 412  1.1757845e-02 2.40e-09 1.43e-04 -11.0 8.33e-03    -  1.00e+00 1.00e+00H  1\n",
      " 413  1.1757845e-02 1.18e-09 1.44e-04 -11.0 8.32e-01    -  1.00e+00 4.88e-04h 12\n",
      " 414  1.1758222e-02 1.94e-10 5.24e-04 -11.0 2.46e-02    -  1.00e+00 1.00e+00H  1\n",
      " 415  1.1758219e-02 7.08e-09 5.52e-04 -11.0 7.95e-02    -  1.00e+00 3.91e-03h  9\n",
      " 416  1.1774419e-02 3.54e-10 8.51e-03 -11.0 2.23e-02    -  1.00e+00 1.00e+00H  1\n",
      " 417  1.1774383e-02 3.95e-09 8.51e-03 -11.0 2.57e+00    -  1.00e+00 2.44e-04h 13\n",
      " 418  8.1994559e-03 5.19e-01 1.56e+00 -11.0 3.47e+00    -  1.00e+00 1.00e+00H  1\n",
      " 419  3.5103338e-02 1.10e-01 3.68e+00 -11.0 1.16e+00    -  1.00e+00 1.00e+00h  1\n",
      "iter    objective    inf_pr   inf_du lg(mu)  ||d||  lg(rg) alpha_du alpha_pr  ls\n",
      " 420  3.4282021e-02 1.08e-01 3.16e+00 -11.0 1.62e+01    -  3.91e-01 2.84e-02h  4\n",
      " 421  2.7171596e-02 1.85e-01 4.28e-01 -11.0 8.12e+00    -  1.06e-01 4.15e-01h  2\n",
      " 422  2.9272476e-02 1.84e-01 3.80e+00 -11.0 8.27e+01    -  1.80e-02 9.89e-04h  5\n",
      " 423  6.1406140e-02 5.78e-02 1.56e+01 -11.0 3.17e+00    -  1.00e+00 1.00e+00h  1\n",
      " 424  5.0933828e-02 8.19e-02 7.96e+00 -11.0 2.90e+03    -  9.86e-04 8.40e-04f  3\n",
      " 425  4.3802769e-02 1.01e-01 2.68e+00 -11.0 4.79e+01    -  3.44e-01 4.43e-02h  3\n",
      " 426  1.5912537e-02 1.37e-01 2.59e+00 -11.0 5.45e+00    -  1.00e+00 1.00e+00h  1\n",
      " 427  1.5902806e-02 1.37e-01 2.70e+00 -11.0 3.16e+02    -  2.80e-02 4.30e-04h  6\n",
      " 428  2.9268841e-02 1.17e-01 7.02e+00 -11.0 7.74e+00    -  8.98e-01 2.89e-01h  2\n",
      " 429  2.8764495e-02 1.19e-01 6.41e+00 -11.0 9.98e+01    -  5.89e-02 7.14e-03h  5\n",
      "iter    objective    inf_pr   inf_du lg(mu)  ||d||  lg(rg) alpha_du alpha_pr  ls\n",
      " 430  2.7897200e-02 1.21e-01 5.91e+00 -11.0 1.45e+02    -  7.32e-02 4.23e-03h  5\n"
     ]
    },
    {
     "name": "stderr",
     "output_type": "stream",
     "text": [
      "\u001b[1m\u001b[33mWARNING: \u001b[39m\u001b[22m\u001b[33mu_crra_prime_inv\u001b[39m\n",
      "\u001b[1m\u001b[33mWARNING: \u001b[39m\u001b[22m\u001b[33mu_crra_prime_inv\u001b[39m\n",
      "\u001b[1m\u001b[33mWARNING: \u001b[39m\u001b[22m\u001b[33mu_crra_prime_inv\u001b[39m\n",
      "\u001b[1m\u001b[33mWARNING: \u001b[39m\u001b[22m\u001b[33mu_crra_prime_inv\u001b[39m\n",
      "\u001b[1m\u001b[33mWARNING: \u001b[39m\u001b[22m\u001b[33mf_prime\u001b[39m\n",
      "\u001b[1m\u001b[33mWARNING: \u001b[39m\u001b[22m\u001b[33mf_prime\u001b[39m\n",
      "\u001b[1m\u001b[33mWARNING: \u001b[39m\u001b[22m\u001b[33mu_crra_prime_inv\u001b[39m\n",
      "\u001b[1m\u001b[33mWARNING: \u001b[39m\u001b[22m\u001b[33mu_crra_prime_inv\u001b[39m\n",
      "\u001b[1m\u001b[33mWARNING: \u001b[39m\u001b[22m\u001b[33mu_crra_prime_inv\u001b[39m\n",
      "\u001b[1m\u001b[33mWARNING: \u001b[39m\u001b[22m\u001b[33mu_crra_prime_inv\u001b[39m\n",
      "\u001b[1m\u001b[33mWARNING: \u001b[39m\u001b[22m\u001b[33mu_crra_prime_inv\u001b[39m\n",
      "\u001b[1m\u001b[33mWARNING: \u001b[39m\u001b[22m\u001b[33mu_crra_prime_inv\u001b[39m\n",
      "\u001b[1m\u001b[33mWARNING: \u001b[39m\u001b[22m\u001b[33mu_crra_prime_inv\u001b[39m\n",
      "\u001b[1m\u001b[33mWARNING: \u001b[39m\u001b[22m\u001b[33mu_crra_prime_inv\u001b[39m\n",
      "\u001b[1m\u001b[33mWARNING: \u001b[39m\u001b[22m\u001b[33mu_crra_prime_inv\u001b[39m\n",
      "\u001b[1m\u001b[33mWARNING: \u001b[39m\u001b[22m\u001b[33mu_crra_prime_inv\u001b[39m\n",
      "\u001b[1m\u001b[33mWARNING: \u001b[39m\u001b[22m\u001b[33mu_crra_prime_inv\u001b[39m\n",
      "\u001b[1m\u001b[33mWARNING: \u001b[39m\u001b[22m\u001b[33mu_crra_prime_inv\u001b[39m\n",
      "\u001b[1m\u001b[33mWARNING: \u001b[39m\u001b[22m\u001b[33mu_crra_prime_inv\u001b[39m\n",
      "\u001b[1m\u001b[33mWARNING: \u001b[39m\u001b[22m\u001b[33mu_crra_prime_inv\u001b[39m\n",
      "\u001b[1m\u001b[33mWARNING: \u001b[39m\u001b[22m\u001b[33mu_crra_prime_inv\u001b[39m\n",
      "\u001b[1m\u001b[33mWARNING: \u001b[39m\u001b[22m\u001b[33mu_crra_prime_inv\u001b[39m\n",
      "\u001b[1m\u001b[33mWARNING: \u001b[39m\u001b[22m\u001b[33mu_crra_prime_inv\u001b[39m\n",
      "\u001b[1m\u001b[33mWARNING: \u001b[39m\u001b[22m\u001b[33mu_crra_prime_inv\u001b[39m\n",
      "\u001b[1m\u001b[33mWARNING: \u001b[39m\u001b[22m\u001b[33mu_crra_prime_inv\u001b[39m\n",
      "\u001b[1m\u001b[33mWARNING: \u001b[39m\u001b[22m\u001b[33mu_crra_prime_inv\u001b[39m\n",
      "\u001b[1m\u001b[33mWARNING: \u001b[39m\u001b[22m\u001b[33mu_crra_prime_inv\u001b[39m\n",
      "\u001b[1m\u001b[33mWARNING: \u001b[39m\u001b[22m\u001b[33mu_crra_prime_inv\u001b[39m\n",
      "\u001b[1m\u001b[33mWARNING: \u001b[39m\u001b[22m\u001b[33mu_crra_prime_inv\u001b[39m\n",
      "\u001b[1m\u001b[33mWARNING: \u001b[39m\u001b[22m\u001b[33mu_crra_prime_inv\u001b[39m\n",
      "\u001b[1m\u001b[33mWARNING: \u001b[39m\u001b[22m\u001b[33mu_crra_prime_inv\u001b[39m\n",
      "\u001b[1m\u001b[33mWARNING: \u001b[39m\u001b[22m\u001b[33mu_crra_prime_inv\u001b[39m\n",
      "\u001b[1m\u001b[33mWARNING: \u001b[39m\u001b[22m\u001b[33mu_crra_prime_inv\u001b[39m\n",
      "\u001b[1m\u001b[33mWARNING: \u001b[39m\u001b[22m\u001b[33mu_crra_prime_inv\u001b[39m\n"
     ]
    },
    {
     "name": "stdout",
     "output_type": "stream",
     "text": [
      " 431  2.6582926e-02 1.23e-01 5.50e+00 -11.0 1.55e+02    -  4.57e-02 3.42e-03h  5\n",
      " 432  6.8122168e-02 7.38e-02 1.47e+01 -11.0 2.01e-01    -  1.00e+00 4.04e-01h  1\n",
      " 433  1.9469562e-01 9.69e-03 2.27e+01 -11.0 2.17e-01    -  1.00e+00 1.00e+00h  1\n",
      " 434  3.8619603e-02 3.35e-03 5.23e+00 -11.0 1.35e-01    -  1.00e+00 1.00e+00h  1\n",
      " 435  3.7497832e-02 2.76e-04 1.42e-01 -11.0 4.10e-02    -  6.34e-01 1.00e+00h  1\n",
      " 436  2.2054103e-02 3.38e-03 2.55e+00 -11.0 1.74e-01    -  1.00e+00 1.00e+00h  1\n",
      " 437  1.3885056e-02 1.74e-03 2.53e+00 -11.0 1.76e-01    -  1.00e+00 1.00e+00h  1\n",
      " 438  1.7056674e-02 1.24e-04 4.00e+00 -11.0 1.18e-01    -  1.00e+00 1.00e+00H  1\n",
      " 439  1.2169462e-02 3.17e-03 2.93e-01 -11.0 8.76e-02    -  1.00e+00 1.00e+00h  1\n",
      "iter    objective    inf_pr   inf_du lg(mu)  ||d||  lg(rg) alpha_du alpha_pr  ls\n",
      " 440  1.1944082e-02 2.72e-04 3.53e-01 -11.0 4.48e-02    -  1.00e+00 1.00e+00h  1\n",
      " 441  2.1490525e-02 2.51e-05 8.05e+00 -11.0 1.33e-01    -  1.00e+00 1.00e+00H  1\n",
      " 442  1.3744940e-02 4.24e-05 1.40e+00 -11.0 7.84e-02    -  1.00e+00 1.00e+00F  1\n",
      " 443  1.2720604e-02 1.78e-05 3.80e-01 -11.0 1.29e-01    -  1.00e+00 1.00e+00H  1\n",
      " 444  1.2387480e-02 1.20e-04 5.25e-01 -11.0 3.10e-01    -  1.00e+00 1.25e-01h  4\n",
      " 445  1.2188479e-02 1.01e-05 1.93e-01 -11.0 8.45e-02    -  1.00e+00 1.00e+00H  1\n",
      " 446  1.1753772e-02 4.51e-05 4.62e-02 -11.0 3.65e-02    -  1.00e+00 1.00e+00h  1\n",
      " 447  1.1763367e-02 2.90e-07 2.28e-02 -11.0 2.25e-03    -  1.00e+00 1.00e+00h  1\n",
      " 448  1.1762186e-02 9.06e-07 9.10e-03 -11.0 4.08e-03    -  1.00e+00 1.00e+00h  1\n",
      " 449  1.1762149e-02 1.82e-07 1.48e-03 -11.0 1.52e-03    -  1.00e+00 1.00e+00h  1\n",
      "iter    objective    inf_pr   inf_du lg(mu)  ||d||  lg(rg) alpha_du alpha_pr  ls\n",
      " 450  1.1762358e-02 4.92e-09 5.54e-04 -11.0 3.09e-03    -  1.00e+00 1.00e+00H  1\n",
      " 451  1.1763766e-02 7.21e-11 2.44e-03 -11.0 7.23e-04    -  1.00e+00 1.00e+00H  1\n",
      " 452  1.1762043e-02 5.67e-07 6.66e-03 -11.0 2.26e-03    -  1.00e+00 1.00e+00h  1\n",
      " 453  1.1762080e-02 5.49e-09 6.11e-05 -11.0 2.26e-04    -  1.00e+00 1.00e+00h  1\n",
      " 454  1.1762115e-02 1.86e-11 7.74e-05 -11.0 1.07e-03    -  1.00e+00 1.00e+00H  1\n",
      " 455  1.1762107e-02 1.54e-07 3.41e-04 -11.0 1.21e-03    -  1.00e+00 1.00e+00h  1\n",
      " 456  1.1764358e-02 5.85e-09 1.60e-03 -11.0 4.86e-03    -  1.00e+00 1.00e+00H  1\n",
      " 457  1.1761989e-02 2.43e-06 3.03e-04 -11.0 4.72e-03    -  1.00e+00 1.00e+00h  1\n",
      " 458  1.1762035e-02 1.28e-09 9.96e-05 -11.0 2.52e-04    -  1.00e+00 1.00e+00h  1\n",
      " 459  1.1761994e-02 7.95e-08 1.73e-04 -11.0 7.07e-01    -  9.62e-01 1.95e-03h 10\n",
      "iter    objective    inf_pr   inf_du lg(mu)  ||d||  lg(rg) alpha_du alpha_pr  ls\n",
      " 460  1.1761928e-02 1.00e-07 2.10e-03 -11.0 3.24e-01    -  1.00e+00 7.81e-03h  8\n",
      " 461  1.1759018e-02 9.71e-07 9.49e-03 -11.0 5.80e-02    -  1.00e+00 1.00e+00H  1\n",
      " 462  1.1977679e-02 2.41e-10 2.02e-02 -11.0 1.12e-01    -  1.00e+00 1.00e+00H  1\n",
      " 463  1.1766690e-02 3.54e-10 4.53e-04 -11.0 7.15e-02    -  1.00e+00 1.00e+00F  1\n",
      " 464  1.1792942e-02 6.71e-12 1.21e-02 -11.0 6.36e-02    -  1.00e+00 1.00e+00H  1\n",
      " 465  1.1792932e-02 2.43e-10 1.21e-02 -11.0 6.86e+01    -  6.76e-02 1.86e-06f 16\n",
      " 466  1.1792873e-02 2.63e-10 1.21e-02 -11.0 1.06e+02    -  3.95e-02 5.57e-07f 14\n",
      " 467  1.1769976e-02 9.44e-11 1.11e-03 -11.0 2.13e-02    -  1.00e+00 1.00e+00H  1\n",
      " 468  1.1769919e-02 1.70e-10 1.11e-03 -11.0 1.84e-01    -  1.00e+00 2.44e-04h 13\n",
      " 469  1.1769909e-02 2.73e-10 1.11e-03 -11.0 3.51e-01    -  1.00e+00 2.44e-04h 13\n"
     ]
    },
    {
     "name": "stderr",
     "output_type": "stream",
     "text": [
      "\u001b[1m\u001b[33mWARNING: \u001b[39m\u001b[22m\u001b[33mu_crra_prime_inv\u001b[39m\n",
      "\u001b[1m\u001b[33mWARNING: \u001b[39m\u001b[22m\u001b[33mu_crra_prime_inv\u001b[39m\n",
      "\u001b[1m\u001b[33mWARNING: \u001b[39m\u001b[22m\u001b[33mu_crra_prime_inv\u001b[39m\n",
      "\u001b[1m\u001b[33mWARNING: \u001b[39m\u001b[22m\u001b[33mu_crra_prime_inv\u001b[39m\n",
      "\u001b[1m\u001b[33mWARNING: \u001b[39m\u001b[22m\u001b[33mu_crra_prime_inv\u001b[39m\n",
      "\u001b[1m\u001b[33mWARNING: \u001b[39m\u001b[22m\u001b[33mu_crra_prime_inv\u001b[39m\n",
      "\u001b[1m\u001b[33mWARNING: \u001b[39m\u001b[22m\u001b[33mu_crra_prime_inv\u001b[39m\n",
      "\u001b[1m\u001b[33mWARNING: \u001b[39m\u001b[22m\u001b[33mu_crra_prime_inv\u001b[39m\n",
      "\u001b[1m\u001b[33mWARNING: \u001b[39m\u001b[22m\u001b[33mu_crra_prime_inv\u001b[39m\n",
      "\u001b[1m\u001b[33mWARNING: \u001b[39m\u001b[22m\u001b[33mu_crra_prime_inv\u001b[39m\n",
      "\u001b[1m\u001b[33mWARNING: \u001b[39m\u001b[22m\u001b[33mu_crra_prime_inv\u001b[39m\n",
      "\u001b[1m\u001b[33mWARNING: \u001b[39m\u001b[22m\u001b[33mu_crra_prime_inv\u001b[39m\n",
      "\u001b[1m\u001b[33mWARNING: \u001b[39m\u001b[22m\u001b[33mu_crra_prime_inv\u001b[39m\n",
      "\u001b[1m\u001b[33mWARNING: \u001b[39m\u001b[22m\u001b[33mu_crra_prime_inv\u001b[39m\n",
      "\u001b[1m\u001b[33mWARNING: \u001b[39m\u001b[22m\u001b[33mu_crra_prime_inv\u001b[39m\n",
      "\u001b[1m\u001b[33mWARNING: \u001b[39m\u001b[22m\u001b[33mu_crra_prime_inv\u001b[39m\n"
     ]
    },
    {
     "name": "stdout",
     "output_type": "stream",
     "text": [
      "iter    objective    inf_pr   inf_du lg(mu)  ||d||  lg(rg) alpha_du alpha_pr  ls\n",
      " 470  1.1766484e-02 6.75e-05 4.98e-02 -11.0 5.61e+01    -  2.77e-02 9.85e-04f  7\n",
      " 471  1.1766442e-02 6.80e-05 4.97e-02 -11.0 2.41e+01    -  1.82e-01 2.58e-04h 11\n",
      " 472  1.1766406e-02 6.86e-05 5.51e-02 -11.0 2.07e+02    -  2.38e-02 2.66e-05h 10\n",
      " 473  1.1769037e-02 6.40e-05 1.00e-01 -11.0 1.31e-01    -  1.00e+00 1.25e-01h  4\n",
      " 474  1.1768353e-02 6.56e-05 1.01e-01 -11.0 4.56e+00    -  8.12e-01 1.92e-03h  9\n",
      " 475  1.1764195e-02 7.95e-06 1.49e-01 -11.0 9.43e-02    -  1.00e+00 1.00e+00H  1\n",
      " 476  1.1760834e-02 6.01e-06 6.14e-02 -11.0 1.01e-01    -  1.00e+00 1.00e+00H  1\n",
      " 477  1.1760966e-02 3.11e-06 4.93e-02 -11.0 4.24e+01    -  4.16e-02 3.33e-04h  9\n",
      " 478  1.1760698e-02 2.92e-06 7.40e-02 -11.0 1.33e+01    -  4.19e-01 6.26e-04h 11\n",
      " 479  1.1759914e-02 7.79e-06 7.62e-02 -11.0 8.59e+01    -  6.26e-02 2.61e-04h  8\n",
      "iter    objective    inf_pr   inf_du lg(mu)  ||d||  lg(rg) alpha_du alpha_pr  ls\n",
      " 480  1.1759889e-02 7.96e-06 7.38e-02 -11.0 1.02e+02    -  1.85e-02 3.47e-05h 11\n",
      " 481  1.1759664e-02 3.68e-05 4.46e-03 -11.0 4.72e-02    -  1.00e+00 1.00e+00h  1\n",
      " 482  1.1757855e-02 7.82e-07 1.94e-04 -11.0 6.67e-03    -  1.00e+00 1.00e+00h  1\n",
      " 483  1.1757855e-02 7.82e-07 6.99e-04 -11.0 3.46e-01    -  1.00e+00 2.44e-04h 13\n",
      " 484  1.1758597e-02 1.27e-07 8.82e-03 -11.0 2.51e-02    -  1.00e+00 1.00e+00H  1\n",
      " 485  1.1698099e-02 6.01e-03 3.56e-01 -11.0 7.96e-01    -  1.00e+00 1.00e+00H  1\n",
      " 486  3.3606300e-02 6.75e-03 7.43e+00 -11.0 8.89e-01    -  1.00e+00 1.00e+00H  1\n",
      " 487  2.5083183e-02 1.06e-01 4.33e-01 -11.0 3.33e+00    -  1.00e+00 1.00e+00h  1\n",
      " 488  1.9410685e-02 1.07e-01 1.19e+00 -11.0 5.87e+01    -  4.85e-03 4.87e-03h  4\n"
     ]
    },
    {
     "name": "stderr",
     "output_type": "stream",
     "text": [
      "\u001b[1m\u001b[33mWARNING: \u001b[39m\u001b[22m\u001b[33mu_crra_prime_inv\u001b[39m\n",
      "\u001b[1m\u001b[33mWARNING: \u001b[39m\u001b[22m\u001b[33mu_crra_prime_inv\u001b[39m\n",
      "\u001b[1m\u001b[33mWARNING: \u001b[39m\u001b[22m\u001b[33mu_crra_prime_inv\u001b[39m\n",
      "\u001b[1m\u001b[33mWARNING: \u001b[39m\u001b[22m\u001b[33mu_crra_prime_inv\u001b[39m\n",
      "\u001b[1m\u001b[33mWARNING: \u001b[39m\u001b[22m\u001b[33mu_crra_prime_inv\u001b[39m\n",
      "\u001b[1m\u001b[33mWARNING: \u001b[39m\u001b[22m\u001b[33mu_crra_prime_inv\u001b[39m\n",
      "\u001b[1m\u001b[33mWARNING: \u001b[39m\u001b[22m\u001b[33mu_crra_prime_inv\u001b[39m\n",
      "\u001b[1m\u001b[33mWARNING: \u001b[39m\u001b[22m\u001b[33mu_crra_prime_inv\u001b[39m\n",
      "\u001b[1m\u001b[33mWARNING: \u001b[39m\u001b[22m\u001b[33mu_crra_prime_inv\u001b[39m\n",
      "\u001b[1m\u001b[33mWARNING: \u001b[39m\u001b[22m\u001b[33mu_crra_prime_inv\u001b[39m\n",
      "\u001b[1m\u001b[33mWARNING: \u001b[39m\u001b[22m\u001b[33mu_crra_prime_inv\u001b[39m\n",
      "\u001b[1m\u001b[33mWARNING: \u001b[39m\u001b[22m\u001b[33mu_crra_prime_inv\u001b[39m\n",
      "\u001b[1m\u001b[33mWARNING: \u001b[39m\u001b[22m\u001b[33mu_crra_prime_inv\u001b[39m\n",
      "\u001b[1m\u001b[33mWARNING: \u001b[39m\u001b[22m\u001b[33mu_crra_prime_inv\u001b[39m\n",
      "\u001b[1m\u001b[33mWARNING: \u001b[39m\u001b[22m\u001b[33mu_crra_prime_inv\u001b[39m\n",
      "\u001b[1m\u001b[33mWARNING: \u001b[39m\u001b[22m\u001b[33mu_crra_prime_inv\u001b[39m\n",
      "\u001b[1m\u001b[33mWARNING: \u001b[39m\u001b[22m\u001b[33mu_crra_prime_inv\u001b[39m\n",
      "\u001b[1m\u001b[33mWARNING: \u001b[39m\u001b[22m\u001b[33mu_crra_prime_inv\u001b[39m\n",
      "\u001b[1m\u001b[33mWARNING: \u001b[39m\u001b[22m\u001b[33mu_crra_prime_inv\u001b[39m\n",
      "\u001b[1m\u001b[33mWARNING: \u001b[39m\u001b[22m\u001b[33mu_crra_prime_inv\u001b[39m\n",
      "\u001b[1m\u001b[33mWARNING: \u001b[39m\u001b[22m\u001b[33mu_crra_prime_inv\u001b[39m\n",
      "\u001b[1m\u001b[33mWARNING: \u001b[39m\u001b[22m\u001b[33mu_crra_prime_inv\u001b[39m\n",
      "\u001b[1m\u001b[33mWARNING: \u001b[39m\u001b[22m\u001b[33mu_crra_prime_inv\u001b[39m\n",
      "\u001b[1m\u001b[33mWARNING: \u001b[39m\u001b[22m\u001b[33mu_crra_prime_inv\u001b[39m\n"
     ]
    },
    {
     "name": "stdout",
     "output_type": "stream",
     "text": [
      " 489  1.9365934e-02 1.07e-01 5.16e-01 -11.0 3.27e+01    -  2.14e-01 3.14e-03h  6\n",
      "iter    objective    inf_pr   inf_du lg(mu)  ||d||  lg(rg) alpha_du alpha_pr  ls\n",
      " 490  2.0417465e-02 1.07e-01 3.41e+00 -11.0 2.26e+01    -  3.32e-01 7.15e-03h  4\n",
      " 491  1.5336421e-02 1.39e-02 1.83e+00 -11.0 2.05e+00    -  1.00e+00 1.00e+00h  1\n",
      " 492  1.5018889e-02 1.39e-02 2.58e+00 -11.0 3.48e+01    -  9.94e-02 9.09e-03h  4\n",
      " 493  1.2349109e-02 1.06e-03 3.54e-01 -11.0 2.29e-01    -  1.00e+00 1.00e+00h  1\n",
      " 494  1.2331586e-02 1.31e-03 4.35e-01 -11.0 1.33e+01    -  4.40e-01 9.75e-03h  6\n",
      " 495  1.2293199e-02 1.54e-03 7.12e-01 -11.0 3.75e+02    -  3.74e-03 2.52e-04h  6\n",
      " 496  1.2292085e-02 1.54e-03 8.47e-01 -11.0 5.00e+01    -  1.16e-01 2.85e-04h  9\n",
      " 497  1.1946532e-02 7.08e-05 2.26e-01 -11.0 8.84e-02    -  1.00e+00 1.00e+00h  1\n",
      " 498  1.1916610e-02 1.29e-03 3.82e-01 -11.0 5.88e+00    -  4.99e-01 3.31e-02h  4\n",
      " 499  1.1911895e-02 7.64e-04 3.46e-02 -11.0 2.30e-01    -  1.00e+00 1.00e+00h  1\n",
      "iter    objective    inf_pr   inf_du lg(mu)  ||d||  lg(rg) alpha_du alpha_pr  ls\n",
      " 500  9.2376293e-03 2.15e-01 1.42e+00 -11.0 2.81e+00    -  1.00e+00 1.00e+00H  1\n",
      "\n",
      "Number of Iterations....: 500\n",
      "\n",
      "                                   (scaled)                 (unscaled)\n",
      "Objective...............:   9.2376293130072475e-03    9.2376293130072475e-03\n",
      "Dual infeasibility......:   1.4219724648298759e+00    1.4219724648298759e+00\n",
      "Constraint violation....:   2.1454742239223989e-01    2.1454742239223989e-01\n",
      "Complementarity.........:   9.9999859779772300e-12    9.9999859779772300e-12\n",
      "Overall NLP error.......:   1.4219724648298759e+00    1.4219724648298759e+00\n",
      "\n",
      "\n",
      "Number of objective function evaluations             = 2487\n",
      "Number of objective gradient evaluations             = 501\n",
      "Number of equality constraint evaluations            = 2540\n",
      "Number of inequality constraint evaluations          = 2540\n",
      "Number of equality constraint Jacobian evaluations   = 501\n",
      "Number of inequality constraint Jacobian evaluations = 501\n",
      "Number of Lagrangian Hessian evaluations             = 0\n",
      "Total CPU secs in IPOPT (w/o function evaluations)   =      0.648\n",
      "Total CPU secs in NLP function evaluations           =      2.064\n",
      "\n",
      "EXIT: Maximum Number of Iterations Exceeded.\n"
     ]
    },
    {
     "name": "stderr",
     "output_type": "stream",
     "text": [
      "\u001b[1m\u001b[33mWARNING: \u001b[39m\u001b[22m\u001b[33mu_crra_prime_inv\u001b[39m\n",
      "\u001b[1m\u001b[33mWARNING: \u001b[39m\u001b[22m\u001b[33mu_crra_prime_inv\u001b[39m\n",
      "\u001b[1m\u001b[33mWARNING: \u001b[39m\u001b[22m\u001b[33mu_crra_prime_inv\u001b[39m\n",
      "\u001b[1m\u001b[33mWARNING: \u001b[39m\u001b[22m\u001b[33mu_crra_prime_inv\u001b[39m\n",
      "\u001b[1m\u001b[33mWARNING: \u001b[39m\u001b[22m\u001b[33mu_crra_prime_inv\u001b[39m\n",
      "\u001b[1m\u001b[33mWARNING: \u001b[39m\u001b[22m\u001b[33mu_crra_prime_inv\u001b[39m\n",
      "\u001b[1m\u001b[33mWARNING: \u001b[39m\u001b[22m\u001b[33mu_crra_prime_inv\u001b[39m\n",
      "\u001b[1m\u001b[33mWARNING: \u001b[39m\u001b[22m\u001b[33mu_crra_prime_inv\u001b[39m\n",
      "\u001b[1m\u001b[33mWARNING: \u001b[39m\u001b[22m\u001b[33mu_crra_prime_inv\u001b[39m\n",
      "\u001b[1m\u001b[33mWARNING: \u001b[39m\u001b[22m\u001b[33mu_crra_prime_inv\u001b[39m\n",
      "\u001b[1m\u001b[33mWARNING: \u001b[39m\u001b[22m\u001b[33mu_crra_prime_inv\u001b[39m\n",
      "\u001b[1m\u001b[33mWARNING: \u001b[39m\u001b[22m\u001b[33mu_crra_prime_inv\u001b[39m\n",
      "\u001b[1m\u001b[33mWARNING: \u001b[39m\u001b[22m\u001b[33mu_crra_prime_inv\u001b[39m\n",
      "\u001b[1m\u001b[33mWARNING: \u001b[39m\u001b[22m\u001b[33mu_crra_prime_inv\u001b[39m\n",
      "\u001b[1m\u001b[33mWARNING: \u001b[39m\u001b[22m\u001b[33mu_crra_prime_inv\u001b[39m\n",
      "\u001b[1m\u001b[33mWARNING: \u001b[39m\u001b[22m\u001b[33mu_crra_prime_inv\u001b[39m\n",
      "\u001b[1m\u001b[33mWARNING: \u001b[39m\u001b[22m\u001b[33mNot solved to optimality, status: UserLimit\u001b[39m\n"
     ]
    },
    {
     "data": {
      "text/plain": [
       ":UserLimit"
      ]
     },
     "execution_count": 137,
     "metadata": {},
     "output_type": "execute_result"
    }
   ],
   "source": [
    "solve(m)"
   ]
  },
  {
   "cell_type": "code",
   "execution_count": 138,
   "metadata": {
    "scrolled": true
   },
   "outputs": [
    {
     "data": {
      "text/plain": [
       "(0.9306641881916856, 0.03779862463759242, 0.28391647070069065, 0.9898026241060709, 3.342392526957198)"
      ]
     },
     "execution_count": 138,
     "metadata": {},
     "output_type": "execute_result"
    }
   ],
   "source": [
    "getvalue(β), getvalue(δ), getvalue(α), getvalue(A), getvalue(γ)"
   ]
  },
  {
   "cell_type": "code",
   "execution_count": 139,
   "metadata": {},
   "outputs": [
    {
     "data": {
      "text/html": [
       "<img src=\"data:image/png;base64,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\" />"
      ]
     },
     "execution_count": 139,
     "metadata": {},
     "output_type": "execute_result"
    }
   ],
   "source": [
    "plot(nodes(Basis(ChebParams(10, 0.2*k_stst, 2*k_stst)))[1], [0.731039, 0.830067, 0.984055, 1.15697 , 1.32812 , 1.48555 , 1.62093 , 1.72778 , 1.80161 , 1.8393], label=\"True Policy Fucntion\")\n",
    "plot!(K, u_crra_prime_inv.((Ψprime * getvalue(θ))./(f_prime.(f.(K, getvalue(α), getvalue(A)) + (1-getvalue(δ))*K - \n",
    "            u_crra_prime_inv.((Ψprime * getvalue(θ)) ./ (f_prime.(K, getvalue(α), getvalue(A)) + 1-getvalue(δ)), getvalue(γ)), getvalue(α), getvalue(A)) + 1-getvalue(δ)), getvalue(γ)), label=\"Estimated Policy Function\")\n",
    "#plot!(K, getvalue(modelC), label=\"Estimated Policy Function\")"
   ]
  },
  {
   "cell_type": "markdown",
   "metadata": {},
   "source": [
    "Does not seem fruitfull, compared to slines!"
   ]
  },
  {
   "cell_type": "code",
   "execution_count": null,
   "metadata": {},
   "outputs": [],
   "source": []
  }
 ],
 "metadata": {
  "kernelspec": {
   "display_name": "Julia 0.6.2",
   "language": "julia",
   "name": "julia-0.6"
  },
  "language_info": {
   "file_extension": ".jl",
   "mimetype": "application/julia",
   "name": "julia",
   "version": "0.6.2"
  }
 },
 "nbformat": 4,
 "nbformat_minor": 2
}
