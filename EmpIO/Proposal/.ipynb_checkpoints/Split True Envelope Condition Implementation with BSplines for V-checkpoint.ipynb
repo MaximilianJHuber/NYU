{
 "cells": [
  {
   "cell_type": "markdown",
   "metadata": {},
   "source": [
    "In this exercise I solve a deterministic growth model using simulated data generated from an economy with parameters $\\beta = 0.95$, $\\alpha = 0.3$, $A = 1.0$, $\\delta = 0.05$, $\\gamma = 2.0$. I initiate the variables of the mathematical program at the true values, which should make the optimization easy."
   ]
  },
  {
   "cell_type": "code",
   "execution_count": 1,
   "metadata": {
    "scrolled": false
   },
   "outputs": [
    {
     "name": "stderr",
     "output_type": "stream",
     "text": [
      "WARNING: Method definition ==(Base.Nullable{S}, Base.Nullable{T}) in module Base at nullable.jl:238 overwritten in module NullableArrays at /home/juser/.julia/v0.6/NullableArrays/src/operators.jl:99.\n",
      "WARNING: Compat.AsyncCondition is deprecated, use Base.AsyncCondition instead.\n",
      "  likely near In[1]:2\n",
      "WARNING: Compat.AsyncCondition is deprecated, use Base.AsyncCondition instead.\n",
      "  likely near In[1]:2\n"
     ]
    },
    {
     "data": {
      "text/html": [
       "<img src=\"data:image/png;base64,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\" />"
      ]
     },
     "execution_count": 1,
     "metadata": {},
     "output_type": "execute_result"
    }
   ],
   "source": [
    "using CSV\n",
    "using Plots; pyplot()\n",
    "\n",
    "df = CSV.read(\"data.csv\"; header=false, types=[Float64, Float64])\n",
    "dataK = convert(Vector{Float64}, df[1])\n",
    "dataC = convert(Vector{Float64}, df[2])\n",
    "\n",
    "plot(dataK, label=\"capital\")\n",
    "plot!(dataC, label=\"consumption\")"
   ]
  },
  {
   "cell_type": "markdown",
   "metadata": {},
   "source": [
    "The economy's steady state for capital is:"
   ]
  },
  {
   "cell_type": "code",
   "execution_count": 2,
   "metadata": {},
   "outputs": [],
   "source": [
    "k_stst = 4.628988089138438;"
   ]
  },
  {
   "cell_type": "markdown",
   "metadata": {},
   "source": [
    "# The Mathematical Program\n",
    "I define the needed function related to utility and production:"
   ]
  },
  {
   "cell_type": "code",
   "execution_count": 3,
   "metadata": {},
   "outputs": [
    {
     "data": {
      "text/plain": [
       "f_prime (generic function with 1 method)"
      ]
     },
     "execution_count": 3,
     "metadata": {},
     "output_type": "execute_result"
    }
   ],
   "source": [
    "u_crra(c, γ) = begin\n",
    "    if (c <= 0)\n",
    "        warn(\"u_crra_prime\")\n",
    "        return -1000000.\n",
    "        else\n",
    "        return c^(1-γ)/(1-γ)\n",
    "    end\n",
    "end\n",
    "\n",
    "u_crra_prime(c, γ) = begin\n",
    "    if (c <= 0)\n",
    "        warn(\"u_crra_prime\")\n",
    "        return -1000000.\n",
    "        else\n",
    "        return c^-γ\n",
    "    end\n",
    "end\n",
    "\n",
    "u_crra_prime_inv(u, γ) = begin\n",
    "    if (u <= 0)\n",
    "        warn(\"u_crra_prime_inv\")\n",
    "        return +1000000.\n",
    "    else\n",
    "        return u^(-1/γ) \n",
    "    end\n",
    "end\n",
    "\n",
    "function f(k, α, A)\n",
    "    if (k <= 0)\n",
    "        warn(\"f\")\n",
    "        return zero(k)\n",
    "    else\n",
    "        A*k^α\n",
    "    end\n",
    "end\n",
    "\n",
    "function f_prime(k, α, A)\n",
    "    if (k <= 0)\n",
    "        warn(\"f_prime\")\n",
    "        return zero(k)\n",
    "    else\n",
    "        A*α*k^(α-1)\n",
    "    end\n",
    "end"
   ]
  },
  {
   "cell_type": "markdown",
   "metadata": {},
   "source": [
    "I use the Julia Mathematical Programming languange JuMP and the IpOpt solver:"
   ]
  },
  {
   "cell_type": "code",
   "execution_count": 54,
   "metadata": {},
   "outputs": [],
   "source": [
    "using JuMP\n",
    "using Ipopt\n",
    "\n",
    "m = Model(solver=IpoptSolver(print_level=5, max_iter=500));"
   ]
  },
  {
   "cell_type": "markdown",
   "metadata": {},
   "source": [
    "I define the deep parameters variables and give the the correct starting values:"
   ]
  },
  {
   "cell_type": "code",
   "execution_count": 55,
   "metadata": {},
   "outputs": [],
   "source": [
    "@variable(m, 0 <= β <= 1, start = 0.95)\n",
    "@variable(m, 0 <= δ <= 1, start = 0.05)\n",
    "@variable(m, 0 <= α <= 1, start = 0.3)\n",
    "@variable(m, A >= 0, start = 1)\n",
    "@variable(m, 100 >= γ >= 1, start = 2);"
   ]
  },
  {
   "cell_type": "markdown",
   "metadata": {},
   "source": [
    "The policy function is approximated by 12 cubic splines on a grid around the steady state for capital, the coefficients on the polynomials are $\\theta$:"
   ]
  },
  {
   "cell_type": "markdown",
   "metadata": {},
   "source": [
    "I define a grid on capital, $K$, with 12 nodes, and evaluate the spline polynomials at those point into $\\Psi$ and at the observed data points into $\\Phi$:"
   ]
  },
  {
   "cell_type": "code",
   "execution_count": 56,
   "metadata": {},
   "outputs": [
    {
     "name": "stderr",
     "output_type": "stream",
     "text": [
      "WARNING: redefining constant params\n"
     ]
    }
   ],
   "source": [
    "using BasisMatrices\n",
    "global const params = SplineParams(linspace(0.2*k_stst, 2*k_stst, 10), 0, 3)\n",
    "basis = Basis(params)\n",
    "K = nodes(basis)[1] #grid\n",
    "Ψ = BasisMatrix(basis, Expanded(), K).vals[1]\n",
    "Ψprime = BasisMatrix(basis, Expanded(), K, 1).vals[1]\n",
    "Ψprimeprime = BasisMatrix(basis, Expanded(), K, 2).vals[1]\n",
    "Φ = BasisMatrix(basis, Expanded(), dataK).vals[1]\n",
    "Φprime = BasisMatrix(basis, Expanded(), dataK, 1).vals[1];"
   ]
  },
  {
   "cell_type": "code",
   "execution_count": 57,
   "metadata": {},
   "outputs": [],
   "source": [
    "@variable(m, θ[1:length(K)], start = 0);"
   ]
  },
  {
   "cell_type": "markdown",
   "metadata": {},
   "source": [
    "In the equilibrium constraint the polynomials have to be evaluated also outside the grid, I define this function here:"
   ]
  },
  {
   "cell_type": "code",
   "execution_count": 58,
   "metadata": {
    "scrolled": false
   },
   "outputs": [
    {
     "data": {
      "text/plain": [
       "interpV (generic function with 1 method)"
      ]
     },
     "execution_count": 58,
     "metadata": {},
     "output_type": "execute_result"
    }
   ],
   "source": [
    "function interpV(x, values...) #x is the point of evaluation, values are on the grid\n",
    "    return (evalbase(params, [x], 0) * collect(values))[1]\n",
    "end"
   ]
  },
  {
   "cell_type": "markdown",
   "metadata": {},
   "source": [
    "I register all user-defined functions with JuMP for automatic differentiation:"
   ]
  },
  {
   "cell_type": "code",
   "execution_count": 59,
   "metadata": {},
   "outputs": [],
   "source": [
    "JuMP.register(m, :interpV, 1+length(K), interpV, autodiff=true)\n",
    "JuMP.register(m, :u_crra, 2, u_crra, autodiff=true)\n",
    "JuMP.register(m, :u_crra_prime, 2, u_crra_prime, autodiff=true)\n",
    "JuMP.register(m, :f, 3, f, autodiff=true)\n",
    "JuMP.register(m, :f_prime, 3, f_prime, autodiff=true)\n",
    "JuMP.register(m, :u_crra_prime_inv, 2, u_crra_prime_inv, autodiff=true)"
   ]
  },
  {
   "cell_type": "markdown",
   "metadata": {},
   "source": [
    "The auxiliary and equilibrium constraints are all defined on the grid with 10 nodes:"
   ]
  },
  {
   "cell_type": "code",
   "execution_count": 60,
   "metadata": {},
   "outputs": [],
   "source": [
    "@variable(m, modelC[i=1:length(K)] >= 0, start = 1)\n",
    "@variable(m, modelKprime[i=1:length(K)] >= 0, start = 1)\n",
    "\n",
    "@NLconstraint(m, cons_today[i=1:length(K)], modelC[i] == u_crra_prime_inv(sum(Ψprime[i, k] * θ[k] for k in 1:length(K)) / \n",
    "            (f_prime(K[i], α, A) + 1-δ), γ))\n",
    "    \n",
    "@NLconstraint(m, capi_tomor[i=1:length(K)], modelKprime[i] == f(K[i], α, A) + (1-δ)*K[i] - u_crra_prime_inv(sum(Ψprime[i, k] * θ[k] for k in 1:length(K)) / \n",
    "            (f_prime(K[i], α, A) + 1-δ), γ));"
   ]
  },
  {
   "cell_type": "markdown",
   "metadata": {},
   "source": [
    "And I initialize $\\theta$ and the auxiliary variables at the true values:"
   ]
  },
  {
   "cell_type": "code",
   "execution_count": 61,
   "metadata": {},
   "outputs": [],
   "source": [
    "b2 = Basis(ChebParams(10, 0.2*k_stst, 2*k_stst))\n",
    "K2 = nodes(b2)[1] #grid\n",
    "Ψ2 = BasisMatrix(b2, Expanded(), K2).vals[1]\n",
    "θ2 = Ψ2 \\ [0.731039, 0.830067, 0.984055, 1.15697 , 1.32812 , 1.48555 , 1.62093 , 1.72778 , 1.80161 , 1.8393]\n",
    "ν  = Ψ \\ (BasisMatrix(b2, Expanded(), K).vals[1] * [-15.112, 2.69213, -0.640543, 0.208069, -0.0777003, 0.0304588, -0.0123556, 0.00602886, -0.00329544, 0.00114639])\n",
    "\n",
    "for i in 1:length(K)\n",
    "    setvalue(modelC[i], (BasisMatrix(b2, Expanded(), K).vals[1] * θ2)[i])\n",
    "    setvalue(modelKprime[i], f(K[i], getvalue(α), getvalue(A)) + (1-getvalue(δ))*K[i] - getvalue(modelC[i]))\n",
    "    setvalue(θ[i], ν[i])\n",
    "end"
   ]
  },
  {
   "cell_type": "markdown",
   "metadata": {},
   "source": [
    "The Bellman equation:"
   ]
  },
  {
   "cell_type": "code",
   "execution_count": 62,
   "metadata": {},
   "outputs": [],
   "source": [
    "@NLconstraint(m, increasing[i=1:length(K)], sum(Ψprime[i, k] * θ[k] for k in 1:length(K)) >= 0)\n",
    "@NLconstraint(m, concave[i=1:length(K)], sum(Ψprimeprime[i, k] * θ[k] for k in 1:length(K)) <= 0)\n",
    "\n",
    "@NLconstraint(m, EE[i=1:length(K)], sum(Ψ[i, k] * θ[k] for k in 1:length(K)) == u_crra(modelC[i], γ) + \n",
    "            β * interpV(modelKprime[i], θ[1], θ[2], θ[3], θ[4], θ[5], θ[6], θ[7], θ[8], θ[9], θ[10], θ[11], θ[12]));"
   ]
  },
  {
   "cell_type": "markdown",
   "metadata": {},
   "source": [
    "I define auxiliary expressions for the predictions of the equilibrium conditions:"
   ]
  },
  {
   "cell_type": "code",
   "execution_count": 63,
   "metadata": {},
   "outputs": [],
   "source": [
    "@NLexpression(m, predictedK[t=2:100], f(dataK[t-1], α, A) + (1-δ)*dataK[t-1] - dataC[t-1])\n",
    "\n",
    "R = f_prime.(dataK, 0.3, 1.) + 1-0.05\n",
    "@NLexpression(m, predictedC[t=1:100], u_crra_prime_inv(sum(Φprime[t, k] * θ[k] for k in 1:length(K)) / R[t], γ));"
   ]
  },
  {
   "cell_type": "markdown",
   "metadata": {},
   "source": [
    "The objective is to minimize the sum of squared errors:"
   ]
  },
  {
   "cell_type": "code",
   "execution_count": 64,
   "metadata": {},
   "outputs": [],
   "source": [
    "@NLobjective(m, Min, sum((dataC[t] - predictedC[t])^2 for t in 1:100) +\n",
    "    sum((dataK[t] - predictedK[t])^2 for t in 2:100))"
   ]
  },
  {
   "cell_type": "code",
   "execution_count": 65,
   "metadata": {
    "scrolled": true
   },
   "outputs": [
    {
     "name": "stdout",
     "output_type": "stream",
     "text": [
      "This is Ipopt version 3.12.1, running with linear solver mumps.\n",
      "NOTE: Other linear solvers might be more efficient (see Ipopt documentation).\n",
      "\n",
      "Number of nonzeros in equality constraint Jacobian...:      600\n",
      "Number of nonzeros in inequality constraint Jacobian.:      288\n",
      "Number of nonzeros in Lagrangian Hessian.............:        0\n",
      "\n",
      "Total number of variables............................:       41\n",
      "                     variables with only lower bounds:       25\n",
      "                variables with lower and upper bounds:        4\n",
      "                     variables with only upper bounds:        0\n",
      "Total number of equality constraints.................:       36\n",
      "Total number of inequality constraints...............:       24\n",
      "        inequality constraints with only lower bounds:       12\n",
      "   inequality constraints with lower and upper bounds:        0\n",
      "        inequality constraints with only upper bounds:       12\n",
      "\n",
      "iter    objective    inf_pr   inf_du lg(mu)  ||d||  lg(rg) alpha_du alpha_pr  ls\n",
      "   0  4.1641851e-01 3.32e-01 1.96e+00   0.0 0.00e+00    -  0.00e+00 0.00e+00   0\n",
      "   1  2.1717273e+00 2.70e-01 8.08e+01  -1.1 6.91e-01    -  9.07e-01 1.00e+00h  1\n",
      "   2  1.3199806e-01 1.05e-01 5.77e+01  -0.8 2.64e-01    -  1.00e+00 1.00e+00f  1\n",
      "   3  4.9482981e-03 3.66e-03 2.25e+01  -2.0 6.06e-02    -  1.00e+00 1.00e+00h  1\n",
      "   4  3.8327419e-03 1.26e-05 4.23e-01  -3.3 3.95e-03    -  1.00e+00 1.00e+00h  1\n",
      "   5  3.7259148e-03 2.38e-07 1.43e-01  -4.9 3.39e-03    -  1.00e+00 1.00e+00h  1\n",
      "   6  3.4035443e-03 3.98e-05 2.24e-01  -6.6 1.18e-02    -  1.00e+00 1.00e+00h  1\n",
      "   7  2.7075843e-03 9.82e-04 5.42e-01  -8.1 3.69e-02    -  1.00e+00 1.00e+00h  1\n",
      "   8  2.8716708e-03 6.20e-04 3.29e+00  -9.5 2.21e-01    -  1.00e+00 1.00e+00H  1\n",
      "   9  1.9215381e-03 3.82e-04 7.25e-01  -9.1 7.00e-02    -  1.00e+00 1.00e+00h  1\n",
      "iter    objective    inf_pr   inf_du lg(mu)  ||d||  lg(rg) alpha_du alpha_pr  ls\n",
      "  10  1.5461212e-03 7.49e-05 1.56e-01 -10.8 3.56e-02    -  1.00e+00 1.00e+00h  1\n",
      "  11  1.5293169e-03 6.97e-04 7.26e-01 -11.0 2.92e-01    -  1.00e+00 2.50e-01h  3\n",
      "  12  2.5371250e-03 1.15e-04 1.23e+00 -11.0 1.05e-01    -  1.00e+00 1.00e+00H  1\n",
      "  13  1.4640674e-03 5.88e-03 2.49e-01 -11.0 1.32e-01    -  1.00e+00 1.00e+00h  1\n",
      "  14  3.4602149e-03 5.84e-03 3.57e-01 -11.0 2.46e-01    -  1.00e+00 1.00e+00h  1\n",
      "  15  1.3933345e-03 4.92e-03 2.19e-01 -11.0 2.37e-01    -  1.00e+00 1.00e+00h  1\n",
      "  16  4.2455716e-03 2.65e-04 3.08e+00 -11.0 6.29e-02    -  1.00e+00 1.00e+00h  1\n",
      "  17  1.5735588e-03 6.03e-04 1.00e+00 -11.0 3.77e-02    -  1.00e+00 1.00e+00h  1\n",
      "  18  1.3848947e-03 1.41e-03 6.33e-01 -11.0 3.22e-01    -  1.00e+00 1.25e-01h  4\n",
      "  19  1.3011274e-03 2.42e-04 6.56e-02 -11.0 3.08e-02    -  1.00e+00 1.00e+00h  1\n",
      "iter    objective    inf_pr   inf_du lg(mu)  ||d||  lg(rg) alpha_du alpha_pr  ls\n",
      "  20  1.5283919e-03 9.96e-05 8.76e-01 -11.0 3.92e-02    -  1.00e+00 1.00e+00H  1\n",
      "  21  1.2971266e-03 6.67e-04 4.30e-03 -11.0 3.51e-02    -  1.00e+00 1.00e+00h  1\n",
      "  22  1.3011621e-03 2.00e-07 2.86e-03 -11.0 4.21e-04    -  1.00e+00 1.00e+00h  1\n",
      "  23  1.3010637e-03 5.92e-08 1.89e-04 -11.0 7.35e-04    -  1.00e+00 1.00e+00h  1\n",
      "  24  1.6074809e-03 1.86e-09 1.48e-02 -11.0 5.59e-02    -  1.00e+00 1.00e+00H  1\n",
      "  25  1.3016611e-03 4.05e-05 1.49e-02 -11.0 5.32e-02    -  1.00e+00 1.00e+00f  1\n",
      "  26  1.3032464e-03 2.73e-05 9.61e-02 -11.0 9.05e-03    -  1.00e+00 1.00e+00h  1\n",
      "  27  1.2997438e-03 3.48e-06 3.19e-02 -11.0 1.50e-02    -  1.00e+00 1.00e+00h  1\n",
      "  28  1.7008639e-03 2.18e-06 1.09e+00 -11.0 7.40e-02    -  1.00e+00 1.00e+00H  1\n",
      "  29  1.2859452e-03 1.29e-03 9.28e-02 -11.0 5.66e-02    -  1.00e+00 1.00e+00h  1\n",
      "iter    objective    inf_pr   inf_du lg(mu)  ||d||  lg(rg) alpha_du alpha_pr  ls\n",
      "  30  3.5314967e-03 7.39e-04 2.56e+00 -11.0 1.92e-01    -  1.00e+00 1.00e+00H  1\n",
      "  31  1.2693067e-03 3.30e-03 1.27e-01 -11.0 1.80e-01    -  1.00e+00 1.00e+00h  1\n",
      "  32  1.3006710e-03 1.60e-06 1.75e-01 -11.0 1.88e-02    -  1.00e+00 1.00e+00h  1\n",
      "  33  1.2576172e-03 3.68e-06 2.56e-03 -11.0 2.41e-02    -  1.00e+00 1.00e+00h  1\n",
      "  34  3.6496426e-03 7.02e-07 2.14e+00 -11.0 3.51e-01    -  1.00e+00 1.00e+00H  1\n",
      "  35  1.1137400e-03 1.52e-03 2.07e-01 -11.0 5.12e-01    -  1.00e+00 1.00e+00f  1\n",
      "  36  1.1094277e-03 1.56e-03 3.84e-02  -9.5 1.49e+01    -  9.97e-01 7.24e-04h  8\n",
      "  37  1.0861510e-03 3.39e-05 1.07e-01 -11.0 5.16e-02    -  1.00e+00 1.00e+00h  1\n",
      "  38  1.0854444e-03 3.50e-05 6.45e-02  -9.0 4.13e+01    -  1.00e+00 2.65e-04h  8\n",
      "  39  9.5039574e-04 5.35e-02 8.92e-01  -8.2 1.63e+01    -  1.00e+00 2.35e-01h  3\n",
      "iter    objective    inf_pr   inf_du lg(mu)  ||d||  lg(rg) alpha_du alpha_pr  ls\n",
      "  40  2.6032970e-03 1.03e-02 2.29e+00  -8.6 1.78e-01  -4.0 1.00e+00 1.00e+00h  1\n",
      "  41  4.9545187e-03 3.49e-03 1.63e+00  -8.7 1.21e+01    -  1.00e+00 1.00e+00H  1\n",
      "  42  4.9393179e-03 3.51e-03 1.87e+00  -8.7 9.19e+03    -  3.85e-04 3.72e-06h  8\n",
      "  43  3.9081461e-03 8.67e-03 1.77e+00  -8.7 8.92e+01    -  2.04e-01 1.21e-02h  4\n",
      "  44  3.9060683e-03 8.67e-03 1.72e+00  -8.7 1.53e+03    -  5.48e-03 3.20e-05h 10\n",
      "  45  3.7797321e-03 9.55e-03 2.10e+00  -8.7 1.27e+04    -  2.55e-03 4.00e-05h  6\n",
      "  46  8.9665419e-03 7.35e-04 3.93e+00  -8.7 6.31e+00    -  1.00e+00 1.00e+00H  1\n",
      "  47  1.3210974e-03 2.21e-02 2.70e-01  -8.7 3.56e+00    -  1.00e+00 1.00e+00h  1\n"
     ]
    },
    {
     "name": "stderr",
     "output_type": "stream",
     "text": [
      "\u001b[1m\u001b[33mWARNING: \u001b[39m\u001b[22m\u001b[33mu_crra_prime_inv\u001b[39m\n",
      "\u001b[1m\u001b[33mWARNING: \u001b[39m\u001b[22m\u001b[33mu_crra_prime_inv\u001b[39m\n",
      "\u001b[1m\u001b[33mWARNING: \u001b[39m\u001b[22m\u001b[33mu_crra_prime_inv\u001b[39m\n",
      "\u001b[1m\u001b[33mWARNING: \u001b[39m\u001b[22m\u001b[33mu_crra_prime_inv\u001b[39m\n",
      "\u001b[1m\u001b[33mWARNING: \u001b[39m\u001b[22m\u001b[33mu_crra_prime_inv\u001b[39m\n",
      "\u001b[1m\u001b[33mWARNING: \u001b[39m\u001b[22m\u001b[33mu_crra_prime_inv\u001b[39m\n",
      "\u001b[1m\u001b[33mWARNING: \u001b[39m\u001b[22m\u001b[33mu_crra_prime_inv\u001b[39m\n",
      "\u001b[1m\u001b[33mWARNING: \u001b[39m\u001b[22m\u001b[33mu_crra_prime_inv\u001b[39m\n"
     ]
    },
    {
     "name": "stdout",
     "output_type": "stream",
     "text": [
      "  48  1.3189207e-03 2.29e-02 2.51e-01  -8.7 1.07e+02    -  1.56e-01 5.85e-03h  7\n",
      "  49  2.2193961e-03 1.06e-02 1.82e+00  -8.7 1.90e-01  -4.5 1.00e+00 1.00e+00h  1\n",
      "iter    objective    inf_pr   inf_du lg(mu)  ||d||  lg(rg) alpha_du alpha_pr  ls\n",
      "  50  2.1449629e-03 1.07e-02 2.26e+00  -8.7 1.47e+01    -  1.00e+00 3.12e-02h  6\n",
      "  51  1.0417769e-03 1.38e-02 5.35e-01  -8.7 2.06e+02    -  1.45e-03 4.23e-04h  5\n",
      "  52  1.0144866e-03 1.53e-02 9.81e-01  -8.8 8.57e+01    -  8.23e-01 1.05e-02h  6\n",
      "  53  1.0020430e-03 1.73e-02 7.82e-01  -8.1 3.51e+01    -  9.09e-01 3.12e-02h  6\n",
      "  54  8.1710727e-04 9.32e-02 1.01e-01  -6.1 4.74e+04    -  9.65e-04 1.01e-04h  3\n",
      "  55  8.2178026e-04 3.25e-03 6.01e-01  -9.4 3.16e-02  -5.0 1.00e+00 1.00e+00h  1\n",
      "  56  7.8905977e-04 2.36e-02 4.43e-01  -9.5 3.39e+00    -  1.00e+00 1.00e+00h  1\n",
      "  57  7.8803002e-04 2.37e-02 3.95e-01  -7.5 1.93e+01    -  1.00e+00 2.55e-04h  7\n",
      "  58  7.3785709e-04 7.08e-03 4.73e-03  -7.6 2.09e+00    -  1.00e+00 1.00e+00h  1\n",
      "  59  7.3705484e-04 7.10e-03 1.00e-01  -5.6 4.85e+01  -5.4 1.00e+00 2.15e-04h  6\n",
      "iter    objective    inf_pr   inf_du lg(mu)  ||d||  lg(rg) alpha_du alpha_pr  ls\n",
      "  60  7.4272119e-04 1.15e-03 8.74e-02  -5.7 8.11e-01    -  1.00e+00 1.00e+00h  1\n",
      "  61  7.4694607e-04 1.32e-03 1.67e-01  -3.7 3.27e+03    -  8.20e-03 9.80e-05h  8\n",
      "  62  7.4700583e-04 1.43e-03 1.63e-01  -5.5 6.21e+01    -  2.97e-01 3.37e-03h  9\n",
      "  63  7.4678430e-04 1.45e-03 1.62e-01  -5.5 2.30e+02    -  2.08e-01 3.50e-04h  8\n",
      "  64  7.3914870e-04 3.51e-03 1.13e-01  -5.5 5.06e+02    -  6.70e-02 2.03e-03h  7\n",
      "  65r 7.3914870e-04 3.51e-03 9.99e+02  -2.5 0.00e+00    -  0.00e+00 3.28e-07R 14\n",
      "  66r 7.4405650e-04 2.75e-04 2.53e+00  -4.7 3.52e+00    -  1.00e+00 9.90e-04f  1\n",
      "  67  7.3740706e-04 6.65e-04 3.38e-02  -5.8 5.58e-01    -  1.00e+00 1.00e+00h  1\n",
      "  68r 7.3740706e-04 6.65e-04 9.99e+02  -3.2 0.00e+00    -  0.00e+00 3.20e-07R 17\n",
      "  69r 7.3847308e-04 4.80e-05 8.23e-02  -5.4 6.66e-01    -  1.00e+00 9.90e-04f  1\n",
      "iter    objective    inf_pr   inf_du lg(mu)  ||d||  lg(rg) alpha_du alpha_pr  ls\n",
      "  70  7.3772647e-04 3.11e-07 6.86e-03  -6.4 1.23e-03    -  1.00e+00 1.00e+00h  1\n",
      "  71  7.6800305e-04 6.95e-08 1.60e-01  -7.7 1.96e-02    -  1.00e+00 1.00e+00H  1\n",
      "  72  7.3801054e-04 1.04e-04 8.12e-03  -9.4 2.31e-01    -  1.00e+00 1.00e+00h  1\n",
      "  73  7.3797886e-04 1.05e-04 1.51e-02  -9.4 2.22e+01    -  9.18e-01 6.04e-04h 10\n",
      "  74  7.3795496e-04 1.05e-04 3.31e-03  -9.4 7.18e-01  -6.4 1.00e+00 1.02e-03h 10\n",
      "  75  7.3768145e-04 2.93e-05 1.43e-03  -9.4 1.17e-01    -  1.00e+00 1.00e+00h  1\n",
      "  76  7.3767841e-04 2.98e-05 9.70e-04 -10.3 6.05e+00    -  9.92e-01 1.95e-03h 10\n",
      "  77  7.3767767e-04 2.99e-05 4.18e-03 -10.3 1.01e+03    -  5.31e-02 4.49e-06h 11\n",
      "  78  7.3766288e-04 5.20e-06 1.43e-04 -10.3 5.02e-02    -  1.00e+00 1.00e+00h  1\n",
      "  79  7.3766288e-04 5.20e-06 1.73e-04 -10.4 3.70e+01    -  2.67e-01 1.34e-06h 20\n",
      "iter    objective    inf_pr   inf_du lg(mu)  ||d||  lg(rg) alpha_du alpha_pr  ls\n",
      "  80  8.3878976e-04 1.39e-07 6.61e-01 -10.4 1.98e-01    -  1.00e+00 1.00e+00H  1\n",
      "  81  7.3766169e-04 2.22e-06 3.02e-05 -10.4 2.10e-01    -  1.00e+00 1.00e+00H  1\n",
      "  82  7.3771048e-04 1.07e-06 4.41e-03 -11.0 4.96e-02    -  1.00e+00 1.00e+00H  1\n",
      "  83  7.3773595e-04 1.94e-07 4.70e-03 -11.0 7.72e+00    -  8.62e-01 1.95e-03h 10\n",
      "  84  7.3774912e-04 5.86e-09 1.22e-04 -11.0 1.99e-03    -  1.00e+00 1.00e+00H  1\n",
      "  85  7.3773890e-04 1.06e-05 8.07e-03 -11.0 3.52e+02    -  1.58e-01 1.92e-04h  9\n",
      "  86  7.3773890e-04 1.06e-05 8.17e-03 -11.0 4.10e+01    -  7.79e-01 3.86e-06h 17\n",
      "  87  7.3782527e-04 8.99e-06 2.83e-02 -11.0 6.53e-02    -  1.00e+00 1.00e+00h  1\n"
     ]
    },
    {
     "name": "stderr",
     "output_type": "stream",
     "text": [
      "\u001b[1m\u001b[33mWARNING: \u001b[39m\u001b[22m\u001b[33mu_crra_prime_inv\u001b[39m\n",
      "\u001b[1m\u001b[33mWARNING: \u001b[39m\u001b[22m\u001b[33mu_crra_prime_inv\u001b[39m\n",
      "\u001b[1m\u001b[33mWARNING: \u001b[39m\u001b[22m\u001b[33mu_crra_prime_inv\u001b[39m\n",
      "\u001b[1m\u001b[33mWARNING: \u001b[39m\u001b[22m"
     ]
    },
    {
     "name": "stdout",
     "output_type": "stream",
     "text": [
      "  88  7.3780071e-04 1.04e-05 2.61e-02 -11.0 1.14e+03    -  6.36e-03 1.83e-05h 12\n",
      "  89  7.6283855e-03 1.26e-06 9.42e-01 -11.0 1.79e+00  -6.9 1.00e+00 1.00e+00H  1\n",
      "iter    objective    inf_pr   inf_du lg(mu)  ||d||  lg(rg) alpha_du alpha_pr  ls\n",
      "  90  7.3012056e-04 7.25e-03 1.83e-03 -11.0 1.63e+00    -  1.00e+00 1.00e+00f  1\n",
      "  91  7.6039714e-04 5.04e-03 1.89e-01 -11.0 1.45e+00    -  1.00e+00 1.00e+00h  1\n",
      "  92  8.8472466e-04 9.88e-04 3.70e-01 -11.0 6.13e-01    -  1.00e+00 1.00e+00h  1\n",
      "  93  8.7842622e-04 1.38e-03 2.54e-01 -11.0 2.43e+03    -  1.33e-02 1.86e-04h  7\n"
     ]
    },
    {
     "name": "stderr",
     "output_type": "stream",
     "text": [
      "\u001b[33mu_crra_prime_inv\u001b[39m\n",
      "\u001b[1m\u001b[33mWARNING: \u001b[39m\u001b[22m\u001b[33mu_crra_prime_inv\u001b[39m\n",
      "\u001b[1m\u001b[33mWARNING: \u001b[39m\u001b[22m\u001b[33mu_crra_prime_inv\u001b[39m\n",
      "\u001b[1m\u001b[33mWARNING: \u001b[39m\u001b[22m\u001b[33mu_crra_prime_inv\u001b[39m\n",
      "\u001b[1m\u001b[33mWARNING: \u001b[39m\u001b[22m\u001b[33mu_crra_prime_inv\u001b[39m\n",
      "\u001b[1m\u001b[33mWARNING: \u001b[39m\u001b[22m\u001b[33mu_crra_prime_inv\u001b[39m\n",
      "\u001b[1m\u001b[33mWARNING: \u001b[39m\u001b[22m\u001b[33mu_crra_prime_inv\u001b[39m\n",
      "\u001b[1m\u001b[33mWARNING: \u001b[39m\u001b[22m\u001b[33mu_crra_prime_inv\u001b[39m\n",
      "\u001b[1m\u001b[33mWARNING: \u001b[39m\u001b[22m\u001b[33mu_crra_prime_inv\u001b[39m\n",
      "\u001b[1m\u001b[33mWARNING: \u001b[39m\u001b[22m\u001b[33mu_crra_prime_inv\u001b[39m\n",
      "\u001b[1m\u001b[33mWARNING: \u001b[39m\u001b[22m\u001b[33mu_crra_prime_inv\u001b[39m\n",
      "\u001b[1m\u001b[33mWARNING: \u001b[39m\u001b[22m\u001b[33mu_crra_prime_inv\u001b[39m\n",
      "\u001b[1m\u001b[33mWARNING: \u001b[39m\u001b[22m\u001b[33mu_crra_prime_inv\u001b[39m\n"
     ]
    },
    {
     "name": "stdout",
     "output_type": "stream",
     "text": [
      "  94  8.7750603e-04 1.49e-03 9.25e-02 -11.0 5.86e+04    -  3.68e-04 3.62e-06h  9\n",
      "  95  8.6442140e-04 3.71e-03 8.67e-02 -11.0 1.73e+04    -  2.82e-03 5.37e-05h  5\n",
      "  96  8.0578022e-04 1.22e-03 3.90e-01 -11.0 1.14e+00    -  1.00e+00 1.00e+00H  1\n",
      "  97  8.0569280e-04 1.70e-03 3.68e-01 -11.0 6.80e+01  -7.3 5.92e-01 7.81e-03h  8\n",
      "  98  2.8819455e-03 7.63e-04 1.58e+00 -11.0 2.14e+00    -  1.00e+00 1.00e+00H  1\n",
      "  99  2.8589234e-03 8.29e-04 1.53e+00 -11.0 7.12e+02    -  2.76e-02 2.28e-04h  9\n",
      "iter    objective    inf_pr   inf_du lg(mu)  ||d||  lg(rg) alpha_du alpha_pr  ls\n",
      " 100  2.8346226e-03 8.93e-04 1.48e+00 -11.0 7.25e+02    -  3.99e-02 2.20e-04h  9\n"
     ]
    },
    {
     "name": "stderr",
     "output_type": "stream",
     "text": [
      "\u001b[1m\u001b[33mWARNING: \u001b[39m\u001b[22m\u001b[33mu_crra_prime_inv\u001b[39m\n",
      "\u001b[1m\u001b[33mWARNING: \u001b[39m\u001b[22m\u001b[33mu_crra_prime_inv\u001b[39m\n",
      "\u001b[1m\u001b[33mWARNING: \u001b[39m\u001b[22m\u001b[33mu_crra_prime_inv\u001b[39m\n",
      "\u001b[1m\u001b[33mWARNING: \u001b[39m\u001b[22m\u001b[33mu_crra_prime_inv\u001b[39m\n",
      "\u001b[1m\u001b[33mWARNING: \u001b[39m\u001b[22m\u001b[33mu_crra_prime_inv\u001b[39m\n",
      "\u001b[1m\u001b[33mWARNING: \u001b[39m\u001b[22m\u001b[33mu_crra_prime_inv\u001b[39m\n",
      "\u001b[1m\u001b[33mWARNING: \u001b[39m\u001b[22m\u001b[33mu_crra_prime_inv\u001b[39m\n",
      "\u001b[1m\u001b[33mWARNING: \u001b[39m\u001b[22m\u001b[33mu_crra_prime_inv\u001b[39m\n",
      "\u001b[1m\u001b[33mWARNING: \u001b[39m\u001b[22m\u001b[33mu_crra_prime_inv\u001b[39m\n",
      "\u001b[1m\u001b[33mWARNING: \u001b[39m\u001b[22m\u001b[33mu_crra_prime_inv\u001b[39m\n",
      "\u001b[1m\u001b[33mWARNING: \u001b[39m\u001b[22m\u001b[33mu_crra_prime_inv\u001b[39m\n",
      "\u001b[1m\u001b[33mWARNING: \u001b[39m\u001b[22m\u001b[33mu_crra_prime_inv\u001b[39m\n",
      "\u001b[1m\u001b[33mWARNING: \u001b[39m\u001b[22m\u001b[33mu_crra_prime_inv\u001b[39m\n",
      "\u001b[1m\u001b[33mWARNING: \u001b[39m\u001b[22m\u001b[33mu_crra_prime_inv\u001b[39m\n",
      "\u001b[1m\u001b[33mWARNING: \u001b[39m\u001b[22m\u001b[33mu_crra_prime_inv\u001b[39m\n",
      "\u001b[1m\u001b[33mWARNING: \u001b[39m\u001b[22m\u001b[33mu_crra_prime_inv\u001b[39m\n",
      "\u001b[1m\u001b[33mWARNING: \u001b[39m\u001b[22m\u001b[33mu_crra_prime_inv\u001b[39m\n",
      "\u001b[1m\u001b[33mWARNING: \u001b[39m\u001b[22m\u001b[33mu_crra_prime_inv\u001b[39m\n",
      "\u001b[1m\u001b[33mWARNING: \u001b[39m\u001b[22m\u001b[33mu_crra_prime_inv\u001b[39m\n",
      "\u001b[1m\u001b[33mWARNING: \u001b[39m\u001b[22m\u001b[33mu_crra_prime_inv\u001b[39m\n",
      "\u001b[1m\u001b[33mWARNING: \u001b[39m\u001b[22m\u001b[33mu_crra_prime_inv\u001b[39m\n",
      "\u001b[1m\u001b[33mWARNING: \u001b[39m\u001b[22m\u001b[33mu_crra_prime_inv\u001b[39m\n",
      "\u001b[1m\u001b[33mWARNING: \u001b[39m\u001b[22m\u001b[33mu_crra_prime_inv\u001b[39m\n",
      "\u001b[1m\u001b[33mWARNING: \u001b[39m\u001b[22m\u001b[33mu_crra_prime_inv\u001b[39m\n"
     ]
    },
    {
     "name": "stdout",
     "output_type": "stream",
     "text": [
      " 101  2.8220924e-03 9.09e-04 1.46e+00 -11.0 7.28e+02    -  7.43e-02 1.08e-04h 10\n",
      " 102  1.8480850e-01 3.58e-04 3.52e+01 -11.0 4.88e-02    -  1.00e+00 1.00e+00H  1\n",
      " 103  2.1062566e-03 1.76e-04 1.04e-01 -11.0 4.69e-02    -  1.00e+00 1.00e+00F  1\n",
      " 104  1.9922734e-03 3.11e-06 9.10e-02 -11.0 2.19e-03    -  1.00e+00 1.00e+00h  1\n",
      " 105  1.6555270e-03 1.94e-04 6.85e-02 -11.0 1.76e-02    -  1.00e+00 1.00e+00h  1\n",
      " 106  1.5772198e-03 3.16e-05 6.28e-02 -11.0 8.68e-03    -  1.00e+00 1.00e+00h  1\n",
      " 107  1.2217574e-03 1.61e-04 1.61e+00 -11.0 1.44e-01    -  1.00e+00 1.00e+00H  1\n",
      " 108  9.2572587e-04 3.61e-05 6.71e-01 -11.0 4.25e-02    -  1.00e+00 1.00e+00H  1\n",
      " 109  7.7288380e-04 5.12e-05 5.57e-02 -11.0 2.19e-02    -  1.00e+00 1.00e+00h  1\n",
      "iter    objective    inf_pr   inf_du lg(mu)  ||d||  lg(rg) alpha_du alpha_pr  ls\n",
      " 110  7.5379252e-04 7.15e-04 1.66e-02 -11.0 3.72e-01    -  1.00e+00 9.92e-02h  4\n",
      " 111  7.4445086e-04 4.31e-04 1.20e-01 -11.0 1.05e-02    -  1.00e+00 5.00e-01h  2\n",
      " 112  7.3820243e-04 1.05e-05 3.90e-03 -11.0 8.47e-03    -  1.00e+00 1.00e+00h  1\n",
      " 113  7.3878663e-04 4.77e-07 9.39e-03 -11.0 1.06e-03    -  1.00e+00 1.00e+00h  1\n",
      " 114  7.3820272e-04 2.80e-07 1.79e-04 -11.0 8.60e-04    -  1.00e+00 1.00e+00h  1\n",
      " 115  7.3820280e-04 2.21e-12 4.87e-07 -11.0 2.83e-06    -  1.00e+00 1.00e+00h  1\n",
      " 116  7.3820280e-04 1.53e-12 5.99e-07 -11.0 9.33e-07    -  1.00e+00 1.00e+00h  1\n",
      " 117  7.3820279e-04 8.88e-14 8.58e-07 -11.0 2.12e-06    -  1.00e+00 1.00e+00h  1\n",
      " 118  7.3820557e-04 1.78e-14 1.05e-05 -11.0 2.54e-04    -  1.00e+00 1.00e+00H  1\n",
      " 119  7.3820309e-04 2.30e-08 4.78e-05 -11.0 2.27e-04    -  1.00e+00 1.00e+00h  1\n",
      "iter    objective    inf_pr   inf_du lg(mu)  ||d||  lg(rg) alpha_du alpha_pr  ls\n",
      " 120  7.3820389e-04 1.14e-08 3.17e-05 -11.0 1.96e-04    -  1.00e+00 1.00e+00h  1\n",
      " 121  7.3820428e-04 8.87e-09 6.05e-05 -11.0 1.46e-03    -  1.00e+00 2.50e-01h  3\n",
      " 122  7.3820416e-04 9.17e-09 4.30e-05 -11.0 6.26e-02    -  1.00e+00 1.95e-03h 10\n",
      " 123  7.3814674e-04 6.11e-07 6.22e-04 -11.0 1.45e-02    -  1.00e+00 1.00e+00h  1\n",
      " 124  7.3814598e-04 6.20e-07 1.16e-03 -11.0 2.84e+00  -7.4 1.00e+00 1.21e-04h 12\n",
      " 125  7.3806592e-04 1.54e-04 3.69e-02 -11.0 8.39e+00    -  1.00e+00 3.12e-02h  6\n",
      " 126  7.3796452e-04 2.21e-04 2.59e-03 -11.0 1.16e+02    -  5.32e-01 1.45e-03h  8\n",
      " 127  7.3792463e-04 2.17e-04 1.40e-02 -11.0 8.86e-01    -  1.00e+00 6.25e-02h  5\n",
      " 128  7.3791380e-04 2.17e-04 8.97e-03 -11.0 6.29e+01    -  6.97e-01 4.44e-05h 12\n",
      " 129  7.3754778e-04 3.90e-04 1.11e-02 -11.0 1.27e+00    -  9.92e-01 2.50e-01h  3\n",
      "iter    objective    inf_pr   inf_du lg(mu)  ||d||  lg(rg) alpha_du alpha_pr  ls\n",
      " 130  7.3837509e-04 1.84e-06 3.98e-02 -11.0 1.45e-02    -  1.00e+00 1.00e+00h  1\n",
      " 131  1.0706309e-03 4.26e-07 2.53e-01 -11.0 4.63e-01    -  1.00e+00 1.00e+00H  1\n",
      " 132  4.4587259e-03 2.50e-07 3.24e+00 -11.0 6.91e-01    -  1.00e+00 1.00e+00H  1\n",
      " 133  4.4536681e-03 5.12e-07 3.24e+00 -11.0 7.26e+01    -  1.64e-02 9.11e-06f 10\n",
      " 134  4.4524035e-03 5.29e-07 3.24e+00 -11.0 7.26e+01    -  4.54e-02 2.27e-06h 12\n",
      " 135  4.4511385e-03 5.45e-07 3.24e+00 -11.0 7.27e+01    -  2.50e-02 2.27e-06h 12\n",
      " 136  4.3687130e-03 5.54e-07 3.17e+00 -11.0 1.16e-01    -  8.81e-01 9.77e-04f 11\n",
      " 137  2.2585296e-03 2.35e-07 4.62e-02 -11.0 5.74e-03    -  1.00e+00 1.00e+00F  1\n",
      " 138  2.1377443e-03 3.98e-06 4.66e-02 -11.0 1.33e-03    -  1.00e+00 1.00e+00h  1\n",
      " 139  1.3713680e-03 4.62e-04 1.64e-01 -11.0 1.42e-02    -  1.00e+00 1.00e+00h  1\n",
      "iter    objective    inf_pr   inf_du lg(mu)  ||d||  lg(rg) alpha_du alpha_pr  ls\n",
      " 140  1.0980309e-03 1.75e-04 2.80e-01 -11.0 1.37e-02    -  1.00e+00 1.00e+00h  1\n",
      " 141  9.2491939e-04 4.51e-04 2.31e-01 -11.0 1.71e-02    -  1.00e+00 1.00e+00h  1\n",
      " 142  8.0954008e-04 1.85e-03 6.42e-01 -11.0 5.21e-02    -  1.00e+00 1.00e+00h  1\n",
      " 143  7.3963837e-04 1.77e-05 3.35e-02 -11.0 7.82e-03    -  1.00e+00 1.00e+00h  1\n",
      " 144  7.4132839e-04 1.95e-07 1.92e-02 -11.0 7.20e-03    -  1.00e+00 1.00e+00H  1\n",
      " 145  7.3824782e-04 9.85e-06 2.27e-03 -11.0 5.30e-03    -  1.00e+00 1.00e+00h  1\n",
      " 146  7.3828293e-04 3.49e-07 2.80e-03 -11.0 7.35e-04    -  1.00e+00 1.00e+00h  1\n",
      " 147  7.3825598e-04 2.32e-07 2.02e-03 -11.0 4.44e-04    -  1.00e+00 1.00e+00h  1\n",
      " 148  7.3825479e-04 1.01e-09 9.14e-06 -11.0 9.88e-05    -  1.00e+00 1.00e+00h  1\n",
      " 149  7.3825479e-04 2.07e-10 1.58e-05 -11.0 4.55e-05    -  1.00e+00 1.00e+00h  1\n",
      "iter    objective    inf_pr   inf_du lg(mu)  ||d||  lg(rg) alpha_du alpha_pr  ls\n",
      " 150  7.3826291e-04 1.14e-11 1.45e-04 -11.0 1.84e-04    -  1.00e+00 1.00e+00H  1\n",
      " 151  7.3825467e-04 2.43e-08 8.98e-07 -11.0 1.91e-04    -  1.00e+00 1.00e+00h  1\n",
      " 152  7.3825467e-04 6.53e-12 7.44e-07 -11.0 2.11e-06    -  1.00e+00 1.00e+00h  1\n",
      " 153  7.3825466e-04 1.04e-11 9.52e-07 -11.0 8.31e-06    -  1.00e+00 1.00e+00h  1\n",
      " 154  7.3825463e-04 4.44e-13 7.88e-07 -11.0 1.03e-05    -  1.00e+00 1.00e+00h  1\n",
      " 155  7.3825448e-04 1.44e-09 1.60e-05 -11.0 2.22e-01    -  1.00e+00 4.88e-04h 12\n",
      " 156  7.3825653e-04 3.91e-13 5.84e-05 -11.0 1.00e-03    -  1.00e+00 1.00e+00H  1\n",
      " 157  7.3824738e-04 2.96e-08 7.05e-05 -11.0 2.35e-03    -  1.00e+00 1.00e+00h  1\n",
      " 158  7.3824731e-04 3.03e-08 8.19e-05 -11.0 1.50e+00    -  1.00e+00 3.63e-05h 14\n",
      " 159  7.3822492e-04 2.11e-06 6.66e-03 -11.0 3.02e-02    -  1.00e+00 1.00e+00h  1\n",
      "iter    objective    inf_pr   inf_du lg(mu)  ||d||  lg(rg) alpha_du alpha_pr  ls\n",
      " 160  7.3755057e-04 2.84e-04 9.18e-03 -11.0 2.22e+01    -  6.96e-01 1.56e-02h  7\n",
      " 161  7.3755034e-04 2.84e-04 6.95e-03 -10.5 6.64e+00    -  1.00e+00 3.26e-05h 14\n",
      " 162  7.3824018e-04 1.26e-05 2.40e-02 -10.6 5.23e-02    -  1.00e+00 1.00e+00h  1\n",
      " 163  7.3818081e-04 3.97e-05 2.34e-02 -10.6 6.87e+00    -  1.00e+00 1.56e-02h  7\n",
      " 164  2.8846765e-03 7.41e-06 2.86e+00 -10.6 3.34e+00  -7.9 1.00e+00 1.00e+00H  1\n",
      " 165  2.8799041e-03 1.24e-05 2.87e+00 -10.6 4.04e+01    -  3.61e-01 9.68e-04h 11\n",
      " 166  2.8793447e-03 1.26e-05 2.87e+00 -10.6 3.77e+03    -  5.54e-03 2.18e-06h 14\n",
      " 167  2.8692417e-03 1.28e-05 2.87e+00 -10.6 1.33e+02    -  1.55e-01 7.22e-05h 10\n",
      " 168  2.8051576e-03 1.31e-05 2.81e+00 -10.6 4.04e+03    -  1.05e-03 1.34e-06f 12\n",
      " 169  1.0096879e-03 7.11e-07 7.38e-02 -10.6 6.60e+00    -  1.00e+00 1.00e+00H  1\n"
     ]
    },
    {
     "name": "stderr",
     "output_type": "stream",
     "text": [
      "\u001b[1m\u001b[33mWARNING: \u001b[39m\u001b[22m\u001b[33mu_crra_prime_inv\u001b[39m\n",
      "\u001b[1m\u001b[33mWARNING: \u001b[39m\u001b[22m\u001b[33mu_crra_prime_inv\u001b[39m\n",
      "\u001b[1m\u001b[33mWARNING: \u001b[39m\u001b[22m\u001b[33mu_crra_prime_inv\u001b[39m\n",
      "\u001b[1m\u001b[33mWARNING: \u001b[39m\u001b[22m\u001b[33mu_crra_prime_inv\u001b[39m\n",
      "\u001b[1m\u001b[33mWARNING: \u001b[39m\u001b[22m\u001b[33mu_crra_prime_inv\u001b[39m\n",
      "\u001b[1m\u001b[33mWARNING: \u001b[39m\u001b[22m\u001b[33mu_crra_prime_inv\u001b[39m\n",
      "\u001b[1m\u001b[33mWARNING: \u001b[39m\u001b[22m\u001b[33mu_crra_prime_inv\u001b[39m\n",
      "\u001b[1m\u001b[33mWARNING: \u001b[39m\u001b[22m\u001b[33mu_crra_prime_inv\u001b[39m\n"
     ]
    },
    {
     "name": "stdout",
     "output_type": "stream",
     "text": [
      "iter    objective    inf_pr   inf_du lg(mu)  ||d||  lg(rg) alpha_du alpha_pr  ls\n",
      " 170  8.1659805e-04 2.34e-02 5.38e-01 -10.6 3.31e+03  -8.3 1.32e-02 8.86e-04f  4\n",
      " 171  8.0231724e-04 2.58e-02 6.46e-01 -10.6 1.12e+01    -  1.00e+00 1.25e-01h  4\n",
      " 172  7.9905870e-04 2.58e-02 4.95e-01 -10.6 3.19e+03    -  2.59e-02 2.61e-05h  9\n",
      " 173  7.4713310e-04 2.84e-02 2.42e-01 -10.6 3.77e+03    -  7.84e-03 3.17e-04h  7\n",
      " 174  7.4753394e-04 1.89e-03 5.57e-02 -10.6 3.62e+00  -8.8 1.00e+00 1.00e+00H  1\n"
     ]
    },
    {
     "name": "stderr",
     "output_type": "stream",
     "text": [
      "\u001b[1m\u001b[33mWARNING: \u001b[39m\u001b[22m\u001b[33mu_crra_prime_inv\u001b[39m\n",
      "\u001b[1m\u001b[33mWARNING: \u001b[39m\u001b[22m\u001b[33mu_crra_prime_inv\u001b[39m\n",
      "\u001b[1m\u001b[33mWARNING: \u001b[39m\u001b[22m\u001b[33mu_crra_prime_inv\u001b[39m\n",
      "\u001b[1m\u001b[33mWARNING: \u001b[39m\u001b[22m\u001b[33mu_crra_prime_inv\u001b[39m\n",
      "\u001b[1m\u001b[33mWARNING: \u001b[39m\u001b[22m\u001b[33mu_crra_prime_inv\u001b[39m\n",
      "\u001b[1m\u001b[33mWARNING: \u001b[39m\u001b[22m\u001b[33mu_crra_prime_inv\u001b[39m\n",
      "\u001b[1m\u001b[33mWARNING: \u001b[39m\u001b[22m\u001b[33mu_crra_prime_inv\u001b[39m\n",
      "\u001b[1m\u001b[33mWARNING: \u001b[39m\u001b[22m\u001b[33mu_crra_prime_inv\u001b[39m\n",
      "\u001b[1m\u001b[33mWARNING: \u001b[39m\u001b[22m\u001b[33mu_crra_prime_inv\u001b[39m\n",
      "\u001b[1m\u001b[33mWARNING: \u001b[39m\u001b[22m\u001b[33mu_crra_prime_inv\u001b[39m\n",
      "\u001b[1m\u001b[33mWARNING: \u001b[39m\u001b[22m\u001b[33mu_crra_prime_inv\u001b[39m\n",
      "\u001b[1m\u001b[33mWARNING: \u001b[39m\u001b[22m\u001b[33mu_crra_prime_inv\u001b[39m\n",
      "\u001b[1m\u001b[33mWARNING: \u001b[39m\u001b[22m\u001b[33mu_crra_prime_inv\u001b[39m\n",
      "\u001b[1m\u001b[33mWARNING: \u001b[39m\u001b[22m\u001b[33mu_crra_prime_inv\u001b[39m\n",
      "\u001b[1m\u001b[33mWARNING: \u001b[39m\u001b[22m\u001b[33mu_crra_prime_inv\u001b[39m\n",
      "\u001b[1m\u001b[33mWARNING: \u001b[39m\u001b[22m\u001b[33mu_crra_prime_inv\u001b[39m\n",
      "\u001b[1m\u001b[33mWARNING: \u001b[39m\u001b[22m\u001b[33mu_crra_prime_inv\u001b[39m\n",
      "\u001b[1m\u001b[33mWARNING: \u001b[39m\u001b[22m\u001b[33mu_crra_prime_inv\u001b[39m\n",
      "\u001b[1m\u001b[33mWARNING: \u001b[39m\u001b[22m\u001b[33mu_crra_prime_inv\u001b[39m\n",
      "\u001b[1m\u001b[33mWARNING: \u001b[39m\u001b[22m\u001b[33mu_crra_prime_inv\u001b[39m\n"
     ]
    },
    {
     "name": "stdout",
     "output_type": "stream",
     "text": [
      " 175  7.5313844e-04 5.43e-04 5.55e-02 -10.6 1.81e+02  -9.3 4.94e-02 3.84e-03h  7\n",
      " 176  7.5715807e-04 6.46e-05 5.54e-02 -10.6 9.42e+03  -9.8 7.26e-03 5.54e-05h  7\n",
      " 177  7.3750159e-04 1.47e-03 1.47e-02 -10.6 6.56e-01    -  1.00e+00 1.00e+00h  1\n",
      " 178  7.3748518e-04 1.47e-03 1.97e-02 -10.6 4.97e+02 -10.3 6.93e-02 6.12e-05h 11\n",
      " 179  7.3746125e-04 1.47e-03 2.28e-02 -10.6 1.62e+02  -8.9 3.44e-01 1.44e-04h 11\n",
      "iter    objective    inf_pr   inf_du lg(mu)  ||d||  lg(rg) alpha_du alpha_pr  ls\n",
      " 180  7.4462707e-04 1.93e-05 5.65e-02 -10.6 2.84e-02    -  1.00e+00 1.00e+00h  1\n",
      " 181  1.0516075e-03 1.02e-05 1.01e-01 -10.6 1.43e-01    -  1.00e+00 1.00e+00H  1\n",
      " 182  7.3857897e-04 2.16e-05 8.56e-03 -10.6 1.95e-01    -  1.00e+00 1.00e+00H  1\n",
      " 183  7.3758497e-04 3.89e-04 1.10e-02 -10.6 3.05e+01    -  1.00e+00 1.30e-02h  6\n",
      " 184  7.3754069e-04 3.92e-04 2.47e-02 -10.6 3.85e+02  -9.4 7.13e-02 8.74e-05h 12\n",
      " 185  7.3745160e-04 3.92e-04 1.69e-03 -10.6 3.29e+03  -9.9 5.92e-03 3.41e-06h  9\n",
      " 186  7.3745246e-04 3.92e-04 9.34e-04  -9.7 1.91e+01    -  7.43e-01 2.44e-04h 13\n",
      " 187  7.4177831e-04 3.11e-05 3.42e-03 -11.0 6.48e-01    -  1.00e+00 1.00e+00H  1\n",
      " 188  7.3705648e-04 7.56e-04 3.21e-03 -11.0 5.04e-01    -  1.00e+00 1.00e+00h  1\n",
      " 189r 7.3705648e-04 7.56e-04 9.99e+02  -3.1 0.00e+00    -  0.00e+00 1.54e-07R 22\n",
      "iter    objective    inf_pr   inf_du lg(mu)  ||d||  lg(rg) alpha_du alpha_pr  ls\n",
      " 190r 7.3874148e-04 8.22e-05 8.84e-02  -9.0 7.57e-01    -  1.00e+00 9.90e-04f  1\n",
      " 191  7.3768733e-04 7.31e-07 7.21e-03 -10.4 1.15e-02    -  1.00e+00 1.00e+00h  1\n",
      " 192r 7.3768733e-04 7.31e-07 9.99e+02  -6.1 0.00e+00  -9.5 0.00e+00 3.76e-07R 15\n",
      " 193r 7.3768849e-04 8.82e-08 1.16e-04  -9.0 7.31e-04    -  1.00e+00 9.90e-04f  1\n",
      " 194  7.3767405e-04 4.43e-07 2.39e-03 -11.0 1.19e-02    -  1.00e+00 1.00e+00h  1\n",
      " 195  7.3767131e-04 4.45e-07 1.98e-03 -11.0 5.12e+01    -  8.90e-01 1.97e-05h 14\n",
      " 196  7.3766988e-04 4.70e-07 1.92e-03 -11.0 6.27e+00    -  1.00e+00 4.88e-04h 12\n",
      " 197  7.3766926e-04 7.82e-07 4.28e-03 -11.0 1.36e+01    -  5.42e-01 9.77e-04h 11\n",
      " 198  7.3766798e-04 1.31e-06 3.01e-03 -11.0 1.54e+02    -  3.57e-01 9.51e-05h 11\n",
      " 199  7.3766526e-04 2.12e-07 3.47e-06 -11.0 1.06e-02    -  1.00e+00 1.00e+00h  1\n",
      "iter    objective    inf_pr   inf_du lg(mu)  ||d||  lg(rg) alpha_du alpha_pr  ls\n",
      " 200  7.3766532e-04 1.07e-11 1.26e-09 -11.0 6.09e-05    -  1.00e+00 1.00e+00h  1\n",
      "\n",
      "Number of Iterations....: 200\n",
      "\n",
      "                                   (scaled)                 (unscaled)\n",
      "Objective...............:   7.3766532164518041e-04    7.3766532164518041e-04\n",
      "Dual infeasibility......:   1.2596406182760432e-09    1.2596406182760432e-09\n",
      "Constraint violation....:   1.0654588322722702e-11    1.0654588322722702e-11\n",
      "Complementarity.........:   1.0000000035637441e-11    1.0000000035637441e-11\n",
      "Overall NLP error.......:   1.2596406182760432e-09    1.2596406182760432e-09\n",
      "\n",
      "\n",
      "Number of objective function evaluations             = 1049\n",
      "Number of objective gradient evaluations             = 201\n",
      "Number of equality constraint evaluations            = 1079\n",
      "Number of inequality constraint evaluations          = 1079\n",
      "Number of equality constraint Jacobian evaluations   = 205\n",
      "Number of inequality constraint Jacobian evaluations = 205\n",
      "Number of Lagrangian Hessian evaluations             = 0\n",
      "Total CPU secs in IPOPT (w/o function evaluations)   =      0.408\n",
      "Total CPU secs in NLP function evaluations           =      1.404\n",
      "\n",
      "EXIT: Optimal Solution Found.\n"
     ]
    },
    {
     "data": {
      "text/plain": [
       ":Optimal"
      ]
     },
     "execution_count": 65,
     "metadata": {},
     "output_type": "execute_result"
    }
   ],
   "source": [
    "solve(m)"
   ]
  },
  {
   "cell_type": "code",
   "execution_count": 66,
   "metadata": {
    "scrolled": true
   },
   "outputs": [
    {
     "data": {
      "text/plain": [
       "(0.9461969328259187, 0.033881586506650414, 0.27448485754794155, 0.9912239454683445, 1.7113676176328982)"
      ]
     },
     "execution_count": 66,
     "metadata": {},
     "output_type": "execute_result"
    }
   ],
   "source": [
    "getvalue(β), getvalue(δ), getvalue(α), getvalue(A), getvalue(γ)"
   ]
  },
  {
   "cell_type": "code",
   "execution_count": 67,
   "metadata": {},
   "outputs": [
    {
     "data": {
      "text/html": [
       "<img src=\"data:image/png;base64,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\" />"
      ]
     },
     "execution_count": 67,
     "metadata": {},
     "output_type": "execute_result"
    }
   ],
   "source": [
    "plot(nodes(Basis(ChebParams(10, 0.2*k_stst, 2*k_stst)))[1], [0.731039, 0.830067, 0.984055, 1.15697 , 1.32812 , 1.48555 , 1.62093 , 1.72778 , 1.80161 , 1.8393], label=\"True Policy Fucntion\")\n",
    "plot!(K, u_crra_prime_inv.((Ψprime * getvalue(θ))./(f_prime.(f.(K, getvalue(α), getvalue(A)) + (1-getvalue(δ))*K - \n",
    "            u_crra_prime_inv.((Ψprime * getvalue(θ)) ./ (f_prime.(K, getvalue(α), getvalue(A)) + 1-getvalue(δ)), getvalue(γ)), getvalue(α), getvalue(A)) + 1-getvalue(δ)), getvalue(γ)), label=\"Estimated Policy Function\")\n",
    "#plot!(K, getvalue(modelC), label=\"Estimated Policy Function\")"
   ]
  },
  {
   "cell_type": "code",
   "execution_count": 68,
   "metadata": {},
   "outputs": [
    {
     "data": {
      "text/html": [
       "<img src=\"data:image/png;base64,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\" />"
      ]
     },
     "execution_count": 68,
     "metadata": {},
     "output_type": "execute_result"
    }
   ],
   "source": [
    "plot(K, Ψ * getvalue(θ))"
   ]
  },
  {
   "cell_type": "code",
   "execution_count": null,
   "metadata": {},
   "outputs": [],
   "source": []
  }
 ],
 "metadata": {
  "kernelspec": {
   "display_name": "Julia 0.6.0",
   "language": "julia",
   "name": "julia-0.6"
  },
  "language_info": {
   "file_extension": ".jl",
   "mimetype": "application/julia",
   "name": "julia",
   "version": "0.6.0"
  }
 },
 "nbformat": 4,
 "nbformat_minor": 2
}
