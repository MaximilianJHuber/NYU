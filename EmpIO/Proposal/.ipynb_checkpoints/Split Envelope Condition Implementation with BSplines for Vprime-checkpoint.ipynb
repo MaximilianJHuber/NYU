{
 "cells": [
  {
   "cell_type": "markdown",
   "metadata": {},
   "source": [
    "In this exercise I solve a deterministic growth model using simulated data generated from an economy with parameters $\\beta = 0.95$, $\\alpha = 0.3$, $A = 1.0$, $\\delta = 0.05$, $\\gamma = 2.0$. I initiate the variables of the mathematical program at the true values, which should make the optimization easy."
   ]
  },
  {
   "cell_type": "code",
   "execution_count": null,
   "metadata": {
    "scrolled": false
   },
   "outputs": [],
   "source": [
    "using CSV\n",
    "using Plots; pyplot()\n",
    "\n",
    "df = CSV.read(\"data.csv\"; header=false, types=[Float64, Float64])\n",
    "dataK = convert(Vector{Float64}, df[1])\n",
    "dataC = convert(Vector{Float64}, df[2])\n",
    "\n",
    "plot(dataK, label=\"capital\")\n",
    "plot!(dataC, label=\"consumption\")"
   ]
  },
  {
   "cell_type": "markdown",
   "metadata": {},
   "source": [
    "The economy's steady state for capital is:"
   ]
  },
  {
   "cell_type": "code",
   "execution_count": null,
   "metadata": {},
   "outputs": [],
   "source": [
    "k_stst = 4.628988089138438;"
   ]
  },
  {
   "cell_type": "markdown",
   "metadata": {},
   "source": [
    "# The Mathematical Program\n",
    "I define the needed function related to utility and production:"
   ]
  },
  {
   "cell_type": "code",
   "execution_count": null,
   "metadata": {},
   "outputs": [],
   "source": [
    "u_crra_prime(c, γ) = begin\n",
    "    if (c <= 0)\n",
    "        return -10000.\n",
    "        else\n",
    "        return c^-γ\n",
    "    end\n",
    "end\n",
    "\n",
    "u_crra_prime_inv(u, γ) = begin\n",
    "    if (u <= 0)\n",
    "        return +10000.\n",
    "    else\n",
    "        return u^(-1/γ) \n",
    "    end\n",
    "end\n",
    "\n",
    "function f(k, α, A)\n",
    "    if (k <= 0)\n",
    "        return zero(k)\n",
    "    else\n",
    "        A*k^α\n",
    "    end\n",
    "end\n",
    "\n",
    "function f_prime(k, α, A)\n",
    "    if (k <= 0)\n",
    "        return zero(k)\n",
    "    else\n",
    "        A*α*k^(α-1)\n",
    "    end\n",
    "end"
   ]
  },
  {
   "cell_type": "markdown",
   "metadata": {},
   "source": [
    "I use the Julia Mathematical Programming languange JuMP and the IpOpt solver:"
   ]
  },
  {
   "cell_type": "code",
   "execution_count": null,
   "metadata": {},
   "outputs": [],
   "source": [
    "using JuMP\n",
    "using Ipopt\n",
    "\n",
    "#m = Model(solver=IpoptSolver(print_level=5, max_iter=500, mu_strategy=\"adaptive\", mu_oracle=\"probing\"));\n",
    "m = Model(solver=IpoptSolver(print_level=5, max_iter=500, mu_strategy=\"adaptive\", mu_oracle=\"probing\", corrector_type=\"affine\"));\n",
    "#m = Model(solver=IpoptSolver(print_level=5, max_iter=600));"
   ]
  },
  {
   "cell_type": "markdown",
   "metadata": {},
   "source": [
    "I define the deep parameters variables and give the the correct starting values:"
   ]
  },
  {
   "cell_type": "code",
   "execution_count": null,
   "metadata": {},
   "outputs": [],
   "source": [
    "@variable(m, 0 <= β <= 1, start = 0.95)\n",
    "@variable(m, 0 <= δ <= 1, start = 0.05)\n",
    "@variable(m, 0 <= α <= 1, start = 0.3)\n",
    "@variable(m, A >= 0, start = 1)\n",
    "@variable(m, 100 >= γ >= 1, start = 2);"
   ]
  },
  {
   "cell_type": "markdown",
   "metadata": {},
   "source": [
    "The policy function is approximated by 10 Chebyshev polynomials on a grid around the steady state for capital, the coefficients on the polynomials are $\\theta$:"
   ]
  },
  {
   "cell_type": "markdown",
   "metadata": {},
   "source": [
    "I define a grid on capital, $K$, with 10 nodes, and evaluate the Chebyshev polynomials at those point into $\\Psi$ and at the observed data points into $\\Phi$:"
   ]
  },
  {
   "cell_type": "code",
   "execution_count": 8,
   "metadata": {},
   "outputs": [],
   "source": [
    "using BasisMatrices\n",
    "global const params = SplineParams(linspace(0.2*k_stst, 2*k_stst, 10), 0, 3)\n",
    "basis = Basis(params)\n",
    "K = nodes(basis)[1] #grid\n",
    "Ψ = BasisMatrix(basis, Expanded(), K).vals[1]\n",
    "Ψprime = BasisMatrix(basis, Expanded(), K, 1).vals[1]\n",
    "#Ψprimeprimeprime = BasisMatrix(basis, Expanded(), K, 3).vals[1]\n",
    "Φ = BasisMatrix(basis, Expanded(), dataK).vals[1]\n",
    "Φprime = BasisMatrix(basis, Expanded(), dataK, 1).vals[1];"
   ]
  },
  {
   "cell_type": "code",
   "execution_count": 9,
   "metadata": {},
   "outputs": [],
   "source": [
    "@variable(m, θ[1:length(K)], start = 0);"
   ]
  },
  {
   "cell_type": "markdown",
   "metadata": {},
   "source": [
    "And I initialize $\\theta$ such that the consumer myopically consumes almost everything available, leaving just $0.5$ capital for the next period:"
   ]
  },
  {
   "cell_type": "code",
   "execution_count": 10,
   "metadata": {},
   "outputs": [],
   "source": [
    "#initial_θ = Ψ \\ (u_crra.((f.(K, getvalue(α), getvalue(A)) + (1-getvalue(δ))*K - 1.), getvalue(γ)) .* \n",
    "#    (f_prime(1, getvalue(α), getvalue(A)) + 1-getvalue(δ)))\n",
    "b2 = Basis(ChebParams(10, 0.2*k_stst, 2*k_stst))\n",
    "K2 = nodes(b2)[1] #grid\n",
    "Ψ2 = BasisMatrix(b2, Expanded(), K2).vals[1]\n",
    "θ2 = Ψ2 \\ [0.731039, 0.830067, 0.984055, 1.15697 , 1.32812 , 1.48555 , 1.62093 , 1.72778 , 1.80161 , 1.8393]\n",
    "\n",
    "\n",
    "initial_θ = Ψ \\ (u_crra_prime.(BasisMatrix(b2, Expanded(), K).vals[1] * θ2, getvalue(γ)) .*\n",
    "    (f_prime.(f.(K, getvalue(α), getvalue(A)) + (1-getvalue(δ)) * K - BasisMatrix(b2, Expanded(), K).vals[1] * θ2, \n",
    "        getvalue(α), getvalue(A)) + 1-getvalue(δ)))\n",
    "\n",
    "\n",
    "for i in 1:length(K)\n",
    "    setvalue(θ[i], initial_θ[i])\n",
    "end"
   ]
  },
  {
   "cell_type": "code",
   "execution_count": 11,
   "metadata": {},
   "outputs": [
    {
     "data": {
      "text/plain": [
       "12-element Array{Float64,1}:\n",
       " -0.0688677\n",
       " -0.0639336\n",
       " -0.0560414\n",
       " -0.0470759\n",
       " -0.0400684\n",
       " -0.0342355\n",
       " -0.0292037\n",
       " -0.0247481\n",
       " -0.020723 \n",
       " -0.0170371\n",
       " -0.0147348\n",
       " -0.0136244"
      ]
     },
     "execution_count": 11,
     "metadata": {},
     "output_type": "execute_result"
    }
   ],
   "source": [
    "u_crra_prime_inv.(Ψ * getvalue(θ), getvalue(γ)) - BasisMatrix(b2, Expanded(), K).vals[1] * θ2\n",
    "#very good starting point!"
   ]
  },
  {
   "cell_type": "markdown",
   "metadata": {},
   "source": [
    "In the equilibrium constraint the polynomials have to be evaluated also outside the grid, I define this function here:"
   ]
  },
  {
   "cell_type": "code",
   "execution_count": 12,
   "metadata": {
    "scrolled": false
   },
   "outputs": [
    {
     "data": {
      "text/plain": [
       "interpVprime (generic function with 1 method)"
      ]
     },
     "execution_count": 12,
     "metadata": {},
     "output_type": "execute_result"
    }
   ],
   "source": [
    "function interpVprime(x, values...) #x is the point of evaluation, values are on the grid\n",
    "    return (evalbase(params, [x], 0) * collect(values))[1] #evaluates the first derivative of the basis functions\n",
    "end"
   ]
  },
  {
   "cell_type": "markdown",
   "metadata": {},
   "source": [
    "I register all user-defined functions with JuMP for automatic differentiation:"
   ]
  },
  {
   "cell_type": "code",
   "execution_count": 13,
   "metadata": {},
   "outputs": [],
   "source": [
    "JuMP.register(m, :interpVprime, 1+length(K), interpVprime, autodiff=true)\n",
    "JuMP.register(m, :u_crra_prime, 2, u_crra_prime, autodiff=true)\n",
    "JuMP.register(m, :f, 3, f, autodiff=true)\n",
    "JuMP.register(m, :f_prime, 3, f_prime, autodiff=true)\n",
    "JuMP.register(m, :u_crra_prime_inv, 2, u_crra_prime_inv, autodiff=true)"
   ]
  },
  {
   "cell_type": "markdown",
   "metadata": {},
   "source": [
    "The auxiliary and equilibrium constraints are all defined on the grid with 10 nodes:"
   ]
  },
  {
   "cell_type": "code",
   "execution_count": 14,
   "metadata": {},
   "outputs": [],
   "source": [
    "@variable(m, modelC[i=1:length(K)] >= 0, start = 1)\n",
    "@variable(m, modelKprime[i=1:length(K)] >= 0, start = 1)\n",
    "@variable(m, modelCprime[i=1:length(K)] >= 0, start = 1)\n",
    "\n",
    "for i in 1:length(K)\n",
    "    setvalue(modelC[i], u_crra_prime_inv(\n",
    "            (Ψ[i, :]' * getvalue(θ))/(f_prime(K[i], getvalue(α), getvalue(A)) + 1-getvalue(δ)), getvalue(γ)))\n",
    "    setvalue(modelKprime[i], f(K[i], getvalue(α), getvalue(A)) + (1-getvalue(δ))*K[i] - getvalue(modelC[i]))\n",
    "    setvalue(modelCprime[i], u_crra_prime_inv(interpVprime(\n",
    "            getvalue(modelKprime[i]), getvalue(θ)...)/(f_prime(getvalue(modelKprime[i]), getvalue(α), getvalue(A)) + 1-getvalue(δ)), \n",
    "            getvalue(γ)))\n",
    "end"
   ]
  },
  {
   "cell_type": "code",
   "execution_count": 15,
   "metadata": {},
   "outputs": [],
   "source": [
    "##EE in consumption:\n",
    "@NLconstraint(m, cons_today[i=1:length(K)], modelC[i] == u_crra_prime_inv(sum(Ψ[i, k] * θ[k] for k in 1:length(K)) / \n",
    "            (f_prime(modelKprime[i], α, A) + 1-δ), γ))\n",
    "@NLconstraint(m, capi_tomor[i=1:length(K)], modelKprime[i] == f(K[i], α, A) + (1-δ)*K[i] - modelC[i])\n",
    "@NLconstraint(m, cons_tomor[i=1:length(K)], modelCprime[i] == u_crra_prime_inv(interpVprime(modelKprime[i], \n",
    "            θ[1], θ[2], θ[3], θ[4], θ[5], θ[6], θ[7], θ[8], θ[9], θ[10], θ[11], θ[12]) / \n",
    "            (f_prime(modelKprime[i], α, A) + 1-δ), γ))\n",
    "\n",
    "@NLconstraint(m, increasing[i=1:length(K)], sum(Ψ[i, k] * θ[k] for k in 1:length(K)) >= 0)\n",
    "@NLconstraint(m, concave[i=1:length(K)], sum(Ψprime[i, k] * θ[k] for k in 1:length(K)) <= 0)\n",
    "#@NLconstraint(m, convex[i=1:length(K)], sum(Ψprimeprimeprime[i, k] * θ[k] for k in 1:length(K)) >= 0)\n",
    "\n",
    "@NLconstraint(m, EE[i=1:length(K)], u_crra_prime(modelC[i], γ) == \n",
    "    β * u_crra_prime(modelCprime[i], γ) * (f_prime(modelKprime[i], α, A) + 1-δ));"
   ]
  },
  {
   "cell_type": "code",
   "execution_count": 16,
   "metadata": {},
   "outputs": [
    {
     "data": {
      "text/plain": [
       "12-element Array{Float64,1}:\n",
       " -0.0258443\n",
       " -0.0229381\n",
       " -0.0261657\n",
       " -0.0281994\n",
       " -0.0314189\n",
       " -0.0342295\n",
       " -0.0369354\n",
       " -0.0395238\n",
       " -0.0419292\n",
       " -0.0442501\n",
       " -0.0457368\n",
       " -0.0464804"
      ]
     },
     "execution_count": 16,
     "metadata": {},
     "output_type": "execute_result"
    }
   ],
   "source": [
    "u_crra_prime_inv.(u_crra_prime.(getvalue(modelCprime), getvalue(γ)) .* (f_prime.(getvalue(modelKprime), getvalue(α), getvalue(A)) + 1-getvalue(δ)), getvalue(γ)) .- getvalue(modelC)"
   ]
  },
  {
   "cell_type": "code",
   "execution_count": 17,
   "metadata": {},
   "outputs": [
    {
     "data": {
      "text/plain": [
       "12-element Array{Float64,1}:\n",
       " 0.729511\n",
       " 0.805166\n",
       " 0.933817\n",
       " 1.09373 \n",
       " 1.23047 \n",
       " 1.3521  \n",
       " 1.46326 \n",
       " 1.56652 \n",
       " 1.66337 \n",
       " 1.75506 \n",
       " 1.81375 \n",
       " 1.84245 "
      ]
     },
     "execution_count": 17,
     "metadata": {},
     "output_type": "execute_result"
    }
   ],
   "source": [
    "getvalue(modelC)"
   ]
  },
  {
   "cell_type": "markdown",
   "metadata": {},
   "source": [
    "I define auxiliary expressions for the predictions of the equilibrium conditions:"
   ]
  },
  {
   "cell_type": "code",
   "execution_count": 18,
   "metadata": {},
   "outputs": [],
   "source": [
    "@NLexpression(m, predictedK[t=2:100], f(dataK[t-1], α, A) + (1-δ)*dataK[t-1] - dataC[t-1])\n",
    "@NLexpression(m, predictedC[t=1:100], u_crra_prime_inv(sum(Φ[t, k] * θ[k] for k in 1:length(K)), γ));"
   ]
  },
  {
   "cell_type": "markdown",
   "metadata": {},
   "source": [
    "The objective is to minimize the sum of squared errors:"
   ]
  },
  {
   "cell_type": "code",
   "execution_count": 19,
   "metadata": {},
   "outputs": [],
   "source": [
    "@NLobjective(m, Min, sum((dataC[t] - predictedC[t])^2 for t in 1:100) +\n",
    "    sum((dataK[t] - predictedK[t])^2 for t in 2:100))"
   ]
  },
  {
   "cell_type": "code",
   "execution_count": 20,
   "metadata": {
    "scrolled": true
   },
   "outputs": [
    {
     "name": "stdout",
     "output_type": "stream",
     "text": [
      "\n",
      "******************************************************************************\n",
      "This program contains Ipopt, a library for large-scale nonlinear optimization.\n",
      " Ipopt is released as open source code under the Eclipse Public License (EPL).\n",
      "         For more information visit http://projects.coin-or.org/Ipopt\n",
      "******************************************************************************\n",
      "\n",
      "This is Ipopt version 3.12.1, running with linear solver mumps.\n",
      "NOTE: Other linear solvers might be more efficient (see Ipopt documentation).\n",
      "\n",
      "Number of nonzeros in equality constraint Jacobian...:      588\n",
      "Number of nonzeros in inequality constraint Jacobian.:      288\n",
      "Number of nonzeros in Lagrangian Hessian.............:        0\n",
      "\n",
      "Total number of variables............................:       53\n",
      "                     variables with only lower bounds:       37\n",
      "                variables with lower and upper bounds:        4\n",
      "                     variables with only upper bounds:        0\n",
      "Total number of equality constraints.................:       48\n",
      "Total number of inequality constraints...............:       24\n",
      "        inequality constraints with only lower bounds:       12\n",
      "   inequality constraints with lower and upper bounds:        0\n",
      "        inequality constraints with only upper bounds:       12\n",
      "\n",
      "iter    objective    inf_pr   inf_du lg(mu)  ||d||  lg(rg) alpha_du alpha_pr  ls\n",
      "   0  1.4993774e-01 3.96e-02 1.52e+00   0.0 0.00e+00    -  0.00e+00 0.00e+00   0\n",
      "   1  1.0294062e+00 1.05e-03 7.80e+01  -1.1 1.73e-01    -  9.55e-01 1.00e+00H  1\n",
      "   2  8.8082158e-02 4.49e-02 3.48e+00  -1.4 1.01e-01    -  9.99e-01 1.00e+00f  1\n",
      "   3  2.4593646e-02 6.12e-04 1.34e+01  -2.3 3.43e-02    -  1.00e+00 1.00e+00h  1\n",
      "   4  1.6628527e-02 2.08e-04 8.03e-01  -3.7 3.18e-02    -  1.00e+00 1.00e+00h  1\n",
      "   5  1.2334246e-02 1.56e-04 9.21e-02  -5.0 2.24e-02    -  1.00e+00 1.00e+00h  1\n",
      "   6  4.3670970e-03 2.57e-03 3.10e+00  -6.1 1.02e-01    -  1.00e+00 1.00e+00h  1\n",
      "   7  3.8366516e-03 6.43e-04 1.45e+00  -7.0 5.58e-02    -  1.00e+00 1.00e+00h  1\n",
      "   8  2.3991799e-03 2.17e-04 6.58e-01  -8.1 1.29e-02    -  1.00e+00 1.00e+00h  1\n",
      "   9  1.4359859e-03 6.82e-03 1.91e+00  -9.1 2.71e-01    -  1.00e+00 5.00e-01h  2\n",
      "iter    objective    inf_pr   inf_du lg(mu)  ||d||  lg(rg) alpha_du alpha_pr  ls\n",
      "  10  8.7888276e-04 1.09e-03 2.95e-01  -8.7 7.37e-02    -  1.00e+00 1.00e+00h  1\n",
      "  11  1.5841966e-03 7.12e-04 3.82e-01 -10.1 5.79e-02    -  1.00e+00 1.00e+00h  1\n",
      "  12  6.4004023e-04 1.35e-04 5.36e-01 -11.0 2.76e-02    -  1.00e+00 1.00e+00h  1\n",
      "  13  6.8467430e-04 3.49e-05 2.93e-01 -11.0 1.25e-02    -  1.00e+00 1.00e+00h  1\n",
      "  14  5.9345248e-04 8.28e-05 8.06e-02 -11.0 2.26e-02    -  1.00e+00 1.00e+00h  1\n",
      "  15  5.9120317e-04 8.38e-05 2.65e-02  -9.0 1.18e+00    -  1.00e+00 6.91e-03h  6\n",
      "  16  5.8056089e-04 1.30e-04 1.14e-01 -10.0 4.18e-02    -  1.00e+00 1.00e+00h  1\n",
      "  17  5.7446240e-04 6.49e-04 2.77e-01  -9.5 5.69e+00    -  1.00e+00 1.64e-02h  6\n",
      "  18  5.6749482e-04 9.37e-05 2.64e-02 -10.9 3.58e-02    -  1.00e+00 1.00e+00h  1\n",
      "  19  7.3999060e-04 4.54e-05 1.40e-01 -11.0 1.71e-02    -  1.00e+00 1.00e+00h  1\n",
      "iter    objective    inf_pr   inf_du lg(mu)  ||d||  lg(rg) alpha_du alpha_pr  ls\n",
      "  20  5.6761931e-04 5.16e-05 6.38e-04 -11.0 1.94e-02    -  1.00e+00 1.00e+00h  1\n",
      "  21  5.6778690e-04 2.16e-07 1.30e-03 -11.0 2.48e-03    -  1.00e+00 1.00e+00h  1\n",
      "  22  5.7503021e-04 1.31e-07 3.62e-02 -11.0 1.31e-02    -  1.00e+00 1.00e+00H  1\n",
      "  23  5.8853674e-04 1.08e-07 2.08e-01 -11.0 6.18e-02    -  1.00e+00 1.00e+00H  1\n",
      "  24  5.8595521e-04 6.59e-05 1.73e-01 -11.0 1.35e+00    -  8.10e-01 1.10e-02h  5\n",
      "  25  6.6621724e-04 5.15e-08 1.66e-02 -11.0 4.06e-02    -  1.00e+00 1.00e+00H  1\n",
      "  26  6.2319829e-04 6.50e-04 2.34e-02 -11.0 7.39e-01    -  1.00e+00 1.25e-01h  4\n",
      "  27  6.8555481e-02 1.57e-04 3.26e+00 -11.0 5.30e-01    -  1.00e+00 1.00e+00H  1\n",
      "  28  6.2151615e-04 4.51e-03 1.20e-01 -11.0 3.27e-01    -  1.00e+00 1.00e+00f  1\n",
      "  29  1.7592045e-03 1.90e-04 3.62e-01 -11.0 4.01e-01    -  1.00e+00 1.00e+00H  1\n",
      "iter    objective    inf_pr   inf_du lg(mu)  ||d||  lg(rg) alpha_du alpha_pr  ls\n",
      "  30  2.5797204e-03 7.16e-05 2.30e+00 -11.0 2.59e-01    -  1.00e+00 1.00e+00H  1\n",
      "  31  1.9707666e-03 1.89e-04 1.83e+00 -11.0 5.27e-01    -  1.00e+00 5.07e-02h  5\n",
      "  32  1.9139323e-03 1.90e-04 2.08e+00 -11.0 3.22e-01    -  1.00e+00 7.18e-03h  6\n",
      "  33  1.3799607e-03 4.64e-04 1.91e+00 -11.0 1.50e-01    -  1.00e+00 1.00e+00H  1\n",
      "  34  6.1959278e-04 4.44e-03 4.61e-01 -11.0 2.16e-01    -  7.07e-01 1.00e+00h  1\n",
      "  35  5.8696813e-04 4.30e-03 2.55e-01 -11.0 5.57e-01    -  1.00e+00 1.25e-01h  4\n",
      "  36  5.7495749e-04 3.26e-03 4.42e-02 -11.0 1.82e-01    -  1.00e+00 2.50e-01h  3\n",
      "  37  1.1176011e-02 2.95e-05 7.43e-01 -11.0 1.97e-01    -  1.00e+00 1.00e+00H  1\n",
      "  38  5.8654142e-04 2.01e-04 2.44e-01 -11.0 1.98e-01    -  1.00e+00 1.00e+00H  1\n",
      "  39  1.2721830e-02 5.89e-06 6.46e+00 -11.0 2.73e-01    -  1.00e+00 1.00e+00H  1\n",
      "iter    objective    inf_pr   inf_du lg(mu)  ||d||  lg(rg) alpha_du alpha_pr  ls\n",
      "  40  5.5845082e-04 1.48e-03 1.75e-02 -11.0 2.03e-01    -  1.00e+00 1.00e+00f  1\n",
      "  41  5.6996470e-04 3.59e-05 1.17e-01 -11.0 3.65e-03    -  1.00e+00 1.00e+00h  1\n",
      "  42  5.6833992e-04 5.03e-07 2.99e-02 -11.0 2.27e-03    -  1.00e+00 1.00e+00h  1\n",
      "  43  5.7578448e-04 3.94e-08 3.08e-03 -11.0 1.47e-02    -  1.00e+00 1.00e+00H  1\n",
      "  44  5.6796311e-04 2.55e-06 2.49e-02 -11.0 4.92e-03    -  1.00e+00 1.00e+00h  1\n",
      "  45  5.6931922e-04 2.12e-07 4.04e-02 -11.0 9.43e-04    -  1.00e+00 1.00e+00h  1\n",
      "  46  5.6779529e-04 7.04e-08 8.25e-05 -11.0 6.18e-04    -  1.00e+00 1.00e+00h  1\n",
      "  47  5.6778311e-04 1.84e-08 2.74e-05 -11.0 3.84e-04    -  1.00e+00 1.00e+00h  1\n",
      "  48  5.6777922e-04 4.31e-08 3.70e-05 -11.0 9.86e-04    -  1.00e+00 1.00e+00h  1\n",
      "  49  6.4576718e-04 4.40e-09 1.60e-02 -11.0 3.97e-02    -  1.00e+00 1.00e+00H  1\n",
      "iter    objective    inf_pr   inf_du lg(mu)  ||d||  lg(rg) alpha_du alpha_pr  ls\n",
      "  50  5.6678264e-04 1.64e-04 7.42e-03 -11.0 6.03e-02    -  1.00e+00 1.00e+00h  1\n",
      "  51  1.3939028e-03 1.53e-04 1.00e+00 -11.0 1.41e-01    -  1.00e+00 1.00e+00H  1\n",
      "  52  5.6083125e-04 9.09e-04 5.43e-04 -11.0 1.30e-01    -  1.00e+00 1.00e+00h  1\n",
      "  53  5.7250752e-04 2.09e-05 6.23e-02 -11.0 2.00e-02    -  1.00e+00 1.00e+00h  1\n",
      "  54  7.2315729e-04 1.23e-05 4.09e-01 -11.0 2.36e-01    -  1.00e+00 1.00e+00H  1\n",
      "  55  7.1791644e-04 1.38e-05 3.70e-01 -11.0 4.17e-01    -  1.00e+00 1.48e-02h  7\n",
      "  56  7.1144511e-04 1.56e-05 3.53e-01 -11.0 7.26e-01    -  7.05e-01 7.81e-03h  8\n",
      "  57  7.1069785e-04 1.58e-05 4.22e-01 -11.0 4.89e-01    -  4.67e-01 1.54e-03h  7\n",
      "  58  5.5448969e-04 3.01e-03 1.12e-01 -11.0 1.88e-01    -  1.00e+00 1.00e+00h  1\n",
      "  59  5.5513814e-04 3.00e-03 4.43e-02  -9.0 3.04e+00    -  1.00e+00 3.24e-03h  7\n",
      "iter    objective    inf_pr   inf_du lg(mu)  ||d||  lg(rg) alpha_du alpha_pr  ls\n",
      "  60  5.8030935e-04 4.93e-05 1.15e-01 -10.5 1.64e-02    -  1.00e+00 1.00e+00h  1\n",
      "  61  5.8012610e-04 7.85e-05 1.75e-01 -10.6 3.94e-02    -  1.00e+00 1.00e+00h  1\n",
      "  62  5.7889465e-04 1.05e-04 1.80e-01 -10.6 1.57e+00    -  4.50e-01 1.56e-02h  7\n",
      "  63  1.8506108e-03 4.27e-06 8.53e-01 -10.6 8.13e-02    -  1.00e+00 1.00e+00H  1\n",
      "  64  5.6902942e-04 2.46e-04 1.04e-02 -10.6 4.59e-02    -  1.00e+00 1.00e+00h  1\n",
      "  65  5.6817052e-04 4.26e-06 3.62e-02 -10.6 9.47e-03    -  1.00e+00 1.00e+00h  1\n",
      "  66  6.0919444e-04 3.44e-06 6.39e-02 -10.6 6.84e-02    -  1.00e+00 1.00e+00H  1\n",
      "  67  5.6415465e-04 4.77e-04 1.18e-02 -10.6 9.69e-02    -  1.00e+00 1.00e+00h  1\n",
      "  68  5.6413300e-04 4.76e-04 2.20e-02 -10.0 2.10e+00    -  1.00e+00 9.77e-04h 11\n",
      "  69  6.1597831e-04 6.87e-04 2.73e-02 -11.0 9.07e-02    -  1.00e+00 1.00e+00h  1\n",
      "iter    objective    inf_pr   inf_du lg(mu)  ||d||  lg(rg) alpha_du alpha_pr  ls\n",
      "  70  5.6597679e-04 4.19e-04 1.29e-02 -11.0 6.62e-02    -  1.00e+00 1.00e+00h  1\n",
      "  71  6.5256898e-03 1.74e-04 1.91e+00 -11.0 2.71e-01    -  1.00e+00 1.00e+00H  1\n",
      "  72  6.9792209e-04 9.97e-04 3.88e-01 -11.0 6.96e-02    -  1.00e+00 1.00e+00h  1\n",
      "  73  6.0375484e-04 5.33e-03 5.65e-01 -11.0 2.28e+00    -  2.01e-01 1.25e-01h  4\n",
      "  74  6.0593310e-04 5.30e-03 5.06e-01 -11.0 2.06e+00    -  1.00e+00 1.22e-02h  6\n",
      "  75  5.5497067e-04 2.94e-03 1.07e-01 -11.0 1.67e-01    -  1.00e+00 5.00e-01h  2\n",
      "  76  3.9856701e-03 4.93e-04 6.52e-01 -11.0 6.13e-01    -  9.18e-01 1.00e+00H  1\n",
      "  77  4.9652721e-04 1.71e-02 2.20e-01 -11.0 5.96e-01    -  1.00e+00 1.00e+00h  1\n",
      "  78  1.6794574e-03 3.38e-03 1.47e+00 -11.0 1.57e-01    -  1.00e+00 1.00e+00h  1\n",
      "  79  5.7882533e-04 2.64e-03 5.66e-02 -11.0 1.36e-01    -  1.00e+00 1.00e+00h  1\n",
      "iter    objective    inf_pr   inf_du lg(mu)  ||d||  lg(rg) alpha_du alpha_pr  ls\n",
      "  80  7.0449702e-04 2.61e-03 4.83e-01 -11.0 8.80e-01    -  1.00e+00 1.25e-01h  4\n",
      "  81  7.0821035e-04 2.04e-04 4.53e-01 -11.0 5.52e-02    -  1.00e+00 1.00e+00h  1\n",
      "  82  6.9588042e-04 2.06e-04 2.31e-01 -11.0 1.72e+00    -  1.00e+00 9.21e-03h  7\n",
      "  83  9.5274526e-04 1.12e-05 1.02e+00 -11.0 1.67e-01    -  1.00e+00 1.00e+00H  1\n",
      "  84  5.9184598e-04 1.46e-03 2.99e-01 -11.0 1.87e-01    -  1.00e+00 1.00e+00h  1\n",
      "  85  5.7810958e-04 1.48e-03 3.11e-01 -11.0 8.21e-01    -  1.00e+00 5.05e-02h  5\n",
      "  86  6.3425400e-04 2.60e-05 3.22e-01 -11.0 8.14e-03    -  1.00e+00 1.00e+00h  1\n",
      "  87  5.6890052e-04 1.15e-04 6.02e-02 -11.0 3.67e-02    -  1.00e+00 1.00e+00h  1\n",
      "  88  5.8286813e-04 1.65e-05 1.27e-01 -11.0 6.67e-02    -  1.00e+00 1.00e+00H  1\n",
      "  89  7.7614219e-04 2.74e-06 8.90e-01 -11.0 1.65e-01    -  1.00e+00 1.00e+00H  1\n",
      "iter    objective    inf_pr   inf_du lg(mu)  ||d||  lg(rg) alpha_du alpha_pr  ls\n",
      "  90  7.9311904e-04 1.13e-06 6.78e-01 -11.0 1.57e-01    -  1.00e+00 1.00e+00H  1\n",
      "  91  7.9122997e-04 1.86e-06 6.81e-01 -11.0 1.04e+00    -  1.00e+00 3.91e-03h  9\n",
      "  92  7.6535780e-04 1.54e-05 6.82e-01 -11.0 2.08e+01    -  1.58e-01 8.48e-04h  8\n",
      "  93  5.4654499e-04 3.80e-03 5.97e-02 -11.0 1.54e+00    -  1.00e+00 1.94e-01h  3\n",
      "  94  5.5135903e-04 3.79e-03 5.43e-02  -9.0 1.38e+00    -  1.00e+00 2.05e-02h  6\n",
      "  95  5.6257660e-04 3.72e-03 1.12e-01  -8.7 1.06e+00    -  1.00e+00 6.25e-02h  5\n",
      "  96  5.7240208e-04 6.66e-05 1.38e-01  -8.8 9.83e-03    -  1.00e+00 1.00e+00h  1\n",
      "  97  5.6821427e-04 5.56e-06 4.66e-02  -8.8 8.33e-03    -  1.00e+00 1.00e+00h  1\n",
      "  98  5.7654172e-04 1.90e-06 2.78e-02  -8.8 4.79e-02    -  1.00e+00 1.00e+00H  1\n",
      "  99  5.7623691e-04 1.85e-06 3.91e-02  -8.8 3.41e-01    -  1.00e+00 1.56e-02h  7\n",
      "iter    objective    inf_pr   inf_du lg(mu)  ||d||  lg(rg) alpha_du alpha_pr  ls\n",
      " 100  7.5837576e-04 4.48e-07 4.34e-01  -8.8 7.00e-02    -  1.00e+00 1.00e+00H  1\n",
      " 101  6.8979565e-04 3.31e-07 3.26e-01  -8.8 1.59e-01    -  1.00e+00 1.00e+00H  1\n",
      " 102  6.8207236e-04 1.06e-06 3.20e-01  -8.8 1.61e+00    -  5.22e-01 1.95e-03h 10\n",
      " 103  5.7521983e-04 2.81e-06 1.35e-02  -8.8 8.08e-02    -  1.00e+00 1.00e+00H  1\n",
      " 104  5.7518447e-04 2.84e-06 1.03e-01  -8.8 2.72e-01    -  1.00e+00 6.16e-03h  8\n",
      " 105  5.6895319e-04 1.86e-07 9.66e-03  -8.8 9.94e-03    -  1.00e+00 1.00e+00H  1\n",
      " 106  5.6783225e-04 1.46e-05 3.07e-02  -8.8 2.71e-01    -  1.00e+00 6.25e-02h  5\n",
      " 107  6.3936039e-04 1.67e-08 6.60e-03  -8.8 7.87e-03    -  1.00e+00 1.00e+00H  1\n",
      " 108  5.6790049e-04 1.05e-06 4.56e-03  -8.8 6.04e-03    -  1.00e+00 1.00e+00H  1\n",
      " 109  5.6776535e-04 2.27e-06 2.98e-03  -8.8 6.11e-03    -  1.00e+00 1.00e+00h  1\n",
      "iter    objective    inf_pr   inf_du lg(mu)  ||d||  lg(rg) alpha_du alpha_pr  ls\n",
      " 110  5.6776023e-04 2.28e-06 2.11e-03  -8.8 4.10e-01    -  1.00e+00 1.95e-03h 10\n",
      " 111  5.9495186e-04 3.74e-08 9.83e-03  -8.8 2.47e-02    -  1.00e+00 1.00e+00H  1\n",
      " 112  6.0002508e-04 5.75e-09 4.10e-03  -8.8 2.20e-02    -  1.00e+00 1.00e+00H  1\n",
      " 113  5.8803646e-04 1.77e-04 9.71e-02  -9.8 4.77e-02    -  1.00e+00 1.00e+00h  1\n",
      " 114  5.7509287e-04 4.95e-05 1.99e-01  -9.9 1.80e-02    -  1.00e+00 1.00e+00h  1\n",
      " 115  5.6793121e-04 7.10e-06 1.29e-02  -9.9 1.12e-02    -  1.00e+00 1.00e+00h  1\n",
      " 116  5.8074083e-04 5.94e-08 3.76e-03  -9.9 1.21e-02    -  1.00e+00 1.00e+00H  1\n",
      " 117  5.6818037e-04 1.22e-07 4.92e-03  -9.9 8.47e-03    -  1.00e+00 1.00e+00H  1\n",
      " 118  5.9814013e-04 1.91e-08 2.72e-03  -9.9 1.85e-02    -  1.00e+00 1.00e+00H  1\n",
      " 119  5.8001329e-04 1.29e-07 3.44e-02  -9.9 3.53e-02    -  1.00e+00 1.00e+00H  1\n",
      "iter    objective    inf_pr   inf_du lg(mu)  ||d||  lg(rg) alpha_du alpha_pr  ls\n",
      " 120  5.7937211e-04 1.48e-07 3.32e-02  -9.9 1.42e+00    -  1.00e+00 3.86e-04h 11\n",
      " 121  5.6764199e-04 1.11e-04 1.51e-03  -9.9 3.77e-02    -  1.00e+00 1.00e+00h  1\n",
      " 122  2.1384860e-03 1.52e-09 7.36e-02  -9.9 1.18e-01    -  1.00e+00 1.00e+00H  1\n",
      " 123  2.1358695e-03 8.92e-09 7.35e-02  -9.9 1.56e+00    -  1.00e+00 2.78e-04f 12\n",
      " 124  2.1332204e-03 1.76e-08 7.34e-02  -9.9 3.44e+05    -  1.03e-05 1.32e-09f 12\n",
      " 125  2.1325595e-03 1.82e-08 7.34e-02  -9.9 3.07e+05    -  1.18e-05 3.71e-10f 14\n",
      " 126  2.1322291e-03 1.83e-08 7.34e-02  -9.9 2.13e+05    -  1.80e-05 2.67e-10f 15\n",
      " 127  1.2850080e-03 1.42e-04 4.69e+00  -9.9 1.38e-01    -  1.00e+00 6.25e-02f  5\n",
      " 128  7.7226388e-04 2.21e-05 3.62e-02  -9.9 3.20e-03    -  9.76e-01 1.00e+00h  1\n",
      " 129  7.4591183e-04 1.65e-07 2.47e-02  -9.9 3.54e-04    -  1.00e+00 1.00e+00h  1\n",
      "iter    objective    inf_pr   inf_du lg(mu)  ||d||  lg(rg) alpha_du alpha_pr  ls\n",
      " 130  6.2594578e-04 5.96e-06 2.64e-02  -9.9 3.50e-03    -  1.00e+00 1.00e+00h  1\n",
      " 131  6.0114209e-04 1.38e-06 3.50e-02  -9.9 2.16e-03    -  1.00e+00 1.00e+00h  1\n",
      " 132  5.8381786e-04 2.22e-06 1.35e-02  -9.9 5.45e-03    -  1.00e+00 1.00e+00h  1\n",
      " 133  5.8151400e-04 1.26e-06 2.56e-03  -9.9 2.88e-03    -  1.00e+00 1.00e+00h  1\n",
      " 134  5.8009571e-04 1.55e-05 9.46e-02  -9.9 9.04e-03    -  1.00e+00 1.00e+00h  1\n",
      " 135  1.6635390e-03 1.66e-07 2.40e+00  -9.9 1.08e-01    -  1.00e+00 1.00e+00H  1\n",
      " 136  5.7560614e-04 1.02e-03 5.57e-03  -9.9 9.90e-02    -  1.00e+00 1.00e+00f  1\n",
      " 137  5.8051426e-04 1.55e-06 2.18e-02  -9.9 1.81e-03    -  1.00e+00 1.00e+00h  1\n",
      " 138  5.7753073e-04 1.93e-07 6.40e-03  -9.9 6.72e-04    -  1.00e+00 1.00e+00h  1\n",
      " 139  5.7724731e-04 8.17e-08 2.32e-03  -9.9 6.33e-04    -  1.00e+00 1.00e+00h  1\n",
      "iter    objective    inf_pr   inf_du lg(mu)  ||d||  lg(rg) alpha_du alpha_pr  ls\n",
      " 140  5.7531541e-04 4.17e-06 2.09e-02  -9.9 9.63e-03    -  1.00e+00 1.00e+00h  1\n",
      " 141  5.7511580e-04 6.96e-06 2.61e-02  -9.9 2.02e+00    -  1.00e+00 3.91e-03h  7\n",
      " 142  5.6888283e-04 7.37e-05 2.14e-02  -9.9 3.37e-02    -  1.00e+00 1.00e+00h  1\n",
      " 143  5.6913315e-04 7.32e-05 5.77e-02  -9.9 2.62e-01    -  1.00e+00 7.81e-03h  8\n",
      " 144  5.6791012e-04 8.36e-06 1.44e-02  -9.9 1.06e-02    -  1.00e+00 1.00e+00h  1\n",
      " 145  5.8476965e-04 1.74e-08 5.10e-03  -9.9 5.74e-03    -  1.00e+00 1.00e+00H  1\n",
      " 146  5.6791600e-04 2.78e-06 3.47e-03  -9.9 5.44e-03    -  1.00e+00 1.00e+00h  1\n",
      " 147  5.6794970e-04 9.99e-08 1.19e-02  -9.9 6.63e-04    -  1.00e+00 1.00e+00h  1\n",
      " 148  5.6923655e-04 1.21e-08 1.17e-03  -9.9 1.61e-02    -  1.00e+00 1.00e+00H  1\n",
      " 149  5.6915810e-04 2.02e-06 1.37e-02 -10.6 1.74e-01    -  1.00e+00 3.12e-02h  6\n",
      "iter    objective    inf_pr   inf_du lg(mu)  ||d||  lg(rg) alpha_du alpha_pr  ls\n",
      " 150  5.6853479e-04 9.98e-06 6.30e-03 -10.7 3.51e-01    -  1.00e+00 3.12e-02h  6\n",
      " 151  5.6849941e-04 1.01e-05 7.96e-03 -10.7 4.39e-01    -  1.00e+00 7.81e-03h  8\n",
      " 152  5.6875692e-04 1.56e-06 4.91e-02 -10.7 4.78e-03    -  1.00e+00 1.00e+00h  1\n",
      " 153  5.7834441e-04 5.35e-08 3.73e-03 -10.7 1.67e-02    -  1.00e+00 1.00e+00H  1\n",
      " 154  5.7394600e-04 2.85e-07 9.34e-02 -10.7 3.13e-02    -  1.00e+00 1.00e+00H  1\n",
      " 155  5.9913846e-04 4.64e-09 2.88e-03 -10.7 3.75e-02    -  1.00e+00 1.00e+00H  1\n",
      " 156  5.9737805e-04 9.37e-05 1.06e-01 -11.0 2.74e-01    -  1.00e+00 1.25e-01h  4\n",
      " 157  5.6515253e-04 4.04e-04 7.57e-02 -11.0 2.98e+00    -  1.00e+00 3.13e-02h  4\n",
      " 158  5.6526571e-04 4.04e-04 4.14e-02 -11.0 8.58e-01    -  1.00e+00 7.81e-03h  8\n",
      " 159  5.6389417e-04 4.02e-04 8.86e-02 -10.4 5.92e-01    -  1.00e+00 1.56e-02h  7\n",
      "iter    objective    inf_pr   inf_du lg(mu)  ||d||  lg(rg) alpha_du alpha_pr  ls\n",
      " 160  5.6794851e-04 4.41e-06 4.38e-03 -11.0 1.37e-02    -  1.00e+00 1.00e+00h  1\n",
      " 161  6.2358324e-04 2.43e-06 9.10e-02 -11.0 4.40e-02    -  1.00e+00 1.00e+00H  1\n",
      " 162  5.6697149e-04 1.32e-04 5.77e-04 -11.0 3.86e-02    -  1.00e+00 1.00e+00h  1\n",
      " 163  5.6879403e-04 2.33e-05 2.66e-02 -11.0 1.87e-02    -  1.00e+00 1.00e+00h  1\n",
      " 164  5.6773547e-04 1.93e-05 1.65e-02 -11.0 1.63e-02    -  1.00e+00 1.00e+00h  1\n",
      " 165  5.6764859e-04 1.94e-05 6.49e-03 -11.0 8.59e-01    -  4.88e-01 1.95e-03h 10\n",
      " 166  5.7558197e-04 2.05e-06 1.16e-01 -11.0 2.34e-02    -  1.00e+00 1.00e+00H  1\n",
      " 167  5.6853588e-04 2.13e-05 1.67e-02 -11.0 1.20e-02    -  1.00e+00 1.00e+00h  1\n",
      " 168  5.8356452e-04 2.64e-07 8.63e-02 -11.0 6.98e-02    -  1.00e+00 1.00e+00H  1\n",
      " 169  5.8271344e-04 1.50e-06 9.03e-02 -11.0 1.46e-01    -  1.00e+00 3.12e-02h  6\n",
      "iter    objective    inf_pr   inf_du lg(mu)  ||d||  lg(rg) alpha_du alpha_pr  ls\n",
      " 170  5.6813001e-04 1.86e-04 2.16e-02 -11.0 1.05e+00    -  6.87e-01 6.25e-02h  5\n",
      " 171  5.6820869e-04 1.44e-04 2.32e-02 -11.0 6.19e-02    -  1.00e+00 2.50e-01h  3\n",
      " 172  5.6824653e-04 1.44e-04 6.74e-02 -11.0 2.41e-01    -  1.00e+00 7.81e-03h  8\n",
      " 173  5.7107960e-04 1.61e-05 1.00e-01 -11.0 1.06e-02    -  1.00e+00 1.00e+00h  1\n",
      " 174  6.3081427e-04 3.23e-08 1.07e-02 -11.0 5.57e-02    -  1.00e+00 1.00e+00H  1\n",
      " 175  6.1233264e-04 1.76e-08 5.17e-03 -11.0 1.03e-01    -  1.00e+00 1.00e+00H  1\n",
      " 176  6.1205584e-04 8.33e-08 5.00e-03 -11.0 2.52e+00    -  3.08e-01 4.88e-04h 12\n",
      " 177  6.1090046e-04 2.10e-07 8.67e-03 -11.0 6.59e-01    -  1.00e+00 1.95e-03h 10\n",
      " 178  6.1063140e-04 2.72e-07 1.09e-02 -11.0 5.83e-01    -  1.00e+00 1.95e-03h 10\n",
      " 179  6.0956088e-04 2.34e-05 1.33e-01 -11.0 6.72e+00    -  1.83e-01 1.93e-03h  6\n",
      "iter    objective    inf_pr   inf_du lg(mu)  ||d||  lg(rg) alpha_du alpha_pr  ls\n",
      " 180  5.8300862e-04 3.83e-04 1.81e-01 -11.0 2.94e-01    -  7.29e-01 2.50e-01h  3\n",
      " 181  5.7118045e-04 2.87e-04 2.67e-01 -11.0 3.97e-03    -  1.00e+00 2.50e-01h  3\n",
      " 182  5.6751531e-04 7.68e-05 1.26e-02 -11.0 3.76e-02    -  1.00e+00 1.00e+00h  1\n",
      " 183  5.6754426e-04 7.63e-05 1.60e-02 -11.0 2.74e-01    -  1.00e+00 1.56e-02h  7\n",
      " 184  5.6745342e-04 7.62e-05 3.55e-02 -11.0 3.19e-01    -  1.00e+00 7.81e-03h  8\n",
      " 185  1.1968345e-03 1.37e-08 2.11e-02 -11.0 5.67e-02    -  1.00e+00 1.00e+00H  1\n",
      " 186  5.7473885e-04 2.03e-05 1.72e-02 -11.0 7.09e-02    -  1.00e+00 1.00e+00F  1\n",
      " 187  5.6832429e-04 8.92e-06 1.07e-02 -11.0 8.23e-03    -  1.00e+00 1.00e+00h  1\n",
      " 188  6.7920386e-04 8.45e-08 2.90e-03 -11.0 1.64e-01    -  1.00e+00 1.00e+00H  1\n",
      " 189  6.7856369e-04 1.22e-07 1.25e-02 -11.0 1.74e+01    -  3.74e-02 8.71e-05h 12\n",
      "iter    objective    inf_pr   inf_du lg(mu)  ||d||  lg(rg) alpha_du alpha_pr  ls\n",
      " 190  6.7795116e-04 1.45e-07 1.25e-02 -11.0 9.24e-01    -  1.00e+00 9.77e-04h 11\n",
      " 191  6.7773451e-04 1.51e-07 1.19e-02 -11.0 1.19e+01    -  4.94e-02 3.18e-05h 14\n",
      " 192  6.7734804e-04 1.52e-07 1.24e-02 -11.0 4.43e-01    -  1.00e+00 2.44e-04h 13\n",
      " 193  5.8817101e-04 2.63e-03 4.36e-01 -11.0 1.90e-01    -  1.00e+00 1.00e+00h  1\n",
      " 194  5.9445331e-04 3.93e-04 2.04e-01 -11.0 8.31e-02    -  1.00e+00 1.00e+00h  1\n",
      " 195  6.1353476e-04 1.69e-04 5.39e-02 -11.0 3.52e-02    -  1.00e+00 1.00e+00h  1\n",
      " 196  6.1272667e-04 1.95e-04 2.05e-01 -11.0 1.76e+00    -  4.12e-01 1.56e-02h  7\n",
      " 197  6.0613031e-04 2.35e-04 1.32e-01 -11.0 2.90e-01    -  1.00e+00 1.25e-01h  4\n",
      " 198  5.9540825e-04 3.11e-04 1.38e-02 -11.0 5.03e+00    -  6.84e-01 7.57e-03h  5\n",
      " 199  5.9361268e-04 1.76e-03 2.35e-01 -11.0 1.13e+00    -  5.11e-01 1.25e-01h  4\n",
      "iter    objective    inf_pr   inf_du lg(mu)  ||d||  lg(rg) alpha_du alpha_pr  ls\n",
      " 200  5.8399934e-04 1.59e-03 1.04e-02 -11.0 3.84e-01    -  1.00e+00 1.25e-01h  4\n",
      " 201  5.7658327e-04 2.08e-03 8.25e-02 -11.0 2.57e-01    -  1.00e+00 5.00e-01h  2\n",
      " 202  5.9291072e-04 5.28e-04 3.23e-01 -11.0 1.06e-01    -  1.00e+00 1.00e+00h  1\n",
      " 203  5.8208715e-04 6.59e-04 1.64e-01 -11.0 4.65e+00    -  3.65e-01 8.69e-03h  7\n",
      " 204  9.3437761e-03 1.49e-07 7.95e-01 -11.0 6.22e-02    -  1.00e+00 1.00e+00H  1\n",
      " 205  5.8185855e-04 1.40e-03 1.24e-01 -11.0 7.39e-02    -  1.00e+00 1.00e+00f  1\n",
      " 206  5.7023966e-04 1.10e-03 4.07e-02 -11.0 1.23e-01    -  1.00e+00 2.50e-01h  3\n",
      " 207  5.6971003e-04 1.11e-03 5.78e-03 -11.0 1.32e+00    -  1.00e+00 1.45e-02h  6\n",
      " 208  5.6781858e-04 2.67e-06 7.32e-03 -11.0 4.48e-03    -  1.00e+00 1.00e+00h  1\n",
      " 209  5.6884913e-04 2.46e-08 1.58e-03 -11.0 1.28e-02    -  1.00e+00 1.00e+00H  1\n",
      "iter    objective    inf_pr   inf_du lg(mu)  ||d||  lg(rg) alpha_du alpha_pr  ls\n",
      " 210  6.5308689e-04 3.51e-08 9.79e-03 -11.0 1.45e-01    -  1.00e+00 1.00e+00H  1\n",
      " 211  6.5296218e-04 3.61e-08 9.78e-03 -11.0 2.93e-01    -  1.00e+00 4.88e-04h 12\n",
      " 212  6.5288401e-04 3.83e-08 9.77e-03 -11.0 1.21e+00    -  1.00e+00 2.04e-04h 13\n",
      " 213  6.5281399e-04 3.86e-08 9.79e-03 -11.0 1.85e+00    -  9.37e-01 2.29e-05h 16\n",
      " 214  6.5275668e-04 3.88e-08 9.79e-03 -11.0 2.35e-01    -  1.00e+00 2.44e-04h 13\n",
      " 215  6.5274876e-04 3.88e-08 9.79e-03 -11.0 6.35e-01    -  1.00e+00 3.05e-05h 16\n",
      " 216  6.5154151e-04 3.82e-05 1.02e-01 -11.0 4.64e+00    -  1.67e-01 6.77e-03h  8\n",
      " 217  5.9483907e-04 3.27e-03 1.53e-01 -11.0 1.11e+00    -  1.00e+00 2.24e-01h  3\n",
      " 218  6.2777668e-04 3.15e-03 5.68e-02 -11.0 7.10e-01    -  1.00e+00 8.14e-02h  4\n",
      " 219  6.0464602e-04 2.95e-03 4.02e-02 -11.0 5.96e-01    -  5.78e-01 1.25e-01h  4\n",
      "iter    objective    inf_pr   inf_du lg(mu)  ||d||  lg(rg) alpha_du alpha_pr  ls\n",
      " 220  5.7672900e-04 3.37e-03 6.44e-01 -11.0 1.45e+00    -  1.00e+00 6.25e-02h  5\n",
      " 221  5.8614458e-04 2.32e-05 2.34e-01 -11.0 3.35e-02    -  1.00e+00 1.00e+00h  1\n",
      " 222  5.7048239e-04 4.16e-04 2.60e-02 -11.0 9.30e-02    -  1.00e+00 1.00e+00h  1\n",
      " 223  5.7275628e-04 3.91e-04 6.37e-02 -11.0 1.02e-01    -  1.00e+00 6.25e-02h  5\n",
      " 224  5.6722142e-04 6.16e-05 3.03e-02 -11.0 4.01e-02    -  1.00e+00 1.00e+00h  1\n",
      " 225  7.1964207e-04 1.08e-05 6.63e-01 -11.0 1.55e-01    -  1.00e+00 1.00e+00H  1\n",
      " 226  5.7809012e-04 1.79e-03 3.82e-01 -11.0 2.14e-01    -  1.00e+00 1.00e+00h  1\n",
      " 227  9.6933972e-03 3.17e-06 7.48e+00 -11.0 3.18e-01    -  1.00e+00 1.00e+00H  1\n",
      " 228  1.8693502e-03 1.24e-06 1.52e+00 -11.0 1.02e-01    -  1.00e+00 1.00e+00F  1\n",
      " 229  1.8229941e-03 5.66e-06 1.52e+00 -11.0 3.42e-01    -  1.00e+00 1.56e-02h  7\n",
      "iter    objective    inf_pr   inf_du lg(mu)  ||d||  lg(rg) alpha_du alpha_pr  ls\n",
      " 230  1.7869917e-03 8.57e-06 1.52e+00 -11.0 1.14e+04    -  2.07e-04 4.08e-07f  8\n",
      " 231  1.7512310e-03 1.14e-05 1.51e+00 -11.0 9.40e+03    -  5.75e-04 4.88e-07f  8\n",
      " 232  7.9841415e-04 2.85e-03 3.85e-01 -11.0 7.85e+03    -  6.17e-04 1.85e-05f  3\n",
      " 233  2.9286674e-02 1.48e-03 1.36e+01 -11.0 2.44e-02    -  8.40e-01 1.00e+00h  1\n",
      " 234  7.3928084e-04 1.30e-03 9.91e-02 -11.0 2.11e-02    -  1.00e+00 1.00e+00h  1\n",
      " 235  7.2299148e-04 9.13e-07 1.04e-01 -11.0 6.41e-04    -  1.00e+00 1.00e+00h  1\n",
      " 236  7.1584873e-04 4.53e-08 3.53e-03 -11.0 1.14e-03    -  1.00e+00 1.00e+00h  1\n",
      " 237  6.7460717e-04 7.81e-06 5.64e-02 -11.0 1.00e-02    -  1.00e+00 1.00e+00h  1\n",
      " 238  6.3444486e-04 1.27e-04 1.71e-01 -11.0 2.06e-02    -  1.00e+00 1.00e+00h  1\n",
      " 239  6.4499257e-04 6.74e-06 1.22e-01 -11.0 1.72e-02    -  1.00e+00 1.00e+00h  1\n",
      "iter    objective    inf_pr   inf_du lg(mu)  ||d||  lg(rg) alpha_du alpha_pr  ls\n",
      " 240  6.2219454e-04 2.74e-06 1.34e-03 -11.0 7.27e-03    -  1.00e+00 1.00e+00h  1\n",
      " 241  6.2310190e-04 3.30e-07 1.24e-01 -11.0 1.62e-03    -  1.00e+00 1.00e+00h  1\n",
      " 242  6.1943143e-04 8.54e-07 5.83e-03 -11.0 2.51e-03    -  1.00e+00 1.00e+00h  1\n",
      " 243  6.1442696e-04 3.19e-06 4.18e-02 -11.0 9.53e-03    -  1.00e+00 1.00e+00h  1\n",
      " 244  6.1078444e-04 2.64e-05 1.40e-01 -11.0 8.75e-01    -  1.00e+00 2.19e-02h  6\n",
      " 245  5.9359698e-04 2.56e-04 7.66e-02 -11.0 7.12e-02    -  1.00e+00 1.00e+00h  1\n",
      " 246  7.2101394e-04 5.42e-09 8.66e-03 -11.0 7.32e-02    -  1.00e+00 1.00e+00H  1\n",
      " 247  7.2050982e-04 1.73e-08 8.66e-03 -11.0 6.42e-01    -  1.00e+00 9.77e-04h 11\n",
      " 248  7.1847907e-04 4.03e-08 8.57e-03 -11.0 5.74e-01    -  1.00e+00 9.77e-04h 11\n",
      " 249  7.1823150e-04 4.23e-08 8.57e-03 -11.0 2.93e-01    -  1.00e+00 4.88e-04h 12\n",
      "iter    objective    inf_pr   inf_du lg(mu)  ||d||  lg(rg) alpha_du alpha_pr  ls\n",
      " 250  7.1118234e-04 2.74e-07 4.40e-02 -11.0 7.13e-01    -  1.00e+00 1.95e-03h 10\n",
      " 251  6.6050653e-04 1.30e-03 5.73e-01 -11.0 1.62e+00    -  1.00e+00 8.87e-02h  3\n",
      " 252  6.5142459e-04 1.29e-03 4.03e-01 -11.0 2.31e+00    -  4.81e-01 7.81e-03h  8\n",
      " 253  5.7013038e-04 5.96e-04 8.39e-02 -11.0 8.43e-02    -  1.00e+00 1.00e+00h  1\n",
      " 254  6.4545957e-04 5.50e-05 6.11e-02 -11.0 1.44e-01    -  1.00e+00 1.00e+00H  1\n",
      " 255  5.6271383e-04 3.80e-04 1.51e-03 -11.0 1.13e-01    -  1.00e+00 1.00e+00h  1\n",
      " 256  7.0212539e-04 3.07e-04 2.23e-01 -11.0 2.19e-02    -  1.00e+00 1.00e+00h  1\n",
      " 257  5.6852728e-04 2.26e-04 1.72e-02 -11.0 2.58e-02    -  1.00e+00 1.00e+00h  1\n",
      " 258  9.2195952e-04 1.36e-05 1.48e+00 -11.0 6.93e-02    -  1.00e+00 1.00e+00H  1\n",
      " 259  5.6560576e-04 1.11e-03 1.82e-02 -11.0 1.13e-01    -  1.00e+00 1.00e+00h  1\n",
      "iter    objective    inf_pr   inf_du lg(mu)  ||d||  lg(rg) alpha_du alpha_pr  ls\n",
      " 260  5.6517673e-04 1.22e-03 2.77e-02 -11.0 1.82e+00    -  1.00e+00 3.00e-02h  5\n",
      " 261  5.6484621e-04 1.22e-03 6.74e-02 -11.0 6.33e-01    -  1.00e+00 3.12e-02h  6\n",
      " 262  5.6705909e-04 9.68e-04 6.51e-02 -11.0 1.48e-01    -  1.00e+00 2.50e-01h  3\n",
      " 263  1.0042258e-03 8.03e-06 4.57e-01 -11.0 1.68e-01    -  1.00e+00 1.00e+00H  1\n",
      " 264  5.9312268e-04 8.40e-05 1.17e-01 -11.0 1.31e-01    -  1.00e+00 1.00e+00H  1\n",
      " 265  5.6954256e-04 1.02e-04 9.59e-03 -11.0 1.09e+00    -  9.73e-01 1.36e-02h  5\n",
      " 266  6.5085582e-04 1.34e-05 5.33e-01 -11.0 7.21e-02    -  1.00e+00 1.00e+00H  1\n",
      " 267  5.7688040e-04 4.39e-05 1.38e-01 -11.0 1.60e-02    -  1.00e+00 1.00e+00h  1\n",
      " 268  6.0352127e-04 3.85e-05 2.55e-01 -11.0 1.44e-01    -  1.00e+00 1.00e+00H  1\n",
      " 269  2.6052146e-02 1.49e-06 2.46e+00 -11.0 3.54e-01    -  1.00e+00 1.00e+00H  1\n",
      "iter    objective    inf_pr   inf_du lg(mu)  ||d||  lg(rg) alpha_du alpha_pr  ls\n",
      " 270  5.7760029e-04 8.21e-06 5.77e-02 -11.0 3.69e-01    -  1.00e+00 1.00e+00F  1\n",
      " 271  5.7502357e-04 3.89e-05 9.44e-02 -11.0 2.35e-01    -  1.00e+00 1.25e-01h  4\n",
      " 272  5.6889751e-04 1.01e-04 1.63e-02 -11.0 5.24e-01    -  1.00e+00 6.25e-02h  5\n",
      " 273  5.6750964e-04 1.10e-04 9.82e-03 -11.0 1.64e+00    -  1.00e+00 8.44e-03h  6\n",
      " 274  5.6734594e-04 1.10e-04 2.89e-02 -11.0 2.84e-01    -  1.00e+00 7.81e-03h  8\n",
      " 275  5.6777144e-04 5.10e-06 1.21e-03 -11.0 1.12e-02    -  1.00e+00 1.00e+00h  1\n",
      " 276  5.6782905e-04 6.65e-07 1.32e-03 -11.0 2.34e-03    -  1.00e+00 1.00e+00h  1\n",
      " 277  5.6778330e-04 2.03e-06 2.09e-03 -11.0 5.75e-03    -  1.00e+00 1.00e+00h  1\n",
      " 278  5.6778235e-04 2.04e-06 1.48e-03 -11.0 1.88e-01    -  1.00e+00 3.91e-03h  9\n",
      " 279  7.7799768e-04 3.82e-07 8.59e-01 -11.0 7.97e-02    -  1.00e+00 1.00e+00H  1\n",
      "iter    objective    inf_pr   inf_du lg(mu)  ||d||  lg(rg) alpha_du alpha_pr  ls\n",
      " 280  5.6492345e-04 4.70e-04 2.51e-03 -11.0 7.91e-02    -  1.00e+00 1.00e+00h  1\n",
      " 281  6.0705249e-04 4.71e-05 3.35e-01 -11.0 1.02e-02    -  1.00e+00 1.00e+00h  1\n",
      " 282  5.6798450e-04 4.25e-05 4.04e-03 -11.0 9.29e-03    -  1.00e+00 1.00e+00h  1\n",
      " 283  5.6962687e-04 5.91e-06 9.71e-03 -11.0 8.61e-03    -  1.00e+00 1.00e+00h  1\n",
      " 284  5.6775846e-04 4.22e-06 6.10e-04 -11.0 7.39e-03    -  1.00e+00 1.00e+00h  1\n",
      " 285  5.6780148e-04 6.80e-07 1.01e-03 -11.0 3.74e-03    -  1.00e+00 1.00e+00h  1\n",
      " 286  5.7275284e-04 5.50e-07 3.54e-02 -11.0 1.66e-02    -  1.00e+00 1.00e+00H  1\n",
      " 287  5.6793944e-04 3.70e-07 2.55e-02 -11.0 1.87e-02    -  1.00e+00 1.00e+00H  1\n",
      " 288  5.6777598e-04 6.43e-07 4.83e-04 -11.0 8.90e-01    -  1.00e+00 1.95e-03h 10\n",
      " 289  5.6783506e-04 4.09e-07 1.35e-02 -11.0 2.23e-03    -  1.00e+00 1.00e+00h  1\n",
      "iter    objective    inf_pr   inf_du lg(mu)  ||d||  lg(rg) alpha_du alpha_pr  ls\n",
      " 290  5.6836874e-04 1.62e-08 3.55e-04 -11.0 8.10e-03    -  1.00e+00 1.00e+00H  1\n",
      " 291  5.6820359e-04 3.77e-08 2.75e-04 -11.0 1.59e-02    -  1.00e+00 1.00e+00H  1\n",
      " 292  5.6811557e-04 2.86e-07 9.02e-04 -11.0 5.19e-01    -  1.00e+00 3.91e-03h  9\n",
      " 293  5.7054602e-04 1.03e-09 5.48e-04 -11.0 2.44e-02    -  1.00e+00 1.00e+00H  1\n",
      " 294  5.6864501e-04 4.49e-06 5.76e-02 -11.0 8.75e-03    -  1.00e+00 1.00e+00h  1\n",
      " 295  8.7663099e-04 2.41e-07 9.93e-01 -11.0 4.53e-02    -  1.00e+00 1.00e+00H  1\n",
      " 296  5.9423194e-04 1.66e-06 2.84e-01 -11.0 8.20e-02    -  1.00e+00 1.00e+00H  1\n",
      " 297  5.8507058e-04 3.69e-06 2.13e-01 -11.0 1.73e+00    -  1.00e+00 3.91e-03h  9\n",
      " 298  5.7530646e-04 4.13e-07 5.65e-02 -11.0 8.49e-02    -  1.00e+00 1.00e+00H  1\n",
      " 299  5.7337154e-04 1.38e-06 3.74e-02 -11.0 9.02e-01    -  1.00e+00 3.91e-03h  9\n",
      "iter    objective    inf_pr   inf_du lg(mu)  ||d||  lg(rg) alpha_du alpha_pr  ls\n",
      " 300  5.6738605e-04 2.37e-04 8.39e-02 -11.0 6.49e-02    -  1.00e+00 1.00e+00h  1\n",
      " 301  6.2728520e-03 1.21e-07 2.83e+00 -11.0 1.01e-01    -  1.00e+00 1.00e+00H  1\n",
      " 302  5.6833403e-04 1.94e-06 3.50e-02 -11.0 1.07e-01    -  1.00e+00 1.00e+00F  1\n",
      " 303  5.8711984e-04 1.20e-07 2.67e-01 -11.0 2.58e-02    -  1.00e+00 1.00e+00H  1\n",
      " 304  5.9582602e-04 4.48e-09 3.36e-03 -11.0 1.21e-02    -  1.00e+00 1.00e+00H  1\n",
      " 305  6.4359176e-04 2.41e-09 6.14e-03 -11.0 3.18e-02    -  1.00e+00 1.00e+00H  1\n",
      " 306  6.4348310e-04 2.82e-09 6.13e-03 -11.0 1.58e-01    -  1.00e+00 4.88e-04h 12\n",
      " 307  6.4345002e-04 3.01e-09 6.13e-03 -11.0 2.07e+00    -  1.00e+00 3.49e-05h 14\n",
      " 308  6.4340845e-04 3.02e-09 6.13e-03 -11.0 2.04e-01    -  1.00e+00 1.22e-04h 14\n",
      " 309  6.4338857e-04 3.03e-09 6.13e-03 -11.0 3.94e-01    -  8.83e-01 3.05e-05h 16\n",
      "iter    objective    inf_pr   inf_du lg(mu)  ||d||  lg(rg) alpha_du alpha_pr  ls\n",
      " 310  6.4338341e-04 3.03e-09 6.12e-03 -11.0 1.10e+00    -  1.00e+00 7.63e-06h 18\n",
      " 311  6.4083381e-04 3.73e-04 5.88e-02 -11.0 1.99e-01    -  1.00e+00 2.50e-01f  3\n",
      " 312  5.7946003e-04 7.95e-04 2.43e-02 -11.0 9.04e-02    -  1.00e+00 1.00e+00h  1\n",
      " 313  6.0006999e-04 4.59e-04 2.81e-01 -11.0 9.50e-02    -  1.00e+00 1.00e+00h  1\n",
      " 314  5.9888219e-04 4.74e-04 2.80e-01 -11.0 2.89e+00    -  2.34e-01 7.81e-03h  8\n",
      " 315  5.9170388e-04 5.18e-04 3.32e-01 -11.0 2.41e-01    -  1.00e+00 2.50e-01h  3\n",
      " 316  5.7150151e-04 5.26e-04 2.83e-02 -11.0 1.10e+00    -  1.00e+00 7.81e-03h  8\n",
      " 317  5.7876125e-04 4.69e-04 1.69e-01 -11.0 5.16e-02    -  1.00e+00 1.25e-01h  4\n",
      " 318  5.6789119e-04 4.87e-05 1.07e-02 -11.0 1.81e-02    -  1.00e+00 1.00e+00h  1\n",
      " 319  5.6787669e-04 1.09e-06 1.86e-03 -11.0 3.05e-03    -  1.00e+00 1.00e+00h  1\n",
      "iter    objective    inf_pr   inf_du lg(mu)  ||d||  lg(rg) alpha_du alpha_pr  ls\n",
      " 320  5.6832726e-04 1.25e-09 3.30e-04 -11.0 5.70e-03    -  1.00e+00 1.00e+00H  1\n",
      " 321  5.6929652e-04 4.89e-12 7.21e-04 -11.0 1.62e-02    -  1.00e+00 1.00e+00H  1\n",
      " 322  5.6907180e-04 9.64e-07 5.46e-03 -11.0 4.56e-02    -  1.00e+00 6.25e-02h  5\n",
      " 323  8.5810149e-04 3.95e-07 1.37e+00 -11.0 5.70e-02    -  1.00e+00 1.00e+00H  1\n",
      " 324  5.8041059e-04 1.53e-07 8.11e-02 -11.0 4.16e-02    -  1.00e+00 1.00e+00H  1\n",
      " 325  5.6542622e-04 3.05e-04 1.53e-02 -11.0 1.53e-01    -  1.00e+00 5.00e-01h  2\n",
      " 326  5.6501028e-04 3.04e-04 2.50e-03  -9.0 1.03e+00    -  1.00e+00 7.49e-03h  7\n",
      " 327  5.6801566e-04 6.29e-06 8.36e-03 -11.0 1.11e-02    -  1.00e+00 1.00e+00h  1\n",
      " 328  6.2228475e-04 1.04e-07 2.72e-01 -11.0 7.58e-02    -  1.00e+00 1.00e+00H  1\n",
      " 329  5.8181818e-04 1.75e-08 2.86e-03 -11.0 6.51e-02    -  1.00e+00 1.00e+00H  1\n",
      "iter    objective    inf_pr   inf_du lg(mu)  ||d||  lg(rg) alpha_du alpha_pr  ls\n",
      " 330  5.7887928e-04 1.59e-06 4.66e-03 -11.0 1.44e+00    -  1.00e+00 3.23e-03h  8\n",
      " 331  5.7862468e-04 3.02e-06 2.78e-02 -11.0 3.02e+00    -  2.29e-01 1.95e-03h 10\n",
      " 332  5.7198485e-04 5.23e-07 7.49e-02 -11.0 1.92e-02    -  1.00e+00 1.00e+00H  1\n",
      " 333  6.3115845e-04 1.82e-09 5.68e-03 -11.0 3.47e-02    -  1.00e+00 1.00e+00H  1\n",
      " 334  6.2979774e-04 2.35e-07 6.95e-03 -11.0 2.67e-01    -  1.00e+00 7.81e-03h  8\n",
      " 335  6.2604203e-04 4.50e-07 6.89e-03 -11.0 1.30e+00    -  5.38e-01 9.77e-04h 11\n",
      " 336  6.2539734e-04 4.54e-07 5.62e-03 -11.0 9.34e-02    -  1.00e+00 1.95e-03h 10\n",
      " 337  5.6823866e-04 2.01e-04 5.48e-02 -11.0 3.07e-02    -  1.00e+00 1.00e+00h  1\n",
      " 338  5.6810605e-04 1.95e-04 9.37e-03 -11.0 2.27e-01    -  1.00e+00 6.25e-02h  5\n",
      " 339  5.6819242e-04 1.92e-04 2.63e-02 -11.0 1.84e-01    -  1.00e+00 1.56e-02h  7\n",
      "iter    objective    inf_pr   inf_du lg(mu)  ||d||  lg(rg) alpha_du alpha_pr  ls\n",
      " 340  5.6765602e-04 1.55e-05 9.23e-03 -11.0 1.64e-02    -  1.00e+00 1.00e+00h  1\n",
      " 341  5.6765141e-04 1.56e-05 2.06e-03 -11.0 4.48e-01    -  1.00e+00 1.95e-03h 10\n",
      " 342  5.6777726e-04 1.41e-07 5.63e-04 -11.0 1.39e-03    -  1.00e+00 1.00e+00h  1\n",
      " 343  5.6777651e-04 1.44e-07 8.81e-04 -11.0 6.89e-02    -  1.00e+00 3.91e-03h  9\n",
      " 344  5.6780213e-04 7.69e-08 1.83e-04 -11.0 9.91e-04    -  1.00e+00 1.00e+00h  1\n",
      " 345  5.6777788e-04 6.52e-08 9.65e-06 -11.0 1.02e-03    -  1.00e+00 1.00e+00h  1\n",
      " 346  5.6785385e-04 2.43e-08 1.31e-04 -11.0 7.27e-04    -  1.00e+00 1.00e+00h  1\n",
      " 347  5.6777733e-04 2.04e-08 6.72e-07 -11.0 6.28e-04    -  1.00e+00 1.00e+00h  1\n",
      " 348  5.6777741e-04 3.41e-09 1.18e-05 -11.0 2.37e-04    -  1.00e+00 1.00e+00h  1\n",
      " 349  5.6777736e-04 1.46e-09 3.53e-06 -11.0 1.31e-04    -  1.00e+00 1.00e+00h  1\n",
      "iter    objective    inf_pr   inf_du lg(mu)  ||d||  lg(rg) alpha_du alpha_pr  ls\n",
      " 350  5.6832554e-04 5.74e-10 1.30e-03 -11.0 1.68e-03    -  1.00e+00 1.00e+00H  1\n",
      " 351  5.6777660e-04 2.29e-07 2.89e-05 -11.0 1.44e-03    -  1.00e+00 1.00e+00h  1\n",
      " 352  5.6777836e-04 1.82e-08 4.00e-05 -11.0 5.79e-04    -  1.00e+00 1.00e+00h  1\n",
      " 353  5.6793272e-04 1.17e-08 2.41e-04 -11.0 6.78e-03    -  1.00e+00 1.00e+00H  1\n",
      " 354  5.6775278e-04 2.43e-06 4.46e-04 -11.0 7.01e-03    -  1.00e+00 1.00e+00h  1\n",
      " 355  5.7302487e-04 2.25e-06 1.23e-02 -11.0 6.56e-03    -  1.00e+00 1.00e+00h  1\n",
      " 356  5.6777561e-04 2.27e-06 3.53e-04 -11.0 6.41e-03    -  1.00e+00 1.00e+00h  1\n",
      " 357  5.6779224e-04 5.93e-08 8.74e-05 -11.0 7.20e-04    -  1.00e+00 1.00e+00h  1\n",
      " 358  5.6778074e-04 5.01e-08 1.04e-04 -11.0 6.62e-04    -  1.00e+00 1.00e+00h  1\n",
      " 359  7.6072040e-04 3.72e-08 2.12e-02 -11.0 9.90e-02    -  1.00e+00 1.00e+00H  1\n",
      "iter    objective    inf_pr   inf_du lg(mu)  ||d||  lg(rg) alpha_du alpha_pr  ls\n",
      " 360  7.6051779e-04 3.89e-08 2.12e-02 -11.0 1.09e+00    -  1.00e+00 1.58e-04h 13\n",
      " 361  7.6036059e-04 3.98e-08 2.12e-02 -11.0 2.35e+00    -  1.00e+00 5.42e-05h 13\n",
      " 362  5.7442204e-04 2.30e-09 7.19e-04 -11.0 5.28e-02    -  1.00e+00 1.00e+00H  1\n",
      " 363  5.7510746e-04 1.32e-09 7.91e-04 -11.0 2.32e-02    -  1.00e+00 1.00e+00H  1\n",
      " 364  5.7415980e-04 4.55e-09 1.48e-03 -11.0 2.54e-02    -  1.00e+00 1.00e+00H  1\n",
      " 365  5.7400777e-04 1.70e-08 1.34e-03 -11.0 4.49e-01    -  1.00e+00 9.77e-04h 11\n",
      " 366  5.7394704e-04 2.71e-08 1.36e-03 -11.0 2.28e-01    -  1.00e+00 1.95e-03h 10\n",
      " 367  1.1659810e-03 2.11e-10 2.46e-02 -11.0 8.20e-02    -  1.00e+00 1.00e+00H  1\n",
      " 368  5.9030832e-04 1.05e-10 1.85e-03 -11.0 4.88e-02    -  1.00e+00 1.00e+00F  1\n",
      " 369  5.7902456e-04 6.57e-05 1.56e-01 -11.0 2.54e-01    -  1.00e+00 1.25e-01f  4\n",
      "iter    objective    inf_pr   inf_du lg(mu)  ||d||  lg(rg) alpha_du alpha_pr  ls\n",
      " 370  7.5069587e-04 1.75e-06 2.39e-01 -11.0 9.60e-03    -  1.00e+00 1.00e+00H  1\n",
      " 371  5.6816729e-04 2.11e-04 1.17e-02 -11.0 1.49e-02    -  1.00e+00 1.00e+00h  1\n",
      " 372  5.7176485e-04 7.66e-06 1.21e-01 -11.0 7.26e-03    -  1.00e+00 1.00e+00h  1\n",
      " 373  5.6793568e-04 2.45e-05 3.98e-03 -11.0 1.52e-02    -  1.00e+00 1.00e+00h  1\n",
      " 374  5.6764283e-04 2.82e-05 9.51e-03 -11.0 3.13e-01    -  1.00e+00 3.12e-02h  6\n",
      " 375  5.7310054e-04 5.71e-07 9.41e-02 -11.0 2.40e-02    -  1.00e+00 1.00e+00H  1\n",
      " 376  5.7134171e-04 1.00e-05 6.71e-02 -11.0 8.71e-03    -  1.00e+00 1.00e+00h  1\n",
      " 377  5.6954782e-04 1.47e-05 6.18e-02 -11.0 3.55e-01    -  1.00e+00 3.12e-02h  6\n",
      " 378  7.2008763e-04 6.64e-08 8.88e-03 -11.0 6.17e-02    -  1.00e+00 1.00e+00H  1\n",
      " 379  5.6856016e-04 1.23e-06 3.71e-02 -11.0 4.51e-02    -  1.00e+00 1.00e+00H  1\n",
      "iter    objective    inf_pr   inf_du lg(mu)  ||d||  lg(rg) alpha_du alpha_pr  ls\n",
      " 380  5.9184050e-04 1.51e-07 2.98e-01 -11.0 5.13e-02    -  1.00e+00 1.00e+00H  1\n",
      " 381  5.9168688e-04 6.91e-08 7.19e-03 -11.0 1.90e+00    -  4.39e-01 9.77e-04h 11\n",
      " 382  6.0392311e-04 2.53e-08 1.77e-03 -11.0 6.78e-02    -  1.00e+00 1.00e+00H  1\n",
      " 383  6.0347352e-04 4.53e-08 1.87e-03 -11.0 8.11e-01    -  1.00e+00 4.88e-04h 12\n",
      " 384  6.0322465e-04 5.01e-08 1.90e-03 -11.0 1.94e-01    -  1.00e+00 1.95e-03h 10\n",
      " 385  6.0274332e-04 6.46e-08 1.87e-03 -11.0 1.79e-01    -  1.00e+00 1.95e-03h 10\n",
      " 386  6.7581709e-04 1.39e-09 9.18e-03 -11.0 2.50e-02    -  1.00e+00 1.00e+00H  1\n",
      " 387  6.7253114e-04 2.12e-08 9.01e-03 -11.0 4.24e-02    -  1.00e+00 7.81e-03h  8\n",
      " 388  5.6802987e-04 2.36e-04 6.81e-03 -11.0 1.85e-02    -  1.00e+00 1.00e+00h  1\n",
      " 389  5.6777773e-04 2.32e-07 8.13e-04 -11.0 1.48e-03    -  1.00e+00 1.00e+00h  1\n",
      "iter    objective    inf_pr   inf_du lg(mu)  ||d||  lg(rg) alpha_du alpha_pr  ls\n",
      " 390  5.6949290e-04 3.10e-08 2.51e-03 -11.0 8.02e-03    -  1.00e+00 1.00e+00H  1\n",
      " 391  5.6794125e-04 4.09e-08 2.82e-04 -11.0 1.30e-02    -  1.00e+00 1.00e+00H  1\n",
      " 392  5.6782782e-04 2.36e-08 2.44e-04 -11.0 1.28e-01    -  1.00e+00 7.81e-03h  8\n",
      " 393  5.6779052e-04 7.33e-10 4.85e-05 -11.0 3.69e-03    -  1.00e+00 1.00e+00H  1\n",
      " 394  5.7023113e-04 1.60e-10 5.70e-04 -11.0 1.02e-02    -  1.00e+00 1.00e+00H  1\n",
      " 395  5.6773224e-04 5.67e-06 9.06e-04 -11.0 1.07e-02    -  1.00e+00 1.00e+00h  1\n",
      " 396  5.6778602e-04 3.04e-07 5.77e-03 -11.0 2.28e-03    -  1.00e+00 1.00e+00h  1\n",
      " 397  5.6780863e-04 1.71e-09 2.24e-04 -11.0 1.28e-04    -  1.00e+00 1.00e+00h  1\n",
      " 398  5.6778236e-04 5.68e-07 1.28e-03 -11.0 3.05e-03    -  1.00e+00 1.00e+00h  1\n",
      " 399  8.8469223e-04 1.08e-10 9.45e-03 -11.0 2.93e-02    -  1.00e+00 1.00e+00H  1\n",
      "iter    objective    inf_pr   inf_du lg(mu)  ||d||  lg(rg) alpha_du alpha_pr  ls\n",
      " 400  8.8408437e-04 1.13e-09 9.44e-03 -11.0 9.20e-02    -  1.00e+00 9.77e-04h 11\n",
      " 401  8.8395257e-04 1.48e-09 9.44e-03 -11.0 3.85e+00    -  1.91e-01 2.47e-05h 16\n",
      " 402  8.8383273e-04 1.50e-09 9.44e-03 -11.0 8.66e-02    -  1.00e+00 1.22e-04h 14\n",
      " 403  8.8376799e-04 1.52e-09 9.44e-03 -11.0 3.41e-01    -  1.00e+00 6.10e-05h 15\n",
      " 404  6.8641213e-04 1.74e-03 4.66e-01 -11.0 6.56e+00    -  2.55e-01 2.69e-02f  5\n",
      " 405  6.7729200e-04 1.77e-03 1.91e-01 -11.0 1.87e+00    -  1.00e+00 1.56e-02h  7\n",
      " 406  6.3533336e-04 7.50e-05 6.66e-02 -11.0 5.98e-02    -  1.00e+00 1.00e+00h  1\n",
      " 407  5.8561474e-04 1.26e-03 3.94e-01 -11.0 1.35e-01    -  1.00e+00 1.00e+00h  1\n",
      " 408  5.8854241e-04 1.21e-03 4.18e-01 -11.0 4.28e-01    -  1.00e+00 6.25e-02h  5\n",
      " 409  5.8336295e-04 1.10e-03 2.24e-01 -11.0 2.39e-01    -  1.00e+00 2.50e-01h  3\n",
      "iter    objective    inf_pr   inf_du lg(mu)  ||d||  lg(rg) alpha_du alpha_pr  ls\n",
      " 410  6.1278353e-04 9.73e-04 1.15e-01 -11.0 1.84e-01    -  1.00e+00 2.50e-01h  3\n",
      " 411  6.2877459e-04 2.80e-04 3.83e-01 -11.0 6.19e-02    -  1.00e+00 1.00e+00h  1\n",
      " 412  6.2565180e-04 3.17e-04 2.73e-01 -11.0 8.85e-01    -  1.00e+00 3.12e-02h  6\n",
      " 413  6.1323264e-04 3.13e-04 3.69e-01 -11.0 1.17e-01    -  1.00e+00 1.25e-01h  4\n",
      " 414  5.6949153e-04 2.65e-04 8.54e-02 -11.0 5.86e-02    -  1.00e+00 1.00e+00h  1\n",
      " 415  5.7229947e-04 9.98e-05 9.90e-02 -11.0 4.83e-02    -  1.00e+00 1.00e+00h  1\n",
      " 416  5.7184421e-04 1.01e-04 8.59e-02 -11.0 5.14e-01    -  1.00e+00 7.81e-03h  8\n",
      " 417  8.5436497e-04 3.75e-05 6.43e-01 -11.0 1.01e-01    -  1.00e+00 1.00e+00H  1\n",
      " 418  5.6592089e-04 7.56e-04 2.54e-02 -11.0 7.53e-02    -  1.00e+00 1.00e+00h  1\n",
      " 419  5.7055860e-04 4.57e-05 7.76e-02 -11.0 2.89e-02    -  1.00e+00 1.00e+00h  1\n",
      "iter    objective    inf_pr   inf_du lg(mu)  ||d||  lg(rg) alpha_du alpha_pr  ls\n",
      " 420  5.6880655e-04 6.95e-05 6.66e-02 -11.0 3.14e-02    -  1.00e+00 1.00e+00h  1\n",
      " 421  9.6345892e-04 1.15e-10 1.41e-02 -11.0 5.93e-02    -  1.00e+00 1.00e+00H  1\n",
      " 422  9.6318798e-04 1.13e-09 1.41e-02 -11.0 7.78e-01    -  1.00e+00 2.44e-04h 13\n",
      " 423  9.6306415e-04 1.21e-09 1.41e-02 -11.0 7.57e-01    -  1.00e+00 2.77e-05h 15\n",
      " 424  9.6290460e-04 1.21e-09 1.41e-02 -11.0 3.62e-01    -  1.00e+00 6.10e-05h 15\n",
      " 425  9.6283440e-04 1.29e-09 1.40e-02 -11.0 6.03e-01    -  8.43e-01 6.10e-05h 15\n",
      " 426  6.4597140e-04 1.26e-03 6.60e-01 -11.0 7.68e-01    -  1.00e+00 1.43e-01f  3\n",
      " 427  6.2290353e-04 1.25e-03 3.81e-01 -11.0 2.42e-01    -  1.00e+00 2.50e-01h  3\n",
      " 428  6.0436769e-04 1.11e-03 1.64e-01 -11.0 1.71e-01    -  1.00e+00 2.50e-01h  3\n",
      " 429  5.8939570e-04 3.22e-04 2.90e-01 -11.0 8.50e-02    -  1.00e+00 1.00e+00h  1\n",
      "iter    objective    inf_pr   inf_du lg(mu)  ||d||  lg(rg) alpha_du alpha_pr  ls\n",
      " 430  5.8071232e-04 3.24e-04 1.66e-01 -11.0 5.58e-01    -  1.00e+00 1.20e-02h  6\n",
      " 431  6.1791498e-04 3.89e-05 3.14e-01 -11.0 9.04e-02    -  1.00e+00 1.00e+00H  1\n",
      " 432  6.1739469e-04 4.75e-05 3.55e-01 -11.0 4.85e+00    -  1.19e-01 3.03e-03h  9\n",
      " 433  6.0036350e-04 4.78e-05 2.19e-01 -11.0 9.35e-02    -  1.00e+00 1.25e-01h  4\n",
      " 434  7.0368860e-04 3.54e-05 4.23e-01 -11.0 1.05e-01    -  1.00e+00 1.00e+00H  1\n",
      " 435  6.9766627e-04 3.77e-05 3.90e-01 -11.0 1.54e+00    -  6.32e-01 3.91e-03h  9\n",
      " 436  6.5901377e-04 3.34e-06 5.56e-01 -11.0 1.31e-01    -  1.00e+00 1.00e+00H  1\n",
      " 437  6.3453761e-04 1.17e-05 3.73e-01 -11.0 2.01e+00    -  7.16e-01 5.16e-03h  8\n",
      " 438  5.6939503e-04 4.89e-05 1.72e-02 -11.0 7.06e-03    -  1.00e+00 1.00e+00h  1\n",
      " 439  5.7363800e-04 2.95e-05 1.60e-01 -11.0 2.65e-02    -  1.00e+00 1.00e+00h  1\n",
      "iter    objective    inf_pr   inf_du lg(mu)  ||d||  lg(rg) alpha_du alpha_pr  ls\n",
      " 440  8.5657897e-04 4.59e-07 4.22e-01 -11.0 8.79e-02    -  1.00e+00 1.00e+00H  1\n",
      " 441  5.6758892e-04 5.09e-04 3.82e-02 -11.0 5.38e-02    -  1.00e+00 1.00e+00h  1\n",
      " 442  5.6897576e-04 6.91e-05 1.01e-02 -11.0 3.58e-02    -  1.00e+00 1.00e+00h  1\n",
      " 443  5.6859389e-04 7.09e-05 4.02e-02 -11.0 1.22e+00    -  1.00e+00 3.91e-03h  9\n",
      " 444  7.8998244e-04 2.45e-07 3.76e-01 -11.0 7.59e-02    -  1.00e+00 1.00e+00H  1\n",
      " 445  5.7423471e-04 1.12e-05 1.43e-01 -11.0 1.40e-01    -  1.00e+00 1.00e+00H  1\n",
      " 446  5.8305088e-04 2.74e-06 1.46e-01 -11.0 9.48e-02    -  8.26e-01 3.12e-02h  6\n",
      " 447  5.6831881e-04 5.87e-05 3.15e-02 -11.0 4.30e-02    -  1.00e+00 1.00e+00h  1\n",
      " 448  5.6880684e-04 5.19e-05 1.03e-02 -11.0 1.48e-02    -  1.00e+00 1.25e-01h  4\n",
      " 449  5.7664375e-04 3.47e-06 2.37e-02 -11.0 7.46e-02    -  1.00e+00 1.00e+00H  1\n",
      "iter    objective    inf_pr   inf_du lg(mu)  ||d||  lg(rg) alpha_du alpha_pr  ls\n",
      " 450  5.7659217e-04 3.66e-06 4.60e-02 -11.0 1.22e+00    -  2.33e-01 9.77e-04h 11\n",
      " 451  5.6576806e-04 2.29e-04 7.50e-03 -11.0 6.30e-02    -  1.00e+00 1.00e+00h  1\n",
      " 452  5.6654072e-04 2.30e-04 6.08e-02 -11.0 5.87e-01    -  1.00e+00 7.81e-03h  8\n",
      " 453  5.6778494e-04 5.15e-06 1.07e-02 -11.0 7.83e-03    -  1.00e+00 1.00e+00h  1\n",
      " 454  6.3339016e-04 2.97e-06 1.73e-01 -11.0 5.49e-02    -  1.00e+00 1.00e+00H  1\n",
      " 455  5.7187261e-04 1.03e-06 3.99e-02 -11.0 6.12e-02    -  1.00e+00 1.00e+00H  1\n",
      " 456  3.5962779e-03 1.41e-06 9.03e-01 -11.0 1.09e-01    -  1.00e+00 1.00e+00H  1\n",
      " 457  5.6831697e-04 2.61e-06 3.06e-02 -11.0 1.21e-01    -  1.00e+00 1.00e+00F  1\n",
      " 458  6.7290640e-04 2.16e-07 3.30e-01 -11.0 1.08e-01    -  1.00e+00 1.00e+00H  1\n",
      " 459  6.7202156e-04 8.29e-07 3.22e-01 -11.0 8.44e-01    -  7.26e-01 3.91e-03h  9\n",
      "iter    objective    inf_pr   inf_du lg(mu)  ||d||  lg(rg) alpha_du alpha_pr  ls\n",
      " 460  6.7176243e-04 9.67e-07 3.33e-01 -11.0 7.06e+00    -  2.74e-01 1.85e-04h 12\n",
      " 461  5.8842878e-04 1.51e-06 1.49e-01 -11.0 1.06e-01    -  1.00e+00 1.00e+00H  1\n",
      " 462  5.9739731e-04 3.70e-09 2.06e-03 -11.0 4.39e-02    -  1.00e+00 1.00e+00H  1\n",
      " 463  6.8211037e-04 1.76e-09 1.22e-02 -11.0 4.98e-02    -  1.00e+00 1.00e+00H  1\n",
      " 464  6.1099353e-04 3.20e-10 2.94e-03 -11.0 8.29e-02    -  1.00e+00 1.00e+00F  1\n",
      " 465  5.8720344e-04 4.85e-06 1.49e-01 -11.0 8.16e-02    -  1.00e+00 6.25e-02f  5\n",
      " 466  5.6867094e-04 1.21e-04 9.64e-02 -11.0 4.48e-02    -  1.00e+00 1.00e+00h  1\n",
      " 467  5.6768642e-04 1.23e-04 2.44e-02 -11.0 5.62e+00    -  2.16e-01 1.88e-03h  9\n",
      " 468  5.6896242e-04 7.43e-05 2.21e-02 -11.0 3.86e-02    -  1.00e+00 1.00e+00h  1\n",
      " 469  5.6871314e-04 7.40e-05 2.46e-02 -11.0 1.25e-01    -  6.29e-01 3.91e-03h  9\n",
      "iter    objective    inf_pr   inf_du lg(mu)  ||d||  lg(rg) alpha_du alpha_pr  ls\n",
      " 470  5.6739017e-04 4.33e-05 3.26e-03 -11.0 2.77e-02    -  1.00e+00 1.00e+00h  1\n",
      " 471  5.9233300e-04 3.60e-05 1.18e-01 -11.0 1.75e-02    -  1.00e+00 1.00e+00h  1\n",
      " 472  5.6769959e-04 3.70e-05 1.37e-03 -11.0 1.82e-02    -  1.00e+00 1.00e+00h  1\n",
      " 473  5.6778381e-04 1.28e-08 3.56e-05 -11.0 4.23e-04    -  1.00e+00 1.00e+00h  1\n",
      " 474  5.7750686e-04 1.45e-09 5.84e-03 -11.0 1.83e-02    -  1.00e+00 1.00e+00H  1\n",
      " 475  5.6822209e-04 1.74e-09 1.54e-04 -11.0 3.66e-03    -  1.00e+00 1.00e+00H  1\n",
      " 476  5.6767214e-04 1.17e-05 2.14e-03 -11.0 1.53e-02    -  1.00e+00 1.00e+00h  1\n",
      " 477  6.9414395e-04 2.31e-06 5.61e-02 -11.0 1.51e-02    -  1.00e+00 1.00e+00H  1\n",
      " 478  5.6801383e-04 1.13e-04 1.45e-03 -11.0 1.37e-02    -  1.00e+00 1.00e+00h  1\n",
      " 479  5.6778111e-04 1.46e-08 2.22e-05 -11.0 5.57e-04    -  1.00e+00 1.00e+00h  1\n",
      "iter    objective    inf_pr   inf_du lg(mu)  ||d||  lg(rg) alpha_du alpha_pr  ls\n",
      " 480  5.8029640e-04 7.57e-09 1.73e-03 -11.0 8.02e-03    -  1.00e+00 1.00e+00H  1\n",
      " 481  5.6779402e-04 2.71e-09 1.26e-04 -11.0 5.36e-03    -  1.00e+00 1.00e+00H  1\n",
      " 482  5.7120678e-04 1.58e-09 3.62e-03 -11.0 5.28e-03    -  1.00e+00 1.00e+00H  1\n",
      " 483  5.6777757e-04 5.96e-07 4.52e-04 -11.0 3.66e-03    -  1.00e+00 1.00e+00h  1\n",
      " 484  5.6778096e-04 8.63e-10 1.95e-05 -11.0 7.97e-05    -  1.00e+00 1.00e+00h  1\n",
      " 485  5.6783315e-04 2.64e-12 1.19e-04 -11.0 3.93e-04    -  1.00e+00 1.00e+00H  1\n",
      " 486  5.6777736e-04 1.20e-08 4.02e-06 -11.0 7.92e-04    -  1.00e+00 1.00e+00h  1\n",
      " 487  5.6777731e-04 2.78e-09 1.36e-06 -11.0 2.43e-04    -  1.00e+00 1.00e+00h  1\n",
      " 488  5.6804718e-04 6.03e-11 2.99e-04 -11.0 8.06e-04    -  1.00e+00 1.00e+00H  1\n",
      " 489  5.6777717e-04 1.14e-07 1.06e-05 -11.0 8.36e-04    -  1.00e+00 1.00e+00h  1\n",
      "iter    objective    inf_pr   inf_du lg(mu)  ||d||  lg(rg) alpha_du alpha_pr  ls\n",
      " 490  5.6777755e-04 8.41e-10 3.00e-05 -11.0 9.84e-05    -  1.00e+00 1.00e+00h  1\n",
      " 491  5.6782064e-04 3.63e-10 2.04e-04 -11.0 2.74e-03    -  1.00e+00 1.00e+00H  1\n",
      " 492  5.6777395e-04 6.54e-07 2.33e-03 -11.0 2.91e-03    -  1.00e+00 1.00e+00h  1\n",
      " 493  5.6780078e-04 1.09e-08 1.18e-04 -11.0 2.24e-04    -  1.00e+00 1.00e+00h  1\n",
      " 494  5.6777740e-04 1.55e-08 1.72e-05 -11.0 8.97e-05    -  1.00e+00 1.00e+00h  1\n",
      " 495  5.6777729e-04 2.45e-10 1.29e-06 -11.0 5.13e-05    -  1.00e+00 1.00e+00h  1\n",
      " 496  5.6777729e-04 1.01e-10 3.42e-07 -11.0 4.79e-05    -  1.00e+00 1.00e+00h  1\n",
      " 497  5.6777751e-04 6.91e-11 1.19e-05 -11.0 1.85e-05    -  1.00e+00 1.00e+00h  1\n",
      " 498  5.6777729e-04 2.06e-10 9.67e-08 -11.0 3.72e-05    -  1.00e+00 1.00e+00h  1\n",
      " 499  5.6777729e-04 5.14e-13 5.45e-07 -11.0 1.89e-06    -  1.00e+00 1.00e+00h  1\n",
      "iter    objective    inf_pr   inf_du lg(mu)  ||d||  lg(rg) alpha_du alpha_pr  ls\n",
      " 500  5.6777729e-04 2.03e-11 5.89e-08 -11.0 1.88e-05    -  1.00e+00 1.00e+00h  1\n",
      " 501  5.6777734e-04 4.97e-14 3.90e-06 -11.0 6.59e-05    -  1.00e+00 1.00e+00H  1\n",
      " 502  5.6777738e-04 8.44e-15 1.82e-05 -11.0 2.25e-05    -  1.00e+00 1.00e+00H  1\n",
      " 503  5.6779372e-04 3.55e-15 1.80e-04 -11.0 6.84e-04    -  1.00e+00 1.00e+00H  1\n",
      " 504  5.6777717e-04 5.68e-08 4.22e-06 -11.0 6.09e-04    -  1.00e+00 1.00e+00h  1\n",
      " 505  5.6777743e-04 7.06e-10 6.04e-06 -11.0 1.12e-04    -  1.00e+00 1.00e+00h  1\n",
      " 506  5.6792572e-04 6.22e-10 3.89e-04 -11.0 2.20e-03    -  1.00e+00 1.00e+00H  1\n",
      " 507  5.6778211e-04 5.91e-11 3.26e-05 -11.0 8.99e-04    -  1.00e+00 1.00e+00H  1\n",
      " 508  5.6781488e-04 1.33e-11 4.06e-05 -11.0 5.14e-03    -  1.00e+00 1.00e+00H  1\n",
      " 509  5.6781481e-04 3.05e-11 4.44e-05 -11.0 2.68e-02    -  1.00e+00 4.88e-04h 12\n",
      "iter    objective    inf_pr   inf_du lg(mu)  ||d||  lg(rg) alpha_du alpha_pr  ls\n",
      " 510  5.6776912e-04 8.73e-07 4.35e-04 -11.0 3.93e-03    -  1.00e+00 1.00e+00h  1\n",
      " 511  5.6784801e-04 2.70e-07 7.89e-03 -11.0 1.41e-03    -  1.00e+00 1.00e+00h  1\n",
      " 512  5.6777630e-04 2.93e-07 3.80e-05 -11.0 1.55e-03    -  1.00e+00 1.00e+00h  1\n",
      " 513  5.6777968e-04 1.23e-08 2.73e-05 -11.0 4.66e-04    -  1.00e+00 1.00e+00h  1\n",
      " 514  5.6777727e-04 1.18e-08 9.73e-06 -11.0 4.30e-04    -  1.00e+00 1.00e+00h  1\n",
      " 515  5.7270901e-04 3.42e-10 2.45e-03 -11.0 9.22e-03    -  1.00e+00 1.00e+00H  1\n",
      " 516  5.7105981e-04 2.78e-10 2.24e-03 -11.0 1.81e-03    -  1.00e+00 1.00e+00H  1\n",
      " 517  5.7091676e-04 7.57e-09 2.21e-03 -11.0 3.82e-02    -  1.00e+00 7.81e-03h  8\n",
      " 518  5.7181570e-04 4.33e-11 2.85e-03 -11.0 1.08e-02    -  1.00e+00 1.00e+00H  1\n",
      " 519  5.6797059e-04 1.42e-09 4.91e-04 -11.0 5.58e-03    -  1.00e+00 1.00e+00H  1\n",
      "iter    objective    inf_pr   inf_du lg(mu)  ||d||  lg(rg) alpha_du alpha_pr  ls\n",
      " 520  5.8530441e-04 3.02e-11 7.46e-03 -11.0 1.36e-02    -  1.00e+00 1.00e+00H  1\n",
      " 521  5.6814220e-04 5.02e-10 3.33e-04 -11.0 1.84e-02    -  1.00e+00 1.00e+00F  1\n",
      " 522  6.0644183e-04 2.37e-11 3.48e-03 -11.0 2.28e-03    -  1.00e+00 1.00e+00H  1\n",
      " 523  5.6791488e-04 3.32e-09 2.98e-04 -11.0 3.11e-03    -  1.00e+00 1.00e+00F  1\n",
      " 524  5.6780601e-04 4.46e-10 9.94e-05 -11.0 1.84e-03    -  1.00e+00 1.00e+00H  1\n",
      " 525  5.6785996e-04 3.37e-11 2.33e-04 -11.0 7.48e-03    -  1.00e+00 1.00e+00H  1\n",
      " 526  5.6785952e-04 1.48e-10 2.29e-04 -11.0 4.25e-01    -  1.00e+00 1.22e-04h 14\n",
      " 527  5.6777014e-04 8.78e-07 4.81e-04 -11.0 3.92e-03    -  1.00e+00 1.00e+00h  1\n",
      " 528  5.6777097e-04 8.75e-07 2.31e-03 -11.0 1.38e-02    -  1.00e+00 3.91e-03h  9\n",
      " 529  5.6777732e-04 7.59e-10 2.39e-06 -11.0 1.57e-05    -  1.00e+00 1.00e+00h  1\n",
      "iter    objective    inf_pr   inf_du lg(mu)  ||d||  lg(rg) alpha_du alpha_pr  ls\n",
      " 530  5.6777729e-04 2.67e-10 8.84e-07 -11.0 5.59e-05    -  1.00e+00 1.00e+00h  1\n",
      " 531  5.6781433e-04 1.97e-10 1.84e-04 -11.0 1.64e-03    -  1.00e+00 1.00e+00H  1\n",
      " 532  5.6777599e-04 1.66e-07 8.08e-05 -11.0 1.68e-03    -  1.00e+00 1.00e+00h  1\n",
      " 533  5.6781879e-04 1.52e-09 1.83e-04 -11.0 2.63e-03    -  1.00e+00 1.00e+00H  1\n",
      " 534  5.6793842e-04 1.23e-11 2.21e-04 -11.0 2.39e-03    -  1.00e+00 1.00e+00H  1\n",
      " 535  5.6799702e-04 9.66e-13 6.28e-04 -11.0 1.19e-02    -  1.00e+00 1.00e+00H  1\n",
      " 536  5.6799684e-04 9.01e-12 6.26e-04 -11.0 3.90e-01    -  1.00e+00 3.05e-05h 16\n",
      " 537  5.6899879e-04 3.20e-14 4.11e-04 -11.0 3.79e-03    -  1.00e+00 1.00e+00H  1\n",
      " 538  5.6779436e-04 2.18e-05 2.10e-02 -11.0 1.69e-02    -  1.00e+00 1.00e+00f  1\n",
      " 539  5.6777398e-04 2.14e-05 2.25e-02 -11.0 1.03e-01    -  1.00e+00 3.12e-02h  6\n",
      "iter    objective    inf_pr   inf_du lg(mu)  ||d||  lg(rg) alpha_du alpha_pr  ls\n",
      " 540  5.6772113e-04 2.15e-05 2.40e-03 -11.0 2.39e-01    -  1.00e+00 7.81e-03h  8\n",
      " 541  5.6769863e-04 1.66e-05 3.23e-03 -11.0 1.17e-02    -  1.00e+00 2.50e-01h  3\n",
      " 542  5.6769393e-04 1.46e-05 5.99e-03 -11.0 3.16e-03    -  1.00e+00 1.25e-01h  4\n",
      " 543  5.7085985e-04 8.36e-13 2.44e-03 -11.0 1.71e-02    -  1.00e+00 1.00e+00H  1\n",
      " 544  5.6766903e-04 2.09e-05 2.68e-03 -11.0 1.54e-02    -  1.00e+00 1.00e+00f  1\n",
      " 545  5.6780628e-04 6.38e-07 4.18e-03 -11.0 4.07e-03    -  1.00e+00 1.00e+00h  1\n",
      " 546  5.6821771e-04 3.02e-14 3.16e-04 -11.0 5.24e-03    -  1.00e+00 1.00e+00H  1\n",
      " 547  5.6813959e-04 1.53e-14 7.98e-04 -11.0 1.18e-02    -  1.00e+00 1.00e+00H  1\n",
      " 548  5.6813925e-04 4.67e-13 7.98e-04 -11.0 4.73e-01    -  1.00e+00 3.81e-06h 19\n",
      " 549  5.6813897e-04 5.43e-13 7.97e-04 -11.0 1.28e-02    -  1.00e+00 1.22e-04h 14\n",
      "iter    objective    inf_pr   inf_du lg(mu)  ||d||  lg(rg) alpha_du alpha_pr  ls\n",
      " 550  5.6777248e-04 2.27e-06 3.35e-03 -11.0 5.27e-03    -  1.00e+00 1.00e+00h  1\n",
      " 551  5.6777965e-04 2.27e-06 1.51e-03 -11.0 2.59e-02    -  1.00e+00 3.12e-02h  6\n",
      " 552  5.6777865e-04 3.54e-07 8.01e-04 -11.0 2.09e-03    -  1.00e+00 1.00e+00h  1\n",
      " 553  5.6777821e-04 3.66e-07 1.10e-03 -11.0 1.38e-02    -  1.00e+00 6.25e-02h  5\n",
      " 554  5.6897593e-04 8.88e-15 8.97e-04 -11.0 7.45e-03    -  1.00e+00 1.00e+00H  1\n",
      " 555  5.6806281e-04 7.71e-13 3.51e-04 -11.0 6.22e-03    -  1.00e+00 1.00e+00F  1\n",
      " 556  5.6806230e-04 5.56e-13 3.51e-04 -11.0 4.69e-02    -  1.00e+00 6.10e-05h 15\n",
      " 557  5.6777996e-04 2.73e-07 3.67e-03 -11.0 4.67e-04    -  1.00e+00 1.00e+00h  1\n",
      " 558  5.7002895e-04 1.78e-15 2.87e-03 -11.0 1.26e-03    -  1.00e+00 1.00e+00H  1\n",
      " 559  5.6777881e-04 1.68e-09 5.53e-06 -11.0 1.30e-03    -  1.00e+00 1.00e+00F  1\n",
      "iter    objective    inf_pr   inf_du lg(mu)  ||d||  lg(rg) alpha_du alpha_pr  ls\n",
      " 560  5.6777784e-04 5.76e-09 4.81e-06 -11.0 2.94e-04    -  1.00e+00 1.00e+00h  1\n",
      " 561  5.6787362e-04 4.12e-12 9.99e-05 -11.0 5.75e-03    -  1.00e+00 1.00e+00H  1\n",
      " 562  5.6778888e-04 6.23e-12 5.34e-05 -11.0 4.43e-03    -  1.00e+00 1.00e+00H  1\n",
      " 563  5.6778770e-04 3.91e-10 4.64e-05 -11.0 3.53e-02    -  1.00e+00 1.95e-03h 10\n",
      " 564  5.6778698e-04 1.10e-09 5.54e-05 -11.0 5.17e-02    -  1.00e+00 1.95e-03h 10\n",
      " 565  5.6778016e-04 4.30e-11 8.90e-05 -11.0 8.14e-04    -  1.00e+00 1.00e+00H  1\n",
      " 566  7.3010140e-04 1.32e-11 2.40e-02 -11.0 2.27e-02    -  1.00e+00 1.00e+00H  1\n",
      " 567  5.7295850e-04 3.52e-13 4.65e-04 -11.0 2.80e-02    -  1.00e+00 1.00e+00F  1\n",
      " 568  5.6758208e-04 9.70e-05 1.65e-02 -11.0 4.00e-02    -  1.00e+00 1.00e+00f  1\n",
      " 569  5.6755383e-04 9.57e-05 3.89e-02 -11.0 1.40e-01    -  1.00e+00 1.56e-02h  7\n",
      "iter    objective    inf_pr   inf_du lg(mu)  ||d||  lg(rg) alpha_du alpha_pr  ls\n",
      " 570  5.6745375e-04 4.94e-05 8.15e-03 -11.0 1.23e-02    -  1.00e+00 5.00e-01h  2\n",
      " 571  5.6762696e-04 4.85e-05 1.37e-02 -11.0 1.03e-01    -  1.00e+00 6.25e-02h  5\n",
      " 572  5.6774631e-04 2.43e-05 1.02e-02 -11.0 1.54e-03    -  1.00e+00 5.00e-01h  2\n",
      " 573  5.6767967e-04 1.28e-05 5.69e-03 -11.0 5.03e-03    -  1.00e+00 5.00e-01h  2\n",
      " 574  1.1016845e-03 1.63e-11 4.05e-02 -11.0 2.21e-02    -  1.00e+00 1.00e+00H  1\n",
      " 575  1.1015536e-03 1.87e-11 4.05e-02 -11.0 1.07e-01    -  1.00e+00 1.22e-04h 14\n",
      " 576  1.1015338e-03 2.48e-11 4.05e-02 -11.0 1.46e+00    -  3.66e-01 7.63e-06h 18\n",
      " 577  1.0905992e-03 2.39e-05 3.60e-01 -11.0 5.38e+00    -  4.26e-01 4.81e-03f  8\n",
      " 578  5.7821048e-04 2.03e-04 1.36e-01 -11.0 1.15e-02    -  1.00e+00 1.00e+00h  1\n",
      " 579  5.6927073e-04 3.15e-05 5.67e-02 -11.0 1.68e-02    -  1.00e+00 1.00e+00h  1\n",
      "iter    objective    inf_pr   inf_du lg(mu)  ||d||  lg(rg) alpha_du alpha_pr  ls\n",
      " 580  5.7303036e-04 1.25e-05 8.72e-02 -11.0 1.79e-02    -  1.00e+00 1.00e+00h  1\n",
      " 581  5.6876170e-04 1.79e-05 7.10e-02 -11.0 1.11e-02    -  1.00e+00 1.00e+00h  1\n",
      " 582  5.8527272e-04 2.05e-06 1.52e-01 -11.0 5.66e-02    -  1.00e+00 1.00e+00H  1\n",
      " 583  5.6663914e-04 1.86e-04 1.22e-02 -11.0 6.45e-02    -  1.00e+00 1.00e+00h  1\n",
      " 584  5.6657115e-04 1.86e-04 1.03e-02  -9.0 1.79e+00    -  1.00e+00 2.07e-03h  9\n",
      " 585  1.7467135e-03 1.60e-04 1.04e+00  -9.1 3.73e-01    -  1.00e+00 1.00e+00H  1\n",
      " 586  1.5528948e-03 2.77e-04 1.64e-01  -9.1 5.58e-01    -  1.00e+00 1.25e-01h  4\n",
      " 587  1.3197143e-03 2.77e-04 1.98e-01  -9.1 2.15e+00    -  1.00e+00 1.34e-02h  7\n",
      " 588  1.6202152e-03 3.38e-05 1.91e+00  -9.1 1.55e-01    -  1.00e+00 1.00e+00H  1\n",
      " 589  1.3024429e-03 1.34e-04 1.47e+00  -9.1 5.03e-01    -  1.00e+00 6.25e-02h  5\n",
      "iter    objective    inf_pr   inf_du lg(mu)  ||d||  lg(rg) alpha_du alpha_pr  ls\n",
      " 590  1.2612246e-03 1.90e-04 1.56e+00  -9.1 4.59e+00    -  8.54e-01 7.16e-03h  7\n",
      " 591  1.0927217e-03 2.19e-04 1.52e+00  -9.1 1.91e+00    -  1.00e+00 1.56e-02h  7\n",
      " 592  5.7748002e-04 1.01e-04 8.64e-02  -9.1 4.18e-02    -  1.00e+00 1.00e+00h  1\n",
      " 593  5.7142453e-04 1.30e-04 1.01e-01  -9.1 2.49e-01    -  1.00e+00 1.25e-01h  4\n",
      " 594  5.7141928e-04 6.74e-05 2.91e-02  -9.1 4.20e-02    -  1.00e+00 1.00e+00h  1\n",
      " 595  5.6887151e-04 6.43e-05 2.56e-02  -9.1 3.30e-02    -  1.00e+00 1.00e+00h  1\n",
      " 596  3.6131008e-03 6.63e-06 1.88e+00  -9.1 1.70e-01    -  1.00e+00 1.00e+00H  1\n",
      " 597  6.0720419e-04 1.62e-05 2.74e-01  -9.1 1.80e-01    -  1.00e+00 1.00e+00H  1\n",
      " 598  5.8062119e-04 3.99e-05 1.26e-01  -9.1 5.93e-01    -  1.00e+00 3.12e-02h  6\n",
      " 599  5.7580561e-04 4.57e-05 1.30e-01  -9.1 5.97e-01    -  1.00e+00 1.56e-02h  7\n",
      "iter    objective    inf_pr   inf_du lg(mu)  ||d||  lg(rg) alpha_du alpha_pr  ls\n",
      " 600  5.7576310e-04 4.63e-05 8.73e-02  -9.1 5.55e-01    -  6.50e-01 7.81e-03h  8\n",
      "\n",
      "Number of Iterations....: 600\n",
      "\n",
      "                                   (scaled)                 (unscaled)\n",
      "Objective...............:   5.7576309872493542e-04    5.7576309872493542e-04\n",
      "Dual infeasibility......:   8.7258526569318706e-02    8.7258526569318706e-02\n",
      "Constraint violation....:   4.6265652468902019e-05    4.6265652468902019e-05\n",
      "Complementarity.........:   9.0950308283048786e-10    9.0950308283048786e-10\n",
      "Overall NLP error.......:   8.7258526569318706e-02    8.7258526569318706e-02\n",
      "\n",
      "\n",
      "Number of objective function evaluations             = 3008\n",
      "Number of objective gradient evaluations             = 601\n",
      "Number of equality constraint evaluations            = 3008\n",
      "Number of inequality constraint evaluations          = 3008\n",
      "Number of equality constraint Jacobian evaluations   = 601\n",
      "Number of inequality constraint Jacobian evaluations = 601\n",
      "Number of Lagrangian Hessian evaluations             = 0\n",
      "Total CPU secs in IPOPT (w/o function evaluations)   =      1.908\n",
      "Total CPU secs in NLP function evaluations           =      4.080\n",
      "\n",
      "EXIT: Maximum Number of Iterations Exceeded.\n"
     ]
    },
    {
     "name": "stderr",
     "output_type": "stream",
     "text": [
      "\u001b[1m\u001b[33mWARNING: \u001b[39m\u001b[22m\u001b[33mNot solved to optimality, status: UserLimit\u001b[39m\n"
     ]
    },
    {
     "data": {
      "text/plain": [
       ":UserLimit"
      ]
     },
     "execution_count": 20,
     "metadata": {},
     "output_type": "execute_result"
    }
   ],
   "source": [
    "solve(m)"
   ]
  },
  {
   "cell_type": "code",
   "execution_count": 28,
   "metadata": {
    "scrolled": true
   },
   "outputs": [
    {
     "data": {
      "text/plain": [
       "(0.9407146987792437, 0.03699828686865201, 0.27937700577690155, 0.9930696944637799, 2.3341981133846743)"
      ]
     },
     "execution_count": 28,
     "metadata": {},
     "output_type": "execute_result"
    }
   ],
   "source": [
    "getvalue(β), getvalue(δ), getvalue(α), getvalue(A), getvalue(γ)"
   ]
  },
  {
   "cell_type": "code",
   "execution_count": 22,
   "metadata": {},
   "outputs": [
    {
     "data": {
      "text/html": [
       "<img src=\"data:image/png;base64,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\" />"
      ]
     },
     "execution_count": 22,
     "metadata": {},
     "output_type": "execute_result"
    }
   ],
   "source": [
    "plot(nodes(Basis(ChebParams(10, 0.2*k_stst, 2*k_stst)))[1], [0.731039, 0.830067, 0.984055, 1.15697 , 1.32812 , 1.48555 , 1.62093 , 1.72778 , 1.80161 , 1.8393], label=\"True Policy Fucntion\")\n",
    "plot!(K, u_crra_prime_inv.((Ψ * getvalue(θ))./(f_prime.(getvalue(modelKprime), getvalue(α), getvalue(A)) + 1-getvalue(δ)), getvalue(γ)), label=\"Estimated Policy Function\")\n",
    "plot!(K, getvalue(modelC), label=\"Estimated Policy Function\")"
   ]
  },
  {
   "cell_type": "code",
   "execution_count": 23,
   "metadata": {},
   "outputs": [
    {
     "data": {
      "text/html": [
       "<img src=\"data:image/png;base64,iVBORw0KGgoAAAANSUhEUgAAAlgAAAGQCAYAAAByNR6YAAAABHNCSVQICAgIfAhkiAAAAAlwSFlzAAAPYQAAD2EBqD+naQAAIABJREFUeJzs3Xd8VfX9x/HXOffe7EUSIIRAwg4ie8sSZIkyVBy1WheO2pZW2x9Wsa5aba0daq17oFXBCSggsgRxb6uCzAABgpA9yLj3fH9/XFCxykzuuTd5Px8PHo9Gc3Pe4lHf/X6/53MsY4xBREREROqN7XYAERERkcZGBUtERESknjV4wTLGUFZWhnYiRUREpKlo8IJVXl5OcnIy5eXlDX2piFZaWup2BAlzukfkcOg+kUPRPRIa2iIME4FAwO0IEuZ0j8jh0H0ih6J7JDRUsERERETqWcgKllNdFapLiYiIiLjKG6oL1eZvgBYZobqciIiIhIHa2lq2bNkS8VuTtm3TqlUrEhMTD+v7Q1ewtq6DPkNDdTkRERFxWX5+Pueeey5VVY1nF+u0007j2muvxbYPvgkYsoJVt3VdqC4lIiIiLnMch1tuuYWUlBTuvvtuYmJi3I50TOrq6vj444+55557AJg5c+ZBvz90K1jb1mGMwbKsUF1SREREXLJnzx4++ugj/vSnP9GrVy+349SL7t27A3D33Xczffr0g24Xhu6Qe0UZgcKCUF1OREREXFRSUgJAVlaWy0nqV+/evQHYuXPnQb8vpGMaaresDeXlRERExCWO4wDg8XhcTlK/fD4f8O1f348JWcHypreiJm9NqC4nIiIicljy8vI48cQTSU5OrrftzJAVLF/bztSqYImIiEiYSUpK4tZbb+Xpp5+ut58ZsoIV1bYLdds3YWprQnVJERERkW/ceeedXHbZZd98XVJSQnp6OgBDhw4lPj6+3q4VsqcIo9p2otoJUJu/gej23UJ1WREREQkTm8oMJbX1/3NToqB90qGnFEybNo3OnTtzxx13kJKSwmOPPcbkyZNJTU2t90whK1i+jBxqfNHUblmrgiUiItLE7Kk2dHrWj2Pq/2d7LCg4z0t6zMFLVkpKClOnTuXRRx/lqquu4r777mPOnDn1H4gQFizL49E5LBERkSYqPcZi/VneBlvBOlS52m/69OlMmjSJrl270rx582/GLtS3kBUsgKjsXPZ+tCKUlxQREZEwcTjbeA0tNzeX9u3bc9lll3HHHXc02HVCOgcrOieXQMke/CW7Q3lZERERkW9ceuml+P1+pk6dCkBVVRVZWVmceeaZfPnll2RlZXHttdce0zVCvoIFULvlK7wpzUN5aREREREAVqxYwZVXXvnN0NC4uDjy8/Pr9RohLVie5DQ8zVpQm7eGuJ5DQ3lpERERaeJ27NjBqFGjSE1NZfHixQ16rZAWLAiuYumgu4iIiIRaZmYma9eG5rV9IT2DBRCVk0tt/gaMvy7UlxYREREJidAXrOxcqKulbsfmUF9aREREJCRCX7DadASPj9otoVmiExEREQm1kBcsyxtFVFYHncMSERGRRivkBQuC24Q1WsESERGRMLB8+XIGDBjAcccdR7du3ZgxYwaO4xzTz3SnYOXkEtizk0BFiRuXFxEREflGs2bNmD17Nl9++SUffvghb731Fk888cQx/UzXVrAgOHBUREREJBTuvPNOLrvssm++LikpIT09nezsbNq3bw9ATEwMvXr1Ii8v75iu5UrB8qS2xE5spnNYIiIiEjLTpk1j7ty5lJQEd9Aee+wxJk+eTGpq6jffU1BQwPPPP8+pp556TNcK+aBRAMuyggNHdQ5LRESkyfDv2Ymzt6Lef64dm4A3vdUhvy8lJYWpU6fy6KOPctVVV3HfffcxZ86cb/58WVkZEydOZMaMGfTr1++YMrlSsCB4Dqt8yRyME8CyPW7FEBERkRAIVJRS8KdLwBzb4fEfZNu0uuUZPAnJh/zW6dOnM2nSJLp27Urz5s3p3bs3AOXl5YwfP57Jkydz9dVXH3Mk9wpWdi6mpgp/wVZ8me3ciiEiIiIh4ElIJmPmIw22gnU45QogNzeX9u3bc9lll3HHHXcAUFFRwfjx4xk/fjzXX399vWRyr2C17QyWTc2WtSpYIiIiTcDhbOOFwqWXXsovf/lLpk6dCsBdd93Fe++9R2VlJS+++CIAZ555JjNnzjzqa7hWsOzoWHyZ7YIH3Qef7FYMERERaWJWrFjBlVdeic/nA2DmzJnHVKZ+iGsFC/YNHN30XzcjiIiISBOxY8cORo0aRWpqKosXL27Qa7lbsHJyqXxrAU5VBXZcgptRREREpJHLzMxk7drQTDA4YA5WdXU1U6ZMoXPnzvTs2ZMxY8awYcOGH/zgK6+8Qm5uLp06deL000+nrKzsiC/+zcDRbeuOIrqIiIhIePqfQaOXXXYZX331FZ9++imTJ09m2rRp//OhiooKLrnkEubOncv69evJzMzkj3/84xFf3Nu8NVZcggaOioiISKNyQMGKiYlhwoQJWJYFwKBBg35wVPyiRYvo3bs3ubnBFagrr7ySZ5555ogvbtk2UW01cFRERKSxse1gxairq3M5Sf2qrq4GwOs9+Cmrg/7Zu+66i8mTJ//PH9+6dSvZ2dnffJ2Tk8POnTvx+/0/esHvbyFGR0cHf+XkUrFqHsaYb4qdiIiIRLbMzEyioqJ46KGHuPTSS795Yi9SBQIB8vPz+de//kVcXBxt27Y96Pf/aMG67bbb2LBhA8uWLauXYG3atDng6xkzZnDNNdcQSG2NU1VO4YYvsdPCYz6GG4qLi92OIGFO94gcDt0nciihvEduvPFGbrjhBlavXh2yaza0Hj16cPvtt1NRceDA1O++zxB+pGDdeeedvPjiiyxdupS4uLj/+fNt27ZlyZIl33ydl5dHq1atDrpctm3bNpKSkr75ev8KlnN8P3YAscU7ie/U7bD+4hqr7//NEfk+3SNyOHSfyKGE6h4ZN24cQ4YMYceOHThOA7wiJ4Rs26ZZs2akpaV9s/15MP/TiP7+97/zzDPPsHTpUlJSUn7wQ+PHj+cXv/gFa9euJTc3l3//+9+cc845B71QUlLSAQXrm8BxiXhbtKF2y1riB4w+ZGARERGJHAkJCXTu3NntGCF3QMHKz8/nt7/9Le3bt2fkyJFAcKXp3Xff5YYbbiAzM5MrrriCxMREHn74YaZMmYLf7+f4449n1qxZRx0iKieX2i16klBEREQahwMKVlZWFsaYH/zGW2655YCvJ02axKRJk+olRFROV6o+WIZTU40dHVMvP1NERETELYfeRAyBqJxccBzq8te7HUVERETkmIVFwfJlZGNFxVCbp3lYIiIiEvnComBZtoeo7C7U6ByWiIiINAJhUbAg+F7C2rw1P3oGTERERCRShE/BysnFKSsmULLb7SgiIiIixyR8ClZ28L2GOoclIiIikS5sCpYnsRmetAxq83QOS0RERCJb2BQs+PYcloiIiEgkC7+Clb8R4691O4qIiIjIUQurghWd0xUCddTmb3I7ioiIiMhRC6uC5WvdHrw+arfooLuIiIhErrAqWJbXR1SbTjqHJSIiIhEtrAoW7DuHpRUsERERiWDhV7BycgkU7SJQVuR2FBEREZGjEn4FK7srALVbvnI5iYiIiMjRCbuC5UlJx05O0zksERERiVhhV7AsyyJa57BEREQkgoVdwYLgOazarV9hAgG3o4iIiIgcsfAsWNldMbU11O3MczuKiIiIyBELy4Lla9MRbFvbhCIiIhKRwrJg2VEx+DLb66C7iIiIRKSwLFgAUTldtYIlIiIiESmMC1Yu/q/zcSrL3Y4iIiIickTCtmBF7x84ulUDR0VERCSyhG3B8qS3wo5PokbnsERERCTChG3BsixLL34WERGRsFUTMKzc6XDTh/87t9PrQp7DFpWTS/mKFzGOg2WHbRcUERGRJsDvGD7cY1i+I/hrdYGhOgCp0XBTX88B3xveBSs7F7O3Av/X+fgy2rodR0RERJoQxxg+K4Ll2x2W7zCsKjCU10GCD0ZkWPypn82o1jY9Uv/3s+FdsNp2AcuidstaFSwRERFpUMYYviqF5TuChWrFDkNRDcR4YEhLi9/3tBmVadG3uYXPtg76s8K6YNmx8XhbtqU2bw3xA8e6HUdEREQamc1lwe2+FTuDpWpnFXgtGNTC4pfdgoVqYHOLGO/BC9X3hXXBgn0vftZBdxEREakHO6v2naHat+2XVwG2BX3SLM7vGCxUQzIsEnxHVqi+L+wLVnROV6reXYJTXYUdE+d2HBEREYkgpbWG13cYlu0wLN3usKYk+Me7p8LkHJuRrSyGt7JoFn1sher7wr5gRWXngnGo3baemE493Y4jIiIiYazab3j7a8Oy7YalOwzv7zY4BtolwkmZFjf2sRmZadEitn4L1feFfcHytmyLFRNHbd4aFSwRERE5QMAxfFIIS7c7LNtheGPf6IT0mGChuqSLh5MyLdonNWyh+r6wL1iWbRPVtovOYYmIiAjGGNaXwrIdDku3G1bsNBTXQLwXhrcKjk44qbVN91SwrdCWqu8K+4IFwYPulW8twhiD5eJvloiIiITezqrglt+yHQ7Lthu2VX77pN/0bjYnZVoMbGER5QmfjhAZBSs7l/LXniFQtAtvWobbcURERKQBldYaVu7cd45qu8OX+w6m90iFM9sHC9WwDIvEqPApVN8XMQULoDZvjQqWiIhII1MTMLy9y7B0e/Bpv/d3GwIGchJgdGuLP/QJjk9o6IPp9SkiCpYnIRlveia1eWuI6zvS7TgiIiJyDPYfTN9/jmp1gWHvvoPpozItLnbpYHp9ioiCBcFzWDU66C4iIhJxjDFsKPv2Sb/9r6CJ88KIVhZ/7GczOgwOptenyClY2blUfbQSU1uDFRXtdhwRERE5iIKq4Hbfsu3BVar9B9MH7nsFzegwPJhenyKnYOV0BSdA7faNRLc7zu04IiIi8h1l+w6mL933tN8XxcE/3j0VprazOam1xfAwP5henyKmYPky22H5oqnNW6OCJSIi4rKAY/hgj+G1fMPifMM7XwcPpmfvO5h+fe/IO5henyKmYFkeL742nTRwVERExCVbK4KF6rV8h6U7ggM+k6OCE9PvHRI8R9U+Ec2sJIIKFgQPuu/9aKXbMURERJqEyjrD6zv3lartDmtLwLZgYPPggM+xWRYDmlt4bRWq74uoghWdnUvF8ucJlOzBk5LudhwREZFGxTGGTwvhtXyHxfmG1bsMdU5w229cls2t/SxGZVo0i1ahOpSIKlhROV0BqN2yltiUoS6nERERiXw7qwxL9q1QLdlu+Hpv8L1+IzMt/j7IZmxrm07J2vY7UhFVsDzJaXhSmlOzZS2xPVWwREREjlR1AJbkO7y2PXiW6rOi4B/vm25xSRebcVkWgxvx+IRQiaiCBcFzWLV5a9yOISIiEhGMMXxZDIv3laqVOxKodgJkxsHYLIvf97QZ3dqieRN92q+hRF7Bys6ldOEsTMCP5Ym4+CIiIg1uT3VwHtXifIfX8g07qiDGA8MzLGZ2q2FK5wS6NdO2X0OKuIYSldMV6mqp27GZqDad3I4jIiLiutqA4e2vv51J9dEegyE45PMnHYLbfkMzLGK9FkVFdaSmqlg1tMgrWFkdweuj+quPVLBERKRJ2v9uv/0rVCt2Girqgi9LHtva4lfdPIxpbZEZryLllogrWJYvirjeI6h8cwGJI6dieTxuRxIREWlwJTXBd/vtH/SZVwE+G4a0tJjZy2Zslk2vtMbzsuRIF3EFCyBhxBSq3l/K3s/fJk5PE4qISCPkdwzv7/522+/d3QbHQJdkmJgd3PYb0coiwadCFY4ismBFZXUkqv3xVKx8SQVLREQajbzyb6emL9tuKKmFlKjgu/3u7+JhbGuL7EQVqkgQkQULgqtYRY/dSu229TqLJSIiEamizrBix7elal0peCwY2MLiqu42Y1tb9G9u4dGraCJOxBas2OMH42nWgopV80j96e/cjiMiInJIjjF8vOfbmVRv7XsVTc6+V9H8ub/FyEyLFL2KJuJFbMGyPB4Shk2kdMETJE+6BE9iM7cjiYiI/I/tlYYl+2ZSLd1u2FMNCT4YlWnxj0E247JsOiRpJlVjE7EFCyB+0HjKXv0PlW8uIGn8eW7HERERYa/fsGqn+eZVNJ8XgwX0a25xea7N2CyLwS0tfNr2a9QiumDZcYnE9RtNxZsLSBx9FpY3yu1IIiLSxBhj+KoUFm51eDXfsKrAUBOA1vHBmVTX97Y5qbVFeowKVVMS0QULIGH4ZCrfWkDVx6uI7z/a7TgiItIE7PUbVu40LNhqWLjNYVN58FU0I1pZ3N4/uO3XNUXbfk1ZxBcsX0Zborv0oWLVPOL6naSbWUREGsSW8mCZWrjNsGy7YW8AshPglLY2E9oED6fHefXfIAmK+IIFwZENhQ/eQO3mL4lu383tOCIi0gjUOcGn/PavUn1RDF4LhmZY3NzX5pS2WqWSH9coClZMbj+8zVtTsWquCpaIiBy1XVWGRfmGhVuDYxRKa6FlLJzcxuKmPjZjsiySo1So5NAaRcGybJuE4ZMpeel+/MW78TZr7nYkERGJAI4xfLDbsHBbcKXqgz0GCxjQwuLq7sGtvz7plt7vJ0esURQsgLgBYyhdMIvK1S+TPPFit+OIiEiYKqkJvttv4TaHRdsMu6uDr6MZl2Ux/XgP47IsWsSqUMmxaTQFy46OJX7QOCreXkjiuHOxo2LcjiQiImHAGMPnxcExCgu2Bc9VBQx0T4VLugRXqQa3tPBqLpXUo0ZTsAAShk2iYuVcqj5YTsIJE9yOIyIiLqmsMyzf8e0B9W2VEOcNvjT53iE2E9rYtElQoZKG06gKljctg5jjB1Gxai7xg0/Wkx0iIk3IhtJgmVqw1fD6TkOtAx2S4LQcm1PaWgzPsIjRGAUJkUZVsCA4eHTPvddQs+5jYrr0cTuOiIg0kJqA4Y2Cb1ep1pWCzw4O+/zLgOAqVecUFSpxR6MrWNEde+DLbEfFyrkqWCIijcz2yuATfwu3OizdYaioC76SZkIbizsGBF9Jk+BTqRL3NbqCZVkWCcOnUDz7H9Tt3o6veWu3I4mIyFEKOIZ3vt4/RsHh0yKwLRjcwuK6XsFVqh6pGvYp4afRFSyAuL4jKX35USpXzSPljCvdjiMiIkdgT3VwjMKCrQ6L8w1FNZAWHRz2eU1Pm3FZFql6cbKEuUZZsCxfFPEnnEzFqnkkTbgAOzbe7UgiIvIjjDF8XPjtGIV3vzYYoE86/OK44BiF/s0tPBqjIBGkURYsgIShEylf9hyV775G4omnuR1HRES+o6zWsHR7cJVqUb5hZxUk+mBslsXDwz2c3MaiVZwKlUSuRluwPMlpxPYaRsUb80kYPgnL9rgdSUSkyTLGsLaEb8YovFFg8BvomgLndgiOURjS0iLKo1IljUOjLVgACcOnsPufv6H6y/eIPX6w23FERJqUvf7gPKr9YxQ2l0OMB0ZmWvxzcPCAerskFSppnBp1wYrOySUqO5eKlfNUsEREQmBLuWHBNoeFW4OT1PcGIDsBTmkbPEs1MtMiTsM+pQlo1AULIGHEFIqe+DN1Ozbjy2zndhwRkUZl/wH1eVsc5uY5fFYEXguGZljc0i+4StU1RWMUpOlp9AUrtudQPMnpVKyaR7NzfuN2HBGRiFfnGFbtNMzNM8zbEnzPX3IUnNLGYmYvm3FtLJKjVKikaWv0BcvyeIkfeiplrz1N0qkX4UlIdjuSiEjEKa81vJofLFQLthpKaiErHqZk20zJsRjeysKnMQoi32j0BQsgfvDJlL32NJVvLyJpzDluxxERiQg7qwzztzjM22JYtj348uQeqTD9eJvJ2Ta907T1J/JjmkTB8iQkE9d3JJWrXyFx1FQsT5P4yxYROWJrSwxz8xzmbgkO/LQtGJ4RfHny5Gw99SdyuJpM00gcPoWqdxaz99M3ieszwu04IiJhIeAY3t397XmqdaUQ54VxWRazRng4pa1Fml5LI3LEmkzB8mW2I7pTTypWzVXBEpEmrdofnKI+b4vD/K2Gr/dC8xiYlG3xt4E2J7W2iNUoBZFj0mQKFgQHjxY+cjO1W74iKruL23FEREKmqNqwYFtw+29xvqHSD52S4IJONpOzLQa10Lv+ROpTkypYMd0G4EnLoHzVXNLOv8btOCIiDSqvPLhKNS/PsKrAEDAwsIXFzN42U7JtcjWfSqTBNKmCZdkeEoZNonT+IwQmTcOTnOZ2JBGRemOM4bMSm9c3B5ib5/BpEUTZMCrT4t4hNhPb2mTGq1CJhIL93S+mT59OTk4OlmXxySef/OAHXn/9dWJjY+nVq9c3v/bu3RuSsPUhfuA4LF8UFW++4nYUEZFjVucYlm13mP5WgJzZfkYui+efnzt0a2YxZ5SH3ed7WXSyl8u7elSuRELogBWsqVOnMmPGDIYOHXrQD3Xp0uVHC1i4s2PjiRswhsq3FpI05idYvii3I4mIHJHyWsPifMPcHxj6OTK1glM7JxHlUZkScdMBBWv48OFu5QiphGGTqHxjPlUfvU78wLFuxxEROaSCKsP8LcEzVUu/M/TzV91spuR8O/SzqCigciUSBo7qDNbGjRvp06cPHo+Hiy66iCuvvPKQnykrKzvg6+joaKKjo4/m8sfM1yKLmOP6U7FyLnEDxuiQp4iEpbUlhnnfGfppWTBs39DPSdk27TX0UyRsHXHB6tOnD/n5+SQnJ5Ofn8+ECRNIT0/nrLPOOujn2rRpc8DXM2bM4Jpr3HuSz/Q+ibqn/syej9/Ck9PVtRz7FRcXux1BwpzukcbPMfBBkc3CHV4W7fCyocJDnMcwsqWfe/r5GZsRIC3aBL/ZD0VF//szdJ/IoegeaRipqakHfH3EBSspKemb/52VlcVPfvIT3njjjUMWrG3bth3wWTdXsABMsxHsWvo01ifLSO0zxLUc3/X9vzki36d7pPGp9huW7QjOp3p5q2HXvqGfE9ta/D3HZnRri1jvkZ0V1X0ih6J7pOEdccHauXMnLVu2xLZtysvLeeWVV7jkkksO+bmkpKQDCpbbLMsiYfhkSp6/F39hAd60DLcjiUgTsX/o57wtDq9uCw797JgE5+8b+jlYQz9FIt4BYxouv/xysrKyyM/PZ9y4cXTs2BGAadOmMX/+fABeeOEFunfvTs+ePRk0aBBjxozhoosuCn3yehDX/ySs2DgqVr/sdhQRaeS2lBvu/jzAqFf8tPiPn5+9HmBbBczsbfPFVC/rzvLy14EehmbYKlcijYBljDENeYGysjKSk5MpLS0NqxWs/UrmP0LlWwtpdfN/sKNjXctRVFSkJVs5KN0jkcUYw6dFMDfPYd4Wh08KwWfDSZkWk7MtJmU3zNBP3SdyKLpHQqNJTXL/IQnDJlLx+gtUvb+UhKET3Y4jIhEs4BhW7zK8uDm4/belApKjYEIbi2t72oxvY5EUpdUpkaagyRcsb7MWxHY/gYpV84g/4RQs2z70h0RE9jEmOEJh9ibDs5scdlZB631DPydnW4xoZWkulUgT1OQLFkDCiCnsvvt31Hz1ETFd+7kdR0TCnDGGjwthzkaHOZuCK1Wt4uDMdjbndLAY2MLC1nw9kSZNBQuIatcNX1ZHyle+pIIlIj/qiyLD7E0OczY6rC+D9BiY2s7m7PYWwzL05J+IfEsFi/0jG6ZQ/PSd1O3ahq9lm0N/SESahPWlhjkbHWZvcviiOHim6vQci3tOsBnV2sKnUiUiP0AFa5+4PsMpffkRKlbNo9mZv3Q7joi4aEu5Yc6m4PbfR3sgwQeTsy1u728zNssiWmeqROQQVLD2sbxRxJ8wgYoVz5N8ygXYcYluRxKRENpRaXhus8PsjYZ3vjbEeODUthbX9bKZ0MYi1qtSJSKHTwXrOxKGnEL50jlUvrOYxFFT3Y4jIg1s917D85sd5mwyrNpp8NpwchuLp0Z6mNjWIlEjFUTkKKlgfYcnKZW43iOoeGM+CSNOw/J43I4kIvWsuMbwUp5h9kaH5TuCc5ZHt7Z4dISHKdkWKdEqVSJy7FSwvidhxBSqPlhG9edvE9tzqNtxRKQelNca5m8NlqrF+Qa/AyNaWdw7xOb0HJvmsSpVIlK/VLC+J6pNJ6LaHUf5qnkqWCIRrMpvWLA1eFh9wVZDdQBOaGlx50Cbqe0a5jU1IiL7qWD9gIQRUyh6/DZq8zcSldXB7TgicphqAobF+cGVqvlbDJV+6Jtu8cd+Nme1t2mboFIlIqGhgvUDYrsPwZPSnIpVc0k997duxxGRg6hzDMu2B1eqXsozlNZC91S4tpfN2e1tOiarVIlI6Klg/QDL4yFh2CRKFz5B8sRL8CSmuB1JRL4j4BhWFRhmbzS8sNmhsAY6J8Ovjw+WquOaqVSJiLtUsH5E/KDxlL36HyrfWkDSuJ+6HUekyXNMcD7V7I2G5zY5FOyFnASYlmtzTgebnqnBtzKIiIQDFawfYccnEtf/JCrefIXEk87C8vrcjiTS5Bhj+HCPYc6m4OtqtlVCZhz8pIPN2R0sBjS3VKpEJCypYB1EwvDJVL61kL2fvEFcv1FuxxFpEowxfF4MszcGX1WzsQyax8CZ7YMvVR6aYWGrVIlImFPBOghfRjbRXfpQvmousX1H6v8pizSgr0qCB9Vnb3RYUwLNooMvVb5/qM2JrSy8eqmyiEQQFaxDSBg+mcKHbqQ2bw3R7Y5zO45Io7K5zPDsJofZmxw+KYREH0zJtvjrQJsxrS2i9FJlEYlQKliHENO1P97mralYOVcFS6QebK8Mlqo5mwzvfm2I9cDEbIsbetuc3MYiRi9VFpFGQAXrECzbJmHYJErmPoC/eDfeZs3djiQScb7e91Ll2RsNqwsMPhsmtLF4ZpSHU9taJPhUqkSkcVHBOgxxA8ZQunAWlatfJnnixW7HEYkIRdWGF/OC56qW7zDYwJgsi8dHeJicY5EcpVIlIo2XCtZhsGPiiB84jsq3F5E47lzsqBi3I4mEpWq/Yd4Ww5Prgy9VdoCRrSzuH+rh9ByLtBiVKhFpGlSwDlPCsElUrJpL1YcrSBh8sttxRMKjKBSvAAAgAElEQVSGMcGzVI+vC65WldTC4BYW/xxsc0Y7m4w4lSoRaXpUsA6TN70VMd0GUrFyLvGDxmtkgzR52yqCK1Wz1jusK4U28fCL42x+1smmc4r++RCRpk0F6wgkDJ/Cnn//npr1nxDTubfbcURCrspveCnP8Pg6h2XbDbFeOCPH4t9DbEZmagCoiMh+KlhHILpTT7ytcqhYOVcFS5oMY4JP/j2+zuG5zYbyOhjRyuKR4R6mtrNI1GF1EZH/oYJ1BCzLInHEFIrn3IV/zw686ZluRxJpMHnlhifWO8xa57CpHNolwm+725zfyaZ9kkqViMjBqGAdobg+Iyl9+VEqVs0n5fQr3I4jUq8q6gzPbw6uVq3caUjwwVntLB4bYesdgCIiR0AF6whZUdHEnzCBilXzSZpwPnZMvNuRRI6JYwyv7zDMWu/w/GbDXj+MyrR48kQPp+VYxGsIqIjIEVPBOgoJQ06lfNlzVL67hMQRU9yOI3JUNpQGS9UT6x22VkCnJJjZy+a8TjZtE1SqRESOhQrWUfCkpBPbcyiVb8wnYdgkLNt2O5LIYSmtNTy7yTBrncObuwzJUXB2e5sLO1sMamFp/IiISD1RwTpKCSOmsPufV1G95n1iuw10O47Ijwo4hqXbg6tVL+UZah0Y2zr4HsDJ2RaxermyiEi9U8E6StE5XfG17ULFyrkqWBKW1hQHS9WT6x12VMFxKXBzX5vzOtpkxqtUiYg0JBWsY5A4YgpFT/6Fup15+FrluB1HhKJqw+xNDrPWGd7bbWgWDed2sLmgs0W/dG0BioiEigrWMYjtORR73kNUrJpHs7N/7XYcaaL8juHVbcHVqvlbDAEDE9pYPD/aw6ltLaI9KlUiIqGmgnUMLK+PhKGnUrZkNkmnXoQnPsntSNKEfFYYLFVPbXDYtRd6pMKfB9ic28GmpV6wLCLiKhWsYxR/wgTKXnuGyrcXkTT6bLfjSCO3e6/h6Y3B6eofF0LzGPhpR5sLOtv0SlOpEhEJFypYx8iTkEJcn5FUrn6ZxJFnYHn0Wyr1qzZgWLjN8ODnMSwp8GNZMLGtxU19bU5uY+GzVaxERMKN2kA9SBgxhar3XmPvZ28R13u423GkETDG8HEhzFrn8PRGhz3V0DPF5h+Dbc7pYJMeo1IlIhLOVLDqQVTr9kR16E7FqrkqWHJMCqoMT21weHydw+fFkBELF3a2uaCTTSblpKamuh1RREQOgwpWPUkcMYXCR/9I7dZ1RLXt7HYciSDVfsPLW4PT1V/NN3htmJxt8ZcBNmOzLLz7tgCLilwOKiIih00Fq57EHD8IT2pLKlbNJfW8GW7HkTBnTHBO1ax1hmc2OpTUwqAWFv86websDjbNorUFKCISyVSw6olle0gYNonSVx4jeeIleJLT3I4kYWh7peHJ9Q6z1jusLYGsePj5ccEtwC4pKlUiIo2FClY9ih84jrJFT1Lx1kKSTz7f7TgSJqr8hrl5wS3AJdsNMR44vZ3F3YNtRmVaePQUoIhIo6OCVY/suATiBoyh8s0FJI05G8sb5XYkcYkxhjd3BUvVs5sMZXUwLMPioWEezmxvkRSlUiUi0pipYNWzhGGTqFz9MlUfrSR+wBi340iI7akOlqoH1zqsK4XsBPhNd5ufdbLpkKRSJSLSVKhg1TNfyzbEdO0fHNnQf7RertsEGGNYudPwwFqHFzcbAKa2s7h/qM2IVha27gERkSZHBasBJAyfzJ4Hrqd20xdEdzje7TjSQL6/WtUlGW7vb/OzzhoEKiLS1KlgNYDo3L54W7ShYuVLKliNjDGGVQWGB9Y4vLBvteqMdhYPDrMZnmFpxVJERAAVrAZhWRYJwydT8sK/8RcW4E3LcDuSHKM91YYn9q1WfVUKnZPhtv7BlyxrtUpERL7PdjtAYxXXfzRWTBwVq+a5HUWOUvBslcNPl/tp/ZSfa9936JNuseIUD2vP9PLbHh6VKxER+UFawWogdnQMiSeeRtmrTxHdpQ+xx/V3O5IcpsLvnK36qhQ6JcGf+geHgTaPVaESEZFDU8FqQIljzqF26zqKnridFr/5B76MbLcjyY8wxvDGvrNVz282GIJnq+4banNiK52tEhGRI6MtwgZk2R5Sz78GT7MW7HnoJgKVZW5Hku8prDb8478Bjnvez4hXAry/2/Cn/jbbz/XyzCgvIzNtlSsRETliKlgNzI6JI33aTZjqKooeuxXjr3M7UpNnjGHVTofzVvhp/bSfa95z6JlqsfwUD1+d5eV3PTzaChQRkWOighUC3rQM0i7+AzWbv6TkhX9jjHE7UpNU9L3Vqne/Nvyxb3C1avZJWq0SEZH6ozNYIRLd4XianflLimf/E1+rHBKGT3Y7UpNgjGF1geHBtQ7PbTY4Bk7Psbj3BJsTMzVlXUREGoYKVgjFDxpP3c4tlLz0AN4WWcTk9nU7UqNVVG14Yn3wScA1JdAhCW7pa3NhZ5sW2v4TEZEGpoIVYsmTp1G3axuFj99Gi6v+ia9lG7cjNRrGGN7cFXwScP9q1Wk5FvecYDNSq1UiIhJCOoMVYpbtIe2Ca/Ekp1H48E04VeVuR4p4RdWGuz4PcPzzfoa9HODtrw239LXJP9fLnJO8nNTaVrkSEZGQUsFygR0bT/q0m3Aqyyh8/DZMwO92pIgTPFvl8LN9TwL+7h2Hbs0slk7wsO4sLzN6erQVKCIirtEWoUu8zTNJveh69tx3HSUvPQCjfuJ2pIhQXLPvbNUahy9LoH0i3NQneLaqZZwKlYiIhAcVLBfFdOpJyhlXUvLcPfiS0mHs2W5HCkvGGN7aFXwS8NlNBr8TPFt11wk2o3S2SkREwpAKlssShpyCv2ALFYtmUZ3ThZjOvdyOFDaKawxP7nsS8Ivi4GrVjX1sLtJqlYiIhDkVrDCQPOVyqrZvpvDxW2l51d14m2e6Hck1xhje/jr4JOD+1aopORb/GGRzUmutVomISGTQIfcwYHk8RJ/xKzzxyex56Eacqgq3I4VccY3hns8D9HjBz5D5Ad4oMNzYx2bbuV6eG+1lTJaeBBQRkcihghUmrNgE0i69mUB5MYVP3I4JBNyO1OCCZ6scLnzdT+ZTfq5+x6FLisVrJ3vYcLaX3/fykKGtQBERiUAqWGHE1yKLtAuvo2bdx5TOf9jtOA2m5HurVasKDDfsW616XqtVIiLSCOgMVpiJ6dKHlNOuoOSFf+PLaEv84JPdjlQvjDG8852zVXUOTM6x+Nsgm9E6WyUiIo2MClYYih86kbqdWyh+/l68LbKI7tDd7UhHraTG8J8NwScB/1sEOQlwfW+bi7rYtNL2n4iINFIqWGHIsixSzvg5/t35FD76R1pcdRfe9FZuxzoi60sNt38SYPZGQ60Dk7Mt/jrAZkyWVqtERKTx0xmsMGV5vKReOBMrNp49D9+EU13pdqTDkl9huOwNP12f87M433B97+DZqhfGeBnXRmerRESkaVDBCmOe+CTSp91MoGQ3RU/8BeOE75OFe6oNv30nQMdn/by42XDHAJsNZ3u5rrdHW4EiItLkqGCFOV9GW9IuuI7qNR9Q+spjbsf5H2W1hps/DNB+tp8H1zr8vqfNpnO8XN3DQ6xXxUpERJomncGKADFd+5E8+VJK5z6Ar2Vb4geOdTsSe/2G+750uO0Thwo//OI4m2t72aTHqFSJiIioYEWIhBFTqCvIo/jZe/A2b010+26u5KhzDI+vM9z8UYCCKri4i8UNvT1kJahYiYiI7KctwghhWRbNpv6SqOwuFD56C/6iXSG9vmMMszc6dHvOz2VvBBiWYbHmTC8PDvOqXImIiHyPClYEsbw+0i6+HisqhsKHb8Kp2dvg1zTGsGCrQ58X/fxkeYDOyRYfn+7lmVFeOiWrWImIiPwQFawI40lIIf3Sm/EXFlD0n79iHKfBrrVqp8OwlwOcujhAUpTFGxM9vDLeS680FSsREZGDUcGKQL5WOaT+7PdUf/42ZQtn1fvP/2iP4eRFfka8EqDKb1g03sPKUz0MzdDtIiIicjh0yD1CxXYbSPLEiymd/wi+jGzi+o065p/5VYnhDx8EeG6zoUsyPHuShzPaafK6iIjIkVLBimAJI6dSt3MLRbP/gSc9k+ic3KP6OVsrgrOsHl9vaB0Hjwz38LNOFl5bxUpERORoaM8nglmWRbOzpxPVphOFj9yMv3j3EX3+672Gq94O0GmOn5e3Gv4+yGbdWV4u7mKrXImIiBwDFawIZ3mjSLv4D1heH4WP3IRTU33Iz5TWGm74IECHOX4e/crhD71tNp7t5dfHe4jR9HUREZFjpoLVCHgSm5E27Sb8X2+n+Ok7f/TJwr1+w18/Db7W5q+fOfy8a/C1Ntf38ZAYpWIlIiJSX1SwGomo1u1JPW8Gez9dTdnipw74c3WO4f4vA3Sc4+e69x3Oah9csbpjoIc0vdpGRESk3h1QsKZPn05OTg6WZfHJJ5/86IceeeQROnXqRIcOHbj00kupq6tr8KByaLE9TiDplAspX/wUVR+txDGGpzY45D7r58o3HUZmWqw9y8t9Qz1kxqtYiYiINJQDCtbUqVNZvXo12dnZP/qBzZs384c//IE33niDDRs2sGvXLh588MEGDyqHJ3H02cT2Hcmep/7GmbPWcN6KAMenWnx6hpf/jPTSIUnFSkREpKEdULCGDx9OVlbWQT/w/PPPM2nSJDIyMrAsiyuuuIJnnnmmQUPK4Vu503B6/K/4NCqHG9fcyrsji5k31kv3VBUrERGRUDniM1hbt249YIUrJyeHrVu3HvJzZWVlB/yqqak50kvLQXyw22HsQj8jFwSosqJIuOAGmsfaZM/7I6ZWv9ciIiKhFLJBo23atDng6xkzZnDNNdeE6vJhr7i4+Kg+91WZzW1fRPHKDh+dEwM8PqiWUzP9WJaNc+ZVVD92MwWz/kzU6b/E0kT2iHa094g0LbpP5FB0jzSM1NTUA74+4oLVtm1bNm7c+M3XeXl5tG3b9pCf27ZtG0lJSd98HR0dTXR09JFevlH7/t+cg8krN9z0YYAnNxjaxMPjIzyc19GLx4757g+k6rz/o+jxP+HL7kTS2HMbILWE0pHcI9J06T6RQ9E90vCOeIvwjDPOYP78+RQUFGCM4f777+ecc8455OeSkpIO+KVydXR2VRmmvxWg87N+FuUb/jnI5quzvFzQ2cbzA9PX43oNI2n8+ZQtfIKqT1e7kFhERKTpOaBgXX755WRlZZGfn8+4cePo2LEjANOmTWP+/PkAtG/fnptvvpkhQ4bQsWNHmjdvzuWXXx765E1MSY1h5vsB2s/x88R6h5v62Gw628uvjvcQ7Tn41l/iuHOJ7TWc4qf+Sm3+hhAlFhERabosY4xpyAuUlZWRnJxMaWnpAVuEcqCioqIfXLKtrDPc84XDXz51qAnAr4+3mdHTpln0kZ2ncmqr2X3P/+GUF9Pi6rvxJGl5ONL82D0i8l26T+RQdI+Ehia5h6nagOHeL4LT12/40OGnHW02nuPl9gGeIy5XAHZUDOmX3IhxHAofuQVTV9sAqUVERARUsMJOwDE8sc6hy7N+fvWWw9gsi6/O9PKvIR5axR3bU4CelHTSp91I7Y5NFM/5Jw28eCkiItJkqWCFCWPgpc0OPV7wc8HKAL3TLf57hpdZJ3ppV4/T16PadiH1J1dT9cFyypc9W28/V0RERL4VsjlY8uOWbneY8XYcHxcHGN3a4rERNgNaNFz3jetzInUFWyhb8Di+lm2J7T64wa4lIiLSFGkFy0Xvfu1w0gI/YxYGsIBlEzwsmeBt0HK1X9L484ntfgJFT/6F2h2bGvx6IiIiTYkKlgs+LzJMec3PoHkBdu01zB3j4bWRVYxqHbq/HZZt0+yn/4e3eWsKH7qJQHlJyK4tIiLS2KlghdCmMsP5K/z0eMHPZ0WGJ0/08OnpXibn2LjxFhs7Ooa0aTdi/HUUPnoLxq8nC0VEROqDClYI7KwyXLk6QJdn/Szdbrh3iM3aM72c1+mHp6+HkrdZC9Iu/gO1W9dT/Oy/9GShiIhIPdAh9wZUXGP4y6cOd3/uEOOFW/vZ/Op4mzhveL10ObrdcTT7yW8o/s9f8bXKJnHkGW5HEhERiWgqWA0g4BgeWusw84Pg9PWru9v8rodNylEMCA2V+H4n4d+5hdL5D+Nt2YbY4wa4HUlERCRiaYuwnq0ucOg318/P33SYlG2x4Wwvt/b3hHW52i/plAuJ6TaQoll/pm5nnttxREREIpYKVj3ZUWk4b4WfYS8H8FoWb0/y8NgILxnHOH09lCzbJvW8GXhTW7Dn4ZsIVJS6HUlERCQiqWAdo9qA4Y5PA3R5zs9r+YaHh3l4d4qHQS0j87fWjokjbdpNmJq9FD52K8Zf53YkERGRiBOZLSBMLNrm0P0FP9e973BxZ5t1Z3m5JNfGdmPmQj3ypmUEnyzMW0PJC//Wk4UiIiJHSAXrKGwsM0xa7GfCqwFax1l8crqXu06IjHNWhyu6/fE0O2s6lW8vomLVPLfjiIiIRBQ9RXgEKusMt33icOdnDi1j4dmTPExtZ2FF+IrVj4kfOJa6gi2Uzn0QX4ssYrr2czuSiIhIRNAK1mEwxjBno0Puc37+9l+Ha3rarD3Ly5nt7UZbrvZLnngxMV37Ujjrdup2bXM7joiISERQwTqEzwoNIxcEOGd5gH7pFl9O9XJLP0/YDQttKJbtIfVnv8eTkkbhQzfiVJa7HUlERCTsqWD9iKJqw6/eDND7JT8FVYbFJ3t4aayX9klNo1h9lx0TT/q0m3H2VlA460+YgN/tSCIiImFNBet7Ao7hwTUOnZ/18/h6h78MsPnsDC9js5r2b5U3vRWpF86kZsN/KXnpfrfjiIiIhLWm3Rq+561dDgPm+bl8dYBT2lqsO8vL73p4iPI0vVWrHxLTqScpZ/6SytWvULH6ZbfjiIiIhC09RQjsrDJc826AJzcY+qTDm5M8nBChg0IbWsLgk/HvzKPkxfvwtsgipnNvtyOJiIiEnSbdImoDhr9+GqDzs34W5RseHObhvclelatDSJ58GdGdelH4+J+o273d7TgiIiJhp8k2icXbHHq84Of37ztctG8K+6W5Nh5b24GHYnk8pF1wHZ6ElOCThVUVbkcSEREJK02uYG0qM0x+zc/4VwNk7JvCfvcJHpo1oinsoWDHJZB26c0EKkoonHUbJhBwO5KIiEjYaDIFq7LO8IcPAhz3vJ+P9hjmjPKw4hQP3VNVrI6Wr3lr0i6cSc36Tyid95DbcURERMJGoz/kbozhuU2G370bYNde+L8eNtf2son3qVjVh5jOvUk5/eeUPH8v3lbZJAw+2e1IIiIirmvUBeu/RYbpbwV4fadhUrbF3wd56NAEB4U2tIShE6kr2ELJc//C17w10R17uB1JRETEVY1yi7C4Jliser/oZ0eVYdF4D/PGelWuGlDKaVcQ3bE7hY/din/PTrfjiIiIuKpRFayAY3h4bXAK+2PrHG7rb/PfM7yMb9Oo/jLDkuXxknbBTOzYBPY8fCNOdaXbkURERFzTaJrHO7scBs4LcOkbAcZnWXx1ppcZPTWFPZTs+MTgk4UlhRQ98WeMoycLRUSkaYr4glVQZbjwdT+D5wdwjGH1RA9PjvSSGa9i5QZfyzakXXAt1Ws+pPTlR92OIyIi4oqIPeReGzDc84XDzR85RNlw/1CbaV00KDQcxHTtR/KUyyh96X4CRbtInjQNb1qG27FERERCJiIL1tLtDr96K8C6Uvh5V5tb+tqkxqhYhZOE4ZPxxCdR+vKjFNx2KYknnkbimLOxY+LdjiYiItLgIqpg1TmG6953uPMzh2EZFrNHeeiZpmIVjizLIq7fKGK6n0D58ueoWP48le++RtIpFxA/cCyW7XE7ooiISIOJmIK1rcJwzvIA731t+NtAm6u621iWylW4s6NjSD75fOIHj6fslccomXMXlW/MJ3nK5cR07uV2PBERkQYREYfcF21z6P2in20VhlUTPVzdw6NyFWG8Kc1JPW8GLa66Cysqhj3//j17Hr6Jut3b3Y4mIiJS78K6YPkdw8z3A0x4NcDAFhYfn+5lcMuwjiyHEJXdhea//jupP7uWuu2b2PXnyyl56QGcqnK3o4mIiNSbsN0i3FFpOHdFgNUFhtv728zoaWNr1apRsCyLuD4jiD1+EOUrX6J8yWyqPlhG0snnEz94ApZH57NERCSyhWXBWrbd4dwVATwWLD/Fw/BWWrVqjKyoaJLGnEP8gDGULpxFyQv/pmL1y6RMvoyYrv3cjiciInLUwqq5BBzDTR8GGLMwQM9Ui09O96pcNQGe5DRSf3I1La6+Gzs+mT0PXM+eB/5AXcFWt6OJiIgclbBpL7uqDOMWBbjlI4eb+9osGu+hRay2BJuSqDadaP7LO0i76Hrqvs5n1x1XUPzCvwlUlrkdTURE5IiExRbhyp0O5ywLYIClEzyMah02vU9CzLIsYnsOJabbACpWzaPstWeo+mA5SeN+SsLQU7G8PrcjioiIHJKrTcYxhts+DjBqQYDclOBTgipXAmB5o0gcdSYZMx8lrvdwSuc9xK6/XMHez9/BGON2PBERkYNyrc3sqTac8mqA6z9wuK6XzZIJHlrFaUtQDuRJTKHZWdNp+X/34mnWgsKHb2LPfddSu2OT29FERER+lCtbhG8WOJyzPEB1ABaN9zCujVat5OB8me1I//ltVH/5HqVzH+Trv/6S+EHjSJpwAZ7EFLfjiYiIHCCkBcsYw9/+6/D79xwGt7B4ZpSHrAStWsnhsSyL2G4DienSh4o3F1D26n+o+nglSWN+QsKIyVjeKLcjioiIACEsWEXVhvPeDvDyVsOMHja39rfx2SpXcuQsr4/EEVOI6zeK8lf/Q+mCx6h4ayHJky4htscQvUZJRERcF7KCNfxlPxU+w8tjPZyarS1BOXae+CRSzriS+CGnUjr/IYoeu5WoDt1JmXIZUW06uR1PRESasJA1nRZxFh+f5lW5knrny2hL+mV/JP3yW3EqS/n679MpevrvBEoL3Y4mIiJNVMhWsF4d7yE9UVs30nBiuvajZefeVL69iLJFT7D3k1Ukjj6bxBNPx4qKdjueiIg0ISErWFEelStpeJbHQ8LQU4nrcyJlrz1N2eKnqHx7EckTLya29widzxIRkZDQfp00SnZcAilTLqPl7x/A17oDRU/8md13XU1N3lq3o4mISBOggiWNmq95a9Kn3Uj6lX/G1Faz+5+/oeg/d+Av2e12NBERacRUsKRJiOncixa/+xfNzv411Ws/YtefplG66Emcmmq3o4mISCMUFi97FgkFy/YQP/hkYnsPp3zJHMqXPkvlO6+SfOpFxPUdhWXr/2+IiEj90H9RpMmxY+JJnngxGdc9RHS74yh+6k6+/sevqdn0hdvRRESkkVDBkibLm5ZB2oUzaf6rOwHYffdvKXz8NvyFBS4nExGRSKeCJU1edIfjaXHVXTQ797fUbPqcgtsvpfSVx3Cqq9yOJiIiEUpnsEQAy7aJHzCG2J5DKV/2HOUrnqfy3ddIPuUC4gaMwbI9bkcUEZEIohUske+wo2NJnvAzMq57mOjOvSie/U++/tt0qtd/6nY0ERGJICpYIj/A26wFaedfQ/Pf/APL62PPvdew59Fb8O/Z4XY0ERGJACpYIgcRndOV5r/5B6nnX0Pd1vUU3H4ZJfMewtlb6XY0EREJYzqDJXIIlmUR13ckMd0HU/H6i5QvnUPVe0tJmvAz4geNx/LofJaIiBxIK1gih8mOiiFp7LlkzHyUmG4DKHnuHnb99Uqq137odjQREQkzKlgiR8iTnEbqub+lxW/vwY5LZM/9M9nz4A3U7drmdjQREQkTKlgiRymqTSea/+qvpF44k7qCLez6yxWUvHgfTmW529FERMRlOoMlcgwsyyKu1zBiuw2kfOVcypfMpvKDZSSNO4+EoadiefSPmIhIU6R/+4vUA8sXRdLos4gfOIayhU9QOvcBKla8QFz/k4jrPxpfiyy3I4qISAipYInUI09iM5qd/WsShk2iYvXLVLzxMuVLZhPV7jji+o8mrtdw7LgEt2OKiEgDs4wxpiEvUFZWRnJyMqWlpSQlJTXkpSJaUVERqampbseQemZqa9j7+TtUvreEmq8+Aq+X2OMHEz9gDNFdeh/RK3h0j8jh0H0ih6J7JDS0giXSgKyoaOL6jCCuzwgCpYVUfbCcyveXsOeB67GT04jvt28LMaOt21FFRKQeqWCJhIgnOY3Ek84kYdRU6rato/K9pVS8vZDyZc/ia9uF+AGjiet9InZ8ottRRUTkGGmLMExoybZpMv5a9n7xHlXvLaF6zftgeYjtPoi4/qOJye13wJR43SNyOHSfyKHoHgkNrWCJuMjyRhHXcyhxPYcSKCui6sMVVL23hMKHbsROakZc31HEDxiDr1WO21FFROQIqGCJhAlPUiqJI88g4cTTqdu+kar3llD13lIqVryAr00n6HYCgaET8CQkux1VREQOQVuEYUJLtvJDjL+O6i/fp/K9JVR/+R5YFjHdBhA/YAwxXftrkKn8D/27RA5F90ho6N/OImHM8vqI7XECsT1OoHBbHlGbPqHq/SUUPnwzdkIycX1HEdd/NFFZHdyOKiIi36GCJRIhrPgkEkdMIXHEFGp3bKLqvaVUfbCcipUv4ctsT9yA0cT1HYUnMcXtqCIiTZ62CMOElmzlUH7oHjEBP9VrP6TqvSXs/fxdMA4xXfsFtxC7DcTy+lxKK27Rv0vkUHSPhIZWsET+v717jY3qvNMA/rznnLnPeMb2GN9tbDAO5hoHA00CVRqIClnRKN1GjYK2VEFUqfpl1VXTT1spSlEjRUhVWaVNVFHUdNOsApumadIUsqGhzc0plxBKAYONcWwuY2yPPWYu57Ifzvh4JoaYZW2f4/Hzk0YTnznj+Q965Tz6v+95zywmZAW+JWvgW7IGWisjo9MAABJ2SURBVCKO60cOIfHRAfTveRqSPwTfXfeZVyHWLIQQwu5yiYjmDAYsogIhB4oQXLcFwXVbkOnrQqLdnEJMHH4NSkU9Aqs3wn/XfZDDpXaXSkRU8DhF6BBs2dJkbmeMGJqG5OkjGG0/iOsn3gM0Dd7Fd8HfthG+pWshXO5pqpbswr8lNBmOkZnBDhZRAROyDF9LG3wtbdBHhzF69F2MfnQA1/buhPAF4b/zy/Cv3gh3fTOnEImIphADFtEcIflDCN7zIIL3PIjM5YsYbT+I0fa3kXjvD1Dm1cK/egMCq+6HHInaXSoR0azHKUKHYMuWJjMdY8TQNaTOHkfiowO4/slfAVWFZ9FKBFZvhG/Z3RBuz5R+Hk0//i2hyXCMzAx2sIjmMCHJ8Da3wtvcCv16AtePvYtE+0Fc+/UzEF6/OYXYtgHuhhZOIRIR/R9MCFhnz57Ft771LcRiMYTDYfzqV7/CkiVL8s45dOgQNm3ahObmZuvY+++/D5/PN/0VE9G0kHwBBL60CYEvbYJ6tde8CrH9IBLvvwmlrBr+tvvhb9sApXie3aUSETnehID1ne98Bzt27MC2bdvwyiuvYNu2bWhvb5/wxubmZhw7dmxGiiSimaWUVSG8+V9Q9NWtSHV8gtH2gxg++DLib/4anqYV8LdtgG/5vZA8XrtLJSJyJCn3hytXruDjjz/G1q1bAQBf//rXcfHiRXR0dNhSHBHZS0gSvItWouSxf0PlUy+h+Jv/CkPTMPCbZ9H374/i2n/uQurcCRi6bnepRESOktfBunjxIiorK6Eo5mEhBOrq6tDd3Y2FCxfmvfHcuXNobW2FLMv49re/je9+97tf+EHxeDzvZ4/HA4+HC2iJZgvJ60dgzQMIrHkAav8lc/qw/SBGP/oT5NIKBNo2mFOIpRV2l0pEZLvbWuTe2tqKnp4ehMNh9PT0YPPmzYhGo3jkkUdu+p7a2tq8n3/wgx/gySefvJ2PL0gDAwN2l0AO56gxItzA6s1wt30VevdpqMffRfx/XkH8jy9Cql8MZfk6yE0rIYK88fRMc9Q4IUfiGJken78yMy9g1dbWoq+vD6qqQlEUGIaB7u5u1NXV5b0pd7uFmpoaPProozh8+PAXBqyLFy/mvY8drIl42SxNxpFjpDQK3HkP9FQS1z/5C0bbDyL1+guAYUApr4OnaYX5WLgccoBbtcwER44TchSOkemXF7DmzZuH1tZWvPjii9i2bRv27duHmpqaCdODfX19KC8vhyRJGB4exuuvv47HH3/8Cz+oqKiI+2ARFTDJ40WgbQMCbRugxa8h1fEJUmePI/WPvyHxl98DAFxVjeOBa8EySL6AzVUTEU2PCRuNnj59Gtu2bUN/fz+KioqwZ88eLFu2DNu3b8eWLVuwZcsW7N69G8899xwURYGqqvjGN76BH/3oRzfcJ4cbjd4abvxGk5nNY0QduGqGrY7jSJ09Dm3gCiAkuGoWwNO0Et6mFXA3LoHk4VYv/1+zeZzQzOAYmRncyd0hOOBpMoUyRgzDgNZ/CamO40ieNQOXHr8GSDLc9c3wLFwOT9NKeOYv5k7yt6FQxglNH46RmcGd3IloRgkhoEQroUQrEVj7VRiGAfVKj9XhSrz3JoYP/BZQXPDMXwzPQnNK0V3fDKG47C6fiOiWMGARka2EEHCV18JVXovgvf8EQ9ehXrpgdbeG//zfiP/x1xBuD9wNS7IL5lfAXdsEIct2l09EdEMMWETkKEKS4KpqgKuqAaEvPwRD15D57LzZ4Tp7HMMHfov463sgPH54Fiy1Fs27qhohJGnyDyAimgEMWETkaEKS4a5tgru2CaGv/DMMTUW6+0z2KsVjGHpjL5BJQ/iD8CxcDm92SlGpqOcNqonINgxYRDSrCFmBp6EFnoYWYOM3YahppC+cRvLMMaQ6PsHg714ANBVSMJJdMJ8NXGXVDFxENGMYsIhoVhOKG54Fy+BZsAwAoKeTSHf+3exwnTmGwX3/Aeg65HAUnqbl1qJ53tKHiKYTAxYRFRTJ7YW3uRXe5lbgQUBPjiJ1/lNrDdfo394BDANySbnV3fIuXAE5ErW7dCIqIAxYRFTQJK8fvpbV8LWsBgDoo8NIdZywNj0d/fBPAAClrDobuFaat/UJ8T6KRHT7GLCIaE6R/CH4lt8N3/K7AQDayGB2OnFsH643AABK5Xx4x9ZwLVgOKRCys2wimmUYsIhoTpODEfhXrod/5XoAgDbUj9TZ40h2HMf1v3+EkcOvAULAVd1odbc8C5ZC8vI+ikR0cwxYREQ55HAp/Ku+Av+qrwAA1GuXrfVb14/8GSPv7AMkCe7aRWbYWrQS7oYWSG6vzZUTkZMwYBERfQGlpBzKmgcQWPOAeVufWK8VuBIf/gnDb/8XICvmfRTHOlzzF0O43HaXTkQ2YsAiIrpFQgi4yqrhKqtG8O7NZuC63D0euA6/huG3fgNIEpR5NXBVmjvSu6ob4apqgByOci8uojmCAYuI6DYJIeCqqIeroh7BdVtg6DoyvZ1Id59Gpvc8Mr2dSJ5qh5EcBWAusDdvA9Ro3Q7IVVEP4fbY/E2IaKoxYBERTREhSXDXLIC7ZoF1zDAMaNcuI9PXicxn46Fr5PDvAMMAhASlrNrqco0FMDnCbhfRbMaARUQ0jYQQUEoroJRWwLf0S9ZxPZWEeukC0tlOV+az80ie+hhGMmG+zx+Eq7IB7pwpRqWinovpiWYJBiwiIhtIHi/c9c1w1zdbxwzDgDZwxQxcvZ3I9J5H8vQRjPzl9zndrqr8KcbqRsiRMna7iByGAYuIyCGEEOZViyXl8C1dax3X02a3a2yKMd3bieQ7R2BcHzHf5wtagUsNlyPdtBRKJbtdRHZiwCIicjjJ7YW7rhnuus91uwZj1mL6zGfnkTp9FOrVHlwxDEAIKNGqvKsYXVWNkIvnsdtFNAMYsIiIZiEhBJTiMijFZfAtWWMd77/ch1Bq2JpizPR2YvjQfhij2W6XN5CzmD57RWPlfEgedruIphIDFhFRAREuD9zllXDXLbKOGYYBbShmdboyvZ3mvl1//QNg6PndrpxtJOSScna7iG4TAxYRUYETQkCJlEGJlMHXsto6bqRTyFzuzltUP/LnV6GPDpvv8/rhqpxvTjFWZqcaK+dD8vjs+ipEswYDFhHRHCXcHrhrm+CubbKOGYYBfagf6ZwpxlTHCSTeewPQdQCAHK2Eu6pxYrdLkuz6KkSOw4BFREQWIQTkSBS+SBS+ljbruJFJm92u7BRjprcTI4dfg56Im+/z+OGqmg9XZQOUsirzUVoJpbSSO9XTnMSARUREkxIuN9w1C+GuWWgdMwwDevyaFbjSveeR7jyJ0faDMDIp6zwpXAolmg1c0dxHFSR/yI6vQzTtGLCIiOi2CCEgh0shh0vhXbzKOj4WvNT+PqhXe83nWB8yly4gefIDq+sFmDvWm8GrygpdStTsfElFJZx2pFmLAYuIiKZUbvDyNC6d8Lo+OmKFLjXWm330Id15EtpgbPxEl9u8zVBe96sKcrQSSkk5hMz/hZFzcXQSEdGMkvxBuP35i+vHGJk01P5LVuhS+/ugxfqQ/PtHUK9dBjQ1+0skyMXz8oKXEq00w1dpFff1ItsxYBERkWMIlxuuijq4KuomvGboGrSBqzndrz5osV6ku/6B0b+9AyN13TpXChWPB69sCJPH1n0Firi/F007BiwiIpoVhCSbU4alFcCiO/NeMwwD+shQ3pSj1t8H9epnSJ5qhz4yNP57vH5rndd45yv7HI5y3RdNCQYsIiKa9YQQkEMRyKEIPA0tE17XkwmosUvWlONYCBs9cshc92WYe3xBdmXXfWW7XrlTkKXlEIp7hr8ZzVYMWEREVPAkbwDumgVw1yyY8JqhpqH2X84JX+bar+Q/jkC9dglQM+aJQkCOlFndL9m68tF8SN7ADH8rcjIGLCIimtOE4oarvBau8toJrxm6Dm2oH2qsNzvlaG47ke7pgHrsMIxkwjpXCoQhl5ZDjkQhh7OPSCnkcBRKpAxyuJSbrs4hDFhEREQ3ISQJSnEZlOIyoGlF3muGYUBPxMfXe8V6oQ5cgTYYQ6rjE2iDMRjXR/LeI/lD5hYWkbJsECsdD2TZn4UvyEX4BYABi4iI6DYIISAHw5CDYWD+HTc8R08loQ3FoA3Gcp77oQ3GkO7pgHbyA+jDg4BhjP9etycncOWEsGwXTI5EIQUjXIzvcAxYRERE00TyeCHNq4FrXs1NzzE0FVr82g1DmNrfh9T5T6EN9Y/vAQYAkmxt5prfARuflpTDpRCKawa+Jd0IAxYREZGNhKxAKZ4HpXjeTc8xdB16Ig5t8KoVvnI7Y5neLmhDsby9wABACkZypiLNDpjq8iFZXW+FMsnjm+6vOCcxYBERETmckCRrGwrcYAf8MXoyYYYuqws2HsjSXaegDcagJ4YQy/3dXv/nFuZPXBvGzVn/7xiwiIiICoTkDUCqCMBVUX/Tc/qvXEJYMj63Nqwf2lAM6uVupM4cgRa/Buj6+JsU103DlzUtGSqBkOUZ+JazAwMWERHRHCIUN5SSEijRypueY+ga9OHBG6wLuwp1MIZM9xmoQzEgk875xRKkQBHkUARSqDjnuRhSMGwdk0PFkEKRgr9Zd2F/u1kilUrhmWeewVNPPQWPh3uk0EQcI3QrOE5oMrc6RkTOInqg+YbnGIYBY3QE6tBVqwOmDw9AGx6EPjwAdTAG/eJZaMODE7arAMwtK/KCWE4Is4JZNpAJ1+zbQV8YRs61odMgHo8jHA5jaGgIRUVF0/lRsxb/jWgyHCN0KzhOaDJ2jRFDTUMbHjID2Mig2R0bHrjhsz4az9u2AsiuExsLXMHPd8jyn52yaJ8dLCIiIppWQnGbm7UWl016rqFp0EcGrU6YNjwIfWSsM2YGMTXWB21kwLyJd+5aMZj7iEnBSF4HbMJzIGxOW/pD07afGAMWEREROYaQc6cnv5ih69BH41/YEUtfPGsFtry9xIDsurGQFbjkYBhSoMgMX4Hsz9n/loJFkIPhW77h97QHrLEZyHg8Pt0fNWuN/dvw34huhmOEbgXHCU2mMMeIBARKzEeFeURgYsAxDAPG9RFoI0PQR+LQE0PQEnHzdkeJuBnUBgagf3bB3HMsEQcymQmfJjy+bCgrghwIQ/hDkIJFiDy4DaFQyNrOYtrXYPX09KC2duINNImIiIgKSe7atmkPWLquo7e3Ny/VERERERWaGe1gEREREc01vBU3ERER0RRjwCIiIiKaYgxYNksmk3jooYewaNEirFixAhs3bkRHR4fdZZED7dmzB0IIvPrqq3aXQg6USqXwve99D01NTVi2bBm2bt1qd0nkMG+88QZaW1uxcuVKLF26FHv37rW7pILGfbAcYMeOHdi0aROEENi9eze2b9+OQ4cO2V0WOUhXVxdeeOEFrF271u5SyKF++MMfQgiBM2fOQAiBS5cu2V0SOYhhGNi6dSsOHTqE5cuXo6urC3fccQcefvhhhEIhu8srSOxg2czr9WLz5s3WVQdr165FV1eXvUWRo+i6ju3bt+NnP/sZ7y9HN5RIJPDLX/4SP/7xj62/JRUVFTZXRU4jhMDg4CAAcx+s0tJS/k2ZRgxYDvPTn/4UX/va1+wugxxk165duOeee3DXXXfZXQo51Llz51BSUoKdO3di1apVWLduHd5++227yyIHEULg5ZdfxsMPP4z6+nrce++92Lt3L9zu2XcT5dmCU4QOsnPnTnR0dPAPI1k+/fRT7Nu3D++++67dpZCDqaqKCxcuoKWlBT/5yU9w9OhRbNy4ESdPnkR5ebnd5ZEDqKqKp59+Gvv378f69evR3t6OLVu24MSJE4hGo3aXV5DYwXKIZ599Fvv378ebb74Jv99vdznkEIcPH0ZXVxeampowf/58fPDBB9ixYweee+45u0sjB6mrq4MkSXjssccAAHfeeScaGhpw4sQJmysjpzh27Bh6e3uxfv16AEBbWxtqampw9OhRmysrXAxYDrBr1y689NJLOHDgACKRiN3lkIM88cQT6OvrQ1dXF7q6urB27Vo8//zzeOKJJ+wujRwkGo3i/vvvx1tvvQUA6OzsRGdnJxYvXmxzZeQUtbW16Ovrw6lTpwAAHR0dOHfuHJqbm22urHBxitBmPT09+P73v4/Gxkbcd999AACPx4MPP/zQ5sqIaDb5+c9/jscffxxPPvkkJEnCL37xC1RXV9tdFjlEeXk5nn/+eTzyyCOQJAm6rmP37t2oq6uzu7SCxVvlEBEREU0xThESERERTTEGLCIiIqIpxoBFRERENMX+F0Jkc0gRqQqjAAAAAElFTkSuQmCC\" />"
      ]
     },
     "execution_count": 23,
     "metadata": {},
     "output_type": "execute_result"
    }
   ],
   "source": [
    "plot(K, u_crra_prime_inv.(Ψ * getvalue(θ), getvalue(γ)))\n",
    "plot!(K, Ψ * getvalue(θ))"
   ]
  },
  {
   "cell_type": "code",
   "execution_count": 24,
   "metadata": {},
   "outputs": [
    {
     "data": {
      "text/html": [
       "0"
      ],
      "text/plain": [
       "0"
      ]
     },
     "execution_count": 24,
     "metadata": {},
     "output_type": "execute_result"
    }
   ],
   "source": [
    "sum(u_crra_prime_inv.(Φprime * getvalue(θ), getvalue(γ)) .< 0)"
   ]
  },
  {
   "cell_type": "code",
   "execution_count": 25,
   "metadata": {},
   "outputs": [
    {
     "data": {
      "text/plain": [
       "12-element Array{Float64,1}:\n",
       " 2.20904 \n",
       " 1.70779 \n",
       " 1.2014  \n",
       " 0.804542\n",
       " 0.617241\n",
       " 0.494258\n",
       " 0.410058\n",
       " 0.350284\n",
       " 0.304964\n",
       " 0.269469\n",
       " 0.249809\n",
       " 0.240945"
      ]
     },
     "execution_count": 25,
     "metadata": {},
     "output_type": "execute_result"
    }
   ],
   "source": [
    "Ψ * getvalue(θ)"
   ]
  },
  {
   "cell_type": "code",
   "execution_count": 26,
   "metadata": {},
   "outputs": [
    {
     "data": {
      "text/plain": [
       "12-element Array{Float64,1}:\n",
       " 0.776566\n",
       " 0.854162\n",
       " 0.974864\n",
       " 1.14039 \n",
       " 1.26599 \n",
       " 1.38403 \n",
       " 1.49274 \n",
       " 1.59159 \n",
       " 1.68439 \n",
       " 1.7722  \n",
       " 1.82837 \n",
       " 1.85582 "
      ]
     },
     "execution_count": 26,
     "metadata": {},
     "output_type": "execute_result"
    }
   ],
   "source": [
    "getvalue(modelC)"
   ]
  },
  {
   "cell_type": "code",
   "execution_count": 27,
   "metadata": {},
   "outputs": [
    {
     "data": {
      "text/plain": [
       "12-element Array{Float64,1}:\n",
       " 1.08689\n",
       " 1.38781\n",
       " 1.9878 \n",
       " 2.8553 \n",
       " 3.7318 \n",
       " 4.59739\n",
       " 5.45984\n",
       " 6.32309\n",
       " 7.18546\n",
       " 8.04731\n",
       " 8.62172\n",
       " 8.90888"
      ]
     },
     "execution_count": 27,
     "metadata": {},
     "output_type": "execute_result"
    }
   ],
   "source": [
    "getvalue(modelKprime)"
   ]
  },
  {
   "cell_type": "code",
   "execution_count": null,
   "metadata": {},
   "outputs": [],
   "source": []
  },
  {
   "cell_type": "code",
   "execution_count": null,
   "metadata": {},
   "outputs": [],
   "source": []
  }
 ],
 "metadata": {
  "kernelspec": {
   "display_name": "Julia 0.6.0",
   "language": "julia",
   "name": "julia-0.6"
  },
  "language_info": {
   "file_extension": ".jl",
   "mimetype": "application/julia",
   "name": "julia",
   "version": "0.6.0"
  }
 },
 "nbformat": 4,
 "nbformat_minor": 2
}
