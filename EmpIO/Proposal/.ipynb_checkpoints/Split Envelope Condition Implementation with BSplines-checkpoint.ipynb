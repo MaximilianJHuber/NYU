{
 "cells": [
  {
   "cell_type": "markdown",
   "metadata": {},
   "source": [
    "In this exercise I solve a deterministic growth model using simulated data generated from an economy with parameters $\\beta = 0.95$, $\\alpha = 0.3$, $A = 1.0$, $\\delta = 0.05$, $\\gamma = 2.0$. I initiate the variables of the mathematical program at the true values, which should make the optimization easy."
   ]
  },
  {
   "cell_type": "code",
   "execution_count": 1,
   "metadata": {
    "scrolled": false
   },
   "outputs": [
    {
     "name": "stderr",
     "output_type": "stream",
     "text": [
      "WARNING: Method definition ==(Base.Nullable{S}, Base.Nullable{T}) in module Base at nullable.jl:238 overwritten in module NullableArrays at /home/juser/.julia/v0.6/NullableArrays/src/operators.jl:99.\n",
      "WARNING: Compat.AsyncCondition is deprecated, use Base.AsyncCondition instead.\n",
      "  likely near In[1]:2\n",
      "WARNING: Compat.AsyncCondition is deprecated, use Base.AsyncCondition instead.\n",
      "  likely near In[1]:2\n"
     ]
    },
    {
     "data": {
      "text/html": [
       "<img src=\"data:image/png;base64,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\" />"
      ]
     },
     "execution_count": 1,
     "metadata": {},
     "output_type": "execute_result"
    }
   ],
   "source": [
    "using CSV\n",
    "using Plots; pyplot()\n",
    "\n",
    "df = CSV.read(\"data.csv\"; header=false, types=[Float64, Float64])\n",
    "dataK = convert(Vector{Float64}, df[1])\n",
    "dataC = convert(Vector{Float64}, df[2])\n",
    "\n",
    "plot(dataK, label=\"capital\")\n",
    "plot!(dataC, label=\"consumption\")"
   ]
  },
  {
   "cell_type": "markdown",
   "metadata": {},
   "source": [
    "The economy's steady state for capital is:"
   ]
  },
  {
   "cell_type": "code",
   "execution_count": 2,
   "metadata": {},
   "outputs": [],
   "source": [
    "k_stst = 4.628988089138438;"
   ]
  },
  {
   "cell_type": "markdown",
   "metadata": {},
   "source": [
    "# The Mathematical Program\n",
    "I define the needed function related to utility and production:"
   ]
  },
  {
   "cell_type": "code",
   "execution_count": 3,
   "metadata": {},
   "outputs": [
    {
     "data": {
      "text/plain": [
       "f_prime (generic function with 1 method)"
      ]
     },
     "execution_count": 3,
     "metadata": {},
     "output_type": "execute_result"
    }
   ],
   "source": [
    "u_crra_prime(c, γ) = begin\n",
    "    return c^-γ\n",
    "end\n",
    "\n",
    "u_crra(c, γ) = begin\n",
    "    return c^(1-γ) / (1-γ)\n",
    "end\n",
    "\n",
    "u_crra_prime_inv(u, γ) = begin\n",
    "    return u^(-1/γ) \n",
    "end\n",
    "\n",
    "function f(k, α, A)\n",
    "    A*k^α\n",
    "end\n",
    "\n",
    "function f_prime(k, α, A)\n",
    "    A*α*k^(α-1)\n",
    "end"
   ]
  },
  {
   "cell_type": "code",
   "execution_count": 4,
   "metadata": {},
   "outputs": [
    {
     "data": {
      "text/plain": [
       "f_prime (generic function with 1 method)"
      ]
     },
     "execution_count": 4,
     "metadata": {},
     "output_type": "execute_result"
    }
   ],
   "source": [
    "u_crra_prime(c, γ) = begin\n",
    "    if (c <= 0)\n",
    "        return -100.\n",
    "        else\n",
    "        return c^-γ\n",
    "    end\n",
    "end\n",
    "\n",
    "u_crra_prime_inv(u, γ) = begin\n",
    "    if (u <= 0)\n",
    "        return +100.\n",
    "    else\n",
    "        return u^(-1/γ) \n",
    "    end\n",
    "end\n",
    "\n",
    "function f(k, α, A)\n",
    "    if (k <= 0)\n",
    "        return zero(k)\n",
    "    else\n",
    "        A*k^α\n",
    "    end\n",
    "end\n",
    "\n",
    "function f_prime(k, α, A)\n",
    "    if (k <= 0)\n",
    "        return zero(k)\n",
    "    else\n",
    "        A*α*k^(α-1)\n",
    "    end\n",
    "end"
   ]
  },
  {
   "cell_type": "markdown",
   "metadata": {},
   "source": [
    "I use the Julia Mathematical Programming languange JuMP and the IpOpt solver:"
   ]
  },
  {
   "cell_type": "code",
   "execution_count": 5,
   "metadata": {},
   "outputs": [],
   "source": [
    "using JuMP\n",
    "using Ipopt\n",
    "\n",
    "#m = Model(solver=IpoptSolver(print_level=5, max_iter=500, mu_strategy=\"adaptive\", mu_oracle=\"probing\"));\n",
    "#m = Model(solver=IpoptSolver(print_level=5, max_iter=500, mu_strategy=\"adaptive\", mu_oracle=\"probing\", corrector_type=\"affine\"));\n",
    "m = Model(solver=IpoptSolver(print_level=5, max_iter=600));"
   ]
  },
  {
   "cell_type": "markdown",
   "metadata": {},
   "source": [
    "I define the deep parameters variables and give the the correct starting values:"
   ]
  },
  {
   "cell_type": "code",
   "execution_count": 6,
   "metadata": {},
   "outputs": [],
   "source": [
    "@variable(m, 0 <= β <= 1, start = 0.95)\n",
    "@variable(m, 0 <= δ <= 1, start = 0.05)\n",
    "@variable(m, 0 <= α <= 1, start = 0.3)\n",
    "@variable(m, A >= 0, start = 1)\n",
    "@variable(m, 100 >= γ >= 1, start = 2);"
   ]
  },
  {
   "cell_type": "markdown",
   "metadata": {},
   "source": [
    "The policy function is approximated by 10 Chebyshev polynomials on a grid around the steady state for capital, the coefficients on the polynomials are $\\theta$:"
   ]
  },
  {
   "cell_type": "markdown",
   "metadata": {},
   "source": [
    "I define a grid on capital, $K$, with 10 nodes, and evaluate the Chebyshev polynomials at those point into $\\Psi$ and at the observed data points into $\\Phi$:"
   ]
  },
  {
   "cell_type": "code",
   "execution_count": 7,
   "metadata": {},
   "outputs": [],
   "source": [
    "using BasisMatrices\n",
    "global const params = SplineParams(linspace(0.2*k_stst, 2*k_stst, 10), 0, 3)\n",
    "basis = Basis(params)\n",
    "K = nodes(basis)[1] #grid\n",
    "Ψ = BasisMatrix(basis, Expanded(), K).vals[1]\n",
    "Ψprime = BasisMatrix(basis, Expanded(), K, 1).vals[1]\n",
    "Ψprimeprime = BasisMatrix(basis, Expanded(), K, 2).vals[1]\n",
    "#Ψprimeprimeprime = BasisMatrix(basis, Expanded(), K, 3).vals[1]\n",
    "Φ = BasisMatrix(basis, Expanded(), dataK).vals[1]\n",
    "Φprime = BasisMatrix(basis, Expanded(), dataK, 1).vals[1];"
   ]
  },
  {
   "cell_type": "code",
   "execution_count": 8,
   "metadata": {},
   "outputs": [],
   "source": [
    "@variable(m, θ[1:length(K)], start = 0);"
   ]
  },
  {
   "cell_type": "markdown",
   "metadata": {},
   "source": [
    "And I initialize $\\theta$ such that the consumer myopically consumes almost everything available, leaving just $0.5$ capital for the next period:"
   ]
  },
  {
   "cell_type": "code",
   "execution_count": 9,
   "metadata": {},
   "outputs": [],
   "source": [
    "initial_θ = Ψ \\ (u_crra.((f.(K, getvalue(α), getvalue(A)) + (1-getvalue(δ))*K - 1.), getvalue(γ)) .* \n",
    "    (f_prime(1, getvalue(α), getvalue(A)) + 1-getvalue(δ)))\n",
    "#b2 = Basis(ChebParams(10, 0.2*k_stst, 2*k_stst))\n",
    "#K2 = nodes(b2)[1] #grid\n",
    "#Ψ2 = BasisMatrix(basis, Expanded(), K2).vals[1]\n",
    "#θ2 = Ψ2 \\ [0.731039, 0.830067, 0.984055, 1.15697 , 1.32812 , 1.48555 , 1.62093 , 1.72778 , 1.80161 , 1.8393]\n",
    "\n",
    "#BasisMatrix(basis, Expanded(), K).vals[1] * θ2\n",
    "#initial_θ = Ψ \\ u_crra.(, getvalue(γ)\n",
    "##stop\n",
    "\n",
    "\n",
    "for i in 1:length(K)\n",
    "    setvalue(θ[i], initial_θ[i])\n",
    "end"
   ]
  },
  {
   "cell_type": "markdown",
   "metadata": {},
   "source": [
    "In the equilibrium constraint the polynomials have to be evaluated also outside the grid, I define this function here:"
   ]
  },
  {
   "cell_type": "code",
   "execution_count": 10,
   "metadata": {
    "scrolled": false
   },
   "outputs": [
    {
     "data": {
      "text/plain": [
       "interpVprime (generic function with 1 method)"
      ]
     },
     "execution_count": 10,
     "metadata": {},
     "output_type": "execute_result"
    }
   ],
   "source": [
    "function interpVprime(x, values...) #x is the point of evaluation, values are on the grid\n",
    "    return (evalbase(params, [x], 1) * collect(values))[1] #evaluates the first derivative of the basis functions\n",
    "end"
   ]
  },
  {
   "cell_type": "markdown",
   "metadata": {},
   "source": [
    "I register all user-defined functions with JuMP for automatic differentiation:"
   ]
  },
  {
   "cell_type": "code",
   "execution_count": 11,
   "metadata": {},
   "outputs": [],
   "source": [
    "JuMP.register(m, :interpVprime, 1+length(K), interpVprime, autodiff=true)\n",
    "JuMP.register(m, :u_crra_prime, 2, u_crra_prime, autodiff=true)\n",
    "JuMP.register(m, :f, 3, f, autodiff=true)\n",
    "JuMP.register(m, :f_prime, 3, f_prime, autodiff=true)\n",
    "JuMP.register(m, :u_crra_prime_inv, 2, u_crra_prime_inv, autodiff=true)"
   ]
  },
  {
   "cell_type": "markdown",
   "metadata": {},
   "source": [
    "The auxiliary and equilibrium constraints are all defined on the grid with 10 nodes:"
   ]
  },
  {
   "cell_type": "code",
   "execution_count": 12,
   "metadata": {},
   "outputs": [],
   "source": [
    "@variable(m, modelC[i=1:length(K)] >= 0, start = 1)\n",
    "@variable(m, modelKprime[i=1:length(K)] >= 0, start = 1)\n",
    "@variable(m, modelCprime[i=1:length(K)] >= 0, start = 1)\n",
    "\n",
    "for i in 1:length(K)\n",
    "    setvalue(modelC[i], u_crra_prime_inv(\n",
    "            (Ψprime[i, :]' * getvalue(θ))/(f_prime(K[i], getvalue(α), getvalue(A)) + 1-getvalue(δ)), getvalue(γ)))\n",
    "    setvalue(modelKprime[i], f(K[i], getvalue(α), getvalue(A)) + (1-getvalue(δ))*K[i] - getvalue(modelC[i]))\n",
    "    setvalue(modelCprime[i], u_crra_prime_inv(interpVprime(\n",
    "            getvalue(modelKprime[i]), getvalue(θ)...)/(f_prime(getvalue(modelKprime[i]), getvalue(α), getvalue(A)) + 1-getvalue(δ)), \n",
    "            getvalue(γ)))\n",
    "end"
   ]
  },
  {
   "cell_type": "code",
   "execution_count": 13,
   "metadata": {},
   "outputs": [],
   "source": [
    "##EE in consumption:\n",
    "@NLconstraint(m, cons_today[i=1:length(K)], modelC[i] == u_crra_prime_inv(sum(Ψprime[i, k] * θ[k] for k in 1:length(K)) / \n",
    "            (f_prime(modelKprime[i], α, A) + 1-δ), γ))\n",
    "@NLconstraint(m, capi_tomor[i=1:length(K)], modelKprime[i] == f(K[i], α, A) + (1-δ)*K[i] - modelC[i])\n",
    "@NLconstraint(m, cons_tomor[i=1:length(K)], modelCprime[i] == u_crra_prime_inv(interpVprime(modelKprime[i], \n",
    "            θ[1], θ[2], θ[3], θ[4], θ[5], θ[6], θ[7], θ[8], θ[9], θ[10], θ[11], θ[12]) / \n",
    "            (f_prime(modelKprime[i], α, A) + 1-δ), γ))\n",
    "\n",
    "@NLconstraint(m, increasing[i=1:length(K)], sum(Ψprime[i, k] * θ[k] for k in 1:length(K)) >= 0)\n",
    "@NLconstraint(m, concave[i=1:length(K)], sum(Ψprimeprime[i, k] * θ[k] for k in 1:length(K)) <= 0)\n",
    "#@NLconstraint(m, convex[i=1:length(K)], sum(Ψprimeprimeprime[i, k] * θ[k] for k in 1:length(K)) >= 0)\n",
    "\n",
    "@NLconstraint(m, EE[i=1:length(K)], u_crra_prime(modelC[i], γ) == \n",
    "    β * u_crra_prime(modelCprime[i], γ) * (f_prime(modelKprime[i], α, A) + 1-δ));"
   ]
  },
  {
   "cell_type": "code",
   "execution_count": 14,
   "metadata": {},
   "outputs": [
    {
     "data": {
      "text/plain": [
       "12-element Array{Float64,1}:\n",
       " -0.0179402\n",
       " -0.149752 \n",
       " -1.00465  \n",
       " -1.5037   \n",
       " -2.51405  \n",
       " -3.08405  \n",
       " -3.88349  \n",
       " -4.55795  \n",
       " -5.31418  \n",
       " -6.09023  \n",
       " -6.60798  \n",
       " -6.8609   "
      ]
     },
     "execution_count": 14,
     "metadata": {},
     "output_type": "execute_result"
    }
   ],
   "source": [
    "u_crra_prime_inv.(u_crra_prime.(getvalue(modelCprime), getvalue(γ)) .* (f_prime.(getvalue(modelKprime), getvalue(α), getvalue(A)) + 1-getvalue(δ)), getvalue(γ)) .- getvalue(modelC)"
   ]
  },
  {
   "cell_type": "code",
   "execution_count": 15,
   "metadata": {},
   "outputs": [
    {
     "data": {
      "text/plain": [
       "12-element Array{Float64,1}:\n",
       " 0.818921\n",
       " 1.06131 \n",
       " 1.85655 \n",
       " 2.62193 \n",
       " 3.62771 \n",
       " 4.43365 \n",
       " 5.33396 \n",
       " 6.17516 \n",
       " 7.03204 \n",
       " 7.87515 \n",
       " 8.43679 \n",
       " 8.71419 "
      ]
     },
     "execution_count": 15,
     "metadata": {},
     "output_type": "execute_result"
    }
   ],
   "source": [
    "getvalue(modelC)"
   ]
  },
  {
   "cell_type": "markdown",
   "metadata": {},
   "source": [
    "I define auxiliary expressions for the predictions of the equilibrium conditions:"
   ]
  },
  {
   "cell_type": "code",
   "execution_count": 16,
   "metadata": {},
   "outputs": [],
   "source": [
    "@NLexpression(m, predictedK[t=2:100], f(dataK[t-1], α, A) + (1-δ)*dataK[t-1] - dataC[t-1])\n",
    "@NLexpression(m, predictedC[t=1:100], u_crra_prime_inv(sum(Φprime[t, k] * θ[k] for k in 1:length(K)), γ));"
   ]
  },
  {
   "cell_type": "markdown",
   "metadata": {},
   "source": [
    "The objective is to minimize the sum of squared errors:"
   ]
  },
  {
   "cell_type": "code",
   "execution_count": 17,
   "metadata": {},
   "outputs": [],
   "source": [
    "@NLobjective(m, Min, sum((dataC[t] - predictedC[t])^2 for t in 1:100) +\n",
    "    sum((dataK[t] - predictedK[t])^2 for t in 2:100))"
   ]
  },
  {
   "cell_type": "code",
   "execution_count": 18,
   "metadata": {
    "scrolled": true
   },
   "outputs": [
    {
     "name": "stdout",
     "output_type": "stream",
     "text": [
      "\n",
      "******************************************************************************\n",
      "This program contains Ipopt, a library for large-scale nonlinear optimization.\n",
      " Ipopt is released as open source code under the Eclipse Public License (EPL).\n",
      "         For more information visit http://projects.coin-or.org/Ipopt\n",
      "******************************************************************************\n",
      "\n",
      "This is Ipopt version 3.12.1, running with linear solver mumps.\n",
      "NOTE: Other linear solvers might be more efficient (see Ipopt documentation).\n",
      "\n",
      "Number of nonzeros in equality constraint Jacobian...:      588\n",
      "Number of nonzeros in inequality constraint Jacobian.:      288\n",
      "Number of nonzeros in Lagrangian Hessian.............:        0\n",
      "\n",
      "Total number of variables............................:       53\n",
      "                     variables with only lower bounds:       37\n",
      "                variables with lower and upper bounds:        4\n",
      "                     variables with only upper bounds:        0\n",
      "Total number of equality constraints.................:       48\n",
      "Total number of inequality constraints...............:       24\n",
      "        inequality constraints with only lower bounds:       12\n",
      "   inequality constraints with lower and upper bounds:        0\n",
      "        inequality constraints with only upper bounds:       12\n",
      "\n",
      "iter    objective    inf_pr   inf_du lg(mu)  ||d||  lg(rg) alpha_du alpha_pr  ls\n",
      "   0  6.9346968e+02 1.02e+00 1.54e+00   0.0 0.00e+00    -  0.00e+00 0.00e+00   0\n",
      "   1  6.6478426e+02 1.07e+00 9.13e+00  -5.5 8.09e-01    -  1.16e-01 6.50e-02H  1\n",
      "   2  6.6526443e+02 1.08e+00 5.51e+02  -1.1 1.27e+00    -  9.72e-02 5.33e-04H  1\n",
      "   3  6.0850731e+02 1.79e+00 2.11e+03   0.4 5.17e+00    -  7.34e-01 2.63e-01f  1\n",
      "   4  1.0098640e+03 1.88e+00 3.28e+03   1.2 1.08e+01    -  1.00e+00 1.68e-01f  1\n",
      "   5  1.7244160e+03 1.94e+00 6.78e+03   1.1 3.98e+00    -  4.49e-01 1.00e+00f  1\n",
      "   6  7.2893101e+03 3.44e+00 3.38e+04   1.1 6.70e+00    -  1.00e+00 1.00e+00f  1\n",
      "   7  6.7353891e+03 2.97e+00 2.70e+04   1.1 4.76e+00    -  1.00e+00 1.35e-01h  1\n",
      "   8  4.4472113e+03 8.99e+00 1.15e+04   1.1 3.90e+00    -  8.54e-01 1.00e+00f  1\n",
      "   9  7.3271526e+02 4.53e+00 1.09e+04   1.1 1.09e+01    -  2.11e-01 1.00e+00h  1\n",
      "iter    objective    inf_pr   inf_du lg(mu)  ||d||  lg(rg) alpha_du alpha_pr  ls\n",
      "  10  1.2339563e+03 1.66e+00 1.03e+04   1.1 5.79e+00    -  7.11e-01 1.00e+00f  1\n",
      "  11  1.2138165e+03 1.44e+00 2.02e+04   1.1 3.58e+00    -  8.40e-01 1.24e-01h  1\n",
      "  12  1.3911581e+03 9.69e-01 1.58e+04   1.1 4.09e+00    -  1.00e+00 3.51e-01h  1\n",
      "  13  1.1445120e+03 9.08e-01 2.83e+04   1.1 9.50e+00    -  6.27e-01 7.83e-02h  1\n",
      "  14  5.8859593e+02 9.68e-01 8.27e+04   1.1 1.95e+01    -  7.16e-01 1.08e-01h  3\n",
      "  15  2.3330569e+03 1.42e+00 3.54e+05   0.7 8.58e+00    -  5.07e-01 8.74e-01H  1\n",
      "  16  2.6484121e+03 1.37e+00 3.93e+05   0.8 7.23e+01    -  1.02e-03 1.02e-02h  1\n",
      "  17  2.9181301e+03 1.36e+00 6.13e+05   0.8 3.87e+02    -  2.70e-02 1.48e-03h  1\n",
      "  18  3.9690925e+03 1.22e+00 6.98e+05   0.8 1.39e+03    -  1.64e-03 1.43e-03h  1\n",
      "  19  1.8757125e+03 7.82e-01 2.91e+06   0.8 3.78e+02    -  5.17e-02 1.15e-02h  2\n",
      "iter    objective    inf_pr   inf_du lg(mu)  ||d||  lg(rg) alpha_du alpha_pr  ls\n",
      "  20  1.1751940e+03 6.73e-01 2.14e+07   1.1 6.44e+01    -  1.00e+00 3.11e-02h  1\n",
      "  21  1.1716470e+03 6.73e-01 2.60e+07   1.7 3.95e+01    -  3.79e-01 2.95e-04h  1\n",
      "  22  1.1634610e+03 6.72e-01 1.65e+07   3.5 7.37e+01    -  3.74e-06 4.13e-04f  1\n",
      "  23  3.9041638e+02 8.70e-01 4.44e+08   2.6 7.44e+01    -  1.00e+00 4.99e-02f  2\n",
      "  24  3.3598024e+02 8.60e-01 4.44e+08   3.5 1.73e+01    -  1.03e-01 1.77e-02f  5\n",
      "  25  2.9075659e+02 8.50e-01 8.66e+08   3.5 1.64e+01    -  1.00e+00 1.78e-02h  5\n",
      "  26  2.7251241e+02 8.43e-01 5.12e+08   3.5 1.66e+01    -  3.85e-01 8.46e-03f  6\n",
      "  27  2.5201712e+02 8.35e-01 8.42e+08   3.5 1.85e+01    -  1.64e-01 1.04e-02h  5\n",
      "  28  2.5158145e+02 8.35e-01 3.65e+10   3.5 1.31e+02    -  1.63e-02 2.11e-04h  2\n",
      "  29  2.3467566e+02 7.97e-01 1.05e+11   3.5 3.47e+01    -  1.07e-01 1.20e-02h  3\n",
      "iter    objective    inf_pr   inf_du lg(mu)  ||d||  lg(rg) alpha_du alpha_pr  ls\n",
      "  30  1.9758373e+02 7.84e-01 4.50e+10   3.4 1.07e+01    -  1.00e+00 2.46e-02h  5\n",
      "  31  1.6637027e+02 7.69e-01 7.70e+10   3.5 9.98e+00    -  5.33e-01 2.52e-02h  5\n",
      "  32  1.4031416e+02 7.55e-01 8.73e+10   3.5 9.20e+00    -  4.29e-01 2.61e-02h  5\n",
      "  33  1.1876043e+02 7.39e-01 9.59e+10   3.5 8.38e+00    -  5.32e-01 2.75e-02h  5\n",
      "  34  1.1763726e+03 4.62e+00 3.96e+13   3.5 7.49e+00    -  4.58e-02 2.93e-01H  1\n",
      "  35  1.0117914e+03 4.19e+00 3.14e+13   3.5 5.00e+00    -  9.00e-03 1.01e-01h  1\n",
      "  36  3.0314309e+03 6.47e+00 6.06e+13   2.8 6.96e+00    -  1.08e-03 7.46e-01f  1\n",
      "  37  3.3774932e+03 6.41e+00 6.09e+13   2.8 6.71e+01    -  1.08e-03 1.08e-02h  1\n",
      "  38  3.8501999e+03 6.01e+00 3.70e+13   2.8 1.13e+01    -  7.07e-03 9.47e-02h  1\n",
      "  39  3.5202958e+03 5.85e+00 2.91e+13   2.8 6.50e+00    -  5.99e-03 1.60e-03H  1\n",
      "iter    objective    inf_pr   inf_du lg(mu)  ||d||  lg(rg) alpha_du alpha_pr  ls\n",
      "  40  1.9930105e+03 5.76e+00 2.67e+13   2.8 7.54e+00    -  3.06e-01 3.82e-01H  1\n",
      "  41  1.9642560e+03 2.47e+00 1.22e+12   2.1 5.51e+00    -  2.92e-01 1.00e+00f  1\n",
      "  42  1.8679462e+03 1.88e+00 1.15e+12   2.1 2.59e+00    -  6.40e-02 2.65e-01f  1\n",
      "  43  1.6803547e+03 1.74e+00 9.37e+11   2.1 1.76e+00    -  1.83e-01 1.00e+00f  1\n",
      "  44  1.5933079e+03 2.62e+00 6.14e+11   2.1 5.72e-01    -  3.45e-01 1.00e+00f  1\n",
      "  45  1.5161669e+03 2.09e+00 1.89e+11   2.1 6.09e-01    -  6.92e-01 4.68e-01h  1\n",
      "  46  1.4121104e+03 1.82e+00 2.92e+09   2.1 2.90e+00    -  9.85e-01 1.30e-01h  1\n",
      "  47  4.8611702e+02 9.89e-01 2.84e+07   2.1 3.52e+00    -  9.90e-01 1.00e+00f  1\n",
      "  48  1.7032073e+02 4.91e-01 3.83e+06   2.1 1.90e+00    -  8.68e-01 1.00e+00f  1\n",
      "  49  4.6020239e+01 5.58e-01 2.66e+05   2.2 1.46e+00    -  1.00e+00 1.00e+00f  1\n",
      "iter    objective    inf_pr   inf_du lg(mu)  ||d||  lg(rg) alpha_du alpha_pr  ls\n",
      "  50  3.1259721e+01 6.60e-02 1.36e+04   2.1 3.52e-01    -  1.00e+00 1.00e+00f  1\n",
      "  51  2.8238093e+01 2.37e-03 1.44e+03   0.7 6.37e-02    -  1.00e+00 1.00e+00f  1\n",
      "  52  2.7180556e+01 1.78e-04 4.38e+00  -0.8 2.40e-02    -  1.00e+00 1.00e+00h  1\n",
      "  53  5.7318933e+00 1.97e-01 1.42e+02  -1.3 1.14e+00    -  9.96e-01 1.00e+00f  1\n",
      "  54  5.4310447e+00 7.93e-03 4.83e+01  -2.1 3.12e-01    -  1.00e+00 1.00e+00h  1\n",
      "  55  5.3480687e+00 2.32e-03 2.66e+00  -3.5 2.17e-01    -  1.00e+00 1.00e+00h  1\n",
      "  56  5.3364602e+00 8.20e-04 2.93e+01  -3.7 2.68e-01    -  1.00e+00 1.00e+00h  1\n",
      "  57  5.2999093e+00 4.06e-04 4.31e+00  -5.0 1.18e-01    -  1.00e+00 1.00e+00h  1\n",
      "  58  5.3249074e+00 3.04e-04 1.61e+00  -6.1 8.66e-02    -  1.00e+00 1.00e+00h  1\n",
      "  59  5.3253564e+00 2.83e-04 1.99e+00  -7.7 7.66e-02    -  1.00e+00 1.00e+00h  1\n",
      "iter    objective    inf_pr   inf_du lg(mu)  ||d||  lg(rg) alpha_du alpha_pr  ls\n",
      "  60  5.2962421e+00 7.37e-03 6.76e+00  -8.4 3.54e-01    -  1.00e+00 1.00e+00h  1\n",
      "  61  5.3115251e+00 2.90e-03 1.11e+00  -9.3 6.37e-01    -  9.96e-01 1.00e+00H  1\n",
      "  62  5.2840698e+00 4.31e-03 2.75e-01  -9.4 1.11e-01    -  2.98e-01 1.00e+00h  1\n",
      "  63  5.2799392e+00 2.64e-04 1.43e-01 -11.0 6.57e-02    -  1.00e+00 1.00e+00h  1\n",
      "  64  5.2793887e+00 7.40e-04 6.22e-02 -11.0 9.51e-02    -  1.00e+00 1.00e+00h  1\n",
      "  65  5.2799292e+00 1.93e-04 7.54e-02 -11.0 2.18e-02    -  1.00e+00 1.00e+00h  1\n",
      "  66  5.2796879e+00 4.34e-04 1.94e-01 -11.0 5.41e-02    -  1.00e+00 1.00e+00h  1\n",
      "  67  5.2792648e+00 3.26e-05 9.43e-02 -11.0 5.38e-02    -  1.00e+00 1.00e+00H  1\n",
      "  68  5.2792546e+00 1.16e-05 9.91e-02  -9.0 3.24e-01    -  1.00e+00 2.16e-02h  6\n",
      "  69  5.2792480e+00 1.01e-05 1.21e-01  -8.6 4.50e-01    -  1.00e+00 1.56e-02h  7\n",
      "iter    objective    inf_pr   inf_du lg(mu)  ||d||  lg(rg) alpha_du alpha_pr  ls\n",
      "  70  5.2796685e+00 6.54e-06 2.25e-01  -9.4 1.20e-01    -  1.00e+00 1.00e+00H  1\n",
      "  71  5.2789716e+00 5.83e-05 6.84e-02  -9.7 8.16e-02    -  9.91e-01 1.00e+00H  1\n",
      "  72  5.2788915e+00 1.40e-03 4.71e-01  -7.7 2.63e-01    -  1.00e+00 4.47e-01h  1\n",
      "  73  5.2788707e+00 1.45e-03 4.36e-01  -7.8 3.64e-01    -  1.11e-02 6.25e-02h  5\n",
      "  74  5.2788435e+00 1.62e-03 3.70e-01  -7.8 2.71e+01    -  2.16e-02 9.47e-04h  5\n",
      "  75  5.2788257e+00 1.79e-03 2.98e-01  -7.8 2.52e+01    -  1.81e-03 9.57e-04h  5\n",
      "  76  5.2682643e+00 1.93e-03 5.57e-01  -7.8 8.83e+00    -  3.05e-04 8.59e-06H  1\n",
      "  77  5.2683051e+00 2.25e-03 6.68e-02  -7.5 1.97e+01    -  1.24e-01 3.60e-03f  8\n",
      "  78  5.2885991e+00 1.31e-03 1.23e+00  -7.7 2.16e-01    -  2.36e-01 1.00e+00H  1\n",
      "  79  5.2785503e+00 3.28e-04 1.67e-02  -7.7 2.11e-01    -  1.00e+00 1.00e+00H  1\n",
      "iter    objective    inf_pr   inf_du lg(mu)  ||d||  lg(rg) alpha_du alpha_pr  ls\n",
      "  80  5.2778194e+00 1.96e-04 1.05e-01  -8.4 5.07e-02    -  1.00e+00 1.00e+00h  1\n",
      "  81  5.2785437e+00 9.93e-06 5.13e-01  -9.5 1.25e-01    -  1.00e+00 1.00e+00H  1\n",
      "  82  5.2772521e+00 1.06e-03 6.44e-02 -10.9 1.03e-01    -  1.00e+00 1.00e+00h  1\n",
      "  83  5.2770586e+00 1.76e-04 6.13e-02 -11.0 4.61e-02    -  1.00e+00 1.00e+00H  1\n",
      "  84  5.2770533e+00 3.35e-04 8.63e-02  -9.0 5.38e+00    -  1.00e+00 2.49e-03h  4\n",
      "  85  5.3207841e+00 9.57e-05 1.68e+00  -9.1 2.68e-01    -  3.17e-01 1.00e+00H  1\n",
      "  86  5.2739845e+00 2.04e-03 4.10e-02  -9.1 1.88e-01    -  7.15e-01 1.00e+00H  1\n",
      "  87  5.2766494e+00 1.45e-03 4.79e-01  -7.1 1.11e-01    -  1.00e+00 7.89e-01h  1\n",
      "  88  5.2764517e+00 5.10e-04 1.81e-01  -7.2 6.68e-02    -  1.00e+00 1.00e+00h  1\n",
      "  89  5.2764072e+00 7.31e-05 5.46e-02  -7.2 1.02e-02    -  1.00e+00 1.00e+00h  1\n",
      "iter    objective    inf_pr   inf_du lg(mu)  ||d||  lg(rg) alpha_du alpha_pr  ls\n",
      "  90  5.2763447e+00 2.71e-04 1.71e-02  -6.7 2.23e+00    -  1.00e+00 1.30e-02h  5\n",
      "  91  5.2762418e+00 4.14e-04 1.26e-02  -7.3 2.95e-01    -  1.00e+00 4.07e-02h  5\n",
      "  92  5.2761426e+00 5.52e-04 6.07e-02  -6.4 8.63e+00    -  1.00e+00 1.30e-03h  5\n",
      "  93  5.2884523e+00 2.90e-04 2.00e-01  -7.3 1.34e-01    -  1.00e+00 1.00e+00H  1\n",
      "  94  5.2852491e+00 1.43e-02 3.73e-01  -7.0 1.82e-01    -  3.24e-01 1.00e+00h  1\n",
      "  95  5.2767995e+00 7.80e-03 5.58e-01  -7.0 3.58e-01    -  1.00e+00 6.96e-01h  1\n",
      "  96  5.2744708e+00 2.33e-03 2.87e-01  -7.0 1.65e-01    -  6.70e-02 1.00e+00f  1\n",
      "  97  5.2770190e+00 2.14e-03 3.22e-01  -8.1 1.26e-01    -  1.00e+00 1.00e+00h  1\n",
      "  98  5.2768797e+00 2.64e-03 3.52e-01  -8.2 6.72e-01    -  1.00e+00 4.62e-02h  3\n",
      "  99  5.2764068e+00 2.86e-03 4.32e-01  -8.2 3.26e-01    -  1.00e+00 7.13e-02h  3\n",
      "iter    objective    inf_pr   inf_du lg(mu)  ||d||  lg(rg) alpha_du alpha_pr  ls\n",
      " 100  5.2760179e+00 3.42e-03 4.60e-01  -8.2 2.65e+00    -  1.61e-01 6.58e-03h  3\n",
      " 101  5.2757667e+00 4.38e-03 5.36e-01  -8.2 2.31e-01    -  1.00e+00 1.13e-01h  2\n",
      " 102  5.2738263e+00 4.53e-03 1.39e-01  -8.2 3.14e-01    -  1.00e+00 4.31e-01h  1\n",
      " 103  5.2711038e+00 9.57e-06 1.47e-01  -8.2 1.17e-02    -  1.00e+00 1.00e+00h  1\n",
      " 104  5.2709005e+00 1.08e-04 6.84e-02  -8.5 2.37e-02    -  1.00e+00 1.00e+00h  1\n",
      " 105  5.2707737e+00 1.21e-04 2.00e-01 -10.0 3.71e-02    -  1.00e+00 1.00e+00h  1\n",
      " 106  5.2708182e+00 1.12e-05 1.28e-02 -10.0 1.14e-02    -  1.00e+00 1.00e+00h  1\n",
      " 107  5.2708237e+00 1.61e-07 1.58e-03 -11.0 1.28e-03    -  1.00e+00 1.00e+00h  1\n",
      " 108  5.2708237e+00 1.13e-08 2.93e-07 -11.0 3.75e-04    -  1.00e+00 1.00e+00h  1\n",
      " 109  5.2708237e+00 8.05e-09 3.83e-08 -11.0 3.12e-04    -  1.00e+00 1.00e+00h  1\n",
      "iter    objective    inf_pr   inf_du lg(mu)  ||d||  lg(rg) alpha_du alpha_pr  ls\n",
      " 110  5.2708237e+00 9.14e-11 5.41e-08 -11.0 3.21e-05    -  1.00e+00 1.00e+00h  1\n",
      " 111  5.2708237e+00 2.90e-11 1.02e-07 -11.0 9.79e-06    -  1.00e+00 1.00e+00h  1\n",
      " 112  5.2708237e+00 6.78e-11 2.59e-09 -11.0 1.99e-05    -  1.00e+00 1.00e+00h  1\n",
      "\n",
      "Number of Iterations....: 112\n",
      "\n",
      "                                   (scaled)                 (unscaled)\n",
      "Objective...............:   5.4704482775568747e-02    5.2708237492156291e+00\n",
      "Dual infeasibility......:   2.5920582820571242e-09    2.4974703459803825e-07\n",
      "Constraint violation....:   5.3492765772489292e-11    6.7811534165684861e-11\n",
      "Complementarity.........:   9.9999999999999978e-12    9.6350856123432730e-10\n",
      "Overall NLP error.......:   2.5920582820571242e-09    2.4974703459803825e-07\n",
      "\n",
      "\n",
      "Number of objective function evaluations             = 295\n",
      "Number of objective gradient evaluations             = 113\n",
      "Number of equality constraint evaluations            = 295\n",
      "Number of inequality constraint evaluations          = 295\n",
      "Number of equality constraint Jacobian evaluations   = 113\n",
      "Number of inequality constraint Jacobian evaluations = 113\n",
      "Number of Lagrangian Hessian evaluations             = 0\n",
      "Total CPU secs in IPOPT (w/o function evaluations)   =      0.476\n",
      "Total CPU secs in NLP function evaluations           =      0.652\n",
      "\n",
      "EXIT: Optimal Solution Found.\n"
     ]
    },
    {
     "data": {
      "text/plain": [
       ":Optimal"
      ]
     },
     "execution_count": 18,
     "metadata": {},
     "output_type": "execute_result"
    }
   ],
   "source": [
    "solve(m)"
   ]
  },
  {
   "cell_type": "code",
   "execution_count": 19,
   "metadata": {
    "scrolled": true
   },
   "outputs": [
    {
     "data": {
      "text/plain": [
       "(0.7047353466348902, 1.1300332658834125e-8, 0.954945647102082, 0.3301329391862525, 1.0224618076976537)"
      ]
     },
     "execution_count": 19,
     "metadata": {},
     "output_type": "execute_result"
    }
   ],
   "source": [
    "getvalue(β), getvalue(δ), getvalue(α), getvalue(A), getvalue(γ)"
   ]
  },
  {
   "cell_type": "code",
   "execution_count": 20,
   "metadata": {},
   "outputs": [
    {
     "data": {
      "text/html": [
       "<img src=\"data:image/png;base64,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\" />"
      ]
     },
     "execution_count": 20,
     "metadata": {},
     "output_type": "execute_result"
    }
   ],
   "source": [
    "plot(nodes(Basis(ChebParams(10, 0.2*k_stst, 2*k_stst)))[1], [0.731039, 0.830067, 0.984055, 1.15697 , 1.32812 , 1.48555 , 1.62093 , 1.72778 , 1.80161 , 1.8393], label=\"True Policy Fucntion\")\n",
    "plot!(K, u_crra_prime_inv.(Ψprime * getvalue(θ), getvalue(γ)), label=\"Estimated Policy Function\")\n",
    "plot!(K, getvalue(modelC), label=\"Estimated Policy Function\")"
   ]
  },
  {
   "cell_type": "code",
   "execution_count": 21,
   "metadata": {},
   "outputs": [
    {
     "data": {
      "text/html": [
       "<img src=\"data:image/png;base64,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\" />"
      ]
     },
     "execution_count": 21,
     "metadata": {},
     "output_type": "execute_result"
    }
   ],
   "source": [
    "plot(K, u_crra_prime_inv.(Ψprime * getvalue(θ), getvalue(γ)))\n",
    "plot!(K, Ψprime * getvalue(θ))"
   ]
  },
  {
   "cell_type": "code",
   "execution_count": 22,
   "metadata": {},
   "outputs": [
    {
     "data": {
      "text/html": [
       "0"
      ],
      "text/plain": [
       "0"
      ]
     },
     "execution_count": 22,
     "metadata": {},
     "output_type": "execute_result"
    }
   ],
   "source": [
    "sum(u_crra_prime_inv.(Φprime * getvalue(θ), getvalue(γ)) .< 0)"
   ]
  },
  {
   "cell_type": "code",
   "execution_count": 23,
   "metadata": {},
   "outputs": [
    {
     "data": {
      "text/plain": [
       "12-element Array{Float64,1}:\n",
       " 3.3263  \n",
       " 2.63375 \n",
       " 1.76421 \n",
       " 1.17884 \n",
       " 0.879926\n",
       " 0.701653\n",
       " 0.582607\n",
       " 0.497927\n",
       " 0.43449 \n",
       " 0.385287\n",
       " 0.358156\n",
       " 0.34599 "
      ]
     },
     "execution_count": 23,
     "metadata": {},
     "output_type": "execute_result"
    }
   ],
   "source": [
    "Ψprime * getvalue(θ)"
   ]
  },
  {
   "cell_type": "code",
   "execution_count": 24,
   "metadata": {},
   "outputs": [
    {
     "data": {
      "text/plain": [
       "12-element Array{Float64,1}:\n",
       " 0.404361\n",
       " 0.506402\n",
       " 0.746192\n",
       " 1.10226 \n",
       " 1.46299 \n",
       " 1.82153 \n",
       " 2.18084 \n",
       " 2.53907 \n",
       " 2.89729 \n",
       " 3.25492 \n",
       " 3.49345 \n",
       " 3.61235 "
      ]
     },
     "execution_count": 24,
     "metadata": {},
     "output_type": "execute_result"
    }
   ],
   "source": [
    "getvalue(modelC)"
   ]
  },
  {
   "cell_type": "code",
   "execution_count": 25,
   "metadata": {},
   "outputs": [
    {
     "data": {
      "text/plain": [
       "12-element Array{Float64,1}:\n",
       " 0.828136\n",
       " 1.13166 \n",
       " 1.69994 \n",
       " 2.5508  \n",
       " 3.39271 \n",
       " 4.2337  \n",
       " 5.07143 \n",
       " 5.9082  \n",
       " 6.74326 \n",
       " 7.57739 \n",
       " 8.13263 \n",
       " 8.4104  "
      ]
     },
     "execution_count": 25,
     "metadata": {},
     "output_type": "execute_result"
    }
   ],
   "source": [
    "getvalue(modelKprime)"
   ]
  },
  {
   "cell_type": "code",
   "execution_count": null,
   "metadata": {},
   "outputs": [],
   "source": []
  },
  {
   "cell_type": "code",
   "execution_count": null,
   "metadata": {},
   "outputs": [],
   "source": []
  },
  {
   "cell_type": "code",
   "execution_count": null,
   "metadata": {},
   "outputs": [],
   "source": []
  },
  {
   "cell_type": "code",
   "execution_count": null,
   "metadata": {},
   "outputs": [],
   "source": []
  },
  {
   "cell_type": "code",
   "execution_count": null,
   "metadata": {},
   "outputs": [],
   "source": []
  }
 ],
 "metadata": {
  "kernelspec": {
   "display_name": "Julia 0.6.0",
   "language": "julia",
   "name": "julia-0.6"
  },
  "language_info": {
   "file_extension": ".jl",
   "mimetype": "application/julia",
   "name": "julia",
   "version": "0.6.0"
  }
 },
 "nbformat": 4,
 "nbformat_minor": 2
}
