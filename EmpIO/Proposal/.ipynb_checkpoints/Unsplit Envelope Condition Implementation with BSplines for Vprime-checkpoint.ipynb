{
 "cells": [
  {
   "cell_type": "markdown",
   "metadata": {},
   "source": [
    "In this exercise I solve a deterministic growth model using simulated data generated from an economy with parameters $\\beta = 0.95$, $\\alpha = 0.3$, $A = 1.0$, $\\delta = 0.05$, $\\gamma = 2.0$. I initiate the variables of the mathematical program at the true values, which should make the optimization easy."
   ]
  },
  {
   "cell_type": "code",
   "execution_count": 1,
   "metadata": {
    "scrolled": false
   },
   "outputs": [
    {
     "name": "stderr",
     "output_type": "stream",
     "text": [
      "WARNING: Method definition ==(Base.Nullable{S}, Base.Nullable{T}) in module Base at nullable.jl:238 overwritten in module NullableArrays at /home/juser/.julia/v0.6/NullableArrays/src/operators.jl:99.\n",
      "WARNING: Compat.AsyncCondition is deprecated, use Base.AsyncCondition instead.\n",
      "  likely near In[1]:2\n",
      "WARNING: Compat.AsyncCondition is deprecated, use Base.AsyncCondition instead.\n",
      "  likely near In[1]:2\n"
     ]
    },
    {
     "data": {
      "text/html": [
       "<img src=\"data:image/png;base64,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\" />"
      ]
     },
     "execution_count": 1,
     "metadata": {},
     "output_type": "execute_result"
    }
   ],
   "source": [
    "using CSV\n",
    "using Plots; pyplot()\n",
    "\n",
    "df = CSV.read(\"data.csv\"; header=false, types=[Float64, Float64])\n",
    "dataK = convert(Vector{Float64}, df[1])\n",
    "dataC = convert(Vector{Float64}, df[2])\n",
    "\n",
    "plot(dataK, label=\"capital\")\n",
    "plot!(dataC, label=\"consumption\")"
   ]
  },
  {
   "cell_type": "markdown",
   "metadata": {},
   "source": [
    "The economy's steady state for capital is:"
   ]
  },
  {
   "cell_type": "code",
   "execution_count": 127,
   "metadata": {},
   "outputs": [],
   "source": [
    "k_stst = 4.628988089138438;"
   ]
  },
  {
   "cell_type": "markdown",
   "metadata": {},
   "source": [
    "# The Mathematical Program\n",
    "I define the needed function related to utility and production:"
   ]
  },
  {
   "cell_type": "code",
   "execution_count": 216,
   "metadata": {},
   "outputs": [
    {
     "data": {
      "text/plain": [
       "f_prime (generic function with 1 method)"
      ]
     },
     "execution_count": 216,
     "metadata": {},
     "output_type": "execute_result"
    }
   ],
   "source": [
    "u_crra_prime(c, γ) = begin\n",
    "    return c^-γ\n",
    "end\n",
    "\n",
    "u_crra_prime_inv(u, γ) = begin\n",
    "    return u^(-1/γ) \n",
    "end\n",
    "\n",
    "function f(k, α, A)\n",
    "    if (k <= 0)\n",
    "        return zero(k)\n",
    "    else\n",
    "        A*k^α\n",
    "    end\n",
    "end\n",
    "\n",
    "function f_prime(k, α, A)\n",
    "    if (k <= 0)\n",
    "        return zero(k)\n",
    "    else\n",
    "        A*α*k^(α-1)\n",
    "    end\n",
    "end"
   ]
  },
  {
   "cell_type": "markdown",
   "metadata": {},
   "source": [
    "I use the Julia Mathematical Programming languange JuMP and the IpOpt solver:"
   ]
  },
  {
   "cell_type": "code",
   "execution_count": 234,
   "metadata": {},
   "outputs": [],
   "source": [
    "using JuMP\n",
    "using Ipopt\n",
    "\n",
    "#m = Model(solver=IpoptSolver(print_level=5, max_iter=500, mu_strategy=\"adaptive\", mu_oracle=\"probing\", tol=1e-12));\n",
    "#m = Model(solver=IpoptSolver(print_level=5, max_iter=500, mu_strategy=\"adaptive\", mu_oracle=\"probing\", corrector_type=\"affine\"));\n",
    "m = Model(solver=IpoptSolver(print_level=5, max_iter=600));\n",
    "#m = Model(solver=IpoptSolver(print_level=5, max_iter=500, mehrotra_algorithm=\"yes\"));"
   ]
  },
  {
   "cell_type": "markdown",
   "metadata": {},
   "source": [
    "I define the deep parameters variables and give the the correct starting values:"
   ]
  },
  {
   "cell_type": "code",
   "execution_count": 235,
   "metadata": {},
   "outputs": [],
   "source": [
    "@variable(m, 0 <= β <= 1, start = 0.95)\n",
    "@variable(m, 0 <= δ <= 1, start = 0.05)\n",
    "@variable(m, 0 <= α <= 1, start = 0.3)\n",
    "@variable(m, A >= 0, start = 1)\n",
    "@variable(m, 100 >= γ >= 1, start = 2);"
   ]
  },
  {
   "cell_type": "markdown",
   "metadata": {},
   "source": [
    "The policy function is approximated by 10 Chebyshev polynomials on a grid around the steady state for capital, the coefficients on the polynomials are $\\theta$:"
   ]
  },
  {
   "cell_type": "markdown",
   "metadata": {},
   "source": [
    "I define a grid on capital, $K$, with 10 nodes, and evaluate the Chebyshev polynomials at those point into $\\Psi$ and at the observed data points into $\\Phi$:"
   ]
  },
  {
   "cell_type": "code",
   "execution_count": 236,
   "metadata": {},
   "outputs": [
    {
     "name": "stderr",
     "output_type": "stream",
     "text": [
      "WARNING: redefining constant params\n"
     ]
    }
   ],
   "source": [
    "using BasisMatrices\n",
    "global const params = SplineParams(linspace(0.2*k_stst, 2*k_stst, 10), 0, 3)\n",
    "basis = Basis(params)\n",
    "K = nodes(basis)[1] #grid\n",
    "Ψ = BasisMatrix(basis, Expanded(), K).vals[1]\n",
    "Ψprime = BasisMatrix(basis, Expanded(), K, 1).vals[1]\n",
    "#Ψprimeprimeprime = BasisMatrix(basis, Expanded(), K, 3).vals[1]\n",
    "Φ = BasisMatrix(basis, Expanded(), dataK).vals[1]\n",
    "Φprime = BasisMatrix(basis, Expanded(), dataK, 1).vals[1];"
   ]
  },
  {
   "cell_type": "code",
   "execution_count": 237,
   "metadata": {},
   "outputs": [],
   "source": [
    "@variable(m, θ[1:length(K)], start = 0);"
   ]
  },
  {
   "cell_type": "markdown",
   "metadata": {},
   "source": [
    "And I initialize $\\theta$ such that the consumer myopically consumes almost everything available, leaving just $0.5$ capital for the next period:"
   ]
  },
  {
   "cell_type": "code",
   "execution_count": 238,
   "metadata": {},
   "outputs": [],
   "source": [
    "#initial_θ = Ψ \\ (u_crra.((f.(K, getvalue(α), getvalue(A)) + (1-getvalue(δ))*K - 1.), getvalue(γ)) .* \n",
    "#    (f_prime(1, getvalue(α), getvalue(A)) + 1-getvalue(δ)))\n",
    "b2 = Basis(ChebParams(10, 0.2*k_stst, 2*k_stst))\n",
    "K2 = nodes(b2)[1] #grid\n",
    "Ψ2 = BasisMatrix(b2, Expanded(), K2).vals[1]\n",
    "θ2 = Ψ2 \\ [0.731039, 0.830067, 0.984055, 1.15697 , 1.32812 , 1.48555 , 1.62093 , 1.72778 , 1.80161 , 1.8393]\n",
    "\n",
    "\n",
    "initial_θ = Ψ \\ (u_crra_prime.(BasisMatrix(b2, Expanded(), K).vals[1] * θ2, getvalue(γ)) .*\n",
    "    (f_prime.(f.(K, getvalue(α), getvalue(A)) + (1-getvalue(δ)) * K - BasisMatrix(b2, Expanded(), K).vals[1] * θ2, \n",
    "        getvalue(α), getvalue(A)) + 1-getvalue(δ)))\n",
    "\n",
    "\n",
    "for i in 1:length(K)\n",
    "    setvalue(θ[i], initial_θ[i])\n",
    "end"
   ]
  },
  {
   "cell_type": "code",
   "execution_count": 239,
   "metadata": {},
   "outputs": [
    {
     "data": {
      "text/plain": [
       "12-element Array{Float64,1}:\n",
       " -0.0688677\n",
       " -0.0639336\n",
       " -0.0560414\n",
       " -0.0470759\n",
       " -0.0400684\n",
       " -0.0342355\n",
       " -0.0292037\n",
       " -0.0247481\n",
       " -0.020723 \n",
       " -0.0170371\n",
       " -0.0147348\n",
       " -0.0136244"
      ]
     },
     "execution_count": 239,
     "metadata": {},
     "output_type": "execute_result"
    }
   ],
   "source": [
    "u_crra_prime_inv.(Ψ * getvalue(θ), getvalue(γ)) - BasisMatrix(b2, Expanded(), K).vals[1] * θ2\n",
    "#very good starting point!"
   ]
  },
  {
   "cell_type": "markdown",
   "metadata": {},
   "source": [
    "In the equilibrium constraint the polynomials have to be evaluated also outside the grid, I define this function here:"
   ]
  },
  {
   "cell_type": "code",
   "execution_count": 240,
   "metadata": {
    "scrolled": false
   },
   "outputs": [
    {
     "data": {
      "text/plain": [
       "interpVprime (generic function with 1 method)"
      ]
     },
     "execution_count": 240,
     "metadata": {},
     "output_type": "execute_result"
    }
   ],
   "source": [
    "function interpVprime(x, values...) #x is the point of evaluation, values are on the grid\n",
    "    return (evalbase(params, [x], 0) * collect(values))[1] #evaluates the first derivative of the basis functions\n",
    "end"
   ]
  },
  {
   "cell_type": "markdown",
   "metadata": {},
   "source": [
    "I register all user-defined functions with JuMP for automatic differentiation:"
   ]
  },
  {
   "cell_type": "code",
   "execution_count": 241,
   "metadata": {},
   "outputs": [],
   "source": [
    "JuMP.register(m, :interpVprime, 1+length(K), interpVprime, autodiff=true)\n",
    "JuMP.register(m, :u_crra_prime, 2, u_crra_prime, autodiff=true)\n",
    "JuMP.register(m, :f, 3, f, autodiff=true)\n",
    "JuMP.register(m, :f_prime, 3, f_prime, autodiff=true)\n",
    "JuMP.register(m, :u_crra_prime_inv, 2, u_crra_prime_inv, autodiff=true)"
   ]
  },
  {
   "cell_type": "markdown",
   "metadata": {},
   "source": [
    "The auxiliary and equilibrium constraints are all defined on the grid with 10 nodes:"
   ]
  },
  {
   "cell_type": "code",
   "execution_count": 242,
   "metadata": {},
   "outputs": [],
   "source": [
    "##EE in consumption:\n",
    "@NLconstraint(m, increasing[i=1:length(K)], sum(Ψ[i, k] * θ[k] for k in 1:length(K)) >= 0)\n",
    "@NLconstraint(m, concave[i=1:length(K)], sum(Ψprime[i, k] * θ[k] for k in 1:length(K)) <= 0)\n",
    "\n",
    "@NLconstraint(m, EE[i=1:length(K)], sum(Ψ[i, k] * θ[k] for k in 1:length(K)) == \n",
    "    β * u_crra_prime(u_crra_prime_inv(interpVprime(f(K[i], α, A) + (1-δ)*K[i] - \n",
    "            u_crra_prime_inv(sum(Ψ[i, k] * θ[k] for k in 1:length(K)) / (f_prime(K[i], α, A) + 1-δ), γ), \n",
    "            θ[1], θ[2], θ[3], θ[4], θ[5], θ[6], θ[7], θ[8], θ[9], θ[10], θ[11], θ[12]) / \n",
    "            (f_prime(f(K[i], α, A) + (1-δ)*K[i] - \n",
    "            u_crra_prime_inv(sum(Ψ[i, k] * θ[k] for k in 1:length(K)) / (f_prime(K[i], α, A) + 1-δ), γ), α, A) + 1-δ), γ), γ) * (f_prime(f(K[i], α, A) + (1-δ)*K[i] - \n",
    "            u_crra_prime_inv(sum(Ψ[i, k] * θ[k] for k in 1:length(K)) / (f_prime(K[i], α, A) + 1-δ), γ), α, A) + 1-δ));"
   ]
  },
  {
   "cell_type": "markdown",
   "metadata": {},
   "source": [
    "I define auxiliary expressions for the predictions of the equilibrium conditions:"
   ]
  },
  {
   "cell_type": "code",
   "execution_count": 243,
   "metadata": {},
   "outputs": [],
   "source": [
    "@NLexpression(m, predictedK[t=2:100], f(dataK[t-1], α, A) + (1-δ)*dataK[t-1] - dataC[t-1])\n",
    "R = f_prime.(dataK, 0.3, 1.) + 1-0.05\n",
    "@NLexpression(m, predictedC[t=1:100], u_crra_prime_inv(sum(Φ[t, k] * θ[k] for k in 1:length(K)) / R[t], γ));"
   ]
  },
  {
   "cell_type": "markdown",
   "metadata": {},
   "source": [
    "The objective is to minimize the sum of squared errors:"
   ]
  },
  {
   "cell_type": "code",
   "execution_count": 244,
   "metadata": {},
   "outputs": [],
   "source": [
    "#+ (β-0.95)^2 + (δ-0.05)^2 + (α-0.3)^2 + (A-1)^2 + (γ-2)^2)\n",
    "@NLobjective(m, Min, sum((dataC[t] - predictedC[t])^2 for t in 1:100) +\n",
    "    sum((dataK[t] - predictedK[t])^2 for t in 2:100))"
   ]
  },
  {
   "cell_type": "code",
   "execution_count": 245,
   "metadata": {
    "scrolled": true
   },
   "outputs": [
    {
     "name": "stdout",
     "output_type": "stream",
     "text": [
      "This is Ipopt version 3.12.1, running with linear solver mumps.\n",
      "NOTE: Other linear solvers might be more efficient (see Ipopt documentation).\n",
      "\n",
      "Number of nonzeros in equality constraint Jacobian...:      204\n",
      "Number of nonzeros in inequality constraint Jacobian.:      288\n",
      "Number of nonzeros in Lagrangian Hessian.............:        0\n",
      "\n",
      "Total number of variables............................:       17\n",
      "                     variables with only lower bounds:        1\n",
      "                variables with lower and upper bounds:        4\n",
      "                     variables with only upper bounds:        0\n",
      "Total number of equality constraints.................:       12\n",
      "Total number of inequality constraints...............:       24\n",
      "        inequality constraints with only lower bounds:       12\n",
      "   inequality constraints with lower and upper bounds:        0\n",
      "        inequality constraints with only upper bounds:       12\n",
      "\n",
      "iter    objective    inf_pr   inf_du lg(mu)  ||d||  lg(rg) alpha_du alpha_pr  ls\n",
      "   0  4.4445701e-04 4.61e-01 9.00e-01   0.0 0.00e+00    -  0.00e+00 0.00e+00   0\n",
      "   1  1.1125175e+02 1.52e-01 8.68e+02  -0.8 4.00e-01    -  9.91e-01 1.00e+00h  1\n",
      "   2  2.1143167e+00 5.74e-02 6.14e+01  -1.0 2.46e-01    -  1.00e+00 9.63e-01f  1\n",
      "   3  1.6359341e+00 4.60e-02 4.80e+01  -1.8 4.13e-02    -  1.00e+00 1.97e-01f  1\n",
      "   4  8.0256946e-01 2.14e-04 1.55e+01  -3.0 3.37e-02    -  1.00e+00 9.99e-01f  1\n",
      "   5  5.4568107e-01 4.79e-05 1.04e+01  -3.3 2.12e-02    -  1.00e+00 1.00e+00f  1\n",
      "   6  2.9230112e-01 9.19e-04 1.08e+01  -1.3 9.28e-02    -  9.07e-01 1.00e+00f  1\n",
      "   7  2.7120129e-01 1.20e-05 8.15e-01  -2.8 2.86e-02    -  1.00e+00 1.00e+00h  1\n",
      "   8  2.6779830e-01 3.36e-06 2.25e-01  -3.4 3.47e-03    -  1.00e+00 1.00e+00h  1\n",
      "   9  2.4602276e-01 7.82e-05 3.30e+00  -3.8 1.59e-01    -  1.00e+00 1.49e-01f  1\n",
      "iter    objective    inf_pr   inf_du lg(mu)  ||d||  lg(rg) alpha_du alpha_pr  ls\n",
      "  10  2.9820632e-01 6.54e-05 1.16e+01  -2.3 2.15e-01    -  1.00e+00 1.00e+00H  1\n",
      "  11  1.9152785e-01 2.41e-03 4.18e+00  -2.4 1.86e-01    -  9.73e-01 1.00e+00f  1\n",
      "  12  1.8122623e-01 1.08e-03 7.98e-01  -3.5 1.06e-01    -  1.00e+00 5.43e-01h  1\n",
      "  13  1.8059188e-01 5.25e-05 4.77e+00  -3.9 2.89e-02    -  1.00e+00 1.00e+00h  1\n",
      "  14  1.8026585e-01 5.41e-05 7.86e-01  -4.9 2.29e-02    -  1.00e+00 1.00e+00h  1\n",
      "  15  1.7929404e-01 2.43e-04 1.70e+00  -5.8 1.22e-01    -  1.00e+00 5.00e-01h  2\n",
      "  16  1.7921345e-01 2.31e-04 7.45e-01  -5.4 8.19e-02    -  1.00e+00 1.00e+00h  1\n",
      "  17  1.7947775e-01 2.26e-05 1.21e+00  -6.2 7.23e-02    -  1.00e+00 1.00e+00H  1\n",
      "  18  1.7732357e-01 1.85e-03 5.74e+00  -6.6 1.98e-01    -  1.00e+00 1.00e+00h  1\n",
      "  19  1.8101684e-01 9.50e-04 3.19e+00  -7.5 1.88e-01    -  1.00e+00 1.00e+00h  1\n",
      "iter    objective    inf_pr   inf_du lg(mu)  ||d||  lg(rg) alpha_du alpha_pr  ls\n",
      "  20  1.7530506e-01 3.17e-04 3.24e+00  -7.5 9.15e-02    -  1.00e+00 1.00e+00h  1\n",
      "  21  1.6932670e-01 5.59e-03 1.33e+00  -7.2 5.69e+00    -  1.00e+00 9.93e-02h  2\n",
      "  22  1.7429440e-01 6.62e-03 9.00e+00  -6.1 4.07e+00    -  1.00e+00 7.12e-02h  2\n",
      "  23  3.5062219e-01 1.88e-03 3.53e+01  -5.9 2.69e-01    -  9.51e-01 8.41e-01h  1\n",
      "  24  2.6707898e-01 1.62e-03 2.64e+01  -6.1 4.11e-01    -  3.06e-02 1.36e-01f  1\n",
      "  25  2.6666529e-01 1.62e-03 1.34e+02  -6.1 1.84e-01    -  1.00e+00 2.06e-03f  1\n",
      "  26  2.2237907e-01 1.45e-03 1.21e+03  -6.1 6.28e-01    -  1.00e+00 1.08e-01f  1\n",
      "  27  2.1049028e-01 1.35e-03 9.02e+01  -6.1 5.17e-01    -  6.43e-01 6.82e-02h  1\n",
      "  28  2.0433700e-01 1.25e-03 7.29e+01  -6.1 5.36e-01    -  1.00e+00 7.15e-02f  1\n",
      "  29  1.7952776e-01 9.34e-04 5.96e+01  -6.1 1.30e-01    -  1.87e-01 2.45e-01h  1\n",
      "iter    objective    inf_pr   inf_du lg(mu)  ||d||  lg(rg) alpha_du alpha_pr  ls\n",
      "  30  1.7846181e-01 9.16e-04 5.75e+01  -6.1 2.44e-02    -  1.00e+00 1.99e-02h  1\n",
      "  31  1.3855800e-01 1.60e-04 6.17e+01  -6.1 3.75e-02    -  4.75e-01 9.91e-01f  1\n",
      "  32  1.3664596e-01 9.23e-05 1.53e+02  -7.4 2.00e-02    -  1.00e+00 5.48e-01h  1\n",
      "  33  1.3568086e-01 1.27e-05 3.87e+00  -5.4 5.09e-03    -  1.00e+00 9.06e-01h  1\n",
      "  34  1.3498128e-01 1.93e-05 2.35e+01  -6.6 1.09e-02    -  1.00e+00 8.73e-01h  1\n",
      "  35  1.3494081e-01 8.06e-07 5.06e-01  -7.9 1.63e-03    -  1.00e+00 1.00e+00h  1\n",
      "  36  1.3490714e-01 1.05e-05 1.89e-01  -7.9 5.89e-03    -  1.00e+00 1.00e+00h  1\n",
      "  37  1.3490388e-01 4.37e-06 7.78e-02  -8.9 3.64e-03    -  1.00e+00 1.00e+00h  1\n",
      "  38  1.3490391e-01 2.39e-07 8.50e-04 -10.0 8.13e-04    -  1.00e+00 1.00e+00h  1\n",
      "  39  1.3490394e-01 9.27e-09 3.47e-04 -11.0 1.77e-04    -  1.00e+00 1.00e+00h  1\n",
      "iter    objective    inf_pr   inf_du lg(mu)  ||d||  lg(rg) alpha_du alpha_pr  ls\n",
      "  40  1.3490526e-01 1.75e-10 1.07e-02 -11.0 5.40e-04    -  1.00e+00 1.00e+00H  1\n",
      "  41  1.3490396e-01 3.91e-08 1.05e-05 -11.0 5.27e-04    -  1.00e+00 1.00e+00h  1\n",
      "  42  1.3490394e-01 2.27e-10 6.93e-05 -11.0 2.34e-05    -  1.00e+00 1.00e+00h  1\n",
      "  43  1.3490395e-01 2.19e-12 3.26e-04 -11.0 1.05e-04    -  1.00e+00 1.00e+00H  1\n",
      "  44  1.3490394e-01 2.61e-09 1.32e-06 -11.0 1.08e-04    -  1.00e+00 1.00e+00h  1\n",
      "  45  1.3490394e-01 7.65e-13 1.36e-07 -11.0 1.38e-06    -  1.00e+00 1.00e+00h  1\n",
      "  46  1.3490394e-01 5.55e-15 2.98e-09 -11.0 1.19e-07    -  1.00e+00 1.00e+00h  1\n",
      "\n",
      "Number of Iterations....: 46\n",
      "\n",
      "                                   (scaled)                 (unscaled)\n",
      "Objective...............:   1.3490393905829340e-01    1.3490393905829340e-01\n",
      "Dual infeasibility......:   2.9760942258480205e-09    2.9760942258480205e-09\n",
      "Constraint violation....:   5.5511151231257827e-15    5.5511151231257827e-15\n",
      "Complementarity.........:   1.0000095099380296e-11    1.0000095099380296e-11\n",
      "Overall NLP error.......:   2.9760942258480205e-09    2.9760942258480205e-09\n",
      "\n",
      "\n",
      "Number of objective function evaluations             = 64\n",
      "Number of objective gradient evaluations             = 47\n",
      "Number of equality constraint evaluations            = 64\n",
      "Number of inequality constraint evaluations          = 64\n",
      "Number of equality constraint Jacobian evaluations   = 47\n",
      "Number of inequality constraint Jacobian evaluations = 47\n",
      "Number of Lagrangian Hessian evaluations             = 0\n",
      "Total CPU secs in IPOPT (w/o function evaluations)   =      0.064\n",
      "Total CPU secs in NLP function evaluations           =      0.092\n",
      "\n",
      "EXIT: Optimal Solution Found.\n"
     ]
    },
    {
     "data": {
      "text/plain": [
       ":Optimal"
      ]
     },
     "execution_count": 245,
     "metadata": {},
     "output_type": "execute_result"
    }
   ],
   "source": [
    "solve(m)"
   ]
  },
  {
   "cell_type": "code",
   "execution_count": 246,
   "metadata": {
    "scrolled": true
   },
   "outputs": [
    {
     "data": {
      "text/plain": [
       "(1.0, 0.19846049514908845, 0.5308487078533843, 1.0088044915893888, 1.0)"
      ]
     },
     "execution_count": 246,
     "metadata": {},
     "output_type": "execute_result"
    }
   ],
   "source": [
    "getvalue(β), getvalue(δ), getvalue(α), getvalue(A), getvalue(γ)"
   ]
  },
  {
   "cell_type": "code",
   "execution_count": 247,
   "metadata": {},
   "outputs": [
    {
     "data": {
      "text/html": [
       "<img src=\"data:image/png;base64,iVBORw0KGgoAAAANSUhEUgAAAlgAAAGQCAYAAAByNR6YAAAABHNCSVQICAgIfAhkiAAAAAlwSFlzAAAPYQAAD2EBqD+naQAAIABJREFUeJzs3Xd0FdXexvHvzKT3hCpdqtQEpIuICIKgiOgVvVcUC3axYxf12nu/XgXb9bUiKmLDgkpHSgCR3qQKJKTXM7PfP0KOhBICpOf5rJWVU2b2/OZklGft2WdvyxhjEBEREZFSY1d0ASIiIiLVjQKWiIiISCmr0IBljCEtLQ3dpRQREZHqpEIDVnp6OtHR0aSnp1dkGZVaampqRZcglZiuDzkUXRtSHF0fRy7PNby92qPtJ/lYb+TTf6qP1LxDdxAFlGNtchRc163oEqQS0/Uhh6JrQ4qj66PksnyGCSs9nl7qsTkThjW1eKuvTc96xfdRKWCJiIiI7GdPruGV5R4vLPfYkwsXtrC4I96hQ5xVov0VsERERET22p5leG6Zx39WeOR7cHkbm9s62hwfVbJgVajSBqy8vDw2bdpU47sxU1JSiImJqegypBQ4jkPTpk0JCgqq6FJERGQ/69IMTy3xeHuNR7AN17ezuamDTb2wIwtWhSplwNqyZQv//Oc/ycrKquhSKpznedi2ZtOoLsLCwvjggw9o2LBhRZciIiLA0iTD40tcPlpvqB0C47vYXNvOJjro6IJVoUoXsDzP46GHHiImJoYXX3yRkJCQii6pQvl8PgICKt2fSY5CTk4O9913Hw8++CCvvfaagrOISAWatcPjsUSPrzYbmkbAi71sLmtjExpwbMGqUKX7l3v37t0sWrSIRx55hISEhIoup8IpYFUv119/Pffccw9JSUnUqVOnossREalRjDF8u8XwWKLHjB2GdjHwbj+HC1pYBNqlE6wKVbp/uVNSUgBo1KhRBVciUvoKr+s9e/YoYImIlBPXM0zaUHArMDEJetS1+Hygw1lNLWyrdINVoUoXsDzPAwoGBItUN4XXdeF1LiIiZSfXNby7xvDkEpe1aTCwocVPQ236HWdhlVGwKqRBICWQkJBAQkIC7dq1w3Ec//ORI0eW2TF9Ph+WZdG5c2fi4+Pp1KkTkydPPux+F110ES+//DIAr7zyCs8991yp1tOpUyf/+T/00EOl0vb+Fi1axMcff+x/7rouCQkJZGdnl8nxRESkesnINzyz1KX5hz6umuESX8tiwfAApg0J4NQGdpmHK6iEPViVUWJiIgAbN24kISHB//xgSnvM1IwZM4iJiWHevHmceuqpbN26ldjY2BLte91115VaHYVmz55NREREqbe7r0WLFvHtt99y/vnnAwW9PsV95iIiIgBJOYYXl3u8tNwjPQ9GtbIYF+9wQkzZB6r9qQfrGP3www906tSJ0aNHk5CQwJQpU4r0IgHcdNNNPPzww0DB/F6333473bt3JyEhgQsuuMA/7qw4PXr0ICQkhE2bNuHz+bjlllvo0KEDHTp04MYbbyQ/P/+Afe69915uu+02oGBg36OPPkqHDh2Ij4+nV69e5ObmMnjw4CK9RV9//TUnnXTSEX0Gffr0YerUqf7nw4cP57333gMKxhpddtll/uNeeeWV/touvPBChg4dStu2bRkwYAB79uxh27ZtPPTQQ/zwww8kJCRw3XXX+XvPMjIyAJg/fz69evWiU6dO9OjRgzlz5gCwdu1aateuzb333kuXLl1o1aoV33333RGdi4iIVD3bswy3zXVp+oGPp5d6XNzKZv0FAbx5SkCFhCuoQj1Y69MMKXml325MEDQ/wtlZ9/f777/z6quv0qdPH4Bib+U9/vjjxMbGMn/+fADGjx/P+PHjeeGFF4o9xrfffovnebRo0YL//Oc/LF26lEWLFmFZFmeeeSYvvvgit9566yH3f/PNN/nyyy+ZPXs2UVFRJCcnExgYyI033shjjz3m7y165ZVXuP766w/ZTu/evf3TC0yYMIGuXbsWW/fYsWOJiYlh6dKl2LbNrl27/O/Nnz+fBQsWEBsbyz/+8Q8mTJjA7bffzv3338+3337LpEmTgIJewUI5OTmMGDGCt99+mwEDBvDzzz8zYsQI1q5dC0BSUhLdunXj4YcfZurUqdxyyy0sX7682BpFRKRq2pxheGKJx4RVHiEO3NzR5sYONrVDKiZU7atKBKzdOYZWH/vwDr1o9VFzLNhxUcAx/TFat27tD1eH8/nnn5OVleXvNcrLy6NFixaH3P7kk0/GcRzi4uKYMmUKkZGR/PDDD4wePdo/I/gVV1zBxIkTiw1YU6dO5ZprriEqKgqAuLg4AAYPHszNN9/M0qVLiYiIIDExkc8///yQ7RzpLcKpU6eyZMkSfyjb95tzZ5xxhv92Z8+ePVmzZs1h21uxYgUhISEMGDAAgH79+hEXF8eyZcuoXbs24eHhnH322QD06tWLdevWlbhWERGpGtanFXwj8O3VhqhAuK+zzfXtj31y0NJUJQJW7RCLNecHlFkP1rEm3f0DR0BAQJElfnJycvyPjTG8+uqr9O/fv0RtF47BKs6xDNazLIsbbriBl19+mejoaK644goCAwOPqI3izre42vadRNZxnCI9VUdi32OUVpsiIlL5rEoxPJro8n9rC2Zdf7SbzdVtbSICK0+wKlQlAhYc+2288tSyZUvmzZsHFEyc+s033zBmzBigYHzSs88+S69evQgNDSUzM5ONGzfSvn37Erc/YMAA3nnnHc4//3wsy2LixImcfvrpxe4zbNgw/vOf/zB8+HCioqLYs2cP0dHR2LbNJZdcQps2bXBdl0WLFh31+Z599tmsW7eO2bNnc9FFFwFw1lln8dRTT/HCCy/4bxEebv6nqKgoUlNTD/pe27ZtycnJ4aeffqJ///7MmDGD5ORkOnXqxLZt2464dhERqfyWJRseWezy8XpDg3B4rqfNFSeU3qzrZaHKBKyq5Oqrr+a8886jXbt2tGjRgl69evnfu/vuu3nwwQfp3r27v+fl7rvvPqKAdc0117BhwwY6d+6MZVn079+fG264odh9Ro8ezY4dO+jVqxeBgYGEh4fz008/ERwcTEREBMOGDSM5OZkGDRoc8fneeeedjBw5ki+//JKOHTvSo0cP/3svvPACN998Mx07diQwMJCePXvy2muvFdvewIEDee6554iPj6dPnz5FxqeFhITw6aefctNNN5GZmUloaCiffvopYWFhR1y3iIhUbgt3GR5e7PL5JkOzCHitj8MlrS2CncobrApZxpgyGNlUMmlpaURHR5OamuofG7Ry5Uouuugi3nvvPU444YSKKq3SKI+lcgrnmXr99deLhEEpfaV9fScnJ/vH04nsS9eGFKeyXx9z/vJ4eLHH15sNraLg7s4O/2pZ+svZlCVN01DDffbZZzRv3pxTTjlF4UpERCqMMYaft3kM+MpH7ykuG9MN75/qsOIfAYxubVepcAW6RVjjnXPOOZxzzjkVXYaIiNRQxhi+32r49yKPmX8ZEmrBpAEO5zQru3UCy4MCloiIiJQ7YwxT/zQ8vNhj/i5D9zoWX57uMLRJ2a8TWB4UsERERKTceMYweUPB4PUlyXByfYtpZzgMaFg9glUhBSwREREpcz7P8NH6gukWVqTAgIYWv5xp0/e46jkcXAFLREREyky+Z/jfGsNjiS5r02BoY4s3+9r0rFc9g1Wh6n12pahZs2a0adOGhIQE/8+yZcsOuf3GjRsPmO9pyJAhrFq1qlTreuCBB4rMnH4kzjvvPN5+++2DvmdZFh07diQ+Pp6OHTvyySefHLa90aNH8/zzzwPw2muv8dRTTx1VXcXVU/jZ33///aXW9r4SExP58MMPi7yWkJBAenp6mRxPRKS6ynUNr/3h0uojH5f/6tIpzmLROQFMHRxQ7cMV7NeDNXbsWKZMmcKmTZtYvHgxCQkJB+zw1ltvFZn4ccuWLfTt25fJkyezceNGWrRoQceOHf3vf/rpp8WutVeVfPTRRwf9TA6mMGBdffXV/te+/vrrUq/pwQcf5KabbiqyRExpKVymZ8GCBfTt25dTTz2V2rVrl2jffc+7tOspS4VrMV5wwQVFXhMRkZLJ8hneWOnx5BKPHdkwsrnF1EEOHeKqz/iqkigSIc877zxmzpxJ06ZND7nDpZdeSmJiov+nfv36/Otf//K/HxkZWeT96hKuDiU7O5uRI0fSrl074uPj/UvWXH311axatYqEhASGDRsGFPSCFf5j3a9fP2699Vb69u1LkyZNuO+++/j666/p06cPzZo149lnn/Uf47bbbqNbt24kJCTQt29ffy9YYYg5+eSTSUhIYOfOnaSnpzNmzBi6d+9Op06duPLKK8nLK1jEceXKlfTu3Zv27dszfPhw0tLSSnSOXbt2JSIigo0bN+K6LrfffjsdOnSgQ4cO3HDDDf729/XAAw9w0003+Z8/8cQT/h6xnj17kpWVxZlnnsn777/v32batGlFZoEviX79+hVZnHrfXrnRo0dz1VVXcdppp9G6dWtGjBjhrzUvL89/HvHx8QwePJidO3dy//33M336dBISEvyfr2VZpKSkALBgwQJ69+5Np06d6N69O7NmzQIKAnVMTAzjx4/nxBNPpGXLlmUSqEVEKqv0PMOTS1yO/9DHrXM9Tm9kseK8AN7vH1DjwhUA5iCaNm1qFi9efLC3ipg7d66pU6eOycvLM8YYs2HDBhMdHX3Y/QqlpqYawKSmpvpfW7FihTnxxBPNihUrStxOeWjatKlp3bq1iY+P9/9kZWWZyZMnm9NPP92/XVJSkjHGmOnTp5v4+PgD2ij8XE855RRz7rnnGp/PZ5KTk01UVJS57rrrjOd5ZsuWLSY8PNzs2bPH5Ofnm507d/rb+OCDD8ygQYP8zwGzZ88e//MxY8aYd955xxhjjOd55vLLLzdPPvmkMcaYrl27mgkTJhhjjFm6dKkJCgoyb7311kHPd992v//+exMVFWVSUlLMq6++ak455RSTk5Nj8vPzzRlnnGEef/xxY4wxl1xyiXnuueeMMcaMHz/e3HjjjcYYY95++23TrVs3k5KSYowxJjk52fh8PjNt2jTTq1cv/zGHDRtm3n333UPW06FDB/9nP3fuXP/n+Nlnn/m3O/fcc/3ndMkll5ju3bubzMxM4/P5TO/evc37779vjDHmgQceMMOGDTM5OTnGGOP/jN966y1z9tlnH/SzyM3NNY0bNzbffvutMcaYGTNmmHr16pn09HSzYcMGA5hJkyYZY4z55ptvTOvWrQ84j9K+vguvN5H96dqQ4pTm9bEnxzMPLfSZuHfyTOCEPHPlrz6zPtUrtfarqmMa5D5x4kRGjRpFYGCg/7XMzEy6deuG67oMHz6ce+65B8dxim1n356UjIwMzEFW7/Ht3o6XnXEs5R6UHRpBQO3jSrTtwW4RxsfHs2LFCq699lpOOeUUhgwZUuJjn3feeTiOQ2xsLM2bN+fMM8/EsiwaNmxInTp12LhxIx06dOD777/npZdeIj09Hc/zSE5OPmSbn3/+OXPmzPH3gGVnZ+M4DmlpaSQmJjJ69GgAOnbsSJ8+fYqt7+STT/bX98UXXxAdHc0PP/zA6NGjCQ4OBmDMmDG88sor3HHHHYdsZ+rUqVx99dVER0cDEBsbCxSsOXjTTTexePFi4uLimD9/Ph9//PEh2zmaW4TnnHOOf53C7t27s27dOn9NTzzxhP88DrcANcCqVauwbZtBgwYB0KdPH+rVq0diYiKNGjUiJCSEESNGANCrVy//sUREqqPdOYbnl3m8tNwjz4MxJ9jc3smmcUQN7K06iKMOWJmZmXz44YfMnTvX/9pxxx3H1q1bqVu3LsnJyYwcOZJnnnmGcePGFdtW48aNizxv3rw5Pp8Pn88HgJeZys5HLgfjHW25h2bb1B3/P+zw6MNuum9NhZo0acLSpUuZPn06P/74I+PGjWPBggW4rosx5oDtC9swxhAYGOh/37btIs8dxyEnJ4f169dz/fXXM2fOHFq0aMHSpUvp379/kXb3rcsYw0cffUTr1q2LHLcwxBYeu5DrugfUWGj69OlFAk3hvvvu43me/zw9z/O/53kenucddJ99XXfddbzwwgvUq1eP0aNH4zjOIes52OfvOA55eXn+17Ozs4vUsO9nalmWf9tD1XS4v1vh44O9FxwcjOu6AIdsv7CulJSUYoNySe3Zs+eY25DqSdeGFOdYro+/cixeXR3EW+sDMcBlzfO5tnUe9UIM5EEp/K+tStp/bcejDliffPIJ7du3p127dv7XgoODqVu3rv9Al112Ge+///5hA9bmzZv9iz2vXr2aq666ioCAgL8XOY6uRf17JpZdD1Z0rRJtW6SmvbZs2UJsbCznnHMOQ4cOZcqUKWzfvp3Y2FjS0tIO2L6wDcuycBzH//7+zwu3zczMJDAwkMaNG+M4jv+biYXbRUZGkpmZ6R98Pnz4cJ555hn++9//EhAQwJ49e0hKSqJly5Z07tyZ999/n0svvZTly5cza9YsRo0adcjFpA92vgMHDuT//u//GDVqFLZt89ZbbzFo0CACAgKwbdt/DrZtY9s2AQEBnH322bz00kucf/75REdHk5KSQmRkJI7jMHr0aB555BFc1+W3334rdmHrg9XTqlUrFixYwPnnn8+GDRuYNWsW//jHPw6oBzigppdffpm+ffsSHBzMrl27qFOnTrF/t/bt2+N5HtOnT2fgwIHMnj2bv/76i65du7J79+4if5f9f+/bjm3bxMTElNpCq5V5wVapWLo2pDhHen1syTA8tdTj9ZUegTbc2NHm5o42tUOCgPCyKbIKO+qANXHiRC6//PIir+3cuZPY2FgCAwPJzc1l8uTJdO7c+bBtRUVF+QNWRETEQWdyLeltvLI0cuRIQkND/c+fe+45cnJyuOuuu/y9HqNGjaJTp074fD7at29Phw4daN68OVOmTDmqY3bs2JELLriA9u3bU6tWLYYPH17k/VtvvZWBAwcSFhbGtGnTeO6557jzzjtJSEjwh4knn3ySli1b8u6773LppZfyzDPP0KpVK/r27XvE9Vx55ZWsW7eOLl26AAWDzPcdzH4wo0aNYtu2bfTu3ZuAgADCw8P54YcfCAsLIywsjBEjRrBt27YDejJLYty4cYwcOZKOHTvSvn37Eg+Sv+OOO7jnnnvo0qULgYGBNGjQgK+//prTTjuNp59+mk6dOtG7d+8iU20EBQUxefJkxo4dy6233kpISAiTJk0iIiLCH7BERKqbDWmGJ5Z4vLXaIzwQ7kqwuaG9TWywbgUWa98BWVdeeaVp2LChcRzH1K1b17Ro0cIYY8zll19uvvjiC/92K1euNBERESYtLa3IgK5PP/3UtG/f3nTq1Mm0a9fOXH/99f5BxAdTlQa5V5T8/PyKLqFM+Xw+Ex8fb3799deKLqVcaJC7lBddG1Kcklwfq1M8M/rnfOO8kWfqvJtnHl/sM2m5GrxeUkV6sP773/8eNIRNmDChyPM2bdocdOLFESNG+Af5ihzOlClTGDt2LGeccQYnn3xyRZcjIiLA8mTDI4kuH6031AuFp3vYjDnBJjxQPVZHQkvlSIUZNmyYf44wERGpWIt3FyzAPHmjoUkEvNzb5tLWNiEBClZHQwFLRESkBpu30+PhxR5T/zS0iIIJJzuMamUR5ChYHQsFLBERkRpo9l8eDyz0+H6r4YQY+F8/hwtaWATYClalodIFLNsuWL0nPz+/gisRKX2F13XhdS4iUt5+2+Vx15xQfvzLpUMsfNTf4dzjLRwFq1JV6QJWgwYNCAoK4o033mDMmDFFZomviXw+X7FzQ0nVkZ+fzxtvvEFQUBANGjSo6HJEpIZZkmS4f6HLlE2GVpEWH/V3OK+5hX2QqZHk2FW6f7kjIiJ49tlnueWWW5g9e3ZFl1PhPM9Tb0c1EhQUxLPPPktERERFlyIiNcQfewzjF7pM2mBoGVVwK3BQXDp1aoVUdGnVWqULWAA9e/Zk2rRpbNu2Dc8rg+VxqpCUlJQjXn9PKifbtmnQoIHClYiUi9UphgcXuXywruBbgRP7OlzcqmCMVU1dzqY8VcqABQU9Wfuvp1cTJScna7kLEREpsQ1phocWu/xvjaF+GLx6ks1lbWx9K7CcVdqAJSIiIiW3OcPw8GKPN1d51AqBZ3raXHWC5rGqKApYIiIiVdj2LMOjiwsWYY4MhEe72VzX3iZMwapCKWCJiIhUQTuzCxZhfvUPjxAH7u9iM7a9TWSQglVloIAlIiJShSTnGJ5a6vHScg/bgjvibW7uaBOtYFWpKGCJiIhUAal5hueWeTy7zMM1MLa9zW2dbGqFKFhVRgpYIiIilVhGvuHF3z2eXuaR7YNr29ncEW9TN1TBqjJTwBIREamEsnyGV//weGKJR1oeXHmCzV0JNg3CFayqAgUsERGRSiTHZ/jvSo/HEj2ScuCyNjb3dLZpEqFgVZUoYImIiFQCea7hzVUeDyd6bM+Ci1tZ3NfZoXmUglVVpIAlIiJSgXye4d01hn8vctmUARe2sBjfxaF1jIJVVaaAJSIiUgFcz/DBuoL1AtemwXnHW0wd5NA+TsGqOlDAEhERKUeeMUxab3hgkcuKFBjW1OKTAQ4JtRSsqhMFLBERkXJgjOGLTYbxC12WJsPgRhbv9LPpVseu6NKkDChgiYiIlCFjDN9sNty/0GPhbkP/BhYzz7I5qb6CVXWmgCUiIlIGjDH8uM1w3wKPuTsNfepZTB/q0K+BglVNoIAlIiJSyn7d7nHfAo9fdxi617H47gyHgQ0tLEvjrGoKBSwREZFSMvcvj/sWevyw1dC5Fnx5usPQJgpWNZECloiIyDFauMtw/0KXrzcb2sfCpwMchjezsBWsaiwFLBERkaO0NKngW4GfbzK0job3T3U4v7mFYytY1XQKWCIiIkdoxZ6Ceaw+Xm9oHgnvnOLwz5YWAQpWspcCloiISAmtTS2Yef39dYZG4fDGyQ6XtLYIVLCS/ShgiYiIHMbG9IK1At9ZY6gbCi/1trm8jU2wo2AlB6eAJSIicghbMgyPJHpMXOURGwxP9bC5uq1NaICClRRPAUtERGQ/O7IMjyV6/HelR3gA/PtEm+vb24QHKlhJyShgiYiI7LUr2/DkUo9XlnsEOXBPgs2NHWyighSs5MgoYImISI23J9fw9FKPF5d7ANzayeaWjjaxwQpWcnQUsEREpMZKyzM8/7vHs8s88j24vp3N7fE2tUMUrOTYKGCJiEiNk5FveHm5x1NLPTJ9cE1bmzvjbeqFKVhJ6VDAEhGRGiPbZ3j1D48nlnik5MGYE2zuTrBpGK5gJaVLAUtERKq9XNfwxkqPRxZ77MqBS1tb3NvZoWmkgpWUDQUsERGptvI9w1urDA8vdtmaBRe1tLi/i0OLKAUrKVsKWCIiUu0YY5i0wXDXby7r02BkC4vxXRxOiFGwkvKhgCUiItXK7L88bpvrMWenYUhji88GOnSMU7CS8qWAJSIi1cKaVMOd810mbzR0rgU/DnHo39Cu6LKkhlLAEhGRKm1XtuGhRR6vrfA4Lgze7efwr5YWtqVeK6k4ClgiIlIlZfsML/zu8VhiwezrD3e1GdtBCzFL5aCAJSIiVYpnDO+tMdy7wGV7FlzTzub+Lpp9XSoXBSwREakyftjqcfs8l8QkOPd4i8e6ObSKVrCSykcBS0REKr3fkw3j5rt8s9nQq67FrGE2vetpALtUXgpYIiJSaW3LNNy/0OWt1YbmkTBpgMOIZhaWBrBLJaeAJSIilU5GvuGppR5PL/UIdeC5njZXt7UJchSspGpQwBIRkUrD5xkmrvIYv7BgMeabOtjcGW8TE6xgJVWLApaIiFQ4Ywxf/VkwzmpFSsGagQ931WLMUnUpYImISIVauMtw2zyXn7cb+jeweO9Uhy61FaykalPAEhGRCrEx3XDPby7vrzO0i4GvBjmc0VgD2KV6UMASEZFytSfX8Giix4u/e8QFw+snO1za2iLAVrCS6kMBS0REykWea3j1D49/L/bIceHuBJtbO9lEBCpYSfWjgCUiImXKGMMn6w13/eayMQMub2Px4IkOx4UpWEn1pYAlIiJlZuYOj9vmeczbaRja2GLK6Q7t4xSspPpTwBIRkVK3OsVw528un200dKkNPw11OLWBlraRmkMBS0RESs2ubMODizz+u8KjQTi8d6rDhS0sbH0zUGoYBSwRETlm2T7D8797PJboYVvwSDebse1tQgIUrKRmUsASEZGj5hnD/9YY7l3gsiMLrmtvc29nm9ohClZSsylgiYjIUflhq8ft81wSk+C84y0e6+bQMlrBSgQUsERE5AgtSzaMm+fy7RZD73oWs4fZ9KqnAewi+1LAEhGREtmWabh/octbqw3NI2HSAIcRzbS0jcjBKGCJiEix0vMMTy31eGaZR6gDz/e0uaqtTZCjYCVyKApYIiJyUD7PMGGlx/hFHql5cFMHm7sSbKKDFKxEDkcBS0REijDG8OWfhjvmu6xMgVEtLR7u5tAkQsFKpKQUsERExG/BroKlbX7ZbjitgcX7pzp0rq1gJXKkFLBERISN6Ya7f3P5YJ2hfSx8PdhhcCMNYBc5WgpYIiI12J5cw6OJHi/+7lErBN442WF0a4sAW8FK5FgoYImI1EC5ruHVPzz+vdgjz4V7Otvc2tEmPFDBSqQ0KGCJiNQgxhg+WW+48zeXTRlwRRubB0+0qR+mYCVSmhSwRERqiJk7Cgawz9tpOLOJxdRBDu1iFaxEyoIClohINbc6pWDKhc83GbrUhp+GOpzaQEvbiJQlBSwRkWpqV7bhwUUe/13h0SAc3jvV4cIWFra+GShS5hSwRESqmSyf4dmVQby42odtwaPdbG5obxMSoGAlUl4UsEREqgnXM/xvreHeBS47s4K4tr3NfZ1taoUoWImUtyI34ceOHUuzZs2wLIvExMSD7vDzzz8TGhpKQkKC/yc7O9v//sSJE2nVqhUtWrRgzJgx5Ofnl+0ZiIgI32/xOPEzH5f+4tK7rsWc0zN5vpejcCVSQYoErPPOO4+ZM2fStGnTYndq06YNiYmJ/p/Q0FAANmzYwH2XZVd+AAAgAElEQVT33ceMGTNYu3Ytf/31F6+//nrZVS8iUsMtTTIM/sbH6d+4hAdazB7m8PGAAI6PMBVdmkiNViRg9e3bl0aNGh11Y5MmTWLYsGHUr18fy7K4+uqr+eCDD465SBERKWprpuGyX3wkTPaxPs3w6QCHmWc59KqnbweKVAZHNQZr3bp1dOnSBcdxuPTSS7n22msB+PPPP4v0fjVr1ow///zzsO2lpaUVeR4cHExwcPDRlCYiUq2l5xmeXOrxzFKP8EB4sbfNVW1tArW0jUilcsQBq0uXLmzZsoXo6Gi2bNnCkCFDqF27Nueff/5RF9G4ceMiz8eNG8cdd9xx1O1VJ3v27KnoEqQS0/VRc/g8eHdDIE+uCCI93+KqVnnc1CaPqEBITzlwe10bUhxdH6UvLi6uyPMjDlhRUVH+x40aNeLCCy9kxowZnH/++TRp0oR169b539+4cSNNmjQ5bJubN28u0q56sIra/48msi9dH9WbMYYv/yyYKHRVCoxqZfFwV4fGEUGH3VfXhhRH10fZOuKb9du3b8fzPADS09OZOnUqnTt3BuDcc89lypQp7NixA2MMr732GhdccMFh24yKiiryo3AlIgK/7fLoN9Xl7GkuDcMsFp4TwDv9AmgcoduBIpVdkYB11VVX0ahRI7Zs2cKgQYNo2bIlAFdccQVTpkwB4NNPP6Vjx47Ex8fTs2dPBg4cyKWXXgpA8+bNefDBBznppJNo2bIlderU4aqrrirnUxIRqdo2phv++ZOP7p+7JOcavh7s8P0Qh861FaxEqgrLGFNh3+VNS0sjOjqa1NTUIrcI5W/JycnqxpVD0vVRvWTkG/69yOP53z1qhcC/T3QY3drCOYoB7Lo2pDi6PsqeZnIXEalgxhg+22i4cY7L7hy4O8Hmtk424YHqsRKpqhSwREQq0Lo0ww2zXb7ZbBja2OKl3g7HRylYiVR1ClgiIhUg1zU8ucTj0USPuqHw+UCHYU0tLEvhSqQ6UMASESln32/xuG6Wy4Z0uK2Tzb2ddTtQpLpRwBIRKSdbMw23zHX5eL2h33EWn5/u0C5WwUqkOlLAEhEpYz7P8NJyj/sXeoQFwP/6OfyrpW4HilRnClgiImVo9l8e18x0WZYM17azebirTUywgpVIdaeAJSJSBnbnGO6c7zJxlaFrbYv5w2261jnixTNEpIpSwBIRKUWeMby5qmDtQNfAqyfZXHmCfVSThYpI1aWAJSJSSpYkGa6Z6TJnp+HiVhZPdneoF6ZgJVITKWCJiByjtDzD+IUeLy73OCEafj7T4ZTjdDtQpCZTwBIROUrGGD5eb7h5rktqHjzWzebmjjaBuh0oUuMpYImIHIXVKYbrZ7t8v9VwTjOL53s5NIlQsBKRAgpYIiJHINtneCzR44klHg3DYeogh6FNdDtQRIpSwBIRKaGv//S4frbL1kwYF29zV4JNWIB6rUTkQApYIiKH8WeG4aY5Lp9tNAxoaPHNYIc2MQpWInJoClgiIoeQ7xmeX+bxwCKP6CD4sL/D+c21xI2IHJ4ClojIQfy63ePaWS4rUmBse5sHT7SJClKwEpGSUcASEdnHzmzD7fNc3l1j6FXXYuE5Dgm1FKxE5MgoYImIAK5neH2lx92/edgWvHGyw2VtLGzdDhSRo6CAJSI13sJdhmtmufy2y3B5G4vHuzvUDlGwEpGjp4AlIjVWSq7h3gUer/7h0SEOZp7lcFJ9zWklIsdOAUtEahxjDP+31nDrPJcsHzzT0+aG9jYBWuJGREqJApaI1Cgr9hiuneXy83bD+c0tnu3p0DBcwUpESpcClojUCJn5hocXezy91KNZJHx3hsPpjXQ7UETKhgKWiFR7X2z0GDvH5a9suK+LzbhONiFa4kZEypAClohUWxvSDDfOcfnyT8PgRhY/DXVoEaVgJSJlTwFLRKqdXNfwzFKPhxd71AqBTwc4nNOsfJa4Mb488jauJGd1IrlrEvEl/4UdFIIVHIIVFIoVFIIdHIIVHIoVHLr3vcLHwf7HBdvtfRwc8vd2jv63LVIV6L9UEalWftzqcd0sl3VpcHNHm/u72EQEll2wMq5L/pa15KxJJHd1IrkblkN+HnZYJMGt4glu3RmTn4vJy8Hk5mBys/FysjBpyQWP975m8nIweTmHP6ATuE9AKwhtdnAI1t4AZu8NZ3kepMfEYe0T2oqEuX32sQKDsWyNRxMpTQpYIlItbM8y3DrX5YN1hj71LCYNcOgQV/rByhiDb8cmfw9V7tplmJxMrOBQglt0IHrIJQS3SiCwwfFHHFqM5xWEsdxsTG4OXm42Jm/v47y9QawwlO193eRm+9/z0vfg270Nk5uDm51Jmi8Xk5sLbv5hj+0PW8Eh2EGF4a1oL9pBw5z/9b/38Qe4gKCj/ZhFqjwFLBGp0nye4T9/eNy7wCPIgbdPcbi4VendDjTG4CZtJ2fNkoIeqjVL8DJSwAkkuHk7IvufS3CrBIKatD7m23eWbWMFh0Jw6DHXnZycTFxcXME5+PIxeTn79Jbt13O2X2jz9gY5/z4ZKfuEub3BLi8HjCn+fIJDcaJrFfxExWFH1/77+T6vWwGBx3y+IpWNApaIVFnzdnpcM9MlMQmuamvzSFebuFJY4sZNTdp7y28JuWsScffsBMsmqElrwnsOIrh1AsHN2mEFBZfCWZQ9KyAQKyAQOyyy1No0xuztbdsvePl72bLxMtNwU3bjpiXj27MLd+NK3NTd4Cvao2aHRxcJXfZ+AcyJqY0dHq3bmFKlKGCJSJWTnGO46zePN1Z6JNSCOWc79Kh79P/4epnp5K5d4g9Vvp2bAQhscDyhnU4qGEvVoiN2aHhpnUKVZ1kWVlAIBIVAZEyJ9zPGYLIycNOS/OHLTU3y/+RtXYe74je8tD1gvL93tJ2CsBVdCzs6Die69t7ntXEKn0fXwgoJK5cvM4gcjgKWiFQZnjG8s9owbr5Lngsv9ra5pq2Nc4RL3Hi52eSu+71gDNWaRPK3rgdjCKjdgODWCUSdMYrglp1wjiA4SMlYloUVHokdHkngcc0OuZ1xXbyMlCLhy03djZuajJuWRO7apXipSXhZ6UXbDwopCGF7e77+DmG1/g5iUXFYgRofJmVLAUtEqoRlyYZrZ7rM/Mvwr5YWT/dwqB9WsmC1/9QJeZtWgediR9cipFUCESefTXDrBAJi65bxWUhJWY7jv01YHJOXW7QXLG2fQJaym/xNq3BTkzD5uUX2s8Oj9hkXFrf3WLWLhDA7MgbLdsryNKUaU8ASkUotPc/w4CKP53/3aBUNPw11OLVB8bcDDzl1QngUwS07ETPiGoJbxRNQt5FuJ1VxVlAwAbWPI6D2cYfcxhiDyc4sGr72+cnfvoncVYtw05LB2/e2pI0TGff3Lcl9b036e8dqYYVG6DqSAyhgiUilZIxh8saCmdiTc+DfXW1u7WgT5Bz4D1lZTp0gVZ9lWVhhEdhhEQTWb3rI7Yzn4mWkHhjC0pJwU5LIW78cNzUJLzOtaPuBwfuNC6uFExmLHRGNHRGNExmDHR6NHRmDHRRS1qcrlYQClohUOmtTDTfMdvl2i+GsJhYv9nZoFvl3sDrk1AkBgQQfX7pTJ0jNYRUOpI+Kg8atDrmdyc/7+7bk3vBV2DvmpSaRv2UtbkYqJjvjwGMEBWNHxBQEr4iYvx/vDWFOZMzeYBaDExGtsWJVmP7PIyKVRo7P8MQSj8eWeNQPhS9OdxjWtKDHqdipE3oNLvimXxWaOkGqLiswiIBa9QmoVb/Y7Ywvv2CqivQUvMxUvPQU3IyUgl6yvb99f/2Juz4VLz0Vk5t14LGCw7Ajo3EKe8D8wezv33ZEzN6AFqU5xSoRBSwRqRS+2+xx3WyXPzPgtk42d7XOJGDjUvb8doipE1onENy8g6ZOkErLCggs0UD9QiY/DzcjFa8whO0NZm56iv+1/G0byN27jcnLPaANKzQCZ++tycJeMHu/3jEnIgbjM5joaCxHg/jLigKWiFSoLRmGm+e6fL02izEhfzA2YhnhvySS+v5Bpk5o1QknQlMnSPVkBQYREFsHYuuUaHsvN+fvMLb3976P3fQU8jav8b+2/wSvWwE7LLLgNmXk3jDm7x3b73FkDHZYpL5VeQQUsESkQuTl5fLR9BWsWLSYSzKX8kzWauy9UycEtkogou/wgm/6aeoEkYOyg0Owg+vDYW5Vwt5vUuZmF8wtlpFK6vYthFvu3t6xVP/rvt3b/QEN11e0EcvGDo/8u2ds/1uVhSEtLLLgp4bfslTAEpFyse/UCX/9vhj7zz841cujR1AUkW06EdnmmoK5qOo01FfeRUqZZVlYIWHYIWEE1G5AQFQ9wveuVXkw/qktMooGsCK3LwvHkGWk4mWmFp3iovC4QSHY4VEFwSwsEjssam/4+juE2eFR+4SySOzQyGpx61IBS0TKjMnPI3vZHLIW/Uzu2qWYnExyA0KZFdKezcePYli/znRq31xTJ4hUMvtObUHdRofd3ngeXnZGQRjLSsfLTNvvd3rB76w0fLu2+t8zeTkHP35I+N7gFXFgCAuLxAmPwtr7uzCYWSHhler/JQpYIlLq8rasI3Ped2Qt/AmTlUFgs7as6jiCf6d24vewljzcI4i72xz5EjciUjlZto0THoUTHnVE+xlf3j7hqzCI7RfKMtPwUpPwbduAu/f5/uPJ9hZREMj2uUX5dy/ZPj1ohY9DCwJkWQUzBSwRKRVeVjpZC6eTOe878resw46KJaLXEDa1HsiVK49j3k7DJe0sPurhUDdUwUpEwAoIOqJvWhby8nIODGEH6THzJe/A27Km4HlmGnjuQYqwCnrMwiILAtre4FXwOxKr8Pk+r5UknClgichRM55H7ppEMud+R/ay2eB5hLTvQdTgUeS16Mr9iy1enuHRNsbwy5kOfY+rPN33IlJ12UEhBbPix5TsG5ewz0D/whCWnYGXlYGXnYHJyjjgNV/Sjr2P0zHZmWDMgY3uE86Ou++tIm8pYInIEfMl/0XW/O/JnDcNd89OAuo2JnrIJYR1Ow07IoaP1htumeySlmd4orvNjR1sAnU7UEQq0L4D/Uvyzct9Gc/D5GTtDWAHD2f7U8ASkRIpGLA+m8x508hdvRgrKISwzqcQ1uN0gpq1xbIsVqUYrvva5cdthhHNLJ7v5dA4QsFKRKo2y7b/HvRfwnCmgCUixcrbspbMedP8A9aDmncg9oKbCU3oix1csHBtls/w6GKXJ5d6NA6HrwY5DGmi24EiUnMpYInIAbzMdLIW7TtgPY6IXkMI63E6gft9ZXvqJo8bZrtsy4K7EmzujLcJDVCvlYjUbApYIgIUM2D9jIsJOaHrARP/bUo33DTH5fNNhoENLaYNcWgVrWAlIgIKWCI1ni9pB5nzvydr/vcFA9brNSF66GjCuvbHiYw9YPs81/DcMo+HFnvEBMHHpzmcd7yl2ddFRPahgCVSA5n8PLKXzioYsL4m8e8B6z0HEdT0hEOGpYW7DBf/7GNVKoxtb/PAiTZRQQpWIiL7U8ASqUHyNq/ZO2B9OiZ774D1C28hNP5k/4D1g/F5hieWeDyw0KNjHCw8J4D4WgpWIiKHooAlUs15melkLfyJzHnTyN+6d8B674MPWD+YdWmGUdNd5u0y3BlvM76LTZCjcCUiUhwFLJFqyHgeuasXkzlvGtlLZ4PxCOnQg6ghBx+wftA2jGHiqoKB7HVD4dczHU6qr6kXRERKQgFLpBo56ID1M0cT1vU0nMiYErezM9swZobLlE2Gy1oXTBgaqbFWIiIlpoAlUsWZvNy9M6x/R+7qRKzgMMK6nEJYj0EENW1zxN/u+3KTxxUzXDwDnw10GN5MvVYiIkdKAUukCjLGkL9lLXm/TGHb8jkFA9ZbdCT2n7cedsD6oWTkG26Z6/LGSsPQxhYT+zrUC1OvlYjI0VDAEqlC3Mw0shdOJ3Pud+RvW48VEUPESUMLBqzXaXjU7c79y2PUzwWzsf+3j8OYEzSvlYjIsVDAEqnkjOeSu7pwhvU5YDxCO/QkauglZNVrTnTtOkfddr5n+Pcij0cSPbrVsfh6sGZjFxEpDQpYIpWUf8D6vGm4KbsIqH/ggPXs5OSjbn9ViuGi6S6Lkwzju9jcnWATYCtciYiUBgUskUrEP2B97ncFM6wf44D1gx7DGP6zwuO2uR6NwmH2MIfudTWQXUSkNClgiVSwwgHrmfO+I2vhz/sMWL+N0Pg+RzVg/VC2Zxku+8Xl2y2Ga9raPNXDJjxQvVYiIqVNAUukgriZaWQt+ImsedPI37YeO7oWEX3OJKz7wGMasH4on27wuHKGS5ANXw92OKOxeq1ERMqKApZIOTKeS+6qvTOs7ztg/czRhLQ5sUQzrB+p1DzD2Nku764xnNPM4vWTHWqHqNdKRKQsKWCJlAMvJ5OMnz8nc+63ewesNyX6rEsJ69ofJ6LkM6wfqV+3e1z8s0tyLrx1isMlrTT9gohIeVDAEilDxnXJnPstad+8i5ebTXjX0wjvOZjAJq3LNOjkuob7F3g8tdTjpHoW04c6HB+lYCUiUl4UsETKgDGGnBW/kTplAr4dfxLW9TSiho4mIPbo56wqqd+TDRdN9/FHCjzazeb2TjaOpl8QESlXClgipSxv23pSP3+D3NWLCWrRkbq3vkRQ41ZlflzPGF743eOu3zxaRMK8swPoXFvBSkSkIihgiZQSNzWJ1G/eJWveNAJqN6DW5eMJ6dCzXMY8bc4wjP7F5adthps62DzWzSYkQOFKRKSiKGCJHCMvN4eM6Z+S/tMnWAGBRA+/ioiThmIFBJbL8T9Y63HtLJfwQPhhiMNpDTX9gohIRVPAEjlKxvPIWvAjaV+9g5uRQkTfs4kaeAF2WGS5HH9PrmHMvBAmb3G5oIXFqyc5xAar10pEpDJQwBI5CjlrlpD6xevkb1lHaHwfos+6jIDaDcrt+D9s9Rj9i0t6XgDvn+pwYUv1WomIVCYKWCJHIP+vzaROmUDO8nkENT2BOmOfIbh5+3I7frbPcNdvHi/87tG/gcXz8Rl0bBRbbscXEZGSUcASKQE3I5W07/6PzFlf4UTXIu7iOwntfEq5Ttq5eHfB9Avr0uHZnjY3drBJ2WPK7fgiIlJyRe4rjB07lmbNmmFZFomJiQfd4aeffqJ79+60a9eO9u3bM27cODzPA2Djxo04jkNCQoL/Z926dWV/FiJlxPjySP/pE3Y8fBlZv/1A1JBLqH/3BMK69Cu3cOV6hscTXXp84SPQhgXDA7i5o4OtGdlFRCqtIj1Y5513HuPGjaNPnz6H3CE2NpYPP/yQ5s2bk5OTw4ABA3j33XcZPXo0AJGRkYcMZyJVhTGG7MQZpE59E3fPTsJ7DyFq8EVluqzNwWxIM1z8s8usvwy3d7J5qKtNsKNgJSJS2RUJWH379j3sDp07d/Y/DgkJISEhgY0bN5Z6YSIVJXfDH6R+8QZ5G1cQ0q47tcc8RGD9JuVagzGGd9YULNIcFww/n+nQ9zgNZBcRqSqOaQzWjh07mDRpElOnTvW/lpmZSbdu3XBdl+HDh3PPPffgOE6x7aSlpRV5HhwcTHBw8LGUJnLEfEk7SP3yTbITfyWwQXNqX/sYIa07H37HUrY7x3DlDJfPNhouaWXxQm+H6CD1WomIVCVHHbDS0tI466yzGDduHF27dgXguOOOY+vWrdStW5fk5GRGjhzJM888w7hx44ptq3HjxkWejxs3jjvuuONoS6tW9uzZU9ElVHsmJ5P8GV/gm/8tVmgEQcOuxOnUlyzbJis5uVxr+X67w9iFIeQbi7d65jCsoQ83Aw5Vha4PORRdG1IcXR+lLy4ursjzowpY6enpDB48mLPPPptbbrnF/3pwcDB169b1H+iyyy7j/fffP2zA2rx5M1FRUUXaUQ/W3/b/o0npMK6PzNlfk/bte5j8XCIHjCSy/z+wg0PKvZbMfMPt8zz+s8JjcCOLN09xOC4sqET76vqQQ9G1IcXR9VG2jjhgZWRkMHjwYAYPHsy9995b5L2dO3cSGxtLYGAgubm5TJ48uciYrUOJiooqErBEypIxhpzl80idMgHfrq2EdRtI9JCLcWJqV0g983d6jPrZZXMGvHKSzTVt7XKd/kFEREpfkVGzV111FY0aNWLLli0MGjSIli1bAnDFFVcwZcoUAF544QXmz5/P5MmT/VMxPPLIIwDMnDmTzp07Ex8fT5cuXahfvz733HNPOZ+SyKHlbVnL7lfvJGnCAzjRtal768vE/fOWCglXPs/w0CKX3lNcogItFo8I4Np2jsKViEg1YBljKmymwrS0NKKjo0lNTVUP1iEkJyerG7cUuCm7Sf3qbbIW/EhAnUZEn30FIe26V1iYWZNqGPWzy2+7DPck2NzXxSbQPvJadH3IoejakOLo+ih7msldqjUvN5v0nyaR8dMkrKAQYs69lvBeZ2A5FXPpG2N4faXHLXM9jguDWWc59Kyn6RdERKobBSyploznkjX/e1K/fhcvM53IfucQOWAkdmh4hdW0I8twxa8uX202XHmCzTM9bSICdTtQRKQ6UsCSaidn1SJSv3iD/G0bCO18CtFnXkpArfoVWtPnGz3GzHCxLZhyusNZTdVrJSJSnSlgSbWRv2MTqVMmkPPHbwQ1a0udm54juFnbCq0pPc9w0xyXN1cbhjW1eONkh7qh6rUSEanuFLCkynPTU0j75n9kzv0GJ7YucaPvJjT+5Ar/Nt6sHQXTL+zMhjdOdri8jVXhNYmISPlQwJIqy+Tnkf7LZ6R//xFYFtFnXU7EyWdhBZRsgs6ykucaHlzk8fgSjx51LL4f4tAiSsFKRKQmUcCSKsd4HtmLfyF16lu4qUlE9DmTyEH/wgmv+Kk+VuwxXPSzj6VJ8NCJNnfE2wQcxfQLIiJStSlgSZWSu345KZ+/Tv6fqwjp0Iva1zxKYN1GFV0WnjG8vNzjjvkeTSNgztkOXetoILuISE2lgCVVgm/3NlK/fJPsJTMJbNSS2tc9QUir+IouC4CtmYZLf3H5fqvh+nY2T/SwCQtQr5WISE2mgCWVmpeVTtp375Mx80uciBhi/3kbYV37Y9mVo3fo43UeV89yCXHg28EOgxpXjrpERKRiKWBJpWR8+WTM+oq0794Dn4+oQf8kot8I7KCQii4NgJRcw/WzXf5vreEfx1v8p49DrRD1WomISAEFLKlUjDHkLJtN6pSJ+JJ2EN5zEFFnjMKJqjxrZk3f5nHJzy6pefBuP4eLWmr6BRERKUoBSyqNvD9Xk/LFG+StW0Zwmy7Uuuw+AhscX9Fl+eX4DPcu8Hh2mUff4yzeOcWhaaSClYiIHEgBSyqcb88u0r56i6wFPxFQvym1r3qYkLZdK7qsIpYmFUy/sCoFnuxhc3MHG0fTL4iIyCEoYEmF8XKySP/xY9J/nowdHEbMP24gvOdgLMep6NL8XM/w7DKPexd4tI6G34YH0KmWgpWIiBRPAUvKnXFdMud9R9rX7+LlZhHZbwSRp/0DOyS8oksrYlO64ZJfXH7dbrilo83DXW1CNP2CiIiUgAKWlKvctUvZM+kVfDs2Eda1P1FDRxMQW7eiyyrCGMN7aw3Xz3KJDoIfhzqc2kDTL4iISMkpYEm5MMaQOfNLUj57jaCmJ1D3lhcIatKmoss6QFKO4ZqZLp9sMPyrpcXLvR1igtVrJSIiR0YBS8qccX2kfPofMmd/RcQp5xA97IpKNc6q0LQtHqN/cclx4cP+DiNbqNdKRESOjgKWlCk3M43ktx8hd93vxI68kfBeZ1R0SQfI8hnumOfx8h8eAxpavH2KQ8Nw9VqJiMjRU8CSMpO/4092TxiPyc6kzrWPEdyyU0WXdICFuwqmX9iYDi/0srm+vY2tSUNFROQYKWBJmchZsYCkdx7FialDnZsfJaD2cRVdUhE+z/B4oseDizw6xsHCcwJoF6tgJSIipUMBS0qVMYaMXz4n9Ys3CGnblbiL76h00y+sSzOMmu4yb5fhznib8V1sghyFKxERKT0KWFJqjC+flEmvkDn3WyJOPZfosy7DsivPYHZjDBNXGW6a41I3FH490+Gk+hrILiIipU8BS0qFm5FK0lsPk7dxBbEX3kJ4j9MruqQidmYbxsxwmbLJcFlri+d7OUQGqddKRETKhgKWHLP87RvZPeEBTG42da57guDm7Su6pCKmbvK4fIaLZ+CzgQ7Dm6nXSkREypYClhyT7OXzSH73CQLi6lLr2scJqFW/okvy84zhwUUeDy3yGNLYYmJfh/ph6rUSEZGyp4AlR8UYQ8b0T0n9ciIh7XsQd9E47JCwii7LLzO/YB3BTzcYHulqc1eCjaXpF0REpJwoYMkRM7489nz8ElnzvyfytPOJGjoay648t902ZxiGTfOxJhUmD3A45/jKU5uIiNQMClhyRNz0FJLefIi8zWuIveh2wrueVtElFTHnL49zvncJdmDWsADia6nXSkREyp8ClpRY3rb1JL3xAMaXT53rnyS4WduKLqmI/63xuOJXl251LCYPdKgbqnAlIiIVQwFLSiR72RyS//cEAXUaUuuK8QTE1q3okvxcz3DPAo8nlniMbm3xWh+HYE0cKiIiFUgBS4pljCH9x49J++ptQjr2Iu5f47CDQyq6LL/0PMO/prtM/dPwdA+bWzpqMLuIiFQ8BSw5JJOfx56PXiBrwY9Env5PogZfVKkGs29IKxjMvikDpg5yGNKk8tQmIiI1mwKWHJSblkzSxIfI27aeuIvvJKxLv4ouqYhft3uM+N4lOgjmnq2FmkVEpHJRwJID5G1ZS9KEBzGeS93rnyKoaZuKLqmICSs9rpnp0qe+xaQBDrVCFK5ERKRyUcCSIrKXzCT5/54ioF4Tal8+HiemdkWX5OfzDLfN83jhd4+r29q82Nsm0Fa4EhGRykcBS/j/9u40OopqbRvwXVWddOaEJAQiECIzCAIRFJmUSRQQkDUhQ+oAABxRSURBVCmeIyoIgjggHs8Hvkc9DCIOKDggMgVEERABERVkknlGiSKokEhIGEIkU2fspGvv90f88hqVMKTTVd19X2vlR6fTez+d7JW6166nuoDfm9m3rIBtw4fwb9MFNf75LFRf8zSz59gl4rfp2HZe4r1OKh5voRldEhER0WUxYBFkiR1ZK2ej6LsdCLl7OIJ7P2CqK/FO5pQ1s18sAr6+R0PPOmxmJyIic2PA8nJ6biYuJUyF48IZhI/4DwLadDW6pAq2nhMYulVHLX/g0EALGoeaJ/gRERFdDgOWFytJO4XMRVMBADXHvwHfeo0Nruj/SCkx94TA0/sFetZRsLK7hjArwxUREbkHBiwvVXh0F7KXvwlLdP2yZvbQCKNLKlcqJMbvE5j3k8CElipm3qbCwmZ2IiJyIwxYXkYKAdumj5G36WP4x92J8PufgeJrNbqscpnFEkO26th7UWJhFw2jm7HfioiI3A8DlhcRJcXIXv4mihJ3I6TPwwjudb+pmtmPZ5U1s9tKga19NHSNZrgiIiL3xIDlJRw5vyFz0VQ4MtIQMfIF+LfubHRJFXyVKvCPb3TUDwK29rHgxhDzBD8iIqJrxYDlBUrO/IJLCVOhqBpqjp8F37oNjS6pnJQSbx4TmHhQoF+Mgo+7aQj2ZbgiIiL3xoDl4Qq/3Y6slbPhW6chIkb9F1pwDaNLKmfXJcbu1rH0lMRzrVVMb6dCYzM7ERF5AAYsDyWFgO3rj5C3eQUC2vVAjfinofj4Gl1WuYuFEoO26jjym8SHd2p4sDH7rYiIyHMwYHkgYS9C1sczUXxsP0L6PYLgHkNN1cz+fWZZM7tdB3b209ChFsMVERF5FgYsD+PIzkDmwilwXDqPiFH/hX/L240uqYLPTgsM36GjaSjw+V0W1AsyT/AjIiJyFgYsD2I/fQKZi1+CYvFBzQmz4HtDA6NLKielxIxEgReOCAy5UcEHd2gI9GG4IiIiz8SA5SEKDm9F9sq34Vu/CSJGvggtOMzoksoVOSQe2aVjZbLElDgVL8apUE10ypKIiMjZGLDcnBQCtq8+QN62VQi49S7UGPYkFIt5mtnPF0gM2KzjeLbEqh4ahjZgvxUREXk+Biw3JooLkbXsdRQfP4jQAY8i6M5BpmpmP/ybwMDNOhQF2NPfgrhI89RGRERUnRiw3JQjMx2Zi6bAkZWBiEenwr/FrUaXVMHKZIGRO3W0jlDwWS8N0QEMV0RE5D0YsNyQ/dcfy5rZrf6ImjALPtGxRpdUTkiJyd8KTD8q8EAjBYu6aPCzMFwREZF3YcByMwUHNyN71TvwjW2OiJEvQAsKNbqkcgWlEg/t0PFZisQr7VVMaq2a6pQlERGRqzBguQkpdOR+sRj529cgsMPdCBvyBBSLj9FllUvNl+i/yYEkG/BZLw0DYtnMTkRE3osByw2I4gJkffgain86gtD7HkNQ1wGm2hnad1Hgvi06/DVgX38Lbo4wT21ERERGYMAyOZF9ERkLZkPPyUTkmGnwa97O6JIq+OCkwNjdOm6tqWBtLw01/RmuiIiIGLBMzJ70A4oTpsESGIKoZ96CT616RpdUThcSzx0WeOMHgVFNFcztpMFXY7giIiICGLBMK3//RuR8OgdqTDNEPToFamCw0SWVs5VI/OMbHV+flXjrdhXjb2IzOxER0R8xYJmM1HXkfr4Q+bvWIbBjX4hu8aYKV8m2smb2c4XAht4aetdjMzsREdGfMWCZiCgqQObSGbCfPIqwIU8gqPO9yMrKMrqscjvOCwzeqiPcChwYYEGzMO5aERER/R0GLJNw/HYelxZOhp6Xjcix0+HXNM7okipY8JPAE3t13BGtYFUPDeF+DFdERESXw4BlAsUnE5H5wXRogaFlzexRdY0uqZxDSPzrgMC7xwWeaKFi9u0qfFSGKyIiosowYBksf8+XyFk7F9bGbRDx8P9ADTBPv1W2XWLYNh3bz0vM7aRiXAvN6JKIiIjcAgOWQaSuI+ezeSjY8wWCuvRH6MCxUDTzBJhfciTu3eTAJTuw+R4N3euwmZ2IiOhqMWAZQBTmI/ODl2FP+gFhQ59CUKe+RpdUweazAsO26bghADg0wIJGoTwlSEREdC0YsFxM6g5kLpmOkrNJiBw3A36NWxtdUjkpJd49LvDMAYHedRWs6K4h1JfhioiI6FoxYLlYzmfzYU8+hpqPvwJro5uNLqdciS7x5D4dC3+WeLaVitduVaGxmZ2IiOi6MGC5UP7er1Cw5wuEDX3KVOHqUrHE4C069mdILO6qYWRT9lsRERFVBQOWi9iTfkDOmrkI7HyvqXqufsyS6L/ZgfxS4Ju+GjrXZrgiIiKqKh5NXcCRmY7MJdNhbdgKYfeNNbqccl+eEbh9vQPBPsDhgRaGKyIiIifhEbWaieJCXFo0BYp/IMJH/AeKZvymoZQSr3+vo/9mHT1vULC3vwX1g9lvRURE5CzGH+09mBQCWctmQs/KQNQzs6EFhhhdEoodEmN26/goSeL5NiqmtVOhKgxXREREzlRhB2v8+PGIjY2FoihITEy87IsSEhLQuHFjNGzYEI8++ihKS0uv6jlvY9v4IYqPH0D4Q5PgU7u+0eUgvVCi21c6Vp2W+LibhuntNYYrIiKialAhYA0ZMgR79uxB/fqXDwOnT5/Giy++iN27dyMpKQkXL17EggULrvictyn8bgfytqxESN+R8L/pNqPLwdFLEu3XOXAmX2JXPw3/bMSzw0RERNWlwlG2a9euqFu38hsNr169Gv3790ft2rWhKAoee+wxrFix4orPeZOS1JPIWjELAe26I7jHUKPLwZrTAp2/cKCWv4LDAy24NYrhioiIqDpdcw9WampqhR2u2NhYpKamXvG5ythstgqPrVYrrFbrtZZmCnpuJjITpsEn+kbUiJ8AxcBTcFJKvHRUYPK3AvENFCy+Q0OAhacEiYiIqpspmtzr1atX4fHEiRMxadIkg6q5ftJRAvvS6ZBCh8/g8cjOy6/ymNnZ2df1ukIH8NS3flh31gf/08KOZ5uVoNgGFFe5IjKT610f5Pm4NqgyXB/OFx4eXuHxNQesmJgYJCcnlz9OSUlBTEzMFZ+rTFpaGkJC/u8KO3fcwZJSIvvjNyAyUhH11Ez4xjR02th//qNdybkCiYE7dfyUI7G6p4bBNwY5rRYyn2tdH+Q9uDaoMlwf1euam3EGDx6M9evXIz09HVJKzJs3D/fff/8Vn6tMSEhIhS93C1cAkL99NQqPbEP4/c/AN6apYXUcyhBov86BjCKJPfdaMPhG9lsRERG5WoWj79ixY1G3bl2cPXsWvXv3RqNGjQAAo0ePxvr16wEADRo0wNSpU9GpUyc0atQINWvWxNixY6/4nCcrOn4QuV8sRnDPeATc0s2wOpYnCXT9Ukf9IAWHBlrQNpL9VkREREZQpJTSqMltNhtCQ0ORm5tb4RShOylNT0XG7AmwNmqFiFGToajO3THKysq64jaukBIvHhGYkSjwUGMF8ztr8GMzu1e4mvVB3olrgyrD9VH9TNHk7q5EQR4uLZoMrUZNhD84yenh6mroQmLkTh3LkiRm3qbi2VaqoVcuEhEREQPWdZO6A5lLX4YsKkDNZ2ZA9QtweQ1CSozerePjZInl3TXc35D9VkRERGbAI/J1ylm3APakYwgf8TwskdEun1/IsnsKfnhK4qM7Ga6IiIjMhEfl65C/bwMKdq9H2KBx8Gvc2uXzCykxbo/A4l8klnTlbW+IiIjMhkfma2RPPoac1e8hsFM/BHXu5/L5pZR4ap/Awp8FErpqeKgJ/4RERERmwx6sa+DITEfm4umwNmyJsEGPuXx+KSUm7BeYe0JgYRcNI5syXBEREZkRj9BXSdiLkLloChQ/f4SPeB6K5tpsKqXEswcE3jkuMK+zitHN+KcjIiIyK+5gXQUpBLKWzYQj6yKiJsyGFujaz+ySUmLSIYHZPwrM6ahibHPNpfMTERHRteE2yFWwff0Rin/cj/AHJ8EnOtalc0sJPH9EYOYPAm/druKJmxiuiIiIzI47WFdQ+N1O5G1egZB+I+HfsoPL53/1hC/e+FngzdtUPN2S4YqIiMgdcAerEiVpp5C9Yhb8b+mG4B7DXD7/tO90vPGzFa/dquJfNzNcERERuQsGrMvQbVnITJgKS3R9hMdPcPntZ14+qmPytwIv3GTHxNYMV0RERO6Epwj/hiwtQWbCNEghEPnIf6H4Wl06/2uJOl44IjDtFhVPxJa4dG4iIiKqOu5g/YmUEtmr3kHJuWREjpoMLSzSpfO/+YOO5w4L/DdOxYtx3LkiIiJyRwxYf5K/Yy0KD29F+P3PwLd+U5fO/dYxHf8+KPCfNiqmxPFPQ0RE5K54FP+DohOHkbs+AcE9hiGgXXeXzj3nuI5nDghMvFnF9Haqy3u+iIiIyHkYsH5Xmp6KrA9fgV+L9gjp+7BL537/hI6n9gn8q5WKV29luCIiInJ3DFgAREEeMhdNgRYWifAHJ0JRXdf7tPBngcf3CjzdUsUbtzFcEREReQKvv4pQ6joyl86AKMxD1L/ehuoX6LK5F/8iMGa3jidaqJjdgeGKiIjIU3j9Dlbu5wtgT/oe4SOehyXyBpfNu/SkwOhdOh5rruLdjgxXREREnsSrA1bB/o3I3/U5wgaNg1+TNi6bd9kpgZE7dYxqquC9TgxXREREnsZrA5Y9+Udkr34PgR37ILBTP5fNuzJZ4OGdOh5uomB+Fw0qwxUREZHH8cqA5ci6iMzFL8E3tjnCBj/ush2kT38VGL5dxwMNFSxiuCIiIvJYXhewhL0ImYumQPHzR8TIF6BorunzX3ta4B/f6IhvoGDJHRo0leGKiIjIU3nVVYRSCGR9PBOOzHRETZgNLSjUJfN+niIQv03HkBsVLL2T4YqIiMjTedUOlu3rZSg+th/hwyfCJzrWJXN+eUZg6DYdA2MVLOumwcJwRURE5PG8JmAVHt2FvM3LEdLnYfi3ut0lc25MExi8VUe/GAXLuzNcEREReQuvCFglaaeQvfxN+MfdieCe8S6Zc/NZgfu26OhdV8HK7hp8GK6IiIi8hscHLN2WhcyEqbDUjkH4/c+45IrBbecEBmzW0fMGBZ/21OCrMVwRERF5E48OWNJRgszFL0EKHZGjJkPxtVb7nNvPC9y7Sced0QpW99RgZbgiIiLyOh4bsKSUyF71LkrOJiHikcnQwiKrfc5dFwT6bdLRubaCtb00+FkYroiIiLyRxwas/B1rUXhoC2rEPw1rbLNqn29vukCfr3V0iFKw7i4N/gxXREREXssjA1bRicPIXZ+AoO5DENi+Z7XPt/+iwN1f62hXU8H6uzQEMFwRERF5NY8LWKUX05D14Svwa94Oof1GVvt8hzIE7t6oo024gi97awj0YbgiIiLydh4VsERRATIXTYEWGonwhyZBUbVqne/b3yTu2qijZbiCDXdrCGK4IiIiInjYrXJyv/oAui0Ltf79HlS/wGqd6+gliV4bHWgWpmDj3RqCfRmuiIiIqIzH7GCVnPkFBXu/RMg9D8FS84Zqnev7TImeGxxoFKJg0z0aQhiuiIiI6A88ImBJXUf2qnfgU6cBgrr0r9a5jmVJ9PjKgdhgYNM9GkIZroiIiOhPPCJg5e/+HKXnf0WNYeOhaNXXd3Uiuyxc1QsCttxjQQ0rwxURERH9ldsHLEf2b7Bt+BCBnfrBN6Zptc3zc45E968cqB0AbOljQbgfwxURERH9PbcPWDmfvQ/FLwChfUdU2xwnfw9XkX7Atj4WRDJcERERUSXcOmAV/XgAxT/sQ9h9j0H1r56rBpNyJbp95UCYb1m4qunPcEVERESVc9uAJezFyFkzF9Zm7eDfpku1zPGrrSxcBfsA3/S1oFYAwxURERFdmdsGLNumZdDzc1BjyBNQFOcHn5S8snDlr5WFq9oMV0RERHSV3DJglZz/Ffk71iLkrn/CEhnt9PFT8yW6femARSkLVzcEMlwRERHR1XO7gCWFQM4n78ASVRfB3QY7ffy038MVAGzvZ0HdIIYrIiIiujZuF7AK9m9EyZmfUWPoeCgWH6eOfa6g7GpBhywLVzEMV0RERHQd3Cpg6XnZyP1yCQJuuwvWhi2dOvaFwrJwZdeB7X0tiA1muCIiIqLr41Y3e85dtwCKqiL03lFOHffi7+GqwAHs6GtBgxCGKyIiIrp+brODVfzLdyj8djtC+4+GFhTqtHEzisrCVW4J8E0fCxqFMlwRERFR1bjFDpYsLUHO6vfg27AVAm7t5bRxLxVL9NzgQKYd2NHPgiZhDFdERERUdW6xg2Xb+gkcWRdRY+hTTvvMq8xiiZ5fOZBeWPZRDM0YroiIiMhJTL+DVXoxDXlbVyG4+xD41I5xypg5doleGxw4V1jW0N6iBsMVEREROY+pA5aUEjmr34NWIxIhvf7hlDEdQiJ+m46U/LJw1TKc4YqIiIicy9SnCAuPbIP9VCJqDHkSiq/VKWP+57DA1vMSq3poaB3BcEVERETOZ9odLFGQh9zPF8K/7R3wa3aLU8ZckSQw8weBWR1U9Kxj6mxJREREbsy0KSP3y8WQjlKEDRzjlPGOXpIYtUvH8EYKJrQ07dsmIiIiD2DKpGH/9TgK9m9EaL+R0EIjqjzeb0USA7c40LwGsKCL5rQrEYmIiIj+jukCltQdyP70XfjENEVgxz5VHq/096b2IgfwWS8L/C0MV0RERFS9TBew8ravhSM9FTWGjYeialUe798HBHanS6zuqfHmzUREROQSpmpyd2SmI2/TxwjqOgC+dRtWebwPTgq8c1xgTkcVXaNNlyWJiIjIQ5kmdUgpkbNmLtTAYIT0eajK4x3KEHhsj45Hmih4vIVp3iYRERF5AdMkj6If9qL4xCGEDXocqtW/SmOlF0oM2qqjbYSCuZ3Z1E5ERESuZYqAJYoLkLP2ffi17AD/mztWaawSXWLIVh26ANb01GDVGK6IiIjItUzRg2XbvAJaUT7CBo2r8lhP7xc49JvEzn4abghkuCIiIiLXM8UOVsG+jQi5+0FYwmtVaZwFPwnM+0lgbicNt9cyxVsjIiIiL2SKFOJTOwZBdwys0hh70wWe3KdjXHMVo5uZ4m0RERGRlzJFEgm97zEo2vWfrTxXIDF4q47baip463ZTvCUiIiLyYqZII9b6Ta/7tcUOiUFbdPiowOqeGnzZ1E5EREQGM0WT+/WSUmLcXh3fZ0nsuVdDrQCGKyIiIjKeWwes904IfHBSYukdGtrVNMVmHBEREZE5ThFejx3nBSbsF5jQUsVDTdz2bRAREZEHcstkciZPYug2HXdEK5h5m1u+BSIiIvJgbpdOCh0S921xINACfNJDg0Vl3xURERGZi1v1YEkp8eguHT/nAPsGWBDpx3BFRERE5uNWAWvWMYHlyRIru2toE8FwRURERObkNqcIt5wVmHhIYFJrFfEN3aZsIiIi8kJ/SSqnTp1Cx44d0aRJE7Rv3x7Hjx//y4uWLFmCNm3alH9FRkZi0KBBAICUlBRomlbh+eTk5CoV+atNIv4bHb3qKHi5HcMVERERmdtfThGOHTsWY8aMwYgRI7B69WqMGDEChw8frvAzI0eOxMiRI8sft2zZEg888ED54+DgYCQmJjqlwPxSiQGbHQi3Aiu6a9DY1E5EREQmV2E7KCMjA0eOHMHw4cMBAIMHD0ZaWhqSkpIuO8DBgweRkZGB/v37O704KSVG7NRxOg/4vJcFNawMV0RERGR+FQJWWloaoqOjYbGUbWwpioKYmBikpqZedoCEhAQ8+OCD8PHxKf9eQUEB2rdvj7i4OEybNg26rldahM1mq/Blt9sBAK8kCqw5LfHRnRpuCme4IiIiIvdQpasICwoKsHLlShw4cKD8e9HR0Th37hyioqKQlZWF+Ph4vPnmm5g4ceJlx6lXr16FxxMnTkTbh/6DF4744/81L8EdoSXIyqpKpe4rOzvb6BLIxLg+6HK4NqgyXB/OFx4eXuFxhYBVr149XLhwAQ6HAxaLBVJKpKamIiYm5m8H+/TTT3HTTTehRYsW5d+zWq2Iiooqn+yRRx7B8uXLKw1YaWlpCAkJKX98ptiKzhtU9ItR8GqnQKhK0LW/Uw9gt9vx2muvYdq0abBarUaXQybD9UGXw7VBleH6cI0KpwijoqIQFxeHZcuWAQDWrFmDunXrolGjRn/74oSEBIwaNarC9zIyMlBaWgqg7I+4du1atG3bttIiQkJCyr/gF4xhO1XcEAgs66ZBVbz31KDdbsfrr79efsqU6I+4PuhyuDaoMlwfrvGXzzyYP38+5s+fjyZNmuDVV1/FkiVLAACjR4/G+vXry3/ul19+QWJiIuLj4yu8fs+ePWjbti1at26NuLg41K5dG88///xVFSOkxPDtOs4XAOt6WRDi673hioiIiNyXIqWURk1us9kQGhqK3NxchISEYPK3Ol76TuCL3hr6xvDzrv78+yH6I64PuhyuDaoM14drGHqrnP+f7Ww2G75OFZi2V8cLbVV0CdNgsxlZmTnYfv8l2PjLoL/B9UGXw7VBleH6qD7BwcFQfm9tMnQH6+zZs3+5gpCIiIjIHf1xV9DQgCWEwPnz5yskPiIiIiJ3ZJodLCIiIiJPxE5yIiIiIidjwCIiIiJyMgYskyouLsbAgQPRpEkTtG7dGr169ar0ptvknZYsWQJFUbBu3TqjSyETsdvtePLJJ9G4cWO0atUKw4cPN7okMokNGzYgLi4Obdq0QcuWLbF06VKjS/JYhn5MA1VuzJgxuOeee6AoCubMmYPRo0djx44dRpdFJpGSkoKFCxeiQ4cORpdCJvPcc89BURScPHkSiqIgPT3d6JLIBKSUGD58OHbs2IGbb74ZKSkpaNasGQYNGoTg4GCjy/M43MEyKT8/P/Tp06f8aoQOHTogJSXF2KLINIQQGD16NN59913eS4wqKCgoQEJCAl5++eXy/x+1a9c2uCoyC0VRkJOTA6Dsc7AiIiL4P6SaMGC5ibfffhsDBgwwugwyiVmzZqFTp0645ZZbjC6FTCY5ORnh4eGYMWMG2rVrhy5dumDbtm1Gl0UmoCgKPvnkEwwaNAj169dH586dsXTpUvj6+hpdmkfiKUI3MGPGDCQlJfGfJAEAfvzxR6xZswa7du0yuhQyIYfDgTNnzqBFixZ49dVXcfToUfTq1QvHjx9HrVq1jC6PDORwODB9+nSsXbsWXbt2xeHDh9G/f38cO3YMkZGRRpfncbiDZXJvvPEG1q5di40bNyIgIMDocsgEdu/ejZSUFDRu3BixsbE4cOAAxowZg/fff9/o0sgEYmJioKoqHnjgAQBA27ZtceONN+LYsWMGV0ZGS0xMxPnz59G1a1cAQPv27VG3bl0cPXrU4Mo8EwOWic2aNQsrVqzAli1bEBYWZnQ5ZBLjxo3DhQsXkJKSgpSUFHTo0AELFizAuHHjjC6NTCAyMhI9evTApk2bAACnT5/G6dOn0bx5c4MrI6PVq1cPFy5cwE8//QQASEpKQnJyMpo2bWpwZZ6JpwhN6uzZs3j22WfRoEEDdOvWDQBgtVpx8OBBgysjIrObN28eRo0ahUmTJkFVVcyfPx916tQxuiwyWK1atbBgwQIMGzYMqqpCCIE5c+YgJibG6NI8Em+VQ0RERORkPEVIRERE5GQMWEREREROxoBFRERE5GT/CzC9Uryp3+FCAAAAAElFTkSuQmCC\" />"
      ]
     },
     "execution_count": 247,
     "metadata": {},
     "output_type": "execute_result"
    }
   ],
   "source": [
    "plot(nodes(Basis(ChebParams(10, 0.2*k_stst, 2*k_stst)))[1], [0.731039, 0.830067, 0.984055, 1.15697 , 1.32812 , 1.48555 , 1.62093 , 1.72778 , 1.80161 , 1.8393], label=\"True Policy Fucntion\")\n",
    "plot!(K, u_crra_prime_inv.((Ψ * getvalue(θ))./(f_prime.(f.(K, getvalue(α), getvalue(A)) + (1-getvalue(δ))*K - \n",
    "            u_crra_prime_inv.((Ψ * getvalue(θ)) ./ (f_prime.(K, getvalue(α), getvalue(A)) + 1-getvalue(δ)), getvalue(γ)), getvalue(α), getvalue(A)) + 1-getvalue(δ)), getvalue(γ)), label=\"Estimated Policy Function\")\n",
    "#plot!(K, getvalue(modelC), label=\"Estimated Policy Function\")"
   ]
  },
  {
   "cell_type": "code",
   "execution_count": 248,
   "metadata": {},
   "outputs": [
    {
     "data": {
      "text/html": [
       "<img src=\"data:image/png;base64,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\" />"
      ]
     },
     "execution_count": 248,
     "metadata": {},
     "output_type": "execute_result"
    }
   ],
   "source": [
    "plot(K, u_crra_prime_inv.(Ψ * getvalue(θ), getvalue(γ)))\n",
    "plot!(K, Ψ * getvalue(θ))"
   ]
  },
  {
   "cell_type": "code",
   "execution_count": 249,
   "metadata": {},
   "outputs": [
    {
     "data": {
      "text/html": [
       "100"
      ],
      "text/plain": [
       "100"
      ]
     },
     "execution_count": 249,
     "metadata": {},
     "output_type": "execute_result"
    }
   ],
   "source": [
    "sum(u_crra_prime_inv.(Φprime * getvalue(θ), getvalue(γ)) .< 0)"
   ]
  },
  {
   "cell_type": "code",
   "execution_count": 250,
   "metadata": {},
   "outputs": [
    {
     "data": {
      "text/plain": [
       "12-element Array{Float64,1}:\n",
       " 1.72924 \n",
       " 1.45694 \n",
       " 1.16583 \n",
       " 0.957189\n",
       " 0.848343\n",
       " 0.783064\n",
       " 0.741338\n",
       " 0.73344 \n",
       " 0.73344 \n",
       " 0.73344 \n",
       " 0.73344 \n",
       " 0.73344 "
      ]
     },
     "execution_count": 250,
     "metadata": {},
     "output_type": "execute_result"
    }
   ],
   "source": [
    "Ψ * getvalue(θ)"
   ]
  },
  {
   "cell_type": "code",
   "execution_count": 251,
   "metadata": {},
   "outputs": [
    {
     "ename": "LoadError",
     "evalue": "\u001b[91mUndefVarError: modelC not defined\u001b[39m",
     "output_type": "error",
     "traceback": [
      "\u001b[91mUndefVarError: modelC not defined\u001b[39m",
      "",
      "Stacktrace:",
      " [1] \u001b[1minclude_string\u001b[22m\u001b[22m\u001b[1m(\u001b[22m\u001b[22m::String, ::String\u001b[1m)\u001b[22m\u001b[22m at \u001b[1m./loading.jl:515\u001b[22m\u001b[22m"
     ]
    }
   ],
   "source": [
    "getvalue(modelC)"
   ]
  },
  {
   "cell_type": "code",
   "execution_count": 252,
   "metadata": {},
   "outputs": [
    {
     "ename": "LoadError",
     "evalue": "\u001b[91mUndefVarError: modelKprime not defined\u001b[39m",
     "output_type": "error",
     "traceback": [
      "\u001b[91mUndefVarError: modelKprime not defined\u001b[39m",
      "",
      "Stacktrace:",
      " [1] \u001b[1minclude_string\u001b[22m\u001b[22m\u001b[1m(\u001b[22m\u001b[22m::String, ::String\u001b[1m)\u001b[22m\u001b[22m at \u001b[1m./loading.jl:515\u001b[22m\u001b[22m"
     ]
    }
   ],
   "source": [
    "getvalue(modelKprime)"
   ]
  },
  {
   "cell_type": "code",
   "execution_count": null,
   "metadata": {},
   "outputs": [],
   "source": []
  },
  {
   "cell_type": "code",
   "execution_count": null,
   "metadata": {},
   "outputs": [],
   "source": []
  },
  {
   "cell_type": "code",
   "execution_count": null,
   "metadata": {},
   "outputs": [],
   "source": []
  },
  {
   "cell_type": "code",
   "execution_count": null,
   "metadata": {},
   "outputs": [],
   "source": []
  },
  {
   "cell_type": "code",
   "execution_count": null,
   "metadata": {},
   "outputs": [],
   "source": []
  },
  {
   "cell_type": "code",
   "execution_count": null,
   "metadata": {},
   "outputs": [],
   "source": []
  },
  {
   "cell_type": "code",
   "execution_count": null,
   "metadata": {},
   "outputs": [],
   "source": []
  },
  {
   "cell_type": "code",
   "execution_count": null,
   "metadata": {},
   "outputs": [],
   "source": []
  },
  {
   "cell_type": "code",
   "execution_count": null,
   "metadata": {},
   "outputs": [],
   "source": []
  }
 ],
 "metadata": {
  "kernelspec": {
   "display_name": "Julia 0.6.0",
   "language": "julia",
   "name": "julia-0.6"
  },
  "language_info": {
   "file_extension": ".jl",
   "mimetype": "application/julia",
   "name": "julia",
   "version": "0.6.0"
  }
 },
 "nbformat": 4,
 "nbformat_minor": 2
}
