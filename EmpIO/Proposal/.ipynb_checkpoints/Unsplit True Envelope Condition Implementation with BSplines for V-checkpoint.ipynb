{
 "cells": [
  {
   "cell_type": "markdown",
   "metadata": {},
   "source": [
    "In this exercise I solve a deterministic growth model using simulated data generated from an economy with parameters $\\beta = 0.95$, $\\alpha = 0.3$, $A = 1.0$, $\\delta = 0.05$, $\\gamma = 2.0$. I initiate the variables of the mathematical program at the true values, which should make the optimization easy."
   ]
  },
  {
   "cell_type": "code",
   "execution_count": 152,
   "metadata": {
    "scrolled": false
   },
   "outputs": [
    {
     "data": {
      "text/html": [
       "<img src=\"data:image/png;base64,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\" />"
      ]
     },
     "execution_count": 152,
     "metadata": {},
     "output_type": "execute_result"
    }
   ],
   "source": [
    "using CSV\n",
    "using Plots; pyplot()\n",
    "\n",
    "df = CSV.read(\"data.csv\"; header=false, types=[Float64, Float64])\n",
    "dataK = convert(Vector{Float64}, df[1])\n",
    "dataC = convert(Vector{Float64}, df[2])\n",
    "\n",
    "plot(dataK, label=\"capital\")\n",
    "plot!(dataC, label=\"consumption\")"
   ]
  },
  {
   "cell_type": "markdown",
   "metadata": {},
   "source": [
    "The economy's steady state for capital is:"
   ]
  },
  {
   "cell_type": "code",
   "execution_count": 153,
   "metadata": {},
   "outputs": [],
   "source": [
    "k_stst = 4.628988089138438;"
   ]
  },
  {
   "cell_type": "markdown",
   "metadata": {},
   "source": [
    "# The Mathematical Program\n",
    "I define the needed function related to utility and production:"
   ]
  },
  {
   "cell_type": "code",
   "execution_count": 154,
   "metadata": {
    "scrolled": false
   },
   "outputs": [
    {
     "data": {
      "text/plain": [
       "f_prime (generic function with 1 method)"
      ]
     },
     "execution_count": 154,
     "metadata": {},
     "output_type": "execute_result"
    }
   ],
   "source": [
    "u_crra(c, γ) = begin\n",
    "    if (c <= 0)\n",
    "        warn(\"u_crra_prime\")\n",
    "        return -1000000.\n",
    "        else\n",
    "        return c^(1-γ)/(1-γ)\n",
    "    end\n",
    "end\n",
    "\n",
    "u_crra_prime(c, γ) = begin\n",
    "    if (c <= 0)\n",
    "        #warn(\"u_crra_prime\")\n",
    "        return -1000000.\n",
    "        else\n",
    "        return c^-γ\n",
    "    end\n",
    "end\n",
    "\n",
    "u_crra_prime_inv(u, γ) = begin\n",
    "    if (u <= 0)\n",
    "       #warn(\"u_crra_prime_inv\")\n",
    "        return +1000000.\n",
    "    else\n",
    "        return u^(-1/γ) \n",
    "    end\n",
    "end\n",
    "\n",
    "function f(k, α, A)\n",
    "    if (k <= 0)\n",
    "        warn(\"f\")\n",
    "        return zero(k)\n",
    "    else\n",
    "        A*k^α\n",
    "    end\n",
    "end\n",
    "\n",
    "function f_prime(k, α, A)\n",
    "    if (k <= 0)\n",
    "        warn(\"f_prime\")\n",
    "        return zero(k)\n",
    "    else\n",
    "        A*α*k^(α-1)\n",
    "    end\n",
    "end"
   ]
  },
  {
   "cell_type": "markdown",
   "metadata": {},
   "source": [
    "I use the Julia Mathematical Programming languange JuMP and the IpOpt solver:"
   ]
  },
  {
   "cell_type": "code",
   "execution_count": 170,
   "metadata": {},
   "outputs": [],
   "source": [
    "using JuMP\n",
    "using Ipopt\n",
    "\n",
    "m = Model(solver=IpoptSolver(print_level=3, max_iter=500));"
   ]
  },
  {
   "cell_type": "markdown",
   "metadata": {},
   "source": [
    "I define the deep parameters variables and give the the correct starting values:"
   ]
  },
  {
   "cell_type": "code",
   "execution_count": 171,
   "metadata": {},
   "outputs": [],
   "source": [
    "#@variable(m, 0 <= β <= 1, start = 0.95)\n",
    "@variable(m, 0 <= δ <= 1, start = 0.05)\n",
    "@variable(m, 0 <= α <= 1, start = 0.3)\n",
    "@variable(m, A >= 0, start = 1)\n",
    "@variable(m, 100 >= γ >= 1, start = 2);\n",
    "\n",
    "@variable(m, β == 0.95)"
   ]
  },
  {
   "cell_type": "markdown",
   "metadata": {},
   "source": [
    "I define a grid on capital, $K$, with 12 nodes, and evaluate the spline polynomials at those point into $\\Psi$ and at the observed data points into $\\Phi$:"
   ]
  },
  {
   "cell_type": "code",
   "execution_count": 172,
   "metadata": {},
   "outputs": [
    {
     "name": "stderr",
     "output_type": "stream",
     "text": [
      "WARNING: redefining constant params\n"
     ]
    }
   ],
   "source": [
    "using BasisMatrices\n",
    "global const params = SplineParams(linspace(0.2*k_stst, 2*k_stst, 10), 0, 3)\n",
    "basis = Basis(params)\n",
    "K = nodes(basis)[1] #grid\n",
    "Ψ = BasisMatrix(basis, Expanded(), K).vals[1]\n",
    "Ψprime = BasisMatrix(basis, Expanded(), K, 1).vals[1]\n",
    "Ψprimeprime = BasisMatrix(basis, Expanded(), K, 2).vals[1]\n",
    "Φ = BasisMatrix(basis, Expanded(), dataK).vals[1]\n",
    "Φprime = BasisMatrix(basis, Expanded(), dataK, 1).vals[1];"
   ]
  },
  {
   "cell_type": "markdown",
   "metadata": {},
   "source": [
    "The policy function is approximated by 12 cubic splines on a grid around the steady state for capital, the coefficients on the polynomials are $\\theta$:"
   ]
  },
  {
   "cell_type": "code",
   "execution_count": 173,
   "metadata": {},
   "outputs": [],
   "source": [
    "@variable(m, θ[1:length(K)], start = 0);"
   ]
  },
  {
   "cell_type": "markdown",
   "metadata": {},
   "source": [
    "In the equilibrium constraint the polynomials have to be evaluated also outside the grid, I define this function here:"
   ]
  },
  {
   "cell_type": "code",
   "execution_count": 174,
   "metadata": {
    "scrolled": false
   },
   "outputs": [
    {
     "data": {
      "text/plain": [
       "interpV (generic function with 1 method)"
      ]
     },
     "execution_count": 174,
     "metadata": {},
     "output_type": "execute_result"
    }
   ],
   "source": [
    "function interpV(x, values...) #x is the point of evaluation, values are on the grid\n",
    "    return (evalbase(params, [x], 0) * collect(values))[1]\n",
    "end"
   ]
  },
  {
   "cell_type": "markdown",
   "metadata": {},
   "source": [
    "I register all user-defined functions with JuMP for automatic differentiation:"
   ]
  },
  {
   "cell_type": "code",
   "execution_count": 175,
   "metadata": {},
   "outputs": [],
   "source": [
    "JuMP.register(m, :interpV, 1+length(K), interpV, autodiff=true)\n",
    "JuMP.register(m, :u_crra, 2, u_crra, autodiff=true)\n",
    "JuMP.register(m, :u_crra_prime, 2, u_crra_prime, autodiff=true)\n",
    "JuMP.register(m, :f, 3, f, autodiff=true)\n",
    "JuMP.register(m, :f_prime, 3, f_prime, autodiff=true)\n",
    "JuMP.register(m, :u_crra_prime_inv, 2, u_crra_prime_inv, autodiff=true)"
   ]
  },
  {
   "cell_type": "markdown",
   "metadata": {},
   "source": [
    "And I do not initialize $\\theta$ at the true values:"
   ]
  },
  {
   "cell_type": "code",
   "execution_count": 176,
   "metadata": {},
   "outputs": [],
   "source": [
    "#b2 = Basis(ChebParams(10, 0.2*k_stst, 2*k_stst))\n",
    "#ν  = Ψ \\ (BasisMatrix(b2, Expanded(), K).vals[1] * [-15.112, 2.69213, -0.640543, 0.208069, -0.0777003, 0.0304588, -0.0123556, \n",
    "#        0.00602886, -0.00329544, 0.00114639])\n",
    "\n",
    "#for i in 1:length(K)\n",
    "#    setvalue(θ[i], ν[i])\n",
    "#end"
   ]
  },
  {
   "cell_type": "markdown",
   "metadata": {},
   "source": [
    "but with a myopic first guess, that leaves tomorrow's capital within the grid $K$:"
   ]
  },
  {
   "cell_type": "code",
   "execution_count": 177,
   "metadata": {},
   "outputs": [],
   "source": [
    "ν  = Ψ \\ u_crra.(f.(K, getvalue(α), getvalue(A)) + (1-getvalue(δ))*K - 1., getvalue(γ)) # eat almost everything, myopic!\n",
    "\n",
    "for i in 1:length(K)\n",
    "    setvalue(θ[i], ν[i])\n",
    "end"
   ]
  },
  {
   "cell_type": "markdown",
   "metadata": {},
   "source": [
    "The Bellman equation is accompanied by two constraints on the shape of the value function:"
   ]
  },
  {
   "cell_type": "code",
   "execution_count": 178,
   "metadata": {},
   "outputs": [],
   "source": [
    "@NLconstraint(m, increasing[i=1:length(K)], sum(Ψprime[i, k] * θ[k] for k in 1:length(K)) >= 0)\n",
    "@NLconstraint(m, concave[i=1:length(K)], sum(Ψprimeprime[i, k] * θ[k] for k in 1:length(K)) <= 0)\n",
    "\n",
    "@NLconstraint(m, EE[i=1:length(K)], sum(Ψ[i, k] * θ[k] for k in 1:length(K)) == \n",
    "    u_crra(u_crra_prime_inv(sum(Ψprime[i, k] * θ[k] for k in 1:length(K)) / (f_prime(K[i], α, A) + 1-δ), γ), γ) + \n",
    "    β * interpV(f(K[i], α, A) + (1-δ)*K[i] - \n",
    "        u_crra_prime_inv(sum(Ψprime[i, k] * θ[k] for k in 1:length(K)) / (f_prime(K[i], α, A) + 1-δ), γ), \n",
    "        θ[1], θ[2], θ[3], θ[4], θ[5], θ[6], θ[7], θ[8], θ[9], θ[10], θ[11], θ[12]));"
   ]
  },
  {
   "cell_type": "markdown",
   "metadata": {},
   "source": [
    "I define auxiliary expressions for the predictions of the equilibrium conditions:"
   ]
  },
  {
   "cell_type": "code",
   "execution_count": 179,
   "metadata": {},
   "outputs": [],
   "source": [
    "@NLexpression(m, predictedK[t=2:100], f(dataK[t-1], α, A) + (1-δ)*dataK[t-1] - dataC[t-1])\n",
    "\n",
    "R = f_prime.(dataK, 0.3, 1.) + 1-0.05 #the correct returns to saving are used for the data!\n",
    "@NLexpression(m, predictedC[t=1:100], u_crra_prime_inv(sum(Φprime[t, k] * θ[k] for k in 1:length(K)) / R[t], γ));"
   ]
  },
  {
   "cell_type": "markdown",
   "metadata": {},
   "source": [
    "The objective is to minimize the sum of squared errors:"
   ]
  },
  {
   "cell_type": "code",
   "execution_count": 180,
   "metadata": {},
   "outputs": [],
   "source": [
    "@NLobjective(m, Min, sum((dataC[t] - predictedC[t])^2 for t in 1:100) +\n",
    "    sum((dataK[t] - predictedK[t])^2 for t in 2:100))"
   ]
  },
  {
   "cell_type": "code",
   "execution_count": 181,
   "metadata": {
    "scrolled": false
   },
   "outputs": [
    {
     "name": "stdout",
     "output_type": "stream",
     "text": [
      "Total number of variables............................:       17\n",
      "                     variables with only lower bounds:        1\n",
      "                variables with lower and upper bounds:        4\n",
      "                     variables with only upper bounds:        0\n",
      "Total number of equality constraints.................:       12\n",
      "Total number of inequality constraints...............:       24\n",
      "        inequality constraints with only lower bounds:       12\n",
      "   inequality constraints with lower and upper bounds:        0\n",
      "        inequality constraints with only upper bounds:       12\n",
      "\n",
      "\n",
      "Number of Iterations....: 196\n",
      "\n",
      "                                   (scaled)                 (unscaled)\n",
      "Objective...............:   1.2574231074492140e-02    2.1129609599225438e+00\n",
      "Dual infeasibility......:   4.5193936548934139e-09    7.5943429850617153e-07\n",
      "Constraint violation....:   1.7053025658242404e-13    1.7053025658242404e-13\n",
      "Complementarity.........:   1.0000084874015451e-11    1.6804040588668765e-09\n",
      "Overall NLP error.......:   4.5193936548934139e-09    7.5943429850617153e-07\n",
      "\n",
      "\n",
      "Number of objective function evaluations             = 300\n",
      "Number of objective gradient evaluations             = 197\n",
      "Number of equality constraint evaluations            = 314\n",
      "Number of inequality constraint evaluations          = 314\n",
      "Number of equality constraint Jacobian evaluations   = 197\n",
      "Number of inequality constraint Jacobian evaluations = 197\n",
      "Number of Lagrangian Hessian evaluations             = 0\n",
      "Total CPU secs in IPOPT (w/o function evaluations)   =      0.276\n",
      "Total CPU secs in NLP function evaluations           =      0.428\n",
      "\n",
      "EXIT: Optimal Solution Found.\n"
     ]
    },
    {
     "data": {
      "text/plain": [
       ":Optimal"
      ]
     },
     "execution_count": 181,
     "metadata": {},
     "output_type": "execute_result"
    }
   ],
   "source": [
    "solve(m)"
   ]
  },
  {
   "cell_type": "code",
   "execution_count": 182,
   "metadata": {
    "scrolled": true
   },
   "outputs": [
    {
     "data": {
      "text/plain": [
       "(0.768761176534137, 0.0, 0.5863490150503637, 0.5442774912566707, 6.35712345221122)"
      ]
     },
     "execution_count": 182,
     "metadata": {},
     "output_type": "execute_result"
    }
   ],
   "source": [
    "getvalue(β), getvalue(δ), getvalue(α), getvalue(A), getvalue(γ)"
   ]
  },
  {
   "cell_type": "code",
   "execution_count": 183,
   "metadata": {},
   "outputs": [
    {
     "data": {
      "text/html": [
       "<img src=\"data:image/png;base64,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\" />"
      ]
     },
     "execution_count": 183,
     "metadata": {},
     "output_type": "execute_result"
    }
   ],
   "source": [
    "plot(nodes(Basis(ChebParams(10, 0.2*k_stst, 2*k_stst)))[1], [0.731039, 0.830067, 0.984055, 1.15697 , 1.32812 , 1.48555 , 1.62093 , 1.72778 , 1.80161 , 1.8393], label=\"True Policy Fucntion\")\n",
    "plot!(K, u_crra_prime_inv.((Ψprime * getvalue(θ))./(f_prime.(K, getvalue(α), getvalue(A)) + 1-getvalue(δ)), getvalue(γ)), label=\"Estimated Policy Function\")"
   ]
  },
  {
   "cell_type": "markdown",
   "metadata": {},
   "source": [
    "The over/under-statement of returns to saving induces an error in the estimates!"
   ]
  },
  {
   "cell_type": "code",
   "execution_count": 184,
   "metadata": {},
   "outputs": [
    {
     "data": {
      "text/html": [
       "<img src=\"data:image/png;base64,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\" />"
      ]
     },
     "execution_count": 184,
     "metadata": {},
     "output_type": "execute_result"
    }
   ],
   "source": [
    "plot(K, Ψ * getvalue(θ))"
   ]
  },
  {
   "cell_type": "markdown",
   "metadata": {},
   "source": [
    "With true deep parameters as starting value, but a guess for $\\theta$, the algorithm does not find the solution."
   ]
  },
  {
   "cell_type": "code",
   "execution_count": null,
   "metadata": {},
   "outputs": [],
   "source": []
  }
 ],
 "metadata": {
  "kernelspec": {
   "display_name": "Julia 0.6.0",
   "language": "julia",
   "name": "julia-0.6"
  },
  "language_info": {
   "file_extension": ".jl",
   "mimetype": "application/julia",
   "name": "julia",
   "version": "0.6.0"
  }
 },
 "nbformat": 4,
 "nbformat_minor": 2
}
