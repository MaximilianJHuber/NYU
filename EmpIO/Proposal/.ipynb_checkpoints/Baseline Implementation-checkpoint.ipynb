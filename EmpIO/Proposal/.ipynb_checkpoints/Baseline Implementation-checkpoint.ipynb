{
 "cells": [
  {
   "cell_type": "markdown",
   "metadata": {},
   "source": [
    "In this exercise I solve a deterministic growth model using simulated data generated from an economy with parameters $\\beta = 0.95$, $\\alpha = 0.3$, $A = 1.0$, $\\delta = 0.05$, $\\gamma = 2.0$. I initiate the variables of the mathematical program at the true values, which should make the optimization easy."
   ]
  },
  {
   "cell_type": "code",
   "execution_count": 2,
   "metadata": {
    "scrolled": false
   },
   "outputs": [
    {
     "data": {
      "text/html": [
       "<img src=\"data:image/png;base64,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\" />"
      ]
     },
     "execution_count": 2,
     "metadata": {},
     "output_type": "execute_result"
    }
   ],
   "source": [
    "using CSV\n",
    "using Plots; pyplot()\n",
    "\n",
    "df = CSV.read(\"data.csv\"; header=false, types=[Float64, Float64])\n",
    "dataK = convert(Vector{Float64}, df[1])\n",
    "dataC = convert(Vector{Float64}, df[2])\n",
    "\n",
    "plot(dataK, label=\"capital\")\n",
    "plot!(dataC, label=\"consumption\")"
   ]
  },
  {
   "cell_type": "markdown",
   "metadata": {},
   "source": [
    "The economy's steady state for capital is:"
   ]
  },
  {
   "cell_type": "code",
   "execution_count": 3,
   "metadata": {},
   "outputs": [],
   "source": [
    "k_stst = 4.628988089138438;"
   ]
  },
  {
   "cell_type": "markdown",
   "metadata": {},
   "source": [
    "# The Mathematical Program\n",
    "I define the needed function related to utility and production:"
   ]
  },
  {
   "cell_type": "code",
   "execution_count": 4,
   "metadata": {},
   "outputs": [
    {
     "data": {
      "text/plain": [
       "f_prime (generic function with 1 method)"
      ]
     },
     "execution_count": 4,
     "metadata": {},
     "output_type": "execute_result"
    }
   ],
   "source": [
    "u_crra_prime(c, γ) = begin\n",
    "    if (c <= 0)\n",
    "        return -1000000.\n",
    "        else\n",
    "        return c^-γ\n",
    "    end\n",
    "end\n",
    "\n",
    "u_crra_prime_inv(u, γ) = begin\n",
    "    if (u <= 0)\n",
    "        return -1000000.\n",
    "    else\n",
    "        return u^(-1/γ) \n",
    "    end\n",
    "end\n",
    "\n",
    "function f(k, α, A)\n",
    "    if (k <= 0)\n",
    "        return zero(k)\n",
    "    else\n",
    "        A*k^α\n",
    "    end\n",
    "end\n",
    "\n",
    "function f_prime(k, α, A)\n",
    "    if (k <= 0)\n",
    "        return zero(k)\n",
    "    else\n",
    "        A*α*k^(α-1)\n",
    "    end\n",
    "end"
   ]
  },
  {
   "cell_type": "markdown",
   "metadata": {},
   "source": [
    "I use the Julia Mathematical Programming languange JuMP and the IpOpt solver:"
   ]
  },
  {
   "cell_type": "code",
   "execution_count": 5,
   "metadata": {},
   "outputs": [],
   "source": [
    "using JuMP\n",
    "using Ipopt\n",
    "\n",
    "m = Model(solver=IpoptSolver(print_level=3, max_iter=600));"
   ]
  },
  {
   "cell_type": "markdown",
   "metadata": {},
   "source": [
    "I define the deep parameters variables and give the the correct starting values:"
   ]
  },
  {
   "cell_type": "code",
   "execution_count": 6,
   "metadata": {},
   "outputs": [],
   "source": [
    "@variable(m, 0 <= β <= 1, start = 0.95)\n",
    "@variable(m, 0 <= δ <= 1, start = 0.05)\n",
    "@variable(m, 0 <= α <= 1, start = 0.3)\n",
    "@variable(m, A >= 0, start = 1)\n",
    "@variable(m, γ >= 0, start = 2);"
   ]
  },
  {
   "cell_type": "markdown",
   "metadata": {},
   "source": [
    "The policy function is approximated by 10 Chebyshev polynomials on a grid around the steady state for capital, the coefficients on the polynomials are $\\theta$:"
   ]
  },
  {
   "cell_type": "code",
   "execution_count": 7,
   "metadata": {},
   "outputs": [],
   "source": [
    "@variable(m, θ[1:10], start = 0)\n",
    "\n",
    "#setvalue(θ[1], 0.1);"
   ]
  },
  {
   "cell_type": "markdown",
   "metadata": {},
   "source": [
    "I define a grid on capital, $K$, with 10 nodes, and evaluate the Chebyshev polynomials at those point into $\\Psi$ and at the observed data points into $\\Phi$:"
   ]
  },
  {
   "cell_type": "code",
   "execution_count": 8,
   "metadata": {},
   "outputs": [],
   "source": [
    "using BasisMatrices\n",
    "basis = Basis(ChebParams(10, 0.2*k_stst, 2*k_stst))\n",
    "K = nodes(basis)[1] #grid\n",
    "Ψ = BasisMatrix(basis, Expanded(), K).vals[1]\n",
    "Φ = BasisMatrix(basis, Expanded(), dataK).vals[1];"
   ]
  },
  {
   "cell_type": "markdown",
   "metadata": {},
   "source": [
    "And I initialize $\\theta$ such that the consumer myopically consumes almost everything available, leaving just $0.1$ capital for the next period:"
   ]
  },
  {
   "cell_type": "code",
   "execution_count": 9,
   "metadata": {},
   "outputs": [],
   "source": [
    "initial_θ = Ψ \\ (f.(K, getvalue(α), getvalue(A)) + (1-getvalue(δ))*K - 0.1)\n",
    "\n",
    "for i in 1:10\n",
    "    setvalue(θ[i], initial_θ[i])\n",
    "end"
   ]
  },
  {
   "cell_type": "markdown",
   "metadata": {},
   "source": [
    "In the equilibrium constraint the polynomials have to be evaluated also outside the grid, I define this function here:"
   ]
  },
  {
   "cell_type": "code",
   "execution_count": 10,
   "metadata": {},
   "outputs": [
    {
     "data": {
      "text/plain": [
       "Ψprime (generic function with 1 method)"
      ]
     },
     "execution_count": 10,
     "metadata": {},
     "output_type": "execute_result"
    }
   ],
   "source": [
    "function Ψprime(x, order)\n",
    "    k_stst = 4.628988089138438\n",
    "    a = 0.2*k_stst\n",
    "    b = 2*k_stst\n",
    "        \n",
    "    z = (2/(b-a)) * (x-(a+b)/2)\n",
    "    \n",
    "    if (order == 1)\n",
    "        return 1.\n",
    "    elseif (order == 2)\n",
    "        return z\n",
    "    else\n",
    "        \n",
    "        out1 = 1.\n",
    "        out2 = z\n",
    "        out3 = 0.\n",
    "\n",
    "        for j in 3:order\n",
    "            out3 = 2. * z * out2 - out1\n",
    "            out1 = out2\n",
    "            out2 = out3\n",
    "        end\n",
    "\n",
    "        return out3\n",
    "    end\n",
    "end"
   ]
  },
  {
   "cell_type": "markdown",
   "metadata": {},
   "source": [
    "I define auxiliary variables for model predictions of capital and consumption:"
   ]
  },
  {
   "cell_type": "code",
   "execution_count": 11,
   "metadata": {},
   "outputs": [],
   "source": [
    "@variable(m, modelC[i=1:10], start = 1)\n",
    "@variable(m, modelCprime[i=1:10], start = 1)\n",
    "@variable(m, modelKprime[i=1:10], start = 1);"
   ]
  },
  {
   "cell_type": "markdown",
   "metadata": {},
   "source": [
    "I register all user-defined functions with JuMP for automatic differentiation:"
   ]
  },
  {
   "cell_type": "code",
   "execution_count": 12,
   "metadata": {},
   "outputs": [],
   "source": [
    "JuMP.register(m, :Ψprime, 2, Ψprime, autodiff=true)\n",
    "JuMP.register(m, :u_crra_prime, 2, u_crra_prime, autodiff=true)\n",
    "JuMP.register(m, :f, 3, f, autodiff=true)\n",
    "JuMP.register(m, :f_prime, 3, f_prime, autodiff=true)\n",
    "JuMP.register(m, :u_crra_prime_inv, 2, u_crra_prime_inv, autodiff=true)"
   ]
  },
  {
   "cell_type": "markdown",
   "metadata": {},
   "source": [
    "The auxiliary and equilibrium constraints are all defined on the grid with 10 nodes:"
   ]
  },
  {
   "cell_type": "code",
   "execution_count": 13,
   "metadata": {},
   "outputs": [],
   "source": [
    "@NLconstraint(m, cons_today[i=1:10], modelC[i] == sum(Ψ[i, k] * θ[k] for k in 1:10))\n",
    "@NLconstraint(m, capi_tomor[i=1:10], modelKprime[i] <= f(K[i], α, A) + (1-δ)*K[i] - modelC[i]) \n",
    "@NLconstraint(m, cons_tomor[i=1:10], modelCprime[i] == sum(Ψprime(modelKprime[i], k) * θ[k] for k in 1:10))\n",
    "\n",
    "@NLconstraint(m, EE[i=1:10], modelC[i] == u_crra_prime_inv(\n",
    "    β * u_crra_prime(modelCprime[i], γ) * (f_prime(modelKprime[i], α, A) + 1-δ), γ));"
   ]
  },
  {
   "cell_type": "markdown",
   "metadata": {},
   "source": [
    "I define auxiliary expressions for the predictions of the equilibrium conditions:"
   ]
  },
  {
   "cell_type": "code",
   "execution_count": 14,
   "metadata": {},
   "outputs": [],
   "source": [
    "@NLexpression(m, predictedK[t=2:100], f(dataK[t-1], α, A) + (1-δ)*dataK[t-1] - dataC[t-1])\n",
    "@NLexpression(m, predictedC[t=1:100], sum(Φ[t, k] * θ[k] for k in 1:10));"
   ]
  },
  {
   "cell_type": "markdown",
   "metadata": {},
   "source": [
    "The objective is to minimize the sum of squared errors:"
   ]
  },
  {
   "cell_type": "code",
   "execution_count": 15,
   "metadata": {},
   "outputs": [],
   "source": [
    "@NLobjective(m, Min, sum((dataC[t] - predictedC[t])^2 for t in 1:100) +\n",
    "    sum((dataK[t] - predictedK[t])^2 for t in 2:100))"
   ]
  },
  {
   "cell_type": "code",
   "execution_count": 16,
   "metadata": {
    "scrolled": false
   },
   "outputs": [
    {
     "name": "stdout",
     "output_type": "stream",
     "text": [
      "\n",
      "******************************************************************************\n",
      "This program contains Ipopt, a library for large-scale nonlinear optimization.\n",
      " Ipopt is released as open source code under the Eclipse Public License (EPL).\n",
      "         For more information visit http://projects.coin-or.org/Ipopt\n",
      "******************************************************************************\n",
      "\n",
      "Total number of variables............................:       45\n",
      "                     variables with only lower bounds:        2\n",
      "                variables with lower and upper bounds:        3\n",
      "                     variables with only upper bounds:        0\n",
      "Total number of equality constraints.................:       40\n",
      "Total number of inequality constraints...............:        0\n",
      "        inequality constraints with only lower bounds:        0\n",
      "   inequality constraints with lower and upper bounds:        0\n",
      "        inequality constraints with only upper bounds:        0\n",
      "\n",
      "\n",
      "Number of Iterations....: 523\n",
      "\n",
      "                                   (scaled)                 (unscaled)\n",
      "Objective...............:   9.6769033682586258e-17    7.8000544475619451e-16\n",
      "Dual infeasibility......:   2.1383387602218032e-09    1.7236049717900216e-08\n",
      "Constraint violation....:   3.3875124927362776e-12    3.3875124927362776e-12\n",
      "Complementarity.........:   9.9999999999999315e-12    8.0604860364184074e-11\n",
      "Overall NLP error.......:   2.1383387602218032e-09    1.7236049717900216e-08\n",
      "\n",
      "\n",
      "Number of objective function evaluations             = 2802\n",
      "Number of objective gradient evaluations             = 524\n",
      "Number of equality constraint evaluations            = 2816\n",
      "Number of inequality constraint evaluations          = 0\n",
      "Number of equality constraint Jacobian evaluations   = 524\n",
      "Number of inequality constraint Jacobian evaluations = 0\n",
      "Number of Lagrangian Hessian evaluations             = 0\n",
      "Total CPU secs in IPOPT (w/o function evaluations)   =      1.028\n",
      "Total CPU secs in NLP function evaluations           =      1.672\n",
      "\n",
      "EXIT: Optimal Solution Found.\n"
     ]
    },
    {
     "data": {
      "text/plain": [
       ":Optimal"
      ]
     },
     "execution_count": 16,
     "metadata": {},
     "output_type": "execute_result"
    }
   ],
   "source": [
    "solve(m)"
   ]
  },
  {
   "cell_type": "code",
   "execution_count": 17,
   "metadata": {},
   "outputs": [
    {
     "data": {
      "text/plain": [
       "(0.950000000380605, 0.050000008406416066, 0.300000014569986, 1.0000000019769137, 1.9999999901743093)"
      ]
     },
     "execution_count": 17,
     "metadata": {},
     "output_type": "execute_result"
    }
   ],
   "source": [
    "getvalue(β), getvalue(δ), getvalue(α), getvalue(A), getvalue(γ)"
   ]
  },
  {
   "cell_type": "code",
   "execution_count": 18,
   "metadata": {},
   "outputs": [
    {
     "data": {
      "text/html": [
       "<img src=\"data:image/png;base64,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\" />"
      ]
     },
     "execution_count": 18,
     "metadata": {},
     "output_type": "execute_result"
    }
   ],
   "source": [
    "plot(nodes(Basis(ChebParams(10, 0.2*k_stst, 2*k_stst)))[1], [0.731039, 0.830067, 0.984055, 1.15697 , 1.32812 , 1.48555 , 1.62093 , 1.72778 , 1.80161 , 1.8393], label=\"True Policy Fucntion\")\n",
    "plot!(K, Ψ * getvalue(θ), label=\"Estimated Policy Function\")"
   ]
  },
  {
   "cell_type": "markdown",
   "metadata": {},
   "source": [
    "# Robustness in $\\beta$\n",
    "Varying the initial value for $\\beta$ uncovers severe robustness issues:"
   ]
  },
  {
   "cell_type": "code",
   "execution_count": 19,
   "metadata": {},
   "outputs": [
    {
     "name": "stderr",
     "output_type": "stream",
     "text": [
      "\u001b[1m\u001b[33mWARNING: \u001b[39m\u001b[22m\u001b[33mNot solved to optimality, status: UserLimit\u001b[39m\n",
      "\u001b[1m\u001b[33mWARNING: \u001b[39m\u001b[22m\u001b[33mNot solved to optimality, status: UserLimit\u001b[39m\n",
      "\u001b[1m\u001b[33mWARNING: \u001b[39m\u001b[22m\u001b[33mNot solved to optimality, status: UserLimit\u001b[39m\n",
      "\u001b[1m\u001b[33mWARNING: \u001b[39m\u001b[22m\u001b[33mNot solved to optimality, status: UserLimit\u001b[39m\n",
      "\u001b[1m\u001b[33mWARNING: \u001b[39m\u001b[22m\u001b[33mNot solved to optimality, status: UserLimit\u001b[39m\n",
      "\u001b[1m\u001b[33mWARNING: \u001b[39m\u001b[22m\u001b[33mNot solved to optimality, status: UserLimit\u001b[39m\n",
      "\u001b[1m\u001b[33mWARNING: \u001b[39m\u001b[22m\u001b[33mNot solved to optimality, status: UserLimit\u001b[39m\n",
      "\u001b[1m\u001b[33mWARNING: \u001b[39m\u001b[22m\u001b[33mNot solved to optimality, status: UserLimit\u001b[39m\n",
      "\u001b[1m\u001b[33mWARNING: \u001b[39m\u001b[22m\u001b[33mNot solved to optimality, status: UserLimit\u001b[39m\n",
      "\u001b[1m\u001b[33mWARNING: \u001b[39m\u001b[22m\u001b[33mNot solved to optimality, status: UserLimit\u001b[39m\n",
      "\u001b[1m\u001b[33mWARNING: \u001b[39m\u001b[22m\u001b[33mNot solved to optimality, status: UserLimit\u001b[39m\n",
      "\u001b[1m\u001b[33mWARNING: \u001b[39m\u001b[22m\u001b[33mNot solved to optimality, status: UserLimit\u001b[39m\n",
      "\u001b[1m\u001b[33mWARNING: \u001b[39m\u001b[22m\u001b[33mNot solved to optimality, status: UserLimit\u001b[39m\n",
      "\u001b[1m\u001b[33mWARNING: \u001b[39m\u001b[22m\u001b[33mNot solved to optimality, status: UserLimit\u001b[39m\n",
      "\u001b[1m\u001b[33mWARNING: \u001b[39m\u001b[22m\u001b[33mNot solved to optimality, status: UserLimit\u001b[39m\n",
      "\u001b[1m\u001b[33mWARNING: \u001b[39m\u001b[22m\u001b[33mNot solved to optimality, status: UserLimit\u001b[39m\n",
      "\u001b[1m\u001b[33mWARNING: \u001b[39m\u001b[22m\u001b[33mNot solved to optimality, status: UserLimit\u001b[39m\n",
      "\u001b[1m\u001b[33mWARNING: \u001b[39m\u001b[22m\u001b[33mNot solved to optimality, status: UserLimit\u001b[39m\n",
      "\u001b[1m\u001b[33mWARNING: \u001b[39m\u001b[22m\u001b[33mNot solved to optimality, status: UserLimit\u001b[39m\n",
      "\u001b[1m\u001b[33mWARNING: \u001b[39m\u001b[22m\u001b[33mNot solved to optimality, status: UserLimit\u001b[39m\n",
      "\u001b[1m\u001b[33mWARNING: \u001b[39m\u001b[22m\u001b[33mNot solved to optimality, status: UserLimit\u001b[39m\n",
      "\u001b[1m\u001b[33mWARNING: \u001b[39m\u001b[22m\u001b[33mNot solved to optimality, status: UserLimit\u001b[39m\n",
      "\u001b[1m\u001b[33mWARNING: \u001b[39m\u001b[22m\u001b[33mNot solved to optimality, status: UserLimit\u001b[39m\n",
      "\u001b[1m\u001b[33mWARNING: \u001b[39m\u001b[22m\u001b[33mNot solved to optimality, status: UserLimit\u001b[39m\n",
      "\u001b[1m\u001b[33mWARNING: \u001b[39m\u001b[22m\u001b[33mNot solved to optimality, status: UserLimit\u001b[39m\n",
      "\u001b[1m\u001b[33mWARNING: \u001b[39m\u001b[22m\u001b[33mNot solved to optimality, status: UserLimit\u001b[39m\n"
     ]
    },
    {
     "data": {
      "text/html": [
       "<img src=\"data:image/png;base64,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\" />"
      ]
     },
     "execution_count": 19,
     "metadata": {},
     "output_type": "execute_result"
    }
   ],
   "source": [
    "error = zeros(50)\n",
    "initial_β = linspace(0.95-0.2, 0.95+0.2, 50)\n",
    "\n",
    "for test in 1:50\n",
    "    m = Model(solver=IpoptSolver(print_level=0, max_iter=600));\n",
    "    \n",
    "    @variable(m, 0 <= β <= 1, start = initial_β[test])\n",
    "    @variable(m, 0 <= δ <= 1, start = 0.05) #rand(Normal(0.05, 0.1)))\n",
    "    @variable(m, 0 <= α <= 1, start = 0.3) #rand(Normal(0.3, 0.1)))\n",
    "    @variable(m, A >= 0, start = 1) #rand(Normal(1., 0.1)))\n",
    "    @variable(m, γ >= 0, start = 2) #rand(Normal(2., 0.1)));\n",
    "    @variable(m, θ[1:10], start = 0)\n",
    "    \n",
    "    initial_θ = Ψ \\ (f.(K, getvalue(α), getvalue(A)) + (1-getvalue(δ))*K - 0.1)\n",
    "\n",
    "    for i in 1:10\n",
    "        setvalue(θ[i], initial_θ[i])\n",
    "    end\n",
    "    \n",
    "    @variable(m, modelC[i=1:10], start = 1)\n",
    "    @variable(m, modelCprime[i=1:10], start = 1)\n",
    "    @variable(m, modelKprime[i=1:10], start = 1);\n",
    "        JuMP.register(m, :Ψprime, 2, Ψprime, autodiff=true)\n",
    "    JuMP.register(m, :u_crra_prime, 2, u_crra_prime, autodiff=true)\n",
    "    JuMP.register(m, :f, 3, f, autodiff=true)\n",
    "    JuMP.register(m, :f_prime, 3, f_prime, autodiff=true)\n",
    "    JuMP.register(m, :u_crra_prime_inv, 2, u_crra_prime_inv, autodiff=true)\n",
    "        @NLconstraint(m, cons_today[i=1:10], modelC[i] == sum(Ψ[i, k] * θ[k] for k in 1:10))\n",
    "    @NLconstraint(m, capi_tomor[i=1:10], modelKprime[i] == f(K[i], α, A) + (1-δ)*K[i] - modelC[i]) \n",
    "    @NLconstraint(m, cons_tomor[i=1:10], modelCprime[i] == sum(Ψprime(modelKprime[i], k) * θ[k] for k in 1:10))\n",
    "\n",
    "    @NLconstraint(m, EE[i=1:10], modelC[i] == u_crra_prime_inv(\n",
    "    β * u_crra_prime(modelCprime[i], γ) * (f_prime(modelKprime[i], α, A) + 1-δ), γ));\n",
    "    @NLexpression(m, predictedK[t=2:100], f(dataK[t-1], α, A) + (1-δ)*dataK[t-1] - dataC[t-1])\n",
    "    @NLexpression(m, predictedC[t=1:100], sum(Φ[t, k] * θ[k] for k in 1:10));\n",
    "    @NLobjective(m, Min, sum((dataC[t] - predictedC[t])^2 for t in 1:100) +\n",
    "    sum((dataK[t] - predictedK[t])^2 for t in 2:100))\n",
    "    solve(m);\n",
    "    error[test] = maximum(abs.([getvalue(β), getvalue(δ), getvalue(α), getvalue(A), getvalue(γ)] - [0.95, 0.05, 0.3, 1, 2]))\n",
    "end\n",
    "\n",
    "plot(initial_β, error, ylim=[-0.05,0.05])"
   ]
  },
  {
   "cell_type": "markdown",
   "metadata": {},
   "source": [
    "The correct solution is not robustly found!"
   ]
  },
  {
   "cell_type": "code",
   "execution_count": null,
   "metadata": {},
   "outputs": [],
   "source": []
  }
 ],
 "metadata": {
  "kernelspec": {
   "display_name": "Julia 0.6.0",
   "language": "julia",
   "name": "julia-0.6"
  },
  "language_info": {
   "file_extension": ".jl",
   "mimetype": "application/julia",
   "name": "julia",
   "version": "0.6.0"
  }
 },
 "nbformat": 4,
 "nbformat_minor": 2
}
