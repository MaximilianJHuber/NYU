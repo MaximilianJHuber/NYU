{
 "cells": [
  {
   "cell_type": "markdown",
   "metadata": {},
   "source": [
    "In this exercise I solve a deterministic growth model using simulated data generated from an economy with parameters $\\beta = 0.95$, $\\alpha = 0.3$, $A = 1.0$, $\\delta = 0.05$, $\\gamma = 2.0$. I initiate the variables of the mathematical program at the true values, which should make the optimization easy."
   ]
  },
  {
   "cell_type": "code",
   "execution_count": 1,
   "metadata": {
    "scrolled": false
   },
   "outputs": [
    {
     "name": "stderr",
     "output_type": "stream",
     "text": [
      "WARNING: Method definition ==(Base.Nullable{S}, Base.Nullable{T}) in module Base at nullable.jl:238 overwritten in module NullableArrays at /home/juser/.julia/v0.6/NullableArrays/src/operators.jl:99.\n",
      "WARNING: Compat.AsyncCondition is deprecated, use Base.AsyncCondition instead.\n",
      "  likely near In[1]:2\n",
      "WARNING: Compat.AsyncCondition is deprecated, use Base.AsyncCondition instead.\n",
      "  likely near In[1]:2\n"
     ]
    },
    {
     "data": {
      "text/html": [
       "<img src=\"data:image/png;base64,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\" />"
      ]
     },
     "execution_count": 1,
     "metadata": {},
     "output_type": "execute_result"
    }
   ],
   "source": [
    "using CSV\n",
    "using Plots; pyplot()\n",
    "\n",
    "df = CSV.read(\"data.csv\"; header=false, types=[Float64, Float64])\n",
    "dataK = convert(Vector{Float64}, df[1])\n",
    "dataC = convert(Vector{Float64}, df[2])\n",
    "\n",
    "plot(dataK, label=\"capital\")\n",
    "plot!(dataC, label=\"consumption\")"
   ]
  },
  {
   "cell_type": "markdown",
   "metadata": {},
   "source": [
    "The economy's steady state for capital is:"
   ]
  },
  {
   "cell_type": "code",
   "execution_count": 2,
   "metadata": {},
   "outputs": [],
   "source": [
    "k_stst = 4.628988089138438;"
   ]
  },
  {
   "cell_type": "markdown",
   "metadata": {},
   "source": [
    "# The Mathematical Program\n",
    "I define the needed function related to utility and production:"
   ]
  },
  {
   "cell_type": "code",
   "execution_count": 3,
   "metadata": {
    "scrolled": false
   },
   "outputs": [
    {
     "data": {
      "text/plain": [
       "f_prime (generic function with 1 method)"
      ]
     },
     "execution_count": 3,
     "metadata": {},
     "output_type": "execute_result"
    }
   ],
   "source": [
    "u_crra_prime(c, γ) = begin\n",
    "    if (c <= 0)\n",
    "        warn(\"u_crra_prime\")\n",
    "        return -1000000.\n",
    "        else\n",
    "        return c^-γ\n",
    "    end\n",
    "end\n",
    "\n",
    "u_crra_prime_inv(u, γ) = begin\n",
    "    if (u <= 0)\n",
    "        warn(\"u_crra_prime_inv\")\n",
    "        return +1000000.\n",
    "    else\n",
    "        return u^(-1/γ) \n",
    "    end\n",
    "end\n",
    "\n",
    "function f(k, α, A)\n",
    "    if (k <= 0)\n",
    "        warn(\"f\")\n",
    "        return zero(k)\n",
    "    else\n",
    "        A*k^α\n",
    "    end\n",
    "end\n",
    "\n",
    "function f_prime(k, α, A)\n",
    "    if (k <= 0)\n",
    "        warn(\"f_prime\")\n",
    "        return zero(k)\n",
    "    else\n",
    "        A*α*k^(α-1)\n",
    "    end\n",
    "end"
   ]
  },
  {
   "cell_type": "markdown",
   "metadata": {},
   "source": [
    "I use the Julia Mathematical Programming languange JuMP and the IpOpt solver:"
   ]
  },
  {
   "cell_type": "code",
   "execution_count": 4,
   "metadata": {},
   "outputs": [],
   "source": [
    "using JuMP\n",
    "using Ipopt\n",
    "\n",
    "m = Model(solver=IpoptSolver(print_level=3, max_iter=700));"
   ]
  },
  {
   "cell_type": "markdown",
   "metadata": {},
   "source": [
    "I define the deep parameters variables and give the the correct starting values:"
   ]
  },
  {
   "cell_type": "code",
   "execution_count": 290,
   "metadata": {},
   "outputs": [],
   "source": [
    "@variable(m, 0 <= β <= 1, start = 0.80)\n",
    "@variable(m, 0 <= δ <= 1, start = 0.5)\n",
    "@variable(m, 0 <= α <= 1, start = 0.5)\n",
    "@variable(m, A >= 0, start = 1)\n",
    "@variable(m, γ >= 0, start = 5);"
   ]
  },
  {
   "cell_type": "markdown",
   "metadata": {},
   "source": [
    "The policy function is approximated by 10 Chebyshev polynomials on a grid around the steady state for capital, the coefficients on the polynomials are $\\theta$:"
   ]
  },
  {
   "cell_type": "code",
   "execution_count": 291,
   "metadata": {},
   "outputs": [],
   "source": [
    "@variable(m, θ[1:10], start = 0);"
   ]
  },
  {
   "cell_type": "markdown",
   "metadata": {},
   "source": [
    "I define a grid on capital, $K$, with 10 nodes, and evaluate the Chebyshev polynomials at those point into $\\Psi$ and at the observed data points into $\\Phi$:"
   ]
  },
  {
   "cell_type": "code",
   "execution_count": 292,
   "metadata": {},
   "outputs": [],
   "source": [
    "using BasisMatrices\n",
    "basis = Basis(ChebParams(10, 0.2*k_stst, 2*k_stst))\n",
    "K = nodes(basis)[1] #grid\n",
    "Ψ = BasisMatrix(basis, Expanded(), K).vals[1]\n",
    "Φ = BasisMatrix(basis, Expanded(), dataK).vals[1];"
   ]
  },
  {
   "cell_type": "markdown",
   "metadata": {},
   "source": [
    "And I initialize $\\theta$ such that the consumer myopically consumes almost everything available, leaving just $0.5$ capital for the next period:"
   ]
  },
  {
   "cell_type": "code",
   "execution_count": 293,
   "metadata": {},
   "outputs": [],
   "source": [
    "initial_θ = Ψ \\ (f.(K, getvalue(α), getvalue(A)) + (1-getvalue(δ))*K - 0.5)\n",
    "\n",
    "for i in 1:10\n",
    "    setvalue(θ[i], initial_θ[i])\n",
    "end"
   ]
  },
  {
   "cell_type": "markdown",
   "metadata": {},
   "source": [
    "In the equilibrium constraint the polynomials have to be evaluated also outside the grid, I define this function here:"
   ]
  },
  {
   "cell_type": "code",
   "execution_count": 294,
   "metadata": {},
   "outputs": [
    {
     "data": {
      "text/plain": [
       "Ψprime (generic function with 3 methods)"
      ]
     },
     "execution_count": 294,
     "metadata": {},
     "output_type": "execute_result"
    }
   ],
   "source": [
    "function Ψprime(x::Real, order::Integer) \n",
    "    return evalbase(params, [x], 0)[order]\n",
    "end"
   ]
  },
  {
   "cell_type": "markdown",
   "metadata": {},
   "source": [
    "I register all user-defined functions with JuMP for automatic differentiation:"
   ]
  },
  {
   "cell_type": "code",
   "execution_count": 295,
   "metadata": {},
   "outputs": [],
   "source": [
    "JuMP.register(m, :Ψprime, 2, Ψprime, autodiff=true)\n",
    "JuMP.register(m, :u_crra_prime, 2, u_crra_prime, autodiff=true)\n",
    "JuMP.register(m, :f, 3, f, autodiff=true)\n",
    "JuMP.register(m, :f_prime, 3, f_prime, autodiff=true)\n",
    "JuMP.register(m, :u_crra_prime_inv, 2, u_crra_prime_inv, autodiff=true)"
   ]
  },
  {
   "cell_type": "markdown",
   "metadata": {},
   "source": [
    "The equilibrium constraints are all defined on the grid with 10 nodes:"
   ]
  },
  {
   "cell_type": "code",
   "execution_count": 296,
   "metadata": {},
   "outputs": [],
   "source": [
    "@NLconstraint(m, EE[i=1:10], sum(Ψ[i, k] * θ[k] for k in 1:10) == \n",
    "    u_crra_prime_inv(\n",
    "    β * u_crra_prime(sum(Ψprime(f(K[i], α, A) + (1-δ)*K[i] - sum(Ψ[i, k] * θ[k] for k in 1:10), k) * θ[k] for k in 1:10), γ) * \n",
    "    (f_prime(f(K[i], α, A) + (1-δ)*K[i] - sum(Ψ[i, k] * θ[k] for k in 1:10), α, A) + 1-δ)\n",
    "    , γ));"
   ]
  },
  {
   "cell_type": "markdown",
   "metadata": {},
   "source": [
    "I define auxiliary expressions for the predictions of the equilibrium conditions:"
   ]
  },
  {
   "cell_type": "code",
   "execution_count": 297,
   "metadata": {},
   "outputs": [],
   "source": [
    "@NLexpression(m, predictedK[t=2:100], f(dataK[t-1], α, A) + (1-δ)*dataK[t-1] - dataC[t-1])\n",
    "@NLexpression(m, predictedC[t=1:100], sum(Φ[t, k] * θ[k] for k in 1:10));"
   ]
  },
  {
   "cell_type": "markdown",
   "metadata": {},
   "source": [
    "The objective is to minimize the sum of squared errors:"
   ]
  },
  {
   "cell_type": "code",
   "execution_count": 298,
   "metadata": {},
   "outputs": [],
   "source": [
    "@NLobjective(m, Min, sum((dataC[t] - predictedC[t])^2 for t in 1:100) +\n",
    "    sum((dataK[t] - predictedK[t])^2 for t in 2:100))"
   ]
  },
  {
   "cell_type": "code",
   "execution_count": 299,
   "metadata": {
    "scrolled": true
   },
   "outputs": [
    {
     "name": "stdout",
     "output_type": "stream",
     "text": [
      "Total number of variables............................:       15\n",
      "                     variables with only lower bounds:        2\n",
      "                variables with lower and upper bounds:        3\n",
      "                     variables with only upper bounds:        0\n",
      "Total number of equality constraints.................:       10\n",
      "Total number of inequality constraints...............:        0\n",
      "        inequality constraints with only lower bounds:        0\n",
      "   inequality constraints with lower and upper bounds:        0\n",
      "        inequality constraints with only upper bounds:        0\n",
      "\n"
     ]
    },
    {
     "name": "stderr",
     "output_type": "stream",
     "text": [
      "\u001b[1m\u001b[33mWARNING: \u001b[39m\u001b[22m\u001b[33mu_crra_prime\u001b[39m\n",
      "\u001b[1m\u001b[33mWARNING: \u001b[39m\u001b[22m\u001b[33mu_crra_prime\u001b[39m\n",
      "\u001b[1m\u001b[33mWARNING: \u001b[39m\u001b[22m\u001b[33mu_crra_prime_inv\u001b[39m\n",
      "\u001b[1m\u001b[33mWARNING: \u001b[39m\u001b[22m\u001b[33mu_crra_prime_inv\u001b[39m\n",
      "\u001b[1m\u001b[33mWARNING: \u001b[39m\u001b[22m\u001b[33mu_crra_prime\u001b[39m\n",
      "\u001b[1m\u001b[33mWARNING: \u001b[39m\u001b[22m\u001b[33mu_crra_prime\u001b[39m\n",
      "\u001b[1m\u001b[33mWARNING: \u001b[39m\u001b[22m\u001b[33mu_crra_prime_inv\u001b[39m\n",
      "\u001b[1m\u001b[33mWARNING: \u001b[39m\u001b[22m\u001b[33mu_crra_prime_inv\u001b[39m\n",
      "\u001b[1m\u001b[33mWARNING: \u001b[39m\u001b[22m\u001b[33mf_prime\u001b[39m\n",
      "\u001b[1m\u001b[33mWARNING: \u001b[39m\u001b[22m\u001b[33mf_prime\u001b[39m\n",
      "\u001b[1m\u001b[33mWARNING: \u001b[39m\u001b[22m\u001b[33mu_crra_prime\u001b[39m\n",
      "\u001b[1m\u001b[33mWARNING: \u001b[39m\u001b[22m\u001b[33mu_crra_prime\u001b[39m\n",
      "\u001b[1m\u001b[33mWARNING: \u001b[39m\u001b[22m\u001b[33mu_crra_prime_inv\u001b[39m\n",
      "\u001b[1m\u001b[33mWARNING: \u001b[39m\u001b[22m\u001b[33mu_crra_prime_inv\u001b[39m\n",
      "\u001b[1m\u001b[33mWARNING: \u001b[39m\u001b[22m\u001b[33mf_prime\u001b[39m\n",
      "\u001b[1m\u001b[33mWARNING: \u001b[39m\u001b[22m\u001b[33mf_prime\u001b[39m\n",
      "\u001b[1m\u001b[33mWARNING: \u001b[39m\u001b[22m\u001b[33mu_crra_prime\u001b[39m\n",
      "\u001b[1m\u001b[33mWARNING: \u001b[39m\u001b[22m\u001b[33mu_crra_prime\u001b[39m\n",
      "\u001b[1m\u001b[33mWARNING: \u001b[39m\u001b[22m\u001b[33mu_crra_prime_inv\u001b[39m\n",
      "\u001b[1m\u001b[33mWARNING: \u001b[39m\u001b[22m\u001b[33mu_crra_prime_inv\u001b[39m\n",
      "\u001b[1m\u001b[33mWARNING: \u001b[39m\u001b[22m\u001b[33mf_prime\u001b[39m\n",
      "\u001b[1m\u001b[33mWARNING: \u001b[39m\u001b[22m\u001b[33mf_prime\u001b[39m\n",
      "\u001b[1m\u001b[33mWARNING: \u001b[39m\u001b[22m\u001b[33mu_crra_prime\u001b[39m\n",
      "\u001b[1m\u001b[33mWARNING: \u001b[39m\u001b[22m\u001b[33mu_crra_prime\u001b[39m\n",
      "\u001b[1m\u001b[33mWARNING: \u001b[39m\u001b[22m\u001b[33mu_crra_prime_inv\u001b[39m\n",
      "\u001b[1m\u001b[33mWARNING: \u001b[39m\u001b[22m\u001b[33mu_crra_prime_inv\u001b[39m\n",
      "\u001b[1m\u001b[33mWARNING: \u001b[39m\u001b[22m\u001b[33mf_prime\u001b[39m\n",
      "\u001b[1m\u001b[33mWARNING: \u001b[39m\u001b[22m\u001b[33mf_prime\u001b[39m\n",
      "\u001b[1m\u001b[33mWARNING: \u001b[39m\u001b[22m\u001b[33mu_crra_prime\u001b[39m\n",
      "\u001b[1m\u001b[33mWARNING: \u001b[39m\u001b[22m\u001b[33mu_crra_prime\u001b[39m\n",
      "\u001b[1m\u001b[33mWARNING: \u001b[39m\u001b[22m\u001b[33mu_crra_prime_inv\u001b[39m\n",
      "\u001b[1m\u001b[33mWARNING: \u001b[39m\u001b[22m\u001b[33mu_crra_prime_inv\u001b[39m\n",
      "\u001b[1m\u001b[33mWARNING: \u001b[39m\u001b[22m\u001b[33mf_prime\u001b[39m\n",
      "\u001b[1m\u001b[33mWARNING: \u001b[39m\u001b[22m\u001b[33mf_prime\u001b[39m\n",
      "\u001b[1m\u001b[33mWARNING: \u001b[39m\u001b[22m\u001b[33mu_crra_prime\u001b[39m\n",
      "\u001b[1m\u001b[33mWARNING: \u001b[39m\u001b[22m\u001b[33mu_crra_prime\u001b[39m\n",
      "\u001b[1m\u001b[33mWARNING: \u001b[39m\u001b[22m\u001b[33mu_crra_prime_inv\u001b[39m\n",
      "\u001b[1m\u001b[33mWARNING: \u001b[39m\u001b[22m\u001b[33mu_crra_prime_inv\u001b[39m\n",
      "\u001b[1m\u001b[33mWARNING: \u001b[39m\u001b[22m\u001b[33mf_prime\u001b[39m\n",
      "\u001b[1m\u001b[33mWARNING: \u001b[39m\u001b[22m\u001b[33mf_prime\u001b[39m\n",
      "\u001b[1m\u001b[33mWARNING: \u001b[39m\u001b[22m\u001b[33mu_crra_prime\u001b[39m\n",
      "\u001b[1m\u001b[33mWARNING: \u001b[39m\u001b[22m\u001b[33mu_crra_prime\u001b[39m\n",
      "\u001b[1m\u001b[33mWARNING: \u001b[39m\u001b[22m\u001b[33mu_crra_prime_inv\u001b[39m\n",
      "\u001b[1m\u001b[33mWARNING: \u001b[39m\u001b[22m\u001b[33mu_crra_prime_inv\u001b[39m\n",
      "\u001b[1m\u001b[33mWARNING: \u001b[39m\u001b[22m\u001b[33mf_prime\u001b[39m\n",
      "\u001b[1m\u001b[33mWARNING: \u001b[39m\u001b[22m\u001b[33mf_prime\u001b[39m\n",
      "\u001b[1m\u001b[33mWARNING: \u001b[39m\u001b[22m\u001b[33mu_crra_prime\u001b[39m\n",
      "\u001b[1m\u001b[33mWARNING: \u001b[39m\u001b[22m\u001b[33mu_crra_prime\u001b[39m\n",
      "\u001b[1m\u001b[33mWARNING: \u001b[39m\u001b[22m\u001b[33mu_crra_prime_inv\u001b[39m\n",
      "\u001b[1m\u001b[33mWARNING: \u001b[39m\u001b[22m\u001b[33mu_crra_prime_inv\u001b[39m\n",
      "\u001b[1m\u001b[33mWARNING: \u001b[39m\u001b[22m\u001b[33mf_prime\u001b[39m\n",
      "\u001b[1m\u001b[33mWARNING: \u001b[39m\u001b[22m\u001b[33mf_prime\u001b[39m\n",
      "\u001b[1m\u001b[33mWARNING: \u001b[39m\u001b[22m\u001b[33mu_crra_prime\u001b[39m\n",
      "\u001b[1m\u001b[33mWARNING: \u001b[39m\u001b[22m\u001b[33mu_crra_prime\u001b[39m\n",
      "\u001b[1m\u001b[33mWARNING: \u001b[39m\u001b[22m\u001b[33mu_crra_prime_inv\u001b[39m\n",
      "\u001b[1m\u001b[33mWARNING: \u001b[39m\u001b[22m\u001b[33mu_crra_prime_inv\u001b[39m\n",
      "\u001b[1m\u001b[33mWARNING: \u001b[39m\u001b[22m\u001b[33mf_prime\u001b[39m\n",
      "\u001b[1m\u001b[33mWARNING: \u001b[39m\u001b[22m\u001b[33mf_prime\u001b[39m\n",
      "\u001b[1m\u001b[33mWARNING: \u001b[39m\u001b[22m\u001b[33mu_crra_prime\u001b[39m\n",
      "\u001b[1m\u001b[33mWARNING: \u001b[39m\u001b[22m\u001b[33mu_crra_prime\u001b[39m\n",
      "\u001b[1m\u001b[33mWARNING: \u001b[39m\u001b[22m\u001b[33mu_crra_prime_inv\u001b[39m\n",
      "\u001b[1m\u001b[33mWARNING: \u001b[39m\u001b[22m\u001b[33mu_crra_prime_inv\u001b[39m\n",
      "\u001b[1m\u001b[33mWARNING: \u001b[39m\u001b[22m\u001b[33mf_prime\u001b[39m\n",
      "\u001b[1m\u001b[33mWARNING: \u001b[39m\u001b[22m\u001b[33mf_prime\u001b[39m\n",
      "\u001b[1m\u001b[33mWARNING: \u001b[39m\u001b[22m\u001b[33mu_crra_prime\u001b[39m\n",
      "\u001b[1m\u001b[33mWARNING: \u001b[39m\u001b[22m\u001b[33mu_crra_prime\u001b[39m\n",
      "\u001b[1m\u001b[33mWARNING: \u001b[39m\u001b[22m\u001b[33mu_crra_prime_inv\u001b[39m\n",
      "\u001b[1m\u001b[33mWARNING: \u001b[39m\u001b[22m\u001b[33mu_crra_prime_inv\u001b[39m\n",
      "\u001b[1m\u001b[33mWARNING: \u001b[39m\u001b[22m\u001b[33mf_prime\u001b[39m\n",
      "\u001b[1m\u001b[33mWARNING: \u001b[39m\u001b[22m\u001b[33mf_prime\u001b[39m\n",
      "\u001b[1m\u001b[33mWARNING: \u001b[39m\u001b[22m\u001b[33mu_crra_prime\u001b[39m\n",
      "\u001b[1m\u001b[33mWARNING: \u001b[39m\u001b[22m\u001b[33mu_crra_prime\u001b[39m\n",
      "\u001b[1m\u001b[33mWARNING: \u001b[39m\u001b[22m\u001b[33mu_crra_prime_inv\u001b[39m\n",
      "\u001b[1m\u001b[33mWARNING: \u001b[39m\u001b[22m\u001b[33mu_crra_prime_inv\u001b[39m\n",
      "\u001b[1m\u001b[33mWARNING: \u001b[39m\u001b[22m\u001b[33mf_prime\u001b[39m\n",
      "\u001b[1m\u001b[33mWARNING: \u001b[39m\u001b[22m\u001b[33mf_prime\u001b[39m\n",
      "\u001b[1m\u001b[33mWARNING: \u001b[39m\u001b[22m\u001b[33mu_crra_prime\u001b[39m\n",
      "\u001b[1m\u001b[33mWARNING: \u001b[39m\u001b[22m\u001b[33mu_crra_prime\u001b[39m\n",
      "\u001b[1m\u001b[33mWARNING: \u001b[39m\u001b[22m\u001b[33mu_crra_prime_inv\u001b[39m\n",
      "\u001b[1m\u001b[33mWARNING: \u001b[39m\u001b[22m\u001b[33mu_crra_prime_inv\u001b[39m\n",
      "\u001b[1m\u001b[33mWARNING: \u001b[39m\u001b[22m\u001b[33mu_crra_prime\u001b[39m\n",
      "\u001b[1m\u001b[33mWARNING: \u001b[39m\u001b[22m\u001b[33mu_crra_prime\u001b[39m\n",
      "\u001b[1m\u001b[33mWARNING: \u001b[39m\u001b[22m\u001b[33mu_crra_prime_inv\u001b[39m\n",
      "\u001b[1m\u001b[33mWARNING: \u001b[39m\u001b[22m\u001b[33mu_crra_prime_inv\u001b[39m\n",
      "\u001b[1m\u001b[33mWARNING: \u001b[39m\u001b[22m\u001b[33mu_crra_prime\u001b[39m\n",
      "\u001b[1m\u001b[33mWARNING: \u001b[39m\u001b[22m\u001b[33mu_crra_prime\u001b[39m\n",
      "\u001b[1m\u001b[33mWARNING: \u001b[39m\u001b[22m\u001b[33mu_crra_prime_inv\u001b[39m\n",
      "\u001b[1m\u001b[33mWARNING: \u001b[39m\u001b[22m\u001b[33mu_crra_prime_inv\u001b[39m\n",
      "\u001b[1m\u001b[33mWARNING: \u001b[39m\u001b[22m\u001b[33mu_crra_prime\u001b[39m\n",
      "\u001b[1m\u001b[33mWARNING: \u001b[39m\u001b[22m\u001b[33mu_crra_prime\u001b[39m\n",
      "\u001b[1m\u001b[33mWARNING: \u001b[39m\u001b[22m\u001b[33mu_crra_prime_inv\u001b[39m\n",
      "\u001b[1m\u001b[33mWARNING: \u001b[39m\u001b[22m\u001b[33mu_crra_prime_inv\u001b[39m\n",
      "\u001b[1m\u001b[33mWARNING: \u001b[39m\u001b[22m\u001b[33mu_crra_prime\u001b[39m\n",
      "\u001b[1m\u001b[33mWARNING: \u001b[39m\u001b[22m\u001b[33mu_crra_prime\u001b[39m\n",
      "\u001b[1m\u001b[33mWARNING: \u001b[39m\u001b[22m\u001b[33mu_crra_prime_inv\u001b[39m\n",
      "\u001b[1m\u001b[33mWARNING: \u001b[39m\u001b[22m\u001b[33mu_crra_prime_inv\u001b[39m\n",
      "\u001b[1m\u001b[33mWARNING: \u001b[39m\u001b[22m\u001b[33mf_prime\u001b[39m\n",
      "\u001b[1m\u001b[33mWARNING: \u001b[39m\u001b[22m\u001b[33mf_prime\u001b[39m\n",
      "\u001b[1m\u001b[33mWARNING: \u001b[39m\u001b[22m\u001b[33mu_crra_prime\u001b[39m\n",
      "\u001b[1m\u001b[33mWARNING: \u001b[39m\u001b[22m\u001b[33mu_crra_prime\u001b[39m\n",
      "\u001b[1m\u001b[33mWARNING: \u001b[39m\u001b[22m\u001b[33mu_crra_prime_inv\u001b[39m\n",
      "\u001b[1m\u001b[33mWARNING: \u001b[39m\u001b[22m\u001b[33mu_crra_prime_inv\u001b[39m\n",
      "\u001b[1m\u001b[33mWARNING: \u001b[39m\u001b[22m\u001b[33mu_crra_prime\u001b[39m\n",
      "\u001b[1m\u001b[33mWARNING: \u001b[39m\u001b[22m\u001b[33mu_crra_prime\u001b[39m\n",
      "\u001b[1m\u001b[33mWARNING: \u001b[39m\u001b[22m\u001b[33mu_crra_prime_inv\u001b[39m\n",
      "\u001b[1m\u001b[33mWARNING: \u001b[39m\u001b[22m\u001b[33mu_crra_prime_inv\u001b[39m\n",
      "\u001b[1m\u001b[33mWARNING: \u001b[39m\u001b[22m\u001b[33mu_crra_prime\u001b[39m\n",
      "\u001b[1m\u001b[33mWARNING: \u001b[39m\u001b[22m\u001b[33mu_crra_prime\u001b[39m\n",
      "\u001b[1m\u001b[33mWARNING: \u001b[39m\u001b[22m\u001b[33mu_crra_prime_inv\u001b[39m\n",
      "\u001b[1m\u001b[33mWARNING: \u001b[39m\u001b[22m\u001b[33mu_crra_prime_inv\u001b[39m\n",
      "\u001b[1m\u001b[33mWARNING: \u001b[39m\u001b[22m\u001b[33mu_crra_prime\u001b[39m\n",
      "\u001b[1m\u001b[33mWARNING: \u001b[39m\u001b[22m\u001b[33mu_crra_prime\u001b[39m\n",
      "\u001b[1m\u001b[33mWARNING: \u001b[39m\u001b[22m\u001b[33mu_crra_prime_inv\u001b[39m\n",
      "\u001b[1m\u001b[33mWARNING: \u001b[39m\u001b[22m\u001b[33mu_crra_prime_inv\u001b[39m\n",
      "\u001b[1m\u001b[33mWARNING: \u001b[39m\u001b[22m\u001b[33mu_crra_prime\u001b[39m\n",
      "\u001b[1m\u001b[33mWARNING: \u001b[39m\u001b[22m\u001b[33mu_crra_prime\u001b[39m\n",
      "\u001b[1m\u001b[33mWARNING: \u001b[39m\u001b[22m\u001b[33mu_crra_prime_inv\u001b[39m\n",
      "\u001b[1m\u001b[33mWARNING: \u001b[39m\u001b[22m\u001b[33mu_crra_prime_inv\u001b[39m\n",
      "\u001b[1m\u001b[33mWARNING: \u001b[39m\u001b[22m\u001b[33mf_prime\u001b[39m\n",
      "\u001b[1m\u001b[33mWARNING: \u001b[39m\u001b[22m\u001b[33mf_prime\u001b[39m\n",
      "\u001b[1m\u001b[33mWARNING: \u001b[39m\u001b[22m\u001b[33mu_crra_prime\u001b[39m\n",
      "\u001b[1m\u001b[33mWARNING: \u001b[39m\u001b[22m\u001b[33mu_crra_prime\u001b[39m\n",
      "\u001b[1m\u001b[33mWARNING: \u001b[39m\u001b[22m\u001b[33mu_crra_prime_inv\u001b[39m\n",
      "\u001b[1m\u001b[33mWARNING: \u001b[39m\u001b[22m\u001b[33mu_crra_prime_inv\u001b[39m\n",
      "\u001b[1m\u001b[33mWARNING: \u001b[39m\u001b[22m\u001b[33mu_crra_prime\u001b[39m\n",
      "\u001b[1m\u001b[33mWARNING: \u001b[39m\u001b[22m\u001b[33mu_crra_prime\u001b[39m\n",
      "\u001b[1m\u001b[33mWARNING: \u001b[39m\u001b[22m\u001b[33mu_crra_prime_inv\u001b[39m\n",
      "\u001b[1m\u001b[33mWARNING: \u001b[39m\u001b[22m\u001b[33mu_crra_prime_inv\u001b[39m\n",
      "\u001b[1m\u001b[33mWARNING: \u001b[39m\u001b[22m\u001b[33mu_crra_prime\u001b[39m\n",
      "\u001b[1m\u001b[33mWARNING: \u001b[39m\u001b[22m\u001b[33mu_crra_prime\u001b[39m\n",
      "\u001b[1m\u001b[33mWARNING: \u001b[39m\u001b[22m\u001b[33mu_crra_prime_inv\u001b[39m\n",
      "\u001b[1m\u001b[33mWARNING: \u001b[39m\u001b[22m\u001b[33mu_crra_prime_inv\u001b[39m\n",
      "\u001b[1m\u001b[33mWARNING: \u001b[39m\u001b[22m\u001b[33mu_crra_prime\u001b[39m\n",
      "\u001b[1m\u001b[33mWARNING: \u001b[39m\u001b[22m\u001b[33mu_crra_prime\u001b[39m\n",
      "\u001b[1m\u001b[33mWARNING: \u001b[39m\u001b[22m\u001b[33mu_crra_prime_inv\u001b[39m\n",
      "\u001b[1m\u001b[33mWARNING: \u001b[39m\u001b[22m\u001b[33mu_crra_prime_inv\u001b[39m\n",
      "\u001b[1m\u001b[33mWARNING: \u001b[39m\u001b[22m\u001b[33mf_prime\u001b[39m\n",
      "\u001b[1m\u001b[33mWARNING: \u001b[39m\u001b[22m\u001b[33mf_prime\u001b[39m\n",
      "\u001b[1m\u001b[33mWARNING: \u001b[39m\u001b[22m\u001b[33mu_crra_prime\u001b[39m\n",
      "\u001b[1m\u001b[33mWARNING: \u001b[39m\u001b[22m\u001b[33mu_crra_prime\u001b[39m\n",
      "\u001b[1m\u001b[33mWARNING: \u001b[39m\u001b[22m\u001b[33mu_crra_prime_inv\u001b[39m\n",
      "\u001b[1m\u001b[33mWARNING: \u001b[39m\u001b[22m\u001b[33mu_crra_prime_inv\u001b[39m\n",
      "\u001b[1m\u001b[33mWARNING: \u001b[39m\u001b[22m\u001b[33mf_prime\u001b[39m\n",
      "\u001b[1m\u001b[33mWARNING: \u001b[39m\u001b[22m\u001b[33mf_prime\u001b[39m\n",
      "\u001b[1m\u001b[33mWARNING: \u001b[39m\u001b[22m\u001b[33mf_prime\u001b[39m\n",
      "\u001b[1m\u001b[33mWARNING: \u001b[39m\u001b[22m\u001b[33mf_prime\u001b[39m\n",
      "\u001b[1m\u001b[33mWARNING: \u001b[39m\u001b[22m\u001b[33mf_prime\u001b[39m\n",
      "\u001b[1m\u001b[33mWARNING: \u001b[39m\u001b[22m\u001b[33mf_prime\u001b[39m\n",
      "\u001b[1m\u001b[33mWARNING: \u001b[39m\u001b[22m\u001b[33mu_crra_prime\u001b[39m\n",
      "\u001b[1m\u001b[33mWARNING: \u001b[39m\u001b[22m\u001b[33mu_crra_prime\u001b[39m\n",
      "\u001b[1m\u001b[33mWARNING: \u001b[39m\u001b[22m\u001b[33mu_crra_prime_inv\u001b[39m\n",
      "\u001b[1m\u001b[33mWARNING: \u001b[39m\u001b[22m\u001b[33mu_crra_prime_inv\u001b[39m\n",
      "\u001b[1m\u001b[33mWARNING: \u001b[39m\u001b[22m\u001b[33mu_crra_prime\u001b[39m\n",
      "\u001b[1m\u001b[33mWARNING: \u001b[39m\u001b[22m\u001b[33mu_crra_prime\u001b[39m\n",
      "\u001b[1m\u001b[33mWARNING: \u001b[39m\u001b[22m\u001b[33mu_crra_prime_inv\u001b[39m\n",
      "\u001b[1m\u001b[33mWARNING: \u001b[39m\u001b[22m\u001b[33mu_crra_prime_inv\u001b[39m\n",
      "\u001b[1m\u001b[33mWARNING: \u001b[39m\u001b[22m\u001b[33mu_crra_prime\u001b[39m\n",
      "\u001b[1m\u001b[33mWARNING: \u001b[39m\u001b[22m\u001b[33mu_crra_prime\u001b[39m\n",
      "\u001b[1m\u001b[33mWARNING: \u001b[39m\u001b[22m\u001b[33mu_crra_prime_inv\u001b[39m\n",
      "\u001b[1m\u001b[33mWARNING: \u001b[39m\u001b[22m\u001b[33mu_crra_prime_inv\u001b[39m\n",
      "\u001b[1m\u001b[33mWARNING: \u001b[39m\u001b[22m\u001b[33mu_crra_prime\u001b[39m\n",
      "\u001b[1m\u001b[33mWARNING: \u001b[39m\u001b[22m\u001b[33mu_crra_prime\u001b[39m\n",
      "\u001b[1m\u001b[33mWARNING: \u001b[39m\u001b[22m\u001b[33mu_crra_prime_inv\u001b[39m\n",
      "\u001b[1m\u001b[33mWARNING: \u001b[39m\u001b[22m\u001b[33mu_crra_prime_inv\u001b[39m\n"
     ]
    },
    {
     "name": "stderr",
     "output_type": "stream",
     "text": [
      "\u001b[1m\u001b[33mWARNING: \u001b[39m\u001b[22m\u001b[33mf_prime\u001b[39m\n",
      "\u001b[1m\u001b[33mWARNING: \u001b[39m\u001b[22m\u001b[33mf_prime\u001b[39m\n",
      "\u001b[1m\u001b[33mWARNING: \u001b[39m\u001b[22m\u001b[33mu_crra_prime\u001b[39m\n",
      "\u001b[1m\u001b[33mWARNING: \u001b[39m\u001b[22m\u001b[33mu_crra_prime\u001b[39m\n",
      "\u001b[1m\u001b[33mWARNING: \u001b[39m\u001b[22m\u001b[33mu_crra_prime_inv\u001b[39m\n",
      "\u001b[1m\u001b[33mWARNING: \u001b[39m\u001b[22m\u001b[33mu_crra_prime_inv\u001b[39m\n",
      "\u001b[1m\u001b[33mWARNING: \u001b[39m\u001b[22m\u001b[33mu_crra_prime\u001b[39m\n",
      "\u001b[1m\u001b[33mWARNING: \u001b[39m\u001b[22m\u001b[33mu_crra_prime\u001b[39m\n",
      "\u001b[1m\u001b[33mWARNING: \u001b[39m\u001b[22m\u001b[33mu_crra_prime_inv\u001b[39m\n",
      "\u001b[1m\u001b[33mWARNING: \u001b[39m\u001b[22m\u001b[33mu_crra_prime_inv\u001b[39m\n",
      "\u001b[1m\u001b[33mWARNING: \u001b[39m\u001b[22m\u001b[33mf_prime\u001b[39m\n",
      "\u001b[1m\u001b[33mWARNING: \u001b[39m\u001b[22m\u001b[33mf_prime\u001b[39m\n",
      "\u001b[1m\u001b[33mWARNING: \u001b[39m\u001b[22m\u001b[33mu_crra_prime\u001b[39m\n",
      "\u001b[1m\u001b[33mWARNING: \u001b[39m\u001b[22m\u001b[33mu_crra_prime\u001b[39m\n",
      "\u001b[1m\u001b[33mWARNING: \u001b[39m\u001b[22m\u001b[33mu_crra_prime_inv\u001b[39m\n",
      "\u001b[1m\u001b[33mWARNING: \u001b[39m\u001b[22m\u001b[33mu_crra_prime_inv\u001b[39m\n",
      "\u001b[1m\u001b[33mWARNING: \u001b[39m\u001b[22m\u001b[33mu_crra_prime\u001b[39m\n",
      "\u001b[1m\u001b[33mWARNING: \u001b[39m\u001b[22m\u001b[33mu_crra_prime\u001b[39m\n",
      "\u001b[1m\u001b[33mWARNING: \u001b[39m\u001b[22m\u001b[33mu_crra_prime_inv\u001b[39m\n",
      "\u001b[1m\u001b[33mWARNING: \u001b[39m\u001b[22m\u001b[33mu_crra_prime_inv\u001b[39m\n",
      "\u001b[1m\u001b[33mWARNING: \u001b[39m\u001b[22m\u001b[33mu_crra_prime\u001b[39m\n",
      "\u001b[1m\u001b[33mWARNING: \u001b[39m\u001b[22m\u001b[33mu_crra_prime\u001b[39m\n",
      "\u001b[1m\u001b[33mWARNING: \u001b[39m\u001b[22m\u001b[33mu_crra_prime_inv\u001b[39m\n",
      "\u001b[1m\u001b[33mWARNING: \u001b[39m\u001b[22m\u001b[33mu_crra_prime_inv\u001b[39m\n",
      "\u001b[1m\u001b[33mWARNING: \u001b[39m\u001b[22m\u001b[33mu_crra_prime\u001b[39m\n",
      "\u001b[1m\u001b[33mWARNING: \u001b[39m\u001b[22m\u001b[33mu_crra_prime\u001b[39m\n",
      "\u001b[1m\u001b[33mWARNING: \u001b[39m\u001b[22m\u001b[33mu_crra_prime_inv\u001b[39m\n",
      "\u001b[1m\u001b[33mWARNING: \u001b[39m\u001b[22m\u001b[33mu_crra_prime_inv\u001b[39m\n",
      "\u001b[1m\u001b[33mWARNING: \u001b[39m\u001b[22m\u001b[33mu_crra_prime\u001b[39m\n",
      "\u001b[1m\u001b[33mWARNING: \u001b[39m\u001b[22m\u001b[33mu_crra_prime\u001b[39m\n",
      "\u001b[1m\u001b[33mWARNING: \u001b[39m\u001b[22m\u001b[33mu_crra_prime_inv\u001b[39m\n",
      "\u001b[1m\u001b[33mWARNING: \u001b[39m\u001b[22m\u001b[33mu_crra_prime_inv\u001b[39m\n",
      "\u001b[1m\u001b[33mWARNING: \u001b[39m\u001b[22m\u001b[33mf_prime\u001b[39m\n",
      "\u001b[1m\u001b[33mWARNING: \u001b[39m\u001b[22m\u001b[33mf_prime\u001b[39m\n",
      "\u001b[1m\u001b[33mWARNING: \u001b[39m\u001b[22m\u001b[33mu_crra_prime\u001b[39m\n",
      "\u001b[1m\u001b[33mWARNING: \u001b[39m\u001b[22m\u001b[33mu_crra_prime\u001b[39m\n",
      "\u001b[1m\u001b[33mWARNING: \u001b[39m\u001b[22m\u001b[33mu_crra_prime_inv\u001b[39m\n",
      "\u001b[1m\u001b[33mWARNING: \u001b[39m\u001b[22m\u001b[33mu_crra_prime_inv\u001b[39m\n",
      "\u001b[1m\u001b[33mWARNING: \u001b[39m\u001b[22m\u001b[33mf_prime\u001b[39m\n",
      "\u001b[1m\u001b[33mWARNING: \u001b[39m\u001b[22m\u001b[33mf_prime\u001b[39m\n",
      "\u001b[1m\u001b[33mWARNING: \u001b[39m\u001b[22m\u001b[33mu_crra_prime\u001b[39m\n",
      "\u001b[1m\u001b[33mWARNING: \u001b[39m\u001b[22m\u001b[33mu_crra_prime\u001b[39m\n",
      "\u001b[1m\u001b[33mWARNING: \u001b[39m\u001b[22m\u001b[33mu_crra_prime_inv\u001b[39m\n",
      "\u001b[1m\u001b[33mWARNING: \u001b[39m\u001b[22m\u001b[33mu_crra_prime_inv\u001b[39m\n",
      "\u001b[1m\u001b[33mWARNING: \u001b[39m\u001b[22m\u001b[33mu_crra_prime\u001b[39m\n",
      "\u001b[1m\u001b[33mWARNING: \u001b[39m\u001b[22m\u001b[33mu_crra_prime\u001b[39m\n",
      "\u001b[1m\u001b[33mWARNING: \u001b[39m\u001b[22m\u001b[33mu_crra_prime_inv\u001b[39m\n",
      "\u001b[1m\u001b[33mWARNING: \u001b[39m\u001b[22m\u001b[33mu_crra_prime_inv\u001b[39m\n",
      "\u001b[1m\u001b[33mWARNING: \u001b[39m\u001b[22m\u001b[33mu_crra_prime\u001b[39m\n",
      "\u001b[1m\u001b[33mWARNING: \u001b[39m\u001b[22m\u001b[33mu_crra_prime\u001b[39m\n",
      "\u001b[1m\u001b[33mWARNING: \u001b[39m\u001b[22m\u001b[33mu_crra_prime_inv\u001b[39m\n",
      "\u001b[1m\u001b[33mWARNING: \u001b[39m\u001b[22m\u001b[33mu_crra_prime_inv\u001b[39m\n",
      "\u001b[1m\u001b[33mWARNING: \u001b[39m\u001b[22m\u001b[33mu_crra_prime\u001b[39m\n",
      "\u001b[1m\u001b[33mWARNING: \u001b[39m\u001b[22m\u001b[33mu_crra_prime\u001b[39m\n",
      "\u001b[1m\u001b[33mWARNING: \u001b[39m\u001b[22m\u001b[33mu_crra_prime_inv\u001b[39m\n",
      "\u001b[1m\u001b[33mWARNING: \u001b[39m\u001b[22m\u001b[33mu_crra_prime_inv\u001b[39m\n"
     ]
    },
    {
     "name": "stdout",
     "output_type": "stream",
     "text": [
      "\n",
      "Number of Iterations....: 700\n",
      "\n",
      "                                   (scaled)                 (unscaled)\n",
      "Objective...............:   5.4116291628439003e-06    6.1542271225726816e-05\n",
      "Dual infeasibility......:   2.0456378694615605e-02    2.3263456678887132e-01\n",
      "Constraint violation....:   3.7629252958026882e-07    3.7629252958026882e-07\n",
      "Complementarity.........:   1.0872745865522187e-11    1.2364732595104975e-10\n",
      "Overall NLP error.......:   2.0456378694615605e-02    2.3263456678887132e-01\n",
      "\n",
      "\n",
      "Number of objective function evaluations             = 4327\n",
      "Number of objective gradient evaluations             = 701\n",
      "Number of equality constraint evaluations            = 4375\n",
      "Number of inequality constraint evaluations          = 0\n",
      "Number of equality constraint Jacobian evaluations   = 701\n",
      "Number of inequality constraint Jacobian evaluations = 0\n",
      "Number of Lagrangian Hessian evaluations             = 0\n",
      "Total CPU secs in IPOPT (w/o function evaluations)   =      0.792\n",
      "Total CPU secs in NLP function evaluations           =      3.160\n",
      "\n",
      "EXIT: Maximum Number of Iterations Exceeded.\n"
     ]
    },
    {
     "name": "stderr",
     "output_type": "stream",
     "text": [
      "\u001b[1m\u001b[33mWARNING: \u001b[39m\u001b[22m\u001b[33mNot solved to optimality, status: UserLimit\u001b[39m\n"
     ]
    },
    {
     "data": {
      "text/plain": [
       ":UserLimit"
      ]
     },
     "execution_count": 299,
     "metadata": {},
     "output_type": "execute_result"
    }
   ],
   "source": [
    "solve(m)"
   ]
  },
  {
   "cell_type": "code",
   "execution_count": 300,
   "metadata": {},
   "outputs": [
    {
     "data": {
      "text/plain": [
       "(0.9483760402694263, 0.04122327659654317, 0.2870558236368918, 0.9939133487562155, 1.9241801270454704)"
      ]
     },
     "execution_count": 300,
     "metadata": {},
     "output_type": "execute_result"
    }
   ],
   "source": [
    "getvalue(β), getvalue(δ), getvalue(α), getvalue(A), getvalue(γ)"
   ]
  },
  {
   "cell_type": "code",
   "execution_count": 301,
   "metadata": {},
   "outputs": [
    {
     "data": {
      "text/html": [
       "<img src=\"data:image/png;base64,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\" />"
      ]
     },
     "execution_count": 301,
     "metadata": {},
     "output_type": "execute_result"
    }
   ],
   "source": [
    "plot(nodes(Basis(ChebParams(10, 0.2*k_stst, 2*k_stst)))[1], [0.731039, 0.830067, 0.984055, 1.15697 , 1.32812 , 1.48555 , 1.62093 , 1.72778 , 1.80161 , 1.8393], label=\"True Policy Fucntion\")\n",
    "plot!(K, Ψ * getvalue(θ), label=\"Estimated Policy Function\")"
   ]
  },
  {
   "cell_type": "code",
   "execution_count": null,
   "metadata": {},
   "outputs": [],
   "source": []
  },
  {
   "cell_type": "code",
   "execution_count": null,
   "metadata": {},
   "outputs": [],
   "source": []
  },
  {
   "cell_type": "code",
   "execution_count": null,
   "metadata": {},
   "outputs": [],
   "source": []
  },
  {
   "cell_type": "code",
   "execution_count": null,
   "metadata": {},
   "outputs": [],
   "source": []
  },
  {
   "cell_type": "code",
   "execution_count": null,
   "metadata": {},
   "outputs": [],
   "source": []
  },
  {
   "cell_type": "code",
   "execution_count": null,
   "metadata": {},
   "outputs": [],
   "source": []
  },
  {
   "cell_type": "code",
   "execution_count": null,
   "metadata": {},
   "outputs": [],
   "source": []
  },
  {
   "cell_type": "code",
   "execution_count": null,
   "metadata": {},
   "outputs": [],
   "source": []
  },
  {
   "cell_type": "code",
   "execution_count": null,
   "metadata": {},
   "outputs": [],
   "source": []
  }
 ],
 "metadata": {
  "kernelspec": {
   "display_name": "Julia 0.6.0",
   "language": "julia",
   "name": "julia-0.6"
  },
  "language_info": {
   "file_extension": ".jl",
   "mimetype": "application/julia",
   "name": "julia",
   "version": "0.6.0"
  }
 },
 "nbformat": 4,
 "nbformat_minor": 2
}
