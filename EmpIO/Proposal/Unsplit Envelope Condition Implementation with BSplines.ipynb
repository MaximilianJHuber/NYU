{
 "cells": [
  {
   "cell_type": "markdown",
   "metadata": {},
   "source": [
    "In this exercise I solve a deterministic growth model using simulated data generated from an economy with parameters $\\beta = 0.95$, $\\alpha = 0.3$, $A = 1.0$, $\\delta = 0.05$, $\\gamma = 2.0$. I initiate the variables of the mathematical program at the true values, which should make the optimization easy."
   ]
  },
  {
   "cell_type": "code",
   "execution_count": 1,
   "metadata": {
    "scrolled": false
   },
   "outputs": [
    {
     "name": "stderr",
     "output_type": "stream",
     "text": [
      "WARNING: Method definition ==(Base.Nullable{S}, Base.Nullable{T}) in module Base at nullable.jl:238 overwritten in module NullableArrays at /home/juser/.julia/v0.6/NullableArrays/src/operators.jl:99.\n",
      "WARNING: Compat.AsyncCondition is deprecated, use Base.AsyncCondition instead.\n",
      "  likely near In[1]:2\n",
      "WARNING: Compat.AsyncCondition is deprecated, use Base.AsyncCondition instead.\n",
      "  likely near In[1]:2\n"
     ]
    },
    {
     "data": {
      "text/html": [
       "<img src=\"data:image/png;base64,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\" />"
      ]
     },
     "execution_count": 1,
     "metadata": {},
     "output_type": "execute_result"
    }
   ],
   "source": [
    "using CSV\n",
    "using Plots; pyplot()\n",
    "\n",
    "df = CSV.read(\"data.csv\"; header=false, types=[Float64, Float64])\n",
    "dataK = convert(Vector{Float64}, df[1])\n",
    "dataC = convert(Vector{Float64}, df[2])\n",
    "\n",
    "plot(dataK, label=\"capital\")\n",
    "plot!(dataC, label=\"consumption\")"
   ]
  },
  {
   "cell_type": "markdown",
   "metadata": {},
   "source": [
    "The economy's steady state for capital is:"
   ]
  },
  {
   "cell_type": "code",
   "execution_count": 2,
   "metadata": {},
   "outputs": [],
   "source": [
    "k_stst = 4.628988089138438;"
   ]
  },
  {
   "cell_type": "markdown",
   "metadata": {},
   "source": [
    "# The Mathematical Program\n",
    "I define the needed function related to utility and production:"
   ]
  },
  {
   "cell_type": "code",
   "execution_count": 170,
   "metadata": {},
   "outputs": [
    {
     "data": {
      "text/plain": [
       "f_prime (generic function with 1 method)"
      ]
     },
     "execution_count": 170,
     "metadata": {},
     "output_type": "execute_result"
    }
   ],
   "source": [
    "u_crra_prime(c, γ) = begin\n",
    "    if (c <= 0)\n",
    "        return -1000000.\n",
    "        else\n",
    "        return c^-γ\n",
    "    end\n",
    "end\n",
    "\n",
    "u_crra(c, γ) = begin\n",
    "    return c^(1-γ) / (1-γ)\n",
    "end\n",
    "\n",
    "u_crra_prime_inv(u, γ) = begin\n",
    "    if (u <= 0)\n",
    "        return +1000000.\n",
    "    else\n",
    "        return u^(-1/γ) \n",
    "    end\n",
    "end\n",
    "\n",
    "function f(k, α, A)\n",
    "    if (k <= 0)\n",
    "        return zero(k)\n",
    "    else\n",
    "        A*k^α\n",
    "    end\n",
    "end\n",
    "\n",
    "function f_prime(k, α, A)\n",
    "    if (k <= 0)\n",
    "        return zero(k)\n",
    "    else\n",
    "        A*α*k^(α-1)\n",
    "    end\n",
    "end"
   ]
  },
  {
   "cell_type": "markdown",
   "metadata": {},
   "source": [
    "I use the Julia Mathematical Programming languange JuMP and the IpOpt solver:"
   ]
  },
  {
   "cell_type": "code",
   "execution_count": 171,
   "metadata": {},
   "outputs": [],
   "source": [
    "using JuMP\n",
    "using Ipopt\n",
    "\n",
    "m = Model(solver=IpoptSolver(print_level=5, max_iter=600));"
   ]
  },
  {
   "cell_type": "markdown",
   "metadata": {},
   "source": [
    "I define the deep parameters variables and give the the correct starting values:"
   ]
  },
  {
   "cell_type": "code",
   "execution_count": 172,
   "metadata": {},
   "outputs": [],
   "source": [
    "@variable(m, 0 <= β <= 1, start = 0.95)\n",
    "@variable(m, 0 <= δ <= 1, start = 0.1)\n",
    "@variable(m, 0 <= α <= 1, start = 0.3)\n",
    "@variable(m, A >= 0, start = 1)\n",
    "@variable(m, γ >= 0, start = 2);"
   ]
  },
  {
   "cell_type": "markdown",
   "metadata": {},
   "source": [
    "The policy function is approximated by 10 Chebyshev polynomials on a grid around the steady state for capital, the coefficients on the polynomials are $\\theta$:"
   ]
  },
  {
   "cell_type": "markdown",
   "metadata": {},
   "source": [
    "I define a grid on capital, $K$, with 10 nodes, and evaluate the Chebyshev polynomials at those point into $\\Psi$ and at the observed data points into $\\Phi$:"
   ]
  },
  {
   "cell_type": "code",
   "execution_count": 173,
   "metadata": {},
   "outputs": [
    {
     "name": "stderr",
     "output_type": "stream",
     "text": [
      "WARNING: redefining constant params\n"
     ]
    }
   ],
   "source": [
    "using BasisMatrices\n",
    "global const params = SplineParams(linspace(0.2*k_stst, 2*k_stst, 10), 0, 3)\n",
    "basis = Basis(params)\n",
    "K = nodes(basis)[1] #grid\n",
    "Ψ = BasisMatrix(basis, Expanded(), K).vals[1]\n",
    "Ψprime = BasisMatrix(basis, Expanded(), K, 1).vals[1]\n",
    "Ψprimeprime = BasisMatrix(basis, Expanded(), K, 2).vals[1]\n",
    "#Ψprimeprimeprime = BasisMatrix(basis, Expanded(), K, 3).vals[1]\n",
    "Φ = BasisMatrix(basis, Expanded(), dataK).vals[1]\n",
    "Φprime = BasisMatrix(basis, Expanded(), dataK, 1).vals[1];"
   ]
  },
  {
   "cell_type": "code",
   "execution_count": 174,
   "metadata": {},
   "outputs": [],
   "source": [
    "@variable(m, θ[1:length(K)], start = 0);"
   ]
  },
  {
   "cell_type": "markdown",
   "metadata": {},
   "source": [
    "And I initialize $\\theta$ such that the consumer myopically consumes almost everything available, leaving just $0.5$ capital for the next period:"
   ]
  },
  {
   "cell_type": "code",
   "execution_count": 175,
   "metadata": {},
   "outputs": [],
   "source": [
    "initial_θ = Ψ \\ u_crra.((f.(K, getvalue(α), getvalue(A)) + (1-getvalue(δ))*K - 1.), getvalue(γ))\n",
    "\n",
    "for i in 1:length(K)\n",
    "    setvalue(θ[i], initial_θ[i])\n",
    "end"
   ]
  },
  {
   "cell_type": "markdown",
   "metadata": {},
   "source": [
    "In the equilibrium constraint the polynomials have to be evaluated also outside the grid, I define this function here:"
   ]
  },
  {
   "cell_type": "code",
   "execution_count": 176,
   "metadata": {
    "scrolled": false
   },
   "outputs": [
    {
     "data": {
      "text/plain": [
       "interpVprime (generic function with 1 method)"
      ]
     },
     "execution_count": 176,
     "metadata": {},
     "output_type": "execute_result"
    }
   ],
   "source": [
    "function interpVprime(x, values...) #x is the point of evaluation, values are on the grid\n",
    "    return (evalbase(params, [x], 1) * collect(values))[1] #evaluates the first derivative of the basis functions\n",
    "end"
   ]
  },
  {
   "cell_type": "markdown",
   "metadata": {},
   "source": [
    "I register all user-defined functions with JuMP for automatic differentiation:"
   ]
  },
  {
   "cell_type": "code",
   "execution_count": 177,
   "metadata": {},
   "outputs": [],
   "source": [
    "JuMP.register(m, :interpVprime, 1+length(K), interpVprime, autodiff=true)\n",
    "JuMP.register(m, :u_crra_prime, 2, u_crra_prime, autodiff=true)\n",
    "JuMP.register(m, :f, 3, f, autodiff=true)\n",
    "JuMP.register(m, :f_prime, 3, f_prime, autodiff=true)\n",
    "JuMP.register(m, :u_crra_prime_inv, 2, u_crra_prime_inv, autodiff=true)"
   ]
  },
  {
   "cell_type": "markdown",
   "metadata": {},
   "source": [
    "The auxiliary and equilibrium constraints are all defined on the grid with 10 nodes:"
   ]
  },
  {
   "cell_type": "code",
   "execution_count": 178,
   "metadata": {},
   "outputs": [],
   "source": [
    "@variable(m, modelC[i=1:length(K)] >= 0, start = 1)\n",
    "@variable(m, modelKprime[i=1:length(K)] >= 0, start = 1)\n",
    "@variable(m, modelCprime[i=1:length(K)] >= 0, start = 1)\n",
    "\n",
    "for i in 1:length(K)\n",
    "    setvalue(modelC[i], u_crra_prime_inv(Ψprime[i, :]' * getvalue(θ), getvalue(γ)))\n",
    "    setvalue(modelKprime[i], f(K[i], getvalue(α), getvalue(A)) + (1-getvalue(δ))*K[i] - getvalue(modelC[i]))\n",
    "    setvalue(modelCprime[i], u_crra_prime_inv(interpVprime(getvalue(modelKprime[i]), getvalue(θ)...), getvalue(γ)))\n",
    "end"
   ]
  },
  {
   "cell_type": "code",
   "execution_count": 179,
   "metadata": {},
   "outputs": [],
   "source": [
    "##EE in consumption:\n",
    "@NLconstraint(m, cons_today[i=1:length(K)], modelC[i] == u_crra_prime_inv(sum(Ψprime[i, k] * θ[k] for k in 1:length(K)), γ))\n",
    "@NLconstraint(m, capi_tomor[i=1:length(K)], modelKprime[i] == f(K[i], α, A) + (1-δ)*K[i] - modelC[i])\n",
    "@NLconstraint(m, cons_tomor[i=1:length(K)], modelCprime[i] == u_crra_prime_inv(interpVprime(modelKprime[i], \n",
    "            θ[1], θ[2], θ[3], θ[4], θ[5], θ[6], θ[7], θ[8], θ[9], θ[10], θ[11], θ[12]), γ))\n",
    "\n",
    "@NLconstraint(m, increasing[i=1:length(K)], sum(Ψprime[i, k] * θ[k] for k in 1:length(K)) >= 0)\n",
    "@NLconstraint(m, concave[i=1:length(K)], sum(Ψprimeprime[i, k] * θ[k] for k in 1:length(K)) <= 0)\n",
    "#@NLconstraint(m, convex[i=1:length(K)], sum(Ψprimeprimeprime[i, k] * θ[k] for k in 1:length(K)) >= 0)\n",
    "\n",
    "@NLconstraint(m, EE[i=1:length(K)], u_crra_prime(modelC[i], γ) == \n",
    "    β * u_crra_prime(modelCprime[i], γ) * (f_prime(modelKprime[i], α, A) + 1-δ));"
   ]
  },
  {
   "cell_type": "markdown",
   "metadata": {},
   "source": [
    "I define auxiliary expressions for the predictions of the equilibrium conditions:"
   ]
  },
  {
   "cell_type": "code",
   "execution_count": 180,
   "metadata": {},
   "outputs": [],
   "source": [
    "@NLexpression(m, predictedK[t=2:100], f(dataK[t-1], α, A) + (1-δ)*dataK[t-1] - dataC[t-1])\n",
    "@NLexpression(m, predictedC[t=1:100], u_crra_prime_inv(sum(Φprime[t, k] * θ[k] for k in 1:length(K)), γ));"
   ]
  },
  {
   "cell_type": "markdown",
   "metadata": {},
   "source": [
    "The objective is to minimize the sum of squared errors:"
   ]
  },
  {
   "cell_type": "code",
   "execution_count": 181,
   "metadata": {},
   "outputs": [],
   "source": [
    "@NLobjective(m, Min, sum((dataC[t] - predictedC[t])^2 for t in 1:100) +\n",
    "    sum((dataK[t] - predictedK[t])^2 for t in 2:100))"
   ]
  },
  {
   "cell_type": "code",
   "execution_count": null,
   "metadata": {
    "scrolled": true
   },
   "outputs": [],
   "source": [
    "solve(m)"
   ]
  },
  {
   "cell_type": "code",
   "execution_count": null,
   "metadata": {},
   "outputs": [],
   "source": [
    "getvalue(β), getvalue(δ), getvalue(α), getvalue(A), getvalue(γ)"
   ]
  },
  {
   "cell_type": "code",
   "execution_count": null,
   "metadata": {},
   "outputs": [],
   "source": [
    "plot(nodes(Basis(ChebParams(10, 0.2*k_stst, 2*k_stst)))[1], [0.731039, 0.830067, 0.984055, 1.15697 , 1.32812 , 1.48555 , 1.62093 , 1.72778 , 1.80161 , 1.8393], label=\"True Policy Fucntion\")\n",
    "plot!(K, u_crra_prime_inv.(Ψprime * getvalue(θ), getvalue(γ)), label=\"Estimated Policy Function\")"
   ]
  },
  {
   "cell_type": "code",
   "execution_count": null,
   "metadata": {},
   "outputs": [],
   "source": [
    "plot(K, u_crra_prime_inv.(Ψprime * getvalue(θ), getvalue(γ)))\n",
    "plot!(K, Ψprime * getvalue(θ))"
   ]
  },
  {
   "cell_type": "code",
   "execution_count": null,
   "metadata": {},
   "outputs": [],
   "source": [
    "sum(u_crra_prime_inv.(Φprime * getvalue(θ), getvalue(γ)) .< 0)"
   ]
  },
  {
   "cell_type": "code",
   "execution_count": null,
   "metadata": {},
   "outputs": [],
   "source": [
    "Ψprime * getvalue(θ)"
   ]
  },
  {
   "cell_type": "code",
   "execution_count": null,
   "metadata": {},
   "outputs": [],
   "source": [
    "getvalue(modelC)"
   ]
  },
  {
   "cell_type": "code",
   "execution_count": null,
   "metadata": {},
   "outputs": [],
   "source": [
    "getvalue(θ)"
   ]
  },
  {
   "cell_type": "code",
   "execution_count": null,
   "metadata": {},
   "outputs": [],
   "source": []
  },
  {
   "cell_type": "code",
   "execution_count": null,
   "metadata": {},
   "outputs": [],
   "source": []
  }
 ],
 "metadata": {
  "kernelspec": {
   "display_name": "Julia 0.6.0",
   "language": "julia",
   "name": "julia-0.6"
  },
  "language_info": {
   "file_extension": ".jl",
   "mimetype": "application/julia",
   "name": "julia",
   "version": "0.6.0"
  }
 },
 "nbformat": 4,
 "nbformat_minor": 2
}
