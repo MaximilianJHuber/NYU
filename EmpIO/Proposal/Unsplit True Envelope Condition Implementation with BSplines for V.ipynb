{
 "cells": [
  {
   "cell_type": "markdown",
   "metadata": {},
   "source": [
    "In this exercise I solve a deterministic growth model using simulated data generated from an economy with parameters $\\beta = 0.95$, $\\alpha = 0.3$, $A = 1.0$, $\\delta = 0.05$, $\\gamma = 2.0$. I initiate the variables of the mathematical program at the true values, which should make the optimization easy."
   ]
  },
  {
   "cell_type": "code",
   "execution_count": 152,
   "metadata": {
    "scrolled": false
   },
   "outputs": [
    {
     "data": {
      "text/html": [
       "<img src=\"data:image/png;base64,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\" />"
      ]
     },
     "execution_count": 152,
     "metadata": {},
     "output_type": "execute_result"
    }
   ],
   "source": [
    "using CSV\n",
    "using Plots; pyplot()\n",
    "\n",
    "df = CSV.read(\"data.csv\"; header=false, types=[Float64, Float64])\n",
    "dataK = convert(Vector{Float64}, df[1])\n",
    "dataC = convert(Vector{Float64}, df[2])\n",
    "\n",
    "plot(dataK, label=\"capital\")\n",
    "plot!(dataC, label=\"consumption\")"
   ]
  },
  {
   "cell_type": "markdown",
   "metadata": {},
   "source": [
    "The economy's steady state for capital is:"
   ]
  },
  {
   "cell_type": "code",
   "execution_count": 153,
   "metadata": {},
   "outputs": [],
   "source": [
    "k_stst = 4.628988089138438;"
   ]
  },
  {
   "cell_type": "markdown",
   "metadata": {},
   "source": [
    "# The Mathematical Program\n",
    "I define the needed function related to utility and production:"
   ]
  },
  {
   "cell_type": "code",
   "execution_count": 216,
   "metadata": {
    "scrolled": false
   },
   "outputs": [
    {
     "data": {
      "text/plain": [
       "f_prime (generic function with 1 method)"
      ]
     },
     "execution_count": 216,
     "metadata": {},
     "output_type": "execute_result"
    }
   ],
   "source": [
    "u_crra(c, γ) = begin\n",
    "    if (c <= 0)\n",
    "        warn(\"u_crra_prime\")\n",
    "        return -1000000.\n",
    "        else\n",
    "        return c^(1-γ)/(1-γ)\n",
    "    end\n",
    "end\n",
    "\n",
    "u_crra_prime(c, γ) = begin\n",
    "    if (c <= 0)\n",
    "        #warn(\"u_crra_prime\")\n",
    "        return -1000000.\n",
    "        else\n",
    "        return c^-γ\n",
    "    end\n",
    "end\n",
    "\n",
    "u_crra_prime_inv(u, γ) = begin\n",
    "    if (u <= 0)\n",
    "       #warn(\"u_crra_prime_inv\")\n",
    "        return +1000000.\n",
    "    else\n",
    "        return u^(-1/γ) \n",
    "    end\n",
    "end\n",
    "\n",
    "function f(k, α, A)\n",
    "    if (k <= 0)\n",
    "        warn(\"f\")\n",
    "        return zero(k)\n",
    "    else\n",
    "        A*k^α\n",
    "    end\n",
    "end\n",
    "\n",
    "function f_prime(k, α, A)\n",
    "    if (k <= 0)\n",
    "        warn(\"f_prime\")\n",
    "        return zero(k)\n",
    "    else\n",
    "        A*α*k^(α-1)\n",
    "    end\n",
    "end"
   ]
  },
  {
   "cell_type": "markdown",
   "metadata": {},
   "source": [
    "I use the Julia Mathematical Programming languange JuMP and the IpOpt solver:"
   ]
  },
  {
   "cell_type": "code",
   "execution_count": 217,
   "metadata": {},
   "outputs": [],
   "source": [
    "using JuMP\n",
    "using Ipopt\n",
    "\n",
    "m = Model(solver=IpoptSolver(print_level=3, max_iter=500));"
   ]
  },
  {
   "cell_type": "markdown",
   "metadata": {},
   "source": [
    "I define the deep parameters variables and give the the correct starting values:"
   ]
  },
  {
   "cell_type": "code",
   "execution_count": 218,
   "metadata": {},
   "outputs": [
    {
     "data": {
      "text/latex": [
       "$$ δ $$"
      ],
      "text/plain": [
       "δ"
      ]
     },
     "execution_count": 218,
     "metadata": {},
     "output_type": "execute_result"
    }
   ],
   "source": [
    "#@variable(m, 0 <= β <= 1, start = 0.95)\n",
    "#@variable(m, 0 <= δ <= 1, start = 0.05)\n",
    "@variable(m, 0 <= α <= 1, start = 0.3)\n",
    "#@variable(m, A >= 0, start = 1)\n",
    "@variable(m, 100 >= γ >= 1, start = 2);\n",
    "\n",
    "@variable(m, β == 0.95)\n",
    "@variable(m, A == 1)\n",
    "@variable(m, δ == 0.05)"
   ]
  },
  {
   "cell_type": "markdown",
   "metadata": {},
   "source": [
    "I define a grid on capital, $K$, with 12 nodes, and evaluate the spline polynomials at those point into $\\Psi$ and at the observed data points into $\\Phi$:"
   ]
  },
  {
   "cell_type": "code",
   "execution_count": 219,
   "metadata": {},
   "outputs": [
    {
     "name": "stderr",
     "output_type": "stream",
     "text": [
      "WARNING: redefining constant params\n"
     ]
    }
   ],
   "source": [
    "using BasisMatrices\n",
    "global const params = SplineParams(linspace(0.2*k_stst, 2*k_stst, 10), 0, 3)\n",
    "basis = Basis(params)\n",
    "K = nodes(basis)[1] #grid\n",
    "Ψ = BasisMatrix(basis, Expanded(), K).vals[1]\n",
    "Ψprime = BasisMatrix(basis, Expanded(), K, 1).vals[1]\n",
    "Ψprimeprime = BasisMatrix(basis, Expanded(), K, 2).vals[1]\n",
    "Φ = BasisMatrix(basis, Expanded(), dataK).vals[1]\n",
    "Φprime = BasisMatrix(basis, Expanded(), dataK, 1).vals[1];"
   ]
  },
  {
   "cell_type": "markdown",
   "metadata": {},
   "source": [
    "The policy function is approximated by 12 cubic splines on a grid around the steady state for capital, the coefficients on the polynomials are $\\theta$:"
   ]
  },
  {
   "cell_type": "code",
   "execution_count": 220,
   "metadata": {},
   "outputs": [],
   "source": [
    "@variable(m, θ[1:length(K)], start = 0);"
   ]
  },
  {
   "cell_type": "markdown",
   "metadata": {},
   "source": [
    "In the equilibrium constraint the polynomials have to be evaluated also outside the grid, I define this function here:"
   ]
  },
  {
   "cell_type": "code",
   "execution_count": 221,
   "metadata": {
    "scrolled": false
   },
   "outputs": [
    {
     "data": {
      "text/plain": [
       "interpV (generic function with 1 method)"
      ]
     },
     "execution_count": 221,
     "metadata": {},
     "output_type": "execute_result"
    }
   ],
   "source": [
    "function interpV(x, values...) #x is the point of evaluation, values are on the grid\n",
    "    return (evalbase(params, [x], 0) * collect(values))[1]\n",
    "end"
   ]
  },
  {
   "cell_type": "markdown",
   "metadata": {},
   "source": [
    "I register all user-defined functions with JuMP for automatic differentiation:"
   ]
  },
  {
   "cell_type": "code",
   "execution_count": 222,
   "metadata": {},
   "outputs": [],
   "source": [
    "JuMP.register(m, :interpV, 1+length(K), interpV, autodiff=true)\n",
    "JuMP.register(m, :u_crra, 2, u_crra, autodiff=true)\n",
    "JuMP.register(m, :u_crra_prime, 2, u_crra_prime, autodiff=true)\n",
    "JuMP.register(m, :f, 3, f, autodiff=true)\n",
    "JuMP.register(m, :f_prime, 3, f_prime, autodiff=true)\n",
    "JuMP.register(m, :u_crra_prime_inv, 2, u_crra_prime_inv, autodiff=true)"
   ]
  },
  {
   "cell_type": "markdown",
   "metadata": {},
   "source": [
    "And I do not initialize $\\theta$ at the true values:"
   ]
  },
  {
   "cell_type": "code",
   "execution_count": 223,
   "metadata": {},
   "outputs": [],
   "source": [
    "#b2 = Basis(ChebParams(10, 0.2*k_stst, 2*k_stst))\n",
    "#ν  = Ψ \\ (BasisMatrix(b2, Expanded(), K).vals[1] * [-15.112, 2.69213, -0.640543, 0.208069, -0.0777003, 0.0304588, -0.0123556, \n",
    "#        0.00602886, -0.00329544, 0.00114639])\n",
    "\n",
    "#for i in 1:length(K)\n",
    "#    setvalue(θ[i], ν[i])\n",
    "#end"
   ]
  },
  {
   "cell_type": "markdown",
   "metadata": {},
   "source": [
    "but with a myopic first guess, that leaves tomorrow's capital within the grid $K$:"
   ]
  },
  {
   "cell_type": "code",
   "execution_count": 224,
   "metadata": {},
   "outputs": [],
   "source": [
    "ν  = Ψ \\ u_crra.(f.(K, getvalue(α), getvalue(A)) + (1-getvalue(δ))*K - 1., getvalue(γ)) # eat almost everything, myopic!\n",
    "\n",
    "for i in 1:length(K)\n",
    "    setvalue(θ[i], ν[i])\n",
    "end"
   ]
  },
  {
   "cell_type": "markdown",
   "metadata": {},
   "source": [
    "The Bellman equation is accompanied by two constraints on the shape of the value function:"
   ]
  },
  {
   "cell_type": "code",
   "execution_count": 225,
   "metadata": {},
   "outputs": [],
   "source": [
    "@NLconstraint(m, increasing[i=1:length(K)], sum(Ψprime[i, k] * θ[k] for k in 1:length(K)) >= 0)\n",
    "@NLconstraint(m, concave[i=1:length(K)], sum(Ψprimeprime[i, k] * θ[k] for k in 1:length(K)) <= 0)\n",
    "\n",
    "@NLconstraint(m, EE[i=1:length(K)], sum(Ψ[i, k] * θ[k] for k in 1:length(K)) == \n",
    "    u_crra(u_crra_prime_inv(sum(Ψprime[i, k] * θ[k] for k in 1:length(K)) / (f_prime(K[i], α, A) + 1-δ), γ), γ) + \n",
    "    β * interpV(f(K[i], α, A) + (1-δ)*K[i] - \n",
    "        u_crra_prime_inv(sum(Ψprime[i, k] * θ[k] for k in 1:length(K)) / (f_prime(K[i], α, A) + 1-δ), γ), \n",
    "        θ[1], θ[2], θ[3], θ[4], θ[5], θ[6], θ[7], θ[8], θ[9], θ[10], θ[11], θ[12]));"
   ]
  },
  {
   "cell_type": "markdown",
   "metadata": {},
   "source": [
    "I define auxiliary expressions for the predictions of the equilibrium conditions:"
   ]
  },
  {
   "cell_type": "code",
   "execution_count": 226,
   "metadata": {},
   "outputs": [],
   "source": [
    "@NLexpression(m, predictedK[t=2:100], f(dataK[t-1], α, A) + (1-δ)*dataK[t-1] - dataC[t-1])\n",
    "\n",
    "R = f_prime.(dataK, 0.3, 1.) + 1-0.05 #the correct returns to saving are used for the data!\n",
    "@NLexpression(m, predictedC[t=1:100], u_crra_prime_inv(sum(Φprime[t, k] * θ[k] for k in 1:length(K)) / R[t], γ));"
   ]
  },
  {
   "cell_type": "markdown",
   "metadata": {},
   "source": [
    "The objective is to minimize the sum of squared errors:"
   ]
  },
  {
   "cell_type": "code",
   "execution_count": 227,
   "metadata": {},
   "outputs": [],
   "source": [
    "@NLobjective(m, Min, sum((dataC[t] - predictedC[t])^2 for t in 1:100) +\n",
    "    sum((dataK[t] - predictedK[t])^2 for t in 2:100))"
   ]
  },
  {
   "cell_type": "code",
   "execution_count": 228,
   "metadata": {
    "scrolled": false
   },
   "outputs": [
    {
     "name": "stdout",
     "output_type": "stream",
     "text": [
      "Total number of variables............................:       14\n",
      "                     variables with only lower bounds:        0\n",
      "                variables with lower and upper bounds:        2\n",
      "                     variables with only upper bounds:        0\n",
      "Total number of equality constraints.................:       12\n",
      "Total number of inequality constraints...............:       24\n",
      "        inequality constraints with only lower bounds:       12\n",
      "   inequality constraints with lower and upper bounds:        0\n",
      "        inequality constraints with only upper bounds:       12\n",
      "\n",
      "\n",
      "Number of Iterations....: 61\n",
      "\n",
      "                                   (scaled)                 (unscaled)\n",
      "Objective...............:   1.5514442300915954e+00    2.6070310544321137e+02\n",
      "Dual infeasibility......:   6.6550767055693052e-08    1.1183122992453696e-05\n",
      "Constraint violation....:   2.1536834537982941e-09    2.2846506908535957e-09\n",
      "Complementarity.........:   1.0000000000000001e-11    1.6803897967239197e-09\n",
      "Overall NLP error.......:   6.6550767055693052e-08    1.1183122992453696e-05\n",
      "\n",
      "\n",
      "Number of objective function evaluations             = 152\n",
      "Number of objective gradient evaluations             = 62\n",
      "Number of equality constraint evaluations            = 152\n",
      "Number of inequality constraint evaluations          = 152\n",
      "Number of equality constraint Jacobian evaluations   = 62\n",
      "Number of inequality constraint Jacobian evaluations = 62\n",
      "Number of Lagrangian Hessian evaluations             = 0\n",
      "Total CPU secs in IPOPT (w/o function evaluations)   =      0.076\n",
      "Total CPU secs in NLP function evaluations           =      0.192\n",
      "\n",
      "EXIT: Solved To Acceptable Level.\n"
     ]
    },
    {
     "data": {
      "text/plain": [
       ":Optimal"
      ]
     },
     "execution_count": 228,
     "metadata": {},
     "output_type": "execute_result"
    }
   ],
   "source": [
    "solve(m)"
   ]
  },
  {
   "cell_type": "code",
   "execution_count": 229,
   "metadata": {
    "scrolled": true
   },
   "outputs": [
    {
     "data": {
      "text/plain": [
       "(0.95, 0.05, 0.3462257107149354, 1.0, 1.000183651684373)"
      ]
     },
     "execution_count": 229,
     "metadata": {},
     "output_type": "execute_result"
    }
   ],
   "source": [
    "getvalue(β), getvalue(δ), getvalue(α), getvalue(A), getvalue(γ)"
   ]
  },
  {
   "cell_type": "code",
   "execution_count": 230,
   "metadata": {},
   "outputs": [
    {
     "data": {
      "text/html": [
       "<img src=\"data:image/png;base64,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\" />"
      ]
     },
     "execution_count": 230,
     "metadata": {},
     "output_type": "execute_result"
    }
   ],
   "source": [
    "plot(nodes(Basis(ChebParams(10, 0.2*k_stst, 2*k_stst)))[1], [0.731039, 0.830067, 0.984055, 1.15697 , 1.32812 , 1.48555 , 1.62093 , 1.72778 , 1.80161 , 1.8393], label=\"True Policy Fucntion\")\n",
    "plot!(K, u_crra_prime_inv.((Ψprime * getvalue(θ))./(f_prime.(K, getvalue(α), getvalue(A)) + 1-getvalue(δ)), getvalue(γ)), label=\"Estimated Policy Function\")"
   ]
  },
  {
   "cell_type": "markdown",
   "metadata": {},
   "source": [
    "The over/under-statement of returns to saving induces an error in the estimates!"
   ]
  },
  {
   "cell_type": "code",
   "execution_count": 231,
   "metadata": {},
   "outputs": [
    {
     "data": {
      "text/html": [
       "<img src=\"data:image/png;base64,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\" />"
      ]
     },
     "execution_count": 231,
     "metadata": {},
     "output_type": "execute_result"
    }
   ],
   "source": [
    "plot(K, Ψ * getvalue(θ))"
   ]
  },
  {
   "cell_type": "markdown",
   "metadata": {},
   "source": [
    "With true deep parameters as starting value, but a guess for $\\theta$, the algorithm does not find the solution."
   ]
  },
  {
   "cell_type": "code",
   "execution_count": null,
   "metadata": {},
   "outputs": [],
   "source": []
  }
 ],
 "metadata": {
  "kernelspec": {
   "display_name": "Julia 0.6.0",
   "language": "julia",
   "name": "julia-0.6"
  },
  "language_info": {
   "file_extension": ".jl",
   "mimetype": "application/julia",
   "name": "julia",
   "version": "0.6.0"
  }
 },
 "nbformat": 4,
 "nbformat_minor": 2
}
