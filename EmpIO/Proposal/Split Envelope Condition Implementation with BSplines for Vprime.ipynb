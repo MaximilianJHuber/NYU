{
 "cells": [
  {
   "cell_type": "markdown",
   "metadata": {},
   "source": [
    "In this exercise I solve a deterministic growth model using simulated data generated from an economy with parameters $\\beta = 0.95$, $\\alpha = 0.3$, $A = 1.0$, $\\delta = 0.05$, $\\gamma = 2.0$. I initiate the variables of the mathematical program at the true values, which should make the optimization easy."
   ]
  },
  {
   "cell_type": "code",
   "execution_count": 1,
   "metadata": {
    "scrolled": false
   },
   "outputs": [
    {
     "name": "stderr",
     "output_type": "stream",
     "text": [
      "WARNING: Method definition ==(Base.Nullable{S}, Base.Nullable{T}) in module Base at nullable.jl:238 overwritten in module NullableArrays at /home/juser/.julia/v0.6/NullableArrays/src/operators.jl:99.\n",
      "WARNING: Compat.AsyncCondition is deprecated, use Base.AsyncCondition instead.\n",
      "  likely near In[1]:2\n",
      "WARNING: Compat.AsyncCondition is deprecated, use Base.AsyncCondition instead.\n",
      "  likely near In[1]:2\n"
     ]
    },
    {
     "data": {
      "text/html": [
       "<img src=\"data:image/png;base64,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\" />"
      ]
     },
     "execution_count": 1,
     "metadata": {},
     "output_type": "execute_result"
    }
   ],
   "source": [
    "using CSV\n",
    "using Plots; pyplot()\n",
    "\n",
    "df = CSV.read(\"data.csv\"; header=false, types=[Float64, Float64])\n",
    "dataK = convert(Vector{Float64}, df[1])\n",
    "dataC = convert(Vector{Float64}, df[2])\n",
    "\n",
    "plot(dataK, label=\"capital\")\n",
    "plot!(dataC, label=\"consumption\")"
   ]
  },
  {
   "cell_type": "markdown",
   "metadata": {},
   "source": [
    "The economy's steady state for capital is:"
   ]
  },
  {
   "cell_type": "code",
   "execution_count": 2,
   "metadata": {},
   "outputs": [],
   "source": [
    "k_stst = 4.628988089138438;"
   ]
  },
  {
   "cell_type": "markdown",
   "metadata": {},
   "source": [
    "# The Mathematical Program\n",
    "I define the needed function related to utility and production:"
   ]
  },
  {
   "cell_type": "code",
   "execution_count": 6,
   "metadata": {},
   "outputs": [
    {
     "data": {
      "text/plain": [
       "f_prime (generic function with 1 method)"
      ]
     },
     "execution_count": 6,
     "metadata": {},
     "output_type": "execute_result"
    }
   ],
   "source": [
    "u_crra_prime(c, γ) = begin\n",
    "    if (c <= 0)\n",
    "        return -10000.\n",
    "        else\n",
    "        return c^-γ\n",
    "    end\n",
    "end\n",
    "\n",
    "u_crra_prime_inv(u, γ) = begin\n",
    "    if (u <= 0)\n",
    "        return +10000.\n",
    "    else\n",
    "        return u^(-1/γ) \n",
    "    end\n",
    "end\n",
    "\n",
    "function f(k, α, A)\n",
    "    if (k <= 0)\n",
    "        return zero(k)\n",
    "    else\n",
    "        A*k^α\n",
    "    end\n",
    "end\n",
    "\n",
    "function f_prime(k, α, A)\n",
    "    if (k <= 0)\n",
    "        return zero(k)\n",
    "    else\n",
    "        A*α*k^(α-1)\n",
    "    end\n",
    "end"
   ]
  },
  {
   "cell_type": "markdown",
   "metadata": {},
   "source": [
    "I use the Julia Mathematical Programming languange JuMP and the IpOpt solver:"
   ]
  },
  {
   "cell_type": "code",
   "execution_count": 7,
   "metadata": {},
   "outputs": [],
   "source": [
    "using JuMP\n",
    "using Ipopt\n",
    "\n",
    "#m = Model(solver=IpoptSolver(print_level=5, max_iter=500, mu_strategy=\"adaptive\", mu_oracle=\"probing\"));\n",
    "m = Model(solver=IpoptSolver(print_level=5, max_iter=500, mu_strategy=\"adaptive\", mu_oracle=\"probing\", corrector_type=\"affine\"));\n",
    "#m = Model(solver=IpoptSolver(print_level=5, max_iter=600));"
   ]
  },
  {
   "cell_type": "markdown",
   "metadata": {},
   "source": [
    "I define the deep parameters variables and give the the correct starting values:"
   ]
  },
  {
   "cell_type": "code",
   "execution_count": 8,
   "metadata": {},
   "outputs": [],
   "source": [
    "@variable(m, 0 <= β <= 1, start = 0.95)\n",
    "@variable(m, 0 <= δ <= 1, start = 0.05)\n",
    "@variable(m, 0 <= α <= 1, start = 0.3)\n",
    "@variable(m, A >= 0, start = 1)\n",
    "@variable(m, 100 >= γ >= 1, start = 2);"
   ]
  },
  {
   "cell_type": "markdown",
   "metadata": {},
   "source": [
    "The policy function is approximated by 10 Chebyshev polynomials on a grid around the steady state for capital, the coefficients on the polynomials are $\\theta$:"
   ]
  },
  {
   "cell_type": "markdown",
   "metadata": {},
   "source": [
    "I define a grid on capital, $K$, with 10 nodes, and evaluate the Chebyshev polynomials at those point into $\\Psi$ and at the observed data points into $\\Phi$:"
   ]
  },
  {
   "cell_type": "code",
   "execution_count": 9,
   "metadata": {},
   "outputs": [],
   "source": [
    "using BasisMatrices\n",
    "global const params = SplineParams(linspace(0.2*k_stst, 2*k_stst, 10), 0, 3)\n",
    "basis = Basis(params)\n",
    "K = nodes(basis)[1] #grid\n",
    "Ψ = BasisMatrix(basis, Expanded(), K).vals[1]\n",
    "Ψprime = BasisMatrix(basis, Expanded(), K, 1).vals[1]\n",
    "#Ψprimeprimeprime = BasisMatrix(basis, Expanded(), K, 3).vals[1]\n",
    "Φ = BasisMatrix(basis, Expanded(), dataK).vals[1]\n",
    "Φprime = BasisMatrix(basis, Expanded(), dataK, 1).vals[1];"
   ]
  },
  {
   "cell_type": "code",
   "execution_count": 10,
   "metadata": {},
   "outputs": [],
   "source": [
    "@variable(m, θ[1:length(K)], start = 0);"
   ]
  },
  {
   "cell_type": "markdown",
   "metadata": {},
   "source": [
    "And I initialize $\\theta$ such that the consumer myopically consumes almost everything available, leaving just $0.5$ capital for the next period:"
   ]
  },
  {
   "cell_type": "code",
   "execution_count": 11,
   "metadata": {},
   "outputs": [],
   "source": [
    "#initial_θ = Ψ \\ (u_crra.((f.(K, getvalue(α), getvalue(A)) + (1-getvalue(δ))*K - 1.), getvalue(γ)) .* \n",
    "#    (f_prime(1, getvalue(α), getvalue(A)) + 1-getvalue(δ)))\n",
    "b2 = Basis(ChebParams(10, 0.2*k_stst, 2*k_stst))\n",
    "K2 = nodes(b2)[1] #grid\n",
    "Ψ2 = BasisMatrix(b2, Expanded(), K2).vals[1]\n",
    "θ2 = Ψ2 \\ [0.731039, 0.830067, 0.984055, 1.15697 , 1.32812 , 1.48555 , 1.62093 , 1.72778 , 1.80161 , 1.8393]\n",
    "\n",
    "\n",
    "initial_θ = Ψ \\ (u_crra_prime.(BasisMatrix(b2, Expanded(), K).vals[1] * θ2, getvalue(γ)) .*\n",
    "    (f_prime.(f.(K, getvalue(α), getvalue(A)) + (1-getvalue(δ)) * K - BasisMatrix(b2, Expanded(), K).vals[1] * θ2, \n",
    "        getvalue(α), getvalue(A)) + 1-getvalue(δ)))\n",
    "\n",
    "\n",
    "for i in 1:length(K)\n",
    "    setvalue(θ[i], initial_θ[i])\n",
    "end"
   ]
  },
  {
   "cell_type": "code",
   "execution_count": 12,
   "metadata": {},
   "outputs": [
    {
     "data": {
      "text/plain": [
       "12-element Array{Float64,1}:\n",
       " -0.0688677\n",
       " -0.0639336\n",
       " -0.0560414\n",
       " -0.0470759\n",
       " -0.0400684\n",
       " -0.0342355\n",
       " -0.0292037\n",
       " -0.0247481\n",
       " -0.020723 \n",
       " -0.0170371\n",
       " -0.0147348\n",
       " -0.0136244"
      ]
     },
     "execution_count": 12,
     "metadata": {},
     "output_type": "execute_result"
    }
   ],
   "source": [
    "u_crra_prime_inv.(Ψ * getvalue(θ), getvalue(γ)) - BasisMatrix(b2, Expanded(), K).vals[1] * θ2\n",
    "#very good starting point!"
   ]
  },
  {
   "cell_type": "markdown",
   "metadata": {},
   "source": [
    "In the equilibrium constraint the polynomials have to be evaluated also outside the grid, I define this function here:"
   ]
  },
  {
   "cell_type": "code",
   "execution_count": 13,
   "metadata": {
    "scrolled": false
   },
   "outputs": [
    {
     "data": {
      "text/plain": [
       "interpVprime (generic function with 1 method)"
      ]
     },
     "execution_count": 13,
     "metadata": {},
     "output_type": "execute_result"
    }
   ],
   "source": [
    "function interpVprime(x, values...) #x is the point of evaluation, values are on the grid\n",
    "    return (evalbase(params, [x], 0) * collect(values))[1] #evaluates the first derivative of the basis functions\n",
    "end"
   ]
  },
  {
   "cell_type": "markdown",
   "metadata": {},
   "source": [
    "I register all user-defined functions with JuMP for automatic differentiation:"
   ]
  },
  {
   "cell_type": "code",
   "execution_count": 14,
   "metadata": {},
   "outputs": [],
   "source": [
    "JuMP.register(m, :interpVprime, 1+length(K), interpVprime, autodiff=true)\n",
    "JuMP.register(m, :u_crra_prime, 2, u_crra_prime, autodiff=true)\n",
    "JuMP.register(m, :f, 3, f, autodiff=true)\n",
    "JuMP.register(m, :f_prime, 3, f_prime, autodiff=true)\n",
    "JuMP.register(m, :u_crra_prime_inv, 2, u_crra_prime_inv, autodiff=true)"
   ]
  },
  {
   "cell_type": "markdown",
   "metadata": {},
   "source": [
    "The auxiliary and equilibrium constraints are all defined on the grid with 10 nodes:"
   ]
  },
  {
   "cell_type": "code",
   "execution_count": 15,
   "metadata": {},
   "outputs": [],
   "source": [
    "@variable(m, modelC[i=1:length(K)] >= 0, start = 1)\n",
    "@variable(m, modelKprime[i=1:length(K)] >= 0, start = 1)\n",
    "@variable(m, modelCprime[i=1:length(K)] >= 0, start = 1)\n",
    "\n",
    "for i in 1:length(K)\n",
    "    setvalue(modelC[i], u_crra_prime_inv(\n",
    "            (Ψ[i, :]' * getvalue(θ))/(f_prime(K[i], getvalue(α), getvalue(A)) + 1-getvalue(δ)), getvalue(γ)))\n",
    "    setvalue(modelKprime[i], f(K[i], getvalue(α), getvalue(A)) + (1-getvalue(δ))*K[i] - getvalue(modelC[i]))\n",
    "    setvalue(modelCprime[i], u_crra_prime_inv(interpVprime(\n",
    "            getvalue(modelKprime[i]), getvalue(θ)...)/(f_prime(getvalue(modelKprime[i]), getvalue(α), getvalue(A)) + 1-getvalue(δ)), \n",
    "            getvalue(γ)))\n",
    "end"
   ]
  },
  {
   "cell_type": "code",
   "execution_count": 16,
   "metadata": {},
   "outputs": [],
   "source": [
    "##EE in consumption:\n",
    "@NLconstraint(m, cons_today[i=1:length(K)], modelC[i] == u_crra_prime_inv(sum(Ψ[i, k] * θ[k] for k in 1:length(K)) / \n",
    "            (f_prime(modelKprime[i], α, A) + 1-δ), γ))\n",
    "@NLconstraint(m, capi_tomor[i=1:length(K)], modelKprime[i] == f(K[i], α, A) + (1-δ)*K[i] - modelC[i])\n",
    "@NLconstraint(m, cons_tomor[i=1:length(K)], modelCprime[i] == u_crra_prime_inv(interpVprime(modelKprime[i], \n",
    "            θ[1], θ[2], θ[3], θ[4], θ[5], θ[6], θ[7], θ[8], θ[9], θ[10], θ[11], θ[12]) / \n",
    "            (f_prime(modelKprime[i], α, A) + 1-δ), γ))\n",
    "\n",
    "@NLconstraint(m, increasing[i=1:length(K)], sum(Ψ[i, k] * θ[k] for k in 1:length(K)) >= 0)\n",
    "@NLconstraint(m, concave[i=1:length(K)], sum(Ψprime[i, k] * θ[k] for k in 1:length(K)) <= 0)\n",
    "#@NLconstraint(m, convex[i=1:length(K)], sum(Ψprimeprimeprime[i, k] * θ[k] for k in 1:length(K)) >= 0)\n",
    "\n",
    "@NLconstraint(m, EE[i=1:length(K)], u_crra_prime(modelC[i], γ) == \n",
    "    β * u_crra_prime(modelCprime[i], γ) * (f_prime(modelKprime[i], α, A) + 1-δ));"
   ]
  },
  {
   "cell_type": "code",
   "execution_count": 17,
   "metadata": {},
   "outputs": [
    {
     "data": {
      "text/plain": [
       "12-element Array{Float64,1}:\n",
       " -0.0258443\n",
       " -0.0229381\n",
       " -0.0261657\n",
       " -0.0281994\n",
       " -0.0314189\n",
       " -0.0342295\n",
       " -0.0369354\n",
       " -0.0395238\n",
       " -0.0419292\n",
       " -0.0442501\n",
       " -0.0457368\n",
       " -0.0464804"
      ]
     },
     "execution_count": 17,
     "metadata": {},
     "output_type": "execute_result"
    }
   ],
   "source": [
    "u_crra_prime_inv.(u_crra_prime.(getvalue(modelCprime), getvalue(γ)) .* (f_prime.(getvalue(modelKprime), getvalue(α), getvalue(A)) + 1-getvalue(δ)), getvalue(γ)) .- getvalue(modelC)"
   ]
  },
  {
   "cell_type": "code",
   "execution_count": 18,
   "metadata": {},
   "outputs": [
    {
     "data": {
      "text/plain": [
       "12-element Array{Float64,1}:\n",
       " 0.729511\n",
       " 0.805166\n",
       " 0.933817\n",
       " 1.09373 \n",
       " 1.23047 \n",
       " 1.3521  \n",
       " 1.46326 \n",
       " 1.56652 \n",
       " 1.66337 \n",
       " 1.75506 \n",
       " 1.81375 \n",
       " 1.84245 "
      ]
     },
     "execution_count": 18,
     "metadata": {},
     "output_type": "execute_result"
    }
   ],
   "source": [
    "getvalue(modelC)"
   ]
  },
  {
   "cell_type": "markdown",
   "metadata": {},
   "source": [
    "I define auxiliary expressions for the predictions of the equilibrium conditions:"
   ]
  },
  {
   "cell_type": "code",
   "execution_count": 19,
   "metadata": {},
   "outputs": [],
   "source": [
    "@NLexpression(m, predictedK[t=2:100], f(dataK[t-1], α, A) + (1-δ)*dataK[t-1] - dataC[t-1])\n",
    "@NLexpression(m, predictedC[t=1:100], u_crra_prime_inv(sum(Φ[t, k] * θ[k] for k in 1:length(K)), γ));"
   ]
  },
  {
   "cell_type": "markdown",
   "metadata": {},
   "source": [
    "The objective is to minimize the sum of squared errors:"
   ]
  },
  {
   "cell_type": "code",
   "execution_count": 20,
   "metadata": {},
   "outputs": [],
   "source": [
    "@NLobjective(m, Min, sum((dataC[t] - predictedC[t])^2 for t in 1:100) +\n",
    "    sum((dataK[t] - predictedK[t])^2 for t in 2:100))"
   ]
  },
  {
   "cell_type": "code",
   "execution_count": 21,
   "metadata": {
    "scrolled": true
   },
   "outputs": [
    {
     "name": "stdout",
     "output_type": "stream",
     "text": [
      "\n",
      "******************************************************************************\n",
      "This program contains Ipopt, a library for large-scale nonlinear optimization.\n",
      " Ipopt is released as open source code under the Eclipse Public License (EPL).\n",
      "         For more information visit http://projects.coin-or.org/Ipopt\n",
      "******************************************************************************\n",
      "\n",
      "This is Ipopt version 3.12.1, running with linear solver mumps.\n",
      "NOTE: Other linear solvers might be more efficient (see Ipopt documentation).\n",
      "\n",
      "Number of nonzeros in equality constraint Jacobian...:      588\n",
      "Number of nonzeros in inequality constraint Jacobian.:      288\n",
      "Number of nonzeros in Lagrangian Hessian.............:        0\n",
      "\n",
      "Total number of variables............................:       53\n",
      "                     variables with only lower bounds:       37\n",
      "                variables with lower and upper bounds:        4\n",
      "                     variables with only upper bounds:        0\n",
      "Total number of equality constraints.................:       48\n",
      "Total number of inequality constraints...............:       24\n",
      "        inequality constraints with only lower bounds:       12\n",
      "   inequality constraints with lower and upper bounds:        0\n",
      "        inequality constraints with only upper bounds:       12\n",
      "\n",
      "iter    objective    inf_pr   inf_du lg(mu)  ||d||  lg(rg) alpha_du alpha_pr  ls\n",
      "   0  1.4993774e-01 3.96e-02 1.52e+00   0.0 0.00e+00    -  0.00e+00 0.00e+00   0\n",
      "   1  1.8280444e+00 3.88e-03 1.07e+02  -0.7 3.42e-01    -  9.43e-01 1.00e+00H  1\n",
      "   2  3.1942105e-01 1.87e-01 2.01e+01  -2.6 2.56e-01    -  9.90e-01 1.00e+00f  1\n",
      "   3  1.6028448e-01 3.69e-03 4.96e+01  -2.3 8.31e-02    -  4.36e-01 1.00e+00h  1\n",
      "   4  4.9928349e-02 5.62e-04 5.31e+00  -7.3 2.31e-02    -  9.90e-01 1.00e+00h  1\n",
      "   5  2.4075849e-02 3.73e-04 4.73e-01  -8.5 2.19e-02    -  9.90e-01 1.00e+00h  1\n",
      "   6  1.7910005e-02 1.04e-04 2.78e-01 -11.0 2.16e-02    -  9.90e-01 1.00e+00h  1\n",
      "   7  1.0830031e-02 5.77e-04 6.79e-01 -11.0 4.59e-02    -  9.90e-01 1.00e+00h  1\n",
      "   8  5.6794814e-03 2.34e-03 2.96e+00 -11.0 1.01e-01    -  1.00e+00 1.00e+00h  1\n",
      "   9  1.9675447e-03 3.84e-03 1.80e+00 -11.0 2.68e+00    -  5.17e-01 2.65e-02h  3\n",
      "iter    objective    inf_pr   inf_du lg(mu)  ||d||  lg(rg) alpha_du alpha_pr  ls\n",
      "  10  1.0049348e-03 1.92e-04 9.06e-01 -11.0 1.02e-02    -  1.00e+00 1.00e+00h  1\n",
      "  11  6.6012545e-04 1.60e-04 1.78e-01 -11.0 1.33e-02    -  1.00e+00 1.00e+00h  1\n",
      "  12  6.3035772e-04 2.54e-04 5.51e-01 -11.0 1.68e-02    -  1.00e+00 1.00e+00h  1\n",
      "  13  6.9745520e-04 1.33e-04 6.25e-01 -11.0 3.28e-02    -  1.00e+00 1.00e+00h  1\n",
      "  14  6.6916989e-04 4.08e-05 3.67e-01 -11.0 1.15e-02    -  1.00e+00 1.00e+00h  1\n",
      "  15  1.0688442e-03 4.16e-06 5.23e-01 -11.0 3.16e-02    -  1.00e+00 1.00e+00H  1\n",
      "  16  6.1156980e-04 2.03e-04 4.12e-02 -11.0 6.96e-02    -  1.00e+00 1.00e+00h  1\n",
      "  17  7.2350776e-04 1.22e-04 5.01e-01 -11.0 1.47e-01    -  1.00e+00 1.00e+00H  1\n",
      "  18  7.0904491e-04 1.25e-04 2.54e-01 -11.0 9.64e-01    -  1.00e+00 1.56e-02h  7\n",
      "  19  6.1101549e-04 3.56e-04 3.83e-01 -11.0 3.36e-02    -  1.00e+00 1.00e+00h  1\n",
      "iter    objective    inf_pr   inf_du lg(mu)  ||d||  lg(rg) alpha_du alpha_pr  ls\n",
      "  20  5.1577720e-03 9.05e-05 3.03e+00 -11.0 2.05e-01    -  1.00e+00 1.00e+00H  1\n",
      "  21  5.5948716e-04 2.76e-03 1.47e-02 -11.0 1.81e-01    -  1.00e+00 1.00e+00h  1\n",
      "  22  5.7255706e-04 1.91e-04 5.72e-02 -11.0 6.14e-02    -  1.00e+00 1.00e+00h  1\n",
      "  23  5.7101326e-04 2.09e-04 1.24e-01 -11.0 1.05e+00    -  1.00e+00 1.42e-02h  7\n",
      "  24  5.6776519e-04 5.04e-05 8.57e-03 -11.0 3.59e-02    -  1.00e+00 1.00e+00h  1\n",
      "  25  5.6751984e-04 5.89e-05 4.86e-02 -11.0 1.79e+00    -  1.00e+00 7.14e-03h  7\n",
      "  26  5.8405742e-04 4.63e-05 5.13e-02 -11.0 5.65e-03    -  1.00e+00 1.00e+00h  1\n",
      "  27  5.6785095e-04 4.56e-05 6.37e-04 -11.0 6.95e-03    -  1.00e+00 1.00e+00h  1\n",
      "  28  5.6834582e-04 1.18e-06 1.94e-02 -11.0 5.02e-03    -  1.00e+00 1.00e+00h  1\n",
      "  29  5.6776528e-04 1.12e-06 5.00e-04 -11.0 4.81e-03    -  1.00e+00 1.00e+00h  1\n",
      "iter    objective    inf_pr   inf_du lg(mu)  ||d||  lg(rg) alpha_du alpha_pr  ls\n",
      "  30  5.6800045e-04 1.70e-09 3.80e-04 -11.0 3.48e-03    -  1.00e+00 1.00e+00H  1\n",
      "  31  5.7011764e-04 3.93e-11 1.82e-03 -11.0 1.93e-02    -  1.00e+00 1.00e+00H  1\n",
      "  32  5.7010378e-04 4.81e-07 2.07e-02 -11.0 7.90e-01    -  1.00e+00 3.91e-03h  9\n",
      "  33  5.6746017e-04 5.14e-05 2.95e-02 -11.0 3.38e-02    -  1.00e+00 1.00e+00h  1\n",
      "  34  5.6940790e-04 1.48e-05 2.86e-02 -11.0 1.50e-02    -  1.00e+00 1.00e+00h  1\n",
      "  35  5.7236575e-04 1.45e-05 3.83e-02 -11.0 1.04e-02    -  1.00e+00 1.00e+00h  1\n",
      "  36  5.7092983e-04 1.55e-05 4.91e-02 -11.0 1.04e-02    -  1.00e+00 1.00e+00h  1\n",
      "  37  7.9295727e-04 6.30e-06 1.74e-01 -11.0 1.56e-01    -  1.00e+00 1.00e+00H  1\n",
      "  38  5.5798401e-04 1.57e-03 2.34e-02 -11.0 1.33e-01    -  1.00e+00 1.00e+00h  1\n",
      "  39  5.5812075e-04 1.57e-03 1.93e-02 -11.0 2.04e+00    -  3.75e-01 3.91e-03h  9\n",
      "iter    objective    inf_pr   inf_du lg(mu)  ||d||  lg(rg) alpha_du alpha_pr  ls\n",
      "  40  2.6421716e-03 4.43e-04 6.23e-01 -11.0 4.52e-01    -  1.00e+00 1.00e+00H  1\n",
      "  41  2.5452564e-03 1.16e-03 4.50e-01 -11.0 1.31e+00    -  1.00e+00 7.89e-02h  4\n",
      "  42  1.1395889e-03 7.84e-03 5.89e-01 -11.0 3.05e+00    -  1.00e+00 2.02e-01h  3\n",
      "  43  1.1629865e-03 7.90e-03 1.03e+00 -11.0 1.69e+00    -  1.00e+00 2.38e-02h  6\n",
      "  44  6.1743564e-04 1.75e-03 3.58e-01 -11.0 2.58e-01    -  1.00e+00 1.00e+00h  1\n",
      "  45  5.9203362e-04 2.08e-03 3.11e-01 -11.0 2.14e+00    -  9.74e-01 3.12e-02h  6\n",
      "  46  5.8192018e-04 2.10e-03 9.29e-02 -11.0 5.23e+00    -  6.21e-01 4.27e-03h  6\n",
      "  47  5.9054609e-04 2.69e-04 2.13e-01 -11.0 5.28e-02    -  1.00e+00 1.00e+00h  1\n",
      "  48  5.8305393e-04 6.08e-04 3.14e-01 -11.0 1.39e+01    -  2.69e-01 6.31e-03h  4\n",
      "  49  5.7146529e-04 1.52e-05 3.23e-02 -11.0 1.28e-02    -  1.00e+00 1.00e+00h  1\n",
      "iter    objective    inf_pr   inf_du lg(mu)  ||d||  lg(rg) alpha_du alpha_pr  ls\n",
      "  50  6.5435276e-04 4.74e-06 1.52e-01 -11.0 7.47e-02    -  1.00e+00 1.00e+00H  1\n",
      "  51  5.6902895e-04 3.68e-04 6.06e-02 -11.0 1.05e-01    -  1.00e+00 1.00e+00h  1\n",
      "  52  5.6465021e-04 4.41e-04 3.42e-02 -11.0 4.62e-01    -  1.00e+00 6.25e-02h  5\n",
      "  53  5.6459701e-04 4.40e-04 2.77e-02 -11.0 9.26e-01    -  1.00e+00 6.20e-03h  8\n",
      "  54  2.3532151e-03 7.41e-05 1.84e+00 -11.0 9.22e-02    -  1.00e+00 1.00e+00H  1\n",
      "  55  5.7162992e-04 8.95e-04 6.32e-03 -11.0 7.90e-02    -  1.00e+00 1.00e+00h  1\n",
      "  56  5.6779369e-04 1.85e-06 1.78e-03 -11.0 4.98e-03    -  1.00e+00 1.00e+00h  1\n",
      "  57  5.6778644e-04 1.87e-06 7.82e-03 -11.0 1.01e+00    -  1.00e+00 5.41e-04h 11\n",
      "  58  5.6782438e-04 7.02e-07 5.08e-03 -11.0 3.71e-03    -  1.00e+00 1.00e+00h  1\n",
      "  59  5.6808415e-04 7.59e-09 5.48e-04 -11.0 4.08e-03    -  1.00e+00 1.00e+00H  1\n",
      "iter    objective    inf_pr   inf_du lg(mu)  ||d||  lg(rg) alpha_du alpha_pr  ls\n",
      "  60  5.6782102e-04 3.09e-06 3.44e-03 -11.0 5.39e-03    -  1.00e+00 1.00e+00h  1\n",
      "  61  6.0164374e-04 1.30e-09 4.26e-03 -11.0 5.42e-02    -  1.00e+00 1.00e+00H  1\n",
      "  62  6.0158246e-04 4.48e-09 4.24e-03 -11.0 1.46e+00    -  1.00e+00 2.39e-04h 12\n",
      "  63  6.0149069e-04 5.06e-09 4.24e-03 -11.0 3.62e-01    -  1.00e+00 4.88e-04h 12\n",
      "  64  6.0148251e-04 5.13e-09 4.24e-03 -11.0 1.61e+01    -  2.25e-01 2.44e-06h 15\n",
      "  65  6.0144579e-04 5.13e-09 4.23e-03 -11.0 6.57e-01    -  9.62e-01 3.05e-05h 16\n",
      "  66  5.6694190e-04 2.69e-04 8.21e-02 -11.0 7.98e-02    -  1.00e+00 1.00e+00h  1\n",
      "  67  5.6690807e-04 2.68e-04 9.21e-02 -11.0 3.72e-01    -  1.00e+00 1.56e-02h  7\n",
      "  68  5.9225855e-04 4.82e-06 3.48e-02 -11.0 9.51e-02    -  1.00e+00 1.00e+00H  1\n",
      "  69  5.9495167e-04 3.15e-06 2.26e-01 -11.0 3.20e-01    -  1.00e+00 1.56e-02h  7\n",
      "iter    objective    inf_pr   inf_du lg(mu)  ||d||  lg(rg) alpha_du alpha_pr  ls\n",
      "  70  5.6603397e-04 1.84e-04 2.74e-02 -11.0 6.89e-02    -  1.00e+00 1.00e+00h  1\n",
      "  71  2.6569331e-03 2.06e-04 1.22e+00 -11.0 2.50e-01    -  1.00e+00 1.00e+00H  1\n",
      "  72  5.3892488e-04 3.14e-03 4.60e-02 -11.0 2.95e-01    -  1.00e+00 1.00e+00h  1\n",
      "  73  5.4219010e-04 3.18e-03 3.94e-02 -11.0 1.80e+00    -  3.01e-01 3.12e-02h  6\n",
      "  74  6.1615164e-04 1.13e-03 5.60e-02 -11.0 1.08e-01    -  1.00e+00 1.00e+00h  1\n",
      "  75  1.1831238e-03 3.03e-04 7.42e-01 -11.0 1.94e-01    -  1.00e+00 1.00e+00H  1\n",
      "  76  1.1312006e-03 2.36e-04 6.98e-01 -11.0 1.64e+00    -  3.18e-01 3.12e-02h  6\n",
      "  77  2.0967300e-02 9.39e-05 1.01e+01 -11.0 3.29e-02    -  1.00e+00 1.00e+00H  1\n",
      "  78  2.0980160e-03 5.05e-05 3.26e+00 -11.0 1.23e-01    -  2.83e-01 1.00e+00F  1\n",
      "  79  1.6029491e-03 8.64e-05 2.65e+00 -11.0 8.73e-01    -  1.00e+00 4.17e-02h  5\n",
      "iter    objective    inf_pr   inf_du lg(mu)  ||d||  lg(rg) alpha_du alpha_pr  ls\n",
      "  80  1.6340264e-03 8.46e-05 6.63e-01 -11.0 2.09e-01    -  1.00e+00 1.00e+00H  1\n",
      "  81  9.9659738e-03 2.65e-05 5.84e+00 -11.0 1.69e-01    -  1.00e+00 1.00e+00H  1\n",
      "  82  5.9530664e-04 4.19e-03 3.19e-02 -11.0 1.75e-01    -  1.00e+00 1.00e+00h  1\n",
      "  83  6.5537076e-04 5.98e-05 3.81e-01 -11.0 3.32e-02    -  1.00e+00 1.00e+00h  1\n",
      "  84  1.0122872e-03 4.40e-05 6.07e-01 -11.0 8.19e-02    -  1.00e+00 1.00e+00H  1\n",
      "  85  6.4188967e-04 3.65e-04 6.97e-02 -11.0 1.01e-01    -  1.00e+00 1.00e+00H  1\n",
      "  86  5.7623712e-04 5.82e-04 1.48e-01 -11.0 1.02e-01    -  1.00e+00 1.00e+00h  1\n",
      "  87  5.7577162e-04 5.94e-04 2.19e-01 -11.0 1.20e+00    -  5.48e-01 4.08e-03h  6\n",
      "  88  5.7140614e-04 1.57e-05 3.35e-02 -11.0 1.60e-02    -  1.00e+00 1.00e+00h  1\n",
      "  89  7.0498955e-04 1.30e-06 5.99e-01 -11.0 2.09e-02    -  1.00e+00 1.00e+00H  1\n",
      "iter    objective    inf_pr   inf_du lg(mu)  ||d||  lg(rg) alpha_du alpha_pr  ls\n",
      "  90  5.7110985e-04 7.88e-06 1.36e-02 -11.0 1.73e-02    -  1.00e+00 1.00e+00h  1\n",
      "  91  5.7305925e-04 5.95e-06 3.39e-02 -11.0 4.19e-02    -  1.00e+00 1.00e+00H  1\n",
      "  92  5.8065985e-04 1.71e-06 4.76e-02 -11.0 7.98e-02    -  1.00e+00 1.00e+00H  1\n",
      "  93  5.7993759e-04 2.57e-06 5.04e-02 -11.0 7.19e-01    -  8.68e-01 7.81e-03h  8\n",
      "  94  7.6526721e-04 2.52e-07 3.03e-01 -11.0 1.21e-01    -  1.00e+00 1.00e+00H  1\n",
      "  95  7.6376996e-04 5.44e-07 2.44e-01 -11.0 3.43e-01    -  1.00e+00 3.91e-03h  9\n",
      "  96  5.6763924e-04 5.48e-04 2.44e-02 -11.0 7.80e-02    -  1.00e+00 1.00e+00h  1\n",
      "  97  5.6824291e-04 4.80e-04 2.96e-02 -11.0 1.47e-02    -  1.00e+00 1.25e-01h  4\n",
      "  98  5.6780803e-04 2.84e-05 3.08e-02 -11.0 2.11e-02    -  1.00e+00 1.00e+00h  1\n",
      "  99  5.6813751e-04 1.92e-05 1.53e-02 -11.0 1.73e-02    -  1.00e+00 1.00e+00h  1\n",
      "iter    objective    inf_pr   inf_du lg(mu)  ||d||  lg(rg) alpha_du alpha_pr  ls\n",
      " 100  5.6805379e-04 1.92e-05 9.45e-03 -11.0 3.19e-01    -  1.00e+00 7.81e-03h  8\n",
      " 101  5.6853788e-04 2.78e-07 2.11e-02 -11.0 2.44e-02    -  1.00e+00 1.00e+00H  1\n",
      " 102  5.6853488e-04 2.81e-07 1.75e-02 -11.0 1.39e-01    -  1.00e+00 9.77e-04h 11\n",
      " 103  5.6773715e-04 8.08e-06 1.63e-03 -11.0 9.96e-03    -  1.00e+00 1.00e+00h  1\n",
      " 104  5.6875526e-04 5.86e-07 5.18e-02 -11.0 1.95e-03    -  1.00e+00 1.00e+00h  1\n",
      " 105  5.6777760e-04 6.22e-07 1.03e-04 -11.0 2.04e-03    -  1.00e+00 1.00e+00h  1\n",
      " 106  5.6777728e-04 7.96e-10 5.28e-07 -11.0 1.17e-04    -  1.00e+00 1.00e+00h  1\n",
      " 107  5.6785411e-04 1.00e-11 1.54e-04 -11.0 8.99e-04    -  1.00e+00 1.00e+00H  1\n",
      " 108  5.6777697e-04 2.39e-08 1.29e-07 -11.0 9.54e-04    -  1.00e+00 1.00e+00h  1\n",
      " 109  5.6777729e-04 1.22e-11 3.52e-06 -11.0 1.31e-05    -  1.00e+00 1.00e+00h  1\n",
      "iter    objective    inf_pr   inf_du lg(mu)  ||d||  lg(rg) alpha_du alpha_pr  ls\n",
      " 110  5.6777793e-04 1.07e-14 1.40e-05 -11.0 5.29e-04    -  1.00e+00 1.00e+00H  1\n",
      " 111  5.6777720e-04 1.11e-08 5.39e-06 -11.0 5.04e-04    -  1.00e+00 1.00e+00h  1\n",
      " 112  5.6784534e-04 6.53e-11 2.47e-04 -11.0 1.47e-03    -  1.00e+00 1.00e+00H  1\n",
      " 113  5.6777965e-04 1.71e-08 3.20e-05 -11.0 9.11e-04    -  1.00e+00 1.00e+00h  1\n",
      " 114  5.6779515e-04 4.10e-10 6.22e-05 -11.0 1.99e-03    -  1.00e+00 1.00e+00H  1\n",
      " 115  5.6781091e-04 1.91e-11 1.05e-04 -11.0 1.31e-03    -  1.00e+00 1.00e+00H  1\n",
      " 116  5.8382313e-04 2.45e-12 8.07e-03 -11.0 8.25e-03    -  1.00e+00 1.00e+00H  1\n",
      " 117  5.6809098e-04 8.81e-12 6.01e-05 -11.0 2.08e-02    -  1.00e+00 1.00e+00F  1\n",
      " 118  5.6809066e-04 1.06e-11 6.04e-05 -11.0 5.46e-02    -  1.00e+00 1.22e-04h 14\n",
      " 119  5.6809020e-04 1.75e-11 6.06e-05 -11.0 1.51e-01    -  1.00e+00 6.10e-05h 15\n",
      "iter    objective    inf_pr   inf_du lg(mu)  ||d||  lg(rg) alpha_du alpha_pr  ls\n",
      " 120  5.6809009e-04 1.79e-11 5.99e-05 -11.0 6.62e-02    -  1.00e+00 6.10e-05h 15\n",
      " 121  5.6769277e-04 8.58e-06 2.65e-04 -11.0 1.26e-02    -  1.00e+00 1.00e+00h  1\n",
      " 122  5.7479641e-04 4.55e-06 3.48e-02 -11.0 9.98e-03    -  1.00e+00 1.00e+00h  1\n",
      " 123  5.6773602e-04 4.39e-06 1.06e-05 -11.0 9.84e-03    -  1.00e+00 1.00e+00h  1\n",
      " 124  5.6777765e-04 1.46e-10 3.86e-05 -11.0 3.05e-05    -  1.00e+00 1.00e+00h  1\n",
      " 125  5.6777729e-04 6.90e-11 9.31e-07 -11.0 4.43e-05    -  1.00e+00 1.00e+00h  1\n",
      " 126  5.6777729e-04 2.64e-11 9.21e-07 -11.0 9.40e-06    -  1.00e+00 1.00e+00h  1\n",
      " 127  5.6777730e-04 2.68e-12 3.18e-06 -11.0 6.11e-06    -  1.00e+00 1.00e+00h  1\n",
      " 128  5.6777729e-04 3.92e-11 1.21e-06 -11.0 2.06e-05    -  1.00e+00 1.00e+00h  1\n",
      " 129  5.6777729e-04 6.26e-11 1.81e-06 -11.0 1.53e-05    -  1.00e+00 1.00e+00h  1\n",
      "iter    objective    inf_pr   inf_du lg(mu)  ||d||  lg(rg) alpha_du alpha_pr  ls\n",
      " 130  5.6777729e-04 7.97e-12 5.27e-07 -11.0 3.31e-06    -  1.00e+00 1.00e+00h  1\n",
      " 131  5.6777729e-04 1.00e-12 4.52e-07 -11.0 5.59e-06    -  1.00e+00 1.00e+00h  1\n",
      " 132  5.6777738e-04 1.78e-15 1.81e-05 -11.0 1.97e-05    -  1.00e+00 1.00e+00H  1\n",
      " 133  5.6777729e-04 1.22e-11 3.39e-07 -11.0 2.14e-05    -  1.00e+00 1.00e+00h  1\n",
      " 134  5.6777729e-04 2.72e-12 6.93e-07 -11.0 3.19e-06    -  1.00e+00 1.00e+00h  1\n",
      " 135  5.6777729e-04 2.07e-12 5.75e-08 -11.0 3.03e-06    -  1.00e+00 1.00e+00h  1\n",
      " 136  5.6777729e-04 9.06e-14 5.75e-08 -11.0 1.03e-06    -  1.00e+00 1.00e+00h  1\n",
      " 137  5.6777729e-04 2.18e-14 1.25e-07 -11.0 3.09e-07    -  1.00e+00 1.00e+00h  1\n",
      " 138  5.6777729e-04 1.78e-15 5.43e-07 -11.0 2.50e-06    -  1.00e+00 1.00e+00H  1\n",
      " 139  5.6777729e-04 5.44e-13 1.24e-08 -11.0 2.00e-06    -  1.00e+00 1.00e+00h  1\n",
      "iter    objective    inf_pr   inf_du lg(mu)  ||d||  lg(rg) alpha_du alpha_pr  ls\n",
      " 140  5.6777729e-04 4.09e-13 2.35e-07 -11.0 4.47e-07    -  1.00e+00 2.50e-01h  3\n",
      " 141  5.6777729e-04 3.11e-15 3.51e-09 -11.0 1.83e-07    -  1.00e+00 1.00e+00h  1\n",
      "\n",
      "Number of Iterations....: 141\n",
      "\n",
      "                                   (scaled)                 (unscaled)\n",
      "Objective...............:   5.6777728626323490e-04    5.6777728626323490e-04\n",
      "Dual infeasibility......:   3.5087339182267823e-09    3.5087339182267823e-09\n",
      "Constraint violation....:   3.1086244689504383e-15    3.1086244689504383e-15\n",
      "Complementarity.........:   1.0000000000000001e-11    1.0000000000000001e-11\n",
      "Overall NLP error.......:   3.5087339182267823e-09    3.5087339182267823e-09\n",
      "\n",
      "\n",
      "Number of objective function evaluations             = 545\n",
      "Number of objective gradient evaluations             = 142\n",
      "Number of equality constraint evaluations            = 546\n",
      "Number of inequality constraint evaluations          = 546\n",
      "Number of equality constraint Jacobian evaluations   = 142\n",
      "Number of inequality constraint Jacobian evaluations = 142\n",
      "Number of Lagrangian Hessian evaluations             = 0\n",
      "Total CPU secs in IPOPT (w/o function evaluations)   =      0.580\n",
      "Total CPU secs in NLP function evaluations           =      0.904\n",
      "\n",
      "EXIT: Optimal Solution Found.\n"
     ]
    },
    {
     "data": {
      "text/plain": [
       ":Optimal"
      ]
     },
     "execution_count": 21,
     "metadata": {},
     "output_type": "execute_result"
    }
   ],
   "source": [
    "solve(m)"
   ]
  },
  {
   "cell_type": "code",
   "execution_count": 22,
   "metadata": {
    "scrolled": true
   },
   "outputs": [
    {
     "data": {
      "text/plain": [
       "(0.9403504895207726, 0.03544846675933293, 0.2771081442930821, 0.9919545276278607, 2.307522161846866)"
      ]
     },
     "execution_count": 22,
     "metadata": {},
     "output_type": "execute_result"
    }
   ],
   "source": [
    "getvalue(β), getvalue(δ), getvalue(α), getvalue(A), getvalue(γ)"
   ]
  },
  {
   "cell_type": "code",
   "execution_count": 23,
   "metadata": {},
   "outputs": [
    {
     "data": {
      "text/html": [
       "<img src=\"data:image/png;base64,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\" />"
      ]
     },
     "execution_count": 23,
     "metadata": {},
     "output_type": "execute_result"
    }
   ],
   "source": [
    "plot(nodes(Basis(ChebParams(10, 0.2*k_stst, 2*k_stst)))[1], [0.731039, 0.830067, 0.984055, 1.15697 , 1.32812 , 1.48555 , 1.62093 , 1.72778 , 1.80161 , 1.8393], label=\"True Policy Fucntion\")\n",
    "plot!(K, u_crra_prime_inv.((Ψ * getvalue(θ))./(f_prime.(getvalue(modelKprime), getvalue(α), getvalue(A)) + 1-getvalue(δ)), getvalue(γ)), label=\"Estimated Policy Function\")\n",
    "plot!(K, getvalue(modelC), label=\"Estimated Policy Function\")"
   ]
  },
  {
   "cell_type": "code",
   "execution_count": 24,
   "metadata": {},
   "outputs": [
    {
     "data": {
      "text/html": [
       "<img src=\"data:image/png;base64,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\" />"
      ]
     },
     "execution_count": 24,
     "metadata": {},
     "output_type": "execute_result"
    }
   ],
   "source": [
    "plot(K, u_crra_prime_inv.(Ψ * getvalue(θ), getvalue(γ)))\n",
    "plot!(K, Ψ * getvalue(θ))"
   ]
  },
  {
   "cell_type": "code",
   "execution_count": 25,
   "metadata": {},
   "outputs": [
    {
     "data": {
      "text/html": [
       "0"
      ],
      "text/plain": [
       "0"
      ]
     },
     "execution_count": 25,
     "metadata": {},
     "output_type": "execute_result"
    }
   ],
   "source": [
    "sum(u_crra_prime_inv.(Φprime * getvalue(θ), getvalue(γ)) .< 0)"
   ]
  },
  {
   "cell_type": "code",
   "execution_count": 26,
   "metadata": {},
   "outputs": [
    {
     "data": {
      "text/plain": [
       "12-element Array{Float64,1}:\n",
       " 2.19286 \n",
       " 1.70044 \n",
       " 1.20047 \n",
       " 0.807641\n",
       " 0.6209  \n",
       " 0.498242\n",
       " 0.414075\n",
       " 0.35417 \n",
       " 0.308687\n",
       " 0.27302 \n",
       " 0.253245\n",
       " 0.244325"
      ]
     },
     "execution_count": 26,
     "metadata": {},
     "output_type": "execute_result"
    }
   ],
   "source": [
    "Ψ * getvalue(θ)"
   ]
  },
  {
   "cell_type": "code",
   "execution_count": 27,
   "metadata": {},
   "outputs": [
    {
     "data": {
      "text/plain": [
       "12-element Array{Float64,1}:\n",
       " 0.776509\n",
       " 0.853999\n",
       " 0.974809\n",
       " 1.14024 \n",
       " 1.26633 \n",
       " 1.38465 \n",
       " 1.49367 \n",
       " 1.59294 \n",
       " 1.68617 \n",
       " 1.77443 \n",
       " 1.83091 \n",
       " 1.85851 "
      ]
     },
     "execution_count": 27,
     "metadata": {},
     "output_type": "execute_result"
    }
   ],
   "source": [
    "getvalue(modelC)"
   ]
  },
  {
   "cell_type": "code",
   "execution_count": 28,
   "metadata": {},
   "outputs": [
    {
     "data": {
      "text/plain": [
       "12-element Array{Float64,1}:\n",
       " 1.08746\n",
       " 1.3882 \n",
       " 1.98776\n",
       " 2.85521\n",
       " 3.73136\n",
       " 4.59696\n",
       " 5.45952\n",
       " 6.32285\n",
       " 7.18536\n",
       " 8.0474 \n",
       " 8.62194\n",
       " 8.90918"
      ]
     },
     "execution_count": 28,
     "metadata": {},
     "output_type": "execute_result"
    }
   ],
   "source": [
    "getvalue(modelKprime)"
   ]
  },
  {
   "cell_type": "code",
   "execution_count": null,
   "metadata": {},
   "outputs": [],
   "source": []
  },
  {
   "cell_type": "code",
   "execution_count": null,
   "metadata": {},
   "outputs": [],
   "source": []
  }
 ],
 "metadata": {
  "kernelspec": {
   "display_name": "Julia 0.6.0",
   "language": "julia",
   "name": "julia-0.6"
  },
  "language_info": {
   "file_extension": ".jl",
   "mimetype": "application/julia",
   "name": "julia",
   "version": "0.6.0"
  }
 },
 "nbformat": 4,
 "nbformat_minor": 2
}
