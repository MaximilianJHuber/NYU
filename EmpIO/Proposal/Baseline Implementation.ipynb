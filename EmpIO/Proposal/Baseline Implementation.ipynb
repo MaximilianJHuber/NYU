{
 "cells": [
  {
   "cell_type": "markdown",
   "metadata": {},
   "source": [
    "In this exercise I solve a deterministic growth model using simulated data generated from an economy with parameters $\\beta = 0.95$, $\\alpha = 0.3$, $A = 1.0$, $\\delta = 0.05$, $\\gamma = 2.0$. I initiate the variables of the mathematical program at the true values, which should make the optimization easy."
   ]
  },
  {
   "cell_type": "code",
   "execution_count": 1,
   "metadata": {
    "scrolled": false
   },
   "outputs": [
    {
     "data": {
      "text/html": [
       "<img src=\"data:image/png;base64,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\" />"
      ]
     },
     "execution_count": 1,
     "metadata": {},
     "output_type": "execute_result"
    }
   ],
   "source": [
    "using CSV\n",
    "using Plots; pyplot()\n",
    "\n",
    "df = CSV.read(\"data.csv\"; header=false, types=[Float64, Float64])\n",
    "dataK = convert(Vector{Float64}, df[1])\n",
    "dataC = convert(Vector{Float64}, df[2])\n",
    "\n",
    "plot(dataK, label=\"capital\")\n",
    "plot!(dataC, label=\"consumption\")"
   ]
  },
  {
   "cell_type": "markdown",
   "metadata": {},
   "source": [
    "The economy's steady state for capital is:"
   ]
  },
  {
   "cell_type": "code",
   "execution_count": 2,
   "metadata": {},
   "outputs": [],
   "source": [
    "k_stst = 4.628988089138438;"
   ]
  },
  {
   "cell_type": "markdown",
   "metadata": {},
   "source": [
    "# The Mathematical Program\n",
    "I define the needed function related to utility and production:"
   ]
  },
  {
   "cell_type": "code",
   "execution_count": 3,
   "metadata": {},
   "outputs": [
    {
     "data": {
      "text/plain": [
       "f_prime (generic function with 1 method)"
      ]
     },
     "execution_count": 3,
     "metadata": {},
     "output_type": "execute_result"
    }
   ],
   "source": [
    "u_crra_prime(c, γ) = begin\n",
    "    if (c <= 0)\n",
    "        return -1000000.\n",
    "        else\n",
    "        return c^-γ\n",
    "    end\n",
    "end\n",
    "\n",
    "u_crra_prime_inv(u, γ) = begin\n",
    "    if (u <= 0)\n",
    "        return +1000000.\n",
    "    else\n",
    "        return u^(-1/γ) \n",
    "    end\n",
    "end\n",
    "\n",
    "function f(k, α, A)\n",
    "    if (k <= 0)\n",
    "        return zero(k)\n",
    "    else\n",
    "        A*k^α\n",
    "    end\n",
    "end\n",
    "\n",
    "function f_prime(k, α, A)\n",
    "    if (k <= 0)\n",
    "        return zero(k)\n",
    "    else\n",
    "        A*α*k^(α-1)\n",
    "    end\n",
    "end"
   ]
  },
  {
   "cell_type": "markdown",
   "metadata": {},
   "source": [
    "I use the Julia Mathematical Programming languange JuMP and the IpOpt solver:"
   ]
  },
  {
   "cell_type": "code",
   "execution_count": 19,
   "metadata": {},
   "outputs": [],
   "source": [
    "using JuMP\n",
    "using Gurobi\n",
    "\n",
    "#m = Model(solver=IpoptSolver(print_level=5, max_iter=600));\n",
    "m = Model(solver=GurobiSolver());"
   ]
  },
  {
   "cell_type": "markdown",
   "metadata": {},
   "source": [
    "I define the deep parameters variables and give the the correct starting values:"
   ]
  },
  {
   "cell_type": "code",
   "execution_count": 20,
   "metadata": {},
   "outputs": [
    {
     "name": "stderr",
     "output_type": "stream",
     "text": [
      "\u001b[1m\u001b[36mINFO: \u001b[39m\u001b[22m\u001b[36mBuilding Homebrew\n",
      "\u001b[39m"
     ]
    },
    {
     "name": "stdout",
     "output_type": "stream",
     "text": [
      "Already up-to-date.\n"
     ]
    },
    {
     "name": "stderr",
     "output_type": "stream",
     "text": [
      "\u001b[1m\u001b[33mWARNING: \u001b[39m\u001b[22m\u001b[33mThe following packages do not have relocatable bottles, installation may fail!\n",
      "Please report these packages to https://github.com/JuliaLang/Homebrew.jl:\n",
      "  curl\n",
      "  openssl\n",
      "  git\u001b[39m\n",
      "\u001b[1m\u001b[36mINFO: \u001b[39m\u001b[22m\u001b[36mBuilding NLopt\n",
      "\u001b[39m\u001b[1m\u001b[33mWARNING: \u001b[39m\u001b[22m\u001b[33mThe following packages do not have relocatable bottles, installation may fail!\n",
      "Please report these packages to https://github.com/JuliaLang/Homebrew.jl:\n",
      "  xz\n",
      "  gdbm\n",
      "  openssl\n",
      "  readline\n",
      "  sqlite\n",
      "  python3\n",
      "  numpy\n",
      "  homebrew/core/nlopt\u001b[39m\n"
     ]
    },
    {
     "name": "stdout",
     "output_type": "stream",
     "text": [
      "==> Downloading https://files.pythonhosted.org/packages/ee/66/7c2690141c520db08b6a6f852fa768f421b0b50683b7bbcd88ef51f33170/numpy-1.14.0.zip\n",
      "Already downloaded: /Users/Max/Library/Caches/Homebrew.jl/numpy-1.14.0.zip\n",
      "==> Downloading https://files.pythonhosted.org/packages/58/a5/0dc93c3ec33f4e281849523a5a913fa1eea9a3068acfa754d44d88107a44/nose-1.3.7.tar.gz\n",
      "Already downloaded: /Users/Max/Library/Caches/Homebrew.jl/numpy--nose-1.3.7.tar.gz\n",
      "==> python -c import setuptools... --no-user-cfg install --prefix=/Users/Max/.julia/v0.6/Homebrew/deps/usr/Cellar/numpy/1.14.0/libexec/nose --single-version-externally-managed --record=installed.txt\n",
      "==> python setup.py build --fcompiler=gnu95 --parallel=2 install --prefix=/Users/Max/.julia/v0.6/Homebrew/deps/usr/Cellar/numpy/1.14.0 --single-version-externally-managed --record=installed.txt\n",
      "Last 15 lines from /Users/Max/Library/Logs/Homebrew/numpy/02.python:\n",
      "  File \"/private/tmp/numpy-20180116-28374-eche75/numpy-1.14.0/numpy/distutils/command/build_src.py\", line 294, in build_library_sources\n",
      "    sources = self.generate_sources(sources, (lib_name, build_info))\n",
      "  File \"/private/tmp/numpy-20180116-28374-eche75/numpy-1.14.0/numpy/distutils/command/build_src.py\", line 377, in generate_sources\n",
      "    source = func(extension, build_dir)\n",
      "  File \"numpy/core/setup.py\", line 673, in get_mathlib_info\n",
      "    st = config_cmd.try_link('int main(void) { return 0;}')\n",
      "  File \"/System/Library/Frameworks/Python.framework/Versions/2.7/lib/python2.7/distutils/command/config.py\", line 248, in try_link\n",
      "    self._check_compiler()\n",
      "  File \"/private/tmp/numpy-20180116-28374-eche75/numpy-1.14.0/numpy/distutils/command/config.py\", line 83, in _check_compiler\n",
      "    self.fcompiler.customize(self.distribution)\n",
      "  File \"/private/tmp/numpy-20180116-28374-eche75/numpy-1.14.0/numpy/distutils/fcompiler/__init__.py\", line 461, in customize\n",
      "    self.find_executables()\n",
      "  File \"/private/tmp/numpy-20180116-28374-eche75/numpy-1.14.0/numpy/distutils/fcompiler/__init__.py\", line 350, in find_executables\n",
      "    raise CompilerNotFound('%s: f90 nor f77' % ctype)\n",
      "numpy.distutils.fcompiler.CompilerNotFound: gnu95: f90 nor f77\n",
      "\n",
      "Do not report this issue to Homebrew/brew or Homebrew/core!\n",
      "\n",
      "\n",
      "\n"
     ]
    },
    {
     "name": "stderr",
     "output_type": "stream",
     "text": [
      "Error: You are using macOS 10.9.\n",
      "We (and Apple) do not provide support for this old version.\n",
      "You may encounter build failures or other breakages.\n",
      "Please create pull-requests instead of filing issues.\n",
      "Error: Your Xcode (6.0) is outdated.\n",
      "Please update to Xcode 6.2 (or delete it).\n",
      "Xcode can be updated from the App Store.\n",
      "\n"
     ]
    },
    {
     "name": "stdout",
     "output_type": "stream",
     "text": [
      "\n"
     ]
    },
    {
     "name": "stderr",
     "output_type": "stream",
     "text": [
      "Error: You are using macOS 10.9.\n",
      "We (and Apple) do not provide support for this old version.\n",
      "You may encounter build failures or other breakages.\n",
      "Please create pull-requests instead of filing issues.\n",
      "\u001b[1m\u001b[33m\u001b[39m\u001b[22m\u001b[33m================================[ ERROR: NLopt ]================================\u001b[39m\n",
      "\n",
      "\u001b[1m\u001b[33m\u001b[39m\u001b[22m\u001b[33mLoadError: \u001b[91mfailed process: Process(`/Users/Max/.julia/v0.6/Homebrew/deps/usr/bin/brew install --ignore-dependencies numpy`, ProcessExited(1)) [1]\u001b[39m\n",
      "while loading /Users/Max/.julia/v0.6/NLopt/deps/build.jl, in expression starting on line 56\u001b[39m\n",
      "\n",
      "\u001b[1m\u001b[33m\u001b[39m\u001b[22m\u001b[33m================================================================================\u001b[39m\n",
      "\n",
      "\u001b[1m\u001b[33m\u001b[39m\u001b[22m\u001b[33m================================[ BUILD ERRORS ]================================\u001b[39m\n",
      "\n",
      "\u001b[1m\u001b[33m\u001b[39m\u001b[22m\u001b[33mWARNING: NLopt had build errors.\n",
      "\n",
      " - packages with build errors remain installed in /Users/Max/.julia/v0.6\n",
      " - build the package(s) and all dependencies with `Pkg.build(\"NLopt\")`\n",
      " - build a single package by running its `deps/build.jl` script\u001b[39m\n",
      "\n",
      "\u001b[1m\u001b[33m\u001b[39m\u001b[22m\u001b[33m================================================================================\u001b[39m\n"
     ]
    }
   ],
   "source": [
    "Pkg.build(\"NLopt\")"
   ]
  },
  {
   "cell_type": "code",
   "execution_count": 5,
   "metadata": {},
   "outputs": [
    {
     "ename": "LoadError",
     "evalue": "\u001b[91mUndefVarError: m not defined\u001b[39m",
     "output_type": "error",
     "traceback": [
      "\u001b[91mUndefVarError: m not defined\u001b[39m",
      "",
      "Stacktrace:",
      " [1] \u001b[1minclude_string\u001b[22m\u001b[22m\u001b[1m(\u001b[22m\u001b[22m::String, ::String\u001b[1m)\u001b[22m\u001b[22m at \u001b[1m./loading.jl:522\u001b[22m\u001b[22m"
     ]
    }
   ],
   "source": [
    "@variable(m, 0 <= β <= 1, start = 0.90)\n",
    "@variable(m, 0 <= δ <= 1, start = 0.05)\n",
    "@variable(m, 0 <= α <= 1, start = 0.3)\n",
    "@variable(m, A >= 0, start = 1)\n",
    "@variable(m, γ >= 0, start = 2);"
   ]
  },
  {
   "cell_type": "markdown",
   "metadata": {},
   "source": [
    "The policy function is approximated by 10 Chebyshev polynomials on a grid around the steady state for capital, the coefficients on the polynomials are $\\theta$:"
   ]
  },
  {
   "cell_type": "code",
   "execution_count": 6,
   "metadata": {},
   "outputs": [
    {
     "ename": "LoadError",
     "evalue": "\u001b[91mUndefVarError: m not defined\u001b[39m",
     "output_type": "error",
     "traceback": [
      "\u001b[91mUndefVarError: m not defined\u001b[39m",
      "",
      "Stacktrace:",
      " [1] \u001b[1mmacro expansion\u001b[22m\u001b[22m at \u001b[1m/Users/Max/.julia/v0.6/JuMP/src/macros.jl:252\u001b[22m\u001b[22m [inlined]",
      " [2] \u001b[1manonymous\u001b[22m\u001b[22m at \u001b[1m./<missing>:?\u001b[22m\u001b[22m",
      " [3] \u001b[1minclude_string\u001b[22m\u001b[22m\u001b[1m(\u001b[22m\u001b[22m::String, ::String\u001b[1m)\u001b[22m\u001b[22m at \u001b[1m./loading.jl:522\u001b[22m\u001b[22m"
     ]
    }
   ],
   "source": [
    "@variable(m, θ[1:10], start = 0)\n",
    "\n",
    "#setvalue(θ[1], 0.1);"
   ]
  },
  {
   "cell_type": "markdown",
   "metadata": {},
   "source": [
    "I define a grid on capital, $K$, with 10 nodes, and evaluate the Chebyshev polynomials at those point into $\\Psi$ and at the observed data points into $\\Phi$:"
   ]
  },
  {
   "cell_type": "code",
   "execution_count": 7,
   "metadata": {},
   "outputs": [
    {
     "name": "stderr",
     "output_type": "stream",
     "text": [
      "\u001b[1m\u001b[36mINFO: \u001b[39m\u001b[22m\u001b[36mPrecompiling module BasisMatrices.\n",
      "\u001b[39m\u001b[1m\u001b[91mERROR: \u001b[39m\u001b[22mLoadError: \u001b[91mNLopt not properly installed. Please run Pkg.build(\"NLopt\")\u001b[39m\n",
      "Stacktrace:\n",
      " [1] \u001b[1merror\u001b[22m\u001b[22m\u001b[1m(\u001b[22m\u001b[22m::String\u001b[1m)\u001b[22m\u001b[22m at \u001b[1m./error.jl:21\u001b[22m\u001b[22m\n",
      " [2] \u001b[1minclude_from_node1\u001b[22m\u001b[22m\u001b[1m(\u001b[22m\u001b[22m::String\u001b[1m)\u001b[22m\u001b[22m at \u001b[1m./loading.jl:576\u001b[22m\u001b[22m\n",
      " [3] \u001b[1minclude\u001b[22m\u001b[22m\u001b[1m(\u001b[22m\u001b[22m::String\u001b[1m)\u001b[22m\u001b[22m at \u001b[1m./sysimg.jl:14\u001b[22m\u001b[22m\n",
      " [4] \u001b[1manonymous\u001b[22m\u001b[22m at \u001b[1m./<missing>:2\u001b[22m\u001b[22m\n",
      "while loading /Users/Max/.julia/v0.6/NLopt/src/NLopt.jl, in expression starting on line 22\n",
      "\u001b[1m\u001b[91mERROR: \u001b[39m\u001b[22mLoadError: LoadError: \u001b[91mFailed to precompile NLopt to /Users/Max/.julia/lib/v0.6/NLopt.ji.\u001b[39m\n",
      "Stacktrace:\n",
      " [1] \u001b[1mcompilecache\u001b[22m\u001b[22m\u001b[1m(\u001b[22m\u001b[22m::String\u001b[1m)\u001b[22m\u001b[22m at \u001b[1m./loading.jl:710\u001b[22m\u001b[22m\n",
      " [2] \u001b[1m_require\u001b[22m\u001b[22m\u001b[1m(\u001b[22m\u001b[22m::Symbol\u001b[1m)\u001b[22m\u001b[22m at \u001b[1m./loading.jl:463\u001b[22m\u001b[22m\n",
      " [3] \u001b[1mrequire\u001b[22m\u001b[22m\u001b[1m(\u001b[22m\u001b[22m::Symbol\u001b[1m)\u001b[22m\u001b[22m at \u001b[1m./loading.jl:405\u001b[22m\u001b[22m\n",
      " [4] \u001b[1minclude_from_node1\u001b[22m\u001b[22m\u001b[1m(\u001b[22m\u001b[22m::String\u001b[1m)\u001b[22m\u001b[22m at \u001b[1m./loading.jl:576\u001b[22m\u001b[22m\n",
      " [5] \u001b[1minclude\u001b[22m\u001b[22m\u001b[1m(\u001b[22m\u001b[22m::String\u001b[1m)\u001b[22m\u001b[22m at \u001b[1m./sysimg.jl:14\u001b[22m\u001b[22m\n",
      " [6] \u001b[1minclude_from_node1\u001b[22m\u001b[22m\u001b[1m(\u001b[22m\u001b[22m::String\u001b[1m)\u001b[22m\u001b[22m at \u001b[1m./loading.jl:576\u001b[22m\u001b[22m\n",
      " [7] \u001b[1minclude\u001b[22m\u001b[22m\u001b[1m(\u001b[22m\u001b[22m::String\u001b[1m)\u001b[22m\u001b[22m at \u001b[1m./sysimg.jl:14\u001b[22m\u001b[22m\n",
      " [8] \u001b[1manonymous\u001b[22m\u001b[22m at \u001b[1m./<missing>:2\u001b[22m\u001b[22m\n",
      "while loading /Users/Max/.julia/v0.6/QuantEcon/src/markov/markov_approx.jl, in expression starting on line 15\n",
      "while loading /Users/Max/.julia/v0.6/QuantEcon/src/QuantEcon.jl, in expression starting on line 144\n",
      "\u001b[1m\u001b[91mERROR: \u001b[39m\u001b[22mLoadError: \u001b[91mFailed to precompile QuantEcon to /Users/Max/.julia/lib/v0.6/QuantEcon.ji.\u001b[39m\n",
      "Stacktrace:\n",
      " [1] \u001b[1mcompilecache\u001b[22m\u001b[22m\u001b[1m(\u001b[22m\u001b[22m::String\u001b[1m)\u001b[22m\u001b[22m at \u001b[1m./loading.jl:710\u001b[22m\u001b[22m\n",
      " [2] \u001b[1m_require\u001b[22m\u001b[22m\u001b[1m(\u001b[22m\u001b[22m::Symbol\u001b[1m)\u001b[22m\u001b[22m at \u001b[1m./loading.jl:463\u001b[22m\u001b[22m\n",
      " [3] \u001b[1mrequire\u001b[22m\u001b[22m\u001b[1m(\u001b[22m\u001b[22m::Symbol\u001b[1m)\u001b[22m\u001b[22m at \u001b[1m./loading.jl:405\u001b[22m\u001b[22m\n",
      " [4] \u001b[1minclude_from_node1\u001b[22m\u001b[22m\u001b[1m(\u001b[22m\u001b[22m::String\u001b[1m)\u001b[22m\u001b[22m at \u001b[1m./loading.jl:576\u001b[22m\u001b[22m\n",
      " [5] \u001b[1minclude\u001b[22m\u001b[22m\u001b[1m(\u001b[22m\u001b[22m::String\u001b[1m)\u001b[22m\u001b[22m at \u001b[1m./sysimg.jl:14\u001b[22m\u001b[22m\n",
      " [6] \u001b[1manonymous\u001b[22m\u001b[22m at \u001b[1m./<missing>:2\u001b[22m\u001b[22m\n",
      "while loading /Users/Max/.julia/v0.6/BasisMatrices/src/BasisMatrices.jl, in expression starting on line 25\n"
     ]
    },
    {
     "ename": "LoadError",
     "evalue": "\u001b[91mFailed to precompile BasisMatrices to /Users/Max/.julia/lib/v0.6/BasisMatrices.ji.\u001b[39m",
     "output_type": "error",
     "traceback": [
      "\u001b[91mFailed to precompile BasisMatrices to /Users/Max/.julia/lib/v0.6/BasisMatrices.ji.\u001b[39m",
      "",
      "Stacktrace:",
      " [1] \u001b[1mcompilecache\u001b[22m\u001b[22m\u001b[1m(\u001b[22m\u001b[22m::String\u001b[1m)\u001b[22m\u001b[22m at \u001b[1m./loading.jl:710\u001b[22m\u001b[22m",
      " [2] \u001b[1m_require\u001b[22m\u001b[22m\u001b[1m(\u001b[22m\u001b[22m::Symbol\u001b[1m)\u001b[22m\u001b[22m at \u001b[1m./loading.jl:497\u001b[22m\u001b[22m",
      " [3] \u001b[1mrequire\u001b[22m\u001b[22m\u001b[1m(\u001b[22m\u001b[22m::Symbol\u001b[1m)\u001b[22m\u001b[22m at \u001b[1m./loading.jl:405\u001b[22m\u001b[22m",
      " [4] \u001b[1minclude_string\u001b[22m\u001b[22m\u001b[1m(\u001b[22m\u001b[22m::String, ::String\u001b[1m)\u001b[22m\u001b[22m at \u001b[1m./loading.jl:522\u001b[22m\u001b[22m"
     ]
    }
   ],
   "source": [
    "using BasisMatrices\n",
    "basis = Basis(ChebParams(10, 0.2*k_stst, 2*k_stst))\n",
    "K = nodes(basis)[1] #grid\n",
    "Ψ = BasisMatrix(basis, Expanded(), K).vals[1]\n",
    "Φ = BasisMatrix(basis, Expanded(), dataK).vals[1];"
   ]
  },
  {
   "cell_type": "markdown",
   "metadata": {},
   "source": [
    "And I initialize $\\theta$ such that the consumer myopically consumes almost everything available, leaving just $0.1$ capital for the next period:"
   ]
  },
  {
   "cell_type": "code",
   "execution_count": 8,
   "metadata": {},
   "outputs": [
    {
     "ename": "LoadError",
     "evalue": "\u001b[91mUndefVarError: Ψ not defined\u001b[39m",
     "output_type": "error",
     "traceback": [
      "\u001b[91mUndefVarError: Ψ not defined\u001b[39m",
      "",
      "Stacktrace:",
      " [1] \u001b[1minclude_string\u001b[22m\u001b[22m\u001b[1m(\u001b[22m\u001b[22m::String, ::String\u001b[1m)\u001b[22m\u001b[22m at \u001b[1m./loading.jl:522\u001b[22m\u001b[22m"
     ]
    }
   ],
   "source": [
    "initial_θ = Ψ \\ (f.(K, getvalue(α), getvalue(A)) + (1-getvalue(δ))*K - .1)\n",
    "\n",
    "for i in 1:10\n",
    "    setvalue(θ[i], initial_θ[i])\n",
    "end"
   ]
  },
  {
   "cell_type": "markdown",
   "metadata": {},
   "source": [
    "In the equilibrium constraint the polynomials have to be evaluated also outside the grid, I define this function here:"
   ]
  },
  {
   "cell_type": "code",
   "execution_count": 9,
   "metadata": {},
   "outputs": [
    {
     "data": {
      "text/plain": [
       "Ψprime (generic function with 1 method)"
      ]
     },
     "execution_count": 9,
     "metadata": {},
     "output_type": "execute_result"
    }
   ],
   "source": [
    "function Ψprime(x, order)\n",
    "    k_stst = 4.628988089138438\n",
    "    a = 0.2*k_stst\n",
    "    b = 2*k_stst\n",
    "        \n",
    "    z = (2/(b-a)) * (x-(a+b)/2)\n",
    "    \n",
    "    if (order == 1)\n",
    "        return 1.\n",
    "    elseif (order == 2)\n",
    "        return z\n",
    "    else\n",
    "        \n",
    "        out1 = 1.\n",
    "        out2 = z\n",
    "        out3 = 0.\n",
    "\n",
    "        for j in 3:order\n",
    "            out3 = 2. * z * out2 - out1\n",
    "            out1 = out2\n",
    "            out2 = out3\n",
    "        end\n",
    "\n",
    "        return out3\n",
    "    end\n",
    "end"
   ]
  },
  {
   "cell_type": "markdown",
   "metadata": {},
   "source": [
    "I define auxiliary variables for model predictions of capital and consumption:"
   ]
  },
  {
   "cell_type": "code",
   "execution_count": 10,
   "metadata": {},
   "outputs": [
    {
     "ename": "LoadError",
     "evalue": "\u001b[91mUndefVarError: m not defined\u001b[39m",
     "output_type": "error",
     "traceback": [
      "\u001b[91mUndefVarError: m not defined\u001b[39m",
      "",
      "Stacktrace:",
      " [1] \u001b[1mmacro expansion\u001b[22m\u001b[22m at \u001b[1m/Users/Max/.julia/v0.6/JuMP/src/macros.jl:252\u001b[22m\u001b[22m [inlined]",
      " [2] \u001b[1manonymous\u001b[22m\u001b[22m at \u001b[1m./<missing>:?\u001b[22m\u001b[22m",
      " [3] \u001b[1minclude_string\u001b[22m\u001b[22m\u001b[1m(\u001b[22m\u001b[22m::String, ::String\u001b[1m)\u001b[22m\u001b[22m at \u001b[1m./loading.jl:522\u001b[22m\u001b[22m"
     ]
    }
   ],
   "source": [
    "@variable(m, modelC[i=1:10], start = 1)\n",
    "@variable(m, modelCprime[i=1:10], start = 1)\n",
    "@variable(m, modelKprime[i=1:10], start = 1);"
   ]
  },
  {
   "cell_type": "markdown",
   "metadata": {},
   "source": [
    "I register all user-defined functions with JuMP for automatic differentiation:"
   ]
  },
  {
   "cell_type": "code",
   "execution_count": 11,
   "metadata": {},
   "outputs": [
    {
     "ename": "LoadError",
     "evalue": "\u001b[91mUndefVarError: m not defined\u001b[39m",
     "output_type": "error",
     "traceback": [
      "\u001b[91mUndefVarError: m not defined\u001b[39m",
      "",
      "Stacktrace:",
      " [1] \u001b[1minclude_string\u001b[22m\u001b[22m\u001b[1m(\u001b[22m\u001b[22m::String, ::String\u001b[1m)\u001b[22m\u001b[22m at \u001b[1m./loading.jl:522\u001b[22m\u001b[22m"
     ]
    }
   ],
   "source": [
    "JuMP.register(m, :Ψprime, 2, Ψprime, autodiff=true)\n",
    "JuMP.register(m, :u_crra_prime, 2, u_crra_prime, autodiff=true)\n",
    "JuMP.register(m, :f, 3, f, autodiff=true)\n",
    "JuMP.register(m, :f_prime, 3, f_prime, autodiff=true)\n",
    "JuMP.register(m, :u_crra_prime_inv, 2, u_crra_prime_inv, autodiff=true)"
   ]
  },
  {
   "cell_type": "markdown",
   "metadata": {},
   "source": [
    "The auxiliary and equilibrium constraints are all defined on the grid with 10 nodes:"
   ]
  },
  {
   "cell_type": "code",
   "execution_count": 12,
   "metadata": {},
   "outputs": [
    {
     "ename": "LoadError",
     "evalue": "\u001b[91mUndefVarError: m not defined\u001b[39m",
     "output_type": "error",
     "traceback": [
      "\u001b[91mUndefVarError: m not defined\u001b[39m",
      "",
      "Stacktrace:",
      " [1] \u001b[1mmacro expansion\u001b[22m\u001b[22m at \u001b[1m/Users/Max/.julia/v0.6/JuMP/src/macros.jl:252\u001b[22m\u001b[22m [inlined]",
      " [2] \u001b[1manonymous\u001b[22m\u001b[22m at \u001b[1m./<missing>:?\u001b[22m\u001b[22m",
      " [3] \u001b[1minclude_string\u001b[22m\u001b[22m\u001b[1m(\u001b[22m\u001b[22m::String, ::String\u001b[1m)\u001b[22m\u001b[22m at \u001b[1m./loading.jl:522\u001b[22m\u001b[22m"
     ]
    }
   ],
   "source": [
    "@NLconstraint(m, cons_today[i=1:10], modelC[i] == sum(Ψ[i, k] * θ[k] for k in 1:10))\n",
    "@NLconstraint(m, capi_tomor[i=1:10], modelKprime[i] == f(K[i], α, A) + (1-δ)*K[i] - modelC[i]) \n",
    "@NLconstraint(m, cons_tomor[i=1:10], modelCprime[i] == sum(Ψprime(modelKprime[i], k) * θ[k] for k in 1:10))\n",
    "\n",
    "@NLconstraint(m, EE[i=1:10], modelC[i] == u_crra_prime_inv(\n",
    "    β * u_crra_prime(modelCprime[i], γ) * (f_prime(modelKprime[i], α, A) + 1-δ), γ));"
   ]
  },
  {
   "cell_type": "markdown",
   "metadata": {},
   "source": [
    "I define auxiliary expressions for the predictions of the equilibrium conditions:"
   ]
  },
  {
   "cell_type": "code",
   "execution_count": 13,
   "metadata": {},
   "outputs": [
    {
     "ename": "LoadError",
     "evalue": "\u001b[91mUndefVarError: m not defined\u001b[39m",
     "output_type": "error",
     "traceback": [
      "\u001b[91mUndefVarError: m not defined\u001b[39m",
      "",
      "Stacktrace:",
      " [1] \u001b[1mmacro expansion\u001b[22m\u001b[22m at \u001b[1m/Users/Max/.julia/v0.6/JuMP/src/macros.jl:252\u001b[22m\u001b[22m [inlined]",
      " [2] \u001b[1manonymous\u001b[22m\u001b[22m at \u001b[1m./<missing>:?\u001b[22m\u001b[22m",
      " [3] \u001b[1minclude_string\u001b[22m\u001b[22m\u001b[1m(\u001b[22m\u001b[22m::String, ::String\u001b[1m)\u001b[22m\u001b[22m at \u001b[1m./loading.jl:522\u001b[22m\u001b[22m"
     ]
    }
   ],
   "source": [
    "@NLexpression(m, predictedK[t=2:100], f(dataK[t-1], α, A) + (1-δ)*dataK[t-1] - dataC[t-1])\n",
    "@NLexpression(m, predictedC[t=1:100], sum(Φ[t, k] * θ[k] for k in 1:10));"
   ]
  },
  {
   "cell_type": "markdown",
   "metadata": {},
   "source": [
    "The objective is to minimize the sum of squared errors:"
   ]
  },
  {
   "cell_type": "code",
   "execution_count": 14,
   "metadata": {},
   "outputs": [
    {
     "ename": "LoadError",
     "evalue": "\u001b[91mUndefVarError: m not defined\u001b[39m",
     "output_type": "error",
     "traceback": [
      "\u001b[91mUndefVarError: m not defined\u001b[39m",
      "",
      "Stacktrace:",
      " [1] \u001b[1mmacro expansion\u001b[22m\u001b[22m at \u001b[1m/Users/Max/.julia/v0.6/JuMP/src/macros.jl:252\u001b[22m\u001b[22m [inlined]",
      " [2] \u001b[1manonymous\u001b[22m\u001b[22m at \u001b[1m./<missing>:?\u001b[22m\u001b[22m",
      " [3] \u001b[1minclude_string\u001b[22m\u001b[22m\u001b[1m(\u001b[22m\u001b[22m::String, ::String\u001b[1m)\u001b[22m\u001b[22m at \u001b[1m./loading.jl:522\u001b[22m\u001b[22m"
     ]
    }
   ],
   "source": [
    "@NLobjective(m, Min, sum((dataC[t] - predictedC[t])^2 for t in 1:100) +\n",
    "    sum((dataK[t] - predictedK[t])^2 for t in 2:100))"
   ]
  },
  {
   "cell_type": "code",
   "execution_count": 15,
   "metadata": {
    "scrolled": true
   },
   "outputs": [
    {
     "ename": "LoadError",
     "evalue": "\u001b[91mUndefVarError: m not defined\u001b[39m",
     "output_type": "error",
     "traceback": [
      "\u001b[91mUndefVarError: m not defined\u001b[39m",
      "",
      "Stacktrace:",
      " [1] \u001b[1minclude_string\u001b[22m\u001b[22m\u001b[1m(\u001b[22m\u001b[22m::String, ::String\u001b[1m)\u001b[22m\u001b[22m at \u001b[1m./loading.jl:522\u001b[22m\u001b[22m"
     ]
    }
   ],
   "source": [
    "solve(m)"
   ]
  },
  {
   "cell_type": "code",
   "execution_count": 16,
   "metadata": {},
   "outputs": [
    {
     "ename": "LoadError",
     "evalue": "\u001b[91mUndefVarError: β not defined\u001b[39m",
     "output_type": "error",
     "traceback": [
      "\u001b[91mUndefVarError: β not defined\u001b[39m",
      "",
      "Stacktrace:",
      " [1] \u001b[1minclude_string\u001b[22m\u001b[22m\u001b[1m(\u001b[22m\u001b[22m::String, ::String\u001b[1m)\u001b[22m\u001b[22m at \u001b[1m./loading.jl:522\u001b[22m\u001b[22m"
     ]
    }
   ],
   "source": [
    "getvalue(β), getvalue(δ), getvalue(α), getvalue(A), getvalue(γ)"
   ]
  },
  {
   "cell_type": "code",
   "execution_count": 17,
   "metadata": {},
   "outputs": [
    {
     "ename": "LoadError",
     "evalue": "\u001b[91mUndefVarError: nodes not defined\u001b[39m",
     "output_type": "error",
     "traceback": [
      "\u001b[91mUndefVarError: nodes not defined\u001b[39m",
      "",
      "Stacktrace:",
      " [1] \u001b[1minclude_string\u001b[22m\u001b[22m\u001b[1m(\u001b[22m\u001b[22m::String, ::String\u001b[1m)\u001b[22m\u001b[22m at \u001b[1m./loading.jl:522\u001b[22m\u001b[22m"
     ]
    }
   ],
   "source": [
    "plot(nodes(Basis(ChebParams(10, 0.2*k_stst, 2*k_stst)))[1], [0.731039, 0.830067, 0.984055, 1.15697 , 1.32812 , 1.48555 , 1.62093 , 1.72778 , 1.80161 , 1.8393], label=\"True Policy Fucntion\")\n",
    "plot!(K, Ψ * getvalue(θ), label=\"Estimated Policy Function\")"
   ]
  },
  {
   "cell_type": "markdown",
   "metadata": {},
   "source": [
    "# Robustness in $\\beta$\n",
    "Varying the initial value for $\\beta$ uncovers severe robustness issues:"
   ]
  },
  {
   "cell_type": "code",
   "execution_count": 18,
   "metadata": {},
   "outputs": [
    {
     "ename": "LoadError",
     "evalue": "\u001b[91mUndefVarError: IpoptSolver not defined\u001b[39m",
     "output_type": "error",
     "traceback": [
      "\u001b[91mUndefVarError: IpoptSolver not defined\u001b[39m",
      "",
      "Stacktrace:",
      " [1] \u001b[1mmacro expansion\u001b[22m\u001b[22m at \u001b[1m./In[18]:5\u001b[22m\u001b[22m [inlined]",
      " [2] \u001b[1manonymous\u001b[22m\u001b[22m at \u001b[1m./<missing>:?\u001b[22m\u001b[22m",
      " [3] \u001b[1minclude_string\u001b[22m\u001b[22m\u001b[1m(\u001b[22m\u001b[22m::String, ::String\u001b[1m)\u001b[22m\u001b[22m at \u001b[1m./loading.jl:522\u001b[22m\u001b[22m"
     ]
    }
   ],
   "source": [
    "error = zeros(50)\n",
    "initial_β = linspace(0.95-0.2, 0.95+0.2, 50)\n",
    "\n",
    "for test in 1:50\n",
    "    m = Model(solver=IpoptSolver(print_level=0, max_iter=600));\n",
    "    \n",
    "    @variable(m, 0 <= β <= 1, start = initial_β[test])\n",
    "    @variable(m, 0 <= δ <= 1, start = 0.05) #rand(Normal(0.05, 0.1)))\n",
    "    @variable(m, 0 <= α <= 1, start = 0.3) #rand(Normal(0.3, 0.1)))\n",
    "    @variable(m, A >= 0, start = 1) #rand(Normal(1., 0.1)))\n",
    "    @variable(m, γ >= 0, start = 2) #rand(Normal(2., 0.1)));\n",
    "    @variable(m, θ[1:10], start = 0)\n",
    "    \n",
    "    initial_θ = Ψ \\ (f.(K, getvalue(α), getvalue(A)) + (1-getvalue(δ))*K - 0.1)\n",
    "\n",
    "    for i in 1:10\n",
    "        setvalue(θ[i], initial_θ[i])\n",
    "    end\n",
    "    \n",
    "    @variable(m, modelC[i=1:10], start = 1)\n",
    "    @variable(m, modelCprime[i=1:10], start = 1)\n",
    "    @variable(m, modelKprime[i=1:10], start = 1);\n",
    "        JuMP.register(m, :Ψprime, 2, Ψprime, autodiff=true)\n",
    "    JuMP.register(m, :u_crra_prime, 2, u_crra_prime, autodiff=true)\n",
    "    JuMP.register(m, :f, 3, f, autodiff=true)\n",
    "    JuMP.register(m, :f_prime, 3, f_prime, autodiff=true)\n",
    "    JuMP.register(m, :u_crra_prime_inv, 2, u_crra_prime_inv, autodiff=true)\n",
    "        @NLconstraint(m, cons_today[i=1:10], modelC[i] == sum(Ψ[i, k] * θ[k] for k in 1:10))\n",
    "    @NLconstraint(m, capi_tomor[i=1:10], modelKprime[i] == f(K[i], α, A) + (1-δ)*K[i] - modelC[i]) \n",
    "    @NLconstraint(m, cons_tomor[i=1:10], modelCprime[i] == sum(Ψprime(modelKprime[i], k) * θ[k] for k in 1:10))\n",
    "\n",
    "    @NLconstraint(m, EE[i=1:10], modelC[i] == u_crra_prime_inv(\n",
    "    β * u_crra_prime(modelCprime[i], γ) * (f_prime(modelKprime[i], α, A) + 1-δ), γ));\n",
    "    @NLexpression(m, predictedK[t=2:100], f(dataK[t-1], α, A) + (1-δ)*dataK[t-1] - dataC[t-1])\n",
    "    @NLexpression(m, predictedC[t=1:100], sum(Φ[t, k] * θ[k] for k in 1:10));\n",
    "    @NLobjective(m, Min, sum((dataC[t] - predictedC[t])^2 for t in 1:100) +\n",
    "    sum((dataK[t] - predictedK[t])^2 for t in 2:100))\n",
    "    solve(m);\n",
    "    error[test] = maximum(abs.([getvalue(β), getvalue(δ), getvalue(α), getvalue(A), getvalue(γ)] - [0.95, 0.05, 0.3, 1, 2]))\n",
    "end\n",
    "\n",
    "plot(initial_β, error, ylim=[-0.05,0.05])"
   ]
  },
  {
   "cell_type": "markdown",
   "metadata": {},
   "source": [
    "The correct solution is not robustly found!"
   ]
  },
  {
   "cell_type": "code",
   "execution_count": null,
   "metadata": {},
   "outputs": [],
   "source": []
  }
 ],
 "metadata": {
  "kernelspec": {
   "display_name": "Julia 0.6.2",
   "language": "julia",
   "name": "julia-0.6"
  },
  "language_info": {
   "file_extension": ".jl",
   "mimetype": "application/julia",
   "name": "julia",
   "version": "0.6.2"
  }
 },
 "nbformat": 4,
 "nbformat_minor": 2
}
