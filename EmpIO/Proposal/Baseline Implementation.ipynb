{
 "cells": [
  {
   "cell_type": "markdown",
   "metadata": {},
   "source": [
    "In this exercise I solve a deterministic growth model using simulated data generated from an economy with parameters $\\beta = 0.95$, $\\alpha = 0.3$, $A = 1.0$, $\\delta = 0.05$, $\\gamma = 2.0$. I initiate the variables of the mathematical program at the true values, which should make the optimization easy."
   ]
  },
  {
   "cell_type": "code",
   "execution_count": 1,
   "metadata": {
    "scrolled": false
   },
   "outputs": [
    {
     "name": "stderr",
     "output_type": "stream",
     "text": [
      "WARNING: Method definition ==(Base.Nullable{S}, Base.Nullable{T}) in module Base at nullable.jl:238 overwritten in module NullableArrays at /home/juser/.julia/v0.6/NullableArrays/src/operators.jl:99.\n",
      "WARNING: Compat.AsyncCondition is deprecated, use Base.AsyncCondition instead.\n",
      "  likely near In[1]:2\n",
      "WARNING: Compat.AsyncCondition is deprecated, use Base.AsyncCondition instead.\n",
      "  likely near In[1]:2\n"
     ]
    },
    {
     "data": {
      "text/html": [
       "<img src=\"data:image/png;base64,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\" />"
      ]
     },
     "execution_count": 1,
     "metadata": {},
     "output_type": "execute_result"
    }
   ],
   "source": [
    "using CSV\n",
    "using Plots; pyplot()\n",
    "\n",
    "df = CSV.read(\"data.csv\"; header=false, types=[Float64, Float64])\n",
    "dataK = convert(Vector{Float64}, df[1])\n",
    "dataC = convert(Vector{Float64}, df[2])\n",
    "\n",
    "plot(dataK, label=\"capital\")\n",
    "plot!(dataC, label=\"consumption\")"
   ]
  },
  {
   "cell_type": "markdown",
   "metadata": {},
   "source": [
    "The economy's steady state for capital is:"
   ]
  },
  {
   "cell_type": "code",
   "execution_count": 2,
   "metadata": {},
   "outputs": [],
   "source": [
    "k_stst = 4.628988089138438;"
   ]
  },
  {
   "cell_type": "markdown",
   "metadata": {},
   "source": [
    "# The Mathematical Program\n",
    "I define the needed function related to utility and production:"
   ]
  },
  {
   "cell_type": "code",
   "execution_count": 3,
   "metadata": {},
   "outputs": [
    {
     "data": {
      "text/plain": [
       "f_prime (generic function with 1 method)"
      ]
     },
     "execution_count": 3,
     "metadata": {},
     "output_type": "execute_result"
    }
   ],
   "source": [
    "u_crra_prime(c, γ) = begin\n",
    "    if (c <= 0)\n",
    "        return -1000000.\n",
    "        else\n",
    "        return c^-γ\n",
    "    end\n",
    "end\n",
    "\n",
    "u_crra_prime_inv(u, γ) = begin\n",
    "    if (u <= 0)\n",
    "        return +1000000.\n",
    "    else\n",
    "        return u^(-1/γ) \n",
    "    end\n",
    "end\n",
    "\n",
    "function f(k, α, A)\n",
    "    if (k <= 0)\n",
    "        return zero(k)\n",
    "    else\n",
    "        A*k^α\n",
    "    end\n",
    "end\n",
    "\n",
    "function f_prime(k, α, A)\n",
    "    if (k <= 0)\n",
    "        return zero(k)\n",
    "    else\n",
    "        A*α*k^(α-1)\n",
    "    end\n",
    "end"
   ]
  },
  {
   "cell_type": "markdown",
   "metadata": {},
   "source": [
    "I use the Julia Mathematical Programming languange JuMP and the IpOpt solver:"
   ]
  },
  {
   "cell_type": "code",
   "execution_count": 21,
   "metadata": {},
   "outputs": [],
   "source": [
    "using JuMP\n",
    "using Ipopt\n",
    "\n",
    "m = Model(solver=IpoptSolver(print_level=3, max_iter=600));"
   ]
  },
  {
   "cell_type": "markdown",
   "metadata": {},
   "source": [
    "I define the deep parameters variables and give the the correct starting values:"
   ]
  },
  {
   "cell_type": "code",
   "execution_count": 22,
   "metadata": {},
   "outputs": [],
   "source": [
    "@variable(m, 0 <= β <= 1, start = 0.95)\n",
    "@variable(m, 0 <= δ <= 1, start = 0.05)\n",
    "@variable(m, 0 <= α <= 1, start = 0.3)\n",
    "@variable(m, A >= 0, start = 1)\n",
    "@variable(m, γ >= 0, start = 2);"
   ]
  },
  {
   "cell_type": "markdown",
   "metadata": {},
   "source": [
    "The policy function is approximated by 10 Chebyshev polynomials on a grid around the steady state for capital, the coefficients on the polynomials are $\\theta$:"
   ]
  },
  {
   "cell_type": "code",
   "execution_count": 23,
   "metadata": {},
   "outputs": [],
   "source": [
    "@variable(m, θ[1:10], start = 0)\n",
    "\n",
    "#setvalue(θ[1], 0.1);"
   ]
  },
  {
   "cell_type": "markdown",
   "metadata": {},
   "source": [
    "I define a grid on capital, $K$, with 10 nodes, and evaluate the Chebyshev polynomials at those point into $\\Psi$ and at the observed data points into $\\Phi$:"
   ]
  },
  {
   "cell_type": "code",
   "execution_count": 24,
   "metadata": {},
   "outputs": [],
   "source": [
    "using BasisMatrices\n",
    "basis = Basis(ChebParams(10, 0.2*k_stst, 2*k_stst))\n",
    "K = nodes(basis)[1] #grid\n",
    "Ψ = BasisMatrix(basis, Expanded(), K).vals[1]\n",
    "Φ = BasisMatrix(basis, Expanded(), dataK).vals[1];"
   ]
  },
  {
   "cell_type": "markdown",
   "metadata": {},
   "source": [
    "And I initialize $\\theta$ such that the consumer myopically consumes almost everything available, leaving just $0.1$ capital for the next period:"
   ]
  },
  {
   "cell_type": "code",
   "execution_count": 25,
   "metadata": {},
   "outputs": [],
   "source": [
    "initial_θ = Ψ \\ (f.(K, getvalue(α), getvalue(A)) + (1-getvalue(δ))*K - 0.1)\n",
    "\n",
    "for i in 1:10\n",
    "    setvalue(θ[i], initial_θ[i])\n",
    "end"
   ]
  },
  {
   "cell_type": "markdown",
   "metadata": {},
   "source": [
    "In the equilibrium constraint the polynomials have to be evaluated also outside the grid, I define this function here:"
   ]
  },
  {
   "cell_type": "code",
   "execution_count": 26,
   "metadata": {},
   "outputs": [
    {
     "data": {
      "text/plain": [
       "Ψprime (generic function with 1 method)"
      ]
     },
     "execution_count": 26,
     "metadata": {},
     "output_type": "execute_result"
    }
   ],
   "source": [
    "function Ψprime(x, order)\n",
    "    k_stst = 4.628988089138438\n",
    "    a = 0.2*k_stst\n",
    "    b = 2*k_stst\n",
    "        \n",
    "    z = (2/(b-a)) * (x-(a+b)/2)\n",
    "    \n",
    "    if (order == 1)\n",
    "        return 1.\n",
    "    elseif (order == 2)\n",
    "        return z\n",
    "    else\n",
    "        \n",
    "        out1 = 1.\n",
    "        out2 = z\n",
    "        out3 = 0.\n",
    "\n",
    "        for j in 3:order\n",
    "            out3 = 2. * z * out2 - out1\n",
    "            out1 = out2\n",
    "            out2 = out3\n",
    "        end\n",
    "\n",
    "        return out3\n",
    "    end\n",
    "end"
   ]
  },
  {
   "cell_type": "markdown",
   "metadata": {},
   "source": [
    "I define auxiliary variables for model predictions of capital and consumption:"
   ]
  },
  {
   "cell_type": "code",
   "execution_count": 27,
   "metadata": {},
   "outputs": [],
   "source": [
    "@variable(m, modelC[i=1:10], start = 1)\n",
    "@variable(m, modelCprime[i=1:10], start = 1)\n",
    "@variable(m, modelKprime[i=1:10], start = 1);"
   ]
  },
  {
   "cell_type": "markdown",
   "metadata": {},
   "source": [
    "I register all user-defined functions with JuMP for automatic differentiation:"
   ]
  },
  {
   "cell_type": "code",
   "execution_count": 28,
   "metadata": {},
   "outputs": [],
   "source": [
    "JuMP.register(m, :Ψprime, 2, Ψprime, autodiff=true)\n",
    "JuMP.register(m, :u_crra_prime, 2, u_crra_prime, autodiff=true)\n",
    "JuMP.register(m, :f, 3, f, autodiff=true)\n",
    "JuMP.register(m, :f_prime, 3, f_prime, autodiff=true)\n",
    "JuMP.register(m, :u_crra_prime_inv, 2, u_crra_prime_inv, autodiff=true)"
   ]
  },
  {
   "cell_type": "markdown",
   "metadata": {},
   "source": [
    "The auxiliary and equilibrium constraints are all defined on the grid with 10 nodes:"
   ]
  },
  {
   "cell_type": "code",
   "execution_count": 29,
   "metadata": {},
   "outputs": [],
   "source": [
    "@NLconstraint(m, cons_today[i=1:10], modelC[i] == sum(Ψ[i, k] * θ[k] for k in 1:10))\n",
    "@NLconstraint(m, capi_tomor[i=1:10], modelKprime[i] <= f(K[i], α, A) + (1-δ)*K[i] - modelC[i]) \n",
    "@NLconstraint(m, cons_tomor[i=1:10], modelCprime[i] == sum(Ψprime(modelKprime[i], k) * θ[k] for k in 1:10))\n",
    "\n",
    "@NLconstraint(m, EE[i=1:10], modelC[i] == u_crra_prime_inv(\n",
    "    β * u_crra_prime(modelCprime[i], γ) * (f_prime(modelKprime[i], α, A) + 1-δ), γ));"
   ]
  },
  {
   "cell_type": "markdown",
   "metadata": {},
   "source": [
    "I define auxiliary expressions for the predictions of the equilibrium conditions:"
   ]
  },
  {
   "cell_type": "code",
   "execution_count": 30,
   "metadata": {},
   "outputs": [],
   "source": [
    "@NLexpression(m, predictedK[t=2:100], f(dataK[t-1], α, A) + (1-δ)*dataK[t-1] - dataC[t-1])\n",
    "@NLexpression(m, predictedC[t=1:100], sum(Φ[t, k] * θ[k] for k in 1:10));"
   ]
  },
  {
   "cell_type": "markdown",
   "metadata": {},
   "source": [
    "The objective is to minimize the sum of squared errors:"
   ]
  },
  {
   "cell_type": "code",
   "execution_count": 31,
   "metadata": {},
   "outputs": [],
   "source": [
    "@NLobjective(m, Min, sum((dataC[t] - predictedC[t])^2 for t in 1:100) +\n",
    "    sum((dataK[t] - predictedK[t])^2 for t in 2:100))"
   ]
  },
  {
   "cell_type": "code",
   "execution_count": 32,
   "metadata": {
    "scrolled": false
   },
   "outputs": [
    {
     "name": "stdout",
     "output_type": "stream",
     "text": [
      "Total number of variables............................:       45\n",
      "                     variables with only lower bounds:        2\n",
      "                variables with lower and upper bounds:        3\n",
      "                     variables with only upper bounds:        0\n",
      "Total number of equality constraints.................:       30\n",
      "Total number of inequality constraints...............:       10\n",
      "        inequality constraints with only lower bounds:        0\n",
      "   inequality constraints with lower and upper bounds:        0\n",
      "        inequality constraints with only upper bounds:       10\n",
      "\n",
      "\n",
      "Number of Iterations....: 600\n",
      "\n",
      "                                   (scaled)                 (unscaled)\n",
      "Objective...............:   1.9162489522068506e-04    1.5445897921564831e-03\n",
      "Dual infeasibility......:   6.6741451694781948e-03    5.3796853943608731e-02\n",
      "Constraint violation....:   2.7947449532383928e-07    2.7947449532383928e-07\n",
      "Complementarity.........:   1.2353561607964941e-11    9.9575710841036623e-11\n",
      "Overall NLP error.......:   6.6741451694781948e-03    5.3796853943608731e-02\n",
      "\n",
      "\n",
      "Number of objective function evaluations             = 3190\n",
      "Number of objective gradient evaluations             = 601\n",
      "Number of equality constraint evaluations            = 3326\n",
      "Number of inequality constraint evaluations          = 3326\n",
      "Number of equality constraint Jacobian evaluations   = 601\n",
      "Number of inequality constraint Jacobian evaluations = 601\n",
      "Number of Lagrangian Hessian evaluations             = 0\n",
      "Total CPU secs in IPOPT (w/o function evaluations)   =      0.816\n",
      "Total CPU secs in NLP function evaluations           =      1.712\n",
      "\n",
      "EXIT: Maximum Number of Iterations Exceeded.\n"
     ]
    },
    {
     "name": "stderr",
     "output_type": "stream",
     "text": [
      "\u001b[1m\u001b[33mWARNING: \u001b[39m\u001b[22m\u001b[33mNot solved to optimality, status: UserLimit\u001b[39m\n"
     ]
    },
    {
     "data": {
      "text/plain": [
       ":UserLimit"
      ]
     },
     "execution_count": 32,
     "metadata": {},
     "output_type": "execute_result"
    }
   ],
   "source": [
    "solve(m)"
   ]
  },
  {
   "cell_type": "code",
   "execution_count": 33,
   "metadata": {},
   "outputs": [
    {
     "data": {
      "text/plain": [
       "(0.19162405986145098, 0.04730443431328293, 0.2948507670315332, 0.9991117320710803, 3.41810717618175)"
      ]
     },
     "execution_count": 33,
     "metadata": {},
     "output_type": "execute_result"
    }
   ],
   "source": [
    "getvalue(β), getvalue(δ), getvalue(α), getvalue(A), getvalue(γ)"
   ]
  },
  {
   "cell_type": "code",
   "execution_count": 34,
   "metadata": {},
   "outputs": [
    {
     "data": {
      "text/html": [
       "<img src=\"data:image/png;base64,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\" />"
      ]
     },
     "execution_count": 34,
     "metadata": {},
     "output_type": "execute_result"
    }
   ],
   "source": [
    "plot(nodes(Basis(ChebParams(10, 0.2*k_stst, 2*k_stst)))[1], [0.731039, 0.830067, 0.984055, 1.15697 , 1.32812 , 1.48555 , 1.62093 , 1.72778 , 1.80161 , 1.8393], label=\"True Policy Fucntion\")\n",
    "plot!(K, Ψ * getvalue(θ), label=\"Estimated Policy Function\")"
   ]
  },
  {
   "cell_type": "markdown",
   "metadata": {},
   "source": [
    "# Robustness in $\\beta$\n",
    "Varying the initial value for $\\beta$ uncovers severe robustness issues:"
   ]
  },
  {
   "cell_type": "code",
   "execution_count": 35,
   "metadata": {},
   "outputs": [
    {
     "name": "stderr",
     "output_type": "stream",
     "text": [
      "\u001b[1m\u001b[33mWARNING: \u001b[39m\u001b[22m\u001b[33mNot solved to optimality, status: UserLimit\u001b[39m\n",
      "\u001b[1m\u001b[33mWARNING: \u001b[39m\u001b[22m\u001b[33mNot solved to optimality, status: UserLimit\u001b[39m\n",
      "\u001b[1m\u001b[33mWARNING: \u001b[39m\u001b[22m\u001b[33mNot solved to optimality, status: UserLimit\u001b[39m\n",
      "\u001b[1m\u001b[33mWARNING: \u001b[39m\u001b[22m\u001b[33mNot solved to optimality, status: UserLimit\u001b[39m\n",
      "\u001b[1m\u001b[33mWARNING: \u001b[39m\u001b[22m\u001b[33mNot solved to optimality, status: UserLimit\u001b[39m\n"
     ]
    },
    {
     "data": {
      "text/html": [
       "<img src=\"data:image/png;base64,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\" />"
      ]
     },
     "execution_count": 35,
     "metadata": {},
     "output_type": "execute_result"
    }
   ],
   "source": [
    "error = zeros(50)\n",
    "initial_β = linspace(0.95-0.2, 0.95+0.2, 50)\n",
    "\n",
    "for test in 1:50\n",
    "    m = Model(solver=IpoptSolver(print_level=0, max_iter=600));\n",
    "    \n",
    "    @variable(m, 0 <= β <= 1, start = initial_β[test])\n",
    "    @variable(m, 0 <= δ <= 1, start = 0.05) #rand(Normal(0.05, 0.1)))\n",
    "    @variable(m, 0 <= α <= 1, start = 0.3) #rand(Normal(0.3, 0.1)))\n",
    "    @variable(m, A >= 0, start = 1) #rand(Normal(1., 0.1)))\n",
    "    @variable(m, γ >= 0, start = 2) #rand(Normal(2., 0.1)));\n",
    "    @variable(m, θ[1:10], start = 0)\n",
    "    \n",
    "    initial_θ = Ψ \\ (f.(K, getvalue(α), getvalue(A)) + (1-getvalue(δ))*K - 0.1)\n",
    "\n",
    "    for i in 1:10\n",
    "        setvalue(θ[i], initial_θ[i])\n",
    "    end\n",
    "    \n",
    "    @variable(m, modelC[i=1:10], start = 1)\n",
    "    @variable(m, modelCprime[i=1:10], start = 1)\n",
    "    @variable(m, modelKprime[i=1:10], start = 1);\n",
    "        JuMP.register(m, :Ψprime, 2, Ψprime, autodiff=true)\n",
    "    JuMP.register(m, :u_crra_prime, 2, u_crra_prime, autodiff=true)\n",
    "    JuMP.register(m, :f, 3, f, autodiff=true)\n",
    "    JuMP.register(m, :f_prime, 3, f_prime, autodiff=true)\n",
    "    JuMP.register(m, :u_crra_prime_inv, 2, u_crra_prime_inv, autodiff=true)\n",
    "        @NLconstraint(m, cons_today[i=1:10], modelC[i] == sum(Ψ[i, k] * θ[k] for k in 1:10))\n",
    "    @NLconstraint(m, capi_tomor[i=1:10], modelKprime[i] == f(K[i], α, A) + (1-δ)*K[i] - modelC[i]) \n",
    "    @NLconstraint(m, cons_tomor[i=1:10], modelCprime[i] == sum(Ψprime(modelKprime[i], k) * θ[k] for k in 1:10))\n",
    "\n",
    "    @NLconstraint(m, EE[i=1:10], modelC[i] == u_crra_prime_inv(\n",
    "    β * u_crra_prime(modelCprime[i], γ) * (f_prime(modelKprime[i], α, A) + 1-δ), γ));\n",
    "    @NLexpression(m, predictedK[t=2:100], f(dataK[t-1], α, A) + (1-δ)*dataK[t-1] - dataC[t-1])\n",
    "    @NLexpression(m, predictedC[t=1:100], sum(Φ[t, k] * θ[k] for k in 1:10));\n",
    "    @NLobjective(m, Min, sum((dataC[t] - predictedC[t])^2 for t in 1:100) +\n",
    "    sum((dataK[t] - predictedK[t])^2 for t in 2:100))\n",
    "    solve(m);\n",
    "    error[test] = maximum(abs.([getvalue(β), getvalue(δ), getvalue(α), getvalue(A), getvalue(γ)] - [0.95, 0.05, 0.3, 1, 2]))\n",
    "end\n",
    "\n",
    "plot(initial_β, error, ylim=[-0.05,0.05])"
   ]
  },
  {
   "cell_type": "markdown",
   "metadata": {},
   "source": [
    "The correct solution is not robustly found!"
   ]
  },
  {
   "cell_type": "code",
   "execution_count": null,
   "metadata": {},
   "outputs": [],
   "source": []
  }
 ],
 "metadata": {
  "kernelspec": {
   "display_name": "Julia 0.6.0",
   "language": "julia",
   "name": "julia-0.6"
  },
  "language_info": {
   "file_extension": ".jl",
   "mimetype": "application/julia",
   "name": "julia",
   "version": "0.6.0"
  }
 },
 "nbformat": 4,
 "nbformat_minor": 2
}
