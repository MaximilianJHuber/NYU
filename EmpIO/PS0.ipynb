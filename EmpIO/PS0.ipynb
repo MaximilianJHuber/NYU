{
 "cells": [
  {
   "cell_type": "markdown",
   "metadata": {},
   "source": [
    "# Empirical IO PS 0"
   ]
  },
  {
   "cell_type": "markdown",
   "metadata": {},
   "source": [
    "## Part 0: Logit Inclusive Value"
   ]
  },
  {
   "cell_type": "code",
   "execution_count": 1,
   "metadata": {},
   "outputs": [],
   "source": [
    "using Plots; pyplot();"
   ]
  },
  {
   "cell_type": "code",
   "execution_count": 2,
   "metadata": {},
   "outputs": [
    {
     "data": {
      "text/plain": [
       "IV (generic function with 1 method)"
      ]
     },
     "execution_count": 2,
     "metadata": {},
     "output_type": "execute_result"
    }
   ],
   "source": [
    "function IV(x)\n",
    "    - log(sum(exp.(x)))\n",
    "end"
   ]
  },
  {
   "cell_type": "code",
   "execution_count": 3,
   "metadata": {},
   "outputs": [
    {
     "data": {
      "text/plain": [
       "10-element Array{Float64,1}:\n",
       " -690.0  \n",
       " -693.333\n",
       " -696.667\n",
       " -700.0  \n",
       " -703.333\n",
       " -706.667\n",
       " -Inf    \n",
       " -Inf    \n",
       " -Inf    \n",
       " -Inf    "
      ]
     },
     "execution_count": 3,
     "metadata": {},
     "output_type": "execute_result"
    }
   ],
   "source": [
    "[IV(x) for x in linspace(690, 720, 10)]"
   ]
  },
  {
   "cell_type": "markdown",
   "metadata": {},
   "source": [
    "$$ -\\log\\Big(\\sum_{i=1}^N \\exp(x_i)\\Big) = -\\log\\Big(\\sum_{i=1}^N \\exp(x_i - m + m)\\Big) = -\\log\\Big(\\sum_{i=1}^N \\exp(x_i - m) * \\exp(m)\\Big) = -\\log\\Big(\\sum_{i=1}^N \\exp(x_i - m) \\Big) - m$$ \n"
   ]
  },
  {
   "cell_type": "code",
   "execution_count": 43,
   "metadata": {},
   "outputs": [
    {
     "data": {
      "text/plain": [
       "IV2 (generic function with 1 method)"
      ]
     },
     "execution_count": 43,
     "metadata": {},
     "output_type": "execute_result"
    }
   ],
   "source": [
    "function IV2(x)\n",
    "    m = maximum(x)\n",
    "    - log(sum(exp.(x .- m))) - m\n",
    "end"
   ]
  },
  {
   "cell_type": "code",
   "execution_count": 44,
   "metadata": {},
   "outputs": [
    {
     "data": {
      "text/plain": [
       "-1000.0"
      ]
     },
     "execution_count": 44,
     "metadata": {},
     "output_type": "execute_result"
    }
   ],
   "source": [
    "IV2([1000, 2])"
   ]
  },
  {
   "cell_type": "markdown",
   "metadata": {},
   "source": [
    "At least it is not infinity, but the loss of significance (https://en.wikipedia.org/wiki/Loss_of_significance) acts up."
   ]
  },
  {
   "cell_type": "markdown",
   "metadata": {},
   "source": [
    "## Part 1: Markov Chains\n",
    "\n",
    "The stationary distribution, $\\pi^*$ of an ergodic MC is uniquely given by:\n",
    "$$\\pi^* = \\pi^* P \\implies \\pi^* * (I - P) = 0$$\n",
    "I.e. the left eigenvector of $P'$ corresponding to the eigenvalue one."
   ]
  },
  {
   "cell_type": "code",
   "execution_count": 45,
   "metadata": {},
   "outputs": [
    {
     "data": {
      "text/plain": [
       "3×3 Array{Float64,2}:\n",
       " 0.2  0.4  0.4\n",
       " 0.1  0.3  0.6\n",
       " 0.5  0.1  0.4"
      ]
     },
     "execution_count": 45,
     "metadata": {},
     "output_type": "execute_result"
    }
   ],
   "source": [
    "P = [0.2 0.4 0.4; 0.1 0.3 0.6; 0.5 0.1 0.4]"
   ]
  },
  {
   "cell_type": "code",
   "execution_count": 46,
   "metadata": {
    "scrolled": true
   },
   "outputs": [
    {
     "data": {
      "text/plain": [
       "stationary (generic function with 1 method)"
      ]
     },
     "execution_count": 46,
     "metadata": {},
     "output_type": "execute_result"
    }
   ],
   "source": [
    "function stationary(P)\n",
    "    F = eig(P')    \n",
    "    pos = F[1] .≈ Complex(1)\n",
    "    \n",
    "    if sum(pos) > 1 throw(\"The eigenvalue one has a algebraic multiplicity of higher than one!\")\n",
    "        elseif sum(pos) < 1 throw(\"The eigenvalue one has a algebraic multiplicity of zero!\")\n",
    "    end\n",
    "            \n",
    "    πstar = convert(Array{Float64}, F[2][:, pos])\n",
    "    πstar = (πstar / sum(πstar))\n",
    "end"
   ]
  },
  {
   "cell_type": "code",
   "execution_count": 47,
   "metadata": {},
   "outputs": [
    {
     "data": {
      "text/plain": [
       "3×1 Array{Float64,2}:\n",
       " 0.310345\n",
       " 0.241379\n",
       " 0.448276"
      ]
     },
     "execution_count": 47,
     "metadata": {},
     "output_type": "execute_result"
    }
   ],
   "source": [
    "πstar = stationary(P)"
   ]
  },
  {
   "cell_type": "code",
   "execution_count": 48,
   "metadata": {},
   "outputs": [
    {
     "data": {
      "text/plain": [
       "1×3 Array{Float64,2}:\n",
       " 1.66533e-16  0.0  -1.66533e-16"
      ]
     },
     "execution_count": 48,
     "metadata": {},
     "output_type": "execute_result"
    }
   ],
   "source": [
    "πstar' * P - πstar'"
   ]
  },
  {
   "cell_type": "markdown",
   "metadata": {},
   "source": [
    "This is the stationary distribution.\n",
    "## Part 2: Numerical Integration\n",
    "I use the package \"FastGaussQuadrature\" for the Gauss-Hermite and \"Cubature\" for adaptive quadrature."
   ]
  },
  {
   "cell_type": "code",
   "execution_count": 49,
   "metadata": {
    "collapsed": true
   },
   "outputs": [],
   "source": [
    "using FastGaussQuadrature\n",
    "using Distributions\n",
    "using Cubature"
   ]
  },
  {
   "cell_type": "markdown",
   "metadata": {},
   "source": [
    "### 1"
   ]
  },
  {
   "cell_type": "code",
   "execution_count": 21,
   "metadata": {},
   "outputs": [
    {
     "data": {
      "text/plain": [
       "p (generic function with 1 method)"
      ]
     },
     "execution_count": 21,
     "metadata": {},
     "output_type": "execute_result"
    }
   ],
   "source": [
    "function p(β)\n",
    "    exp(β * 0.5) / (1 + exp(β * 0.5))\n",
    "end"
   ]
  },
  {
   "cell_type": "markdown",
   "metadata": {},
   "source": [
    "### 2\n",
    "https://github.com/stevengj/cubature/blob/master/README.md#infinite-intervals"
   ]
  },
  {
   "cell_type": "code",
   "execution_count": 35,
   "metadata": {},
   "outputs": [
    {
     "data": {
      "text/plain": [
       "p_known (generic function with 1 method)"
      ]
     },
     "execution_count": 35,
     "metadata": {},
     "output_type": "execute_result"
    }
   ],
   "source": [
    "function p_known(t)\n",
    "    β = t ./ (1 - t .^ 2)\n",
    "    exp.(β * 0.5) ./ (1 + exp.(β * 0.5)) .* pdf(Normal(0.5, 2), β) .* (1 + t .^ 2) ./ (1 - t .^ 2) .^ 2\n",
    "end"
   ]
  },
  {
   "cell_type": "code",
   "execution_count": null,
   "metadata": {
    "collapsed": true
   },
   "outputs": [],
   "source": [
    "hquadrature(p_known, -1, 1, abstol=1e-8)"
   ]
  },
  {
   "cell_type": "markdown",
   "metadata": {},
   "source": [
    "I also use a very precise Gauss-Hermite quadrature:"
   ]
  },
  {
   "cell_type": "code",
   "execution_count": 47,
   "metadata": {},
   "outputs": [
    {
     "data": {
      "text/plain": [
       "0.5559391628434668"
      ]
     },
     "execution_count": 47,
     "metadata": {},
     "output_type": "execute_result"
    }
   ],
   "source": [
    "1/sqrt(π) * (gausshermite(100000)[2]' * p.(sqrt(2) * sqrt(2) * gausshermite(100000)[1] + 0.5))"
   ]
  },
  {
   "cell_type": "markdown",
   "metadata": {},
   "source": [
    "### 3"
   ]
  },
  {
   "cell_type": "code",
   "execution_count": 238,
   "metadata": {
    "scrolled": true
   },
   "outputs": [
    {
     "data": {
      "text/plain": [
       "3-element Array{Float64,1}:\n",
       " 0.619935\n",
       " 0.549736\n",
       " 0.553085"
      ]
     },
     "execution_count": 238,
     "metadata": {},
     "output_type": "execute_result"
    }
   ],
   "source": [
    "[mean(p.(rand(Normal(0.5, 2), n))) for n in [20, 400, 1000]]"
   ]
  },
  {
   "cell_type": "markdown",
   "metadata": {},
   "source": [
    "### 4"
   ]
  },
  {
   "cell_type": "markdown",
   "metadata": {},
   "source": [
    "I follow https://en.wikipedia.org/wiki/Gauss%E2%80%93Hermite_quadrature#Example_with_change_of_variable for the non-standard normally distributed $\\beta$."
   ]
  },
  {
   "cell_type": "code",
   "execution_count": 189,
   "metadata": {},
   "outputs": [
    {
     "data": {
      "text/plain": [
       "5-element Array{Float64,1}:\n",
       " 0.555916\n",
       " 0.555944\n",
       " 0.555939\n",
       " 0.555939\n",
       " 0.555939"
      ]
     },
     "execution_count": 189,
     "metadata": {},
     "output_type": "execute_result"
    }
   ],
   "source": [
    "[1/sqrt(π) * (gausshermite(n)[2]' * p.(sqrt(2) * sqrt(2) * gausshermite(n)[1] + 0.5)) for n in [4, 5, 7, 8, 12]]"
   ]
  },
  {
   "cell_type": "markdown",
   "metadata": {},
   "source": [
    "### 5\n",
    "The results are similar, but the Gauss-Hermite quadrature works already with very few points.\n",
    "### 6"
   ]
  },
  {
   "cell_type": "code",
   "execution_count": 244,
   "metadata": {},
   "outputs": [
    {
     "data": {
      "text/plain": [
       "p_multi (generic function with 1 method)"
      ]
     },
     "execution_count": 244,
     "metadata": {},
     "output_type": "execute_result"
    }
   ],
   "source": [
    "function p_multi(β)\n",
    "    exp(β * [0.5, 1]) / (1 + exp(β * [0.5, 1]))\n",
    "end"
   ]
  },
  {
   "cell_type": "code",
   "execution_count": 54,
   "metadata": {},
   "outputs": [
    {
     "name": "stderr",
     "output_type": "stream",
     "text": [
      "WARNING: imported binding for nodes overwritten in module Main\n"
     ]
    },
    {
     "data": {
      "text/html": [
       "0.5559391582008272"
      ],
      "text/plain": [
       "0.5559391582008272"
      ]
     },
     "execution_count": 54,
     "metadata": {},
     "output_type": "execute_result"
    }
   ],
   "source": [
    "nodes, weights = gausshermite(10)\n",
    "1/sqrt(π) * (weights' * p.(sqrt(2) * sqrt(2) * nodes + 0.5))"
   ]
  },
  {
   "cell_type": "code",
   "execution_count": null,
   "metadata": {
    "collapsed": true
   },
   "outputs": [],
   "source": [
    "p.(sqrt(2) * sqrt(2) * nodes + 0.5, )"
   ]
  },
  {
   "cell_type": "markdown",
   "metadata": {},
   "source": [
    "### 7 "
   ]
  },
  {
   "cell_type": "code",
   "execution_count": 50,
   "metadata": {},
   "outputs": [
    {
     "data": {
      "text/plain": [
       "binomiallogitmixture (generic function with 1 method)"
      ]
     },
     "execution_count": 50,
     "metadata": {},
     "output_type": "execute_result"
    }
   ],
   "source": [
    "function p(β, x)\n",
    "    exp.(β * x) / (1 + exp.(β * x))\n",
    "end\n",
    "\n",
    "function binomiallogitmixture(X)\n",
    "    nodes, weights = gausshermite(12)\n",
    "    1/sqrt(π) * (weights' * reshape(mapslices(x -> p(x[1], x[2]), \n",
    "                gridmake(sqrt(2) * sqrt(2) * nodes + 0.5, X), 2), length(nodes), length(X)))'\n",
    "end"
   ]
  },
  {
   "cell_type": "code",
   "execution_count": 153,
   "metadata": {},
   "outputs": [
    {
     "data": {
      "text/plain": [
       "2-element Array{Float64,1}:\n",
       " 0.589948\n",
       " 0.617203"
      ]
     },
     "execution_count": 153,
     "metadata": {},
     "output_type": "execute_result"
    }
   ],
   "source": [
    "binomiallogitmixture([1, 2.])"
   ]
  },
  {
   "cell_type": "markdown",
   "metadata": {},
   "source": [
    "## Part 3: Function Approximation\n",
    "I use my favorite package for very fast generation of basis matrices:"
   ]
  },
  {
   "cell_type": "code",
   "execution_count": 230,
   "metadata": {},
   "outputs": [
    {
     "data": {
      "text/plain": [
       "binomiallogitmixture (generic function with 1 method)"
      ]
     },
     "execution_count": 230,
     "metadata": {},
     "output_type": "execute_result"
    }
   ],
   "source": [
    "using BasisMatrices\n",
    "\n",
    "N = 20\n",
    "M = 40\n",
    "basis = Basis(ChebParams(N, -4, 4))\n",
    "f = binomiallogitmixture"
   ]
  },
  {
   "cell_type": "markdown",
   "metadata": {},
   "source": [
    "It calcualtes the correct Chebyshev nodes:"
   ]
  },
  {
   "cell_type": "code",
   "execution_count": 172,
   "metadata": {},
   "outputs": [
    {
     "data": {
      "text/html": [
       "4.440892098500626e-16"
      ],
      "text/plain": [
       "4.440892098500626e-16"
      ]
     },
     "execution_count": 172,
     "metadata": {},
     "output_type": "execute_result"
    }
   ],
   "source": [
    "maximum(nodes(basis)[1] - ((1 + (- cos.((2 * (1:N) - 1) / (2 * N) * π))) * (4 - -4) / 2 - 4))"
   ]
  },
  {
   "cell_type": "markdown",
   "metadata": {},
   "source": [
    "I write a function that takes all the parameters as input and returns the approximate function."
   ]
  },
  {
   "cell_type": "code",
   "execution_count": 213,
   "metadata": {},
   "outputs": [
    {
     "data": {
      "text/plain": [
       "chebfit (generic function with 11 methods)"
      ]
     },
     "execution_count": 213,
     "metadata": {},
     "output_type": "execute_result"
    }
   ],
   "source": [
    "function chebfit(f, a::Float64, b::Float64, N=20, M=40)\n",
    "    \n",
    "    basis = Basis(ChebParams(N, a, b))\n",
    "    grid = nodes(Basis(ChebParams(M, a, b)))[1]\n",
    "    \n",
    "    X = BasisMatrix(basis, Expanded(), grid).vals[1] # M * N matrix of Chebyshev polynomials evaluated at grid points\n",
    "    y = f(grid)\n",
    "    \n",
    "    coeff = (X' * X) \\ (X' * y) # regression using LU-factorization, very fast, not the most precise!\n",
    "    \n",
    "    return function(Xeval) \n",
    "        BasisMatrix(basis, Expanded(), Xeval).vals[1] * coeff\n",
    "    end\n",
    "end"
   ]
  },
  {
   "cell_type": "code",
   "execution_count": 214,
   "metadata": {},
   "outputs": [
    {
     "data": {
      "text/plain": [
       "(::#55) (generic function with 1 method)"
      ]
     },
     "execution_count": 214,
     "metadata": {},
     "output_type": "execute_result"
    }
   ],
   "source": [
    "fhat = chebfit(f, -4, 4)"
   ]
  },
  {
   "cell_type": "code",
   "execution_count": 217,
   "metadata": {},
   "outputs": [
    {
     "data": {
      "text/html": [
       "<img src=\"data:image/png;base64,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\" />"
      ]
     },
     "execution_count": 217,
     "metadata": {},
     "output_type": "execute_result"
    }
   ],
   "source": [
    "Xtest = -4:0.01:4\n",
    "plot(Xtest, f(Xtest), label = \"f\")\n",
    "plot!(Xtest, fhat(Xtest), label = \"fhat\")"
   ]
  },
  {
   "cell_type": "code",
   "execution_count": 221,
   "metadata": {},
   "outputs": [
    {
     "data": {
      "text/html": [
       "<img src=\"data:image/png;base64,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\" />"
      ]
     },
     "execution_count": 221,
     "metadata": {},
     "output_type": "execute_result"
    }
   ],
   "source": [
    "plot(Xtest, f(Xtest) - fhat(Xtest), label = \"error\")"
   ]
  },
  {
   "cell_type": "markdown",
   "metadata": {},
   "source": [
    "The approximation is relatively good!"
   ]
  },
  {
   "cell_type": "code",
   "execution_count": 229,
   "metadata": {},
   "outputs": [
    {
     "data": {
      "text/html": [
       "<img src=\"data:image/png;base64,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\" />"
      ]
     },
     "execution_count": 229,
     "metadata": {},
     "output_type": "execute_result"
    }
   ],
   "source": [
    "plot(20:40, [begin \n",
    "        fhat = chebfit(f, -4, 4, n); \n",
    "        maximum(f(Xtest) - fhat(Xtest))\n",
    "            end for n in 20:40], label=\"maximal error within domain\")"
   ]
  },
  {
   "cell_type": "markdown",
   "metadata": {},
   "source": [
    "The function approximation gets better and better with an increased number of polynomials!"
   ]
  },
  {
   "cell_type": "code",
   "execution_count": null,
   "metadata": {
    "collapsed": true
   },
   "outputs": [],
   "source": []
  }
 ],
 "metadata": {
  "kernelspec": {
   "display_name": "Julia 0.6.0",
   "language": "julia",
   "name": "julia-0.6"
  },
  "language_info": {
   "file_extension": ".jl",
   "mimetype": "application/julia",
   "name": "julia",
   "version": "0.6.0"
  }
 },
 "nbformat": 4,
 "nbformat_minor": 2
}
