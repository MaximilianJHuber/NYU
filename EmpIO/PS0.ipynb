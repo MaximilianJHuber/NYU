{
 "cells": [
  {
   "cell_type": "markdown",
   "metadata": {},
   "source": [
    "# Empirical IO PS 0"
   ]
  },
  {
   "cell_type": "markdown",
   "metadata": {},
   "source": [
    "## Part 0: Logit Inclusive Value"
   ]
  },
  {
   "cell_type": "code",
   "execution_count": 8,
   "metadata": {},
   "outputs": [
    {
     "name": "stderr",
     "output_type": "stream",
     "text": [
      "\u001b[1m\u001b[33mWARNING: \u001b[39m\u001b[22m\u001b[33mNo working GUI backend found for matplotlib\u001b[39m\n"
     ]
    }
   ],
   "source": [
    "using Plots; pyplot();"
   ]
  },
  {
   "cell_type": "code",
   "execution_count": 1,
   "metadata": {},
   "outputs": [
    {
     "data": {
      "text/plain": [
       "IV (generic function with 1 method)"
      ]
     },
     "execution_count": 1,
     "metadata": {},
     "output_type": "execute_result"
    }
   ],
   "source": [
    "function IV(x)\n",
    "    - log(sum(exp.(x)))\n",
    "end"
   ]
  },
  {
   "cell_type": "code",
   "execution_count": 17,
   "metadata": {},
   "outputs": [
    {
     "data": {
      "text/plain": [
       "10-element Array{Float64,1}:\n",
       " -690.0  \n",
       " -693.333\n",
       " -696.667\n",
       " -700.0  \n",
       " -703.333\n",
       " -706.667\n",
       " -Inf    \n",
       " -Inf    \n",
       " -Inf    \n",
       " -Inf    "
      ]
     },
     "execution_count": 17,
     "metadata": {},
     "output_type": "execute_result"
    }
   ],
   "source": [
    "[IV(x) for x in linspace(690, 720, 10)]"
   ]
  },
  {
   "cell_type": "markdown",
   "metadata": {},
   "source": [
    "$$ -\\log\\Big(\\sum_{i=1}^N \\exp(x_i)\\Big) = -\\log\\Big(\\sum_{i=1}^N \\exp(x_i - m + m)\\Big) = -\\log\\Big(\\sum_{i=1}^N \\exp(x_i - m) * \\exp(m)\\Big) = -\\log\\Big(\\sum_{i=1}^N \\exp(x_i - m) \\Big) - m$$ \n"
   ]
  },
  {
   "cell_type": "code",
   "execution_count": 68,
   "metadata": {},
   "outputs": [
    {
     "data": {
      "text/plain": [
       "IV2 (generic function with 1 method)"
      ]
     },
     "execution_count": 68,
     "metadata": {},
     "output_type": "execute_result"
    }
   ],
   "source": [
    "function IV2(x)\n",
    "    m = maximum(x)\n",
    "    - log(sum(exp.(x .- m))) - m\n",
    "end"
   ]
  },
  {
   "cell_type": "code",
   "execution_count": 70,
   "metadata": {},
   "outputs": [
    {
     "data": {
      "text/plain": [
       "-1000.0"
      ]
     },
     "execution_count": 70,
     "metadata": {},
     "output_type": "execute_result"
    }
   ],
   "source": [
    "IV2([1000, 2])"
   ]
  },
  {
   "cell_type": "markdown",
   "metadata": {},
   "source": [
    "At least it is not infinity, but the loss of significance (https://en.wikipedia.org/wiki/Loss_of_significance) acts up."
   ]
  },
  {
   "cell_type": "markdown",
   "metadata": {},
   "source": [
    "## Part 1: Markov Chains\n",
    "\n",
    "The stationary distribution, $\\pi^*$ of an ergodic MC is uniquely given by:\n",
    "$$\\pi^* = \\pi^* P \\implies \\pi^* * (I - P) = 0$$\n",
    "I.e. the left eigenvector of $P'$ corresponding to the eigenvalue one."
   ]
  },
  {
   "cell_type": "code",
   "execution_count": 47,
   "metadata": {},
   "outputs": [
    {
     "data": {
      "text/plain": [
       "(Complex{Float64}[1.0+0.0im, -0.05+0.239792im, -0.05-0.239792im], Complex{Float64}[-0.520483+0.0im 0.666667+0.0im 0.666667-0.0im; -0.40482+0.0im -0.416667-0.399653im -0.416667+0.399653im; -0.751809+0.0im -0.25+0.399653im -0.25-0.399653im])"
      ]
     },
     "execution_count": 47,
     "metadata": {},
     "output_type": "execute_result"
    }
   ],
   "source": [
    "P = [0.2 0.4 0.4; 0.1 0.3 0.6; 0.5 0.1 0.4]\n"
   ]
  },
  {
   "cell_type": "code",
   "execution_count": 64,
   "metadata": {
    "scrolled": true
   },
   "outputs": [
    {
     "data": {
      "text/plain": [
       "stationary (generic function with 1 method)"
      ]
     },
     "execution_count": 64,
     "metadata": {},
     "output_type": "execute_result"
    }
   ],
   "source": [
    "function stationary(P)\n",
    "    F = eig(P')    \n",
    "    pos = F[1] .≈ Complex(1)\n",
    "    \n",
    "    if sum(pos) > 1 throw(\"The eigenvalue one has a algebraic multiplicity of higher than one!\")\n",
    "        elseif sum(pos) < 1 throw(\"The eigenvalue one has a algebraic multiplicity of zero!\")\n",
    "    end\n",
    "            \n",
    "    πstar = convert(Array{Float64}, F[2][:, pos])\n",
    "    πstar = (πstar / sum(πstar))\n",
    "end"
   ]
  },
  {
   "cell_type": "code",
   "execution_count": 66,
   "metadata": {},
   "outputs": [
    {
     "data": {
      "text/plain": [
       "3×1 Array{Float64,2}:\n",
       " 0.310345\n",
       " 0.241379\n",
       " 0.448276"
      ]
     },
     "execution_count": 66,
     "metadata": {},
     "output_type": "execute_result"
    }
   ],
   "source": [
    "πstar = stationary(P)"
   ]
  },
  {
   "cell_type": "code",
   "execution_count": 67,
   "metadata": {},
   "outputs": [
    {
     "data": {
      "text/plain": [
       "1×3 Array{Float64,2}:\n",
       " 1.66533e-16  0.0  -1.66533e-16"
      ]
     },
     "execution_count": 67,
     "metadata": {},
     "output_type": "execute_result"
    }
   ],
   "source": [
    "πstar' * P - πstar'"
   ]
  },
  {
   "cell_type": "markdown",
   "metadata": {},
   "source": [
    "This is the stationary distribution.\n",
    "## Part 2: Numerical Integration\n",
    "I use the package \"FastGaussQuadrature\" for the Gauss-Hermite and \"Cubature\" for adaptive quadrature."
   ]
  },
  {
   "cell_type": "code",
   "execution_count": 20,
   "metadata": {},
   "outputs": [],
   "source": [
    "using FastGaussQuadrature\n",
    "using Distributions\n",
    "using Cubature"
   ]
  },
  {
   "cell_type": "markdown",
   "metadata": {},
   "source": [
    "### 1"
   ]
  },
  {
   "cell_type": "code",
   "execution_count": 21,
   "metadata": {},
   "outputs": [
    {
     "data": {
      "text/plain": [
       "p (generic function with 1 method)"
      ]
     },
     "execution_count": 21,
     "metadata": {},
     "output_type": "execute_result"
    }
   ],
   "source": [
    "function p(β)\n",
    "    exp(β * 0.5) / (1 + exp(β * 0.5))\n",
    "end"
   ]
  },
  {
   "cell_type": "markdown",
   "metadata": {},
   "source": [
    "### 2\n",
    "https://github.com/stevengj/cubature/blob/master/README.md#infinite-intervals"
   ]
  },
  {
   "cell_type": "code",
   "execution_count": 35,
   "metadata": {},
   "outputs": [
    {
     "data": {
      "text/plain": [
       "p_known (generic function with 1 method)"
      ]
     },
     "execution_count": 35,
     "metadata": {},
     "output_type": "execute_result"
    }
   ],
   "source": [
    "function p_known(t)\n",
    "    β = t ./ (1 - t .^ 2)\n",
    "    exp.(β * 0.5) ./ (1 + exp.(β * 0.5)) .* pdf(Normal(0.5, 2), β) .* (1 + t .^ 2) ./ (1 - t .^ 2) .^ 2\n",
    "end"
   ]
  },
  {
   "cell_type": "code",
   "execution_count": null,
   "metadata": {
    "collapsed": true
   },
   "outputs": [],
   "source": [
    "hquadrature(p_known, -1, 1, abstol=1e-8)"
   ]
  },
  {
   "cell_type": "markdown",
   "metadata": {},
   "source": [
    "I also use a very precise Gauss-Hermite quadrature:"
   ]
  },
  {
   "cell_type": "code",
   "execution_count": 47,
   "metadata": {},
   "outputs": [
    {
     "data": {
      "text/plain": [
       "0.5559391628434668"
      ]
     },
     "execution_count": 47,
     "metadata": {},
     "output_type": "execute_result"
    }
   ],
   "source": [
    "1/sqrt(π) * (gausshermite(100000)[2]' * p.(sqrt(2) * sqrt(2) * gausshermite(100000)[1] + 0.5))"
   ]
  },
  {
   "cell_type": "markdown",
   "metadata": {},
   "source": [
    "### 3"
   ]
  },
  {
   "cell_type": "code",
   "execution_count": 238,
   "metadata": {
    "scrolled": true
   },
   "outputs": [
    {
     "data": {
      "text/plain": [
       "3-element Array{Float64,1}:\n",
       " 0.619935\n",
       " 0.549736\n",
       " 0.553085"
      ]
     },
     "execution_count": 238,
     "metadata": {},
     "output_type": "execute_result"
    }
   ],
   "source": [
    "[mean(p.(rand(Normal(0.5, 2), n))) for n in [20, 400, 1000]]"
   ]
  },
  {
   "cell_type": "markdown",
   "metadata": {},
   "source": [
    "### 4"
   ]
  },
  {
   "cell_type": "markdown",
   "metadata": {},
   "source": [
    "I follow https://en.wikipedia.org/wiki/Gauss%E2%80%93Hermite_quadrature#Example_with_change_of_variable for the non-standard normally distributed $\\beta$."
   ]
  },
  {
   "cell_type": "code",
   "execution_count": 189,
   "metadata": {},
   "outputs": [
    {
     "data": {
      "text/plain": [
       "5-element Array{Float64,1}:\n",
       " 0.555916\n",
       " 0.555944\n",
       " 0.555939\n",
       " 0.555939\n",
       " 0.555939"
      ]
     },
     "execution_count": 189,
     "metadata": {},
     "output_type": "execute_result"
    }
   ],
   "source": [
    "[1/sqrt(π) * (gausshermite(n)[2]' * p.(sqrt(2) * sqrt(2) * gausshermite(n)[1] + 0.5)) for n in [4, 5, 7, 8, 12]]"
   ]
  },
  {
   "cell_type": "markdown",
   "metadata": {},
   "source": [
    "### 5\n",
    "The results are similar, but the Gauss-Hermite quadrature works already with very few points.\n",
    "### 6"
   ]
  },
  {
   "cell_type": "code",
   "execution_count": 244,
   "metadata": {},
   "outputs": [
    {
     "data": {
      "text/plain": [
       "p_multi (generic function with 1 method)"
      ]
     },
     "execution_count": 244,
     "metadata": {},
     "output_type": "execute_result"
    }
   ],
   "source": [
    "function p_multi(β)\n",
    "    exp(β * [0.5, 1]) / (1 + exp(β * [0.5, 1]))\n",
    "end"
   ]
  },
  {
   "cell_type": "code",
   "execution_count": 54,
   "metadata": {},
   "outputs": [
    {
     "name": "stderr",
     "output_type": "stream",
     "text": [
      "WARNING: imported binding for nodes overwritten in module Main\n"
     ]
    },
    {
     "data": {
      "text/html": [
       "0.5559391582008272"
      ],
      "text/plain": [
       "0.5559391582008272"
      ]
     },
     "execution_count": 54,
     "metadata": {},
     "output_type": "execute_result"
    }
   ],
   "source": [
    "nodes, weights = gausshermite(10)\n",
    "1/sqrt(π) * (weights' * p.(sqrt(2) * sqrt(2) * nodes + 0.5))"
   ]
  },
  {
   "cell_type": "code",
   "execution_count": null,
   "metadata": {
    "collapsed": true
   },
   "outputs": [],
   "source": [
    "p.(sqrt(2) * sqrt(2) * nodes + 0.5, )"
   ]
  },
  {
   "cell_type": "markdown",
   "metadata": {},
   "source": [
    "### 7 "
   ]
  },
  {
   "cell_type": "code",
   "execution_count": 81,
   "metadata": {},
   "outputs": [
    {
     "data": {
      "text/plain": [
       "binomiallogitmixture (generic function with 1 method)"
      ]
     },
     "execution_count": 81,
     "metadata": {},
     "output_type": "execute_result"
    }
   ],
   "source": [
    "using BasisMatrices\n",
    "\n",
    "function p(β, x)\n",
    "    exp.(β * x) / (1 + exp.(β * x))\n",
    "end\n",
    "\n",
    "function binomiallogitmixture(X)\n",
    "    nodes, weights = gausshermite(12)\n",
    "    1/sqrt(π) * (weights' * reshape(mapslices(x -> p(x[1], x[2]), \n",
    "                gridmake(sqrt(2) * sqrt(2) * nodes + 0.5, X), 2), length(nodes), length(X)))'\n",
    "end"
   ]
  },
  {
   "cell_type": "code",
   "execution_count": 82,
   "metadata": {},
   "outputs": [
    {
     "data": {
      "text/plain": [
       "2-element Array{Float64,1}:\n",
       " 0.589948\n",
       " 0.617203"
      ]
     },
     "execution_count": 82,
     "metadata": {},
     "output_type": "execute_result"
    }
   ],
   "source": [
    "binomiallogitmixture([1, 2.])"
   ]
  },
  {
   "cell_type": "markdown",
   "metadata": {},
   "source": [
    "## Part 3: Function Approximation"
   ]
  },
  {
   "cell_type": "code",
   "execution_count": null,
   "metadata": {
    "collapsed": true
   },
   "outputs": [],
   "source": [
    "X = linspace(-4, 4, 20)"
   ]
  }
 ],
 "metadata": {
  "kernelspec": {
   "display_name": "Julia 0.6.0",
   "language": "julia",
   "name": "julia-0.6"
  },
  "language_info": {
   "file_extension": ".jl",
   "mimetype": "application/julia",
   "name": "julia",
   "version": "0.6.0"
  }
 },
 "nbformat": 4,
 "nbformat_minor": 2
}
