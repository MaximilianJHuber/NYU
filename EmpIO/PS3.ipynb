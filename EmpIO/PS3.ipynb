{
 "cells": [
  {
   "cell_type": "markdown",
   "metadata": {},
   "source": [
    "### Experimental:\n",
    "Let me try Dube Fox Su (2009):\n",
    "$$s_{jt}=\\int_{0}^{\\infty}\\frac{exp\\big(x'_{jt}\\beta_{t}-\\frac{1}{y_{i}}p_{jt}+\\xi_{jt}\\big)}{1+\\sum_{k}exp\\big(x'_{jt}\\beta_{t}-\\frac{1}{y_{i}}p_{jt}+\\xi_{jt}\\big)}\\frac{1}{y_{i}\\sigma_{y}\\sqrt{2\\pi}}\\exp\\Big(-\\frac{(\\log y_{i}-\\mu_{y})^{2}}{2\\sigma_{y}^{2}}\\Big)dy_{i}=\n",
    "$$\n",
    "$$s_{jt}=\\int_{-\\infty}^{\\infty}\\frac{exp\\big(x'_{jt}\\beta_{t}-\\frac{1}{\\exp e_{i}}p_{jt}+\\xi_{jt}\\big)}{1+\\sum_{k}exp\\big(x'_{jt}\\beta_{t}-\\frac{1}{\\exp e_{i}}p_{jt}+\\xi_{jt}\\big)}\\frac{1}{\\sigma_{y}\\sqrt{2\\pi}}\\exp\\Big(-\\frac{(e_{i}-\\mu_{y})^{2}}{2\\sigma_{y}^{2}}\\Big)de_{i}=\n",
    "$$\n",
    "$$s_{jt}=\\int_{-\\infty}^{\\infty}\\frac{1}{\\sqrt\\pi}\\frac{exp\\big(x'_{jt}\\beta_{t}-\\exp (-\\mu_{y}-\\sqrt{2}\\sigma_{y}e_{i}) p_{jt}+\\xi_{jt}\\big)}{1+\\sum_{k}exp\\big(x'_{jt}\\beta_{t}-\\exp (-\\mu_{y}-\\sqrt{2}\\sigma_{y}e_{i})p_{jt}+\\xi_{jt}\\big)}\\phi(e_i)de_{i}=\n",
    "$$"
   ]
  },
  {
   "cell_type": "code",
   "execution_count": null,
   "metadata": {
    "collapsed": true
   },
   "outputs": [],
   "source": [
    "year = 1990\n",
    "\n",
    "w = convert(Array{Float64}, data[data[:year] .== year, [:share, :weight, :hp, :ac, :price]])\n",
    "z = convert(Array{Float64}, data[data[:year] .== year, [:weight, :hp, :ac, :comp_weight, :comp_hp, :comp_ac,\n",
    "                                                                      :firm_weight, :firm_hp, :firm_ac]]);"
   ]
  },
  {
   "cell_type": "code",
   "execution_count": null,
   "metadata": {
    "collapsed": true
   },
   "outputs": [],
   "source": [
    "using NLopt\n",
    "using ForwardDiff\n",
    "\n",
    "n = 5 + size(w)[1]\n",
    "\n",
    "opt = Opt(:AUGLAG, n)\n",
    "\n",
    "function f(ζ::Vector, grad::Vector)\n",
    "    if length(grad) > 0\n",
    "        grad[:] = 1/(size(ξ)^2) * vcat(zeros(5), 2 .* ζ[6:end]' * z * z')\n",
    "    end\n",
    "        \n",
    "    return (1/size(ξ) .* z' * ζ[6:end])' * (1/size(ξ) .* z' * ζ[6:end])\n",
    "end\n",
    "\n",
    "min_objective!(opt, f)\n",
    "\n",
    "function c(result::Vector, ζ::Vector, grad::Matrix)\n",
    "    \n",
    "    h(e, ζ) = 1/(√π) .* exp.(w[:, 2:4]' * ζ[1:3] .- exp(-ζ[4] -(√2) * ζ[5] * e) * w[:, 5] + ζ[6:end]) / \n",
    "            (1 + sum(exp.(w[:, 2:4]' * ζ[1:3] .- exp(-ζ[4] -(√2) * ζ[5] * e) * w[:, 5] + ζ[6:end])))\n",
    "    \n",
    "    (e, q) = gausshermite(30)\n",
    "    \n",
    "    h_wrapper(e) = return ζ -> -log.(hcat(h(e, ζ)...) * q)\n",
    "    \n",
    "    if length(grad) > 0\n",
    "        ForwardDiff.jacobian(h_wrapper(e))(ζ)\n",
    "    end\n",
    "        \n",
    "    result[:] = log.(w[:, 1]) - log.(hcat(h.(e)...) * q)\n",
    "end\n",
    "\n",
    "equality_constraint!(opt, c, 1e-6 * ones(n))\n",
    "#maxtime!(opt, 60.)\n",
    "\n",
    "optimize(opt, zeros(n))"
   ]
  },
  {
   "cell_type": "code",
   "execution_count": null,
   "metadata": {
    "collapsed": true
   },
   "outputs": [],
   "source": [
    "f(x) = x[1] * x[2]"
   ]
  }
 ],
 "metadata": {
  "kernelspec": {
   "display_name": "Julia 0.6.0",
   "language": "julia",
   "name": "julia-0.6"
  },
  "language_info": {
   "file_extension": ".jl",
   "mimetype": "application/julia",
   "name": "julia",
   "version": "0.6.0"
  }
 },
 "nbformat": 4,
 "nbformat_minor": 2
}
