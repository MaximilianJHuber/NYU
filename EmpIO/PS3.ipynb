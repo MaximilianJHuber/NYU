{
 "cells": [
  {
   "cell_type": "markdown",
   "metadata": {},
   "source": [
    "# PS 3\n",
    "Maximilian Huber\n",
    "\n",
    "This code is stored at: https://github.com/MaximilianJHuber/NYU/blob/master/EmpIO/PS3.ipynb.\n",
    "## Part 1\n",
    "The package StatsFuns implements such a function:"
   ]
  },
  {
   "cell_type": "code",
   "execution_count": 1,
   "metadata": {},
   "outputs": [
    {
     "data": {
      "text/plain": [
       "Plots.PyPlotBackend()"
      ]
     },
     "execution_count": 1,
     "metadata": {},
     "output_type": "execute_result"
    }
   ],
   "source": [
    "using StatsFuns\n",
    "using StatsBase\n",
    "using Parameters\n",
    "using Optim\n",
    "using Plots; pyplot()"
   ]
  },
  {
   "cell_type": "code",
   "execution_count": null,
   "metadata": {},
   "outputs": [],
   "source": [
    "adf"
   ]
  },
  {
   "cell_type": "markdown",
   "metadata": {},
   "source": []
  },
  {
   "cell_type": "code",
   "execution_count": 2,
   "metadata": {
    "scrolled": true
   },
   "outputs": [
    {
     "name": "stdout",
     "output_type": "stream",
     "text": [
      "# common facilities\n",
      "\n",
      "# scalar functions\n",
      "\n",
      "xlogx(x::Real) = x > zero(x) ? x * log(x) : zero(log(x))\n",
      "\n",
      "xlogy{T<:Real}(x::T, y::T) = x > zero(T) ? x * log(y) : zero(log(x))\n",
      "xlogy(x::Real, y::Real) = xlogy(promote(x, y)...)\n",
      "\n",
      "# logistic: 1 / (1 + exp(-x))\n",
      "#\n",
      "logistic(x::Real) = one(x) / (one(x) + exp(-x))\n",
      "\n",
      "# logit: log(x / (1 - x))\n",
      "#\n",
      "logit(x::Real) = log(x / (one(x) - x))\n",
      "\n",
      "# log1psq: log(1+x^2)\n",
      "#\n",
      "log1psq(x::Real) = log1p(abs2(x))\n",
      "log1psq(x::Union{Float32,Float64}) = (ax = abs(x); ax < maxintfloat(x) ? log1p(abs2(ax)) : 2 * log(ax))\n",
      "\n",
      "# log1pexp: log(1+exp(x))\n",
      "#\n",
      "log1pexp(x::Real) = x < 18.0 ? log1p(exp(x)) : x < 33.3 ? x + exp(-x) : oftype(exp(-x), x)\n",
      "log1pexp(x::Float32) = x < 9.0f0 ? log1p(exp(x)) : x < 16.0f0 ? x + exp(-x) : oftype(exp(-x), x)\n",
      "\n",
      "# log1mexp: log(1 - exp(x))\n",
      "#\n",
      "# See:\n",
      "#   Martin Maechler (2012) \"Accurately Computing log(1 − exp(− |a|))\"\n",
      "#   http://cran.r-project.org/web/packages/Rmpfr/vignettes/log1mexp-note.pdf\n",
      "#\n",
      "# Note: different than Maechler (2012), no negation inside parantheses\n",
      "log1mexp(x::Real) = x < loghalf ? log1p(-exp(x)) : log(-expm1(x))\n",
      "\n",
      "# log2mexp: log(2 - exp(x))\n",
      "#\n",
      "log2mexp(x::Real) = log1p(-expm1(x))\n",
      "\n",
      "# logexpm1: log(exp(x) - 1)\n",
      "#\n",
      "logexpm1(x::Real) = x <= 18.0 ? log(expm1(x)) : x <= 33.3 ? x - exp(-x) : oftype(exp(-x), x)\n",
      "logexpm1(x::Float32) = x <= 9f0 ? log(expm1(x)) : x <= 16f0 ? x - exp(-x) : oftype(exp(-x), x)\n",
      "\n",
      "Compat.@dep_vectorize_1arg Real xlogx\n",
      "Compat.@dep_vectorize_2arg Real xlogy\n",
      "Compat.@dep_vectorize_1arg Real logistic\n",
      "Compat.@dep_vectorize_1arg Real logit\n",
      "Compat.@dep_vectorize_1arg Real log1psq\n",
      "Compat.@dep_vectorize_1arg Real log1pexp\n",
      "Compat.@dep_vectorize_1arg Real log1mexp\n",
      "Compat.@dep_vectorize_1arg Real log2mexp\n",
      "Compat.@dep_vectorize_1arg Real logexpm1\n",
      "\n",
      "const softplus = log1pexp\n",
      "const invsoftplus = logexpm1\n",
      "\n",
      "# log1pmx: log(1 + x) - x\n",
      "#\n",
      "# use naive calculation or range reduction outside kernel range.\n",
      "# accurate ~2ulps for all x\n",
      "function log1pmx(x::Float64)\n",
      "    if !(-0.7 < x < 0.9)\n",
      "        return log1p(x) - x\n",
      "    elseif x > 0.315\n",
      "        u = (x-0.5)/1.5\n",
      "        return _log1pmx_ker(u) - 9.45348918918356180e-2 - 0.5*u\n",
      "    elseif x > -0.227\n",
      "        return _log1pmx_ker(x)\n",
      "    elseif x > -0.4\n",
      "        u = (x+0.25)/0.75\n",
      "        return _log1pmx_ker(u) - 3.76820724517809274e-2 + 0.25*u\n",
      "    elseif x > -0.6\n",
      "        u = (x+0.5)*2.0\n",
      "        return _log1pmx_ker(u) - 1.93147180559945309e-1 + 0.5*u\n",
      "    else\n",
      "        u = (x+0.625)/0.375\n",
      "        return _log1pmx_ker(u) - 3.55829253011726237e-1 + 0.625*u\n",
      "    end\n",
      "end\n",
      "\n",
      "# logmxp1: log(x) - x + 1\n",
      "#\n",
      "function logmxp1(x::Float64)\n",
      "    if x <= 0.3\n",
      "        return (log(x) + 1.0) - x\n",
      "    elseif x <= 0.4\n",
      "        u = (x-0.375)/0.375\n",
      "        return _log1pmx_ker(u) - 3.55829253011726237e-1 + 0.625*u\n",
      "    elseif x <= 0.6\n",
      "        u = 2.0*(x-0.5)\n",
      "        return _log1pmx_ker(u) - 1.93147180559945309e-1 + 0.5*u\n",
      "    else\n",
      "        return log1pmx(x - 1.0)\n",
      "    end\n",
      "end\n",
      "\n",
      "# The kernel of log1pmx\n",
      "# Accuracy within ~2ulps for -0.227 < x < 0.315\n",
      "function _log1pmx_ker(x::Float64)\n",
      "    r = x/(x+2.0)\n",
      "    t = r*r\n",
      "    w = @horner(t,\n",
      "                6.66666666666666667e-1, # 2/3\n",
      "                4.00000000000000000e-1, # 2/5\n",
      "                2.85714285714285714e-1, # 2/7\n",
      "                2.22222222222222222e-1, # 2/9\n",
      "                1.81818181818181818e-1, # 2/11\n",
      "                1.53846153846153846e-1, # 2/13\n",
      "                1.33333333333333333e-1, # 2/15\n",
      "                1.17647058823529412e-1) # 2/17\n",
      "    hxsq = 0.5*x*x\n",
      "    r*(hxsq+w*t)-hxsq\n",
      "end\n",
      "\n",
      "\n",
      "## logsumexp\n",
      "\n",
      "function logsumexp{T<:Real}(x::T, y::T)\n",
      "    x == y && abs(x) == Inf && return x\n",
      "    x > y ? x + log1p(exp(y - x)) : y + log1p(exp(x - y))\n",
      "end\n",
      "\n",
      "logsumexp(x::Real, y::Real) = logsumexp(promote(x, y)...)\n",
      "\n",
      "function logsumexp{T<:Real}(x::AbstractArray{T})\n",
      "    S = typeof(exp(zero(T)))    # because of 0.4.0\n",
      "    isempty(x) && return -S(Inf)\n",
      "    u = maximum(x)\n",
      "    abs(u) == Inf && return any(isnan, x) ? S(NaN) : u\n",
      "    s = zero(S)\n",
      "    for i = 1:length(x)\n",
      "        @inbounds s += exp(x[i] - u)\n",
      "    end\n",
      "    log(s) + u\n",
      "end\n",
      "\n",
      "## softmax\n",
      "\n",
      "function softmax!{R<:AbstractFloat,T<:Real}(r::AbstractArray{R}, x::AbstractArray{T})\n",
      "    n = length(x)\n",
      "    length(r) == n || throw(DimensionMismatch(\"Inconsistent array lengths.\"))\n",
      "    u = maximum(x)\n",
      "    s = 0.\n",
      "    @inbounds for i = 1:n\n",
      "        s += (r[i] = exp(x[i] - u))\n",
      "    end\n",
      "    invs = convert(R, inv(s))\n",
      "    @inbounds for i = 1:n\n",
      "        r[i] *= invs\n",
      "    end\n",
      "    r\n",
      "end\n",
      "\n",
      "softmax!{T<:AbstractFloat}(x::AbstractArray{T}) = softmax!(x, x)\n",
      "softmax{T<:Real}(x::AbstractArray{T}) = softmax!(Array{Float64}(size(x)), x)\n"
     ]
    }
   ],
   "source": [
    "@less logsumexp([1., 2.]) "
   ]
  },
  {
   "cell_type": "code",
   "execution_count": 3,
   "metadata": {
    "scrolled": true
   },
   "outputs": [
    {
     "data": {
      "text/html": [
       "<table class=\"data-frame\"><thead><tr><th></th><th>ID</th><th>x_t</th><th>d_t</th></tr></thead><tbody><tr><th>1</th><td>1</td><td>0.0</td><td>0</td></tr><tr><th>2</th><td>2</td><td>0.09675</td><td>0</td></tr><tr><th>3</th><td>3</td><td>1.1574</td><td>0</td></tr><tr><th>4</th><td>4</td><td>3.1956</td><td>0</td></tr><tr><th>5</th><td>5</td><td>4.9654</td><td>1</td></tr><tr><th>6</th><td>6</td><td>0.72995</td><td>0</td></tr></tbody></table>"
      ],
      "text/plain": [
       "6×3 DataFrames.DataFrame\n",
       "│ Row │ ID │ x_t     │ d_t │\n",
       "├─────┼────┼─────────┼─────┤\n",
       "│ 1   │ 1  │ 0.0     │ 0   │\n",
       "│ 2   │ 2  │ 0.09675 │ 0   │\n",
       "│ 3   │ 3  │ 1.1574  │ 0   │\n",
       "│ 4   │ 4  │ 3.1956  │ 0   │\n",
       "│ 5   │ 5  │ 4.9654  │ 1   │\n",
       "│ 6   │ 6  │ 0.72995 │ 0   │"
      ]
     },
     "execution_count": 3,
     "metadata": {},
     "output_type": "execute_result"
    }
   ],
   "source": [
    "using DataFrames\n",
    "using BasisMatrices\n",
    "\n",
    "data = readtable(\"rustdata1.csv\", header=true, separator=',')\n",
    "head(data)"
   ]
  },
  {
   "cell_type": "markdown",
   "metadata": {},
   "source": [
    "The Rust (1987) problem is:\n",
    "$$\\log\\mathcal{L} = \\sum_t^{T}\\log\\mathbb{P}\\left.\\Big[i_t \\,\\middle|\\, x_t\\Big]\\right.$$\n",
    "where $\\theta = [\\theta_c, RC]$ and $\\theta_p$ is estimated outside of the ML estimation.\n"
   ]
  },
  {
   "cell_type": "markdown",
   "metadata": {},
   "source": [
    "The expected continuation value given today's mileage and replacement decision, $EV\\Big(x_t, i_t\\Big)$, can be found solving for a fixed point, see (4.14) from Rust (1987):\n",
    "\n",
    "$$EV\\Big(x_t, i_t\\Big) = \\int \\log\\Big(\\sum_{i'=0,1}\\exp\\Big(u(x',i') + \\beta \\cdot EV\\Big(x', i'\\Big)\\Big)\\Big) p(x'|\\theta_p, x_t, i_t)$$"
   ]
  },
  {
   "cell_type": "markdown",
   "metadata": {},
   "source": [
    "With $EV\\Big(x_t, i_t\\Big)$, I can find:\n",
    "$$\\tilde{V}\\Big(x_t, i_t\\Big)=\\left\\{\\begin{matrix}\n",
    "-c(0) -RC + \\beta EV\\Big(x_t, 1\\Big) & \\text{if } i_t = 1 \\\\ \n",
    "-c(x_t) + \\beta EV\\Big(x_t, 0\\Big) & \\text{if } i_t = 0\n",
    "\\end{matrix}\\right.$$\n",
    "And using (4.13) from Rust (1987):\n",
    "$$\\mathbb{P}\\left.\\Big[i_t \\,\\middle|\\, x_t\\Big]\\right. = \\frac{\\exp\\Big(\\tilde{V}\\Big(x_t, i_t\\Big)\\Big)}{\\exp\\Big(\\tilde{V}\\Big(x_t, 0\\Big)\\Big)+\\exp\\Big(\\tilde{V}\\Big(x_t, 1\\Big)\\Big)}$$\n",
    "This probability takes $\\theta_c$, $RC$, $\\beta$ and $\\theta_p$ as given."
   ]
  },
  {
   "cell_type": "markdown",
   "metadata": {},
   "source": [
    "The derivatives are:\n",
    "$$\\frac{\\partial \\log\\mathbb{P}}{\\partial \\theta} = \\frac{1}{\\mathbb{P}}\\frac{\\partial \\mathbb{P}}{\\partial \\theta}$$\n",
    "$$\\frac{\\partial \\mathbb{P}}{\\partial \\theta}\\Big[x_t, i_t\\Big] = \\frac{\\exp\\Big(\\tilde{V}\\Big(x_t, 0\\Big)+\\tilde{V}\\Big(x_t, 1\\Big)\\Big)}{\\Big(\\exp\\Big(\\tilde{V}\\Big(x_t, 0\\Big)\\Big)+\\exp\\Big(\\tilde{V}\\Big(x_t, 1\\Big)\\Big)\\Big)^2}\\Big(\\frac{\\partial \\tilde{V}}{\\partial \\theta}\\Big(x_t, i_t\\Big)\\Big)-\\frac{\\partial \\tilde{V}}{\\partial \\theta}\\Big(x_t, 1-i_t\\Big)\\Big)\\Big)$$\n",
    "\n",
    "We could use the implicit function theorem to get the derivative of $EV$, but this will lead to a 200-row linear system of equations with one $dEV$ on the left-hand-side and ten $dEV$s on the right each. That I could solve to get $\\frac{\\partial EV}{\\partial \\theta_c}$.\n",
    "\n",
    "I am not going to do this. I solve the MPEC first and get a good guess for the NFXP and use Nelder-Mead (needs no derivative)."
   ]
  },
  {
   "cell_type": "markdown",
   "metadata": {},
   "source": [
    "## Part 2\n",
    "### 1.\n",
    "I collect all the not ML estimated values into a type. I take the first difference of mileage data and throw out all negative entries to find $\\theta_p$:"
   ]
  },
  {
   "cell_type": "code",
   "execution_count": 4,
   "metadata": {},
   "outputs": [
    {
     "data": {
      "text/plain": [
       "RustModel"
      ]
     },
     "execution_count": 4,
     "metadata": {},
     "output_type": "execute_result"
    }
   ],
   "source": [
    "@with_kw mutable struct RustModel\n",
    "    # deep model parameters\n",
    "    θp::Vector{Float64}\n",
    "    β::Float64\n",
    "    \n",
    "    # book-keeping\n",
    "    breaks::Vector{Float64}\n",
    "    grid_size::Int64\n",
    "    grid::Vector{Float64}\n",
    "    y::Vector{Float64}                 #possible increments in mileage\n",
    "    basis::BasisMatrices.Basis{1,Tuple{BasisMatrices.LinParams{Array{Float64,1}}}}\n",
    "    EV0::Vector{Float64}\n",
    "    EV1::Vector{Float64}\n",
    "\n",
    "    x::Vector{Float64}\n",
    "    i::Vector{Int64}\n",
    "end\n",
    "\n",
    "function RustModel(data::DataFrame)\n",
    "    \n",
    "    breaks = [0, 0.5, 1, 1.5, 2, 3]\n",
    "    changes = diff(data[:x_t])[diff(data[:x_t]) .> 0]\n",
    "    θp = [sum(breaks[i] .<= changes .< breaks[i+1]) for i in 1:length(breaks)-1]/length(changes)\n",
    "    \n",
    "    grid_size = 100\n",
    "    grid = collect(linspace(0, 15, grid_size))     #the grid is big enough for all the observations!\n",
    "    y = (breaks[2:end] .+ breaks[1:end-1])/2       #I take the midpoints of the intervals, \n",
    "                                                   #i.e. I assume uniform distribution within an interval\n",
    "    basis = Basis(LinParams(grid, 0))\n",
    "    \n",
    "    return RustModel(θp, 0.975, breaks, grid_size, grid, y, basis, zeros(grid_size), zeros(grid_size), convert(Array{Float64}, data[:x_t]), convert(Array{Int64}, data[:d_t]))\n",
    "end"
   ]
  },
  {
   "cell_type": "code",
   "execution_count": 5,
   "metadata": {},
   "outputs": [
    {
     "data": {
      "text/plain": [
       "RustModel\n",
       "  θp: Array{Float64}((5,)) [0.256868, 0.245879, 0.229396, 0.195055, 0.0728022]\n",
       "  β: Float64 0.975\n",
       "  breaks: Array{Float64}((6,)) [0.0, 0.5, 1.0, 1.5, 2.0, 3.0]\n",
       "  grid_size: Int64 100\n",
       "  grid: Array{Float64}((100,)) [0.0, 0.151515, 0.30303, 0.454545, 0.606061, 0.757576, 0.909091, 1.06061, 1.21212, 1.36364  …  13.6364, 13.7879, 13.9394, 14.0909, 14.2424, 14.3939, 14.5455, 14.697, 14.8485, 15.0]\n",
       "  y: Array{Float64}((5,)) [0.25, 0.75, 1.25, 1.75, 2.5]\n",
       "  basis: BasisMatrices.Basis{1,Tuple{BasisMatrices.LinParams{Array{Float64,1}}}}\n",
       "  EV0: Array{Float64}((100,)) [0.0, 0.0, 0.0, 0.0, 0.0, 0.0, 0.0, 0.0, 0.0, 0.0  …  0.0, 0.0, 0.0, 0.0, 0.0, 0.0, 0.0, 0.0, 0.0, 0.0]\n",
       "  EV1: Array{Float64}((100,)) [0.0, 0.0, 0.0, 0.0, 0.0, 0.0, 0.0, 0.0, 0.0, 0.0  …  0.0, 0.0, 0.0, 0.0, 0.0, 0.0, 0.0, 0.0, 0.0, 0.0]\n",
       "  x: Array{Float64}((1000,)) [0.0, 0.09675, 1.1574, 3.1956, 4.9654, 0.72995, 1.0019, 2.7135, 3.0876, 4.915  …  1.2539, 0.68476, 0.81895, 2.4645, 3.3241, 3.3862, 0.93309, 1.7654, 0.99437, 0.78175]\n",
       "  i: Array{Int64}((1000,)) [0, 0, 0, 0, 1, 0, 0, 0, 0, 1  …  1, 0, 0, 0, 0, 1, 0, 1, 1, 0]\n"
      ]
     },
     "execution_count": 5,
     "metadata": {},
     "output_type": "execute_result"
    }
   ],
   "source": [
    "model = RustModel(data)"
   ]
  },
  {
   "cell_type": "markdown",
   "metadata": {},
   "source": [
    "## NFXP"
   ]
  },
  {
   "cell_type": "markdown",
   "metadata": {},
   "source": [
    "### 2.\n"
   ]
  },
  {
   "cell_type": "code",
   "execution_count": 6,
   "metadata": {},
   "outputs": [
    {
     "data": {
      "text/plain": [
       "c (generic function with 1 method)"
      ]
     },
     "execution_count": 6,
     "metadata": {},
     "output_type": "execute_result"
    }
   ],
   "source": [
    "function c(x, θc)\n",
    "    θc[1] .* x + θc[2] .* x.^2\n",
    "end"
   ]
  },
  {
   "cell_type": "code",
   "execution_count": 7,
   "metadata": {},
   "outputs": [],
   "source": [
    "#todo newton\n",
    "function solve_fp!(θc, RC, model::RustModel)\n",
    "    @unpack θp, β, breaks, grid_size, grid, y, basis, EV0, EV1, x, i = model\n",
    "    \n",
    "    Ψ = BasisMatrix(basis, Expanded(), (grid .+ y')[:]).vals[1]\n",
    "    Φ = BasisMatrix(basis, Expanded(), (zeros(grid_size,length(y)) .+ y')[:]).vals[1]\n",
    "\n",
    "    oldEV0 = similar(EV0)\n",
    "    oldEV1 = similar(EV1)\n",
    "    error = 1.\n",
    "\n",
    "    while error > 1e-12\n",
    "\n",
    "        oldEV0 = copy(EV0)\n",
    "        oldEV1 = copy(EV1)\n",
    "\n",
    "        # no replace\n",
    "        EV0 = logsumexp.(-c(grid .+ y', θc) .+ β .* reshape(Ψ * oldEV0, grid_size, length(y)), \n",
    "            zeros(grid_size,length(y)) - RC .+ β .* reshape(Ψ * oldEV1, grid_size, length(y))\n",
    "            ) * θp\n",
    "\n",
    "        # replace\n",
    "        EV1 = logsumexp.(-c(zeros(grid_size,length(y)) .+ y', θc) .+ β .* reshape(Φ * oldEV0, grid_size, length(y)), \n",
    "            zeros(grid_size,length(y)) - RC .+ β .* reshape(Φ * oldEV1, grid_size, length(y))\n",
    "            ) * θp\n",
    "\n",
    "        error = maximum(abs.(vcat(EV0, EV1) .- vcat(oldEV0, oldEV1)))\n",
    "    end\n",
    "    \n",
    "    model.EV0 = EV0\n",
    "    model.EV1 = EV1\n",
    "    \n",
    "    return nothing\n",
    "end\n",
    "\n",
    "solve_fp!([1., 1/2], 100., RustModel(data));"
   ]
  },
  {
   "cell_type": "code",
   "execution_count": 8,
   "metadata": {
    "scrolled": true
   },
   "outputs": [
    {
     "name": "stdout",
     "output_type": "stream",
     "text": [
      "  0.097603 seconds (46.53 k allocations: 107.245 MiB, 18.42% gc time)\n"
     ]
    }
   ],
   "source": [
    "@time solve_fp!([1., 1/2], 10., model);"
   ]
  },
  {
   "cell_type": "markdown",
   "metadata": {},
   "source": [
    "### 3.\n",
    "I compute the CCP as in (4.13) from Rust (1987):"
   ]
  },
  {
   "cell_type": "code",
   "execution_count": 9,
   "metadata": {},
   "outputs": [
    {
     "data": {
      "text/plain": [
       "V (generic function with 1 method)"
      ]
     },
     "execution_count": 9,
     "metadata": {},
     "output_type": "execute_result"
    }
   ],
   "source": [
    "function V(x::Vector{Float64}, i::Vector{Int64}, θc, RC, model::RustModel)\n",
    "    ifelse.(i .== 1, \n",
    "        0 - RC + model.β * BasisMatrix(model.basis, Expanded(), x).vals[1] * model.EV1,\n",
    "        -c(x, θc) + model.β * BasisMatrix(model.basis, Expanded(), x).vals[1] * model.EV0)\n",
    "end"
   ]
  },
  {
   "cell_type": "code",
   "execution_count": 10,
   "metadata": {},
   "outputs": [
    {
     "data": {
      "text/plain": [
       "P (generic function with 1 method)"
      ]
     },
     "execution_count": 10,
     "metadata": {},
     "output_type": "execute_result"
    }
   ],
   "source": [
    "function P(θc, RC, model::RustModel)\n",
    "    exp.(V(model.x, model.i, θc, RC, model)) ./\n",
    "        (exp.(V(model.x, zeros(Int64, length(model.x)), θc, RC, model)) .+ \n",
    "        exp.(V(model.x, ones(Int64, length(model.x)), θc, RC, model)))\n",
    "end"
   ]
  },
  {
   "cell_type": "code",
   "execution_count": 11,
   "metadata": {},
   "outputs": [
    {
     "data": {
      "text/plain": [
       "L (generic function with 1 method)"
      ]
     },
     "execution_count": 11,
     "metadata": {},
     "output_type": "execute_result"
    }
   ],
   "source": [
    "function L(θ, model::RustModel)\n",
    "    \n",
    "    θc = θ[1:2]\n",
    "    RC = θ[3]\n",
    "    \n",
    "    solve_fp!(θc, RC, model)\n",
    "    \n",
    "    sum(log.(P(θc, RC, model)))\n",
    "end"
   ]
  },
  {
   "cell_type": "markdown",
   "metadata": {},
   "source": [
    "Let me start with a good guess (that actually came from the MPEC, because it worked better):"
   ]
  },
  {
   "cell_type": "code",
   "execution_count": 12,
   "metadata": {
    "scrolled": false
   },
   "outputs": [
    {
     "name": "stdout",
     "output_type": "stream",
     "text": [
      " 11.571107 seconds (5.23 M allocations: 11.161 GiB, 13.45% gc time)\n"
     ]
    },
    {
     "data": {
      "text/plain": [
       "Results of Optimization Algorithm\n",
       " * Algorithm: Nelder-Mead\n",
       " * Starting Point: [0.05,0.001,1.0]\n",
       " * Minimizer: [0.05455101880466138,0.0013391222716874073, ...]\n",
       " * Minimum: 6.237264e+02\n",
       " * Iterations: 72\n",
       " * Convergence: true\n",
       "   *  √(Σ(yᵢ-ȳ)²)/n < 1.0e-08: true\n",
       "   * Reached Maximum Number of Iterations: false\n",
       " * Objective Calls: 144"
      ]
     },
     "execution_count": 12,
     "metadata": {},
     "output_type": "execute_result"
    }
   ],
   "source": [
    "objective(θ) = -L(θ, model)\n",
    "objective([0.05, 0.001, 1.])\n",
    "@time result = optimize(objective, [0.05, 0.001, 1.], NelderMead())"
   ]
  },
  {
   "cell_type": "code",
   "execution_count": 13,
   "metadata": {},
   "outputs": [
    {
     "data": {
      "text/plain": [
       "3-element Array{Float64,1}:\n",
       " 0.054551  \n",
       " 0.00133912\n",
       " 1.15173   "
      ]
     },
     "execution_count": 13,
     "metadata": {},
     "output_type": "execute_result"
    }
   ],
   "source": [
    "NFXPθ = result.minimizer"
   ]
  },
  {
   "cell_type": "code",
   "execution_count": 14,
   "metadata": {},
   "outputs": [
    {
     "data": {
      "text/plain": [
       "100×2 Array{Float64,2}:\n",
       " 5.81879  5.81879\n",
       " 5.80089  5.81879\n",
       " 5.7832   5.81879\n",
       " 5.76574  5.81879\n",
       " 5.7485   5.81879\n",
       " 5.73147  5.81879\n",
       " 5.71466  5.81879\n",
       " 5.69806  5.81879\n",
       " 5.68167  5.81879\n",
       " 5.66548  5.81879\n",
       " 5.6495   5.81879\n",
       " 5.63372  5.81879\n",
       " 5.61814  5.81879\n",
       " ⋮               \n",
       " 4.87194  5.81879\n",
       " 4.8663   5.81879\n",
       " 4.86073  5.81879\n",
       " 4.85523  5.81879\n",
       " 4.8498   5.81879\n",
       " 4.84444  5.81879\n",
       " 4.83914  5.81879\n",
       " 4.8339   5.81879\n",
       " 4.82873  5.81879\n",
       " 4.82361  5.81879\n",
       " 4.81856  5.81879\n",
       " 4.81356  5.81879"
      ]
     },
     "execution_count": 14,
     "metadata": {},
     "output_type": "execute_result"
    }
   ],
   "source": [
    "solve_fp!(NFXPθ[1:2], NFXPθ[3], model)\n",
    "NFXPEV = hcat(model.EV0, model.EV1)"
   ]
  },
  {
   "cell_type": "markdown",
   "metadata": {},
   "source": [
    "## MPEC\n",
    "The MPEC formulation of the problem is done in JuMP, I use IpOpt as solver:"
   ]
  },
  {
   "cell_type": "code",
   "execution_count": 15,
   "metadata": {},
   "outputs": [],
   "source": [
    "using JuMP\n",
    "using Ipopt"
   ]
  },
  {
   "cell_type": "code",
   "execution_count": 16,
   "metadata": {},
   "outputs": [],
   "source": [
    "@unpack θp, β, breaks, grid_size, grid, y, basis, EV0, EV1, x, i = model\n",
    "\n",
    "m = Model(solver=IpoptSolver(print_level=5));"
   ]
  },
  {
   "cell_type": "markdown",
   "metadata": {},
   "source": [
    "I have three kinds of variables:"
   ]
  },
  {
   "cell_type": "code",
   "execution_count": 17,
   "metadata": {},
   "outputs": [
    {
     "data": {
      "text/latex": [
       "$$ θc_{i} \\geq 0 \\quad\\forall i \\in \\{1,2\\} $$"
      ],
      "text/plain": [
       "2-element Array{JuMP.Variable,1}:\n",
       " θc[1]\n",
       " θc[2]"
      ]
     },
     "execution_count": 17,
     "metadata": {},
     "output_type": "execute_result"
    }
   ],
   "source": [
    "@variable(m, θc[1:2] >= 0, start = 1)"
   ]
  },
  {
   "cell_type": "code",
   "execution_count": 18,
   "metadata": {},
   "outputs": [
    {
     "data": {
      "text/latex": [
       "$$ RC $$"
      ],
      "text/plain": [
       "RC"
      ]
     },
     "execution_count": 18,
     "metadata": {},
     "output_type": "execute_result"
    }
   ],
   "source": [
    "@variable(m, RC >= 0, start = 10)"
   ]
  },
  {
   "cell_type": "code",
   "execution_count": 19,
   "metadata": {},
   "outputs": [
    {
     "data": {
      "text/latex": [
       "$$ EV_{i,j} \\quad\\forall i \\in \\{1,2,\\dots,99,100\\}, j \\in \\{0,1\\} $$"
      ],
      "text/plain": [
       "EV[i,j] ∀ i ∈ {1,2,…,99,100}, j ∈ {0,1}"
      ]
     },
     "execution_count": 19,
     "metadata": {},
     "output_type": "execute_result"
    }
   ],
   "source": [
    "@variable(m, EV[1:grid_size, 0:1])"
   ]
  },
  {
   "cell_type": "markdown",
   "metadata": {},
   "source": [
    "I code up the probability of every observation $j$ by linearly interpolating between the closest elements of $EV$. The grid for the $x$-axis has been chosen, such that all observations lie in the interior."
   ]
  },
  {
   "cell_type": "code",
   "execution_count": 20,
   "metadata": {},
   "outputs": [],
   "source": [
    "right = zeros(Int64, length(x))\n",
    "left = zeros(Int64, length(x))\n",
    "rightweight = zeros(length(x))\n",
    "\n",
    "for k in 2:length(x)\n",
    "    right[k] = findfirst(x[k] - grid .<= 0)\n",
    "    left[k] = right[k] - 1\n",
    "    rightweight[k] = (x[k] - grid[left[k]])/(grid[right[k]] - grid[left[k]])\n",
    "end\n",
    "\n",
    "ProbExpr = @NLexpression(m, Prob[k=2:length(x)], exp(ifelse(i[k] == 0, -θc[1]*x[k] -θc[2]*x[k]^2, 0 - RC) + \n",
    "        β * ((1-rightweight[k]) * EV[left[k], i[k]] + rightweight[k] * EV[right[k], i[k]])) / (\n",
    "        exp(-θc[1]*x[k] -θc[2]*x[k]^2 + β * ((1-rightweight[k]) * EV[left[k], 0] + rightweight[k] * EV[right[k], 0])) + \n",
    "        exp(0 - RC + β * ((1-rightweight[k]) * EV[left[k], 1] + rightweight[k] * EV[right[k], 1]))\n",
    "        ));"
   ]
  },
  {
   "cell_type": "markdown",
   "metadata": {},
   "source": [
    "Now I figure out the integrand of the $EV$-fixed-point equation. In my notation: $x' = x + y$, where $y$ is one of the possible increments:"
   ]
  },
  {
   "cell_type": "code",
   "execution_count": 21,
   "metadata": {},
   "outputs": [],
   "source": [
    "xprime = zeros(grid_size, length(y), 2)\n",
    "right = zeros(Int64, grid_size, length(y), 2)\n",
    "left = zeros(Int64, grid_size, length(y), 2)\n",
    "rightweight = zeros(grid_size, length(y), 2)\n",
    "\n",
    "for j in 1:grid_size #x_t\n",
    "    for k in 1:length(y) #y\n",
    "        for i in 1:2 #i_t\n",
    "            if i == 1\n",
    "                xprime[j, k, i] = grid[j] + y[k] #no replace\n",
    "                else \n",
    "                xprime[j, k, i] = y[k] #replace\n",
    "            end\n",
    "            \n",
    "            right[j, k, i] = findfirst(xprime[j, k, i] - grid .<= 0)\n",
    "            \n",
    "            if right[j, k, i] == 0 # if \"findfirst\" finds nothing, i.e. we fall off the grid on the right!\n",
    "                right[j, k, i] = grid_size # set to the most right grid point\n",
    "                left[j, k, i] = grid_size - 1\n",
    "                rightweight[j, k, i] = 1\n",
    "            else \n",
    "                left[j, k, i] = right[j, k, i] - 1\n",
    "                rightweight[j, k, i] = (xprime[j, k, i] - grid[left[j, k, i]])/(grid[right[j, k, i]] - grid[left[j, k, i]])\n",
    "            end\n",
    "        end\n",
    "    end\n",
    "end"
   ]
  },
  {
   "cell_type": "markdown",
   "metadata": {},
   "source": [
    "I have to register my $logsumexp$-function in order to have it automatically differentiated:"
   ]
  },
  {
   "cell_type": "code",
   "execution_count": 22,
   "metadata": {},
   "outputs": [],
   "source": [
    "function mylogsumexp(x, y)\n",
    "    u = max(x, y)\n",
    "    log(exp(x - u) + exp(y - u)) + u\n",
    "end\n",
    "\n",
    "JuMP.register(m, :mylogsumexp, 2, mylogsumexp, autodiff=true)\n",
    "\n",
    "@NLexpression(m, integrand[j=1:grid_size, i=0:1, k=1:length(y)], mylogsumexp(\n",
    "                    -θc[1]*xprime[j, k, i+1] -θc[2]*xprime[j, k, i+1]^2 + β * ((1-rightweight[j, k, i+1]) * \n",
    "                        EV[left[j, k, i+1], 0] + rightweight[j, k, i+1] * EV[right[j, k, i+1], 0]), \n",
    "                    -RC + β * ((1-rightweight[j, k, i+1]) * \n",
    "                        EV[left[j, k, i+1], 1] + rightweight[j, k, i+1] * EV[right[j, k, i+1], 1])\n",
    "                        ));"
   ]
  },
  {
   "cell_type": "code",
   "execution_count": 23,
   "metadata": {},
   "outputs": [],
   "source": [
    "@NLconstraint(m, integralconstraint[j=1:grid_size, i=0:1], EV[j, i] == sum(integrand[j, i, k] * θp[k] for k in 1:length(y)))\n",
    "\n",
    "@NLobjective(m, Max, sum(log(Prob[k]) for k in 2:length(x)))"
   ]
  },
  {
   "cell_type": "markdown",
   "metadata": {},
   "source": [
    "It could make sense to set the initial value of $EV$ to be feasible. It is not necessary in this application, but is a bit faster:"
   ]
  },
  {
   "cell_type": "code",
   "execution_count": 24,
   "metadata": {
    "scrolled": false
   },
   "outputs": [],
   "source": [
    "solve_fp!(getvalue(θc), getvalue(RC), model)\n",
    "for j in 1:grid_size\n",
    "    setvalue(EV[j, 0], model.EV0[j])\n",
    "    setvalue(EV[j, 1], model.EV1[j])\n",
    "end"
   ]
  },
  {
   "cell_type": "code",
   "execution_count": 25,
   "metadata": {
    "scrolled": false
   },
   "outputs": [
    {
     "name": "stdout",
     "output_type": "stream",
     "text": [
      "\n",
      "******************************************************************************\n",
      "This program contains Ipopt, a library for large-scale nonlinear optimization.\n",
      " Ipopt is released as open source code under the Eclipse Public License (EPL).\n",
      "         For more information visit http://projects.coin-or.org/Ipopt\n",
      "******************************************************************************\n",
      "\n",
      "This is Ipopt version 3.12.1, running with linear solver mumps.\n",
      "NOTE: Other linear solvers might be more efficient (see Ipopt documentation).\n",
      "\n",
      "Number of nonzeros in equality constraint Jacobian...:     4652\n",
      "Number of nonzeros in inequality constraint Jacobian.:        0\n",
      "Number of nonzeros in Lagrangian Hessian.............:        0\n",
      "\n",
      "Total number of variables............................:      203\n",
      "                     variables with only lower bounds:        3\n",
      "                variables with lower and upper bounds:        0\n",
      "                     variables with only upper bounds:        0\n",
      "Total number of equality constraints.................:      200\n",
      "Total number of inequality constraints...............:        0\n",
      "        inequality constraints with only lower bounds:        0\n",
      "   inequality constraints with lower and upper bounds:        0\n",
      "        inequality constraints with only upper bounds:        0\n",
      "\n",
      "iter    objective    inf_pr   inf_du lg(mu)  ||d||  lg(rg) alpha_du alpha_pr  ls\n",
      "   0  6.4031964e+03 9.66e-13 3.05e+01   0.0 0.00e+00    -  0.00e+00 0.00e+00   0\n",
      "   1  2.0289156e+03 2.03e-01 7.18e+01  -5.4 1.60e+01    -  5.83e-02 8.30e-02f  1\n",
      "   2  1.9962334e+03 1.94e-01 1.11e+02  -1.1 5.05e-01    -  9.95e-01 4.36e-02f  1\n",
      "   3  2.0780440e+03 1.23e-03 9.01e+00  -2.5 1.25e-01    -  1.00e+00 1.00e+00h  1\n",
      "   4  1.8494879e+03 5.23e-02 1.13e+01  -3.8 6.77e-01    -  1.00e+00 1.00e+00f  1\n",
      "   5  1.6356258e+03 2.12e-01 8.83e+00  -5.3 1.51e+00    -  1.00e+00 1.00e+00f  1\n",
      "   6  1.6894606e+03 9.74e-04 6.84e-01  -6.0 3.19e-01    -  1.00e+00 1.00e+00h  1\n",
      "   7  1.6885560e+03 8.60e-04 8.95e-01  -7.3 1.75e-01    -  1.00e+00 1.00e+00h  1\n",
      "   8  1.6871079e+03 1.52e-04 1.25e+00  -9.2 3.13e-01    -  1.00e+00 1.00e+00h  1\n",
      "   9  1.6446223e+03 1.29e-02 8.23e+00 -11.0 8.06e+00    -  1.00e+00 1.00e+00f  1\n",
      "iter    objective    inf_pr   inf_du lg(mu)  ||d||  lg(rg) alpha_du alpha_pr  ls\n",
      "  10  1.3410700e+03 1.56e-01 3.24e+01 -11.0 6.28e+01    -  1.00e+00 1.00e+00f  1\n",
      "  11  7.9102760e+02 9.27e-01 5.32e+01  -8.8 3.69e+02    -  1.00e+00 3.47e-01f  1\n",
      "  12  7.7560839e+02 9.11e-01 2.29e+01  -7.5 1.39e+02    -  5.73e-01 2.08e-02h  1\n",
      "  13  7.2680263e+02 7.84e-01 2.26e+01  -6.2 3.84e+01    -  1.39e-02 1.40e-01h  1\n",
      "  14  6.4904064e+02 4.25e-01 4.50e+00  -6.1 2.70e+01    -  1.42e-04 1.00e+00h  1\n",
      "  15  6.4864047e+02 4.34e-01 6.90e+00  -5.1 2.17e+03    -  3.26e-04 2.83e-04h  1\n",
      "  16  6.4687579e+02 4.30e-01 1.19e+01 -11.0 3.26e+02    -  3.97e-05 1.74e-02h  1\n",
      "  17  6.4556294e+02 4.30e-01 1.14e+01  -6.5 2.48e+03    -  3.66e-03 1.27e-04h  1\n",
      "  18  6.2360042e+02 2.90e-02 5.90e-01  -7.1 1.47e+00    -  2.10e-04 1.00e+00h  1\n",
      "  19  6.2345665e+02 1.07e-03 2.98e-01  -9.3 1.02e+00    -  1.00e+00 1.00e+00h  1\n",
      "iter    objective    inf_pr   inf_du lg(mu)  ||d||  lg(rg) alpha_du alpha_pr  ls\n",
      "  20  6.2345259e+02 2.93e-04 1.41e-01 -10.9 3.31e-01    -  1.00e+00 1.00e+00h  1\n",
      "  21  6.2345238e+02 4.97e-04 5.09e-02  -8.3 3.81e+00    -  1.00e+00 1.79e-03h  4\n",
      "  22  6.2345180e+02 2.18e-06 5.28e-04 -10.0 9.05e-02    -  1.00e+00 1.00e+00h  1\n",
      "  23  6.2345180e+02 2.18e-06 4.77e-03  -8.0 1.50e+00    -  1.00e+00 1.67e-03h 10\n",
      "  24  6.2345180e+02 4.15e-09 3.66e-11 -10.1 2.24e-03    -  1.00e+00 1.00e+00h  1\n",
      "\n",
      "Number of Iterations....: 24\n",
      "\n",
      "                                   (scaled)                 (unscaled)\n",
      "Objective...............:   1.0064973522622640e+01    6.2345179967421245e+02\n",
      "Dual infeasibility......:   3.6567927260097904e-11    2.2651167446611566e-09\n",
      "Constraint violation....:   4.1529872873979912e-09    4.1529872873979912e-09\n",
      "Complementarity.........:   9.2491802237730482e-11    5.7291934678829442e-09\n",
      "Overall NLP error.......:   4.1529872873979912e-09    5.7291934678829442e-09\n",
      "\n",
      "\n",
      "Number of objective function evaluations             = 41\n",
      "Number of objective gradient evaluations             = 25\n",
      "Number of equality constraint evaluations            = 41\n",
      "Number of inequality constraint evaluations          = 0\n",
      "Number of equality constraint Jacobian evaluations   = 25\n",
      "Number of inequality constraint Jacobian evaluations = 0\n",
      "Number of Lagrangian Hessian evaluations             = 0\n",
      "Total CPU secs in IPOPT (w/o function evaluations)   =      0.252\n",
      "Total CPU secs in NLP function evaluations           =      0.252\n",
      "\n",
      "EXIT: Optimal Solution Found.\n"
     ]
    },
    {
     "data": {
      "text/plain": [
       ":Optimal"
      ]
     },
     "execution_count": 25,
     "metadata": {},
     "output_type": "execute_result"
    }
   ],
   "source": [
    "solve(m)"
   ]
  },
  {
   "cell_type": "markdown",
   "metadata": {},
   "source": [
    "The solution is found!"
   ]
  },
  {
   "cell_type": "code",
   "execution_count": 26,
   "metadata": {},
   "outputs": [
    {
     "data": {
      "text/plain": [
       "3-element Array{Float64,1}:\n",
       " 0.0523134 \n",
       " 0.00153601\n",
       " 1.14394   "
      ]
     },
     "execution_count": 26,
     "metadata": {},
     "output_type": "execute_result"
    }
   ],
   "source": [
    "MPECθ = vcat(getvalue(θc), getvalue(RC))"
   ]
  },
  {
   "cell_type": "code",
   "execution_count": 27,
   "metadata": {
    "scrolled": false
   },
   "outputs": [],
   "source": [
    "MPECEV = hcat([getvalue(EV)[:, i] for i in 0:1]...);"
   ]
  },
  {
   "cell_type": "markdown",
   "metadata": {},
   "source": [
    "No matter where we are on the grid, replacing has the same value as starting with an engine with zero mileage.\n",
    "\n",
    "Let me get the functions back from the solver:"
   ]
  },
  {
   "cell_type": "code",
   "execution_count": 28,
   "metadata": {},
   "outputs": [],
   "source": [
    "d = JuMP.NLPEvaluator(m)\n",
    "MathProgBase.initialize(d, [:Grad, :Jac])"
   ]
  },
  {
   "cell_type": "code",
   "execution_count": 29,
   "metadata": {},
   "outputs": [],
   "source": [
    "optimizer = vcat(MPECθ, MPECEV'[:]);"
   ]
  },
  {
   "cell_type": "code",
   "execution_count": 30,
   "metadata": {},
   "outputs": [
    {
     "name": "stdout",
     "output_type": "stream",
     "text": [
      "  0.000023 seconds (11 allocations: 304 bytes)\n"
     ]
    },
    {
     "data": {
      "text/html": [
       "-623.4517996742125"
      ],
      "text/plain": [
       "-623.4517996742125"
      ]
     },
     "execution_count": 30,
     "metadata": {},
     "output_type": "execute_result"
    }
   ],
   "source": [
    "@time f = MathProgBase.eval_f(d, optimizer)"
   ]
  },
  {
   "cell_type": "code",
   "execution_count": 31,
   "metadata": {},
   "outputs": [
    {
     "name": "stdout",
     "output_type": "stream",
     "text": [
      "  0.000036 seconds (10 allocations: 288 bytes)\n"
     ]
    },
    {
     "data": {
      "text/html": [
       "-7.65707497407675e-11"
      ],
      "text/plain": [
       "-7.65707497407675e-11"
      ]
     },
     "execution_count": 31,
     "metadata": {},
     "output_type": "execute_result"
    }
   ],
   "source": [
    "g = zeros(200)\n",
    "@time MathProgBase.eval_g(d, g, optimizer)\n",
    "maximum(g)"
   ]
  },
  {
   "cell_type": "markdown",
   "metadata": {},
   "source": [
    "The constraints are fullfilled!"
   ]
  },
  {
   "cell_type": "markdown",
   "metadata": {},
   "source": [
    "## Comparison"
   ]
  },
  {
   "cell_type": "code",
   "execution_count": 32,
   "metadata": {},
   "outputs": [
    {
     "data": {
      "text/html": [
       "<table class=\"data-frame\"><thead><tr><th></th><th>Method</th><th>θc1</th><th>θc2</th><th>RC</th></tr></thead><tbody><tr><th>1</th><td>NFXP</td><td>0.0546</td><td>0.0013</td><td>1.1517</td></tr><tr><th>2</th><td>MPEC</td><td>0.0523</td><td>0.0015</td><td>1.1439</td></tr></tbody></table>"
      ],
      "text/plain": [
       "2×4 DataFrames.DataFrame\n",
       "│ Row │ Method │ θc1    │ θc2    │ RC     │\n",
       "├─────┼────────┼────────┼────────┼────────┤\n",
       "│ 1   │ \"NFXP\" │ 0.0546 │ 0.0013 │ 1.1517 │\n",
       "│ 2   │ \"MPEC\" │ 0.0523 │ 0.0015 │ 1.1439 │"
      ]
     },
     "execution_count": 32,
     "metadata": {},
     "output_type": "execute_result"
    }
   ],
   "source": [
    "table = DataFrame()\n",
    "table[:Method] = [\"NFXP\", \"MPEC\"]; table[:θc1] = round.([NFXPθ[1], MPECθ[1]], 4);\n",
    "table[:θc2] = round.([NFXPθ[2], MPECθ[2]], 4);\n",
    "table[:RC] = round.([NFXPθ[3], MPECθ[3]], 4);\n",
    "\n",
    "table"
   ]
  },
  {
   "cell_type": "code",
   "execution_count": 33,
   "metadata": {},
   "outputs": [
    {
     "data": {
      "text/html": [
       "<img src=\"data:image/png;base64,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\" />"
      ]
     },
     "execution_count": 33,
     "metadata": {},
     "output_type": "execute_result"
    }
   ],
   "source": [
    "plot(grid, NFXPEV, label=[\"NFXP EV0\" \"NFXP EV1\"], color=[\"red\" \"blue\"])\n",
    "plot!(grid, MPECEV, label=[\"MPEC EV0\" \"MPEC EV1\"], color=[\"darkred\" \"darkblue\"])"
   ]
  },
  {
   "cell_type": "markdown",
   "metadata": {},
   "source": [
    "Quite close, but maybe there is a small error in my program!"
   ]
  },
  {
   "cell_type": "markdown",
   "metadata": {},
   "source": [
    "## Part 3"
   ]
  },
  {
   "cell_type": "code",
   "execution_count": 53,
   "metadata": {},
   "outputs": [
    {
     "name": "stderr",
     "output_type": "stream",
     "text": [
      "\u001b[1m\u001b[36mINFO: \u001b[39m\u001b[22m\u001b[36mPrecompiling module KernelDensity.\n",
      "\u001b[39m"
     ]
    }
   ],
   "source": [
    "using KernelDensity"
   ]
  },
  {
   "cell_type": "code",
   "execution_count": 178,
   "metadata": {
    "scrolled": false
   },
   "outputs": [],
   "source": [
    "est_data = hcat(vcat(data[2:end, :x_t], 0), data[:x_t], data[:d_t])\n",
    "phat_x_0 = kde(est_data[est_data[:, 3] .== 0, 1:2])\n",
    "phat_x_1 = kde(est_data[est_data[:, 3] .== 1, 1:2]);"
   ]
  },
  {
   "cell_type": "code",
   "execution_count": 221,
   "metadata": {
    "scrolled": false
   },
   "outputs": [
    {
     "data": {
      "text/html": [
       "<img src=\"data:image/png;base64,iVBORw0KGgoAAAANSUhEUgAAAlgAAAGQCAYAAAByNR6YAAAABHNCSVQICAgIfAhkiAAAAAlwSFlzAAAPYQAAD2EBqD+naQAAIABJREFUeJzsnX2QVNWd97/39uu89fA+4wsy8V1WwiAi4qZCUssGE1OExDVopQJBgnGfYHQnRSW+gYlPgrtBCkt4dsqU7m42ZWRNjMUmLlkyFY0WpIwgldL4Et24EHRmQHSGeenp7nvP88c55zb3dvf0TE/T0334fqhbh3PvuS89zPw4c37f+/1ZQggBQgghhBBSNuzJfgBCCCGEENPwTbC+8Y1voK2tDZZl4dChQ97+P/3pT7jmmmtw8cUXY9GiRXj11VcLXvDRRx/FRRddhAsuuADr169HOp0+fU9PCDljYbwihFQzvgnW3/3d3+GFF17AnDlzfIO+9rWv4ZZbbsGbb76Jb33rW/jKV76S92J//vOfce+99+L555/HW2+9hZ6eHjzyyCN5xwoh0N/fD2YoCSGlwHhFCKlmrHwarLa2Njz99NNob29Hb28vLrzwQpw4cQLhcBhCCJx11ll44YUXcOGFF/rO+8EPfoC3334bnZ2dAIBnnnkG3//+9/HCCy/k3Li/vx/Nzc0AQgCs0/LhiFlYwe8Tyw4ct/Puzzk+bko9z827VxTYDyH3O+5Qifc7M6m1eJXzfVxBBDhBJOVFCK76FqLo/xxHjhzBWWedhXA4DACwLAvnnXceDh8+nDP28OHDvt8m29ra8o4jhJDTAeMVIaRaoMidEEIIIaTMhIsNmD17Nt577z1kMhlvyf3w4cM477zzcsaed955ePvtt73+O++8k3ccIeT0kEwmkUqlSj4/Go0iHo+X8YkqC+MVIbWD6fGq6ArWrFmzcMUVV+DHP/4xAOBnP/sZzj333Bw9AwBcf/312L17N7q7uyGEQGdnJ2688cbyPzU5o7DUn+wO26ezsmBLfVWB/d7xMWMHtvHiIp/+SsDNr78Srqe/mgjJZBIf+UgrmpubS94+8pGPIJlMTvhZJgvGK0JqgzMhXvlE7l/72tfwy1/+Et3d3Zg+fTqamprw1ltv4Y033sBXvvIVvP/++0gkEviXf/kXzJs3DwDw1a9+FStWrMCKFSsAAD/84Q/xwAMPAAA+8YlPoLOzE5FIJOfGFLmTsVKquL3yonZNaeJ2Takid/0z9c6Rh5BI1JVw/jDaZt+Ovr4+JBKJkp6hktRqvKLInZhEqSL3MyFe5X2LsBJwgkXGCidYY0P/TL3/wT+XHLCmT/37qg5YkwUnWITkZ6ITLJPjVVENFiGkthDCgRBOSecRQkglMTlecYJFqpaJr1xV+iXZMa5cFdBbFVzhIoQQUnNwgkWIYQiRgRCZks4jhJBKYnK84gSLEMMwOWARQszC5HhFo1FCCCGEkDLDFSxSdRR7y6rQ24FFtVdaq1UGzyk/pWmvTpfmynUduO74f7tz3eoXjRJCzMLkeMUJFiGGYfKSOyHELEyOV0wREkIIIYSUGa5gEWIYJv9GSAgxC5PjFSdYpGooqL2yRtdUFdReFTnPY9yarIk5tY91XKmYHLAIIWZhcrxiipAQQgghpMxwBYsQwxBuBqKEt3JKOYcQQiaCyfGKEywyqYxqyVCkNE7BYs5Fij7npOiK2jeMnroruRRO2e0iFK4DlBJ8auC1Z1IaLPJMqhaD4xVThIQQQgghZYYrWISYhkgDooTfnUS6/M9CCCGjYXC84gSLENNwM4AbKu08QgipJAbHK06wSEXJq7kqYKeQo7EqZLswVm1W4Lqllqo5XXYM1MmcGeh/52IloQghtQ0nWISYhijxN8Ia8JUhhBiGwfGKEyxCTEM4pQUfUf1v5RBCDMPgeMW3CAkhhBBCygwnWOS0YgX+ZA/Y2c0ba/u2nLGBcdBb4HgudmALXif/fYIIuH5dlXB9mz5ebFzudUV59VdupvSNEEIqSYXj1c6dO9HW1oZ4PI7FixfjxRdfLDj21VdfxfXXX4+2tjZYloXt27eP65qcYBFiGJabKXkjhJBKUsl4tWvXLnR0dGDz5s04ePAg5s+fj+XLl6O3tzfv+KGhIZx//vl44IEH0NraOu5rcoJFCCGEEOPZtm0b1q9fj7Vr12Lu3Lno7OxEfX09HnvssbzjFy1ahB/84Ae48cYbEYvFxn1NTrAIMQ2RKX0jhJBKUqF4lUqlcODAASxbtszbZ9s2li1bhv3795f06MWuybcIyWmhoMfPaHUCx+qHVeD3grGOy+53feedbl+s7PjT7HflZgC3hN+dmCIkhFSaCcar/v5+3+5YLJZ3ten48eNwHActLS2+/S0tLXj99dfHf/8xXJMrWIQQQgipSWbPno3m5mZv27Jly2Q/kgdXsAgxDdctrdK8W9oKHiGElMwE49WRI0eQSCS83YW0UjNmzEAoFEJPT49vf09PT0EBezGKXZMrWIQYhuU6JW+EEFJJJhqvEomEbys0wYpGo1i4cCG6urq8fa7roqurC0uWLCnp2YtdkytYpKzkaK8Kaa4CvlZ+isz7R9NxjeX8nHHjXLkpoK1ijUFCCKleOjo6sGbNGlx55ZW46qqrsH37dgwODmLt2rUAgNWrV+Occ87x0oypVAp//OMfvb8fPXoUhw4dQmNjIy688MKi1+QEixDTEA4gSlicroHSE4QQw6hgvFq1ahWOHTuGTZs2obu7G+3t7dizZ48nUj98+DBsO/ss7777LhYsWOD1t27diq1bt2Lp0qV49tlni17TEkJMyq/X/f39aG5uBhACWFXeGGprBUsjV568twFzVqJGP174PH18fD9iQqTHNV6jf6beO3QdEk2R8Z9/Mo2z2n+Jvr4+n6aBnJ54VfBN29MAV1HJ6YLxqjBcwSJlYbwTq+ykqLhNQ+69itkvBMYHrisKTIQ8uwb9UQqlAvXhIqlF/qdGJht+DxIyeXCCRYhpuE6JvjJMERJCKozB8YoTLEJMQ5QYsKjBIoRUGoPjFW0aCCGEEELKDFewyISYsPbKsvPrscrxbIVK76j9WS1WiXYNmhzR++TqXizhwirhtzuriOaMlBf9fVJJsTsh1YbJ8YoTLEJMw3UAt4T/tGtA00AIMQyD4xVThIQQQgghZYYrWIQYhiwjMf7fCFkqhxBSaUyOV5xgkZIoWXtlhf192J4myrJCY7q3mKy3R2og5w/A6CV3QohhGByvmCIkhBBCCCkznGARYhquU/pWAjt37kRbWxvi8TgWL16MF198seDYV199Fddffz3a2tpgWRa2b98+4WsSQmqYCserSsIJFiGGYbluydt42bVrFzo6OrB582YcPHgQ8+fPx/Lly9Hb25t3/NDQEM4//3w88MADaG1tLcs1CSG1SyXjVaXhBIuMilXgT3aAnVO42YLt7c/2w4AV9vqWFYZlhWHbEdiW3EJWeNRNn6vHW1Yo71Y+XAAuhNo0wX52v5h0D6xKs23bNqxfvx5r167F3Llz0dnZifr6ejz22GN5xy9atAg/+MEPcOONNyIWi5XlmoQQUo1wgkWIabhuiUvuctLY39/v20ZGRvLeJpVK4cCBA1i2bJm3z7ZtLFu2DPv37y/p0U/HNQkhVcwE41U1wwkWIYYhX3subQOA2bNno7m52du2bNmS9z7Hjx+H4zhoaWnx7W9paUF3d3dJz346rkkIqV4mGq+qGdo0EEJ8HDlyBIlEwusXSuURQggpDCdYxEfRumiF/K4Cxwv5Xlm6r7RSWlt16r7Cz+b/jUXroNygP1XgIxT3zXJ91xuz31W1+mIJp7SyiurrlEgkfBOsQsyYMQOhUAg9PT2+/T09PQUF7JNxzTORM00LSGqYCcaraoYpQkJMw3VL38ZBNBrFwoUL0dXVdcqtXXR1dWHJkiUlPfrpuCYhpIqpULyaDLiCRQgpmY6ODqxZswZXXnklrrrqKmzfvh2Dg4NYu3YtAGD16tU455xzPB1XKpXCH//4R+/vR48exaFDh9DY2IgLL7xwTNckhJBagBOsM5yCKUEr/+Jm0ZRggRI5+VKDAKTdgjdGn+NPFQqVGhRqXDaVp+4Y+AiugG+cvqdOFYpqTe2VCSkALe288bJq1SocO3YMmzZtQnd3N9rb27Fnzx5PpH748GHYdvZ75t1338WCBQu8/tatW7F161YsXboUzz777JiuSQgxh0rGq0pjCSEmJVnf39+P5uZmACHkiGZIxaipCZbwa6W8CVMgge8GxnnXKTjBKqTByr+/kFarXLoXIdIlnad/po7/18VINIzfD6x/0MGMT7+Jvr6+MWmwziROZ7wqqnssAWqwSKVgvCoMNViEEEIIIWWGKUJCTMMt8a2cGlhyJ4QYhsHxihOsM4yxpgQLpQJzj9sFjuuUoN+C4dTUoL6O9/cC9whqrwppstxxL1VXV2qwbLiitDds3Cr7HGcI+vvndKQKCal6DI5XTBESQgghhJQZrmARYhiy0nxp5xFCSCUxOV5xgkWIabhOacvnNRCwCCGGYXC84gTLcMatuRq31sp/PKi50sdtS7cR1eoSOqHs34tYQ2Q1WLLvQmmuhH+c9sUK+mGJIhqrotorQqqcqtMDEnIGwwkWIabhuiW+lcOJJCGkwhgcrzjBIsQ0RIkBy3CHe0JIFWJwvOJbhIQQQgghZYYrWIZSTHtVasmbYlorjZ1TKiek9me1V7pvBcbagWu5+tcb/ZG8GoQRdTztu2awFI4ukVOMolqrave/Upj8Vg4hxCxMjlecYBFiGga/lUMIMQyD4xVThIQQQgghZYYrWIaRkxosYsdQLCVoeRYK+W0XginA4H2y6b9QoJ89Xig16KUV1S833u8r6iPqVKB3bei+vk7+33AK2TNkB9RYaZwgrijxN8Iq/1yGw5I55IzE4HjFCRYhpmHwa8+EEMMwOF4xRUgIIYQQUma4gkWIaRhcnZ4QYhgGxytOsGqcCdsxeLYJ+TVXocBxbY0Q1FZ5ly9YSgd5x1mwC2qvgn2txXICWquxl7IJjjO0NI4rSlxyr/6ARfJT9bpAQgphcLxiipAQQgghpMxwBYsQ03BdwC3hTbQa+I2QEGIYBscrTrAIMQ2DAxYhxDAMjlecYNUo5fO70porv8ZKa690P1d7FfS5Ki3bfKr+Kqi90oy31E1OW8TXqqD2qtb8r4gR0A+LEDPgBIsQ0zBYNEoIMQyD4xUnWISYhihxyV1Uf8AihBiGwfGKbxESQgghhJQZrmDVGBPVXmmfK9237UKaq/z9EPLXJgxqsIJ6ppx+Hl1VMa2VW0BTJZD/vOz1ivhf5ZxY49org5fcSS419/1JyKkYHK84wSLEMISbq+Mf63mEEFJJTI5XTBESQgghhJQZrmARYhpCbaWcRwghlcTgeMUJVo1QSHs1dr8rvwarmN9VyI7KFvnH6xqEwTqCGjegj3KDXlPq45yqu3ILJOIL+Vm5Iu3fL/z3yr3QGP2vvPvWwE9wPlyUqGko94OQiVDMD6tmvz8JORWD4xVThIQQQgghZYYrWISYhsG/ERJCDMPgeMUJVpUz8dSgSvEpOwY9Tqf6QnZMHg/YMYQttV+dH1LHwxg9RajTfLZODXrPI9N5Tp70nVvANiHHjkH40466r1OFjsj4+kL1s9cdnz1DzWJwwDoTYSqQGI3B8WrME6z3338ff/M3f+P1h4aG8D//8z/o7e3FtGnTvP3vvPMOLrjgAsybN8/b97Of/QwXXHBBmR6ZEEJGh/GKEDLZjHmCNX36dBw6dMjrb926Fc8995wvWGmampp8YwkhlcNkX5mxwnhFSG1gcrwqWeT+6KOPYt26deV8FkJIOXAnsBkK4xUhVYrB8aokDda+ffvwwQcf4LOf/Wze44ODg1i0aBEcx8HKlStx9913IxQKTehBzzTGrb3y7BP8dgy6pE2hUjghrbUKaK/0+AhUH1rDNbo9g+XpnPRxqYdyEQocV/opuAVtGApprrLH5f5c7VVAazXGvoaaF7NgvCKETAYlrWA9+uijWL16NcLh3PnZWWedhaNHj+L3v/89fv3rX+P555/Hgw8+OOEHJYSMEYHSfhs0dF7JeEVIFWNwvBr3BGtgYAD/8R//gZtvvjnv8VgshlmzZgEApk2bhptvvhnPP//8xJ6SEDJ2DF5yHy+MV4RUOQbHq3FPsHbt2oX58+fj0ksvzXu8t7cX6bRM1YyMjOCpp57CggULJvaUhBBSAoxXhJBT2blzJ9ra2hCPx7F48WK8+OKLo45/8skncemllyIej2PevHl45plnfMcHBgawYcMGnHvuuairq8PcuXPR2dkJoIQJVj6x6KZNm7wLvvDCC1iwYAHmz5+PK664Aq2trbj77rvHexuisWzAsmFBbrn9MGCFvb5lhWFZYdhWBLYVQdiKImxFEbJieTd9PGzFfFsEcgsjjjDiCCGCECKIiiiiIoqwCOfdbPXHQsjTa+VDCEducCGE3FyRUVs6sOXfnxEpZETK6+vrCGQgkPFeT8ntu4W9sAxACLvkzTQYrwipbioZr3bt2oWOjg5s3rwZBw8exPz587F8+XL09vbmHb9v3z7cdNNNWLduHV5++WWsXLkSK1euxCuvvOKN6ejowJ49e/DjH/8Yr732Gu644w5s2LABu3fvhiWEmJRMZn9/P5qbmwGEgAK1ts5kPJF7ieL2YrUGs6L2qG+/FrlrQ9Ew4vK4un5YjP5eRMZSgnM1gckgqVq53/FMQUdki8wphqHaGHR0Ubvua3G7t98bL/ejYD8wuaoykbtQX6Pxon+mjv3feiTi4/+Z6k8KzLxnCH19fUgkEiU9g6kwXhGSn1qKV4sXL8aiRYuwY8cOAIDrupg9ezZuu+02fPvb384Zv2rVKgwODuIXv/iFt+/qq69Ge3u790va5ZdfjlWrVuHee+/1xixcuBCf/vSnWYuQEEIIIWaTSqVw4MABLFu2zNtn2zaWLVuG/fv35z1n//79vvEAsHz5ct/4a665Brt378bRo0chhMBvfvMbvPnmm/jUpz7FUjmEGIdryW3c55X/UQghZFQmGK/6+/t9u2OxGGKxWM7w48ePw3EctLS0+Pa3tLTg9ddfz3uL7u7uvOO7u7u9/sMPP4xbbrkF5557LsLhMGzbxg9/+EN8/OMf5wSr2sjxv8o5Pr7U4FhrDUYsv9+VbnWqMKRSg4X8r7I1CG1fP6vDCtYFzOKlAHX9wmDqT3tmBWoPCi+1V8jnyp8azL1xdaUGy4UQFoQYf8CaHLEAIeRMZqLxavbs2b79mzdvxn333VeGJxsbDz/8MH73u99h9+7dmDNnDn7729/i61//Os4++2xOsAghhBBSmxw5csSnwcq3egUAM2bMQCgUQk9Pj29/T08PWltb857T2to66vjh4WHcdddd+PnPf47rrrsOAPDRj34Uhw4dwtatW6nBIsQ49JJ7KRshhFSSCcarRCLh2wpNsKLRKBYuXIiurq7srV0XXV1dWLJkSd5zlixZ4hsPAHv37vXGp9NppNNp2LZ/KhUKheC6LlewCDEOYclt3OeV/1EIIWRUKhivOjo6sGbNGlx55ZW46qqrsH37dgwODmLt2rUAgNWrV+Occ87Bli1bAAC33347li5digcffBDXXXcdnnjiCbz00kt45JFHAMjJ3dKlS7Fx40bU1dVhzpw5eO655/CjH/0I27Zt4wSrWhhr7UFtXVZIexW2/bUFg7UGQ54dg7Rn0FqrYM1BbccQwti0V4XQuqpC52nvKv132fprDObYNAT2o6gWq7ptGQghhJx+Vq1ahWPHjmHTpk3o7u5Ge3s79uzZ4wnZDx8+7FuNuuaaa/D444/jnnvuwV133YWLLroITz/9NC6//HJvzBNPPIE777wTX/rSl3DixAnMmTMH3/ve93DrrbfSB6taGHtxZ13E2d9O9gRLt47ywdK+V0EfrIzyv9KtNhGVf0/72jN1gjVRX5mee5pL9pVp+b999MHKA+MVIflhvCoMV7AIMQ3aNBBCagWD4xUnWNVGUef20lKD2pZB2zcEV6y8fsCOISwKl7s59XmCqcJgatBzZ88Z5+YcC7auq39Dyr9CZcrKFSGEEHPgBIsQw6APFiGkVjA5XnGCRYhpCAtwS3BgKWTISgghpwuD4xV9sAghhBBCygxXsCaZ8ZfGyV8SJ6i90m8JehottT/nbcFAKRzdt9WSrVVgDi4Cbw8G+xrvLcMc/VO2H7RncAN9T2Ol3h4srMXCqPuzx2tgbXkCCNeCKEE0Wso5hBAyEUyOV1zBIsQ0KuzkvnPnTrS1tSEej2Px4sV48cUXRx3/5JNP4tJLL0U8Hse8efPwzDPP+I4PDAxgw4YNOPfcc1FXV4e5c+eis7OzpGcjhFQ5Blee4ASLEFIyu3btQkdHBzZv3oyDBw9i/vz5WL58OXp7e/OO37dvH2666SasW7cOL7/8MlauXImVK1filVde8cZ0dHRgz549+PGPf4zXXnsNd9xxBzZs2IDdu3dX6mMRQsiE4QSLEMMQwi55Gy/btm3D+vXrsXbtWm+lqb6+Ho899lje8Q899BCuvfZabNy4EZdddhnuv/9+XHHFFdixY4c3Zt++fVizZg0+8YlPoK2tDbfccgvmz59fdGWMEFJ7VDJeVZrqf0JDsdSf7A4bsGxYUJsVVl5XNgAbFsKwEIZtR2DbEYSssNzsmNwsuYWtKMJW1OtHrTpErTpEEPNtURFFVEQRUVtURBAVEYRESG4II4Qw7MCfYrgF/miEcE7RVmX1V4D2xDplU2V0dB9q8/pCbsHz9P4gQv0xHa1pKGUDpMPyqdvIyEje+6RSKRw4cADLli3z9tm2jWXLlmH//v15z9m/f79vPAAsX77cN/6aa67B7t27cfToUQgh8Jvf/AZvvvkmPvWpT030S0MIqTImGq+qGU6wCCE+Zs+ejebmZm/ThU+DHD9+HI7jeHW8NC0tLeju7s57Tnd3d9HxDz/8MObOnYtzzz0X0WgU1157LXbu3ImPf/zjE/xkhBBSOfgWISGm4dql+cqoRb8jR474anvFYrEyPdjYePjhh/G73/0Ou3fvxpw5c/Db3/4WX//613H22WfnrH4RQmqcCcaraoYTLEIMo3RnZHlOIpEYU/HUGTNmIBQKoaenx7e/p6cHra2tec9pbW0ddfzw8DDuuusu/PznP8d1110HAPjoRz+KQ4cOYevWrZxgEWIYE41X1QxThBWmmPZK9z3tldJijVd7FdGb0lzFUIcY6jzNVQRqExG5qX5Y/xFyK6TBci0hN/3HkpuAU2CT+ij9J6uvck7RWEmyOi2luwpqqgLaq+B+rxv4Q8pLNBrFwoUL0dXV5e1zXRddXV1YsmRJ3nOWLFniGw8Ae/fu9can02mk02nYtj80hUIhuG4N/MpKCCEKrmARYholV6cf/zkdHR1Ys2YNrrzySlx11VXYvn07BgcHsXbtWgDA6tWrcc4553g6rttvvx1Lly7Fgw8+iOuuuw5PPPEEXnrpJTzyyCMA5OrZ0qVLsXHjRtTV1WHOnDl47rnn8KMf/Qjbtm0b/2cihFQ3FYxXlYYTLEIMQ7g2RAmahlJKe61atQrHjh3Dpk2b0N3djfb2duzZs8cTsh8+fNi3GnXNNdfg8ccfxz333IO77roLF110EZ5++mlcfvnl3pgnnngCd955J770pS/hxIkTmDNnDr73ve/h1ltvHf8DEkKqmkrGq0pjCTE5Nan7+/vR3NwMIAQUKRdjEjmlcSxb7bcDfVUaR5fCsVWJG9UP23Wq7y+No/uRQGkcr0ROoCROSIR8fY2tPEZcy/9dnIEsV+NYTqAv2zTkK/0O0v6+KnOTEbLvqr4jRry/u0Kek3HlGF0aJ6dEjt4fVDnmlMypzbSgUF+H8aJ/po78n9lIxMYfsPpHXMz+f0fQ19c3Jg3WmcSZGq8IKQbjVWG4glUhSp1YWV6NwdEnVhG1X0+kwoirVp4XEXJcWE2oQmp/WOhahsHnk40NOT4DB/kI1iDMaXVdQeRvgXw1CHPH5OtnD5gxsSoXJotGCSFmYXK84gSLEMMwuXgqIcQsTI5XfIuQEEIIIaTMcAXrNDPR1GBYaa+CqUGdEtQpwijq5X6tudIpQS9FGJH9QEowFEwNBtDJN63JKiQ/cb3UnxPo67Sfo1o3p82XNsz7FMHUIVODeRGixN8Ia2DJnRBiFibHK06wCDENYctt3OeV/1EIIWRUDI5XTBESQgghhJQZrmARYhjS0L4U0ehpeBhCCBkFk+MVJ1iVYpzaK62xCgU0WBFLa6/k/hhkPya0TYPyw1J2DFGh/bHk/Wz1fRwOLF5qrZjWMbne+qtshdJq6XI5TgHbBo3WYmm9lAO/d5X2vHJF+hR7Bn3NAporMjZKfCunFpyRCSGGYXC8YoqQEEIIIaTMcAWLEMMQwoYoQTQ6SUUdCCFnMCbHK06wCDENg4unEkIMw+B4xQnWacLzvxpnrUGvpmBAexW1GgAAMaXB0r5XMSFL4mifq6DmKqz9rtT9bVi+NojWXlmeBktrqEb/bSHofxXUVWnfK629OtX7KuuVFawxWKBUDv2vCCGEVDmcYBFiGCbX9iKEmIXJ8YoTLEIMw+TaXoQQszA5XvEtQkIIIYSQMsMVrDIzUe1V2K5XrdJWKc1V3GoEANQJpcUSygdLa7A8zZVsteYq7N1Xaa8K1RJUMiZb+2CpNzSEp8ny+2DZenk2cL1gDcLcmoR+LZYjMnBdvy4LQS1WLTjKVREmv5VDCDELk+MVJ1iEGIbJS+6EELMwOV4xRUgIIYQQUma4gkWIYZj8Vg4hxCxMjlecYE0QKyhCKpP2KmZLrVUcUntVL5rkfqW9qlM1ByOWqjmo2pD2vbL8z1VoqdINHA+qnSxh+Y7bOlde5Hs7W3Mwo9p0oD3VJ6tA7cEC/ew9qj8HPxkIUeKSew0ELEKIWZgcr5giJIQQQggpM1zBIsQwTH4rhxBiFibHK06wSqTcqcGo18qUoE4NNgjd1qv98joxdb2I8l2IWP4SOMXsGHRJHFv3LfUXteyaTR2OXlrHu65nx6BL46g2YM+QTR0qawaR8UrkFEwVBmAQhF90AAAgAElEQVRqcHRMfiuHEGIWJscrpggJIYQQQsoMV7AIMQyT38ohhJiFyfGKEyxCDMPkgEUIMQuT4xUnWGMkR3PlHSiv9qoeCQBAg9ug+vJ4AyIAgHhI2jHEdGkcdVttyxDUXmnNlfD6uhSOX2uFHC1W4Dq6hI7l+sbpvtZeafsFd5TSOKfulzqr0TVXLJVDCCGk1uAEixDDcF0LbgkC0FLOIYSQiWByvOIEixDDkEvupbz2zJVCQkhlMTle8S1CQgghhJAywxWsAhTTXGXHKc2Vpb+U/n4x7VXclporrb2qV9qrJtTJvjqvPiSvG1dt1NNe+VuNozVVwt93vM8lfMc1Qe82T3vl9f0aqwwygf26NI6/RE7WD0v7YynvK5FhaZwyY7JolBBiFibHK06wCDEMk437CCFmYXK8YoqQEEIIIaTMcAWLEMMwecmdEGIWJscrTrBOIa/uqoDmKtf/SvleqS9pSGuvvFZqqqK21FjVWU0AgHqhtFdCa6/iAIBGW2qvGpTRVUwZXMWlDRYiAQ2WJkdz5RlgyUZ3nSJyJsfTQwlf6yjtVLZN+1uluQpqsLL+V1p7dYreitqr8lJiwEINBCxCiGEYHK+YIiSEEEIIKTNcwSLEMISwS/SV4e9bhJDKYnK84gSLEMMw2RmZEGIWJscrTrCQR3t1iu6qoOYq4HelW625Cln5tVdxS7YNYopqZT+htVcheZ2GsBRb1SnNlW5jqg2pWoDB2oOO+qZLK9nSiKP2q3FWATlTRumcMsoIK6P0UCmvlVqqlKXblLwPRtR5sl/c/yrrqCV3uNReEUIIMQ5OsAgxDJPfyiGEmIXJ8YoTLEIMw+SARQgxC5Pj1Rk5wSpWBsc69eVKb184b9+2IwCypXBCQVsGlRKst7Qdg7RnaBKNAIBGyPN0arBR+S/olGC9um08JNNlUVulBgOPrpNrad1XqUJt4xD8xFm7BuFr0yqVl4ZuZcpvxJKpwLRKDWaQlK0Y8bWOasdkz1AApgYJIYTUOmfkBIsQkxEo8TfCQr94EELIacLkeMUJFiGGYfKSOyHELEyOV9VvJEEIIYQQUgZ27tyJtrY2xONxLF68GC+++OKo45988klceumliMfjmDdvHp555pmcMa+99hpWrFiB5uZmNDQ0YNGiRTh8+PCZtYI1mh2DPJ61ZMgtgeO3ZdB2DLalNFhKcxWxpN1C1JYaq3pI7VWDq7RYqAcAJJSNQ2NIiq3qw/LZGtS/SGNQexVy1fX9+iRXfSZd+kbP6jP5vwSeuklJrjx7hrQrr6+1VyMFtFcpDMn9Ylier7VXbkq1AdsGV9k1aC0WCpfKIeXB5N8ICSFmUcl4tWvXLnR0dKCzsxOLFy/G9u3bsXz5crzxxhuYNWtWzvh9+/bhpptuwpYtW/DZz34Wjz/+OFauXImDBw/i8ssvBwC8/fbb+NjHPoZ169bhO9/5DhKJBF599VXE43FYQohJURT39/ejubkZQAi5EuzTw5kwwUo58jmTyvhqWPlgJVU7ouYyI+qEYTWxSjr+idWwksvrCdaIJUXtSQzIvppgpfVEy1Wid1dOwHInWLI/lgnWmS5yFyJdfFAe9M/UC5/8JBrD4//daSCTwcd+8xv09fUhkUiU9AymMhnxipBaoJbi1eLFi7Fo0SLs2LEDAOC6LmbPno3bbrsN3/72t3PGr1q1CoODg/jFL37h7bv66qvR3t6Ozs5OAMCNN96ISCSCf//3f885nylCQgghhNQk/f39vm1kZCTvuFQqhQMHDmDZsmXePtu2sWzZMuzfvz/vOfv37/eNB4Dly5d7413XxS9/+UtcfPHFWL58OWbNmoXFixfj6aefltcvxwckhFQPesm9lI0QQirJROPV7Nmz0dzc7G1btmzJe5/jx4/DcRy0tLT49re0tKC7uzvvOd3d3aOO7+3txcDAAB544AFce+21+O///m98/vOfxxe+8AU899xzZ4YGq1BqcLQyODoVqOegIa8ETtjXz6YGZatL4dQL7Xsl+026FI4tfa8awvK69SF/arA+LNR+2cZ1atDOXxono7NpyvfK8lKI/oFZ3yvZpl3hb7X2SvlgjdjjSw06ng+WKpWjU4OeGsxfDidfeZwzPTVYLqjBIoTUChONV0eOHPGlCGOxWNmerRiukth87nOfwz/8wz8AANrb27Fv3z50dnaeGRMsQgghhJhHIpEYkwZrxowZCIVC6Onp8e3v6elBa2tr3nNaW1tHHT9jxgyEw2HMnTvXN+ayyy7DCy+8wBQhIabBFCEhpFaoVLyKRqNYuHAhurq6vH2u66KrqwtLlizJe86SJUt84wFg79693vhoNIpFixbhjTfe8I158803MWfOHK5gEWIargDcEiZLLjO0hJAKU8l41dHRgTVr1uDKK6/EVVddhe3bt2NwcBBr164FAKxevRrnnHOOp+O6/fbbsXTpUjz44IO47rrr8MQTT+Cll17CI4884l1z48aNWLVqFT7+8Y/jk5/8JPbs2YP//M//xLPPPmv2BMvTXo1ixyD7uXUGdY1BT3OlbBW09krbMUSUBisOZcugag1qW4ZGy19rsCGsbBlUrcFGeRvUKc1VfVjmdLU9Q8Ry1f39Giwn8A2ZLvDqeFZzJduM1lwpd44RpZka0Rospbkar/Yq42o/LNlm7Rj8tQipvSKEEDIZrFq1CseOHcOmTZvQ3d2N9vZ27NmzxxOyHz58GLadnS9cc801ePzxx3HPPffgrrvuwkUXXYSnn37a88ACgM9//vPo7OzEli1b8I1vfAOXXHIJfvazn+FjH/uY2RMsQs5EKHInhNQKlY5XGzZswIYNG/Iee/bZZ3P23XDDDbjhhhtGvebNN9+Mm2++OWc/J1iEGAYnWISQWsHkeGWkyN1Sf2DZvvSgZYX9G9Sm+rYVhW1FEbJjiNh1amuUW6gBkVADYnYTYnYT4nYCcTuBBkxFA6Yi4U6Rm2hCQjRhih3HFDuO5nBEbpGQ2iC3qNwSEReJiIsmtTWG5Ra3HcRtB7GQi1jIRcQWiNgCIUtulqxBnvPZ9TdrRkgLByewpV2BtCsw4jpyg9ySGEESIxi2hzFsD2MEahNyS6st4yaRcZNwxAgcMYKMKzdHbQIZmR4UchNwfVvO8zI9WPNUsrYXIYTUCkZOsAg5kxHCglvCNpHaXps3b8bBgwcxf/58LF++HL29vXnH69pe69atw8svv4yVK1di5cqVeOWVV7wxurbXpZdeimeffRZ/+MMfcO+99yIej5f8NSGEVCeVjFeVhhMsQgyjkjYN27Ztw/r167F27VrMnTsXnZ2dqK+vx2OPPZZ3/EMPPYRrr70WGzduxGWXXYb7778fV1xxhVcbDADuvvtufOYzn8E//dM/YcGCBbjggguwYsWKvMVYCSG1jcm2MpxgEUJKYjJqexFCSK0wrglWW1sbLrnkErS3t6O9vR27du3KO+7RRx/FRRddhAsuuADr169HOl1ate3xEtReWVCbp7mSfVhhwArDsqKwrChsOwb7FN1VNNSAiC23qF2PqF2PuN2EuN2EOiuBOiuBRjEFjWIKEm4zEm4zpqARU9CIaXYc0+w4pkTCmBIJozliozliIxEBEhGgOSrkFnHRfIrmqjHsoDHsIB6Sm9ZehS2BsJXVXgWRHiJZjZXWXqXd4Ka0V8KVGzJqS2EEKSStYSStrPYqKQaQFAM52quMO4SMO4S0O4y0O1xYexXYPIQLCBdC/SHlp5Tldr0BYy+eOhm1vcZDtccrQsjE41U1M+63CHft2oX29vaCx//85z/j3nvvxcGDB9HS0oLPfe5zeOSRR/D1r399Qg9KCBkbE30rZ/bs2b79mzdvxn333VeORytKsdpeS5cuHdf1GK8IqW74FuE4+OlPf4oVK1agtbUVlmXh1ltvxU9+8pNy34YQcpo4cuQI+vr6vO3OO+/MO67Stb1Ox1uEjFeEkNPFuCdYq1evxrx587Bu3TocO3Ys5/jhw4cxZ84cr9/W1sbXqwmpIFkTj/FvQLZ4qt4KVaefjNpe44XxipDqZqLxqpoZV4rwt7/9Lc477zyk02ncc889WLNmTV4Pm0oTLImTWwpH9+XHtVX5GtuSdWrCqvyNLocTtuOIWLIETky1UdQDAOqEbBtUWw95DV0Kp1GVwmlQX1ndNoal3qhOlcKpC8k2ass2YvtL4gQ9rvQ3ky6RE+w7rmwzulWnp5T1VFqVyBlxVUkcoVpb6mtGLFkCJ4UhOT5QEifjDqnrpgAArptWzzH2kjhyP3VXp5tS9QmlnFPp2l7joVrjFSEkSyXjVaUZ1wTrvPPOAwBEIhHccccduPjii/OOefvtt73+O++8451HCDGLStf2Gg+MV4SQyWTME6zBwUGk02lMmTIFAPCTn/wECxYsyBl3/fXX42Mf+xjuu+8+tLS0oLOzEzfeeGP5npgQMiom1/YaK4xXhNQGJovcxzzB6unpwfXXXw/HcSCEwPnnn48f/ehHAICvfvWrWLFiBVasWIHzzz8f3/nOd/DXf/3XAIBPfOIT+NrXvnZ6np4QkoPJS+5jhfGKkNrA5HhlCSEmRRTT39+P5uZmACGgRLGaFTxPa66U1kprryyludL7czVXUmcV0a1VhzgaAQAxIctzNIgGAECd1lzZ8pqNIam5qg/LZ9Gaq6aIUH2pQapXmqt4Ae2VpbRXOpmilUt6lp525ZGM6icded+hjNw/5Mj2ZFoeH1TSqAElxjqZkZqrfldqrgaU1uqkfVJeDwMAgJSrW6W5KqS9Un39pNRelQ8hSvNh0j9Tu69cgYZwZNznD2bSWPHSbvT19SGRSJT0DKZSjnhFiIkwXhVm3D5YhJDqxuQld0KIWZgcrzjBIsQwXJS45M6VGUJIhTE5XrEWISGEEEJImanJFayC2ivk970Kaq+05kq3UUvqq+KW1F3ViQbEhTzWAKXBUjqueltrruQ9gn5XTRGpPWr0/K6k9snTXql+WGuuAvUFvZm89rdS+/Uo7XOVDrQpR/fluKSjW7lj2JUaqRHlWzViSS1W0PcqLaTvlSPkcWqvao9STfhqwbiPEGIWJscrrmARQgghhJSZmlzBIoQUxuTXngkhZmFyvKqpCVbR1KBKBQZL4gRTgxFbpgRjtrZeaAYANIhG1dZ7JXDqVQmchpBOCfrtGBpUCRydEmwIO742rlKCEVu1KlVoB1JnWrCXVnYLQn0m1/WXxMkIuV+nBke8Vl5HpwazpXFUq5KNw6okzrA1CABI6dSgq0vj6HZE3Z+pwZqjxLdyUAMBixBiGAbHK6YICSGEEELKTE2tYBFCimPykjshxCxMjlecYBFiGCYHLEKIWZgcr2pzgmUF7Rh0plPvz2/LoLVXcVva6tdDto1uEwCgCXJcox0dcwmcrPZKapK0LUOd6kdDGXVvf0kcjeNqTZVsHUveT3jaK//xEcevvUo6uoXaL9thV/4lqcoYDEPaL4xYstX2DBllx6BtGVw13lEaLKFsHai9IoQQQsZObU6wCCEFEUBJ01xOjQkhlcbkeMUJFiGGYfKSOyHELEyOV3yLkBBCCCGkzNTECpbnf1VAe6U1V5byvQop7VXIkm1Qe9WIKbJV2quE0l5NCcnzGyM2GgOaq8aw1l45gVZpr7xWapg87ZXSZIWUBkvPurX2KmNJrZcTmI1rZVNGBEriqPOC2qtgaZyko3yvlGYqaUt/K680jud3pUrjKM1VJqi90poraq9qBiFKqzQv+E9ICKkwJsermphgEULGjgurpErztVCdnhBiFibHK6YICSGEEELKDFewCDEMUWLpiZLKVRBCyAQwOV5V9QRr7NorVXvQlvUDI9r3KuSvORj0vZqCegDA1LDUXjVF5P2ao0AiIjVGzRFHHZMapHqltWpQWqu6iGzjqh8JaK8K+V5lHKm9Cn6TaI1WJuCPlVQ1CoeU9mooI9thpb0aygh1XD73IJT/ldJejagahEkhaxBmVG1B7X+l+1prhYDmitqr2sEVcivlPEIIqSQmxyumCAkhhBBCykxVr2ARQsaPyb4yhBCzMDlecYJFiGEIWBAlvGFTyjmEEDIRTI5XVTnBGr/2SvtdSe2Vrj0YtaT2qg7NAICEK1utvZoekdqrhNJeTYvJpO6UqIupUalhalIaq8aI1Cg1qLZOtTF1PKK0WaFiNQczYV9f42mvVO3BVEB75WmwlPZqUEmlPO2VK8VYA0pTNaT8rgatAXk+ZJsW2v9Kt6oGoSs/RzG/Kw21V4QQQkhhqnKCRQgpHZOX3AkhZmFyvOIEixAD4foiIaRWMDVeVcUEywrmUktMDeqSODFb2jA0WFMB5KYGtS3DlKg/NTg9JtNs06IpTInJ1FkiKkvJNMZkW6f2R1VqMKxK5oSUPUMQx5HPmk7L1g2kBh2VEsy40rYh5aUEZX8oI/sDwdSgI595QJXEGXBlynIQ8jkHbWnHoFODI66yZ1CpQW3P4AqVGtSlcQKpwWCqkKlBQgghpDhVMcEihJQPk437CCFmYXK84gSLEMNwkS0WPt7zCCGkkpgcr2g0SgghhBBSZqpgBeuUZb4Jaq+iuiSOJUviZLVXcn9QezVdaa9mxKT+aEZc6pKmxZKYUidtDppUG1faq5gaE1EaLFuXxLHltYQrr+0oO4aUHA5Haav0sqartFdppbUaUe2w0mxp7dWg10K1QrVy/q61VychtVUD9kl5Pvrl/V2pwcq4UpvlKFsGz55BlcjxSuOM0aaBVC8mL7kTQszC5HhVBRMsQkg5Mbm2FyHELEyOV0wREkIIIYSUGa5gEWIYJpeeIISYhcnxqjomWEW1V1I7FSpQEqew71V+7dXMuFxbnBVX2iulr5qh9FZT6weQaJC+UfWqjddLDVM4LjVLBbVXqYj8DHI4bKXF0vliXSInpfYnHd0q3yvVDnj+Vwi0UhPVrzRUxbRXKVd+poxuleZKa60Q0FwV0l7R/6p2MNkZmRBiFibHK6YICSGEEELKTHWsYBFCyoZAaaUnuEZJCKk0JscrTrAIMQyTl9wJIWZhcryqggmWPW7tVSQktVVxrb2C1F41urI/DY0Axq69mlkvdVbTG6SOqblpAA1NUsMUV22kXo61I/JcS9Ug1NordyTq+1RO2v+ldYPaq4zUag2r/qBqT6Zt1crrau3VyYy/5mAh7VXSla32vQpqr1yl3Qr6XWU1WdReEUIIIROlCiZYhJByYvKSOyHELEyOV5xgEWIYJi+5E0LMwuR4xbcICSGEEELKzKSvYFmwi2qvokpzpWsOxm1Za7ARUwCc6nslNVpTI1LfFNRezYzJ+oG65uAspb2aprRXUxJSv9TYfBLxKXJfpFFqnULqHCvs1yi56ZD/8wT6rqpBmFH+VmnlezWsNFhDnvYqpNqA/1Va1Rx05LP3QWqqxqq9Srvy+UVOrcH8misNtVe1i8mlJwghZmFyvJr0CRYhpNyU5oyMGnBGJoSYhrnxiilCQgghhJAyM/krWJY95tRgvS1Tgo3CnxqcquwbpkRkmm2qSg3OiKnUYFym16bHdGpQWi9Mb1S2DCo12DS1DwAQnzKAiEoRhuqkvYEVUyk1PSXN6OeXzywyIfVxVOkcXRpHpQRTaWXLkJbjs7YMqs1oewZ52YG0vE6/Sg32F7FlSLsy3ZlRKcGMsmNwlT1DsCSOTg3m9mtg3ZWMiosSl9zL/iSEEDI6JseryZ9gEULKisnFUwkhZmFyvGKKkBBCCCFnBDt37kRbWxvi8TgWL16MF198cdTxTz75JC699FLE43HMmzcPzzzzTMGxt956KyzLwvbt2wFwgkWIcei3ckrZCCGkklQyXu3atQsdHR3YvHkzDh48iPnz52P58uXo7e3NO37fvn246aabsG7dOrz88stYuXIlVq5ciVdeeSVn7M9//nP87ne/w9lnn+3tm/QUoQUbliUfw7alTskriRO0ZVDaqymqnRqKyzYiz58upVuYEZPZ2ZnxlNovrQtm6JI4TVK3lEhIPZOnvZom90emDMBuULYM9epBtfuC/kdV0ibLcXyfRyg7Bl0qJ61aT3ul2lx7Bl0aR97gpCM1UwNKQzUQKo/2yiuJ4z0wtVem4cKCW8LyeSnnEELIRKhkvNq2bRvWr1+PtWvXAgA6Ozvxy1/+Eo899hi+/e1v54x/6KGHcO2112Ljxo0AgPvvvx979+7Fjh070NnZ6Y07evQobrvtNvzqV7/Cdddd5+3nChYhhBBCapL+/n7fNjIykndcKpXCgQMHsGzZMm+fbdtYtmwZ9u/fn/ec/fv3+8YDwPLly33jXdfFl7/8ZWzcuBF/9Vd/5RvLCRYhhiFE6RshhFSSicar2bNno7m52du2bNmS9z7Hjx+H4zhoaWnx7W9paUF3d3fec7q7u4uO/8d//EeEw2F84xvfyDl/0lOEhJDyYrIzMiHELCYar44cOYJEIuHtj8ViZXqy4hw4cAAPPfQQDh48CMvKTVlO/gTLCnsaLK29Cqs2pjRYCTENQFZ7NV0dnxqV+qUZ6us5My71UDNjUn80s06Wi5mhfK+mNinfqylSc1U/VeqY4tNkP9wsx9vNGVh16osVjfifNyPvIVy/9gquHO8qP6u08r0aSUnN1Zj9rzJSE3VSaahOBnyvUq78LNmSOOPUXgVK41B7RQghpFZJJBK+CVYhZsyYgVAohJ6eHt/+np4etLa25j2ntbV11PHPP/88ent7cd5553nHHcfBN7/5TWzfvp0pQkJMQ4tGS9kIIaSSVCpeRaNRLFy4EF1dXdl7uy66urqwZMmSvOcsWbLENx4A9u7d643/8pe/jD/84Q84dOiQt5199tnYuHEjfvWrX3GCRYhpVFqDVUlfGUKIWVQyXnV0dOCHP/wh/u3f/g2vvfYa/v7v/x6Dg4PeW4WrV6/GnXfe6Y2//fbbsWfPHjz44IN4/fXXcd999+Gll17Chg0bAADTp0/H5Zdf7tsikQhaW1txySWXcIJFCCmdSvvKEEJIqaxatQpbt27Fpk2b0N7ejkOHDmHPnj2ekP3w4cN47733vPHXXHMNHn/8cTzyyCOYP38+fvrTn+Lpp5/G5ZdfPqb7WUJMzrtD/f39aG5uRsieimi4CQAQsRsBAPGQrDGYsGYCAKY50wEA00NSezU9KvVLs6QNFmaqOoGtdVKHpLVXMxulbmmK8rtKTP0QAFA/XWquoqoNNUs9k92kHq6xLqu9spUBltZcJaXGSZyU57jvq1qDx+UzDx2TOrEPj8tnPvaB7L93UrY9w/IzvDssNVnHknKZ8/iI1EadyMjPcMKSz9xvfSCvK+Szjzhyf8aVnzGtNFg52qsCtQc11F5VL0KkSzpP/0zddd56xO3ouM9Puil8//AP0dfXNyZNAwAsXrwYixYtwo4dOwDIJffZs2fjtttuy+srs2rVKgwODuIXv/iFt+/qq69Ge3t7jq/M4sWLPV+ZO+64A3fccce4P1O50F9baYjHVCohmlqKV5WGK1iEGIYQVsnbeJgMXxlCiFlUKl5NBpP/FiEhpKro7+/39WOxWN5Xn0fzlXn99dfzXnuivjKEEFIrcAWLEMMQJdb1Gq9x3+lA+8r867/+a15fGUKIWUw0XlUzk76CZdsxhCz523HYlqKqOkvVHnSlKCqhjk8J1BzU2quz6qUeqkXVGpzVJLVVU5Xmqmm6bOtmyDYyTeqY7GlSV2UlpC5KNEoNmIjGgLDSYGVkftlKqdqEKZVv1tImR85RnZQcnxqWn2E4KR9yMCX7A8oXq0/7X6nag/1pVXswIz/LScjPMmhJv6thof2vdM1Baq/I6Ljwvj3HfR4wduO+yfCVeeedd8b5qQgh1cxE41U1wxUsQogPbdynt0ITrMnwlSGEkFph0lewCCHlpVQBaCnndHR0YM2aNbjyyitx1VVXYfv27Tm+Muecc46XZrz99tuxdOlSPPjgg7juuuvwxBNP4KWXXsIjjzwCQPrKTJ8+3XePU31lCCFmUcl4VWkmfYIVssII2fI3ZF0ap17I1GATVEmciEyvTVVvcs6MydSetmU4q0Gm02YlZApw+vQTAIDGmbKtmyWtDsIzZVrNmi7TdmLKDACA0ygtFkRU7Q9HYLlyAdJKytScldGpQZli05k5NykfKj0kz02qFOFQUrb9I6pVKcL+tK1aeb4ujTMAecEBVRpnGDLNmU0NqpI46sbZ0jeBkjhMDZ7xVHLJfdWqVTh27Bg2bdqE7u5utLe35/jK2HZ2oVz7ytxzzz246667cNFFF43LV4YQYhYmpwgnfYJFCKltNmzY4DkbB3n22Wdz9t1www244YYbxnx96q4IIbUIJ1iEGMZEq9MTQkilMDlecYJFiGEItZVyHiGEVBKT49WkT7BCVhRRpb2qg9RCNSl7huaw1GYlIlLMNj0ms66z4lKHpG0ZZipbhhkz3pfjzzoOAIi1Sg1WuEUKnsQsKZ51pskSPG7jVNnGlD1DWOqpLNeBlZaaJ1uXyFGaKCg7BTEidSUZpb1KDSp7BlUK5+SIbPtT2p5BltzpS8nPMqDsGfpdqSPrs6QdwxBkOxLQXnm2DGp80I4hq8mi9oqQ04cFq8RSOfxZzDLmr6F1ml50F6MrePhvRcrBpE+wCCHlxeQld0KIWZgcrzjBIsQwhCjtFeZacEYmhJiFyfGKRqOEEEIIIWVm0lewwnYdYpbUYDUIqYXSpXESYalbmhaTU9WZMamlmhGXeqQZjVKvpH2vmlqlBit+jtRghc6Ws2K39VwAgDPjbNk2SQ2WiEsNlojI+2pPKSs9cIr2SqG1V8OydQekxirVXw8AGBqQn6F/SPZPKC3WBymp6/owpTRYyv+qT/lq9UNqrYYs6X+VdOVnSisNVlZ7pXRknvbKXxqH2iuiMdlXZrKxEB5zjUQR+Ip6Z50B+p+iGquAtsrSv+sX2u9R6ppAID5ahfwClf+htyP338qEf59qwuR4NekTLEJIeeuQYLsAACAASURBVDFZ00AIMQuT4xVThIQQQgghZYYrWIQYhsm+MoQQszA5Xk36BCti1yMOqYFqFFLH1BSWjzVF1R6cFpV6qGkx6X81s0HqlaZNkbUHm2Yp7dVZsvW0V+fOBgBkZp0HAHCaZV/UnwUAsJX2SufbXScpjwMA5LWsjLynNTQkx0iJFNIn5bMO90nPrpMD8lonhmT7YUrqyE6k5Gc5Ie2r0J+Wn6VfyB0nQ6r2oJAXTrnyPtr/yvF8r1QNQuTXXGmoDyCixCX3WngrZ7Kx7HiuBivnZ9Gv48mpD6p0RkGNlj5eSL9UTT/b5ddYydaywoG+bkOB8WpUAZ8sV/hrswrhqFZ/jdX+gBbLCtZ0zekDFvWuZcXkeMUUISGEEEJImZn0FSxCSHkxWTRKCDELk+MVJ1iEGIbJmgZCiFmYHK8mfYIVtxrQqGoPav+r5ojMXE6Lyi/hdOV/NVPVHpyWkHqlxHSpwaqb9QGAbM1B92ypudLaq8zUjwAArEapwYpFZ8i+yvdrL6mUkP5Zws1kaxEOyHuJftnPKN+r5IkEAKC/T7YnBuRnODEiaxK+PxJRfalV6EvLvP2HrtR59duytuGwqnGY8moPag2W0l7B73uFgLYg26+FbzdCahvbini6IOFpqvTRAp5K3jj/z66nJ9I/w4VkTUW0WSVxmmr85fhWaQ1VEa2VbUd840LquNZe2boPpcUq8vzCi4tSe+Vq/0ClxXJU3xXKX9DTWikvRO/fRPeRHWf5/930vwtjMAky6RMsQkh5MXnJnRBiFibHK06wCDEMk5fcCSFmYXK8mvQJVp1oQjNk2q05Ipd/tT3D9EBpnGnKnqF5qkyr1c1UqcGZ8rholSVwnBnnyFbZMnipwVgrAMAOxXzP4OgyOBmZvrOHTyA0IK9tfShb54R8tuSxKQCA/vdl+8FJmRo8NiRtG44n5bWPj8jxH6Tkt8EHyu6h35KpwAFLpjeTrvxMOaVxlC0DBFODhFQjwTRV8LVxz6bBy+yp9JjwWwBk03WFin+MoyjIGFN/uSVoyoXfjiE3Nei3XfBSgTpVaEV8rRW4TrAfRARsFURgnP5K2t5x+RxZ+wa/hYbXV/+Glshjr6FgqpAEmfQJFiGkvJi85E4IMQuT49WYf41JJpNYuXIlLr74YsyfPx9/+7d/i7feeitn3DvvvINQKIT29nZve/vtt8v60ISQwuiAVcpmCoxXhNQGJserca1g3XLLLfj0pz8Ny7KwY8cOfPWrX8Wzzz6bM66pqQmHDh0q1zMSQsi4YbwihEwmY55gxeNxfOYzn/H6V199NbZu3TrhB2gUjWgKS9FVc0TmsKdGZY57qiqNM03ZMzQ3Sb1S/VRpnRCdJvvWzDoAgDNlumwbpRZL1Ek7hmhE6qV03l/jOtIKIZ2Weihr6D0AQKi/G/bxbjmmR2qiUr3y2gPHpgEAPuhrBgD0DkibhmNJac/Qk5Rf0uOqNM4Haamh+hDyM/RbUtOVVDV30o5feyU8zVXG16f2iowVk0WjY+V0xSuRp0RVVlcUTAhovVDwhLFfe7TxpyqKilHM1iAYG7PP5JR0XlZTlb80TrD0TVZbFQr0gzq33NI1p/aD9gy6H7Rj8Gwa3LS6QpESOfn+bQJ2DdnP6P8HY6weHZPjVclKx4ceegif+9zn8h4bHBzEokWLcMUVV+C73/0uHGf0H1JCSPkwecm9VBivCKlOTI5XJU2wvv/97+Ott97Cli1bco6dddZZOHr0KH7/+9/j17/+NZ5//nk8+OCDE35QQggpBcYrQshkMO4J1tatW/HUU0/hv/7rv1BfX59zPBaLYdasWQCAadOm4eabb8bzzz8/8SclhIwJMYHNNBivCKluTI5X4xK5b9u2DT/5yU/w61//GlOmTMk7pre3F1OnTkUkEsHIyAieeuopLFiwoOA1GxBDU1jm3Zul9QmmRmVefGpM+lI1Kw1WY7PUXMWmSR8se7rSJyWU9iohNVciJnVRCNX57uXq8jNa96S0V2LgCAAg/ME7su39C/De+3JMt/S5GuiW9zhxYioAoKdffv6eYRm0u5NSR3YsKfPvH6RkmuGEkKVvdGmcISHvOeL5Xw37n035X1F7RUrFRYmvPZf9SSaX0xGvLMv2yroEPZyCuqJCXk6nXmssBLVZOfqjQtqtURjrvSfKRP22Cn3WoMYqq8FyfH03cLyw5krfIKin8vtgAdmyOdkdfu+sIDkSunH+e5ke802OV2P+7v/LX/6Cb37zm/jwww/xyU9+Eu3t7Vi8eDEAYNOmTejs7AQAvPDCC1iwYAHmz5+PK664Aq2trbj77rtPz9MTQkgeGK8IIZPNmFewzj33XIigVbHiu9/9rvf3L3zhC/jCF74w8ScjhJSEyW/ljBXGK0JqA5PjFZ3cCTEMIUpbPi8wHyGEkNOGyfFq0idYDaEIGtVTJKKOamWevFnVIGxskJqpuNJghZvkfqtJek85jdKTSkSk5krY6oKu1DFlMgNyv9Y1pZV/1sBfAACRD4/K63b/rzzv8LtI/0VqqwbflZ5a7/dKfVdPn9Rgdavag93Dfu3VCaW9el9pqz60pe/VoJDtiCPvnVHHHU975ddcjeq/QgiZFOojMxC2ZZwJKY1V2JIxIAJZhzSMuGplHIoIeTwsAhqtIgoNV3s22Y6/D+XhZMl+BhlPk+TCr1EaK9p/KshYn1ETvK8+HnyuoDYq60/l96vSyxSuFx/za6+0z1XOdQv6eBXyKMv/eb26knAL+pJZBWN14Gtkja778nZ79RALwP8bqp5Jn2ARQsqLyUvuhBCzMDlecYJFiGG4AnBLCD+1YNxHCDELk+PVpE+w6kM2GtRTNIVVijAirQoalE1DXYNMp0UaVWqwQZWTiStfm3DEd03LkeeJlEzLuaq1MnJ/aOi4bPt6ZNsrU4U4egwAkDlah8EjLQCA4+9Jj5zuD2SJnHcHpG3Du8MyHdCdlEvKx0fkcu376t4fWtKOYRC6NI60aci40rYh7ejSOMqWAf7SOMHlX9Nf1SWkFmixL0QDpA1MnYirVgawOiVNiNqWr42oNqRyPboNpn70T7j+j8NRbUa36kBat0K3LlIqFeZ4KTmhWn3t/PEjWNYlt9hP/gRV8D9EfR9Hxa2MpdKYOvVnyedLI+U77iDta739OuUX7OtUoeVPDWatMQKpQfX4hS0Uxl9CqFDaMXgPt4C9RvD8XJuNYhYSqg1+tiKpxmJM1FKD5DLpEyxCSHkxecmdEGIWJscrTrAIMQwhSgxYtRCxCCFGYXK84pogIYQQQkiZmfQVrLgNNIblVLRBabAaojJPXxeTFgbROqWdqpN99VY0RI72Sp5njSgbhtSQb789LHVQoQ97Zf+4bEWPKlvzbiMAYOAvszztVY+nvZK6i3eHpe6ie1jm5o8n5bMfV/quE5a8R58l9VzDjuynHWkVoUvjeJorBDRX1F6RCeKW6CtTC6LRyeZ8uxXTlB1MvZLnNKowVBeSX8D6sPzqx0Oyjdmyjag2lFNrReKoeixp11at7I+oftKR/ZTan3Tk/hEnhJQbUefoa+lW/qXYP21QaWVbBc0BAACuuq7r6cSE737pQF9rxNLKZiHtygdNWTI2F9NopS0Z+90Cdg6eTUOObcToPwlB3VEhW4pTtViFrR8wpmcoVPporGWAnKCljy4PVKC8WvZfslhUKLLecprKK5kcryZ9gkUIKS8uRGlv5XAyTwipMCbHK6YICSGEEELKDFewCDEMk0WjhBCzMDleTfoEKx7KahXiIZlLjoVlPj2qtFh2WOaWLTVOV3WwVB7fSkn9kz3Ur/pS5wRXXs9OylI7dr/ywzqh/LF65PVTPVMAAIPvTQcAvN8z09Ne/eWkLMNzdEhqr94dkjc/FtBeHVe+V32W9NhKukrX5Q6qVj6Tq32vVItAnl1D7RUpFZOX3CebWVEbM2UoQHNE/swmIhnVyrhVr+JVg+rHdTxT+0PKq8kKaLFcobRXjowxKUeG52Qm0Or9alzSsT09Viqg38p4WizZCqXzGqvmRetccj26LN91M4H7aS2Y1malXfmsnneX5+UVVa2M1Rno/arMmdKoao1WBn6dkee3Zfn1S0EdVDEKaq/ylRAaXZ42ZgqVFdL7vc/u6cv8fUf9H+IGPMJc77j2VvRrukrVYlmnS4NlcLxiipAQQgghpMxM+goWIaS8uCjxrZxyPwghhBTB5HjFCRYhhmGypoEQYhYmx6tJn2BFbSCq/GNiIZkzjqo2pHyxbOUrY9kBQUBK+V4lpb7Jdv1zWiupfLAGpAeV+FDqoZzj8mOPHJsBABjoltqrE8dk2/Ph1Kzv1ZD0vHl3WJ5zbETe/Fha+rIcV75XJ60TAIBhV2qxUs5J1cp7u57myu97FfQsofaKkOolbANRFYfqVFzS/n2JqNS+JFQN1YaoauOyjUYC2tJQAS2W0lM5SmuVTqtWabBSael5NZKRbTIdQVL9PeVq/ZZsMwFNlqN0XlkNVf42qLXKnu/vpz3Nld6PQKu1Wf7jWW2Wfh71GT3/rKgap32vlObKq7Wonk/FfK3B0oxXg1WM0a4X1G/l9MXYlDjB+o1pS9dplPtHrGG1X/7fkxa6lfu1JstRX1Pt8aXPF4E6jbk1EP2cLs3VmcSkT7AIIeXFZNEoIcQsTI5XnGARYhiiRGfkWlhyJ4SYhcnximuAhBBCCCFlZtJXsMJ2bq2usPLDsm3lE6Jzxyqfr8pVAUlVmxBSB2WFlWdJRp03JLUPbp+q4fSBNLAZOS59rwZ6pdfVieOy7e2T+98dSOA9VXNQa696te+V0n29b0nPLe17NRTQXgV9r+B5kuSvF0XtFSkXQv0p5TwyOiNOthZgUJekdUuW+jpq3yutvaqrlzEhrtpITMaGUEwet1Tc87SmCh33hNJVOUqT5aaVzioVgZPRei2pxcqoVuu3MupcrePy9FxK55XyvLbya7m0v1bqFO+tU/frr4Xuj+RosvRxf7+QX1dGfTGDNQ71cZ0eyvp0Tex71w0sh3jXD1w3332sgDGWrfpea49unOXpzNR/x1pnlnalDm3ESgZvKJ/N0no07X+l/CK1dirwqMX8sPT/SVq7lavROj3rMSbHq0mfYBFCyosrStQ01MKaOyHEKEyOV0wREkIIIYSUmUlfwYrYp6QGVRtSrR1cKlfL0jrrhkG1JJpSaTe9oikzh3AH1RL6B9JyIXlClr0ZeF+mAk+cmAoA6O2X/fcGG2U7FEd3Un5puoeVLYNODWJsqUFHtUwNkkpj8ls5k01ayDQhkC0Pk00R+lNB2n7B1hIIlSqM1MkAFW2QMSKsUoZ2nbKdiTj+VpcIK/TrsJuNjcioGJmRsU+nEZ3hmOyPqNI0Q7KfGZFtSh1PKmnEiNqfTEV97XBatSqVOKQtI1RKccTRrXyOpJdqtNQ4nSpUfSeYOtRt0N5Bfi31d6gTyF4V+t61i9S1yUkBBlOQBfaP5V5WkZI6+ppeirHIPbIpQW1dkfa12VI5uqSOv3ROof+DclOFQQLfeGW2bzA5XnEFixDD0AGrlI0QQipJpePVzp070dbWhng8jsWLF+PFF18cdfyTTz6JSy+9FPF4HPPmzcMzzzzjHUun0/jWt76FefPmoaGhAWeffTZWr16Nd999FwAnWIQQQgg5A9i1axc6OjqwefNmHDx4EPPnz8fy5cvR29ubd/y+fftw0003Yd26dXj55ZexcuVKrFy5Eq+88goAYGhoCAcPHsS9996LgwcP4qmnnsIbb7yBFStWAOAEixDjEBP4QwghlaSS8Wrbtm1Yv3491q5di7lz56KzsxP19fV47LHH8o5/6KGHcO2112Ljxo247LLLcP/99+OKK67Ajh07AADNzc3Yu3cvvvjFL+KSSy7B1VdfjR07duDAgQM4fPhwFWiwLCCstAphT3uVv4SE1hWIEfXYrsop67dSld7AHVI6g5MNAIDkCanB6lfaqw/6pBbr2EnZ9gzJcd1Kh9CdDKNXvRn7fkrmr09Alrz50JYlcYLaq5Qry/C47oh+WNlQe0UqjMmahsnGsgD91r2nsQrEqZy+0pJq+wVLaWksVWLHisoYYavWqlNtvbpPTNnPRCP+NizjoLBtWLYKgqp0jKXLhmVUaa7koGo/kOcoiajWqTqDSpM1IG+a6letKhU2PCj7WqOVVBqtId2mdSufTWu0hlXMHlZ2ENreQbchpecJKy3WsP6aaf2Sduqxtd5N9kPqS5J9kyxglRAQQBWSQwlo/Zxf4yWE1oD59+crTFzoZbbg/kLWEilln5BWHzat/o/Q9gzDtvyqjKivTgqyBJyjSuV4JXJUP6P+D3I9bZa2CvJrrnK1WAUIaK6sMZb+GSsTjVf9/f2+/bFYDLFYLGd8KpXCgQMHcOedd3r7bNvGsmXLsH///rz32L9/Pzo6Onz7li9fjqeffrrgc/X19cGyLEyZMoUrWISQiVFJTQMhhJzK7Nmz0dzc7G1btmzJO+748eNwHActLS2+/S0tLeju7s57Tnd397jGJ5NJfOtb38JNN92ERCLBCRYhplFJ0WilNQ2EELOYaLw6cuQI+vr6vO3UFapKkk6n8cUvfhFCCPzzP/8zAGqwCDEOdwLbeKm0poEQYhYTjVeJRMK35UsPAsCMGTMQCoXQ09Pj29/T04PW1ta857S2to5pvJ5c/e///i/27t2LRELKkiZfgxVyPR+saEjqBXSpHE+DpXK+ulSEm5T5fUtrspT3i5NUni5KP5DsawIAnPxQaq0+7Jf9HqW96h2W43rUed3D8nrHR4BjIzJvfRxSY/WBLX2vBt33AQAjbqAkjsp7C5XvpvaKmM5kaBomm6gFxNSvpRGtHVVtJOT38Qt5WtKAz5Dwe1V5rdIlWUo2Bd1GAlNfpUcS0ahqYxDRuDqmHs7WIiUlYtLarJTU9VhJGbdCAwOqlbqe8KBso/3y2pmTMkbGtSZrQOpVh5S+Na40WvGkvH9sRLUpGVNDVvTUR4ZtqRiutU8qPrrqaxLTain12NDVz9SXwMkJn0HtlX9vkSo1p+ih/Bov3YaF3i93pF144qpg2R49Ruu5guV2HP1Zvb7SYEFqpdKWbuX/ISndKs1VSgnnMp7WKqnum197pf8PKqa9EsV+tRKBEjp6fJn9sE430WgUCxcuRFdXF1auXAkAcF0XXV1d2LBhQ95zlixZgq6uLtxxxx3evr1792LJkiVeX0+u/vSnP+E3v/kNpk+f7h2b9AkWIaS8TLS211hFo6NpGl5//fW895iopoEQYhaVrEXY0dGBNWvW4Morr8RVV12F7du3Y3BwEGvXrgXw/9s799g4ruqPn5nZlxPHNvmFxG6axE1JiGjTmIYmpCBSRFAkWtxIpTwkSKuGpkhEBfEHIJQH4g9aJSmIpkAU1McfqEkbWtqKIKS2vKq2lJQUAi2UJKSKVWLn4diOvY95nd8f95xrz93d2LtZe9fD+Uirm5m9M3N3x3tmcs93vgdg48aNMH/+fK3j+trXvgZr166FBx54AG6++WY4cOAAvP7667Bv3z4AUDdXn/nMZ+DIkSPwq1/9CoIg0LFs9uzZcoMlCHEDq6zthfQ/7wULFkTW79ixA7773e/WYmgVUUrTIAhCvLjceFUJn/vc5+Ds2bOwfft26O3tha6uLvjNb36j/9N36tQpsO3Rmbkbb7wRHn/8cdi6dSt85zvfgSVLlsAzzzwD1157LQAAvPvuu/Dcc88BAEBXV1fkWL/73e/kBksQhCg9PT2R2aJ6axp++9vfyuyVIAg1YcuWLWVTgr///e+L1t1+++1w++23l+zf2dl5yRu9ut9gJS0crUVI2iv2wbKdINJX19cqKA0W5u3IsjtMni2kvRoaVEH5wkW1fHZEtaPaK6UP6NPaK/VFnXc9rb0aZN8rVL5XrL1yA+UrwzUHRXslNAqhFRbpfia0Hf3Nslh0POqhaag3GQegKaG+pxnUZihOZUhDmjS0pHZZLRZpqUhbyj5+6FBYphqroH20lLYGEqyvGrM/+l93mJlJfUifRa2GNFmWr+KVTf5YVlbFNXuY2iHVOoMq7iUGlA4oOajiXbJJ6X9SFGuTw17kMzsT/PuzSWTFcwZcqzBl+F4hXlpMNepJBnR88zhReHRac0XH9WiZ601yjUSunQgAQLZV4NFePDoP7GPl6lqBqvVJVBeQqM63AmOZ3ycNFhXT5WWfri2svQqLagxGr5NFsFbK9Lui9YZtW1lNVtH68fyzJsjlxqtGpu43WIIg1JYQQrCqCD7VBKyp1jSkUqnSAxEEYVoylfFqqpEbLEEQqmaqNQ033XTT1HwwQRCEy0RusAQhZoSAVf6PsLo09lRqGgRBiBdTHa+mkrrfYKUdhDTl7bUPFtfoso1ahOQTEwRKdBt4avjeCGmvyJtFa6+GSXNF2quzOdWvN6fSDGcLan+svTrnqlx3Pwxr7dUwqrYQmNor9r2Kaq5EeyXUG/Y5rmY74dKkHYCMo37TTRS3ZiSVFqYpqeJHU0q1SVqfStNyRrUOvW8nqeYga0053tkVxoxEEjClYhtmmgEAIEyrFtMq9qHDPlnROq5WQL5YBdJe5QbVGIeU7589oHz/Ev2qhqF9QbWJZqXFStBnSqYLNJSo/iyhY7s6for8sdJUqzBNfl1uqFovZO0V6dN0rUAavqGtckhAZEFUg2XWg2R8Y/8e+W+5VAuRNWB52lHWt2j/QOOwIOBjIHt5qWP5hvaKfazY36qc5kprrYCvJaTR0vVsoxor9qOyrWR0PXuM0WcKMUktabXocs83M9onq0j/VLpG4WTFhzjHq+nlFCYIgiAIgjANqPsMliAItSW0cLQKQiXbyWyrIAhTTJzjVd1vsJJWWFQix7ajpXKQp3UpJciPNXtZNd3MZRsuDqnUYP9w1Jahj1KDfVRi5wzZO/RTavCsp6a3L5A1w4DdP2rLEHBJHFVSIjBL4vC0blFZAkGoD3F+KqfezEwgzEqo33ozpQBnpVRMmJVRabPmmcrSYOYsFTPSzWo5PUvJC5wZKi3nNKkYYqUoXZekuMcPSlJrJSknlaKUENs02BUkIDhFmMhEVvMlCpOUUkw2RVqHUo92Kk2tShlaCfVZLSoPxOlOmz5DIuFH2pTR5jz14bIeWexwTA85zcXpNxofLWs7Blpv6RShwkwNhjrVqODUoB9SapDaPKXXLJKh8PFoWNrOwUf1AgBwuJwO2R0EnJqjwSTo8op8TeBB6nQn2SSQVYXDqUFKGTqUAgwtksRwqs+KylH0el12yLRxCCPLgSFrCUOPvy0aXzR1yP105boax4k4xytJEQqCIAiCINSYus9gCYJQW+L8P0JBEOJFnOOV3GAJQsyI81M5giDEizjHq7rfYCXtUJfKcXSJnOgXF1IinNvAVbnpHJXGGaZSOAMjSkdgaq/YlqEvr5LgrL065ystRL+ldFZDlnoEeSQ8r0vi+FQKxwuMkjjjaK/EnkEQ4kdLMoC2lPpt/1+T0lbNaR4CAIDWFtXOeo+yOmiarZaTrUqL5cwi3ZIKU2A1kcBHa6vYSoGUG6YnAVkaaHzSbmWHwXaVDszOqmNigsqJsX1DKkPrqYSOxTouLrtD+lePxujmI/uzaP+jfgn0GUhzZZMVRSKj+qUoRvu+usQEQVRbZcLaKZLfjrFTIE3UOCJoftfUXDGsvQoMmwat9TI2GNV6qfe59E7CAkjbbN1g03tU3ofG6tHOPKTPTmI6n64RAY0upH7lSunwDE1gRe0d0NBq6e1JYxWay1qTpc6JrdeTJovLLCFrsRR8bdPSMfrHZGmx4kjdb7AEQagtca7tJQhCvIhzvJIbLEGIGQhhVcFH/kcqCMJUE+d4JU8RCoIgCIIg1Ji6z2A5Y0zGTN+rkEvjUD6flws55QsyMqzEDAPUnmMNVl7pDdj36mxB7e9cQd3x9vtKJ3DOUlqJi5Yqh5MNyfsqvFiiJI5or4TpgfrfYDyn3OtNW9KF2Rn12589U+k029pUHGl9r/KImtGu4klijtJe2e8l3VPbewEAIGx5j1rOKP8+1kdpSA9l+UoTY7mki8pnqeVlpZOC4RGwSI8FfrSsShGmvsv00grDyH7Qo3imwh8EOdJE5VUM9kkH62fVZ+CyZV5efebAJ+1VGPWXCsu2dHjSM7FflamZGk9zZe6PS+5oHywulROyL1Z02RvjezWWhD16LNtifRZrsEhbZfMYSDOMXEoHI8t6PV1DPNJW+bTeY00WXWvMkjsue3eRFsv02WKtFmq/LTvyfqMQ53hV9xssQRBqC0IAWMXkNAdkQRCEqSLO8UpShIIgCIIgCDVGZrAEIWaoGl3VTLk3WO5AEITYE+d41RA3WLruEyWvPapP5RRUHt+mhLjH/lfkbzU4ojQM57KsvWqiNkWt2t+5vNre1F4NWucAYFR75eq6gzkIQva9Yu8R0V4J0wM15V7ab2i87YRLk3JCaEoqQVImpdomqj2YblW6zcRs0l51qHgUtl8BAAD+nCsBACBo6QAAAMzMUTtNzooehDz3rJyKT3aW2otnAQDAGVIaL627yuYAL1J8UkMB5LqtpIFCP6qBGhfWTNF27EHI++W6sD5psVgn65I+1qXY7bqkxWItVVhZ0oQ1VJ6hxfIMPytTW0UypjHaLTD68TIY+1HLfhh9n6O7HxZ7Zjn6K1X/YHlbSIOwuY5i1EJMe2xZ/FvV+yXtFNUoZK2RTVuav1Lzd6trDJarTahrGJo1C6M1Cs39TVad3TjHK0kRCoIgCIIg1JiGmMESBKF2xPmpHEEQ4kWc45XcYAlCzIhzwBIEIV7EOV7V/QYrQEvn1wukvUpS3t7UC7j0/jBpsM6T9uq8ob06Q9qrflcltc+T9oprDl5KewUAEIQ50V4JglBEIXCg4Ks45PlRPRIGbIBEncljiusChmkVr3BGOwAApGYsAAAAx1FaUsum/YTke5RRUGMC/AAAFV9JREFUWlG/6XRke6B6grx/GwCscIgOSrqULMctFgRRG/ByVB3C3oOakLVMdsn+jO2QXsixaWheyX7sccj1ZhOe2i5BxQdTjvqO+LvN03frWKrlGoWu1mIpfZJnaK/cwIqsD7SGa+Iaq7HLIRb3C9Hsg5Fl1n+xn5VenqgPFrBvVrQmoW6prEyx9oq1W2Gk1e/TcRAr0y6xf5Yp3xunPKQADXCDJQhCbYmzaFQQhHgR53glN1iCEDNCrHLKfZKeEhIEQShHnONV3W+wCoEDWZpVbnLVI742zT1ySpAf7c17amp8gFKC/bokjtrubEFNG/dTWYdzrvrHBbh0atAN1ePV4ZiyOEWPrEpqUBD+57noJ2GgoOLRjNwMAABouqhSd+kBJTFINKs22Ux2DTNUCR2HS+MkVfxyLRXfUk0qZWhjtGSOTSlDi2wc2NYhaHYj/dB2wE6p2GhlqZxOVo3BdukR/ICCrG98oHGuUTrssUKC0qDoOZE2LFAalOwZ2LYhoPU+yTe8QtTGwSM5SIGW87TMsT5H7Qitz1IK0Zzv4FSmC1FbhgKnDLkCUJkUoZkqZMqlA8euC2hf7Ms00ZRgQF++z7YJRmrQpy89sAJ6n2wVjJNWTotkGSYBli6Zo86ZrVOJdC5pXLrijv6SaTvzhqbySaf/Oep+gyUIQm1BCKuqND8dqtMLghAv4hyv5AZLEGJGnAOWIAjxIs7xSoxGBUEQBEEQakzdZ7CygQ0jVI4hUSBtQkCP6NIjvR6VacjRo7uDLmuuuCSOQ63a53nSHQyA0iMM2UpzxdorjzRXbMswVnulWl+0V8K0BTGs6gkbnAai0XqTC2zIkR5puKA0UzOzSouVHmgBAIBERsURK6k6JkCVuEm6Ks7YWaX9DNp6AQDAb2oFAABMU8kcsiYAtoYhmxmnQJoubrPKmsFy8wAhnTuu05JSWiVIkI4rNM4tWTzo/no5ul7LbFiMxOV5fPZNoNhZUMEXKQYj6WHDPGmxsuq7CqiUjpelNqfW5+n9JFnwJAs+DcPUG7HGKmrPUDBsJExtlUu7MbVY/L5ptVAOnED4N7VYoXEMfp/b8bRXHqi/J9+i9eBFWtZgcekbtmGodIaHNVo8blPDBZa5v9rMz8Q5XtX9BksQhNqCEOoLUaXbCYIgTCVxjleSIhQEQRAEQagxMoMlCDFD/c8unv8jFAQhXsQ5XtX9BmvYd2DAVRNpnFcfIa0VT69xeQReP0jeK+cL3Kp+FzyVg+5Hpb0asC+oY2A/7UetdwOlwQpIgzVWewVAJ060V8I0RWkTqghY00DT0Aiw63RA8YpL5hTIjy8/pPyubNJgQahK3jh5pZly+qlt7lHvZ5T+CMnLqgjSPVnk6wekMeUWCwGQTAdC9rkqJ5ehlmVekORlQ7vFWqyEY+yH10dXW8AlcrQ7lOrOJXhY50rLDvtpkb42Sd+hTzE8QctJKsXjkP7HKdIB0VG1pso4N4b2qsAarJA9qaIeVRP5BZhpH3MbvS89JtPvikvj8Pqo1sq1SGNFmisPCrSdF12m61WIrMkijVZI1zMutWP0Y4NOXVKHNVvj/v5L+2pdLnGOV5IiFARBEARBqDF1n8ESBKG2xHnKXRCEeBHneCU3WIIQM+I85S4IQryIc7yq+w3WkAuQpppb7GWStKN6J5fqSQ2TX9aQp5YvkO5ggPL25wOlqRpwlPZqBFXrat8r5R8TaN+raL3BUt5Xor0SBIFJWAiWERNYOxqQnsjjOnvDytPJJh0R643sLPlhXVDxClKqZUmLDj8cjjyj/l9BxcvQU/5bYSEFoUfrWNvE2idk0ZXamZ0II2Niry7baK00tY5H/cinyNBygTlWOj5QrA5dHitdakJjfAYW1aE1W/ZEdGiZ69U6ul90e75ga0WY1kOpfxTIF8yjZS+M6qTMuB9WcB0Y9bniY9K+tY+VT8vRGoOuRX5XkKeW+qH6e2ENlU+a4WJtFWnyyvliGX9Y1c4AsT/WdLjBqTd1v8ESBKG2VGPadznbCYIgVEuc45XcYAlCzIjzlLsgCPEizvFKniIUBEEQBEGoMXWfwRr0AewC+18pjYHD1ilGHaksebyMUCGpQfKHGQhVzlprr0C1hVDV/PICpb3yzZqDwDlq2rFor4QYoP52q6lOL3/z4xEiQEC6poD0RH5I2ivybvJc5SXFWiyb6uwBaUsd0idhOhFZb1GLftQjivVLXMcvoP37edJ65VPge7SOxhBQLEUaa0iaJ5uOYdvkL5VQbSJB/lMpL9pSXUXWZjm03k6SNivBNRCNvzdDa8WfgTVa/Fn1d0LHT9L+A6pHmwpId8T6Nmp9/u5J/zaDlr2Q/a9Ia0XiLMeYIOHRsvaqAOw5pZZdiHpLhRbrqkJd+8/UMIWkc+P3R/sFkeWiWoJ03WFNVaA1Vb7RVqa14uub6eloxobKtVi1nZeJc7yq+w2WIAi1RQXayoPPdJhyFwQhXsQ5XkmKUBAEQRAEocbUfQZr0AsBaTo3adM0tpEi5OnebKDuWIepFMBFepx1yFGlKDg1mAsGaTu2Z8jR/qKpQT11KmVxhBhR7ePX08G4r94M+462i0m6KmXnGOkx1LYNVP6FUnqpnEoVJtJKquCkKc1m2NKYaTVutf0DtVyax3VT4FKKsECtR8fmNCZbSfDYtO0BtUlHxcQUpepSlAJMUcoumVKxM0nrk5Q65NSetnfgz2KWtOFUJds3cCrTi35HOsXJdhM0XsuwZ7AMmwZuE7ofRFoTLq3DtgycGsyBulZwuZqCpa4xY9N6+t+mzU8YTQWOlqIptxx9Cq64XxBZLlfixty+fLqtjD1DmZmgcvGg1lfHOMerut9gCYJQW0IMq3gmZ3pMuQuCEC/iHK8kRSgIgiAIglBjZAZLEGJGnKfcBUGIF3GOV3W/weoP8uBxiRzLibzHJQY8ylXnKOc9YittVdZSNgxZHAKAMbYMhvZq1IYhqr0yT5Bor4Q4EOencurN6SxAECq90KCr4tUA6Ydacqo0TsvILAAAaE4prdVMajNJ0jGxJQKVq7FJB8W6ItYdhWxFEERtIFhnVfBVm/eTkCfNVZ6tIrRtAVlKYOkkDGuXkjSGBLUZGluKtFkZ1mbRsqnZYi2X+VlYM2VqwPizBcZnZMsL1+fPQ5+RPl/Oj7Zs7cMt6+Muemz9A9SqcQwH6nNlQ6WjGgF1TnJWjtqsOj6o1qMyNQG1PrraNkHbL5g2CYZmiqn1DYFlsRWH6WhOVhh8XP0PiK7n8Rg1miaq0aoVcY5XFaUIjx07BjfeeCMsXboUbrjhBnjzzTdL9nv44YdhyZIlcPXVV8Pdd98NnufVZLCCIAgTReKVIAj1pKIbrHvuuQc2b94M//73v+Fb3/oW3HnnnUV9Tp48Cdu2bYOXXnoJjh8/Dn19fbBv375ajVcQYk+hULis7RHDql9xQuKVIEw+Eq/KM+EbrDNnzsDrr78OX/ziFwEA4LbbboOenh44fvx4pN8vfvEL6O7uhvb2drAsC77yla/A/v37aztqQYgxlxuw1OPY1b7igcQrQZgaJF6VZ8IarJ6eHujo6IBEQm1iWRYsXLgQTp06Be973/t0v1OnTsGiRYv0cmdnJ5w6darsfgetIXDJl8rB6HDYT8RjTxJbeZLkQZW+KaDSWrmkufJJc6V9r8zSOIZvyWjOWbRXghAnJitenczn4IKntC/NjmpnJJQvVZOj2mYKYxlHxZUmKieTJn1Sir2n7KiHU5FeiY7Jy1wGxidPqUKglt3QhoIuEQO0LrrMnoKBEerYJ4p1OVxSJmlzi9Fl9p3SY1frE9qfivY7TkzlB/OD0FjmcfL4Mfo5+Dvg8mn5ACLLOdJa5cmTaoS0Vnm6xrDPVc7O0Xq+luTouKNaKzUetTy2XE250jRlfabGwSqa54guW9bE5kG431TN7Mh1c3zqLnIXBKG2xLm2lyAI8SLO8WrCN1gLFiyA06dPg+/7kEgkABHh1KlTsHDhwki/hQsXwokTJ/TyO++8U9QHAADJSjfAUWdc80sO6QvURTF1Gy2CWVTksqjFaKtPjNkKQv0ZGhqCWbNmgWVVY78HNDNbxbYYn9/BZMUrH13waHbDQ3rijcIWz+YU+OEsnh0KozMb/HS0j9XNYAU0w1EIR2ewzBkrHpNf5QyW6QmuWx4rTO4MVlh2Biva8ud0ueqHbvk7pmLRdM0YdWEvfS0J9bXEbEevKeWuM6MzWJX+jmo741R2PBi93hWNs+j6CJH+JY4EABKvLglWwNq1a/HRRx9FRMSDBw/iypUri/qcOHECOzo68PTp0xiGIX7605/GPXv2FPXr6elBUGdIXvKSl/EaHBys5KeJiIiDg4MIAGhbLejYrRW/bKul6mM3IhKv5CWvqXlJvCqNhTjx28C3334b7rzzTjh//jy0tLTAo48+CsuXL4cvf/nL0N3dDd3d3QAA8LOf/Qzuv/9+AAC46aabYO/evZBMJiP7CsMQ/vvf/17ena8gxJRqfhdDQ0PQ2toKttVc1W8KESHEYRgcHISWlpaKt280JF4JwtQg8ao0Fd1gCYLQuHDAsqwZVQcsxGxDByxBEOLB/0K8klqEgiAIgiAINUZusAQhbmBY/UsQBGEqmeJ49eMf/xg6Ozshk8nA6tWr4c9//vMl+x88eBCWLVsGmUwGli9fDr/+9a+jw0eE7du3Q0dHBzQ1NcG6devg2LFjADBFN1jTvWRFPp+HDRs2wNKlS2HFihXwyU9+ssiwEEA9geQ4DnR1denX2CeU6k1nZye8//3v12N74oknSvZr1PNw/vz5yHe7dOlSSCQS0N/fH+nXaOfh3nvvhc7OTrAsC/7617/q9RP9XQBUdk4Qwqpf1TCVAWsqkHjVGEi8qg9xjldPPPEEfOMb34AdO3bAkSNHYMWKFbB+/Xo4c+ZMyf6vvPIKfOELX4BNmzbBG2+8ARs2bIANGzbAP/7xD91n586d8OCDD8LevXvhtddeg5kzZ8L69eshn89DRU8RVsvHP/7xyNM8H/rQh4r6/Oc//yl6muehhx6aiuGNSy6Xw0OHDmEYhoiIuGfPHly7dm1Rv5MnT2Jra+sUj27iLFq0CN94441L9mnk82Cya9cuvOWWW4rWN9p5+MMf/oA9PT1F3/9EfheIEz8n/FQOQAotK13xCyBV8VM5Bw4cwFQqhY888gi++eabePfdd2NbWxv29fWV7P/yyy+j4zi4c+dOfOutt3Dr1q2YTCbx73//u+5z//33Y2trKz7zzDP4t7/9Dbu7u/Gqq67CXC434XFdDhKvGgOJV/UhzvFq1apV+NWvflUvB0GAV1xxBd53330l+3/2s5/Fm2++ObJu9erVeM899yAiYhiG2N7ejrt27dLvDwwMYDqdxv379+Ok32D19fXhrFmz0PM8PaB58+bhsWPHIv127typB42IeOjQIfzIRz4y2cOrisOHD+OiRYuK1jfaD8VkIgFrOp2HZcuW4S9/+cui9Y16HsZ+/xP9XSBO/JyMBqwEWpCs+AWQaPiANdlIvGocJF7Vl7jFq0KhgI7jFJ2DjRs3Ynd3d8ltFixYgD/84Q8j67Zv347XXXcdIiqbFwAo+jv92Mc+hvfeey9OeorwUiUrxlJpyYp68qMf/QhuvfXWku+NjIzADTfcANdffz1873vfgyAIpnh0l2bjxo2wfPly2LRpE5w9e7bo/elyHl555RW4cOEC3HLLLSXfb/TzMNHfBUA15wSrnG5XDxQPDQ1FXuVqjbmuC3/5y19g3bp1ep1t27Bu3Tp49dVXS27z6quvRvoDAKxfv173P3nyJPT29kb6tLa2wurVq8vus5ZIvGqs34nEq8YgDvHq3LlzEAQBzJs3L7J+3rx50NvbW3Kb3t7eS/bntlwfEblXyPe//304fvw43HfffUXvdXR0wLvvvguHDx+GF154AV566SV44IEH6jDK0vzxj3+Eo0ePwpEjR2DOnDlwxx131HtIVfPwww/Dxo0b9Q9+LI1+HiaLVCoF7e3tABBU/WpuboYFCxZAa2urfpX6WweoT8ASKkPiVWMg8aqYqY5X9WDSaxHWumRFPdm9ezc8/fTT8MILL8CMGTOK3k+n0zB37lwAAJg9ezbcdddd8Pjjj8M3v/nNqR5qSfj7TCaT8PWvfx2WLl1ask+jn4fh4WF48skn4fDhwyXfb/TzADDx3wXAxM9JJpOBkydPguu6VY8LEYs8adLpdNX7m25IvGqc34nEq8Y4DwDxiFdz5swBx3Ggr68vsr6vr49u9Ippb2+/ZH9u+/r6oKOjI9Knq6tr8mew5s6dC9dffz38/Oc/BwCAp556Cq688spIRXsAgNtuuw2ee+456O3tBUSEvXv3wuc///nJHt6E+cEPfgD79++H559/Htra2kr2OXPmjH5aolAowNNPPw0f/OAHp3KYZRkZGYGBgQG9vH///pJja/TzAKCeBFmxYgUsW7as5PuNfB6Yif4uACo7J5lMBlpaWqp+tba2Fq2rV8Ca6D5ricSrxvidSLxqjPPAxCFepVIpWLlyJbz44ot6XRiG8OKLL8KaNWtKbrNmzZpIfwCA559/Xve/6qqroL29PdJnaGgIXnvtNdVnQuqwy+Rf//oXfvjDH8YlS5bgypUr8ejRo4iIuGnTJnz22Wd1v3379uHixYtx8eLFeNddd6HrulMxvHHhOmSLFy/GFStW4IoVK3DVqlWIiLht2zb86U9/ioiITz31FF5zzTV43XXX4Qc+8AHcsmUL5vP5eg5dc+LECezq6sLly5fjtddei93d3Xjy5ElEnD7ngVmzZg0+8sgjkXWNfB42b96M8+fPR8dxcO7cuXj11VcjYvnfBeL0OSerVq3CLVu26OUgCHD+/PmXFLmbT1KtWbOmSOS+e/du/f7g4OCUidwRJV41AhKvJF5NBgcOHMB0Oo2PPfYYvvXWW7h582Zsa2vD3t5eRET80pe+hN/+9rd1/5dffhkTiQTu3r0b//nPf+KOHTtKPvXc1taGzz77LB49ehRvvfVW/dTzlNxgCYIQT6Y6YAmCIFwOe/bswYULF2IqlcJVq1bhn/70J/3e2rVr8Y477oj0f/LJJ3Hp0qWYSqXwmmuuwUOHDkXeD8MQt23bhvPmzcN0Oo2f+MQn8O2330bECos9C4IgmDz00EOwa9cu6O3tha6uLnjwwQdh9erVAKCKJ3d2dsJjjz2m+x88eBC2bt0K77zzDixZsgR27twJn/rUp/T7iAg7duyAffv2wcDAAHz0ox+Fn/zkJyU1OIIgCI2K3GAJgiAIgiDUGLFpEARBEARBqDH/D9vQx2HKLlFjAAAAAElFTkSuQmCC\" />"
      ]
     },
     "execution_count": 221,
     "metadata": {},
     "output_type": "execute_result"
    }
   ],
   "source": [
    "plot_grid = linspace(0, 10, 100)\n",
    "l = @layout([a b])\n",
    "plots0 = heatmap(plot_grid, plot_grid, pdf(phat_x_0, plot_grid, plot_grid))\n",
    "plots1 = heatmap(plot_grid, plot_grid, pdf(phat_x_1, plot_grid, plot_grid))\n",
    "plot(plots0, plots1, nc=1)"
   ]
  },
  {
   "cell_type": "code",
   "execution_count": 236,
   "metadata": {},
   "outputs": [
    {
     "data": {
      "text/html": [
       "<img src=\"data:image/png;base64,iVBORw0KGgoAAAANSUhEUgAAAlgAAAGQCAYAAAByNR6YAAAABHNCSVQICAgIfAhkiAAAAAlwSFlzAAAPYQAAD2EBqD+naQAAIABJREFUeJzs3Xl8VNX5+PHPuXeWbGQlCwkEwr7vS0RAQBZXVEBFxaXWrbb69atftdraar9q689qa7evS23dKrVita5VUMQFWcsedhJCNsgeyDbLPb8/xqARAgFmMpOZ5/168QKSmXuezEzuPHPOc5+jtNYaIYQQQgjhN0awAxBCCCGECDetEqzbb7+dXr16oZRiw4YNbd7p+eefp1+/fvTp04cbb7wRt9sd8ECFEEIIITqLVgnW/Pnz+eKLL+jZs2ebd8jPz+eBBx7g888/Z/fu3Rw4cIBnn3024IEKIYQQQnQWrRKsKVOm0L179+PeYfHixcyZM4eMjAyUUtxyyy0sWrQooEEKIYQQQnQmtpO9Q2FhYasZrl69elFYWNjm7bXWVFRU4HA4UEod+brT6cTpdJ7s8EIIIYQQIe+kE6yTdejQIdLS0o76+j333MO9994b6OGF6HB1dXXEx8cHOwwhOoy85gWAVVuJZ8U7WMW7saoOQFP9N9+MjkNFxYDNgbI7wOYAmx1ls4MyQKmv/3zr3/DN36hWf3U4/a1/aE23G352wrucdIKVnZ3Nnj17jvy/oKCA7OzsE95v//79rX4BZQZLhLPk5ORghyBEh5LXfOTyHqrm0JLXaPjyPYyoGKKGTMA2agq21ExsXTOxde2GERUb7DA73EknWPPmzWPSpEk8+OCDpKen8/TTT7NgwYIT3i8+Pl4+4QghhBBhwmo4xKFlb3B4+Ztg2IiffQVxUy7GiIoJdmghoVWCdfPNN/Pee+9RVlbG7Nmz6dKlC7t37+aGG25gzpw5zJkzh969e/PQQw9x5plnAjB16lRuvvnmoAQvhBBCiI7XsPELqv/+W/C6iZt8EV2mX4oR2yXYYYUUFehO7nV1dSQkJFBbW3vUDJbL5WLfvn14vd5AhiDayTRNevbsicPhCHYonVpVVZUsl4iIIq/5yOKtraTslzfh7DOUpMv/CzNenvtjCXiRe1uKioq48soraWhoCFYI4hhiYmJYtGgRWVlZwQ5FCCFECKp58xmUaSPpyrswY6X0py1BSbAsy+IXv/gFiYmJ/O53vyMqKioYYYjvaGpq4oEHHuChhx7i6aefxjBkJyUhhBDfaMxbTeOGz0haeLckVycQlASroqKC//znPzzyyCOMHDkyGCGINvzoRz/iJz/5CZWVlaSmpgY7HCGEECHCam6i5vU/4Bwwmpgx04MdTsgLyhRFTU0NwAm7xouO1/KcVFdXBzkSIYQQoaTu3y/jPVxD0qU/atU4XBxbUBIsy7IAX1G1CC0tz0nLcySEEEK4ivZwePmbxM+6ElvXzGCH0ylIkc1pqqmp4Ve/+lWHjDV16lTeeuutDhlLCCGEANCWl+p/PIUtPZsu0+cHO5xOQxKs03SyCZbH4wlgNEIIIYR/1X/xLu7CnSRddjvKDFrzgU5HEqxvUUrx6KOPMn78eHJycvjrX/965Htr165l4sSJDB8+nPHjx/Pll18CcMstt3Do0CFGjhzJ2LFjjzrmp59+ypAhQ/j+97/PyJEjefPNNzl06BA33ngj48ePZ/jw4dx00024XC7AN0t12223MW7cOPr27ctdd93FsVqVvfrqq0yYMIFRo0YxYsQI3nnnnSPfKy4uZv78+QwbNozhw4fzwAMPABx3XCGEEOK7vLWV1L73IrETz8eZMzjY4XQqIZWK7q3T1ATg/T7RAb3j21eQ53Q6Wb16Ndu3b2fcuHFcffXVWJbF3Llzee6555g9ezZffPEF8+bNY/fu3Tz99NOMHDmSDRs2tHnMbdu28ac//Ynnn38egJtuuonJkyfz3HPPobXmxhtv5KmnnuLuu+8GIC8vjxUrVuB2u5kyZQqLFi3iyiuvbHXM2bNnc8UVV6CUoqCggNzcXPbt24fT6WThwoXMmjWLxYsXA1BeXg7AXXfdddxxhRBCiG9rWLcMLC8JF3wv2KF0OiGTYFU0afr9w4MVgL7ypoKyhTa6Rp04ybrqqqsAGDhwIDabjbKyMqqrqzEMg9mzZwMwadIk0tPT2bBhQ7uuhOzduzdnnXXWkf+/9dZbfPXVVzz55JMANDY2tir4v+aaa7Db7djtdhYuXMjSpUuPSrDy8/O56qqrKCoqwmazUVVVRX5+Pt27d+eLL77gww8/PHLblnYLJxpXCCGE+LbGratw9h+JERMX7FA6nZBJsLpGKXZdZgvYDFZ7kiugVdNT0zTbrJk6mUtU4+JavzC11rzxxhv079+/Xfc/1lgLFizgV7/6FfPn+woOk5OTaWpqOu5xTnZcIYQQkctbX4crfyuJl94W7FA6pZCqweodrxjd1f9/2rs82JYBAwZgWRZLliwBYMWKFZSVlTFy5Eji4+NpbGw8qVqmiy++mMcee+xI8lZdXc3u3buPfP+VV17B7XbT2NjIq6++yowZM446RnV1NTk5OUdu39K3Ki4ujilTpvDEE08cuW3LEuGJxhVCCCFaNG1bA5ZF9ODxwQ6lUwqpBCtUORwO/vnPf/Lzn/+c4cOHc8cdd7B48WLi4uJITk7mmmuuYfjw4ccscj+W3/zmN0RHRzNy5EiGDx/O2WefTUFBwZHvDxo0iDPPPJNhw4YxefJkFixYcNQxnnrqKebPn8+oUaNYv3492dnZR7738ssvs3btWoYMGcLIkSP5wx/+0K5xhRBCiBZNW1Zh79EPMyEl2KF0Skof6xI1P6qrqyMhIYHa2lri4337Fm3fvp2FCxfyyiuvMHDgwEAO3+lMnTqVO+64g4svvjgo48tzc/qqqqpITpbd5UXkkNd8+NEeNyU/vZwuU+cRf85VwQ6nU5IZLCGEEEK00rx3C7qpgaihE4IdSqcVMkXuwufTTz8NdghCCCEiXNOWVZiJXbFn9Ql2KJ2WzGAJIYQQ4gitNY1bVxE1eIJs6nwaJMESQgghxBGeA4V4K0tlefA0SYIlhBBCiCMat6xCOZxE9RsZ7FA6NUmwhBBCCHFE09aVOPuPRtkdwQ6lU5MEKwAefPBB7rjjjmCHIYQQQpwU7+FaXAXbiZblwdMmCVYb2toiRwghhAhXTXlrQFtESff20yYJ1rcopfj5z3/OuHHjuO+++wD49a9/zfjx4xk9ejTnnHMO+/btA3yzVPPmzWP69OkMHDiQCy+8kMrKyqOOuXnzZiZNmsTo0aMZPHgwDz/88JHvuVwu7r77boYOHcqIESM455xzjnyvrXGFEEKIQGnauhJ79gDMeGkce7qkD9Z3mKbJmjVrAHj11VfZsWMHX331FaZp8vLLL3Prrbfy3nvvAfD555+zadMmMjIyuPXWW7nvvvt49tlnWx2vV69efPzxxzidThobG5k4cSIzZswgNzeXX/7yl+zcuZN169bhdDqP7Bl4onGFEEIIf9MeF03b19Hl7EuDHUpYCKkEy1NRitV42O/HNaLjsHXt1q7bXn/99Uf+/dZbb7FmzRrGjBkDgNfrbXXb888/n4yMDABuuukm5s6de9TxGhsbufXWW9mwYQOGYbB//342bNhAbm4u7777Lo899hhOpxOA1NTUdo0rhBBC+Fvz7s3o5kaihuQGO5SwEDIJlvdwLWWPfB+05f+DGwbdfrEIMy7hhDeNi4s78m+tNffddx833XRTu4Y5VkO2+++/n65du7J+/XpsNhtz586lqanpuMc52XGFEEKI09W4dRVmYir2zJxghxIWQibBMuMSyPjJ8wGbwWpPcvVdF198MU888QTz588nOTkZt9vNli1bGDVqFADvv/8+Bw4cID09nT//+c/MmDHjqGNUV1czaNAgbDYbO3bsYMmSJUyZMgWAOXPm8NRTT3HmmWceWSJMTU094bhCCCGEP2mtadq6iqihudK93U9CJsEC2r2M11GuuuoqKisrmTZtGuC7svD6668/kuhMnjyZK6+8kuLiYvr168cLL7xw1DF++tOfcvXVV/Piiy/Sp08fpk+ffuR79957Lz/5yU8YPXo0drudzMxM3n///ROOK4QQQviTt7IMb9UBogaNDXYoYSOkEqxg01of9bXbb7+d22+//Zi37969O4sXLz7q6w8++OCRf48aNYotW7Yc8/4Oh4PHH3+cxx9//KTGFUIIIfypOX8rAM5eg4McSfiQNg1CCCFEhHPlb8OWno0R2yXYoYQNmcE6Rd+epRJCCCE6M1f+Vpw5MnvlTzKDJYQQQkQwq+Ew7rJ9OCTB8itJsIQQQogI5tq3HbSWBMvPgpJgGYZvWLfbHYzhxXG0PCctz5EQQojw1pyfhxGbgC01K9ihhJWg1GBlZmbicDh47rnnuPHGG7Hb7cEIQ3yH2+3mueeew+FwkJmZGexwhBBCdABXfh6OnEHS/8rPgpJgxcXF8eSTT3LnnXeyYsWKYIQg2uBwOHjyySdbdbQXQggRnrTXi2vfduJnXxXsUMJO0K4izM3N5aOPPqKkpATLCsD2OOKkGYZBZmamJFdCCBEh3CV70a4mqb8KgKC2aYiLi6N///7BDEEIIYSIWK6CbWDacfToF+xQwo5UMgshhBARqnnvVhw9+qLsjmCHEnYkwRJCCCEilK/AXZYHA0ESLCGEECICearL8daUSwf3AJEESwghhIhArvw8AJnBChBJsIQQQogI5CrIw+zaDbNLUrBDCUuSYAkhhBARqDk/D2fOkGCHEbYkwRJCCCEijNXciLt4jywPBpAkWEIIIUSEcRXuBMuSAvcAkgRLCCGEiDCu/K2o6Dhs6dnBDiVsSYIlhBBCRBhX/jacvQahDEkDAkUeWSGEECKCaMuiuWAbjpxBwQ4lrEmCJYQQQkQQz4FCdONhHHIFYUBJgiWEEEJEkOb8PDAMHNkDgh1KWJMESwghhIggrvw87Fl9MJxRwQ4lrEmCJYQQQkQQV34ezl5SfxVokmAJIYQQEcJ7qAZPRYnUX3UASbCEEEKICOEq2AbIBs8dQRIsIYQQIkI05+dhJnbFlpQa7FDCniRYQgghRIRwFeTh6CWzVx1BEiwhhBAiAmiPC1fhTlke7CCSYAkhhBARwFW0Bzxu2eC5g0iCJYQQQkQAV34eyu7EntU72KFEBEmwhBBCiAjgKtiGPbs/yrQFO5SIIAmWEEIIEea01jTnb5XlwQ4kCZYQQggR5rxVB7DqqqXAvQNJgiWEEEKEuSMNRnsODHIkkUMSLCGEECLMNefnYUvrjhmXEOxQIoYkWEIIIUSYc+VLg9GOdlSCtWvXLiZOnEj//v0ZN24cW7duPepOlmVx5513MnjwYIYPH860adPYvXt3hwQshBBCiPazmhpwl+TjzBkU7FAiylEJ1s0338xNN93Ezp07uffee7nuuuuOutPbb7/Nl19+ycaNG9m0aRNnn302999/f0fEK4QQQoiT4CrcAdqSAvcO1irBOnjwIGvXrmXhwoUAzJs3j/379x81O6WUorm5maamJrTW1NXV0b17946LWgghhBDt4srPQ0XHYUvrEexQIkqrbmP79++nW7du2Gy+LyulyM7OprCwkL59+x653YUXXsiyZcvIyMigS5cuZGVlsXz58uMOVFdX1+r/TqcTp9Ppr59DCCGEEMfQnL8NZ69BKEPKrjvSKbVzXbt2LVu2bKG4uJj4+Hh+/OMfc8stt/DKK6+0eZ8ePVpnzvfccw/33nvvqQwvREirrq4OdghCdCh5zYcurS2a8/OwT7yAqqqqYIcTNpKTk094m1YJVo8ePSgtLcXj8WCz2dBaU1hYSHZ2dqs7vfTSS0yfPp3ExEQArr32WmbNmnXcgfbv3098fPyR/8sMlghn7fnlEyKcyGs+NLlLC2hsbiBh8Bii5DnqUK3mC9PS0hg9evSRmag33niD7t27t1oeBOjduzeffPIJLpcLgHfffZehQ4ced6D4+PhWfyS5EkIIIQKruWAbGAaO7P7BDiXiHLVE+Mwzz3Ddddfx6KOPEh8fz1//+lcAbrjhBubMmcOcOXP44Q9/yLZt2xgxYgR2u52MjAyefvrpDg9eCCGEEG1z7d2KPbM3hjM62KFEHKW11oEcoK6ujoSEBGpra1stEQoRrqqqqmS5REQUec2HrrJHvo9z4BiS5t0a7FAijlxSIIQQQoQh7+EaPOXFOHtJg9FgkARLCCGECENHNniWBqNBIQmWEEIIEYZc+dsw4pMxk9KCHUpEkgRLCCGECEPN+Xk4cwajlAp2KBFJEiwhhBAizGivB9f+nbI8GESSYAkhhBBhxl28B9wuHFLgHjSSYAkhhBBhpjl/G9jsOLr3CXYoEUsSLCGEECLMuPLzcPToh7I5gh1KxJIESwghhAgzroJtUn8VZJJgCSGEEGHEU12Ot6ZcGowGmSRYQgghRBg50mBUEqygkgRLCCGECCOugm2YKd0w42V/yGCSBEsIIYQII74GozJ7FWySYAkhRATRWlPVpNleo/ms1KLwsA52SMKPtKsZd9FuWR4MAbZgByCEECKwNlVqbvjcS1G9prwRPN/KqXrGwbZLbUTbZDuVcODavwssL45ecgVhsEmCJYQQYe6na72UN2puGmiQFg1pUYq0aPBYMPsDL09tsfjxSDPYYQo/cBVsQzmjsXfrFexQIp4kWB1Ma03hYdhZq9lZq9lV5/v3rlpNrA3GpirGpSrGdjUYlgwOUz5VCiFO3c4azTuFmj9PNvn+wKOrQm4drHl0g8X3+hukx8j5prNrzs/D0XMAypSEOdg6LMFyeSN7nf+QS/Pybos/5VlsrfZ9zW5An3jon6C4qKdBrUuzplzzwk6NV1s4DBiZorhtiMFVfZXsiC6EOGm/3WKRGgVX9T32+ePnow1e3m3x83UWT0+WN+XOTGuNqyCP2InnBTsUQQcmWH1f83DJIA+X9TY4O1NFzMzMtmrNH/MsXtpl0eCBi3oqHhlrMDRZ0TMObMbRj0OjR7Oh0pdsfVSkufpTL3/KUzw10WBcqlyXIIRon6omzQs7Le4dYRDVRo1VcpTiZ6MM7lpl8aMhvnOT6Jy8FaVYh2ul/ipEdNi79Y0DDFYc0Jz3by/pr3j4/nIPn5daaB2eM1srDlic/Z6HwYs9vJ5v8V9DDQoW2Hhjpo2Lehn0iVfHTK4Aom2KM9INbh9q8u45Npadb1Lv0Yx/y8v3lnsoawjPx0wI4V/PbLewgB8MPv6p/tbBBr27wP+s8nZMYCIgmgvyAHD2GhjkSAR0YIL1wBiT7Zfa2DjXxo+GGCwr1Ux518vA1z08tsFLaZgkDXvqNJct9XDm216qmjV/m2ZSeIWN/x1r0j3u1D4ZTs00WHeJjf870+CdfZp+//Dw+EYvVpgmp0KI0+fyan6/1eLqvoq06OOfexym4vEJJh8Waf693+qgCIW/ufK3YcvIxojpEuxQBB3cB0spxfAUxf+ONdl9uY1PzjcZn6p48D8WPV71MOdDD2/vs/BYnS9xqG7W3LXSy6DXPaw4qHnxLJN1l9i4sq+B0w/LoTZDcctgk12X2/j+AIN7V1ssXOaN+No2IcSxvbZXU9oAdwxtX13VRT0VZ3VT3LXS2ynPwQJcBXnS/yqEBK2gx1CKaZkGL0+zUXqVjT9MNChtgIs+8tL77x7+9z+dY1bL5dU8tcVL39c8PLPN4oFRBjsvs3FNfwMjAEXpSU7Fb88w+cfZJm/kay780Mthd+g/TkKIjqO15snNXs7prhjSzpoqpRRP5ppsq4HntsssVmdjNdXjLt2HU+qvQkZIVEwnOn2zM2susbHuEhuzuyt+tdEi+1UPly718Elx6NVqaa15fa/F4MUe7lxpMbeXYtflNh4YbRLTAQ375vc2+OAck68Oaqa/5+txI4QQAJ+WajZUwp3DTu4UP7qr4pp+ip+ts6h1yTmlM3Ht2wHawpEjCVaoCIkE69tGd1U8N8VG8ZU2nsg12FqtOft9X63W4xu9HAyBROLLMouJb3u57GMvAxIUG+faeG6KjW4d3ENmepbB8gts7DusmfSOh32Hgv/YCCGC78nNFkOTYEbWyZ+THhlnUu+GP2yVWazOxJW/DSOmC7bUrGCHIr4WcglWi0Sn4vahJlvn2/j0ApOxXRUPrLPo/qqHy5Z6WFJkdXiR99YqzdwlHia948VlaT4+z+S9c2xBvax5VFfFlxfa8Fgw8W0Pm6skyRIiku2o0bxbqLlzmHlKvfOyYhVzcxSL9kiC1Zk0F+Th6DUQZYTs23rECflnQinFWd0M/jbdN6v1+ATfrNasD7z0+buHH6/2srY8cEuIbsu3FDjtXQ9D3/CwrkLzyjSTNRfbmJ4VGg9f3wTFl3NspEXD2e952FMnSZYQkeq3WyzSo+HKNhqLtsflvQ22Vvs+VIrQpy0LV8F26X8VYjrVVjkpUYr/Gmpy+xCDrw76Gug9v8PisY2+DUvn5xjMz1GMT1OnXWBeUq95drvFs9stShtgcoZi0XSTub1Cs0lqRoxi6Xk2zviXh/P+7WHFHBspUaEXpxAicOpcmhd3Wvx45OldvTyruyLBAa/ttfhFsnR331OnuegjDy4vGKr1nzPSDJ4Jcgd8z4FCdFO9XEEYYjpVgtVCKcXEdMXEdIM/nan5rFSzOF/zym6LJzZDahSM6aq++ZOq6BFLm9PlXkuzrQbWlPu6p68u93VSjzLh6n4GPxhkMDwl9JOVlCjFB+fayP2Xh4s+8rL0PLPN7s1CiPDzWamm0QtX9T292XWnqbikl+K1vRYPjTEifpuuv+ywKKqHmwYaWBo0YGnY//UH8buHG/RNCN5j5CrcCUrhyO4ftBjE0TplgvVtNkMxPUsxPQt+P9HgiwOaT0o068o1z++weGSD73apUZARA6YCU6mv/wavhq3VmnoPKGBgIoxPVdw8yOSy3ooER+c6sfSJV7wzy2Tae16uXe5l0XQzIO0ihBChZ1mpJjsOevuhz+TlvQ1e2OllYxWMTDn943VWWmsW7bG4NEfx/ya0nqlq9GiWFHl4ebfFQ2OCN4vl2rcDW3o2RlRM0GIQR+v0Cda3mYavUd5Z3b75Wkm9Zl2F709Vsy+h8lrg1Rrv159E5uUYjE9VjO6qiO9kCdWx5KYb/G0azF/qpVecxWMTZIpfiEjwSYnF9Ez/bAx/dpYixQl/32MxMiVyzyGrDmryD8EVfY6eFYy2KebnKF7aafHz0YHpfdgersIdMnsVgsIqwTqWzFhFZqziwp7BjqRjzc0xeCJXc+dKi15d4AeDI/cEKUQkqGw6td5XbbEbink5Bq/tsfjluMhdJly0R9MtBs7qduyf/5r+Bn/Z6eXLMs3kNm4TSNrtwl2ST2zuOR0+tji+0LgMTgTEHUMNbhti8KMVFu8XyiXXQoSzT0t9V/xN8+Ob/OW9FQWHffWpkchraf6x1+Ky3gamcezHdXKGomccvLw7OOdYV/EesLw4eg4IyviibZJghTGlFL/JNTi/h+LKZV521UbmSVKISPBJiaZfPKe8qfyxnNVNkR7t29cwEn1aqilrhCv7tP2YGkpxdT+Df+zVNHo6/nFy7dsBNjv2br06fGxxfJJghTnTULw8zSQtCuYu8ci+hUKEKV/9lX9P6aahmJ9j8I+9Hd/YORQs2mPRJx7GpR4/ab26r0GtC97Z1/GPkbtwB46sPiibvcPHFscnCVYESHAo3pxpI/8Q3PCZN+T2dRRCnJ6Ses32Gpie6f8aoMt7K4rq4asDkXXeaPZq3sjXLOh94vqz/omK3DTFS7s6fpnQVbhTCtxDlCRYEWJIsuKFs0xe26v5zWapxxIinCz7uv5qagASrDMzFFmxkbdM+GGRpsZ17KsHj+Xqfop/F+kO3S/XajiEp7wYu9RfhSRJsCLI/N4G9ww3uGe1xbISSbKECBefFFsMS4a0aP8nWIZSXJpj8PpeC68VOUnWoj2+x3RIO/eavby3gaHo0D0cXft3AeDIlgQrFEmCFWEeGWcwLVNx+cde9h+OnJOlEOHskxLt9/qrb1vQR1HWCJ+XRcY547Bb868C3e7ZK/DtpHFBdscuE7r27UBFx2HrmtlhY4r2kwQrwtgM356KMTaYt9RLUxCuehFC+E9+nabgsH/bM3zX+FRFrzj4+57IOF+8vc+35dCC3if3FnlNP4P/VMCWDtoku6XBqDLkrTwUybMSgbpGKf4508amKs1tK7zBDkcIcRqWlWoM1XYjTH9QSnFZb4M3Ciw8EbBMuGiPRW6aIif+5B7T83ookp3wcgfMYmmtce2TDu6hTBKsCDW6q+KZSSZ/3qF5dpvUYwnRWX1SYjE6RZHoDGwX8ct6G1Q0+TaUDmdVTZoPi/Rxe1+1xWEqFvQx+NuewNereWsqsA5VS/1VCJMEK4Jd29/gh4MNfrTCy8oDkmQJ0dlorb+uvwr8Fi2ju0JGNHxQFN4J1hsFvn1qLzvJ5cEW1/RTFNd/c2VnoLgLdwDIDFYIkwQrwj2Z69voet5SL2UN4X3iFCLc7KiF0obA9L/6LqUU5/ZQfLA/vD+MLdrt2zA7PebUHtPxqYp+8fB6gNtauAp3YiZ2xUxICeg44tRJghXhHKbi9RkmlobLPvbijoD6CiHCxSclFjYFkzI6ZpPhc3sYbK0mbK9Arndrlpdp5vU69cdTKcXUTMVXBwObiLoKd2CX2auQJgmWoFuMYvEMk68OaP5nZXh/OhUinHxSoslNU8TaOybBmpmlMBV8sD88E6wNlRpLQ2766b015qYZbKmCQ67APE7a8uIq3CX1VyFOEiwBwJkZBk9NNPjdVotXgrDdgxDi5Fhas6xEMz2rY5IrgESn4ow0xfthuky4tkLjNGFI0ukdJzdNob8+XiB4DhahmxskwQpxkmCJI34wyODafoobP/fylRS9CxHSNlVBVXNg+18dy7k9FB+XaFze8JvFWluuGZmisBun95gOTIR4O6w8GJjHyFW4E5TC0aNfQI4v/EMSLHGEUoqnJ5mM7aqY85GXPXXhdwIVIlx8UmwRZfpmSzrSedkGh93wRRh2dV9XoRnT9fQfT0MpJqToHy40AAAgAElEQVSpACZYO7Cl9cCIjg3I8YV/SIIlWomyKd6aZZLkgPP+7aGyKfxOokKEg09KNGemK6JsHZtgjUiGbjHh167hkEuzvQbG+iHBAo4kWFr7/3GSBqOdgyRY4igpUYoPzrVR1QwXfyTb6QgRaiyt+fKAZkoHLw+Cb6b7nO7h165hfaVGA2NT/fOY5qYpDjZCwSG/HO4I7XbhLsmXBKsTkARLHFOfeMXbs0zWVmi+95kXKwCfwoQQp2Z7DdS44Mz0jk+w4Jt2DYVh1K5hbbkm2oRBif453oSvl279vUzoKt4LXg+OnlLgHuokwRJtOiPd4JVpJq/t0fx0bXh9WhWiM1txwLf/4Hg/zbacrG/aNYTPeWFdha/A3XaaBe4tukYp+sb7P8Fy798Jph17Zo5fjyv8TxIscVzzcgwen2Dwyw0WT+fJxtBChIIVByyGJ0MXR3ASrESnYmK6Cqt+WGsrtN+WB1vkpilWlft5BmvfDuxZOSibw6/HFf4nCZY4oTuHGdw+xOAHX1r8YaskWUIE24oDmomn2QzzdLW0a2gOg3YNtS7Nzlr/Fbi3mJCmWF/h38fIVbhD+l91EpJgiRNSSvHbMwzuHGZw2wqLxzZIkiVEsFQ0aXbUwsQg1V+1OLdH+LRr+M/XDUH90aLh23LTFC4L1vup4ajV1IDnYJH0v+okJMES7aKU4tcTDH422uDHayweWOsNyOXHQojjW3nA93s3sYP7X33XkXYNYbBMuK5CE2PzNQj1p+HJiijTf3VY7pK9ANi79/XL8URgSYIl2k0pxUNjTB4bb/Dweou7VlqSZAnRwVYc1GREQ68uwY0jnNo1rC3XjE5RmH4qcG/hMBVjuvqv4ai7aI+vwD0j2y/HE4ElCZY4afeMMPnjmQa/2WJxyxeWtHAQogP56q8USgV3BgvgvB4GeTWwvz74sZyOQBS4t8j1Y0d3V9Ee7N16okybX44nAksSLHFKbh1s8sJZJn/eYTHrfS/7w6gfjhChym1pVh/UQa+/ajHj63YNSw903jf86mbNnjr/11+1yE1T7DsMZQ2nf450F+/B3r2PH6ISHUESLHHKru1v8OG5JttrNcPe8PDKLlkyFCKQNlZqGr3BL3Bv0dKuYWmZGexQTllLgXugZrBaGo6uOs1ZLO1x4S4twCH1V52GJFjitMzIMtg8z8aF2YqrP/Vy6cdeKmT/QiECYsUBjcOA0QGabTkV5/ZQfH7QhquTtmtYW66Js0P/hMAcv3ssZMacfqG7u3QfWF7sWTKD1Vl03nldETKSnIqXp9m4qKfFzV94GbrYw3OTTS7IDlydiNaaskbYVq3ZVqPZVgM1Lt+VQDE25fvbhBgbDE9RTArCprhC+NuKA75aIacZOq/lmVmK+9f46oyCsTfi6Vpb4StwNwJ0rlJK+aUOy128B5TCntnbT5GJQJMES/jN/N4GZ2YobvjMy5yPvAxOhOsHGCzsa5Aec3onr9IGzZdlms/LNKvLfUlVrcv3Pbvh+/SZ4lQ0eqHBY9HggQYPHHL7/o4yYUqGYlZ3xcwsg2HJhESRsBAnY8UBzeV9QmvhYVSKIsmhWVqsmdIt2NGcvLXlmrk5gX1Mc9MUD/3HwmPpU96Kx1W0B1tqdwxnlJ+jE4EiCZbwq24xindnm3xUpPnLTov711j8eLXFBdmK6wcYnNvj+Ht9aa052Ag7a32zUisOWHxxwFeECtC7C5yRrriop8GgRMWgREXveNo8ptaazVWwpNjioyLfnor/s8qiWwzcONDg1kGnn/wJ0RH2H9bsrw9+/6vvMg3FlFQPS4oNfjE22NGcnMomTcFh/3dw/67cNEW9B7ZWw4iUUzuGFLh3PpJgCb9TSjG7h2J2D4OqJs2reyz+ssNizkde7AZ0jYLUKN9mqKlRkBKlqGn2bVWxs1ZT5/Ydx1AwPNl3KfikdMWkDEVm7MmdCJVSDE+B4Skmdw2HJo/miwOaNws0T2yy+NUGiyv6KP57mMmIlNB64xLi2776usHoGSFS4P5tU9O93LVeU9OsSXSGXnxtWRfgAvcWY1J9V1uuPGgxIuXkLwjQlhd38V6ih50RgOhEoEiCJQIqOUrxoyEmPxpisqFS82WZRUUTlDf5tvwob4JtNRYJDsXwZJifY9A/QdE/QdEnHr/XTUXZFDOyFDOy4OGxBn/ebvH7rRYv7vIwrZvizmEG5wewdkyIU7XioKZ3F8gIwRnXqWkeLA3LSjSX5IRefG1ZW66Jt0Of+MCOE2Pznd9WHtTcPOjk7+8pL0G7mqSDeydzVIK1a9curr32WioqKkhISOCFF15gyJAhR91x8+bN3HbbbRw4cACARx55hLlz5wY+YtFpjUxRjDyFT2+BkuRU3D3C5L+HGfwzX/ObLRYXfuRlRDLcP9JkXo7/OzsLcapaGoyGouxYTd94WFKsuSQn2NG039oKzZiugStw/7bcNINPS0+t6727aDcAjixJsDqToyr7br75Zm666SZ27tzJvffey3XXXXfUnRoaGrjooot4+OGH2bZtG1u2bGHy5MkdEa8QfmczFJf1MfjqIhvLLzBJj1Zc/omXIYs9vLTTwm11zsvPRfho8GjWV4RuggW+li1LijvXtjnrAtjB/bty05Tvaufmkz+fuIr3YCalYcQGeX8kcVJaJVgHDx5k7dq1LFy4EIB58+axf/9+du/e3epOr776Krm5uUyaNAkA0zRJTU3toJCFCJwp3Qw+PM/G6otNBiYqrl3upf9rHn63xXtKJ0Yh/GFtucajYWJ6aF1B+G0zsxS766DgUOf4PTnYqCk8HLgO7t+V+/XFCavLT/7xcRftkf5XnVCr39b9+/fTrVs3bDbfyqFSiuzsbAoLC1vdKS8vD6fTyQUXXMDIkSO55pprKC8vP+5AdXV1rf40Nzf7+UcRwn/GpRq8NcvGxrk2ctMVd620yPybh+8v97D6oHSsFx1rxQFfM8yhScGOpG3TMxWGgqXFneN3o6MK3Fv0TYA4O2yoPLnHR2uNu3gPDrmCsNM5pSJ3j8fD0qVLWblyJZmZmdx///384Ac/YPHixW3ep0ePHq3+f88993DvvfeeyvBCdJjuCv44En42UPG3Ajsv5dv5y07N8EQv1+a4OT/TQ2pU6xNmdXV1kKIV4Wp5UTRjkqC25lCwQzmm6upqkoBRSTG8l+9mblpTsEM6oc8LHSTYHSS6q6mq6pgxB8fHsLrUTVWP9j8+Vm0lVn0dTQnpeDoqUHFCycnJJ7xNqwSrR48elJaW4vF4sNlsaK0pLCwkOzu71Z2ys7OZNm0aWVlZACxcuJDZs2cfd6D9+/cTH//NpRpOpxOn09nuH0aIYEoGHs6Eh3I1HxZpntmuuHuDyV3rYVQKzMwymNVdcebXNTLt+eUToj201qyp8vDDIQbJydHBDqdNycnJnNvTy//lWSQmRXdI4fjpyKv3MDYVUlI67nd1TJqX5aUWyckx7b5PY/EOmoDkQSOxJcp5pTNptUSYlpbG6NGjeeWVVwB444036N69O337tr5y4bLLLmPNmjXU1fm6P77//vuMGDHiuAPFx8e3+iPJleiMTENxXrbBv2bZKL7SxktTTYYmKV7cZTHjfS/JL3mY+3k0d6/y8uJOi3XlmgZP51gyEaFpVy1UNodeg9FjmZmlqGyG9RXBjuTENlZqRnZw77sRKbCj1tePr71cRbsxYhMwE7oGMDIRCEctET7zzDNcd911PProo8THx/PXv/4VgBtuuIE5c+YwZ84csrOzuf/++5k4cSKGYZCVlcWzzz7b4cELEUwZMYqr+ymu7mcc6Rj/UbHFx4XwRr7Frzf5bqfw9dkZkqQYnKQYnKgYkqQYkOjrjyPE8aw4qFHAhE6QYOWmKWJtvp0TxqSGTkuW76p1+Tq4d3Rz4RHJCq/2dXQf087rwlo6uEtvvs5H6QBX69bV1ZGQkEBtbW2rJUIhwlVVVRXJyckcdmvyqjVbqmFzle/feTWaonrf7RSQ08X3pjQjy2BGlqJHnJxERWvfX+5hdblm83x7sENpU8trHuCCf3to8sLS8/3fx1prTVPeaur+/QqxE2YRN+nCUzrOl2UWk97xsmGurUOTrHq3pssLHv48xeT6Ae27IrT0wauJHj2VxDnfD3B0wt+kk7sQARJnV4xPU4xPa/31WpdmW7Umrwa2VGk+K9Ms2uNFAwMSfP2EZmYpzu2hcJiScJ0urTWufdtpWL2Eph3/AcsCw0QZBigDDAMzIYWoAaOIGjgWW7deITVbsKxUc0F26LZn+K4ZWYofr7Fo9Gii/ThD6yraTe2//kzzrg0YsQnUffAyMeNmYDhPvi5tU5XGpmBgot/Ca5dYu6Jfgm95sj289XV4a8pxSAf3TkkSLCE6WIJDkZuuyE3/5muVTZplJZqlxZoP9lv8MQ+yYuG/hhjcNMggwRE6b/idhbe2koa1n1C/egmeA4WYialEj5iEcjjBstCW15dsaY2nopi6D16h9u3nMRJSiBowhqiBY4gaPA4jqv0Fyf6275Am/xBM69Z5nv+ZWQb/vdLi8zLNrO6nH7enppy6916kYe3H2FK7k3LjQ9i79aLs4eupX/E+XabNO+ljbqyEQUngDMIHmBHJio1V7UuwWjq4yybPnZMkWEKEgJQoxfzeivm9AUw2V2l+u9nLT9da/GK9xY0DDP5rqEHPLp3njTZYvIdqqHn99zRu+QoMk+jhZ5I49xac/UagjLbrgrTbRfPeLTRtX0fT9nU0rP4IFR1H3KQLiJtyEWaXjm9CtazUV391VidKsAYnQWaMb9ucWd1P71gN6z+j+tUnUM4oEuf9kNgzzkWZvucwZtzZHFq2mLhJF6LsjpM67qYqzfDk4DymI1IUv97k66V3oplSd9EelDMaW9fMDopO+JMkWEKEoGHJiufPsvHwOM0ftlr83zaL3221uKKP4tcTTNJDcMPfUOAq2Uvlcw+iPW4S5/2QmFFnYcTEteu+yu4gasBoogaMhotuxFNZxuHP/sXh5W9x6NN/EjtuJl2mz+vQN7tlJRYjUnybpncWSvk2VF9SZMGEUy9015ZF7Xt/xdFnGCnX3YcRFdvq+11mXE7D6qXUr/rwpGqxLK3ZXK25uFdwll1HJCtqXLC/HrJP8NJ0Fe3GnpnjW84WnY48a0KEsG4xikfGmey/wsZvcg0+LNIMXuzh1d3STf67Gjd/Rflv78SI6ULanU8Rd+b57U6ujsWWkkHiJTfT7ecvEz9zAY2bvqDskRuofOFRPFUH/Bj5sWmt+aREMz2z852mZ2YZbKyCAw2n/hpt3r0Rb0Up8TMXHJVcAdhTs4geNYVDH7+O9nrafdz8Q3DY7Ut0gqGlqL49Hd19VxBK/VVn1fl+c4WIQLF2xW1DTbbOtzEzS3HVMi8XL/FSehpvYOFCa03d0teo/MsvcA4cTertT2BLSjvxHdvJiO1C/Kwr6fazl0icdyuugjwO/L8fUL/244AmuXvqoKi+c9VftZiR5Yv5k5JTf3zqV7yPLT0bR+8hbd4mfuYCvNUHaVj7SbuPu+nrxGZ4B7doaNE9FpKcJy50t5ob8ZQXS4F7JyYJlhCdSGq04u9n2/jnDJNVBzWDX/fw0s7Inc3SbhfVf/s1de/+lS4zF5By3U8xnFEBGUs5nMRNuoD0e54mesgEql95nKoXH8WqD8z2NctKNYaCyZ0wwcqIUQxL9vXDOhXeQ9U0blrhq7k6Tp2SvVsvooZN5NCSv/suWmiHTVWarlGQEaSm+EopRraj0N1dkg9ayybPnZgkWEJ0QpfkGGydb+OCbMW1y73MW+rlkCuykizt9VDx3M9o2Pg5yVffS8J513ZIrYoRE0fy1feSfM19NO1cT9n/u8XX/sHPlpVYjOmqOu0VpDMyDZYW61NK/utXLQHDIHbcjBPeNn7mAjwVJTSu/6xdx95YpRmRrILaimNEijrhDJa7aDeYNuwZ2ce9nQhdkmAJ0UmlRClenuabzVparMn9l4fdtZGTZNW88X8079lC6s0PEzNmWoePHzP6LDLueRp7Rk8q/u9+at58Bm2d2ozNd2nta9vRGZcHW8zsrthfDztrT+5+2rKo/+oDYkZOwYjtcsLbO7L74xw4lrqlr7Xr8Q/mFYQtRqQo9tTBYXfbv6+u4j3Yu/VE2UK3waw4PkmwhOjkLskxWH2xDY+GcW95+HC/f97kQ9nhL96hfsV7JF36I5x9hwctDjOxK11vfpiEi2/m8GdvUffeC3457o5aKGuEaZmdN8GanKGwG7D0JJcJm3dtwFtZSuzEc9t9n/hZC/CUFtC0ZeVxb3fYrdlTF7z6qxYjkhUa3w4PbXEX78WeKcuDnZkkWEKEgYGJilUX2TgjXXHeh15+vckbtnVZTTs3UPPP/yNuysXE5p4T7HBQhkGXqZeQMOcGDn38Dw5/+d5pH3NZiYVNwaSMzptgxdkVZ6Qplhaf3OuwfsX72DKyceS0Xdz+Xc7eQ3H0GUbdkkXHfd23JDTBuoKwxeAksKm2C9215cVdtg97Zk4HRyb8SRIsIcJEolPxziyTe4Yb3L3KYuEyLw2e8EqyPBUlVL3wCM5+I0m46MZgh9NK3NS5xE2eQ83iP9KYt/q0jrWsRDM+TRFn77wJFsDMLMUnJRqP1c6tYeqqaNz8FbFnnHfSNVLxs67AvX8XroJtbd5mU5XGVDCog7fI+S6nqRiYCBurjv19T3kJuF2SYHVykmAJEUZMQ/HL8SZ/n27yZoFmyjteig6HR5JlNdVT8dyDGLHxpFx735GO3qFCKUXCJTcTNWQCVS88imv/rlM6jqU1y0o7d/1VixlZijo3rC1v32uwfvUSME1ix5190mM5+41AOWNo3rO5zdtsqvLt9xnlxz0ST9WIFNVmLyx3ST6AJFidnCRYQoShy/sYfDnHxsFGzbi3PKw80LnrsrTlpeqlx/DWVpJyw4MYMScufg4GZZgkX3MvtoxsKp772Sk1JN1aDRVNnbv+qsXYVEW8nXYtE/qK2//tK24/hedXGSaOXgNx5ee1eZtNlfpIo89gG5mi2FylsY6xpOku2YuRkIIZlxCEyIS/SIIlRJga1VWx5mIbveMVU9/z8vKuzptk1X34Kk3b1pJy7X3Y03sEO5zjMhxRdL3xIZTdScWzD2A1HD6p+y8rsXAYMDE9NBKB02EzFNMyFUvakWA171zvK24/o/3F7d/l6DUIV8G2Y9Zhaa1D4grCFiOSFfUeX0PZ73KX5GPvJrNXnZ0kWEKEsfQYxSfnm1zZR3HNp17uWeXF2856mFDRvGczhz5aRPw5VxE1aGyww2kXs0sSXW/6X7x1VVT//Tcndd9lJZrcNEV0CCxj+cPMLMVXB/VxWxIA1H/1AbaMnjhyBp/yWM6cwVj1dXjKi4/63r7DUOcmdBKsr2fSjlXo7i7Jx5HVu6NDEn4mCZYQYc5pKp6fYvJkrsETmy0u/MhLeWPnSLKs+kNUvfwYjt5D6DJzQbDDOSn29B4kzv0BjZu+pLlge7vuY2nN8jIdFsuDLWZkGbgt+Lys7ddcS3F73MSTL27/NkfPgaDUMZcJN7VcQRgiS4Rp0YqMaI7q6G41HMZbfVDqr8KAJFhCRAClFP89zOT92SarD2qGvuHhrYLQXjLUWlP92m+xXE0kL7wHZYRWUXt7xIyeii2jJ3Xvv9Cu22+shOrm8Ki/atE/wbf/3pKithOsxk1fAhAzdvppjWVEx2LL6HnMKwk3VmqSnZAZc1pD+NWxOrq7SwsAKXAPB5JgCRFBZvcw2DLfRm6a4pIlXq5Z5qG6OTRns+q/+oDGTV+SfPkd2JJSgx3OKVGGScJ519K8cwNNO9ef8PbLSiyiTMhNC58ESynFzCzF0pK2E/qmvDU4+wz1y8ULzl6DaG5jBmt4kLfI+a4Rx9iT0F2yF0w7trTuQYpK+IskWEJEmIwYxVszTV44y+Rf+zTD3gi97u/usn3UvvkMsWecS/SIScEO57REDTsDe3Z/6t578YTNX5eVas5MVzjN0EkC/GFGlsHmKihrOEbxuauZ5l0biRo0zi9jOXIG4zlQeNTFBZuqQucKwhYjUxSFh2n1Icddko89Ixtl2oIYmfAHSbCEiEBKKa7t75vNGpyoOOffXq791MO26uDPZmm3i6qXfoWZnE7CJTcHO5zTppQi4fzrcO3bTtPWtrdy8Via5aXhVX/V4uyvf6aPS45+fTXv2Yx2NxM12H8JFlrj2vdN3Vu9W7OrNnQK3Fu0JHybqr6TYMnyYFiQBEuICNYjTvHhuSZPTzL4qEgzeLGH8//t4eNiK2hb7dS+8zzuA0UkX/NjDEdUUGLwN2f/UTj7jaD2vRfb3JB4bbnmkDu86q9apMcohiUfe1/CprzVmElp2NKz/TKWrWsmRmwCzd+qw9pardHA8GS/DOE3/RPAaXKk4ai2vLhLJcEKF5JgCRHhlFLcPMik4AobL5xlUlyvmfG+l5H/9PDCTovGDtxup3HzVxz+7F8kzPl+WF2mrpQi/rxr8ZQW0Lh++TFvszhfkxYN41PDL8ECmJllsLRYt0rctdY05q0havB4v9VGKaVw5AxqdSXhpiowFAxJCq3H1mYohiZ9U+juqSxDu5olwQoTkmAJIQBfO4dr+xusn2vj4/NMsuMU31vuJeklDzPe8/CrDV7WllsB66PlPlhE1d8eJ3r4mcRNuSggYwSTM2cwUUMmUPvBS2ivp9X3LK35x16L+TkGNiO0kgB/mZGlKKqHHbXffM1TXoy3stRvy4MtHL0G49q3HW15Ad8SXP8EQrK32Ijkb1o1fLNFTvh8uIhkkmAJIVpRSjE9y+Cd2TZ2XmbjV+MMokx4eL3FuLe8pL7iYf5SD89tt/y2z6HV3EjlX36BGZ9C0pV3htSVXv4Uf/61eCtKqV/1Uauvrzyo2V8Pl/cOz58bYEqGwm60XiZsylsDNjvOviP8OpYzZzC6uRF36T7A16Ih1OqvWoxIUWyt9tXguYv3YsQnYXYJ8m7Uwi8kwRJCtKlfguKOYSbvnmOj6hobn19ocvsQg9IGuOULLz0WeRj+hpsfr/ayvNTCfQqzW1prqhf9Bm91OSnXP4ARFRuAnyQ0ODJ7Ez16Koc+fBXtaj7y9b/v0WTGwKSM0EwC/CHWrpiYrlrtS9i0bQ3OvsMxnP6ttXP06AeGiSs/78gWOSNCOMFq9sLOWtkiJ9xIgiWEaBeHqZiUYfDgGJMv59goX2jj79NNRqUo/rrTYuq7XjL/5uG3m724vO1PtA5/+k8aN3xG0hV3Ys/wT6FzKIs/92q8h6qoX7MUAK+leX2vxWW9DYwwnblrMSNTsaxE47E0VnMjzbs3+609w7cphxN79z64CvIoqocaV+hdQdiiJa5NVVoK3MOMJFhCiFOSHKW4vI/Bi1NtlF5lY+3FNi7ppbhrlcWg1z28tufEVyI2795E7TvPEzdtHjEjJ3dQ5MFlT83C2X80DeuWAfBZmaasERb0Cc0EwJ9mZCnq3LC6XNO8awN43UQPHh+QsZy9BtNcsO1IAXmo9cBqkeRU9IiFvLJ6vJVl2MPo4o5IJwmWEOK0GUoxJlXx7GQbm+fZGJKkWPCJlwn/8i0dHou3poLKFx7F2WcYCRdc38ERB1fM6LNw5W/FW1PBa3s0veLC9+rBbxubqkh0wEdFmqa8NdhSs7ClZgZkLEfOYLwVpWzdX0Wy07ddT6ganqyoKWwpcJcZrHAhCZYQwq8GJynenm1j2fkmWsPUd70sXOah+VvLhlZjPRV/+V+UzUbyNfehzM63z+DpiB42EQwbh9Z/xhsFvuXBcC3s/zaboZjdXfF+oUVT3pqALA+2cOQMAqB69zbOSAutLXK+a3iKgrJ8MG3Y03oEOxzhJ5JgCSECYmqmwaqLTV48y2Rxvuaij7w0eDTewzWU//FePOXFpFz/s4i8YsqIjiVq0FgOrl5ORRMs6BM5p+LzehjUFe3DW1Pu9/YM32ZLTMVMTCWmZBsT00M3uQLfnoTd6vJRqT1QNnuwwxF+Ejm/1UKIDmcoxTX9Dd6bbfJFmWbBmwc48Lu78dZWknrb/8OR3T/YIQZNzKgpxJTuYLKjjJEpwY6m45zTQzHt8Fq8NifOPsMCOlZj1iCGHg79BGt4smJQUwG1yb2CHYrwI0mwhBABd3aWwbIzDnL/mnspq23CvOlxHBHeTNEYNIFG5eB2vgzp5St/S4tWXNS0lu0pI1B2R0DH2pUwiBGNuxmb5A7oOKerbxeLgc372Bcn9VfhRBIsIUTAuUsLyHr1brrF2fhe/18xdWU6xfXB31g6mJaUR7G0yzjGlX4e7FA6lNVYz+C6PN5wjMUToF0BWiy3D8Sp3dgP7A3oOKdL1Rwgzmpkva1XsEMRfiQJlhAioJr3bqH893djxiXS/b9/zevzMql3w6S3PeTXRW6S9dpeiw2ZkzHL9uA+WBTscDpM047/YGiL96PGsPJgYJ//N5t64TadrfYlDEUtW+Qs0zKDFU4kwRJCBISnooTKF39J+e/+B1t6D1J/9BhmlyT6Jyq+mGPDUDDnIw/17shLsho9mn/t0/QaPR7ljG5zA+hw1JS3Blt6Nq74NN7fH7jnvrxRs/2wjYb0frgKtgVsHH9wl+TTFJXAF4cTArbXp+h4kmAJIfzKe7iWmn8+Tdkvb6J57xaSrriT1Nsex4jpcuQ22XGKt2fZ2HsIbvzce8KGpOHm/f2aw26YPyCa6KG5NKz/LNghdQhtWTRtX0PU4HGc83W7hkD56uvZsfi+g2nuBDNYVnoOTZZiV12woxH+IgmWEMIvvIdrqVv6GmUPf4/6VR8Rf85CMn7yPLETZqGMo/tcDUlW/GWKyaI9mt9vDdwbbSh6bY/FqBTfXo/Ro87CU7YPd2lBsMMKOHdZAVZdNVGDxnJetsHGKgJWi7figCYrFlL69Meqq8J7qDog4/iDq2QvXXr4LvrYVBlZHzbCmS3YAWjO0GcAACAASURBVAghOidtWbiLdtOUt4ambWtwFe4AZRB75vnEz74SM+7E/a0u72Ow6qDmrpUWo7v69joMd2UNmncKNQ+N8f2sUQNHo6JiaVi/nIRuvYIbXIA171gPdgfOnCHM8ioMBR/s19ww0P9XUa44oDkjTR25WtVdko85IMnv45wuq7kRb0UpSdk5ZDb79iS8rE+woxL+IAmWEKLdvLWVNO1cT/OO9TRtX4d1uAYVFUPUgNEknXEuUYPGYiacXFOnxyYYrKvQXLrUy3/mKrrFhHfLgkfWW0SZcONAX4KlbA6ih59J4/rPiD/3mrBu2dC0Yz3O3kNRdgfJdjgjTfH+fosbBvo3sXZbmjXlmkfHGZgpGShHFO7ivUQNGO3XcfyhZebSntmbEVWKjVUygxUuJMESQrTJamqgefcmmneup2nnejxlhYDvzSB2wiyiBo/D0WsQyjz1U4ndUPzjbJPRb3q4dKmXZReY2I3wTDIKDmme2W7x0BiDJOc3P2PMqCk0rP4Id9FuHD36BTHCwNEeF669m4k/Z+GRr53XQ/HLjRYur8Zh+u8531CpafLCxHSFMgzs3XoduVIv1LiL94JhYM/owfASxaI9kbVcHs4kwRJCHMVTUcrhz96ifuWHaFcTZlIaUQNGEz/rKpz9R7Rr+e9kpMcoFs8wOetdL/+z0uKpieG5N+FD//GS5ITbh7SesXH2H/n/27vz+KjKe3/gn+ecWbNM9pUkhJAECEsSFIQA4i5awbq02morrQr9tVa91ou3i63eW++1rdXa5VZsLV6XWlu3uot1QxYRTNghCyEkLFkI2SeznfP8/hiCxLBkmX0+79eLFySZmfNNMkw+ec73fB8osQmwV62J2IDlatgD6XLCXFx+/H2X5yn48WYda5slLhjnu4C1vkXCrALlKd7HNGZPgGt/tc8e35fch/bBkJEHYTBhRrKOX2wFOp0SiebI/CUjmjBgEREAQEoJ176d6P3wZfRvXw8lJh5x512F2FkXQ03N8vupq7kZCh6ZI3Hbeh0LMgWuLYisfqzdHRJP1Ur8Zo6CWOPgr6VQDbCWzkN/1UdIWPztiDxN6KiuhBKbAOMJE/xLk4GsGO9VlReM892x1rdIzEoVx1fFjNkT0Pfpu5Aed8jt9ec+uBembO/8q9Jkb73bjkqcmxV5z4FoE1mvYEQ0Ko7qSrQ+cgfafns33M2NSPzK95H1s6eRcPlNMKRlB+wH/ndLFFw7QeDWjzU09kZWL8pPP9OQEwssm3Lyl11r2QJoHa1wH9wb4MoCw1mzBebiMgjl889fCIHLc719WL60vkUO2n/QOK4A0DzwhNhAV6nrcB/a560PQHEiYFK8AYvCHwMWURTTnf3o+PvvcOSPP4IwmJCy7L+Q8R8rEVdxOYTJHPB6hBB4fIEKmwm44X3N71upBMpnbRIv7JO4b6YK8yl6jcwFUwGjCc7arQGuzv90ey9cjTWwFJcN+djluQp2d8JnU/2beiUO9GFwwMryrhCFWh+W1t4M6XIcX9UzKgIlSQxYkYIBiyhKOeu2oeWX/w/2ze8h8drbkPb9X8FaMmvQCkMwJJkFnj1fxfpWiQeqIqPh9yebNUxKAL5RdOqVQGEwwZxfAmfdtgBWFhjOuq2A1Af1Xw24aJyAQQBvHfDN93p9izeczD0hYCnWWKhJ6XAdCq09CQfqGVjBArynCbe2B6si8iUGLKIoI11OdL68Em1/uAdqQioyVvwv4uZfEVJ9P/MzFdxbruA/q3SsbQ7vkLXmsI63D0j819kqDGe4OtJcVArn3u2Qmhag6gLDUVMFQ2o2DCmZQz5mMwksyBR4s9E3qzbrWyQm2oB06+CvtXFcQcitYLkP1kOJT4Ia//l8rhnJAjs6JLfMiQAMWERRxH1oH1oe+h56172OhCW3IO22X8CQmh3ssk7qJ+UK5qYL3PCBhk5neP6wkVLix5u8U9uvmXDmAGsuKoV02OE+UBeA6gLHWV110tWrAZfnCbx/SMLuGfv3eX2LREX60K+1MXtC6AWsQ/UwZg/e4HlGioDdA9T3BKko8hkGLKIo0b9tPVp/828QBhMy7v4D4s+/5qRb2IQKg+I9VdjlApavDc/9Ct8+ILG2ReKBWSqUYawQmvKKIUwWOCKoD8vT0QpP20GYJ506YF2dr6BfA/5RP7bvsd0jsaV9cIP7AGP2BO+WOb2dYzqGL7kP1sM4bvDY9oErCbdyy5ywx4BFFOGklOhe/Ve0/+U/YZlyNtLueBjGzLxglzUs4+MF/rRAxd/rJVbVhNcPnGa7xP9bq2FBpsCinOGdfhWqAaaCqd6epQjhrK4ChIClqPSUtymwCVw8TmDl7rGdDt7cJuGRQEXG0B9txhO2zAkFur0HWkcrTCf0XwFAmlUg08pG90jAgEUUwXSXA0efehDdbz4F26IbkXzTj6CYLcEua0S+UqDg5kkCt63TUHkkPH7o9LklrnhHg0sHnj1fHVF/m7mwFK76nZCax48VBo6jpgrG3CIoMfGnvd2yyQo2tEpsH0OwWN8iEW8Epp5ky0FDahaE0eydnB4CBoLeF08RAt4+LAas8MeARRShPJ1taPvdv8Ox8xMkL/0xbItuDPoVgqP1uwoVU5MErlztQbM9tH/waLrE197XUN0l8calBuTGjeziAUtRKaTLAVdjjZ8qDByp63DWVMFymv6rAVfmC2RYgcfHsIq1vkViTrqAepKLCYSiwpA1PmRWsFwH6wGDEYb03CEfm5EieIowAoTnqy0RnZZz3y60Pnw79N4upN3+MGLKFgS7pDGxGgReuUSFJoGr39Xg1ELzh4+UEnds0PFmk8TfL1RRnjryKzONOYUQ5piImIflPtwAvbcL5mFssmxUBL49ScHTdfqomt2llEMGjH6RKbsA7sOhEbDch+phzBwPoQ7tgyxNFmjoBbpcofk8p+FhwCKKMH0b3kLb71fAkJqN9LsehSln4pnvFAbGxQq8crGKynaJ5R+HZtP7w9t1/GGXjj/OV3FZ7uheXoWqwjxxWkT0YTlrqiCMZpjzpwzr9rdMUtDlAv4+imb3TW0S7U5g3mkCljF7AtyHG0Pi9Kv70L5B2wadaMaxRvcdPE0Y1hiwiCKE1DzoeOH36Hj+UcTOWYS07z44aL5OJJidruAv56r4v1qJh7eH1nysf9TruHujjh+VKbh18theWs1FpXDu2wXpcfmouuBwVFfBVDAVwmga1u0LbAKXjLLZ/cGtOopswAXZpw9Y0NxB3zJHahrchxsGDRg90eREwKgAWxmwwhoDFlEE0Ho60fa/P0TfhreR+NXbkfSV20JuU1tf+Xqhgv8oVbDiUx1v+XgPu9F6bb+Ob3yo4esTBX5+9thfVs1FpYDbBVfDHh9UFxzS44KrfjsspxnPcDLLpij4pFVi2wh6kHYclXi5QeKHZepJ+68GDDSUB7sPy9N2APC4T9rgDgAmVWBKIrCNE93DGgMWUZhzNdWi9eHb4WlpQtr3HkRcxeXBLsnvHpil4Eu5Ate/p2F3R/B+y+9zS3znYw1LVmu4NEfgLwtHdsXgqRizCyBi4sJ6HpZz325IlxPm4jP3X51oyXjvmILH9ww/PP/3Fg15ccCNp9mKCACUmHioiWlBD1gDVzJ+cUTDiWYkC65ghTkGLKIwJT1udL31NFofuRNKXALSf/A7mAumBbusgFCEdwhpXhyw8HUP1gVhO52NrTrKXvLg6Todj81X8MrFp97IeaSEosA8cUZY70vorKmCEptwylWaUzne7F6ro8995oBR2yXxfL3Ef5QqMJ5hKyIgNCa6uw7WQ01MO+3oivIU76gGbpkTvhiwiMKQq6kWrb/+Pnre/RviL74e6Xc8DENSWrDLCqh4k8AHVxhQkiRw/hsanqwJTMhy6xI/+0zDvFc1JJsFqq4yYPkU36xcnchcOAOuhj2QLqdPHzdQHNVVMBeXjWo0yC2TFPS4h9fs/uAWDRlW4FvFwztOKAQs96H6U/ZfDShP9W6ZU9MVoKLI5xiwiMKI9LjQ9foqtD5yB6CoSL/rt0i47BsR2291JqkWgdWXqVhaLPCtjzT8+0bNb7/xSymx+oCOin9qeKBKx09nKli3REVxon82ybYUlQKaG86GXX55fH/S7T1wN9WOuP9qwASbwCU5AivPcJpwf4/EU7USd09XYDEM7/tgzC6A1nUEWl/3qGrzheEErLIU7+dTyXlYYYsBiygMSF1H/65P0fLQbej54EXYLr0hokYwjIVJFVg5X8WjcxU8vF3Hlas1dPtwfpBHl3iuTsfMlz249C0NEsD6JSp+OlOFYRinpEbLkDkeSmxCWM7DctZuBaQ+rPlXp7JssoKNrfK0Azd/uU1HgglYPmX4P8qC3eiu9XRC7+445YiGAUlmgfw4oCpMdi+goQzBLoCITk16XLBv/gA9H74IT3MjTPlTkPGD3424ryXSCSFw+zQVkxIErntfw9x/evCbuSouyD75VO/hsHskVlXr+PV2Hft6gEvGCfzrcgUXZAufnw48GaEoMBdOD8uA5aiugiFtHAxJ6aN+jMXHmt1/vU3DqoVDrw48bJd4olrHveUKYo3D/34Y0sYBBiPch/addn9Ef3Ef8ja4n2kFC/CeJqziClbYYsAiCkF6Xw9617+B3jX/hN7bCcvUOUj6yu3emUIB+OEeri7NVfDJlQLXv+fBJW9pyI0FbipWcFORgsKEM3/d6rsl3jmg4+0DEu8fkrB7gOsKBF68aHRT2cfKXFSGzpf+CN3ZD8VsDfjxR8tRUwnL5LPG9BhGReA/yhTcuUHHlqMePHSOiktyPl+p+vU2HRYVuG3qyE7ECFWFMSs/aHsSug/WQ5gsMKRknfG2M1MEHt6hQ0rJ//dhiAGLKARIXYf7UD2cNVVwVFfBWb8DABA76yLELbwKxoyh+5XRyU1OFKi62oCNrRKraiR+u0PHz6t0LMgU+MoEgRiDgCYBTUpoEtAlUNsFvHNAR203YBDAvEyBH5UpuL5AwQRb8H6wmYtKAV2Dq34nLFPODlodI+Fpb4Z25DAsIxzPcDJ3TFMxJ13g7k90XPqWhkU5On51jorMGOCPu3XcNV1BgmkU2xFlTQjaljnug3thzMofVvN/eapAhxNo7AXGn36vbApBDFhEQaD1dsLT3Ah3834467bDWbsFel83hMkMU8F0JFx+E2LOvhBqfGKwSw1LQgjMyRCYkwE8MlfByw0ST9bouGODjoETLqr4/E9mDHBpjoJfniNwQbaAbRQ/tP3BkJ4DxZYER+3WsAlYjupKQFG84dAHzklXsGaxwCsNEis+1VD6kgdTj21QcMe00bURG7MnwF71IaSmnXQvQH9yHdoH84SSYd22fKDR/YjE+PjQeE7S8DFgEfmR1tsFT/N+uA83wH0sUHlaGqH3Hrv2WlFhzClEbMXlMBeXwzxhCoRheNuK0PDEGARuKBS4oVCBpksI4Z2jFQ6EEDAXlobVvoTO6kqY8iZBscb67DGFELhqgsCX8rzb6NxfqePfpilItYzu+2jMngC4XfC0HYQxM89ndZ6J9LjgaWlC3LwrhnX7rBgg3QpUtUtcxbbLsDMkYNXW1uKmm27CkSNHkJCQgCeffBJTp0496Z2llLjwwgtRWVmJzs5OvxdLFMp0ey+cdVvh2rkZbR2H4W7eD727w/tB1QBDeg6MmeNhKSqDIWs8jBl5MKRlQ6j8PSdQRtvwHkzmidPRv2UNdKcDitkS7HJOS+oaHLVbELfgSr88vkkV+P40Fd+bqmAs38kTryQMZMByNzcCujasBnfAGyzLU9joHq6GvLIvX74cy5Ytw9KlS/HCCy9g6dKl2LRp00nv/Mgjj2DixImorKz0e6FEoUZqHrj2V8NRXQlndSVcjdWArkMkpsGYV4zYuZfDmDUexsx8BikaNdOEKYCuw91UA3PhjGCXc1ruA3WQ9t5Rz78arrGuQKpxCVASUo71YS30TVHD4D5YDwgBY1b+sO9TniLwdF1o7LlJIzPoFb+1tRWbN2/G6tWrAQDXXHMNbrvtNtTV1aGwsHDQHXfu3IlXXnkFq1atwj/+8Y/AVUwUZO6WJvStfxN9m96FtPdCWONgKS5D4le+D0txObqFCcnJycEukyKEMXM8hDkGzn27Qj5gOaqrIMxWmMZPDnYpZ2TMmgD3wb0BPab70D4YUrKgWGKGfZ+ZqQIPbgVa+yXSreG3AhvNBgWspqYmZGVlwWDwvlsIgby8PDQ2Ng4KWG63G7feeiueeOIJqMNsEOzuHjw112w2w2w2j7V+ooCQHhf6t65D7/o34dq7HUpsAmLnLIJ1xnyY8ooglBP+Hxw9GrxCKeIIRYUpfzJcDbuDXcoZOWuqYC6cERartabcQvR98k5ARyC4D+4d9unBAQON7lVHJC7NZcAKJ6P6X3D//ffj6quvxpQpU9DQ0DCs++TmDr7MfMWKFbjnnntGc3iigJF93XBvfAueyvcBew+U8VNguvo2qJNnQTcY0Qegr3PwZmEdHR3BKZYilpaRD8+m1Whvbw/JeUgdHR2Qbiec9TthvOjrOBoGv2R4krKg93SgfX8dFFuK348npYTzwF4Y51w2oq9PogTiDHFYd8COWbEuP1ZIIzGcsxSDAlZubi4OHz4Mj8cDg8EAKSUaGxuRlze4CfCjjz5CY2Mjfv/738Pj8aC7uxv5+fnYtGkT0tJOvuFsU1MTbDbb8be5gkWhTOs8gp4PXkTf+jcBIRA351LEVnxp2A2xPEVIvuQoOQtH1rwEm8cesjPRYlrq0a95kFw+H8YweP57SmaiGUBszxFY84v8f7yjLeh39MFWOA3WEX59ylM9qLZbkJwc56fqyB8GBaz09HTMnDkTzzzzDJYuXYoXX3wROTk5Q/qvPv744+P/bmhoQFlZ2RlXsmw226CARRSKPO3N6HnvH+jbuBrCZEbcBdci7twrocbyuUvBYxo/GRACrobdIRuwHNWVUBNSYQjR+r5ITUiFEpcIV1MNrNPn+v14rv3VAADT+Ekjvm95isBbTWx0DzdDThGuXLkSS5cuxX//93/DZrNh1apVAIBbbrkFS5YswZIlSwJeJJG/uRpr0PvRy7BXfQTFGg/bZTcibv4VUCy+m+VDNFqKNRbGzPFw7duF2HMuCXY5J+WsroR5UnlInsI8GSEETHlFcDXWBuR4robdUFMyocYnjfi+5akCv90JdLtkyAzBpTMbErAmTZqEDRs2DLnhn//855M+QH5+Pmdg0bBofd1wN9ZA6+uC3tsFva8bem8XtL4uKOYYGNJzvBvEpo+DITUbism/M3+krsGxfQN6PnoZrvqdUFMykXDlMsTOWRTy84Yo+pgmlBzfQinUyN5OuA83IP7Crwa7lBEx5hajb+3rAWl0d+3fM+qrKwca3be2SyzIYsAKF6F/qQeFNalrcOyphH3jO+jfsRHQ3AAAYbJAibVBiUuAEmuDp+so+nd+AmnvPX5fNTENpvGTYCqYBnPBVBizC3yyrYWnvRn929ahd+1r0NqbYSqYhpRv3wvLtDmDrwYkCiGm/BL0rX8Tur0HSkxobUyn7fMGP7Of51/5mim3CD19XdA622BISvfbcaTHBdeBOiSUj27mVkkSYFK8E90XnHmPaAoRDFjkF+62g7BvXA37pvegdR2BMSsfCYu/Dev0uVDjkyBMJ7/AQevrhqf1ADxtB+FpaYKzYTe6XnsC8LghTBaY8qfANKEExszxMGbkwpA+7oxby+j9fXDWbj0+ENRz5BCgGhBTfi7ilv4Yplz/N7gSjdXA/nXOhj2wlswKcjWDafU7YMyeMKrTX8E08H/f3Vjj14DlPrgP8LhHvYJlVASmJ3Oie7hhwCKf0l0OdL++Cr1r/glhjUPMWechdvYlMOYWDWsJXo21QZ1QMmgzVOlxwdVUB1f9Tjjrd6Bv3euf7+UnFBhSMmHIyIUSmwDpdnr/uI797bDD3dII6DoMqdkwT56JhOJbYC4q9eleaUT+pqZmQYlLgKthV0gFLCkl9PrtsJ59QbBLGTE1IQWKLRmuplpYS+f77Tiu/XsA1QhTzshmYJ2oPAXY1MaAFU4YsMhnXI3VOPrMr+DpaEXCl5cjruLyU65UjYQwmGA+FrriL/wKgGMrXS2NcLc0wdN87O+WRgizBcJohhJrgzCaIUwmxC5YAsukmTCkZI65FqJgEULAlF8C177QGjjqaWmE7OmApTi8Tg8OMOUWwdXk30Z35/49MOVMHNNG7uWpAk/WSDg1CbPKPqxwwIBFYyY1D7pXP4eed5+DcdxEZNz9B79fSq7G2qAWTIO5YJpfj0MUSswTStD9zrOQmuaTfkRfcFRXAaoBponh+X/RlFuM3jWv+LXR3dWwB9Zpc8b0GOUpAh4J7OwAZqb6qDDyKwYsGhN3cyOOPvsruA/uhe2SryP+4uvDYpsMonBkmjAF0uWA+/A+mHIKz3yHAHDs3gQlb7Lfr/r1F2NuIXR7D7SjLX5Z5dZ6OqG1Hx7z/owzkgUEgMojEjNTuYIVDpRgF0Dhy1FThdaHvw/pdCD9zt/AtuhGhisiPzLlFAGqAa59u4JdCgBvz6WzbhvUwtJglzJqA43urqYavzy+a/8e73HyxxawYo0CkxPBRvcwwoBFo9K/cyOOPP5TmAqmI/3u38GUVxzskoginjCZYcophDNENn521m0DPG6ohWXBLmXUVFsy1MRUuJvq/PL4rv17oNiSoPrgKsXyFIGqIwxY4YIBi0bMvmUN2p/4T1hKZiH1lp+G7akBonBkyp8SMitYjt2boSZnQKRmB7uUMTHmFvt1BcuUN9kn/V3lqQJbj0poOkNWOGDAohHp27gaR//vQcSUn4uUm348pqtiiGjkTBNKoB1tgdbVHtQ6pJRw7NoEy5RZYbM9zqmYcgvhaqqDlL4NLlLX4NpfM+bTgwPKUwTsHqC22ycPR37GgEXD1rv2NXQ89zBi51yKpBvuDpmrmIiiyecDR4N7mtDTdhBa+2FYppwd1Dp8wZRbDNnfC639sE8f19PSBOm0j7nBfcDAljmVPE0YFhiwaFh6PnwZnS/8AXHnfhmJX72dW8oQBYmakAI1KT3opwkduzcDqhHmovDtvxpgzPVekenrjZ9dDbsBofisRzXZIjA+DviMASssMGDRGdmr1qDrlZWIu+BaJFy1POxPBxCFO9OEkhAIWJtgLpweERujq3GJ3tDq4z4s5/49MGblQzFbffaYs9MEJ7qHCQYsOi1n/U4cffZXsJ51PhIW38xwRRQCzBNK4DpQB+l2BeX4A+MZIuH04ABTbhHcPp7o7tpf7bP+qwGz0wU+OyLhYaN7yGPAolNytx1E+xP3wzR+MpK/9m8MV0QhwpQ/BdA8ft/i5VSctVsBjxuWKaGzJ+JYGXOLvKFV133yeLqjD57m/T7rvxowO83b6L6rw6cPS37AgEUnpfV24sjKn0CJtSH12z/l1YJEIcSYXQBhMgftNOHAeAZDek5Qju8PprxiSIcdniOHfPJ4rsYaQEqfB6yZqQKKAD7lacKQx4BFQ0iXE+1/vh/S0Y/U5T+HEhsf7JKI6ARCVWEaPwXO+h0BP7aUEo7dmyNiPMOJTDneie6+Ok3oatgDYYn1eQiNMwqUJIJ9WGGAAYsGkbqOo399CO6D9Ui99X6/7M1FRGNnLiqFs247pKYF9LjHxzOURM7pQQBQYuOhpmT67LSra/8emMZPglB8/2N2dprAp22+OZVJ/sOARYN0v/00+reuRfI3VsA0flKwyyGiUzAXlUI67QHvw3Ls2uQdzxDG+w+eiim3yCdfTyklXA17vL1yfjA7XWD7UcDu4SpWKGPAouP6t61Hz+rnYLv8JlhnzAt2OUR0Gqa8YgizFc66rQE9biSNZ/giU24x3AfqIPWxrQpq7c3Q+7p83n81YHaaAk2C+xKGOAYsAgC4W5pw9NmHYJ0xD/EXXRfscojoDIRqgHniNO8VfQGiuxxw7t0eUeMZTmTMLYJ09sPTenBMj+PavwcA/HYWYFoyYFHZhxXqGLAIusOO9if+E2piKpK+/oOIalwlimTmojK46ndCegIzDysSxzOcyJQzMNG9ekyP42rYDUPaOKixNl+UNYRREShPEbySMMQxYEU5KSU6/vpraN3tSPn2vVAsMcEuiYiGyVxUCul2wrV/bIFguBy7N0NNyYyo8QwnUmLiYMwtQv/2DWN6HOfeHX47PThgdjoDVqhjwIpyPf96Hv3b1iH5hn+HMSM32OUQ0QgYswsgYuLgqNni92N5xzNsgmXK2RG9yh0z8zw4dm2Cbu8d1f3dhxvgPlQP64wK3xb2BbPTBPZ2A+0OhqxQxYAVxRx7PkP3m/+H+Eu+Buv0ucEuh4hGSCgKzIUzAtKH5Wk9AK29OWJPDw6IKV8I6B70b18/qvvbN78PJSbe72MsZqd5Qy77sEIXA1aU8rQ34+hTD8Iy+WzYFt0Y7HKIaJQsRWVw7d8D3eXw63H6t6yBMFthKSrz63GCTU1MhXnidNgrPxzxfaWuwb75fVhnLvT77hcTbUCSmQErlDFgRSHd5UD7X/4LwhqH5G+sgFDUYJdERKNkLir17kvo521z7FVrYJ02B8Jk9utxQoF15nlw1myB1jOyDf+cddugdR1BzNkX+qmyzwkhjg0cZcAKVQxYUUZKic6//w6etgNIufleKDHcBoconBky8qDEJ8Hpxz4s9+EGeJr3w1q+0G/HCCXW0vmAEOivWjOi+9k3vQdD2ji/N7gPmHUsYEnJkBWKGLCiTN/Hr8K++T0kXXcnTNkFwS6HiMZICAFzUSkcfuzDsld9BGGJhWXyTL8dI5SosTZYJp81otOEurMf/VvXImbWhQG7CGB2mkBrP9A4un588jMGrCji3LsDna88jriFVyHmrPODXQ4R+YilqBTuplro/X0+f2wpJfqr1sA6o8LvfUWhJGbmeXA17IanvXlYt+/ftg7SPOA2UQAAFnVJREFU5UDMWRf4ubLPzWKje0hjwIoSWlc72p98AKYJJUhYcnOwyyEiHzIXlQFSh3Pvdp8/tvvgXnjaDnqvrosilulzIYxm2Ks+Gtbt7Zveg2nidBhSMv1c2ecyYwTy4sA+rBDFgBUFpMeN9lU/h1BUpCz9EYRqCHZJRORDakom1KR0v4xr6K9aAyXWBnNxZF89+EWK2QrL1HPQP4zThFrnEThrtyB2lv+b27+Ije6hiwErwkkp0fnSH+FqqkPyt34CNT4p2CURkY95+7DK4Kz1baO7lBL2qo9gnTEvKn8xiznrfLgP7YO7ef9pb2f/7APAYIS1dEGAKvvcrDSBzW0Sms6QFWoYsCJc74cvoW/9m0i69rsw5wfmyhYiCjxzcSnch/ZB6+3y2WO6G2ugHW2JmqsHv8gy5SwIa9xpm92llOjb9C6s0+ZCscYGrrhjZqcJ9HmA3Z0BPzSdAQNWBLNv+Rhdr/4Z8Rd+FbFzLwt2OUTkR5bCUgDeWUy+Yq/6CEp8EsyF0332mOFEGEywzqiAvfLDU45CcB+og6e5ETGzLgpwdV5npQoIsNE9FEX8mq/UNXhamuA6UAe9rweQOqDrkLrm/Te8c2RMecVQE9MiZo8t575dOPrML2EtOxe2Ly0NdjlE5GdqYioMaePgrN2KmLKxn6qSuo7+LWtgLZ0f1cOIY2aeB/vG1XA31cCUN2nIx+2b3oMSnwTLpOCMsIg3CZQkeRvdvzW0PAqiiAtYno42OGu3wN1UC9eBOrgP7oV0OQHAO4FYqICieF8wFAXQdeh93iV1JT4JprximHKLYSqYCnPhDAgl/Bb53G0H0f7n+2DKm4TkG34Qlp8DEY2cL/uwXA27oXUeibqrB7/IXFQKJT4J9s8+HBKwpOaBvfIDxJx1AYQavBDqbXTXAURvEA5FERGwPO3N6N+6Fv1b18K1fw8AwJA2DsacQlinV8CYWwTTuIlQYuJOen+tqx2uphq4Gr1/eta8DPn201BTshA373LEnHMp1FhbID+lUdN6u9C+8l4osTak3vyzqJpbQxTtzMWl6Fv/BrTOI1ATU8f0WPaqj6AmpMI0ocRH1YUnoaiIKVsAe9WHMKTnAFJ6z35ICU97M/TerqCdHhwwK03g6VoJh0fCYoiMszCRIGwDltZ5BH2b30P/1rVwN9UCBiMsU2Yh+cYVsJTMGtEWMGpCCqwJc2GdNheAt2nRtX8P+ta+jq43nkLXm08hpnwh4hYsPukScaiQLifa/3wfdEcf0u/8DZRYboNDFE3MhaWAosC+dS3iF3551I8jdQ39Wz9GTPl5XAEHEHPOJej95G10vvAHQAhAKIAivFdvFpfDOC64u2LMTlPgkToq2yUqMhiwQkVYBSypaXDs3oS+DW/BsWsThMEIS8ksxJ9/rTdUWWJ8chwhBMz5U2DOn4KEL9+Kvk/eQd+6N2Df9C+YCqYiYfHNMIfYb3W604H2VT+H+2A90m77JQypWcEuiYgCTI1LgLV0AXrX/BNxCxaPunfKuXcH9O6OqL168ItMOYXI+dWrwS7jlGakADEGYEOLREVGsKuhAWERsDxHW9D3yTuwb1wNresIjDmFSLz2e4g56zwoFv9eFqvGJcJ20XWIv+BaOHZ9iu63nkHbo3fBWjoftiu+BWPaOL8efzi0vm60P/5TuJv3I+WWn8E0PnRX2YjIv+LPuxqtj9wBx45PYJ0xb1SP0V/1EdTkDL6WhAmjIjArTWB9i8QPgl0MHReyAUvqGhx7PkPf2tfh2L0JwmRFzFnnIXbuZTDlFgW8HqGosE6bC0vJObBvfh/dbz6Jlv9Zhrh5X0L8pTdAjUsIeE0A4OloxZE//hi6vRtp3/sFTHnFQamDiEKDafwkmAqmoufDl0YVsHR7L+xb1iB2zmURc1V1NKjIEFhVrUNKye9biAi5gKX1dKJv4zvoW/8mtKMtMOZMROJXb0fMzPOgmK3BLg9CURA7+yLElC1Az5pX0POv59G36V+Iv+g6xC+8CsIYuKZyd/N+HHnsx4CiIu32X8OYnhOwYxNR6Io/72q0/+W/4NpfPeJVqO53nwM8njH1cFHgVaQL/M8WYH8vkM/225AQEgFL6jqctVvQ98k76N+2DlAUxJSdi9hv/hCm8ZNCMo0Lkxm2i65D7JxL0fPOX9H95lPoW/cGEq74FqzlC/3eGOrctwtH/vRTGBJSkfqdB6AmpPj1eEQUPizT5kBNyULPhy8h5aYfDvt+niOH0LvmVdguuZ6vKWFmzrHm9vUtEvnxofczMxoFNWB52pvR9+m7sH/6LrSOVhgy8pBwxbcQO/uSsLkCTo1LROI130XsgiXoevUJHH36FzB+9DISv7wM5oJpPj+e1DzoXfs6ul9fBWNuEVJvue+U4yeIKDoJRUX8wi+j85WV8HTcDENS+rDu1/XaX6DGJSDu/Gv8XCH5WqpFoDjBG7C+XhjsaggIQsDS7T3o374B9s8+gLN2C4TJgpjyhYiZcylM4yeH5GrVcBjTc5B6y8/grNuGzlceR9tv74ZlRgXiL/iqz1bhHNWV6Hz5MXhamhA7ZxESr/qOd3gqEdEXxJxzCbrefAq9a/6JxCtvPePtnXt3oH/rWiTdcDcUkyUAFZKvVWQIbGjlwNFQEbCA1bf5PbhqK+GoqQJ0DaaCaUi6/t9gLTsXijly/jObC2cg/a7fwl75gfeKw9/cCWNuEeLmL0ZM+cJRBSJP2yF0/vNxOHZ8AlPBNKT/4Hcw5fBXFCI6NcVsRWzF5ehb/wZsl95w2jE2UtfR+cpKGHOLEHPWBQGsknypIkPB07Uaet0SccbwXKyIJAELWJ0v/C9SJpci8cvLYJ0xL6LP7wtFQezZFyJm5vlw7NmMvo9fQ8ffHkHXP/+EmHMuQezsi2FIz4FQT/3l13o64WqshrO6Cr3r3oAan4jkm34Ea9mCsF3lI6LAijt3CXo/fAl9G1eftmndXvkB3E21SPv+QxwsGsbmpgto0rvx8/nZ/DkRbAELWJk//BOScvMDdbiQIBQF1pLZsJbM9jaPrnsDfRvfQe8HLwKKAkNyJgzp42BIy4EhLRu6ww73se16tM42AIASmwDbxdch7oJruWxPRCNiSEyDtfxc9H708ikHj+ouB7pfXwVr6XyYJ/q+b5QCpyQJsBm9fVjnZwe7GgpYwFITkgN1qJBkSM1G4pW3wnbZN+Bq2ANP28Hjfxy7N8Hz8WEIoxmm3EJYZy48vum0mpzBFSsiGrX4hVeh9bMP0L99A2JK5w/5eO+HL0Hr6UTC4m8HoTryJUUIzM0Q2NAig10KIUTGNEQTxWSBpbgMKC4b9H6paYAQXJ4nIp8y5RXDNHE6et75K6TLATUuEUp8ItS4REipo+dff0fcuVfCkMolj0hQkSHw6A4dupRQ+Mt5UDFghQih8qoPIvIP26IbcfTJB9Dx7ENDPqbE2mC7+GtBqIr8YW66wM+cQE0XMDkx2NVENwYsIqIIZykqRfYDf4d0OaH1dUHv6YTW2wm9pxPGrPGcpRdBzkkXEPD2YU1O5ApWMDFgERFFCWEyw2BKB4Y5eJTCj80kMD0ZWN+i49uT2HISTPzqExERRZC56Qob3UMAAxYREVEEqcgQ2NUJdDgZsoKJAYuIiCiCVBzb+PmTVgasYGLAIiIiiiATbUCaxdvoTsHDgEVERBRBBAeOhgQGLCIioghTkS6wsU3CozNkBQsDFhERUYSpyBDodQM7OoJdSfRiwCIiIoowZ6cJGIR3HhYFBwMWERFRhLEaBMpT2YcVTAxYREREEagiQ2AdA1bQMGARERFFoIp0gX09QLOdISsYGLCIiIgi0MDAUZ4mDA4GLCIiogiUEyeQGwus50T3oBgSsGpra1FRUYHi4mLMmjULO3fuHHKn999/H7Nnz0ZJSQmmTp2KFStWQNd5pQIREVEoqcgQnOgeJEMC1vLly7Fs2TLU1NTgnnvuwdKlS4fcKSkpCX/729+wa9cufPbZZ1i/fj2eeuqpQNRLREREw1SRIbC5TcKpMWQF2qCA1drais2bN+PGG28EAFxzzTVoampCXV3doDuVl5ejoKAAAGCxWFBWVoaGhobAVExERETDMi9DgUsHKo8wYAXaoIDV1NSErKwsGAwGAN79jPLy8tDY2HjKB2hubsYLL7yAK6644rQH6u7uHvTH6XT6oHwiIiI6lRkpQIyBGz8Hg2Esd+7u7sbixYuxYsUKnH322ae9bW5u7qC3V6xYgXvuuWcshycKSR0d3JuCoguf86FtZpIVHzRJfCvHEexSIkZycvIZbzMoYOXm5uLw4cPweDwwGAyQUqKxsRF5eXlD7tjT04NFixbhyiuvxF133XXGAzU1NcFmsx1/22w2w2w2D+fzIAo7w/nPRxRJ+JwPXeeO0/BEtY6kJCuEEMEuJ2oMOkWYnp6OmTNn4plnngEAvPjii8jJyUFhYeGgO/X29mLRokVYtGgRfvKTnwzrQDabbdAfhisiIiL/q8gQaOkH9vUEu5LoMuQqwpUrV2LlypUoLi7Ggw8+iFWrVgEAbrnlFrz66qsAgEcffRSffvopXnrpJZSVlaGsrAwPPPBAYCsnIiKiM5qT7l21Yh9WYAkppV+/4t3d3UhISEBXV9egU4REkero0aM8XUJRhc/50DflH26cn6Xgf+erwS4lanCSOxERUYSrSBdY38KB4IHEgEVERBThKjIUbO8Aul08TRgoDFhEREQRbl6mgC6BT9sYsAKFAYuIiCjCFScAyWY2ugcSAxYREVGEU4TA3HRu/BxIDFhERERRoCJDYEOLhO7f4QF0DAMWERFRFKjIEOh2A7u4s1FAMGARERFFgVlpAqpgH1agMGARERFFgVijQFmKwDrOwwoIBiwiIqIoUZHBRvdAYcAiIiKKEvMyBOq6gdZ+hix/Y8AiIiKKEhUZ3o2fN3AVy+8YsIiIiKJEbpxATiywjgHL7xiwiIiIogj7sAKDAYuIiCiKVGQIbD4i4dQYsvyJAYuIiCiKzMsQcGpA5REGLH9iwCIiIooipSkCMQb2YfkbAxYREVEUMSoCs9PYh+VvDFhERERRZl6GwLoWCcmNn/2GAYuIiCjKzMsUaO0H6nuCXUnkYsAiIiKKMnPSvQNH1zVzBctfGLCIiIiiTJJZYGoSG939iQGLiIgoCnkHjurBLiNiMWARERFFoXkZCnZ2AJ1OrmL5AwMWERFRFJqXISABbGhlwPIHBiwiIqIoNNEGpFnAeVh+woBFREQUhYQQ3nlYvJLQLxiwiIiIotS8TIGNbRJunSHL1xiwiIiIolRFhoDdA2xrD3YlkYcBi4iIKEqdlSpgUoB1HNfgcwxYREREUcqsCpydJjhw1A8YsIiIiKLYvAzBKwn9gAGLiIgois3LEDjQBzT2MmT5EgMWERFRFJubwY2f/YEBi4iIKIqlWwWKbBw46msMWERERFGuIkPwSkIfY8AiIiKKcvMyFWw9CvS4uIrlKwxYREREUW5ehoAugY1tDFi+woBFREQU5SYnAhlWYPUBBixfYcAiIiKKcooQ+FKuwGuN7MPyFQYsIiIiwuLxCvZ0AnVdXMXyBQYsIiIiwsXjBMwquIrlIwxYREREhFijwAXZAq/t5wqWLzBgEREREQBgcZ7Ax80SnU6GrLFiwCIiIiIAwBV5CjwSeJtXE44ZAxYREREBAHLjBMpSgNf2sw9rrBiwiIiI6LjFeQreOiDh0bmKNRYMWERERHTc4vECHU5gHTd/HhMGLCIiIjrurFSBTCt4NeEYMWARERHRcYoQuCKPU93HigGLiIiIBlk8XkFNF1DdyVWs0WLAIiIiokEuGidg4VT3MWHAIiIiokFiDAIXjeNU97FgwCIiIqIhFucpWNcicdTBkDUaDFhEREQ0xBV5ApoE3uJU91FhwCIiIqIhsmMFzkoVnOo+SgxYREREdFKL8wTePiDh8HAVa6QYsIiIiOikvl6owO4BHtzKVayRYsAiIiKikypKEFgxQ8H/bNGxhzOxRoQBi4iIiE7px+UK8uKA5R9r0CVD1nAxYBEREdEpWQ0Cj81XsaZZYlU1A9ZwMWARERHRaV04TsE3iwT+/VMNrf0MWcPBgEVERERn9NA5KhQAd32iBbuUsMCARURERGeUZhV4aI6KZ+sk3j3AqwrPhAGLiIiIhuWmIoHzswS+s1aDnbOxTsvvAcvpdA76myiSOZ1O/OIXv+DznaIGn/PRRQhvw/uBPuCuDXpUDiB1Op247777zvicHxKwamtrUVFRgeLiYsyaNQs7d+486R2feOIJFBUVYeLEibj11lvhdrtPWciJfxNFMqfTiV/+8pd8vlPU4HM++hQnCvzqHAV/qtZR/HcP/rxHh1uPnqDldDpx//33jzxgLV++HMuWLUNNTQ3uueceLF26dMid9u3bh3vvvRcff/wx6urq0NLSgscff9xnxRMREVHoun2ail3XGlCRIXDrxxpK/uHBX+t0zsk6waCA1drais2bN+PGG28EAFxzzTVoampCXV3doDu98MILWLJkCTIzMyGEwHe+8x0899xzgauaiIiIgmpSosDfLjSg6moDJicK3PCBhtIXPXigSsPze3V81ibR5YrewGU48Y2mpiZkZWXBYPC+WwiBvLw8NDY2orCw8PjtGhsbMX78+ONv5+fno7Gx8aQHkMfS7OHDhwe932w2w2w2++azIAoR3d3dg/4minR8zlOBEXh2LvDpRB2/2Krj159KdJxw9izZAkyIE4g3ARYFsBoAi+odYGpSAVUAigBUeP9WAAgBiGN/A95/n4440w1G6YsLchKA0+U89rHTh0fDaT/qAwO9WbNnz/b3oYhCRm5ubrBLIAooPufpVI4e+xNpXC7XaT8+KGDl5ubi8OHD8Hg8MBgMkFKisbEReXl5g+6Ul5eHvXv3Hn+7oaFhyG0G5OfnY+/evTAajRAnREyuYBEREVG4io+PP+3HBwWs9PR0zJw5E8888wyWLl2KF198ETk5OYNODwLe3qz58+fjvvvuQ0ZGBh577DFcf/31Jz2AoigoKCgY46dBREREFD6E/MJJxOrqaixduhTt7e2w2WxYtWoVpk+fjltuuQVLlizBkiVLAAB/+tOf8OCDDwIAzjvvPDz22GMwGo2B/wyIiIiIQsyQgEVEREREY+PXSe7DHVpKFCny8/MxadIklJWVoaysDM8//3ywSyLymdtvvx35+fkQQmDLli3H38/XeopUp3rOD+e13q8BazhDS4kizfPPP48tW7Zgy5YtuO6664JdDpHPXHvttVi7du2gMT0AX+spcp3qOQ+c+bXebwFruENLiYgoPJx77rnIyckZ9D6+1lMkO9lzfrj8FrBON7SUKJJ985vfxPTp03HzzTejra0t2OUQ+RVf6ylanem13q+nCImizZo1a7Bt2zZUVlYiNTUVN910U7BLIiIiHxvOa73fJrkPd2gpUSQZeH4bjUbceeedKC4uDnJFRP7F13qKRsN5rffbCtaJQ0sBnHJoKVGk6OvrQ2dn5/G3n3vuOZSXlwexIiL/42s9RZvhvtb7dQ7WqYaWEkWi+vp6XHPNNdA0DVJKFBQU4NFHH0V+fn6wSyPyieXLl+ONN95Ac3MzUlJSEB8fj7q6Or7WU8Q62XN+9erVw3qt56BRIiIiIh9jkzsRERGRjzFgEREREfkYAxYRERGRj/1/fwOqRzYNOjUAAAAASUVORK5CYII=\" />"
      ]
     },
     "execution_count": 236,
     "metadata": {},
     "output_type": "execute_result"
    }
   ],
   "source": [
    "plot_grid = linspace(0, 15, 100)\n",
    "phat_d = kde(est_data[:, [2, 3]])\n",
    "plot_data = pdf(phat_d, plot_grid, [0, 1])\n",
    "plot(plot_grid, plot_data ./ sum(plot_data, 2), label=[\"not replace\" \"replace\"], ylim = (0, 1))"
   ]
  },
  {
   "cell_type": "markdown",
   "metadata": {},
   "source": [
    "### 4."
   ]
  },
  {
   "cell_type": "code",
   "execution_count": 557,
   "metadata": {},
   "outputs": [
    {
     "data": {
      "text/plain": [
       "solve_HZ (generic function with 2 methods)"
      ]
     },
     "execution_count": 557,
     "metadata": {},
     "output_type": "execute_result"
    }
   ],
   "source": [
    "function solve_HZ(phat_x_1, phat_d)\n",
    "    integration_grid = collect(linspace(0, 15, 100))\n",
    "    v = zeros(100)\n",
    "    oldv = similar(v)\n",
    "\n",
    "    error = 1.\n",
    "    \n",
    "    Γ = pdf(phat_x_1, integration_grid, integration_grid)'\n",
    "    γ = sum(Γ, 2)[:]\n",
    "    log_value = log.(pdf(phat_d, integration_grid, [1]) ./ sum(pdf(phat_d, integration_grid, [1])))[:]\n",
    "\n",
    "    while error > 1e-10\n",
    "        oldv = similar(v)\n",
    "\n",
    "        v = β * Γ ./ γ * v - β * (Γ ./ γ * log_value)\n",
    "\n",
    "        error = maximum(abs.(v .- oldv))\n",
    "    end\n",
    "\n",
    "    v\n",
    "end"
   ]
  },
  {
   "cell_type": "code",
   "execution_count": 568,
   "metadata": {
    "scrolled": false
   },
   "outputs": [
    {
     "data": {
      "text/plain": [
       "100×2 Array{Float64,2}:\n",
       " 146.003  144.959\n",
       " 145.992  144.974\n",
       " 145.976  144.987\n",
       " 145.956  144.998\n",
       " 145.936  145.008\n",
       " 145.92   145.017\n",
       " 145.913  145.024\n",
       " 145.919  145.031\n",
       " 145.94   145.037\n",
       " 145.975  145.041\n",
       " 146.019  145.043\n",
       " 146.061  145.043\n",
       " 146.091  145.039\n",
       "   ⋮             \n",
       " 140.424  144.948\n",
       " 139.029  144.893\n",
       " 137.597  144.855\n",
       " 136.16   144.83 \n",
       " 134.73   144.815\n",
       " 133.302  144.806\n",
       " 131.874  144.8  \n",
       " 130.447  144.797\n",
       " 129.085  144.795\n",
       " 129.198  144.794\n",
       " 131.719  144.794\n",
       " 134.463  144.793"
      ]
     },
     "execution_count": 568,
     "metadata": {},
     "output_type": "execute_result"
    }
   ],
   "source": [
    "logpd = log.(pdf(phat_d, integration_grid, [0, 1]) ./ sum(pdf(phat_d, integration_grid, [0, 1]), 2))\n",
    "solve_HZ(phat_x_1, phat_d) .+ logpd .- logpd[:, 2]"
   ]
  },
  {
   "cell_type": "code",
   "execution_count": null,
   "metadata": {},
   "outputs": [],
   "source": []
  }
 ],
 "metadata": {
  "kernelspec": {
   "display_name": "Julia 0.6.0",
   "language": "julia",
   "name": "julia-0.6"
  },
  "language_info": {
   "file_extension": ".jl",
   "mimetype": "application/julia",
   "name": "julia",
   "version": "0.6.0"
  }
 },
 "nbformat": 4,
 "nbformat_minor": 2
}
