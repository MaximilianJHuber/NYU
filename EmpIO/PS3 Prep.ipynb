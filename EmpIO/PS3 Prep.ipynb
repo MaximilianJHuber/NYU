{
 "cells": [
  {
   "cell_type": "markdown",
   "metadata": {},
   "source": [
    "### MPEC\n",
    "Let me try Dube Fox Su (2012):\n",
    "$$s_{jt}=\\int_{0}^{\\infty}\\frac{exp\\big(x'_{jt}\\beta_{t}-\\frac{1}{y_{i}}p_{jt}+\\xi_{jt}\\big)}{1+\\sum_{k}exp\\big(x'_{jt}\\beta_{t}-\\frac{1}{y_{i}}p_{jt}+\\xi_{jt}\\big)}\\frac{1}{y_{i}\\sigma_{y}\\sqrt{2\\pi}}\\exp\\Big(-\\frac{(\\log y_{i}-\\mu_{y})^{2}}{2\\sigma_{y}^{2}}\\Big)dy_{i}=\n",
    "$$\n",
    "$$s_{jt}=\\int_{-\\infty}^{\\infty}\\frac{exp\\big(x'_{jt}\\beta_{t}-\\frac{1}{\\exp e_{i}}p_{jt}+\\xi_{jt}\\big)}{1+\\sum_{k}exp\\big(x'_{jt}\\beta_{t}-\\frac{1}{\\exp e_{i}}p_{jt}+\\xi_{jt}\\big)}\\frac{1}{\\sigma_{y}\\sqrt{2\\pi}}\\exp\\Big(-\\frac{(e_{i}-\\mu_{y})^{2}}{2\\sigma_{y}^{2}}\\Big)de_{i}=\n",
    "$$\n",
    "$$s_{jt}=\\int_{-\\infty}^{\\infty}\\frac{1}{\\sqrt\\pi}\\frac{exp\\big(x'_{jt}\\beta_{t}-\\exp (-\\mu_{y}-\\sqrt{2}\\sigma_{y}e_{i}) p_{jt}+\\xi_{jt}\\big)}{1+\\sum_{k}exp\\big(x'_{jt}\\beta_{t}-\\exp (-\\mu_{y}-\\sqrt{2}\\sigma_{y}e_{i})p_{jt}+\\xi_{jt}\\big)}\\phi(e_i)de_{i}=\n",
    "$$"
   ]
  },
  {
   "cell_type": "markdown",
   "metadata": {},
   "source": [
    "I prepare the data:"
   ]
  },
  {
   "cell_type": "code",
   "execution_count": 2,
   "metadata": {
    "collapsed": true
   },
   "outputs": [],
   "source": [
    "using DataFrames\n",
    "using FastGaussQuadrature\n",
    "using JuMP\n",
    "using Ipopt\n",
    "\n",
    "data = readtable(\"data_ps2.txt\", header=false, separator=',')\n",
    "rename!(data, names(data), [:car, :year, :firm, :price, :quantity, :weight, :hp, :ac, :nest3, :nest4]);\n",
    "data[:share] = data[:quantity] / 1e8;\n",
    "meanweight = mean(data[:price])\n",
    "meanhp = mean(data[:price])\n",
    "meanprice = mean(data[:price])\n",
    "\n",
    "data[:weight] = data[:weight] / mean(data[:weight])\n",
    "data[:hp]     = data[:hp] / mean(data[:hp])\n",
    "data[:price]  = data[:price] / mean(data[:price]);\n",
    "\n",
    "function competitor_mean_characteristic(good, char::Symbol)\n",
    "    mean(data[(data[:firm] .!= good[:firm]) .* (data[:year] .== good[:year]), char]) #same year, different firm\n",
    "end\n",
    "\n",
    "function firm_mean_characteristic(good, char::Symbol)\n",
    "    mean(data[(data[:firm] .== good[:firm]) .* (data[:year] .== good[:year]) .* \n",
    "            (data[:car] .!= good[:car]), char]) #same year, same firm, different product\n",
    "end\n",
    "\n",
    "data[:comp_weight] = [competitor_mean_characteristic(good, :weight) for good in eachrow(data)]\n",
    "data[:comp_hp]     = [competitor_mean_characteristic(good, :hp) for good in eachrow(data)]\n",
    "data[:comp_ac]     = [competitor_mean_characteristic(good, :ac) for good in eachrow(data)]\n",
    "\n",
    "data[:firm_weight] = [firm_mean_characteristic(good, :weight) for good in eachrow(data)]\n",
    "data[:firm_hp]     = [firm_mean_characteristic(good, :hp) for good in eachrow(data)]\n",
    "data[:firm_ac]     = [firm_mean_characteristic(good, :ac) for good in eachrow(data)];\n",
    "\n",
    "data[isnan.(data[:firm_weight]),:firm_weight] = 0.0\n",
    "data[isnan.(data[:firm_hp]),:firm_hp] = 0.0\n",
    "data[isnan.(data[:firm_ac]),:firm_ac] = 0.0;"
   ]
  },
  {
   "cell_type": "code",
   "execution_count": 3,
   "metadata": {
    "collapsed": true
   },
   "outputs": [],
   "source": [
    "year = 1990\n",
    "\n",
    "w = convert(Array{Float64}, data[data[:year] .== year, [:share, :weight, :hp, :ac, :price]])\n",
    "z = convert(Array{Float64}, data[data[:year] .== year, [:weight, :hp, :ac, :comp_weight, :comp_hp, :comp_ac,\n",
    "                                                                      :firm_weight, :firm_hp, :firm_ac]]);\n",
    "w = w[1:20,:]\n",
    "z = z[1:20,:]\n",
    "\n",
    "share = w[:, 1]\n",
    "weight = w[:, 2]\n",
    "hp = w[:, 3]\n",
    "ac = w[:, 4]\n",
    "price = w[:, 5];"
   ]
  },
  {
   "cell_type": "markdown",
   "metadata": {},
   "source": [
    "This is the mathematical program to be solved by IpOpt:"
   ]
  },
  {
   "cell_type": "code",
   "execution_count": 4,
   "metadata": {},
   "outputs": [
    {
     "ename": "LoadError",
     "evalue": "\u001b[91mUndefVarError: μy not defined\u001b[39m",
     "output_type": "error",
     "traceback": [
      "\u001b[91mUndefVarError: μy not defined\u001b[39m",
      "",
      "Stacktrace:",
      " [1] \u001b[1minclude_string\u001b[22m\u001b[22m\u001b[1m(\u001b[22m\u001b[22m::String, ::String\u001b[1m)\u001b[22m\u001b[22m at \u001b[1m.\\loading.jl:515\u001b[22m\u001b[22m"
     ]
    }
   ],
   "source": [
    "# initial xis:\n",
    "δ = zeros(length(weight))\n",
    "(e, q) = gausshermite(30)\n",
    "p = price #price\n",
    "s = share #share\n",
    "\n",
    "μ_y = getvalue(μy)\n",
    "σ_y = getvalue(σy)\n",
    "\n",
    "h(e) = 1/(√π) .* exp.(δ .+ (exp(-μ_y + 1/2 * σ_y^2) - exp(-μ_y - (√2) * σ_y * e)) .* p) / \n",
    "    (1 + sum(exp.(δ .+ (exp(-μ_y + 1/2 * σ_y^2) - exp(-μ_y - (√2) * σ_y * e)) .* p)))\n",
    "\n",
    "error = 1\n",
    "δ = zeros(length(weight))\n",
    "\n",
    "while error > 1e-13\n",
    "    δold = copy(δ)\n",
    "    δ = δold .+ log.(s) .- log.(hcat(h.(e)...) * q)\n",
    "    error = maximum(abs.(δ - δold))\n",
    "end"
   ]
  },
  {
   "cell_type": "code",
   "execution_count": 14,
   "metadata": {},
   "outputs": [],
   "source": [
    "using FastGaussQuadrature\n",
    "using JuMP\n",
    "using Ipopt\n",
    "using NLopt\n",
    "\n",
    "# Data\n",
    "K=3\n",
    "I=size(w)[1]\n",
    "(e0, q0) = gausshermite(3)\n",
    "\n",
    "# Model\n",
    "#m = Model(solver=NLoptSolver(algorithm=:LD_SLSQP))\n",
    "m = Model(solver=IpoptSolver(print_level=5, print_frequency_iter=1))\n",
    "\n",
    "@variable(m, β[1:3], start = 10.0)\n",
    "@variable(m, μy, start = 10)\n",
    "@variable(m, σy, start = 1.0)\n",
    "\n",
    "\n",
    "\n",
    "# incomplete: find xi from delta\n",
    "\n",
    "@variable(m, ξ[1:I], start=0)\n",
    "\n",
    "@objective(m, Min, (z' * ξ)' * (z' * ξ))\n",
    "@NLexpression(m, integrand[i=1:I, k=1:K], exp(ξ[i] + weight[i] * β[1] + hp[i] * β[2] + ac[i] * β[3] - exp(-μy -sqrt(2) * σy * e0[k]) * price[i]) / (1 + sum((exp(ξ[j]) + weight[j] * β[1] + hp[j] * β[2] + ac[j] * β[3] - exp(-μy - sqrt(2) * σy * e0[k]) * price[j]) for j in 1:I)))\n",
    "\n",
    "@NLconstraint(m, integral_constraint[i=1:I], (share[i]) == (sum(integrand[i,k] * q0[k] for k in 1:K)));"
   ]
  },
  {
   "cell_type": "code",
   "execution_count": 5,
   "metadata": {},
   "outputs": [
    {
     "name": "stdout",
     "output_type": "stream",
     "text": [
      "\n",
      "******************************************************************************\n",
      "This program contains Ipopt, a library for large-scale nonlinear optimization.\n",
      " Ipopt is released as open source code under the Eclipse Public License (EPL).\n",
      "         For more information visit http://projects.coin-or.org/Ipopt\n",
      "******************************************************************************\n",
      "\n",
      "This is Ipopt version 3.12.1, running with linear solver mumps.\n",
      "NOTE: Other linear solvers might be more efficient (see Ipopt documentation).\n",
      "\n",
      "Number of nonzeros in equality constraint Jacobian...:      500\n",
      "Number of nonzeros in inequality constraint Jacobian.:        0\n",
      "Number of nonzeros in Lagrangian Hessian.............:    10100\n",
      "\n",
      "Total number of variables............................:       25\n",
      "                     variables with only lower bounds:        0\n",
      "                variables with lower and upper bounds:        0\n",
      "                     variables with only upper bounds:        0\n",
      "Total number of equality constraints.................:       20\n",
      "Total number of inequality constraints...............:        0\n",
      "        inequality constraints with only lower bounds:        0\n",
      "   inequality constraints with lower and upper bounds:        0\n",
      "        inequality constraints with only upper bounds:        0\n",
      "\n",
      "iter    objective    inf_pr   inf_du lg(mu)  ||d||  lg(rg) alpha_du alpha_pr  ls\n",
      "   0  0.0000000e+00 1.54e+13 0.00e+00  -1.0 0.00e+00    -  0.00e+00 0.00e+00   0\n",
      "   1  1.6208753e-02 1.55e+13 1.56e-02  -1.0 1.54e+08    -  1.00e+00 1.00e+00H  1\n",
      "WARNING: Problem in step computation; switching to emergency mode.\n",
      "   2r 1.6208753e-02 1.55e+13 9.99e+02   5.2 0.00e+00  20.0 0.00e+00 0.00e+00R  1\n",
      "   3r 1.7937819e-01 5.76e+12 8.04e+02   5.2 1.55e+08    -  1.00e+00 9.90e-04f  1\n",
      "WARNING: Problem in step computation; switching to emergency mode.\n",
      "   4r 1.7937819e-01 5.76e+12 9.99e+02   4.8 0.00e+00    -  0.00e+00 0.00e+00R  1\n",
      "   5r 4.9935196e-01 2.14e+12 7.62e+02   4.8 5.75e+07    -  1.00e+00 9.91e-04f  1\n",
      "WARNING: Problem in step computation; switching to emergency mode.\n",
      "   6r 4.9935196e-01 2.14e+12 9.99e+02   4.3 0.00e+00    -  0.00e+00 0.00e+00R  1\n",
      "   7r 9.8674294e-01 7.93e+11 6.70e+02   4.3 2.13e+07    -  1.00e+00 9.92e-04f  1\n",
      "WARNING: Problem in step computation; switching to emergency mode.\n",
      "   8r 9.8674294e-01 7.93e+11 9.99e+02   3.9 0.00e+00    -  0.00e+00 0.00e+00R  1\n",
      "   9r 2.1656265e+00 2.94e+11 4.26e+02   3.9 7.92e+06    -  1.00e+00 9.92e-04f  1\n",
      "WARNING: Problem in step computation; switching to emergency mode.\n",
      "iter    objective    inf_pr   inf_du lg(mu)  ||d||  lg(rg) alpha_du alpha_pr  ls\n",
      "  10r 2.1656265e+00 2.94e+11 9.99e+02   3.5 0.00e+00    -  0.00e+00 0.00e+00R  1\n",
      "  11r 5.9713083e+00 1.09e+11 1.96e+02   3.5 2.93e+06    -  1.00e+00 9.92e-04f  1\n",
      "WARNING: Problem in step computation; switching to emergency mode.\n",
      "  12r 5.9713083e+00 1.09e+11 9.99e+02   3.0 0.00e+00  19.6 0.00e+00 0.00e+00R  1\n",
      "  13r 1.3803548e+01 3.99e+10 8.77e+01   3.0 1.08e+06    -  1.00e+00 9.94e-04f  1\n",
      "WARNING: Problem in step computation; switching to emergency mode.\n",
      "  14r 1.3803548e+01 3.99e+10 9.99e+02   2.6 0.00e+00    -  0.00e+00 0.00e+00R  1\n",
      "  15r 2.3848598e+01 1.46e+10 3.89e+01   2.6 3.97e+05    -  1.00e+00 9.95e-04f  1\n",
      "WARNING: Problem in step computation; switching to emergency mode.\n",
      "  16r 2.3848598e+01 1.46e+10 9.99e+02   2.2 0.00e+00  19.6 0.00e+00 0.00e+00R  1\n",
      "  17r 2.9890774e+01 5.41e+09 1.30e+01   2.2 1.46e+05    -  1.00e+00 9.94e-04f  1\n",
      "WARNING: Problem in step computation; switching to emergency mode.\n",
      "  18r 2.9890774e+01 5.41e+09 9.99e+02   1.7 0.00e+00  20.0 0.00e+00 0.00e+00R  1\n",
      "  19r 2.6592792e+01 2.03e+09 2.66e+01   1.7 5.42e+04    -  1.00e+00 9.86e-04f  1\n",
      "WARNING: Problem in step computation; switching to emergency mode.\n",
      "iter    objective    inf_pr   inf_du lg(mu)  ||d||  lg(rg) alpha_du alpha_pr  ls\n",
      "  20r 2.6592792e+01 2.03e+09 9.99e+02   1.3 0.00e+00    -  0.00e+00 0.00e+00R  1\n",
      "  21r 1.8099827e+01 7.82e+08 5.57e+01   1.3 2.04e+04    -  1.00e+00 9.76e-04f  1\n",
      "WARNING: Problem in step computation; switching to emergency mode.\n",
      "  22r 1.8099827e+01 7.82e+08 9.99e+02   0.9 0.00e+00  19.9 0.00e+00 0.00e+00R  1\n",
      "  23r 1.0366512e+01 3.02e+08 1.06e+02   0.9 7.32e+03    -  1.00e+00 1.02e-03f  1\n",
      "WARNING: Problem in step computation; switching to emergency mode.\n",
      "  24r 1.0366512e+01 3.02e+08 9.99e+02   0.5 0.00e+00    -  0.00e+00 0.00e+00R  1\n",
      "  25r 5.5054142e+00 1.18e+08 1.64e+02   0.5 2.71e+03    -  1.00e+00 1.08e-03f  1\n",
      "WARNING: Problem in step computation; switching to emergency mode.\n",
      "  26r 5.5054142e+00 1.18e+08 9.99e+02   0.1 0.00e+00  19.9 0.00e+00 0.00e+00R  1\n",
      "  27r 3.8579098e+00 4.62e+07 2.19e+02   0.1 1.02e+03    -  1.00e+00 1.15e-03f  1\n",
      "WARNING: Problem in step computation; switching to emergency mode.\n",
      "  28r 3.8579098e+00 4.62e+07 9.99e+02  -0.3 0.00e+00    -  0.00e+00 0.00e+00R  1\n",
      "  29r 6.7306399e+00 1.86e+07 2.62e+02  -0.3 7.15e+02    -  1.00e+00 1.22e-03f  1\n",
      "WARNING: Problem in step computation; switching to emergency mode.\n",
      "iter    objective    inf_pr   inf_du lg(mu)  ||d||  lg(rg) alpha_du alpha_pr  ls\n",
      "  30r 6.7306399e+00 1.86e+07 9.99e+02  -0.7 0.00e+00  19.8 0.00e+00 0.00e+00R  1\n",
      "  31r 1.4962660e+01 7.71e+06 3.12e+02  -0.7 6.42e+02    -  1.00e+00 1.27e-03f  1\n",
      "WARNING: Problem in step computation; switching to emergency mode.\n",
      "  32r 1.4962660e+01 7.71e+06 9.99e+02  -1.0 0.00e+00    -  0.00e+00 0.00e+00R  1\n",
      "  33r 2.9032079e+01 3.29e+06 3.61e+02  -1.0 5.15e+02    -  1.00e+00 1.49e-03f  1\n",
      "WARNING: Problem in step computation; switching to emergency mode.\n",
      "  34r 2.9032079e+01 3.29e+06 9.97e+02  -1.0 0.00e+00  19.8 0.00e+00 0.00e+00R  1\n",
      "  35r 5.4893172e+01 1.36e+06 3.51e+02  -1.0 2.02e+02    -  1.00e+00 3.82e-03f  1\n",
      "WARNING: Problem in step computation; switching to emergency mode.\n",
      "  36r 5.4893172e+01 1.36e+06 9.93e+02  -1.0 0.00e+00    -  0.00e+00 0.00e+00R  1\n",
      "  37r 9.5595854e+01 5.47e+05 3.25e+02  -1.0 7.49e+01    -  1.00e+00 9.88e-03f  1\n",
      "WARNING: Problem in step computation; switching to emergency mode.\n",
      "  38r 9.5595854e+01 5.47e+05 9.82e+02  -1.0 0.00e+00  19.7 0.00e+00 0.00e+00R  1\n",
      "  39r 1.5054539e+02 2.22e+05 3.66e+02  -1.0 2.68e+01    -  1.00e+00 2.54e-02f  1\n",
      "WARNING: Problem in step computation; switching to emergency mode.\n",
      "iter    objective    inf_pr   inf_du lg(mu)  ||d||  lg(rg) alpha_du alpha_pr  ls\n",
      "  40r 1.5054539e+02 2.22e+05 9.56e+02  -1.0 0.00e+00    -  0.00e+00 0.00e+00R  1\n",
      "  41r 2.1693149e+02 8.94e+04 3.86e+02  -1.0 1.02e+01    -  1.00e+00 6.62e-02f  1\n",
      "WARNING: Problem in step computation; switching to emergency mode.\n",
      "  42r 2.1693149e+02 8.94e+04 8.94e+02  -1.0 0.00e+00  19.7 0.00e+00 0.00e+00R  1\n",
      "  43r 2.8173906e+02 3.46e+04 3.45e+02  -1.0 4.42e+00    -  1.00e+00 1.80e-01f  1\n",
      "WARNING: Problem in step computation; switching to emergency mode.\n",
      "  44r 2.8173906e+02 3.46e+04 7.52e+02  -1.0 0.00e+00    -  0.00e+00 0.00e+00R  1\n",
      "  45r 3.2500899e+02 1.09e+04 1.43e+02  -1.0 1.62e+00    -  1.00e+00 5.52e-01f  1\n",
      "WARNING: Problem in step computation; switching to emergency mode.\n",
      "  46r 3.2500899e+02 1.09e+04 4.53e+02  -1.0 0.00e+00  19.6 0.00e+00 0.00e+00R  1\n",
      "  47r 3.4778834e+02 4.37e+03 7.75e-02  -1.0 4.79e-01    -  1.00e+00 1.00e+00f  1\n",
      "WARNING: Problem in step computation; switching to emergency mode.\n",
      "  48r 3.4778834e+02 4.37e+03 2.85e+02  -1.0 0.00e+00    -  0.00e+00 0.00e+00R  1\n",
      "  49r 3.5677056e+02 3.04e+03 1.91e-02  -1.0 2.17e-01    -  1.00e+00 1.00e+00f  1\n",
      "WARNING: Problem in step computation; switching to emergency mode.\n",
      "iter    objective    inf_pr   inf_du lg(mu)  ||d||  lg(rg) alpha_du alpha_pr  ls\n",
      "  50r 3.5677056e+02 3.04e+03 2.24e+02  -1.0 0.00e+00  19.6 0.00e+00 0.00e+00R  1\n",
      "  51r 3.6248937e+02 2.50e+03 8.30e-03  -1.0 1.40e-01    -  1.00e+00 1.00e+00f  1\n",
      "WARNING: Problem in step computation; switching to emergency mode.\n",
      "  52r 3.6248937e+02 2.50e+03 1.90e+02  -1.0 0.00e+00    -  0.00e+00 0.00e+00R  1\n",
      "  53r 3.6708343e+02 2.21e+03 4.64e-03  -1.0 1.04e-01    -  1.00e+00 1.00e+00f  1\n",
      "WARNING: Problem in step computation; switching to emergency mode.\n",
      "  54r 3.6708343e+02 2.21e+03 1.71e+02  -1.0 0.00e+00  19.5 0.00e+00 0.00e+00R  1\n",
      "  55r 3.7106044e+02 2.02e+03 2.97e-03  -1.0 8.26e-02    -  1.00e+00 1.00e+00f  1\n",
      "WARNING: Problem in step computation; switching to emergency mode.\n",
      "  56r 3.7106044e+02 2.02e+03 2.21e-02  -3.8 8.26e-02  20.0 0.00e+00 0.00e+00R  1\n",
      "WARNING: Problem in step computation; switching to emergency mode.\n",
      "Restoration phase is called at point that is almost feasible,\n",
      "  with constraint violation 0.000000e+00. Abort.\n",
      "Restoration phase in the restoration phase failed.\n",
      "\n",
      "Number of Iterations....: 56\n",
      "\n",
      "                                   (scaled)                 (unscaled)\n",
      "Objective...............:   3.7106043949061376e+02    3.7106043949061376e+02\n",
      "Dual infeasibility......:   1.1703699303824244e+02    1.1703699303824244e+02\n",
      "Constraint violation....:   3.2057289335006517e-05    2.0208136087401579e+03\n",
      "Complementarity.........:   0.0000000000000000e+00    0.0000000000000000e+00\n",
      "Overall NLP error.......:   1.1703699303824244e+02    2.0208136087401579e+03\n",
      "\n",
      "\n",
      "Number of objective function evaluations             = 58\n",
      "Number of objective gradient evaluations             = 29\n",
      "Number of equality constraint evaluations            = 58\n",
      "Number of inequality constraint evaluations          = 0\n",
      "Number of equality constraint Jacobian evaluations   = 57\n",
      "Number of inequality constraint Jacobian evaluations = 0\n",
      "Number of Lagrangian Hessian evaluations             = 57\n",
      "Total CPU secs in IPOPT (w/o function evaluations)   =      0.352\n",
      "Total CPU secs in NLP function evaluations           =      0.484\n",
      "\n",
      "EXIT: Restoration Failed!\n"
     ]
    },
    {
     "name": "stderr",
     "output_type": "stream",
     "text": [
      "\u001b[1m\u001b[33mWARNING: \u001b[39m\u001b[22m\u001b[33mIpopt finished with status Restoration_Failed\u001b[39m\n",
      "\u001b[1m\u001b[33mWARNING: \u001b[39m\u001b[22m\u001b[33mNot solved to optimality, status: Error\u001b[39m\n"
     ]
    },
    {
     "data": {
      "text/plain": [
       ":Error"
      ]
     },
     "execution_count": 5,
     "metadata": {},
     "output_type": "execute_result"
    }
   ],
   "source": [
    "solve(m)"
   ]
  },
  {
   "cell_type": "code",
   "execution_count": null,
   "metadata": {
    "collapsed": true
   },
   "outputs": [],
   "source": []
  },
  {
   "cell_type": "code",
   "execution_count": null,
   "metadata": {
    "collapsed": true
   },
   "outputs": [],
   "source": []
  }
 ],
 "metadata": {
  "kernelspec": {
   "display_name": "Julia 0.6.0",
   "language": "julia",
   "name": "julia-0.6"
  },
  "language_info": {
   "file_extension": ".jl",
   "mimetype": "application/julia",
   "name": "julia",
   "version": "0.6.0"
  }
 },
 "nbformat": 4,
 "nbformat_minor": 2
}
