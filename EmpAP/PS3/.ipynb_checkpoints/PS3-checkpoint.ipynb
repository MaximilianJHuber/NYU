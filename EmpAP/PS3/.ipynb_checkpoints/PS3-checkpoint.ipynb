{
 "cells": [
  {
   "cell_type": "markdown",
   "metadata": {},
   "source": [
    "# Empirical Asset Pricing - PS3\n",
    "\n",
    "Maximilian Huber\n",
    "\n",
    "## Task 1\n",
    "Let me load the data into an array of DataFrames:"
   ]
  },
  {
   "cell_type": "code",
   "execution_count": 112,
   "metadata": {
    "scrolled": true
   },
   "outputs": [],
   "source": [
    "using CSV, DataFrames, Distributions, Plots, GLM; gr();"
   ]
  },
  {
   "cell_type": "code",
   "execution_count": 113,
   "metadata": {},
   "outputs": [
    {
     "data": {
      "text/plain": [
       "print_table (generic function with 1 method)"
      ]
     },
     "execution_count": 113,
     "metadata": {},
     "output_type": "execute_result"
    }
   ],
   "source": [
    "function print_table(table; skipcol=0)\n",
    "    if skipcol == 0\n",
    "        table_rounded = DataFrame(round.(Matrix(table), 3))\n",
    "    elseif skipcol == 1\n",
    "        table_rounded = DataFrame(hcat(Vector(table[:, skipcol]), round.(Matrix(table[:, skipcol+1:end]), 3)))\n",
    "    else\n",
    "        table_rounded = DataFrame(hcat(Matrix(table[:, 1:skipcol]), round.(Matrix(table[:, skipcol+1:end]), 3)))\n",
    "    end\n",
    "    names!(table_rounded, names(table))\n",
    "end"
   ]
  },
  {
   "cell_type": "code",
   "execution_count": 114,
   "metadata": {},
   "outputs": [],
   "source": [
    "files = [\"Global\", \"Europe\", \"Japan\", \"Asia_Pacific_ex_Japan\", \"North_America\"]\n",
    "abbrev = ['G', 'E', 'J', 'A', 'N']\n",
    "\n",
    "data = [CSV.read(\"./Data/\" * file * \"_5_Factors.csv\", delim=',', \n",
    "        types=[Date, Float64, Float64, Float64, Float64, Float64, Float64], \n",
    "        dateformat = DateFormat(\"yyyymm\"), nullable=false) for file in files];"
   ]
  },
  {
   "cell_type": "code",
   "execution_count": 115,
   "metadata": {
    "scrolled": true
   },
   "outputs": [
    {
     "data": {
      "text/html": [
       "<table class=\"data-frame\"><thead><tr><th></th><th>Date</th><th>G_MKT</th><th>G_SMB</th><th>G_HML</th><th>G_RMW</th><th>G_CMA</th><th>G_RF</th><th>E_MKT</th><th>E_SMB</th><th>E_HML</th><th>E_RMW</th><th>E_CMA</th><th>E_RF</th><th>J_MKT</th><th>J_SMB</th><th>J_HML</th><th>J_RMW</th><th>J_CMA</th><th>J_RF</th><th>A_MKT</th><th>A_SMB</th><th>A_HML</th><th>A_RMW</th><th>A_CMA</th><th>A_RF</th><th>N_MKT</th><th>N_SMB</th><th>N_HML</th><th>N_RMW</th><th>N_CMA</th><th>N_RF</th></tr></thead><tbody><tr><th>1</th><td>1990-07-01</td><td>0.86</td><td>0.82</td><td>-0.25</td><td>0.17</td><td>1.56</td><td>0.68</td><td>4.52</td><td>0.41</td><td>-1.43</td><td>0.22</td><td>1.21</td><td>0.68</td><td>0.1</td><td>6.32</td><td>3.69</td><td>1.06</td><td>0.24</td><td>0.68</td><td>4.2</td><td>-2.93</td><td>-1.36</td><td>1.42</td><td>0.9</td><td>0.68</td><td>-1.51</td><td>-2.5</td><td>-0.9</td><td>0.53</td><td>2.59</td><td>0.68</td></tr><tr><th>2</th><td>1990-08-01</td><td>-10.82</td><td>-1.57</td><td>0.6</td><td>-0.22</td><td>0.99</td><td>0.66</td><td>-11.03</td><td>0.02</td><td>0.25</td><td>-1.06</td><td>1.46</td><td>0.66</td><td>-11.88</td><td>-5.0</td><td>0.26</td><td>1.28</td><td>-0.96</td><td>0.66</td><td>-8.68</td><td>3.76</td><td>1.71</td><td>1.12</td><td>0.67</td><td>0.66</td><td>-9.63</td><td>-2.56</td><td>0.49</td><td>-2.01</td><td>3.28</td><td>0.66</td></tr><tr><th>3</th><td>1990-09-01</td><td>-11.97</td><td>1.16</td><td>0.8</td><td>0.03</td><td>2.12</td><td>0.6</td><td>-12.28</td><td>1.71</td><td>0.84</td><td>-0.28</td><td>1.72</td><td>0.6</td><td>-17.38</td><td>0.67</td><td>-0.11</td><td>-1.29</td><td>-0.11</td><td>0.6</td><td>-8.8</td><td>3.7</td><td>-0.14</td><td>0.87</td><td>4.17</td><td>0.6</td><td>-6.02</td><td>-2.73</td><td>-0.13</td><td>1.28</td><td>4.23</td><td>0.6</td></tr><tr><th>4</th><td>1990-10-01</td><td>9.56</td><td>-7.58</td><td>-4.24</td><td>2.6</td><td>1.22</td><td>0.68</td><td>6.49</td><td>-2.61</td><td>-0.67</td><td>1.06</td><td>-0.79</td><td>0.68</td><td>24.9</td><td>0.8</td><td>-3.87</td><td>0.39</td><td>4.75</td><td>0.68</td><td>-1.95</td><td>-4.76</td><td>-1.52</td><td>0.17</td><td>-2.78</td><td>0.68</td><td>-2.0</td><td>-4.62</td><td>-1.67</td><td>4.18</td><td>0.87</td><td>0.68</td></tr><tr><th>5</th><td>1990-11-01</td><td>-3.86</td><td>1.37</td><td>1.14</td><td>1.47</td><td>-2.35</td><td>0.57</td><td>-0.43</td><td>-2.74</td><td>0.87</td><td>0.13</td><td>-0.47</td><td>0.57</td><td>-14.12</td><td>-5.34</td><td>-0.18</td><td>3.05</td><td>-2.18</td><td>0.57</td><td>-2.98</td><td>-1.59</td><td>-0.82</td><td>3.04</td><td>0.56</td><td>0.57</td><td>5.9</td><td>0.01</td><td>-1.42</td><td>0.26</td><td>-4.57</td><td>0.57</td></tr><tr><th>6</th><td>1990-12-01</td><td>1.1</td><td>-0.95</td><td>-1.6</td><td>1.17</td><td>-0.33</td><td>0.6</td><td>-1.55</td><td>0.93</td><td>0.0</td><td>0.92</td><td>0.27</td><td>0.6</td><td>1.93</td><td>-6.16</td><td>-3.65</td><td>0.85</td><td>1.87</td><td>0.6</td><td>-1.1</td><td>-2.77</td><td>-1.25</td><td>-0.19</td><td>-1.49</td><td>0.6</td><td>2.54</td><td>1.58</td><td>-0.92</td><td>1.24</td><td>-2.77</td><td>0.6</td></tr></tbody></table>"
      ],
      "text/plain": [
       "6×31 DataFrames.DataFrame\n",
       "│ Row │ Date       │ G_MKT  │ G_SMB │ G_HML │ G_RMW │ G_CMA │ G_RF │ E_MKT  │\n",
       "├─────┼────────────┼────────┼───────┼───────┼───────┼───────┼──────┼────────┤\n",
       "│ 1   │ 1990-07-01 │ 0.86   │ 0.82  │ -0.25 │ 0.17  │ 1.56  │ 0.68 │ 4.52   │\n",
       "│ 2   │ 1990-08-01 │ -10.82 │ -1.57 │ 0.6   │ -0.22 │ 0.99  │ 0.66 │ -11.03 │\n",
       "│ 3   │ 1990-09-01 │ -11.97 │ 1.16  │ 0.8   │ 0.03  │ 2.12  │ 0.6  │ -12.28 │\n",
       "│ 4   │ 1990-10-01 │ 9.56   │ -7.58 │ -4.24 │ 2.6   │ 1.22  │ 0.68 │ 6.49   │\n",
       "│ 5   │ 1990-11-01 │ -3.86  │ 1.37  │ 1.14  │ 1.47  │ -2.35 │ 0.57 │ -0.43  │\n",
       "│ 6   │ 1990-12-01 │ 1.1    │ -0.95 │ -1.6  │ 1.17  │ -0.33 │ 0.6  │ -1.55  │\n",
       "\n",
       "│ Row │ E_SMB │ E_HML │ E_RMW │ E_CMA │ E_RF │ J_MKT  │ J_SMB │ J_HML │ J_RMW │\n",
       "├─────┼───────┼───────┼───────┼───────┼──────┼────────┼───────┼───────┼───────┤\n",
       "│ 1   │ 0.41  │ -1.43 │ 0.22  │ 1.21  │ 0.68 │ 0.1    │ 6.32  │ 3.69  │ 1.06  │\n",
       "│ 2   │ 0.02  │ 0.25  │ -1.06 │ 1.46  │ 0.66 │ -11.88 │ -5.0  │ 0.26  │ 1.28  │\n",
       "│ 3   │ 1.71  │ 0.84  │ -0.28 │ 1.72  │ 0.6  │ -17.38 │ 0.67  │ -0.11 │ -1.29 │\n",
       "│ 4   │ -2.61 │ -0.67 │ 1.06  │ -0.79 │ 0.68 │ 24.9   │ 0.8   │ -3.87 │ 0.39  │\n",
       "│ 5   │ -2.74 │ 0.87  │ 0.13  │ -0.47 │ 0.57 │ -14.12 │ -5.34 │ -0.18 │ 3.05  │\n",
       "│ 6   │ 0.93  │ 0.0   │ 0.92  │ 0.27  │ 0.6  │ 1.93   │ -6.16 │ -3.65 │ 0.85  │\n",
       "\n",
       "│ Row │ J_CMA │ J_RF │ A_MKT │ A_SMB │ A_HML │ A_RMW │ A_CMA │ A_RF │ N_MKT │\n",
       "├─────┼───────┼──────┼───────┼───────┼───────┼───────┼───────┼──────┼───────┤\n",
       "│ 1   │ 0.24  │ 0.68 │ 4.2   │ -2.93 │ -1.36 │ 1.42  │ 0.9   │ 0.68 │ -1.51 │\n",
       "│ 2   │ -0.96 │ 0.66 │ -8.68 │ 3.76  │ 1.71  │ 1.12  │ 0.67  │ 0.66 │ -9.63 │\n",
       "│ 3   │ -0.11 │ 0.6  │ -8.8  │ 3.7   │ -0.14 │ 0.87  │ 4.17  │ 0.6  │ -6.02 │\n",
       "│ 4   │ 4.75  │ 0.68 │ -1.95 │ -4.76 │ -1.52 │ 0.17  │ -2.78 │ 0.68 │ -2.0  │\n",
       "│ 5   │ -2.18 │ 0.57 │ -2.98 │ -1.59 │ -0.82 │ 3.04  │ 0.56  │ 0.57 │ 5.9   │\n",
       "│ 6   │ 1.87  │ 0.6  │ -1.1  │ -2.77 │ -1.25 │ -0.19 │ -1.49 │ 0.6  │ 2.54  │\n",
       "\n",
       "│ Row │ N_SMB │ N_HML │ N_RMW │ N_CMA │ N_RF │\n",
       "├─────┼───────┼───────┼───────┼───────┼──────┤\n",
       "│ 1   │ -2.5  │ -0.9  │ 0.53  │ 2.59  │ 0.68 │\n",
       "│ 2   │ -2.56 │ 0.49  │ -2.01 │ 3.28  │ 0.66 │\n",
       "│ 3   │ -2.73 │ -0.13 │ 1.28  │ 4.23  │ 0.6  │\n",
       "│ 4   │ -4.62 │ -1.67 │ 4.18  │ 0.87  │ 0.68 │\n",
       "│ 5   │ 0.01  │ -1.42 │ 0.26  │ -4.57 │ 0.57 │\n",
       "│ 6   │ 1.58  │ -0.92 │ 1.24  │ -2.77 │ 0.6  │"
      ]
     },
     "execution_count": 115,
     "metadata": {},
     "output_type": "execute_result"
    }
   ],
   "source": [
    "factor_names = [:MKT, :SMB, :HML, :RMW, :CMA, :RF]\n",
    "data = DataFrame()\n",
    "input = DataFrame()\n",
    "\n",
    "for (i, file) in enumerate(files)\n",
    "    \n",
    "    input = CSV.read(\"./Data/\" * file * \"_5_Factors.csv\", delim=',', \n",
    "        types=[Date, Float64, Float64, Float64, Float64, Float64, Float64], \n",
    "        dateformat = DateFormat(\"yyyymm\"), nullable=false)\n",
    "    \n",
    "    names!(input, vcat(:Date, Symbol.(abbrev[i] .* '_' .* string.(factor_names))))\n",
    "    \n",
    "    data = hcat(data, input[:, 2:end])\n",
    "end\n",
    "\n",
    "data = hcat(input[[:Date]], data)\n",
    "head(data)"
   ]
  },
  {
   "cell_type": "markdown",
   "metadata": {},
   "source": [
    "### (a)\n",
    "The factors from Kenneth French's [website](http://mba.tuck.dartmouth.edu/pages/faculty/ken.french/data_library.html) are excess returns, as described [here](http://mba.tuck.dartmouth.edu/pages/faculty/ken.french/Data_Library/f-f_factors.html)."
   ]
  },
  {
   "cell_type": "code",
   "execution_count": 116,
   "metadata": {},
   "outputs": [],
   "source": [
    "data_excess = copy(data);"
   ]
  },
  {
   "cell_type": "markdown",
   "metadata": {},
   "source": [
    "#### (i)\n",
    "Now I regress the returns of the 20 test assets on the five factor model:\n",
    "$$R_{i,t}^{e}=\\alpha_i + \\beta'_i F_t + \\epsilon_{i,t}$$"
   ]
  },
  {
   "cell_type": "code",
   "execution_count": 117,
   "metadata": {
    "scrolled": false
   },
   "outputs": [
    {
     "data": {
      "text/html": [
       "<table class=\"data-frame\"><thead><tr><th></th><th>test_asset</th><th>α</th><th>stderr_α</th><th>t_α</th></tr></thead><tbody><tr><th>1</th><td>E_MKT</td><td>-0.162</td><td>0.11</td><td>-1.469</td></tr><tr><th>2</th><td>E_SMB</td><td>-0.027</td><td>0.091</td><td>-0.298</td></tr><tr><th>3</th><td>E_HML</td><td>0.055</td><td>0.078</td><td>0.706</td></tr><tr><th>4</th><td>E_RMW</td><td>0.229</td><td>0.066</td><td>3.47</td></tr><tr><th>5</th><td>E_CMA</td><td>0.004</td><td>0.067</td><td>0.067</td></tr><tr><th>6</th><td>J_MKT</td><td>-0.479</td><td>0.242</td><td>-1.978</td></tr><tr><th>7</th><td>J_SMB</td><td>-0.128</td><td>0.166</td><td>-0.772</td></tr><tr><th>8</th><td>J_HML</td><td>0.202</td><td>0.136</td><td>1.487</td></tr><tr><th>9</th><td>J_RMW</td><td>0.017</td><td>0.111</td><td>0.152</td></tr><tr><th>10</th><td>J_CMA</td><td>0.05</td><td>0.121</td><td>0.413</td></tr><tr><th>11</th><td>A_MKT</td><td>0.099</td><td>0.204</td><td>0.486</td></tr><tr><th>12</th><td>A_SMB</td><td>-0.137</td><td>0.157</td><td>-0.873</td></tr><tr><th>13</th><td>A_HML</td><td>0.665</td><td>0.169</td><td>3.928</td></tr><tr><th>14</th><td>A_RMW</td><td>0.053</td><td>0.152</td><td>0.35</td></tr><tr><th>15</th><td>A_CMA</td><td>0.37</td><td>0.129</td><td>2.881</td></tr><tr><th>16</th><td>N_MKT</td><td>0.412</td><td>0.1</td><td>4.129</td></tr><tr><th>17</th><td>N_SMB</td><td>0.099</td><td>0.098</td><td>1.009</td></tr><tr><th>18</th><td>N_HML</td><td>-0.287</td><td>0.076</td><td>-3.804</td></tr><tr><th>19</th><td>N_RMW</td><td>-0.214</td><td>0.067</td><td>-3.179</td></tr><tr><th>20</th><td>N_CMA</td><td>-0.103</td><td>0.07</td><td>-1.472</td></tr></tbody></table>"
      ],
      "text/plain": [
       "20×4 DataFrames.DataFrame\n",
       "│ Row │ test_asset │ α      │ stderr_α │ t_α    │\n",
       "├─────┼────────────┼────────┼──────────┼────────┤\n",
       "│ 1   │ E_MKT      │ -0.162 │ 0.11     │ -1.469 │\n",
       "│ 2   │ E_SMB      │ -0.027 │ 0.091    │ -0.298 │\n",
       "│ 3   │ E_HML      │ 0.055  │ 0.078    │ 0.706  │\n",
       "│ 4   │ E_RMW      │ 0.229  │ 0.066    │ 3.47   │\n",
       "│ 5   │ E_CMA      │ 0.004  │ 0.067    │ 0.067  │\n",
       "│ 6   │ J_MKT      │ -0.479 │ 0.242    │ -1.978 │\n",
       "│ 7   │ J_SMB      │ -0.128 │ 0.166    │ -0.772 │\n",
       "│ 8   │ J_HML      │ 0.202  │ 0.136    │ 1.487  │\n",
       "│ 9   │ J_RMW      │ 0.017  │ 0.111    │ 0.152  │\n",
       "│ 10  │ J_CMA      │ 0.05   │ 0.121    │ 0.413  │\n",
       "│ 11  │ A_MKT      │ 0.099  │ 0.204    │ 0.486  │\n",
       "│ 12  │ A_SMB      │ -0.137 │ 0.157    │ -0.873 │\n",
       "│ 13  │ A_HML      │ 0.665  │ 0.169    │ 3.928  │\n",
       "│ 14  │ A_RMW      │ 0.053  │ 0.152    │ 0.35   │\n",
       "│ 15  │ A_CMA      │ 0.37   │ 0.129    │ 2.881  │\n",
       "│ 16  │ N_MKT      │ 0.412  │ 0.1      │ 4.129  │\n",
       "│ 17  │ N_SMB      │ 0.099  │ 0.098    │ 1.009  │\n",
       "│ 18  │ N_HML      │ -0.287 │ 0.076    │ -3.804 │\n",
       "│ 19  │ N_RMW      │ -0.214 │ 0.067    │ -3.179 │\n",
       "│ 20  │ N_CMA      │ -0.103 │ 0.07     │ -1.472 │"
      ]
     },
     "execution_count": 117,
     "metadata": {},
     "output_type": "execute_result"
    }
   ],
   "source": [
    "test_assets = Symbol.([region * '_' * string(factor) for factor in factor_names[1:end-1], region in abbrev[2:end]][:])\n",
    "\n",
    "function run_regression(field)\n",
    "    formula = @formula($(field) ~ G_MKT + G_SMB + G_HML + G_RMW + G_CMA)\n",
    "    model = lm(formula, data_excess)\n",
    "    return DataFrame(hcat(field, coef(model)[1], stderr(model)[1], coef(model)[1]/stderr(model)[1], model))\n",
    "end\n",
    "\n",
    "table = vcat(run_regression.(test_assets)...)\n",
    "names!(table, [:test_asset, :α, :stderr_α, :t_α, :model])\n",
    "print_table(table[[:test_asset, :α, :stderr_α, :t_α]], skipcol=1)"
   ]
  },
  {
   "cell_type": "markdown",
   "metadata": {},
   "source": [
    "The question is whether a model of global risk factors is sufficient, or there are regional differences. If the former were true, there should be no significant alphas. But there are quite a few. For example, the European profitability factor has a highly positive alpha, indicating that there is an unexplained component of risk.\n",
    "#### (ii)"
   ]
  },
  {
   "cell_type": "code",
   "execution_count": 118,
   "metadata": {
    "scrolled": true
   },
   "outputs": [
    {
     "data": {
      "text/plain": [
       "4.13459213512726"
      ]
     },
     "execution_count": 118,
     "metadata": {},
     "output_type": "execute_result"
    }
   ],
   "source": [
    "gl_factor_names = [:G_MKT, :G_SMB, :G_HML, :G_RMW, :G_CMA]\n",
    "\n",
    "T = size(data_excess, 1)\n",
    "N = 20\n",
    "K = 5\n",
    "Ωhat = cov(Matrix(data_excess[gl_factor_names]))\n",
    "Σhat = cov(hcat([residuals(table[:model][i]) for (i, asset) in enumerate(test_assets)]...))\n",
    "\n",
    "F = ((T - N - K)/N * \n",
    "    (1 + mean(Matrix(data_excess[gl_factor_names]), 1) * Ωhat^-1 * mean(Matrix(data_excess[gl_factor_names]), 1)')^(-1) *\n",
    "    table[:α]' * Σhat^-1 * table[:α])[1]"
   ]
  },
  {
   "cell_type": "markdown",
   "metadata": {},
   "source": [
    "Its p-value is:"
   ]
  },
  {
   "cell_type": "code",
   "execution_count": 119,
   "metadata": {},
   "outputs": [
    {
     "data": {
      "text/plain": [
       "2.4535573905914987e-8"
      ]
     },
     "execution_count": 119,
     "metadata": {},
     "output_type": "execute_result"
    }
   ],
   "source": [
    "1-cdf(FDist(N, T-N-K), F)"
   ]
  },
  {
   "cell_type": "markdown",
   "metadata": {},
   "source": [
    "This is a very strong rejection of the proposed global risk factor model.\n",
    "### (b)\n",
    "I run the cross-sectional regression by GLS:\n",
    "$$E_T(R^{ei}) = \\alpha_i + \\lambda' \\beta_i + \\epsilon_i$$\n",
    "Let me retrieve the betas and calculate the left hand side:"
   ]
  },
  {
   "cell_type": "code",
   "execution_count": 120,
   "metadata": {
    "scrolled": true
   },
   "outputs": [
    {
     "data": {
      "text/html": [
       "<table class=\"data-frame\"><thead><tr><th></th><th>avg_ret</th><th>β_G_MKT</th><th>β_G_SMB</th><th>β_G_HML</th><th>β_G_RMW</th><th>β_G_CMA</th></tr></thead><tbody><tr><th>1</th><td>0.513</td><td>1.093</td><td>0.115</td><td>0.248</td><td>0.277</td><td>-0.169</td></tr><tr><th>2</th><td>0.076</td><td>-0.045</td><td>0.788</td><td>-0.023</td><td>0.055</td><td>0.077</td></tr><tr><th>3</th><td>0.338</td><td>0.109</td><td>-0.034</td><td>0.927</td><td>-0.109</td><td>-0.073</td></tr><tr><th>4</th><td>0.394</td><td>-0.003</td><td>0.147</td><td>-0.321</td><td>0.663</td><td>0.09</td></tr><tr><th>5</th><td>0.211</td><td>-0.009</td><td>0.022</td><td>0.088</td><td>0.058</td><td>0.674</td></tr><tr><th>6</th><td>0.098</td><td>1.043</td><td>0.347</td><td>-0.549</td><td>-0.044</td><td>0.905</td></tr></tbody></table>"
      ],
      "text/plain": [
       "6×6 DataFrames.DataFrame\n",
       "│ Row │ avg_ret │ β_G_MKT │ β_G_SMB │ β_G_HML │ β_G_RMW │ β_G_CMA │\n",
       "├─────┼─────────┼─────────┼─────────┼─────────┼─────────┼─────────┤\n",
       "│ 1   │ 0.513   │ 1.093   │ 0.115   │ 0.248   │ 0.277   │ -0.169  │\n",
       "│ 2   │ 0.076   │ -0.045  │ 0.788   │ -0.023  │ 0.055   │ 0.077   │\n",
       "│ 3   │ 0.338   │ 0.109   │ -0.034  │ 0.927   │ -0.109  │ -0.073  │\n",
       "│ 4   │ 0.394   │ -0.003  │ 0.147   │ -0.321  │ 0.663   │ 0.09    │\n",
       "│ 5   │ 0.211   │ -0.009  │ 0.022   │ 0.088   │ 0.058   │ 0.674   │\n",
       "│ 6   │ 0.098   │ 1.043   │ 0.347   │ -0.549  │ -0.044  │ 0.905   │"
      ]
     },
     "execution_count": 120,
     "metadata": {},
     "output_type": "execute_result"
    }
   ],
   "source": [
    "data_cross = DataFrame(vcat(mean(Matrix(data_excess[test_assets]), 1), hcat([coef(table[:model][i])[2:end] \n",
    "    for (i, asset) in enumerate(test_assets)]...))')\n",
    "names!(data_cross, vcat(:avg_ret, Symbol.(\"β_\" .* string.(gl_factor_names))))\n",
    "\n",
    "head(print_table(data_cross))"
   ]
  },
  {
   "cell_type": "code",
   "execution_count": 121,
   "metadata": {},
   "outputs": [
    {
     "data": {
      "text/html": [
       "<table class=\"data-frame\"><thead><tr><th></th><th>test_asset</th><th>α</th><th>stderror_α</th><th>t_α</th></tr></thead><tbody><tr><th>1</th><td>E_MKT</td><td>-0.181</td><td>0.01</td><td>-19.051</td></tr><tr><th>2</th><td>E_SMB</td><td>-0.039</td><td>0.006</td><td>-6.294</td></tr><tr><th>3</th><td>E_HML</td><td>0.072</td><td>0.005</td><td>14.828</td></tr><tr><th>4</th><td>E_RMW</td><td>0.232</td><td>0.003</td><td>67.2</td></tr><tr><th>5</th><td>E_CMA</td><td>0.023</td><td>0.004</td><td>6.613</td></tr><tr><th>6</th><td>J_MKT</td><td>-0.5</td><td>0.048</td><td>-10.489</td></tr><tr><th>7</th><td>J_SMB</td><td>-0.134</td><td>0.022</td><td>-5.979</td></tr><tr><th>8</th><td>J_HML</td><td>0.221</td><td>0.015</td><td>14.625</td></tr><tr><th>9</th><td>J_RMW</td><td>0.015</td><td>0.01</td><td>1.503</td></tr><tr><th>10</th><td>J_CMA</td><td>0.062</td><td>0.012</td><td>5.269</td></tr><tr><th>11</th><td>A_MKT</td><td>0.066</td><td>0.034</td><td>1.921</td></tr><tr><th>12</th><td>A_SMB</td><td>-0.152</td><td>0.02</td><td>-7.596</td></tr><tr><th>13</th><td>A_HML</td><td>0.671</td><td>0.024</td><td>28.202</td></tr><tr><th>14</th><td>A_RMW</td><td>0.066</td><td>0.019</td><td>3.414</td></tr><tr><th>15</th><td>A_CMA</td><td>0.385</td><td>0.014</td><td>28.304</td></tr><tr><th>16</th><td>N_MKT</td><td>0.388</td><td>0.008</td><td>50.141</td></tr><tr><th>17</th><td>N_SMB</td><td>0.071</td><td>0.007</td><td>10.17</td></tr><tr><th>18</th><td>N_HML</td><td>-0.251</td><td>0.004</td><td>-58.313</td></tr><tr><th>19</th><td>N_RMW</td><td>-0.184</td><td>0.003</td><td>-56.078</td></tr><tr><th>20</th><td>N_CMA</td><td>-0.071</td><td>0.004</td><td>-19.121</td></tr></tbody></table>"
      ],
      "text/plain": [
       "20×4 DataFrames.DataFrame\n",
       "│ Row │ test_asset │ α      │ stderror_α │ t_α     │\n",
       "├─────┼────────────┼────────┼────────────┼─────────┤\n",
       "│ 1   │ E_MKT      │ -0.181 │ 0.01       │ -19.051 │\n",
       "│ 2   │ E_SMB      │ -0.039 │ 0.006      │ -6.294  │\n",
       "│ 3   │ E_HML      │ 0.072  │ 0.005      │ 14.828  │\n",
       "│ 4   │ E_RMW      │ 0.232  │ 0.003      │ 67.2    │\n",
       "│ 5   │ E_CMA      │ 0.023  │ 0.004      │ 6.613   │\n",
       "│ 6   │ J_MKT      │ -0.5   │ 0.048      │ -10.489 │\n",
       "│ 7   │ J_SMB      │ -0.134 │ 0.022      │ -5.979  │\n",
       "│ 8   │ J_HML      │ 0.221  │ 0.015      │ 14.625  │\n",
       "│ 9   │ J_RMW      │ 0.015  │ 0.01       │ 1.503   │\n",
       "│ 10  │ J_CMA      │ 0.062  │ 0.012      │ 5.269   │\n",
       "│ 11  │ A_MKT      │ 0.066  │ 0.034      │ 1.921   │\n",
       "│ 12  │ A_SMB      │ -0.152 │ 0.02       │ -7.596  │\n",
       "│ 13  │ A_HML      │ 0.671  │ 0.024      │ 28.202  │\n",
       "│ 14  │ A_RMW      │ 0.066  │ 0.019      │ 3.414   │\n",
       "│ 15  │ A_CMA      │ 0.385  │ 0.014      │ 28.304  │\n",
       "│ 16  │ N_MKT      │ 0.388  │ 0.008      │ 50.141  │\n",
       "│ 17  │ N_SMB      │ 0.071  │ 0.007      │ 10.17   │\n",
       "│ 18  │ N_HML      │ -0.251 │ 0.004      │ -58.313 │\n",
       "│ 19  │ N_RMW      │ -0.184 │ 0.003      │ -56.078 │\n",
       "│ 20  │ N_CMA      │ -0.071 │ 0.004      │ -19.121 │"
      ]
     },
     "execution_count": 121,
     "metadata": {},
     "output_type": "execute_result"
    }
   ],
   "source": [
    "β = Matrix(data_cross[:, 2:end])\n",
    "\n",
    "λhat = (β'*Σhat^-1*β)^-1 * β'*Σhat^-1*data_cross[:avg_ret]\n",
    "αhat = data_cross[:avg_ret] .- β * λhat\n",
    "σsq_λ = 1/T * (β'*Σhat^-1*β)^-1\n",
    "cov_α = 1/T * (Σhat - β*(β'*Σhat^-1*β)^(-1)*β')\n",
    "\n",
    "table = DataFrame(hcat(test_assets, αhat, diag(cov_α), αhat ./ diag(cov_α)))\n",
    "names!(table, [:test_asset, :α, :stderror_α, :t_α])\n",
    "print_table(table, skipcol=1)"
   ]
  },
  {
   "cell_type": "markdown",
   "metadata": {},
   "source": [
    "The GLS regression residuals show some massive alphas. And the joint test without Shanken correction rejects clearly:"
   ]
  },
  {
   "cell_type": "code",
   "execution_count": 122,
   "metadata": {},
   "outputs": [
    {
     "data": {
      "text/plain": [
       "3.964606420936434e-13"
      ]
     },
     "execution_count": 122,
     "metadata": {},
     "output_type": "execute_result"
    }
   ],
   "source": [
    "J = T * αhat'*Σhat^-1*αhat\n",
    "1-cdf(Chisq(N - K), J)"
   ]
  },
  {
   "cell_type": "markdown",
   "metadata": {},
   "source": [
    "The Shanken corrected version rejects too:"
   ]
  },
  {
   "cell_type": "code",
   "execution_count": 123,
   "metadata": {},
   "outputs": [
    {
     "data": {
      "text/plain": [
       "1.5809997755411587e-10"
      ]
     },
     "execution_count": 123,
     "metadata": {},
     "output_type": "execute_result"
    }
   ],
   "source": [
    "Σfhat = cov(Matrix(data_excess[gl_factor_names]))\n",
    "J = T * (1 + mean(Matrix(data_excess[gl_factor_names]), 1)*Σfhat^-1*mean(Matrix(data_excess[gl_factor_names]), 1)')[1]^-1 * αhat'*Σhat^-1*αhat\n",
    "1-cdf(Chisq(N - K), J)"
   ]
  },
  {
   "cell_type": "markdown",
   "metadata": {},
   "source": [
    "The Shanken correction alleviates the earlier raised issue of generated regressors. The rejection is less stark, because the uncertainty about the regressors widens the confidence intervals."
   ]
  },
  {
   "cell_type": "markdown",
   "metadata": {},
   "source": [
    "## Task 2\n",
    "### (a)\n",
    "AEM work with subsidiary level broker-dealer book leverage, whereas HKM use market leverage (the inverse of which is the capital ratio) of holding companies.\n",
    "\n",
    "Intermediary asset pricing theory points towards a countercyclical leverage (i.e. the intermediary looses a lot of equity, but the debt is still there) which is found by HKM only, AEM document a procyclicality. \n",
    "But the more precise data used by AEM is about security broker-dealers, not the kind of intermediary theory had in mind. And as KHM argue, if financial health is what we want to proxy for, then we should consider the holding company, not the subsidiary.\n",
    "\n",
    "However, the capital ratio in HKM reads a bit like the market-to-book ratio, if book equity is marked-to-market, and we enter the realm of Q theory. \n",
    "\n",
    "### (b)\n",
    "Let me load the data:"
   ]
  },
  {
   "cell_type": "code",
   "execution_count": 124,
   "metadata": {},
   "outputs": [],
   "source": [
    "AEM_data = CSV.read(\"./Data/AEM_data.csv\", delim=',', \n",
    "        types=[Int64, Float64], nullable=false)\n",
    "names!(AEM_data, [:Quarter, :AEM])\n",
    "\n",
    "HKM_data = CSV.read(\"./Data/HKM_data.csv\", delim=',', \n",
    "        types=[Int64, Float64], nullable=false)\n",
    "names!(HKM_data, [:Quarter, :HKM])\n",
    "\n",
    "data_quarterly = DataFrame()\n",
    "data_quarterly[:year] = round.(Int64, HKM_data[1:end-31, :Quarter] ./ 10)\n",
    "data_quarterly[:quarter] = round.(Int64, HKM_data[1:end-31, :Quarter] .% 10)\n",
    "data_quarterly[:HKM] = HKM_data[1:end-31, :HKM]\n",
    "data_quarterly[:AEM] = AEM_data[9:end, :AEM]\n",
    "data_quarterly = data_quarterly[1+4*20:end, :]\n",
    "\n",
    "data_excess[:year] = Dates.value.(Dates.Year.(data_excess[:, 1]))\n",
    "data_excess[:quarter] = Dates.quarterofyear.(data_excess[:, 1]);"
   ]
  },
  {
   "cell_type": "markdown",
   "metadata": {},
   "source": [
    "The factors and test assets in data_excess are all excess returns. I add the region interest rate to the excess return, aggregate 3 months, and deduct the quarterly interest rate."
   ]
  },
  {
   "cell_type": "code",
   "execution_count": 125,
   "metadata": {},
   "outputs": [],
   "source": [
    "for (i, region) in enumerate(abbrev)\n",
    "    for factor in factor_names[1:end-1]\n",
    "        data_quarterly[Symbol.(region * '_' * string(factor))] = zeros(size(data_quarterly, 1))\n",
    "        \n",
    "        for year in minimum(data_quarterly[:year]):maximum(data_quarterly[:year])\n",
    "            for quarter in 1:4\n",
    "                data_quarterly[(data_quarterly[:year] .== year) .* (data_quarterly[:quarter] .== quarter), Symbol(region * '_' * string(factor))] = \n",
    "                1 + 100 * (prod(1 .+ 1/100 .* (data_excess[(data_excess[:year] .== year) .* (data_excess[:quarter] .== quarter), Symbol(region * '_' * string(factor))] + \n",
    "                    data_excess[(data_excess[:year] .== year) .* (data_excess[:quarter] .== quarter), Symbol.(region * \"_RF\")])) -\n",
    "                prod(1 .+ 1/100 .* data_excess[(data_excess[:year] .== year) .* (data_excess[:quarter] .== quarter), Symbol(region * \"_RF\")]))\n",
    "            end\n",
    "        end\n",
    "    end\n",
    "end"
   ]
  },
  {
   "cell_type": "markdown",
   "metadata": {},
   "source": [
    "I cut the first two quarters of 1990 and we are good to go:"
   ]
  },
  {
   "cell_type": "code",
   "execution_count": 126,
   "metadata": {},
   "outputs": [
    {
     "data": {
      "text/html": [
       "<table class=\"data-frame\"><thead><tr><th></th><th>year</th><th>quarter</th><th>HKM</th><th>AEM</th><th>G_MKT</th><th>G_SMB</th><th>G_HML</th><th>G_RMW</th><th>G_CMA</th><th>E_MKT</th><th>E_SMB</th><th>E_HML</th><th>E_RMW</th><th>E_CMA</th><th>J_MKT</th><th>J_SMB</th><th>J_HML</th><th>J_RMW</th><th>J_CMA</th><th>A_MKT</th><th>A_SMB</th><th>A_HML</th><th>A_RMW</th><th>A_CMA</th><th>N_MKT</th><th>N_SMB</th><th>N_HML</th><th>N_RMW</th><th>N_CMA</th></tr></thead><tbody><tr><th>1</th><td>1990.0</td><td>3.0</td><td>-0.288</td><td>6.549</td><td>-20.101</td><td>1.394</td><td>2.167</td><td>0.979</td><td>5.801</td><td>-17.675</td><td>3.176</td><td>0.643</td><td>-0.135</td><td>5.511</td><td>-26.494</td><td>2.704</td><td>4.894</td><td>2.046</td><td>0.158</td><td>-12.394</td><td>5.507</td><td>1.189</td><td>4.492</td><td>6.888</td><td>-15.571</td><td>-6.689</td><td>0.449</td><td>0.768</td><td>11.571</td></tr><tr><th>2</th><td>1990.0</td><td>4.0</td><td>0.085</td><td>12.832</td><td>7.564</td><td>-6.287</td><td>-3.753</td><td>6.391</td><td>-0.505</td><td>5.439</td><td>-3.452</td><td>1.197</td><td>3.148</td><td>-0.002</td><td>10.449</td><td>-9.595</td><td>-6.638</td><td>5.386</td><td>5.433</td><td>-4.993</td><td>-7.98</td><td>-2.592</td><td>4.058</td><td>-2.736</td><td>7.502</td><td>-2.138</td><td>-3.007</td><td>6.814</td><td>-5.489</td></tr><tr><th>3</th><td>1991.0</td><td>1.0</td><td>0.17</td><td>4.242</td><td>10.199</td><td>4.601</td><td>0.552</td><td>1.536</td><td>-2.652</td><td>2.778</td><td>0.275</td><td>0.949</td><td>4.546</td><td>-2.886</td><td>9.939</td><td>7.587</td><td>2.165</td><td>-0.914</td><td>1.148</td><td>18.586</td><td>-5.255</td><td>2.807</td><td>1.016</td><td>1.739</td><td>15.527</td><td>11.119</td><td>-1.638</td><td>1.09</td><td>-5.551</td></tr><tr><th>4</th><td>1991.0</td><td>2.0</td><td>-0.046</td><td>7.616</td><td>-3.953</td><td>2.185</td><td>2.95</td><td>2.571</td><td>1.636</td><td>-6.814</td><td>-1.506</td><td>0.171</td><td>3.852</td><td>5.13</td><td>-6.062</td><td>3.086</td><td>6.753</td><td>3.306</td><td>0.686</td><td>1.865</td><td>1.812</td><td>2.269</td><td>1.235</td><td>5.059</td><td>-0.395</td><td>2.204</td><td>3.995</td><td>1.8</td><td>0.477</td></tr><tr><th>5</th><td>1991.0</td><td>3.0</td><td>0.098</td><td>14.995</td><td>6.039</td><td>0.191</td><td>-0.147</td><td>3.801</td><td>-0.05</td><td>11.113</td><td>-1.366</td><td>0.415</td><td>8.739</td><td>0.023</td><td>3.219</td><td>-5.689</td><td>1.194</td><td>-0.697</td><td>2.998</td><td>5.987</td><td>2.088</td><td>9.082</td><td>-1.507</td><td>5.34</td><td>5.295</td><td>2.649</td><td>-4.289</td><td>3.151</td><td>-1.751</td></tr><tr><th>6</th><td>1991.0</td><td>4.0</td><td>-0.038</td><td>-1.955</td><td>3.221</td><td>-0.383</td><td>-4.41</td><td>2.506</td><td>-1.115</td><td>2.214</td><td>-3.108</td><td>-4.221</td><td>4.06</td><td>-0.421</td><td>-1.445</td><td>1.493</td><td>-2.899</td><td>-1.454</td><td>2.912</td><td>5.851</td><td>2.352</td><td>1.732</td><td>-0.049</td><td>-3.801</td><td>7.959</td><td>-0.788</td><td>-7.127</td><td>5.142</td><td>-4.473</td></tr></tbody></table>"
      ],
      "text/plain": [
       "6×29 DataFrames.DataFrame\n",
       "│ Row │ year   │ quarter │ HKM    │ AEM    │ G_MKT   │ G_SMB  │ G_HML  │ G_RMW │\n",
       "├─────┼────────┼─────────┼────────┼────────┼─────────┼────────┼────────┼───────┤\n",
       "│ 1   │ 1990.0 │ 3.0     │ -0.288 │ 6.549  │ -20.101 │ 1.394  │ 2.167  │ 0.979 │\n",
       "│ 2   │ 1990.0 │ 4.0     │ 0.085  │ 12.832 │ 7.564   │ -6.287 │ -3.753 │ 6.391 │\n",
       "│ 3   │ 1991.0 │ 1.0     │ 0.17   │ 4.242  │ 10.199  │ 4.601  │ 0.552  │ 1.536 │\n",
       "│ 4   │ 1991.0 │ 2.0     │ -0.046 │ 7.616  │ -3.953  │ 2.185  │ 2.95   │ 2.571 │\n",
       "│ 5   │ 1991.0 │ 3.0     │ 0.098  │ 14.995 │ 6.039   │ 0.191  │ -0.147 │ 3.801 │\n",
       "│ 6   │ 1991.0 │ 4.0     │ -0.038 │ -1.955 │ 3.221   │ -0.383 │ -4.41  │ 2.506 │\n",
       "\n",
       "│ Row │ G_CMA  │ E_MKT   │ E_SMB  │ E_HML  │ E_RMW  │ E_CMA  │ J_MKT   │\n",
       "├─────┼────────┼─────────┼────────┼────────┼────────┼────────┼─────────┤\n",
       "│ 1   │ 5.801  │ -17.675 │ 3.176  │ 0.643  │ -0.135 │ 5.511  │ -26.494 │\n",
       "│ 2   │ -0.505 │ 5.439   │ -3.452 │ 1.197  │ 3.148  │ -0.002 │ 10.449  │\n",
       "│ 3   │ -2.652 │ 2.778   │ 0.275  │ 0.949  │ 4.546  │ -2.886 │ 9.939   │\n",
       "│ 4   │ 1.636  │ -6.814  │ -1.506 │ 0.171  │ 3.852  │ 5.13   │ -6.062  │\n",
       "│ 5   │ -0.05  │ 11.113  │ -1.366 │ 0.415  │ 8.739  │ 0.023  │ 3.219   │\n",
       "│ 6   │ -1.115 │ 2.214   │ -3.108 │ -4.221 │ 4.06   │ -0.421 │ -1.445  │\n",
       "\n",
       "│ Row │ J_SMB  │ J_HML  │ J_RMW  │ J_CMA │ A_MKT   │ A_SMB  │ A_HML  │ A_RMW  │\n",
       "├─────┼────────┼────────┼────────┼───────┼─────────┼────────┼────────┼────────┤\n",
       "│ 1   │ 2.704  │ 4.894  │ 2.046  │ 0.158 │ -12.394 │ 5.507  │ 1.189  │ 4.492  │\n",
       "│ 2   │ -9.595 │ -6.638 │ 5.386  │ 5.433 │ -4.993  │ -7.98  │ -2.592 │ 4.058  │\n",
       "│ 3   │ 7.587  │ 2.165  │ -0.914 │ 1.148 │ 18.586  │ -5.255 │ 2.807  │ 1.016  │\n",
       "│ 4   │ 3.086  │ 6.753  │ 3.306  │ 0.686 │ 1.865   │ 1.812  │ 2.269  │ 1.235  │\n",
       "│ 5   │ -5.689 │ 1.194  │ -0.697 │ 2.998 │ 5.987   │ 2.088  │ 9.082  │ -1.507 │\n",
       "│ 6   │ 1.493  │ -2.899 │ -1.454 │ 2.912 │ 5.851   │ 2.352  │ 1.732  │ -0.049 │\n",
       "\n",
       "│ Row │ A_CMA  │ N_MKT   │ N_SMB  │ N_HML  │ N_RMW │ N_CMA  │\n",
       "├─────┼────────┼─────────┼────────┼────────┼───────┼────────┤\n",
       "│ 1   │ 6.888  │ -15.571 │ -6.689 │ 0.449  │ 0.768 │ 11.571 │\n",
       "│ 2   │ -2.736 │ 7.502   │ -2.138 │ -3.007 │ 6.814 │ -5.489 │\n",
       "│ 3   │ 1.739  │ 15.527  │ 11.119 │ -1.638 │ 1.09  │ -5.551 │\n",
       "│ 4   │ 5.059  │ -0.395  │ 2.204  │ 3.995  │ 1.8   │ 0.477  │\n",
       "│ 5   │ 5.34   │ 5.295   │ 2.649  │ -4.289 │ 3.151 │ -1.751 │\n",
       "│ 6   │ -3.801 │ 7.959   │ -0.788 │ -7.127 │ 5.142 │ -4.473 │"
      ]
     },
     "execution_count": 126,
     "metadata": {},
     "output_type": "execute_result"
    }
   ],
   "source": [
    "data_quarterly = data_quarterly[3:end, :]\n",
    "head(print_table(data_quarterly, skipcol=2))"
   ]
  },
  {
   "cell_type": "markdown",
   "metadata": {},
   "source": [
    "I employ a simplified Fama-MacBeth scheme, in which I estimate the first stage as above. That is I do not run rolling time-series regressions as the first stage, because I think the role of leverage of broker-dealers did not change much over time. But I understand that this is just a first pass analysis."
   ]
  },
  {
   "cell_type": "code",
   "execution_count": 127,
   "metadata": {},
   "outputs": [],
   "source": [
    "function run_regression(field, lev)\n",
    "    formula = @formula($(field) ~ $(lev) + G_MKT + G_SMB + G_HML + G_RMW + G_CMA)\n",
    "    model = lm(formula, data_quarterly)\n",
    "    return model\n",
    "end\n",
    "\n",
    "models1 = run_regression.(test_assets, :HKM)\n",
    "models2 = run_regression.(test_assets, :AEM);"
   ]
  },
  {
   "cell_type": "code",
   "execution_count": 128,
   "metadata": {
    "scrolled": true
   },
   "outputs": [
    {
     "data": {
      "text/plain": [
       "run_2stage (generic function with 1 method)"
      ]
     },
     "execution_count": 128,
     "metadata": {},
     "output_type": "execute_result"
    }
   ],
   "source": [
    "function run_2stage(lev, models)\n",
    "    gl_factor_names = vcat(lev, [:G_MKT, :G_SMB, :G_HML, :G_RMW, :G_CMA])\n",
    "\n",
    "    T = size(data_quarterly, 1)\n",
    "    N = 20\n",
    "    K = 6\n",
    "    Ωhat = cov(Matrix(data_quarterly[gl_factor_names]))\n",
    "    Σhat = cov(hcat([residuals(models[i]) for (i, asset) in enumerate(test_assets)]...))\n",
    "\n",
    "    #extract betas from time-series regression\n",
    "    data_cross = DataFrame(vcat(mean(Matrix(data_quarterly[test_assets]), 1), \n",
    "            hcat([coef(models[i])[2:end] for (i, asset) in enumerate(test_assets)]...))')\n",
    "    names!(data_cross, vcat(:avg_ret, Symbol.(\"β_\" .* string.(gl_factor_names))))\n",
    "    β = Matrix(data_cross[:, 2:end])\n",
    "    \n",
    "    #cross-sectional regression for every quarter:\n",
    "    λhat_t = (β'*β)^-1 * β'*Matrix(data_quarterly[test_assets])'\n",
    "    αhat_t = Matrix(data_quarterly[test_assets])' .- β * λhat_t\n",
    "\n",
    "    λhat = mean(λhat_t, 2)[:]\n",
    "    αhat = mean(αhat_t, 2)[:]\n",
    "\n",
    "    cov_α = 1/T^2 * (αhat_t .- αhat) * (αhat_t .- αhat)'\n",
    "\n",
    "    table_α = DataFrame(hcat(test_assets, αhat, αhat ./ diag(cov_α)))\n",
    "    names!(table_α, [:test_asset, :α, :t_α])\n",
    "\n",
    "    table_λ = DataFrame(hcat(gl_factor_names, λhat))\n",
    "    names!(table_λ, [:risk_factor, :λ])\n",
    "\n",
    "    #cov_alpha is singular, but αhat lies in its spanned subspace\n",
    "    J = αhat' * (cov_α \\ αhat)\n",
    "\n",
    "    return [table_α, table_λ, J, 1-cdf(Chisq(N - K), J)]\n",
    "end"
   ]
  },
  {
   "cell_type": "code",
   "execution_count": 129,
   "metadata": {},
   "outputs": [],
   "source": [
    "results1 = run_2stage(:HKM, models1)\n",
    "results2 = run_2stage(:AEM, models2);"
   ]
  },
  {
   "cell_type": "markdown",
   "metadata": {},
   "source": [
    "The results on the risk prices:"
   ]
  },
  {
   "cell_type": "code",
   "execution_count": 130,
   "metadata": {},
   "outputs": [
    {
     "data": {
      "text/html": [
       "<table class=\"data-frame\"><thead><tr><th></th><th>risk_factor</th><th>HKM_λ</th><th>AEM_λ</th></tr></thead><tbody><tr><th>1</th><td>HKM</td><td>0.092</td><td>-4.094</td></tr><tr><th>2</th><td>G_MKT</td><td>1.798</td><td>1.745</td></tr><tr><th>3</th><td>G_SMB</td><td>1.267</td><td>0.893</td></tr><tr><th>4</th><td>G_HML</td><td>2.818</td><td>2.846</td></tr><tr><th>5</th><td>G_RMW</td><td>1.371</td><td>1.449</td></tr><tr><th>6</th><td>G_CMA</td><td>1.515</td><td>1.467</td></tr></tbody></table>"
      ],
      "text/plain": [
       "6×3 DataFrames.DataFrame\n",
       "│ Row │ risk_factor │ HKM_λ │ AEM_λ  │\n",
       "├─────┼─────────────┼───────┼────────┤\n",
       "│ 1   │ HKM         │ 0.092 │ -4.094 │\n",
       "│ 2   │ G_MKT       │ 1.798 │ 1.745  │\n",
       "│ 3   │ G_SMB       │ 1.267 │ 0.893  │\n",
       "│ 4   │ G_HML       │ 2.818 │ 2.846  │\n",
       "│ 5   │ G_RMW       │ 1.371 │ 1.449  │\n",
       "│ 6   │ G_CMA       │ 1.515 │ 1.467  │"
      ]
     },
     "execution_count": 130,
     "metadata": {},
     "output_type": "execute_result"
    }
   ],
   "source": [
    "table = hcat(results1[2], results2[2][:, 2:end])\n",
    "names!(table, [:risk_factor, :HKM_λ, :AEM_λ])\n",
    "print_table(table, skipcol = 1)"
   ]
  },
  {
   "cell_type": "markdown",
   "metadata": {},
   "source": [
    "The procyclical leverage factor of HKM demands a compensation in form of a positive price. The countercyclical leverage factor of AEM is insurance and implies paying a premium, hence the negative price."
   ]
  },
  {
   "cell_type": "markdown",
   "metadata": {},
   "source": [
    "The results about the alphas:"
   ]
  },
  {
   "cell_type": "code",
   "execution_count": 131,
   "metadata": {},
   "outputs": [
    {
     "data": {
      "text/html": [
       "<table class=\"data-frame\"><thead><tr><th></th><th>test_asset</th><th>HKM_α</th><th>HKM_t_α</th><th>AEM_α</th><th>AEM_t_α</th></tr></thead><tbody><tr><th>1</th><td>E_MKT</td><td>0.294</td><td>2.094</td><td>-0.458</td><td>-3.314</td></tr><tr><th>2</th><td>E_SMB</td><td>0.856</td><td>6.722</td><td>0.753</td><td>7.847</td></tr><tr><th>3</th><td>E_HML</td><td>0.174</td><td>1.846</td><td>-0.079</td><td>-0.724</td></tr><tr><th>4</th><td>E_RMW</td><td>1.367</td><td>16.762</td><td>1.757</td><td>19.447</td></tr><tr><th>5</th><td>E_CMA</td><td>0.491</td><td>5.427</td><td>0.403</td><td>4.44</td></tr><tr><th>6</th><td>J_MKT</td><td>-0.694</td><td>-7.962</td><td>-0.907</td><td>-11.123</td></tr><tr><th>7</th><td>J_SMB</td><td>0.249</td><td>1.01</td><td>-0.027</td><td>-0.105</td></tr><tr><th>8</th><td>J_HML</td><td>1.964</td><td>14.584</td><td>1.41</td><td>7.944</td></tr><tr><th>9</th><td>J_RMW</td><td>0.672</td><td>5.585</td><td>0.686</td><td>5.248</td></tr><tr><th>10</th><td>J_CMA</td><td>1.765</td><td>10.69</td><td>1.534</td><td>8.726</td></tr><tr><th>11</th><td>A_MKT</td><td>1.069</td><td>4.65</td><td>1.074</td><td>4.427</td></tr><tr><th>12</th><td>A_SMB</td><td>-0.53</td><td>-2.365</td><td>-0.367</td><td>-1.532</td></tr><tr><th>13</th><td>A_HML</td><td>0.947</td><td>3.753</td><td>1.332</td><td>9.304</td></tr><tr><th>14</th><td>A_RMW</td><td>0.783</td><td>2.998</td><td>1.669</td><td>11.575</td></tr><tr><th>15</th><td>A_CMA</td><td>1.441</td><td>14.735</td><td>1.998</td><td>12.713</td></tr><tr><th>16</th><td>N_MKT</td><td>0.615</td><td>6.822</td><td>1.603</td><td>11.86</td></tr><tr><th>17</th><td>N_SMB</td><td>-0.2</td><td>-1.422</td><td>0.588</td><td>3.36</td></tr><tr><th>18</th><td>N_HML</td><td>-2.082</td><td>-18.641</td><td>-1.582</td><td>-14.993</td></tr><tr><th>19</th><td>N_RMW</td><td>0.407</td><td>5.128</td><td>-0.327</td><td>-3.084</td></tr><tr><th>20</th><td>N_CMA</td><td>-0.616</td><td>-4.725</td><td>-0.275</td><td>-1.97</td></tr></tbody></table>"
      ],
      "text/plain": [
       "20×5 DataFrames.DataFrame\n",
       "│ Row │ test_asset │ HKM_α  │ HKM_t_α │ AEM_α  │ AEM_t_α │\n",
       "├─────┼────────────┼────────┼─────────┼────────┼─────────┤\n",
       "│ 1   │ E_MKT      │ 0.294  │ 2.094   │ -0.458 │ -3.314  │\n",
       "│ 2   │ E_SMB      │ 0.856  │ 6.722   │ 0.753  │ 7.847   │\n",
       "│ 3   │ E_HML      │ 0.174  │ 1.846   │ -0.079 │ -0.724  │\n",
       "│ 4   │ E_RMW      │ 1.367  │ 16.762  │ 1.757  │ 19.447  │\n",
       "│ 5   │ E_CMA      │ 0.491  │ 5.427   │ 0.403  │ 4.44    │\n",
       "│ 6   │ J_MKT      │ -0.694 │ -7.962  │ -0.907 │ -11.123 │\n",
       "│ 7   │ J_SMB      │ 0.249  │ 1.01    │ -0.027 │ -0.105  │\n",
       "│ 8   │ J_HML      │ 1.964  │ 14.584  │ 1.41   │ 7.944   │\n",
       "│ 9   │ J_RMW      │ 0.672  │ 5.585   │ 0.686  │ 5.248   │\n",
       "│ 10  │ J_CMA      │ 1.765  │ 10.69   │ 1.534  │ 8.726   │\n",
       "│ 11  │ A_MKT      │ 1.069  │ 4.65    │ 1.074  │ 4.427   │\n",
       "│ 12  │ A_SMB      │ -0.53  │ -2.365  │ -0.367 │ -1.532  │\n",
       "│ 13  │ A_HML      │ 0.947  │ 3.753   │ 1.332  │ 9.304   │\n",
       "│ 14  │ A_RMW      │ 0.783  │ 2.998   │ 1.669  │ 11.575  │\n",
       "│ 15  │ A_CMA      │ 1.441  │ 14.735  │ 1.998  │ 12.713  │\n",
       "│ 16  │ N_MKT      │ 0.615  │ 6.822   │ 1.603  │ 11.86   │\n",
       "│ 17  │ N_SMB      │ -0.2   │ -1.422  │ 0.588  │ 3.36    │\n",
       "│ 18  │ N_HML      │ -2.082 │ -18.641 │ -1.582 │ -14.993 │\n",
       "│ 19  │ N_RMW      │ 0.407  │ 5.128   │ -0.327 │ -3.084  │\n",
       "│ 20  │ N_CMA      │ -0.616 │ -4.725  │ -0.275 │ -1.97   │"
      ]
     },
     "execution_count": 131,
     "metadata": {},
     "output_type": "execute_result"
    }
   ],
   "source": [
    "table = hcat(results1[1], results2[1][:, 2:end])\n",
    "names!(table, [:test_asset, :HKM_α, :HKM_t_α, :AEM_α, :AEM_t_α])\n",
    "print_table(table, skipcol = 1)"
   ]
  },
  {
   "cell_type": "markdown",
   "metadata": {},
   "source": [
    "The joint tests both reject:"
   ]
  },
  {
   "cell_type": "code",
   "execution_count": 132,
   "metadata": {},
   "outputs": [
    {
     "data": {
      "text/plain": [
       "2-element Array{Float64,1}:\n",
       " 0.0\n",
       " 0.0"
      ]
     },
     "execution_count": 132,
     "metadata": {},
     "output_type": "execute_result"
    }
   ],
   "source": [
    "[results1[4], results2[4]]"
   ]
  },
  {
   "cell_type": "markdown",
   "metadata": {},
   "source": [
    "This is surprising, but then again I assumed constant betas, that might have been a bad idea.\n",
    "\n",
    "### (c)"
   ]
  },
  {
   "cell_type": "code",
   "execution_count": 133,
   "metadata": {},
   "outputs": [
    {
     "data": {
      "text/html": [
       "<table class=\"data-frame\"><thead><tr><th></th><th>risk_factor</th><th>λ</th></tr></thead><tbody><tr><th>1</th><td>HKM</td><td>0.095</td></tr><tr><th>2</th><td>AEM</td><td>-4.907</td></tr><tr><th>3</th><td>G_MKT</td><td>1.827</td></tr><tr><th>4</th><td>G_SMB</td><td>1.211</td></tr><tr><th>5</th><td>G_HML</td><td>2.798</td></tr><tr><th>6</th><td>G_RMW</td><td>1.384</td></tr><tr><th>7</th><td>G_CMA</td><td>1.506</td></tr></tbody></table>"
      ],
      "text/plain": [
       "7×2 DataFrames.DataFrame\n",
       "│ Row │ risk_factor │ λ      │\n",
       "├─────┼─────────────┼────────┤\n",
       "│ 1   │ HKM         │ 0.095  │\n",
       "│ 2   │ AEM         │ -4.907 │\n",
       "│ 3   │ G_MKT       │ 1.827  │\n",
       "│ 4   │ G_SMB       │ 1.211  │\n",
       "│ 5   │ G_HML       │ 2.798  │\n",
       "│ 6   │ G_RMW       │ 1.384  │\n",
       "│ 7   │ G_CMA       │ 1.506  │"
      ]
     },
     "execution_count": 133,
     "metadata": {},
     "output_type": "execute_result"
    }
   ],
   "source": [
    "function run_regression_big(field)\n",
    "    formula = @formula($(field) ~ HKM + AEM + G_MKT + G_SMB + G_HML + G_RMW + G_CMA)\n",
    "    model = lm(formula, data_quarterly)\n",
    "    return model\n",
    "end\n",
    "\n",
    "models_big = run_regression_big.(test_assets)\n",
    "\n",
    "results_big = run_2stage([:HKM, :AEM], models_big)\n",
    "\n",
    "table = results_big[2]\n",
    "print_table(table, skipcol = 1)"
   ]
  },
  {
   "cell_type": "markdown",
   "metadata": {},
   "source": [
    "Risk prices are similar to the ones above. \n",
    "\n",
    "The following "
   ]
  },
  {
   "cell_type": "code",
   "execution_count": 134,
   "metadata": {
    "scrolled": false
   },
   "outputs": [
    {
     "data": {
      "text/html": [
       "<table class=\"data-frame\"><thead><tr><th></th><th>test_asset</th><th>α</th><th>t_α</th></tr></thead><tbody><tr><th>1</th><td>E_MKT</td><td>0.099</td><td>0.741</td></tr><tr><th>2</th><td>E_SMB</td><td>1.117</td><td>10.995</td></tr><tr><th>3</th><td>E_HML</td><td>0.081</td><td>0.786</td></tr><tr><th>4</th><td>E_RMW</td><td>1.46</td><td>15.981</td></tr><tr><th>5</th><td>E_CMA</td><td>0.424</td><td>4.683</td></tr><tr><th>6</th><td>J_MKT</td><td>-0.544</td><td>-7.631</td></tr><tr><th>7</th><td>J_SMB</td><td>0.108</td><td>0.432</td></tr><tr><th>8</th><td>J_HML</td><td>1.965</td><td>14.583</td></tr><tr><th>9</th><td>J_RMW</td><td>0.567</td><td>4.479</td></tr><tr><th>10</th><td>J_CMA</td><td>1.758</td><td>10.694</td></tr><tr><th>11</th><td>A_MKT</td><td>1.208</td><td>5.116</td></tr><tr><th>12</th><td>A_SMB</td><td>-0.614</td><td>-2.783</td></tr><tr><th>13</th><td>A_HML</td><td>0.54</td><td>5.946</td></tr><tr><th>14</th><td>A_RMW</td><td>1.122</td><td>8.217</td></tr><tr><th>15</th><td>A_CMA</td><td>1.382</td><td>14.779</td></tr><tr><th>16</th><td>N_MKT</td><td>0.63</td><td>6.984</td></tr><tr><th>17</th><td>N_SMB</td><td>-0.156</td><td>-1.165</td></tr><tr><th>18</th><td>N_HML</td><td>-1.852</td><td>-20.599</td></tr><tr><th>19</th><td>N_RMW</td><td>0.264</td><td>4.154</td></tr><tr><th>20</th><td>N_CMA</td><td>-0.533</td><td>-4.113</td></tr></tbody></table>"
      ],
      "text/plain": [
       "20×3 DataFrames.DataFrame\n",
       "│ Row │ test_asset │ α      │ t_α     │\n",
       "├─────┼────────────┼────────┼─────────┤\n",
       "│ 1   │ E_MKT      │ 0.099  │ 0.741   │\n",
       "│ 2   │ E_SMB      │ 1.117  │ 10.995  │\n",
       "│ 3   │ E_HML      │ 0.081  │ 0.786   │\n",
       "│ 4   │ E_RMW      │ 1.46   │ 15.981  │\n",
       "│ 5   │ E_CMA      │ 0.424  │ 4.683   │\n",
       "│ 6   │ J_MKT      │ -0.544 │ -7.631  │\n",
       "│ 7   │ J_SMB      │ 0.108  │ 0.432   │\n",
       "│ 8   │ J_HML      │ 1.965  │ 14.583  │\n",
       "│ 9   │ J_RMW      │ 0.567  │ 4.479   │\n",
       "│ 10  │ J_CMA      │ 1.758  │ 10.694  │\n",
       "│ 11  │ A_MKT      │ 1.208  │ 5.116   │\n",
       "│ 12  │ A_SMB      │ -0.614 │ -2.783  │\n",
       "│ 13  │ A_HML      │ 0.54   │ 5.946   │\n",
       "│ 14  │ A_RMW      │ 1.122  │ 8.217   │\n",
       "│ 15  │ A_CMA      │ 1.382  │ 14.779  │\n",
       "│ 16  │ N_MKT      │ 0.63   │ 6.984   │\n",
       "│ 17  │ N_SMB      │ -0.156 │ -1.165  │\n",
       "│ 18  │ N_HML      │ -1.852 │ -20.599 │\n",
       "│ 19  │ N_RMW      │ 0.264  │ 4.154   │\n",
       "│ 20  │ N_CMA      │ -0.533 │ -4.113  │"
      ]
     },
     "execution_count": 134,
     "metadata": {},
     "output_type": "execute_result"
    }
   ],
   "source": [
    "table = results_big[1]\n",
    "print_table(table, skipcol = 1)"
   ]
  },
  {
   "cell_type": "markdown",
   "metadata": {},
   "source": [
    "The joint test rejects again clearly:"
   ]
  },
  {
   "cell_type": "code",
   "execution_count": 135,
   "metadata": {
    "scrolled": true
   },
   "outputs": [
    {
     "data": {
      "text/plain": [
       "0.0"
      ]
     },
     "execution_count": 135,
     "metadata": {},
     "output_type": "execute_result"
    }
   ],
   "source": [
    "results_big[4]"
   ]
  },
  {
   "cell_type": "markdown",
   "metadata": {},
   "source": [
    "The standard error is not calulated with any correction for generated regressors, maybe that is the issue."
   ]
  },
  {
   "cell_type": "code",
   "execution_count": null,
   "metadata": {},
   "outputs": [],
   "source": []
  }
 ],
 "metadata": {
  "kernelspec": {
   "display_name": "Julia 0.6.2",
   "language": "julia",
   "name": "julia-0.6"
  },
  "language_info": {
   "file_extension": ".jl",
   "mimetype": "application/julia",
   "name": "julia",
   "version": "0.6.2"
  }
 },
 "nbformat": 4,
 "nbformat_minor": 2
}
