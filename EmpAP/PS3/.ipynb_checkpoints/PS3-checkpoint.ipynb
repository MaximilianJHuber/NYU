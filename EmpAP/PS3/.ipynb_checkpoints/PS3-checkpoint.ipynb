{
 "cells": [
  {
   "cell_type": "markdown",
   "metadata": {},
   "source": [
    "# Empirical Asset Pricing - PS3\n",
    "\n",
    "Maximilian Huber\n",
    "\n",
    "## Task 1\n",
    "Let me load the data into an array of DataFrames:"
   ]
  },
  {
   "cell_type": "code",
   "execution_count": 61,
   "metadata": {
    "scrolled": true
   },
   "outputs": [],
   "source": [
    "using CSV, DataFrames, Distributions, Plots, GLM; gr();"
   ]
  },
  {
   "cell_type": "code",
   "execution_count": 65,
   "metadata": {},
   "outputs": [],
   "source": [
    "files = [\"Global\", \"Europe\", \"Japan\", \"Asia_Pacific_ex_Japan\", \"North_America\"]\n",
    "abbrev = ['G', 'E', 'J', 'A', 'N']\n",
    "\n",
    "data = [CSV.read(\"./Data/\" * file * \"_5_Factors.csv\", delim=',', \n",
    "        types=[Date, Float64, Float64, Float64, Float64, Float64, Float64], \n",
    "        dateformat = DateFormat(\"yyyymm\"), nullable=false) for file in files];"
   ]
  },
  {
   "cell_type": "code",
   "execution_count": 267,
   "metadata": {
    "scrolled": true
   },
   "outputs": [
    {
     "data": {
      "text/html": [
       "<table class=\"data-frame\"><thead><tr><th></th><th>Date</th><th>G_MKT</th><th>G_SMB</th><th>G_HML</th><th>G_RMW</th><th>G_CMA</th><th>G_RF</th><th>E_MKT</th><th>E_SMB</th><th>E_HML</th><th>E_RMW</th><th>E_CMA</th><th>E_RF</th><th>J_MKT</th><th>J_SMB</th><th>J_HML</th><th>J_RMW</th><th>J_CMA</th><th>J_RF</th><th>A_MKT</th><th>A_SMB</th><th>A_HML</th><th>A_RMW</th><th>A_CMA</th><th>A_RF</th><th>N_MKT</th><th>N_SMB</th><th>N_HML</th><th>N_RMW</th><th>N_CMA</th><th>N_RF</th></tr></thead><tbody><tr><th>1</th><td>1990-07-01</td><td>0.86</td><td>0.82</td><td>-0.25</td><td>0.17</td><td>1.56</td><td>0.68</td><td>4.52</td><td>0.41</td><td>-1.43</td><td>0.22</td><td>1.21</td><td>0.68</td><td>0.1</td><td>6.32</td><td>3.69</td><td>1.06</td><td>0.24</td><td>0.68</td><td>4.2</td><td>-2.93</td><td>-1.36</td><td>1.42</td><td>0.9</td><td>0.68</td><td>-1.51</td><td>-2.5</td><td>-0.9</td><td>0.53</td><td>2.59</td><td>0.68</td></tr><tr><th>2</th><td>1990-08-01</td><td>-10.82</td><td>-1.57</td><td>0.6</td><td>-0.22</td><td>0.99</td><td>0.66</td><td>-11.03</td><td>0.02</td><td>0.25</td><td>-1.06</td><td>1.46</td><td>0.66</td><td>-11.88</td><td>-5.0</td><td>0.26</td><td>1.28</td><td>-0.96</td><td>0.66</td><td>-8.68</td><td>3.76</td><td>1.71</td><td>1.12</td><td>0.67</td><td>0.66</td><td>-9.63</td><td>-2.56</td><td>0.49</td><td>-2.01</td><td>3.28</td><td>0.66</td></tr><tr><th>3</th><td>1990-09-01</td><td>-11.97</td><td>1.16</td><td>0.8</td><td>0.03</td><td>2.12</td><td>0.6</td><td>-12.28</td><td>1.71</td><td>0.84</td><td>-0.28</td><td>1.72</td><td>0.6</td><td>-17.38</td><td>0.67</td><td>-0.11</td><td>-1.29</td><td>-0.11</td><td>0.6</td><td>-8.8</td><td>3.7</td><td>-0.14</td><td>0.87</td><td>4.17</td><td>0.6</td><td>-6.02</td><td>-2.73</td><td>-0.13</td><td>1.28</td><td>4.23</td><td>0.6</td></tr><tr><th>4</th><td>1990-10-01</td><td>9.56</td><td>-7.58</td><td>-4.24</td><td>2.6</td><td>1.22</td><td>0.68</td><td>6.49</td><td>-2.61</td><td>-0.67</td><td>1.06</td><td>-0.79</td><td>0.68</td><td>24.9</td><td>0.8</td><td>-3.87</td><td>0.39</td><td>4.75</td><td>0.68</td><td>-1.95</td><td>-4.76</td><td>-1.52</td><td>0.17</td><td>-2.78</td><td>0.68</td><td>-2.0</td><td>-4.62</td><td>-1.67</td><td>4.18</td><td>0.87</td><td>0.68</td></tr><tr><th>5</th><td>1990-11-01</td><td>-3.86</td><td>1.37</td><td>1.14</td><td>1.47</td><td>-2.35</td><td>0.57</td><td>-0.43</td><td>-2.74</td><td>0.87</td><td>0.13</td><td>-0.47</td><td>0.57</td><td>-14.12</td><td>-5.34</td><td>-0.18</td><td>3.05</td><td>-2.18</td><td>0.57</td><td>-2.98</td><td>-1.59</td><td>-0.82</td><td>3.04</td><td>0.56</td><td>0.57</td><td>5.9</td><td>0.01</td><td>-1.42</td><td>0.26</td><td>-4.57</td><td>0.57</td></tr><tr><th>6</th><td>1990-12-01</td><td>1.1</td><td>-0.95</td><td>-1.6</td><td>1.17</td><td>-0.33</td><td>0.6</td><td>-1.55</td><td>0.93</td><td>0.0</td><td>0.92</td><td>0.27</td><td>0.6</td><td>1.93</td><td>-6.16</td><td>-3.65</td><td>0.85</td><td>1.87</td><td>0.6</td><td>-1.1</td><td>-2.77</td><td>-1.25</td><td>-0.19</td><td>-1.49</td><td>0.6</td><td>2.54</td><td>1.58</td><td>-0.92</td><td>1.24</td><td>-2.77</td><td>0.6</td></tr></tbody></table>"
      ],
      "text/plain": [
       "6×31 DataFrames.DataFrame. Omitted printing of 23 columns\n",
       "│ Row │ Date       │ G_MKT  │ G_SMB │ G_HML │ G_RMW │ G_CMA │ G_RF │ E_MKT  │\n",
       "├─────┼────────────┼────────┼───────┼───────┼───────┼───────┼──────┼────────┤\n",
       "│ 1   │ 1990-07-01 │ 0.86   │ 0.82  │ -0.25 │ 0.17  │ 1.56  │ 0.68 │ 4.52   │\n",
       "│ 2   │ 1990-08-01 │ -10.82 │ -1.57 │ 0.6   │ -0.22 │ 0.99  │ 0.66 │ -11.03 │\n",
       "│ 3   │ 1990-09-01 │ -11.97 │ 1.16  │ 0.8   │ 0.03  │ 2.12  │ 0.6  │ -12.28 │\n",
       "│ 4   │ 1990-10-01 │ 9.56   │ -7.58 │ -4.24 │ 2.6   │ 1.22  │ 0.68 │ 6.49   │\n",
       "│ 5   │ 1990-11-01 │ -3.86  │ 1.37  │ 1.14  │ 1.47  │ -2.35 │ 0.57 │ -0.43  │\n",
       "│ 6   │ 1990-12-01 │ 1.1    │ -0.95 │ -1.6  │ 1.17  │ -0.33 │ 0.6  │ -1.55  │"
      ]
     },
     "execution_count": 267,
     "metadata": {},
     "output_type": "execute_result"
    }
   ],
   "source": [
    "factor_names = [:MKT, :SMB, :HML, :RMW, :CMA, :RF]\n",
    "data = DataFrame()\n",
    "input = DataFrame()\n",
    "\n",
    "for (i, file) in enumerate(files)\n",
    "    \n",
    "    input = CSV.read(\"./Data/\" * file * \"_5_Factors.csv\", delim=',', \n",
    "        types=[Date, Float64, Float64, Float64, Float64, Float64, Float64], \n",
    "        dateformat = DateFormat(\"yyyymm\"), nullable=false)\n",
    "    \n",
    "    names!(input, vcat(:Date, Symbol.(abbrev[i] .* '_' .* string.(factor_names))))\n",
    "    \n",
    "    data = hcat(data, input[:, 2:end])\n",
    "end\n",
    "\n",
    "data = hcat(input[[:Date]], data)\n",
    "head(data)"
   ]
  },
  {
   "cell_type": "markdown",
   "metadata": {},
   "source": [
    "### (a)\n",
    "The factors from Kenneth French's [website](http://mba.tuck.dartmouth.edu/pages/faculty/ken.french/data_library.html) are not excess returns, as described [here](http://mba.tuck.dartmouth.edu/pages/faculty/ken.french/Data_Library/f-f_factors.html). So I deduct the region interest rate from the four factors in each region. This mimics a strategy where exchange rate risk is hedged."
   ]
  },
  {
   "cell_type": "code",
   "execution_count": 268,
   "metadata": {},
   "outputs": [],
   "source": [
    "data_excess = copy(data)\n",
    "\n",
    "for (i, region) in enumerate(abbrev)\n",
    "    for factor in factor_names[2:end-1]\n",
    "        data_excess[Symbol(region * '_' * string(factor))] -= data_excess[Symbol(region * '_' * string(:RF))]\n",
    "    end\n",
    "end"
   ]
  },
  {
   "cell_type": "markdown",
   "metadata": {},
   "source": [
    "#### (i)\n",
    "Now I regress the returns of the 20 test assets on the five factor model:\n",
    "$$R_t^{ei}=\\alpha_i + \\beta'_i f_t + \\epsilon_t^i$$"
   ]
  },
  {
   "cell_type": "code",
   "execution_count": 296,
   "metadata": {
    "scrolled": false
   },
   "outputs": [
    {
     "data": {
      "text/html": [
       "<table class=\"data-frame\"><thead><tr><th></th><th>test_asset</th><th>α</th><th>stderr_α</th><th>t_α</th></tr></thead><tbody><tr><th>1</th><td>E_MKT</td><td>-0.0527406</td><td>0.103399</td><td>-0.51007</td></tr><tr><th>2</th><td>E_SMB</td><td>-0.0542852</td><td>0.0856373</td><td>-0.633897</td></tr><tr><th>3</th><td>E_HML</td><td>-0.0074165</td><td>0.0732932</td><td>-0.10119</td></tr><tr><th>4</th><td>E_RMW</td><td>0.135247</td><td>0.0619364</td><td>2.18364</td></tr><tr><th>5</th><td>E_CMA</td><td>-0.0326146</td><td>0.0624436</td><td>-0.522306</td></tr><tr><th>6</th><td>J_MKT</td><td>-0.338468</td><td>0.226448</td><td>-1.49468</td></tr><tr><th>7</th><td>J_SMB</td><td>-0.0342311</td><td>0.155456</td><td>-0.220198</td></tr><tr><th>8</th><td>J_HML</td><td>0.115394</td><td>0.127051</td><td>0.908249</td></tr><tr><th>9</th><td>J_RMW</td><td>-0.172486</td><td>0.104072</td><td>-1.65737</td></tr><tr><th>10</th><td>J_CMA</td><td>-0.107845</td><td>0.11338</td><td>-0.951178</td></tr><tr><th>11</th><td>A_MKT</td><td>0.209172</td><td>0.191186</td><td>1.09408</td></tr><tr><th>12</th><td>A_SMB</td><td>-0.248526</td><td>0.147407</td><td>-1.68598</td></tr><tr><th>13</th><td>A_HML</td><td>0.439475</td><td>0.158935</td><td>2.76513</td></tr><tr><th>14</th><td>A_RMW</td><td>-0.0507658</td><td>0.142409</td><td>-0.35648</td></tr><tr><th>15</th><td>A_CMA</td><td>0.206156</td><td>0.120563</td><td>1.70994</td></tr><tr><th>16</th><td>N_MKT</td><td>0.282905</td><td>0.0934411</td><td>3.02764</td></tr><tr><th>17</th><td>N_SMB</td><td>0.0327553</td><td>0.0916745</td><td>0.3573</td></tr><tr><th>18</th><td>N_HML</td><td>-0.170682</td><td>0.0706426</td><td>-2.41613</td></tr><tr><th>19</th><td>N_RMW</td><td>-0.087706</td><td>0.0629197</td><td>-1.39393</td></tr><tr><th>20</th><td>N_CMA</td><td>-0.00340081</td><td>0.0657399</td><td>-0.0517313</td></tr></tbody></table>"
      ],
      "text/plain": [
       "20×4 DataFrames.DataFrame\n",
       "│ Row │ test_asset │ α           │ stderr_α  │ t_α        │\n",
       "├─────┼────────────┼─────────────┼───────────┼────────────┤\n",
       "│ 1   │ E_MKT      │ -0.0527406  │ 0.103399  │ -0.51007   │\n",
       "│ 2   │ E_SMB      │ -0.0542852  │ 0.0856373 │ -0.633897  │\n",
       "│ 3   │ E_HML      │ -0.0074165  │ 0.0732932 │ -0.10119   │\n",
       "│ 4   │ E_RMW      │ 0.135247    │ 0.0619364 │ 2.18364    │\n",
       "│ 5   │ E_CMA      │ -0.0326146  │ 0.0624436 │ -0.522306  │\n",
       "│ 6   │ J_MKT      │ -0.338468   │ 0.226448  │ -1.49468   │\n",
       "│ 7   │ J_SMB      │ -0.0342311  │ 0.155456  │ -0.220198  │\n",
       "│ 8   │ J_HML      │ 0.115394    │ 0.127051  │ 0.908249   │\n",
       "│ 9   │ J_RMW      │ -0.172486   │ 0.104072  │ -1.65737   │\n",
       "│ 10  │ J_CMA      │ -0.107845   │ 0.11338   │ -0.951178  │\n",
       "│ 11  │ A_MKT      │ 0.209172    │ 0.191186  │ 1.09408    │\n",
       "│ 12  │ A_SMB      │ -0.248526   │ 0.147407  │ -1.68598   │\n",
       "│ 13  │ A_HML      │ 0.439475    │ 0.158935  │ 2.76513    │\n",
       "│ 14  │ A_RMW      │ -0.0507658  │ 0.142409  │ -0.35648   │\n",
       "│ 15  │ A_CMA      │ 0.206156    │ 0.120563  │ 1.70994    │\n",
       "│ 16  │ N_MKT      │ 0.282905    │ 0.0934411 │ 3.02764    │\n",
       "│ 17  │ N_SMB      │ 0.0327553   │ 0.0916745 │ 0.3573     │\n",
       "│ 18  │ N_HML      │ -0.170682   │ 0.0706426 │ -2.41613   │\n",
       "│ 19  │ N_RMW      │ -0.087706   │ 0.0629197 │ -1.39393   │\n",
       "│ 20  │ N_CMA      │ -0.00340081 │ 0.0657399 │ -0.0517313 │"
      ]
     },
     "execution_count": 296,
     "metadata": {},
     "output_type": "execute_result"
    }
   ],
   "source": [
    "test_assets = Symbol.([region * '_' * string(factor) for factor in factor_names[1:end-1], region in abbrev[2:end]][:])\n",
    "\n",
    "function run_regression(field)\n",
    "    formula = @formula($(field) ~ G_MKT + G_SMB + G_HML + G_RMW + G_CMA)\n",
    "    model = lm(formula, data_excess)\n",
    "    return DataFrame(hcat(field, coef(model)[1], stderr(model)[1], coef(model)[1]/stderr(model)[1], model))\n",
    "end\n",
    "\n",
    "table = vcat(run_regression.(test_assets)...)\n",
    "names!(table, [:test_asset, :α, :stderr_α, :t_α, :model])\n",
    "table[[:test_asset, :α, :stderr_α, :t_α]]"
   ]
  },
  {
   "cell_type": "markdown",
   "metadata": {},
   "source": [
    "The question is whether a model of global risk factors is sufficient, or there are regional differences. If the former were true, there should be no significant alphas. But there are quite a few. For example, the European profitability factor has a highly positive alpha, indicating that there is an unexplained component of risk.\n",
    "#### (ii)"
   ]
  },
  {
   "cell_type": "code",
   "execution_count": 297,
   "metadata": {},
   "outputs": [
    {
     "data": {
      "text/plain": [
       "2.6894189576509064"
      ]
     },
     "execution_count": 297,
     "metadata": {},
     "output_type": "execute_result"
    }
   ],
   "source": [
    "gl_factor_names = [:G_MKT, :G_SMB, :G_HML, :G_RMW, :G_CMA]\n",
    "\n",
    "T = size(data_excess, 1)\n",
    "N = 20\n",
    "K = 5\n",
    "Ωhat = cov(Matrix(data_excess[gl_factor_names])) * (T-1) / T\n",
    "Σhat = cov(hcat([residuals(table[:model][i]) for (i, asset) in enumerate(test_assets)]...))\n",
    "\n",
    "F = ((T - N - K)/N * \n",
    "    (1 + mean(Matrix(data_excess[gl_factor_names]), 1) * Ωhat^-1 * mean(Matrix(data_excess[gl_factor_names]), 1)')^(-1) *\n",
    "    table[:α]' * Σhat^-1 * table[:α])[1]"
   ]
  },
  {
   "cell_type": "code",
   "execution_count": 302,
   "metadata": {},
   "outputs": [
    {
     "data": {
      "text/plain": [
       "20×20 Array{Float64,2}:\n",
       "  3.35236    -0.275107     0.266992   …  -0.0741044   -0.466731    0.526357 \n",
       " -0.275107    2.29956     -0.0568875      0.351297    -0.0354403   0.0906464\n",
       "  0.266992   -0.0568875    1.6844        -0.836264     0.391716   -0.299323 \n",
       " -0.279696   -0.267391    -0.744031       0.268297    -0.45946     0.0817957\n",
       " -0.221894   -0.220436     0.524989      -0.515375     0.165598   -0.702777 \n",
       " -3.07408     0.759712    -0.202249   …  -0.358532     1.18144    -0.723059 \n",
       " -0.827339   -0.15525      0.342935      -0.510536     0.556562   -0.645266 \n",
       " -0.197058    0.0870831   -0.534456      -1.22348      0.157795   -0.798429 \n",
       "  0.732467   -0.0495245    0.183722       0.314644    -0.976024    0.724148 \n",
       " -0.428955   -0.00696507  -0.244895      -0.614252     0.617787   -1.31399  \n",
       "  0.142322   -0.758483    -0.295289   …  -0.302268     0.388499    0.28283  \n",
       " -0.267575    0.941168    -0.244362       0.32537      0.0404561   0.0748535\n",
       " -0.871485   -0.408756    -0.34289       -0.623701     0.43538    -0.0829448\n",
       "  0.343224   -0.217711     0.698481       0.00259545  -0.643632    0.0340452\n",
       " -0.560224    0.148905    -0.193789       0.0551271   -0.0243912  -0.417266 \n",
       " -0.699209   -0.570554    -0.164907   …   0.0339792   -0.223492   -0.0893226\n",
       " -0.180707   -1.06011      0.144239       0.130725    -0.0469344   0.0700981\n",
       " -0.0741044   0.351297    -0.836264       1.56478     -0.372517    0.698226 \n",
       " -0.466731   -0.0354403    0.391716      -0.372517     1.24134    -0.386963 \n",
       "  0.526357    0.0906464   -0.299323       0.698226    -0.386963    1.35512  "
      ]
     },
     "execution_count": 302,
     "metadata": {},
     "output_type": "execute_result"
    }
   ],
   "source": [
    "Σhat"
   ]
  },
  {
   "cell_type": "markdown",
   "metadata": {},
   "source": [
    "Its p-value is:"
   ]
  },
  {
   "cell_type": "code",
   "execution_count": 298,
   "metadata": {},
   "outputs": [
    {
     "data": {
      "text/plain": [
       "0.00015880338622564771"
      ]
     },
     "execution_count": 298,
     "metadata": {},
     "output_type": "execute_result"
    }
   ],
   "source": [
    "1-cdf(FDist(N, T-N-1), F)"
   ]
  },
  {
   "cell_type": "markdown",
   "metadata": {},
   "source": [
    "This is a very strong rejection of the proposed global risk factor model.\n",
    "### (b)\n",
    "I run the cross-sectional regression by GLS:\n",
    "$$E_T(R^{ei}) = \\alpha_i + \\lambda' \\beta_i + \\epsilon_i$$\n",
    "Let me retrieve the betas and calculate the left hand side:"
   ]
  },
  {
   "cell_type": "code",
   "execution_count": 299,
   "metadata": {
    "scrolled": true
   },
   "outputs": [
    {
     "data": {
      "text/html": [
       "<table class=\"data-frame\"><thead><tr><th></th><th>avg_ret</th><th>β_G_MKT</th><th>β_G_SMB</th><th>β_G_HML</th><th>β_G_RMW</th><th>β_G_CMA</th></tr></thead><tbody><tr><th>1</th><td>0.513455</td><td>1.08426</td><td>0.0924975</td><td>0.256601</td><td>0.250233</td><td>-0.188875</td></tr><tr><th>2</th><td>-0.145</td><td>-0.0384141</td><td>0.803325</td><td>-0.0279854</td><td>0.0789456</td><td>0.0918722</td></tr><tr><th>3</th><td>0.117636</td><td>0.109139</td><td>-0.0336364</td><td>0.925307</td><td>-0.114759</td><td>-0.0739904</td></tr><tr><th>4</th><td>0.173636</td><td>0.000485881</td><td>0.157154</td><td>-0.325776</td><td>0.669801</td><td>0.0974019</td></tr><tr><th>5</th><td>-0.00966667</td><td>-0.00572113</td><td>0.0301252</td><td>0.0845757</td><td>0.0686101</td><td>0.681279</td></tr><tr><th>6</th><td>0.0978788</td><td>1.04622</td><td>0.352398</td><td>-0.546137</td><td>-0.0176344</td><td>0.914165</td></tr></tbody></table>"
      ],
      "text/plain": [
       "6×6 DataFrames.DataFrame. Omitted printing of 1 columns\n",
       "│ Row │ avg_ret     │ β_G_MKT     │ β_G_SMB    │ β_G_HML    │ β_G_RMW    │\n",
       "├─────┼─────────────┼─────────────┼────────────┼────────────┼────────────┤\n",
       "│ 1   │ 0.513455    │ 1.08426     │ 0.0924975  │ 0.256601   │ 0.250233   │\n",
       "│ 2   │ -0.145      │ -0.0384141  │ 0.803325   │ -0.0279854 │ 0.0789456  │\n",
       "│ 3   │ 0.117636    │ 0.109139    │ -0.0336364 │ 0.925307   │ -0.114759  │\n",
       "│ 4   │ 0.173636    │ 0.000485881 │ 0.157154   │ -0.325776  │ 0.669801   │\n",
       "│ 5   │ -0.00966667 │ -0.00572113 │ 0.0301252  │ 0.0845757  │ 0.0686101  │\n",
       "│ 6   │ 0.0978788   │ 1.04622     │ 0.352398   │ -0.546137  │ -0.0176344 │"
      ]
     },
     "execution_count": 299,
     "metadata": {},
     "output_type": "execute_result"
    }
   ],
   "source": [
    "data_cross = DataFrame(vcat(mean(Matrix(data_excess[test_assets]), 1), hcat([coef(table[:model][i])[2:end] for (i, asset) in enumerate(test_assets)]...))')\n",
    "names!(data_cross, vcat(:avg_ret, Symbol.(\"β_\" .* string.(gl_factor_names))))\n",
    "\n",
    "head(data_cross)"
   ]
  },
  {
   "cell_type": "code",
   "execution_count": 300,
   "metadata": {},
   "outputs": [
    {
     "data": {
      "text/html": [
       "<table class=\"data-frame\"><thead><tr><th></th><th>test_asset</th><th>α</th><th>stderror_α</th><th>t_α</th></tr></thead><tbody><tr><th>1</th><td>E_MKT</td><td>-0.084158</td><td>0.00957295</td><td>-8.79122</td></tr><tr><th>2</th><td>E_SMB</td><td>-0.0412104</td><td>0.0061533</td><td>-6.69729</td></tr><tr><th>3</th><td>E_HML</td><td>0.00865785</td><td>0.00485403</td><td>1.78364</td></tr><tr><th>4</th><td>E_RMW</td><td>0.153296</td><td>0.00344613</td><td>44.4834</td></tr><tr><th>5</th><td>E_CMA</td><td>-0.0152562</td><td>0.0035571</td><td>-4.28895</td></tr><tr><th>6</th><td>J_MKT</td><td>-0.37898</td><td>0.0474877</td><td>-7.98058</td></tr><tr><th>7</th><td>J_SMB</td><td>-0.0156652</td><td>0.0222042</td><td>-0.705505</td></tr><tr><th>8</th><td>J_HML</td><td>0.137443</td><td>0.0151016</td><td>9.1012</td></tr><tr><th>9</th><td>J_RMW</td><td>-0.157819</td><td>0.0100869</td><td>-15.646</td></tr><tr><th>10</th><td>J_CMA</td><td>-0.108423</td><td>0.0119172</td><td>-9.09804</td></tr><tr><th>11</th><td>A_MKT</td><td>0.176674</td><td>0.0345072</td><td>5.11992</td></tr><tr><th>12</th><td>A_SMB</td><td>-0.243803</td><td>0.0200272</td><td>-12.1736</td></tr><tr><th>13</th><td>A_HML</td><td>0.439966</td><td>0.0239012</td><td>18.4077</td></tr><tr><th>14</th><td>A_RMW</td><td>-0.0323076</td><td>0.019187</td><td>-1.68383</td></tr><tr><th>15</th><td>A_CMA</td><td>0.212932</td><td>0.0136274</td><td>15.6253</td></tr><tr><th>16</th><td>N_MKT</td><td>0.239182</td><td>0.00772856</td><td>30.9478</td></tr><tr><th>17</th><td>N_SMB</td><td>0.0251019</td><td>0.006971</td><td>3.60091</td></tr><tr><th>18</th><td>N_HML</td><td>-0.127778</td><td>0.00429301</td><td>-29.7641</td></tr><tr><th>19</th><td>N_RMW</td><td>-0.0344102</td><td>0.00327802</td><td>-10.4973</td></tr><tr><th>20</th><td>N_CMA</td><td>0.0263083</td><td>0.00373034</td><td>7.05251</td></tr></tbody></table>"
      ],
      "text/plain": [
       "20×4 DataFrames.DataFrame\n",
       "│ Row │ test_asset │ α          │ stderror_α │ t_α       │\n",
       "├─────┼────────────┼────────────┼────────────┼───────────┤\n",
       "│ 1   │ E_MKT      │ -0.084158  │ 0.00957295 │ -8.79122  │\n",
       "│ 2   │ E_SMB      │ -0.0412104 │ 0.0061533  │ -6.69729  │\n",
       "│ 3   │ E_HML      │ 0.00865785 │ 0.00485403 │ 1.78364   │\n",
       "│ 4   │ E_RMW      │ 0.153296   │ 0.00344613 │ 44.4834   │\n",
       "│ 5   │ E_CMA      │ -0.0152562 │ 0.0035571  │ -4.28895  │\n",
       "│ 6   │ J_MKT      │ -0.37898   │ 0.0474877  │ -7.98058  │\n",
       "│ 7   │ J_SMB      │ -0.0156652 │ 0.0222042  │ -0.705505 │\n",
       "│ 8   │ J_HML      │ 0.137443   │ 0.0151016  │ 9.1012    │\n",
       "│ 9   │ J_RMW      │ -0.157819  │ 0.0100869  │ -15.646   │\n",
       "│ 10  │ J_CMA      │ -0.108423  │ 0.0119172  │ -9.09804  │\n",
       "│ 11  │ A_MKT      │ 0.176674   │ 0.0345072  │ 5.11992   │\n",
       "│ 12  │ A_SMB      │ -0.243803  │ 0.0200272  │ -12.1736  │\n",
       "│ 13  │ A_HML      │ 0.439966   │ 0.0239012  │ 18.4077   │\n",
       "│ 14  │ A_RMW      │ -0.0323076 │ 0.019187   │ -1.68383  │\n",
       "│ 15  │ A_CMA      │ 0.212932   │ 0.0136274  │ 15.6253   │\n",
       "│ 16  │ N_MKT      │ 0.239182   │ 0.00772856 │ 30.9478   │\n",
       "│ 17  │ N_SMB      │ 0.0251019  │ 0.006971   │ 3.60091   │\n",
       "│ 18  │ N_HML      │ -0.127778  │ 0.00429301 │ -29.7641  │\n",
       "│ 19  │ N_RMW      │ -0.0344102 │ 0.00327802 │ -10.4973  │\n",
       "│ 20  │ N_CMA      │ 0.0263083  │ 0.00373034 │ 7.05251   │"
      ]
     },
     "execution_count": 300,
     "metadata": {},
     "output_type": "execute_result"
    }
   ],
   "source": [
    "β = Matrix(data_cross[:, 2:end])\n",
    "\n",
    "λhat = (β'*Σhat^-1*β)^-1 * β'*Σhat^-1*data_cross[:avg_ret]\n",
    "αhat = data_cross[:avg_ret] .- β * λhat\n",
    "σsq_λ = 1/T * (β'*Σhat^-1*β)^-1\n",
    "cov_α = 1/T * (Σhat - β*(β'*Σhat^-1*β)^(-1)*β')\n",
    "\n",
    "table = DataFrame(hcat(test_assets, αhat, diag(cov_α), αhat ./ diag(cov_α)))\n",
    "names!(table, [:test_asset, :α, :stderror_α, :t_α])"
   ]
  },
  {
   "cell_type": "markdown",
   "metadata": {},
   "source": [
    "The GLS regression residuals show some massive alphas. And the joint test without Shanken correction rejects clearly:"
   ]
  },
  {
   "cell_type": "code",
   "execution_count": 301,
   "metadata": {},
   "outputs": [
    {
     "data": {
      "text/plain": [
       "3.0877074230772905e-9"
      ]
     },
     "execution_count": 301,
     "metadata": {},
     "output_type": "execute_result"
    }
   ],
   "source": [
    "J = T * α'*Σhat^-1*α\n",
    "1-cdf(Chisq(N - 1), J)"
   ]
  },
  {
   "cell_type": "markdown",
   "metadata": {},
   "source": [
    "The Shanken corrected version rejects too:"
   ]
  },
  {
   "cell_type": "code",
   "execution_count": 309,
   "metadata": {},
   "outputs": [
    {
     "data": {
      "text/plain": [
       "8.110014933093712e-5"
      ]
     },
     "execution_count": 309,
     "metadata": {},
     "output_type": "execute_result"
    }
   ],
   "source": [
    "Σfhat = cov(Matrix(data_excess[[:G_MKT, :G_SMB, :G_HML, :G_RMW, :G_CMA]]))\n",
    "J = T * (1 + λhat'*Σfhat^-1*λhat) * αhat'*Σhat^-1*αhat\n",
    "1-cdf(Chisq(N - K), J)"
   ]
  },
  {
   "cell_type": "markdown",
   "metadata": {},
   "source": [
    "The Shanken correction alleviates the earlier raised issue of generated regressors. The rejection is less stark, because the uncertainty about the regressors widens the confidence intervals."
   ]
  },
  {
   "cell_type": "code",
   "execution_count": null,
   "metadata": {},
   "outputs": [],
   "source": []
  }
 ],
 "metadata": {
  "kernelspec": {
   "display_name": "Julia 0.6.2",
   "language": "julia",
   "name": "julia-0.6"
  },
  "language_info": {
   "file_extension": ".jl",
   "mimetype": "application/julia",
   "name": "julia",
   "version": "0.6.2"
  }
 },
 "nbformat": 4,
 "nbformat_minor": 2
}
