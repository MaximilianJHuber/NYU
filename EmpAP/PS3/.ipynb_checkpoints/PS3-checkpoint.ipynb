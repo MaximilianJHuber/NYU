{
 "cells": [
  {
   "cell_type": "markdown",
   "metadata": {},
   "source": [
    "# Empirical Asset Pricing - PS3\n",
    "\n",
    "Maximilian Huber\n",
    "\n",
    "## Task 1\n",
    "Let me load the data into an array of DataFrames:"
   ]
  },
  {
   "cell_type": "code",
   "execution_count": 36,
   "metadata": {
    "scrolled": true
   },
   "outputs": [],
   "source": [
    "using CSV, DataFrames, Distributions, Plots, GLM; gr();"
   ]
  },
  {
   "cell_type": "code",
   "execution_count": 37,
   "metadata": {},
   "outputs": [],
   "source": [
    "files = [\"Global\", \"Europe\", \"Japan\", \"Asia_Pacific_ex_Japan\", \"North_America\"]\n",
    "abbrev = ['G', 'E', 'J', 'A', 'N']\n",
    "\n",
    "data = [CSV.read(\"./Data/\" * file * \"_5_Factors.csv\", delim=',', \n",
    "        types=[Date, Float64, Float64, Float64, Float64, Float64, Float64], \n",
    "        dateformat = DateFormat(\"yyyymm\"), nullable=false) for file in files];"
   ]
  },
  {
   "cell_type": "code",
   "execution_count": 38,
   "metadata": {
    "scrolled": true
   },
   "outputs": [
    {
     "data": {
      "text/html": [
       "<table class=\"data-frame\"><thead><tr><th></th><th>Date</th><th>G_MKT</th><th>G_SMB</th><th>G_HML</th><th>G_RMW</th><th>G_CMA</th><th>G_RF</th><th>E_MKT</th><th>E_SMB</th><th>E_HML</th><th>E_RMW</th><th>E_CMA</th><th>E_RF</th><th>J_MKT</th><th>J_SMB</th><th>J_HML</th><th>J_RMW</th><th>J_CMA</th><th>J_RF</th><th>A_MKT</th><th>A_SMB</th><th>A_HML</th><th>A_RMW</th><th>A_CMA</th><th>A_RF</th><th>N_MKT</th><th>N_SMB</th><th>N_HML</th><th>N_RMW</th><th>N_CMA</th><th>N_RF</th></tr></thead><tbody><tr><th>1</th><td>1990-07-01</td><td>0.86</td><td>0.82</td><td>-0.25</td><td>0.17</td><td>1.56</td><td>0.68</td><td>4.52</td><td>0.41</td><td>-1.43</td><td>0.22</td><td>1.21</td><td>0.68</td><td>0.1</td><td>6.32</td><td>3.69</td><td>1.06</td><td>0.24</td><td>0.68</td><td>4.2</td><td>-2.93</td><td>-1.36</td><td>1.42</td><td>0.9</td><td>0.68</td><td>-1.51</td><td>-2.5</td><td>-0.9</td><td>0.53</td><td>2.59</td><td>0.68</td></tr><tr><th>2</th><td>1990-08-01</td><td>-10.82</td><td>-1.57</td><td>0.6</td><td>-0.22</td><td>0.99</td><td>0.66</td><td>-11.03</td><td>0.02</td><td>0.25</td><td>-1.06</td><td>1.46</td><td>0.66</td><td>-11.88</td><td>-5.0</td><td>0.26</td><td>1.28</td><td>-0.96</td><td>0.66</td><td>-8.68</td><td>3.76</td><td>1.71</td><td>1.12</td><td>0.67</td><td>0.66</td><td>-9.63</td><td>-2.56</td><td>0.49</td><td>-2.01</td><td>3.28</td><td>0.66</td></tr><tr><th>3</th><td>1990-09-01</td><td>-11.97</td><td>1.16</td><td>0.8</td><td>0.03</td><td>2.12</td><td>0.6</td><td>-12.28</td><td>1.71</td><td>0.84</td><td>-0.28</td><td>1.72</td><td>0.6</td><td>-17.38</td><td>0.67</td><td>-0.11</td><td>-1.29</td><td>-0.11</td><td>0.6</td><td>-8.8</td><td>3.7</td><td>-0.14</td><td>0.87</td><td>4.17</td><td>0.6</td><td>-6.02</td><td>-2.73</td><td>-0.13</td><td>1.28</td><td>4.23</td><td>0.6</td></tr><tr><th>4</th><td>1990-10-01</td><td>9.56</td><td>-7.58</td><td>-4.24</td><td>2.6</td><td>1.22</td><td>0.68</td><td>6.49</td><td>-2.61</td><td>-0.67</td><td>1.06</td><td>-0.79</td><td>0.68</td><td>24.9</td><td>0.8</td><td>-3.87</td><td>0.39</td><td>4.75</td><td>0.68</td><td>-1.95</td><td>-4.76</td><td>-1.52</td><td>0.17</td><td>-2.78</td><td>0.68</td><td>-2.0</td><td>-4.62</td><td>-1.67</td><td>4.18</td><td>0.87</td><td>0.68</td></tr><tr><th>5</th><td>1990-11-01</td><td>-3.86</td><td>1.37</td><td>1.14</td><td>1.47</td><td>-2.35</td><td>0.57</td><td>-0.43</td><td>-2.74</td><td>0.87</td><td>0.13</td><td>-0.47</td><td>0.57</td><td>-14.12</td><td>-5.34</td><td>-0.18</td><td>3.05</td><td>-2.18</td><td>0.57</td><td>-2.98</td><td>-1.59</td><td>-0.82</td><td>3.04</td><td>0.56</td><td>0.57</td><td>5.9</td><td>0.01</td><td>-1.42</td><td>0.26</td><td>-4.57</td><td>0.57</td></tr><tr><th>6</th><td>1990-12-01</td><td>1.1</td><td>-0.95</td><td>-1.6</td><td>1.17</td><td>-0.33</td><td>0.6</td><td>-1.55</td><td>0.93</td><td>0.0</td><td>0.92</td><td>0.27</td><td>0.6</td><td>1.93</td><td>-6.16</td><td>-3.65</td><td>0.85</td><td>1.87</td><td>0.6</td><td>-1.1</td><td>-2.77</td><td>-1.25</td><td>-0.19</td><td>-1.49</td><td>0.6</td><td>2.54</td><td>1.58</td><td>-0.92</td><td>1.24</td><td>-2.77</td><td>0.6</td></tr></tbody></table>"
      ],
      "text/plain": [
       "6×31 DataFrames.DataFrame\n",
       "│ Row │ Date       │ G_MKT  │ G_SMB │ G_HML │ G_RMW │ G_CMA │ G_RF │ E_MKT  │\n",
       "├─────┼────────────┼────────┼───────┼───────┼───────┼───────┼──────┼────────┤\n",
       "│ 1   │ 1990-07-01 │ 0.86   │ 0.82  │ -0.25 │ 0.17  │ 1.56  │ 0.68 │ 4.52   │\n",
       "│ 2   │ 1990-08-01 │ -10.82 │ -1.57 │ 0.6   │ -0.22 │ 0.99  │ 0.66 │ -11.03 │\n",
       "│ 3   │ 1990-09-01 │ -11.97 │ 1.16  │ 0.8   │ 0.03  │ 2.12  │ 0.6  │ -12.28 │\n",
       "│ 4   │ 1990-10-01 │ 9.56   │ -7.58 │ -4.24 │ 2.6   │ 1.22  │ 0.68 │ 6.49   │\n",
       "│ 5   │ 1990-11-01 │ -3.86  │ 1.37  │ 1.14  │ 1.47  │ -2.35 │ 0.57 │ -0.43  │\n",
       "│ 6   │ 1990-12-01 │ 1.1    │ -0.95 │ -1.6  │ 1.17  │ -0.33 │ 0.6  │ -1.55  │\n",
       "\n",
       "│ Row │ E_SMB │ E_HML │ E_RMW │ E_CMA │ E_RF │ J_MKT  │ J_SMB │ J_HML │ J_RMW │\n",
       "├─────┼───────┼───────┼───────┼───────┼──────┼────────┼───────┼───────┼───────┤\n",
       "│ 1   │ 0.41  │ -1.43 │ 0.22  │ 1.21  │ 0.68 │ 0.1    │ 6.32  │ 3.69  │ 1.06  │\n",
       "│ 2   │ 0.02  │ 0.25  │ -1.06 │ 1.46  │ 0.66 │ -11.88 │ -5.0  │ 0.26  │ 1.28  │\n",
       "│ 3   │ 1.71  │ 0.84  │ -0.28 │ 1.72  │ 0.6  │ -17.38 │ 0.67  │ -0.11 │ -1.29 │\n",
       "│ 4   │ -2.61 │ -0.67 │ 1.06  │ -0.79 │ 0.68 │ 24.9   │ 0.8   │ -3.87 │ 0.39  │\n",
       "│ 5   │ -2.74 │ 0.87  │ 0.13  │ -0.47 │ 0.57 │ -14.12 │ -5.34 │ -0.18 │ 3.05  │\n",
       "│ 6   │ 0.93  │ 0.0   │ 0.92  │ 0.27  │ 0.6  │ 1.93   │ -6.16 │ -3.65 │ 0.85  │\n",
       "\n",
       "│ Row │ J_CMA │ J_RF │ A_MKT │ A_SMB │ A_HML │ A_RMW │ A_CMA │ A_RF │ N_MKT │\n",
       "├─────┼───────┼──────┼───────┼───────┼───────┼───────┼───────┼──────┼───────┤\n",
       "│ 1   │ 0.24  │ 0.68 │ 4.2   │ -2.93 │ -1.36 │ 1.42  │ 0.9   │ 0.68 │ -1.51 │\n",
       "│ 2   │ -0.96 │ 0.66 │ -8.68 │ 3.76  │ 1.71  │ 1.12  │ 0.67  │ 0.66 │ -9.63 │\n",
       "│ 3   │ -0.11 │ 0.6  │ -8.8  │ 3.7   │ -0.14 │ 0.87  │ 4.17  │ 0.6  │ -6.02 │\n",
       "│ 4   │ 4.75  │ 0.68 │ -1.95 │ -4.76 │ -1.52 │ 0.17  │ -2.78 │ 0.68 │ -2.0  │\n",
       "│ 5   │ -2.18 │ 0.57 │ -2.98 │ -1.59 │ -0.82 │ 3.04  │ 0.56  │ 0.57 │ 5.9   │\n",
       "│ 6   │ 1.87  │ 0.6  │ -1.1  │ -2.77 │ -1.25 │ -0.19 │ -1.49 │ 0.6  │ 2.54  │\n",
       "\n",
       "│ Row │ N_SMB │ N_HML │ N_RMW │ N_CMA │ N_RF │\n",
       "├─────┼───────┼───────┼───────┼───────┼──────┤\n",
       "│ 1   │ -2.5  │ -0.9  │ 0.53  │ 2.59  │ 0.68 │\n",
       "│ 2   │ -2.56 │ 0.49  │ -2.01 │ 3.28  │ 0.66 │\n",
       "│ 3   │ -2.73 │ -0.13 │ 1.28  │ 4.23  │ 0.6  │\n",
       "│ 4   │ -4.62 │ -1.67 │ 4.18  │ 0.87  │ 0.68 │\n",
       "│ 5   │ 0.01  │ -1.42 │ 0.26  │ -4.57 │ 0.57 │\n",
       "│ 6   │ 1.58  │ -0.92 │ 1.24  │ -2.77 │ 0.6  │"
      ]
     },
     "execution_count": 38,
     "metadata": {},
     "output_type": "execute_result"
    }
   ],
   "source": [
    "factor_names = [:MKT, :SMB, :HML, :RMW, :CMA, :RF]\n",
    "data = DataFrame()\n",
    "input = DataFrame()\n",
    "\n",
    "for (i, file) in enumerate(files)\n",
    "    \n",
    "    input = CSV.read(\"./Data/\" * file * \"_5_Factors.csv\", delim=',', \n",
    "        types=[Date, Float64, Float64, Float64, Float64, Float64, Float64], \n",
    "        dateformat = DateFormat(\"yyyymm\"), nullable=false)\n",
    "    \n",
    "    names!(input, vcat(:Date, Symbol.(abbrev[i] .* '_' .* string.(factor_names))))\n",
    "    \n",
    "    data = hcat(data, input[:, 2:end])\n",
    "end\n",
    "\n",
    "data = hcat(input[[:Date]], data)\n",
    "head(data)"
   ]
  },
  {
   "cell_type": "markdown",
   "metadata": {},
   "source": [
    "### (a)\n",
    "The factors from Kenneth French's [website](http://mba.tuck.dartmouth.edu/pages/faculty/ken.french/data_library.html) are not excess returns, as described [here](http://mba.tuck.dartmouth.edu/pages/faculty/ken.french/Data_Library/f-f_factors.html). So I deduct the region interest rate from the four factors in each region. This mimics a strategy where exchange rate risk is hedged."
   ]
  },
  {
   "cell_type": "code",
   "execution_count": 39,
   "metadata": {},
   "outputs": [],
   "source": [
    "data_excess = copy(data)\n",
    "\n",
    "for (i, region) in enumerate(abbrev)\n",
    "    for factor in factor_names[2:end-1]\n",
    "        data_excess[Symbol(region * '_' * string(factor))] -= data_excess[Symbol(region * '_' * string(:RF))]\n",
    "    end\n",
    "end"
   ]
  },
  {
   "cell_type": "markdown",
   "metadata": {},
   "source": [
    "#### (i)\n",
    "Now I regress the returns of the 20 test assets on the five factor model:\n",
    "$$R_t^{ei}=\\alpha_i + \\beta'_i f_t + \\epsilon_t^i$$"
   ]
  },
  {
   "cell_type": "code",
   "execution_count": 40,
   "metadata": {
    "scrolled": false
   },
   "outputs": [
    {
     "data": {
      "text/html": [
       "<table class=\"data-frame\"><thead><tr><th></th><th>test_asset</th><th>α</th><th>stderr_α</th><th>t_α</th></tr></thead><tbody><tr><th>1</th><td>E_MKT</td><td>-0.05274060447165067</td><td>0.10339885546033872</td><td>-0.5100695190178453</td></tr><tr><th>2</th><td>E_SMB</td><td>-0.054285196976747246</td><td>0.08563725872594172</td><td>-0.6338969484120452</td></tr><tr><th>3</th><td>E_HML</td><td>-0.007416503361794208</td><td>0.07329320970433105</td><td>-0.1011895016156722</td></tr><tr><th>4</th><td>E_RMW</td><td>0.13524691276702366</td><td>0.06193638513050063</td><td>2.183642336924523</td></tr><tr><th>5</th><td>E_CMA</td><td>-0.03261461996652291</td><td>0.062443550024912454</td><td>-0.5223056657334664</td></tr><tr><th>6</th><td>J_MKT</td><td>-0.3384677432730287</td><td>0.22644802508639722</td><td>-1.4946818067584928</td></tr><tr><th>7</th><td>J_SMB</td><td>-0.034231083735869805</td><td>0.1554557709240205</td><td>-0.2201982180037585</td></tr><tr><th>8</th><td>J_HML</td><td>0.11539425697122056</td><td>0.12705131271018943</td><td>0.9082492302495196</td></tr><tr><th>9</th><td>J_RMW</td><td>-0.17248641012120192</td><td>0.1040721220505061</td><td>-1.6573738165682297</td></tr><tr><th>10</th><td>J_CMA</td><td>-0.1078447569419012</td><td>0.11338016298506981</td><td>-0.9511783552128291</td></tr><tr><th>11</th><td>A_MKT</td><td>0.20917188803940065</td><td>0.19118560430283066</td><td>1.094077604860251</td></tr><tr><th>12</th><td>A_SMB</td><td>-0.24852589505155576</td><td>0.1474073414461894</td><td>-1.6859804444833528</td></tr><tr><th>13</th><td>A_HML</td><td>0.4394750382067659</td><td>0.15893488190975666</td><td>2.765126402247558</td></tr><tr><th>14</th><td>A_RMW</td><td>-0.050765805221809276</td><td>0.1424087391020838</td><td>-0.3564795639782927</td></tr><tr><th>15</th><td>A_CMA</td><td>0.20615555580093026</td><td>0.12056280868265742</td><td>1.7099432076401608</td></tr><tr><th>16</th><td>N_MKT</td><td>0.2829054494621239</td><td>0.09344106391131884</td><td>3.0276351490455857</td></tr><tr><th>17</th><td>N_SMB</td><td>0.032755318348602507</td><td>0.09167450901974414</td><td>0.3573001775395156</td></tr><tr><th>18</th><td>N_HML</td><td>-0.17068160535839855</td><td>0.07064262397061745</td><td>-2.41612776769717</td></tr><tr><th>19</th><td>N_RMW</td><td>-0.08770596514137884</td><td>0.06291972551234261</td><td>-1.3939343254791225</td></tr><tr><th>20</th><td>N_CMA</td><td>-0.0034008100148423094</td><td>0.06573994833809167</td><td>-0.05173125475171357</td></tr></tbody></table>"
      ],
      "text/plain": [
       "20×4 DataFrames.DataFrame\n",
       "│ Row │ test_asset │ α           │ stderr_α  │ t_α        │\n",
       "├─────┼────────────┼─────────────┼───────────┼────────────┤\n",
       "│ 1   │ E_MKT      │ -0.0527406  │ 0.103399  │ -0.51007   │\n",
       "│ 2   │ E_SMB      │ -0.0542852  │ 0.0856373 │ -0.633897  │\n",
       "│ 3   │ E_HML      │ -0.0074165  │ 0.0732932 │ -0.10119   │\n",
       "│ 4   │ E_RMW      │ 0.135247    │ 0.0619364 │ 2.18364    │\n",
       "│ 5   │ E_CMA      │ -0.0326146  │ 0.0624436 │ -0.522306  │\n",
       "│ 6   │ J_MKT      │ -0.338468   │ 0.226448  │ -1.49468   │\n",
       "│ 7   │ J_SMB      │ -0.0342311  │ 0.155456  │ -0.220198  │\n",
       "│ 8   │ J_HML      │ 0.115394    │ 0.127051  │ 0.908249   │\n",
       "│ 9   │ J_RMW      │ -0.172486   │ 0.104072  │ -1.65737   │\n",
       "│ 10  │ J_CMA      │ -0.107845   │ 0.11338   │ -0.951178  │\n",
       "│ 11  │ A_MKT      │ 0.209172    │ 0.191186  │ 1.09408    │\n",
       "│ 12  │ A_SMB      │ -0.248526   │ 0.147407  │ -1.68598   │\n",
       "│ 13  │ A_HML      │ 0.439475    │ 0.158935  │ 2.76513    │\n",
       "│ 14  │ A_RMW      │ -0.0507658  │ 0.142409  │ -0.35648   │\n",
       "│ 15  │ A_CMA      │ 0.206156    │ 0.120563  │ 1.70994    │\n",
       "│ 16  │ N_MKT      │ 0.282905    │ 0.0934411 │ 3.02764    │\n",
       "│ 17  │ N_SMB      │ 0.0327553   │ 0.0916745 │ 0.3573     │\n",
       "│ 18  │ N_HML      │ -0.170682   │ 0.0706426 │ -2.41613   │\n",
       "│ 19  │ N_RMW      │ -0.087706   │ 0.0629197 │ -1.39393   │\n",
       "│ 20  │ N_CMA      │ -0.00340081 │ 0.0657399 │ -0.0517313 │"
      ]
     },
     "execution_count": 40,
     "metadata": {},
     "output_type": "execute_result"
    }
   ],
   "source": [
    "test_assets = Symbol.([region * '_' * string(factor) for factor in factor_names[1:end-1], region in abbrev[2:end]][:])\n",
    "\n",
    "function run_regression(field)\n",
    "    formula = @formula($(field) ~ G_MKT + G_SMB + G_HML + G_RMW + G_CMA)\n",
    "    model = lm(formula, data_excess)\n",
    "    return DataFrame(hcat(field, coef(model)[1], stderr(model)[1], coef(model)[1]/stderr(model)[1], model))\n",
    "end\n",
    "\n",
    "table = vcat(run_regression.(test_assets)...)\n",
    "names!(table, [:test_asset, :α, :stderr_α, :t_α, :model])\n",
    "table[[:test_asset, :α, :stderr_α, :t_α]]"
   ]
  },
  {
   "cell_type": "markdown",
   "metadata": {},
   "source": [
    "The question is whether a model of global risk factors is sufficient, or there are regional differences. If the former were true, there should be no significant alphas. But there are quite a few. For example, the European profitability factor has a highly positive alpha, indicating that there is an unexplained component of risk.\n",
    "#### (ii)"
   ]
  },
  {
   "cell_type": "code",
   "execution_count": 41,
   "metadata": {},
   "outputs": [
    {
     "data": {
      "text/plain": [
       "2.6894189576509064"
      ]
     },
     "execution_count": 41,
     "metadata": {},
     "output_type": "execute_result"
    }
   ],
   "source": [
    "gl_factor_names = [:G_MKT, :G_SMB, :G_HML, :G_RMW, :G_CMA]\n",
    "\n",
    "T = size(data_excess, 1)\n",
    "N = 20\n",
    "K = 5\n",
    "Ωhat = cov(Matrix(data_excess[gl_factor_names])) * (T-1) / T\n",
    "Σhat = cov(hcat([residuals(table[:model][i]) for (i, asset) in enumerate(test_assets)]...))\n",
    "\n",
    "F = ((T - N - K)/N * \n",
    "    (1 + mean(Matrix(data_excess[gl_factor_names]), 1) * Ωhat^-1 * mean(Matrix(data_excess[gl_factor_names]), 1)')^(-1) *\n",
    "    table[:α]' * Σhat^-1 * table[:α])[1]"
   ]
  },
  {
   "cell_type": "code",
   "execution_count": 42,
   "metadata": {},
   "outputs": [
    {
     "data": {
      "text/plain": [
       "20×20 Array{Float64,2}:\n",
       "  3.35236    -0.275107     0.266992   …  -0.0741044   -0.466731    0.526357 \n",
       " -0.275107    2.29956     -0.0568875      0.351297    -0.0354403   0.0906464\n",
       "  0.266992   -0.0568875    1.6844        -0.836264     0.391716   -0.299323 \n",
       " -0.279696   -0.267391    -0.744031       0.268297    -0.45946     0.0817957\n",
       " -0.221894   -0.220436     0.524989      -0.515375     0.165598   -0.702777 \n",
       " -3.07408     0.759712    -0.202249   …  -0.358532     1.18144    -0.723059 \n",
       " -0.827339   -0.15525      0.342935      -0.510536     0.556562   -0.645266 \n",
       " -0.197058    0.0870831   -0.534456      -1.22348      0.157795   -0.798429 \n",
       "  0.732467   -0.0495245    0.183722       0.314644    -0.976024    0.724148 \n",
       " -0.428955   -0.00696507  -0.244895      -0.614252     0.617787   -1.31399  \n",
       "  0.142322   -0.758483    -0.295289   …  -0.302268     0.388499    0.28283  \n",
       " -0.267575    0.941168    -0.244362       0.32537      0.0404561   0.0748535\n",
       " -0.871485   -0.408756    -0.34289       -0.623701     0.43538    -0.0829448\n",
       "  0.343224   -0.217711     0.698481       0.00259545  -0.643632    0.0340452\n",
       " -0.560224    0.148905    -0.193789       0.0551271   -0.0243912  -0.417266 \n",
       " -0.699209   -0.570554    -0.164907   …   0.0339792   -0.223492   -0.0893226\n",
       " -0.180707   -1.06011      0.144239       0.130725    -0.0469344   0.0700981\n",
       " -0.0741044   0.351297    -0.836264       1.56478     -0.372517    0.698226 \n",
       " -0.466731   -0.0354403    0.391716      -0.372517     1.24134    -0.386963 \n",
       "  0.526357    0.0906464   -0.299323       0.698226    -0.386963    1.35512  "
      ]
     },
     "execution_count": 42,
     "metadata": {},
     "output_type": "execute_result"
    }
   ],
   "source": [
    "Σhat"
   ]
  },
  {
   "cell_type": "markdown",
   "metadata": {},
   "source": [
    "Its p-value is:"
   ]
  },
  {
   "cell_type": "code",
   "execution_count": 43,
   "metadata": {},
   "outputs": [
    {
     "data": {
      "text/plain": [
       "0.00015880338622564771"
      ]
     },
     "execution_count": 43,
     "metadata": {},
     "output_type": "execute_result"
    }
   ],
   "source": [
    "1-cdf(FDist(N, T-N-1), F)"
   ]
  },
  {
   "cell_type": "markdown",
   "metadata": {},
   "source": [
    "This is a very strong rejection of the proposed global risk factor model.\n",
    "### (b)\n",
    "I run the cross-sectional regression by GLS:\n",
    "$$E_T(R^{ei}) = \\alpha_i + \\lambda' \\beta_i + \\epsilon_i$$\n",
    "Let me retrieve the betas and calculate the left hand side:"
   ]
  },
  {
   "cell_type": "code",
   "execution_count": 44,
   "metadata": {
    "scrolled": true
   },
   "outputs": [
    {
     "data": {
      "text/html": [
       "<table class=\"data-frame\"><thead><tr><th></th><th>avg_ret</th><th>β_G_MKT</th><th>β_G_SMB</th><th>β_G_HML</th><th>β_G_RMW</th><th>β_G_CMA</th></tr></thead><tbody><tr><th>1</th><td>0.5134545454545455</td><td>1.0842578172931454</td><td>0.09249750667767873</td><td>0.2566013153412476</td><td>0.25023285962955616</td><td>-0.18887489145680866</td></tr><tr><th>2</th><td>-0.14500000000000005</td><td>-0.03841414632406213</td><td>0.8033251196765424</td><td>-0.027985407471655278</td><td>0.07894559812495214</td><td>0.09187224297125082</td></tr><tr><th>3</th><td>0.11763636363636362</td><td>0.1091392044165728</td><td>-0.033636436464264424</td><td>0.9253070074358313</td><td>-0.11475874857864901</td><td>-0.0739903854445199</td></tr><tr><th>4</th><td>0.17363636363636362</td><td>0.00048588070338435836</td><td>0.15715382501703798</td><td>-0.32577598482706827</td><td>0.6698006363771443</td><td>0.09740189713808299</td></tr><tr><th>5</th><td>-0.00966666666666668</td><td>-0.0057211266442854045</td><td>0.030125159537678695</td><td>0.08457568789709421</td><td>0.0686101151577334</td><td>0.6812791046769924</td></tr><tr><th>6</th><td>0.09787878787878784</td><td>1.0462171512873686</td><td>0.35239761807519526</td><td>-0.5461372449064847</td><td>-0.017634413479516248</td><td>0.9141647651584093</td></tr></tbody></table>"
      ],
      "text/plain": [
       "6×6 DataFrames.DataFrame\n",
       "│ Row │ avg_ret     │ β_G_MKT     │ β_G_SMB    │ β_G_HML    │ β_G_RMW    │\n",
       "├─────┼─────────────┼─────────────┼────────────┼────────────┼────────────┤\n",
       "│ 1   │ 0.513455    │ 1.08426     │ 0.0924975  │ 0.256601   │ 0.250233   │\n",
       "│ 2   │ -0.145      │ -0.0384141  │ 0.803325   │ -0.0279854 │ 0.0789456  │\n",
       "│ 3   │ 0.117636    │ 0.109139    │ -0.0336364 │ 0.925307   │ -0.114759  │\n",
       "│ 4   │ 0.173636    │ 0.000485881 │ 0.157154   │ -0.325776  │ 0.669801   │\n",
       "│ 5   │ -0.00966667 │ -0.00572113 │ 0.0301252  │ 0.0845757  │ 0.0686101  │\n",
       "│ 6   │ 0.0978788   │ 1.04622     │ 0.352398   │ -0.546137  │ -0.0176344 │\n",
       "\n",
       "│ Row │ β_G_CMA    │\n",
       "├─────┼────────────┤\n",
       "│ 1   │ -0.188875  │\n",
       "│ 2   │ 0.0918722  │\n",
       "│ 3   │ -0.0739904 │\n",
       "│ 4   │ 0.0974019  │\n",
       "│ 5   │ 0.681279   │\n",
       "│ 6   │ 0.914165   │"
      ]
     },
     "execution_count": 44,
     "metadata": {},
     "output_type": "execute_result"
    }
   ],
   "source": [
    "data_cross = DataFrame(vcat(mean(Matrix(data_excess[test_assets]), 1), hcat([coef(table[:model][i])[2:end] for (i, asset) in enumerate(test_assets)]...))')\n",
    "names!(data_cross, vcat(:avg_ret, Symbol.(\"β_\" .* string.(gl_factor_names))))\n",
    "\n",
    "head(data_cross)"
   ]
  },
  {
   "cell_type": "code",
   "execution_count": 45,
   "metadata": {},
   "outputs": [
    {
     "data": {
      "text/html": [
       "<table class=\"data-frame\"><thead><tr><th></th><th>test_asset</th><th>α</th><th>stderror_α</th><th>t_α</th></tr></thead><tbody><tr><th>1</th><td>E_MKT</td><td>-0.08415795893353606</td><td>0.009572954148988204</td><td>-8.791221353800278</td></tr><tr><th>2</th><td>E_SMB</td><td>-0.04121039404504796</td><td>0.006153297116228745</td><td>-6.6972865549364435</td></tr><tr><th>3</th><td>E_HML</td><td>0.008657852471561492</td><td>0.004854025293076203</td><td>1.7836438726248667</td></tr><tr><th>4</th><td>E_RMW</td><td>0.1532956988833567</td><td>0.0034461307069628675</td><td>44.48342559196159</td></tr><tr><th>5</th><td>E_CMA</td><td>-0.01525620029494884</td><td>0.003557096943674667</td><td>-4.288947008340005</td></tr><tr><th>6</th><td>J_MKT</td><td>-0.37897976528702887</td><td>0.04748774533503</td><td>-7.980580307894069</td></tr><tr><th>7</th><td>J_SMB</td><td>-0.01566518444334146</td><td>0.022204206464889197</td><td>-0.7055052594701962</td></tr><tr><th>8</th><td>J_HML</td><td>0.13744268207205484</td><td>0.01510160081869342</td><td>9.10119951667126</td></tr><tr><th>9</th><td>J_RMW</td><td>-0.15781921877461558</td><td>0.01008686580509292</td><td>-15.64601153858235</td></tr><tr><th>10</th><td>J_CMA</td><td>-0.10842303340528299</td><td>0.011917186972716796</td><td>-9.098039130669566</td></tr><tr><th>11</th><td>A_MKT</td><td>0.17667438305198624</td><td>0.03450722705959766</td><td>5.119924088564136</td></tr><tr><th>12</th><td>A_SMB</td><td>-0.24380344874229987</td><td>0.02002715436638847</td><td>-12.173644057563898</td></tr><tr><th>13</th><td>A_HML</td><td>0.43996633341858576</td><td>0.023901198433883664</td><td>18.407710167154846</td></tr><tr><th>14</th><td>A_RMW</td><td>-0.03230758625529308</td><td>0.019187018479509044</td><td>-1.6838252535064928</td></tr><tr><th>15</th><td>A_CMA</td><td>0.21293230363027096</td><td>0.013627399058821321</td><td>15.625307713612093</td></tr><tr><th>16</th><td>N_MKT</td><td>0.23918200540610113</td><td>0.007728559182740177</td><td>30.9478131370534</td></tr><tr><th>17</th><td>N_SMB</td><td>0.025101916228388352</td><td>0.006971000323868638</td><td>3.6009059047723224</td></tr><tr><th>18</th><td>N_HML</td><td>-0.1277777937511917</td><td>0.004293012479096991</td><td>-29.764132849217567</td></tr><tr><th>19</th><td>N_RMW</td><td>-0.034410237566794316</td><td>0.0032780164020394993</td><td>-10.497274371594093</td></tr><tr><th>20</th><td>N_CMA</td><td>0.026308270892353828</td><td>0.0037303405727455033</td><td>7.052511795991628</td></tr></tbody></table>"
      ],
      "text/plain": [
       "20×4 DataFrames.DataFrame\n",
       "│ Row │ test_asset │ α          │ stderror_α │ t_α       │\n",
       "├─────┼────────────┼────────────┼────────────┼───────────┤\n",
       "│ 1   │ E_MKT      │ -0.084158  │ 0.00957295 │ -8.79122  │\n",
       "│ 2   │ E_SMB      │ -0.0412104 │ 0.0061533  │ -6.69729  │\n",
       "│ 3   │ E_HML      │ 0.00865785 │ 0.00485403 │ 1.78364   │\n",
       "│ 4   │ E_RMW      │ 0.153296   │ 0.00344613 │ 44.4834   │\n",
       "│ 5   │ E_CMA      │ -0.0152562 │ 0.0035571  │ -4.28895  │\n",
       "│ 6   │ J_MKT      │ -0.37898   │ 0.0474877  │ -7.98058  │\n",
       "│ 7   │ J_SMB      │ -0.0156652 │ 0.0222042  │ -0.705505 │\n",
       "│ 8   │ J_HML      │ 0.137443   │ 0.0151016  │ 9.1012    │\n",
       "│ 9   │ J_RMW      │ -0.157819  │ 0.0100869  │ -15.646   │\n",
       "│ 10  │ J_CMA      │ -0.108423  │ 0.0119172  │ -9.09804  │\n",
       "│ 11  │ A_MKT      │ 0.176674   │ 0.0345072  │ 5.11992   │\n",
       "│ 12  │ A_SMB      │ -0.243803  │ 0.0200272  │ -12.1736  │\n",
       "│ 13  │ A_HML      │ 0.439966   │ 0.0239012  │ 18.4077   │\n",
       "│ 14  │ A_RMW      │ -0.0323076 │ 0.019187   │ -1.68383  │\n",
       "│ 15  │ A_CMA      │ 0.212932   │ 0.0136274  │ 15.6253   │\n",
       "│ 16  │ N_MKT      │ 0.239182   │ 0.00772856 │ 30.9478   │\n",
       "│ 17  │ N_SMB      │ 0.0251019  │ 0.006971   │ 3.60091   │\n",
       "│ 18  │ N_HML      │ -0.127778  │ 0.00429301 │ -29.7641  │\n",
       "│ 19  │ N_RMW      │ -0.0344102 │ 0.00327802 │ -10.4973  │\n",
       "│ 20  │ N_CMA      │ 0.0263083  │ 0.00373034 │ 7.05251   │"
      ]
     },
     "execution_count": 45,
     "metadata": {},
     "output_type": "execute_result"
    }
   ],
   "source": [
    "β = Matrix(data_cross[:, 2:end])\n",
    "\n",
    "λhat = (β'*Σhat^-1*β)^-1 * β'*Σhat^-1*data_cross[:avg_ret]\n",
    "αhat = data_cross[:avg_ret] .- β * λhat\n",
    "σsq_λ = 1/T * (β'*Σhat^-1*β)^-1\n",
    "cov_α = 1/T * (Σhat - β*(β'*Σhat^-1*β)^(-1)*β')\n",
    "\n",
    "table = DataFrame(hcat(test_assets, αhat, diag(cov_α), αhat ./ diag(cov_α)))\n",
    "names!(table, [:test_asset, :α, :stderror_α, :t_α])"
   ]
  },
  {
   "cell_type": "markdown",
   "metadata": {},
   "source": [
    "The GLS regression residuals show some massive alphas. And the joint test without Shanken correction rejects clearly:"
   ]
  },
  {
   "cell_type": "code",
   "execution_count": 46,
   "metadata": {},
   "outputs": [
    {
     "ename": "LoadError",
     "evalue": "\u001b[91mUndefVarError: α not defined\u001b[39m",
     "output_type": "error",
     "traceback": [
      "\u001b[91mUndefVarError: α not defined\u001b[39m",
      "",
      "Stacktrace:",
      " [1] \u001b[1minclude_string\u001b[22m\u001b[22m\u001b[1m(\u001b[22m\u001b[22m::String, ::String\u001b[1m)\u001b[22m\u001b[22m at \u001b[1m.\\loading.jl:522\u001b[22m\u001b[22m"
     ]
    }
   ],
   "source": [
    "J = T * α'*Σhat^-1*α\n",
    "1-cdf(Chisq(N - 1), J)"
   ]
  },
  {
   "cell_type": "markdown",
   "metadata": {},
   "source": [
    "The Shanken corrected version rejects too:"
   ]
  },
  {
   "cell_type": "code",
   "execution_count": 47,
   "metadata": {},
   "outputs": [
    {
     "data": {
      "text/plain": [
       "8.110014933093712e-5"
      ]
     },
     "execution_count": 47,
     "metadata": {},
     "output_type": "execute_result"
    }
   ],
   "source": [
    "Σfhat = cov(Matrix(data_excess[[:G_MKT, :G_SMB, :G_HML, :G_RMW, :G_CMA]]))\n",
    "J = T * (1 + λhat'*Σfhat^-1*λhat) * αhat'*Σhat^-1*αhat\n",
    "1-cdf(Chisq(N - K), J)"
   ]
  },
  {
   "cell_type": "markdown",
   "metadata": {},
   "source": [
    "The Shanken correction alleviates the earlier raised issue of generated regressors. The rejection is less stark, because the uncertainty about the regressors widens the confidence intervals."
   ]
  },
  {
   "cell_type": "markdown",
   "metadata": {},
   "source": [
    "## Task 2\n",
    "### (a)"
   ]
  },
  {
   "cell_type": "code",
   "execution_count": 63,
   "metadata": {},
   "outputs": [
    {
     "data": {
      "text/html": [
       "<table class=\"data-frame\"><thead><tr><th></th><th>Quarter</th><th>HKM</th><th>AEM</th></tr></thead><tbody><tr><th>1</th><td>19901</td><td>-0.1159</td><td>-0.2433</td></tr><tr><th>2</th><td>19902</td><td>0.0165</td><td>-0.5813</td></tr><tr><th>3</th><td>19903</td><td>-0.2885</td><td>6.5486</td></tr><tr><th>4</th><td>19904</td><td>0.0853</td><td>12.8321</td></tr><tr><th>5</th><td>19911</td><td>0.1695</td><td>4.2417</td></tr><tr><th>6</th><td>19912</td><td>-0.0457</td><td>7.6165</td></tr><tr><th>7</th><td>19913</td><td>0.0982</td><td>14.9952</td></tr><tr><th>8</th><td>19914</td><td>-0.0385</td><td>-1.9547</td></tr><tr><th>9</th><td>19921</td><td>0.1302</td><td>2.7868</td></tr><tr><th>10</th><td>19922</td><td>0.0335</td><td>-1.5409</td></tr><tr><th>11</th><td>19923</td><td>-0.0586</td><td>14.9043</td></tr><tr><th>12</th><td>19924</td><td>0.2094</td><td>-16.5824</td></tr><tr><th>13</th><td>19931</td><td>0.0582</td><td>26.9504</td></tr><tr><th>14</th><td>19932</td><td>0.0337</td><td>20.0101</td></tr><tr><th>15</th><td>19933</td><td>0.0869</td><td>3.6037</td></tr><tr><th>16</th><td>19934</td><td>-0.0468</td><td>21.3066</td></tr><tr><th>17</th><td>19941</td><td>-0.1056</td><td>6.1528</td></tr><tr><th>18</th><td>19942</td><td>0.0252</td><td>6.3607</td></tr><tr><th>19</th><td>19943</td><td>-0.0233</td><td>3.4352</td></tr><tr><th>20</th><td>19944</td><td>-0.0434</td><td>-51.7603</td></tr><tr><th>21</th><td>19951</td><td>0.0478</td><td>7.8252</td></tr><tr><th>22</th><td>19952</td><td>0.1026</td><td>4.5299</td></tr><tr><th>23</th><td>19953</td><td>0.1671</td><td>1.0249</td></tr><tr><th>24</th><td>19954</td><td>-0.0421</td><td>9.1596</td></tr><tr><th>25</th><td>19961</td><td>0.1067</td><td>4.6933</td></tr><tr><th>26</th><td>19962</td><td>-0.0107</td><td>0.6284</td></tr><tr><th>27</th><td>19963</td><td>0.0857</td><td>2.9904</td></tr><tr><th>28</th><td>19964</td><td>0.104</td><td>3.4066</td></tr><tr><th>29</th><td>19971</td><td>0.014</td><td>4.8855</td></tr><tr><th>30</th><td>19972</td><td>0.1206</td><td>6.4663</td></tr><tr><th>&vellip;</th><td>&vellip;</td><td>&vellip;</td><td>&vellip;</td></tr></tbody></table>"
      ],
      "text/plain": [
       "80×3 DataFrames.DataFrame\n",
       "│ Row │ Quarter │ HKM     │ AEM      │\n",
       "├─────┼─────────┼─────────┼──────────┤\n",
       "│ 1   │ 19901   │ -0.1159 │ -0.2433  │\n",
       "│ 2   │ 19902   │ 0.0165  │ -0.5813  │\n",
       "│ 3   │ 19903   │ -0.2885 │ 6.5486   │\n",
       "│ 4   │ 19904   │ 0.0853  │ 12.8321  │\n",
       "│ 5   │ 19911   │ 0.1695  │ 4.2417   │\n",
       "│ 6   │ 19912   │ -0.0457 │ 7.6165   │\n",
       "│ 7   │ 19913   │ 0.0982  │ 14.9952  │\n",
       "│ 8   │ 19914   │ -0.0385 │ -1.9547  │\n",
       "│ 9   │ 19921   │ 0.1302  │ 2.7868   │\n",
       "│ 10  │ 19922   │ 0.0335  │ -1.5409  │\n",
       "│ 11  │ 19923   │ -0.0586 │ 14.9043  │\n",
       "⋮\n",
       "│ 69  │ 20071   │ -0.1249 │ 4.7418   │\n",
       "│ 70  │ 20072   │ 0.0097  │ 1.9538   │\n",
       "│ 71  │ 20073   │ -0.0756 │ 5.2844   │\n",
       "│ 72  │ 20074   │ -0.1136 │ 9.8279   │\n",
       "│ 73  │ 20081   │ -0.2178 │ 26.0233  │\n",
       "│ 74  │ 20082   │ -0.1274 │ -7.3286  │\n",
       "│ 75  │ 20083   │ 0.0967  │ 33.9106  │\n",
       "│ 76  │ 20084   │ -0.4368 │ -59.9883 │\n",
       "│ 77  │ 20091   │ -0.0516 │ -15.8268 │\n",
       "│ 78  │ 20092   │ 0.4454  │ -28.5809 │\n",
       "│ 79  │ 20093   │ 0.2685  │ -6.3022  │\n",
       "│ 80  │ 20094   │ -0.037  │ -4.8888  │"
      ]
     },
     "execution_count": 63,
     "metadata": {},
     "output_type": "execute_result"
    }
   ],
   "source": [
    "AEM_data = CSV.read(\"./Data/AEM_data.csv\", delim=',', \n",
    "        types=[Int64, Float64], nullable=false)\n",
    "names!(AEM_data, [:Quarter, :AEM])\n",
    "\n",
    "HKM_data = CSV.read(\"./Data/HKM_data.csv\", delim=',', \n",
    "        types=[Int64, Float64], nullable=false)\n",
    "names!(HKM_data, [:Quarter, :HKM])\n",
    "\n",
    "data_quarterly = copy(HKM_data[1:end-31, :])\n",
    "data_quarterly[:AEM] = AEM_data[9:end, :AEM]\n",
    "data_quarterly = data_quarterly[1+4*20:end, :]"
   ]
  },
  {
   "cell_type": "code",
   "execution_count": 64,
   "metadata": {},
   "outputs": [
    {
     "data": {
      "text/html": [
       "<table class=\"data-frame\"><thead><tr><th></th><th>Date</th><th>G_MKT</th><th>G_SMB</th><th>G_HML</th><th>G_RMW</th><th>G_CMA</th><th>G_RF</th><th>E_MKT</th><th>E_SMB</th><th>E_HML</th><th>E_RMW</th><th>E_CMA</th><th>E_RF</th><th>J_MKT</th><th>J_SMB</th><th>J_HML</th><th>J_RMW</th><th>J_CMA</th><th>J_RF</th><th>A_MKT</th><th>A_SMB</th><th>A_HML</th><th>A_RMW</th><th>A_CMA</th><th>A_RF</th><th>N_MKT</th><th>N_SMB</th><th>N_HML</th><th>N_RMW</th><th>N_CMA</th><th>N_RF</th><th>year</th><th>month</th><th>quarter</th></tr></thead><tbody><tr><th>1</th><td>1990-07-01</td><td>0.86</td><td>0.1399999999999999</td><td>-0.93</td><td>-0.51</td><td>0.88</td><td>0.68</td><td>4.52</td><td>-0.2700000000000001</td><td>-2.11</td><td>-0.4600000000000001</td><td>0.5299999999999999</td><td>0.68</td><td>0.1</td><td>5.640000000000001</td><td>3.01</td><td>0.38</td><td>-0.44000000000000006</td><td>0.68</td><td>4.2</td><td>-3.6100000000000003</td><td>-2.04</td><td>0.7399999999999999</td><td>0.21999999999999997</td><td>0.68</td><td>-1.51</td><td>-3.18</td><td>-1.58</td><td>-0.15000000000000002</td><td>1.9099999999999997</td><td>0.68</td><td>1990</td><td>7</td><td>3</td></tr><tr><th>2</th><td>1990-08-01</td><td>-10.82</td><td>-2.23</td><td>-0.06000000000000005</td><td>-0.88</td><td>0.32999999999999996</td><td>0.66</td><td>-11.03</td><td>-0.64</td><td>-0.41000000000000003</td><td>-1.7200000000000002</td><td>0.7999999999999999</td><td>0.66</td><td>-11.88</td><td>-5.66</td><td>-0.4</td><td>0.62</td><td>-1.62</td><td>0.66</td><td>-8.68</td><td>3.0999999999999996</td><td>1.0499999999999998</td><td>0.4600000000000001</td><td>0.010000000000000009</td><td>0.66</td><td>-9.63</td><td>-3.22</td><td>-0.17000000000000004</td><td>-2.67</td><td>2.6199999999999997</td><td>0.66</td><td>1990</td><td>8</td><td>3</td></tr><tr><th>3</th><td>1990-09-01</td><td>-11.97</td><td>0.5599999999999999</td><td>0.20000000000000007</td><td>-0.57</td><td>1.52</td><td>0.6</td><td>-12.28</td><td>1.1099999999999999</td><td>0.24</td><td>-0.88</td><td>1.12</td><td>0.6</td><td>-17.38</td><td>0.07000000000000006</td><td>-0.71</td><td>-1.8900000000000001</td><td>-0.71</td><td>0.6</td><td>-8.8</td><td>3.1</td><td>-0.74</td><td>0.27</td><td>3.57</td><td>0.6</td><td>-6.02</td><td>-3.33</td><td>-0.73</td><td>0.68</td><td>3.6300000000000003</td><td>0.6</td><td>1990</td><td>9</td><td>3</td></tr><tr><th>4</th><td>1990-10-01</td><td>9.56</td><td>-8.26</td><td>-4.92</td><td>1.92</td><td>0.5399999999999999</td><td>0.68</td><td>6.49</td><td>-3.29</td><td>-1.35</td><td>0.38</td><td>-1.4700000000000002</td><td>0.68</td><td>24.9</td><td>0.12</td><td>-4.55</td><td>-0.29000000000000004</td><td>4.07</td><td>0.68</td><td>-1.95</td><td>-5.4399999999999995</td><td>-2.2</td><td>-0.51</td><td>-3.46</td><td>0.68</td><td>-2.0</td><td>-5.3</td><td>-2.35</td><td>3.4999999999999996</td><td>0.18999999999999995</td><td>0.68</td><td>1990</td><td>10</td><td>4</td></tr><tr><th>5</th><td>1990-11-01</td><td>-3.86</td><td>0.8000000000000002</td><td>0.57</td><td>0.9</td><td>-2.92</td><td>0.57</td><td>-0.43</td><td>-3.31</td><td>0.30000000000000004</td><td>-0.43999999999999995</td><td>-1.04</td><td>0.57</td><td>-14.12</td><td>-5.91</td><td>-0.75</td><td>2.48</td><td>-2.75</td><td>0.57</td><td>-2.98</td><td>-2.16</td><td>-1.39</td><td>2.47</td><td>-0.009999999999999898</td><td>0.57</td><td>5.9</td><td>-0.5599999999999999</td><td>-1.9899999999999998</td><td>-0.30999999999999994</td><td>-5.140000000000001</td><td>0.57</td><td>1990</td><td>11</td><td>4</td></tr><tr><th>6</th><td>1990-12-01</td><td>1.1</td><td>-1.5499999999999998</td><td>-2.2</td><td>0.57</td><td>-0.9299999999999999</td><td>0.6</td><td>-1.55</td><td>0.33000000000000007</td><td>-0.6</td><td>0.32000000000000006</td><td>-0.32999999999999996</td><td>0.6</td><td>1.93</td><td>-6.76</td><td>-4.25</td><td>0.25</td><td>1.27</td><td>0.6</td><td>-1.1</td><td>-3.37</td><td>-1.85</td><td>-0.79</td><td>-2.09</td><td>0.6</td><td>2.54</td><td>0.9800000000000001</td><td>-1.52</td><td>0.64</td><td>-3.37</td><td>0.6</td><td>1990</td><td>12</td><td>4</td></tr></tbody></table>"
      ],
      "text/plain": [
       "6×34 DataFrames.DataFrame\n",
       "│ Row │ Date       │ G_MKT  │ G_SMB │ G_HML │ G_RMW │ G_CMA │ G_RF │ E_MKT  │\n",
       "├─────┼────────────┼────────┼───────┼───────┼───────┼───────┼──────┼────────┤\n",
       "│ 1   │ 1990-07-01 │ 0.86   │ 0.14  │ -0.93 │ -0.51 │ 0.88  │ 0.68 │ 4.52   │\n",
       "│ 2   │ 1990-08-01 │ -10.82 │ -2.23 │ -0.06 │ -0.88 │ 0.33  │ 0.66 │ -11.03 │\n",
       "│ 3   │ 1990-09-01 │ -11.97 │ 0.56  │ 0.2   │ -0.57 │ 1.52  │ 0.6  │ -12.28 │\n",
       "│ 4   │ 1990-10-01 │ 9.56   │ -8.26 │ -4.92 │ 1.92  │ 0.54  │ 0.68 │ 6.49   │\n",
       "│ 5   │ 1990-11-01 │ -3.86  │ 0.8   │ 0.57  │ 0.9   │ -2.92 │ 0.57 │ -0.43  │\n",
       "│ 6   │ 1990-12-01 │ 1.1    │ -1.55 │ -2.2  │ 0.57  │ -0.93 │ 0.6  │ -1.55  │\n",
       "\n",
       "│ Row │ E_SMB │ E_HML │ E_RMW │ E_CMA │ E_RF │ J_MKT  │ J_SMB │ J_HML │ J_RMW │\n",
       "├─────┼───────┼───────┼───────┼───────┼──────┼────────┼───────┼───────┼───────┤\n",
       "│ 1   │ -0.27 │ -2.11 │ -0.46 │ 0.53  │ 0.68 │ 0.1    │ 5.64  │ 3.01  │ 0.38  │\n",
       "│ 2   │ -0.64 │ -0.41 │ -1.72 │ 0.8   │ 0.66 │ -11.88 │ -5.66 │ -0.4  │ 0.62  │\n",
       "│ 3   │ 1.11  │ 0.24  │ -0.88 │ 1.12  │ 0.6  │ -17.38 │ 0.07  │ -0.71 │ -1.89 │\n",
       "│ 4   │ -3.29 │ -1.35 │ 0.38  │ -1.47 │ 0.68 │ 24.9   │ 0.12  │ -4.55 │ -0.29 │\n",
       "│ 5   │ -3.31 │ 0.3   │ -0.44 │ -1.04 │ 0.57 │ -14.12 │ -5.91 │ -0.75 │ 2.48  │\n",
       "│ 6   │ 0.33  │ -0.6  │ 0.32  │ -0.33 │ 0.6  │ 1.93   │ -6.76 │ -4.25 │ 0.25  │\n",
       "\n",
       "│ Row │ J_CMA │ J_RF │ A_MKT │ A_SMB │ A_HML │ A_RMW │ A_CMA │ A_RF │ N_MKT │\n",
       "├─────┼───────┼──────┼───────┼───────┼───────┼───────┼───────┼──────┼───────┤\n",
       "│ 1   │ -0.44 │ 0.68 │ 4.2   │ -3.61 │ -2.04 │ 0.74  │ 0.22  │ 0.68 │ -1.51 │\n",
       "│ 2   │ -1.62 │ 0.66 │ -8.68 │ 3.1   │ 1.05  │ 0.46  │ 0.01  │ 0.66 │ -9.63 │\n",
       "│ 3   │ -0.71 │ 0.6  │ -8.8  │ 3.1   │ -0.74 │ 0.27  │ 3.57  │ 0.6  │ -6.02 │\n",
       "│ 4   │ 4.07  │ 0.68 │ -1.95 │ -5.44 │ -2.2  │ -0.51 │ -3.46 │ 0.68 │ -2.0  │\n",
       "│ 5   │ -2.75 │ 0.57 │ -2.98 │ -2.16 │ -1.39 │ 2.47  │ -0.01 │ 0.57 │ 5.9   │\n",
       "│ 6   │ 1.27  │ 0.6  │ -1.1  │ -3.37 │ -1.85 │ -0.79 │ -2.09 │ 0.6  │ 2.54  │\n",
       "\n",
       "│ Row │ N_SMB │ N_HML │ N_RMW │ N_CMA │ N_RF │ year │ month │ quarter │\n",
       "├─────┼───────┼───────┼───────┼───────┼──────┼──────┼───────┼─────────┤\n",
       "│ 1   │ -3.18 │ -1.58 │ -0.15 │ 1.91  │ 0.68 │ 1990 │ 7     │ 3       │\n",
       "│ 2   │ -3.22 │ -0.17 │ -2.67 │ 2.62  │ 0.66 │ 1990 │ 8     │ 3       │\n",
       "│ 3   │ -3.33 │ -0.73 │ 0.68  │ 3.63  │ 0.6  │ 1990 │ 9     │ 3       │\n",
       "│ 4   │ -5.3  │ -2.35 │ 3.5   │ 0.19  │ 0.68 │ 1990 │ 10    │ 4       │\n",
       "│ 5   │ -0.56 │ -1.99 │ -0.31 │ -5.14 │ 0.57 │ 1990 │ 11    │ 4       │\n",
       "│ 6   │ 0.98  │ -1.52 │ 0.64  │ -3.37 │ 0.6  │ 1990 │ 12    │ 4       │"
      ]
     },
     "execution_count": 64,
     "metadata": {},
     "output_type": "execute_result"
    }
   ],
   "source": [
    "head(data_excess)"
   ]
  },
  {
   "cell_type": "code",
   "execution_count": 54,
   "metadata": {},
   "outputs": [
    {
     "data": {
      "text/plain": [
       "330-element Array{Int64,1}:\n",
       " 3\n",
       " 3\n",
       " 3\n",
       " 4\n",
       " 4\n",
       " 4\n",
       " 1\n",
       " 1\n",
       " 1\n",
       " 2\n",
       " 2\n",
       " 2\n",
       " 3\n",
       " ⋮\n",
       " 1\n",
       " 1\n",
       " 1\n",
       " 2\n",
       " 2\n",
       " 2\n",
       " 3\n",
       " 3\n",
       " 3\n",
       " 4\n",
       " 4\n",
       " 4"
      ]
     },
     "execution_count": 54,
     "metadata": {},
     "output_type": "execute_result"
    }
   ],
   "source": [
    "data_excess[:year] = Dates.value.(Dates.Year.(data_excess[:, 1]))\n",
    "data_excess[:quarter] = Dates.quarterofyear.(data_excess[:, 1])\n",
    "\n",
    "by(data_excess, [:year, :quarter], df -> sum(Matrix(df[[:ret, :SMB, :HML, :RMW, :CMA, :Mom]]) .^ 2, 1))"
   ]
  },
  {
   "cell_type": "code",
   "execution_count": null,
   "metadata": {},
   "outputs": [],
   "source": []
  }
 ],
 "metadata": {
  "kernelspec": {
   "display_name": "Julia 0.6.2",
   "language": "julia",
   "name": "julia-0.6"
  },
  "language_info": {
   "file_extension": ".jl",
   "mimetype": "application/julia",
   "name": "julia",
   "version": "0.6.2"
  }
 },
 "nbformat": 4,
 "nbformat_minor": 2
}
