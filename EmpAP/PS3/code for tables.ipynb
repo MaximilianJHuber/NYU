{
 "cells": [
  {
   "cell_type": "code",
   "execution_count": null,
   "metadata": {},
   "outputs": [],
   "source": [
    "test_assets = Symbol.([region * '_' * string(factor) for factor in factor_names[1:end-1], region in abbrev[2:end]][:])\n",
    "formulas = [@formula($(field) ~ G_MKT + G_SMB + G_HML + G_RMW + G_CMA) for field in test_assets]\n",
    "models = lm.(formulas, data_excess)\n",
    "\n",
    "using RegressionTables\n",
    "\n",
    "regtable(models...; renderSettings = htmlOutput(\"html.txt\"))\n",
    "f = open(\"html.txt\"); str = readstring(f); close(f)\n",
    "display(\"text/html\", str)"
   ]
  }
 ],
 "metadata": {
  "kernelspec": {
   "display_name": "Julia 0.6.2",
   "language": "julia",
   "name": "julia-0.6"
  },
  "language_info": {
   "file_extension": ".jl",
   "mimetype": "application/julia",
   "name": "julia",
   "version": "0.6.2"
  }
 },
 "nbformat": 4,
 "nbformat_minor": 2
}
