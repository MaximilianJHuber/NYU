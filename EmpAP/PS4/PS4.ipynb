{
 "cells": [
  {
   "cell_type": "markdown",
   "metadata": {},
   "source": [
    "# Empirical Asset Pricing - PS4\n",
    "\n",
    "Maximilian Huber\n",
    "\n",
    "## Task 1\n",
    "Let me load the data into an array of DataFrames:"
   ]
  },
  {
   "cell_type": "code",
   "execution_count": 211,
   "metadata": {
    "code_folding": [
     0
    ]
   },
   "outputs": [],
   "source": [
    "using CSV, DataFrames, Query, Plots, Optim; gr();"
   ]
  },
  {
   "cell_type": "markdown",
   "metadata": {},
   "source": [
    "I load the data, drop rows with a missing value and split the sample in to the two managers."
   ]
  },
  {
   "cell_type": "code",
   "execution_count": 212,
   "metadata": {},
   "outputs": [],
   "source": [
    "data = (CSV.read(\"./Data/PS4data.csv\", delim=',', nullable=true,\n",
    "        types=[String, String, Int64, Int64, Int64, Float64, Float64, Int64, Float64, Float64, Float64, Float64, Int64, Float64, Float64, Float64, Float64]))\n",
    "dropmissing!(data);\n",
    "\n",
    "DFA = data[data[:mgrno] .== 23000, 4:end]\n",
    "VAN = data[data[:mgrno] .== 90457, 4:end];"
   ]
  },
  {
   "cell_type": "markdown",
   "metadata": {},
   "source": [
    "### Preliminaries for (a)\n",
    "Let me try to understand the data set. Since $\\sum_{n=0}^N w_i(n) = 1$, $\\sum_{n=1}^N w_i(n) = 1 - w_i(0)$, and hence $w_i(0) \\Big(1 + \\frac{\\sum_{n=1}^N w_i(n)}{w_i(0)}\\Big) = 1$. Therefore, cash holdings (or whatever the outside asset is) are:"
   ]
  },
  {
   "cell_type": "code",
   "execution_count": 213,
   "metadata": {},
   "outputs": [
    {
     "data": {
      "text/plain": [
       "0.10284923721109153"
      ]
     },
     "execution_count": 213,
     "metadata": {},
     "output_type": "execute_result"
    }
   ],
   "source": [
    "w_DFA0 = 1 / (1 + sum(DFA[:rweight]))"
   ]
  },
  {
   "cell_type": "code",
   "execution_count": 214,
   "metadata": {},
   "outputs": [
    {
     "data": {
      "text/plain": [
       "0.13833144709072137"
      ]
     },
     "execution_count": 214,
     "metadata": {},
     "output_type": "execute_result"
    }
   ],
   "source": [
    "w_VAN0 = 1 / (1 + sum(VAN[:rweight]))"
   ]
  },
  {
   "cell_type": "code",
   "execution_count": 215,
   "metadata": {},
   "outputs": [],
   "source": [
    "DFA[:weight] = DFA[:rweight] * w_DFA0\n",
    "VAN[:weight] = VAN[:rweight] * w_VAN0;"
   ]
  },
  {
   "cell_type": "markdown",
   "metadata": {},
   "source": [
    "Does one fund invest in some assets that the other fund does not? I.e. $\\mathcal{N}_{VAN} = \\mathcal{N}_{DFA}$?"
   ]
  },
  {
   "cell_type": "code",
   "execution_count": 216,
   "metadata": {},
   "outputs": [
    {
     "data": {
      "text/plain": [
       "2-element Array{Int64,1}:\n",
       " -229\n",
       "  -78"
      ]
     },
     "execution_count": 216,
     "metadata": {},
     "output_type": "execute_result"
    }
   ],
   "source": [
    "[length(DFA[:permno]), length(VAN[:permno])] .- length(union(DFA[:permno], VAN[:permno]))"
   ]
  },
  {
   "cell_type": "markdown",
   "metadata": {},
   "source": [
    "No, and neither is a superset of the other!"
   ]
  },
  {
   "cell_type": "markdown",
   "metadata": {},
   "source": [
    "I assume that I can infere $\\mathcal{N}_{i}$ just by looking at the current portfolio. This would lead to equal estimates in (b) and (f), I think."
   ]
  },
  {
   "cell_type": "markdown",
   "metadata": {},
   "source": [
    "### (a)"
   ]
  },
  {
   "cell_type": "code",
   "execution_count": 220,
   "metadata": {},
   "outputs": [
    {
     "data": {
      "text/plain": [
       "0.4535664834349477"
      ]
     },
     "execution_count": 220,
     "metadata": {},
     "output_type": "execute_result"
    }
   ],
   "source": [
    "active_share(W) = 1/2 * sum(abs.(W[:weight] .- exp.(W[:LNme]) ./ sum(exp.(W[:LNme]))))\n",
    "\n",
    "active_share(DFA)"
   ]
  },
  {
   "cell_type": "code",
   "execution_count": 221,
   "metadata": {},
   "outputs": [
    {
     "data": {
      "text/plain": [
       "0.09184197495623979"
      ]
     },
     "execution_count": 221,
     "metadata": {},
     "output_type": "execute_result"
    }
   ],
   "source": [
    "active_share(VAN)"
   ]
  },
  {
   "cell_type": "markdown",
   "metadata": {},
   "source": [
    "DFA is much more active than Vanguard! The latter offers more products that track market-cap-weighted indices."
   ]
  },
  {
   "cell_type": "markdown",
   "metadata": {},
   "source": [
    "### (b) - (e)\n",
    "The GMM estimation:\n",
    "$$\\underset{\\theta}{\\max}Q_n(\\theta)$$\n",
    "evolves around $Q_n(\\theta) = −\\frac{1}{2} g_n(\\theta)' \\Omega g_n(\\theta)$ where $g_n(\\theta) = \\frac{1}{n}\\sum_{t=1}^n g(w_t;\\theta)$\n",
    "\n",
    "In the just-identified IV-GMM case $g(w;\\theta)=\\Big(w_{lhs} - w_{reg}'\\cdot\\theta\\Big)\\cdot w_{iv}\\in\\mathbb{R}^k$, where $k$ is the number of regressors and also instrumental variables.\n",
    "\n",
    "In my application the difference between regressors and instruments is just swapping out $LNme$ with $IVme$.\n",
    "\n",
    "The first stage uses $\\Omega=I$, the second stage $\\Omega = \\Big(\\sum_{t=1}^n g(w_t;\\tilde{\\theta}) g(w_t;\\tilde{\\theta})'\\Big)^{-1}$\n",
    "\n",
    "The asymptotic variance is $G^{-1} \\Omega G^{-1}$, where "
   ]
  },
  {
   "cell_type": "code",
   "execution_count": 238,
   "metadata": {},
   "outputs": [
    {
     "data": {
      "text/plain": [
       "Ωhat (generic function with 1 method)"
      ]
     },
     "execution_count": 238,
     "metadata": {},
     "output_type": "execute_result"
    }
   ],
   "source": [
    "#operates on a single observation, w[1] = lhs, w[2:k] = regressors\n",
    "function g(w, θ)\n",
    "    k = ceil(Int64, length(w)/2)\n",
    "    (w[1] - w[2:k]' * θ) * w[k+1:end]\n",
    "end\n",
    "\n",
    "function gn(w, θ)\n",
    "    avg_g = zeros(length(θ))\n",
    "    for t in 1:size(w, 1)\n",
    "        avg_g += g(w[t, :], θ)\n",
    "    end\n",
    "    \n",
    "    return avg_g/size(w, 1)\n",
    "end\n",
    "\n",
    "function gn_wrapper(W)\n",
    "    N = size(W, 1)\n",
    "    w = hcat(W[:LNrweight], \n",
    "        Matrix(W[[:LNme, :LNbe, :profit, :Gat, :divA_be, :beta]]), ones(N),\n",
    "        Matrix(W[[:IVme, :LNbe, :profit, :Gat, :divA_be, :beta]]), ones(N))\n",
    "    return θ -> gn(w, θ)\n",
    "end\n",
    "\n",
    "function Qn(θ, gn_wrapped)\n",
    "    -1/2 * (gn_wrapped(θ)' * gn_wrapped(θ))[1]\n",
    "end\n",
    "\n",
    "function Qn(θ, gn_wrapped, Ω)\n",
    "    -1/2 * (gn_wrapped(θ)' * Ω * gn_wrapped(θ))[1]\n",
    "end\n",
    "\n",
    "function Ωhat(W, θ) \n",
    "    N = size(W, 1)\n",
    "    w = hcat(W[:LNrweight], \n",
    "        Matrix(W[[:LNme, :LNbe, :profit, :Gat, :divA_be, :beta]]), ones(N),\n",
    "        Matrix(W[[:IVme, :LNbe, :profit, :Gat, :divA_be, :beta]]), ones(N))\n",
    "    \n",
    "    result = zeros(Float64, length(θ), length(θ))\n",
    "    for i in 1:N\n",
    "        result .+= g(w[i,:], θ) * g(w[i,:], θ)'\n",
    "    end\n",
    "    return inv(result/N)\n",
    "end"
   ]
  },
  {
   "cell_type": "code",
   "execution_count": null,
   "metadata": {},
   "outputs": [],
   "source": [
    "#first stage\n",
    "    initial_θ = 0.5 * ones(7)\n",
    "    lower = -Inf * ones(length(initial_θ))\n",
    "    upper = vcat(1, Inf * ones(length(initial_θ) - 1))\n",
    "    \n",
    "    gn_wrapped = gn_wrapper(W)\n",
    "    obj = OnceDifferentiable(θ -> -Qn(θ, gn_wrapped), initial_θ; autodiff = :forward)\n",
    "    first_θ = Optim.minimizer(optimize(obj, initial_θ, lower, upper, Fminbox{GradientDescent}(), Optim.Options(g_tol = 1e-12)))"
   ]
  },
  {
   "cell_type": "code",
   "execution_count": 247,
   "metadata": {},
   "outputs": [
    {
     "data": {
      "text/plain": [
       "eff_IV_GMM (generic function with 1 method)"
      ]
     },
     "execution_count": 247,
     "metadata": {},
     "output_type": "execute_result"
    }
   ],
   "source": [
    "function eff_IV_GMM(W)\n",
    "    #first stage\n",
    "    initial_θ = ones(7)\n",
    "    lower = -Inf * ones(length(initial_θ))\n",
    "    upper = vcat(1, -Inf * ones(length(initial_θ) - 1))\n",
    "    \n",
    "    gn_wrapped = gn_wrapper(W)\n",
    "    obj = OnceDifferentiable(θ -> -Qn(θ, gn_wrapped), initial_θ; autodiff = :forward)\n",
    "    first_θ = Optim.minimizer(optimize(obj, initial_θ, BFGS(), Optim.Options(g_tol = 1e-12)))\n",
    "\n",
    "    #second stage\n",
    "    obj = OnceDifferentiable(θ -> -Qn(θ, gn_wrapped, Ωhat(W, first_θ)), first_θ; autodiff = :forward)\n",
    "    second_θ = Optim.minimizer(optimize(obj, first_θ, BFGS(), Optim.Options(g_tol = 1e-12)))\n",
    "    \n",
    "    G = ForwardDiff.jacobian(gn_wrapped, second_θ)\n",
    "    return [second_θ, inv(G' * Ωhat(W, second_θ) * G)/size(W, 1)]\n",
    "end"
   ]
  },
  {
   "cell_type": "code",
   "execution_count": 248,
   "metadata": {},
   "outputs": [
    {
     "data": {
      "text/html": [
       "<table class=\"data-frame\"><thead><tr><th></th><th>coefficient</th><th>VAN_θ</th><th>VAN_θ_stderr</th><th>DFA_θ</th><th>DFA_θ_stderr</th></tr></thead><tbody><tr><th>1</th><td>LNme</td><td>1.56522</td><td>0.0347172</td><td>0.459983</td><td>0.0672507</td></tr><tr><th>2</th><td>LNbe</td><td>-0.300972</td><td>0.0340202</td><td>0.29349</td><td>0.0643391</td></tr><tr><th>3</th><td>profit</td><td>0.14635</td><td>0.0544432</td><td>1.47977</td><td>0.152321</td></tr><tr><th>4</th><td>Gat</td><td>-0.398746</td><td>0.0665823</td><td>-1.02469</td><td>0.197912</td></tr><tr><th>5</th><td>divA_be</td><td>-2.30908</td><td>0.521209</td><td>-3.16116</td><td>0.783266</td></tr><tr><th>6</th><td>beta</td><td>0.10242</td><td>0.021454</td><td>0.360018</td><td>0.0503243</td></tr><tr><th>7</th><td>constant</td><td>-17.5406</td><td>0.0633132</td><td>-12.5886</td><td>0.12422</td></tr></tbody></table>"
      ],
      "text/plain": [
       "7×5 DataFrames.DataFrame\n",
       "│ Row │ coefficient │ VAN_θ     │ VAN_θ_stderr │ DFA_θ    │ DFA_θ_stderr │\n",
       "├─────┼─────────────┼───────────┼──────────────┼──────────┼──────────────┤\n",
       "│ 1   │ LNme        │ 1.56522   │ 0.0347172    │ 0.459983 │ 0.0672507    │\n",
       "│ 2   │ LNbe        │ -0.300972 │ 0.0340202    │ 0.29349  │ 0.0643391    │\n",
       "│ 3   │ profit      │ 0.14635   │ 0.0544432    │ 1.47977  │ 0.152321     │\n",
       "│ 4   │ Gat         │ -0.398746 │ 0.0665823    │ -1.02469 │ 0.197912     │\n",
       "│ 5   │ divA_be     │ -2.30908  │ 0.521209     │ -3.16116 │ 0.783266     │\n",
       "│ 6   │ beta        │ 0.10242   │ 0.021454     │ 0.360018 │ 0.0503243    │\n",
       "│ 7   │ constant    │ -17.5406  │ 0.0633132    │ -12.5886 │ 0.12422      │"
      ]
     },
     "execution_count": 248,
     "metadata": {},
     "output_type": "execute_result"
    }
   ],
   "source": [
    "table = DataFrame(); table[:coefficient] = [:LNme, :LNbe, :profit, :Gat, :divA_be, :beta, :constant]; \n",
    "result = eff_IV_GMM(VAN)\n",
    "table[:VAN_θ] = result[1]; table[:VAN_θ_stderr] = sqrt.(diag(result[2]))\n",
    "result = eff_IV_GMM(DFA)\n",
    "table[:DFA_θ] = result[1]; table[:DFA_θ_stderr] = sqrt.(diag(result[2]))\n",
    "\n",
    "table"
   ]
  },
  {
   "cell_type": "markdown",
   "metadata": {},
   "source": [
    "<b>Vanguard</b> is not exactly an index fund, but the $1.56$ coefficient on market equity point into this direction. Other factors are not very important. Vanguard does not seem inelastic.\n",
    "\n",
    "<b>DFA</b> has a much lower coefficient on market equity, but coefficients on profit, Gat, divA, and beta are much higher in magnitude. DFA does not seem like an index fund, but also not like a value fund, because then the coefficients on market equity and book equity should be the same value with opposing signs. It has a less elastic demand than Vanguard."
   ]
  },
  {
   "cell_type": "markdown",
   "metadata": {},
   "source": [
    "### (f)"
   ]
  },
  {
   "cell_type": "code",
   "execution_count": null,
   "metadata": {},
   "outputs": [],
   "source": [
    "function g(w, θ)\n",
    "    k = ceil(Int64, length(w)/2)\n",
    "    \n",
    "    ε = exp(w[1]) / exp()\n",
    "    (ε) * w[k+1:end]\n",
    "end"
   ]
  }
 ],
 "metadata": {
  "kernelspec": {
   "display_name": "Julia 0.6.2",
   "language": "julia",
   "name": "julia-0.6"
  },
  "language_info": {
   "file_extension": ".jl",
   "mimetype": "application/julia",
   "name": "julia",
   "version": "0.6.2"
  }
 },
 "nbformat": 4,
 "nbformat_minor": 2
}
