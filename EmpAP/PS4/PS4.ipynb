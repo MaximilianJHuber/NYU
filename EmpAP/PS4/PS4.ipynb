{
 "cells": [
  {
   "cell_type": "markdown",
   "metadata": {},
   "source": [
    "# Empirical Asset Pricing - PS4\n",
    "\n",
    "Maximilian Huber\n",
    "\n",
    "## Task 1\n",
    "Let me load the data into an array of DataFrames:"
   ]
  },
  {
   "cell_type": "code",
   "execution_count": 1,
   "metadata": {
    "code_folding": [
     0
    ]
   },
   "outputs": [],
   "source": [
    "using CSV, DataFrames, Query, Plots, Optim; gr();"
   ]
  },
  {
   "cell_type": "markdown",
   "metadata": {},
   "source": [
    "I load the data, drop rows with a missing value and split the sample in to the two managers."
   ]
  },
  {
   "cell_type": "code",
   "execution_count": 2,
   "metadata": {},
   "outputs": [],
   "source": [
    "data = (CSV.read(\"./Data/PS4data.csv\", delim=',', nullable=true,\n",
    "        types=[String, String, Int64, Int64, Int64, Float64, Float64, Int64, Float64, Float64, Float64, Float64, Int64, Float64, Float64, Float64, Float64]))\n",
    "dropmissing!(data)\n",
    "\n",
    "for col in names(data)\n",
    "   data[col] = Missings.coalesce.(data[col], 0)\n",
    "end\n",
    "\n",
    "DFA = data[data[:mgrno] .== 23000, 4:end]\n",
    "VAN = data[data[:mgrno] .== 90457, 4:end];"
   ]
  },
  {
   "cell_type": "markdown",
   "metadata": {},
   "source": [
    "### Preliminaries for (a)\n",
    "Let me try to understand the data set. Since $\\sum_{n=0}^N w_i(n) = 1$, $\\sum_{n=1}^N w_i(n) = 1 - w_i(0)$, and hence $w_i(0) \\Big(1 + \\frac{\\sum_{n=1}^N w_i(n)}{w_i(0)}\\Big) = 1$. Therefore, cash holdings (or whatever the outside asset is) are:"
   ]
  },
  {
   "cell_type": "code",
   "execution_count": 3,
   "metadata": {},
   "outputs": [
    {
     "data": {
      "text/plain": [
       "0.10284923721109153"
      ]
     },
     "execution_count": 3,
     "metadata": {},
     "output_type": "execute_result"
    }
   ],
   "source": [
    "w_DFA0 = 1 / (1 + sum(DFA[:rweight]))"
   ]
  },
  {
   "cell_type": "code",
   "execution_count": 4,
   "metadata": {},
   "outputs": [
    {
     "data": {
      "text/plain": [
       "0.1383314470907214"
      ]
     },
     "execution_count": 4,
     "metadata": {},
     "output_type": "execute_result"
    }
   ],
   "source": [
    "w_VAN0 = 1 / (1 + sum(VAN[:rweight]))"
   ]
  },
  {
   "cell_type": "code",
   "execution_count": 5,
   "metadata": {},
   "outputs": [],
   "source": [
    "DFA[:weight] = DFA[:rweight] * w_DFA0\n",
    "VAN[:weight] = VAN[:rweight] * w_VAN0;"
   ]
  },
  {
   "cell_type": "markdown",
   "metadata": {},
   "source": [
    "Does one fund invest in some assets that the other fund does not? I.e. $\\mathcal{N}_{VAN} = \\mathcal{N}_{DFA}$?"
   ]
  },
  {
   "cell_type": "code",
   "execution_count": 6,
   "metadata": {},
   "outputs": [
    {
     "data": {
      "text/plain": [
       "2-element Array{Int64,1}:\n",
       " -229\n",
       "  -78"
      ]
     },
     "execution_count": 6,
     "metadata": {},
     "output_type": "execute_result"
    }
   ],
   "source": [
    "[length(DFA[:permno]), length(VAN[:permno])] .- length(union(DFA[:permno], VAN[:permno]))"
   ]
  },
  {
   "cell_type": "markdown",
   "metadata": {},
   "source": [
    "No, and neither is a superset of the other!"
   ]
  },
  {
   "cell_type": "markdown",
   "metadata": {},
   "source": [
    "I assume that I can infere $\\mathcal{N}_{i}$ just by looking at the current portfolio."
   ]
  },
  {
   "cell_type": "markdown",
   "metadata": {},
   "source": [
    "### (a)"
   ]
  },
  {
   "cell_type": "code",
   "execution_count": 7,
   "metadata": {},
   "outputs": [
    {
     "data": {
      "text/plain": [
       "0.4535664834349477"
      ]
     },
     "execution_count": 7,
     "metadata": {},
     "output_type": "execute_result"
    }
   ],
   "source": [
    "active_share(W) = 1/2 * sum(abs.(W[:weight] .- exp.(W[:LNme]) ./ sum(exp.(W[:LNme]))))\n",
    "\n",
    "active_share(DFA)"
   ]
  },
  {
   "cell_type": "code",
   "execution_count": 8,
   "metadata": {},
   "outputs": [
    {
     "data": {
      "text/plain": [
       "0.09184197495623975"
      ]
     },
     "execution_count": 8,
     "metadata": {},
     "output_type": "execute_result"
    }
   ],
   "source": [
    "active_share(VAN)"
   ]
  },
  {
   "cell_type": "markdown",
   "metadata": {},
   "source": [
    "DFA is much more active than Vanguard! The latter offers more products that track market-cap-weighted indices."
   ]
  },
  {
   "cell_type": "markdown",
   "metadata": {},
   "source": [
    "### (b) - (e)\n",
    "I loosely follow the Bruce Hansen's [textbook](https://www.ssc.wisc.edu/~bhansen/econometrics/Econometrics.pdf) for the GMM estimation, except I alter some notation a bit. GMM solves:\n",
    "$$\\underset{\\theta}{\\min}Q_n(\\theta)$$\n",
    "optimizes $Q(\\theta) = \\frac{1}{2} \\, g_n(\\theta)' \\, \\mathcal{W} \\, g_n(\\theta)$ where $g_n(\\theta) = \\frac{1}{n}\\sum_{t=1}^n g(w_t;\\theta)$\n",
    "\n",
    "In the just-identified IV-GMM case $g(w;\\theta)=\\Big(w_{lhs} - w_{reg}'\\cdot\\theta\\Big)\\cdot w_{iv}\\in\\mathbb{R}^k$, where $k$ is the number of regressors and also instrumental variables.\n",
    "\n",
    "In my application the difference between regressors and instruments is just swapping out $LNme$ with $IVme$.\n",
    "\n",
    "Since I have to do an non-linear GMM estimation in (f) I do not follow Hansen's simple derivations of the GMM in linear models, but set up the optimizition problem generically, using a barrier method optimizer with L-BFGS in the inner problem and auto-differentiation.\n",
    "\n",
    "The main issue is the correct covariance estimation for the estimated $\\hat\\theta$.\n",
    "\n",
    "$$\\hat\\Omega=\\frac{1}{n}\\sum_t g(w_t;\\tilde\\theta)\\,g(w_t;\\tilde\\theta)'$$\n",
    "\n",
    "No matter whether the constraint is binding or not, the efficient weighting matrix is $\\mathcal{W} = \\hat\\Omega^{-1}$, see BH chapter 12.14 \"Restricted GMM\".\n",
    "\n",
    "If $\\hat \\theta$ is unconstrained, then $\\hat V_\\theta = \\Big(\\hat G'\\hat\\Omega^{-1}\\hat G\\Big)^{-1}$, where $\\hat G = \\frac{1}{n}\\sum_t \\frac{\\partial g}{\\partial\\theta'} (w_t;\\hat \\theta)$.\n",
    "\n",
    "But $\\hat \\theta$ is fulfilling the restriction with equality, I need to correct for that: $\\hat V_{\\theta,constr} = \\hat V_\\theta - \\hat V_\\theta R \\Big(R'\\hat V_\\theta R\\Big)^{-1} R' \\hat V_\\theta$, where R is Jacobian of the restriction $r(\\theta) = c$."
   ]
  },
  {
   "cell_type": "code",
   "execution_count": 9,
   "metadata": {
    "code_folding": []
   },
   "outputs": [
    {
     "data": {
      "text/plain": [
       "Ωhat (generic function with 1 method)"
      ]
     },
     "execution_count": 9,
     "metadata": {},
     "output_type": "execute_result"
    }
   ],
   "source": [
    "#operates on a single observation, w[1] = lhs, w[2:k] = regressors\n",
    "function g(w, θ)\n",
    "    k = ceil(Int64, length(w)/2)\n",
    "    (w[1] - w[2:k]' * θ) * w[k+1:end]\n",
    "end\n",
    "\n",
    "function gn(w, θ)\n",
    "    avg_g = zeros(length(θ))\n",
    "    for t in 1:size(w, 1)\n",
    "        avg_g += g(w[t, :], θ)\n",
    "    end\n",
    "    \n",
    "    return avg_g/size(w, 1)\n",
    "end\n",
    "\n",
    "function gn_wrapper(W)\n",
    "    N = size(W, 1)\n",
    "    w = hcat(W[:LNrweight], \n",
    "        Matrix(W[[:LNme, :LNbe, :profit, :Gat, :divA_be, :beta]]), ones(N),\n",
    "        Matrix(W[[:IVme, :LNbe, :profit, :Gat, :divA_be, :beta]]), ones(N))\n",
    "    return θ -> gn(w, θ)\n",
    "end\n",
    "\n",
    "function Qn(θ, gn_wrapped)\n",
    "    1/2 * (gn_wrapped(θ)' * gn_wrapped(θ))[1]\n",
    "end\n",
    "\n",
    "function Qn(θ, gn_wrapped, W)\n",
    "    1/2 * (gn_wrapped(θ)' * W * gn_wrapped(θ))[1]\n",
    "end\n",
    "\n",
    "function Ωhat(W, θ)\n",
    "    N = size(W, 1)\n",
    "    w = hcat(W[:LNrweight], \n",
    "        \n",
    "        Matrix(W[[:LNme, :LNbe, :profit, :Gat, :divA_be, :beta]]), ones(N),\n",
    "        Matrix(W[[:IVme, :LNbe, :profit, :Gat, :divA_be, :beta]]), ones(N))\n",
    "    \n",
    "    result = zeros(Float64, length(θ), length(θ))\n",
    "    for i in 1:N\n",
    "        result .+= g(w[i,:], θ) * g(w[i,:], θ)'\n",
    "    end\n",
    "    return result/N\n",
    "end"
   ]
  },
  {
   "cell_type": "code",
   "execution_count": 10,
   "metadata": {
    "code_folding": []
   },
   "outputs": [
    {
     "data": {
      "text/plain": [
       "eff_IV_GMM (generic function with 1 method)"
      ]
     },
     "execution_count": 10,
     "metadata": {},
     "output_type": "execute_result"
    }
   ],
   "source": [
    "function eff_IV_GMM(W)\n",
    "    #first stage\n",
    "    initial_θ = 0.5 * ones(7)\n",
    "    lower = -Inf * ones(length(initial_θ))\n",
    "    upper = vcat(1, Inf * ones(length(initial_θ) - 1))\n",
    "    \n",
    "    gn_wrapped = gn_wrapper(W)\n",
    "    obj = OnceDifferentiable(θ -> Qn(θ, gn_wrapped), initial_θ; autodiff = :forward)\n",
    "    first_θ = Optim.minimizer(optimize(obj, initial_θ, lower, upper, Fminbox{LBFGS}()))\n",
    "\n",
    "    #second stage\n",
    "    obj = OnceDifferentiable(θ -> Qn(θ, gn_wrapped, Ωhat(W, first_θ)^(-1)), first_θ; autodiff = :forward)\n",
    "    #obj.f(first_θ)\n",
    "    second_θ = Optim.minimizer(optimize(obj, first_θ, lower, upper, \n",
    "        Fminbox{LBFGS}(), optimizer_o = Optim.Options(iterations = 100)))\n",
    "    \n",
    "    #asymptotic variance estimation\n",
    "    G = ForwardDiff.jacobian(gn_wrapped, second_θ)\n",
    "    Vhat = (G' * Ωhat(W, second_θ)^(-1) * G)^(-1)\n",
    "\n",
    "    #correction in case of binding constraint\n",
    "    if second_θ[1] ≈ 1\n",
    "        R = vcat(1, zeros(length(initial_θ) - 1))\n",
    "        Vhat = Vhat - Vhat * R * (R'*Vhat*R)^(-1) * R' * Vhat\n",
    "    end\n",
    "    \n",
    "    #return point estimates and sample std errors\n",
    "    return [second_θ, Vhat/size(W, 1)] \n",
    "end"
   ]
  },
  {
   "cell_type": "code",
   "execution_count": 11,
   "metadata": {
    "scrolled": true
   },
   "outputs": [
    {
     "data": {
      "text/html": [
       "<table class=\"data-frame\"><thead><tr><th></th><th>coefficient</th><th>VAN_θ</th><th>VAN_θ_stderr</th><th>DFA_θ</th><th>DFA_θ_stderr</th></tr></thead><tbody><tr><th>1</th><td>LNme</td><td>1.0</td><td>0.0</td><td>0.459983</td><td>0.0672507</td></tr><tr><th>2</th><td>LNbe</td><td>0.171374</td><td>0.00898222</td><td>0.29349</td><td>0.0643391</td></tr><tr><th>3</th><td>profit</td><td>-0.231178</td><td>0.0567067</td><td>1.47977</td><td>0.152321</td></tr><tr><th>4</th><td>Gat</td><td>0.472081</td><td>0.0644015</td><td>-1.02469</td><td>0.197912</td></tr><tr><th>5</th><td>divA_be</td><td>10.3605</td><td>0.723394</td><td>-3.16116</td><td>0.783266</td></tr><tr><th>6</th><td>beta</td><td>0.192432</td><td>0.0237746</td><td>0.360018</td><td>0.0503243</td></tr><tr><th>7</th><td>constant</td><td>-16.7798</td><td>0.0645728</td><td>-12.5886</td><td>0.12422</td></tr></tbody></table>"
      ],
      "text/plain": [
       "7×5 DataFrames.DataFrame\n",
       "│ Row │ coefficient │ VAN_θ     │ VAN_θ_stderr │ DFA_θ    │ DFA_θ_stderr │\n",
       "├─────┼─────────────┼───────────┼──────────────┼──────────┼──────────────┤\n",
       "│ 1   │ LNme        │ 1.0       │ 0.0          │ 0.459983 │ 0.0672507    │\n",
       "│ 2   │ LNbe        │ 0.171374  │ 0.00898222   │ 0.29349  │ 0.0643391    │\n",
       "│ 3   │ profit      │ -0.231178 │ 0.0567067    │ 1.47977  │ 0.152321     │\n",
       "│ 4   │ Gat         │ 0.472081  │ 0.0644015    │ -1.02469 │ 0.197912     │\n",
       "│ 5   │ divA_be     │ 10.3605   │ 0.723394     │ -3.16116 │ 0.783266     │\n",
       "│ 6   │ beta        │ 0.192432  │ 0.0237746    │ 0.360018 │ 0.0503243    │\n",
       "│ 7   │ constant    │ -16.7798  │ 0.0645728    │ -12.5886 │ 0.12422      │"
      ]
     },
     "execution_count": 11,
     "metadata": {},
     "output_type": "execute_result"
    }
   ],
   "source": [
    "table = DataFrame(); table[:coefficient] = [:LNme, :LNbe, :profit, :Gat, :divA_be, :beta, :constant]; \n",
    "result = eff_IV_GMM(VAN)\n",
    "table[:VAN_θ] = result[1]; table[:VAN_θ_stderr] = sqrt.(diag(result[2]))\n",
    "result = eff_IV_GMM(DFA)\n",
    "table[:DFA_θ] = result[1]; table[:DFA_θ_stderr] = sqrt.(diag(result[2]))\n",
    "\n",
    "table"
   ]
  },
  {
   "cell_type": "markdown",
   "metadata": {},
   "source": [
    "<b>Vanguard</b>'s coefficient on market equity of $1.0$ implies that it is an index fund. The only caveat is that the unconstrained estimate is around $1.5$.  But other factors seem important too, in fact all factors are significantly different from zero. They buy stocks of firms, which invest, pay out dividends, but are not necessarily profitable. \n",
    "\n",
    "A price elasticity of one would be a coefficient of $-1$ on $LNme$, Vanguard has a negative price elasticity.\n",
    "\n",
    "<b>DFA</b> has a much lower coefficient on market equity, it seems rather inelastic (it has a more elastic demand than Vanguard, though) and not much like an index fund. The coefficients on profit, investment, dividend, and beta are much higher in magnitude. They buy stocks of profitable firms, which do not invest, and do not pay high dividends (because the presumable buy back shares).\n",
    "\n",
    "DFA does not seem like an index fund, but also not like a value (book-to-market equity) fund, because then the coefficients on market equity and book equity should be the same value with opposing signs (with the plus on the $LNbe$). "
   ]
  },
  {
   "cell_type": "markdown",
   "metadata": {},
   "source": [
    "### (f)\n",
    "\n",
    "The moment condition is $\\mathbb{E}\\Big[\\epsilon \\bigm \\lvert w_{iv}\\Big] = 1$, following [Hansen and Singleton (1982)](https://www.jstor.org/stable/1911873?seq=1#page_scan_tab_contents) this implies $\\mathbb{E}\\Big[(\\epsilon - 1) \\otimes w_{iv}\\Big] = 0$."
   ]
  },
  {
   "cell_type": "code",
   "execution_count": 12,
   "metadata": {},
   "outputs": [
    {
     "data": {
      "text/plain": [
       "g (generic function with 1 method)"
      ]
     },
     "execution_count": 12,
     "metadata": {},
     "output_type": "execute_result"
    }
   ],
   "source": [
    "function g(w, θ)\n",
    "    k = ceil(Int64, length(w)/2)\n",
    "    \n",
    "    (exp(w[1]) / exp(w[2:k]' * θ) - 1) * w[k+1:end]\n",
    "end"
   ]
  },
  {
   "cell_type": "code",
   "execution_count": 13,
   "metadata": {},
   "outputs": [
    {
     "data": {
      "text/html": [
       "<table class=\"data-frame\"><thead><tr><th></th><th>coefficient</th><th>VAN_θ</th><th>VAN_θ_stderr</th><th>DFA_θ</th><th>DFA_θ_stderr</th></tr></thead><tbody><tr><th>1</th><td>LNme</td><td>1.0</td><td>0.0</td><td>0.42585</td><td>0.0492237</td></tr><tr><th>2</th><td>LNbe</td><td>0.181452</td><td>0.00658487</td><td>0.280827</td><td>0.043454</td></tr><tr><th>3</th><td>profit</td><td>-0.0781669</td><td>0.0346332</td><td>0.781778</td><td>0.112201</td></tr><tr><th>4</th><td>Gat</td><td>0.270234</td><td>0.0441748</td><td>-0.546936</td><td>0.121708</td></tr><tr><th>5</th><td>divA_be</td><td>5.33577</td><td>0.362254</td><td>-2.73919</td><td>0.495627</td></tr><tr><th>6</th><td>beta</td><td>0.128455</td><td>0.0155075</td><td>0.344674</td><td>0.032936</td></tr><tr><th>7</th><td>constant</td><td>-16.6013</td><td>0.0475195</td><td>-11.5816</td><td>0.10159</td></tr></tbody></table>"
      ],
      "text/plain": [
       "7×5 DataFrames.DataFrame\n",
       "│ Row │ coefficient │ VAN_θ      │ VAN_θ_stderr │ DFA_θ     │ DFA_θ_stderr │\n",
       "├─────┼─────────────┼────────────┼──────────────┼───────────┼──────────────┤\n",
       "│ 1   │ LNme        │ 1.0        │ 0.0          │ 0.42585   │ 0.0492237    │\n",
       "│ 2   │ LNbe        │ 0.181452   │ 0.00658487   │ 0.280827  │ 0.043454     │\n",
       "│ 3   │ profit      │ -0.0781669 │ 0.0346332    │ 0.781778  │ 0.112201     │\n",
       "│ 4   │ Gat         │ 0.270234   │ 0.0441748    │ -0.546936 │ 0.121708     │\n",
       "│ 5   │ divA_be     │ 5.33577    │ 0.362254     │ -2.73919  │ 0.495627     │\n",
       "│ 6   │ beta        │ 0.128455   │ 0.0155075    │ 0.344674  │ 0.032936     │\n",
       "│ 7   │ constant    │ -16.6013   │ 0.0475195    │ -11.5816  │ 0.10159      │"
      ]
     },
     "execution_count": 13,
     "metadata": {},
     "output_type": "execute_result"
    }
   ],
   "source": [
    "table = DataFrame(); table[:coefficient] = [:LNme, :LNbe, :profit, :Gat, :divA_be, :beta, :constant]; \n",
    "result = eff_IV_GMM(VAN)\n",
    "table[:VAN_θ] = result[1]; table[:VAN_θ_stderr] = sqrt.(diag(result[2]))\n",
    "result = eff_IV_GMM(DFA)\n",
    "table[:DFA_θ] = result[1]; table[:DFA_θ_stderr] = sqrt.(diag(result[2]))\n",
    "\n",
    "table"
   ]
  },
  {
   "cell_type": "markdown",
   "metadata": {},
   "source": [
    "Yes, the estimates differ. Evidently <b>Vanguard</b>'s coefficient on profits, investment, dividends, and beta decreased in magnitude, book equity stayed almost constant. \n",
    "\n",
    "<b>DFA</b> has a similar picture of shrinking magnitudes, with two exceptions: book equity and beta."
   ]
  },
  {
   "cell_type": "markdown",
   "metadata": {},
   "source": [
    "## Task 2\n",
    "\n",
    "## Abstract:\n",
    "\n",
    "## Abstract:"
   ]
  },
  {
   "cell_type": "code",
   "execution_count": null,
   "metadata": {},
   "outputs": [],
   "source": []
  }
 ],
 "metadata": {
  "kernelspec": {
   "display_name": "Julia 0.6.2",
   "language": "julia",
   "name": "julia-0.6"
  },
  "language_info": {
   "file_extension": ".jl",
   "mimetype": "application/julia",
   "name": "julia",
   "version": "0.6.2"
  }
 },
 "nbformat": 4,
 "nbformat_minor": 2
}
