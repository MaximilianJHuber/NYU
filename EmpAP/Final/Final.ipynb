{
 "cells": [
  {
   "cell_type": "markdown",
   "metadata": {},
   "source": [
    "# Empirical Asset Pricing - Final Exam\n",
    "This notebook contains data preparation procedures, coded up functions, function calls and results."
   ]
  },
  {
   "cell_type": "markdown",
   "metadata": {},
   "source": [
    "# Task 1"
   ]
  },
  {
   "cell_type": "code",
   "execution_count": 1,
   "metadata": {
    "code_folding": [
     0
    ],
    "scrolled": false
   },
   "outputs": [],
   "source": [
    "# load data\n",
    "using CSV, DataFrames\n",
    "main = CSV.read(\"./Data/MainVar.csv\", header = true, allowmissing = :none)\n",
    "main[:Year] = round.(Int64, main[:Date])\n",
    "main[:Quarter] = round.(Int64, (main[:Date] .% 1) * 10)\n",
    "delete!(main, :Date)\n",
    "\n",
    "equity = CSV.read(\"./Data/Equity.csv\", header = true, allowmissing = :none)\n",
    "\n",
    "sizebm = CSV.read(\"./Data/SizeBM.csv\", header = true, allowmissing = :none)\n",
    "sizebm[:Month] = round.(Int64, (sizebm[:Year] .% 100))\n",
    "sizebm[:Quarter] = Dates.quarterofyear.(Date.(sizebm[:Year], sizebm[:Month], 1))\n",
    "sizebm[:Year] =  floor.(Int64, sizebm[:Year] ./ 100)\n",
    "delete!(sizebm, :Month)\n",
    "\n",
    "sizeinv = CSV.read(\"./Data/SizeInv.csv\", header = true, allowmissing = :none)\n",
    "sizeinv[:Month] = round.(Int64, (sizeinv[:Year] .% 100))\n",
    "sizeinv[:Quarter] = Dates.quarterofyear.(Date.(sizeinv[:Year], sizeinv[:Month], 1))\n",
    "sizeinv[:Year] =  floor.(Int64, sizeinv[:Year] ./ 100)\n",
    "delete!(sizeinv, :Month)\n",
    "\n",
    "sizeop = CSV.read(\"./Data/SizeOp.csv\", header = true, allowmissing = :none)\n",
    "sizeop[:Month] = round.(Int64, (sizeop[:Year] .% 100))\n",
    "sizeop[:Quarter] = Dates.quarterofyear.(Date.(sizeop[:Year], sizeop[:Month], 1))\n",
    "sizeop[:Year] =  floor.(Int64, sizeop[:Year] ./ 100)\n",
    "delete!(sizeop, :Month)\n",
    "\n",
    "rev = CSV.read(\"./Data/REV.csv\", header = true, allowmissing = :none)\n",
    "rev[:Month] = round.(Int64, (rev[:Year] .% 100))\n",
    "rev[:Quarter] = Dates.quarterofyear.(Date.(rev[:Year], rev[:Month], 1))\n",
    "rev[:Year] =  floor.(Int64, rev[:Year] ./ 100)\n",
    "delete!(rev, :Month);"
   ]
  },
  {
   "cell_type": "markdown",
   "metadata": {},
   "source": [
    "## 1"
   ]
  },
  {
   "cell_type": "code",
   "execution_count": 2,
   "metadata": {},
   "outputs": [],
   "source": [
    "function aggregate_to_quarter(df)\n",
    "    out = DataFrame()\n",
    "    for col in eachcol(df[:, 3:size(df, 2)-1])\n",
    "        out[col[1]] = prod(1 .+ col[2] ./ 100)\n",
    "    end\n",
    "    out[:RF] = prod(1 .+ df[:RF])\n",
    "    out\n",
    "end\n",
    "\n",
    "sizebm = by(aggregate_to_quarter, sizebm, [:Year, :Quarter])\n",
    "sizeinv = by(aggregate_to_quarter, sizeinv, [:Year, :Quarter])\n",
    "sizeop = by(aggregate_to_quarter, sizeop, [:Year, :Quarter])\n",
    "rev = by(aggregate_to_quarter, rev, [:Year, :Quarter]);"
   ]
  },
  {
   "cell_type": "code",
   "execution_count": 3,
   "metadata": {},
   "outputs": [
    {
     "data": {
      "text/html": [
       "<table class=\"data-frame\"><thead><tr><th></th><th>Year</th><th>Quarter</th><th>1</th><th>2</th><th>3</th><th>4</th><th>5</th><th>6</th><th>7</th><th>8</th><th>9</th><th>10</th><th>11</th><th>12</th><th>13</th><th>14</th><th>15</th><th>16</th><th>17</th><th>18</th><th>19</th><th>20</th><th>21</th><th>22</th><th>23</th><th>24</th><th>25</th><th>RF</th></tr></thead><tbody><tr><th>1</th><td>1963</td><td>3</td><td>1.01856</td><td>1.02661</td><td>1.00777</td><td>1.00643</td><td>1.03059</td><td>0.993746</td><td>1.03306</td><td>1.02821</td><td>1.01191</td><td>1.0383</td><td>0.986123</td><td>1.01103</td><td>1.04051</td><td>1.02303</td><td>1.01378</td><td>1.01815</td><td>1.01091</td><td>1.01845</td><td>1.01977</td><td>1.01333</td><td>1.04467</td><td>1.03893</td><td>1.05019</td><td>1.07544</td><td>1.01057</td><td>1.00804</td></tr><tr><th>2</th><td>1963</td><td>4</td><td>0.953204</td><td>0.945543</td><td>0.987236</td><td>0.973161</td><td>1.00252</td><td>0.963009</td><td>1.01532</td><td>1.02782</td><td>1.03159</td><td>1.0394</td><td>0.998697</td><td>1.00069</td><td>1.03312</td><td>1.02779</td><td>1.00316</td><td>0.986841</td><td>1.01333</td><td>1.03437</td><td>1.09897</td><td>1.10578</td><td>1.06728</td><td>1.0509</td><td>1.00433</td><td>1.02648</td><td>1.04271</td><td>1.00866</td></tr><tr><th>3</th><td>1964</td><td>1</td><td>1.07889</td><td>1.0709</td><td>1.08997</td><td>1.08338</td><td>1.12548</td><td>1.02106</td><td>1.04354</td><td>1.10034</td><td>1.09421</td><td>1.17389</td><td>1.00176</td><td>1.05888</td><td>1.09083</td><td>1.13735</td><td>1.14606</td><td>1.03987</td><td>1.06053</td><td>1.09959</td><td>1.19078</td><td>1.08882</td><td>1.06184</td><td>1.04453</td><td>1.06757</td><td>1.10315</td><td>1.05025</td><td>1.00883</td></tr><tr><th>4</th><td>1964</td><td>2</td><td>0.987847</td><td>1.02019</td><td>1.01339</td><td>1.00211</td><td>1.01653</td><td>1.03247</td><td>0.978928</td><td>1.05245</td><td>1.01456</td><td>1.05333</td><td>0.983484</td><td>1.02671</td><td>1.0229</td><td>1.0358</td><td>1.02713</td><td>0.995204</td><td>1.04593</td><td>1.03992</td><td>1.03391</td><td>1.0489</td><td>1.03297</td><td>1.04778</td><td>1.02254</td><td>1.04591</td><td>1.08973</td><td>1.00863</td></tr><tr><th>5</th><td>1964</td><td>3</td><td>1.06921</td><td>1.06002</td><td>1.07426</td><td>1.04472</td><td>1.08344</td><td>1.02765</td><td>1.01376</td><td>1.05674</td><td>1.05509</td><td>1.05331</td><td>1.01711</td><td>1.03785</td><td>1.06964</td><td>1.06403</td><td>1.02935</td><td>1.03213</td><td>1.07067</td><td>1.07018</td><td>1.06685</td><td>1.07769</td><td>1.04416</td><td>1.00309</td><td>1.08489</td><td>1.05547</td><td>1.04201</td><td>1.00829</td></tr><tr><th>6</th><td>1964</td><td>4</td><td>1.00004</td><td>0.985591</td><td>1.01021</td><td>1.00279</td><td>1.01986</td><td>0.992293</td><td>1.01727</td><td>1.02918</td><td>0.984766</td><td>0.986301</td><td>1.04998</td><td>1.04963</td><td>1.01333</td><td>0.999632</td><td>1.01948</td><td>1.02816</td><td>1.0279</td><td>0.990217</td><td>1.01351</td><td>0.978491</td><td>1.02215</td><td>1.02087</td><td>1.00898</td><td>0.978564</td><td>0.977016</td><td>1.00898</td></tr></tbody></table>"
      ],
      "text/plain": [
       "6×28 DataFrames.DataFrame. Omitted printing of 21 columns\n",
       "│ Row │ Year │ Quarter │ 1        │ 2        │ 3        │ 4        │ 5       │\n",
       "├─────┼──────┼─────────┼──────────┼──────────┼──────────┼──────────┼─────────┤\n",
       "│ 1   │ 1963 │ 3       │ 1.01856  │ 1.02661  │ 1.00777  │ 1.00643  │ 1.03059 │\n",
       "│ 2   │ 1963 │ 4       │ 0.953204 │ 0.945543 │ 0.987236 │ 0.973161 │ 1.00252 │\n",
       "│ 3   │ 1964 │ 1       │ 1.07889  │ 1.0709   │ 1.08997  │ 1.08338  │ 1.12548 │\n",
       "│ 4   │ 1964 │ 2       │ 0.987847 │ 1.02019  │ 1.01339  │ 1.00211  │ 1.01653 │\n",
       "│ 5   │ 1964 │ 3       │ 1.06921  │ 1.06002  │ 1.07426  │ 1.04472  │ 1.08344 │\n",
       "│ 6   │ 1964 │ 4       │ 1.00004  │ 0.985591 │ 1.01021  │ 1.00279  │ 1.01986 │"
      ]
     },
     "execution_count": 3,
     "metadata": {},
     "output_type": "execute_result"
    }
   ],
   "source": [
    "head(sizebm)"
   ]
  },
  {
   "cell_type": "markdown",
   "metadata": {},
   "source": [
    "## 2\n",
    "\n",
    "Let's lay down a timing convention: An excess return between $t+1$ and $t+2$, called $R_{t,t+1}^e$, simply is the $R_{t+1}^e$ that has been calculated above.\n",
    "\n",
    "<b>Mind: This means that $R_{t,t+1}^e$ is not the excess return between $t$ and $t+1$!</b>"
   ]
  },
  {
   "cell_type": "code",
   "execution_count": 4,
   "metadata": {},
   "outputs": [
    {
     "data": {
      "text/plain": [
       "H_horizon (generic function with 1 method)"
      ]
     },
     "execution_count": 4,
     "metadata": {},
     "output_type": "execute_result"
    }
   ],
   "source": [
    "function H_horizon(data; H=1)\n",
    "    vcat([prod(1 .+ data[i+1:i+H]) .- 1 for i in 1:length(data)-H]...)\n",
    "end"
   ]
  },
  {
   "cell_type": "markdown",
   "metadata": {},
   "source": [
    "## KS"
   ]
  },
  {
   "cell_type": "code",
   "execution_count": 5,
   "metadata": {
    "scrolled": true
   },
   "outputs": [
    {
     "data": {
      "text/plain": [
       "([1.55118, 0.668371], [2.19806, 4.45263], [1.35629, 1.7812], 0.8044096951215918, 0.12310904755574151, -283.2961662422493)"
      ]
     },
     "execution_count": 5,
     "metadata": {},
     "output_type": "execute_result"
    }
   ],
   "source": [
    "H = 8\n",
    "df = sizebm\n",
    "\n",
    "# first step\n",
    "R_excess = (vcat([prod(Matrix(df[i:i+H-1, 3:end-1]), 1) for i in 1:size(df, 1)-H+1]...) .- \n",
    "    [prod(df[i:i+H-1, :RF]) for i in 1:(size(df, 1)-H+1)])\n",
    "KS = (1 .- main[Symbol(\"Labor Share\")]/100)\n",
    "\n",
    "X = hcat(ones(length(KS) - H), KS[1+H:end] ./ KS[1:end-H])\n",
    "Y = R_excess[2:end, :]\n",
    "β = ((X'X) \\ X'Y)\n",
    "ϵ = Y - X * β\n",
    "β = (β[2:end, :])'\n",
    "Σf = cov(X[:, 2:end])\n",
    "Σ = cov(ϵ)\n",
    "\n",
    "# second step\n",
    "X = hcat(ones(size(β)), β)\n",
    "Y = mean((Matrix(df[:, 3:end-1]) .- df[:RF]), 1)[:]\n",
    "\n",
    "λ = ((X'X) \\ X'Y)\n",
    "Rsq = 1 - sum((Y - X * λ).^2) / sum((Y .- mean(Y)).^2)\n",
    "rmse = sqrt(mean((Y - X * λ).^2))\n",
    "rmsr = sqrt(mean(Y.^2))\n",
    "rmse_rmsr = rmse / rmsr\n",
    "BIC = length(Y)*log(mean((Y - X * λ).^2)) + 2*log(length(Y))\n",
    "\n",
    "# see Cochrane - Asset Pricing p.245\n",
    "Y = (Matrix(df[:, 3:end-1]) .- df[:RF])'\n",
    "λ_t = ((X'X) \\ X'Y)\n",
    "\n",
    "σ_FM = 1/size(λ_t, 2) * sqrt.(diag((λ_t .- mean(λ_t, 2)) * (λ_t .- mean(λ_t, 2))'))\n",
    "t_FM = λ ./ σ_FM\n",
    "\n",
    "X = hcat(ones(size(β)), β)\n",
    "\n",
    "σ_Sh = sqrt.(diag(1/size(X, 1)^2 * ((X'X)^-1 * (X' * Σ * X) * (X'X)^-1 .* (1 + (λ[2:end])' * Σf^-1 * λ[2:end]) + vcat(zeros(size(Σf, 1) + 1)', hcat(zeros(size(Σf, 1)), Σf)))))\n",
    "t_Sh = λ ./ σ_Sh #vcat(t_FM[1], λ[2:end] ./ σ_Sh)\n",
    "\n",
    "(λ .* 100, t_FM, t_Sh, Rsq, rmse_rmsr, BIC)"
   ]
  },
  {
   "cell_type": "code",
   "execution_count": 6,
   "metadata": {},
   "outputs": [
    {
     "data": {
      "text/plain": [
       "([1.64497, 0.567932], [2.51399, 3.85548], [5.11579, 5.06383], 0.7354921071086783, 0.13525295312014526, -966.5266630056278)"
      ]
     },
     "execution_count": 6,
     "metadata": {},
     "output_type": "execute_result"
    }
   ],
   "source": [
    "H = 8\n",
    "df = equity\n",
    "\n",
    "# first step\n",
    "R_excess = (vcat([prod( 1.+ Matrix(df[i:i+H-1, 3:end-1]), 1) for i in 1:size(df, 1)-H+1]...) .- \n",
    "    [prod(1 .+ df[i:i+H-1, :RF]) for i in 1:(size(df, 1)-H+1)])\n",
    "KS = (1 .- main[Symbol(\"Labor Share\")]/100)\n",
    "\n",
    "X = hcat(ones(length(KS) - H), KS[1+H:end] ./ KS[1:end-H])\n",
    "Y = R_excess[2:end, :]\n",
    "β = (X'X) \\ (X'Y)\n",
    "ϵ = Y - X * β\n",
    "β = (β[2:end, :])'\n",
    "Σf = cov(X[:, 2:end])\n",
    "Σ = cov(ϵ)\n",
    "\n",
    "# second step\n",
    "X = hcat(ones(size(β)), β)\n",
    "Y = mean((Matrix(df[:, 3:end-1]) .- df[:RF]), 1)[:]\n",
    "\n",
    "λ = (X'X) \\ (X'Y)\n",
    "Rsq = 1 - sum((Y - X * λ).^2) / sum((Y .- mean(Y)).^2)\n",
    "rmse = sqrt(mean((Y - X * λ).^2))\n",
    "rmsr = sqrt(mean(Y.^2))\n",
    "rmse_rmsr = rmse / rmsr\n",
    "BIC = length(Y)*log(mean((Y - X * λ).^2)) + 2*log(length(Y))\n",
    "\n",
    "# see Cochrane - Asset Pricing p.245\n",
    "Y = (Matrix(df[:, 3:end-1]) .- df[:RF])'\n",
    "λ_t = (X'X) \\ (X'Y)\n",
    "\n",
    "σ_FM = 1/size(λ_t, 2) * sqrt.(diag((λ_t .- mean(λ_t, 2)) * (λ_t .- mean(λ_t, 2))'))\n",
    "t_FM = λ ./ σ_FM\n",
    "\n",
    "X = hcat(ones(size(β)), β)\n",
    "\n",
    "σ_Sh = sqrt.(diag(1/size(X, 1)^2 * ((X'X)^-1 * (X' * Σ * X) * (X'X)^-1 .* (1 + (λ[2:end])' * Σf^-1 * λ[2:end]) + vcat(zeros(size(Σf, 1) + 1)', hcat(zeros(size(Σf, 1)), Σf)))))\n",
    "t_Sh = λ ./ σ_Sh #vcat(t_FM[1], λ[2:end] ./ σ_Sh)\n",
    "\n",
    "(λ .* 100, t_FM, t_Sh, Rsq, rmse_rmsr, BIC)"
   ]
  },
  {
   "cell_type": "markdown",
   "metadata": {},
   "source": [
    "## FF Factors"
   ]
  },
  {
   "cell_type": "code",
   "execution_count": 53,
   "metadata": {},
   "outputs": [
    {
     "data": {
      "text/plain": [
       "([1.51262, 0.110869, 0.672911, 1.30751], [1.97411, 0.133149, 1.9806, 3.0825], [0.89843, 0.0608945, 0.79601, 1.4847], 0.7517431593302969, 0.13869695344352376, -277.33512454718806)"
      ]
     },
     "execution_count": 53,
     "metadata": {},
     "output_type": "execute_result"
    }
   ],
   "source": [
    "H = 8\n",
    "df = sizebm\n",
    "\n",
    "# first step\n",
    "R_excess = (vcat([prod(Matrix(df[i:i+H-1, 3:end-1]), 1) for i in 1:size(df, 1)-H+1]...) .- \n",
    "    [prod(df[i:i+H-1, :RF]) for i in 1:(size(df, 1)-H+1)])\n",
    "\n",
    "factors = vcat([prod(1 .+ Matrix(main[i:i+H-1, 3:5]) ./ 100, 1) \n",
    "            for i in 1:size(main, 1)-H+1]...)\n",
    "\n",
    "#factors = vcat([prod(Matrix(main[i:i+H-1, 3:5]) ./ 100 .+ df[i:i+H-1, :RF], 1) \n",
    "#            for i in 1:size(main, 1)-H+1]...) .- \n",
    "#    [prod(df[i:i+H-1, :RF]) for i in 1:(size(df, 1)-H+1)]\n",
    "\n",
    "#factors = hcat(vcat([prod(Matrix(main[i:i+H-1, 3:3]) ./ 100 .+ df[i:i+H-1, :RF], 1) \n",
    "#            for i in 1:size(main, 1)-H+1]...) .- \n",
    "#    [prod(df[i:i+H-1, :RF]) for i in 1:(size(df, 1)-H+1)],\n",
    "#        vcat([prod(1 .+ Matrix(main[i:i+H-1, 4:5]) ./ 100, 1) \n",
    "#            for i in 1:size(main, 1)-H+1]...) .- 1)\n",
    "\n",
    "X = hcat(ones(size(factors, 1)), factors[1:end, :])\n",
    "Y = R_excess[1:end, :]\n",
    "β = (X'X) \\ (X'Y)\n",
    "ϵ = Y - X * β\n",
    "β = (β[2:end, :])'\n",
    "Σf = cov(X[:, 2:end])\n",
    "Σ = cov(ϵ)\n",
    "\n",
    "# second step\n",
    "X = hcat(ones(size(β, 1)), β)\n",
    "Y = mean((Matrix(df[:, 3:end-1]) .- df[:RF]), 1)[:]\n",
    "λ = (X'X) \\ (X'Y)\n",
    "\n",
    "Rsq = 1 - sum((Y - X * λ).^2) / sum((Y .- mean(Y)).^2)\n",
    "rmse = sqrt(mean((Y - X * λ).^2))\n",
    "rmsr = sqrt(mean(Y.^2))\n",
    "rmse_rmsr = rmse / rmsr\n",
    "BIC = length(Y)*log(mean((Y - X * λ).^2)) + 2*log(length(Y))\n",
    "\n",
    "# see Cochrane - Asset Pricing p.245\n",
    "Y = (Matrix(df[:, 3:end-1]) .- df[:RF])'\n",
    "λ_t = (X'X) \\ (X'Y)\n",
    "\n",
    "σ_FM = 1/size(λ_t, 2) * sqrt.(diag((λ_t .- mean(λ_t, 2)) * (λ_t .- mean(λ_t, 2))'))\n",
    "t_FM = λ ./ σ_FM\n",
    "\n",
    "σ_Sh = sqrt.(diag(1/size(X, 1)^2 * ((X'X)^-1 * (X' * Σ * X) * (X'X)^-1 .* (1 + (λ[2:end])' * Σf^-1 * λ[2:end]) + vcat(zeros(size(Σf, 1) + 1)', hcat(zeros(size(Σf, 1)), Σf)))))\n",
    "t_Sh = λ ./ σ_Sh #vcat(t_FM[1], λ[2:end] ./ σ_Sh)\n",
    "\n",
    "(λ .* 100, t_FM, t_Sh, Rsq, rmse_rmsr, BIC)"
   ]
  },
  {
   "cell_type": "code",
   "execution_count": 51,
   "metadata": {},
   "outputs": [
    {
     "data": {
      "text/plain": [
       "([1.5624, 0.140652, 0.669882, 1.43504], [2.67289, 0.200131, 1.77963, 3.23835], [4.60893, 0.313006, 2.47639, 5.08237], 0.7183324488401472, 0.13957121121041782, -961.1838700898406)"
      ]
     },
     "execution_count": 51,
     "metadata": {},
     "output_type": "execute_result"
    }
   ],
   "source": [
    "H = 8\n",
    "df = equity\n",
    "\n",
    "# first step\n",
    "R_excess = (vcat([prod( 1.+ Matrix(df[i:i+H-1, 3:end-1]), 1) for i in 1:size(df, 1)-H+1]...) .- \n",
    "    [prod(1 .+ df[i:i+H-1, :RF]) for i in 1:(size(df, 1)-H+1)])\n",
    "\n",
    "factors = vcat([prod(1 .+ Matrix(main[i:i+H-1, 3:5]) ./ 100 .+ df[i:i+H-1, :RF], 1) \n",
    "            for i in 1:size(main, 1)-H+1]...) .- \n",
    "    [prod(1 .+ df[i:i+H-1, :RF]) for i in 1:(size(df, 1)-H+1)]\n",
    "\n",
    "X = hcat(ones(size(factors, 1)), factors[1:end, :])\n",
    "Y = R_excess[1:end, :]\n",
    "β = (X'X) \\ (X'Y)\n",
    "ϵ = Y - X * β\n",
    "β = (β[2:end, :])'\n",
    "Σf = cov(X[:, 2:end])\n",
    "Σ = cov(ϵ)\n",
    "\n",
    "# second step\n",
    "X = hcat(ones(size(β, 1)), β)\n",
    "Y = mean((Matrix(df[:, 3:end-1]) .- df[:RF]), 1)[:]\n",
    "λ = (X'X) \\ (X'Y)\n",
    "\n",
    "Rsq = 1 - sum((Y - X * λ).^2) / sum((Y .- mean(Y)).^2)\n",
    "rmse = sqrt(mean((Y - X * λ).^2))\n",
    "rmsr = sqrt(mean(Y.^2))\n",
    "rmse_rmsr = rmse / rmsr\n",
    "BIC = length(Y)*log(mean((Y - X * λ).^2)) + 2*log(length(Y))\n",
    "\n",
    "# see Cochrane - Asset Pricing p.245\n",
    "Y = (Matrix(df[:, 3:end-1]) .- df[:RF])'\n",
    "λ_t = (X'X) \\ (X'Y)\n",
    "\n",
    "σ_FM = 1/size(λ_t, 2) * sqrt.(diag((λ_t .- mean(λ_t, 2)) * (λ_t .- mean(λ_t, 2))'))\n",
    "t_FM = λ ./ σ_FM\n",
    "\n",
    "σ_Sh = sqrt.(diag(1/size(X, 1)^2 * ((X'X)^-1 * (X' * Σ * X) * (X'X)^-1 .* (1 + (λ[2:end])' * Σf^-1 * λ[2:end]) + vcat(zeros(size(Σf, 1) + 1)', hcat(zeros(size(Σf, 1)), Σf)))))\n",
    "t_Sh = λ ./ σ_Sh #vcat(t_FM[1], λ[2:end] ./ σ_Sh)\n",
    "\n",
    "(λ .* 100, t_FM, t_Sh, Rsq, rmse_rmsr, BIC)"
   ]
  },
  {
   "cell_type": "markdown",
   "metadata": {},
   "source": [
    "## 3 Step Procedure"
   ]
  },
  {
   "cell_type": "code",
   "execution_count": 79,
   "metadata": {},
   "outputs": [
    {
     "data": {
      "text/plain": [
       "([3.64925, 0.493244, -3.04884, 1.21527, -0.191451], [3.82949, 3.91353, -2.02811, 1.86134, -0.309719], [1.41848, 1.69351, -0.794167, 0.625215, -0.13324], 0.8641767852653425, 0.10258959426634229, -292.41286728784615)"
      ]
     },
     "execution_count": 79,
     "metadata": {},
     "output_type": "execute_result"
    }
   ],
   "source": [
    "H = 8\n",
    "df = sizebm\n",
    "\n",
    "# first step\n",
    "R_excess = (vcat([prod(Matrix(df[i:i+H-1, 3:end-1]), 1) for i in 1:size(df, 1)-H+1]...) .- \n",
    "    [prod(df[i:i+H-1, :RF]) for i in 1:(size(df, 1)-H+1)])\n",
    "KS = (1 .- main[Symbol(\"Labor Share\")]/100)\n",
    "factors = vcat([prod(1 .+ Matrix(main[i:i+H-1, 3:5]) ./ 100, 1) \n",
    "            for i in 1:size(main, 1)-H+1]...)\n",
    "\n",
    "X = hcat(ones(length(KS) - H), KS[1+H:end] ./ KS[1:end-H])\n",
    "Y = R_excess[2:end, :]\n",
    "β = ((X'X) \\ X'Y)\n",
    "ϵ = Y - X * β\n",
    "βKS = (β[2:end, :])'\n",
    "Σf = cov(hcat(KS[1+H:end] ./ KS[1:end-H], factors[2:end, :]))\n",
    "Σ = cov(ϵ)\n",
    "\n",
    "# second step\n",
    "factors = 1 .+ Matrix(main[:, 3:5]) ./ 100\n",
    "X = hcat(ones(size(factors, 1)), factors[1:end, 1:1])\n",
    "Y = (Matrix(df[:, 3:end-1]) .- df[:RF])\n",
    "βRm = (((X'X) \\ (X'Y))')[:, 2]\n",
    "\n",
    "X = hcat(ones(size(factors, 1)), factors[1:end, 2:2])\n",
    "Y = (Matrix(df[:, 3:end-1]) .- df[:RF])\n",
    "βSMB = (((X'X) \\ (X'Y))')[:, 2]\n",
    "\n",
    "X = hcat(ones(size(factors, 1)), factors[1:end, 3:3])\n",
    "Y = (Matrix(df[:, 3:end-1]) .- df[:RF])\n",
    "βHML = (((X'X) \\ (X'Y))')[:, 2]\n",
    "\n",
    "# thrid step\n",
    "X = hcat(ones(length(βKS)), βKS, βRm, βSMB, βHML)\n",
    "Y = mean((Matrix(df[:, 3:end-1]) .- df[:RF]), 1)[:]\n",
    "λ = (X'X) \\ (X'Y)\n",
    "\n",
    "Rsq = 1 - sum((Y - X * λ).^2) / sum((Y .- mean(Y)).^2)\n",
    "rmse = sqrt(mean((Y - X * λ).^2))\n",
    "rmsr = sqrt(mean(Y.^2))\n",
    "rmse_rmsr = rmse / rmsr\n",
    "BIC = length(Y)*log(mean((Y - X * λ).^2)) + 2*log(length(Y))\n",
    "\n",
    "# see Cochrane - Asset Pricing p.245\n",
    "Y = (Matrix(df[:, 3:end-1]) .- df[:RF])'\n",
    "λ_t = (X'X) \\ (X'Y)\n",
    "\n",
    "σ_FM = 1/size(λ_t, 2) * sqrt.(diag((λ_t .- mean(λ_t, 2)) * (λ_t .- mean(λ_t, 2))'))\n",
    "t_FM = λ ./ σ_FM\n",
    "\n",
    "σ_Sh = sqrt.(diag(1/size(X, 1)^2 * ((X'X)^-1 * (X' * Σ * X) * (X'X)^-1 .* (1 + (λ[2:end])' * Σf^-1 * λ[2:end]) + vcat(zeros(size(Σf, 1) + 1)', hcat(zeros(size(Σf, 1)), Σf)))))\n",
    "t_Sh = λ ./ σ_Sh #vcat(t_FM[1], λ[2:end] ./ σ_Sh)\n",
    "\n",
    "(λ .* 100, t_FM, t_Sh, Rsq, rmse_rmsr, BIC)"
   ]
  },
  {
   "cell_type": "code",
   "execution_count": 82,
   "metadata": {},
   "outputs": [
    {
     "data": {
      "text/plain": [
       "([2.92132, 0.38244, -1.84979, 0.849647, 0.143248], [3.2466, 3.40756, -1.30199, 1.36758, 0.223209], [4.53889, 4.52553, -1.8328, 1.54096, 0.34198], 0.7864557391575807, 0.12152661194507974, -984.7189554328453)"
      ]
     },
     "execution_count": 82,
     "metadata": {},
     "output_type": "execute_result"
    }
   ],
   "source": [
    "H = 8\n",
    "df = equity\n",
    "\n",
    "# first step\n",
    "R_excess = (vcat([prod(1 .+ Matrix(df[i:i+H-1, 3:end-1]), 1) for i in 1:size(df, 1)-H+1]...) .- \n",
    "    [prod(1 .+ df[i:i+H-1, :RF]) for i in 1:(size(df, 1)-H+1)])\n",
    "KS = (1 .- main[Symbol(\"Labor Share\")]/100)\n",
    "factors = vcat([prod(1 .+ Matrix(main[i:i+H-1, 3:5]) ./ 100, 1) \n",
    "            for i in 1:size(main, 1)-H+1]...)\n",
    "\n",
    "X = hcat(ones(length(KS) - H), KS[1+H:end] ./ KS[1:end-H])\n",
    "Y = R_excess[2:end, :]\n",
    "β = ((X'X) \\ X'Y)\n",
    "ϵ = Y - X * β\n",
    "βKS = (β[2:end, :])'\n",
    "Σf = cov(hcat(KS[1+H:end] ./ KS[1:end-H], factors[2:end, :]))\n",
    "Σ = cov(ϵ)\n",
    "\n",
    "# second step\n",
    "factors = 1 .+ Matrix(main[:, 3:5]) ./ 100\n",
    "X = hcat(ones(size(factors, 1)), factors[1:end, 1:1])\n",
    "Y = (Matrix(df[:, 3:end-1]) .- df[:RF])\n",
    "βRm = (((X'X) \\ (X'Y))')[:, 2]\n",
    "\n",
    "X = hcat(ones(size(factors, 1)), factors[1:end, 2:2])\n",
    "Y = (Matrix(df[:, 3:end-1]) .- df[:RF])\n",
    "βSMB = (((X'X) \\ (X'Y))')[:, 2]\n",
    "\n",
    "X = hcat(ones(size(factors, 1)), factors[1:end, 3:3])\n",
    "Y = (Matrix(df[:, 3:end-1]) .- df[:RF])\n",
    "βHML = (((X'X) \\ (X'Y))')[:, 2]\n",
    "\n",
    "# thrid step\n",
    "X = hcat(ones(length(βKS)), βKS, βRm, βSMB, βHML)\n",
    "Y = mean((Matrix(df[:, 3:end-1]) .- df[:RF]), 1)[:]\n",
    "λ = (X'X) \\ (X'Y)\n",
    "\n",
    "Rsq = 1 - sum((Y - X * λ).^2) / sum((Y .- mean(Y)).^2)\n",
    "rmse = sqrt(mean((Y - X * λ).^2))\n",
    "rmsr = sqrt(mean(Y.^2))\n",
    "rmse_rmsr = rmse / rmsr\n",
    "BIC = length(Y)*log(mean((Y - X * λ).^2)) + 2*log(length(Y))\n",
    "\n",
    "# see Cochrane - Asset Pricing p.245\n",
    "Y = (Matrix(df[:, 3:end-1]) .- df[:RF])'\n",
    "λ_t = (X'X) \\ (X'Y)\n",
    "\n",
    "σ_FM = 1/size(λ_t, 2) * sqrt.(diag((λ_t .- mean(λ_t, 2)) * (λ_t .- mean(λ_t, 2))'))\n",
    "t_FM = λ ./ σ_FM\n",
    "\n",
    "σ_Sh = sqrt.(diag(1/size(X, 1)^2 * ((X'X)^-1 * (X' * Σ * X) * (X'X)^-1 .* (1 + (λ[2:end])' * Σf^-1 * λ[2:end]) + vcat(zeros(size(Σf, 1) + 1)', hcat(zeros(size(Σf, 1)), Σf)))))\n",
    "t_Sh = λ ./ σ_Sh #vcat(t_FM[1], λ[2:end] ./ σ_Sh)\n",
    "\n",
    "(λ .* 100, t_FM, t_Sh, Rsq, rmse_rmsr, BIC)"
   ]
  },
  {
   "cell_type": "code",
   "execution_count": null,
   "metadata": {},
   "outputs": [],
   "source": []
  }
 ],
 "metadata": {
  "kernelspec": {
   "display_name": "Julia 0.6.2",
   "language": "julia",
   "name": "julia-0.6"
  },
  "language_info": {
   "file_extension": ".jl",
   "mimetype": "application/julia",
   "name": "julia",
   "version": "0.6.2"
  }
 },
 "nbformat": 4,
 "nbformat_minor": 2
}
