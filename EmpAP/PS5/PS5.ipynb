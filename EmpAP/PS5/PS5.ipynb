{
 "cells": [
  {
   "cell_type": "markdown",
   "metadata": {},
   "source": [
    "# Empirical Asset Pricing - PS5\n",
    "\n",
    "Maximilian Huber\n",
    "\n",
    "## Task 1\n"
   ]
  },
  {
   "cell_type": "code",
   "execution_count": 1,
   "metadata": {
    "scrolled": false
   },
   "outputs": [
    {
     "name": "stderr",
     "output_type": "stream",
     "text": [
      "\u001b[1m\u001b[36mINFO: \u001b[39m\u001b[22m\u001b[36mRecompiling stale cache file C:\\Users\\Max\\AppData\\Local\\JuliaPro-0.6.2.1\\pkgs-0.6.2.1\\lib\\v0.6\\QueryOperators.ji for module QueryOperators.\n",
      "\u001b[39m"
     ]
    }
   ],
   "source": [
    "using CSV, DataFrames, Query, Plots, Optim; gr();"
   ]
  },
  {
   "cell_type": "markdown",
   "metadata": {},
   "source": [
    "### (a)"
   ]
  },
  {
   "cell_type": "code",
   "execution_count": 53,
   "metadata": {},
   "outputs": [],
   "source": [
    "data = CSV.read(\"./Data/PS5.csv\", delim='\\t')\n",
    "data[:, 1] = Date.(data[:, 1], \"mm/dd/yyyy\")\n",
    "data[:yearmonth] = Dates.yearmonth.((data[:, 1]))\n",
    "data = by(data, :yearmonth) do df\n",
    "    return df[indmax(Dates.day.(df[:Date])), 2:end-1] \n",
    "end;"
   ]
  },
  {
   "cell_type": "markdown",
   "metadata": {},
   "source": [
    "### (b)"
   ]
  },
  {
   "cell_type": "code",
   "execution_count": 82,
   "metadata": {},
   "outputs": [],
   "source": [
    "data = hcat(data, \n",
    "    DataFrame(\n",
    "        hcat([n * data[:, 1+n] - (n - 1) * data[:, n] for n in 2:10]...), \n",
    "        Symbol.([\"fwd$(y)y\" for y in 2:10])));"
   ]
  },
  {
   "cell_type": "code",
   "execution_count": 83,
   "metadata": {},
   "outputs": [
    {
     "data": {
      "text/html": [
       "<table class=\"data-frame\"><thead><tr><th></th><th>yearmonth</th><th>SVENY01</th><th>SVENY02</th><th>SVENY03</th><th>SVENY04</th><th>SVENY05</th><th>SVENY06</th><th>SVENY07</th><th>SVENY08</th><th>SVENY09</th><th>SVENY10</th><th>fwd2y</th><th>fwd3y</th><th>fwd4y</th><th>fwd5y</th><th>fwd6y</th><th>fwd7y</th><th>fwd8y</th><th>fwd9y</th><th>fwd10y</th></tr></thead><tbody><tr><th>1</th><td>(2018, 2)</td><td>2.0493</td><td>2.2631</td><td>2.4284</td><td>2.5559</td><td>2.6541</td><td>2.7297</td><td>2.7881</td><td>2.8336</td><td>2.8694</td><td>2.898</td><td>2.4769</td><td>2.759</td><td>2.9384</td><td>3.0469</td><td>3.1077</td><td>3.1385</td><td>3.1521</td><td>3.1558</td><td>3.1554</td></tr><tr><th>2</th><td>(2018, 1)</td><td>1.9119</td><td>2.1441</td><td>2.3127</td><td>2.4354</td><td>2.525</td><td>2.5909</td><td>2.6398</td><td>2.6766</td><td>2.705</td><td>2.7275</td><td>2.3763</td><td>2.6499</td><td>2.8035</td><td>2.8834</td><td>2.9204</td><td>2.9332</td><td>2.9342</td><td>2.9322</td><td>2.93</td></tr><tr><th>3</th><td>(2017, 12)</td><td>1.7573</td><td>1.8852</td><td>2.0033</td><td>2.1056</td><td>2.1912</td><td>2.2613</td><td>2.318</td><td>2.3638</td><td>2.4012</td><td>2.432</td><td>2.0131</td><td>2.2395</td><td>2.4125</td><td>2.5336</td><td>2.6118</td><td>2.6582</td><td>2.6844</td><td>2.7004</td><td>2.7092</td></tr><tr><th>4</th><td>(2017, 11)</td><td>1.6313</td><td>1.7902</td><td>1.9286</td><td>2.0468</td><td>2.1465</td><td>2.23</td><td>2.3</td><td>2.3589</td><td>2.4088</td><td>2.4518</td><td>1.9491</td><td>2.2054</td><td>2.4014</td><td>2.5453</td><td>2.6475</td><td>2.72</td><td>2.7712</td><td>2.808</td><td>2.8388</td></tr><tr><th>5</th><td>(2017, 10)</td><td>1.4416</td><td>1.5965</td><td>1.7537</td><td>1.897</td><td>2.0211</td><td>2.1259</td><td>2.2133</td><td>2.2864</td><td>2.3481</td><td>2.4009</td><td>1.7514</td><td>2.0681</td><td>2.3269</td><td>2.5175</td><td>2.6499</td><td>2.7377</td><td>2.7981</td><td>2.8417</td><td>2.8761</td></tr><tr><th>6</th><td>(2017, 9)</td><td>1.3341</td><td>1.481</td><td>1.6455</td><td>1.8015</td><td>1.939</td><td>2.0561</td><td>2.1541</td><td>2.236</td><td>2.305</td><td>2.3638</td><td>1.6279</td><td>1.9745</td><td>2.2695</td><td>2.489</td><td>2.6416</td><td>2.7421</td><td>2.8093</td><td>2.857</td><td>2.893</td></tr></tbody></table>"
      ],
      "text/plain": [
       "6×20 DataFrames.DataFrame. Omitted printing of 13 columns\n",
       "│ Row │ yearmonth  │ SVENY01 │ SVENY02 │ SVENY03 │ SVENY04 │ SVENY05 │ SVENY06 │\n",
       "├─────┼────────────┼─────────┼─────────┼─────────┼─────────┼─────────┼─────────┤\n",
       "│ 1   │ (2018, 2)  │ 2.0493  │ 2.2631  │ 2.4284  │ 2.5559  │ 2.6541  │ 2.7297  │\n",
       "│ 2   │ (2018, 1)  │ 1.9119  │ 2.1441  │ 2.3127  │ 2.4354  │ 2.525   │ 2.5909  │\n",
       "│ 3   │ (2017, 12) │ 1.7573  │ 1.8852  │ 2.0033  │ 2.1056  │ 2.1912  │ 2.2613  │\n",
       "│ 4   │ (2017, 11) │ 1.6313  │ 1.7902  │ 1.9286  │ 2.0468  │ 2.1465  │ 2.23    │\n",
       "│ 5   │ (2017, 10) │ 1.4416  │ 1.5965  │ 1.7537  │ 1.897   │ 2.0211  │ 2.1259  │\n",
       "│ 6   │ (2017, 9)  │ 1.3341  │ 1.481   │ 1.6455  │ 1.8015  │ 1.939   │ 2.0561  │"
      ]
     },
     "execution_count": 83,
     "metadata": {},
     "output_type": "execute_result"
    }
   ],
   "source": [
    "head(data)"
   ]
  },
  {
   "cell_type": "markdown",
   "metadata": {},
   "source": [
    "### (c)\n",
    "$$rx_{t+1} = p_{t+1}(n-1) - p_t(n) - y_t(1)$$"
   ]
  },
  {
   "cell_type": "code",
   "execution_count": 100,
   "metadata": {},
   "outputs": [],
   "source": [
    "pt = hcat([- n * data[:, 1+n] for n in 1:10]...)\n",
    "rx_t1 = pt[1:end-1, 1:9] - pt[2:end, 2:10] - repmat(data[2:end, 2], 1, 9);"
   ]
  },
  {
   "cell_type": "code",
   "execution_count": 103,
   "metadata": {},
   "outputs": [
    {
     "data": {
      "text/plain": [
       "555×9 Array{Float64,2}:\n",
       " 0.327    0.5      0.5445   0.4895  …   0.1885  -0.0158  -0.2357  -0.4615\n",
       " 0.1012  -0.0356  -0.273   -0.5429     -1.0767  -1.3255  -1.5593  -1.7823\n",
       " 0.1918   0.3841   0.546    0.6788      0.9009   1.0139   1.1375   1.2759\n",
       " 0.1201   0.2391   0.3606   0.4767      0.6715   0.7496   0.8201   0.8882\n",
       " 0.1863   0.4094   0.6108   0.7729      0.9892   1.0608   1.1197   1.171 \n",
       " 0.0793   0.1753   0.2161   0.1913  …   0.0007  -0.1285  -0.2607  -0.3872\n",
       " 0.2431   0.6935   1.1842   1.6474      2.4372   2.7738   3.0858   3.3792\n",
       " 0.2901   0.7413   1.1478   1.4512      1.7646   1.8143   1.8189   1.7897\n",
       " 0.1185   0.3892   0.6248   0.7708      0.8416   0.8265   0.8129   0.818 \n",
       " 0.2488   0.7568   1.2218   1.5887      2.099    2.2888   2.4542   2.6051\n",
       " 0.3844   1.0104   1.6034   2.0749  …   2.6684   2.8472   2.9825   3.0958\n",
       " 0.5019   1.0853   1.4779   1.6867      1.8046   1.8057   1.7996   1.796 \n",
       " 0.6074   1.1429   1.5681   1.9034      2.4159   2.631    2.8323   3.0224\n",
       " ⋮                                  ⋱   ⋮                                \n",
       " 0.9178   1.2233   1.3398   1.4004      1.485    1.5234   1.5614   1.5998\n",
       " 0.7515   0.9159   1.003    1.083       1.2447   1.3261   1.4069   1.4887\n",
       " 0.6773   0.8781   0.9646   1.0254  …   1.1364   1.1922   1.2479   1.3038\n",
       " 0.6942   0.8462   0.7745   0.6178      0.2328   0.0308  -0.1727  -0.3773\n",
       " 1.1636   1.3357   1.3286   1.2919      1.21     1.1688   1.1282   1.0869\n",
       " 0.4755   0.5742   0.663    0.7981      1.1676   1.3759   1.5914   1.8111\n",
       " 1.2383   1.911    2.2351   2.3632      2.3559   2.2967   2.224    2.1451\n",
       " 1.5763   2.0704   2.1761   2.1477  …   1.9862   1.8926   1.7977   1.7029\n",
       " 0.4708   0.428    0.4744   0.6137      1.0196   1.2466   1.4782   1.7131\n",
       " 1.3928   2.0551   2.3592   2.4896      2.5432   2.5322   2.5115   2.487 \n",
       " 0.9852   1.1325   1.0261   0.869       0.601    0.4994   0.4117   0.3355\n",
       " 1.1151   1.8581   2.3432   2.646       2.9202   2.9639   2.9747   2.9664"
      ]
     },
     "execution_count": 103,
     "metadata": {},
     "output_type": "execute_result"
    }
   ],
   "source": [
    "(rx_t1)"
   ]
  },
  {
   "cell_type": "code",
   "execution_count": 148,
   "metadata": {},
   "outputs": [
    {
     "data": {
      "text/plain": [
       "555×6 Array{Float64,2}:\n",
       " 1.0  1.9119  2.3763  2.6499  2.8035  2.8834\n",
       " 1.0  1.7573  2.0131  2.2395  2.4125  2.5336\n",
       " 1.0  1.6313  1.9491  2.2054  2.4014  2.5453\n",
       " 1.0  1.4416  1.7514  2.0681  2.3269  2.5175\n",
       " 1.0  1.3341  1.6279  1.9745  2.2695  2.489 \n",
       " 1.0  1.2322  1.4134  1.7239  2.0153  2.2447\n",
       " 1.0  1.2383  1.4753  1.8638  2.2146  2.4785\n",
       " 1.0  1.2608  1.5284  1.9265  2.2703  2.518 \n",
       " 1.0  1.1887  1.3793  1.7991  2.1621  2.4163\n",
       " 1.0  1.1191  1.4375  1.8873  2.2641  2.529 \n",
       " 1.0  1.0551  1.5035  2.0635  2.4803  2.7356\n",
       " 1.0  0.9164  1.557   2.0869  2.4561  2.6891\n",
       " 1.0  0.8732  1.5238  2.0925  2.5121  2.7914\n",
       " ⋮                                    ⋮     \n",
       " 1.0  5.4437  6.2401  6.3762  6.3992  6.4033\n",
       " 1.0  5.4438  6.1952  6.4045  6.4633  6.4792\n",
       " 1.0  5.3263  6.1211  6.396   6.491   6.5241\n",
       " 1.0  4.7773  6.0205  6.2731  6.3243  6.3343\n",
       " 1.0  5.0769  5.9409  6.1926  6.266   6.2876\n",
       " 1.0  4.569   5.5524  6.0396  6.2814  6.4011\n",
       " 1.0  4.5459  5.8073  6.2251  6.3637  6.4095\n",
       " 1.0  5.0208  6.1222  6.3014  6.3308  6.3353\n",
       " 1.0  4.2036  5.4916  6.0794  6.3478  6.4701\n",
       " 1.0  4.243   5.5964  6.1539  6.3835  6.4782\n",
       " 1.0  4.3542  5.2282  5.7437  6.0475  6.2264\n",
       " 1.0  4.6539  5.4693  5.9712  6.2288  6.3503"
      ]
     },
     "execution_count": 148,
     "metadata": {},
     "output_type": "execute_result"
    }
   ],
   "source": [
    "rxbar_t1 = 1/9 * sum(rx_t1, 2)\n",
    "X = hcat(ones(length(rxbar_t1)), data[2:end, :SVENY01], [data[2:end, Symbol(\"fwd$(y)y\")] for y in 2:5]...)"
   ]
  },
  {
   "cell_type": "code",
   "execution_count": 149,
   "metadata": {},
   "outputs": [
    {
     "data": {
      "text/plain": [
       "6×1 Array{Float64,2}:\n",
       "  -0.370198\n",
       "  -1.941   \n",
       "   5.4919  \n",
       " -10.7566  \n",
       "   7.98636 \n",
       "  -0.739936"
      ]
     },
     "execution_count": 149,
     "metadata": {},
     "output_type": "execute_result"
    }
   ],
   "source": [
    "γ = (X' * X) \\ (X' * rxbar_t1)"
   ]
  },
  {
   "cell_type": "code",
   "execution_count": 150,
   "metadata": {},
   "outputs": [
    {
     "data": {
      "text/plain": [
       "555-element Array{Float64,1}:\n",
       " 0.721465\n",
       " 0.577565\n",
       " 0.740145\n",
       " 0.925075\n",
       " 1.02497 \n",
       " 0.890991\n",
       " 1.13293 \n",
       " 1.12205 \n",
       " 1.02468 \n",
       " 1.26188 \n",
       " 1.42704 \n",
       " 1.5795  \n",
       " 1.79233 \n",
       " ⋮       \n",
       " 1.1155  \n",
       " 1.02007 \n",
       " 1.12062 \n",
       " 1.76485 \n",
       " 1.18103 \n",
       " 1.71803 \n",
       " 1.81846 \n",
       " 1.5975  \n",
       " 2.14449 \n",
       " 2.12131 \n",
       " 1.79862 \n",
       " 1.45012 "
      ]
     },
     "execution_count": 150,
     "metadata": {},
     "output_type": "execute_result"
    }
   ],
   "source": [
    "CP = (X * γ)[:, 1]"
   ]
  },
  {
   "cell_type": "markdown",
   "metadata": {},
   "source": [
    "$$CP_t = \\hat{\\overline{rx}}_{t+1}$$"
   ]
  },
  {
   "cell_type": "markdown",
   "metadata": {},
   "source": [
    "### (e)"
   ]
  },
  {
   "cell_type": "code",
   "execution_count": 151,
   "metadata": {},
   "outputs": [],
   "source": [
    "X = hcat(ones(length(CP)), CP)\n",
    "f⟂ = hcat([data[2:end, Symbol(\"fwd$(n)y\")] - X * ((X' * X) \\ (X' * data[2:end, Symbol(\"fwd$(n)y\")])) for n in 2:10]...);"
   ]
  },
  {
   "cell_type": "markdown",
   "metadata": {},
   "source": [
    "### (f)"
   ]
  },
  {
   "cell_type": "code",
   "execution_count": 144,
   "metadata": {},
   "outputs": [
    {
     "data": {
      "text/plain": [
       "9×2 Array{Float64,2}:\n",
       " -2.07346   0.123497\n",
       " -1.96663   0.121598\n",
       " -1.31468   0.117695\n",
       " -0.507959  0.113584\n",
       "  0.279181  0.109841\n",
       "  0.96282   0.10667 \n",
       "  1.51044   0.104121\n",
       "  1.91729   0.102183\n",
       "  2.19301   0.100811"
      ]
     },
     "execution_count": 144,
     "metadata": {},
     "output_type": "execute_result"
    }
   ],
   "source": [
    "decomp[2][:, end-1:end] ./ sum(decomp[2][:, end-1:end], 1)"
   ]
  },
  {
   "cell_type": "code",
   "execution_count": 152,
   "metadata": {},
   "outputs": [
    {
     "data": {
      "text/plain": [
       "555×2 Array{Float64,2}:\n",
       " -6.40323  -4.17463  \n",
       " -5.39532  -4.56306  \n",
       " -4.96229  -4.4493   \n",
       " -4.49614  -4.3967   \n",
       " -4.16745  -4.37884  \n",
       " -3.6547   -4.66447  \n",
       " -3.43469  -4.33696  \n",
       " -4.05077  -4.33279  \n",
       " -3.38242  -4.47523  \n",
       " -3.81175  -4.25409  \n",
       " -4.49519  -4.03086  \n",
       " -5.2773   -3.97295  \n",
       " -4.82464  -3.7669   \n",
       "  ⋮                  \n",
       " -5.55606  -0.402889 \n",
       " -4.81071  -0.394712 \n",
       " -4.61024  -0.317302 \n",
       " -7.08932  -0.166146 \n",
       " -5.27216  -0.51479  \n",
       " -4.34138  -0.190327 \n",
       " -6.15009  -0.109487 \n",
       " -6.8893   -0.234283 \n",
       " -5.24443   0.0693883\n",
       " -5.75692   0.0740625\n",
       " -3.38269  -0.315897 \n",
       " -3.63671  -0.390235 "
      ]
     },
     "execution_count": 152,
     "metadata": {},
     "output_type": "execute_result"
    }
   ],
   "source": [
    "decomp = eig(cov(f⟂))\n",
    "PC = f⟂ * decomp[2][:, end-1:end] ./ sum(decomp[2][:, end-1:end], 1)"
   ]
  },
  {
   "cell_type": "markdown",
   "metadata": {},
   "source": [
    "### (g)"
   ]
  },
  {
   "cell_type": "code",
   "execution_count": 158,
   "metadata": {},
   "outputs": [
    {
     "data": {
      "text/plain": [
       "555×2 Array{Float64,2}:\n",
       " -6.40323  -4.17463  \n",
       " -5.39532  -4.56306  \n",
       " -4.96229  -4.4493   \n",
       " -4.49614  -4.3967   \n",
       " -4.16745  -4.37884  \n",
       " -3.6547   -4.66447  \n",
       " -3.43469  -4.33696  \n",
       " -4.05077  -4.33279  \n",
       " -3.38242  -4.47523  \n",
       " -3.81175  -4.25409  \n",
       " -4.49519  -4.03086  \n",
       " -5.2773   -3.97295  \n",
       " -4.82464  -3.7669   \n",
       "  ⋮                  \n",
       " -5.55606  -0.402889 \n",
       " -4.81071  -0.394712 \n",
       " -4.61024  -0.317302 \n",
       " -7.08932  -0.166146 \n",
       " -5.27216  -0.51479  \n",
       " -4.34138  -0.190327 \n",
       " -6.15009  -0.109487 \n",
       " -6.8893   -0.234283 \n",
       " -5.24443   0.0693883\n",
       " -5.75692   0.0740625\n",
       " -3.38269  -0.315897 \n",
       " -3.63671  -0.390235 "
      ]
     },
     "execution_count": 158,
     "metadata": {},
     "output_type": "execute_result"
    }
   ],
   "source": [
    "CP = CP - mean(CP)\n",
    "PC = PC .- mean(PC, 1)"
   ]
  },
  {
   "cell_type": "markdown",
   "metadata": {},
   "source": [
    "### (h)\n",
    "#### (i)"
   ]
  },
  {
   "cell_type": "code",
   "execution_count": 163,
   "metadata": {},
   "outputs": [
    {
     "data": {
      "text/plain": [
       "0.43734213071923"
      ]
     },
     "execution_count": 163,
     "metadata": {},
     "output_type": "execute_result"
    }
   ],
   "source": [
    "X = hcat(ones(length(rxbar_t1)), data[2:end, :SVENY01], [data[2:end, Symbol(\"fwd$(y)y\")] for y in 2:5]...)\n",
    "γ = (X' * X) \\ (X' * rxbar_t1)\n",
    "1 - sum((rxbar_t1 - (X * γ)[:, 1]).^2)/sum((rxbar_t1 - mean(rxbar_t1)).^2)"
   ]
  },
  {
   "cell_type": "markdown",
   "metadata": {},
   "source": [
    "#### (ii)\n",
    "Until 1992.12 the $R^2$ is:"
   ]
  },
  {
   "cell_type": "code",
   "execution_count": 181,
   "metadata": {},
   "outputs": [
    {
     "data": {
      "text/plain": [
       "0.3581029321663768"
      ]
     },
     "execution_count": 181,
     "metadata": {},
     "output_type": "execute_result"
    }
   ],
   "source": [
    "X = hcat(ones(length(rxbar_t1[218:end])), data[219:end, :SVENY01], [data[219:end, Symbol(\"fwd$(y)y\")] for y in 2:5]...)\n",
    "γ = (X' * X) \\ (X' * rxbar_t1[218:end])\n",
    "1 - sum((rxbar_t1[218:end] - (X * γ)[:, 1]).^2)/sum((rxbar_t1[218:end] - mean(rxbar_t1[218:end])).^2)"
   ]
  },
  {
   "cell_type": "markdown",
   "metadata": {},
   "source": [
    "From 1993 on the $R^2$ is:"
   ]
  },
  {
   "cell_type": "code",
   "execution_count": 183,
   "metadata": {},
   "outputs": [
    {
     "data": {
      "text/plain": [
       "0.5602113742763926"
      ]
     },
     "execution_count": 183,
     "metadata": {},
     "output_type": "execute_result"
    }
   ],
   "source": [
    "X = hcat(ones(length(rxbar_t1[1:217])), data[2:218, :SVENY01], [data[2:218, Symbol(\"fwd$(y)y\")] for y in 2:5]...)\n",
    "γ = (X' * X) \\ (X' * rxbar_t1[1:217])\n",
    "1 - sum((rxbar_t1[1:217] - (X * γ)[:, 1]).^2)/sum((rxbar_t1[1:217] - mean(rxbar_t1[1:217])).^2)"
   ]
  },
  {
   "cell_type": "markdown",
   "metadata": {},
   "source": [
    "TODO: Interpret??"
   ]
  },
  {
   "cell_type": "markdown",
   "metadata": {},
   "source": [
    "## Task 2"
   ]
  },
  {
   "cell_type": "code",
   "execution_count": 326,
   "metadata": {},
   "outputs": [
    {
     "data": {
      "text/plain": [
       "555×3 Array{Float64,2}:\n",
       " -0.732341    -6.40323  -4.17463  \n",
       " -0.876241    -5.39532  -4.56306  \n",
       " -0.713662    -4.96229  -4.4493   \n",
       " -0.528732    -4.49614  -4.3967   \n",
       " -0.428833    -4.16745  -4.37884  \n",
       " -0.562815    -3.6547   -4.66447  \n",
       " -0.320873    -3.43469  -4.33696  \n",
       " -0.331753    -4.05077  -4.33279  \n",
       " -0.429128    -3.38242  -4.47523  \n",
       " -0.191922    -3.81175  -4.25409  \n",
       " -0.0267684   -4.49519  -4.03086  \n",
       "  0.125697    -5.2773   -3.97295  \n",
       "  0.338521    -4.82464  -3.7669   \n",
       "  ⋮                               \n",
       " -0.338307    -5.55606  -0.402889 \n",
       " -0.433735    -4.81071  -0.394712 \n",
       " -0.333187    -4.61024  -0.317302 \n",
       "  0.31104     -7.08932  -0.166146 \n",
       " -0.272781    -5.27216  -0.51479  \n",
       "  0.264221    -4.34138  -0.190327 \n",
       "  0.364653    -6.15009  -0.109487 \n",
       "  0.143692    -6.8893   -0.234283 \n",
       "  0.690681    -5.24443   0.0693883\n",
       "  0.667508    -5.75692   0.0740625\n",
       "  0.344815    -3.38269  -0.315897 \n",
       " -0.00368774  -3.63671  -0.390235 "
      ]
     },
     "execution_count": 326,
     "metadata": {},
     "output_type": "execute_result"
    }
   ],
   "source": [
    "X = hcat(CP, PC)"
   ]
  },
  {
   "cell_type": "code",
   "execution_count": 327,
   "metadata": {},
   "outputs": [
    {
     "data": {
      "text/plain": [
       "555-element Array{Float64,1}:\n",
       " 1.9119\n",
       " 1.7573\n",
       " 1.6313\n",
       " 1.4416\n",
       " 1.3341\n",
       " 1.2322\n",
       " 1.2383\n",
       " 1.2608\n",
       " 1.1887\n",
       " 1.1191\n",
       " 1.0551\n",
       " 0.9164\n",
       " 0.8732\n",
       " ⋮     \n",
       " 5.4437\n",
       " 5.4438\n",
       " 5.3263\n",
       " 4.7773\n",
       " 5.0769\n",
       " 4.569 \n",
       " 4.5459\n",
       " 5.0208\n",
       " 4.2036\n",
       " 4.243 \n",
       " 4.3542\n",
       " 4.6539"
      ]
     },
     "execution_count": 327,
     "metadata": {},
     "output_type": "execute_result"
    }
   ],
   "source": [
    "y1 = data[2:end, :SVENY01]"
   ]
  },
  {
   "cell_type": "code",
   "execution_count": 318,
   "metadata": {},
   "outputs": [
    {
     "data": {
      "text/plain": [
       "4-element Array{Float64,1}:\n",
       "  5.22048  \n",
       " -1.39617  \n",
       " -0.0083798\n",
       "  1.04331  "
      ]
     },
     "execution_count": 318,
     "metadata": {},
     "output_type": "execute_result"
    }
   ],
   "source": [
    "Z = hcat(ones(size(X, 1)), X)\n",
    "δ = (Z' * Z) \\ (Z' * y1)"
   ]
  },
  {
   "cell_type": "code",
   "execution_count": 319,
   "metadata": {},
   "outputs": [
    {
     "data": {
      "text/plain": [
       "0.9939130606952067"
      ]
     },
     "execution_count": 319,
     "metadata": {},
     "output_type": "execute_result"
    }
   ],
   "source": [
    "1 - sum((y1 - (Z * δ)[:, 1]).^2)/sum((y1 - mean(y1)).^2)"
   ]
  },
  {
   "cell_type": "markdown",
   "metadata": {},
   "source": [
    "I guess it's correct?!"
   ]
  },
  {
   "cell_type": "markdown",
   "metadata": {},
   "source": [
    "## Task 4"
   ]
  },
  {
   "cell_type": "code",
   "execution_count": 320,
   "metadata": {
    "scrolled": false
   },
   "outputs": [
    {
     "data": {
      "text/plain": [
       "3×3 Array{Float64,2}:\n",
       "  0.540006    0.0659785   -0.492155 \n",
       "  0.0888033   0.422987     0.0906404\n",
       " -0.0061813  -0.00301876   0.900161 "
      ]
     },
     "execution_count": 320,
     "metadata": {},
     "output_type": "execute_result"
    }
   ],
   "source": [
    "β = ((X[13:end, :])' * X[13:end, :]) \\ ((X[13:end, :])' * X[1:end-12, :])"
   ]
  },
  {
   "cell_type": "markdown",
   "metadata": {},
   "source": [
    "naive OLS estimate:"
   ]
  },
  {
   "cell_type": "code",
   "execution_count": 343,
   "metadata": {},
   "outputs": [
    {
     "data": {
      "text/plain": [
       "9×9 Array{Float64,2}:\n",
       "  0.003  -0.001   0.001  -0.0     0.0    -0.0   0.0    -0.0     0.0\n",
       " -0.001   0.007  -0.0     0.0    -0.0     0.0  -0.0     0.0    -0.0\n",
       "  0.001  -0.0     0.002  -0.0     0.0    -0.0   0.0    -0.0     0.0\n",
       " -0.0     0.0    -0.0     0.001  -0.0     0.0   0.0    -0.0     0.0\n",
       "  0.0    -0.0     0.0    -0.0     0.001  -0.0  -0.0     0.0    -0.0\n",
       " -0.0     0.0    -0.0     0.0    -0.0     0.0   0.0    -0.0     0.0\n",
       "  0.0    -0.0     0.0     0.0    -0.0     0.0   0.001  -0.0     0.0\n",
       " -0.0     0.0    -0.0    -0.0     0.0    -0.0  -0.0     0.002  -0.0\n",
       "  0.0    -0.0     0.0     0.0    -0.0     0.0   0.0    -0.0     0.0"
      ]
     },
     "execution_count": 343,
     "metadata": {},
     "output_type": "execute_result"
    }
   ],
   "source": [
    "ϵ = ((X[1:end-12, :])' .- β * (X[13:end, :])')'\n",
    "Σhat = ϵ'ϵ/(size(ϵ, 1) - 9 - 1)\n",
    "round.(kron(inv(X'X), Σhat), 3)"
   ]
  },
  {
   "cell_type": "markdown",
   "metadata": {},
   "source": [
    "HAC version to control for autocorrelation:"
   ]
  },
  {
   "cell_type": "code",
   "execution_count": 341,
   "metadata": {},
   "outputs": [
    {
     "data": {
      "text/plain": [
       "Γ! (generic function with 2 methods)"
      ]
     },
     "execution_count": 341,
     "metadata": {},
     "output_type": "execute_result"
    }
   ],
   "source": [
    "function Shat_HAC(Y, X, β; Jn = 4)\n",
    "    N = length(β)\n",
    "    \n",
    "    Γ = zeros(N, N)\n",
    "    Γ!(Γ, Y, X, β, j = 0)\n",
    "    \n",
    "    #0th lag\n",
    "    Shat = copy(Γ)\n",
    "    \n",
    "    #all other lags\n",
    "    for j in 1:Jn\n",
    "        Γ .= zeros(N, N)\n",
    "        Γ!(Γ, Y, X, β, j = j)\n",
    "        Shat .+= (1 - j / (Jn + 1)) .* (Γ .+ Γ')\n",
    "    end\n",
    "    \n",
    "    return Shat\n",
    "end\n",
    "\n",
    "function Γ!(Γ, Y, X, β; j = 0)\n",
    "    for t in j+1:size(X, 1)\n",
    "        Γ .+= vec((Y[t, :] - β  * X[t, :]) * X[t, :]') * vec((Y[t, :] - β  * X[t, :]) * X[t, :]')'\n",
    "    end\n",
    "    \n",
    "    Γ .= Γ ./ (size(X, 1) - j)\n",
    "end"
   ]
  },
  {
   "cell_type": "code",
   "execution_count": 344,
   "metadata": {},
   "outputs": [
    {
     "data": {
      "text/plain": [
       "9×9 Array{Float64,2}:\n",
       "  0.013  -0.008   0.005  -0.011   0.013  -0.005  -0.005   0.009  -0.006\n",
       " -0.008   0.054  -0.004   0.013  -0.028   0.007   0.009  -0.018  -0.001\n",
       "  0.005  -0.004   0.014  -0.005   0.007  -0.014  -0.006  -0.001  -0.003\n",
       " -0.011   0.013  -0.005   0.072  -0.047   0.036   0.007  -0.016   0.004\n",
       "  0.013  -0.028   0.007  -0.047   0.188  -0.027  -0.016   0.022   0.002\n",
       " -0.005   0.007  -0.014   0.036  -0.027   0.065   0.004   0.002   0.002\n",
       " -0.005   0.009  -0.006   0.007  -0.016   0.004   0.099  -0.04   -0.005\n",
       "  0.009  -0.018  -0.001  -0.016   0.022   0.002  -0.04    0.107   0.011\n",
       " -0.006  -0.001  -0.003   0.004   0.002   0.002  -0.005   0.011   0.032"
      ]
     },
     "execution_count": 344,
     "metadata": {},
     "output_type": "execute_result"
    }
   ],
   "source": [
    "round.(Shat_HAC(X[1:end-12, :], X[13:end, :], β, Jn = 0)/size(X, 1), 3)"
   ]
  },
  {
   "cell_type": "code",
   "execution_count": null,
   "metadata": {},
   "outputs": [],
   "source": []
  }
 ],
 "metadata": {
  "kernelspec": {
   "display_name": "Julia 0.6.2",
   "language": "julia",
   "name": "julia-0.6"
  },
  "language_info": {
   "file_extension": ".jl",
   "mimetype": "application/julia",
   "name": "julia",
   "version": "0.6.2"
  }
 },
 "nbformat": 4,
 "nbformat_minor": 2
}
