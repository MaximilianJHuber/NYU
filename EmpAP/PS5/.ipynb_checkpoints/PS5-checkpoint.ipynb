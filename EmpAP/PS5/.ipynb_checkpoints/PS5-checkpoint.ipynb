{
 "cells": [
  {
   "cell_type": "markdown",
   "metadata": {},
   "source": [
    "# Empirical Asset Pricing - PS5\n",
    "\n",
    "Maximilian Huber\n",
    "\n",
    "## Task 1\n"
   ]
  },
  {
   "cell_type": "markdown",
   "metadata": {},
   "source": [
    "### (a)"
   ]
  },
  {
   "cell_type": "code",
   "execution_count": 1,
   "metadata": {
    "code_folding": [
     0
    ]
   },
   "outputs": [],
   "source": [
    "# loading data and selecting the end-of-month entry\n",
    "using CSV, DataFrames, Query, Plots, Optim, Roots; gr();\n",
    "data = CSV.read(\"./Data/PS5.csv\", delim='\\t')\n",
    "data[:, 1] = Date.(data[:, 1], \"mm/dd/yyyy\")\n",
    "data[:yearmonth] = Dates.yearmonth.((data[:, 1]))\n",
    "data = by(data, :yearmonth) do df\n",
    "    return df[indmax(Dates.day.(df[:Date])), 2:end-1] \n",
    "end;\n",
    "\n",
    "for i in 2:size(data, 2)\n",
    "    data[:, i] = data[:, i] ./ 100\n",
    "end"
   ]
  },
  {
   "cell_type": "markdown",
   "metadata": {},
   "source": [
    "### (b)\n",
    "Mind that `fwd2y` is the rate at which you can invest between a date in one year from today with maturity in two years from today."
   ]
  },
  {
   "cell_type": "code",
   "execution_count": 2,
   "metadata": {},
   "outputs": [],
   "source": [
    "for n in 2:10\n",
    "    data[Symbol(\"fwd$(n)y\")] = n * data[:, Symbol(\"SVENY$(lpad(n,2,0))\")] - \n",
    "        (n - 1) * data[:, Symbol(\"SVENY$(lpad(n-1,2,0))\")]\n",
    "end"
   ]
  },
  {
   "cell_type": "markdown",
   "metadata": {},
   "source": [
    "### (c)\n",
    "$$rx_{t+1} = p_{t+1}(n-1) - p_t(n) - y_t(1)$$"
   ]
  },
  {
   "cell_type": "code",
   "execution_count": 3,
   "metadata": {},
   "outputs": [],
   "source": [
    "pt = hcat([- n * data[:, 1+n] for n in 1:10]...)\n",
    "rx_t1 = pt[1:end-12, 1:9] - pt[13:end, 2:10] - repmat(data[13:end, 2], 1, 9);"
   ]
  },
  {
   "cell_type": "markdown",
   "metadata": {},
   "source": [
    "The first entry of `rx_t1` is the return that has occurred from the beginning of March 2017 to the end of February 2018."
   ]
  },
  {
   "cell_type": "markdown",
   "metadata": {},
   "source": [
    "## (d)\n",
    "Mind that this is a predictive regression. For example, the first return entry is the return from the beginning of March 2017 to the end of February 2018 and is explained by right-hand side variables at the end of February 2017, the row 13 in `data`."
   ]
  },
  {
   "cell_type": "code",
   "execution_count": 4,
   "metadata": {},
   "outputs": [
    {
     "data": {
      "text/plain": [
       "6-element Array{Float64,1}:\n",
       "  -0.0375793\n",
       "  -4.5919   \n",
       "   9.90151  \n",
       " -11.5436   \n",
       "   3.09449  \n",
       "   3.55366  "
      ]
     },
     "execution_count": 4,
     "metadata": {},
     "output_type": "execute_result"
    }
   ],
   "source": [
    "rxbar_t1 = 1/9 * sum(rx_t1, 2)[:]\n",
    "X = hcat(ones(length(data[13:end, :SVENY01])), data[13:end, :SVENY01], [data[13:end, Symbol(\"fwd$(y)y\")] for y in 2:5]...)\n",
    "\n",
    "γ = (X' * X) \\ (X' * rxbar_t1)"
   ]
  },
  {
   "cell_type": "markdown",
   "metadata": {},
   "source": [
    "The estimates are quite different than in the [Cochrane and Piazzesi (2005)](https://www.aeaweb.org/articles?id=10.1257/0002828053828581)."
   ]
  },
  {
   "cell_type": "code",
   "execution_count": 5,
   "metadata": {},
   "outputs": [],
   "source": [
    "CP = (X * γ);"
   ]
  },
  {
   "cell_type": "markdown",
   "metadata": {},
   "source": [
    "Mind that $CP_t = \\hat{\\overline{rx}}_{t+1}$ is known at $t$, hence the first entry of `CP` is for February 2017."
   ]
  },
  {
   "cell_type": "markdown",
   "metadata": {},
   "source": [
    "### (e)"
   ]
  },
  {
   "cell_type": "code",
   "execution_count": 6,
   "metadata": {},
   "outputs": [],
   "source": [
    "X = hcat(ones(length(CP)), CP)\n",
    "f⟂ = hcat([data[13:end, Symbol(\"fwd$(n)y\")] - X * ((X' * X) \\ (X' * data[13:end, Symbol(\"fwd$(n)y\")])) for n in 2:10]...);"
   ]
  },
  {
   "cell_type": "markdown",
   "metadata": {},
   "source": [
    "### (f)\n",
    "The `eig` function sorts eigenvalue from smallest to largest, hence the last EV is the level factor and the second to last is the slope factor. I also normalize the eigenvectors."
   ]
  },
  {
   "cell_type": "code",
   "execution_count": 7,
   "metadata": {},
   "outputs": [],
   "source": [
    "decomp = eig(cov(f⟂))\n",
    "PC = f⟂ * decomp[2][:, end:-1:end-1] ./ sum(decomp[2][:, end:-1:end-1], 1);"
   ]
  },
  {
   "cell_type": "markdown",
   "metadata": {},
   "source": [
    "### (g)"
   ]
  },
  {
   "cell_type": "code",
   "execution_count": 8,
   "metadata": {},
   "outputs": [],
   "source": [
    "CP = CP - mean(CP)\n",
    "PC = PC .- mean(PC, 1);"
   ]
  },
  {
   "cell_type": "markdown",
   "metadata": {},
   "source": [
    "### (h)\n",
    "#### (i)\n",
    "I report the $R^2$ from the regression in (d):"
   ]
  },
  {
   "cell_type": "code",
   "execution_count": 9,
   "metadata": {},
   "outputs": [
    {
     "data": {
      "text/plain": [
       "0.2042770148739208"
      ]
     },
     "execution_count": 9,
     "metadata": {},
     "output_type": "execute_result"
    }
   ],
   "source": [
    "X = hcat(ones(length(data[13:end, :SVENY01])), data[13:end, :SVENY01], [data[13:end, Symbol(\"fwd$(y)y\")] for y in 2:5]...)\n",
    "\n",
    "1 - sum((rxbar_t1 - (X * γ)[:, 1]).^2)/sum((rxbar_t1 - mean(rxbar_t1)).^2)"
   ]
  },
  {
   "cell_type": "markdown",
   "metadata": {},
   "source": [
    "#### (ii)\n",
    "Until 1992.12 the $R^2$ is:"
   ]
  },
  {
   "cell_type": "code",
   "execution_count": 10,
   "metadata": {},
   "outputs": [
    {
     "data": {
      "text/plain": [
       "0.34929786136717766"
      ]
     },
     "execution_count": 10,
     "metadata": {},
     "output_type": "execute_result"
    }
   ],
   "source": [
    "X = hcat(ones(length(rxbar_t1[303:end])), data[315:end, :SVENY01], [data[315:end, Symbol(\"fwd$(y)y\")] for y in 2:5]...)\n",
    "\n",
    "γpre = (X' * X) \\ (X' * rxbar_t1[303:end])\n",
    "1 - sum((rxbar_t1[303:end] - (X * γpre)).^2)/sum((rxbar_t1[303:end] - mean(rxbar_t1[315:end])).^2)"
   ]
  },
  {
   "cell_type": "markdown",
   "metadata": {},
   "source": [
    "From 1993 on the $R^2$ is:"
   ]
  },
  {
   "cell_type": "code",
   "execution_count": 11,
   "metadata": {},
   "outputs": [
    {
     "data": {
      "text/plain": [
       "0.15607247974828575"
      ]
     },
     "execution_count": 11,
     "metadata": {},
     "output_type": "execute_result"
    }
   ],
   "source": [
    "X = hcat(ones(length(rxbar_t1[1:290])), data[13:302, :SVENY01], [data[13:302, Symbol(\"fwd$(y)y\")] for y in 2:5]...)\n",
    "γpost = (X' * X) \\ (X' * rxbar_t1[1:290])\n",
    "1 - sum((rxbar_t1[1:290] - (X * γpost)[:, 1]).^2)/sum((rxbar_t1[1:290] - mean(rxbar_t1[13:302])).^2)"
   ]
  },
  {
   "cell_type": "markdown",
   "metadata": {},
   "source": [
    "The CP regression fits better after 1992. Under Paul Volcker bond yields were very volatile, but after that period there have been less surprises of the level of the yield curve."
   ]
  },
  {
   "cell_type": "markdown",
   "metadata": {},
   "source": [
    "## Task 3\n",
    "The estimates for $\\delta$ are:"
   ]
  },
  {
   "cell_type": "code",
   "execution_count": 12,
   "metadata": {},
   "outputs": [
    {
     "data": {
      "text/plain": [
       "(0.05298159375, [-0.202396, 1.24574, -0.10364])"
      ]
     },
     "execution_count": 12,
     "metadata": {},
     "output_type": "execute_result"
    }
   ],
   "source": [
    "X = hcat(CP, PC)\n",
    "y1 = data[13:end, :SVENY01]\n",
    "\n",
    "Z = hcat(ones(size(X, 1)), X)\n",
    "δ = (Z' * Z) \\ (Z' * y1)\n",
    "(δ0, δ1) = (δ[1], δ[2:end])"
   ]
  },
  {
   "cell_type": "code",
   "execution_count": 13,
   "metadata": {},
   "outputs": [
    {
     "data": {
      "text/plain": [
       "0.9934919538495254"
      ]
     },
     "execution_count": 13,
     "metadata": {},
     "output_type": "execute_result"
    }
   ],
   "source": [
    "1 - sum((y1 - (Z * δ)).^2)/sum((y1 - mean(y1)).^2)"
   ]
  },
  {
   "cell_type": "markdown",
   "metadata": {},
   "source": [
    "If the model is correct the $R^2$ should be one, that is the short-term interest rate is a affine function of the shocks to the economy. The value is very close to one, the model seems to work well for short-term interest rates."
   ]
  },
  {
   "cell_type": "markdown",
   "metadata": {},
   "source": [
    "## Task 4\n",
    "Mind that `Γ`'s first row contains the coefficients that explain $X_{t+1}^1$."
   ]
  },
  {
   "cell_type": "code",
   "execution_count": 14,
   "metadata": {
    "scrolled": false
   },
   "outputs": [
    {
     "data": {
      "text/plain": [
       "3×3 Array{Float64,2}:\n",
       "  0.431313    0.200436     0.33112 \n",
       " -0.0654858   0.942041    -0.022503\n",
       "  0.0266408  -0.00309509   0.417514"
      ]
     },
     "execution_count": 14,
     "metadata": {},
     "output_type": "execute_result"
    }
   ],
   "source": [
    "Γ = (((X[13:end, :])' * X[13:end, :]) \\ ((X[13:end, :])' * X[1:end-12, :]))'"
   ]
  },
  {
   "cell_type": "markdown",
   "metadata": {},
   "source": [
    "The naive OLS estimate of $\\Sigma = \\mathbb{E} \\big[ \\epsilon_t \\epsilon_t^{'} \\big] $ is fine, but be aware that the errors are serially correlated!"
   ]
  },
  {
   "cell_type": "code",
   "execution_count": 15,
   "metadata": {},
   "outputs": [
    {
     "data": {
      "text/plain": [
       "3×3 Array{Float64,2}:\n",
       "  0.000626218  -0.000102849  -6.62409e-5 \n",
       " -0.000102849   0.00012128    1.56561e-5 \n",
       " -6.62409e-5    1.56561e-5    0.000407455"
      ]
     },
     "execution_count": 15,
     "metadata": {},
     "output_type": "execute_result"
    }
   ],
   "source": [
    "ϵ = X[1:end-12, :] .- X[13:end, :] * Γ'\n",
    "Σ = ϵ'ϵ/(size(ϵ, 1) - 9 - 1)"
   ]
  },
  {
   "cell_type": "markdown",
   "metadata": {},
   "source": [
    "Newey-West HAC estimate with 12 lags of the standard deviations of $\\Gamma$ is:"
   ]
  },
  {
   "cell_type": "code",
   "execution_count": 16,
   "metadata": {
    "code_folding": [
     0
    ]
   },
   "outputs": [
    {
     "data": {
      "text/plain": [
       "Γ! (generic function with 1 method)"
      ]
     },
     "execution_count": 16,
     "metadata": {},
     "output_type": "execute_result"
    }
   ],
   "source": [
    "# function that performs Newey-West HAC estimation of the variance of the estimates\n",
    "function Shat_HAC(Y, X, β; Jn = 4)\n",
    "    N = length(β)\n",
    "    \n",
    "    Γ = zeros(N, N)\n",
    "    Γ!(Γ, Y, X, β, j = 0)\n",
    "    \n",
    "    #0th lag\n",
    "    Shat = copy(Γ)\n",
    "    \n",
    "    #all other lags\n",
    "    for j in 1:Jn\n",
    "        Γ .= zeros(N, N)\n",
    "        Γ!(Γ, Y, X, β, j = j)\n",
    "        Shat .+= (1 - j / (Jn + 1)) .* (Γ .+ Γ')\n",
    "    end\n",
    "    \n",
    "    return Shat\n",
    "end\n",
    "\n",
    "function Γ!(Γ, Y, X, β; j = 0)\n",
    "    for t in j+1:size(X, 1)\n",
    "        Γ .+= vec((Y[t, :] - β  * X[t, :]) * X[t, :]') * vec((Y[t-j, :] - β  * X[t-j, :]) * X[t-j, :]')'\n",
    "    end\n",
    "    \n",
    "    Γ .= Γ ./ (size(X, 1) - j)\n",
    "end"
   ]
  },
  {
   "cell_type": "code",
   "execution_count": 17,
   "metadata": {
    "scrolled": true
   },
   "outputs": [
    {
     "data": {
      "text/plain": [
       "3×3 Array{Float64,2}:\n",
       " 6.8e-5  7.0e-5  6.1e-5\n",
       " 3.6e-5  4.8e-5  2.4e-5\n",
       " 7.0e-5  6.6e-5  4.1e-5"
      ]
     },
     "execution_count": 17,
     "metadata": {},
     "output_type": "execute_result"
    }
   ],
   "source": [
    "reshape(round.(sqrt.(diag(Shat_HAC(X[1:end-12, :], X[13:end, :], Γ, Jn = 12)/size(X, 1))), 6), 3, 3)"
   ]
  },
  {
   "cell_type": "markdown",
   "metadata": {},
   "source": [
    "The system is very precisely estimated! The autocorrelation of the level component is high with a value of `0.9`. There is mild autocorrelation in `CP`."
   ]
  },
  {
   "cell_type": "markdown",
   "metadata": {},
   "source": [
    "## Task 5"
   ]
  },
  {
   "cell_type": "code",
   "execution_count": 18,
   "metadata": {
    "scrolled": false
   },
   "outputs": [],
   "source": [
    "α = zeros(9, 3)\n",
    "\n",
    "for i in 1:3\n",
    "    # first stage: time series regression\n",
    "    X = hcat(ones(size(ϵ, 1)), ϵ[:, i])\n",
    "    β = ((X' * X) \\ (X' * rx_t1[13:end, :]))'\n",
    "    β = β[:, 2]\n",
    "    \n",
    "    # second stage: cross-sectional regression\n",
    "    λ = (β' * β) \\ (β' * (mean(rx_t1[13:end, :], 1) + 1/2 * var(rx_t1[13:end, :], 1))[:])\n",
    "    α[:, i] = (mean(rx_t1[13:end, :], 1) + 1/2 * var(rx_t1[13:end, :], 1))[:] - β * λ\n",
    "end\n",
    "\n",
    "table = DataFrame(hcat(string.(2:10), α), [:n, :CP, :level, :slope])\n",
    "push!(table, vcat(\"MAE\", mean(abs.(α), 1)[:]))"
   ]
  },
  {
   "cell_type": "markdown",
   "metadata": {},
   "source": [
    "\\begin{array}{cccc}\n",
    "\\hline\n",
    "n & CP & level & slope\\\\\n",
    "\\hline\n",
    "\\text{2} & -0.0094 & -0.00014 & 0.00296\\\\\n",
    "\\text{3} & -0.01124 & -0.00014 & -0.00247\\\\\n",
    "\\text{4} & -0.0096 & -0.00003 & -0.00614\\\\\n",
    "\\text{5} & -0.00588 & 0.00011 & -0.00625\\\\\n",
    "\\text{6} & -0.00085 & 0.00018 & -0.00274\\\\\n",
    "\\text{7} & 0.00498 & 0.00018 & 0.00394\\\\\n",
    "\\text{8} & 0.01128 & 0.00009 & 0.01317\\\\\n",
    "\\text{9} & 0.01778 & -0.00006 & 0.02434\\\\\n",
    "\\text{10} & 0.02434 & -0.00026 & 0.03689\\\\\n",
    "\\hline\n",
    "\\text{MAE} & 0.01059 & 0.00013 & 0.01099\n",
    "\\end{array}"
   ]
  },
  {
   "cell_type": "markdown",
   "metadata": {},
   "source": [
    "The level factor really best explains the term structure! Both CP and the slope factor miss about one percent of the cross-sectional return, the level factor only 0.01 percent."
   ]
  },
  {
   "cell_type": "markdown",
   "metadata": {},
   "source": [
    "## Task 6\n",
    "The price of a zero coupon bond with maturity in one year is given by:\n",
    "$$p_{t}(1)=-y_{t}(1)=\\underset{A(1)}{\\underbrace{-\\delta_{0}}}\\underset{B(1)}{\\underbrace{-\\delta_{1}}}X_{t}$$\n",
    "The Euler equation for holding a bond with a maturity of $n$ years over the next year is:\n",
    "$$p_{t}(n)=log\\Big(P_{t}(2)\\Big)=log\\Big(\\mathbb{E}_{t}\\Big[M_{t+1}\\cdot P_{t+1}(n-1)\\Big]\\Big)=log\\Big(\\mathbb{E}_{t}\\Big[exp\\big(m_{t+1}+p_{t+1}(n-1)\\big)\\Big]\\Big)$$\n",
    "\n",
    "\n",
    "$$=log\\Big(\\mathbb{E}_{t}\\Big[exp\\big(m_{t+1}+A(n-1\\big)+B(n-1)^{'}X_{t+1}\\Big]\\Big)$$\n",
    "$$=log\\Big(\\mathbb{E}_{t}\\Big[exp\\big(-\\delta_{0}-\\frac{1}{2}\\lambda_{t}^{'}\\Sigma\\lambda_{t}+A(n-1)-\\delta_{1}^{'}X_{t}+B(n-1)^{'}\\Gamma X_{t}+B(n-1)^{'}\\epsilon_{t+1}-\\lambda_{t}^{'}\\epsilon_{t+1}\\big)\\Big]\\Big)$$\n",
    "$$=\\underset{=: A(n)}{\\underbrace{A(n-1)-\\delta_{0}+\\frac{1}{2}B(n-1)^{'}\\Sigma B(n-1)-B(n-1)^{'}\\Sigma\\lambda_{0}}}\\underset{=: B(n)^{'}X_{t}}{\\underbrace{-\\delta_{1}^{'}X_{t}+B(n-1)^{'}\\Gamma X_{t}-B(n-1)^{'}\\Sigma\\lambda_{1}X_{t}}}$$"
   ]
  },
  {
   "cell_type": "markdown",
   "metadata": {},
   "source": [
    "Unwinding the recursion for $B(n)$ yields:\n",
    "$$B(n)^{'} = -\\delta_1^{'}\\sum_{i=1}^{n}\\big(\\Gamma^*\\big)^{i-1}$$"
   ]
  },
  {
   "cell_type": "markdown",
   "metadata": {},
   "source": [
    "## Task 7\n",
    "The estimate for $\\theta$ that is to be matched is:"
   ]
  },
  {
   "cell_type": "code",
   "execution_count": 19,
   "metadata": {},
   "outputs": [
    {
     "data": {
      "text/plain": [
       "0.5453736448541358"
      ]
     },
     "execution_count": 19,
     "metadata": {},
     "output_type": "execute_result"
    }
   ],
   "source": [
    "X = hcat(ones(size(CP[13:end, :], 1)), CP[13:end, :])\n",
    "θ = ((X' * X) \\ (X' * rx_t1[2:end-11, 9]))[2]"
   ]
  },
  {
   "cell_type": "markdown",
   "metadata": {},
   "source": [
    "The variable `λ121` is exactly the $\\lambda_{1(2,1)}$. Given a value of `λ121` the risk-neutral version of $\\Gamma$ and hence $B(n)$, where `δ1` has been already estimated above, is:"
   ]
  },
  {
   "cell_type": "code",
   "execution_count": 20,
   "metadata": {},
   "outputs": [
    {
     "data": {
      "text/plain": [
       "B (generic function with 1 method)"
      ]
     },
     "execution_count": 20,
     "metadata": {},
     "output_type": "execute_result"
    }
   ],
   "source": [
    "Γstar(λ121) = Γ - Σ * reshape([0, λ121, 0, 0, 0, 0, 0, 0, 0], 3, 3)\n",
    "B(n, λ121) = (-δ1' * sum([Γstar(1.)^(i-1) for i in 1:9]))'"
   ]
  },
  {
   "cell_type": "markdown",
   "metadata": {},
   "source": [
    "Now $B(n-1)^{'} \\Sigma \\lambda_1 = \\theta$ and the residual from that equation is:"
   ]
  },
  {
   "cell_type": "code",
   "execution_count": 21,
   "metadata": {},
   "outputs": [
    {
     "data": {
      "text/plain": [
       "residual (generic function with 1 method)"
      ]
     },
     "execution_count": 21,
     "metadata": {},
     "output_type": "execute_result"
    }
   ],
   "source": [
    "residual(λ121) = (B(9, λ121)' * Σ * reshape([0, λ121, 0, 0, 0, 0, 0, 0, 0], 3, 3))[1] - θ"
   ]
  },
  {
   "cell_type": "code",
   "execution_count": 22,
   "metadata": {},
   "outputs": [
    {
     "data": {
      "image/svg+xml": [
       "<?xml version=\"1.0\" encoding=\"utf-8\"?>\n",
       "<svg xmlns=\"http://www.w3.org/2000/svg\" xmlns:xlink=\"http://www.w3.org/1999/xlink\" width=\"600\" height=\"400\" viewBox=\"0 0 600 400\">\n",
       "<defs>\n",
       "  <clipPath id=\"clip6800\">\n",
       "    <rect x=\"0\" y=\"0\" width=\"600\" height=\"400\"/>\n",
       "  </clipPath>\n",
       "</defs>\n",
       "<polygon clip-path=\"url(#clip6800)\" points=\"\n",
       "0,400 600,400 600,0 0,0 \n",
       "  \" fill=\"#ffffff\" fill-opacity=\"1\"/>\n",
       "<defs>\n",
       "  <clipPath id=\"clip6801\">\n",
       "    <rect x=\"120\" y=\"0\" width=\"421\" height=\"400\"/>\n",
       "  </clipPath>\n",
       "</defs>\n",
       "<polygon clip-path=\"url(#clip6800)\" points=\"\n",
       "39.502,375.869 580.315,375.869 580.315,11.811 39.502,11.811 \n",
       "  \" fill=\"#ffffff\" fill-opacity=\"1\"/>\n",
       "<defs>\n",
       "  <clipPath id=\"clip6802\">\n",
       "    <rect x=\"39\" y=\"11\" width=\"542\" height=\"365\"/>\n",
       "  </clipPath>\n",
       "</defs>\n",
       "<polyline clip-path=\"url(#clip6802)\" style=\"stroke:#000000; stroke-width:0.5; stroke-opacity:0.1; fill:none\" points=\"\n",
       "  54.808,375.869 54.808,11.811 \n",
       "  \"/>\n",
       "<polyline clip-path=\"url(#clip6802)\" style=\"stroke:#000000; stroke-width:0.5; stroke-opacity:0.1; fill:none\" points=\"\n",
       "  182.358,375.869 182.358,11.811 \n",
       "  \"/>\n",
       "<polyline clip-path=\"url(#clip6802)\" style=\"stroke:#000000; stroke-width:0.5; stroke-opacity:0.1; fill:none\" points=\"\n",
       "  309.908,375.869 309.908,11.811 \n",
       "  \"/>\n",
       "<polyline clip-path=\"url(#clip6802)\" style=\"stroke:#000000; stroke-width:0.5; stroke-opacity:0.1; fill:none\" points=\"\n",
       "  437.459,375.869 437.459,11.811 \n",
       "  \"/>\n",
       "<polyline clip-path=\"url(#clip6802)\" style=\"stroke:#000000; stroke-width:0.5; stroke-opacity:0.1; fill:none\" points=\"\n",
       "  565.009,375.869 565.009,11.811 \n",
       "  \"/>\n",
       "<polyline clip-path=\"url(#clip6802)\" style=\"stroke:#000000; stroke-width:0.5; stroke-opacity:0.1; fill:none\" points=\"\n",
       "  39.502,319.076 580.315,319.076 \n",
       "  \"/>\n",
       "<polyline clip-path=\"url(#clip6802)\" style=\"stroke:#000000; stroke-width:0.5; stroke-opacity:0.1; fill:none\" points=\"\n",
       "  39.502,255.119 580.315,255.119 \n",
       "  \"/>\n",
       "<polyline clip-path=\"url(#clip6802)\" style=\"stroke:#000000; stroke-width:0.5; stroke-opacity:0.1; fill:none\" points=\"\n",
       "  39.502,191.161 580.315,191.161 \n",
       "  \"/>\n",
       "<polyline clip-path=\"url(#clip6802)\" style=\"stroke:#000000; stroke-width:0.5; stroke-opacity:0.1; fill:none\" points=\"\n",
       "  39.502,127.203 580.315,127.203 \n",
       "  \"/>\n",
       "<polyline clip-path=\"url(#clip6802)\" style=\"stroke:#000000; stroke-width:0.5; stroke-opacity:0.1; fill:none\" points=\"\n",
       "  39.502,63.2456 580.315,63.2456 \n",
       "  \"/>\n",
       "<polyline clip-path=\"url(#clip6800)\" style=\"stroke:#000000; stroke-width:1; stroke-opacity:1; fill:none\" points=\"\n",
       "  39.502,375.869 580.315,375.869 \n",
       "  \"/>\n",
       "<polyline clip-path=\"url(#clip6800)\" style=\"stroke:#000000; stroke-width:1; stroke-opacity:1; fill:none\" points=\"\n",
       "  39.502,375.869 39.502,11.811 \n",
       "  \"/>\n",
       "<polyline clip-path=\"url(#clip6800)\" style=\"stroke:#000000; stroke-width:1; stroke-opacity:1; fill:none\" points=\"\n",
       "  54.808,375.869 54.808,370.408 \n",
       "  \"/>\n",
       "<polyline clip-path=\"url(#clip6800)\" style=\"stroke:#000000; stroke-width:1; stroke-opacity:1; fill:none\" points=\"\n",
       "  182.358,375.869 182.358,370.408 \n",
       "  \"/>\n",
       "<polyline clip-path=\"url(#clip6800)\" style=\"stroke:#000000; stroke-width:1; stroke-opacity:1; fill:none\" points=\"\n",
       "  309.908,375.869 309.908,370.408 \n",
       "  \"/>\n",
       "<polyline clip-path=\"url(#clip6800)\" style=\"stroke:#000000; stroke-width:1; stroke-opacity:1; fill:none\" points=\"\n",
       "  437.459,375.869 437.459,370.408 \n",
       "  \"/>\n",
       "<polyline clip-path=\"url(#clip6800)\" style=\"stroke:#000000; stroke-width:1; stroke-opacity:1; fill:none\" points=\"\n",
       "  565.009,375.869 565.009,370.408 \n",
       "  \"/>\n",
       "<polyline clip-path=\"url(#clip6800)\" style=\"stroke:#000000; stroke-width:1; stroke-opacity:1; fill:none\" points=\"\n",
       "  39.502,319.076 47.6142,319.076 \n",
       "  \"/>\n",
       "<polyline clip-path=\"url(#clip6800)\" style=\"stroke:#000000; stroke-width:1; stroke-opacity:1; fill:none\" points=\"\n",
       "  39.502,255.119 47.6142,255.119 \n",
       "  \"/>\n",
       "<polyline clip-path=\"url(#clip6800)\" style=\"stroke:#000000; stroke-width:1; stroke-opacity:1; fill:none\" points=\"\n",
       "  39.502,191.161 47.6142,191.161 \n",
       "  \"/>\n",
       "<polyline clip-path=\"url(#clip6800)\" style=\"stroke:#000000; stroke-width:1; stroke-opacity:1; fill:none\" points=\"\n",
       "  39.502,127.203 47.6142,127.203 \n",
       "  \"/>\n",
       "<polyline clip-path=\"url(#clip6800)\" style=\"stroke:#000000; stroke-width:1; stroke-opacity:1; fill:none\" points=\"\n",
       "  39.502,63.2456 47.6142,63.2456 \n",
       "  \"/>\n",
       "<g clip-path=\"url(#clip6800)\">\n",
       "<text style=\"fill:#000000; fill-opacity:1; font-family:Arial,Helvetica Neue,Helvetica,sans-serif; font-size:12; text-anchor:middle;\" transform=\"rotate(0, 54.808, 389.669)\" x=\"54.808\" y=\"389.669\">-1000</text>\n",
       "</g>\n",
       "<g clip-path=\"url(#clip6800)\">\n",
       "<text style=\"fill:#000000; fill-opacity:1; font-family:Arial,Helvetica Neue,Helvetica,sans-serif; font-size:12; text-anchor:middle;\" transform=\"rotate(0, 182.358, 389.669)\" x=\"182.358\" y=\"389.669\">-750</text>\n",
       "</g>\n",
       "<g clip-path=\"url(#clip6800)\">\n",
       "<text style=\"fill:#000000; fill-opacity:1; font-family:Arial,Helvetica Neue,Helvetica,sans-serif; font-size:12; text-anchor:middle;\" transform=\"rotate(0, 309.908, 389.669)\" x=\"309.908\" y=\"389.669\">-500</text>\n",
       "</g>\n",
       "<g clip-path=\"url(#clip6800)\">\n",
       "<text style=\"fill:#000000; fill-opacity:1; font-family:Arial,Helvetica Neue,Helvetica,sans-serif; font-size:12; text-anchor:middle;\" transform=\"rotate(0, 437.459, 389.669)\" x=\"437.459\" y=\"389.669\">-250</text>\n",
       "</g>\n",
       "<g clip-path=\"url(#clip6800)\">\n",
       "<text style=\"fill:#000000; fill-opacity:1; font-family:Arial,Helvetica Neue,Helvetica,sans-serif; font-size:12; text-anchor:middle;\" transform=\"rotate(0, 565.009, 389.669)\" x=\"565.009\" y=\"389.669\">0</text>\n",
       "</g>\n",
       "<g clip-path=\"url(#clip6800)\">\n",
       "<text style=\"fill:#000000; fill-opacity:1; font-family:Arial,Helvetica Neue,Helvetica,sans-serif; font-size:12; text-anchor:end;\" transform=\"rotate(0, 33.502, 323.576)\" x=\"33.502\" y=\"323.576\">-0.4</text>\n",
       "</g>\n",
       "<g clip-path=\"url(#clip6800)\">\n",
       "<text style=\"fill:#000000; fill-opacity:1; font-family:Arial,Helvetica Neue,Helvetica,sans-serif; font-size:12; text-anchor:end;\" transform=\"rotate(0, 33.502, 259.619)\" x=\"33.502\" y=\"259.619\">-0.2</text>\n",
       "</g>\n",
       "<g clip-path=\"url(#clip6800)\">\n",
       "<text style=\"fill:#000000; fill-opacity:1; font-family:Arial,Helvetica Neue,Helvetica,sans-serif; font-size:12; text-anchor:end;\" transform=\"rotate(0, 33.502, 195.661)\" x=\"33.502\" y=\"195.661\">0.0</text>\n",
       "</g>\n",
       "<g clip-path=\"url(#clip6800)\">\n",
       "<text style=\"fill:#000000; fill-opacity:1; font-family:Arial,Helvetica Neue,Helvetica,sans-serif; font-size:12; text-anchor:end;\" transform=\"rotate(0, 33.502, 131.703)\" x=\"33.502\" y=\"131.703\">0.2</text>\n",
       "</g>\n",
       "<g clip-path=\"url(#clip6800)\">\n",
       "<text style=\"fill:#000000; fill-opacity:1; font-family:Arial,Helvetica Neue,Helvetica,sans-serif; font-size:12; text-anchor:end;\" transform=\"rotate(0, 33.502, 67.7456)\" x=\"33.502\" y=\"67.7456\">0.4</text>\n",
       "</g>\n",
       "<polyline clip-path=\"url(#clip6802)\" style=\"stroke:#009af9; stroke-width:1; stroke-opacity:1; fill:none\" points=\"\n",
       "  54.808,22.1145 55.3182,22.458 55.8284,22.8014 56.3386,23.1449 56.8488,23.4883 57.359,23.8318 57.8692,24.1752 58.3794,24.5187 58.8896,24.8621 59.3998,25.2056 \n",
       "  59.9101,25.549 60.4203,25.8925 60.9305,26.2359 61.4407,26.5794 61.9509,26.9229 62.4611,27.2663 62.9713,27.6098 63.4815,27.9532 63.9917,28.2967 64.5019,28.6401 \n",
       "  65.0121,28.9836 65.5223,29.327 66.0325,29.6705 66.5427,30.0139 67.0529,30.3574 67.5631,30.7008 68.0733,31.0443 68.5835,31.3877 69.0937,31.7312 69.6039,32.0746 \n",
       "  70.1141,32.4181 70.6243,32.7615 71.1345,33.105 71.6447,33.4484 72.1549,33.7919 72.6651,34.1353 73.1753,34.4788 73.6855,34.8222 74.1957,35.1657 74.7059,35.5091 \n",
       "  75.2161,35.8526 75.7263,36.196 76.2365,36.5395 76.7467,36.8829 77.2569,37.2264 77.7671,37.5698 78.2773,37.9133 78.7875,38.2567 79.2977,38.6002 79.8079,38.9436 \n",
       "  80.3181,39.2871 80.8283,39.6305 81.3385,39.974 81.8487,40.3174 82.3589,40.6609 82.8691,41.0043 83.3793,41.3478 83.8895,41.6912 84.3997,42.0347 84.9099,42.3781 \n",
       "  85.4201,42.7216 85.9303,43.065 86.4405,43.4085 86.9507,43.7519 87.4609,44.0954 87.9711,44.4388 88.4813,44.7823 88.9915,45.1257 89.5017,45.4692 90.0119,45.8126 \n",
       "  90.5221,46.1561 91.0323,46.4995 91.5425,46.843 92.0527,47.1864 92.5629,47.5299 93.0731,47.8733 93.5833,48.2168 94.0935,48.5602 94.6037,48.9037 95.1139,49.2471 \n",
       "  95.6241,49.5906 96.1343,49.934 96.6445,50.2775 97.1547,50.6209 97.6649,50.9644 98.1751,51.3078 98.6853,51.6513 99.1955,51.9947 99.7057,52.3382 100.216,52.6816 \n",
       "  100.726,53.0251 101.236,53.3685 101.747,53.712 102.257,54.0554 102.767,54.3989 103.277,54.7424 103.787,55.0858 104.298,55.4293 104.808,55.7727 105.318,56.1162 \n",
       "  105.828,56.4596 106.338,56.8031 106.849,57.1465 107.359,57.49 107.869,57.8334 108.379,58.1769 108.889,58.5203 109.4,58.8638 109.91,59.2072 110.42,59.5507 \n",
       "  110.93,59.8941 111.44,60.2376 111.951,60.581 112.461,60.9245 112.971,61.2679 113.481,61.6114 113.991,61.9548 114.502,62.2983 115.012,62.6417 115.522,62.9852 \n",
       "  116.032,63.3286 116.542,63.6721 117.053,64.0155 117.563,64.359 118.073,64.7024 118.583,65.0459 119.093,65.3893 119.604,65.7328 120.114,66.0762 120.624,66.4197 \n",
       "  121.134,66.7631 121.644,67.1066 122.155,67.45 122.665,67.7935 123.175,68.1369 123.685,68.4804 124.195,68.8238 124.706,69.1673 125.216,69.5107 125.726,69.8542 \n",
       "  126.236,70.1976 126.746,70.5411 127.257,70.8845 127.767,71.228 128.277,71.5714 128.787,71.9149 129.297,72.2583 129.808,72.6018 130.318,72.9452 130.828,73.2887 \n",
       "  131.338,73.6321 131.848,73.9756 132.359,74.319 132.869,74.6625 133.379,75.0059 133.889,75.3494 134.399,75.6928 134.91,76.0363 135.42,76.3797 135.93,76.7232 \n",
       "  136.44,77.0666 136.95,77.4101 137.461,77.7535 137.971,78.097 138.481,78.4404 138.991,78.7839 139.501,79.1273 140.012,79.4708 140.522,79.8142 141.032,80.1577 \n",
       "  141.542,80.5011 142.052,80.8446 142.563,81.188 143.073,81.5315 143.583,81.875 144.093,82.2184 144.603,82.5619 145.114,82.9053 145.624,83.2488 146.134,83.5922 \n",
       "  146.644,83.9357 147.154,84.2791 147.665,84.6226 148.175,84.966 148.685,85.3095 149.195,85.6529 149.705,85.9964 150.216,86.3398 150.726,86.6833 151.236,87.0267 \n",
       "  151.746,87.3702 152.256,87.7136 152.767,88.0571 153.277,88.4005 153.787,88.744 154.297,89.0874 154.807,89.4309 155.318,89.7743 155.828,90.1178 156.338,90.4612 \n",
       "  156.848,90.8047 157.358,91.1481 157.869,91.4916 158.379,91.835 158.889,92.1785 159.399,92.5219 159.909,92.8654 160.42,93.2088 160.93,93.5523 161.44,93.8957 \n",
       "  161.95,94.2392 162.46,94.5826 162.971,94.9261 163.481,95.2695 163.991,95.613 164.501,95.9564 165.011,96.2999 165.522,96.6433 166.032,96.9868 166.542,97.3302 \n",
       "  167.052,97.6737 167.562,98.0171 168.073,98.3606 168.583,98.704 169.093,99.0475 169.603,99.3909 170.113,99.7344 170.624,100.078 171.134,100.421 171.644,100.765 \n",
       "  172.154,101.108 172.664,101.452 173.175,101.795 173.685,102.139 174.195,102.482 174.705,102.825 175.215,103.169 175.726,103.512 176.236,103.856 176.746,104.199 \n",
       "  177.256,104.543 177.766,104.886 178.277,105.23 178.787,105.573 179.297,105.916 179.807,106.26 180.317,106.603 180.828,106.947 181.338,107.29 181.848,107.634 \n",
       "  182.358,107.977 182.868,108.321 183.379,108.664 183.889,109.008 184.399,109.351 184.909,109.694 185.419,110.038 185.93,110.381 186.44,110.725 186.95,111.068 \n",
       "  187.46,111.412 187.97,111.755 188.481,112.099 188.991,112.442 189.501,112.786 190.011,113.129 190.521,113.472 191.032,113.816 191.542,114.159 192.052,114.503 \n",
       "  192.562,114.846 193.072,115.19 193.583,115.533 194.093,115.877 194.603,116.22 195.113,116.563 195.623,116.907 196.134,117.25 196.644,117.594 197.154,117.937 \n",
       "  197.664,118.281 198.174,118.624 198.685,118.968 199.195,119.311 199.705,119.655 200.215,119.998 200.725,120.341 201.236,120.685 201.746,121.028 202.256,121.372 \n",
       "  202.766,121.715 203.277,122.059 203.787,122.402 204.297,122.746 204.807,123.089 205.317,123.432 205.828,123.776 206.338,124.119 206.848,124.463 207.358,124.806 \n",
       "  207.868,125.15 208.379,125.493 208.889,125.837 209.399,126.18 209.909,126.524 210.419,126.867 210.93,127.21 211.44,127.554 211.95,127.897 212.46,128.241 \n",
       "  212.97,128.584 213.481,128.928 213.991,129.271 214.501,129.615 215.011,129.958 215.521,130.301 216.032,130.645 216.542,130.988 217.052,131.332 217.562,131.675 \n",
       "  218.072,132.019 218.583,132.362 219.093,132.706 219.603,133.049 220.113,133.393 220.623,133.736 221.134,134.079 221.644,134.423 222.154,134.766 222.664,135.11 \n",
       "  223.174,135.453 223.685,135.797 224.195,136.14 224.705,136.484 225.215,136.827 225.725,137.171 226.236,137.514 226.746,137.857 227.256,138.201 227.766,138.544 \n",
       "  228.276,138.888 228.787,139.231 229.297,139.575 229.807,139.918 230.317,140.262 230.827,140.605 231.338,140.948 231.848,141.292 232.358,141.635 232.868,141.979 \n",
       "  233.378,142.322 233.889,142.666 234.399,143.009 234.909,143.353 235.419,143.696 235.929,144.04 236.44,144.383 236.95,144.726 237.46,145.07 237.97,145.413 \n",
       "  238.48,145.757 238.991,146.1 239.501,146.444 240.011,146.787 240.521,147.131 241.031,147.474 241.542,147.817 242.052,148.161 242.562,148.504 243.072,148.848 \n",
       "  243.582,149.191 244.093,149.535 244.603,149.878 245.113,150.222 245.623,150.565 246.133,150.909 246.644,151.252 247.154,151.595 247.664,151.939 248.174,152.282 \n",
       "  248.684,152.626 249.195,152.969 249.705,153.313 250.215,153.656 250.725,154 251.235,154.343 251.746,154.686 252.256,155.03 252.766,155.373 253.276,155.717 \n",
       "  253.786,156.06 254.297,156.404 254.807,156.747 255.317,157.091 255.827,157.434 256.337,157.778 256.848,158.121 257.358,158.464 257.868,158.808 258.378,159.151 \n",
       "  258.888,159.495 259.399,159.838 259.909,160.182 260.419,160.525 260.929,160.869 261.439,161.212 261.95,161.555 262.46,161.899 262.97,162.242 263.48,162.586 \n",
       "  263.99,162.929 264.501,163.273 265.011,163.616 265.521,163.96 266.031,164.303 266.541,164.647 267.052,164.99 267.562,165.333 268.072,165.677 268.582,166.02 \n",
       "  269.092,166.364 269.603,166.707 270.113,167.051 270.623,167.394 271.133,167.738 271.643,168.081 272.154,168.425 272.664,168.768 273.174,169.111 273.684,169.455 \n",
       "  274.194,169.798 274.705,170.142 275.215,170.485 275.725,170.829 276.235,171.172 276.745,171.516 277.256,171.859 277.766,172.202 278.276,172.546 278.786,172.889 \n",
       "  279.296,173.233 279.807,173.576 280.317,173.92 280.827,174.263 281.337,174.607 281.847,174.95 282.358,175.294 282.868,175.637 283.378,175.98 283.888,176.324 \n",
       "  284.398,176.667 284.909,177.011 285.419,177.354 285.929,177.698 286.439,178.041 286.949,178.385 287.46,178.728 287.97,179.071 288.48,179.415 288.99,179.758 \n",
       "  289.5,180.102 290.011,180.445 290.521,180.789 291.031,181.132 291.541,181.476 292.051,181.819 292.562,182.163 293.072,182.506 293.582,182.849 294.092,183.193 \n",
       "  294.602,183.536 295.113,183.88 295.623,184.223 296.133,184.567 296.643,184.91 297.153,185.254 297.664,185.597 298.174,185.94 298.684,186.284 299.194,186.627 \n",
       "  299.704,186.971 300.215,187.314 300.725,187.658 301.235,188.001 301.745,188.345 302.255,188.688 302.766,189.032 303.276,189.375 303.786,189.718 304.296,190.062 \n",
       "  304.806,190.405 305.317,190.749 305.827,191.092 306.337,191.436 306.847,191.779 307.357,192.123 307.868,192.466 308.378,192.81 308.888,193.153 309.398,193.496 \n",
       "  309.908,193.84 310.419,194.183 310.929,194.527 311.439,194.87 311.949,195.214 312.459,195.557 312.97,195.901 313.48,196.244 313.99,196.587 314.5,196.931 \n",
       "  315.01,197.274 315.521,197.618 316.031,197.961 316.541,198.305 317.051,198.648 317.562,198.992 318.072,199.335 318.582,199.679 319.092,200.022 319.602,200.365 \n",
       "  320.113,200.709 320.623,201.052 321.133,201.396 321.643,201.739 322.153,202.083 322.664,202.426 323.174,202.77 323.684,203.113 324.194,203.456 324.704,203.8 \n",
       "  325.215,204.143 325.725,204.487 326.235,204.83 326.745,205.174 327.255,205.517 327.766,205.861 328.276,206.204 328.786,206.548 329.296,206.891 329.806,207.234 \n",
       "  330.317,207.578 330.827,207.921 331.337,208.265 331.847,208.608 332.357,208.952 332.868,209.295 333.378,209.639 333.888,209.982 334.398,210.325 334.908,210.669 \n",
       "  335.419,211.012 335.929,211.356 336.439,211.699 336.949,212.043 337.459,212.386 337.97,212.73 338.48,213.073 338.99,213.417 339.5,213.76 340.01,214.103 \n",
       "  340.521,214.447 341.031,214.79 341.541,215.134 342.051,215.477 342.561,215.821 343.072,216.164 343.582,216.508 344.092,216.851 344.602,217.194 345.112,217.538 \n",
       "  345.623,217.881 346.133,218.225 346.643,218.568 347.153,218.912 347.663,219.255 348.174,219.599 348.684,219.942 349.194,220.286 349.704,220.629 350.214,220.972 \n",
       "  350.725,221.316 351.235,221.659 351.745,222.003 352.255,222.346 352.765,222.69 353.276,223.033 353.786,223.377 354.296,223.72 354.806,224.064 355.316,224.407 \n",
       "  355.827,224.75 356.337,225.094 356.847,225.437 357.357,225.781 357.867,226.124 358.378,226.468 358.888,226.811 359.398,227.155 359.908,227.498 360.418,227.841 \n",
       "  360.929,228.185 361.439,228.528 361.949,228.872 362.459,229.215 362.969,229.559 363.48,229.902 363.99,230.246 364.5,230.589 365.01,230.933 365.52,231.276 \n",
       "  366.031,231.619 366.541,231.963 367.051,232.306 367.561,232.65 368.071,232.993 368.582,233.337 369.092,233.68 369.602,234.024 370.112,234.367 370.622,234.71 \n",
       "  371.133,235.054 371.643,235.397 372.153,235.741 372.663,236.084 373.173,236.428 373.684,236.771 374.194,237.115 374.704,237.458 375.214,237.802 375.724,238.145 \n",
       "  376.235,238.488 376.745,238.832 377.255,239.175 377.765,239.519 378.275,239.862 378.786,240.206 379.296,240.549 379.806,240.893 380.316,241.236 380.826,241.579 \n",
       "  381.337,241.923 381.847,242.266 382.357,242.61 382.867,242.953 383.377,243.297 383.888,243.64 384.398,243.984 384.908,244.327 385.418,244.671 385.928,245.014 \n",
       "  386.439,245.357 386.949,245.701 387.459,246.044 387.969,246.388 388.479,246.731 388.99,247.075 389.5,247.418 390.01,247.762 390.52,248.105 391.03,248.449 \n",
       "  391.541,248.792 392.051,249.135 392.561,249.479 393.071,249.822 393.581,250.166 394.092,250.509 394.602,250.853 395.112,251.196 395.622,251.54 396.132,251.883 \n",
       "  396.643,252.226 397.153,252.57 397.663,252.913 398.173,253.257 398.683,253.6 399.194,253.944 399.704,254.287 400.214,254.631 400.724,254.974 401.234,255.318 \n",
       "  401.745,255.661 402.255,256.004 402.765,256.348 403.275,256.691 403.785,257.035 404.296,257.378 404.806,257.722 405.316,258.065 405.826,258.409 406.336,258.752 \n",
       "  406.847,259.095 407.357,259.439 407.867,259.782 408.377,260.126 408.887,260.469 409.398,260.813 409.908,261.156 410.418,261.5 410.928,261.843 411.438,262.187 \n",
       "  411.949,262.53 412.459,262.873 412.969,263.217 413.479,263.56 413.989,263.904 414.5,264.247 415.01,264.591 415.52,264.934 416.03,265.278 416.54,265.621 \n",
       "  417.051,265.964 417.561,266.308 418.071,266.651 418.581,266.995 419.091,267.338 419.602,267.682 420.112,268.025 420.622,268.369 421.132,268.712 421.642,269.056 \n",
       "  422.153,269.399 422.663,269.742 423.173,270.086 423.683,270.429 424.193,270.773 424.704,271.116 425.214,271.46 425.724,271.803 426.234,272.147 426.744,272.49 \n",
       "  427.255,272.833 427.765,273.177 428.275,273.52 428.785,273.864 429.295,274.207 429.806,274.551 430.316,274.894 430.826,275.238 431.336,275.581 431.847,275.925 \n",
       "  432.357,276.268 432.867,276.611 433.377,276.955 433.887,277.298 434.398,277.642 434.908,277.985 435.418,278.329 435.928,278.672 436.438,279.016 436.949,279.359 \n",
       "  437.459,279.703 437.969,280.046 438.479,280.389 438.989,280.733 439.5,281.076 440.01,281.42 440.52,281.763 441.03,282.107 441.54,282.45 442.051,282.794 \n",
       "  442.561,283.137 443.071,283.48 443.581,283.824 444.091,284.167 444.602,284.511 445.112,284.854 445.622,285.198 446.132,285.541 446.642,285.885 447.153,286.228 \n",
       "  447.663,286.572 448.173,286.915 448.683,287.258 449.193,287.602 449.704,287.945 450.214,288.289 450.724,288.632 451.234,288.976 451.744,289.319 452.255,289.663 \n",
       "  452.765,290.006 453.275,290.349 453.785,290.693 454.295,291.036 454.806,291.38 455.316,291.723 455.826,292.067 456.336,292.41 456.846,292.754 457.357,293.097 \n",
       "  457.867,293.441 458.377,293.784 458.887,294.127 459.397,294.471 459.908,294.814 460.418,295.158 460.928,295.501 461.438,295.845 461.948,296.188 462.459,296.532 \n",
       "  462.969,296.875 463.479,297.218 463.989,297.562 464.499,297.905 465.01,298.249 465.52,298.592 466.03,298.936 466.54,299.279 467.05,299.623 467.561,299.966 \n",
       "  468.071,300.31 468.581,300.653 469.091,300.996 469.601,301.34 470.112,301.683 470.622,302.027 471.132,302.37 471.642,302.714 472.152,303.057 472.663,303.401 \n",
       "  473.173,303.744 473.683,304.088 474.193,304.431 474.703,304.774 475.214,305.118 475.724,305.461 476.234,305.805 476.744,306.148 477.254,306.492 477.765,306.835 \n",
       "  478.275,307.179 478.785,307.522 479.295,307.865 479.805,308.209 480.316,308.552 480.826,308.896 481.336,309.239 481.846,309.583 482.356,309.926 482.867,310.27 \n",
       "  483.377,310.613 483.887,310.957 484.397,311.3 484.907,311.643 485.418,311.987 485.928,312.33 486.438,312.674 486.948,313.017 487.458,313.361 487.969,313.704 \n",
       "  488.479,314.048 488.989,314.391 489.499,314.734 490.009,315.078 490.52,315.421 491.03,315.765 491.54,316.108 492.05,316.452 492.56,316.795 493.071,317.139 \n",
       "  493.581,317.482 494.091,317.826 494.601,318.169 495.111,318.512 495.622,318.856 496.132,319.199 496.642,319.543 497.152,319.886 497.662,320.23 498.173,320.573 \n",
       "  498.683,320.917 499.193,321.26 499.703,321.603 500.213,321.947 500.724,322.29 501.234,322.634 501.744,322.977 502.254,323.321 502.764,323.664 503.275,324.008 \n",
       "  503.785,324.351 504.295,324.695 504.805,325.038 505.315,325.381 505.826,325.725 506.336,326.068 506.846,326.412 507.356,326.755 507.866,327.099 508.377,327.442 \n",
       "  508.887,327.786 509.397,328.129 509.907,328.472 510.417,328.816 510.928,329.159 511.438,329.503 511.948,329.846 512.458,330.19 512.968,330.533 513.479,330.877 \n",
       "  513.989,331.22 514.499,331.564 515.009,331.907 515.519,332.25 516.03,332.594 516.54,332.937 517.05,333.281 517.56,333.624 518.07,333.968 518.581,334.311 \n",
       "  519.091,334.655 519.601,334.998 520.111,335.342 520.621,335.685 521.132,336.028 521.642,336.372 522.152,336.715 522.662,337.059 523.172,337.402 523.683,337.746 \n",
       "  524.193,338.089 524.703,338.433 525.213,338.776 525.723,339.119 526.234,339.463 526.744,339.806 527.254,340.15 527.764,340.493 528.274,340.837 528.785,341.18 \n",
       "  529.295,341.524 529.805,341.867 530.315,342.211 530.825,342.554 531.336,342.897 531.846,343.241 532.356,343.584 532.866,343.928 533.376,344.271 533.887,344.615 \n",
       "  534.397,344.958 534.907,345.302 535.417,345.645 535.927,345.988 536.438,346.332 536.948,346.675 537.458,347.019 537.968,347.362 538.478,347.706 538.989,348.049 \n",
       "  539.499,348.393 540.009,348.736 540.519,349.08 541.029,349.423 541.54,349.766 542.05,350.11 542.56,350.453 543.07,350.797 543.58,351.14 544.091,351.484 \n",
       "  544.601,351.827 545.111,352.171 545.621,352.514 546.132,352.857 546.642,353.201 547.152,353.544 547.662,353.888 548.172,354.231 548.683,354.575 549.193,354.918 \n",
       "  549.703,355.262 550.213,355.605 550.723,355.949 551.234,356.292 551.744,356.635 552.254,356.979 552.764,357.322 553.274,357.666 553.785,358.009 554.295,358.353 \n",
       "  554.805,358.696 555.315,359.04 555.825,359.383 556.336,359.727 556.846,360.07 557.356,360.413 557.866,360.757 558.376,361.1 558.887,361.444 559.397,361.787 \n",
       "  559.907,362.131 560.417,362.474 560.927,362.818 561.438,363.161 561.948,363.504 562.458,363.848 562.968,364.191 563.478,364.535 563.989,364.878 564.499,365.222 \n",
       "  565.009,365.565 \n",
       "  \"/>\n",
       "<circle clip-path=\"url(#clip6802)\" style=\"fill:#000000; stroke:none; fill-opacity:1\" cx=\"305.929\" cy=\"191.161\" r=\"4\"/>\n",
       "<circle clip-path=\"url(#clip6802)\" style=\"fill:#e26f46; stroke:none; fill-opacity:1\" cx=\"305.929\" cy=\"191.161\" r=\"3\"/>\n",
       "<polygon clip-path=\"url(#clip6800)\" points=\"\n",
       "57.502,339.869 159.631,339.869 159.631,294.509 57.502,294.509 \n",
       "  \" fill=\"#ffffff\" fill-opacity=\"1\"/>\n",
       "<polyline clip-path=\"url(#clip6800)\" style=\"stroke:#000000; stroke-width:1; stroke-opacity:1; fill:none\" points=\"\n",
       "  57.502,339.869 159.631,339.869 159.631,294.509 57.502,294.509 57.502,339.869 \n",
       "  \"/>\n",
       "<polyline clip-path=\"url(#clip6800)\" style=\"stroke:#009af9; stroke-width:1; stroke-opacity:1; fill:none\" points=\"\n",
       "  63.502,309.629 99.502,309.629 \n",
       "  \"/>\n",
       "<g clip-path=\"url(#clip6800)\">\n",
       "<text style=\"fill:#000000; fill-opacity:1; font-family:Arial,Helvetica Neue,Helvetica,sans-serif; font-size:12; text-anchor:start;\" transform=\"rotate(0, 105.502, 314.129)\" x=\"105.502\" y=\"314.129\">residual</text>\n",
       "</g>\n",
       "<circle clip-path=\"url(#clip6800)\" style=\"fill:#000000; stroke:none; fill-opacity:1\" cx=\"84.502\" cy=\"324.749\" r=\"6\"/>\n",
       "<circle clip-path=\"url(#clip6800)\" style=\"fill:#e26f46; stroke:none; fill-opacity:1\" cx=\"84.502\" cy=\"324.749\" r=\"5\"/>\n",
       "<g clip-path=\"url(#clip6800)\">\n",
       "<text style=\"fill:#000000; fill-opacity:1; font-family:Arial,Helvetica Neue,Helvetica,sans-serif; font-size:12; text-anchor:start;\" transform=\"rotate(0, 105.502, 329.249)\" x=\"105.502\" y=\"329.249\">root</text>\n",
       "</g>\n",
       "</svg>\n"
      ]
     },
     "execution_count": 22,
     "metadata": {},
     "output_type": "execute_result"
    }
   ],
   "source": [
    "range = collect(-1000:1:0)\n",
    "plot(range, residual.(range), label= \"residual\", legend = :bottomleft)\n",
    "scatter!([fzero(residual, -1000, 1000)], [0.], label = \"root\")"
   ]
  },
  {
   "cell_type": "markdown",
   "metadata": {},
   "source": [
    "The$\\lambda_{1(2,1)}$ that equates $\\theta = B(n-1)^{'} \\Sigma \\lambda_1$ is:"
   ]
  },
  {
   "cell_type": "code",
   "execution_count": 23,
   "metadata": {},
   "outputs": [
    {
     "data": {
      "text/plain": [
       "-507.7998049759126"
      ]
     },
     "execution_count": 23,
     "metadata": {},
     "output_type": "execute_result"
    }
   ],
   "source": [
    "λ121 = fzero(residual, -1000, 100)"
   ]
  },
  {
   "cell_type": "markdown",
   "metadata": {},
   "source": [
    "## Task 8"
   ]
  },
  {
   "cell_type": "code",
   "execution_count": 24,
   "metadata": {},
   "outputs": [
    {
     "data": {
      "text/plain": [
       "residual (generic function with 1 method)"
      ]
     },
     "execution_count": 24,
     "metadata": {},
     "output_type": "execute_result"
    }
   ],
   "source": [
    "residual(λ02) = (mean(rx_t1) + 1/2*B(9, λ121)' * Σ * B(9, λ121) - B(9, λ121)' * Σ * reshape([0, λ02, 0], 3, 1))[1]"
   ]
  },
  {
   "cell_type": "code",
   "execution_count": 25,
   "metadata": {},
   "outputs": [
    {
     "data": {
      "image/svg+xml": [
       "<?xml version=\"1.0\" encoding=\"utf-8\"?>\n",
       "<svg xmlns=\"http://www.w3.org/2000/svg\" xmlns:xlink=\"http://www.w3.org/1999/xlink\" width=\"600\" height=\"400\" viewBox=\"0 0 600 400\">\n",
       "<defs>\n",
       "  <clipPath id=\"clip7000\">\n",
       "    <rect x=\"0\" y=\"0\" width=\"600\" height=\"400\"/>\n",
       "  </clipPath>\n",
       "</defs>\n",
       "<polygon clip-path=\"url(#clip7000)\" points=\"\n",
       "0,400 600,400 600,0 0,0 \n",
       "  \" fill=\"#ffffff\" fill-opacity=\"1\"/>\n",
       "<defs>\n",
       "  <clipPath id=\"clip7001\">\n",
       "    <rect x=\"120\" y=\"0\" width=\"421\" height=\"400\"/>\n",
       "  </clipPath>\n",
       "</defs>\n",
       "<polygon clip-path=\"url(#clip7000)\" points=\"\n",
       "46.1926,375.869 580.315,375.869 580.315,11.811 46.1926,11.811 \n",
       "  \" fill=\"#ffffff\" fill-opacity=\"1\"/>\n",
       "<defs>\n",
       "  <clipPath id=\"clip7002\">\n",
       "    <rect x=\"46\" y=\"11\" width=\"535\" height=\"365\"/>\n",
       "  </clipPath>\n",
       "</defs>\n",
       "<polyline clip-path=\"url(#clip7002)\" style=\"stroke:#000000; stroke-width:0.5; stroke-opacity:0.1; fill:none\" points=\"\n",
       "  61.3093,375.869 61.3093,11.811 \n",
       "  \"/>\n",
       "<polyline clip-path=\"url(#clip7002)\" style=\"stroke:#000000; stroke-width:0.5; stroke-opacity:0.1; fill:none\" points=\"\n",
       "  162.087,375.869 162.087,11.811 \n",
       "  \"/>\n",
       "<polyline clip-path=\"url(#clip7002)\" style=\"stroke:#000000; stroke-width:0.5; stroke-opacity:0.1; fill:none\" points=\"\n",
       "  262.865,375.869 262.865,11.811 \n",
       "  \"/>\n",
       "<polyline clip-path=\"url(#clip7002)\" style=\"stroke:#000000; stroke-width:0.5; stroke-opacity:0.1; fill:none\" points=\"\n",
       "  363.643,375.869 363.643,11.811 \n",
       "  \"/>\n",
       "<polyline clip-path=\"url(#clip7002)\" style=\"stroke:#000000; stroke-width:0.5; stroke-opacity:0.1; fill:none\" points=\"\n",
       "  464.42,375.869 464.42,11.811 \n",
       "  \"/>\n",
       "<polyline clip-path=\"url(#clip7002)\" style=\"stroke:#000000; stroke-width:0.5; stroke-opacity:0.1; fill:none\" points=\"\n",
       "  565.198,375.869 565.198,11.811 \n",
       "  \"/>\n",
       "<polyline clip-path=\"url(#clip7002)\" style=\"stroke:#000000; stroke-width:0.5; stroke-opacity:0.1; fill:none\" points=\"\n",
       "  46.1926,366.147 580.315,366.147 \n",
       "  \"/>\n",
       "<polyline clip-path=\"url(#clip7002)\" style=\"stroke:#000000; stroke-width:0.5; stroke-opacity:0.1; fill:none\" points=\"\n",
       "  46.1926,302.189 580.315,302.189 \n",
       "  \"/>\n",
       "<polyline clip-path=\"url(#clip7002)\" style=\"stroke:#000000; stroke-width:0.5; stroke-opacity:0.1; fill:none\" points=\"\n",
       "  46.1926,238.231 580.315,238.231 \n",
       "  \"/>\n",
       "<polyline clip-path=\"url(#clip7002)\" style=\"stroke:#000000; stroke-width:0.5; stroke-opacity:0.1; fill:none\" points=\"\n",
       "  46.1926,174.274 580.315,174.274 \n",
       "  \"/>\n",
       "<polyline clip-path=\"url(#clip7002)\" style=\"stroke:#000000; stroke-width:0.5; stroke-opacity:0.1; fill:none\" points=\"\n",
       "  46.1926,110.316 580.315,110.316 \n",
       "  \"/>\n",
       "<polyline clip-path=\"url(#clip7002)\" style=\"stroke:#000000; stroke-width:0.5; stroke-opacity:0.1; fill:none\" points=\"\n",
       "  46.1926,46.3583 580.315,46.3583 \n",
       "  \"/>\n",
       "<polyline clip-path=\"url(#clip7000)\" style=\"stroke:#000000; stroke-width:1; stroke-opacity:1; fill:none\" points=\"\n",
       "  46.1926,375.869 580.315,375.869 \n",
       "  \"/>\n",
       "<polyline clip-path=\"url(#clip7000)\" style=\"stroke:#000000; stroke-width:1; stroke-opacity:1; fill:none\" points=\"\n",
       "  46.1926,375.869 46.1926,11.811 \n",
       "  \"/>\n",
       "<polyline clip-path=\"url(#clip7000)\" style=\"stroke:#000000; stroke-width:1; stroke-opacity:1; fill:none\" points=\"\n",
       "  61.3093,375.869 61.3093,370.408 \n",
       "  \"/>\n",
       "<polyline clip-path=\"url(#clip7000)\" style=\"stroke:#000000; stroke-width:1; stroke-opacity:1; fill:none\" points=\"\n",
       "  162.087,375.869 162.087,370.408 \n",
       "  \"/>\n",
       "<polyline clip-path=\"url(#clip7000)\" style=\"stroke:#000000; stroke-width:1; stroke-opacity:1; fill:none\" points=\"\n",
       "  262.865,375.869 262.865,370.408 \n",
       "  \"/>\n",
       "<polyline clip-path=\"url(#clip7000)\" style=\"stroke:#000000; stroke-width:1; stroke-opacity:1; fill:none\" points=\"\n",
       "  363.643,375.869 363.643,370.408 \n",
       "  \"/>\n",
       "<polyline clip-path=\"url(#clip7000)\" style=\"stroke:#000000; stroke-width:1; stroke-opacity:1; fill:none\" points=\"\n",
       "  464.42,375.869 464.42,370.408 \n",
       "  \"/>\n",
       "<polyline clip-path=\"url(#clip7000)\" style=\"stroke:#000000; stroke-width:1; stroke-opacity:1; fill:none\" points=\"\n",
       "  565.198,375.869 565.198,370.408 \n",
       "  \"/>\n",
       "<polyline clip-path=\"url(#clip7000)\" style=\"stroke:#000000; stroke-width:1; stroke-opacity:1; fill:none\" points=\"\n",
       "  46.1926,366.147 54.2044,366.147 \n",
       "  \"/>\n",
       "<polyline clip-path=\"url(#clip7000)\" style=\"stroke:#000000; stroke-width:1; stroke-opacity:1; fill:none\" points=\"\n",
       "  46.1926,302.189 54.2044,302.189 \n",
       "  \"/>\n",
       "<polyline clip-path=\"url(#clip7000)\" style=\"stroke:#000000; stroke-width:1; stroke-opacity:1; fill:none\" points=\"\n",
       "  46.1926,238.231 54.2044,238.231 \n",
       "  \"/>\n",
       "<polyline clip-path=\"url(#clip7000)\" style=\"stroke:#000000; stroke-width:1; stroke-opacity:1; fill:none\" points=\"\n",
       "  46.1926,174.274 54.2044,174.274 \n",
       "  \"/>\n",
       "<polyline clip-path=\"url(#clip7000)\" style=\"stroke:#000000; stroke-width:1; stroke-opacity:1; fill:none\" points=\"\n",
       "  46.1926,110.316 54.2044,110.316 \n",
       "  \"/>\n",
       "<polyline clip-path=\"url(#clip7000)\" style=\"stroke:#000000; stroke-width:1; stroke-opacity:1; fill:none\" points=\"\n",
       "  46.1926,46.3583 54.2044,46.3583 \n",
       "  \"/>\n",
       "<g clip-path=\"url(#clip7000)\">\n",
       "<text style=\"fill:#000000; fill-opacity:1; font-family:Arial,Helvetica Neue,Helvetica,sans-serif; font-size:12; text-anchor:middle;\" transform=\"rotate(0, 61.3093, 389.669)\" x=\"61.3093\" y=\"389.669\">-50</text>\n",
       "</g>\n",
       "<g clip-path=\"url(#clip7000)\">\n",
       "<text style=\"fill:#000000; fill-opacity:1; font-family:Arial,Helvetica Neue,Helvetica,sans-serif; font-size:12; text-anchor:middle;\" transform=\"rotate(0, 162.087, 389.669)\" x=\"162.087\" y=\"389.669\">-40</text>\n",
       "</g>\n",
       "<g clip-path=\"url(#clip7000)\">\n",
       "<text style=\"fill:#000000; fill-opacity:1; font-family:Arial,Helvetica Neue,Helvetica,sans-serif; font-size:12; text-anchor:middle;\" transform=\"rotate(0, 262.865, 389.669)\" x=\"262.865\" y=\"389.669\">-30</text>\n",
       "</g>\n",
       "<g clip-path=\"url(#clip7000)\">\n",
       "<text style=\"fill:#000000; fill-opacity:1; font-family:Arial,Helvetica Neue,Helvetica,sans-serif; font-size:12; text-anchor:middle;\" transform=\"rotate(0, 363.643, 389.669)\" x=\"363.643\" y=\"389.669\">-20</text>\n",
       "</g>\n",
       "<g clip-path=\"url(#clip7000)\">\n",
       "<text style=\"fill:#000000; fill-opacity:1; font-family:Arial,Helvetica Neue,Helvetica,sans-serif; font-size:12; text-anchor:middle;\" transform=\"rotate(0, 464.42, 389.669)\" x=\"464.42\" y=\"389.669\">-10</text>\n",
       "</g>\n",
       "<g clip-path=\"url(#clip7000)\">\n",
       "<text style=\"fill:#000000; fill-opacity:1; font-family:Arial,Helvetica Neue,Helvetica,sans-serif; font-size:12; text-anchor:middle;\" transform=\"rotate(0, 565.198, 389.669)\" x=\"565.198\" y=\"389.669\">0</text>\n",
       "</g>\n",
       "<g clip-path=\"url(#clip7000)\">\n",
       "<text style=\"fill:#000000; fill-opacity:1; font-family:Arial,Helvetica Neue,Helvetica,sans-serif; font-size:12; text-anchor:end;\" transform=\"rotate(0, 40.1926, 370.647)\" x=\"40.1926\" y=\"370.647\">-0.03</text>\n",
       "</g>\n",
       "<g clip-path=\"url(#clip7000)\">\n",
       "<text style=\"fill:#000000; fill-opacity:1; font-family:Arial,Helvetica Neue,Helvetica,sans-serif; font-size:12; text-anchor:end;\" transform=\"rotate(0, 40.1926, 306.689)\" x=\"40.1926\" y=\"306.689\">-0.02</text>\n",
       "</g>\n",
       "<g clip-path=\"url(#clip7000)\">\n",
       "<text style=\"fill:#000000; fill-opacity:1; font-family:Arial,Helvetica Neue,Helvetica,sans-serif; font-size:12; text-anchor:end;\" transform=\"rotate(0, 40.1926, 242.731)\" x=\"40.1926\" y=\"242.731\">-0.01</text>\n",
       "</g>\n",
       "<g clip-path=\"url(#clip7000)\">\n",
       "<text style=\"fill:#000000; fill-opacity:1; font-family:Arial,Helvetica Neue,Helvetica,sans-serif; font-size:12; text-anchor:end;\" transform=\"rotate(0, 40.1926, 178.774)\" x=\"40.1926\" y=\"178.774\">0.00</text>\n",
       "</g>\n",
       "<g clip-path=\"url(#clip7000)\">\n",
       "<text style=\"fill:#000000; fill-opacity:1; font-family:Arial,Helvetica Neue,Helvetica,sans-serif; font-size:12; text-anchor:end;\" transform=\"rotate(0, 40.1926, 114.816)\" x=\"40.1926\" y=\"114.816\">0.01</text>\n",
       "</g>\n",
       "<g clip-path=\"url(#clip7000)\">\n",
       "<text style=\"fill:#000000; fill-opacity:1; font-family:Arial,Helvetica Neue,Helvetica,sans-serif; font-size:12; text-anchor:end;\" transform=\"rotate(0, 40.1926, 50.8583)\" x=\"40.1926\" y=\"50.8583\">0.02</text>\n",
       "</g>\n",
       "<polyline clip-path=\"url(#clip7002)\" style=\"stroke:#009af9; stroke-width:1; stroke-opacity:1; fill:none\" points=\"\n",
       "  61.3093,365.565 62.317,364.878 63.3248,364.191 64.3326,363.504 65.3404,362.818 66.3482,362.131 67.3559,361.444 68.3637,360.757 69.3715,360.07 70.3793,359.383 \n",
       "  71.3871,358.696 72.3948,358.009 73.4026,357.322 74.4104,356.635 75.4182,355.949 76.4259,355.262 77.4337,354.575 78.4415,353.888 79.4493,353.201 80.4571,352.514 \n",
       "  81.4648,351.827 82.4726,351.14 83.4804,350.453 84.4882,349.766 85.4959,349.08 86.5037,348.393 87.5115,347.706 88.5193,347.019 89.5271,346.332 90.5348,345.645 \n",
       "  91.5426,344.958 92.5504,344.271 93.5582,343.584 94.5659,342.897 95.5737,342.211 96.5815,341.524 97.5893,340.837 98.5971,340.15 99.6048,339.463 100.613,338.776 \n",
       "  101.62,338.089 102.628,337.402 103.636,336.715 104.644,336.028 105.652,335.342 106.659,334.655 107.667,333.968 108.675,333.281 109.683,332.594 110.69,331.907 \n",
       "  111.698,331.22 112.706,330.533 113.714,329.846 114.722,329.159 115.729,328.472 116.737,327.786 117.745,327.099 118.753,326.412 119.76,325.725 120.768,325.038 \n",
       "  121.776,324.351 122.784,323.664 123.792,322.977 124.799,322.29 125.807,321.603 126.815,320.917 127.823,320.23 128.83,319.543 129.838,318.856 130.846,318.169 \n",
       "  131.854,317.482 132.862,316.795 133.869,316.108 134.877,315.421 135.885,314.734 136.893,314.048 137.9,313.361 138.908,312.674 139.916,311.987 140.924,311.3 \n",
       "  141.932,310.613 142.939,309.926 143.947,309.239 144.955,308.552 145.963,307.865 146.97,307.179 147.978,306.492 148.986,305.805 149.994,305.118 151.002,304.431 \n",
       "  152.009,303.744 153.017,303.057 154.025,302.37 155.033,301.683 156.04,300.996 157.048,300.31 158.056,299.623 159.064,298.936 160.072,298.249 161.079,297.562 \n",
       "  162.087,296.875 163.095,296.188 164.103,295.501 165.11,294.814 166.118,294.127 167.126,293.441 168.134,292.754 169.142,292.067 170.149,291.38 171.157,290.693 \n",
       "  172.165,290.006 173.173,289.319 174.18,288.632 175.188,287.945 176.196,287.258 177.204,286.572 178.212,285.885 179.219,285.198 180.227,284.511 181.235,283.824 \n",
       "  182.243,283.137 183.25,282.45 184.258,281.763 185.266,281.076 186.274,280.389 187.282,279.703 188.289,279.016 189.297,278.329 190.305,277.642 191.313,276.955 \n",
       "  192.32,276.268 193.328,275.581 194.336,274.894 195.344,274.207 196.352,273.52 197.359,272.833 198.367,272.147 199.375,271.46 200.383,270.773 201.39,270.086 \n",
       "  202.398,269.399 203.406,268.712 204.414,268.025 205.422,267.338 206.429,266.651 207.437,265.964 208.445,265.278 209.453,264.591 210.46,263.904 211.468,263.217 \n",
       "  212.476,262.53 213.484,261.843 214.492,261.156 215.499,260.469 216.507,259.782 217.515,259.095 218.523,258.409 219.53,257.722 220.538,257.035 221.546,256.348 \n",
       "  222.554,255.661 223.562,254.974 224.569,254.287 225.577,253.6 226.585,252.913 227.593,252.226 228.6,251.54 229.608,250.853 230.616,250.166 231.624,249.479 \n",
       "  232.632,248.792 233.639,248.105 234.647,247.418 235.655,246.731 236.663,246.044 237.67,245.357 238.678,244.671 239.686,243.984 240.694,243.297 241.702,242.61 \n",
       "  242.709,241.923 243.717,241.236 244.725,240.549 245.733,239.862 246.74,239.175 247.748,238.488 248.756,237.802 249.764,237.115 250.772,236.428 251.779,235.741 \n",
       "  252.787,235.054 253.795,234.367 254.803,233.68 255.81,232.993 256.818,232.306 257.826,231.619 258.834,230.933 259.842,230.246 260.849,229.559 261.857,228.872 \n",
       "  262.865,228.185 263.873,227.498 264.88,226.811 265.888,226.124 266.896,225.437 267.904,224.75 268.912,224.064 269.919,223.377 270.927,222.69 271.935,222.003 \n",
       "  272.943,221.316 273.95,220.629 274.958,219.942 275.966,219.255 276.974,218.568 277.982,217.881 278.989,217.194 279.997,216.508 281.005,215.821 282.013,215.134 \n",
       "  283.02,214.447 284.028,213.76 285.036,213.073 286.044,212.386 287.052,211.699 288.059,211.012 289.067,210.325 290.075,209.639 291.083,208.952 292.09,208.265 \n",
       "  293.098,207.578 294.106,206.891 295.114,206.204 296.122,205.517 297.129,204.83 298.137,204.143 299.145,203.456 300.153,202.77 301.16,202.083 302.168,201.396 \n",
       "  303.176,200.709 304.184,200.022 305.192,199.335 306.199,198.648 307.207,197.961 308.215,197.274 309.223,196.587 310.23,195.901 311.238,195.214 312.246,194.527 \n",
       "  313.254,193.84 314.262,193.153 315.269,192.466 316.277,191.779 317.285,191.092 318.293,190.405 319.3,189.718 320.308,189.032 321.316,188.345 322.324,187.658 \n",
       "  323.332,186.971 324.339,186.284 325.347,185.597 326.355,184.91 327.363,184.223 328.37,183.536 329.378,182.849 330.386,182.163 331.394,181.476 332.402,180.789 \n",
       "  333.409,180.102 334.417,179.415 335.425,178.728 336.433,178.041 337.44,177.354 338.448,176.667 339.456,175.98 340.464,175.294 341.472,174.607 342.479,173.92 \n",
       "  343.487,173.233 344.495,172.546 345.503,171.859 346.51,171.172 347.518,170.485 348.526,169.798 349.534,169.111 350.542,168.425 351.549,167.738 352.557,167.051 \n",
       "  353.565,166.364 354.573,165.677 355.58,164.99 356.588,164.303 357.596,163.616 358.604,162.929 359.612,162.242 360.619,161.555 361.627,160.869 362.635,160.182 \n",
       "  363.643,159.495 364.65,158.808 365.658,158.121 366.666,157.434 367.674,156.747 368.682,156.06 369.689,155.373 370.697,154.686 371.705,154 372.713,153.313 \n",
       "  373.72,152.626 374.728,151.939 375.736,151.252 376.744,150.565 377.752,149.878 378.759,149.191 379.767,148.504 380.775,147.817 381.783,147.131 382.79,146.444 \n",
       "  383.798,145.757 384.806,145.07 385.814,144.383 386.822,143.696 387.829,143.009 388.837,142.322 389.845,141.635 390.853,140.948 391.86,140.262 392.868,139.575 \n",
       "  393.876,138.888 394.884,138.201 395.892,137.514 396.899,136.827 397.907,136.14 398.915,135.453 399.923,134.766 400.93,134.079 401.938,133.393 402.946,132.706 \n",
       "  403.954,132.019 404.962,131.332 405.969,130.645 406.977,129.958 407.985,129.271 408.993,128.584 410,127.897 411.008,127.21 412.016,126.524 413.024,125.837 \n",
       "  414.032,125.15 415.039,124.463 416.047,123.776 417.055,123.089 418.063,122.402 419.07,121.715 420.078,121.028 421.086,120.341 422.094,119.655 423.102,118.968 \n",
       "  424.109,118.281 425.117,117.594 426.125,116.907 427.133,116.22 428.14,115.533 429.148,114.846 430.156,114.159 431.164,113.472 432.172,112.786 433.179,112.099 \n",
       "  434.187,111.412 435.195,110.725 436.203,110.038 437.21,109.351 438.218,108.664 439.226,107.977 440.234,107.29 441.242,106.603 442.249,105.916 443.257,105.23 \n",
       "  444.265,104.543 445.273,103.856 446.28,103.169 447.288,102.482 448.296,101.795 449.304,101.108 450.312,100.421 451.319,99.7344 452.327,99.0475 453.335,98.3606 \n",
       "  454.343,97.6737 455.35,96.9868 456.358,96.2999 457.366,95.613 458.374,94.9261 459.382,94.2392 460.389,93.5523 461.397,92.8654 462.405,92.1785 463.413,91.4916 \n",
       "  464.42,90.8047 465.428,90.1178 466.436,89.4309 467.444,88.744 468.452,88.0571 469.459,87.3702 470.467,86.6833 471.475,85.9964 472.483,85.3095 473.49,84.6226 \n",
       "  474.498,83.9357 475.506,83.2488 476.514,82.5619 477.522,81.875 478.529,81.188 479.537,80.5011 480.545,79.8142 481.553,79.1273 482.56,78.4404 483.568,77.7535 \n",
       "  484.576,77.0666 485.584,76.3797 486.592,75.6928 487.599,75.0059 488.607,74.319 489.615,73.6321 490.623,72.9452 491.63,72.2583 492.638,71.5714 493.646,70.8845 \n",
       "  494.654,70.1976 495.662,69.5107 496.669,68.8238 497.677,68.1369 498.685,67.45 499.693,66.7631 500.7,66.0762 501.708,65.3893 502.716,64.7024 503.724,64.0155 \n",
       "  504.732,63.3286 505.739,62.6417 506.747,61.9548 507.755,61.2679 508.763,60.581 509.77,59.8941 510.778,59.2072 511.786,58.5203 512.794,57.8334 513.802,57.1465 \n",
       "  514.809,56.4596 515.817,55.7727 516.825,55.0858 517.833,54.3989 518.841,53.712 519.848,53.0251 520.856,52.3382 521.864,51.6513 522.872,50.9644 523.879,50.2775 \n",
       "  524.887,49.5906 525.895,48.9037 526.903,48.2168 527.911,47.5299 528.918,46.843 529.926,46.1561 530.934,45.4692 531.942,44.7823 532.949,44.0954 533.957,43.4085 \n",
       "  534.965,42.7216 535.973,42.0347 536.981,41.3478 537.988,40.6609 538.996,39.974 540.004,39.2871 541.012,38.6002 542.019,37.9133 543.027,37.2264 544.035,36.5395 \n",
       "  545.043,35.8526 546.051,35.1657 547.058,34.4788 548.066,33.7919 549.074,33.105 550.082,32.4181 551.089,31.7312 552.097,31.0443 553.105,30.3574 554.113,29.6705 \n",
       "  555.121,28.9836 556.128,28.2967 557.136,27.6098 558.144,26.9229 559.152,26.2359 560.159,25.549 561.167,24.8621 562.175,24.1752 563.183,23.4883 564.191,22.8014 \n",
       "  565.198,22.1145 \n",
       "  \"/>\n",
       "<circle clip-path=\"url(#clip7002)\" style=\"fill:#000000; stroke:none; fill-opacity:1\" cx=\"341.96\" cy=\"174.274\" r=\"4\"/>\n",
       "<circle clip-path=\"url(#clip7002)\" style=\"fill:#e26f46; stroke:none; fill-opacity:1\" cx=\"341.96\" cy=\"174.274\" r=\"3\"/>\n",
       "<polygon clip-path=\"url(#clip7000)\" points=\"\n",
       "64.1926,78.051 166.322,78.051 166.322,32.691 64.1926,32.691 \n",
       "  \" fill=\"#ffffff\" fill-opacity=\"1\"/>\n",
       "<polyline clip-path=\"url(#clip7000)\" style=\"stroke:#000000; stroke-width:1; stroke-opacity:1; fill:none\" points=\"\n",
       "  64.1926,78.051 166.322,78.051 166.322,32.691 64.1926,32.691 64.1926,78.051 \n",
       "  \"/>\n",
       "<polyline clip-path=\"url(#clip7000)\" style=\"stroke:#009af9; stroke-width:1; stroke-opacity:1; fill:none\" points=\"\n",
       "  70.1926,47.811 106.193,47.811 \n",
       "  \"/>\n",
       "<g clip-path=\"url(#clip7000)\">\n",
       "<text style=\"fill:#000000; fill-opacity:1; font-family:Arial,Helvetica Neue,Helvetica,sans-serif; font-size:12; text-anchor:start;\" transform=\"rotate(0, 112.193, 52.311)\" x=\"112.193\" y=\"52.311\">residual</text>\n",
       "</g>\n",
       "<circle clip-path=\"url(#clip7000)\" style=\"fill:#000000; stroke:none; fill-opacity:1\" cx=\"91.1926\" cy=\"62.931\" r=\"6\"/>\n",
       "<circle clip-path=\"url(#clip7000)\" style=\"fill:#e26f46; stroke:none; fill-opacity:1\" cx=\"91.1926\" cy=\"62.931\" r=\"5\"/>\n",
       "<g clip-path=\"url(#clip7000)\">\n",
       "<text style=\"fill:#000000; fill-opacity:1; font-family:Arial,Helvetica Neue,Helvetica,sans-serif; font-size:12; text-anchor:start;\" transform=\"rotate(0, 112.193, 67.431)\" x=\"112.193\" y=\"67.431\">root</text>\n",
       "</g>\n",
       "</svg>\n"
      ]
     },
     "execution_count": 25,
     "metadata": {},
     "output_type": "execute_result"
    }
   ],
   "source": [
    "range = collect(-50:0.1:0)\n",
    "plot(range, residual.(range), label = \"residual\", legend = :topleft)\n",
    "scatter!([fzero(residual, -1000, 1000)], [0.], label = \"root\")"
   ]
  },
  {
   "cell_type": "code",
   "execution_count": 26,
   "metadata": {},
   "outputs": [
    {
     "data": {
      "text/plain": [
       "-22.151519796040926"
      ]
     },
     "execution_count": 26,
     "metadata": {},
     "output_type": "execute_result"
    }
   ],
   "source": [
    "λ02 = fzero(residual, -50, 0)"
   ]
  }
 ],
 "metadata": {
  "kernelspec": {
   "display_name": "Julia 0.6.2",
   "language": "julia",
   "name": "julia-0.6"
  },
  "language_info": {
   "file_extension": ".jl",
   "mimetype": "application/julia",
   "name": "julia",
   "version": "0.6.2"
  }
 },
 "nbformat": 4,
 "nbformat_minor": 2
}
