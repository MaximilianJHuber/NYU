{
 "cells": [
  {
   "cell_type": "markdown",
   "metadata": {},
   "source": [
    "# Empirical Asset Pricing - PS5\n",
    "\n",
    "Maximilian Huber\n",
    "\n",
    "## Task 1\n"
   ]
  },
  {
   "cell_type": "code",
   "execution_count": 1,
   "metadata": {
    "scrolled": false
   },
   "outputs": [],
   "source": [
    "using CSV, DataFrames, Query, Plots, Optim; gr();"
   ]
  },
  {
   "cell_type": "markdown",
   "metadata": {},
   "source": [
    "### (a)"
   ]
  },
  {
   "cell_type": "code",
   "execution_count": 2,
   "metadata": {},
   "outputs": [],
   "source": [
    "data = CSV.read(\"./Data/PS5.csv\", delim='\\t')\n",
    "data[:, 1] = Date.(data[:, 1], \"mm/dd/yyyy\")\n",
    "data[:yearmonth] = Dates.yearmonth.((data[:, 1]))\n",
    "data = by(data, :yearmonth) do df\n",
    "    return df[indmax(Dates.day.(df[:Date])), 2:end-1] \n",
    "end;"
   ]
  },
  {
   "cell_type": "markdown",
   "metadata": {},
   "source": [
    "### (b)"
   ]
  },
  {
   "cell_type": "code",
   "execution_count": 3,
   "metadata": {},
   "outputs": [],
   "source": [
    "data = hcat(data, \n",
    "    DataFrame(\n",
    "        hcat([n * data[:, 1+n] - (n - 1) * data[:, n] for n in 2:10]...), \n",
    "        Symbol.([\"fwd$(y)y\" for y in 2:10])));"
   ]
  },
  {
   "cell_type": "code",
   "execution_count": 4,
   "metadata": {},
   "outputs": [
    {
     "data": {
      "text/html": [
       "<table class=\"data-frame\"><thead><tr><th></th><th>yearmonth</th><th>SVENY01</th><th>SVENY02</th><th>SVENY03</th><th>SVENY04</th><th>SVENY05</th><th>SVENY06</th><th>SVENY07</th><th>SVENY08</th><th>SVENY09</th><th>SVENY10</th><th>fwd2y</th><th>fwd3y</th><th>fwd4y</th><th>fwd5y</th><th>fwd6y</th><th>fwd7y</th><th>fwd8y</th><th>fwd9y</th><th>fwd10y</th></tr></thead><tbody><tr><th>1</th><td>(2018, 2)</td><td>2.0493</td><td>2.2631</td><td>2.4284</td><td>2.5559</td><td>2.6541</td><td>2.7297</td><td>2.7881</td><td>2.8336</td><td>2.8694</td><td>2.898</td><td>2.4769</td><td>2.759</td><td>2.9384</td><td>3.0469</td><td>3.1077</td><td>3.1385</td><td>3.1521</td><td>3.1558</td><td>3.1554</td></tr><tr><th>2</th><td>(2018, 1)</td><td>1.9119</td><td>2.1441</td><td>2.3127</td><td>2.4354</td><td>2.525</td><td>2.5909</td><td>2.6398</td><td>2.6766</td><td>2.705</td><td>2.7275</td><td>2.3763</td><td>2.6499</td><td>2.8035</td><td>2.8834</td><td>2.9204</td><td>2.9332</td><td>2.9342</td><td>2.9322</td><td>2.93</td></tr><tr><th>3</th><td>(2017, 12)</td><td>1.7573</td><td>1.8852</td><td>2.0033</td><td>2.1056</td><td>2.1912</td><td>2.2613</td><td>2.318</td><td>2.3638</td><td>2.4012</td><td>2.432</td><td>2.0131</td><td>2.2395</td><td>2.4125</td><td>2.5336</td><td>2.6118</td><td>2.6582</td><td>2.6844</td><td>2.7004</td><td>2.7092</td></tr><tr><th>4</th><td>(2017, 11)</td><td>1.6313</td><td>1.7902</td><td>1.9286</td><td>2.0468</td><td>2.1465</td><td>2.23</td><td>2.3</td><td>2.3589</td><td>2.4088</td><td>2.4518</td><td>1.9491</td><td>2.2054</td><td>2.4014</td><td>2.5453</td><td>2.6475</td><td>2.72</td><td>2.7712</td><td>2.808</td><td>2.8388</td></tr><tr><th>5</th><td>(2017, 10)</td><td>1.4416</td><td>1.5965</td><td>1.7537</td><td>1.897</td><td>2.0211</td><td>2.1259</td><td>2.2133</td><td>2.2864</td><td>2.3481</td><td>2.4009</td><td>1.7514</td><td>2.0681</td><td>2.3269</td><td>2.5175</td><td>2.6499</td><td>2.7377</td><td>2.7981</td><td>2.8417</td><td>2.8761</td></tr><tr><th>6</th><td>(2017, 9)</td><td>1.3341</td><td>1.481</td><td>1.6455</td><td>1.8015</td><td>1.939</td><td>2.0561</td><td>2.1541</td><td>2.236</td><td>2.305</td><td>2.3638</td><td>1.6279</td><td>1.9745</td><td>2.2695</td><td>2.489</td><td>2.6416</td><td>2.7421</td><td>2.8093</td><td>2.857</td><td>2.893</td></tr></tbody></table>"
      ],
      "text/plain": [
       "6×20 DataFrames.DataFrame. Omitted printing of 13 columns\n",
       "│ Row │ yearmonth  │ SVENY01 │ SVENY02 │ SVENY03 │ SVENY04 │ SVENY05 │ SVENY06 │\n",
       "├─────┼────────────┼─────────┼─────────┼─────────┼─────────┼─────────┼─────────┤\n",
       "│ 1   │ (2018, 2)  │ 2.0493  │ 2.2631  │ 2.4284  │ 2.5559  │ 2.6541  │ 2.7297  │\n",
       "│ 2   │ (2018, 1)  │ 1.9119  │ 2.1441  │ 2.3127  │ 2.4354  │ 2.525   │ 2.5909  │\n",
       "│ 3   │ (2017, 12) │ 1.7573  │ 1.8852  │ 2.0033  │ 2.1056  │ 2.1912  │ 2.2613  │\n",
       "│ 4   │ (2017, 11) │ 1.6313  │ 1.7902  │ 1.9286  │ 2.0468  │ 2.1465  │ 2.23    │\n",
       "│ 5   │ (2017, 10) │ 1.4416  │ 1.5965  │ 1.7537  │ 1.897   │ 2.0211  │ 2.1259  │\n",
       "│ 6   │ (2017, 9)  │ 1.3341  │ 1.481   │ 1.6455  │ 1.8015  │ 1.939   │ 2.0561  │"
      ]
     },
     "execution_count": 4,
     "metadata": {},
     "output_type": "execute_result"
    }
   ],
   "source": [
    "head(data)"
   ]
  },
  {
   "cell_type": "markdown",
   "metadata": {},
   "source": [
    "### (c)\n",
    "$$rx_{t+1} = p_{t+1}(n-1) - p_t(n) - y_t(1)$$"
   ]
  },
  {
   "cell_type": "code",
   "execution_count": 5,
   "metadata": {},
   "outputs": [],
   "source": [
    "pt = hcat([- n * data[:, 1+n] for n in 1:10]...)\n",
    "rx_t1 = pt[1:end-1, 1:9] - pt[2:end, 2:10] - repmat(data[2:end, 2], 1, 9);"
   ]
  },
  {
   "cell_type": "code",
   "execution_count": 6,
   "metadata": {},
   "outputs": [
    {
     "data": {
      "text/plain": [
       "555×9 Array{Float64,2}:\n",
       " 0.327    0.5      0.5445   0.4895  …   0.1885  -0.0158  -0.2357  -0.4615\n",
       " 0.1012  -0.0356  -0.273   -0.5429     -1.0767  -1.3255  -1.5593  -1.7823\n",
       " 0.1918   0.3841   0.546    0.6788      0.9009   1.0139   1.1375   1.2759\n",
       " 0.1201   0.2391   0.3606   0.4767      0.6715   0.7496   0.8201   0.8882\n",
       " 0.1863   0.4094   0.6108   0.7729      0.9892   1.0608   1.1197   1.171 \n",
       " 0.0793   0.1753   0.2161   0.1913  …   0.0007  -0.1285  -0.2607  -0.3872\n",
       " 0.2431   0.6935   1.1842   1.6474      2.4372   2.7738   3.0858   3.3792\n",
       " 0.2901   0.7413   1.1478   1.4512      1.7646   1.8143   1.8189   1.7897\n",
       " 0.1185   0.3892   0.6248   0.7708      0.8416   0.8265   0.8129   0.818 \n",
       " 0.2488   0.7568   1.2218   1.5887      2.099    2.2888   2.4542   2.6051\n",
       " 0.3844   1.0104   1.6034   2.0749  …   2.6684   2.8472   2.9825   3.0958\n",
       " 0.5019   1.0853   1.4779   1.6867      1.8046   1.8057   1.7996   1.796 \n",
       " 0.6074   1.1429   1.5681   1.9034      2.4159   2.631    2.8323   3.0224\n",
       " ⋮                                  ⋱   ⋮                                \n",
       " 0.9178   1.2233   1.3398   1.4004      1.485    1.5234   1.5614   1.5998\n",
       " 0.7515   0.9159   1.003    1.083       1.2447   1.3261   1.4069   1.4887\n",
       " 0.6773   0.8781   0.9646   1.0254  …   1.1364   1.1922   1.2479   1.3038\n",
       " 0.6942   0.8462   0.7745   0.6178      0.2328   0.0308  -0.1727  -0.3773\n",
       " 1.1636   1.3357   1.3286   1.2919      1.21     1.1688   1.1282   1.0869\n",
       " 0.4755   0.5742   0.663    0.7981      1.1676   1.3759   1.5914   1.8111\n",
       " 1.2383   1.911    2.2351   2.3632      2.3559   2.2967   2.224    2.1451\n",
       " 1.5763   2.0704   2.1761   2.1477  …   1.9862   1.8926   1.7977   1.7029\n",
       " 0.4708   0.428    0.4744   0.6137      1.0196   1.2466   1.4782   1.7131\n",
       " 1.3928   2.0551   2.3592   2.4896      2.5432   2.5322   2.5115   2.487 \n",
       " 0.9852   1.1325   1.0261   0.869       0.601    0.4994   0.4117   0.3355\n",
       " 1.1151   1.8581   2.3432   2.646       2.9202   2.9639   2.9747   2.9664"
      ]
     },
     "execution_count": 6,
     "metadata": {},
     "output_type": "execute_result"
    }
   ],
   "source": [
    "(rx_t1)"
   ]
  },
  {
   "cell_type": "code",
   "execution_count": 7,
   "metadata": {},
   "outputs": [
    {
     "data": {
      "text/plain": [
       "555×6 Array{Float64,2}:\n",
       " 1.0  1.9119  2.3763  2.6499  2.8035  2.8834\n",
       " 1.0  1.7573  2.0131  2.2395  2.4125  2.5336\n",
       " 1.0  1.6313  1.9491  2.2054  2.4014  2.5453\n",
       " 1.0  1.4416  1.7514  2.0681  2.3269  2.5175\n",
       " 1.0  1.3341  1.6279  1.9745  2.2695  2.489 \n",
       " 1.0  1.2322  1.4134  1.7239  2.0153  2.2447\n",
       " 1.0  1.2383  1.4753  1.8638  2.2146  2.4785\n",
       " 1.0  1.2608  1.5284  1.9265  2.2703  2.518 \n",
       " 1.0  1.1887  1.3793  1.7991  2.1621  2.4163\n",
       " 1.0  1.1191  1.4375  1.8873  2.2641  2.529 \n",
       " 1.0  1.0551  1.5035  2.0635  2.4803  2.7356\n",
       " 1.0  0.9164  1.557   2.0869  2.4561  2.6891\n",
       " 1.0  0.8732  1.5238  2.0925  2.5121  2.7914\n",
       " ⋮                                    ⋮     \n",
       " 1.0  5.4437  6.2401  6.3762  6.3992  6.4033\n",
       " 1.0  5.4438  6.1952  6.4045  6.4633  6.4792\n",
       " 1.0  5.3263  6.1211  6.396   6.491   6.5241\n",
       " 1.0  4.7773  6.0205  6.2731  6.3243  6.3343\n",
       " 1.0  5.0769  5.9409  6.1926  6.266   6.2876\n",
       " 1.0  4.569   5.5524  6.0396  6.2814  6.4011\n",
       " 1.0  4.5459  5.8073  6.2251  6.3637  6.4095\n",
       " 1.0  5.0208  6.1222  6.3014  6.3308  6.3353\n",
       " 1.0  4.2036  5.4916  6.0794  6.3478  6.4701\n",
       " 1.0  4.243   5.5964  6.1539  6.3835  6.4782\n",
       " 1.0  4.3542  5.2282  5.7437  6.0475  6.2264\n",
       " 1.0  4.6539  5.4693  5.9712  6.2288  6.3503"
      ]
     },
     "execution_count": 7,
     "metadata": {},
     "output_type": "execute_result"
    }
   ],
   "source": [
    "rxbar_t1 = 1/9 * sum(rx_t1, 2)\n",
    "X = hcat(ones(length(rxbar_t1)), data[2:end, :SVENY01], [data[2:end, Symbol(\"fwd$(y)y\")] for y in 2:5]...)"
   ]
  },
  {
   "cell_type": "code",
   "execution_count": 8,
   "metadata": {},
   "outputs": [
    {
     "data": {
      "text/plain": [
       "6×1 Array{Float64,2}:\n",
       "  -0.370198\n",
       "  -1.941   \n",
       "   5.4919  \n",
       " -10.7566  \n",
       "   7.98636 \n",
       "  -0.739936"
      ]
     },
     "execution_count": 8,
     "metadata": {},
     "output_type": "execute_result"
    }
   ],
   "source": [
    "γ = (X' * X) \\ (X' * rxbar_t1)"
   ]
  },
  {
   "cell_type": "code",
   "execution_count": 9,
   "metadata": {},
   "outputs": [
    {
     "data": {
      "text/plain": [
       "555-element Array{Float64,1}:\n",
       " 0.721465\n",
       " 0.577565\n",
       " 0.740145\n",
       " 0.925075\n",
       " 1.02497 \n",
       " 0.890991\n",
       " 1.13293 \n",
       " 1.12205 \n",
       " 1.02468 \n",
       " 1.26188 \n",
       " 1.42704 \n",
       " 1.5795  \n",
       " 1.79233 \n",
       " ⋮       \n",
       " 1.1155  \n",
       " 1.02007 \n",
       " 1.12062 \n",
       " 1.76485 \n",
       " 1.18103 \n",
       " 1.71803 \n",
       " 1.81846 \n",
       " 1.5975  \n",
       " 2.14449 \n",
       " 2.12131 \n",
       " 1.79862 \n",
       " 1.45012 "
      ]
     },
     "execution_count": 9,
     "metadata": {},
     "output_type": "execute_result"
    }
   ],
   "source": [
    "CP = (X * γ)[:, 1]"
   ]
  },
  {
   "cell_type": "markdown",
   "metadata": {},
   "source": [
    "$$CP_t = \\hat{\\overline{rx}}_{t+1}$$"
   ]
  },
  {
   "cell_type": "markdown",
   "metadata": {},
   "source": [
    "### (e)"
   ]
  },
  {
   "cell_type": "code",
   "execution_count": 10,
   "metadata": {},
   "outputs": [],
   "source": [
    "X = hcat(ones(length(CP)), CP)\n",
    "f⟂ = hcat([data[2:end, Symbol(\"fwd$(n)y\")] - X * ((X' * X) \\ (X' * data[2:end, Symbol(\"fwd$(n)y\")])) for n in 2:10]...);"
   ]
  },
  {
   "cell_type": "markdown",
   "metadata": {},
   "source": [
    "### (f)"
   ]
  },
  {
   "cell_type": "code",
   "execution_count": 11,
   "metadata": {},
   "outputs": [
    {
     "data": {
      "text/plain": [
       "555×2 Array{Float64,2}:\n",
       " -4.17463    -6.40323\n",
       " -4.56306    -5.39532\n",
       " -4.4493     -4.96229\n",
       " -4.3967     -4.49614\n",
       " -4.37884    -4.16745\n",
       " -4.66447    -3.6547 \n",
       " -4.33696    -3.43469\n",
       " -4.33279    -4.05077\n",
       " -4.47523    -3.38242\n",
       " -4.25409    -3.81175\n",
       " -4.03086    -4.49519\n",
       " -3.97295    -5.2773 \n",
       " -3.7669     -4.82464\n",
       "  ⋮                  \n",
       " -0.402889   -5.55606\n",
       " -0.394712   -4.81071\n",
       " -0.317302   -4.61024\n",
       " -0.166146   -7.08932\n",
       " -0.51479    -5.27216\n",
       " -0.190327   -4.34138\n",
       " -0.109487   -6.15009\n",
       " -0.234283   -6.8893 \n",
       "  0.0693883  -5.24443\n",
       "  0.0740625  -5.75692\n",
       " -0.315897   -3.38269\n",
       " -0.390235   -3.63671"
      ]
     },
     "execution_count": 11,
     "metadata": {},
     "output_type": "execute_result"
    }
   ],
   "source": [
    "decomp = eig(cov(f⟂))\n",
    "PC = f⟂ * decomp[2][:, end:-1:end-1] ./ sum(decomp[2][:, end:-1:end-1], 1)"
   ]
  },
  {
   "cell_type": "markdown",
   "metadata": {},
   "source": [
    "### (g)"
   ]
  },
  {
   "cell_type": "code",
   "execution_count": 12,
   "metadata": {},
   "outputs": [
    {
     "data": {
      "text/plain": [
       "555×2 Array{Float64,2}:\n",
       " -4.17463    -6.40323\n",
       " -4.56306    -5.39532\n",
       " -4.4493     -4.96229\n",
       " -4.3967     -4.49614\n",
       " -4.37884    -4.16745\n",
       " -4.66447    -3.6547 \n",
       " -4.33696    -3.43469\n",
       " -4.33279    -4.05077\n",
       " -4.47523    -3.38242\n",
       " -4.25409    -3.81175\n",
       " -4.03086    -4.49519\n",
       " -3.97295    -5.2773 \n",
       " -3.7669     -4.82464\n",
       "  ⋮                  \n",
       " -0.402889   -5.55606\n",
       " -0.394712   -4.81071\n",
       " -0.317302   -4.61024\n",
       " -0.166146   -7.08932\n",
       " -0.51479    -5.27216\n",
       " -0.190327   -4.34138\n",
       " -0.109487   -6.15009\n",
       " -0.234283   -6.8893 \n",
       "  0.0693883  -5.24443\n",
       "  0.0740625  -5.75692\n",
       " -0.315897   -3.38269\n",
       " -0.390235   -3.63671"
      ]
     },
     "execution_count": 12,
     "metadata": {},
     "output_type": "execute_result"
    }
   ],
   "source": [
    "CP = CP - mean(CP)\n",
    "PC = PC .- mean(PC, 1)"
   ]
  },
  {
   "cell_type": "markdown",
   "metadata": {},
   "source": [
    "### (h)\n",
    "#### (i)"
   ]
  },
  {
   "cell_type": "code",
   "execution_count": 13,
   "metadata": {},
   "outputs": [
    {
     "data": {
      "text/plain": [
       "0.43734213071923"
      ]
     },
     "execution_count": 13,
     "metadata": {},
     "output_type": "execute_result"
    }
   ],
   "source": [
    "X = hcat(ones(length(rxbar_t1)), data[2:end, :SVENY01], [data[2:end, Symbol(\"fwd$(y)y\")] for y in 2:5]...)\n",
    "γ = (X' * X) \\ (X' * rxbar_t1)\n",
    "1 - sum((rxbar_t1 - (X * γ)[:, 1]).^2)/sum((rxbar_t1 - mean(rxbar_t1)).^2)"
   ]
  },
  {
   "cell_type": "markdown",
   "metadata": {},
   "source": [
    "#### (ii)\n",
    "Until 1992.12 the $R^2$ is:"
   ]
  },
  {
   "cell_type": "code",
   "execution_count": 14,
   "metadata": {},
   "outputs": [
    {
     "data": {
      "text/plain": [
       "0.3581029321663768"
      ]
     },
     "execution_count": 14,
     "metadata": {},
     "output_type": "execute_result"
    }
   ],
   "source": [
    "X = hcat(ones(length(rxbar_t1[218:end])), data[219:end, :SVENY01], [data[219:end, Symbol(\"fwd$(y)y\")] for y in 2:5]...)\n",
    "γ = (X' * X) \\ (X' * rxbar_t1[218:end])\n",
    "1 - sum((rxbar_t1[218:end] - (X * γ)[:, 1]).^2)/sum((rxbar_t1[218:end] - mean(rxbar_t1[218:end])).^2)"
   ]
  },
  {
   "cell_type": "markdown",
   "metadata": {},
   "source": [
    "From 1993 on the $R^2$ is:"
   ]
  },
  {
   "cell_type": "code",
   "execution_count": 15,
   "metadata": {},
   "outputs": [
    {
     "data": {
      "text/plain": [
       "0.5602113742763926"
      ]
     },
     "execution_count": 15,
     "metadata": {},
     "output_type": "execute_result"
    }
   ],
   "source": [
    "X = hcat(ones(length(rxbar_t1[1:217])), data[2:218, :SVENY01], [data[2:218, Symbol(\"fwd$(y)y\")] for y in 2:5]...)\n",
    "γ = (X' * X) \\ (X' * rxbar_t1[1:217])\n",
    "1 - sum((rxbar_t1[1:217] - (X * γ)[:, 1]).^2)/sum((rxbar_t1[1:217] - mean(rxbar_t1[1:217])).^2)"
   ]
  },
  {
   "cell_type": "markdown",
   "metadata": {},
   "source": [
    "TODO: Interpret??"
   ]
  },
  {
   "cell_type": "markdown",
   "metadata": {},
   "source": [
    "## Task 3"
   ]
  },
  {
   "cell_type": "code",
   "execution_count": 16,
   "metadata": {},
   "outputs": [
    {
     "data": {
      "text/plain": [
       "555×3 Array{Float64,2}:\n",
       " -0.732341    -4.17463    -6.40323\n",
       " -0.876241    -4.56306    -5.39532\n",
       " -0.713662    -4.4493     -4.96229\n",
       " -0.528732    -4.3967     -4.49614\n",
       " -0.428833    -4.37884    -4.16745\n",
       " -0.562815    -4.66447    -3.6547 \n",
       " -0.320873    -4.33696    -3.43469\n",
       " -0.331753    -4.33279    -4.05077\n",
       " -0.429128    -4.47523    -3.38242\n",
       " -0.191922    -4.25409    -3.81175\n",
       " -0.0267684   -4.03086    -4.49519\n",
       "  0.125697    -3.97295    -5.2773 \n",
       "  0.338521    -3.7669     -4.82464\n",
       "  ⋮                               \n",
       " -0.338307    -0.402889   -5.55606\n",
       " -0.433735    -0.394712   -4.81071\n",
       " -0.333187    -0.317302   -4.61024\n",
       "  0.31104     -0.166146   -7.08932\n",
       " -0.272781    -0.51479    -5.27216\n",
       "  0.264221    -0.190327   -4.34138\n",
       "  0.364653    -0.109487   -6.15009\n",
       "  0.143692    -0.234283   -6.8893 \n",
       "  0.690681     0.0693883  -5.24443\n",
       "  0.667508     0.0740625  -5.75692\n",
       "  0.344815    -0.315897   -3.38269\n",
       " -0.00368774  -0.390235   -3.63671"
      ]
     },
     "execution_count": 16,
     "metadata": {},
     "output_type": "execute_result"
    }
   ],
   "source": [
    "X = hcat(CP, PC)"
   ]
  },
  {
   "cell_type": "code",
   "execution_count": 17,
   "metadata": {},
   "outputs": [
    {
     "data": {
      "text/plain": [
       "555-element Array{Float64,1}:\n",
       " 1.9119\n",
       " 1.7573\n",
       " 1.6313\n",
       " 1.4416\n",
       " 1.3341\n",
       " 1.2322\n",
       " 1.2383\n",
       " 1.2608\n",
       " 1.1887\n",
       " 1.1191\n",
       " 1.0551\n",
       " 0.9164\n",
       " 0.8732\n",
       " ⋮     \n",
       " 5.4437\n",
       " 5.4438\n",
       " 5.3263\n",
       " 4.7773\n",
       " 5.0769\n",
       " 4.569 \n",
       " 4.5459\n",
       " 5.0208\n",
       " 4.2036\n",
       " 4.243 \n",
       " 4.3542\n",
       " 4.6539"
      ]
     },
     "execution_count": 17,
     "metadata": {},
     "output_type": "execute_result"
    }
   ],
   "source": [
    "y1 = data[2:end, :SVENY01]"
   ]
  },
  {
   "cell_type": "code",
   "execution_count": 18,
   "metadata": {},
   "outputs": [
    {
     "data": {
      "text/plain": [
       "4-element Array{Float64,1}:\n",
       "  5.22048  \n",
       " -1.39617  \n",
       "  1.04331  \n",
       " -0.0083798"
      ]
     },
     "execution_count": 18,
     "metadata": {},
     "output_type": "execute_result"
    }
   ],
   "source": [
    "Z = hcat(ones(size(X, 1)), X)\n",
    "δ = (Z' * Z) \\ (Z' * y1)"
   ]
  },
  {
   "cell_type": "code",
   "execution_count": 19,
   "metadata": {},
   "outputs": [],
   "source": [
    "δ1 = δ[2:4];"
   ]
  },
  {
   "cell_type": "code",
   "execution_count": 20,
   "metadata": {},
   "outputs": [
    {
     "data": {
      "text/plain": [
       "0.9939130606952067"
      ]
     },
     "execution_count": 20,
     "metadata": {},
     "output_type": "execute_result"
    }
   ],
   "source": [
    "1 - sum((y1 - (Z * δ)[:, 1]).^2)/sum((y1 - mean(y1)).^2)"
   ]
  },
  {
   "cell_type": "markdown",
   "metadata": {},
   "source": [
    "I guess it's correct?!"
   ]
  },
  {
   "cell_type": "markdown",
   "metadata": {},
   "source": [
    "## Task 4"
   ]
  },
  {
   "cell_type": "code",
   "execution_count": 21,
   "metadata": {
    "scrolled": false
   },
   "outputs": [
    {
     "data": {
      "text/plain": [
       "3×3 Array{Float64,2}:\n",
       "  0.540006   -0.492155    0.0659785 \n",
       " -0.0061813   0.900161   -0.00301876\n",
       "  0.0888033   0.0906404   0.422987  "
      ]
     },
     "execution_count": 21,
     "metadata": {},
     "output_type": "execute_result"
    }
   ],
   "source": [
    "Γ = ((X[13:end, :])' * X[13:end, :]) \\ ((X[13:end, :])' * X[1:end-12, :])"
   ]
  },
  {
   "cell_type": "markdown",
   "metadata": {},
   "source": [
    "naive OLS estimate of $\\Sigma$:"
   ]
  },
  {
   "cell_type": "code",
   "execution_count": 22,
   "metadata": {},
   "outputs": [
    {
     "data": {
      "text/plain": [
       "3×3 Array{Float64,2}:\n",
       "  3.36613    0.640603  -0.810318\n",
       "  0.640603   1.89841   -0.157742\n",
       " -0.810318  -0.157742   8.74069 "
      ]
     },
     "execution_count": 22,
     "metadata": {},
     "output_type": "execute_result"
    }
   ],
   "source": [
    "ϵ = ((X[1:end-12, :])' .- Γ * (X[13:end, :])')'\n",
    "Σ = ϵ'ϵ/(size(ϵ, 1) - 9 - 1)"
   ]
  },
  {
   "cell_type": "markdown",
   "metadata": {},
   "source": [
    "HAC estimate of the variance matrix of $vec(\\Gamma)$:"
   ]
  },
  {
   "cell_type": "code",
   "execution_count": 23,
   "metadata": {},
   "outputs": [
    {
     "data": {
      "text/plain": [
       "Γ! (generic function with 1 method)"
      ]
     },
     "execution_count": 23,
     "metadata": {},
     "output_type": "execute_result"
    }
   ],
   "source": [
    "function Shat_HAC(Y, X, β; Jn = 4)\n",
    "    N = length(β)\n",
    "    \n",
    "    Γ = zeros(N, N)\n",
    "    Γ!(Γ, Y, X, β, j = 0)\n",
    "    \n",
    "    #0th lag\n",
    "    Shat = copy(Γ)\n",
    "    \n",
    "    #all other lags\n",
    "    for j in 1:Jn\n",
    "        Γ .= zeros(N, N)\n",
    "        Γ!(Γ, Y, X, β, j = j)\n",
    "        Shat .+= (1 - j / (Jn + 1)) .* (Γ .+ Γ')\n",
    "    end\n",
    "    \n",
    "    return Shat\n",
    "end\n",
    "\n",
    "function Γ!(Γ, Y, X, β; j = 0)\n",
    "    for t in j+1:size(X, 1)\n",
    "        Γ .+= vec((Y[t, :] - β  * X[t, :]) * X[t, :]') * vec((Y[t-j, :] - β  * X[t-j, :]) * X[t-j, :]')'\n",
    "    end\n",
    "    \n",
    "    Γ .= Γ ./ (size(X, 1) - j)\n",
    "end"
   ]
  },
  {
   "cell_type": "code",
   "execution_count": 24,
   "metadata": {
    "scrolled": true
   },
   "outputs": [
    {
     "data": {
      "text/plain": [
       "9×9 Array{Float64,2}:\n",
       "  0.097   0.034  -0.044  -0.054  -0.053   0.065  -0.046  -0.023   0.026\n",
       "  0.034   0.106  -0.001  -0.084  -0.031  -0.018   0.003  -0.097  -0.037\n",
       " -0.044  -0.001   0.347   0.075  -0.014  -0.182   0.034  -0.052  -0.07 \n",
       " -0.054  -0.084   0.075   1.11   -0.037  -0.402   0.039   0.053  -0.096\n",
       " -0.053  -0.031  -0.014  -0.037   0.238   0.073   0.049   0.03    0.074\n",
       "  0.065  -0.018  -0.182  -0.402   0.073   0.759   0.005   0.092   0.144\n",
       " -0.046   0.003   0.034   0.039   0.049   0.005   0.501   0.236  -0.23 \n",
       " -0.023  -0.097  -0.052   0.053   0.03    0.092   0.236   0.406  -0.058\n",
       "  0.026  -0.037  -0.07   -0.096   0.074   0.144  -0.23   -0.058   0.81 "
      ]
     },
     "execution_count": 24,
     "metadata": {},
     "output_type": "execute_result"
    }
   ],
   "source": [
    "round.(Shat_HAC(X[1:end-12, :], X[13:end, :], Γ, Jn = 12)/size(X, 1), 3)"
   ]
  },
  {
   "cell_type": "markdown",
   "metadata": {},
   "source": [
    "## Task 5"
   ]
  },
  {
   "cell_type": "code",
   "execution_count": 25,
   "metadata": {},
   "outputs": [],
   "source": [
    "β = [begin\n",
    "    X = hcat(ones(size(ϵ, 1)), ϵ[:, i])\n",
    "    β = ((X' * X) \\ (X' * rx_t1[13:end, :]))'\n",
    "    β = β[:, 2]\n",
    "end for i in 1:3]\n",
    "\n",
    "result = [begin \n",
    "    λ = (β[i]' * β[i]) \\ (β[i]' * (mean(rx_t1[13:end, :], 1) + 1/2 * var(rx_t1[13:end, :], 1))')\n",
    "    (λ, (mean(rx_t1[13:end, :], 1) + 1/2 * var(rx_t1[13:end, :], 1))' - β[i] * λ)\n",
    "end for i in 1:3];"
   ]
  },
  {
   "cell_type": "code",
   "execution_count": 26,
   "metadata": {},
   "outputs": [
    {
     "data": {
      "text/html": [
       "<table class=\"data-frame\"><thead><tr><th></th><th>n</th><th>CP</th><th>level</th><th>slope</th></tr></thead><tbody><tr><th>1</th><td>2</td><td>-2.91725</td><td>-0.919833</td><td>-2.9727</td></tr><tr><th>2</th><td>3</td><td>-3.1289</td><td>-1.05425</td><td>-3.72931</td></tr><tr><th>3</th><td>4</td><td>-2.1432</td><td>-0.979099</td><td>-2.71145</td></tr><tr><th>4</th><td>5</td><td>-0.663953</td><td>-0.789444</td><td>-1.03596</td></tr><tr><th>5</th><td>6</td><td>0.9988</td><td>-0.515339</td><td>0.624124</td></tr><tr><th>6</th><td>7</td><td>2.68584</td><td>-0.172822</td><td>1.94819</td></tr><tr><th>7</th><td>8</td><td>4.31638</td><td>0.231316</td><td>2.83049</td></tr><tr><th>8</th><td>9</td><td>5.84925</td><td>0.698022</td><td>3.27982</td></tr><tr><th>9</th><td>10</td><td>7.27312</td><td>1.23323</td><td>3.36293</td></tr><tr><th>10</th><td>MAE</td><td>3.33074</td><td>0.732596</td><td>2.49944</td></tr></tbody></table>"
      ],
      "text/plain": [
       "10×4 DataFrames.DataFrame\n",
       "│ Row │ n   │ CP        │ level     │ slope    │\n",
       "├─────┼─────┼───────────┼───────────┼──────────┤\n",
       "│ 1   │ 2   │ -2.91725  │ -0.919833 │ -2.9727  │\n",
       "│ 2   │ 3   │ -3.1289   │ -1.05425  │ -3.72931 │\n",
       "│ 3   │ 4   │ -2.1432   │ -0.979099 │ -2.71145 │\n",
       "│ 4   │ 5   │ -0.663953 │ -0.789444 │ -1.03596 │\n",
       "│ 5   │ 6   │ 0.9988    │ -0.515339 │ 0.624124 │\n",
       "│ 6   │ 7   │ 2.68584   │ -0.172822 │ 1.94819  │\n",
       "│ 7   │ 8   │ 4.31638   │ 0.231316  │ 2.83049  │\n",
       "│ 8   │ 9   │ 5.84925   │ 0.698022  │ 3.27982  │\n",
       "│ 9   │ 10  │ 7.27312   │ 1.23323   │ 3.36293  │\n",
       "│ 10  │ MAE │ 3.33074   │ 0.732596  │ 2.49944  │"
      ]
     },
     "execution_count": 26,
     "metadata": {},
     "output_type": "execute_result"
    }
   ],
   "source": [
    "λ = [result[i][1][1] for i in 1:3]\n",
    "α = hcat([result[i][2] for i in 1:3]...)\n",
    "table = DataFrame(hcat(string.(2:10), α), [:n, :CP, :level, :slope])\n",
    "push!(table, vcat(\"MAE\", mean(abs.(α), 1)[:]))\n",
    "table"
   ]
  },
  {
   "cell_type": "markdown",
   "metadata": {},
   "source": [
    "The level factor really explains the best!"
   ]
  },
  {
   "cell_type": "markdown",
   "metadata": {},
   "source": [
    "## Task 6\n",
    "$$p_{t}(1)=-y_{t}(1)=\\underset{A(1)}{\\underbrace{-\\delta_{0}}}\\underset{B(1)}{\\underbrace{-\\delta_{1}}}X_{t}$$\n",
    "The Euler equation for investing into a bond with maturity $2$ is:\n",
    "$$\\mathbb{E}_t\\Big[ M_{t+1} \\cdot P_{t+1}(1) \\Big] = P_{t}(2)$$\n",
    "Hence:\n",
    "$$log\\Big(\\mathbb{E}_{t}\\Big[M_{t+1}\\cdot P_{t+1}(1)\\Big]\\Big)=log\\Big(\\mathbb{E}_{t}^{*}\\Big[exp\\big(p_{t+1}(1)\\big)\\Big]\\Big)=log\\Big(\\mathbb{E}_{t}^{*}\\Big[exp\\big(-\\delta_{0}-\\delta_{1}X_{t+1}\\big)\\Big]\\Big)=$$\n",
    "$$-\\delta_{0}+log\\Big(\\mathbb{E}_{t}^{*}\\Big[exp\\big(\\underset{\\sim\\mathbb{\\mathcal{N}\\big(}-\\delta_{1}\\mu^{*}-\\delta_{1}\\Gamma^{*}X_{t},\\delta_{1}^{'}\\Sigma\\delta_{1}\\big)}{\\underbrace{-\\delta_{1}X_{t+1}}}\\big)\\Big]\\Big)=\\underset{=A(2)=A(1)-\\delta_{1}\\mu^{*}+\\frac{1}{2}\\delta_{1}^{'}\\Sigma\\delta_{1}}{\\underbrace{-\\delta_{0}-\\delta_{1}\\mu^{*}+\\frac{1}{2}\\delta_{1}^{'}\\Sigma\\delta_{1}}}\\underset{B(2)=B(1)\\Gamma^{*}}{\\underbrace{-\\delta_{1}\\Gamma^{*}}}X_{t}=p_{t}(2)$$"
   ]
  },
  {
   "cell_type": "markdown",
   "metadata": {},
   "source": [
    "Iterating one step further:\n",
    "$$log\\Big(\\mathbb{E}_{t}\\Big[M_{t+1}\\cdot P_{t+1}(2)\\Big]\\Big)=log\\Big(\\mathbb{E}_{t}^{*}\\Big[P_{t+1}(2)\\Big]\\Big)=-\\delta_{0}-\\delta_{1}\\mu^{*}+\\frac{1}{2}\\delta_{1}^{'}\\Sigma\\delta_{1}-\\delta_{1}\\Gamma^{*}\\mu^{*}+\\frac{1}{2}\\delta_{1}^{'}\\Gamma^{*'}\\Sigma\\Gamma^{*}\\delta_{1}-\\delta_{1}\\Gamma^{*}\\Gamma^{*}X_{t}=p_{t}(3)$$"
   ]
  },
  {
   "cell_type": "markdown",
   "metadata": {},
   "source": [
    "Hence:\n",
    "$$B(n) = -\\delta_1\\Big(\\Gamma^*\\Big)^n$$\n",
    "$$A(n) = -\\delta_0 - \\delta_1\\Big(\\sum_{i=1}^n \\big(\\Gamma^*\\big)^{i-1}\\Big)\\mu^* + \\frac{1}{2}\\Big(\\sum_{i=1}^n \\delta_1^{'} \\big(\\Gamma^{*'}\\big)^{i-1}\\Sigma\\big(\\Gamma^*\\big)^{i-1} \\delta_1 \\Big)$$"
   ]
  },
  {
   "cell_type": "markdown",
   "metadata": {},
   "source": [
    "## Task 7"
   ]
  },
  {
   "cell_type": "code",
   "execution_count": 27,
   "metadata": {},
   "outputs": [
    {
     "data": {
      "text/plain": [
       "0.8460776092992276"
      ]
     },
     "execution_count": 27,
     "metadata": {},
     "output_type": "execute_result"
    }
   ],
   "source": [
    "X = hcat(ones(size(CP[13:end, :], 1)), CP[13:end, :])\n",
    "θ = ((X' * X) \\ (X' * rx_t1[1:end-12, 9]))[2]"
   ]
  },
  {
   "cell_type": "code",
   "execution_count": 28,
   "metadata": {},
   "outputs": [
    {
     "data": {
      "text/plain": [
       "Γstar (generic function with 1 method)"
      ]
     },
     "execution_count": 28,
     "metadata": {},
     "output_type": "execute_result"
    }
   ],
   "source": [
    "Γstar(λ121) = Γ - Σ * reshape([0, λ121, 0, 0, 0, 0, 0, 0, 0], 3, 3)"
   ]
  },
  {
   "cell_type": "code",
   "execution_count": 29,
   "metadata": {},
   "outputs": [
    {
     "data": {
      "text/plain": [
       "B (generic function with 1 method)"
      ]
     },
     "execution_count": 29,
     "metadata": {},
     "output_type": "execute_result"
    }
   ],
   "source": [
    "B(n, λ121) = -δ1' * Γstar(λ121)^n"
   ]
  },
  {
   "cell_type": "code",
   "execution_count": 75,
   "metadata": {},
   "outputs": [
    {
     "data": {
      "text/plain": [
       "3-element Array{Float64,1}:\n",
       " -1.39617  \n",
       "  1.04331  \n",
       " -0.0083798"
      ]
     },
     "execution_count": 75,
     "metadata": {},
     "output_type": "execute_result"
    }
   ],
   "source": [
    "δ1"
   ]
  },
  {
   "cell_type": "code",
   "execution_count": 84,
   "metadata": {},
   "outputs": [
    {
     "data": {
      "text/plain": [
       "3×3 Array{Float64,2}:\n",
       "  3.42509   -0.492155    0.0659785 \n",
       "  8.54368    0.900161   -0.00301876\n",
       " -0.621619   0.0906404   0.422987  "
      ]
     },
     "execution_count": 84,
     "metadata": {},
     "output_type": "execute_result"
    }
   ],
   "source": [
    "Γstar(λ121)"
   ]
  },
  {
   "cell_type": "code",
   "execution_count": 86,
   "metadata": {},
   "outputs": [
    {
     "data": {
      "text/plain": [
       "residual (generic function with 1 method)"
      ]
     },
     "execution_count": 86,
     "metadata": {},
     "output_type": "execute_result"
    }
   ],
   "source": [
    "residual(λ121) = (B(9, λ121) * Σ * reshape([0, λ121, 0, 0, 0, 0, 0, 0, 0], 3, 3))[1] - θ"
   ]
  },
  {
   "cell_type": "code",
   "execution_count": 96,
   "metadata": {},
   "outputs": [
    {
     "data": {
      "text/html": [
       "<?xml version=\"1.0\" encoding=\"utf-8\"?>\n",
       "<svg xmlns=\"http://www.w3.org/2000/svg\" xmlns:xlink=\"http://www.w3.org/1999/xlink\" width=\"600\" height=\"400\" viewBox=\"0 0 600 400\">\n",
       "<defs>\n",
       "  <clipPath id=\"clip3300\">\n",
       "    <rect x=\"0\" y=\"0\" width=\"600\" height=\"400\"/>\n",
       "  </clipPath>\n",
       "</defs>\n",
       "<polygon clip-path=\"url(#clip3300)\" points=\"\n",
       "0,400 600,400 600,0 0,0 \n",
       "  \" fill=\"#ffffff\" fill-opacity=\"1\"/>\n",
       "<defs>\n",
       "  <clipPath id=\"clip3301\">\n",
       "    <rect x=\"120\" y=\"0\" width=\"421\" height=\"400\"/>\n",
       "  </clipPath>\n",
       "</defs>\n",
       "<polygon clip-path=\"url(#clip3300)\" points=\"\n",
       "69.6096,375.869 580.315,375.869 580.315,11.811 69.6096,11.811 \n",
       "  \" fill=\"#ffffff\" fill-opacity=\"1\"/>\n",
       "<defs>\n",
       "  <clipPath id=\"clip3302\">\n",
       "    <rect x=\"69\" y=\"11\" width=\"512\" height=\"365\"/>\n",
       "  </clipPath>\n",
       "</defs>\n",
       "<polyline clip-path=\"url(#clip3302)\" style=\"stroke:#000000; stroke-width:0.5; stroke-opacity:0.1; fill:none\" points=\"\n",
       "  106.089,375.869 106.089,11.811 \n",
       "  \"/>\n",
       "<polyline clip-path=\"url(#clip3302)\" style=\"stroke:#000000; stroke-width:0.5; stroke-opacity:0.1; fill:none\" points=\"\n",
       "  179.046,375.869 179.046,11.811 \n",
       "  \"/>\n",
       "<polyline clip-path=\"url(#clip3302)\" style=\"stroke:#000000; stroke-width:0.5; stroke-opacity:0.1; fill:none\" points=\"\n",
       "  252.004,375.869 252.004,11.811 \n",
       "  \"/>\n",
       "<polyline clip-path=\"url(#clip3302)\" style=\"stroke:#000000; stroke-width:0.5; stroke-opacity:0.1; fill:none\" points=\"\n",
       "  324.962,375.869 324.962,11.811 \n",
       "  \"/>\n",
       "<polyline clip-path=\"url(#clip3302)\" style=\"stroke:#000000; stroke-width:0.5; stroke-opacity:0.1; fill:none\" points=\"\n",
       "  397.92,375.869 397.92,11.811 \n",
       "  \"/>\n",
       "<polyline clip-path=\"url(#clip3302)\" style=\"stroke:#000000; stroke-width:0.5; stroke-opacity:0.1; fill:none\" points=\"\n",
       "  470.878,375.869 470.878,11.811 \n",
       "  \"/>\n",
       "<polyline clip-path=\"url(#clip3302)\" style=\"stroke:#000000; stroke-width:0.5; stroke-opacity:0.1; fill:none\" points=\"\n",
       "  543.836,375.869 543.836,11.811 \n",
       "  \"/>\n",
       "<polyline clip-path=\"url(#clip3302)\" style=\"stroke:#000000; stroke-width:0.5; stroke-opacity:0.1; fill:none\" points=\"\n",
       "  69.6096,361.245 580.315,361.245 \n",
       "  \"/>\n",
       "<polyline clip-path=\"url(#clip3302)\" style=\"stroke:#000000; stroke-width:0.5; stroke-opacity:0.1; fill:none\" points=\"\n",
       "  69.6096,309.749 580.315,309.749 \n",
       "  \"/>\n",
       "<polyline clip-path=\"url(#clip3302)\" style=\"stroke:#000000; stroke-width:0.5; stroke-opacity:0.1; fill:none\" points=\"\n",
       "  69.6096,258.253 580.315,258.253 \n",
       "  \"/>\n",
       "<polyline clip-path=\"url(#clip3302)\" style=\"stroke:#000000; stroke-width:0.5; stroke-opacity:0.1; fill:none\" points=\"\n",
       "  69.6096,206.756 580.315,206.756 \n",
       "  \"/>\n",
       "<polyline clip-path=\"url(#clip3302)\" style=\"stroke:#000000; stroke-width:0.5; stroke-opacity:0.1; fill:none\" points=\"\n",
       "  69.6096,155.26 580.315,155.26 \n",
       "  \"/>\n",
       "<polyline clip-path=\"url(#clip3302)\" style=\"stroke:#000000; stroke-width:0.5; stroke-opacity:0.1; fill:none\" points=\"\n",
       "  69.6096,103.764 580.315,103.764 \n",
       "  \"/>\n",
       "<polyline clip-path=\"url(#clip3302)\" style=\"stroke:#000000; stroke-width:0.5; stroke-opacity:0.1; fill:none\" points=\"\n",
       "  69.6096,52.2675 580.315,52.2675 \n",
       "  \"/>\n",
       "<polyline clip-path=\"url(#clip3300)\" style=\"stroke:#000000; stroke-width:1; stroke-opacity:1; fill:none\" points=\"\n",
       "  69.6096,375.869 580.315,375.869 \n",
       "  \"/>\n",
       "<polyline clip-path=\"url(#clip3300)\" style=\"stroke:#000000; stroke-width:1; stroke-opacity:1; fill:none\" points=\"\n",
       "  69.6096,375.869 69.6096,11.811 \n",
       "  \"/>\n",
       "<polyline clip-path=\"url(#clip3300)\" style=\"stroke:#000000; stroke-width:1; stroke-opacity:1; fill:none\" points=\"\n",
       "  106.089,375.869 106.089,370.408 \n",
       "  \"/>\n",
       "<polyline clip-path=\"url(#clip3300)\" style=\"stroke:#000000; stroke-width:1; stroke-opacity:1; fill:none\" points=\"\n",
       "  179.046,375.869 179.046,370.408 \n",
       "  \"/>\n",
       "<polyline clip-path=\"url(#clip3300)\" style=\"stroke:#000000; stroke-width:1; stroke-opacity:1; fill:none\" points=\"\n",
       "  252.004,375.869 252.004,370.408 \n",
       "  \"/>\n",
       "<polyline clip-path=\"url(#clip3300)\" style=\"stroke:#000000; stroke-width:1; stroke-opacity:1; fill:none\" points=\"\n",
       "  324.962,375.869 324.962,370.408 \n",
       "  \"/>\n",
       "<polyline clip-path=\"url(#clip3300)\" style=\"stroke:#000000; stroke-width:1; stroke-opacity:1; fill:none\" points=\"\n",
       "  397.92,375.869 397.92,370.408 \n",
       "  \"/>\n",
       "<polyline clip-path=\"url(#clip3300)\" style=\"stroke:#000000; stroke-width:1; stroke-opacity:1; fill:none\" points=\"\n",
       "  470.878,375.869 470.878,370.408 \n",
       "  \"/>\n",
       "<polyline clip-path=\"url(#clip3300)\" style=\"stroke:#000000; stroke-width:1; stroke-opacity:1; fill:none\" points=\"\n",
       "  543.836,375.869 543.836,370.408 \n",
       "  \"/>\n",
       "<polyline clip-path=\"url(#clip3300)\" style=\"stroke:#000000; stroke-width:1; stroke-opacity:1; fill:none\" points=\"\n",
       "  69.6096,361.245 77.2702,361.245 \n",
       "  \"/>\n",
       "<polyline clip-path=\"url(#clip3300)\" style=\"stroke:#000000; stroke-width:1; stroke-opacity:1; fill:none\" points=\"\n",
       "  69.6096,309.749 77.2702,309.749 \n",
       "  \"/>\n",
       "<polyline clip-path=\"url(#clip3300)\" style=\"stroke:#000000; stroke-width:1; stroke-opacity:1; fill:none\" points=\"\n",
       "  69.6096,258.253 77.2702,258.253 \n",
       "  \"/>\n",
       "<polyline clip-path=\"url(#clip3300)\" style=\"stroke:#000000; stroke-width:1; stroke-opacity:1; fill:none\" points=\"\n",
       "  69.6096,206.756 77.2702,206.756 \n",
       "  \"/>\n",
       "<polyline clip-path=\"url(#clip3300)\" style=\"stroke:#000000; stroke-width:1; stroke-opacity:1; fill:none\" points=\"\n",
       "  69.6096,155.26 77.2702,155.26 \n",
       "  \"/>\n",
       "<polyline clip-path=\"url(#clip3300)\" style=\"stroke:#000000; stroke-width:1; stroke-opacity:1; fill:none\" points=\"\n",
       "  69.6096,103.764 77.2702,103.764 \n",
       "  \"/>\n",
       "<polyline clip-path=\"url(#clip3300)\" style=\"stroke:#000000; stroke-width:1; stroke-opacity:1; fill:none\" points=\"\n",
       "  69.6096,52.2675 77.2702,52.2675 \n",
       "  \"/>\n",
       "<g clip-path=\"url(#clip3300)\">\n",
       "<text style=\"fill:#000000; fill-opacity:1; font-family:Arial,Helvetica Neue,Helvetica,sans-serif; font-size:12; text-anchor:middle;\" transform=\"rotate(0, 106.089, 389.669)\" x=\"106.089\" y=\"389.669\">-8</text>\n",
       "</g>\n",
       "<g clip-path=\"url(#clip3300)\">\n",
       "<text style=\"fill:#000000; fill-opacity:1; font-family:Arial,Helvetica Neue,Helvetica,sans-serif; font-size:12; text-anchor:middle;\" transform=\"rotate(0, 179.046, 389.669)\" x=\"179.046\" y=\"389.669\">-6</text>\n",
       "</g>\n",
       "<g clip-path=\"url(#clip3300)\">\n",
       "<text style=\"fill:#000000; fill-opacity:1; font-family:Arial,Helvetica Neue,Helvetica,sans-serif; font-size:12; text-anchor:middle;\" transform=\"rotate(0, 252.004, 389.669)\" x=\"252.004\" y=\"389.669\">-4</text>\n",
       "</g>\n",
       "<g clip-path=\"url(#clip3300)\">\n",
       "<text style=\"fill:#000000; fill-opacity:1; font-family:Arial,Helvetica Neue,Helvetica,sans-serif; font-size:12; text-anchor:middle;\" transform=\"rotate(0, 324.962, 389.669)\" x=\"324.962\" y=\"389.669\">-2</text>\n",
       "</g>\n",
       "<g clip-path=\"url(#clip3300)\">\n",
       "<text style=\"fill:#000000; fill-opacity:1; font-family:Arial,Helvetica Neue,Helvetica,sans-serif; font-size:12; text-anchor:middle;\" transform=\"rotate(0, 397.92, 389.669)\" x=\"397.92\" y=\"389.669\">0</text>\n",
       "</g>\n",
       "<g clip-path=\"url(#clip3300)\">\n",
       "<text style=\"fill:#000000; fill-opacity:1; font-family:Arial,Helvetica Neue,Helvetica,sans-serif; font-size:12; text-anchor:middle;\" transform=\"rotate(0, 470.878, 389.669)\" x=\"470.878\" y=\"389.669\">2</text>\n",
       "</g>\n",
       "<g clip-path=\"url(#clip3300)\">\n",
       "<text style=\"fill:#000000; fill-opacity:1; font-family:Arial,Helvetica Neue,Helvetica,sans-serif; font-size:12; text-anchor:middle;\" transform=\"rotate(0, 543.836, 389.669)\" x=\"543.836\" y=\"389.669\">4</text>\n",
       "</g>\n",
       "<g clip-path=\"url(#clip3300)\">\n",
       "<text style=\"fill:#000000; fill-opacity:1; font-family:Arial,Helvetica Neue,Helvetica,sans-serif; font-size:12; text-anchor:end;\" transform=\"rotate(0, 63.6096, 365.745)\" x=\"63.6096\" y=\"365.745\">-1500000</text>\n",
       "</g>\n",
       "<g clip-path=\"url(#clip3300)\">\n",
       "<text style=\"fill:#000000; fill-opacity:1; font-family:Arial,Helvetica Neue,Helvetica,sans-serif; font-size:12; text-anchor:end;\" transform=\"rotate(0, 63.6096, 314.249)\" x=\"63.6096\" y=\"314.249\">-1000000</text>\n",
       "</g>\n",
       "<g clip-path=\"url(#clip3300)\">\n",
       "<text style=\"fill:#000000; fill-opacity:1; font-family:Arial,Helvetica Neue,Helvetica,sans-serif; font-size:12; text-anchor:end;\" transform=\"rotate(0, 63.6096, 262.753)\" x=\"63.6096\" y=\"262.753\">-500000</text>\n",
       "</g>\n",
       "<g clip-path=\"url(#clip3300)\">\n",
       "<text style=\"fill:#000000; fill-opacity:1; font-family:Arial,Helvetica Neue,Helvetica,sans-serif; font-size:12; text-anchor:end;\" transform=\"rotate(0, 63.6096, 211.256)\" x=\"63.6096\" y=\"211.256\">0</text>\n",
       "</g>\n",
       "<g clip-path=\"url(#clip3300)\">\n",
       "<text style=\"fill:#000000; fill-opacity:1; font-family:Arial,Helvetica Neue,Helvetica,sans-serif; font-size:12; text-anchor:end;\" transform=\"rotate(0, 63.6096, 159.76)\" x=\"63.6096\" y=\"159.76\">500000</text>\n",
       "</g>\n",
       "<g clip-path=\"url(#clip3300)\">\n",
       "<text style=\"fill:#000000; fill-opacity:1; font-family:Arial,Helvetica Neue,Helvetica,sans-serif; font-size:12; text-anchor:end;\" transform=\"rotate(0, 63.6096, 108.264)\" x=\"63.6096\" y=\"108.264\">1000000</text>\n",
       "</g>\n",
       "<g clip-path=\"url(#clip3300)\">\n",
       "<text style=\"fill:#000000; fill-opacity:1; font-family:Arial,Helvetica Neue,Helvetica,sans-serif; font-size:12; text-anchor:end;\" transform=\"rotate(0, 63.6096, 56.7675)\" x=\"63.6096\" y=\"56.7675\">1500000</text>\n",
       "</g>\n",
       "<polyline clip-path=\"url(#clip3302)\" style=\"stroke:#009af9; stroke-width:1; stroke-opacity:1; fill:none\" points=\"\n",
       "  69.6096,11.811 73.2575,95.1362 76.9054,163.815 80.5533,219.723 84.2012,264.543 87.8491,299.782 91.497,326.788 95.1449,346.761 98.7928,360.766 102.441,369.747 \n",
       "  106.089,374.537 109.736,375.869 113.384,374.383 117.032,370.639 120.68,365.121 124.328,358.249 127.976,350.38 131.624,341.821 135.272,332.831 138.92,323.624 \n",
       "  142.568,314.38 146.215,305.245 149.863,296.336 153.511,287.747 157.159,279.547 160.807,271.787 164.455,264.505 168.103,257.722 171.751,251.449 175.399,245.687 \n",
       "  179.046,240.428 182.694,235.661 186.342,231.366 189.99,227.522 193.638,224.104 197.286,221.086 200.934,218.438 204.582,216.133 208.23,214.142 211.878,212.437 \n",
       "  215.525,210.989 219.173,209.773 222.821,208.763 226.469,207.936 230.117,207.268 233.765,206.739 237.413,206.33 241.061,206.024 244.709,205.804 248.357,205.656 \n",
       "  252.004,205.568 255.652,205.528 259.3,205.527 262.948,205.556 266.596,205.607 270.244,205.674 273.892,205.752 277.54,205.836 281.188,205.923 284.835,206.011 \n",
       "  288.483,206.096 292.131,206.177 295.779,206.254 299.427,206.324 303.075,206.388 306.723,206.446 310.371,206.498 314.019,206.543 317.667,206.582 321.314,206.615 \n",
       "  324.962,206.644 328.61,206.668 332.258,206.687 335.906,206.704 339.554,206.717 343.202,206.727 346.85,206.735 350.498,206.741 354.145,206.746 357.793,206.75 \n",
       "  361.441,206.752 365.089,206.754 368.737,206.755 372.385,206.756 376.033,206.756 379.681,206.756 383.329,206.757 386.977,206.757 390.624,206.756 394.272,206.756 \n",
       "  397.92,206.756 401.568,206.756 405.216,206.757 408.864,206.757 412.512,206.757 416.16,206.757 419.808,206.758 423.455,206.759 427.103,206.759 430.751,206.76 \n",
       "  434.399,206.761 438.047,206.762 441.695,206.763 445.343,206.764 448.991,206.766 452.639,206.767 456.287,206.768 459.934,206.77 463.582,206.771 467.23,206.773 \n",
       "  470.878,206.774 474.526,206.774 478.174,206.774 481.822,206.772 485.47,206.769 489.118,206.762 492.765,206.751 496.413,206.734 500.061,206.708 503.709,206.671 \n",
       "  507.357,206.619 511.005,206.546 514.653,206.446 518.301,206.311 521.949,206.131 525.597,205.894 529.244,205.584 532.892,205.183 536.54,204.667 540.188,204.01 \n",
       "  543.836,203.178 547.484,202.133 551.132,200.827 554.78,199.206 558.428,197.204 562.075,194.745 565.723,191.74 569.371,188.085 573.019,183.66 576.667,178.326 \n",
       "  580.315,171.92 \n",
       "  \"/>\n",
       "<polygon clip-path=\"url(#clip3300)\" points=\"\n",
       "489.608,62.931 562.315,62.931 562.315,32.691 489.608,32.691 \n",
       "  \" fill=\"#ffffff\" fill-opacity=\"1\"/>\n",
       "<polyline clip-path=\"url(#clip3300)\" style=\"stroke:#000000; stroke-width:1; stroke-opacity:1; fill:none\" points=\"\n",
       "  489.608,62.931 562.315,62.931 562.315,32.691 489.608,32.691 489.608,62.931 \n",
       "  \"/>\n",
       "<polyline clip-path=\"url(#clip3300)\" style=\"stroke:#009af9; stroke-width:1; stroke-opacity:1; fill:none\" points=\"\n",
       "  495.608,47.811 531.608,47.811 \n",
       "  \"/>\n",
       "<g clip-path=\"url(#clip3300)\">\n",
       "<text style=\"fill:#000000; fill-opacity:1; font-family:Arial,Helvetica Neue,Helvetica,sans-serif; font-size:12; text-anchor:start;\" transform=\"rotate(0, 537.608, 52.311)\" x=\"537.608\" y=\"52.311\">y1</text>\n",
       "</g>\n",
       "</svg>\n"
      ]
     },
     "execution_count": 96,
     "metadata": {},
     "output_type": "execute_result"
    }
   ],
   "source": [
    "using Roots\n",
    "range = collect(-9:0.1:5)\n",
    "plot(range, residual.(range))"
   ]
  },
  {
   "cell_type": "code",
   "execution_count": 32,
   "metadata": {},
   "outputs": [
    {
     "data": {
      "text/plain": [
       "-8.725173046730454"
      ]
     },
     "execution_count": 32,
     "metadata": {},
     "output_type": "execute_result"
    }
   ],
   "source": [
    "fzero(residual, -10., -8)"
   ]
  },
  {
   "cell_type": "code",
   "execution_count": 33,
   "metadata": {},
   "outputs": [
    {
     "data": {
      "text/plain": [
       "-4.503701780676638"
      ]
     },
     "execution_count": 33,
     "metadata": {},
     "output_type": "execute_result"
    }
   ],
   "source": [
    "fzero(residual, -6., -4)"
   ]
  },
  {
   "cell_type": "code",
   "execution_count": 97,
   "metadata": {},
   "outputs": [
    {
     "data": {
      "text/plain": [
       "-0.5497627981006247"
      ]
     },
     "execution_count": 97,
     "metadata": {},
     "output_type": "execute_result"
    }
   ],
   "source": [
    "λ121 = fzero(residual, -1., 1.)"
   ]
  },
  {
   "cell_type": "markdown",
   "metadata": {},
   "source": [
    "There are three $\\lambda_{1(2,1)}$ that equate $\\theta = B(n-1)^{'} \\Sigma \\lambda_1$."
   ]
  },
  {
   "cell_type": "markdown",
   "metadata": {},
   "source": [
    "## Task 8"
   ]
  },
  {
   "cell_type": "code",
   "execution_count": 106,
   "metadata": {},
   "outputs": [
    {
     "data": {
      "text/plain": [
       "residual (generic function with 1 method)"
      ]
     },
     "execution_count": 106,
     "metadata": {},
     "output_type": "execute_result"
    }
   ],
   "source": [
    "residual(λ02) = (mean(rx_t1) + 1/2*B(9, λ121) * Σ * B(9, λ121)' - B(9, λ121) * Σ * reshape([0, λ02, 0], 3, 1))[1]"
   ]
  },
  {
   "cell_type": "code",
   "execution_count": 109,
   "metadata": {},
   "outputs": [
    {
     "data": {
      "text/html": [
       "<?xml version=\"1.0\" encoding=\"utf-8\"?>\n",
       "<svg xmlns=\"http://www.w3.org/2000/svg\" xmlns:xlink=\"http://www.w3.org/1999/xlink\" width=\"600\" height=\"400\" viewBox=\"0 0 600 400\">\n",
       "<defs>\n",
       "  <clipPath id=\"clip4700\">\n",
       "    <rect x=\"0\" y=\"0\" width=\"600\" height=\"400\"/>\n",
       "  </clipPath>\n",
       "</defs>\n",
       "<polygon clip-path=\"url(#clip4700)\" points=\"\n",
       "0,400 600,400 600,0 0,0 \n",
       "  \" fill=\"#ffffff\" fill-opacity=\"1\"/>\n",
       "<defs>\n",
       "  <clipPath id=\"clip4701\">\n",
       "    <rect x=\"120\" y=\"0\" width=\"421\" height=\"400\"/>\n",
       "  </clipPath>\n",
       "</defs>\n",
       "<polygon clip-path=\"url(#clip4700)\" points=\"\n",
       "36.1567,375.869 580.315,375.869 580.315,11.811 36.1567,11.811 \n",
       "  \" fill=\"#ffffff\" fill-opacity=\"1\"/>\n",
       "<defs>\n",
       "  <clipPath id=\"clip4702\">\n",
       "    <rect x=\"36\" y=\"11\" width=\"545\" height=\"365\"/>\n",
       "  </clipPath>\n",
       "</defs>\n",
       "<polyline clip-path=\"url(#clip4702)\" style=\"stroke:#000000; stroke-width:0.5; stroke-opacity:0.1; fill:none\" points=\"\n",
       "  36.1567,375.869 36.1567,11.811 \n",
       "  \"/>\n",
       "<polyline clip-path=\"url(#clip4702)\" style=\"stroke:#000000; stroke-width:0.5; stroke-opacity:0.1; fill:none\" points=\"\n",
       "  144.988,375.869 144.988,11.811 \n",
       "  \"/>\n",
       "<polyline clip-path=\"url(#clip4702)\" style=\"stroke:#000000; stroke-width:0.5; stroke-opacity:0.1; fill:none\" points=\"\n",
       "  253.82,375.869 253.82,11.811 \n",
       "  \"/>\n",
       "<polyline clip-path=\"url(#clip4702)\" style=\"stroke:#000000; stroke-width:0.5; stroke-opacity:0.1; fill:none\" points=\"\n",
       "  362.652,375.869 362.652,11.811 \n",
       "  \"/>\n",
       "<polyline clip-path=\"url(#clip4702)\" style=\"stroke:#000000; stroke-width:0.5; stroke-opacity:0.1; fill:none\" points=\"\n",
       "  471.483,375.869 471.483,11.811 \n",
       "  \"/>\n",
       "<polyline clip-path=\"url(#clip4702)\" style=\"stroke:#000000; stroke-width:0.5; stroke-opacity:0.1; fill:none\" points=\"\n",
       "  580.315,375.869 580.315,11.811 \n",
       "  \"/>\n",
       "<polyline clip-path=\"url(#clip4702)\" style=\"stroke:#000000; stroke-width:0.5; stroke-opacity:0.1; fill:none\" points=\"\n",
       "  36.1567,347.597 580.315,347.597 \n",
       "  \"/>\n",
       "<polyline clip-path=\"url(#clip4702)\" style=\"stroke:#000000; stroke-width:0.5; stroke-opacity:0.1; fill:none\" points=\"\n",
       "  36.1567,252.974 580.315,252.974 \n",
       "  \"/>\n",
       "<polyline clip-path=\"url(#clip4702)\" style=\"stroke:#000000; stroke-width:0.5; stroke-opacity:0.1; fill:none\" points=\"\n",
       "  36.1567,158.351 580.315,158.351 \n",
       "  \"/>\n",
       "<polyline clip-path=\"url(#clip4702)\" style=\"stroke:#000000; stroke-width:0.5; stroke-opacity:0.1; fill:none\" points=\"\n",
       "  36.1567,63.7287 580.315,63.7287 \n",
       "  \"/>\n",
       "<polyline clip-path=\"url(#clip4700)\" style=\"stroke:#000000; stroke-width:1; stroke-opacity:1; fill:none\" points=\"\n",
       "  36.1567,375.869 580.315,375.869 \n",
       "  \"/>\n",
       "<polyline clip-path=\"url(#clip4700)\" style=\"stroke:#000000; stroke-width:1; stroke-opacity:1; fill:none\" points=\"\n",
       "  36.1567,375.869 36.1567,11.811 \n",
       "  \"/>\n",
       "<polyline clip-path=\"url(#clip4700)\" style=\"stroke:#000000; stroke-width:1; stroke-opacity:1; fill:none\" points=\"\n",
       "  36.1567,375.869 36.1567,370.408 \n",
       "  \"/>\n",
       "<polyline clip-path=\"url(#clip4700)\" style=\"stroke:#000000; stroke-width:1; stroke-opacity:1; fill:none\" points=\"\n",
       "  144.988,375.869 144.988,370.408 \n",
       "  \"/>\n",
       "<polyline clip-path=\"url(#clip4700)\" style=\"stroke:#000000; stroke-width:1; stroke-opacity:1; fill:none\" points=\"\n",
       "  253.82,375.869 253.82,370.408 \n",
       "  \"/>\n",
       "<polyline clip-path=\"url(#clip4700)\" style=\"stroke:#000000; stroke-width:1; stroke-opacity:1; fill:none\" points=\"\n",
       "  362.652,375.869 362.652,370.408 \n",
       "  \"/>\n",
       "<polyline clip-path=\"url(#clip4700)\" style=\"stroke:#000000; stroke-width:1; stroke-opacity:1; fill:none\" points=\"\n",
       "  471.483,375.869 471.483,370.408 \n",
       "  \"/>\n",
       "<polyline clip-path=\"url(#clip4700)\" style=\"stroke:#000000; stroke-width:1; stroke-opacity:1; fill:none\" points=\"\n",
       "  580.315,375.869 580.315,370.408 \n",
       "  \"/>\n",
       "<polyline clip-path=\"url(#clip4700)\" style=\"stroke:#000000; stroke-width:1; stroke-opacity:1; fill:none\" points=\"\n",
       "  36.1567,347.597 44.3191,347.597 \n",
       "  \"/>\n",
       "<polyline clip-path=\"url(#clip4700)\" style=\"stroke:#000000; stroke-width:1; stroke-opacity:1; fill:none\" points=\"\n",
       "  36.1567,252.974 44.3191,252.974 \n",
       "  \"/>\n",
       "<polyline clip-path=\"url(#clip4700)\" style=\"stroke:#000000; stroke-width:1; stroke-opacity:1; fill:none\" points=\"\n",
       "  36.1567,158.351 44.3191,158.351 \n",
       "  \"/>\n",
       "<polyline clip-path=\"url(#clip4700)\" style=\"stroke:#000000; stroke-width:1; stroke-opacity:1; fill:none\" points=\"\n",
       "  36.1567,63.7287 44.3191,63.7287 \n",
       "  \"/>\n",
       "<g clip-path=\"url(#clip4700)\">\n",
       "<text style=\"fill:#000000; fill-opacity:1; font-family:Arial,Helvetica Neue,Helvetica,sans-serif; font-size:12; text-anchor:middle;\" transform=\"rotate(0, 36.1567, 389.669)\" x=\"36.1567\" y=\"389.669\">-50</text>\n",
       "</g>\n",
       "<g clip-path=\"url(#clip4700)\">\n",
       "<text style=\"fill:#000000; fill-opacity:1; font-family:Arial,Helvetica Neue,Helvetica,sans-serif; font-size:12; text-anchor:middle;\" transform=\"rotate(0, 144.988, 389.669)\" x=\"144.988\" y=\"389.669\">-40</text>\n",
       "</g>\n",
       "<g clip-path=\"url(#clip4700)\">\n",
       "<text style=\"fill:#000000; fill-opacity:1; font-family:Arial,Helvetica Neue,Helvetica,sans-serif; font-size:12; text-anchor:middle;\" transform=\"rotate(0, 253.82, 389.669)\" x=\"253.82\" y=\"389.669\">-30</text>\n",
       "</g>\n",
       "<g clip-path=\"url(#clip4700)\">\n",
       "<text style=\"fill:#000000; fill-opacity:1; font-family:Arial,Helvetica Neue,Helvetica,sans-serif; font-size:12; text-anchor:middle;\" transform=\"rotate(0, 362.652, 389.669)\" x=\"362.652\" y=\"389.669\">-20</text>\n",
       "</g>\n",
       "<g clip-path=\"url(#clip4700)\">\n",
       "<text style=\"fill:#000000; fill-opacity:1; font-family:Arial,Helvetica Neue,Helvetica,sans-serif; font-size:12; text-anchor:middle;\" transform=\"rotate(0, 471.483, 389.669)\" x=\"471.483\" y=\"389.669\">-10</text>\n",
       "</g>\n",
       "<g clip-path=\"url(#clip4700)\">\n",
       "<text style=\"fill:#000000; fill-opacity:1; font-family:Arial,Helvetica Neue,Helvetica,sans-serif; font-size:12; text-anchor:middle;\" transform=\"rotate(0, 580.315, 389.669)\" x=\"580.315\" y=\"389.669\">0</text>\n",
       "</g>\n",
       "<g clip-path=\"url(#clip4700)\">\n",
       "<text style=\"fill:#000000; fill-opacity:1; font-family:Arial,Helvetica Neue,Helvetica,sans-serif; font-size:12; text-anchor:end;\" transform=\"rotate(0, 30.1567, 352.097)\" x=\"30.1567\" y=\"352.097\">-20</text>\n",
       "</g>\n",
       "<g clip-path=\"url(#clip4700)\">\n",
       "<text style=\"fill:#000000; fill-opacity:1; font-family:Arial,Helvetica Neue,Helvetica,sans-serif; font-size:12; text-anchor:end;\" transform=\"rotate(0, 30.1567, 257.474)\" x=\"30.1567\" y=\"257.474\">0</text>\n",
       "</g>\n",
       "<g clip-path=\"url(#clip4700)\">\n",
       "<text style=\"fill:#000000; fill-opacity:1; font-family:Arial,Helvetica Neue,Helvetica,sans-serif; font-size:12; text-anchor:end;\" transform=\"rotate(0, 30.1567, 162.851)\" x=\"30.1567\" y=\"162.851\">20</text>\n",
       "</g>\n",
       "<g clip-path=\"url(#clip4700)\">\n",
       "<text style=\"fill:#000000; fill-opacity:1; font-family:Arial,Helvetica Neue,Helvetica,sans-serif; font-size:12; text-anchor:end;\" transform=\"rotate(0, 30.1567, 68.2287)\" x=\"30.1567\" y=\"68.2287\">40</text>\n",
       "</g>\n",
       "<polyline clip-path=\"url(#clip4702)\" style=\"stroke:#009af9; stroke-width:1; stroke-opacity:1; fill:none\" points=\"\n",
       "  36.1567,375.869 37.245,375.141 38.3334,374.412 39.4217,373.684 40.51,372.956 41.5983,372.228 42.6866,371.5 43.7749,370.772 44.8633,370.044 45.9516,369.316 \n",
       "  47.0399,368.588 48.1282,367.859 49.2165,367.131 50.3048,366.403 51.3932,365.675 52.4815,364.947 53.5698,364.219 54.6581,363.491 55.7464,362.763 56.8347,362.034 \n",
       "  57.9231,361.306 59.0114,360.578 60.0997,359.85 61.188,359.122 62.2763,358.394 63.3646,357.666 64.453,356.938 65.5413,356.21 66.6296,355.481 67.7179,354.753 \n",
       "  68.8062,354.025 69.8945,353.297 70.9828,352.569 72.0712,351.841 73.1595,351.113 74.2478,350.385 75.3361,349.657 76.4244,348.928 77.5127,348.2 78.6011,347.472 \n",
       "  79.6894,346.744 80.7777,346.016 81.866,345.288 82.9543,344.56 84.0426,343.832 85.131,343.103 86.2193,342.375 87.3076,341.647 88.3959,340.919 89.4842,340.191 \n",
       "  90.5725,339.463 91.6609,338.735 92.7492,338.007 93.8375,337.279 94.9258,336.55 96.0141,335.822 97.1024,335.094 98.1908,334.366 99.2791,333.638 100.367,332.91 \n",
       "  101.456,332.182 102.544,331.454 103.632,330.726 104.721,329.997 105.809,329.269 106.897,328.541 107.986,327.813 109.074,327.085 110.162,326.357 111.251,325.629 \n",
       "  112.339,324.901 113.427,324.172 114.516,323.444 115.604,322.716 116.692,321.988 117.78,321.26 118.869,320.532 119.957,319.804 121.045,319.076 122.134,318.348 \n",
       "  123.222,317.619 124.31,316.891 125.399,316.163 126.487,315.435 127.575,314.707 128.664,313.979 129.752,313.251 130.84,312.523 131.929,311.795 133.017,311.066 \n",
       "  134.105,310.338 135.194,309.61 136.282,308.882 137.37,308.154 138.458,307.426 139.547,306.698 140.635,305.97 141.723,305.241 142.812,304.513 143.9,303.785 \n",
       "  144.988,303.057 146.077,302.329 147.165,301.601 148.253,300.873 149.342,300.145 150.43,299.417 151.518,298.688 152.607,297.96 153.695,297.232 154.783,296.504 \n",
       "  155.872,295.776 156.96,295.048 158.048,294.32 159.136,293.592 160.225,292.864 161.313,292.135 162.401,291.407 163.49,290.679 164.578,289.951 165.666,289.223 \n",
       "  166.755,288.495 167.843,287.767 168.931,287.039 170.02,286.31 171.108,285.582 172.196,284.854 173.285,284.126 174.373,283.398 175.461,282.67 176.55,281.942 \n",
       "  177.638,281.214 178.726,280.486 179.814,279.757 180.903,279.029 181.991,278.301 183.079,277.573 184.168,276.845 185.256,276.117 186.344,275.389 187.433,274.661 \n",
       "  188.521,273.933 189.609,273.204 190.698,272.476 191.786,271.748 192.874,271.02 193.963,270.292 195.051,269.564 196.139,268.836 197.228,268.108 198.316,267.379 \n",
       "  199.404,266.651 200.493,265.923 201.581,265.195 202.669,264.467 203.757,263.739 204.846,263.011 205.934,262.283 207.022,261.555 208.111,260.826 209.199,260.098 \n",
       "  210.287,259.37 211.376,258.642 212.464,257.914 213.552,257.186 214.641,256.458 215.729,255.73 216.817,255.002 217.906,254.273 218.994,253.545 220.082,252.817 \n",
       "  221.171,252.089 222.259,251.361 223.347,250.633 224.435,249.905 225.524,249.177 226.612,248.449 227.7,247.72 228.789,246.992 229.877,246.264 230.965,245.536 \n",
       "  232.054,244.808 233.142,244.08 234.23,243.352 235.319,242.624 236.407,241.895 237.495,241.167 238.584,240.439 239.672,239.711 240.76,238.983 241.849,238.255 \n",
       "  242.937,237.527 244.025,236.799 245.113,236.071 246.202,235.342 247.29,234.614 248.378,233.886 249.467,233.158 250.555,232.43 251.643,231.702 252.732,230.974 \n",
       "  253.82,230.246 254.908,229.518 255.997,228.789 257.085,228.061 258.173,227.333 259.262,226.605 260.35,225.877 261.438,225.149 262.527,224.421 263.615,223.693 \n",
       "  264.703,222.964 265.791,222.236 266.88,221.508 267.968,220.78 269.056,220.052 270.145,219.324 271.233,218.596 272.321,217.868 273.41,217.14 274.498,216.411 \n",
       "  275.586,215.683 276.675,214.955 277.763,214.227 278.851,213.499 279.94,212.771 281.028,212.043 282.116,211.315 283.205,210.587 284.293,209.858 285.381,209.13 \n",
       "  286.47,208.402 287.558,207.674 288.646,206.946 289.734,206.218 290.823,205.49 291.911,204.762 292.999,204.033 294.088,203.305 295.176,202.577 296.264,201.849 \n",
       "  297.353,201.121 298.441,200.393 299.529,199.665 300.618,198.937 301.706,198.209 302.794,197.48 303.883,196.752 304.971,196.024 306.059,195.296 307.148,194.568 \n",
       "  308.236,193.84 309.324,193.112 310.412,192.384 311.501,191.656 312.589,190.927 313.677,190.199 314.766,189.471 315.854,188.743 316.942,188.015 318.031,187.287 \n",
       "  319.119,186.559 320.207,185.831 321.296,185.102 322.384,184.374 323.472,183.646 324.561,182.918 325.649,182.19 326.737,181.462 327.826,180.734 328.914,180.006 \n",
       "  330.002,179.278 331.09,178.549 332.179,177.821 333.267,177.093 334.355,176.365 335.444,175.637 336.532,174.909 337.62,174.181 338.709,173.453 339.797,172.725 \n",
       "  340.885,171.996 341.974,171.268 343.062,170.54 344.15,169.812 345.239,169.084 346.327,168.356 347.415,167.628 348.504,166.9 349.592,166.171 350.68,165.443 \n",
       "  351.769,164.715 352.857,163.987 353.945,163.259 355.033,162.531 356.122,161.803 357.21,161.075 358.298,160.347 359.387,159.618 360.475,158.89 361.563,158.162 \n",
       "  362.652,157.434 363.74,156.706 364.828,155.978 365.917,155.25 367.005,154.522 368.093,153.794 369.182,153.065 370.27,152.337 371.358,151.609 372.447,150.881 \n",
       "  373.535,150.153 374.623,149.425 375.711,148.697 376.8,147.969 377.888,147.24 378.976,146.512 380.065,145.784 381.153,145.056 382.241,144.328 383.33,143.6 \n",
       "  384.418,142.872 385.506,142.144 386.595,141.416 387.683,140.687 388.771,139.959 389.86,139.231 390.948,138.503 392.036,137.775 393.125,137.047 394.213,136.319 \n",
       "  395.301,135.591 396.389,134.863 397.478,134.134 398.566,133.406 399.654,132.678 400.743,131.95 401.831,131.222 402.919,130.494 404.008,129.766 405.096,129.038 \n",
       "  406.184,128.309 407.273,127.581 408.361,126.853 409.449,126.125 410.538,125.397 411.626,124.669 412.714,123.941 413.803,123.213 414.891,122.485 415.979,121.756 \n",
       "  417.067,121.028 418.156,120.3 419.244,119.572 420.332,118.844 421.421,118.116 422.509,117.388 423.597,116.66 424.686,115.932 425.774,115.203 426.862,114.475 \n",
       "  427.951,113.747 429.039,113.019 430.127,112.291 431.216,111.563 432.304,110.835 433.392,110.107 434.481,109.378 435.569,108.65 436.657,107.922 437.746,107.194 \n",
       "  438.834,106.466 439.922,105.738 441.01,105.01 442.099,104.282 443.187,103.554 444.275,102.825 445.364,102.097 446.452,101.369 447.54,100.641 448.629,99.913 \n",
       "  449.717,99.1849 450.805,98.4567 451.894,97.7286 452.982,97.0005 454.07,96.2724 455.159,95.5443 456.247,94.8162 457.335,94.0881 458.424,93.3599 459.512,92.6318 \n",
       "  460.6,91.9037 461.688,91.1756 462.777,90.4475 463.865,89.7194 464.953,88.9912 466.042,88.2631 467.13,87.535 468.218,86.8069 469.307,86.0788 470.395,85.3507 \n",
       "  471.483,84.6226 472.572,83.8944 473.66,83.1663 474.748,82.4382 475.837,81.7101 476.925,80.982 478.013,80.2539 479.102,79.5257 480.19,78.7976 481.278,78.0695 \n",
       "  482.366,77.3414 483.455,76.6133 484.543,75.8852 485.631,75.1571 486.72,74.4289 487.808,73.7008 488.896,72.9727 489.985,72.2446 491.073,71.5165 492.161,70.7884 \n",
       "  493.25,70.0602 494.338,69.3321 495.426,68.604 496.515,67.8759 497.603,67.1478 498.691,66.4197 499.78,65.6916 500.868,64.9634 501.956,64.2353 503.044,63.5072 \n",
       "  504.133,62.7791 505.221,62.051 506.309,61.3229 507.398,60.5947 508.486,59.8666 509.574,59.1385 510.663,58.4104 511.751,57.6823 512.839,56.9542 513.928,56.2261 \n",
       "  515.016,55.4979 516.104,54.7698 517.193,54.0417 518.281,53.3136 519.369,52.5855 520.458,51.8574 521.546,51.1293 522.634,50.4011 523.723,49.673 524.811,48.9449 \n",
       "  525.899,48.2168 526.987,47.4887 528.076,46.7606 529.164,46.0324 530.252,45.3043 531.341,44.5762 532.429,43.8481 533.517,43.12 534.606,42.3919 535.694,41.6638 \n",
       "  536.782,40.9356 537.871,40.2075 538.959,39.4794 540.047,38.7513 541.136,38.0232 542.224,37.2951 543.312,36.5669 544.401,35.8388 545.489,35.1107 546.577,34.3826 \n",
       "  547.665,33.6545 548.754,32.9264 549.842,32.1983 550.93,31.4701 552.019,30.742 553.107,30.0139 554.195,29.2858 555.284,28.5577 556.372,27.8296 557.46,27.1014 \n",
       "  558.549,26.3733 559.637,25.6452 560.725,24.9171 561.814,24.189 562.902,23.4609 563.99,22.7328 565.079,22.0046 566.167,21.2765 567.255,20.5484 568.343,19.8203 \n",
       "  569.432,19.0922 570.52,18.3641 571.608,17.6359 572.697,16.9078 573.785,16.1797 574.873,15.4516 575.962,14.7235 577.05,13.9954 578.138,13.2673 579.227,12.5391 \n",
       "  580.315,11.811 \n",
       "  \"/>\n",
       "<polygon clip-path=\"url(#clip4700)\" points=\"\n",
       "489.608,62.931 562.315,62.931 562.315,32.691 489.608,32.691 \n",
       "  \" fill=\"#ffffff\" fill-opacity=\"1\"/>\n",
       "<polyline clip-path=\"url(#clip4700)\" style=\"stroke:#000000; stroke-width:1; stroke-opacity:1; fill:none\" points=\"\n",
       "  489.608,62.931 562.315,62.931 562.315,32.691 489.608,32.691 489.608,62.931 \n",
       "  \"/>\n",
       "<polyline clip-path=\"url(#clip4700)\" style=\"stroke:#009af9; stroke-width:1; stroke-opacity:1; fill:none\" points=\"\n",
       "  495.608,47.811 531.608,47.811 \n",
       "  \"/>\n",
       "<g clip-path=\"url(#clip4700)\">\n",
       "<text style=\"fill:#000000; fill-opacity:1; font-family:Arial,Helvetica Neue,Helvetica,sans-serif; font-size:12; text-anchor:start;\" transform=\"rotate(0, 537.608, 52.311)\" x=\"537.608\" y=\"52.311\">y1</text>\n",
       "</g>\n",
       "</svg>\n"
      ]
     },
     "execution_count": 109,
     "metadata": {},
     "output_type": "execute_result"
    }
   ],
   "source": [
    "range = collect(-50:0.1:0)\n",
    "plot(range, residual.(range))"
   ]
  },
  {
   "cell_type": "code",
   "execution_count": 111,
   "metadata": {},
   "outputs": [
    {
     "data": {
      "text/plain": [
       "-33.12155432842244"
      ]
     },
     "execution_count": 111,
     "metadata": {},
     "output_type": "execute_result"
    }
   ],
   "source": [
    "λ02 = fzero(residual, -50, 0)"
   ]
  },
  {
   "cell_type": "code",
   "execution_count": null,
   "metadata": {},
   "outputs": [],
   "source": []
  }
 ],
 "metadata": {
  "kernelspec": {
   "display_name": "Julia 0.6.2",
   "language": "julia",
   "name": "julia-0.6"
  },
  "language_info": {
   "file_extension": ".jl",
   "mimetype": "application/julia",
   "name": "julia",
   "version": "0.6.2"
  }
 },
 "nbformat": 4,
 "nbformat_minor": 2
}
