{
 "cells": [
  {
   "cell_type": "markdown",
   "metadata": {},
   "source": [
    "# Empirical Asset Pricing - PS5\n",
    "\n",
    "Maximilian Huber\n",
    "\n",
    "## Task 1\n"
   ]
  },
  {
   "cell_type": "code",
   "execution_count": 1,
   "metadata": {
    "scrolled": false
   },
   "outputs": [
    {
     "name": "stderr",
     "output_type": "stream",
     "text": [
      "\u001b[1m\u001b[36mINFO: \u001b[39m\u001b[22m\u001b[36mRecompiling stale cache file C:\\Users\\Max\\AppData\\Local\\JuliaPro-0.6.2.1\\pkgs-0.6.2.1\\lib\\v0.6\\QueryOperators.ji for module QueryOperators.\n",
      "\u001b[39m"
     ]
    }
   ],
   "source": [
    "using CSV, DataFrames, Query, Plots, Optim; gr();"
   ]
  },
  {
   "cell_type": "markdown",
   "metadata": {},
   "source": [
    "### (a)"
   ]
  },
  {
   "cell_type": "code",
   "execution_count": 53,
   "metadata": {},
   "outputs": [],
   "source": [
    "data = CSV.read(\"./Data/PS5.csv\", delim='\\t')\n",
    "data[:, 1] = Date.(data[:, 1], \"mm/dd/yyyy\")\n",
    "data[:yearmonth] = Dates.yearmonth.((data[:, 1]))\n",
    "data = by(data, :yearmonth) do df\n",
    "    return df[indmax(Dates.day.(df[:Date])), 2:end-1] \n",
    "end;"
   ]
  },
  {
   "cell_type": "markdown",
   "metadata": {},
   "source": [
    "### (b)"
   ]
  },
  {
   "cell_type": "code",
   "execution_count": 82,
   "metadata": {},
   "outputs": [],
   "source": [
    "data = hcat(data, \n",
    "    DataFrame(\n",
    "        hcat([n * data[:, 1+n] - (n - 1) * data[:, n] for n in 2:10]...), \n",
    "        Symbol.([\"fwd$(y)y\" for y in 2:10])));"
   ]
  },
  {
   "cell_type": "code",
   "execution_count": 83,
   "metadata": {},
   "outputs": [
    {
     "data": {
      "text/html": [
       "<table class=\"data-frame\"><thead><tr><th></th><th>yearmonth</th><th>SVENY01</th><th>SVENY02</th><th>SVENY03</th><th>SVENY04</th><th>SVENY05</th><th>SVENY06</th><th>SVENY07</th><th>SVENY08</th><th>SVENY09</th><th>SVENY10</th><th>fwd2y</th><th>fwd3y</th><th>fwd4y</th><th>fwd5y</th><th>fwd6y</th><th>fwd7y</th><th>fwd8y</th><th>fwd9y</th><th>fwd10y</th></tr></thead><tbody><tr><th>1</th><td>(2018, 2)</td><td>2.0493</td><td>2.2631</td><td>2.4284</td><td>2.5559</td><td>2.6541</td><td>2.7297</td><td>2.7881</td><td>2.8336</td><td>2.8694</td><td>2.898</td><td>2.4769</td><td>2.759</td><td>2.9384</td><td>3.0469</td><td>3.1077</td><td>3.1385</td><td>3.1521</td><td>3.1558</td><td>3.1554</td></tr><tr><th>2</th><td>(2018, 1)</td><td>1.9119</td><td>2.1441</td><td>2.3127</td><td>2.4354</td><td>2.525</td><td>2.5909</td><td>2.6398</td><td>2.6766</td><td>2.705</td><td>2.7275</td><td>2.3763</td><td>2.6499</td><td>2.8035</td><td>2.8834</td><td>2.9204</td><td>2.9332</td><td>2.9342</td><td>2.9322</td><td>2.93</td></tr><tr><th>3</th><td>(2017, 12)</td><td>1.7573</td><td>1.8852</td><td>2.0033</td><td>2.1056</td><td>2.1912</td><td>2.2613</td><td>2.318</td><td>2.3638</td><td>2.4012</td><td>2.432</td><td>2.0131</td><td>2.2395</td><td>2.4125</td><td>2.5336</td><td>2.6118</td><td>2.6582</td><td>2.6844</td><td>2.7004</td><td>2.7092</td></tr><tr><th>4</th><td>(2017, 11)</td><td>1.6313</td><td>1.7902</td><td>1.9286</td><td>2.0468</td><td>2.1465</td><td>2.23</td><td>2.3</td><td>2.3589</td><td>2.4088</td><td>2.4518</td><td>1.9491</td><td>2.2054</td><td>2.4014</td><td>2.5453</td><td>2.6475</td><td>2.72</td><td>2.7712</td><td>2.808</td><td>2.8388</td></tr><tr><th>5</th><td>(2017, 10)</td><td>1.4416</td><td>1.5965</td><td>1.7537</td><td>1.897</td><td>2.0211</td><td>2.1259</td><td>2.2133</td><td>2.2864</td><td>2.3481</td><td>2.4009</td><td>1.7514</td><td>2.0681</td><td>2.3269</td><td>2.5175</td><td>2.6499</td><td>2.7377</td><td>2.7981</td><td>2.8417</td><td>2.8761</td></tr><tr><th>6</th><td>(2017, 9)</td><td>1.3341</td><td>1.481</td><td>1.6455</td><td>1.8015</td><td>1.939</td><td>2.0561</td><td>2.1541</td><td>2.236</td><td>2.305</td><td>2.3638</td><td>1.6279</td><td>1.9745</td><td>2.2695</td><td>2.489</td><td>2.6416</td><td>2.7421</td><td>2.8093</td><td>2.857</td><td>2.893</td></tr></tbody></table>"
      ],
      "text/plain": [
       "6×20 DataFrames.DataFrame. Omitted printing of 13 columns\n",
       "│ Row │ yearmonth  │ SVENY01 │ SVENY02 │ SVENY03 │ SVENY04 │ SVENY05 │ SVENY06 │\n",
       "├─────┼────────────┼─────────┼─────────┼─────────┼─────────┼─────────┼─────────┤\n",
       "│ 1   │ (2018, 2)  │ 2.0493  │ 2.2631  │ 2.4284  │ 2.5559  │ 2.6541  │ 2.7297  │\n",
       "│ 2   │ (2018, 1)  │ 1.9119  │ 2.1441  │ 2.3127  │ 2.4354  │ 2.525   │ 2.5909  │\n",
       "│ 3   │ (2017, 12) │ 1.7573  │ 1.8852  │ 2.0033  │ 2.1056  │ 2.1912  │ 2.2613  │\n",
       "│ 4   │ (2017, 11) │ 1.6313  │ 1.7902  │ 1.9286  │ 2.0468  │ 2.1465  │ 2.23    │\n",
       "│ 5   │ (2017, 10) │ 1.4416  │ 1.5965  │ 1.7537  │ 1.897   │ 2.0211  │ 2.1259  │\n",
       "│ 6   │ (2017, 9)  │ 1.3341  │ 1.481   │ 1.6455  │ 1.8015  │ 1.939   │ 2.0561  │"
      ]
     },
     "execution_count": 83,
     "metadata": {},
     "output_type": "execute_result"
    }
   ],
   "source": [
    "head(data)"
   ]
  },
  {
   "cell_type": "markdown",
   "metadata": {},
   "source": [
    "### (c)\n",
    "$$rx_{t+1} = p_{t+1}(n-1) - p_t(n) - y_t(1)$$"
   ]
  },
  {
   "cell_type": "code",
   "execution_count": 73,
   "metadata": {},
   "outputs": [],
   "source": [
    "pt = hcat([- n * data[:, 1+n] for n in 1:10]...)\n",
    "rx_t1 = pt[1:end-1, 1:9] - pt[2:end, 2:10] - repmat(data[2:end, 2], 1, 9);"
   ]
  },
  {
   "cell_type": "code",
   "execution_count": 75,
   "metadata": {},
   "outputs": [
    {
     "data": {
      "text/plain": [
       "555×9 Array{Float64,2}:\n",
       " 0.327    0.5      0.5445   0.4895  …   0.1885  -0.0158  -0.2357  -0.4615\n",
       " 0.1012  -0.0356  -0.273   -0.5429     -1.0767  -1.3255  -1.5593  -1.7823\n",
       " 0.1918   0.3841   0.546    0.6788      0.9009   1.0139   1.1375   1.2759\n",
       " 0.1201   0.2391   0.3606   0.4767      0.6715   0.7496   0.8201   0.8882\n",
       " 0.1863   0.4094   0.6108   0.7729      0.9892   1.0608   1.1197   1.171 \n",
       " 0.0793   0.1753   0.2161   0.1913  …   0.0007  -0.1285  -0.2607  -0.3872\n",
       " 0.2431   0.6935   1.1842   1.6474      2.4372   2.7738   3.0858   3.3792\n",
       " 0.2901   0.7413   1.1478   1.4512      1.7646   1.8143   1.8189   1.7897\n",
       " 0.1185   0.3892   0.6248   0.7708      0.8416   0.8265   0.8129   0.818 \n",
       " 0.2488   0.7568   1.2218   1.5887      2.099    2.2888   2.4542   2.6051\n",
       " 0.3844   1.0104   1.6034   2.0749  …   2.6684   2.8472   2.9825   3.0958\n",
       " 0.5019   1.0853   1.4779   1.6867      1.8046   1.8057   1.7996   1.796 \n",
       " 0.6074   1.1429   1.5681   1.9034      2.4159   2.631    2.8323   3.0224\n",
       " ⋮                                  ⋱   ⋮                                \n",
       " 0.9178   1.2233   1.3398   1.4004      1.485    1.5234   1.5614   1.5998\n",
       " 0.7515   0.9159   1.003    1.083       1.2447   1.3261   1.4069   1.4887\n",
       " 0.6773   0.8781   0.9646   1.0254  …   1.1364   1.1922   1.2479   1.3038\n",
       " 0.6942   0.8462   0.7745   0.6178      0.2328   0.0308  -0.1727  -0.3773\n",
       " 1.1636   1.3357   1.3286   1.2919      1.21     1.1688   1.1282   1.0869\n",
       " 0.4755   0.5742   0.663    0.7981      1.1676   1.3759   1.5914   1.8111\n",
       " 1.2383   1.911    2.2351   2.3632      2.3559   2.2967   2.224    2.1451\n",
       " 1.5763   2.0704   2.1761   2.1477  …   1.9862   1.8926   1.7977   1.7029\n",
       " 0.4708   0.428    0.4744   0.6137      1.0196   1.2466   1.4782   1.7131\n",
       " 1.3928   2.0551   2.3592   2.4896      2.5432   2.5322   2.5115   2.487 \n",
       " 0.9852   1.1325   1.0261   0.869       0.601    0.4994   0.4117   0.3355\n",
       " 1.1151   1.8581   2.3432   2.646       2.9202   2.9639   2.9747   2.9664"
      ]
     },
     "execution_count": 75,
     "metadata": {},
     "output_type": "execute_result"
    }
   ],
   "source": [
    "(rx_t1)"
   ]
  },
  {
   "cell_type": "code",
   "execution_count": 94,
   "metadata": {},
   "outputs": [
    {
     "data": {
      "text/plain": [
       "555×6 Array{Float64,2}:\n",
       " 1.0  1.9119  2.3763  2.6499  2.8035  2.8834\n",
       " 1.0  1.7573  2.0131  2.2395  2.4125  2.5336\n",
       " 1.0  1.6313  1.9491  2.2054  2.4014  2.5453\n",
       " 1.0  1.4416  1.7514  2.0681  2.3269  2.5175\n",
       " 1.0  1.3341  1.6279  1.9745  2.2695  2.489 \n",
       " 1.0  1.2322  1.4134  1.7239  2.0153  2.2447\n",
       " 1.0  1.2383  1.4753  1.8638  2.2146  2.4785\n",
       " 1.0  1.2608  1.5284  1.9265  2.2703  2.518 \n",
       " 1.0  1.1887  1.3793  1.7991  2.1621  2.4163\n",
       " 1.0  1.1191  1.4375  1.8873  2.2641  2.529 \n",
       " 1.0  1.0551  1.5035  2.0635  2.4803  2.7356\n",
       " 1.0  0.9164  1.557   2.0869  2.4561  2.6891\n",
       " 1.0  0.8732  1.5238  2.0925  2.5121  2.7914\n",
       " ⋮                                    ⋮     \n",
       " 1.0  5.4437  6.2401  6.3762  6.3992  6.4033\n",
       " 1.0  5.4438  6.1952  6.4045  6.4633  6.4792\n",
       " 1.0  5.3263  6.1211  6.396   6.491   6.5241\n",
       " 1.0  4.7773  6.0205  6.2731  6.3243  6.3343\n",
       " 1.0  5.0769  5.9409  6.1926  6.266   6.2876\n",
       " 1.0  4.569   5.5524  6.0396  6.2814  6.4011\n",
       " 1.0  4.5459  5.8073  6.2251  6.3637  6.4095\n",
       " 1.0  5.0208  6.1222  6.3014  6.3308  6.3353\n",
       " 1.0  4.2036  5.4916  6.0794  6.3478  6.4701\n",
       " 1.0  4.243   5.5964  6.1539  6.3835  6.4782\n",
       " 1.0  4.3542  5.2282  5.7437  6.0475  6.2264\n",
       " 1.0  4.6539  5.4693  5.9712  6.2288  6.3503"
      ]
     },
     "execution_count": 94,
     "metadata": {},
     "output_type": "execute_result"
    }
   ],
   "source": [
    "rxbar_t1 = 1/9 * sum(rx_t1, 2)\n",
    "X = hcat(ones(length(rxbar_t1)), data[2:end, :SVENY01], [data[2:end, Symbol(\"fwd$(y)y\")] for y in 2:5]...)"
   ]
  },
  {
   "cell_type": "code",
   "execution_count": 95,
   "metadata": {},
   "outputs": [
    {
     "data": {
      "text/plain": [
       "6×1 Array{Float64,2}:\n",
       "  -0.370198\n",
       "  -1.941   \n",
       "   5.4919  \n",
       " -10.7566  \n",
       "   7.98636 \n",
       "  -0.739936"
      ]
     },
     "execution_count": 95,
     "metadata": {},
     "output_type": "execute_result"
    }
   ],
   "source": [
    "γ = (X' * X) \\ (X' * rxbar_t1)"
   ]
  },
  {
   "cell_type": "markdown",
   "metadata": {},
   "source": [
    "### (e)"
   ]
  },
  {
   "cell_type": "code",
   "execution_count": null,
   "metadata": {},
   "outputs": [],
   "source": []
  },
  {
   "cell_type": "code",
   "execution_count": null,
   "metadata": {},
   "outputs": [],
   "source": []
  },
  {
   "cell_type": "code",
   "execution_count": null,
   "metadata": {},
   "outputs": [],
   "source": []
  },
  {
   "cell_type": "code",
   "execution_count": 1,
   "metadata": {
    "code_folding": [
     0
    ]
   },
   "outputs": [],
   "source": [
    "using CSV, DataFrames, Query, Plots, Optim; gr();"
   ]
  },
  {
   "cell_type": "markdown",
   "metadata": {},
   "source": [
    "I load the data, drop rows with a missing value and split the sample in to the two managers."
   ]
  },
  {
   "cell_type": "code",
   "execution_count": 2,
   "metadata": {
    "code_folding": []
   },
   "outputs": [],
   "source": [
    "data = (CSV.read(\"./Data/PS4data.csv\", delim=',', nullable=true,\n",
    "    types=[String, String, Int64, Int64, Int64, Float64, Float64, Int64, Float64, Float64, Float64, Float64, Int64, Float64, Float64, Float64, Float64]))\n",
    "dropmissing!(data)\n",
    "\n",
    "for col in names(data)\n",
    "    data[col] = Missings.coalesce.(data[col], 0)\n",
    "end\n",
    "\n",
    "DFA = data[data[:mgrno] .== 23000, 4:end]\n",
    "VAN = data[data[:mgrno] .== 90457, 4:end];"
   ]
  },
  {
   "cell_type": "markdown",
   "metadata": {},
   "source": [
    "### Preliminaries for (a)\n",
    "Let me try to understand the data set. Since $\\sum_{n=0}^N w_i(n) = 1$, $\\sum_{n=1}^N w_i(n) = 1 - w_i(0)$, and hence $w_i(0) \\Big(1 + \\frac{\\sum_{n=1}^N w_i(n)}{w_i(0)}\\Big) = 1$. Therefore, cash holdings (or whatever the outside asset is) are:"
   ]
  },
  {
   "cell_type": "code",
   "execution_count": 3,
   "metadata": {},
   "outputs": [
    {
     "data": {
      "text/plain": [
       "0.10284923721109153"
      ]
     },
     "execution_count": 3,
     "metadata": {},
     "output_type": "execute_result"
    }
   ],
   "source": [
    "w_DFA0 = 1 / (1 + sum(DFA[:rweight]))"
   ]
  },
  {
   "cell_type": "code",
   "execution_count": 4,
   "metadata": {},
   "outputs": [
    {
     "data": {
      "text/plain": [
       "0.1383314470907214"
      ]
     },
     "execution_count": 4,
     "metadata": {},
     "output_type": "execute_result"
    }
   ],
   "source": [
    "w_VAN0 = 1 / (1 + sum(VAN[:rweight]))"
   ]
  },
  {
   "cell_type": "code",
   "execution_count": 5,
   "metadata": {},
   "outputs": [],
   "source": [
    "DFA[:weight] = DFA[:rweight] * w_DFA0\n",
    "VAN[:weight] = VAN[:rweight] * w_VAN0;"
   ]
  },
  {
   "cell_type": "markdown",
   "metadata": {},
   "source": [
    "Does one fund invest in some assets that the other fund does not? I.e. $\\mathcal{N}_{VAN} = \\mathcal{N}_{DFA}$?"
   ]
  },
  {
   "cell_type": "code",
   "execution_count": 6,
   "metadata": {},
   "outputs": [
    {
     "data": {
      "text/plain": [
       "2-element Array{Int64,1}:\n",
       " -229\n",
       "  -78"
      ]
     },
     "execution_count": 6,
     "metadata": {},
     "output_type": "execute_result"
    }
   ],
   "source": [
    "[length(DFA[:permno]), length(VAN[:permno])] .- length(union(DFA[:permno], VAN[:permno]))"
   ]
  },
  {
   "cell_type": "markdown",
   "metadata": {},
   "source": [
    "No, and neither is a superset of the other!"
   ]
  },
  {
   "cell_type": "markdown",
   "metadata": {},
   "source": [
    "I assume that I can infere $\\mathcal{N}_{i}$ just by looking at the current portfolio."
   ]
  },
  {
   "cell_type": "markdown",
   "metadata": {},
   "source": [
    "### (a)"
   ]
  },
  {
   "cell_type": "code",
   "execution_count": 7,
   "metadata": {},
   "outputs": [
    {
     "data": {
      "text/plain": [
       "0.4535664834349477"
      ]
     },
     "execution_count": 7,
     "metadata": {},
     "output_type": "execute_result"
    }
   ],
   "source": [
    "active_share(W) = 1/2 * sum(abs.(W[:weight] .- exp.(W[:LNme]) ./ sum(exp.(W[:LNme]))))\n",
    "\n",
    "active_share(DFA)"
   ]
  },
  {
   "cell_type": "code",
   "execution_count": 8,
   "metadata": {},
   "outputs": [
    {
     "data": {
      "text/plain": [
       "0.09184197495623975"
      ]
     },
     "execution_count": 8,
     "metadata": {},
     "output_type": "execute_result"
    }
   ],
   "source": [
    "active_share(VAN)"
   ]
  },
  {
   "cell_type": "markdown",
   "metadata": {},
   "source": [
    "DFA is much more active than Vanguard! The latter offers more products that track market-cap-weighted indices."
   ]
  },
  {
   "cell_type": "markdown",
   "metadata": {},
   "source": [
    "### (b) - (e)\n",
    "I loosely follow the Bruce Hansen's [textbook](https://www.ssc.wisc.edu/~bhansen/econometrics/Econometrics.pdf) for the GMM estimation, except I alter some notation a bit. GMM solves:\n",
    "$$\\underset{\\theta}{\\min}Q_n(\\theta)$$\n",
    "optimizes $Q(\\theta) = \\frac{1}{2} \\, g_n(\\theta)' \\, \\mathcal{W} \\, g_n(\\theta)$ where $g_n(\\theta) = \\frac{1}{n}\\sum_{t=1}^n g(w_t;\\theta)$\n",
    "\n",
    "In the just-identified IV-GMM case $g(w;\\theta)=\\Big(w_{lhs} - w_{reg}'\\cdot\\theta\\Big)\\cdot w_{iv}\\in\\mathbb{R}^k$, where $k$ is the number of regressors and also instrumental variables.\n",
    "\n",
    "In my application the difference between regressors and instruments is just swapping out $LNme$ with $IVme$.\n",
    "\n",
    "Since I have to do an non-linear GMM estimation in (f) I do not follow Hansen's simple derivations of the GMM in linear models, but set up the optimizition problem generically, using a barrier method optimizer with L-BFGS in the inner problem and auto-differentiation.\n",
    "\n",
    "The main issue is the correct covariance estimation for the estimated $\\hat\\theta$.\n",
    "\n",
    "$$\\hat\\Omega=\\frac{1}{n}\\sum_t g(w_t;\\tilde\\theta)\\,g(w_t;\\tilde\\theta)'$$\n",
    "\n",
    "No matter whether the constraint is binding or not, the efficient weighting matrix is $\\mathcal{W} = \\hat\\Omega^{-1}$, see BH chapter 12.14 \"Restricted GMM\".\n",
    "\n",
    "If $\\hat \\theta$ is unconstrained, then $\\hat V_\\theta = \\Big(\\hat G'\\hat\\Omega^{-1}\\hat G\\Big)^{-1}$, where $\\hat G = \\frac{1}{n}\\sum_t \\frac{\\partial g}{\\partial\\theta'} (w_t;\\hat \\theta)$.\n",
    "\n",
    "But $\\hat \\theta$ is fulfilling the restriction with equality, I need to correct for that! BH has closed-form correction terms for equality constraints:\n",
    "$\\hat V_{\\theta,constr} = \\hat V_\\theta - \\hat V_\\theta R \\Big(R'\\hat V_\\theta R\\Big)^{-1} R' \\hat V_\\theta$, where R is Jacobian of the restriction $r(\\theta) = c$. \n",
    "\n",
    "This, however, is only an approximation to the true standard errors. The correct way to derive them is to bootstrap. But since the true parameter $\\beta_{i,0}$ might lie on the boundary, a non-parametric bootstrap is inconsistent. A sub-sampling method would mitigate this problem."
   ]
  },
  {
   "cell_type": "code",
   "execution_count": 15,
   "metadata": {
    "code_folding": []
   },
   "outputs": [
    {
     "data": {
      "text/plain": [
       "Ωhat (generic function with 1 method)"
      ]
     },
     "execution_count": 15,
     "metadata": {},
     "output_type": "execute_result"
    }
   ],
   "source": [
    "#operates on a single observation, w[1] = lhs, w[2:k] = regressors\n",
    "function g(w, θ)\n",
    "    k = ceil(Int64, length(w)/2)\n",
    "    (w[1] - w[2:k]' * θ) * w[k+1:end]\n",
    "end\n",
    "\n",
    "function gn(w, θ)\n",
    "    avg_g = zeros(length(θ))\n",
    "    for t in 1:size(w, 1)\n",
    "        avg_g += g(w[t, :], θ)\n",
    "    end\n",
    "    \n",
    "    return avg_g/size(w, 1)\n",
    "end\n",
    "\n",
    "function gn_wrapper(W)\n",
    "    N = size(W, 1)\n",
    "    w = hcat(W[:LNrweight], \n",
    "        Matrix(W[[:LNme, :LNbe, :profit, :Gat, :divA_be, :beta]]), ones(N),\n",
    "        Matrix(W[[:IVme, :LNbe, :profit, :Gat, :divA_be, :beta]]), ones(N))\n",
    "    return θ -> gn(w, θ)\n",
    "end\n",
    "\n",
    "function Qn(θ, gn_wrapped)\n",
    "    1/2 * (gn_wrapped(θ)' * gn_wrapped(θ))[1]\n",
    "end\n",
    "\n",
    "function Qn(θ, gn_wrapped, W)\n",
    "    1/2 * (gn_wrapped(θ)' * W * gn_wrapped(θ))[1]\n",
    "end\n",
    "\n",
    "function Ωhat(W, θ)\n",
    "    N = size(W, 1)\n",
    "    w = hcat(W[:LNrweight], \n",
    "        \n",
    "        Matrix(W[[:LNme, :LNbe, :profit, :Gat, :divA_be, :beta]]), ones(N),\n",
    "        Matrix(W[[:IVme, :LNbe, :profit, :Gat, :divA_be, :beta]]), ones(N))\n",
    "    \n",
    "    result = zeros(Float64, length(θ), length(θ))\n",
    "    for i in 1:N\n",
    "        result .+= g(w[i,:], θ) * g(w[i,:], θ)'\n",
    "    end\n",
    "    return result/N\n",
    "end"
   ]
  },
  {
   "cell_type": "code",
   "execution_count": 16,
   "metadata": {
    "code_folding": []
   },
   "outputs": [
    {
     "data": {
      "text/plain": [
       "eff_IV_GMM (generic function with 1 method)"
      ]
     },
     "execution_count": 16,
     "metadata": {},
     "output_type": "execute_result"
    }
   ],
   "source": [
    "function eff_IV_GMM(W)\n",
    "    #first stage\n",
    "    initial_θ = 0.5 * ones(7)\n",
    "    lower = -Inf * ones(length(initial_θ))\n",
    "    upper = vcat(1, Inf * ones(length(initial_θ) - 1))\n",
    "    \n",
    "    gn_wrapped = gn_wrapper(W)\n",
    "    obj = OnceDifferentiable(θ -> Qn(θ, gn_wrapped), initial_θ; autodiff = :forward)\n",
    "    first_θ = Optim.minimizer(optimize(obj, initial_θ, lower, upper, Fminbox{LBFGS}()))\n",
    "\n",
    "    #second stage\n",
    "    obj = OnceDifferentiable(θ -> Qn(θ, gn_wrapped, Ωhat(W, first_θ)^(-1)), first_θ; autodiff = :forward)\n",
    "    #obj.f(first_θ)\n",
    "    second_θ = Optim.minimizer(optimize(obj, first_θ, lower, upper, \n",
    "        Fminbox{LBFGS}(), optimizer_o = Optim.Options(iterations = 100)))\n",
    "    \n",
    "    #asymptotic variance estimation\n",
    "    G = ForwardDiff.jacobian(gn_wrapped, second_θ)\n",
    "    Vhat = (G' * Ωhat(W, second_θ)^(-1) * G)^(-1)\n",
    "\n",
    "    #correction in case of binding constraint\n",
    "    if second_θ[1] ≈ 1\n",
    "        R = vcat(1, zeros(length(initial_θ) - 1))\n",
    "        Vhat = Vhat - Vhat * R * (R'*Vhat*R)^(-1) * R' * Vhat\n",
    "    end\n",
    "    \n",
    "    #return point estimates and sample std errors\n",
    "    return [second_θ, Vhat/size(W, 1)] \n",
    "end"
   ]
  },
  {
   "cell_type": "code",
   "execution_count": 17,
   "metadata": {
    "scrolled": true
   },
   "outputs": [
    {
     "data": {
      "text/html": [
       "<table class=\"data-frame\"><thead><tr><th></th><th>coefficient</th><th>VAN_θ</th><th>VAN_θ_stderr</th><th>DFA_θ</th><th>DFA_θ_stderr</th></tr></thead><tbody><tr><th>1</th><td>LNme</td><td>1.0</td><td>0.0</td><td>0.459983</td><td>0.0672507</td></tr><tr><th>2</th><td>LNbe</td><td>0.171374</td><td>0.00898222</td><td>0.29349</td><td>0.0643391</td></tr><tr><th>3</th><td>profit</td><td>-0.231178</td><td>0.0567067</td><td>1.47977</td><td>0.152321</td></tr><tr><th>4</th><td>Gat</td><td>0.472081</td><td>0.0644015</td><td>-1.02469</td><td>0.197912</td></tr><tr><th>5</th><td>divA_be</td><td>10.3605</td><td>0.723394</td><td>-3.16116</td><td>0.783266</td></tr><tr><th>6</th><td>beta</td><td>0.192432</td><td>0.0237746</td><td>0.360018</td><td>0.0503243</td></tr><tr><th>7</th><td>constant</td><td>-16.7798</td><td>0.0645728</td><td>-12.5886</td><td>0.12422</td></tr></tbody></table>"
      ],
      "text/plain": [
       "7×5 DataFrames.DataFrame\n",
       "│ Row │ coefficient │ VAN_θ     │ VAN_θ_stderr │ DFA_θ    │ DFA_θ_stderr │\n",
       "├─────┼─────────────┼───────────┼──────────────┼──────────┼──────────────┤\n",
       "│ 1   │ LNme        │ 1.0       │ 0.0          │ 0.459983 │ 0.0672507    │\n",
       "│ 2   │ LNbe        │ 0.171374  │ 0.00898222   │ 0.29349  │ 0.0643391    │\n",
       "│ 3   │ profit      │ -0.231178 │ 0.0567067    │ 1.47977  │ 0.152321     │\n",
       "│ 4   │ Gat         │ 0.472081  │ 0.0644015    │ -1.02469 │ 0.197912     │\n",
       "│ 5   │ divA_be     │ 10.3605   │ 0.723394     │ -3.16116 │ 0.783266     │\n",
       "│ 6   │ beta        │ 0.192432  │ 0.0237746    │ 0.360018 │ 0.0503243    │\n",
       "│ 7   │ constant    │ -16.7798  │ 0.0645728    │ -12.5886 │ 0.12422      │"
      ]
     },
     "execution_count": 17,
     "metadata": {},
     "output_type": "execute_result"
    }
   ],
   "source": [
    "table = DataFrame(); table[:coefficient] = [:LNme, :LNbe, :profit, :Gat, :divA_be, :beta, :constant]; \n",
    "result = eff_IV_GMM(VAN)\n",
    "table[:VAN_θ] = result[1]; table[:VAN_θ_stderr] = sqrt.(diag(result[2]))\n",
    "result = eff_IV_GMM(DFA)\n",
    "table[:DFA_θ] = result[1]; table[:DFA_θ_stderr] = sqrt.(diag(result[2]))\n",
    "\n",
    "table"
   ]
  },
  {
   "cell_type": "markdown",
   "metadata": {},
   "source": [
    "Average price elasticities are:"
   ]
  },
  {
   "cell_type": "code",
   "execution_count": 37,
   "metadata": {
    "scrolled": false
   },
   "outputs": [
    {
     "data": {
      "text/plain": [
       "0.00029825841222197257"
      ]
     },
     "execution_count": 37,
     "metadata": {},
     "output_type": "execute_result"
    }
   ],
   "source": [
    "function elasticity(W, w_0, β_0)\n",
    "    w = vcat(W[:rweight] .* w_0)\n",
    "    (eye(length(w)) - β_0 * diagm(w)^(-1) * (diagm(w) - w * w'))[1, :]\n",
    "end\n",
    "\n",
    "mean(elasticity(VAN, w_VAN0, table[1, :VAN_θ]))"
   ]
  },
  {
   "cell_type": "code",
   "execution_count": 38,
   "metadata": {},
   "outputs": [
    {
     "data": {
      "text/plain": [
       "0.0003479514591698784"
      ]
     },
     "execution_count": 38,
     "metadata": {},
     "output_type": "execute_result"
    }
   ],
   "source": [
    "mean(elasticity(DFA, w_DFA0, table[1, :DFA_θ]))"
   ]
  },
  {
   "cell_type": "markdown",
   "metadata": {},
   "source": [
    "<b>Vanguard</b>'s coefficient on market equity of $1.0$ is consistent with it being an index fund. A caveat is that the unconstrained estimate is around $1.5$. Furthermore, other factors seem important too, in fact all factors are significantly different from zero. They buy stocks of firms, which invest, pay out dividends, but are not necessarily profitable. This is at odds with Vanguard being an index fund.\n",
    "\n",
    "An index fund with a coefficient of $1$ on $LNme$ would have price elasticity of zero. Vanguard is not really an index fund, and the average cross-sectional elasticity is positive. \n",
    "\n",
    "<b>DFA</b> has a much lower coefficient on market equity, it seems rather inelastic (it has a more elastic demand than Vanguard, though) and not much like an index fund. The coefficients on profit, investment, dividend, and beta are much higher in magnitude. They buy stocks of profitable firms, which do not invest, and do not pay high dividends (because they presumable buy back shares).\n",
    "\n",
    "DFA does not seem like an index fund, but also not like a value (book-to-market equity) fund, because then the coefficients on market equity and book equity should be the same value with opposing signs (with the plus on the $LNbe$). "
   ]
  },
  {
   "cell_type": "markdown",
   "metadata": {},
   "source": [
    "### (f)\n",
    "\n",
    "The moment condition is $\\mathbb{E}\\Big[\\epsilon \\bigm \\lvert w_{iv}\\Big] = 1$, following [Hansen and Singleton (1982)](https://www.jstor.org/stable/1911873?seq=1#page_scan_tab_contents) this implies $\\mathbb{E}\\Big[(\\epsilon - 1) \\otimes w_{iv}\\Big] = 0$."
   ]
  },
  {
   "cell_type": "code",
   "execution_count": 39,
   "metadata": {},
   "outputs": [
    {
     "data": {
      "text/plain": [
       "g (generic function with 1 method)"
      ]
     },
     "execution_count": 39,
     "metadata": {},
     "output_type": "execute_result"
    }
   ],
   "source": [
    "function g(w, θ)\n",
    "    k = ceil(Int64, length(w)/2)\n",
    "    \n",
    "    (exp(w[1]) / exp(w[2:k]' * θ) - 1) * w[k+1:end]\n",
    "end"
   ]
  },
  {
   "cell_type": "code",
   "execution_count": 40,
   "metadata": {
    "scrolled": true
   },
   "outputs": [
    {
     "data": {
      "text/html": [
       "<table class=\"data-frame\"><thead><tr><th></th><th>coefficient</th><th>VAN_θ</th><th>VAN_θ_stderr</th><th>DFA_θ</th><th>DFA_θ_stderr</th></tr></thead><tbody><tr><th>1</th><td>LNme</td><td>1.0</td><td>0.0</td><td>0.42585</td><td>0.0492237</td></tr><tr><th>2</th><td>LNbe</td><td>0.181452</td><td>0.00658487</td><td>0.280827</td><td>0.043454</td></tr><tr><th>3</th><td>profit</td><td>-0.0781669</td><td>0.0346332</td><td>0.781778</td><td>0.112201</td></tr><tr><th>4</th><td>Gat</td><td>0.270234</td><td>0.0441748</td><td>-0.546936</td><td>0.121708</td></tr><tr><th>5</th><td>divA_be</td><td>5.33577</td><td>0.362254</td><td>-2.73919</td><td>0.495627</td></tr><tr><th>6</th><td>beta</td><td>0.128455</td><td>0.0155075</td><td>0.344674</td><td>0.032936</td></tr><tr><th>7</th><td>constant</td><td>-16.6013</td><td>0.0475195</td><td>-11.5816</td><td>0.10159</td></tr></tbody></table>"
      ],
      "text/plain": [
       "7×5 DataFrames.DataFrame\n",
       "│ Row │ coefficient │ VAN_θ      │ VAN_θ_stderr │ DFA_θ     │ DFA_θ_stderr │\n",
       "├─────┼─────────────┼────────────┼──────────────┼───────────┼──────────────┤\n",
       "│ 1   │ LNme        │ 1.0        │ 0.0          │ 0.42585   │ 0.0492237    │\n",
       "│ 2   │ LNbe        │ 0.181452   │ 0.00658487   │ 0.280827  │ 0.043454     │\n",
       "│ 3   │ profit      │ -0.0781669 │ 0.0346332    │ 0.781778  │ 0.112201     │\n",
       "│ 4   │ Gat         │ 0.270234   │ 0.0441748    │ -0.546936 │ 0.121708     │\n",
       "│ 5   │ divA_be     │ 5.33577    │ 0.362254     │ -2.73919  │ 0.495627     │\n",
       "│ 6   │ beta        │ 0.128455   │ 0.0155075    │ 0.344674  │ 0.032936     │\n",
       "│ 7   │ constant    │ -16.6013   │ 0.0475195    │ -11.5816  │ 0.10159      │"
      ]
     },
     "execution_count": 40,
     "metadata": {},
     "output_type": "execute_result"
    }
   ],
   "source": [
    "table = DataFrame(); table[:coefficient] = [:LNme, :LNbe, :profit, :Gat, :divA_be, :beta, :constant]; \n",
    "result = eff_IV_GMM(VAN)\n",
    "table[:VAN_θ] = result[1]; table[:VAN_θ_stderr] = sqrt.(diag(result[2]))\n",
    "result = eff_IV_GMM(DFA)\n",
    "table[:DFA_θ] = result[1]; table[:DFA_θ_stderr] = sqrt.(diag(result[2]))\n",
    "\n",
    "table"
   ]
  },
  {
   "cell_type": "markdown",
   "metadata": {},
   "source": [
    "Yes, the estimates differ. Evidently <b>Vanguard</b>'s coefficient on profits, investment, dividends, and beta decreased in magnitude, book equity stayed almost constant. \n",
    "\n",
    "<b>DFA</b> has a similar picture of shrinking magnitudes, with two exceptions: book equity and beta."
   ]
  },
  {
   "cell_type": "markdown",
   "metadata": {},
   "source": [
    "## Task 2\n",
    "\n",
    "## Abstract: Demand Dynamics on the Asset Market\n",
    "\n",
    "I propose a dynamic asset demand model, in which investment managers have to pay \n",
    "a mental utility cost and a transaction cost if they want to rebalance their portfolio. The mental cost is increasing in the time an asset has not been in their portfolio in the past. This could rationalize the narrow portfolios of many investment funds. Imposing inertia in the coefficients of the utility function, or even assuming them constant over multiple quarters, would allow the addition of regressors.\n",
    "\n",
    "## Abstract: Financial Demand for a Currency\n",
    "\n",
    "I propose collecting holdings data from global fixed income and equity funds including currency derivatives such as (non-deliverable) forwards, options and futures. Estimating a demand model with aggregated individual portfolio positions by currency on the left hand side, and macro variables such as exchange rate, interest rate, unemployment rate, but also foreign exchange reserves, can shed some light on exchange rate dynamics. The major counterfactual may be a central bank intervention on the foreign exchange market."
   ]
  },
  {
   "cell_type": "code",
   "execution_count": null,
   "metadata": {},
   "outputs": [],
   "source": []
  }
 ],
 "metadata": {
  "kernelspec": {
   "display_name": "Julia 0.6.2",
   "language": "julia",
   "name": "julia-0.6"
  },
  "language_info": {
   "file_extension": ".jl",
   "mimetype": "application/julia",
   "name": "julia",
   "version": "0.6.2"
  }
 },
 "nbformat": 4,
 "nbformat_minor": 2
}
