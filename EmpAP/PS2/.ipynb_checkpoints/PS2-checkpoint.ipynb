{
 "cells": [
  {
   "cell_type": "markdown",
   "metadata": {},
   "source": [
    "# Empirical Asset Pricing - PS2\n",
    "\n",
    "## Abstract: Downward-sloping Demand Curves in GE\n",
    "\n",
    "Individual investors do not often rebalance their portfolio (especially their 401k). Likewise, professional investors set price targets and make plans on when to reevaluate a portfolio position. This implies that the market depth for currently traded securities is much less deep than a regular endowment economy would imply. I propose a model in which market access is only granted when the price of an asset hits an individual specific threshold. At this point the Euler equation, which is subject to asset specific shocks, is evaluated and rebalancing may take place. This model might explain downward-sloping demand curves in the short-run.\n",
    "\n",
    "## Abstract: Time Horizon of Price Elasticities\n",
    "\n",
    "Empirical evidence on price elasticity of demand for individual stocks is mostly based on very short-term events, e.g. Shleifer (1986) or Chang, Hong, and Liskovich (2015). "
   ]
  },
  {
   "cell_type": "markdown",
   "metadata": {},
   "source": [
    "## Task 2\n",
    "### (a)"
   ]
  },
  {
   "cell_type": "code",
   "execution_count": 1,
   "metadata": {},
   "outputs": [
    {
     "name": "stderr",
     "output_type": "stream",
     "text": [
      "{S}, Base.Nullable{T}) in module Base at nullable.jl:238 overwritten in module NullableArrays at C:\\Users\\Max\\AppData\\Local\\JuliaPro-0.6.2.1\\pkgs-0.6.2.1\\v0.6\\NullableArrays\\src\\operators.jl:99.\n"
     ]
    }
   ],
   "source": [
    "using CSV, DataFrames, NullableArrays, Plots; gr();"
   ]
  },
  {
   "cell_type": "code",
   "execution_count": 92,
   "metadata": {},
   "outputs": [],
   "source": [
    "data_daily_FF = CSV.read(\"./Data/F-F_Research_Data_5_Factors_2x3_daily.csv\", delim=',', \n",
    "        types=[Date, Float64, Float64, Float64, Float64, Float64, Float64], \n",
    "        dateformat = DateFormat(\"yyyymmdd\"), nullable=false);\n",
    "\n",
    "data_daily_mom = CSV.read(\"./Data/F-F_Momentum_Factor_daily.csv\", delim=',', \n",
    "        types=[Date, Float64], \n",
    "        dateformat = DateFormat(\"yyyymmdd\"), nullable=false)\n",
    "\n",
    "data_daily = data_daily_FF\n",
    "data_daily[:Mom] = data_daily_mom[:, 2]\n",
    "\n",
    "data_daily[:year] = Dates.value.(Dates.Year.(data_daily[:, 1]))\n",
    "data_daily[:month] = Dates.value.(Dates.Month.(data_daily[:, 1]));\n",
    "\n",
    "names!(data_daily, [:date, :ret, :SMB, :HML, :RMW, :CMA, :RF, :Mom, :year, :month]);"
   ]
  },
  {
   "cell_type": "code",
   "execution_count": 93,
   "metadata": {},
   "outputs": [
    {
     "data": {
      "text/html": [
       "<table class=\"data-frame\"><thead><tr><th></th><th>date</th><th>ret</th><th>SMB</th><th>HML</th><th>RMW</th><th>CMA</th><th>RF</th><th>Mom</th><th>year</th><th>month</th></tr></thead><tbody><tr><th>1</th><td>1963-07-01</td><td>-0.67</td><td>0.0</td><td>-0.32</td><td>0.01</td><td>0.15</td><td>0.012</td><td>-0.21</td><td>1963</td><td>7</td></tr><tr><th>2</th><td>1963-07-02</td><td>0.79</td><td>-0.27</td><td>0.27</td><td>-0.08</td><td>-0.19</td><td>0.012</td><td>0.46</td><td>1963</td><td>7</td></tr><tr><th>3</th><td>1963-07-03</td><td>0.63</td><td>-0.17</td><td>-0.09</td><td>0.19</td><td>-0.33</td><td>0.012</td><td>0.4</td><td>1963</td><td>7</td></tr><tr><th>4</th><td>1963-07-05</td><td>0.4</td><td>0.08</td><td>-0.28</td><td>0.07</td><td>-0.33</td><td>0.012</td><td>0.06</td><td>1963</td><td>7</td></tr><tr><th>5</th><td>1963-07-08</td><td>-0.63</td><td>0.04</td><td>-0.17</td><td>-0.31</td><td>0.13</td><td>0.012</td><td>-0.46</td><td>1963</td><td>7</td></tr><tr><th>6</th><td>1963-07-09</td><td>0.45</td><td>0.0</td><td>0.1</td><td>0.14</td><td>-0.04</td><td>0.012</td><td>0.44</td><td>1963</td><td>7</td></tr></tbody></table>"
      ],
      "text/plain": [
       "6×10 DataFrames.DataFrame\n",
       "│ Row │ date       │ ret   │ SMB   │ HML   │ RMW   │ CMA   │ RF    │ Mom   │\n",
       "├─────┼────────────┼───────┼───────┼───────┼───────┼───────┼───────┼───────┤\n",
       "│ 1   │ 1963-07-01 │ -0.67 │ 0.0   │ -0.32 │ 0.01  │ 0.15  │ 0.012 │ -0.21 │\n",
       "│ 2   │ 1963-07-02 │ 0.79  │ -0.27 │ 0.27  │ -0.08 │ -0.19 │ 0.012 │ 0.46  │\n",
       "│ 3   │ 1963-07-03 │ 0.63  │ -0.17 │ -0.09 │ 0.19  │ -0.33 │ 0.012 │ 0.4   │\n",
       "│ 4   │ 1963-07-05 │ 0.4   │ 0.08  │ -0.28 │ 0.07  │ -0.33 │ 0.012 │ 0.06  │\n",
       "│ 5   │ 1963-07-08 │ -0.63 │ 0.04  │ -0.17 │ -0.31 │ 0.13  │ 0.012 │ -0.46 │\n",
       "│ 6   │ 1963-07-09 │ 0.45  │ 0.0   │ 0.1   │ 0.14  │ -0.04 │ 0.012 │ 0.44  │\n",
       "\n",
       "│ Row │ year │ month │\n",
       "├─────┼──────┼───────┤\n",
       "│ 1   │ 1963 │ 7     │\n",
       "│ 2   │ 1963 │ 7     │\n",
       "│ 3   │ 1963 │ 7     │\n",
       "│ 4   │ 1963 │ 7     │\n",
       "│ 5   │ 1963 │ 7     │\n",
       "│ 6   │ 1963 │ 7     │"
      ]
     },
     "execution_count": 93,
     "metadata": {},
     "output_type": "execute_result"
    }
   ],
   "source": [
    "head(data_daily)"
   ]
  },
  {
   "cell_type": "code",
   "execution_count": 131,
   "metadata": {},
   "outputs": [
    {
     "data": {
      "text/html": [
       "<table class=\"data-frame\"><thead><tr><th></th><th>year</th><th>month</th><th>ret</th><th>SMB</th><th>HML</th><th>RMW</th><th>CMA</th><th>Mom</th></tr></thead><tbody><tr><th>1</th><td>1963</td><td>7</td><td>4.7048</td><td>0.45280000000000004</td><td>0.7965</td><td>0.6108</td><td>0.9571</td><td>1.7447999999999997</td></tr><tr><th>2</th><td>1963</td><td>8</td><td>2.9487000000000005</td><td>0.7148999999999999</td><td>0.9103000000000001</td><td>0.3833000000000001</td><td>0.6378</td><td>1.0082</td></tr><tr><th>3</th><td>1963</td><td>9</td><td>3.0537</td><td>1.0746</td><td>0.6437999999999999</td><td>0.6516</td><td>0.6480999999999999</td><td>1.3197</td></tr><tr><th>4</th><td>1963</td><td>10</td><td>4.176800000000001</td><td>1.8569000000000002</td><td>2.5287999999999995</td><td>1.6529000000000003</td><td>2.0257</td><td>2.4486</td></tr><tr><th>5</th><td>1963</td><td>11</td><td>30.5732</td><td>3.4528</td><td>1.4848</td><td>0.9271</td><td>2.0371</td><td>13.1862</td></tr><tr><th>6</th><td>1963</td><td>12</td><td>2.2554000000000003</td><td>1.796</td><td>0.8482999999999999</td><td>1.362</td><td>2.3223000000000003</td><td>1.7763</td></tr></tbody></table>"
      ],
      "text/plain": [
       "6×8 DataFrames.DataFrame\n",
       "│ Row │ year │ month │ ret     │ SMB    │ HML    │ RMW    │ CMA    │ Mom     │\n",
       "├─────┼──────┼───────┼─────────┼────────┼────────┼────────┼────────┼─────────┤\n",
       "│ 1   │ 1963 │ 7     │ 4.7048  │ 0.4528 │ 0.7965 │ 0.6108 │ 0.9571 │ 1.7448  │\n",
       "│ 2   │ 1963 │ 8     │ 2.9487  │ 0.7149 │ 0.9103 │ 0.3833 │ 0.6378 │ 1.0082  │\n",
       "│ 3   │ 1963 │ 9     │ 3.0537  │ 1.0746 │ 0.6438 │ 0.6516 │ 0.6481 │ 1.3197  │\n",
       "│ 4   │ 1963 │ 10    │ 4.1768  │ 1.8569 │ 2.5288 │ 1.6529 │ 2.0257 │ 2.4486  │\n",
       "│ 5   │ 1963 │ 11    │ 30.5732 │ 3.4528 │ 1.4848 │ 0.9271 │ 2.0371 │ 13.1862 │\n",
       "│ 6   │ 1963 │ 12    │ 2.2554  │ 1.796  │ 0.8483 │ 1.362  │ 2.3223 │ 1.7763  │"
      ]
     },
     "execution_count": 131,
     "metadata": {},
     "output_type": "execute_result"
    }
   ],
   "source": [
    "σ_hat_t = by(data_daily, [:year, :month], df -> sum(Matrix(df[[:ret, :SMB, :HML, :RMW, :CMA, :Mom]]) .^ 2, 1))\n",
    "names!(σ_hat_t, [:year, :month, :ret, :SMB, :HML, :RMW, :CMA, :Mom])\n",
    "head(σ_hat_t)"
   ]
  },
  {
   "cell_type": "markdown",
   "metadata": {},
   "source": [
    "### (b)"
   ]
  },
  {
   "cell_type": "code",
   "execution_count": 152,
   "metadata": {},
   "outputs": [],
   "source": [
    "data_monthly_FF = CSV.read(\"./Data/F-F_Research_Data_5_Factors_2x3.csv\", delim=',', \n",
    "        types=[Date, Float64, Float64, Float64, Float64, Float64, Float64], \n",
    "        dateformat = DateFormat(\"yyyymmdd\n",
    "        \"), nullable=false)\n",
    "\n",
    "data_monthly_mom = CSV.read(\"./Data/F-F_Momentum_Factor.csv\", delim=',', \n",
    "        types=[Date, Float64], \n",
    "        dateformat = DateFormat(\"yyyymmdd\"), nullable=false)\n",
    "\n",
    "data_monthly = data_monthly_FF\n",
    "data_monthly[:Mom] = data_monthly_mom[:, 2]\n",
    "\n",
    "names!(data_monthly, [:date, :ret, :SMB, :HML, :RMW, :CMA, :RF, :Mom]);\n",
    "\n",
    "for field in [:ret, :SMB, :HML, :RMW, :CMA, :Mom]\n",
    "    data_monthly[Symbol(\"scaled_\" * string(field))] = vcat(0, mean(σ_hat_t[:, field]) ./ σ_hat_t[1:end-1, field] .* data_monthly[2:end, field]);\n",
    "end"
   ]
  },
  {
   "cell_type": "code",
   "execution_count": 153,
   "metadata": {},
   "outputs": [
    {
     "data": {
      "text/html": [
       "<table class=\"data-frame\"><thead><tr><th></th><th>date</th><th>ret</th><th>SMB</th><th>HML</th><th>RMW</th><th>CMA</th><th>RF</th><th>Mom</th><th>scaled_ret</th><th>scaled_SMB</th><th>scaled_HML</th><th>scaled_RMW</th><th>scaled_CMA</th><th>scaled_Mom</th></tr></thead><tbody><tr><th>1</th><td>1963-07-01</td><td>-0.39</td><td>-0.46</td><td>-0.81</td><td>0.72</td><td>-1.16</td><td>0.27</td><td>0.99</td><td>0.0</td><td>0.0</td><td>0.0</td><td>0.0</td><td>0.0</td><td>0.0</td></tr><tr><th>2</th><td>1963-08-01</td><td>5.07</td><td>-0.81</td><td>1.65</td><td>0.42</td><td>-0.4</td><td>0.25</td><td>1.08</td><td>21.82211900222143</td><td>-10.089203467922326</td><td>10.91872884235503</td><td>1.9863983015206401</td><td>-1.1662570130142762</td><td>6.409952235528691</td></tr><tr><th>3</th><td>1963-09-01</td><td>-1.57</td><td>-0.48</td><td>0.19</td><td>-0.8</td><td>0.23</td><td>0.27</td><td>0.13</td><td>-10.781996573102393</td><td>-3.786816145454359</td><td>1.1001273834851635</td><td>-6.0293048218792045</td><td>1.0063172430459062</td><td>1.3352830914937874</td></tr><tr><th>4</th><td>1963-10-01</td><td>2.53</td><td>-1.29</td><td>-0.09</td><td>2.75</td><td>-2.26</td><td>0.29</td><td>3.14</td><td>16.777385320099473</td><td>-6.770506414163922</td><td>-0.7368268679942203</td><td>12.191796117484506</td><td>-9.731012062075598</td><td>24.639456381871604</td></tr><tr><th>5</th><td>1963-11-01</td><td>-0.85</td><td>-0.85</td><td>1.71</td><td>-0.34</td><td>2.22</td><td>0.27</td><td>-0.75</td><td>-4.121026168944282</td><td>-2.5817173257260335</td><td>3.564146478439932</td><td>-0.5942215673943839</td><td>3.0582250376243265</td><td>-3.1719045408460325</td></tr><tr><th>6</th><td>1963-12-01</td><td>1.83</td><td>-1.87</td><td>-0.1</td><td>0.18</td><td>-0.31</td><td>0.29</td><td>1.7</td><td>1.2121052135425436</td><td>-3.054558614663311</td><td>-0.3549816942159655</td><td>0.5608697239789854</td><td>-0.4246595920896724</td><td>1.3350758904325746</td></tr></tbody></table>"
      ],
      "text/plain": [
       "6×14 DataFrames.DataFrame\n",
       "│ Row │ date       │ ret   │ SMB   │ HML   │ RMW   │ CMA   │ RF   │ Mom   │\n",
       "├─────┼────────────┼───────┼───────┼───────┼───────┼───────┼──────┼───────┤\n",
       "│ 1   │ 1963-07-01 │ -0.39 │ -0.46 │ -0.81 │ 0.72  │ -1.16 │ 0.27 │ 0.99  │\n",
       "│ 2   │ 1963-08-01 │ 5.07  │ -0.81 │ 1.65  │ 0.42  │ -0.4  │ 0.25 │ 1.08  │\n",
       "│ 3   │ 1963-09-01 │ -1.57 │ -0.48 │ 0.19  │ -0.8  │ 0.23  │ 0.27 │ 0.13  │\n",
       "│ 4   │ 1963-10-01 │ 2.53  │ -1.29 │ -0.09 │ 2.75  │ -2.26 │ 0.29 │ 3.14  │\n",
       "│ 5   │ 1963-11-01 │ -0.85 │ -0.85 │ 1.71  │ -0.34 │ 2.22  │ 0.27 │ -0.75 │\n",
       "│ 6   │ 1963-12-01 │ 1.83  │ -1.87 │ -0.1  │ 0.18  │ -0.31 │ 0.29 │ 1.7   │\n",
       "\n",
       "│ Row │ scaled_ret │ scaled_SMB │ scaled_HML │ scaled_RMW │ scaled_CMA │\n",
       "├─────┼────────────┼────────────┼────────────┼────────────┼────────────┤\n",
       "│ 1   │ 0.0        │ 0.0        │ 0.0        │ 0.0        │ 0.0        │\n",
       "│ 2   │ 21.8221    │ -10.0892   │ 10.9187    │ 1.9864     │ -1.16626   │\n",
       "│ 3   │ -10.782    │ -3.78682   │ 1.10013    │ -6.0293    │ 1.00632    │\n",
       "│ 4   │ 16.7774    │ -6.77051   │ -0.736827  │ 12.1918    │ -9.73101   │\n",
       "│ 5   │ -4.12103   │ -2.58172   │ 3.56415    │ -0.594222  │ 3.05823    │\n",
       "│ 6   │ 1.21211    │ -3.05456   │ -0.354982  │ 0.56087    │ -0.42466   │\n",
       "\n",
       "│ Row │ scaled_Mom │\n",
       "├─────┼────────────┤\n",
       "│ 1   │ 0.0        │\n",
       "│ 2   │ 6.40995    │\n",
       "│ 3   │ 1.33528    │\n",
       "│ 4   │ 24.6395    │\n",
       "│ 5   │ -3.1719    │\n",
       "│ 6   │ 1.33508    │"
      ]
     },
     "execution_count": 153,
     "metadata": {},
     "output_type": "execute_result"
    }
   ],
   "source": [
    "head(data_monthly)"
   ]
  },
  {
   "cell_type": "markdown",
   "metadata": {},
   "source": [
    "### (c)"
   ]
  },
  {
   "cell_type": "code",
   "execution_count": 155,
   "metadata": {},
   "outputs": [
    {
     "data": {
      "text/plain": [
       "6-element Array{Tuple{Float64,Float64},1}:\n",
       " (6.37174, 0.419177)\n",
       " (3.00569, 0.286878)\n",
       " (4.14459, 0.425987)\n",
       " (3.00073, 0.391495)\n",
       " (3.44147, 0.495486)\n",
       " (7.91101, 0.544498)"
      ]
     },
     "execution_count": 155,
     "metadata": {},
     "output_type": "execute_result"
    }
   ],
   "source": [
    "[(12*mean(data_monthly[field]), √12*mean(data_monthly[field])/std(data_monthly[field])) \n",
    "    for field in [:ret, :SMB, :HML, :RMW, :CMA, :Mom]]"
   ]
  },
  {
   "cell_type": "code",
   "execution_count": 160,
   "metadata": {},
   "outputs": [
    {
     "data": {
      "text/plain": [
       "6-element Array{Tuple{Float64,Float64},1}:\n",
       " (17.2502, 0.496677)\n",
       " (4.51221, 0.189556)\n",
       " (10.0082, 0.407342)\n",
       " (8.16584, 0.520061)\n",
       " (4.92482, 0.373828)\n",
       " (39.7156, 1.03481) "
      ]
     },
     "execution_count": 160,
     "metadata": {},
     "output_type": "execute_result"
    }
   ],
   "source": [
    "[(12*mean(data_monthly[field]), √12*mean(data_monthly[field])/std(data_monthly[field])) \n",
    "    for field in Symbol.(\"scaled_\" .* string.([:ret, :SMB, :HML, :RMW, :CMA, :Mom]))]"
   ]
  },
  {
   "cell_type": "markdown",
   "metadata": {},
   "source": [
    "### (d)"
   ]
  },
  {
   "cell_type": "code",
   "execution_count": 201,
   "metadata": {
    "scrolled": false
   },
   "outputs": [
    {
     "name": "stdout",
     "output_type": "stream",
     "text": [
      "Symbol: ret\n",
      "GLM.LinearModel{GLM.LmResp{Array{Float64,1}},GLM.DensePredChol{Float64,Base.LinAlg.Cholesky{Float64,Array{Float64,2}}}}:\n",
      "\n",
      "Coefficients:\n",
      "     Estimate Std.Error t value Pr(>|t|)\n",
      "x1   0.595877  0.284649 2.09337   0.0367\n",
      "x2    1.58507 0.0644482 24.5945   <1e-94\n",
      "\n",
      "Symbol: SMB\n",
      "GLM.LinearModel{GLM.LmResp{Array{Float64,1}},GLM.DensePredChol{Float64,Base.LinAlg.Cholesky{Float64,Array{Float64,2}}}}:\n",
      "\n",
      "Coefficients:\n",
      "      Estimate Std.Error   t value Pr(>|t|)\n",
      "x1   -0.024279  0.191788 -0.126593   0.8993\n",
      "x2     1.59816 0.0632429   25.2701   <1e-98\n",
      "\n",
      "Symbol: HML\n",
      "GLM.LinearModel{GLM.LmResp{Array{Float64,1}},GLM.DensePredChol{Float64,Base.LinAlg.Cholesky{Float64,Array{Float64,2}}}}:\n",
      "\n",
      "Coefficients:\n",
      "     Estimate Std.Error t value Pr(>|t|)\n",
      "x1   0.253803  0.208796 1.21556   0.2246\n",
      "x2    1.67993 0.0738407 22.7507   <1e-84\n",
      "\n",
      "Symbol: RMW\n",
      "GLM.LinearModel{GLM.LmResp{Array{Float64,1}},GLM.DensePredChol{Float64,Base.LinAlg.Cholesky{Float64,Array{Float64,2}}}}:\n",
      "\n",
      "Coefficients:\n",
      "     Estimate Std.Error t value Pr(>|t|)\n",
      "x1   0.377098  0.143834 2.62176   0.0090\n",
      "x2    1.21326 0.0646431 18.7686   <1e-62\n",
      "\n",
      "Symbol: CMA\n",
      "GLM.LinearModel{GLM.LmResp{Array{Float64,1}},GLM.DensePredChol{Float64,Base.LinAlg.Cholesky{Float64,Array{Float64,2}}}}:\n",
      "\n",
      "Coefficients:\n",
      "      Estimate Std.Error  t value Pr(>|t|)\n",
      "x1   0.0362637  0.109132 0.332291   0.7398\n",
      "x2     1.30458 0.0539212  24.1941   <1e-92\n",
      "\n",
      "Symbol: Mom\n",
      "GLM.LinearModel{GLM.LmResp{Array{Float64,1}},GLM.DensePredChol{Float64,Base.LinAlg.Cholesky{Float64,Array{Float64,2}}}}:\n",
      "\n",
      "Coefficients:\n",
      "     Estimate Std.Error t value Pr(>|t|)\n",
      "x1    2.36233  0.368282 6.41446    <1e-9\n",
      "x2    1.43695 0.0868079 16.5532   <1e-50\n",
      "\n"
     ]
    },
    {
     "name": "stderr",
     "output_type": "stream",
     "text": [
      "\u001b[1m\u001b[33mWARNING: \u001b[39m\u001b[22m\u001b[33mccdf(d::UnivariateDistribution, X::AbstractArray) is deprecated, use ccdf.(d, X) instead.\u001b[39m\n",
      "Stacktrace:\n",
      " [1] \u001b[1mdepwarn\u001b[22m\u001b[22m\u001b[1m(\u001b[22m\u001b[22m::String, ::Symbol\u001b[1m)\u001b[22m\u001b[22m at \u001b[1m.\\deprecated.jl:70\u001b[22m\u001b[22m\n",
      " [2] \u001b[1mccdf\u001b[22m\u001b[22m\u001b[1m(\u001b[22m\u001b[22m::Distributions.FDist{Float64}, ::Array{Float64,1}\u001b[1m)\u001b[22m\u001b[22m at \u001b[1m.\\deprecated.jl:57\u001b[22m\u001b[22m\n",
      " [3] \u001b[1mcoeftable\u001b[22m\u001b[22m\u001b[1m(\u001b[22m\u001b[22m::GLM.LinearModel{GLM.LmResp{Array{Float64,1}},GLM.DensePredChol{Float64,Base.LinAlg.Cholesky{Float64,Array{Float64,2}}}}\u001b[1m)\u001b[22m\u001b[22m at \u001b[1mC:\\Users\\Max\\AppData\\Local\\JuliaPro-0.6.2.1\\pkgs-0.6.2.1\\v0.6\\GLM\\src\\lm.jl:154\u001b[22m\u001b[22m\n",
      " [4] \u001b[1mshow\u001b[22m\u001b[22m\u001b[1m(\u001b[22m\u001b[22m::Base.PipeEndpoint, ::GLM.LinearModel{GLM.LmResp{Array{Float64,1}},GLM.DensePredChol{Float64,Base.LinAlg.Cholesky{Float64,Array{Float64,2}}}}\u001b[1m)\u001b[22m\u001b[22m at \u001b[1mC:\\Users\\Max\\AppData\\Local\\JuliaPro-0.6.2.1\\pkgs-0.6.2.1\\v0.6\\GLM\\src\\linpred.jl:138\u001b[22m\u001b[22m\n",
      " [5] \u001b[1mprint\u001b[22m\u001b[22m\u001b[1m(\u001b[22m\u001b[22m::Base.PipeEndpoint, ::GLM.LinearModel{GLM.LmResp{Array{Float64,1}},GLM.DensePredChol{Float64,Base.LinAlg.Cholesky{Float64,Array{Float64,2}}}}\u001b[1m)\u001b[22m\u001b[22m at \u001b[1m.\\strings\\io.jl:29\u001b[22m\u001b[22m\n",
      " [6] \u001b[1mprint\u001b[22m\u001b[22m\u001b[1m(\u001b[22m\u001b[22m::GLM.LinearModel{GLM.LmResp{Array{Float64,1}},GLM.DensePredChol{Float64,Base.LinAlg.Cholesky{Float64,Array{Float64,2}}}}\u001b[1m)\u001b[22m\u001b[22m at \u001b[1m.\\coreio.jl:4\u001b[22m\u001b[22m\n",
      " [7] \u001b[1mmacro expansion\u001b[22m\u001b[22m at \u001b[1m.\\In[201]:7\u001b[22m\u001b[22m [inlined]\n",
      " [8] \u001b[1manonymous\u001b[22m\u001b[22m at \u001b[1m.\\<missing>:?\u001b[22m\u001b[22m\n",
      " [9] \u001b[1minclude_string\u001b[22m\u001b[22m\u001b[1m(\u001b[22m\u001b[22m::String, ::String\u001b[1m)\u001b[22m\u001b[22m at \u001b[1m.\\loading.jl:522\u001b[22m\u001b[22m\n",
      " [10] \u001b[1minclude_string\u001b[22m\u001b[22m\u001b[1m(\u001b[22m\u001b[22m::Module, ::String, ::String\u001b[1m)\u001b[22m\u001b[22m at \u001b[1mC:\\Users\\Max\\AppData\\Local\\JuliaPro-0.6.2.1\\pkgs-0.6.2.1\\v0.6\\Compat\\src\\Compat.jl:174\u001b[22m\u001b[22m\n",
      " [11] \u001b[1mexecute_request\u001b[22m\u001b[22m\u001b[1m(\u001b[22m\u001b[22m::ZMQ.Socket, ::IJulia.Msg\u001b[1m)\u001b[22m\u001b[22m at \u001b[1mC:\\Users\\Max\\AppData\\Local\\JuliaPro-0.6.2.1\\pkgs-0.6.2.1\\v0.6\\IJulia\\src\\execute_request.jl:154\u001b[22m\u001b[22m\n",
      " [12] \u001b[1m(::Compat.#inner#16{Array{Any,1},IJulia.#execute_request,Tuple{ZMQ.Socket,IJulia.Msg}})\u001b[22m\u001b[22m\u001b[1m(\u001b[22m\u001b[22m\u001b[1m)\u001b[22m\u001b[22m at \u001b[1mC:\\Users\\Max\\AppData\\Local\\JuliaPro-0.6.2.1\\pkgs-0.6.2.1\\v0.6\\Compat\\src\\Compat.jl:496\u001b[22m\u001b[22m\n",
      " [13] \u001b[1meventloop\u001b[22m\u001b[22m\u001b[1m(\u001b[22m\u001b[22m::ZMQ.Socket\u001b[1m)\u001b[22m\u001b[22m at \u001b[1mC:\\Users\\Max\\AppData\\Local\\JuliaPro-0.6.2.1\\pkgs-0.6.2.1\\v0.6\\IJulia\\src\\eventloop.jl:8\u001b[22m\u001b[22m\n",
      " [14] \u001b[1m(::IJulia.##14#17)\u001b[22m\u001b[22m\u001b[1m(\u001b[22m\u001b[22m\u001b[1m)\u001b[22m\u001b[22m at \u001b[1m.\\task.jl:335\u001b[22m\u001b[22m\n",
      "while loading In[201], in expression starting on line 4\n"
     ]
    }
   ],
   "source": [
    "using GLM\n",
    "X = ones(size(data_monthly, 1), 2)\n",
    "\n",
    "for field in [:ret, :SMB, :HML, :RMW, :CMA, :Mom]\n",
    "    X[:, 2] = data_monthly[field]\n",
    "    println(\"Symbol: \" * string(field))\n",
    "    print(lm(X, data_monthly[Symbol.(\"scaled_\" .* string(field))]))\n",
    "end"
   ]
  },
  {
   "cell_type": "markdown",
   "metadata": {},
   "source": [
    "### (e)"
   ]
  },
  {
   "cell_type": "code",
   "execution_count": 184,
   "metadata": {},
   "outputs": [
    {
     "data": {
      "text/plain": [
       "([7.97188, 16.1879, 38.9125, 42.636, 360.245, 1917.69], [0.000971983 0.135986 … 0.398361 -0.889466; 0.0306057 -0.448397 … 0.113123 -0.184019; … ; 0.846975 0.119769 … -0.0534803 -0.0399275; 0.046239 0.181063 … -0.866841 -0.370684])"
      ]
     },
     "execution_count": 184,
     "metadata": {},
     "output_type": "execute_result"
    }
   ],
   "source": [
    "C = cov(Matrix(σ_hat_t[:, 3:end]))\n",
    "decomp = eig(C)"
   ]
  },
  {
   "cell_type": "code",
   "execution_count": 195,
   "metadata": {},
   "outputs": [
    {
     "data": {
      "text/plain": [
       "6-element Array{Float64,1}:\n",
       " 0.804521  \n",
       " 0.151132  \n",
       " 0.0178869 \n",
       " 0.0163248 \n",
       " 0.00679123\n",
       " 0.00334441"
      ]
     },
     "execution_count": 195,
     "metadata": {},
     "output_type": "execute_result"
    }
   ],
   "source": [
    "sort(decomp[1], rev=true) ./ sum(decomp[1])"
   ]
  },
  {
   "cell_type": "code",
   "execution_count": 200,
   "metadata": {},
   "outputs": [
    {
     "data": {
      "text/html": [
       "<?xml version=\"1.0\" encoding=\"utf-8\"?>\n",
       "<svg xmlns=\"http://www.w3.org/2000/svg\" xmlns:xlink=\"http://www.w3.org/1999/xlink\" width=\"600\" height=\"400\" viewBox=\"0 0 600 400\">\n",
       "<defs>\n",
       "  <clipPath id=\"clip5000\">\n",
       "    <rect x=\"0\" y=\"0\" width=\"600\" height=\"400\"/>\n",
       "  </clipPath>\n",
       "</defs>\n",
       "<polygon clip-path=\"url(#clip5000)\" points=\"\n",
       "0,400 600,400 600,0 0,0 \n",
       "  \" fill=\"#ffffff\" fill-opacity=\"1\"/>\n",
       "<defs>\n",
       "  <clipPath id=\"clip5001\">\n",
       "    <rect x=\"120\" y=\"0\" width=\"421\" height=\"400\"/>\n",
       "  </clipPath>\n",
       "</defs>\n",
       "<polygon clip-path=\"url(#clip5000)\" points=\"\n",
       "35.5169,375.813 580.315,375.813 580.315,11.811 35.5169,11.811 \n",
       "  \" fill=\"#ffffff\" fill-opacity=\"1\"/>\n",
       "<defs>\n",
       "  <clipPath id=\"clip5002\">\n",
       "    <rect x=\"35\" y=\"11\" width=\"546\" height=\"365\"/>\n",
       "  </clipPath>\n",
       "</defs>\n",
       "<polyline clip-path=\"url(#clip5002)\" style=\"stroke:#000000; stroke-width:0.5; stroke-opacity:0.1; fill:none\" points=\"\n",
       "  40.5601,375.813 40.5601,11.811 \n",
       "  \"/>\n",
       "<polyline clip-path=\"url(#clip5002)\" style=\"stroke:#000000; stroke-width:0.5; stroke-opacity:0.1; fill:none\" points=\"\n",
       "  180.727,375.813 180.727,11.811 \n",
       "  \"/>\n",
       "<polyline clip-path=\"url(#clip5002)\" style=\"stroke:#000000; stroke-width:0.5; stroke-opacity:0.1; fill:none\" points=\"\n",
       "  320.866,375.813 320.866,11.811 \n",
       "  \"/>\n",
       "<polyline clip-path=\"url(#clip5002)\" style=\"stroke:#000000; stroke-width:0.5; stroke-opacity:0.1; fill:none\" points=\"\n",
       "  461.033,375.813 461.033,11.811 \n",
       "  \"/>\n",
       "<polyline clip-path=\"url(#clip5002)\" style=\"stroke:#000000; stroke-width:0.5; stroke-opacity:0.1; fill:none\" points=\"\n",
       "  35.5169,311.689 580.315,311.689 \n",
       "  \"/>\n",
       "<polyline clip-path=\"url(#clip5002)\" style=\"stroke:#000000; stroke-width:0.5; stroke-opacity:0.1; fill:none\" points=\"\n",
       "  35.5169,246.672 580.315,246.672 \n",
       "  \"/>\n",
       "<polyline clip-path=\"url(#clip5002)\" style=\"stroke:#000000; stroke-width:0.5; stroke-opacity:0.1; fill:none\" points=\"\n",
       "  35.5169,181.656 580.315,181.656 \n",
       "  \"/>\n",
       "<polyline clip-path=\"url(#clip5002)\" style=\"stroke:#000000; stroke-width:0.5; stroke-opacity:0.1; fill:none\" points=\"\n",
       "  35.5169,116.639 580.315,116.639 \n",
       "  \"/>\n",
       "<polyline clip-path=\"url(#clip5002)\" style=\"stroke:#000000; stroke-width:0.5; stroke-opacity:0.1; fill:none\" points=\"\n",
       "  35.5169,51.6225 580.315,51.6225 \n",
       "  \"/>\n",
       "<polyline clip-path=\"url(#clip5000)\" style=\"stroke:#000000; stroke-width:1; stroke-opacity:1; fill:none\" points=\"\n",
       "  35.5169,375.813 580.315,375.813 \n",
       "  \"/>\n",
       "<polyline clip-path=\"url(#clip5000)\" style=\"stroke:#000000; stroke-width:1; stroke-opacity:1; fill:none\" points=\"\n",
       "  35.5169,375.813 35.5169,11.811 \n",
       "  \"/>\n",
       "<polyline clip-path=\"url(#clip5000)\" style=\"stroke:#000000; stroke-width:1; stroke-opacity:1; fill:none\" points=\"\n",
       "  40.5601,375.813 40.5601,370.353 \n",
       "  \"/>\n",
       "<polyline clip-path=\"url(#clip5000)\" style=\"stroke:#000000; stroke-width:1; stroke-opacity:1; fill:none\" points=\"\n",
       "  180.727,375.813 180.727,370.353 \n",
       "  \"/>\n",
       "<polyline clip-path=\"url(#clip5000)\" style=\"stroke:#000000; stroke-width:1; stroke-opacity:1; fill:none\" points=\"\n",
       "  320.866,375.813 320.866,370.353 \n",
       "  \"/>\n",
       "<polyline clip-path=\"url(#clip5000)\" style=\"stroke:#000000; stroke-width:1; stroke-opacity:1; fill:none\" points=\"\n",
       "  461.033,375.813 461.033,370.353 \n",
       "  \"/>\n",
       "<polyline clip-path=\"url(#clip5000)\" style=\"stroke:#000000; stroke-width:1; stroke-opacity:1; fill:none\" points=\"\n",
       "  35.5169,311.689 43.6889,311.689 \n",
       "  \"/>\n",
       "<polyline clip-path=\"url(#clip5000)\" style=\"stroke:#000000; stroke-width:1; stroke-opacity:1; fill:none\" points=\"\n",
       "  35.5169,246.672 43.6889,246.672 \n",
       "  \"/>\n",
       "<polyline clip-path=\"url(#clip5000)\" style=\"stroke:#000000; stroke-width:1; stroke-opacity:1; fill:none\" points=\"\n",
       "  35.5169,181.656 43.6889,181.656 \n",
       "  \"/>\n",
       "<polyline clip-path=\"url(#clip5000)\" style=\"stroke:#000000; stroke-width:1; stroke-opacity:1; fill:none\" points=\"\n",
       "  35.5169,116.639 43.6889,116.639 \n",
       "  \"/>\n",
       "<polyline clip-path=\"url(#clip5000)\" style=\"stroke:#000000; stroke-width:1; stroke-opacity:1; fill:none\" points=\"\n",
       "  35.5169,51.6225 43.6889,51.6225 \n",
       "  \"/>\n",
       "<g clip-path=\"url(#clip5000)\">\n",
       "<text style=\"fill:#000000; fill-opacity:1; font-family:Arial,Helvetica Neue,Helvetica,sans-serif; font-size:12; text-anchor:middle;\" transform=\"rotate(0, 40.5601, 389.613)\" x=\"40.5601\" y=\"389.613\">1964-01-01</text>\n",
       "</g>\n",
       "<g clip-path=\"url(#clip5000)\">\n",
       "<text style=\"fill:#000000; fill-opacity:1; font-family:Arial,Helvetica Neue,Helvetica,sans-serif; font-size:12; text-anchor:middle;\" transform=\"rotate(0, 180.727, 389.613)\" x=\"180.727\" y=\"389.613\">1978-01-01</text>\n",
       "</g>\n",
       "<g clip-path=\"url(#clip5000)\">\n",
       "<text style=\"fill:#000000; fill-opacity:1; font-family:Arial,Helvetica Neue,Helvetica,sans-serif; font-size:12; text-anchor:middle;\" transform=\"rotate(0, 320.866, 389.613)\" x=\"320.866\" y=\"389.613\">1992-01-01</text>\n",
       "</g>\n",
       "<g clip-path=\"url(#clip5000)\">\n",
       "<text style=\"fill:#000000; fill-opacity:1; font-family:Arial,Helvetica Neue,Helvetica,sans-serif; font-size:12; text-anchor:middle;\" transform=\"rotate(0, 461.033, 389.613)\" x=\"461.033\" y=\"389.613\">2006-01-01</text>\n",
       "</g>\n",
       "<g clip-path=\"url(#clip5000)\">\n",
       "<text style=\"fill:#000000; fill-opacity:1; font-family:Arial,Helvetica Neue,Helvetica,sans-serif; font-size:12; text-anchor:end;\" transform=\"rotate(0, 29.5169, 316.189)\" x=\"29.5169\" y=\"316.189\">100</text>\n",
       "</g>\n",
       "<g clip-path=\"url(#clip5000)\">\n",
       "<text style=\"fill:#000000; fill-opacity:1; font-family:Arial,Helvetica Neue,Helvetica,sans-serif; font-size:12; text-anchor:end;\" transform=\"rotate(0, 29.5169, 251.172)\" x=\"29.5169\" y=\"251.172\">200</text>\n",
       "</g>\n",
       "<g clip-path=\"url(#clip5000)\">\n",
       "<text style=\"fill:#000000; fill-opacity:1; font-family:Arial,Helvetica Neue,Helvetica,sans-serif; font-size:12; text-anchor:end;\" transform=\"rotate(0, 29.5169, 186.156)\" x=\"29.5169\" y=\"186.156\">300</text>\n",
       "</g>\n",
       "<g clip-path=\"url(#clip5000)\">\n",
       "<text style=\"fill:#000000; fill-opacity:1; font-family:Arial,Helvetica Neue,Helvetica,sans-serif; font-size:12; text-anchor:end;\" transform=\"rotate(0, 29.5169, 121.139)\" x=\"29.5169\" y=\"121.139\">400</text>\n",
       "</g>\n",
       "<g clip-path=\"url(#clip5000)\">\n",
       "<text style=\"fill:#000000; fill-opacity:1; font-family:Arial,Helvetica Neue,Helvetica,sans-serif; font-size:12; text-anchor:end;\" transform=\"rotate(0, 29.5169, 56.1225)\" x=\"29.5169\" y=\"56.1225\">500</text>\n",
       "</g>\n",
       "<polyline clip-path=\"url(#clip5002)\" style=\"stroke:#009af9; stroke-width:1; stroke-opacity:1; fill:none\" points=\"\n",
       "  35.5169,373.367 36.3666,374.533 37.2162,374.374 38.0385,373.063 38.8882,355.17 39.7104,374.543 40.5601,374.777 41.4097,375.813 42.2046,375.593 43.0542,374.533 \n",
       "  43.8765,375.017 44.7262,373.976 45.5484,375.364 46.3981,374.011 47.2477,375.477 48.07,375.231 48.9197,375.11 49.7419,374.315 50.5916,375.012 51.4412,374.316 \n",
       "  52.2087,375.527 53.0583,375.451 53.8806,374.548 54.7303,362.292 55.5525,372.956 56.4022,375.478 57.2518,374.283 58.0741,374.689 58.9237,374.959 59.746,372.96 \n",
       "  60.5957,374.426 61.4453,372.36 62.2128,365.67 63.0624,372.633 63.8847,351.075 64.7343,369.863 65.5566,368.485 66.4063,350.429 67.2559,364.814 68.0782,358.183 \n",
       "  68.9278,371.105 69.7501,372.352 70.5998,369.026 71.4494,373.542 72.2169,373.434 73.0665,371.06 73.8888,370.064 74.7384,367.658 75.5607,374.228 76.4103,373.96 \n",
       "  77.26,373.468 78.0823,372.733 78.9319,366.55 79.7542,373.152 80.6038,369.427 81.4535,368.405 82.2484,363.825 83.098,365.981 83.9203,373.3 84.7699,371.969 \n",
       "  85.5922,368.859 86.4418,373.946 87.2915,374.565 88.1138,374.657 88.9634,374.4 89.7857,373.936 90.6353,371.207 91.485,371.586 92.2524,372.323 93.1021,372.752 \n",
       "  93.9244,373.993 94.774,370.285 95.5963,359.009 96.4459,369.382 97.2956,370.266 98.1179,369.954 98.9675,372.388 99.7898,365.542 100.639,363.912 101.489,368.545 \n",
       "  102.257,369.116 103.106,361.988 103.928,314.869 104.778,353.863 105.6,361.876 106.45,361.545 107.3,362.791 108.122,366.261 108.972,368.447 109.794,371.302 \n",
       "  110.644,370.512 111.493,371.376 112.261,372.866 113.11,374.294 113.933,372.905 114.782,369.691 115.604,372.453 116.454,358.631 117.304,373.194 118.126,372.048 \n",
       "  118.976,364.716 119.798,368.785 120.648,372.257 121.497,374.429 122.292,372.551 123.142,373.83 123.964,370.687 124.814,374.183 125.636,372.541 126.486,371.854 \n",
       "  127.335,373.257 128.158,371.218 129.007,373.055 129.829,372.691 130.679,372.299 131.529,368.46 132.296,366.718 133.146,365.591 133.968,354.072 134.818,362.277 \n",
       "  135.64,361.11 136.49,368.896 137.339,368.789 138.162,366.521 139.011,347.139 139.834,341.635 140.683,352.86 141.533,366.161 142.3,365.78 143.15,366.409 \n",
       "  143.972,363.909 144.822,362.74 145.644,346 146.494,347.93 147.343,329.638 148.166,319.067 149.015,354.606 149.838,352.669 150.687,346.554 151.537,363.591 \n",
       "  152.304,362.234 153.154,364.791 153.976,366.522 154.826,368.776 155.648,367.762 156.498,361.068 157.348,362.7 158.17,364.597 159.019,371.756 159.842,367.351 \n",
       "  160.691,364.311 161.541,368.502 162.336,369.501 163.186,370.139 164.008,371.217 164.857,371.533 165.68,373.941 166.529,372.41 167.379,372.278 168.201,369.743 \n",
       "  169.051,370.331 169.873,373.077 170.723,372.542 171.573,374.696 172.34,372.954 173.19,371.094 174.012,373.43 174.862,373.614 175.684,373.395 176.533,373.584 \n",
       "  177.383,374.104 178.205,372.09 179.055,368.546 179.877,372.826 180.727,370.871 181.577,373.193 182.344,373.263 183.194,367.613 184.016,371.083 184.866,370.764 \n",
       "  185.688,371.856 186.538,370.405 187.387,369.134 188.209,353.892 189.059,351.987 189.881,365.893 190.731,370.535 191.581,371.483 192.348,371.914 193.198,372.983 \n",
       "  194.02,370.62 194.87,373.011 195.692,371.912 196.542,373.141 197.391,368.83 198.214,354.11 199.063,365.618 199.885,372.82 200.735,363.066 201.585,362.712 \n",
       "  202.38,328.105 203.229,357.971 204.052,367.801 204.901,368.635 205.723,368.5 206.573,365.691 207.423,358.233 208.245,360.534 209.095,357.945 209.917,353.452 \n",
       "  210.767,361.348 211.616,365.521 212.384,365.894 213.233,370.828 214.056,370.525 214.905,369.153 215.728,369.269 216.577,364.715 217.427,355.936 218.249,363.662 \n",
       "  219.099,367.212 219.921,371.392 220.771,359.827 221.62,364.701 222.388,362.035 223.237,368.963 224.06,370.255 224.909,366.934 225.732,370.39 226.581,340.319 \n",
       "  227.431,364.953 228.253,340.015 229.103,347.701 229.925,360.171 230.775,355.386 231.624,367.101 232.392,367.557 233.242,368.801 234.064,368.821 234.913,367.184 \n",
       "  235.736,361.711 236.585,366.909 237.435,370.639 238.257,369.366 239.107,371.811 239.929,373.792 240.779,371.012 241.629,364.28 242.423,369.264 243.273,371.167 \n",
       "  244.095,369.576 244.945,367.929 245.767,370.232 246.617,355.43 247.467,371.643 248.289,369.677 249.138,370.972 249.961,369.965 250.81,367.276 251.66,372.38 \n",
       "  252.428,372.183 253.277,373.887 254.099,371.671 254.949,372.657 255.771,371.364 256.621,373.267 257.471,371.505 258.293,371.748 259.143,371.798 259.965,369.955 \n",
       "  260.814,366.676 261.664,371.218 262.432,369.643 263.281,364.01 264.104,369.601 264.953,369.496 265.775,360.486 266.625,368.93 267.475,353.284 268.297,371.632 \n",
       "  269.147,368.456 269.969,370.296 270.819,362.365 271.668,369.001 272.436,366.832 273.285,355.979 274.108,364.649 274.957,371.735 275.78,372.609 276.629,367.218 \n",
       "  277.479,363.499 278.301,11.811 279.151,340.648 279.973,342.11 280.823,332.519 281.672,367.463 282.467,368.007 283.317,360.958 284.139,365.456 284.989,365.9 \n",
       "  285.811,368.737 286.661,369.81 287.51,371.257 288.333,369.431 289.182,369.966 290.005,373.748 290.854,371.995 291.704,371.244 292.471,370.425 293.321,372.781 \n",
       "  294.143,371.762 294.993,369.306 295.815,371.466 296.665,370.278 297.514,373.051 298.337,347.565 299.186,372.188 300.009,371.482 300.858,360.821 301.708,370.945 \n",
       "  302.475,371.296 303.325,370.964 304.147,369.692 304.997,368.85 305.819,368.786 306.669,337.944 307.519,363.349 308.341,350.006 309.19,361.208 310.013,369.502 \n",
       "  310.862,356.401 311.712,361.247 312.479,367.791 313.329,365.224 314.151,367.434 315.001,370.439 315.823,370.548 316.673,364.766 317.523,373.242 318.345,369.22 \n",
       "  319.195,363.338 320.017,363.455 320.866,366.453 321.716,369.733 322.511,372.83 323.361,363.684 324.183,372.46 325.033,370.97 325.855,371.126 326.704,374.215 \n",
       "  327.554,371.315 328.376,370.773 329.226,373.282 330.048,373.262 330.898,373.076 331.748,365.758 332.515,370.087 333.365,367.52 334.187,371.298 335.037,372.275 \n",
       "  335.859,373.242 336.709,373.918 337.558,372.433 338.38,373.628 339.23,370.614 340.052,374.542 340.902,373.818 341.752,370.48 342.519,369.875 343.369,364.727 \n",
       "  344.191,371.826 345.041,371.322 345.863,374.49 346.713,373.651 347.562,372.478 348.385,370.501 349.234,371.252 350.056,371.765 350.906,373.779 351.756,373.627 \n",
       "  352.523,373.03 353.373,374.693 354.195,370.921 355.045,371.924 355.867,370.011 356.717,374.144 357.566,372.776 358.389,370.347 359.238,372.393 360.061,370.358 \n",
       "  360.91,366.907 361.76,370.152 362.555,366.889 363.404,370.06 364.227,369.869 365.076,372.313 365.899,355.806 366.748,369.645 367.598,372.241 368.42,372.449 \n",
       "  369.27,372.327 370.092,367.111 370.942,368.63 371.791,367.843 372.559,364.819 373.408,359.564 374.231,364.437 375.08,367.013 375.903,365.9 376.752,364.542 \n",
       "  377.602,364.403 378.424,327.499 379.274,361.596 380.096,363.329 380.946,361.835 381.795,370.638 382.563,370.038 383.413,365.936 384.235,370.254 385.084,363.772 \n",
       "  385.907,362.592 386.756,317.708 387.606,319.026 388.428,332.312 389.278,361.849 390.1,353.906 390.95,354.907 391.8,353.46 392.567,356.388 393.417,340.373 \n",
       "  394.239,355.016 395.089,358.086 395.911,363.966 396.76,357.229 397.61,358.453 398.432,345.244 399.282,365.031 400.104,363.824 400.954,330.964 401.804,347.325 \n",
       "  402.598,305.342 403.448,258.503 404.27,322.421 405.12,346.199 405.942,352.006 406.792,366.195 407.642,358.47 408.464,321.404 409.314,336.85 410.136,318.71 \n",
       "  410.985,305.21 411.835,343.784 412.603,309.869 413.452,290.172 414.274,345.714 415.124,359.298 415.946,350.349 416.796,357.022 417.646,326.021 418.468,346.721 \n",
       "  419.318,357.753 420.14,361.925 420.99,361.42 421.839,357.642 422.607,362.001 423.456,359.247 424.279,342.267 425.128,347.959 425.95,276.083 426.8,314.672 \n",
       "  427.65,330.21 428.472,302.635 429.322,336.066 430.144,354.863 430.994,342.499 431.843,361.092 432.611,338.818 433.46,355.943 434.283,360.775 435.132,362.841 \n",
       "  435.955,363.009 436.804,369.05 437.654,362.888 438.476,364.782 439.326,368.083 440.148,367.454 440.998,368.441 441.847,368.6 442.642,360.957 443.492,366.171 \n",
       "  444.314,367.971 445.164,370.217 445.986,368.357 446.836,365.553 447.685,369.943 448.508,366.628 449.357,369.967 450.18,370.291 451.029,369.371 451.879,370.078 \n",
       "  452.646,369.193 453.496,363.397 454.318,369.232 455.168,372.245 455.99,370.809 456.84,370.974 457.689,371.654 458.512,361.466 459.361,371.023 460.184,372.788 \n",
       "  461.033,369.588 461.883,371.339 462.65,371.358 463.5,371.478 464.322,363.9 465.172,356.94 465.994,364.036 466.844,371.419 467.694,371.995 468.516,372.448 \n",
       "  469.365,371.708 470.188,373.793 471.037,372.869 471.887,367.675 472.655,366.727 473.504,372.776 474.326,371.428 475.176,367.827 475.998,362.065 476.848,342.027 \n",
       "  477.698,364.807 478.52,363.515 479.37,339.694 480.192,358.946 481.042,335.253 481.891,353.013 482.686,328.718 483.536,352.086 484.358,363.175 485.208,347.28 \n",
       "  486.03,296.387 486.88,336.004 487.729,210.999 488.551,30.718 489.401,118.295 490.223,229.225 491.073,258.882 491.923,295.561 492.69,183.766 493.54,262.265 \n",
       "  494.362,300.176 495.212,341.574 496.034,344.27 496.884,354.337 497.733,359.186 498.556,347.528 499.405,361.487 500.227,368.747 501.077,361.677 501.927,359.763 \n",
       "  502.694,369.427 503.544,361.294 504.366,318.219 505.216,336.868 506.038,351.23 506.888,357.841 507.737,360.311 508.56,368.237 509.409,364.326 510.232,370.516 \n",
       "  511.081,368.213 511.931,367.851 512.698,360.735 513.548,370.737 514.37,366.744 515.22,359.875 516.042,362.892 516.892,246.455 517.741,327.049 518.564,315.395 \n",
       "  519.413,323.75 520.236,352.733 521.085,367.365 521.935,369.367 522.73,365.625 523.579,362.797 524.402,363.898 525.251,351.818 526.074,363.68 526.923,369.117 \n",
       "  527.773,368.249 528.595,369.318 529.445,363.812 530.267,369.562 531.117,370.106 531.966,368.49 532.734,372.421 533.584,363.458 534.406,368.376 535.255,362.318 \n",
       "  536.078,372.257 536.927,368.364 537.777,371.917 538.599,365.7 539.449,369.51 540.271,371.168 541.121,365.996 541.971,367.166 542.738,368.211 543.588,361.214 \n",
       "  544.41,370.389 545.26,373.725 546.082,368.95 546.931,372.45 547.781,370.942 548.603,355.257 549.453,372.871 550.275,361.423 551.125,358.326 551.975,368.468 \n",
       "  552.742,364.604 553.592,368.009 554.414,370.095 555.264,368.907 556.086,364.658 556.936,335.195 557.785,347.14 558.607,354.289 559.457,365.674 560.279,354.352 \n",
       "  561.129,340.647 561.979,348.809 562.774,352.534 563.623,365.753 564.445,365.186 565.295,350.86 566.117,369.3 566.967,371.534 567.817,364.905 568.639,372.161 \n",
       "  569.489,362.787 570.311,371.029 571.161,370.873 572.01,373.259 572.778,369.199 573.627,371.916 574.45,370.976 575.299,368.392 576.121,372.36 576.971,369.845 \n",
       "  577.821,372.395 578.643,373.518 579.493,369.641 580.315,371.973 \n",
       "  \"/>\n",
       "<polygon clip-path=\"url(#clip5000)\" points=\"\n",
       "489.799,62.931 562.315,62.931 562.315,32.691 489.799,32.691 \n",
       "  \" fill=\"#ffffff\" fill-opacity=\"1\"/>\n",
       "<polyline clip-path=\"url(#clip5000)\" style=\"stroke:#000000; stroke-width:1; stroke-opacity:1; fill:none\" points=\"\n",
       "  489.799,62.931 562.315,62.931 562.315,32.691 489.799,32.691 489.799,62.931 \n",
       "  \"/>\n",
       "<polyline clip-path=\"url(#clip5000)\" style=\"stroke:#009af9; stroke-width:1; stroke-opacity:1; fill:none\" points=\"\n",
       "  495.799,47.811 531.799,47.811 \n",
       "  \"/>\n",
       "<g clip-path=\"url(#clip5000)\">\n",
       "<text style=\"fill:#000000; fill-opacity:1; font-family:Arial,Helvetica Neue,Helvetica,sans-serif; font-size:12; text-anchor:start;\" transform=\"rotate(0, 537.799, 52.311)\" x=\"537.799\" y=\"52.311\">y1</text>\n",
       "</g>\n",
       "</svg>\n"
      ]
     },
     "execution_count": 200,
     "metadata": {},
     "output_type": "execute_result"
    }
   ],
   "source": [
    "PC1 = -Matrix(σ_hat_t[:, 3:end]) * decomp[2][:, 6]\n",
    "\n",
    "plot(data_monthly[:date], PC1)"
   ]
  },
  {
   "cell_type": "code",
   "execution_count": 202,
   "metadata": {},
   "outputs": [
    {
     "name": "stdout",
     "output_type": "stream",
     "text": [
      "Symbol: ret\n",
      "GLM.LinearModel{GLM.LmResp{Array{Float64,1}},GLM.DensePredChol{Float64,Base.LinAlg.Cholesky{Float64,Array{Float64,2}}}}:\n",
      "\n",
      "Coefficients:\n",
      "     Estimate  Std.Error  t value Pr(>|t|)\n",
      "x1   -1.20843   0.342601 -3.52721   0.0004\n",
      "x2   0.889466 0.00685642  129.727   <1e-99\n",
      "\n",
      "Symbol: SMB\n",
      "GLM.LinearModel{GLM.LmResp{Array{Float64,1}},GLM.DensePredChol{Float64,Base.LinAlg.Cholesky{Float64,Array{Float64,2}}}}:\n",
      "\n",
      "Coefficients:\n",
      "     Estimate  Std.Error t value Pr(>|t|)\n",
      "x1    1.20047   0.276181  4.3467    <1e-4\n",
      "x2   0.184019 0.00552716 33.2936   <1e-99\n",
      "\n",
      "Symbol: HML\n",
      "GLM.LinearModel{GLM.LmResp{Array{Float64,1}},GLM.DensePredChol{Float64,Base.LinAlg.Cholesky{Float64,Array{Float64,2}}}}:\n",
      "\n",
      "Coefficients:\n",
      "     Estimate  Std.Error t value Pr(>|t|)\n",
      "x1   0.956977   0.300852 3.18089   0.0015\n",
      "x2   0.178807 0.00602089 29.6978   <1e-99\n",
      "\n",
      "Symbol: RMW\n",
      "GLM.LinearModel{GLM.LmResp{Array{Float64,1}},GLM.DensePredChol{Float64,Base.LinAlg.Cholesky{Float64,Array{Float64,2}}}}:\n",
      "\n",
      "Coefficients:\n",
      "      Estimate  Std.Error t value Pr(>|t|)\n",
      "x1     1.36014    0.25077 5.42386    <1e-7\n",
      "x2   0.0633628 0.00501862 12.6255   <1e-32\n",
      "\n",
      "Symbol: CMA\n",
      "GLM.LinearModel{GLM.LmResp{Array{Float64,1}},GLM.DensePredChol{Float64,Base.LinAlg.Cholesky{Float64,Array{Float64,2}}}}:\n",
      "\n",
      "Coefficients:\n",
      "      Estimate  Std.Error t value Pr(>|t|)\n",
      "x1      1.8273   0.189084 9.66395   <1e-20\n",
      "x2   0.0399275 0.00378411 10.5514   <1e-23\n",
      "\n",
      "Symbol: Mom\n",
      "GLM.LinearModel{GLM.LmResp{Array{Float64,1}},GLM.DensePredChol{Float64,Base.LinAlg.Cholesky{Float64,Array{Float64,2}}}}:\n",
      "\n",
      "Coefficients:\n",
      "     Estimate Std.Error t value Pr(>|t|)\n",
      "x1    1.41276   0.74004 1.90903   0.0567\n",
      "x2   0.370684 0.0148103 25.0288   <1e-96\n",
      "\n"
     ]
    },
    {
     "name": "stderr",
     "output_type": "stream",
     "text": [
      "\u001b[1m\u001b[33mWARNING: \u001b[39m\u001b[22m\u001b[33mccdf(d::UnivariateDistribution, X::AbstractArray) is deprecated, use ccdf.(d, X) instead.\u001b[39m\n",
      "Stacktrace:\n",
      " [1] \u001b[1mdepwarn\u001b[22m\u001b[22m\u001b[1m(\u001b[22m\u001b[22m::String, ::Symbol\u001b[1m)\u001b[22m\u001b[22m at \u001b[1m.\\deprecated.jl:70\u001b[22m\u001b[22m\n",
      " [2] \u001b[1mccdf\u001b[22m\u001b[22m\u001b[1m(\u001b[22m\u001b[22m::Distributions.FDist{Float64}, ::Array{Float64,1}\u001b[1m)\u001b[22m\u001b[22m at \u001b[1m.\\deprecated.jl:57\u001b[22m\u001b[22m\n",
      " [3] \u001b[1mcoeftable\u001b[22m\u001b[22m\u001b[1m(\u001b[22m\u001b[22m::GLM.LinearModel{GLM.LmResp{Array{Float64,1}},GLM.DensePredChol{Float64,Base.LinAlg.Cholesky{Float64,Array{Float64,2}}}}\u001b[1m)\u001b[22m\u001b[22m at \u001b[1mC:\\Users\\Max\\AppData\\Local\\JuliaPro-0.6.2.1\\pkgs-0.6.2.1\\v0.6\\GLM\\src\\lm.jl:154\u001b[22m\u001b[22m\n",
      " [4] \u001b[1mshow\u001b[22m\u001b[22m\u001b[1m(\u001b[22m\u001b[22m::Base.PipeEndpoint, ::GLM.LinearModel{GLM.LmResp{Array{Float64,1}},GLM.DensePredChol{Float64,Base.LinAlg.Cholesky{Float64,Array{Float64,2}}}}\u001b[1m)\u001b[22m\u001b[22m at \u001b[1mC:\\Users\\Max\\AppData\\Local\\JuliaPro-0.6.2.1\\pkgs-0.6.2.1\\v0.6\\GLM\\src\\linpred.jl:138\u001b[22m\u001b[22m\n",
      " [5] \u001b[1mprint\u001b[22m\u001b[22m\u001b[1m(\u001b[22m\u001b[22m::Base.PipeEndpoint, ::GLM.LinearModel{GLM.LmResp{Array{Float64,1}},GLM.DensePredChol{Float64,Base.LinAlg.Cholesky{Float64,Array{Float64,2}}}}\u001b[1m)\u001b[22m\u001b[22m at \u001b[1m.\\strings\\io.jl:29\u001b[22m\u001b[22m\n",
      " [6] \u001b[1mprint\u001b[22m\u001b[22m\u001b[1m(\u001b[22m\u001b[22m::GLM.LinearModel{GLM.LmResp{Array{Float64,1}},GLM.DensePredChol{Float64,Base.LinAlg.Cholesky{Float64,Array{Float64,2}}}}\u001b[1m)\u001b[22m\u001b[22m at \u001b[1m.\\coreio.jl:4\u001b[22m\u001b[22m\n",
      " [7] \u001b[1mmacro expansion\u001b[22m\u001b[22m at \u001b[1m.\\In[202]:5\u001b[22m\u001b[22m [inlined]\n",
      " [8] \u001b[1manonymous\u001b[22m\u001b[22m at \u001b[1m.\\<missing>:?\u001b[22m\u001b[22m\n",
      " [9] \u001b[1minclude_string\u001b[22m\u001b[22m\u001b[1m(\u001b[22m\u001b[22m::String, ::String\u001b[1m)\u001b[22m\u001b[22m at \u001b[1m.\\loading.jl:522\u001b[22m\u001b[22m\n",
      " [10] \u001b[1minclude_string\u001b[22m\u001b[22m\u001b[1m(\u001b[22m\u001b[22m::Module, ::String, ::String\u001b[1m)\u001b[22m\u001b[22m at \u001b[1mC:\\Users\\Max\\AppData\\Local\\JuliaPro-0.6.2.1\\pkgs-0.6.2.1\\v0.6\\Compat\\src\\Compat.jl:174\u001b[22m\u001b[22m\n",
      " [11] \u001b[1mexecute_request\u001b[22m\u001b[22m\u001b[1m(\u001b[22m\u001b[22m::ZMQ.Socket, ::IJulia.Msg\u001b[1m)\u001b[22m\u001b[22m at \u001b[1mC:\\Users\\Max\\AppData\\Local\\JuliaPro-0.6.2.1\\pkgs-0.6.2.1\\v0.6\\IJulia\\src\\execute_request.jl:154\u001b[22m\u001b[22m\n",
      " [12] \u001b[1m(::Compat.#inner#16{Array{Any,1},IJulia.#execute_request,Tuple{ZMQ.Socket,IJulia.Msg}})\u001b[22m\u001b[22m\u001b[1m(\u001b[22m\u001b[22m\u001b[1m)\u001b[22m\u001b[22m at \u001b[1mC:\\Users\\Max\\AppData\\Local\\JuliaPro-0.6.2.1\\pkgs-0.6.2.1\\v0.6\\Compat\\src\\Compat.jl:496\u001b[22m\u001b[22m\n",
      " [13] \u001b[1meventloop\u001b[22m\u001b[22m\u001b[1m(\u001b[22m\u001b[22m::ZMQ.Socket\u001b[1m)\u001b[22m\u001b[22m at \u001b[1mC:\\Users\\Max\\AppData\\Local\\JuliaPro-0.6.2.1\\pkgs-0.6.2.1\\v0.6\\IJulia\\src\\eventloop.jl:8\u001b[22m\u001b[22m\n",
      " [14] \u001b[1m(::IJulia.##14#17)\u001b[22m\u001b[22m\u001b[1m(\u001b[22m\u001b[22m\u001b[1m)\u001b[22m\u001b[22m at \u001b[1m.\\task.jl:335\u001b[22m\u001b[22m\n",
      "while loading In[202], in expression starting on line 3\n"
     ]
    }
   ],
   "source": [
    "X[:, 2] = PC1\n",
    "\n",
    "for field in [:ret, :SMB, :HML, :RMW, :CMA, :Mom]\n",
    "    println(\"Symbol: \" * string(field))\n",
    "    print(lm(X, σ_hat_t[field]))\n",
    "end"
   ]
  },
  {
   "cell_type": "code",
   "execution_count": null,
   "metadata": {},
   "outputs": [],
   "source": []
  }
 ],
 "metadata": {
  "kernelspec": {
   "display_name": "Julia 0.6.2",
   "language": "julia",
   "name": "julia-0.6"
  },
  "language_info": {
   "file_extension": ".jl",
   "mimetype": "application/julia",
   "name": "julia",
   "version": "0.6.2"
  }
 },
 "nbformat": 4,
 "nbformat_minor": 2
}
