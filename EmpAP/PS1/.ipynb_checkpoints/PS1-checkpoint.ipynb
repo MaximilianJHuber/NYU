{
 "cells": [
  {
   "cell_type": "markdown",
   "metadata": {},
   "source": [
    "\n",
    "# Empirical Asset Pricing - PS1\n",
    "## Task 1"
   ]
  },
  {
   "cell_type": "code",
   "execution_count": 42,
   "metadata": {},
   "outputs": [],
   "source": [
    "using CSV, DataFrames, NullableArrays"
   ]
  },
  {
   "cell_type": "code",
   "execution_count": 67,
   "metadata": {},
   "outputs": [],
   "source": [
    "df = CSV.read(\"./Data/a5986cc31aad4a02.csv\", delim=',', \n",
    "        types=[Date, Float64, Float64, Float64], \n",
    "        dateformat = DateFormat(\"yyyymmdd\"), nullable=false);"
   ]
  },
  {
   "cell_type": "markdown",
   "metadata": {},
   "source": [
    "### (b)"
   ]
  },
  {
   "cell_type": "code",
   "execution_count": 83,
   "metadata": {},
   "outputs": [],
   "source": [
    "df[:div] = collect((df[:vwretd]-df[:vwretx])[1:end].*df[:totval][vcat(1, 1:(size(df, 1)-1))]);"
   ]
  },
  {
   "cell_type": "code",
   "execution_count": 96,
   "metadata": {},
   "outputs": [
    {
     "data": {
      "text/html": [
       "<table class=\"data-frame\"><thead><tr><th></th><th>DATE</th><th>vwretd</th><th>vwretx</th><th>totval</th><th>div</th></tr></thead><tbody><tr><th>1</th><td>1945-01-31</td><td>0.020218</td><td>0.018951</td><td>4.78619703e7</td><td>60641.11637010003</td></tr><tr><th>2</th><td>1945-02-28</td><td>0.064477</td><td>0.059894</td><td>5.07251836e7</td><td>219351.40988490017</td></tr><tr><th>3</th><td>1945-03-31</td><td>-0.039177</td><td>-0.043164</td><td>4.85517438e7</td><td>202241.30701320022</td></tr><tr><th>4</th><td>1945-04-30</td><td>0.078232</td><td>0.076981</td><td>5.23206432e7</td><td>60738.2314938001</td></tr><tr><th>5</th><td>1945-05-31</td><td>0.018185</td><td>0.012439</td><td>5.31954659e7</td><td>300634.4158272</td></tr><tr><th>6</th><td>1945-06-30</td><td>0.004676</td><td>0.001087</td><td>5.32805822e7</td><td>190918.52711509995</td></tr></tbody></table>"
      ],
      "text/plain": [
       "6×5 DataFrames.DataFrame\n",
       "│ Row │ DATE       │ vwretd    │ vwretx    │ totval    │ div       │\n",
       "├─────┼────────────┼───────────┼───────────┼───────────┼───────────┤\n",
       "│ 1   │ 1945-01-31 │ 0.020218  │ 0.018951  │ 4.7862e7  │ 60641.1   │\n",
       "│ 2   │ 1945-02-28 │ 0.064477  │ 0.059894  │ 5.07252e7 │ 2.19351e5 │\n",
       "│ 3   │ 1945-03-31 │ -0.039177 │ -0.043164 │ 4.85517e7 │ 2.02241e5 │\n",
       "│ 4   │ 1945-04-30 │ 0.078232  │ 0.076981  │ 5.23206e7 │ 60738.2   │\n",
       "│ 5   │ 1945-05-31 │ 0.018185  │ 0.012439  │ 5.31955e7 │ 3.00634e5 │\n",
       "│ 6   │ 1945-06-30 │ 0.004676  │ 0.001087  │ 5.32806e7 │ 1.90919e5 │"
      ]
     },
     "execution_count": 96,
     "metadata": {},
     "output_type": "execute_result"
    }
   ],
   "source": [
    "head(df)"
   ]
  },
  {
   "cell_type": "markdown",
   "metadata": {},
   "source": [
    "### (c)"
   ]
  },
  {
   "cell_type": "code",
   "execution_count": 102,
   "metadata": {},
   "outputs": [],
   "source": [
    "cumdiff_cash = zeros(floor(Int64, size(df, 1)/12))\n",
    "cumdiff_mkt = zeros(floor(Int64, size(df, 1)/12))\n",
    "\n",
    "for t in 1:size(df, 1)\n",
    "    cumdiff_cash[1+floor(Int64, (t-1)/12)] += df[:div][t]\n",
    "    \n",
    "    if ((t-1)%12 == 0) #January\n",
    "        cumdiff_mkt[1+floor(Int64, (t-1)/12)] = df[:div][t]\n",
    "        else \n",
    "        cumdiff_mkt[1+floor(Int64, (t-1)/12)] = cumdiff_mkt[1+floor(Int64, (t-1)/12)]*(1+df[:vwretd][t-1]) + df[:div][t]\n",
    "    end\n",
    "end"
   ]
  },
  {
   "cell_type": "code",
   "execution_count": null,
   "metadata": {},
   "outputs": [],
   "source": []
  }
 ],
 "metadata": {
  "kernelspec": {
   "display_name": "Julia 0.6.2",
   "language": "julia",
   "name": "julia-0.6"
  },
  "language_info": {
   "file_extension": ".jl",
   "mimetype": "application/julia",
   "name": "julia",
   "version": "0.6.2"
  }
 },
 "nbformat": 4,
 "nbformat_minor": 2
}
