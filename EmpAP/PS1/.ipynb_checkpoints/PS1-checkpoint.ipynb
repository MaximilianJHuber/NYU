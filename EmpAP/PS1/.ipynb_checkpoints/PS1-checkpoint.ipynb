{
 "cells": [
  {
   "cell_type": "markdown",
   "metadata": {},
   "source": [
    "\n",
    "# Empirical Asset Pricing - PS1\n",
    "## Task 1"
   ]
  },
  {
   "cell_type": "code",
   "execution_count": 5,
   "metadata": {},
   "outputs": [],
   "source": [
    "using CSV, DataFrames, NullableArrays, Plots; gr();"
   ]
  },
  {
   "cell_type": "code",
   "execution_count": 6,
   "metadata": {},
   "outputs": [],
   "source": [
    "df = CSV.read(\"./Data/a5986cc31aad4a02.csv\", delim=',', \n",
    "        types=[Date, Float64, Float64, Float64], \n",
    "        dateformat = DateFormat(\"yyyymmdd\"), nullable=false);"
   ]
  },
  {
   "cell_type": "markdown",
   "metadata": {},
   "source": [
    "### (b)"
   ]
  },
  {
   "cell_type": "code",
   "execution_count": 9,
   "metadata": {},
   "outputs": [],
   "source": [
    "df[:div] = collect((df[:vwretd]-df[:vwretx])[1:end].*df[:totval][vcat(1, 1:(size(df, 1)-1))])\n",
    "df[:year] = Dates.value.(Dates.Year.(df[:DATE]))\n",
    "df[:month] = Dates.value.(Dates.Month.(df[:DATE]));"
   ]
  },
  {
   "cell_type": "code",
   "execution_count": 10,
   "metadata": {},
   "outputs": [
    {
     "data": {
      "text/html": [
       "<table class=\"data-frame\"><thead><tr><th></th><th>DATE</th><th>vwretd</th><th>vwretx</th><th>totval</th><th>div</th><th>year</th><th>month</th></tr></thead><tbody><tr><th>1</th><td>1945-01-31</td><td>0.020218</td><td>0.018951</td><td>4.78619703e7</td><td>60641.11637010003</td><td>1945</td><td>1</td></tr><tr><th>2</th><td>1945-02-28</td><td>0.064477</td><td>0.059894</td><td>5.07251836e7</td><td>219351.40988490017</td><td>1945</td><td>2</td></tr><tr><th>3</th><td>1945-03-31</td><td>-0.039177</td><td>-0.043164</td><td>4.85517438e7</td><td>202241.30701320022</td><td>1945</td><td>3</td></tr><tr><th>4</th><td>1945-04-30</td><td>0.078232</td><td>0.076981</td><td>5.23206432e7</td><td>60738.2314938001</td><td>1945</td><td>4</td></tr><tr><th>5</th><td>1945-05-31</td><td>0.018185</td><td>0.012439</td><td>5.31954659e7</td><td>300634.4158272</td><td>1945</td><td>5</td></tr><tr><th>6</th><td>1945-06-30</td><td>0.004676</td><td>0.001087</td><td>5.32805822e7</td><td>190918.52711509995</td><td>1945</td><td>6</td></tr></tbody></table>"
      ],
      "text/plain": [
       "6×7 DataFrames.DataFrame\n",
       "│ Row │ DATE       │ vwretd    │ vwretx    │ totval    │ div       │ year │\n",
       "├─────┼────────────┼───────────┼───────────┼───────────┼───────────┼──────┤\n",
       "│ 1   │ 1945-01-31 │ 0.020218  │ 0.018951  │ 4.7862e7  │ 60641.1   │ 1945 │\n",
       "│ 2   │ 1945-02-28 │ 0.064477  │ 0.059894  │ 5.07252e7 │ 2.19351e5 │ 1945 │\n",
       "│ 3   │ 1945-03-31 │ -0.039177 │ -0.043164 │ 4.85517e7 │ 2.02241e5 │ 1945 │\n",
       "│ 4   │ 1945-04-30 │ 0.078232  │ 0.076981  │ 5.23206e7 │ 60738.2   │ 1945 │\n",
       "│ 5   │ 1945-05-31 │ 0.018185  │ 0.012439  │ 5.31955e7 │ 3.00634e5 │ 1945 │\n",
       "│ 6   │ 1945-06-30 │ 0.004676  │ 0.001087  │ 5.32806e7 │ 1.90919e5 │ 1945 │\n",
       "\n",
       "│ Row │ month │\n",
       "├─────┼───────┤\n",
       "│ 1   │ 1     │\n",
       "│ 2   │ 2     │\n",
       "│ 3   │ 3     │\n",
       "│ 4   │ 4     │\n",
       "│ 5   │ 5     │\n",
       "│ 6   │ 6     │"
      ]
     },
     "execution_count": 10,
     "metadata": {},
     "output_type": "execute_result"
    }
   ],
   "source": [
    "head(df)"
   ]
  },
  {
   "cell_type": "markdown",
   "metadata": {},
   "source": [
    "### (c)"
   ]
  },
  {
   "cell_type": "code",
   "execution_count": 11,
   "metadata": {},
   "outputs": [],
   "source": [
    "yearly_data = by(df, [:year], df -> sum(df[:div]))\n",
    "\n",
    "yearly_data[:mkt_div] = zeros(floor(Int64, size(df, 1)/12))\n",
    "\n",
    "for t in 1:size(df, 1)   \n",
    "    if ((t-1)%12 == 0) #January\n",
    "        yearly_data[:mkt_div][1+floor(Int64, (t-1)/12)] = df[:div][t]\n",
    "        else #other months\n",
    "        yearly_data[:mkt_div][1+floor(Int64, (t-1)/12)] = \n",
    "            yearly_data[:mkt_div][1+floor(Int64, (t-1)/12)]*(1+df[:vwretd][t-1]) + df[:div][t]\n",
    "    end\n",
    "end\n",
    "\n",
    "names!(yearly_data, [:year, :cash_div, :mkt_div]);\n"
   ]
  },
  {
   "cell_type": "code",
   "execution_count": 13,
   "metadata": {
    "scrolled": false
   },
   "outputs": [
    {
     "data": {
      "text/html": [
       "<?xml version=\"1.0\" encoding=\"utf-8\"?>\n",
       "<svg xmlns=\"http://www.w3.org/2000/svg\" xmlns:xlink=\"http://www.w3.org/1999/xlink\" width=\"600\" height=\"400\" viewBox=\"0 0 600 400\">\n",
       "<defs>\n",
       "  <clipPath id=\"clip2100\">\n",
       "    <rect x=\"0\" y=\"0\" width=\"600\" height=\"400\"/>\n",
       "  </clipPath>\n",
       "</defs>\n",
       "<polygon clip-path=\"url(#clip2100)\" points=\"\n",
       "0,400 600,400 600,0 0,0 \n",
       "  \" fill=\"#ffffff\" fill-opacity=\"1\"/>\n",
       "<defs>\n",
       "  <clipPath id=\"clip2101\">\n",
       "    <rect x=\"120\" y=\"0\" width=\"421\" height=\"400\"/>\n",
       "  </clipPath>\n",
       "</defs>\n",
       "<polygon clip-path=\"url(#clip2100)\" points=\"\n",
       "75.0547,375.813 580.315,375.813 580.315,31.4961 75.0547,31.4961 \n",
       "  \" fill=\"#ffffff\" fill-opacity=\"1\"/>\n",
       "<defs>\n",
       "  <clipPath id=\"clip2102\">\n",
       "    <rect x=\"75\" y=\"31\" width=\"506\" height=\"345\"/>\n",
       "  </clipPath>\n",
       "</defs>\n",
       "<polyline clip-path=\"url(#clip2102)\" style=\"stroke:#000000; stroke-width:0.5; stroke-opacity:0.1; fill:none\" points=\"\n",
       "  110.636,375.813 110.636,31.4961 \n",
       "  \"/>\n",
       "<polyline clip-path=\"url(#clip2102)\" style=\"stroke:#000000; stroke-width:0.5; stroke-opacity:0.1; fill:none\" points=\"\n",
       "  181.8,375.813 181.8,31.4961 \n",
       "  \"/>\n",
       "<polyline clip-path=\"url(#clip2102)\" style=\"stroke:#000000; stroke-width:0.5; stroke-opacity:0.1; fill:none\" points=\"\n",
       "  252.963,375.813 252.963,31.4961 \n",
       "  \"/>\n",
       "<polyline clip-path=\"url(#clip2102)\" style=\"stroke:#000000; stroke-width:0.5; stroke-opacity:0.1; fill:none\" points=\"\n",
       "  324.127,375.813 324.127,31.4961 \n",
       "  \"/>\n",
       "<polyline clip-path=\"url(#clip2102)\" style=\"stroke:#000000; stroke-width:0.5; stroke-opacity:0.1; fill:none\" points=\"\n",
       "  395.29,375.813 395.29,31.4961 \n",
       "  \"/>\n",
       "<polyline clip-path=\"url(#clip2102)\" style=\"stroke:#000000; stroke-width:0.5; stroke-opacity:0.1; fill:none\" points=\"\n",
       "  466.453,375.813 466.453,31.4961 \n",
       "  \"/>\n",
       "<polyline clip-path=\"url(#clip2102)\" style=\"stroke:#000000; stroke-width:0.5; stroke-opacity:0.1; fill:none\" points=\"\n",
       "  537.617,375.813 537.617,31.4961 \n",
       "  \"/>\n",
       "<polyline clip-path=\"url(#clip2102)\" style=\"stroke:#000000; stroke-width:0.5; stroke-opacity:0.1; fill:none\" points=\"\n",
       "  75.0547,326.612 580.315,326.612 \n",
       "  \"/>\n",
       "<polyline clip-path=\"url(#clip2102)\" style=\"stroke:#000000; stroke-width:0.5; stroke-opacity:0.1; fill:none\" points=\"\n",
       "  75.0547,276.278 580.315,276.278 \n",
       "  \"/>\n",
       "<polyline clip-path=\"url(#clip2102)\" style=\"stroke:#000000; stroke-width:0.5; stroke-opacity:0.1; fill:none\" points=\"\n",
       "  75.0547,225.945 580.315,225.945 \n",
       "  \"/>\n",
       "<polyline clip-path=\"url(#clip2102)\" style=\"stroke:#000000; stroke-width:0.5; stroke-opacity:0.1; fill:none\" points=\"\n",
       "  75.0547,175.611 580.315,175.611 \n",
       "  \"/>\n",
       "<polyline clip-path=\"url(#clip2102)\" style=\"stroke:#000000; stroke-width:0.5; stroke-opacity:0.1; fill:none\" points=\"\n",
       "  75.0547,125.277 580.315,125.277 \n",
       "  \"/>\n",
       "<polyline clip-path=\"url(#clip2102)\" style=\"stroke:#000000; stroke-width:0.5; stroke-opacity:0.1; fill:none\" points=\"\n",
       "  75.0547,74.9432 580.315,74.9432 \n",
       "  \"/>\n",
       "<polyline clip-path=\"url(#clip2100)\" style=\"stroke:#000000; stroke-width:1; stroke-opacity:1; fill:none\" points=\"\n",
       "  75.0547,375.813 580.315,375.813 \n",
       "  \"/>\n",
       "<polyline clip-path=\"url(#clip2100)\" style=\"stroke:#000000; stroke-width:1; stroke-opacity:1; fill:none\" points=\"\n",
       "  75.0547,375.813 75.0547,31.4961 \n",
       "  \"/>\n",
       "<polyline clip-path=\"url(#clip2100)\" style=\"stroke:#000000; stroke-width:1; stroke-opacity:1; fill:none\" points=\"\n",
       "  110.636,375.813 110.636,370.649 \n",
       "  \"/>\n",
       "<polyline clip-path=\"url(#clip2100)\" style=\"stroke:#000000; stroke-width:1; stroke-opacity:1; fill:none\" points=\"\n",
       "  181.8,375.813 181.8,370.649 \n",
       "  \"/>\n",
       "<polyline clip-path=\"url(#clip2100)\" style=\"stroke:#000000; stroke-width:1; stroke-opacity:1; fill:none\" points=\"\n",
       "  252.963,375.813 252.963,370.649 \n",
       "  \"/>\n",
       "<polyline clip-path=\"url(#clip2100)\" style=\"stroke:#000000; stroke-width:1; stroke-opacity:1; fill:none\" points=\"\n",
       "  324.127,375.813 324.127,370.649 \n",
       "  \"/>\n",
       "<polyline clip-path=\"url(#clip2100)\" style=\"stroke:#000000; stroke-width:1; stroke-opacity:1; fill:none\" points=\"\n",
       "  395.29,375.813 395.29,370.649 \n",
       "  \"/>\n",
       "<polyline clip-path=\"url(#clip2100)\" style=\"stroke:#000000; stroke-width:1; stroke-opacity:1; fill:none\" points=\"\n",
       "  466.453,375.813 466.453,370.649 \n",
       "  \"/>\n",
       "<polyline clip-path=\"url(#clip2100)\" style=\"stroke:#000000; stroke-width:1; stroke-opacity:1; fill:none\" points=\"\n",
       "  537.617,375.813 537.617,370.649 \n",
       "  \"/>\n",
       "<polyline clip-path=\"url(#clip2100)\" style=\"stroke:#000000; stroke-width:1; stroke-opacity:1; fill:none\" points=\"\n",
       "  75.0547,326.612 82.6336,326.612 \n",
       "  \"/>\n",
       "<polyline clip-path=\"url(#clip2100)\" style=\"stroke:#000000; stroke-width:1; stroke-opacity:1; fill:none\" points=\"\n",
       "  75.0547,276.278 82.6336,276.278 \n",
       "  \"/>\n",
       "<polyline clip-path=\"url(#clip2100)\" style=\"stroke:#000000; stroke-width:1; stroke-opacity:1; fill:none\" points=\"\n",
       "  75.0547,225.945 82.6336,225.945 \n",
       "  \"/>\n",
       "<polyline clip-path=\"url(#clip2100)\" style=\"stroke:#000000; stroke-width:1; stroke-opacity:1; fill:none\" points=\"\n",
       "  75.0547,175.611 82.6336,175.611 \n",
       "  \"/>\n",
       "<polyline clip-path=\"url(#clip2100)\" style=\"stroke:#000000; stroke-width:1; stroke-opacity:1; fill:none\" points=\"\n",
       "  75.0547,125.277 82.6336,125.277 \n",
       "  \"/>\n",
       "<polyline clip-path=\"url(#clip2100)\" style=\"stroke:#000000; stroke-width:1; stroke-opacity:1; fill:none\" points=\"\n",
       "  75.0547,74.9432 82.6336,74.9432 \n",
       "  \"/>\n",
       "<g clip-path=\"url(#clip2100)\">\n",
       "<text style=\"fill:#000000; fill-opacity:1; font-family:Arial,Helvetica Neue,Helvetica,sans-serif; font-size:12; text-anchor:middle;\" transform=\"rotate(0, 110.636, 389.613)\" x=\"110.636\" y=\"389.613\">1950</text>\n",
       "</g>\n",
       "<g clip-path=\"url(#clip2100)\">\n",
       "<text style=\"fill:#000000; fill-opacity:1; font-family:Arial,Helvetica Neue,Helvetica,sans-serif; font-size:12; text-anchor:middle;\" transform=\"rotate(0, 181.8, 389.613)\" x=\"181.8\" y=\"389.613\">1960</text>\n",
       "</g>\n",
       "<g clip-path=\"url(#clip2100)\">\n",
       "<text style=\"fill:#000000; fill-opacity:1; font-family:Arial,Helvetica Neue,Helvetica,sans-serif; font-size:12; text-anchor:middle;\" transform=\"rotate(0, 252.963, 389.613)\" x=\"252.963\" y=\"389.613\">1970</text>\n",
       "</g>\n",
       "<g clip-path=\"url(#clip2100)\">\n",
       "<text style=\"fill:#000000; fill-opacity:1; font-family:Arial,Helvetica Neue,Helvetica,sans-serif; font-size:12; text-anchor:middle;\" transform=\"rotate(0, 324.127, 389.613)\" x=\"324.127\" y=\"389.613\">1980</text>\n",
       "</g>\n",
       "<g clip-path=\"url(#clip2100)\">\n",
       "<text style=\"fill:#000000; fill-opacity:1; font-family:Arial,Helvetica Neue,Helvetica,sans-serif; font-size:12; text-anchor:middle;\" transform=\"rotate(0, 395.29, 389.613)\" x=\"395.29\" y=\"389.613\">1990</text>\n",
       "</g>\n",
       "<g clip-path=\"url(#clip2100)\">\n",
       "<text style=\"fill:#000000; fill-opacity:1; font-family:Arial,Helvetica Neue,Helvetica,sans-serif; font-size:12; text-anchor:middle;\" transform=\"rotate(0, 466.453, 389.613)\" x=\"466.453\" y=\"389.613\">2000</text>\n",
       "</g>\n",
       "<g clip-path=\"url(#clip2100)\">\n",
       "<text style=\"fill:#000000; fill-opacity:1; font-family:Arial,Helvetica Neue,Helvetica,sans-serif; font-size:12; text-anchor:middle;\" transform=\"rotate(0, 537.617, 389.613)\" x=\"537.617\" y=\"389.613\">2010</text>\n",
       "</g>\n",
       "<g clip-path=\"url(#clip2100)\">\n",
       "<text style=\"fill:#000000; fill-opacity:1; font-family:Arial,Helvetica Neue,Helvetica,sans-serif; font-size:12; text-anchor:end;\" transform=\"rotate(0, 69.0547, 331.112)\" x=\"69.0547\" y=\"331.112\">100000000</text>\n",
       "</g>\n",
       "<g clip-path=\"url(#clip2100)\">\n",
       "<text style=\"fill:#000000; fill-opacity:1; font-family:Arial,Helvetica Neue,Helvetica,sans-serif; font-size:12; text-anchor:end;\" transform=\"rotate(0, 69.0547, 280.778)\" x=\"69.0547\" y=\"280.778\">200000000</text>\n",
       "</g>\n",
       "<g clip-path=\"url(#clip2100)\">\n",
       "<text style=\"fill:#000000; fill-opacity:1; font-family:Arial,Helvetica Neue,Helvetica,sans-serif; font-size:12; text-anchor:end;\" transform=\"rotate(0, 69.0547, 230.445)\" x=\"69.0547\" y=\"230.445\">300000000</text>\n",
       "</g>\n",
       "<g clip-path=\"url(#clip2100)\">\n",
       "<text style=\"fill:#000000; fill-opacity:1; font-family:Arial,Helvetica Neue,Helvetica,sans-serif; font-size:12; text-anchor:end;\" transform=\"rotate(0, 69.0547, 180.111)\" x=\"69.0547\" y=\"180.111\">400000000</text>\n",
       "</g>\n",
       "<g clip-path=\"url(#clip2100)\">\n",
       "<text style=\"fill:#000000; fill-opacity:1; font-family:Arial,Helvetica Neue,Helvetica,sans-serif; font-size:12; text-anchor:end;\" transform=\"rotate(0, 69.0547, 129.777)\" x=\"69.0547\" y=\"129.777\">500000000</text>\n",
       "</g>\n",
       "<g clip-path=\"url(#clip2100)\">\n",
       "<text style=\"fill:#000000; fill-opacity:1; font-family:Arial,Helvetica Neue,Helvetica,sans-serif; font-size:12; text-anchor:end;\" transform=\"rotate(0, 69.0547, 79.4432)\" x=\"69.0547\" y=\"79.4432\">600000000</text>\n",
       "</g>\n",
       "<g clip-path=\"url(#clip2100)\">\n",
       "<text style=\"fill:#000000; fill-opacity:1; font-family:Arial,Helvetica Neue,Helvetica,sans-serif; font-size:21; text-anchor:middle;\" transform=\"rotate(0, 327.685, 18)\" x=\"327.685\" y=\"18\">Annual Dividends invested in ...</text>\n",
       "</g>\n",
       "<polyline clip-path=\"url(#clip2102)\" style=\"stroke:#009af9; stroke-width:1; stroke-opacity:1; fill:none\" points=\"\n",
       "  75.0547,375.813 82.171,375.638 89.2874,375.319 96.4037,375.055 103.52,374.862 110.636,374.296 117.753,374.26 124.869,374.142 131.985,374 139.102,373.753 \n",
       "  146.218,373.263 153.334,372.877 160.451,372.6 167.567,372.646 174.683,372.32 181.8,372.077 188.916,371.783 196.033,371.158 203.149,370.503 210.265,369.835 \n",
       "  217.382,369.043 224.498,368.447 231.614,368.105 238.731,367.502 245.847,366.713 252.963,366.811 260.08,366.582 267.196,365.998 274.312,363.679 281.429,362.592 \n",
       "  288.545,361.984 295.661,359.999 302.778,357.139 309.894,354.756 317.01,351.789 324.127,348.743 331.243,345.716 338.359,344.246 345.476,342.166 352.592,339.79 \n",
       "  359.708,338.203 366.825,335.185 373.941,331.088 381.057,322.849 388.174,322.201 395.29,321.813 402.406,322.476 409.523,320.581 416.639,316.72 423.755,311.915 \n",
       "  430.872,306.171 437.988,300.58 445.104,295.657 452.221,290.418 459.337,282.009 466.453,282.718 473.57,282.775 480.686,279.3 487.803,265.251 494.919,229.719 \n",
       "  502.035,225.3 509.152,202.309 516.268,180.694 523.384,185.025 530.501,217.041 537.617,202.49 544.733,182.179 551.85,129.838 558.966,123.316 566.082,87.5039 \n",
       "  573.199,65.5228 580.315,54.5885 \n",
       "  \"/>\n",
       "<polyline clip-path=\"url(#clip2102)\" style=\"stroke:#e26f46; stroke-width:1; stroke-opacity:1; fill:none\" points=\"\n",
       "  75.0547,375.613 82.171,375.778 89.2874,375.303 96.4037,375.129 103.52,374.664 110.636,374.034 117.753,374.13 124.869,373.964 131.985,373.91 139.102,373.17 \n",
       "  146.218,372.867 153.334,372.883 160.451,372.825 167.567,371.88 174.683,372.197 181.8,371.96 188.916,371.266 196.033,371.022 203.149,370.122 210.265,369.417 \n",
       "  217.382,368.582 224.498,368.803 231.614,367.607 238.731,366.193 245.847,367.067 252.963,366.174 260.08,366.788 267.196,365.128 274.312,365.106 281.429,364.51 \n",
       "  288.545,360.734 295.661,359.508 302.778,356.913 309.894,354.255 317.01,349.63 324.127,341.943 331.243,345.425 338.359,337.237 345.476,339.896 352.592,338.371 \n",
       "  359.708,334.094 366.825,332.981 373.941,339.469 381.057,320.824 388.174,317.347 395.29,323.6 402.406,320.57 409.523,317.402 416.639,314.345 423.755,312.774 \n",
       "  430.872,295.836 437.988,290.934 445.104,285.777 452.221,284.506 459.337,274.501 466.453,292.972 473.57,286.332 480.686,284.129 487.803,248.41 494.919,220.649 \n",
       "  502.035,216.302 509.152,188.509 516.268,177.511 523.384,239.902 530.501,182.54 537.617,189.366 544.733,188.621 551.85,120.814 558.966,94.3218 566.082,69.8774 \n",
       "  573.199,64.8239 580.315,31.4961 \n",
       "  \"/>\n",
       "<polygon clip-path=\"url(#clip2100)\" points=\"\n",
       "466.096,97.7361 562.315,97.7361 562.315,52.3761 466.096,52.3761 \n",
       "  \" fill=\"#ffffff\" fill-opacity=\"1\"/>\n",
       "<polyline clip-path=\"url(#clip2100)\" style=\"stroke:#000000; stroke-width:1; stroke-opacity:1; fill:none\" points=\"\n",
       "  466.096,97.7361 562.315,97.7361 562.315,52.3761 466.096,52.3761 466.096,97.7361 \n",
       "  \"/>\n",
       "<polyline clip-path=\"url(#clip2100)\" style=\"stroke:#009af9; stroke-width:1; stroke-opacity:1; fill:none\" points=\"\n",
       "  472.096,67.4961 508.096,67.4961 \n",
       "  \"/>\n",
       "<g clip-path=\"url(#clip2100)\">\n",
       "<text style=\"fill:#000000; fill-opacity:1; font-family:Arial,Helvetica Neue,Helvetica,sans-serif; font-size:12; text-anchor:start;\" transform=\"rotate(0, 514.096, 71.9961)\" x=\"514.096\" y=\"71.9961\">Cash</text>\n",
       "</g>\n",
       "<polyline clip-path=\"url(#clip2100)\" style=\"stroke:#e26f46; stroke-width:1; stroke-opacity:1; fill:none\" points=\"\n",
       "  472.096,82.6161 508.096,82.6161 \n",
       "  \"/>\n",
       "<g clip-path=\"url(#clip2100)\">\n",
       "<text style=\"fill:#000000; fill-opacity:1; font-family:Arial,Helvetica Neue,Helvetica,sans-serif; font-size:12; text-anchor:start;\" transform=\"rotate(0, 514.096, 87.1161)\" x=\"514.096\" y=\"87.1161\">Market</text>\n",
       "</g>\n",
       "</svg>\n"
      ]
     },
     "execution_count": 13,
     "metadata": {},
     "output_type": "execute_result"
    }
   ],
   "source": [
    "plot(yearly_data[:year], yearly_data[:cash_div], label=\"Cash\", title=\"Annual Dividends invested in ...\")\n",
    "plot!(yearly_data[:year], yearly_data[:mkt_div], label=\"Market\")"
   ]
  },
  {
   "cell_type": "markdown",
   "metadata": {},
   "source": [
    "### (d)"
   ]
  },
  {
   "cell_type": "code",
   "execution_count": 39,
   "metadata": {},
   "outputs": [],
   "source": [
    "yearly_data[:ret] = log.(1 .+ by(df, [:year], df -> prod(1 .+ df[:vwretd])-1)[:x1]);"
   ]
  },
  {
   "cell_type": "code",
   "execution_count": 44,
   "metadata": {},
   "outputs": [],
   "source": [
    "yearly_data[:cash_div_growth] = \n",
    "    vcat(0, log.(yearly_data[:cash_div][2:end]./yearly_data[:cash_div][1:end-1]))\n",
    "\n",
    "yearly_data[:mkt_div_growth] = \n",
    "    vcat(0, log.(yearly_data[:mkt_div][2:end]./yearly_data[:mkt_div][1:end-1]));"
   ]
  },
  {
   "cell_type": "code",
   "execution_count": 45,
   "metadata": {},
   "outputs": [],
   "source": [
    "yearly_data[:totval] = by(df, [:year], df -> df[:totval][12])[:x1]\n",
    "yearly_data[:cash_logPD] = log.(vcat(df[:totval][1], yearly_data[:totval][1:end-1]) ./ yearly_data[:cash_div])\n",
    "yearly_data[:mkt_logPD] = log.(vcat(df[:totval][1], yearly_data[:totval][1:end-1]) ./ yearly_data[:mkt_div]);"
   ]
  },
  {
   "cell_type": "code",
   "execution_count": 46,
   "metadata": {},
   "outputs": [
    {
     "data": {
      "text/html": [
       "<table class=\"data-frame\"><thead><tr><th></th><th>year</th><th>cash_div</th><th>mkt_div</th><th>ret</th><th>totval</th><th>cash_logPD</th><th>mkt_logPD</th><th>cash_div_growth</th><th>mkt_div_growth</th></tr></thead><tbody><tr><th>1</th><td>1945</td><td>2.2498955541939e6</td><td>2.6477090784431132e6</td><td>0.3297315675814011</td><td>6.43306221e7</td><td>3.0574374548422156</td><td>2.8946264822199055</td><td>0.0</td><td>0.0</td></tr><tr><th>2</th><td>1946</td><td>2.599129628707599e6</td><td>2.319925542087249e6</td><td>-0.06636631210115301</td><td>5.96843836e7</td><td>3.208859125031376</td><td>3.322500664590109</td><td>0.144292836013417</td><td>-0.1321596761676265</td></tr><tr><th>3</th><td>1947</td><td>3.231865534292101e6</td><td>3.2636809326087963e6</td><td>0.032401138228775835</td><td>5.98853607e7</td><td>2.9160108696361577</td><td>2.906214726106961</td><td>0.21788290451050718</td><td>0.3413205875984371</td></tr><tr><th>4</th><td>1948</td><td>3.757383750905099e6</td><td>3.6104193620426296e6</td><td>0.021089536329669166</td><td>5.83012582e7</td><td>2.7687091753089534</td><td>2.808608147223721</td><td>0.15066336897900384</td><td>0.10096825353503949</td></tr><tr><th>5</th><td>1949</td><td>4.139718261552899e6</td><td>4.534289215466398e6</td><td>0.1832323109661117</td><td>6.73444034e7</td><td>2.6449959418421702</td><td>2.5539553363989964</td><td>0.0969048284729966</td><td>0.2278444058309379</td></tr><tr><th>6</th><td>1950</td><td>5.265457501587398e6</td><td>5.784492814004975e6</td><td>0.26599950371588965</td><td>8.48339739e7</td><td>2.5486517654512584</td><td>2.4546391179489726</td><td>0.24054030394266318</td><td>0.24351234600177502</td></tr></tbody></table>"
      ],
      "text/plain": [
       "6×9 DataFrames.DataFrame\n",
       "│ Row │ year │ cash_div  │ mkt_div   │ ret        │ totval    │ cash_logPD │\n",
       "├─────┼──────┼───────────┼───────────┼────────────┼───────────┼────────────┤\n",
       "│ 1   │ 1945 │ 2.2499e6  │ 2.64771e6 │ 0.329732   │ 6.43306e7 │ 3.05744    │\n",
       "│ 2   │ 1946 │ 2.59913e6 │ 2.31993e6 │ -0.0663663 │ 5.96844e7 │ 3.20886    │\n",
       "│ 3   │ 1947 │ 3.23187e6 │ 3.26368e6 │ 0.0324011  │ 5.98854e7 │ 2.91601    │\n",
       "│ 4   │ 1948 │ 3.75738e6 │ 3.61042e6 │ 0.0210895  │ 5.83013e7 │ 2.76871    │\n",
       "│ 5   │ 1949 │ 4.13972e6 │ 4.53429e6 │ 0.183232   │ 6.73444e7 │ 2.645      │\n",
       "│ 6   │ 1950 │ 5.26546e6 │ 5.78449e6 │ 0.266      │ 8.4834e7  │ 2.54865    │\n",
       "\n",
       "│ Row │ mkt_logPD │ cash_div_growth │ mkt_div_growth │\n",
       "├─────┼───────────┼─────────────────┼────────────────┤\n",
       "│ 1   │ 2.89463   │ 0.0             │ 0.0            │\n",
       "│ 2   │ 3.3225    │ 0.144293        │ -0.13216       │\n",
       "│ 3   │ 2.90621   │ 0.217883        │ 0.341321       │\n",
       "│ 4   │ 2.80861   │ 0.150663        │ 0.100968       │\n",
       "│ 5   │ 2.55396   │ 0.0969048       │ 0.227844       │\n",
       "│ 6   │ 2.45464   │ 0.24054         │ 0.243512       │"
      ]
     },
     "execution_count": 46,
     "metadata": {},
     "output_type": "execute_result"
    }
   ],
   "source": [
    "head(yearly_data)"
   ]
  },
  {
   "cell_type": "markdown",
   "metadata": {},
   "source": [
    "Mean and standard deviation of the cash- and market-invested dividends growth is:"
   ]
  },
  {
   "cell_type": "code",
   "execution_count": 47,
   "metadata": {},
   "outputs": [
    {
     "data": {
      "text/plain": [
       "2-element Array{Any,1}:\n",
       " [0.0784899]\n",
       " [0.0771895]"
      ]
     },
     "execution_count": 47,
     "metadata": {},
     "output_type": "execute_result"
    }
   ],
   "source": [
    "colwise(mean, yearly_data[[:cash_div_growth, :mkt_div_growth]])"
   ]
  },
  {
   "cell_type": "code",
   "execution_count": 48,
   "metadata": {},
   "outputs": [
    {
     "data": {
      "text/plain": [
       "2-element Array{Any,1}:\n",
       " [0.0686968]\n",
       " [0.133035] "
      ]
     },
     "execution_count": 48,
     "metadata": {},
     "output_type": "execute_result"
    }
   ],
   "source": [
    "colwise(std, yearly_data[[:cash_div_growth, :mkt_div_growth]])"
   ]
  },
  {
   "cell_type": "markdown",
   "metadata": {},
   "source": [
    "Investing the dividends in the market portfolio does not yield a higher average dividend growth, due to the [January effect](https://en.wikipedia.org/wiki/January_effect effect). The standard deviation of the market-invested dividend growth is also much higher, due to stock market fluctuations."
   ]
  },
  {
   "cell_type": "markdown",
   "metadata": {},
   "source": [
    "### (e)"
   ]
  },
  {
   "cell_type": "code",
   "execution_count": 49,
   "metadata": {},
   "outputs": [],
   "source": [
    "using GLM"
   ]
  },
  {
   "cell_type": "code",
   "execution_count": 50,
   "metadata": {},
   "outputs": [],
   "source": [
    "data_prep = yearly_data[2:end, [:year, :ret, :cash_logPD, :cash_div_growth]]\n",
    "data_prep[:lagged_cash_logPD] = yearly_data[:cash_logPD][1:end-1];"
   ]
  },
  {
   "cell_type": "markdown",
   "metadata": {},
   "source": [
    "Full Sample:"
   ]
  },
  {
   "cell_type": "code",
   "execution_count": 63,
   "metadata": {},
   "outputs": [
    {
     "data": {
      "text/plain": [
       "DataFrames.DataFrameRegressionModel{GLM.LinearModel{GLM.LmResp{Array{Float64,1}},GLM.DensePredChol{Float64,Base.LinAlg.Cholesky{Float64,Array{Float64,2}}}},Array{Float64,2}}\n",
       "\n",
       "Formula: ret ~ 1 + lagged_cash_logPD\n",
       "\n",
       "Coefficients:\n",
       "                     Estimate Std.Error  t value Pr(>|t|)\n",
       "(Intercept)          0.436997  0.153741  2.84242   0.0059\n",
       "lagged_cash_logPD  -0.0981936 0.0445517 -2.20404   0.0309\n"
      ]
     },
     "execution_count": 63,
     "metadata": {},
     "output_type": "execute_result"
    }
   ],
   "source": [
    "model = lm(@formula(ret ~ lagged_cash_logPD), data_prep)"
   ]
  },
  {
   "cell_type": "code",
   "execution_count": 60,
   "metadata": {},
   "outputs": [
    {
     "data": {
      "text/plain": [
       "0.06577203374640761"
      ]
     },
     "execution_count": 60,
     "metadata": {},
     "output_type": "execute_result"
    }
   ],
   "source": [
    "r2(model)"
   ]
  },
  {
   "cell_type": "code",
   "execution_count": 64,
   "metadata": {},
   "outputs": [
    {
     "data": {
      "text/plain": [
       "DataFrames.DataFrameRegressionModel{GLM.LinearModel{GLM.LmResp{Array{Float64,1}},GLM.DensePredChol{Float64,Base.LinAlg.Cholesky{Float64,Array{Float64,2}}}},Array{Float64,2}}\n",
       "\n",
       "Formula: cash_div_growth ~ 1 + lagged_cash_logPD\n",
       "\n",
       "Coefficients:\n",
       "                    Estimate Std.Error  t value Pr(>|t|)\n",
       "(Intercept)         0.174844 0.0652539  2.67945   0.0092\n",
       "lagged_cash_logPD  -0.027815 0.0189095 -1.47095   0.1459\n"
      ]
     },
     "execution_count": 64,
     "metadata": {},
     "output_type": "execute_result"
    }
   ],
   "source": [
    "model_d = lm(@formula(cash_div_growth ~ lagged_cash_logPD), data_prep)"
   ]
  },
  {
   "cell_type": "code",
   "execution_count": 65,
   "metadata": {},
   "outputs": [
    {
     "data": {
      "text/plain": [
       "0.030404515012109612"
      ]
     },
     "execution_count": 65,
     "metadata": {},
     "output_type": "execute_result"
    }
   ],
   "source": [
    "r2(model_d)"
   ]
  },
  {
   "cell_type": "markdown",
   "metadata": {},
   "source": [
    "First part of the sample:"
   ]
  },
  {
   "cell_type": "code",
   "execution_count": 66,
   "metadata": {},
   "outputs": [
    {
     "data": {
      "text/plain": [
       "DataFrames.DataFrameRegressionModel{GLM.LinearModel{GLM.LmResp{Array{Float64,1}},GLM.DensePredChol{Float64,Base.LinAlg.Cholesky{Float64,Array{Float64,2}}}},Array{Float64,2}}\n",
       "\n",
       "Formula: ret ~ 1 + lagged_cash_logPD\n",
       "\n",
       "Coefficients:\n",
       "                    Estimate Std.Error  t value Pr(>|t|)\n",
       "(Intercept)         0.807472  0.268359  3.00893   0.0044\n",
       "lagged_cash_logPD  -0.220499 0.0843424 -2.61433   0.0124\n"
      ]
     },
     "execution_count": 66,
     "metadata": {},
     "output_type": "execute_result"
    }
   ],
   "source": [
    "model_early = lm(@formula(ret ~ lagged_cash_logPD), data_prep[data_prep[:year] .< 1990, :])"
   ]
  },
  {
   "cell_type": "code",
   "execution_count": 67,
   "metadata": {},
   "outputs": [
    {
     "data": {
      "text/plain": [
       "0.13995594376153286"
      ]
     },
     "execution_count": 67,
     "metadata": {},
     "output_type": "execute_result"
    }
   ],
   "source": [
    "r2(model_early)"
   ]
  },
  {
   "cell_type": "code",
   "execution_count": 68,
   "metadata": {},
   "outputs": [
    {
     "data": {
      "text/plain": [
       "DataFrames.DataFrameRegressionModel{GLM.LinearModel{GLM.LmResp{Array{Float64,1}},GLM.DensePredChol{Float64,Base.LinAlg.Cholesky{Float64,Array{Float64,2}}}},Array{Float64,2}}\n",
       "\n",
       "Formula: cash_div_growth ~ 1 + lagged_cash_logPD\n",
       "\n",
       "Coefficients:\n",
       "                     Estimate Std.Error  t value Pr(>|t|)\n",
       "(Intercept)          0.215028   0.10078  2.13363   0.0388\n",
       "lagged_cash_logPD  -0.0400131 0.0316742 -1.26327   0.2135\n"
      ]
     },
     "execution_count": 68,
     "metadata": {},
     "output_type": "execute_result"
    }
   ],
   "source": [
    "model_d_early = lm(@formula(cash_div_growth ~ lagged_cash_logPD), data_prep[data_prep[:year] .< 1990, :])"
   ]
  },
  {
   "cell_type": "code",
   "execution_count": 69,
   "metadata": {},
   "outputs": [
    {
     "data": {
      "text/plain": [
       "0.03660555444847213"
      ]
     },
     "execution_count": 69,
     "metadata": {},
     "output_type": "execute_result"
    }
   ],
   "source": [
    "r2(model_d_early)"
   ]
  },
  {
   "cell_type": "markdown",
   "metadata": {},
   "source": [
    "Second part:"
   ]
  },
  {
   "cell_type": "code",
   "execution_count": 70,
   "metadata": {},
   "outputs": [
    {
     "data": {
      "text/plain": [
       "DataFrames.DataFrameRegressionModel{GLM.LinearModel{GLM.LmResp{Array{Float64,1}},GLM.DensePredChol{Float64,Base.LinAlg.Cholesky{Float64,Array{Float64,2}}}},Array{Float64,2}}\n",
       "\n",
       "Formula: ret ~ 1 + lagged_cash_logPD\n",
       "\n",
       "Coefficients:\n",
       "                    Estimate Std.Error  t value Pr(>|t|)\n",
       "(Intercept)         0.684272  0.431627  1.58533   0.1255\n",
       "lagged_cash_logPD  -0.155261  0.112133 -1.38462   0.1784\n"
      ]
     },
     "execution_count": 70,
     "metadata": {},
     "output_type": "execute_result"
    }
   ],
   "source": [
    "model_late = lm(@formula(ret ~ lagged_cash_logPD), data_prep[data_prep[:year] .>= 1990, :])"
   ]
  },
  {
   "cell_type": "code",
   "execution_count": 71,
   "metadata": {},
   "outputs": [
    {
     "data": {
      "text/plain": [
       "0.07122453918614935"
      ]
     },
     "execution_count": 71,
     "metadata": {},
     "output_type": "execute_result"
    }
   ],
   "source": [
    "r2(model_late)"
   ]
  },
  {
   "cell_type": "code",
   "execution_count": 73,
   "metadata": {},
   "outputs": [
    {
     "data": {
      "text/plain": [
       "DataFrames.DataFrameRegressionModel{GLM.LinearModel{GLM.LmResp{Array{Float64,1}},GLM.DensePredChol{Float64,Base.LinAlg.Cholesky{Float64,Array{Float64,2}}}},Array{Float64,2}}\n",
       "\n",
       "Formula: cash_div_growth ~ 1 + lagged_cash_logPD\n",
       "\n",
       "Coefficients:\n",
       "                     Estimate Std.Error  t value Pr(>|t|)\n",
       "(Intercept)         0.0492419  0.211611   0.2327   0.8179\n",
       "lagged_cash_logPD  0.00428022 0.0549748 0.077858   0.9386\n"
      ]
     },
     "execution_count": 73,
     "metadata": {},
     "output_type": "execute_result"
    }
   ],
   "source": [
    "model_d_late = lm(@formula(cash_div_growth ~ lagged_cash_logPD), data_prep[data_prep[:year] .>= 1990, :])"
   ]
  },
  {
   "cell_type": "code",
   "execution_count": 74,
   "metadata": {},
   "outputs": [
    {
     "data": {
      "text/plain": [
       "0.00024241566390370561"
      ]
     },
     "execution_count": 74,
     "metadata": {},
     "output_type": "execute_result"
    }
   ],
   "source": [
    "r2(model_d_late)"
   ]
  },
  {
   "cell_type": "markdown",
   "metadata": {},
   "source": [
    "In the 90s the price dividend ratio increased dramatically, but stocks performed well. This seems like a structural break, so splitting up the sample benefits the $R^2$ in both.\n",
    "\n",
    "Dividend growth is hardly predictable."
   ]
  },
  {
   "cell_type": "markdown",
   "metadata": {},
   "source": [
    "### (f) Preliminaries\n",
    "The [Campbell Shiller decomposition](http://onlinelibrary.wiley.com/doi/10.1111/j.1540-6261.1988.tb04598.x/abstract) starts out from the defininition of the return on a stock: $R_{t+1}=\\frac{P_{t+1}+D_{t+1}}{P_{t}}$.\n",
    "\n",
    "Taking logs:\n",
    "\n",
    "$$r_{t+1}=p_{t+1}-p_{t}+\\log\\Big(1+\\exp(\\underset{dp_{t+1}}{\\underbrace{d_{t+1}-p_{t+1}}})\\Big)$$\n",
    "\n",
    "The Taylor approximation of the last term around $\\bar{dp}$ is:\n",
    "\n",
    "$$\\log\\Big(1+\\exp(dp_{t+1})\\Big)\\approx\\underset{\\kappa}{\\underbrace{\\log\\Big(1+\\exp(\\bar{dp})\\Big)}}+\\underset{1-\\rho}{\\underbrace{\\frac{\\exp(\\bar{dp})}{1+\\exp(\\bar{dp})}}}\\Big(dp_{t+1}-\\bar{dp}\\Big)+\\frac{1}{2}\\frac{\\exp(\\tilde{dp})}{\\Big(1+\\exp(\\tilde{dp})\\Big)^{2}}\\Big(dp_{t+1}-\\bar{dp}\\Big)^{2}$$\n",
    "\n",
    "where $\\tilde{dp}$ is between $dp_{t+1}$ and $\\bar{dp}$ (this is the [Lagrange form](https://en.wikipedia.org/wiki/Taylor%27s_theorem#Explicit_formulas_for_the_remainder) of the remainder).\n",
    "\n",
    "Mind also that the remainder coefficient is a increasing function for all $\\tilde{dp} \\leq 0$."
   ]
  },
  {
   "cell_type": "code",
   "execution_count": 199,
   "metadata": {},
   "outputs": [
    {
     "data": {
      "text/plain": [
       "0.9686022272244739"
      ]
     },
     "execution_count": 199,
     "metadata": {},
     "output_type": "execute_result"
    }
   ],
   "source": [
    "dp = -yearly_data[:cash_logPD]\n",
    "dp_bar = mean(dp)\n",
    "κ = log(1 + exp(dp_bar))\n",
    "ρ = 1 - exp(dp_bar)/(1 + exp(dp_bar))"
   ]
  },
  {
   "cell_type": "code",
   "execution_count": 200,
   "metadata": {
    "scrolled": false
   },
   "outputs": [
    {
     "data": {
      "text/html": [
       "<?xml version=\"1.0\" encoding=\"utf-8\"?>\n",
       "<svg xmlns=\"http://www.w3.org/2000/svg\" xmlns:xlink=\"http://www.w3.org/1999/xlink\" width=\"600\" height=\"400\" viewBox=\"0 0 600 400\">\n",
       "<defs>\n",
       "  <clipPath id=\"clip8100\">\n",
       "    <rect x=\"0\" y=\"0\" width=\"600\" height=\"400\"/>\n",
       "  </clipPath>\n",
       "</defs>\n",
       "<polygon clip-path=\"url(#clip8100)\" points=\"\n",
       "0,400 600,400 600,0 0,0 \n",
       "  \" fill=\"#ffffff\" fill-opacity=\"1\"/>\n",
       "<defs>\n",
       "  <clipPath id=\"clip8101\">\n",
       "    <rect x=\"120\" y=\"0\" width=\"421\" height=\"400\"/>\n",
       "  </clipPath>\n",
       "</defs>\n",
       "<polygon clip-path=\"url(#clip8100)\" points=\"\n",
       "45.4014,375.813 580.315,375.813 580.315,11.811 45.4014,11.811 \n",
       "  \" fill=\"#ffffff\" fill-opacity=\"1\"/>\n",
       "<defs>\n",
       "  <clipPath id=\"clip8102\">\n",
       "    <rect x=\"45\" y=\"11\" width=\"536\" height=\"365\"/>\n",
       "  </clipPath>\n",
       "</defs>\n",
       "<polyline clip-path=\"url(#clip8102)\" style=\"stroke:#000000; stroke-width:0.5; stroke-opacity:0.1; fill:none\" points=\"\n",
       "  48.0554,375.813 48.0554,11.811 \n",
       "  \"/>\n",
       "<polyline clip-path=\"url(#clip8102)\" style=\"stroke:#000000; stroke-width:0.5; stroke-opacity:0.1; fill:none\" points=\"\n",
       "  184.438,375.813 184.438,11.811 \n",
       "  \"/>\n",
       "<polyline clip-path=\"url(#clip8102)\" style=\"stroke:#000000; stroke-width:0.5; stroke-opacity:0.1; fill:none\" points=\"\n",
       "  320.82,375.813 320.82,11.811 \n",
       "  \"/>\n",
       "<polyline clip-path=\"url(#clip8102)\" style=\"stroke:#000000; stroke-width:0.5; stroke-opacity:0.1; fill:none\" points=\"\n",
       "  457.203,375.813 457.203,11.811 \n",
       "  \"/>\n",
       "<polyline clip-path=\"url(#clip8102)\" style=\"stroke:#000000; stroke-width:0.5; stroke-opacity:0.1; fill:none\" points=\"\n",
       "  45.4014,319.34 580.315,319.34 \n",
       "  \"/>\n",
       "<polyline clip-path=\"url(#clip8102)\" style=\"stroke:#000000; stroke-width:0.5; stroke-opacity:0.1; fill:none\" points=\"\n",
       "  45.4014,260.358 580.315,260.358 \n",
       "  \"/>\n",
       "<polyline clip-path=\"url(#clip8102)\" style=\"stroke:#000000; stroke-width:0.5; stroke-opacity:0.1; fill:none\" points=\"\n",
       "  45.4014,201.377 580.315,201.377 \n",
       "  \"/>\n",
       "<polyline clip-path=\"url(#clip8102)\" style=\"stroke:#000000; stroke-width:0.5; stroke-opacity:0.1; fill:none\" points=\"\n",
       "  45.4014,142.396 580.315,142.396 \n",
       "  \"/>\n",
       "<polyline clip-path=\"url(#clip8102)\" style=\"stroke:#000000; stroke-width:0.5; stroke-opacity:0.1; fill:none\" points=\"\n",
       "  45.4014,83.4143 580.315,83.4143 \n",
       "  \"/>\n",
       "<polyline clip-path=\"url(#clip8102)\" style=\"stroke:#000000; stroke-width:0.5; stroke-opacity:0.1; fill:none\" points=\"\n",
       "  45.4014,24.4329 580.315,24.4329 \n",
       "  \"/>\n",
       "<polyline clip-path=\"url(#clip8100)\" style=\"stroke:#000000; stroke-width:1; stroke-opacity:1; fill:none\" points=\"\n",
       "  45.4014,375.813 580.315,375.813 \n",
       "  \"/>\n",
       "<polyline clip-path=\"url(#clip8100)\" style=\"stroke:#000000; stroke-width:1; stroke-opacity:1; fill:none\" points=\"\n",
       "  45.4014,375.813 45.4014,11.811 \n",
       "  \"/>\n",
       "<polyline clip-path=\"url(#clip8100)\" style=\"stroke:#000000; stroke-width:1; stroke-opacity:1; fill:none\" points=\"\n",
       "  48.0554,375.813 48.0554,370.353 \n",
       "  \"/>\n",
       "<polyline clip-path=\"url(#clip8100)\" style=\"stroke:#000000; stroke-width:1; stroke-opacity:1; fill:none\" points=\"\n",
       "  184.438,375.813 184.438,370.353 \n",
       "  \"/>\n",
       "<polyline clip-path=\"url(#clip8100)\" style=\"stroke:#000000; stroke-width:1; stroke-opacity:1; fill:none\" points=\"\n",
       "  320.82,375.813 320.82,370.353 \n",
       "  \"/>\n",
       "<polyline clip-path=\"url(#clip8100)\" style=\"stroke:#000000; stroke-width:1; stroke-opacity:1; fill:none\" points=\"\n",
       "  457.203,375.813 457.203,370.353 \n",
       "  \"/>\n",
       "<polyline clip-path=\"url(#clip8100)\" style=\"stroke:#000000; stroke-width:1; stroke-opacity:1; fill:none\" points=\"\n",
       "  45.4014,319.34 53.4251,319.34 \n",
       "  \"/>\n",
       "<polyline clip-path=\"url(#clip8100)\" style=\"stroke:#000000; stroke-width:1; stroke-opacity:1; fill:none\" points=\"\n",
       "  45.4014,260.358 53.4251,260.358 \n",
       "  \"/>\n",
       "<polyline clip-path=\"url(#clip8100)\" style=\"stroke:#000000; stroke-width:1; stroke-opacity:1; fill:none\" points=\"\n",
       "  45.4014,201.377 53.4251,201.377 \n",
       "  \"/>\n",
       "<polyline clip-path=\"url(#clip8100)\" style=\"stroke:#000000; stroke-width:1; stroke-opacity:1; fill:none\" points=\"\n",
       "  45.4014,142.396 53.4251,142.396 \n",
       "  \"/>\n",
       "<polyline clip-path=\"url(#clip8100)\" style=\"stroke:#000000; stroke-width:1; stroke-opacity:1; fill:none\" points=\"\n",
       "  45.4014,83.4143 53.4251,83.4143 \n",
       "  \"/>\n",
       "<polyline clip-path=\"url(#clip8100)\" style=\"stroke:#000000; stroke-width:1; stroke-opacity:1; fill:none\" points=\"\n",
       "  45.4014,24.4329 53.4251,24.4329 \n",
       "  \"/>\n",
       "<g clip-path=\"url(#clip8100)\">\n",
       "<text style=\"fill:#000000; fill-opacity:1; font-family:Arial,Helvetica Neue,Helvetica,sans-serif; font-size:12; text-anchor:middle;\" transform=\"rotate(0, 48.0554, 389.613)\" x=\"48.0554\" y=\"389.613\">-4.5</text>\n",
       "</g>\n",
       "<g clip-path=\"url(#clip8100)\">\n",
       "<text style=\"fill:#000000; fill-opacity:1; font-family:Arial,Helvetica Neue,Helvetica,sans-serif; font-size:12; text-anchor:middle;\" transform=\"rotate(0, 184.438, 389.613)\" x=\"184.438\" y=\"389.613\">-4.0</text>\n",
       "</g>\n",
       "<g clip-path=\"url(#clip8100)\">\n",
       "<text style=\"fill:#000000; fill-opacity:1; font-family:Arial,Helvetica Neue,Helvetica,sans-serif; font-size:12; text-anchor:middle;\" transform=\"rotate(0, 320.82, 389.613)\" x=\"320.82\" y=\"389.613\">-3.5</text>\n",
       "</g>\n",
       "<g clip-path=\"url(#clip8100)\">\n",
       "<text style=\"fill:#000000; fill-opacity:1; font-family:Arial,Helvetica Neue,Helvetica,sans-serif; font-size:12; text-anchor:middle;\" transform=\"rotate(0, 457.203, 389.613)\" x=\"457.203\" y=\"389.613\">-3.0</text>\n",
       "</g>\n",
       "<g clip-path=\"url(#clip8100)\">\n",
       "<text style=\"fill:#000000; fill-opacity:1; font-family:Arial,Helvetica Neue,Helvetica,sans-serif; font-size:12; text-anchor:end;\" transform=\"rotate(0, 39.4014, 323.84)\" x=\"39.4014\" y=\"323.84\">0.000</text>\n",
       "</g>\n",
       "<g clip-path=\"url(#clip8100)\">\n",
       "<text style=\"fill:#000000; fill-opacity:1; font-family:Arial,Helvetica Neue,Helvetica,sans-serif; font-size:12; text-anchor:end;\" transform=\"rotate(0, 39.4014, 264.858)\" x=\"39.4014\" y=\"264.858\">0.005</text>\n",
       "</g>\n",
       "<g clip-path=\"url(#clip8100)\">\n",
       "<text style=\"fill:#000000; fill-opacity:1; font-family:Arial,Helvetica Neue,Helvetica,sans-serif; font-size:12; text-anchor:end;\" transform=\"rotate(0, 39.4014, 205.877)\" x=\"39.4014\" y=\"205.877\">0.010</text>\n",
       "</g>\n",
       "<g clip-path=\"url(#clip8100)\">\n",
       "<text style=\"fill:#000000; fill-opacity:1; font-family:Arial,Helvetica Neue,Helvetica,sans-serif; font-size:12; text-anchor:end;\" transform=\"rotate(0, 39.4014, 146.896)\" x=\"39.4014\" y=\"146.896\">0.015</text>\n",
       "</g>\n",
       "<g clip-path=\"url(#clip8100)\">\n",
       "<text style=\"fill:#000000; fill-opacity:1; font-family:Arial,Helvetica Neue,Helvetica,sans-serif; font-size:12; text-anchor:end;\" transform=\"rotate(0, 39.4014, 87.9143)\" x=\"39.4014\" y=\"87.9143\">0.020</text>\n",
       "</g>\n",
       "<g clip-path=\"url(#clip8100)\">\n",
       "<text style=\"fill:#000000; fill-opacity:1; font-family:Arial,Helvetica Neue,Helvetica,sans-serif; font-size:12; text-anchor:end;\" transform=\"rotate(0, 39.4014, 28.9329)\" x=\"39.4014\" y=\"28.9329\">0.025</text>\n",
       "</g>\n",
       "<polyline clip-path=\"url(#clip8102)\" style=\"stroke:#009af9; stroke-width:1; stroke-opacity:1; fill:none\" points=\"\n",
       "  45.4014,166.354 50.8045,171.123 56.2077,175.841 61.6109,180.508 67.014,185.121 72.4172,189.681 77.8204,194.186 83.2235,198.635 88.6267,203.027 94.0299,207.36 \n",
       "  99.433,211.635 104.836,215.849 110.239,220.001 115.643,224.09 121.046,228.116 126.449,232.076 131.852,235.969 137.255,239.795 142.658,243.552 148.062,247.238 \n",
       "  153.465,250.852 158.868,254.393 164.271,257.859 169.674,261.249 175.077,264.562 180.481,267.795 185.884,270.948 191.287,274.018 196.69,277.005 202.093,279.907 \n",
       "  207.496,282.721 212.9,285.447 218.303,288.082 223.706,290.626 229.109,293.075 234.512,295.429 239.915,297.685 245.319,299.841 250.722,301.897 256.125,303.849 \n",
       "  261.528,305.696 266.931,307.436 272.334,309.067 277.738,310.586 283.141,311.992 288.544,313.282 293.947,314.454 299.35,315.507 304.753,316.437 310.157,317.243 \n",
       "  315.56,317.921 320.963,318.471 326.366,318.888 331.769,319.172 337.172,319.318 342.576,319.325 347.979,319.191 353.382,318.911 358.785,318.485 364.188,317.908 \n",
       "  369.591,317.178 374.995,316.293 380.398,315.249 385.801,314.044 391.204,312.674 396.607,311.136 402.01,309.428 407.414,307.546 412.817,305.487 418.22,303.248 \n",
       "  423.623,300.825 429.026,298.215 434.429,295.415 439.833,292.421 445.236,289.23 450.639,285.837 456.042,282.241 461.445,278.435 466.848,274.418 472.252,270.185 \n",
       "  477.655,265.732 483.058,261.055 488.461,256.15 493.864,251.014 499.267,245.642 504.671,240.029 510.074,234.172 515.477,228.067 520.88,221.708 526.283,215.091 \n",
       "  531.686,208.213 537.09,201.067 542.493,193.65 547.896,185.957 553.299,177.983 558.702,169.723 564.105,161.173 569.509,152.326 574.912,143.178 580.315,133.725 \n",
       "  \n",
       "  \"/>\n",
       "<polyline clip-path=\"url(#clip8102)\" style=\"stroke:#e26f46; stroke-width:1; stroke-opacity:1; fill:none\" points=\"\n",
       "  45.4014,109.88 50.8045,117.489 56.2077,124.957 61.6109,132.285 67.014,139.471 72.4172,146.517 77.8204,153.422 83.2235,160.186 88.6267,166.81 94.0299,173.293 \n",
       "  99.433,179.634 104.836,185.836 110.239,191.896 115.643,197.816 121.046,203.595 126.449,209.233 131.852,214.73 137.255,220.086 142.658,225.302 148.062,230.377 \n",
       "  153.465,235.312 158.868,240.105 164.271,244.758 169.674,249.27 175.077,253.641 180.481,257.871 185.884,261.961 191.287,265.91 196.69,269.718 202.093,273.385 \n",
       "  207.496,276.912 212.9,280.297 218.303,283.542 223.706,286.647 229.109,289.61 234.512,292.433 239.915,295.115 245.319,297.656 250.722,300.056 256.125,302.316 \n",
       "  261.528,304.435 266.931,306.413 272.334,308.25 277.738,309.947 283.141,311.503 288.544,312.918 293.947,314.192 299.35,315.325 304.753,316.318 310.157,317.17 \n",
       "  315.56,317.881 320.963,318.451 326.366,318.881 331.769,319.17 337.172,319.318 342.576,319.325 347.979,319.188 353.382,318.898 358.785,318.448 364.188,317.827 \n",
       "  369.591,317.029 374.995,316.043 380.398,314.859 385.801,313.468 391.204,311.86 396.607,310.025 402.01,307.95 407.414,305.625 412.817,303.039 418.22,300.179 \n",
       "  423.623,297.034 429.026,293.59 434.429,289.835 439.833,285.755 445.236,281.337 450.639,276.566 456.042,271.427 461.445,265.906 466.848,259.987 472.252,253.655 \n",
       "  477.655,246.893 483.058,239.684 488.461,232.012 493.864,223.858 499.267,215.205 504.671,206.035 510.074,196.327 515.477,186.064 520.88,175.224 526.283,163.788 \n",
       "  531.686,151.735 537.09,139.044 542.493,125.692 547.896,111.658 553.299,96.9181 558.702,81.4501 564.105,65.2299 569.509,48.2331 574.912,30.4353 580.315,11.811 \n",
       "  \n",
       "  \"/>\n",
       "<polyline clip-path=\"url(#clip8102)\" style=\"stroke:#3da44d; stroke-width:1; stroke-opacity:1; fill:none\" points=\"\n",
       "  45.4014,245.208 50.8045,246.504 56.2077,247.827 61.6109,249.178 67.014,250.555 72.4172,251.959 77.8204,253.389 83.2235,254.844 88.6267,256.323 94.0299,257.825 \n",
       "  99.433,259.35 104.836,260.897 110.239,262.465 115.643,264.052 121.046,265.658 126.449,267.281 131.852,268.92 137.255,270.573 142.658,272.24 148.062,273.919 \n",
       "  153.465,275.607 158.868,277.304 164.271,279.007 169.674,280.715 175.077,282.425 180.481,284.136 185.884,285.844 191.287,287.548 196.69,289.246 202.093,290.934 \n",
       "  207.496,292.609 212.9,294.27 218.303,295.912 223.706,297.534 229.109,299.13 234.512,300.699 239.915,302.236 245.319,303.738 250.722,305.2 256.125,306.619 \n",
       "  261.528,307.99 266.931,309.309 272.334,310.571 277.738,311.771 283.141,312.905 288.544,313.967 293.947,314.951 299.35,315.853 304.753,316.665 310.157,317.383 \n",
       "  315.56,318 320.963,318.508 326.366,318.902 331.769,319.175 337.172,319.318 342.576,319.325 347.979,319.192 353.382,318.918 358.785,318.503 364.188,317.947 \n",
       "  369.591,317.25 374.995,316.413 380.398,315.435 385.801,314.316 391.204,313.057 396.607,311.656 402.01,310.115 407.414,308.433 412.817,306.61 418.22,304.647 \n",
       "  423.623,302.543 429.026,300.298 434.429,297.912 439.833,295.385 445.236,292.718 450.639,289.91 456.042,286.961 461.445,283.872 466.848,280.641 472.252,277.27 \n",
       "  477.655,273.758 483.058,270.106 488.461,266.312 493.864,262.378 499.267,258.303 504.671,254.087 510.074,249.731 515.477,245.233 520.88,240.595 526.283,235.816 \n",
       "  531.686,230.897 537.09,225.836 542.493,220.635 547.896,215.293 553.299,209.811 558.702,204.187 564.105,198.423 569.509,192.518 574.912,186.472 580.315,180.286 \n",
       "  \n",
       "  \"/>\n",
       "<polyline clip-path=\"url(#clip8102)\" style=\"stroke:#c271d2; stroke-width:1; stroke-opacity:1; fill:none\" points=\"\n",
       "  45.4014,375.813 50.8045,372.974 56.2077,370.224 61.6109,367.563 67.014,364.99 72.4172,362.503 77.8204,360.103 83.2235,357.788 88.6267,355.556 94.0299,353.407 \n",
       "  99.433,351.34 104.836,349.352 110.239,347.444 115.643,345.614 121.046,343.861 126.449,342.183 131.852,340.579 137.255,339.048 142.658,337.589 148.062,336.2 \n",
       "  153.465,334.88 158.868,333.627 164.271,332.441 169.674,331.319 175.077,330.26 180.481,329.263 185.884,328.326 191.287,327.448 196.69,326.627 202.093,325.861 \n",
       "  207.496,325.149 212.9,324.489 218.303,323.879 223.706,323.318 229.109,322.804 234.512,322.335 239.915,321.909 245.319,321.525 250.722,321.18 256.125,320.873 \n",
       "  261.528,320.601 266.931,320.363 272.334,320.156 277.738,319.979 283.141,319.829 288.544,319.704 293.947,319.602 299.35,319.521 304.753,319.459 310.157,319.412 \n",
       "  315.56,319.38 320.963,319.359 326.366,319.347 331.769,319.341 337.172,319.34 342.576,319.339 347.979,319.338 353.382,319.333 358.785,319.321 364.188,319.3 \n",
       "  369.591,319.267 374.995,319.219 380.398,319.154 385.801,319.067 391.204,318.957 396.607,318.82 402.01,318.653 407.414,318.453 412.817,318.216 418.22,317.94 \n",
       "  423.623,317.622 429.026,317.257 434.429,316.843 439.833,316.375 445.236,315.851 450.639,315.267 456.042,314.619 461.445,313.903 466.848,313.116 472.252,312.254 \n",
       "  477.655,311.313 483.058,310.289 488.461,309.178 493.864,307.976 499.267,306.678 504.671,305.282 510.074,303.781 515.477,302.173 520.88,300.452 526.283,298.615 \n",
       "  531.686,296.655 537.09,294.57 542.493,292.355 547.896,290.004 553.299,287.512 558.702,284.876 564.105,282.089 569.509,279.148 574.912,276.046 580.315,272.779 \n",
       "  \n",
       "  \"/>\n",
       "<polygon clip-path=\"url(#clip8100)\" points=\"\n",
       "394.961,108.291 562.315,108.291 562.315,32.691 394.961,32.691 \n",
       "  \" fill=\"#ffffff\" fill-opacity=\"1\"/>\n",
       "<polyline clip-path=\"url(#clip8100)\" style=\"stroke:#000000; stroke-width:1; stroke-opacity:1; fill:none\" points=\"\n",
       "  394.961,108.291 562.315,108.291 562.315,32.691 394.961,32.691 394.961,108.291 \n",
       "  \"/>\n",
       "<polyline clip-path=\"url(#clip8100)\" style=\"stroke:#009af9; stroke-width:1; stroke-opacity:1; fill:none\" points=\"\n",
       "  400.961,47.811 436.961,47.811 \n",
       "  \"/>\n",
       "<g clip-path=\"url(#clip8100)\">\n",
       "<text style=\"fill:#000000; fill-opacity:1; font-family:Arial,Helvetica Neue,Helvetica,sans-serif; font-size:12; text-anchor:start;\" transform=\"rotate(0, 442.961, 52.311)\" x=\"442.961\" y=\"52.311\">Error from 1st order</text>\n",
       "</g>\n",
       "<polyline clip-path=\"url(#clip8100)\" style=\"stroke:#e26f46; stroke-width:1; stroke-opacity:1; fill:none\" points=\"\n",
       "  400.961,62.931 436.961,62.931 \n",
       "  \"/>\n",
       "<g clip-path=\"url(#clip8100)\">\n",
       "<text style=\"fill:#000000; fill-opacity:1; font-family:Arial,Helvetica Neue,Helvetica,sans-serif; font-size:12; text-anchor:start;\" transform=\"rotate(0, 442.961, 67.431)\" x=\"442.961\" y=\"67.431\">Max Error</text>\n",
       "</g>\n",
       "<polyline clip-path=\"url(#clip8100)\" style=\"stroke:#3da44d; stroke-width:1; stroke-opacity:1; fill:none\" points=\"\n",
       "  400.961,78.051 436.961,78.051 \n",
       "  \"/>\n",
       "<g clip-path=\"url(#clip8100)\">\n",
       "<text style=\"fill:#000000; fill-opacity:1; font-family:Arial,Helvetica Neue,Helvetica,sans-serif; font-size:12; text-anchor:start;\" transform=\"rotate(0, 442.961, 82.551)\" x=\"442.961\" y=\"82.551\">Min Error</text>\n",
       "</g>\n",
       "<polyline clip-path=\"url(#clip8100)\" style=\"stroke:#c271d2; stroke-width:1; stroke-opacity:1; fill:none\" points=\"\n",
       "  400.961,93.171 436.961,93.171 \n",
       "  \"/>\n",
       "<g clip-path=\"url(#clip8100)\">\n",
       "<text style=\"fill:#000000; fill-opacity:1; font-family:Arial,Helvetica Neue,Helvetica,sans-serif; font-size:12; text-anchor:start;\" transform=\"rotate(0, 442.961, 97.671)\" x=\"442.961\" y=\"97.671\">Error from 2nd order</text>\n",
       "</g>\n",
       "</svg>\n"
      ]
     },
     "execution_count": 200,
     "metadata": {},
     "output_type": "execute_result"
    }
   ],
   "source": [
    "dp_sample = linspace(minimum(dp), maximum(dp), 100)\n",
    "f(dp) = log(1 + exp(dp))\n",
    "f_approx(dp) = κ + exp(dp_bar)/(1 + exp(dp_bar))*(dp-dp_bar)\n",
    "f_approx2(dp) = κ + exp(dp_bar)/(1 + exp(dp_bar))*(dp-dp_bar) + 1/2 * exp(dp_bar)/(1 + exp(dp_bar))^2 * (dp - dp_bar)^2\n",
    "local_max_remainder(dp) = 1/2 * exp(max(dp, dp_bar))/(1 + exp(max(dp, dp_bar)))^2 * (dp - dp_bar)^2\n",
    "local_min_remainder(dp) = 1/2 * exp(min(dp, dp_bar))/(1 + exp(min(dp, dp_bar)))^2 * (dp - dp_bar)^2\n",
    "\n",
    "plot(dp_sample, f.(dp_sample) .- f_approx.(dp_sample), label=\"Error from 1st order\")\n",
    "plot!(dp_sample, local_max_remainder.(dp_sample), label=\"Max Error\")\n",
    "plot!(dp_sample, local_min_remainder.(dp_sample), label=\"Min Error\")\n",
    "plot!(dp_sample, f.(dp_sample) .- f_approx2.(dp_sample), label=\"Error from 2nd order\")"
   ]
  },
  {
   "cell_type": "code",
   "execution_count": 201,
   "metadata": {},
   "outputs": [
    {
     "data": {
      "text/plain": [
       "0.002577539284226769"
      ]
     },
     "execution_count": 201,
     "metadata": {},
     "output_type": "execute_result"
    }
   ],
   "source": [
    "(f.(dp_sample) .- f_approx.(dp_sample))' * fit(Histogram, dp, vcat(0, dp_sample), closed=:right).weights/length(dp)"
   ]
  },
  {
   "cell_type": "markdown",
   "metadata": {},
   "source": [
    "The approximation understates the true return by 0.015 maximally and by 0.0026 on average (over the observed sample)."
   ]
  },
  {
   "cell_type": "code",
   "execution_count": 202,
   "metadata": {
    "scrolled": true
   },
   "outputs": [
    {
     "data": {
      "text/plain": [
       "Summary Stats:\n",
       "Mean:           0.103926\n",
       "Minimum:        -0.481478\n",
       "1st Quartile:   0.003057\n",
       "Median:         0.133459\n",
       "3rd Quartile:   0.225562\n",
       "Maximum:        0.408210\n"
      ]
     },
     "execution_count": 202,
     "metadata": {},
     "output_type": "execute_result"
    }
   ],
   "source": [
    "summarystats(yearly_data[:ret])"
   ]
  },
  {
   "cell_type": "markdown",
   "metadata": {},
   "source": [
    "Given that the mean return is around 0.1, this approximation is okay!"
   ]
  },
  {
   "cell_type": "markdown",
   "metadata": {},
   "source": [
    "Hence,\n",
    "\n",
    "$$pd_t=\\rho pd_{t+1}+\\kappa - (1-\\rho)\\bar{dp}+\\Delta d_{t+1} - r_{t+1}$$\n",
    "\n",
    "and hence:\n",
    "\n",
    "$$pd_t=\\frac{\\kappa}{1-\\rho}+\\sum_{j=0}^{\\infty}\\rho^{j}\\Big(\\Delta d_{t+j+1}-r_{t+j+1}\\Big)$$\n",
    "\n",
    "The average approximation error accumulates to:"
   ]
  },
  {
   "cell_type": "code",
   "execution_count": 197,
   "metadata": {
    "scrolled": true
   },
   "outputs": [
    {
     "data": {
      "text/plain": [
       "0.08209306127076325"
      ]
     },
     "execution_count": 197,
     "metadata": {},
     "output_type": "execute_result"
    }
   ],
   "source": [
    "1/(1-ρ)*0.002577539284226769"
   ]
  },
  {
   "cell_type": "code",
   "execution_count": 198,
   "metadata": {
    "scrolled": true
   },
   "outputs": [
    {
     "data": {
      "text/plain": [
       "Summary Stats:\n",
       "Mean:           3.429117\n",
       "Minimum:        2.548652\n",
       "1st Quartile:   3.103161\n",
       "Median:         3.405137\n",
       "3rd Quartile:   3.715336\n",
       "Maximum:        4.509730\n"
      ]
     },
     "execution_count": 198,
     "metadata": {},
     "output_type": "execute_result"
    }
   ],
   "source": [
    "summarystats(yearly_data[:cash_logPD])"
   ]
  },
  {
   "cell_type": "markdown",
   "metadata": {},
   "source": [
    "Given that the mean log price dividend ratio is around 3.4, this error is acceptable.\n"
   ]
  },
  {
   "cell_type": "markdown",
   "metadata": {},
   "source": [
    "### (f)"
   ]
  },
  {
   "cell_type": "code",
   "execution_count": 157,
   "metadata": {},
   "outputs": [
    {
     "data": {
      "text/plain": [
       "DataFrames.DataFrameRegressionModel{GLM.LinearModel{GLM.LmResp{Array{Float64,1}},GLM.DensePredChol{Float64,Base.LinAlg.Cholesky{Float64,Array{Float64,2}}}},Array{Float64,2}}\n",
       "\n",
       "Formula: cash_logPD ~ 1 + lagged_cash_logPD\n",
       "\n",
       "Coefficients:\n",
       "                   Estimate Std.Error t value Pr(>|t|)\n",
       "(Intercept)         0.24459  0.150002 1.63058   0.1075\n",
       "lagged_cash_logPD  0.931486 0.0434682 21.4292   <1e-31\n"
      ]
     },
     "execution_count": 157,
     "metadata": {},
     "output_type": "execute_result"
    }
   ],
   "source": [
    "model_pd = lm(@formula(cash_logPD ~ lagged_cash_logPD), data_prep)"
   ]
  },
  {
   "cell_type": "markdown",
   "metadata": {},
   "source": [
    "$$\\mathbb{V}\\Big[pd_t\\Big]=\\mathbb{C}\\Big[\\sum_{s=1}^\\infty \\rho^{s-1} \\mathbb{E}_t\\big[\\Delta d_{t+s}\\big], pd_t\\Big] + \\mathbb{C}\\Big[-\\sum_{s=0}^\\infty \\rho^{s-1} \\mathbb{E}_t\\big[r_{t+s}\\big], pd_t\\Big]$$\n",
    "\n",
    "$$1=\\frac{\\mathbb{C}\\Big[\\sum_{s=1}^\\infty \\rho^{s-1} \\mathbb{E}_t\\big[\\Delta d_{t+s}\\big], pd_t\\Big]}{\\mathbb{V}\\Big[pd_t\\Big]} + \\frac{\\mathbb{C}\\Big[-\\sum_{s=0}^\\infty \\rho^{s-1} \\mathbb{E}_t\\big[r_{t+s}\\big], pd_t\\Big]}{\\mathbb{V}\\Big[pd_t\\Big]}$$\n",
    "\n",
    "The first term on the right-hand-side is (mind that all constants in the first argument of the covariance disappear):\n",
    "\n",
    "$$\\frac{\\sum_{s=1}^{\\infty}\\rho^{s-1}\\mathbb{C}\\Big[\\mathbb{E}_{t}\\big[\\Delta d_{t+s}\\big],pd_{t}\\Big]}{\\mathbb{V}\\Big[pd_{t}\\Big]}=\\frac{\\sum_{s=1}^{\\infty}\\rho^{s-1}\\mathbb{C}\\Big[a_{d}+b_{d}\\mathbb{E}_{t}\\big[pd_{t+s-1}\\big],pd_{t}\\Big]}{\\mathbb{V}\\Big[pd_{t}\\Big]}=\\frac{b_{d}\\sum_{s=0}^{\\infty}\\big(\\rho\\phi\\big)^{s}\\mathbb{V}\\Big[pd_{t}\\Big]}{\\mathbb{V}\\Big[pd_{t}\\Big]}=b_{d}\\frac{1}{1-\\rho\\phi} $$"
   ]
  },
  {
   "cell_type": "code",
   "execution_count": 158,
   "metadata": {},
   "outputs": [
    {
     "data": {
      "text/plain": [
       "-0.40597717209627926"
      ]
     },
     "execution_count": 158,
     "metadata": {},
     "output_type": "execute_result"
    }
   ],
   "source": [
    "ρ = 1\n",
    "coef(model_d)[2] / (1 - coef(model_pd)[2]*ρ)"
   ]
  },
  {
   "cell_type": "code",
   "execution_count": null,
   "metadata": {},
   "outputs": [],
   "source": []
  }
 ],
 "metadata": {
  "kernelspec": {
   "display_name": "Julia 0.6.2",
   "language": "julia",
   "name": "julia-0.6"
  },
  "language_info": {
   "file_extension": ".jl",
   "mimetype": "application/julia",
   "name": "julia",
   "version": "0.6.2"
  }
 },
 "nbformat": 4,
 "nbformat_minor": 2
}
