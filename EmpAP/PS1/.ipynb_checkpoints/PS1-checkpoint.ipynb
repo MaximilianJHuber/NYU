{
 "cells": [
  {
   "cell_type": "markdown",
   "metadata": {},
   "source": [
    "\n",
    "# Empirical Asset Pricing - PS1\n",
    "## Task 1"
   ]
  },
  {
   "cell_type": "code",
   "execution_count": 5,
   "metadata": {},
   "outputs": [],
   "source": [
    "using CSV, DataFrames, NullableArrays, Plots; gr();"
   ]
  },
  {
   "cell_type": "code",
   "execution_count": 6,
   "metadata": {},
   "outputs": [],
   "source": [
    "df = CSV.read(\"./Data/a5986cc31aad4a02.csv\", delim=',', \n",
    "        types=[Date, Float64, Float64, Float64], \n",
    "        dateformat = DateFormat(\"yyyymmdd\"), nullable=false);"
   ]
  },
  {
   "cell_type": "markdown",
   "metadata": {},
   "source": [
    "### (b)"
   ]
  },
  {
   "cell_type": "code",
   "execution_count": 9,
   "metadata": {},
   "outputs": [],
   "source": [
    "df[:div] = collect((df[:vwretd]-df[:vwretx])[1:end].*df[:totval][vcat(1, 1:(size(df, 1)-1))])\n",
    "df[:year] = Dates.value.(Dates.Year.(df[:DATE]))\n",
    "df[:month] = Dates.value.(Dates.Month.(df[:DATE]));"
   ]
  },
  {
   "cell_type": "code",
   "execution_count": 316,
   "metadata": {},
   "outputs": [
    {
     "data": {
      "text/html": [
       "<table class=\"data-frame\"><thead><tr><th></th><th>DATE</th><th>vwretd</th><th>vwretx</th><th>totval</th><th>div</th><th>year</th><th>month</th></tr></thead><tbody><tr><th>1</th><td>1945-01-31</td><td>0.020218</td><td>0.018951</td><td>4.78619703e7</td><td>60641.11637010003</td><td>1945</td><td>1</td></tr><tr><th>2</th><td>1945-02-28</td><td>0.064477</td><td>0.059894</td><td>5.07251836e7</td><td>219351.40988490017</td><td>1945</td><td>2</td></tr><tr><th>3</th><td>1945-03-31</td><td>-0.039177</td><td>-0.043164</td><td>4.85517438e7</td><td>202241.30701320022</td><td>1945</td><td>3</td></tr><tr><th>4</th><td>1945-04-30</td><td>0.078232</td><td>0.076981</td><td>5.23206432e7</td><td>60738.2314938001</td><td>1945</td><td>4</td></tr><tr><th>5</th><td>1945-05-31</td><td>0.018185</td><td>0.012439</td><td>5.31954659e7</td><td>300634.4158272</td><td>1945</td><td>5</td></tr><tr><th>6</th><td>1945-06-30</td><td>0.004676</td><td>0.001087</td><td>5.32805822e7</td><td>190918.52711509995</td><td>1945</td><td>6</td></tr></tbody></table>"
      ],
      "text/plain": [
       "6×7 DataFrames.DataFrame\n",
       "│ Row │ DATE       │ vwretd    │ vwretx    │ totval    │ div       │ year │\n",
       "├─────┼────────────┼───────────┼───────────┼───────────┼───────────┼──────┤\n",
       "│ 1   │ 1945-01-31 │ 0.020218  │ 0.018951  │ 4.7862e7  │ 60641.1   │ 1945 │\n",
       "│ 2   │ 1945-02-28 │ 0.064477  │ 0.059894  │ 5.07252e7 │ 2.19351e5 │ 1945 │\n",
       "│ 3   │ 1945-03-31 │ -0.039177 │ -0.043164 │ 4.85517e7 │ 2.02241e5 │ 1945 │\n",
       "│ 4   │ 1945-04-30 │ 0.078232  │ 0.076981  │ 5.23206e7 │ 60738.2   │ 1945 │\n",
       "│ 5   │ 1945-05-31 │ 0.018185  │ 0.012439  │ 5.31955e7 │ 3.00634e5 │ 1945 │\n",
       "│ 6   │ 1945-06-30 │ 0.004676  │ 0.001087  │ 5.32806e7 │ 1.90919e5 │ 1945 │\n",
       "\n",
       "│ Row │ month │\n",
       "├─────┼───────┤\n",
       "│ 1   │ 1     │\n",
       "│ 2   │ 2     │\n",
       "│ 3   │ 3     │\n",
       "│ 4   │ 4     │\n",
       "│ 5   │ 5     │\n",
       "│ 6   │ 6     │"
      ]
     },
     "execution_count": 316,
     "metadata": {},
     "output_type": "execute_result"
    }
   ],
   "source": [
    "head(df)"
   ]
  },
  {
   "cell_type": "markdown",
   "metadata": {},
   "source": [
    "### (c)"
   ]
  },
  {
   "cell_type": "code",
   "execution_count": 317,
   "metadata": {},
   "outputs": [],
   "source": [
    "yearly_data = by(df, [:year], df -> sum(df[:div]))\n",
    "\n",
    "yearly_data[:mkt_div] = zeros(floor(Int64, size(df, 1)/12))\n",
    "\n",
    "for t in 1:size(df, 1)   \n",
    "    if ((t-1)%12 == 0) #January\n",
    "        yearly_data[:mkt_div][1+floor(Int64, (t-1)/12)] = df[:div][t]\n",
    "        else #other months\n",
    "        yearly_data[:mkt_div][1+floor(Int64, (t-1)/12)] = \n",
    "            yearly_data[:mkt_div][1+floor(Int64, (t-1)/12)]*(1+df[:vwretd][t-1]) + df[:div][t]\n",
    "    end\n",
    "end\n",
    "\n",
    "names!(yearly_data, [:year, :cash_div, :mkt_div]);"
   ]
  },
  {
   "cell_type": "code",
   "execution_count": 318,
   "metadata": {},
   "outputs": [
    {
     "data": {
      "text/plain": [
       "12-element DataArrays.DataArray{Float64,1}:\n",
       "  60641.1      \n",
       "      2.19351e5\n",
       "      2.02241e5\n",
       "  60738.2      \n",
       "      3.00634e5\n",
       "      1.90919e5\n",
       "  66014.6      \n",
       " 243777.0      \n",
       "      1.83325e5\n",
       "  65865.3      \n",
       "      4.18723e5\n",
       "      2.37665e5"
      ]
     },
     "execution_count": 318,
     "metadata": {},
     "output_type": "execute_result"
    }
   ],
   "source": [
    "(df[df[:year] .== 1945, :div])"
   ]
  },
  {
   "cell_type": "code",
   "execution_count": 319,
   "metadata": {},
   "outputs": [
    {
     "data": {
      "text/plain": [
       "2.1892544541939e6"
      ]
     },
     "execution_count": 319,
     "metadata": {},
     "output_type": "execute_result"
    }
   ],
   "source": [
    "2.2498955541939e6 - 60641.1 "
   ]
  },
  {
   "cell_type": "code",
   "execution_count": 320,
   "metadata": {
    "scrolled": false
   },
   "outputs": [
    {
     "data": {
      "text/html": [
       "<?xml version=\"1.0\" encoding=\"utf-8\"?>\n",
       "<svg xmlns=\"http://www.w3.org/2000/svg\" xmlns:xlink=\"http://www.w3.org/1999/xlink\" width=\"600\" height=\"400\" viewBox=\"0 0 600 400\">\n",
       "<defs>\n",
       "  <clipPath id=\"clip9700\">\n",
       "    <rect x=\"0\" y=\"0\" width=\"600\" height=\"400\"/>\n",
       "  </clipPath>\n",
       "</defs>\n",
       "<polygon clip-path=\"url(#clip9700)\" points=\"\n",
       "0,400 600,400 600,0 0,0 \n",
       "  \" fill=\"#ffffff\" fill-opacity=\"1\"/>\n",
       "<defs>\n",
       "  <clipPath id=\"clip9701\">\n",
       "    <rect x=\"120\" y=\"0\" width=\"421\" height=\"400\"/>\n",
       "  </clipPath>\n",
       "</defs>\n",
       "<polygon clip-path=\"url(#clip9700)\" points=\"\n",
       "75.0547,375.813 580.315,375.813 580.315,31.4961 75.0547,31.4961 \n",
       "  \" fill=\"#ffffff\" fill-opacity=\"1\"/>\n",
       "<defs>\n",
       "  <clipPath id=\"clip9702\">\n",
       "    <rect x=\"75\" y=\"31\" width=\"506\" height=\"345\"/>\n",
       "  </clipPath>\n",
       "</defs>\n",
       "<polyline clip-path=\"url(#clip9702)\" style=\"stroke:#000000; stroke-width:0.5; stroke-opacity:0.1; fill:none\" points=\"\n",
       "  110.636,375.813 110.636,31.4961 \n",
       "  \"/>\n",
       "<polyline clip-path=\"url(#clip9702)\" style=\"stroke:#000000; stroke-width:0.5; stroke-opacity:0.1; fill:none\" points=\"\n",
       "  181.8,375.813 181.8,31.4961 \n",
       "  \"/>\n",
       "<polyline clip-path=\"url(#clip9702)\" style=\"stroke:#000000; stroke-width:0.5; stroke-opacity:0.1; fill:none\" points=\"\n",
       "  252.963,375.813 252.963,31.4961 \n",
       "  \"/>\n",
       "<polyline clip-path=\"url(#clip9702)\" style=\"stroke:#000000; stroke-width:0.5; stroke-opacity:0.1; fill:none\" points=\"\n",
       "  324.127,375.813 324.127,31.4961 \n",
       "  \"/>\n",
       "<polyline clip-path=\"url(#clip9702)\" style=\"stroke:#000000; stroke-width:0.5; stroke-opacity:0.1; fill:none\" points=\"\n",
       "  395.29,375.813 395.29,31.4961 \n",
       "  \"/>\n",
       "<polyline clip-path=\"url(#clip9702)\" style=\"stroke:#000000; stroke-width:0.5; stroke-opacity:0.1; fill:none\" points=\"\n",
       "  466.453,375.813 466.453,31.4961 \n",
       "  \"/>\n",
       "<polyline clip-path=\"url(#clip9702)\" style=\"stroke:#000000; stroke-width:0.5; stroke-opacity:0.1; fill:none\" points=\"\n",
       "  537.617,375.813 537.617,31.4961 \n",
       "  \"/>\n",
       "<polyline clip-path=\"url(#clip9702)\" style=\"stroke:#000000; stroke-width:0.5; stroke-opacity:0.1; fill:none\" points=\"\n",
       "  75.0547,326.612 580.315,326.612 \n",
       "  \"/>\n",
       "<polyline clip-path=\"url(#clip9702)\" style=\"stroke:#000000; stroke-width:0.5; stroke-opacity:0.1; fill:none\" points=\"\n",
       "  75.0547,276.278 580.315,276.278 \n",
       "  \"/>\n",
       "<polyline clip-path=\"url(#clip9702)\" style=\"stroke:#000000; stroke-width:0.5; stroke-opacity:0.1; fill:none\" points=\"\n",
       "  75.0547,225.945 580.315,225.945 \n",
       "  \"/>\n",
       "<polyline clip-path=\"url(#clip9702)\" style=\"stroke:#000000; stroke-width:0.5; stroke-opacity:0.1; fill:none\" points=\"\n",
       "  75.0547,175.611 580.315,175.611 \n",
       "  \"/>\n",
       "<polyline clip-path=\"url(#clip9702)\" style=\"stroke:#000000; stroke-width:0.5; stroke-opacity:0.1; fill:none\" points=\"\n",
       "  75.0547,125.277 580.315,125.277 \n",
       "  \"/>\n",
       "<polyline clip-path=\"url(#clip9702)\" style=\"stroke:#000000; stroke-width:0.5; stroke-opacity:0.1; fill:none\" points=\"\n",
       "  75.0547,74.9432 580.315,74.9432 \n",
       "  \"/>\n",
       "<polyline clip-path=\"url(#clip9700)\" style=\"stroke:#000000; stroke-width:1; stroke-opacity:1; fill:none\" points=\"\n",
       "  75.0547,375.813 580.315,375.813 \n",
       "  \"/>\n",
       "<polyline clip-path=\"url(#clip9700)\" style=\"stroke:#000000; stroke-width:1; stroke-opacity:1; fill:none\" points=\"\n",
       "  75.0547,375.813 75.0547,31.4961 \n",
       "  \"/>\n",
       "<polyline clip-path=\"url(#clip9700)\" style=\"stroke:#000000; stroke-width:1; stroke-opacity:1; fill:none\" points=\"\n",
       "  110.636,375.813 110.636,370.649 \n",
       "  \"/>\n",
       "<polyline clip-path=\"url(#clip9700)\" style=\"stroke:#000000; stroke-width:1; stroke-opacity:1; fill:none\" points=\"\n",
       "  181.8,375.813 181.8,370.649 \n",
       "  \"/>\n",
       "<polyline clip-path=\"url(#clip9700)\" style=\"stroke:#000000; stroke-width:1; stroke-opacity:1; fill:none\" points=\"\n",
       "  252.963,375.813 252.963,370.649 \n",
       "  \"/>\n",
       "<polyline clip-path=\"url(#clip9700)\" style=\"stroke:#000000; stroke-width:1; stroke-opacity:1; fill:none\" points=\"\n",
       "  324.127,375.813 324.127,370.649 \n",
       "  \"/>\n",
       "<polyline clip-path=\"url(#clip9700)\" style=\"stroke:#000000; stroke-width:1; stroke-opacity:1; fill:none\" points=\"\n",
       "  395.29,375.813 395.29,370.649 \n",
       "  \"/>\n",
       "<polyline clip-path=\"url(#clip9700)\" style=\"stroke:#000000; stroke-width:1; stroke-opacity:1; fill:none\" points=\"\n",
       "  466.453,375.813 466.453,370.649 \n",
       "  \"/>\n",
       "<polyline clip-path=\"url(#clip9700)\" style=\"stroke:#000000; stroke-width:1; stroke-opacity:1; fill:none\" points=\"\n",
       "  537.617,375.813 537.617,370.649 \n",
       "  \"/>\n",
       "<polyline clip-path=\"url(#clip9700)\" style=\"stroke:#000000; stroke-width:1; stroke-opacity:1; fill:none\" points=\"\n",
       "  75.0547,326.612 82.6336,326.612 \n",
       "  \"/>\n",
       "<polyline clip-path=\"url(#clip9700)\" style=\"stroke:#000000; stroke-width:1; stroke-opacity:1; fill:none\" points=\"\n",
       "  75.0547,276.278 82.6336,276.278 \n",
       "  \"/>\n",
       "<polyline clip-path=\"url(#clip9700)\" style=\"stroke:#000000; stroke-width:1; stroke-opacity:1; fill:none\" points=\"\n",
       "  75.0547,225.945 82.6336,225.945 \n",
       "  \"/>\n",
       "<polyline clip-path=\"url(#clip9700)\" style=\"stroke:#000000; stroke-width:1; stroke-opacity:1; fill:none\" points=\"\n",
       "  75.0547,175.611 82.6336,175.611 \n",
       "  \"/>\n",
       "<polyline clip-path=\"url(#clip9700)\" style=\"stroke:#000000; stroke-width:1; stroke-opacity:1; fill:none\" points=\"\n",
       "  75.0547,125.277 82.6336,125.277 \n",
       "  \"/>\n",
       "<polyline clip-path=\"url(#clip9700)\" style=\"stroke:#000000; stroke-width:1; stroke-opacity:1; fill:none\" points=\"\n",
       "  75.0547,74.9432 82.6336,74.9432 \n",
       "  \"/>\n",
       "<g clip-path=\"url(#clip9700)\">\n",
       "<text style=\"fill:#000000; fill-opacity:1; font-family:Arial,Helvetica Neue,Helvetica,sans-serif; font-size:12; text-anchor:middle;\" transform=\"rotate(0, 110.636, 389.613)\" x=\"110.636\" y=\"389.613\">1950</text>\n",
       "</g>\n",
       "<g clip-path=\"url(#clip9700)\">\n",
       "<text style=\"fill:#000000; fill-opacity:1; font-family:Arial,Helvetica Neue,Helvetica,sans-serif; font-size:12; text-anchor:middle;\" transform=\"rotate(0, 181.8, 389.613)\" x=\"181.8\" y=\"389.613\">1960</text>\n",
       "</g>\n",
       "<g clip-path=\"url(#clip9700)\">\n",
       "<text style=\"fill:#000000; fill-opacity:1; font-family:Arial,Helvetica Neue,Helvetica,sans-serif; font-size:12; text-anchor:middle;\" transform=\"rotate(0, 252.963, 389.613)\" x=\"252.963\" y=\"389.613\">1970</text>\n",
       "</g>\n",
       "<g clip-path=\"url(#clip9700)\">\n",
       "<text style=\"fill:#000000; fill-opacity:1; font-family:Arial,Helvetica Neue,Helvetica,sans-serif; font-size:12; text-anchor:middle;\" transform=\"rotate(0, 324.127, 389.613)\" x=\"324.127\" y=\"389.613\">1980</text>\n",
       "</g>\n",
       "<g clip-path=\"url(#clip9700)\">\n",
       "<text style=\"fill:#000000; fill-opacity:1; font-family:Arial,Helvetica Neue,Helvetica,sans-serif; font-size:12; text-anchor:middle;\" transform=\"rotate(0, 395.29, 389.613)\" x=\"395.29\" y=\"389.613\">1990</text>\n",
       "</g>\n",
       "<g clip-path=\"url(#clip9700)\">\n",
       "<text style=\"fill:#000000; fill-opacity:1; font-family:Arial,Helvetica Neue,Helvetica,sans-serif; font-size:12; text-anchor:middle;\" transform=\"rotate(0, 466.453, 389.613)\" x=\"466.453\" y=\"389.613\">2000</text>\n",
       "</g>\n",
       "<g clip-path=\"url(#clip9700)\">\n",
       "<text style=\"fill:#000000; fill-opacity:1; font-family:Arial,Helvetica Neue,Helvetica,sans-serif; font-size:12; text-anchor:middle;\" transform=\"rotate(0, 537.617, 389.613)\" x=\"537.617\" y=\"389.613\">2010</text>\n",
       "</g>\n",
       "<g clip-path=\"url(#clip9700)\">\n",
       "<text style=\"fill:#000000; fill-opacity:1; font-family:Arial,Helvetica Neue,Helvetica,sans-serif; font-size:12; text-anchor:end;\" transform=\"rotate(0, 69.0547, 331.112)\" x=\"69.0547\" y=\"331.112\">100000000</text>\n",
       "</g>\n",
       "<g clip-path=\"url(#clip9700)\">\n",
       "<text style=\"fill:#000000; fill-opacity:1; font-family:Arial,Helvetica Neue,Helvetica,sans-serif; font-size:12; text-anchor:end;\" transform=\"rotate(0, 69.0547, 280.778)\" x=\"69.0547\" y=\"280.778\">200000000</text>\n",
       "</g>\n",
       "<g clip-path=\"url(#clip9700)\">\n",
       "<text style=\"fill:#000000; fill-opacity:1; font-family:Arial,Helvetica Neue,Helvetica,sans-serif; font-size:12; text-anchor:end;\" transform=\"rotate(0, 69.0547, 230.445)\" x=\"69.0547\" y=\"230.445\">300000000</text>\n",
       "</g>\n",
       "<g clip-path=\"url(#clip9700)\">\n",
       "<text style=\"fill:#000000; fill-opacity:1; font-family:Arial,Helvetica Neue,Helvetica,sans-serif; font-size:12; text-anchor:end;\" transform=\"rotate(0, 69.0547, 180.111)\" x=\"69.0547\" y=\"180.111\">400000000</text>\n",
       "</g>\n",
       "<g clip-path=\"url(#clip9700)\">\n",
       "<text style=\"fill:#000000; fill-opacity:1; font-family:Arial,Helvetica Neue,Helvetica,sans-serif; font-size:12; text-anchor:end;\" transform=\"rotate(0, 69.0547, 129.777)\" x=\"69.0547\" y=\"129.777\">500000000</text>\n",
       "</g>\n",
       "<g clip-path=\"url(#clip9700)\">\n",
       "<text style=\"fill:#000000; fill-opacity:1; font-family:Arial,Helvetica Neue,Helvetica,sans-serif; font-size:12; text-anchor:end;\" transform=\"rotate(0, 69.0547, 79.4432)\" x=\"69.0547\" y=\"79.4432\">600000000</text>\n",
       "</g>\n",
       "<g clip-path=\"url(#clip9700)\">\n",
       "<text style=\"fill:#000000; fill-opacity:1; font-family:Arial,Helvetica Neue,Helvetica,sans-serif; font-size:21; text-anchor:middle;\" transform=\"rotate(0, 327.685, 18)\" x=\"327.685\" y=\"18\">Annual Dividends invested in ...</text>\n",
       "</g>\n",
       "<polyline clip-path=\"url(#clip9702)\" style=\"stroke:#009af9; stroke-width:1; stroke-opacity:1; fill:none\" points=\"\n",
       "  75.0547,375.813 82.171,375.638 89.2874,375.319 96.4037,375.055 103.52,374.862 110.636,374.296 117.753,374.26 124.869,374.142 131.985,374 139.102,373.753 \n",
       "  146.218,373.263 153.334,372.877 160.451,372.6 167.567,372.646 174.683,372.32 181.8,372.077 188.916,371.783 196.033,371.158 203.149,370.503 210.265,369.835 \n",
       "  217.382,369.043 224.498,368.447 231.614,368.105 238.731,367.502 245.847,366.713 252.963,366.811 260.08,366.582 267.196,365.998 274.312,363.679 281.429,362.592 \n",
       "  288.545,361.984 295.661,359.999 302.778,357.139 309.894,354.756 317.01,351.789 324.127,348.743 331.243,345.716 338.359,344.246 345.476,342.166 352.592,339.79 \n",
       "  359.708,338.203 366.825,335.185 373.941,331.088 381.057,322.849 388.174,322.201 395.29,321.813 402.406,322.476 409.523,320.581 416.639,316.72 423.755,311.915 \n",
       "  430.872,306.171 437.988,300.58 445.104,295.657 452.221,290.418 459.337,282.009 466.453,282.718 473.57,282.775 480.686,279.3 487.803,265.251 494.919,229.719 \n",
       "  502.035,225.3 509.152,202.309 516.268,180.694 523.384,185.025 530.501,217.041 537.617,202.49 544.733,182.179 551.85,129.838 558.966,123.316 566.082,87.5039 \n",
       "  573.199,65.5228 580.315,54.5885 \n",
       "  \"/>\n",
       "<polyline clip-path=\"url(#clip9702)\" style=\"stroke:#e26f46; stroke-width:1; stroke-opacity:1; fill:none\" points=\"\n",
       "  75.0547,375.613 82.171,375.778 89.2874,375.303 96.4037,375.129 103.52,374.664 110.636,374.034 117.753,374.13 124.869,373.964 131.985,373.91 139.102,373.17 \n",
       "  146.218,372.867 153.334,372.883 160.451,372.825 167.567,371.88 174.683,372.197 181.8,371.96 188.916,371.266 196.033,371.022 203.149,370.122 210.265,369.417 \n",
       "  217.382,368.582 224.498,368.803 231.614,367.607 238.731,366.193 245.847,367.067 252.963,366.174 260.08,366.788 267.196,365.128 274.312,365.106 281.429,364.51 \n",
       "  288.545,360.734 295.661,359.508 302.778,356.913 309.894,354.255 317.01,349.63 324.127,341.943 331.243,345.425 338.359,337.237 345.476,339.896 352.592,338.371 \n",
       "  359.708,334.094 366.825,332.981 373.941,339.469 381.057,320.824 388.174,317.347 395.29,323.6 402.406,320.57 409.523,317.402 416.639,314.345 423.755,312.774 \n",
       "  430.872,295.836 437.988,290.934 445.104,285.777 452.221,284.506 459.337,274.501 466.453,292.972 473.57,286.332 480.686,284.129 487.803,248.41 494.919,220.649 \n",
       "  502.035,216.302 509.152,188.509 516.268,177.511 523.384,239.902 530.501,182.54 537.617,189.366 544.733,188.621 551.85,120.814 558.966,94.3218 566.082,69.8774 \n",
       "  573.199,64.8239 580.315,31.4961 \n",
       "  \"/>\n",
       "<polygon clip-path=\"url(#clip9700)\" points=\"\n",
       "466.096,97.7361 562.315,97.7361 562.315,52.3761 466.096,52.3761 \n",
       "  \" fill=\"#ffffff\" fill-opacity=\"1\"/>\n",
       "<polyline clip-path=\"url(#clip9700)\" style=\"stroke:#000000; stroke-width:1; stroke-opacity:1; fill:none\" points=\"\n",
       "  466.096,97.7361 562.315,97.7361 562.315,52.3761 466.096,52.3761 466.096,97.7361 \n",
       "  \"/>\n",
       "<polyline clip-path=\"url(#clip9700)\" style=\"stroke:#009af9; stroke-width:1; stroke-opacity:1; fill:none\" points=\"\n",
       "  472.096,67.4961 508.096,67.4961 \n",
       "  \"/>\n",
       "<g clip-path=\"url(#clip9700)\">\n",
       "<text style=\"fill:#000000; fill-opacity:1; font-family:Arial,Helvetica Neue,Helvetica,sans-serif; font-size:12; text-anchor:start;\" transform=\"rotate(0, 514.096, 71.9961)\" x=\"514.096\" y=\"71.9961\">Cash</text>\n",
       "</g>\n",
       "<polyline clip-path=\"url(#clip9700)\" style=\"stroke:#e26f46; stroke-width:1; stroke-opacity:1; fill:none\" points=\"\n",
       "  472.096,82.6161 508.096,82.6161 \n",
       "  \"/>\n",
       "<g clip-path=\"url(#clip9700)\">\n",
       "<text style=\"fill:#000000; fill-opacity:1; font-family:Arial,Helvetica Neue,Helvetica,sans-serif; font-size:12; text-anchor:start;\" transform=\"rotate(0, 514.096, 87.1161)\" x=\"514.096\" y=\"87.1161\">Market</text>\n",
       "</g>\n",
       "</svg>\n"
      ]
     },
     "execution_count": 320,
     "metadata": {},
     "output_type": "execute_result"
    }
   ],
   "source": [
    "plot(yearly_data[:year], yearly_data[:cash_div], label=\"Cash\", title=\"Annual Dividends invested in ...\")\n",
    "plot!(yearly_data[:year], yearly_data[:mkt_div], label=\"Market\")"
   ]
  },
  {
   "cell_type": "markdown",
   "metadata": {},
   "source": [
    "### (d)"
   ]
  },
  {
   "cell_type": "code",
   "execution_count": 321,
   "metadata": {},
   "outputs": [],
   "source": [
    "yearly_data[:ret] = log.(by(df, [:year], df -> prod(1 .+ df[:vwretd]))[:x1]);"
   ]
  },
  {
   "cell_type": "code",
   "execution_count": 322,
   "metadata": {},
   "outputs": [],
   "source": [
    "yearly_data[:cash_div_growth] = \n",
    "    vcat(0, log.(yearly_data[:cash_div][2:end]./yearly_data[:cash_div][1:end-1]))\n",
    "\n",
    "yearly_data[:mkt_div_growth] = \n",
    "    vcat(0, log.(yearly_data[:mkt_div][2:end]./yearly_data[:mkt_div][1:end-1]));"
   ]
  },
  {
   "cell_type": "code",
   "execution_count": 323,
   "metadata": {},
   "outputs": [],
   "source": [
    "yearly_data[:totval] = by(df, [:year], df -> df[:totval][12])[:x1]\n",
    "yearly_data[:cash_logPD] = log.(yearly_data[:totval] ./ yearly_data[:cash_div])\n",
    "yearly_data[:mkt_logPD] = log.(yearly_data[:totval] ./ yearly_data[:mkt_div]);"
   ]
  },
  {
   "cell_type": "code",
   "execution_count": 324,
   "metadata": {},
   "outputs": [
    {
     "data": {
      "text/html": [
       "<table class=\"data-frame\"><thead><tr><th></th><th>year</th><th>cash_div</th><th>mkt_div</th><th>ret</th><th>cash_div_growth</th><th>mkt_div_growth</th><th>totval</th><th>cash_logPD</th><th>mkt_logPD</th></tr></thead><tbody><tr><th>1</th><td>1945</td><td>2.2498955541939e6</td><td>2.6477090784431132e6</td><td>0.3297315675814011</td><td>0.0</td><td>0.0</td><td>6.43306221e7</td><td>3.3531519610447926</td><td>3.1903409884224825</td></tr><tr><th>2</th><td>1946</td><td>2.599129628707599e6</td><td>2.319925542087249e6</td><td>-0.06636631210115301</td><td>0.144292836013417</td><td>-0.1321596761676265</td><td>5.96843836e7</td><td>3.1338937741466646</td><td>3.247535313705398</td></tr><tr><th>3</th><td>1947</td><td>3.231865534292101e6</td><td>3.2636809326087963e6</td><td>0.032401138228775835</td><td>0.21788290451050718</td><td>0.3413205875984371</td><td>5.98853607e7</td><td>2.9193725442879574</td><td>2.909576400758761</td></tr><tr><th>4</th><td>1948</td><td>3.757383750905099e6</td><td>3.6104193620426296e6</td><td>0.021089536329669166</td><td>0.15066336897900384</td><td>0.10096825353503949</td><td>5.83012582e7</td><td>2.741900770315167</td><td>2.7817997422299343</td></tr><tr><th>5</th><td>1949</td><td>4.139718261552899e6</td><td>4.534289215466398e6</td><td>0.1832323109661117</td><td>0.0969048284729966</td><td>0.2278444058309379</td><td>6.73444034e7</td><td>2.7891920693939216</td><td>2.698151463950748</td></tr><tr><th>6</th><td>1950</td><td>5.265457501587398e6</td><td>5.784492814004975e6</td><td>0.26599950371588965</td><td>0.24054030394266318</td><td>0.24351234600177502</td><td>8.48339739e7</td><td>2.779528061478855</td><td>2.6855154139765696</td></tr></tbody></table>"
      ],
      "text/plain": [
       "6×9 DataFrames.DataFrame\n",
       "│ Row │ year │ cash_div  │ mkt_div   │ ret        │ cash_div_growth │\n",
       "├─────┼──────┼───────────┼───────────┼────────────┼─────────────────┤\n",
       "│ 1   │ 1945 │ 2.2499e6  │ 2.64771e6 │ 0.329732   │ 0.0             │\n",
       "│ 2   │ 1946 │ 2.59913e6 │ 2.31993e6 │ -0.0663663 │ 0.144293        │\n",
       "│ 3   │ 1947 │ 3.23187e6 │ 3.26368e6 │ 0.0324011  │ 0.217883        │\n",
       "│ 4   │ 1948 │ 3.75738e6 │ 3.61042e6 │ 0.0210895  │ 0.150663        │\n",
       "│ 5   │ 1949 │ 4.13972e6 │ 4.53429e6 │ 0.183232   │ 0.0969048       │\n",
       "│ 6   │ 1950 │ 5.26546e6 │ 5.78449e6 │ 0.266      │ 0.24054         │\n",
       "\n",
       "│ Row │ mkt_div_growth │ totval    │ cash_logPD │ mkt_logPD │\n",
       "├─────┼────────────────┼───────────┼────────────┼───────────┤\n",
       "│ 1   │ 0.0            │ 6.43306e7 │ 3.35315    │ 3.19034   │\n",
       "│ 2   │ -0.13216       │ 5.96844e7 │ 3.13389    │ 3.24754   │\n",
       "│ 3   │ 0.341321       │ 5.98854e7 │ 2.91937    │ 2.90958   │\n",
       "│ 4   │ 0.100968       │ 5.83013e7 │ 2.7419     │ 2.7818    │\n",
       "│ 5   │ 0.227844       │ 6.73444e7 │ 2.78919    │ 2.69815   │\n",
       "│ 6   │ 0.243512       │ 8.4834e7  │ 2.77953    │ 2.68552   │"
      ]
     },
     "execution_count": 324,
     "metadata": {},
     "output_type": "execute_result"
    }
   ],
   "source": [
    "head(yearly_data)"
   ]
  },
  {
   "cell_type": "markdown",
   "metadata": {},
   "source": [
    "Mean and standard deviation of the cash- and market-invested dividends growth is:"
   ]
  },
  {
   "cell_type": "code",
   "execution_count": 325,
   "metadata": {},
   "outputs": [
    {
     "data": {
      "text/plain": [
       "2-element Array{Any,1}:\n",
       " [0.0784899]\n",
       " [0.0771895]"
      ]
     },
     "execution_count": 325,
     "metadata": {},
     "output_type": "execute_result"
    }
   ],
   "source": [
    "colwise(mean, yearly_data[[:cash_div_growth, :mkt_div_growth]])"
   ]
  },
  {
   "cell_type": "code",
   "execution_count": 326,
   "metadata": {},
   "outputs": [
    {
     "data": {
      "text/plain": [
       "2-element Array{Any,1}:\n",
       " [0.0686968]\n",
       " [0.133035] "
      ]
     },
     "execution_count": 326,
     "metadata": {},
     "output_type": "execute_result"
    }
   ],
   "source": [
    "colwise(std, yearly_data[[:cash_div_growth, :mkt_div_growth]])"
   ]
  },
  {
   "cell_type": "markdown",
   "metadata": {},
   "source": [
    "Investing the dividends in the market portfolio does not yield a higher average dividend growth, due to the [January effect](https://en.wikipedia.org/wiki/January_effect effect). The standard deviation of the market-invested dividend growth is also much higher, due to stock market fluctuations."
   ]
  },
  {
   "cell_type": "markdown",
   "metadata": {},
   "source": [
    "### (e)"
   ]
  },
  {
   "cell_type": "code",
   "execution_count": 327,
   "metadata": {},
   "outputs": [],
   "source": [
    "using GLM"
   ]
  },
  {
   "cell_type": "code",
   "execution_count": 328,
   "metadata": {},
   "outputs": [],
   "source": [
    "data_prep = yearly_data[2:end, [:year, :ret, :cash_logPD, :cash_div_growth]]\n",
    "data_prep[:lagged_cash_logPD] = yearly_data[:cash_logPD][1:end-1];"
   ]
  },
  {
   "cell_type": "markdown",
   "metadata": {},
   "source": [
    "Full Sample:"
   ]
  },
  {
   "cell_type": "code",
   "execution_count": 329,
   "metadata": {},
   "outputs": [
    {
     "data": {
      "text/plain": [
       "DataFrames.DataFrameRegressionModel{GLM.LinearModel{GLM.LmResp{Array{Float64,1}},GLM.DensePredChol{Float64,Base.LinAlg.Cholesky{Float64,Array{Float64,2}}}},Array{Float64,2}}\n",
       "\n",
       "Formula: ret ~ 1 + lagged_cash_logPD\n",
       "\n",
       "Coefficients:\n",
       "                    Estimate Std.Error  t value Pr(>|t|)\n",
       "(Intercept)         0.530521  0.157918  3.35947   0.0013\n",
       "lagged_cash_logPD  -0.122306 0.0446251 -2.74074   0.0078\n"
      ]
     },
     "execution_count": 329,
     "metadata": {},
     "output_type": "execute_result"
    }
   ],
   "source": [
    "model = lm(@formula(ret ~ lagged_cash_logPD), data_prep)"
   ]
  },
  {
   "cell_type": "code",
   "execution_count": 330,
   "metadata": {},
   "outputs": [
    {
     "data": {
      "text/plain": [
       "0.09817662392924986"
      ]
     },
     "execution_count": 330,
     "metadata": {},
     "output_type": "execute_result"
    }
   ],
   "source": [
    "r2(model)"
   ]
  },
  {
   "cell_type": "code",
   "execution_count": 331,
   "metadata": {},
   "outputs": [
    {
     "data": {
      "text/plain": [
       "DataFrames.DataFrameRegressionModel{GLM.LinearModel{GLM.LmResp{Array{Float64,1}},GLM.DensePredChol{Float64,Base.LinAlg.Cholesky{Float64,Array{Float64,2}}}},Array{Float64,2}}\n",
       "\n",
       "Formula: cash_div_growth ~ 1 + lagged_cash_logPD\n",
       "\n",
       "Coefficients:\n",
       "                      Estimate Std.Error  t value Pr(>|t|)\n",
       "(Intercept)          0.0986845  0.069243  1.42519   0.1586\n",
       "lagged_cash_logPD  -0.00543238 0.0195669 -0.27763   0.7821\n"
      ]
     },
     "execution_count": 331,
     "metadata": {},
     "output_type": "execute_result"
    }
   ],
   "source": [
    "model_d = lm(@formula(cash_div_growth ~ lagged_cash_logPD), data_prep)"
   ]
  },
  {
   "cell_type": "code",
   "execution_count": 332,
   "metadata": {},
   "outputs": [
    {
     "data": {
      "text/plain": [
       "0.0011158350008704243"
      ]
     },
     "execution_count": 332,
     "metadata": {},
     "output_type": "execute_result"
    }
   ],
   "source": [
    "r2(model_d)"
   ]
  },
  {
   "cell_type": "markdown",
   "metadata": {},
   "source": [
    "First part of the sample:"
   ]
  },
  {
   "cell_type": "code",
   "execution_count": 333,
   "metadata": {},
   "outputs": [
    {
     "data": {
      "text/plain": [
       "DataFrames.DataFrameRegressionModel{GLM.LinearModel{GLM.LmResp{Array{Float64,1}},GLM.DensePredChol{Float64,Base.LinAlg.Cholesky{Float64,Array{Float64,2}}}},Array{Float64,2}}\n",
       "\n",
       "Formula: ret ~ 1 + lagged_cash_logPD\n",
       "\n",
       "Coefficients:\n",
       "                   Estimate Std.Error  t value Pr(>|t|)\n",
       "(Intercept)         1.08774  0.266012  4.08904   0.0002\n",
       "lagged_cash_logPD  -0.30019 0.0812821 -3.69319   0.0006\n"
      ]
     },
     "execution_count": 333,
     "metadata": {},
     "output_type": "execute_result"
    }
   ],
   "source": [
    "model_early = lm(@formula(ret ~ lagged_cash_logPD), data_prep[data_prep[:year] .< 1990, :])"
   ]
  },
  {
   "cell_type": "code",
   "execution_count": 334,
   "metadata": {},
   "outputs": [
    {
     "data": {
      "text/plain": [
       "0.24514226762662428"
      ]
     },
     "execution_count": 334,
     "metadata": {},
     "output_type": "execute_result"
    }
   ],
   "source": [
    "r2(model_early)"
   ]
  },
  {
   "cell_type": "code",
   "execution_count": 286,
   "metadata": {},
   "outputs": [
    {
     "data": {
      "text/plain": [
       "DataFrames.DataFrameRegressionModel{GLM.LinearModel{GLM.LmResp{Array{Float64,1}},GLM.DensePredChol{Float64,Base.LinAlg.Cholesky{Float64,Array{Float64,2}}}},Array{Float64,2}}\n",
       "\n",
       "Formula: cash_div_growth ~ 1 + lagged_cash_logPD\n",
       "\n",
       "Coefficients:\n",
       "                      Estimate Std.Error   t value Pr(>|t|)\n",
       "(Intercept)           0.101015  0.108621  0.929978   0.3577\n",
       "lagged_cash_logPD  -0.00394508   0.03319 -0.118863   0.9060\n"
      ]
     },
     "execution_count": 286,
     "metadata": {},
     "output_type": "execute_result"
    }
   ],
   "source": [
    "model_d_early = lm(@formula(cash_div_growth ~ lagged_cash_logPD), data_prep[data_prep[:year] .< 1990, :])"
   ]
  },
  {
   "cell_type": "code",
   "execution_count": 287,
   "metadata": {},
   "outputs": [
    {
     "data": {
      "text/plain": [
       "0.0003362798055228655"
      ]
     },
     "execution_count": 287,
     "metadata": {},
     "output_type": "execute_result"
    }
   ],
   "source": [
    "r2(model_d_early)"
   ]
  },
  {
   "cell_type": "markdown",
   "metadata": {},
   "source": [
    "Second part:"
   ]
  },
  {
   "cell_type": "code",
   "execution_count": 288,
   "metadata": {},
   "outputs": [
    {
     "data": {
      "text/plain": [
       "DataFrames.DataFrameRegressionModel{GLM.LinearModel{GLM.LmResp{Array{Float64,1}},GLM.DensePredChol{Float64,Base.LinAlg.Cholesky{Float64,Array{Float64,2}}}},Array{Float64,2}}\n",
       "\n",
       "Formula: ret ~ 1 + lagged_cash_logPD\n",
       "\n",
       "Coefficients:\n",
       "                    Estimate Std.Error  t value Pr(>|t|)\n",
       "(Intercept)         0.858665  0.450902  1.90433   0.0684\n",
       "lagged_cash_logPD  -0.196313  0.114617 -1.71278   0.0991\n"
      ]
     },
     "execution_count": 288,
     "metadata": {},
     "output_type": "execute_result"
    }
   ],
   "source": [
    "model_late = lm(@formula(ret ~ lagged_cash_logPD), data_prep[data_prep[:year] .>= 1990, :])"
   ]
  },
  {
   "cell_type": "code",
   "execution_count": 289,
   "metadata": {},
   "outputs": [
    {
     "data": {
      "text/plain": [
       "0.10502071705460247"
      ]
     },
     "execution_count": 289,
     "metadata": {},
     "output_type": "execute_result"
    }
   ],
   "source": [
    "r2(model_late)"
   ]
  },
  {
   "cell_type": "code",
   "execution_count": 290,
   "metadata": {},
   "outputs": [
    {
     "data": {
      "text/plain": [
       "DataFrames.DataFrameRegressionModel{GLM.LinearModel{GLM.LmResp{Array{Float64,1}},GLM.DensePredChol{Float64,Base.LinAlg.Cholesky{Float64,Array{Float64,2}}}},Array{Float64,2}}\n",
       "\n",
       "Formula: cash_div_growth ~ 1 + lagged_cash_logPD\n",
       "\n",
       "Coefficients:\n",
       "                    Estimate Std.Error  t value Pr(>|t|)\n",
       "(Intercept)        -0.259776  0.215559 -1.20513   0.2394\n",
       "lagged_cash_logPD  0.0829554 0.0547938  1.51396   0.1426\n"
      ]
     },
     "execution_count": 290,
     "metadata": {},
     "output_type": "execute_result"
    }
   ],
   "source": [
    "model_d_late = lm(@formula(cash_div_growth ~ lagged_cash_logPD), data_prep[data_prep[:year] .>= 1990, :])"
   ]
  },
  {
   "cell_type": "code",
   "execution_count": 291,
   "metadata": {},
   "outputs": [
    {
     "data": {
      "text/plain": [
       "0.08398287215184552"
      ]
     },
     "execution_count": 291,
     "metadata": {},
     "output_type": "execute_result"
    }
   ],
   "source": [
    "r2(model_d_late)"
   ]
  },
  {
   "cell_type": "markdown",
   "metadata": {},
   "source": [
    "In the 90s the price dividend ratio increased dramatically, but stocks performed well. This seems like a structural break, so splitting up the sample benefits the $R^2$ in both.\n",
    "\n",
    "Dividend growth is hardly predictable."
   ]
  },
  {
   "cell_type": "markdown",
   "metadata": {},
   "source": [
    "### Preliminaries for (f) \n",
    "The [Campbell Shiller decomposition](http://onlinelibrary.wiley.com/doi/10.1111/j.1540-6261.1988.tb04598.x/abstract) starts out from the defininition of the return on a stock: $R_{t+1}=\\frac{P_{t+1}+D_{t+1}}{P_{t}}$.\n",
    "\n",
    "Taking logs:\n",
    "\n",
    "$$r_{t+1}=p_{t+1}-p_{t}+\\log\\Big(1+\\exp(\\underset{dp_{t+1}}{\\underbrace{d_{t+1}-p_{t+1}}})\\Big)$$\n",
    "\n",
    "The Taylor approximation of the last term around $\\bar{dp}$ is:\n",
    "\n",
    "$$\\log\\Big(1+\\exp(dp_{t+1})\\Big)\\approx\\underset{\\kappa}{\\underbrace{\\log\\Big(1+\\exp(\\bar{dp})\\Big)}}+\\underset{1-\\rho}{\\underbrace{\\frac{\\exp(\\bar{dp})}{1+\\exp(\\bar{dp})}}}\\Big(dp_{t+1}-\\bar{dp}\\Big)+\\frac{1}{2}\\frac{\\exp(\\tilde{dp})}{\\Big(1+\\exp(\\tilde{dp})\\Big)^{2}}\\Big(dp_{t+1}-\\bar{dp}\\Big)^{2}$$\n",
    "\n",
    "where $\\tilde{dp}$ is between $dp_{t+1}$ and $\\bar{dp}$ (this is the [Lagrange form](https://en.wikipedia.org/wiki/Taylor%27s_theorem#Explicit_formulas_for_the_remainder) of the remainder).\n",
    "\n",
    "Mind also that the remainder coefficient is a increasing function for all $\\tilde{dp} \\leq 0$."
   ]
  },
  {
   "cell_type": "code",
   "execution_count": 292,
   "metadata": {},
   "outputs": [
    {
     "data": {
      "text/plain": [
       "0.9712135004103063"
      ]
     },
     "execution_count": 292,
     "metadata": {},
     "output_type": "execute_result"
    }
   ],
   "source": [
    "dp = -yearly_data[:cash_logPD]\n",
    "dp_bar = mean(dp)\n",
    "κ = log(1 + exp(dp_bar))\n",
    "ρ = 1 - exp(dp_bar)/(1 + exp(dp_bar))"
   ]
  },
  {
   "cell_type": "code",
   "execution_count": 293,
   "metadata": {},
   "outputs": [
    {
     "data": {
      "text/plain": [
       "16.444646771097048"
      ]
     },
     "execution_count": 293,
     "metadata": {},
     "output_type": "execute_result"
    }
   ],
   "source": [
    "exp(2.8)"
   ]
  },
  {
   "cell_type": "code",
   "execution_count": 294,
   "metadata": {
    "scrolled": false
   },
   "outputs": [
    {
     "data": {
      "text/html": [
       "<?xml version=\"1.0\" encoding=\"utf-8\"?>\n",
       "<svg xmlns=\"http://www.w3.org/2000/svg\" xmlns:xlink=\"http://www.w3.org/1999/xlink\" width=\"600\" height=\"400\" viewBox=\"0 0 600 400\">\n",
       "<defs>\n",
       "  <clipPath id=\"clip9500\">\n",
       "    <rect x=\"0\" y=\"0\" width=\"600\" height=\"400\"/>\n",
       "  </clipPath>\n",
       "</defs>\n",
       "<polygon clip-path=\"url(#clip9500)\" points=\"\n",
       "0,400 600,400 600,0 0,0 \n",
       "  \" fill=\"#ffffff\" fill-opacity=\"1\"/>\n",
       "<defs>\n",
       "  <clipPath id=\"clip9501\">\n",
       "    <rect x=\"120\" y=\"0\" width=\"421\" height=\"400\"/>\n",
       "  </clipPath>\n",
       "</defs>\n",
       "<polygon clip-path=\"url(#clip9500)\" points=\"\n",
       "45.4014,375.813 580.315,375.813 580.315,11.811 45.4014,11.811 \n",
       "  \" fill=\"#ffffff\" fill-opacity=\"1\"/>\n",
       "<defs>\n",
       "  <clipPath id=\"clip9502\">\n",
       "    <rect x=\"45\" y=\"11\" width=\"536\" height=\"365\"/>\n",
       "  </clipPath>\n",
       "</defs>\n",
       "<polyline clip-path=\"url(#clip9502)\" style=\"stroke:#000000; stroke-width:0.5; stroke-opacity:0.1; fill:none\" points=\"\n",
       "  46.0804,375.813 46.0804,11.811 \n",
       "  \"/>\n",
       "<polyline clip-path=\"url(#clip9502)\" style=\"stroke:#000000; stroke-width:0.5; stroke-opacity:0.1; fill:none\" points=\"\n",
       "  198.016,375.813 198.016,11.811 \n",
       "  \"/>\n",
       "<polyline clip-path=\"url(#clip9502)\" style=\"stroke:#000000; stroke-width:0.5; stroke-opacity:0.1; fill:none\" points=\"\n",
       "  349.951,375.813 349.951,11.811 \n",
       "  \"/>\n",
       "<polyline clip-path=\"url(#clip9502)\" style=\"stroke:#000000; stroke-width:0.5; stroke-opacity:0.1; fill:none\" points=\"\n",
       "  501.886,375.813 501.886,11.811 \n",
       "  \"/>\n",
       "<polyline clip-path=\"url(#clip9502)\" style=\"stroke:#000000; stroke-width:0.5; stroke-opacity:0.1; fill:none\" points=\"\n",
       "  45.4014,315.68 580.315,315.68 \n",
       "  \"/>\n",
       "<polyline clip-path=\"url(#clip9502)\" style=\"stroke:#000000; stroke-width:0.5; stroke-opacity:0.1; fill:none\" points=\"\n",
       "  45.4014,227.133 580.315,227.133 \n",
       "  \"/>\n",
       "<polyline clip-path=\"url(#clip9502)\" style=\"stroke:#000000; stroke-width:0.5; stroke-opacity:0.1; fill:none\" points=\"\n",
       "  45.4014,138.585 580.315,138.585 \n",
       "  \"/>\n",
       "<polyline clip-path=\"url(#clip9502)\" style=\"stroke:#000000; stroke-width:0.5; stroke-opacity:0.1; fill:none\" points=\"\n",
       "  45.4014,50.037 580.315,50.037 \n",
       "  \"/>\n",
       "<polyline clip-path=\"url(#clip9500)\" style=\"stroke:#000000; stroke-width:1; stroke-opacity:1; fill:none\" points=\"\n",
       "  45.4014,375.813 580.315,375.813 \n",
       "  \"/>\n",
       "<polyline clip-path=\"url(#clip9500)\" style=\"stroke:#000000; stroke-width:1; stroke-opacity:1; fill:none\" points=\"\n",
       "  45.4014,375.813 45.4014,11.811 \n",
       "  \"/>\n",
       "<polyline clip-path=\"url(#clip9500)\" style=\"stroke:#000000; stroke-width:1; stroke-opacity:1; fill:none\" points=\"\n",
       "  46.0804,375.813 46.0804,370.353 \n",
       "  \"/>\n",
       "<polyline clip-path=\"url(#clip9500)\" style=\"stroke:#000000; stroke-width:1; stroke-opacity:1; fill:none\" points=\"\n",
       "  198.016,375.813 198.016,370.353 \n",
       "  \"/>\n",
       "<polyline clip-path=\"url(#clip9500)\" style=\"stroke:#000000; stroke-width:1; stroke-opacity:1; fill:none\" points=\"\n",
       "  349.951,375.813 349.951,370.353 \n",
       "  \"/>\n",
       "<polyline clip-path=\"url(#clip9500)\" style=\"stroke:#000000; stroke-width:1; stroke-opacity:1; fill:none\" points=\"\n",
       "  501.886,375.813 501.886,370.353 \n",
       "  \"/>\n",
       "<polyline clip-path=\"url(#clip9500)\" style=\"stroke:#000000; stroke-width:1; stroke-opacity:1; fill:none\" points=\"\n",
       "  45.4014,315.68 53.4251,315.68 \n",
       "  \"/>\n",
       "<polyline clip-path=\"url(#clip9500)\" style=\"stroke:#000000; stroke-width:1; stroke-opacity:1; fill:none\" points=\"\n",
       "  45.4014,227.133 53.4251,227.133 \n",
       "  \"/>\n",
       "<polyline clip-path=\"url(#clip9500)\" style=\"stroke:#000000; stroke-width:1; stroke-opacity:1; fill:none\" points=\"\n",
       "  45.4014,138.585 53.4251,138.585 \n",
       "  \"/>\n",
       "<polyline clip-path=\"url(#clip9500)\" style=\"stroke:#000000; stroke-width:1; stroke-opacity:1; fill:none\" points=\"\n",
       "  45.4014,50.037 53.4251,50.037 \n",
       "  \"/>\n",
       "<g clip-path=\"url(#clip9500)\">\n",
       "<text style=\"fill:#000000; fill-opacity:1; font-family:Arial,Helvetica Neue,Helvetica,sans-serif; font-size:12; text-anchor:middle;\" transform=\"rotate(0, 46.0804, 389.613)\" x=\"46.0804\" y=\"389.613\">-4.5</text>\n",
       "</g>\n",
       "<g clip-path=\"url(#clip9500)\">\n",
       "<text style=\"fill:#000000; fill-opacity:1; font-family:Arial,Helvetica Neue,Helvetica,sans-serif; font-size:12; text-anchor:middle;\" transform=\"rotate(0, 198.016, 389.613)\" x=\"198.016\" y=\"389.613\">-4.0</text>\n",
       "</g>\n",
       "<g clip-path=\"url(#clip9500)\">\n",
       "<text style=\"fill:#000000; fill-opacity:1; font-family:Arial,Helvetica Neue,Helvetica,sans-serif; font-size:12; text-anchor:middle;\" transform=\"rotate(0, 349.951, 389.613)\" x=\"349.951\" y=\"389.613\">-3.5</text>\n",
       "</g>\n",
       "<g clip-path=\"url(#clip9500)\">\n",
       "<text style=\"fill:#000000; fill-opacity:1; font-family:Arial,Helvetica Neue,Helvetica,sans-serif; font-size:12; text-anchor:middle;\" transform=\"rotate(0, 501.886, 389.613)\" x=\"501.886\" y=\"389.613\">-3.0</text>\n",
       "</g>\n",
       "<g clip-path=\"url(#clip9500)\">\n",
       "<text style=\"fill:#000000; fill-opacity:1; font-family:Arial,Helvetica Neue,Helvetica,sans-serif; font-size:12; text-anchor:end;\" transform=\"rotate(0, 39.4014, 320.18)\" x=\"39.4014\" y=\"320.18\">0.000</text>\n",
       "</g>\n",
       "<g clip-path=\"url(#clip9500)\">\n",
       "<text style=\"fill:#000000; fill-opacity:1; font-family:Arial,Helvetica Neue,Helvetica,sans-serif; font-size:12; text-anchor:end;\" transform=\"rotate(0, 39.4014, 231.633)\" x=\"39.4014\" y=\"231.633\">0.005</text>\n",
       "</g>\n",
       "<g clip-path=\"url(#clip9500)\">\n",
       "<text style=\"fill:#000000; fill-opacity:1; font-family:Arial,Helvetica Neue,Helvetica,sans-serif; font-size:12; text-anchor:end;\" transform=\"rotate(0, 39.4014, 143.085)\" x=\"39.4014\" y=\"143.085\">0.010</text>\n",
       "</g>\n",
       "<g clip-path=\"url(#clip9500)\">\n",
       "<text style=\"fill:#000000; fill-opacity:1; font-family:Arial,Helvetica Neue,Helvetica,sans-serif; font-size:12; text-anchor:end;\" transform=\"rotate(0, 39.4014, 54.537)\" x=\"39.4014\" y=\"54.537\">0.015</text>\n",
       "</g>\n",
       "<polyline clip-path=\"url(#clip9502)\" style=\"stroke:#009af9; stroke-width:1; stroke-opacity:1; fill:none\" points=\"\n",
       "  45.4014,136.309 50.8045,141.891 56.2077,147.411 61.6109,152.869 67.014,158.262 72.4172,163.591 77.8204,168.853 83.2235,174.048 88.6267,179.174 94.0299,184.231 \n",
       "  99.433,189.216 104.836,194.13 110.239,198.969 115.643,203.735 121.046,208.424 126.449,213.035 131.852,217.568 137.255,222.021 142.658,226.392 148.062,230.681 \n",
       "  153.465,234.885 158.868,239.003 164.271,243.033 169.674,246.975 175.077,250.827 180.481,254.587 185.884,258.253 191.287,261.824 196.69,265.298 202.093,268.674 \n",
       "  207.496,271.949 212.9,275.123 218.303,278.193 223.706,281.157 229.109,284.014 234.512,286.762 239.915,289.399 245.319,291.923 250.722,294.332 256.125,296.625 \n",
       "  261.528,298.798 266.931,300.851 272.334,302.781 277.738,304.585 283.141,306.263 288.544,307.811 293.947,309.227 299.35,310.51 304.753,311.657 310.157,312.665 \n",
       "  315.56,313.532 320.963,314.256 326.366,314.835 331.769,315.266 337.172,315.546 342.576,315.673 347.979,315.644 353.382,315.457 358.785,315.108 364.188,314.596 \n",
       "  369.591,313.918 374.995,313.07 380.398,312.05 385.801,310.855 391.204,309.483 396.607,307.929 402.01,306.191 407.414,304.266 412.817,302.151 418.22,299.843 \n",
       "  423.623,297.338 429.026,294.634 434.429,291.726 439.833,288.612 445.236,285.288 450.639,281.75 456.042,277.996 461.445,274.021 466.848,269.822 472.252,265.395 \n",
       "  477.655,260.737 483.058,255.844 488.461,250.711 493.864,245.336 499.267,239.713 504.671,233.84 510.074,227.711 515.477,221.323 520.88,214.672 526.283,207.754 \n",
       "  531.686,200.563 537.09,193.096 542.493,185.348 547.896,177.315 553.299,168.992 558.702,160.375 564.105,151.458 569.509,142.238 574.912,132.709 580.315,122.867 \n",
       "  \n",
       "  \"/>\n",
       "<polyline clip-path=\"url(#clip9502)\" style=\"stroke:#e26f46; stroke-width:1; stroke-opacity:1; fill:none\" points=\"\n",
       "  45.4014,76.1758 50.8045,84.7569 56.2077,93.1815 61.6109,101.45 67.014,109.561 72.4172,117.516 77.8204,125.314 83.2235,132.956 88.6267,140.442 94.0299,147.77 \n",
       "  99.433,154.943 104.836,161.958 110.239,168.818 115.643,175.52 121.046,182.066 126.449,188.456 131.852,194.689 137.255,200.765 142.658,206.685 148.062,212.448 \n",
       "  153.465,218.055 158.868,223.506 164.271,228.799 169.674,233.936 175.077,238.917 180.481,243.741 185.884,248.409 191.287,252.92 196.69,257.274 202.093,261.472 \n",
       "  207.496,265.514 212.9,269.399 218.303,273.127 223.706,276.699 229.109,280.114 234.512,283.373 239.915,286.475 245.319,289.42 250.722,292.209 256.125,294.842 \n",
       "  261.528,297.318 266.931,299.637 272.334,301.8 277.738,303.807 283.141,305.656 288.544,307.35 293.947,308.886 299.35,310.267 304.753,311.49 310.157,312.557 \n",
       "  315.56,313.468 320.963,314.222 326.366,314.819 331.769,315.26 337.172,315.545 342.576,315.673 347.979,315.643 353.382,315.452 358.785,315.091 364.188,314.551 \n",
       "  369.591,313.824 374.995,312.9 380.398,311.772 385.801,310.428 391.204,308.859 396.607,307.056 402.01,305.007 407.414,302.703 412.817,300.131 418.22,297.282 \n",
       "  423.623,294.142 429.026,290.701 434.429,286.946 439.833,282.864 445.236,278.442 450.639,273.668 456.042,268.527 461.445,263.005 466.848,257.088 472.252,250.761 \n",
       "  477.655,244.009 483.058,236.816 488.461,229.167 493.864,221.045 499.267,212.433 504.671,203.314 510.074,193.671 515.477,183.486 520.88,172.74 526.283,161.414 \n",
       "  531.686,149.489 537.09,136.946 542.493,123.763 547.896,109.922 553.299,95.3994 558.702,80.1752 564.105,64.2269 569.509,47.5321 574.912,30.068 580.315,11.811 \n",
       "  \n",
       "  \"/>\n",
       "<polyline clip-path=\"url(#clip9502)\" style=\"stroke:#3da44d; stroke-width:1; stroke-opacity:1; fill:none\" points=\"\n",
       "  45.4014,222.797 50.8045,224.554 56.2077,226.339 61.6109,228.151 67.014,229.99 72.4172,231.855 77.8204,233.744 83.2235,235.657 88.6267,237.593 94.0299,239.551 \n",
       "  99.433,241.53 104.836,243.528 110.239,245.544 115.643,247.577 121.046,249.626 126.449,251.688 131.852,253.763 137.255,255.849 142.658,257.944 148.062,260.046 \n",
       "  153.465,262.153 158.868,264.263 164.271,266.375 169.674,268.485 175.077,270.592 180.481,272.694 185.884,274.787 191.287,276.868 196.69,278.937 202.093,280.988 \n",
       "  207.496,283.02 212.9,285.029 218.303,287.012 223.706,288.965 229.109,290.886 234.512,292.77 239.915,294.614 245.319,296.413 250.722,298.163 256.125,299.861 \n",
       "  261.528,301.502 266.931,303.08 272.334,304.593 277.738,306.033 283.141,307.397 288.544,308.678 293.947,309.873 299.35,310.974 304.753,311.975 310.157,312.872 \n",
       "  315.56,313.657 320.963,314.324 326.366,314.866 331.769,315.276 337.172,315.548 342.576,315.673 347.979,315.644 353.382,315.459 358.785,315.117 364.188,314.619 \n",
       "  369.591,313.964 374.995,313.152 380.398,312.184 385.801,311.06 391.204,309.779 396.607,308.341 402.01,306.747 407.414,304.996 412.817,303.089 418.22,301.026 \n",
       "  423.623,298.805 429.026,296.428 434.429,293.895 439.833,291.205 445.236,288.359 450.639,285.356 456.042,282.196 461.445,278.88 466.848,275.408 472.252,271.778 \n",
       "  477.655,267.993 483.058,264.05 488.461,259.952 493.864,255.696 499.267,251.284 504.671,246.716 510.074,241.991 515.477,237.11 520.88,232.072 526.283,226.877 \n",
       "  531.686,221.526 537.09,216.018 542.493,210.354 547.896,204.533 553.299,198.556 558.702,192.422 564.105,186.132 569.509,179.685 574.912,173.081 580.315,166.321 \n",
       "  \n",
       "  \"/>\n",
       "<polyline clip-path=\"url(#clip9502)\" style=\"stroke:#c271d2; stroke-width:1; stroke-opacity:1; fill:none\" points=\"\n",
       "  45.4014,375.813 50.8045,372.814 56.2077,369.91 61.6109,367.1 67.014,364.382 72.4172,361.755 77.8204,359.219 83.2235,356.772 88.6267,354.413 94.0299,352.141 \n",
       "  99.433,349.954 104.836,347.852 110.239,345.832 115.643,343.895 121.046,342.038 126.449,340.26 131.852,338.56 137.255,336.936 142.658,335.387 148.062,333.912 \n",
       "  153.465,332.51 158.868,331.178 164.271,329.915 169.674,328.719 175.077,327.59 180.481,326.526 185.884,325.524 191.287,324.584 196.69,323.704 202.093,322.882 \n",
       "  207.496,322.116 212.9,321.405 218.303,320.746 223.706,320.139 229.109,319.581 234.512,319.07 239.915,318.605 245.319,318.183 250.722,317.803 256.125,317.463 \n",
       "  261.528,317.161 266.931,316.894 272.334,316.661 277.738,316.459 283.141,316.287 288.544,316.142 293.947,316.021 299.35,315.924 304.753,315.847 310.157,315.788 \n",
       "  315.56,315.745 320.963,315.715 326.366,315.696 331.769,315.686 337.172,315.681 342.576,315.68 347.979,315.68 353.382,315.678 358.785,315.672 364.188,315.658 \n",
       "  369.591,315.635 374.995,315.598 380.398,315.546 385.801,315.476 391.204,315.384 396.607,315.268 402.01,315.124 407.414,314.95 412.817,314.742 418.22,314.498 \n",
       "  423.623,314.213 429.026,313.886 434.429,313.511 439.833,313.087 445.236,312.609 450.639,312.075 456.042,311.48 461.445,310.821 466.848,310.095 472.252,309.298 \n",
       "  477.655,308.425 483.058,307.474 488.461,306.44 493.864,305.32 499.267,304.109 504.671,302.804 510.074,301.401 515.477,299.894 520.88,298.281 526.283,296.557 \n",
       "  531.686,294.717 537.09,292.758 542.493,290.674 547.896,288.462 553.299,286.116 558.702,283.633 564.105,281.007 569.509,278.234 574.912,275.308 580.315,272.226 \n",
       "  \n",
       "  \"/>\n",
       "<polygon clip-path=\"url(#clip9500)\" points=\"\n",
       "394.961,108.291 562.315,108.291 562.315,32.691 394.961,32.691 \n",
       "  \" fill=\"#ffffff\" fill-opacity=\"1\"/>\n",
       "<polyline clip-path=\"url(#clip9500)\" style=\"stroke:#000000; stroke-width:1; stroke-opacity:1; fill:none\" points=\"\n",
       "  394.961,108.291 562.315,108.291 562.315,32.691 394.961,32.691 394.961,108.291 \n",
       "  \"/>\n",
       "<polyline clip-path=\"url(#clip9500)\" style=\"stroke:#009af9; stroke-width:1; stroke-opacity:1; fill:none\" points=\"\n",
       "  400.961,47.811 436.961,47.811 \n",
       "  \"/>\n",
       "<g clip-path=\"url(#clip9500)\">\n",
       "<text style=\"fill:#000000; fill-opacity:1; font-family:Arial,Helvetica Neue,Helvetica,sans-serif; font-size:12; text-anchor:start;\" transform=\"rotate(0, 442.961, 52.311)\" x=\"442.961\" y=\"52.311\">Error from 1st order</text>\n",
       "</g>\n",
       "<polyline clip-path=\"url(#clip9500)\" style=\"stroke:#e26f46; stroke-width:1; stroke-opacity:1; fill:none\" points=\"\n",
       "  400.961,62.931 436.961,62.931 \n",
       "  \"/>\n",
       "<g clip-path=\"url(#clip9500)\">\n",
       "<text style=\"fill:#000000; fill-opacity:1; font-family:Arial,Helvetica Neue,Helvetica,sans-serif; font-size:12; text-anchor:start;\" transform=\"rotate(0, 442.961, 67.431)\" x=\"442.961\" y=\"67.431\">Max Error</text>\n",
       "</g>\n",
       "<polyline clip-path=\"url(#clip9500)\" style=\"stroke:#3da44d; stroke-width:1; stroke-opacity:1; fill:none\" points=\"\n",
       "  400.961,78.051 436.961,78.051 \n",
       "  \"/>\n",
       "<g clip-path=\"url(#clip9500)\">\n",
       "<text style=\"fill:#000000; fill-opacity:1; font-family:Arial,Helvetica Neue,Helvetica,sans-serif; font-size:12; text-anchor:start;\" transform=\"rotate(0, 442.961, 82.551)\" x=\"442.961\" y=\"82.551\">Min Error</text>\n",
       "</g>\n",
       "<polyline clip-path=\"url(#clip9500)\" style=\"stroke:#c271d2; stroke-width:1; stroke-opacity:1; fill:none\" points=\"\n",
       "  400.961,93.171 436.961,93.171 \n",
       "  \"/>\n",
       "<g clip-path=\"url(#clip9500)\">\n",
       "<text style=\"fill:#000000; fill-opacity:1; font-family:Arial,Helvetica Neue,Helvetica,sans-serif; font-size:12; text-anchor:start;\" transform=\"rotate(0, 442.961, 97.671)\" x=\"442.961\" y=\"97.671\">Error from 2nd order</text>\n",
       "</g>\n",
       "</svg>\n"
      ]
     },
     "execution_count": 294,
     "metadata": {},
     "output_type": "execute_result"
    }
   ],
   "source": [
    "dp_sample = linspace(minimum(dp), maximum(dp), 100)\n",
    "f(dp) = log(1 + exp(dp))\n",
    "f_approx(dp) = κ + exp(dp_bar)/(1 + exp(dp_bar))*(dp-dp_bar)\n",
    "f_approx2(dp) = κ + exp(dp_bar)/(1 + exp(dp_bar))*(dp-dp_bar) + 1/2 * exp(dp_bar)/(1 + exp(dp_bar))^2 * (dp - dp_bar)^2\n",
    "local_max_remainder(dp) = 1/2 * exp(max(dp, dp_bar))/(1 + exp(max(dp, dp_bar)))^2 * (dp - dp_bar)^2\n",
    "local_min_remainder(dp) = 1/2 * exp(min(dp, dp_bar))/(1 + exp(min(dp, dp_bar)))^2 * (dp - dp_bar)^2\n",
    "\n",
    "plot(dp_sample, f.(dp_sample) .- f_approx.(dp_sample), label=\"Error from 1st order\")\n",
    "plot!(dp_sample, local_max_remainder.(dp_sample), label=\"Max Error\")\n",
    "plot!(dp_sample, local_min_remainder.(dp_sample), label=\"Min Error\")\n",
    "plot!(dp_sample, f.(dp_sample) .- f_approx2.(dp_sample), label=\"Error from 2nd order\")"
   ]
  },
  {
   "cell_type": "code",
   "execution_count": 295,
   "metadata": {},
   "outputs": [
    {
     "data": {
      "text/plain": [
       "0.002284290406909674"
      ]
     },
     "execution_count": 295,
     "metadata": {},
     "output_type": "execute_result"
    }
   ],
   "source": [
    "(f.(dp_sample) .- f_approx.(dp_sample))' * fit(Histogram, dp, vcat(0, dp_sample), closed=:right).weights/length(dp)"
   ]
  },
  {
   "cell_type": "markdown",
   "metadata": {},
   "source": [
    "The approximation understates the true return by 0.015 maximally and by 0.0026 on average (over the observed sample)."
   ]
  },
  {
   "cell_type": "code",
   "execution_count": 296,
   "metadata": {
    "scrolled": true
   },
   "outputs": [
    {
     "data": {
      "text/plain": [
       "Summary Stats:\n",
       "Mean:           0.103926\n",
       "Minimum:        -0.481478\n",
       "1st Quartile:   0.003057\n",
       "Median:         0.133459\n",
       "3rd Quartile:   0.225562\n",
       "Maximum:        0.408210\n"
      ]
     },
     "execution_count": 296,
     "metadata": {},
     "output_type": "execute_result"
    }
   ],
   "source": [
    "summarystats(yearly_data[:ret])"
   ]
  },
  {
   "cell_type": "markdown",
   "metadata": {},
   "source": [
    "Given that the mean return is around 0.1, this approximation is okay!"
   ]
  },
  {
   "cell_type": "markdown",
   "metadata": {},
   "source": [
    "Hence,\n",
    "\n",
    "$$pd_t=\\rho pd_{t+1}+\\kappa - (1-\\rho)\\bar{dp}+\\Delta d_{t+1} - r_{t+1}$$\n",
    "\n",
    "and hence:\n",
    "\n",
    "$$pd_t=\\frac{\\kappa}{1-\\rho}+\\sum_{j=0}^{\\infty}\\rho^{j}\\Big(\\Delta d_{t+j+1}-r_{t+j+1}\\Big)$$\n",
    "\n",
    "The average approximation error accumulates to:"
   ]
  },
  {
   "cell_type": "code",
   "execution_count": 297,
   "metadata": {
    "scrolled": true
   },
   "outputs": [
    {
     "data": {
      "text/plain": [
       "0.08953986490075345"
      ]
     },
     "execution_count": 297,
     "metadata": {},
     "output_type": "execute_result"
    }
   ],
   "source": [
    "1/(1-ρ)*0.002577539284226769"
   ]
  },
  {
   "cell_type": "code",
   "execution_count": 298,
   "metadata": {
    "scrolled": true
   },
   "outputs": [
    {
     "data": {
      "text/plain": [
       "Summary Stats:\n",
       "Mean:           3.518640\n",
       "Minimum:        2.741901\n",
       "1st Quartile:   3.223868\n",
       "Median:         3.454982\n",
       "3rd Quartile:   3.842705\n",
       "Maximum:        4.502235\n"
      ]
     },
     "execution_count": 298,
     "metadata": {},
     "output_type": "execute_result"
    }
   ],
   "source": [
    "summarystats(yearly_data[:cash_logPD])"
   ]
  },
  {
   "cell_type": "markdown",
   "metadata": {},
   "source": [
    "Given that the mean log price dividend ratio is around 3.4, this error is acceptable."
   ]
  },
  {
   "cell_type": "markdown",
   "metadata": {},
   "source": [
    "### (f)"
   ]
  },
  {
   "cell_type": "code",
   "execution_count": 335,
   "metadata": {},
   "outputs": [
    {
     "data": {
      "text/plain": [
       "DataFrames.DataFrameRegressionModel{GLM.LinearModel{GLM.LmResp{Array{Float64,1}},GLM.DensePredChol{Float64,Base.LinAlg.Cholesky{Float64,Array{Float64,2}}}},Array{Float64,2}}\n",
       "\n",
       "Formula: cash_logPD ~ 1 + lagged_cash_logPD\n",
       "\n",
       "Coefficients:\n",
       "                   Estimate Std.Error t value Pr(>|t|)\n",
       "(Intercept)        0.325237  0.180611 1.80076   0.0761\n",
       "lagged_cash_logPD  0.909443 0.0510376 17.8191   <1e-26\n"
      ]
     },
     "execution_count": 335,
     "metadata": {},
     "output_type": "execute_result"
    }
   ],
   "source": [
    "model_pd = lm(@formula(cash_logPD ~ lagged_cash_logPD), data_prep)"
   ]
  },
  {
   "cell_type": "markdown",
   "metadata": {},
   "source": [
    "The variance of $pd_t$ is then:\n",
    "\n",
    "$$\\mathbb{V}\\Big[pd_t\\Big]=\\mathbb{C}\\Big[\\sum_{s=1}^\\infty \\rho^{s-1} \\mathbb{E}_t\\big[\\Delta d_{t+s}\\big], pd_t\\Big] + \\mathbb{C}\\Big[-\\sum_{s=0}^\\infty \\rho^{s-1} \\mathbb{E}_t\\big[r_{t+s}\\big], pd_t\\Big]$$\n",
    "\n",
    "$$1=\\frac{\\mathbb{C}\\Big[\\sum_{s=1}^\\infty \\rho^{s-1} \\mathbb{E}_t\\big[\\Delta d_{t+s}\\big], pd_t\\Big]}{\\mathbb{V}\\Big[pd_t\\Big]} + \\frac{\\mathbb{C}\\Big[-\\sum_{s=0}^\\infty \\rho^{s-1} \\mathbb{E}_t\\big[r_{t+s}\\big], pd_t\\Big]}{\\mathbb{V}\\Big[pd_t\\Big]}$$\n",
    "\n",
    "The first term on the right-hand-side is (mind that all constants in the first argument of the covariance disappear):\n",
    "\n",
    "$$\\frac{\\sum_{s=1}^{\\infty}\\rho^{s-1}\\mathbb{C}\\Big[\\mathbb{E}_{t}\\big[\\Delta d_{t+s}\\big],pd_{t}\\Big]}{\\mathbb{V}\\Big[pd_{t}\\Big]}=\\frac{\\sum_{s=1}^{\\infty}\\rho^{s-1}\\mathbb{C}\\Big[a_{d}+b_{d}\\mathbb{E}_{t}\\big[pd_{t+s-1}\\big],pd_{t}\\Big]}{\\mathbb{V}\\Big[pd_{t}\\Big]}=\\frac{b_{d}\\sum_{s=0}^{\\infty}\\big(\\rho\\phi\\big)^{s}\\mathbb{V}\\Big[pd_{t}\\Big]}{\\mathbb{V}\\Big[pd_{t}\\Big]}=\\frac{b_{d}}{1-\\rho\\phi} $$"
   ]
  },
  {
   "cell_type": "code",
   "execution_count": 338,
   "metadata": {},
   "outputs": [
    {
     "data": {
      "text/plain": [
       "-0.046535188778414484"
      ]
     },
     "execution_count": 338,
     "metadata": {},
     "output_type": "execute_result"
    }
   ],
   "source": [
    "b_d = coef(model_d)[2]\n",
    "b_r = coef(model)[2]\n",
    "ϕ = coef(model_pd)[2]\n",
    "\n",
    "b_d/ (1 - ρ*ϕ)"
   ]
  },
  {
   "cell_type": "markdown",
   "metadata": {},
   "source": [
    "The variation of the price dividend ratio is only driven by variation in the expected returns."
   ]
  },
  {
   "cell_type": "markdown",
   "metadata": {},
   "source": [
    "### (g)"
   ]
  },
  {
   "cell_type": "markdown",
   "metadata": {},
   "source": [
    "The second term in the variance decomposition, using the linearization for the 0-th element of the sum, is:\n",
    "\n",
    "$$\\frac{\\mathbb{C}\\Big[-r_{t},pd_{t}\\Big]+\\mathbb{C}\\Big[-\\sum_{s=1}^{\\infty}\\rho^{s-1}\\mathbb{E}_{t}\\big[r_{t+s}\\big],pd_{t}\\Big]}{\\mathbb{V}\\Big[pd_{t}\\Big]}\\approx\\frac{-\\frac{(1-\\rho)}{\\rho}\\mathbb{V}\\Big[pd_{t}\\Big]+\\mathbb{C}\\Big[-\\sum_{s=0}^{\\infty}\\rho^{s}\\mathbb{E}_{t}\\big[r_{t+s+1}\\big],pd_{t}\\Big]}{\\mathbb{V}\\Big[pd_{t}\\Big]}=\\frac{-\\frac{(1-\\rho)}{\\rho}\\mathbb{V}\\Big[pd_{t}\\Big]-b_{r}\\sum_{s=0}^{\\infty}\\rho^{s}\\mathbb{C}\\Big[\\mathbb{E}_{t}\\big[pd_{t+s}\\big],pd_{t}\\Big]}{\\mathbb{V}\\Big[pd_{t}\\Big]}=-\\frac{1-\\rho}{\\rho}-\\frac{b_{r}}{1-\\rho\\phi}$$\n"
   ]
  },
  {
   "cell_type": "markdown",
   "metadata": {},
   "source": [
    "Hence, the variance decomposition implies:\n",
    "\n",
    "$$\\frac{1}{\\rho}=b_{d}+\\phi-b_{r}$$"
   ]
  },
  {
   "cell_type": "code",
   "execution_count": 336,
   "metadata": {},
   "outputs": [
    {
     "data": {
      "text/plain": [
       "1.0296397234774148"
      ]
     },
     "execution_count": 336,
     "metadata": {},
     "output_type": "execute_result"
    }
   ],
   "source": [
    "1/ρ"
   ]
  },
  {
   "cell_type": "code",
   "execution_count": 337,
   "metadata": {},
   "outputs": [
    {
     "data": {
      "text/plain": [
       "1.0263161028426322"
      ]
     },
     "execution_count": 337,
     "metadata": {},
     "output_type": "execute_result"
    }
   ],
   "source": [
    "coef(model_d)[2]+coef(model_pd)[2]-coef(model)[2]"
   ]
  },
  {
   "cell_type": "code",
   "execution_count": null,
   "metadata": {},
   "outputs": [],
   "source": []
  }
 ],
 "metadata": {
  "kernelspec": {
   "display_name": "Julia 0.6.2",
   "language": "julia",
   "name": "julia-0.6"
  },
  "language_info": {
   "file_extension": ".jl",
   "mimetype": "application/julia",
   "name": "julia",
   "version": "0.6.2"
  }
 },
 "nbformat": 4,
 "nbformat_minor": 2
}
