{
 "cells": [
  {
   "cell_type": "markdown",
   "metadata": {},
   "source": [
    "\n",
    "# Empirical Asset Pricing - PS1\n",
    "## Task 1"
   ]
  },
  {
   "cell_type": "code",
   "execution_count": 1,
   "metadata": {},
   "outputs": [
    {
     "name": "stderr",
     "output_type": "stream",
     "text": [
      "Base.Nullable{T}) in module Base at nullable.jl:238 overwritten in module NullableArrays at C:\\Users\\Max\\AppData\\Local\\JuliaPro-0.6.2.1\\pkgs-0.6.2.1\\v0.6\\NullableArrays\\src\\operators.jl:99.\n"
     ]
    }
   ],
   "source": [
    "using CSV, DataFrames, NullableArrays, Plots; gr();"
   ]
  },
  {
   "cell_type": "code",
   "execution_count": 2,
   "metadata": {},
   "outputs": [],
   "source": [
    "df = CSV.read(\"./Data/a5986cc31aad4a02.csv\", delim=',', \n",
    "        types=[Date, Float64, Float64, Float64], \n",
    "        dateformat = DateFormat(\"yyyymmdd\"), nullable=false);"
   ]
  },
  {
   "cell_type": "markdown",
   "metadata": {},
   "source": [
    "### (b)"
   ]
  },
  {
   "cell_type": "code",
   "execution_count": 3,
   "metadata": {},
   "outputs": [],
   "source": [
    "df[:div] = collect((df[:vwretd]-df[:vwretx])[1:end].*df[:totval][vcat(1, 1:(size(df, 1)-1))])\n",
    "df[:year] = Dates.Year.(df[:DATE])\n",
    "df[:month] = Dates.Month.(df[:DATE]);"
   ]
  },
  {
   "cell_type": "code",
   "execution_count": 4,
   "metadata": {},
   "outputs": [
    {
     "data": {
      "text/html": [
       "<table class=\"data-frame\"><thead><tr><th></th><th>DATE</th><th>vwretd</th><th>vwretx</th><th>totval</th><th>div</th><th>year</th><th>month</th></tr></thead><tbody><tr><th>1</th><td>1945-01-31</td><td>0.020218</td><td>0.018951</td><td>4.78619703e7</td><td>60641.11637010003</td><td>1945 years</td><td>1 month</td></tr><tr><th>2</th><td>1945-02-28</td><td>0.064477</td><td>0.059894</td><td>5.07251836e7</td><td>219351.40988490017</td><td>1945 years</td><td>2 months</td></tr><tr><th>3</th><td>1945-03-31</td><td>-0.039177</td><td>-0.043164</td><td>4.85517438e7</td><td>202241.30701320022</td><td>1945 years</td><td>3 months</td></tr><tr><th>4</th><td>1945-04-30</td><td>0.078232</td><td>0.076981</td><td>5.23206432e7</td><td>60738.2314938001</td><td>1945 years</td><td>4 months</td></tr><tr><th>5</th><td>1945-05-31</td><td>0.018185</td><td>0.012439</td><td>5.31954659e7</td><td>300634.4158272</td><td>1945 years</td><td>5 months</td></tr><tr><th>6</th><td>1945-06-30</td><td>0.004676</td><td>0.001087</td><td>5.32805822e7</td><td>190918.52711509995</td><td>1945 years</td><td>6 months</td></tr></tbody></table>"
      ],
      "text/plain": [
       "6×7 DataFrames.DataFrame\n",
       "│ Row │ DATE       │ vwretd    │ vwretx    │ totval    │ div       │\n",
       "├─────┼────────────┼───────────┼───────────┼───────────┼───────────┤\n",
       "│ 1   │ 1945-01-31 │ 0.020218  │ 0.018951  │ 4.7862e7  │ 60641.1   │\n",
       "│ 2   │ 1945-02-28 │ 0.064477  │ 0.059894  │ 5.07252e7 │ 2.19351e5 │\n",
       "│ 3   │ 1945-03-31 │ -0.039177 │ -0.043164 │ 4.85517e7 │ 2.02241e5 │\n",
       "│ 4   │ 1945-04-30 │ 0.078232  │ 0.076981  │ 5.23206e7 │ 60738.2   │\n",
       "│ 5   │ 1945-05-31 │ 0.018185  │ 0.012439  │ 5.31955e7 │ 3.00634e5 │\n",
       "│ 6   │ 1945-06-30 │ 0.004676  │ 0.001087  │ 5.32806e7 │ 1.90919e5 │\n",
       "\n",
       "│ Row │ year       │ month    │\n",
       "├─────┼────────────┼──────────┤\n",
       "│ 1   │ 1945 years │ 1 month  │\n",
       "│ 2   │ 1945 years │ 2 months │\n",
       "│ 3   │ 1945 years │ 3 months │\n",
       "│ 4   │ 1945 years │ 4 months │\n",
       "│ 5   │ 1945 years │ 5 months │\n",
       "│ 6   │ 1945 years │ 6 months │"
      ]
     },
     "execution_count": 4,
     "metadata": {},
     "output_type": "execute_result"
    }
   ],
   "source": [
    "head(df)"
   ]
  },
  {
   "cell_type": "markdown",
   "metadata": {},
   "source": [
    "### (c)"
   ]
  },
  {
   "cell_type": "code",
   "execution_count": 5,
   "metadata": {},
   "outputs": [],
   "source": [
    "yearly_data = by(df, [:year], df -> sum(df[:div]))\n",
    "\n",
    "yearly_data[:mkt_div] = zeros(floor(Int64, size(df, 1)/12))\n",
    "\n",
    "for t in 1:size(df, 1)   \n",
    "    if ((t-1)%12 == 0) #January\n",
    "        yearly_data[:mkt_div][1+floor(Int64, (t-1)/12)] = df[:div][t]\n",
    "        else #other months\n",
    "        yearly_data[:mkt_div][1+floor(Int64, (t-1)/12)] = \n",
    "            yearly_data[:mkt_div][1+floor(Int64, (t-1)/12)]*(1+df[:vwretd][t-1]) + df[:div][t]\n",
    "    end\n",
    "end\n",
    "\n",
    "names!(yearly_data, [:year, :cash_div, :mkt_div]);"
   ]
  },
  {
   "cell_type": "code",
   "execution_count": 16,
   "metadata": {},
   "outputs": [
    {
     "data": {
      "text/html": [
       "<?xml version=\"1.0\" encoding=\"utf-8\"?>\n",
       "<svg xmlns=\"http://www.w3.org/2000/svg\" xmlns:xlink=\"http://www.w3.org/1999/xlink\" width=\"600\" height=\"400\" viewBox=\"0 0 600 400\">\n",
       "<defs>\n",
       "  <clipPath id=\"clip1500\">\n",
       "    <rect x=\"0\" y=\"0\" width=\"600\" height=\"400\"/>\n",
       "  </clipPath>\n",
       "</defs>\n",
       "<polygon clip-path=\"url(#clip1500)\" points=\"\n",
       "0,400 600,400 600,0 0,0 \n",
       "  \" fill=\"#ffffff\" fill-opacity=\"1\"/>\n",
       "<defs>\n",
       "  <clipPath id=\"clip1501\">\n",
       "    <rect x=\"120\" y=\"0\" width=\"421\" height=\"400\"/>\n",
       "  </clipPath>\n",
       "</defs>\n",
       "<polygon clip-path=\"url(#clip1500)\" points=\"\n",
       "75.0547,375.813 580.315,375.813 580.315,31.4961 75.0547,31.4961 \n",
       "  \" fill=\"#ffffff\" fill-opacity=\"1\"/>\n",
       "<defs>\n",
       "  <clipPath id=\"clip1502\">\n",
       "    <rect x=\"75\" y=\"31\" width=\"506\" height=\"345\"/>\n",
       "  </clipPath>\n",
       "</defs>\n",
       "<polyline clip-path=\"url(#clip1502)\" style=\"stroke:#000000; stroke-width:0.5; stroke-opacity:0.1; fill:none\" points=\"\n",
       "  110.636,375.813 110.636,31.4961 \n",
       "  \"/>\n",
       "<polyline clip-path=\"url(#clip1502)\" style=\"stroke:#000000; stroke-width:0.5; stroke-opacity:0.1; fill:none\" points=\"\n",
       "  181.8,375.813 181.8,31.4961 \n",
       "  \"/>\n",
       "<polyline clip-path=\"url(#clip1502)\" style=\"stroke:#000000; stroke-width:0.5; stroke-opacity:0.1; fill:none\" points=\"\n",
       "  252.963,375.813 252.963,31.4961 \n",
       "  \"/>\n",
       "<polyline clip-path=\"url(#clip1502)\" style=\"stroke:#000000; stroke-width:0.5; stroke-opacity:0.1; fill:none\" points=\"\n",
       "  324.127,375.813 324.127,31.4961 \n",
       "  \"/>\n",
       "<polyline clip-path=\"url(#clip1502)\" style=\"stroke:#000000; stroke-width:0.5; stroke-opacity:0.1; fill:none\" points=\"\n",
       "  395.29,375.813 395.29,31.4961 \n",
       "  \"/>\n",
       "<polyline clip-path=\"url(#clip1502)\" style=\"stroke:#000000; stroke-width:0.5; stroke-opacity:0.1; fill:none\" points=\"\n",
       "  466.453,375.813 466.453,31.4961 \n",
       "  \"/>\n",
       "<polyline clip-path=\"url(#clip1502)\" style=\"stroke:#000000; stroke-width:0.5; stroke-opacity:0.1; fill:none\" points=\"\n",
       "  537.617,375.813 537.617,31.4961 \n",
       "  \"/>\n",
       "<polyline clip-path=\"url(#clip1502)\" style=\"stroke:#000000; stroke-width:0.5; stroke-opacity:0.1; fill:none\" points=\"\n",
       "  75.0547,326.612 580.315,326.612 \n",
       "  \"/>\n",
       "<polyline clip-path=\"url(#clip1502)\" style=\"stroke:#000000; stroke-width:0.5; stroke-opacity:0.1; fill:none\" points=\"\n",
       "  75.0547,276.278 580.315,276.278 \n",
       "  \"/>\n",
       "<polyline clip-path=\"url(#clip1502)\" style=\"stroke:#000000; stroke-width:0.5; stroke-opacity:0.1; fill:none\" points=\"\n",
       "  75.0547,225.945 580.315,225.945 \n",
       "  \"/>\n",
       "<polyline clip-path=\"url(#clip1502)\" style=\"stroke:#000000; stroke-width:0.5; stroke-opacity:0.1; fill:none\" points=\"\n",
       "  75.0547,175.611 580.315,175.611 \n",
       "  \"/>\n",
       "<polyline clip-path=\"url(#clip1502)\" style=\"stroke:#000000; stroke-width:0.5; stroke-opacity:0.1; fill:none\" points=\"\n",
       "  75.0547,125.277 580.315,125.277 \n",
       "  \"/>\n",
       "<polyline clip-path=\"url(#clip1502)\" style=\"stroke:#000000; stroke-width:0.5; stroke-opacity:0.1; fill:none\" points=\"\n",
       "  75.0547,74.9432 580.315,74.9432 \n",
       "  \"/>\n",
       "<polyline clip-path=\"url(#clip1500)\" style=\"stroke:#000000; stroke-width:1; stroke-opacity:1; fill:none\" points=\"\n",
       "  75.0547,375.813 580.315,375.813 \n",
       "  \"/>\n",
       "<polyline clip-path=\"url(#clip1500)\" style=\"stroke:#000000; stroke-width:1; stroke-opacity:1; fill:none\" points=\"\n",
       "  75.0547,375.813 75.0547,31.4961 \n",
       "  \"/>\n",
       "<polyline clip-path=\"url(#clip1500)\" style=\"stroke:#000000; stroke-width:1; stroke-opacity:1; fill:none\" points=\"\n",
       "  110.636,375.813 110.636,370.649 \n",
       "  \"/>\n",
       "<polyline clip-path=\"url(#clip1500)\" style=\"stroke:#000000; stroke-width:1; stroke-opacity:1; fill:none\" points=\"\n",
       "  181.8,375.813 181.8,370.649 \n",
       "  \"/>\n",
       "<polyline clip-path=\"url(#clip1500)\" style=\"stroke:#000000; stroke-width:1; stroke-opacity:1; fill:none\" points=\"\n",
       "  252.963,375.813 252.963,370.649 \n",
       "  \"/>\n",
       "<polyline clip-path=\"url(#clip1500)\" style=\"stroke:#000000; stroke-width:1; stroke-opacity:1; fill:none\" points=\"\n",
       "  324.127,375.813 324.127,370.649 \n",
       "  \"/>\n",
       "<polyline clip-path=\"url(#clip1500)\" style=\"stroke:#000000; stroke-width:1; stroke-opacity:1; fill:none\" points=\"\n",
       "  395.29,375.813 395.29,370.649 \n",
       "  \"/>\n",
       "<polyline clip-path=\"url(#clip1500)\" style=\"stroke:#000000; stroke-width:1; stroke-opacity:1; fill:none\" points=\"\n",
       "  466.453,375.813 466.453,370.649 \n",
       "  \"/>\n",
       "<polyline clip-path=\"url(#clip1500)\" style=\"stroke:#000000; stroke-width:1; stroke-opacity:1; fill:none\" points=\"\n",
       "  537.617,375.813 537.617,370.649 \n",
       "  \"/>\n",
       "<polyline clip-path=\"url(#clip1500)\" style=\"stroke:#000000; stroke-width:1; stroke-opacity:1; fill:none\" points=\"\n",
       "  75.0547,326.612 82.6336,326.612 \n",
       "  \"/>\n",
       "<polyline clip-path=\"url(#clip1500)\" style=\"stroke:#000000; stroke-width:1; stroke-opacity:1; fill:none\" points=\"\n",
       "  75.0547,276.278 82.6336,276.278 \n",
       "  \"/>\n",
       "<polyline clip-path=\"url(#clip1500)\" style=\"stroke:#000000; stroke-width:1; stroke-opacity:1; fill:none\" points=\"\n",
       "  75.0547,225.945 82.6336,225.945 \n",
       "  \"/>\n",
       "<polyline clip-path=\"url(#clip1500)\" style=\"stroke:#000000; stroke-width:1; stroke-opacity:1; fill:none\" points=\"\n",
       "  75.0547,175.611 82.6336,175.611 \n",
       "  \"/>\n",
       "<polyline clip-path=\"url(#clip1500)\" style=\"stroke:#000000; stroke-width:1; stroke-opacity:1; fill:none\" points=\"\n",
       "  75.0547,125.277 82.6336,125.277 \n",
       "  \"/>\n",
       "<polyline clip-path=\"url(#clip1500)\" style=\"stroke:#000000; stroke-width:1; stroke-opacity:1; fill:none\" points=\"\n",
       "  75.0547,74.9432 82.6336,74.9432 \n",
       "  \"/>\n",
       "<g clip-path=\"url(#clip1500)\">\n",
       "<text style=\"fill:#000000; fill-opacity:1; font-family:Arial,Helvetica Neue,Helvetica,sans-serif; font-size:12; text-anchor:middle;\" transform=\"rotate(0, 110.636, 389.613)\" x=\"110.636\" y=\"389.613\">1950</text>\n",
       "</g>\n",
       "<g clip-path=\"url(#clip1500)\">\n",
       "<text style=\"fill:#000000; fill-opacity:1; font-family:Arial,Helvetica Neue,Helvetica,sans-serif; font-size:12; text-anchor:middle;\" transform=\"rotate(0, 181.8, 389.613)\" x=\"181.8\" y=\"389.613\">1960</text>\n",
       "</g>\n",
       "<g clip-path=\"url(#clip1500)\">\n",
       "<text style=\"fill:#000000; fill-opacity:1; font-family:Arial,Helvetica Neue,Helvetica,sans-serif; font-size:12; text-anchor:middle;\" transform=\"rotate(0, 252.963, 389.613)\" x=\"252.963\" y=\"389.613\">1970</text>\n",
       "</g>\n",
       "<g clip-path=\"url(#clip1500)\">\n",
       "<text style=\"fill:#000000; fill-opacity:1; font-family:Arial,Helvetica Neue,Helvetica,sans-serif; font-size:12; text-anchor:middle;\" transform=\"rotate(0, 324.127, 389.613)\" x=\"324.127\" y=\"389.613\">1980</text>\n",
       "</g>\n",
       "<g clip-path=\"url(#clip1500)\">\n",
       "<text style=\"fill:#000000; fill-opacity:1; font-family:Arial,Helvetica Neue,Helvetica,sans-serif; font-size:12; text-anchor:middle;\" transform=\"rotate(0, 395.29, 389.613)\" x=\"395.29\" y=\"389.613\">1990</text>\n",
       "</g>\n",
       "<g clip-path=\"url(#clip1500)\">\n",
       "<text style=\"fill:#000000; fill-opacity:1; font-family:Arial,Helvetica Neue,Helvetica,sans-serif; font-size:12; text-anchor:middle;\" transform=\"rotate(0, 466.453, 389.613)\" x=\"466.453\" y=\"389.613\">2000</text>\n",
       "</g>\n",
       "<g clip-path=\"url(#clip1500)\">\n",
       "<text style=\"fill:#000000; fill-opacity:1; font-family:Arial,Helvetica Neue,Helvetica,sans-serif; font-size:12; text-anchor:middle;\" transform=\"rotate(0, 537.617, 389.613)\" x=\"537.617\" y=\"389.613\">2010</text>\n",
       "</g>\n",
       "<g clip-path=\"url(#clip1500)\">\n",
       "<text style=\"fill:#000000; fill-opacity:1; font-family:Arial,Helvetica Neue,Helvetica,sans-serif; font-size:12; text-anchor:end;\" transform=\"rotate(0, 69.0547, 331.112)\" x=\"69.0547\" y=\"331.112\">100000000</text>\n",
       "</g>\n",
       "<g clip-path=\"url(#clip1500)\">\n",
       "<text style=\"fill:#000000; fill-opacity:1; font-family:Arial,Helvetica Neue,Helvetica,sans-serif; font-size:12; text-anchor:end;\" transform=\"rotate(0, 69.0547, 280.778)\" x=\"69.0547\" y=\"280.778\">200000000</text>\n",
       "</g>\n",
       "<g clip-path=\"url(#clip1500)\">\n",
       "<text style=\"fill:#000000; fill-opacity:1; font-family:Arial,Helvetica Neue,Helvetica,sans-serif; font-size:12; text-anchor:end;\" transform=\"rotate(0, 69.0547, 230.445)\" x=\"69.0547\" y=\"230.445\">300000000</text>\n",
       "</g>\n",
       "<g clip-path=\"url(#clip1500)\">\n",
       "<text style=\"fill:#000000; fill-opacity:1; font-family:Arial,Helvetica Neue,Helvetica,sans-serif; font-size:12; text-anchor:end;\" transform=\"rotate(0, 69.0547, 180.111)\" x=\"69.0547\" y=\"180.111\">400000000</text>\n",
       "</g>\n",
       "<g clip-path=\"url(#clip1500)\">\n",
       "<text style=\"fill:#000000; fill-opacity:1; font-family:Arial,Helvetica Neue,Helvetica,sans-serif; font-size:12; text-anchor:end;\" transform=\"rotate(0, 69.0547, 129.777)\" x=\"69.0547\" y=\"129.777\">500000000</text>\n",
       "</g>\n",
       "<g clip-path=\"url(#clip1500)\">\n",
       "<text style=\"fill:#000000; fill-opacity:1; font-family:Arial,Helvetica Neue,Helvetica,sans-serif; font-size:12; text-anchor:end;\" transform=\"rotate(0, 69.0547, 79.4432)\" x=\"69.0547\" y=\"79.4432\">600000000</text>\n",
       "</g>\n",
       "<g clip-path=\"url(#clip1500)\">\n",
       "<text style=\"fill:#000000; fill-opacity:1; font-family:Arial,Helvetica Neue,Helvetica,sans-serif; font-size:21; text-anchor:middle;\" transform=\"rotate(0, 327.685, 18)\" x=\"327.685\" y=\"18\">Annual Dividends invested in ...</text>\n",
       "</g>\n",
       "<polyline clip-path=\"url(#clip1502)\" style=\"stroke:#009af9; stroke-width:1; stroke-opacity:1; fill:none\" points=\"\n",
       "  75.0547,375.813 82.171,375.638 89.2874,375.319 96.4037,375.055 103.52,374.862 110.636,374.296 117.753,374.26 124.869,374.142 131.985,374 139.102,373.753 \n",
       "  146.218,373.263 153.334,372.877 160.451,372.6 167.567,372.646 174.683,372.32 181.8,372.077 188.916,371.783 196.033,371.158 203.149,370.503 210.265,369.835 \n",
       "  217.382,369.043 224.498,368.447 231.614,368.105 238.731,367.502 245.847,366.713 252.963,366.811 260.08,366.582 267.196,365.998 274.312,363.679 281.429,362.592 \n",
       "  288.545,361.984 295.661,359.999 302.778,357.139 309.894,354.756 317.01,351.789 324.127,348.743 331.243,345.716 338.359,344.246 345.476,342.166 352.592,339.79 \n",
       "  359.708,338.203 366.825,335.185 373.941,331.088 381.057,322.849 388.174,322.201 395.29,321.813 402.406,322.476 409.523,320.581 416.639,316.72 423.755,311.915 \n",
       "  430.872,306.171 437.988,300.58 445.104,295.657 452.221,290.418 459.337,282.009 466.453,282.718 473.57,282.775 480.686,279.3 487.803,265.251 494.919,229.719 \n",
       "  502.035,225.3 509.152,202.309 516.268,180.694 523.384,185.025 530.501,217.041 537.617,202.49 544.733,182.179 551.85,129.838 558.966,123.316 566.082,87.5039 \n",
       "  573.199,65.5228 580.315,54.5885 \n",
       "  \"/>\n",
       "<polyline clip-path=\"url(#clip1502)\" style=\"stroke:#e26f46; stroke-width:1; stroke-opacity:1; fill:none\" points=\"\n",
       "  75.0547,375.613 82.171,375.778 89.2874,375.303 96.4037,375.129 103.52,374.664 110.636,374.034 117.753,374.13 124.869,373.964 131.985,373.91 139.102,373.17 \n",
       "  146.218,372.867 153.334,372.883 160.451,372.825 167.567,371.88 174.683,372.197 181.8,371.96 188.916,371.266 196.033,371.022 203.149,370.122 210.265,369.417 \n",
       "  217.382,368.582 224.498,368.803 231.614,367.607 238.731,366.193 245.847,367.067 252.963,366.174 260.08,366.788 267.196,365.128 274.312,365.106 281.429,364.51 \n",
       "  288.545,360.734 295.661,359.508 302.778,356.913 309.894,354.255 317.01,349.63 324.127,341.943 331.243,345.425 338.359,337.237 345.476,339.896 352.592,338.371 \n",
       "  359.708,334.094 366.825,332.981 373.941,339.469 381.057,320.824 388.174,317.347 395.29,323.6 402.406,320.57 409.523,317.402 416.639,314.345 423.755,312.774 \n",
       "  430.872,295.836 437.988,290.934 445.104,285.777 452.221,284.506 459.337,274.501 466.453,292.972 473.57,286.332 480.686,284.129 487.803,248.41 494.919,220.649 \n",
       "  502.035,216.302 509.152,188.509 516.268,177.511 523.384,239.902 530.501,182.54 537.617,189.366 544.733,188.621 551.85,120.814 558.966,94.3218 566.082,69.8774 \n",
       "  573.199,64.8239 580.315,31.4961 \n",
       "  \"/>\n",
       "<polygon clip-path=\"url(#clip1500)\" points=\"\n",
       "466.096,97.7361 562.315,97.7361 562.315,52.3761 466.096,52.3761 \n",
       "  \" fill=\"#ffffff\" fill-opacity=\"1\"/>\n",
       "<polyline clip-path=\"url(#clip1500)\" style=\"stroke:#000000; stroke-width:1; stroke-opacity:1; fill:none\" points=\"\n",
       "  466.096,97.7361 562.315,97.7361 562.315,52.3761 466.096,52.3761 466.096,97.7361 \n",
       "  \"/>\n",
       "<polyline clip-path=\"url(#clip1500)\" style=\"stroke:#009af9; stroke-width:1; stroke-opacity:1; fill:none\" points=\"\n",
       "  472.096,67.4961 508.096,67.4961 \n",
       "  \"/>\n",
       "<g clip-path=\"url(#clip1500)\">\n",
       "<text style=\"fill:#000000; fill-opacity:1; font-family:Arial,Helvetica Neue,Helvetica,sans-serif; font-size:12; text-anchor:start;\" transform=\"rotate(0, 514.096, 71.9961)\" x=\"514.096\" y=\"71.9961\">Cash</text>\n",
       "</g>\n",
       "<polyline clip-path=\"url(#clip1500)\" style=\"stroke:#e26f46; stroke-width:1; stroke-opacity:1; fill:none\" points=\"\n",
       "  472.096,82.6161 508.096,82.6161 \n",
       "  \"/>\n",
       "<g clip-path=\"url(#clip1500)\">\n",
       "<text style=\"fill:#000000; fill-opacity:1; font-family:Arial,Helvetica Neue,Helvetica,sans-serif; font-size:12; text-anchor:start;\" transform=\"rotate(0, 514.096, 87.1161)\" x=\"514.096\" y=\"87.1161\">Market</text>\n",
       "</g>\n",
       "</svg>\n"
      ]
     },
     "execution_count": 16,
     "metadata": {},
     "output_type": "execute_result"
    }
   ],
   "source": [
    "plot(Dates.value.(yearly_data[:year]), yearly_data[:cash_div], label=\"Cash\", title=\"Annual Dividends invested in ...\")\n",
    "plot!(Dates.value.(yearly_data[:year]), yearly_data[:mkt_div], label=\"Market\")"
   ]
  },
  {
   "cell_type": "markdown",
   "metadata": {},
   "source": [
    "### (d)"
   ]
  },
  {
   "cell_type": "code",
   "execution_count": 29,
   "metadata": {},
   "outputs": [],
   "source": [
    "yearly_data[:ret] = log.(1 .+ by(df, [:year], df -> prod(1 .+ df[:vwretd])-1)[:x1]);"
   ]
  },
  {
   "cell_type": "code",
   "execution_count": 32,
   "metadata": {},
   "outputs": [],
   "source": [
    "yearly_data[:cash_div_growth] = \n",
    "    log.(1 .+ vcat(0, (yearly_data[:cash_div][2:end] - yearly_data[:cash_div][1:end-1])./yearly_data[:cash_div][1:end-1]))\n",
    "\n",
    "yearly_data[:mkt_div_growth] = \n",
    "    log.(1 .+ vcat(0, (yearly_data[:mkt_div][2:end] - yearly_data[:mkt_div][1:end-1])./yearly_data[:mkt_div][1:end-1]));"
   ]
  },
  {
   "cell_type": "code",
   "execution_count": 27,
   "metadata": {},
   "outputs": [],
   "source": [
    "yearly_data[:totval] = by(df, [:year], df -> df[:totval][12])[:x1]\n",
    "yearly_data[:cash_logPD] = vcat(df[:totval][1], yearly_data[:totval][1:end-1]) ./ yearly_data[:cash_div]\n",
    "yearly_data[:mkt_logPD] = vcat(df[:totval][1], yearly_data[:totval][1:end-1]) ./ yearly_data[:mkt_div];"
   ]
  },
  {
   "cell_type": "code",
   "execution_count": 28,
   "metadata": {
    "scrolled": true
   },
   "outputs": [
    {
     "data": {
      "text/html": [
       "<table class=\"data-frame\"><thead><tr><th></th><th>year</th><th>cash_div</th><th>mkt_div</th><th>ret</th><th>cash_div_growth</th><th>mkt_div_growth</th><th>totval</th><th>cash_logPD</th><th>mkt_logPD</th></tr></thead><tbody><tr><th>1</th><td>1945 years</td><td>2.2498955541939e6</td><td>2.6477090784431132e6</td><td>0.3905947976341533</td><td>0.0</td><td>0.0</td><td>6.43306221e7</td><td>21.27297429908836</td><td>18.07674819325069</td></tr><tr><th>2</th><td>1946 years</td><td>2.599129628707599e6</td><td>2.319925542087249e6</td><td>-0.06421198897275038</td><td>0.15522234970539495</td><td>-0.12379892452104488</td><td>5.96843836e7</td><td>24.750832505413747</td><td>27.729606374401744</td></tr><tr><th>3</th><td>1947 years</td><td>3.231865534292101e6</td><td>3.2636809326087963e6</td><td>0.0329317706316512</td><td>0.2434414577079505</td><td>0.4068041725479024</td><td>5.98853607e7</td><td>18.467471176232927</td><td>18.28744440170865</td></tr><tr><th>4</th><td>1948 years</td><td>3.757383750905099e6</td><td>3.6104193620426296e6</td><td>0.021313492205374818</td><td>0.16260522321765036</td><td>0.10624152194824721</td><td>5.83012582e7</td><td>15.938047500624469</td><td>16.5868157393548</td></tr><tr><th>5</th><td>1949 years</td><td>4.139718261552899e6</td><td>4.534289215466398e6</td><td>0.20109340284160937</td><td>0.10175551287666625</td><td>0.25588990108370124</td><td>6.73444034e7</td><td>14.083387930397448</td><td>12.857860500193771</td></tr><tr><th>6</th><td>1950 years</td><td>5.265457501587398e6</td><td>5.784492814004975e6</td><td>0.30473441116781075</td><td>0.2719361968396878</td><td>0.2757220678103528</td><td>8.48339739e7</td><td>12.789848437613905</td><td>11.64223131835359</td></tr><tr><th>7</th><td>1951 years</td><td>5.336459275294e6</td><td>5.594748152014909e6</td><td>0.2094406883882587</td><td>0.013484445308920782</td><td>-0.032802298851624584</td><td>1.0072515e8</td><td>15.897052619281212</td><td>15.163144362351261</td></tr><tr><th>8</th><td>1952 years</td><td>5.5706888439251995e6</td><td>5.923939538057095e6</td><td>0.13332261705233206</td><td>0.04389231821099109</td><td>0.05883935739334935</td><td>1.1118786e8</td><td>18.081273756627088</td><td>17.003068541282808</td></tr><tr><th>9</th><td>1953 years</td><td>5.853633985192001e6</td><td>6.03159643709228e6</td><td>0.003842407855630503</td><td>0.05079176906018566</td><td>0.018173193420284877</td><td>1.08286194e8</td><td>18.994672417386035</td><td>18.43423398094611</td></tr><tr><th>10</th><td>1954 years</td><td>6.344256751836e6</td><td>7.50098950574696e6</td><td>0.5041223694914987</td><td>0.08381507417189607</td><td>0.24361594545988005</td><td>1.59614395e8</td><td>17.068381409479123</td><td>14.436254565752348</td></tr><tr><th>11</th><td>1955 years</td><td>7.317233476775997e6</td><td>8.103573451282025e6</td><td>0.25413446883382784</td><td>0.15336339038586705</td><td>0.08033392728697858</td><td>1.97213978e8</td><td>21.813489415992606</td><td>19.696791293321123</td></tr><tr><th>12</th><td>1956 years</td><td>8.082862868272001e6</td><td>8.07131260459684e6</td><td>0.08581913378708217</td><td>0.10463372447059636</td><td>-0.003981064264936263</td><td>2.11375251e8</td><td>24.399025594524467</td><td>24.433941251102215</td></tr><tr><th>13</th><td>1957 years</td><td>8.634863198557002e6</td><td>8.187062367354782e6</td><td>-0.10348216146341205</td><td>0.06829267541477062</td><td>0.014340884615473736</td><td>1.87753792e8</td><td>24.47928196885893</td><td>25.81820456661487</td></tr><tr><th>14</th><td>1958 years</td><td>8.542625929681e6</td><td>1.0064021606657652e7</td><td>0.4477579548820303</td><td>-0.010681960646628096</td><td>0.22925918419616367</td><td>2.67804898e8</td><td>21.97846347779987</td><td>18.655940869184466</td></tr><tr><th>15</th><td>1959 years</td><td>9.190100417777e6</td><td>9.435433654603349e6</td><td>0.1264624515484496</td><td>0.0757933793924392</td><td>-0.06245892314444887</td><td>2.99021494e8</td><td>29.140584523099207</td><td>28.382892382412507</td></tr><tr><th>16</th><td>1960 years</td><td>9.673840534237998e6</td><td>9.906184204301983e6</td><td>0.01208791974820489</td><td>0.052637087134028274</td><td>0.04989177677795072</td><td>2.99423865e8</td><td>30.91031870348623</td><td>30.185335527088544</td></tr><tr><th>17</th><td>1961 years</td><td>1.0258186681799999e7</td><td>1.1285285831536852e7</td><td>0.26960537444428656</td><td>0.060404773625724176</td><td>0.13921623087080925</td><td>3.78064824e8</td><td>29.188771299242944</td><td>26.532235821910405</td></tr><tr><th>18</th><td>1962 years</td><td>1.1499474303071994e7</td><td>1.1769651382858733e7</td><td>-0.10312261566740277</td><td>0.12100458490137243</td><td>0.0429200960039768</td><td>3.60094344e8</td><td>32.876704972418</td><td>32.12200699084528</td></tr><tr><th>19</th><td>1963 years</td><td>1.2799866714562003e7</td><td>1.3557230829525098e7</td><td>0.20887560445513897</td><td>0.11308277032651994</td><td>0.15188040737296502</td><td>4.24618266e8</td><td>28.132663568311386</td><td>26.56105428372454</td></tr><tr><th>20</th><td>1964 years</td><td>1.4126846409599999e7</td><td>1.4958221260854522e7</td><td>0.1630368352675342</td><td>0.10367136819700894</td><td>0.10333898190169706</td><td>4.901349e8</td><td>30.05754105965558</td><td>28.386949129521216</td></tr><tr><th>21</th><td>1965 years</td><td>1.57003525333e7</td><td>1.6615929056856867e7</td><td>0.1438591110936549</td><td>0.11138410357676948</td><td>0.11082252141439743</td><td>5.52707745e8</td><td>31.21808245773067</td><td>29.497893155588365</td></tr><tr><th>22</th><td>1966 years</td><td>1.6884776637712006e7</td><td>1.6177885574921358e7</td><td>-0.08688960859974582</td><td>0.07543933181754209</td><td>-0.026362864239285008</td><td>4.95609544e8</td><td>32.73408685582088</td><td>34.16439944765073</td></tr><tr><th>23</th><td>1967 years</td><td>1.7563674236232992e7</td><td>1.8553479803336453e7</td><td>0.28566581683698056</td><td>0.04020767423151306</td><td>0.1468420713827828</td><td>6.2863631e8</td><td>28.217873853386667</td><td>26.71248462570752</td></tr><tr><th>24</th><td>1968 years</td><td>1.8762756599347994e7</td><td>2.1363464179258127e7</td><td>0.14169003907922817</td><td>0.06827058774759975</td><td>0.15145322633311933</td><td>7.18331607e8</td><td>33.50447503123529</td><td>29.425766566938407</td></tr><tr><th>25</th><td>1969 years</td><td>2.033002756048701e7</td><td>1.962694573113283e7</td><td>-0.10836058979865604</td><td>0.08353095414527088</td><td>-0.08128449738087365</td><td>6.41070805e8</td><td>35.333528440272914</td><td>36.59925578031031</td></tr><tr><th>26</th><td>1970 years</td><td>2.0135967759485997e7</td><td>2.140107143022417e7</td><td>0.0007230531236053217</td><td>-0.009545476533351221</td><td>0.0903923475101461</td><td>6.39976313e8</td><td>31.837099297002666</td><td>29.955079916916336</td></tr><tr><th>27</th><td>1971 years</td><td>2.0590118635635007e7</td><td>2.0181054510913406e7</td><td>0.16198936721503432</td><td>0.022554211527035285</td><td>-0.057007282242316416</td><td>7.47603983e8</td><td>31.081720524543393</td><td>31.711737989405705</td></tr><tr><th>28</th><td>1972 years</td><td>2.1750507204510998e7</td><td>2.347814599873516e7</td><td>0.17340440482933572</td><td>0.05635657518105427</td><td>0.16337558010354564</td><td>1.01162077e9</td><td>34.371795377946356</td><td>31.84254766284679</td></tr><tr><th>29</th><td>1973 years</td><td>2.6357021533256005e7</td><td>2.3522693800391708e7</td><td>-0.18748858565342563</td><td>0.21178882337923727</td><td>0.0018974156502369422</td><td>7.9859675e8</td><td>38.38145249923578</td><td>43.00616156399375</td></tr><tr><th>30</th><td>1974 years</td><td>2.8517565994560998e7</td><td>2.47066504808401e7</td><td>-0.2794095982928022</td><td>0.0819722539050523</td><td>0.0503325295348902</td><td>5.52899062e8</td><td>28.003678510021228</td><td>32.323149211153016</td></tr><tr><th>&vellip;</th><td>&vellip;</td><td>&vellip;</td><td>&vellip;</td><td>&vellip;</td><td>&vellip;</td><td>&vellip;</td><td>&vellip;</td><td>&vellip;</td><td>&vellip;</td></tr></tbody></table>"
      ],
      "text/plain": [
       "72×9 DataFrames.DataFrame\n",
       "│ Row │ year       │ cash_div  │ mkt_div   │ ret        │ cash_div_growth │\n",
       "├─────┼────────────┼───────────┼───────────┼────────────┼─────────────────┤\n",
       "│ 1   │ 1945 years │ 2.2499e6  │ 2.64771e6 │ 0.390595   │ 0.0             │\n",
       "│ 2   │ 1946 years │ 2.59913e6 │ 2.31993e6 │ -0.064212  │ 0.155222        │\n",
       "│ 3   │ 1947 years │ 3.23187e6 │ 3.26368e6 │ 0.0329318  │ 0.243441        │\n",
       "│ 4   │ 1948 years │ 3.75738e6 │ 3.61042e6 │ 0.0213135  │ 0.162605        │\n",
       "│ 5   │ 1949 years │ 4.13972e6 │ 4.53429e6 │ 0.201093   │ 0.101756        │\n",
       "│ 6   │ 1950 years │ 5.26546e6 │ 5.78449e6 │ 0.304734   │ 0.271936        │\n",
       "│ 7   │ 1951 years │ 5.33646e6 │ 5.59475e6 │ 0.209441   │ 0.0134844       │\n",
       "│ 8   │ 1952 years │ 5.57069e6 │ 5.92394e6 │ 0.133323   │ 0.0438923       │\n",
       "│ 9   │ 1953 years │ 5.85363e6 │ 6.0316e6  │ 0.00384241 │ 0.0507918       │\n",
       "│ 10  │ 1954 years │ 6.34426e6 │ 7.50099e6 │ 0.504122   │ 0.0838151       │\n",
       "│ 11  │ 1955 years │ 7.31723e6 │ 8.10357e6 │ 0.254134   │ 0.153363        │\n",
       "⋮\n",
       "│ 61  │ 2005 years │ 3.0128e8  │ 3.19157e8 │ 0.0730654  │ 0.030013        │\n",
       "│ 62  │ 2006 years │ 3.46959e8 │ 3.74375e8 │ 0.162104   │ 0.151613        │\n",
       "│ 63  │ 2007 years │ 3.899e8   │ 3.96224e8 │ 0.0726943  │ 0.123767        │\n",
       "│ 64  │ 2008 years │ 3.81297e8 │ 2.72269e8 │ -0.382131  │ -0.0220653      │\n",
       "│ 65  │ 2009 years │ 3.17688e8 │ 3.86234e8 │ 0.312907   │ -0.166822       │\n",
       "│ 66  │ 2010 years │ 3.46599e8 │ 3.72672e8 │ 0.177072   │ 0.0910022       │\n",
       "│ 67  │ 2011 years │ 3.86952e8 │ 3.74152e8 │ -0.0107033 │ 0.116426        │\n",
       "│ 68  │ 2012 years │ 4.90938e8 │ 5.08867e8 │ 0.157588   │ 0.268731        │\n",
       "│ 69  │ 2013 years │ 5.03895e8 │ 5.615e8   │ 0.304481   │ 0.026394        │\n",
       "│ 70  │ 2014 years │ 5.75045e8 │ 6.10064e8 │ 0.105061   │ 0.1412          │\n",
       "│ 71  │ 2015 years │ 6.18716e8 │ 6.20105e8 │ -0.0168109 │ 0.0759432       │\n",
       "│ 72  │ 2016 years │ 6.4044e8  │ 6.86318e8 │ 0.12669    │ 0.0351108       │\n",
       "\n",
       "│ Row │ mkt_div_growth │ totval     │ cash_logPD │ mkt_logPD │\n",
       "├─────┼────────────────┼────────────┼────────────┼───────────┤\n",
       "│ 1   │ 0.0            │ 6.43306e7  │ 21.273     │ 18.0767   │\n",
       "│ 2   │ -0.123799      │ 5.96844e7  │ 24.7508    │ 27.7296   │\n",
       "│ 3   │ 0.406804       │ 5.98854e7  │ 18.4675    │ 18.2874   │\n",
       "│ 4   │ 0.106242       │ 5.83013e7  │ 15.938     │ 16.5868   │\n",
       "│ 5   │ 0.25589        │ 6.73444e7  │ 14.0834    │ 12.8579   │\n",
       "│ 6   │ 0.275722       │ 8.4834e7   │ 12.7898    │ 11.6422   │\n",
       "│ 7   │ -0.0328023     │ 1.00725e8  │ 15.8971    │ 15.1631   │\n",
       "│ 8   │ 0.0588394      │ 1.11188e8  │ 18.0813    │ 17.0031   │\n",
       "│ 9   │ 0.0181732      │ 1.08286e8  │ 18.9947    │ 18.4342   │\n",
       "│ 10  │ 0.243616       │ 1.59614e8  │ 17.0684    │ 14.4363   │\n",
       "│ 11  │ 0.0803339      │ 1.97214e8  │ 21.8135    │ 19.6968   │\n",
       "⋮\n",
       "│ 61  │ 0.0278137      │ 1.73711e10 │ 54.6021    │ 51.5438   │\n",
       "│ 62  │ 0.173011       │ 1.96074e10 │ 50.0669    │ 46.4004   │\n",
       "│ 63  │ 0.0583619      │ 2.01957e10 │ 50.2881    │ 49.4855   │\n",
       "│ 64  │ -0.31284       │ 1.21292e10 │ 52.9657    │ 74.1753   │\n",
       "│ 65  │ 0.418574       │ 1.58045e10 │ 38.1794    │ 31.4036   │\n",
       "│ 66  │ -0.0351129     │ 1.84906e10 │ 45.5989    │ 42.4086   │\n",
       "│ 67  │ 0.00397098     │ 1.78868e10 │ 47.7853    │ 49.42     │\n",
       "│ 68  │ 0.360054       │ 2.03527e10 │ 36.434     │ 35.1503   │\n",
       "│ 69  │ 0.103431       │ 2.62813e10 │ 40.3907    │ 36.247    │\n",
       "│ 70  │ 0.0864908      │ 2.8964e10  │ 45.7031    │ 43.0796   │\n",
       "│ 71  │ 0.0164573      │ 2.76588e10 │ 46.8131    │ 46.7083   │\n",
       "│ 72  │ 0.106778       │ 3.01505e10 │ 43.1872    │ 40.3002   │"
      ]
     },
     "execution_count": 28,
     "metadata": {},
     "output_type": "execute_result"
    }
   ],
   "source": [
    "yearly_data"
   ]
  },
  {
   "cell_type": "code",
   "execution_count": null,
   "metadata": {},
   "outputs": [],
   "source": []
  }
 ],
 "metadata": {
  "kernelspec": {
   "display_name": "Julia 0.6.2",
   "language": "julia",
   "name": "julia-0.6"
  },
  "language_info": {
   "file_extension": ".jl",
   "mimetype": "application/julia",
   "name": "julia",
   "version": "0.6.2"
  }
 },
 "nbformat": 4,
 "nbformat_minor": 2
}
