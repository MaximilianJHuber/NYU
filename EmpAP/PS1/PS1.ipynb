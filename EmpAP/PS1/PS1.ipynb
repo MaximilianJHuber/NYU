{
 "cells": [
  {
   "cell_type": "markdown",
   "metadata": {},
   "source": [
    "\n",
    "# Empirical Asset Pricing - PS1\n",
    "## Task 1"
   ]
  },
  {
   "cell_type": "code",
   "execution_count": 1,
   "metadata": {},
   "outputs": [
    {
     "name": "stderr",
     "output_type": "stream",
     "text": [
      "Base.Nullable{T}) in module Base at nullable.jl:238 overwritten in module NullableArrays at C:\\Users\\Max\\AppData\\Local\\JuliaPro-0.6.2.1\\pkgs-0.6.2.1\\v0.6\\NullableArrays\\src\\operators.jl:99.\n"
     ]
    }
   ],
   "source": [
    "using CSV, DataFrames, NullableArrays, Plots; gr();"
   ]
  },
  {
   "cell_type": "code",
   "execution_count": 2,
   "metadata": {},
   "outputs": [],
   "source": [
    "df = CSV.read(\"./Data/a5986cc31aad4a02.csv\", delim=',', \n",
    "        types=[Date, Float64, Float64, Float64], \n",
    "        dateformat = DateFormat(\"yyyymmdd\"), nullable=false);"
   ]
  },
  {
   "cell_type": "markdown",
   "metadata": {},
   "source": [
    "### (b)"
   ]
  },
  {
   "cell_type": "code",
   "execution_count": 3,
   "metadata": {},
   "outputs": [],
   "source": [
    "df[:div] = collect((df[:vwretd]-df[:vwretx])[1:end].*df[:totval][vcat(1, 1:(size(df, 1)-1))])\n",
    "df[:year] = Dates.Year.(df[:DATE])\n",
    "df[:month] = Dates.Month.(df[:DATE]);"
   ]
  },
  {
   "cell_type": "code",
   "execution_count": 4,
   "metadata": {},
   "outputs": [
    {
     "data": {
      "text/html": [
       "<table class=\"data-frame\"><thead><tr><th></th><th>DATE</th><th>vwretd</th><th>vwretx</th><th>totval</th><th>div</th><th>year</th><th>month</th></tr></thead><tbody><tr><th>1</th><td>1945-01-31</td><td>0.020218</td><td>0.018951</td><td>4.78619703e7</td><td>60641.11637010003</td><td>1945 years</td><td>1 month</td></tr><tr><th>2</th><td>1945-02-28</td><td>0.064477</td><td>0.059894</td><td>5.07251836e7</td><td>219351.40988490017</td><td>1945 years</td><td>2 months</td></tr><tr><th>3</th><td>1945-03-31</td><td>-0.039177</td><td>-0.043164</td><td>4.85517438e7</td><td>202241.30701320022</td><td>1945 years</td><td>3 months</td></tr><tr><th>4</th><td>1945-04-30</td><td>0.078232</td><td>0.076981</td><td>5.23206432e7</td><td>60738.2314938001</td><td>1945 years</td><td>4 months</td></tr><tr><th>5</th><td>1945-05-31</td><td>0.018185</td><td>0.012439</td><td>5.31954659e7</td><td>300634.4158272</td><td>1945 years</td><td>5 months</td></tr><tr><th>6</th><td>1945-06-30</td><td>0.004676</td><td>0.001087</td><td>5.32805822e7</td><td>190918.52711509995</td><td>1945 years</td><td>6 months</td></tr></tbody></table>"
      ],
      "text/plain": [
       "6×7 DataFrames.DataFrame\n",
       "│ Row │ DATE       │ vwretd    │ vwretx    │ totval    │ div       │\n",
       "├─────┼────────────┼───────────┼───────────┼───────────┼───────────┤\n",
       "│ 1   │ 1945-01-31 │ 0.020218  │ 0.018951  │ 4.7862e7  │ 60641.1   │\n",
       "│ 2   │ 1945-02-28 │ 0.064477  │ 0.059894  │ 5.07252e7 │ 2.19351e5 │\n",
       "│ 3   │ 1945-03-31 │ -0.039177 │ -0.043164 │ 4.85517e7 │ 2.02241e5 │\n",
       "│ 4   │ 1945-04-30 │ 0.078232  │ 0.076981  │ 5.23206e7 │ 60738.2   │\n",
       "│ 5   │ 1945-05-31 │ 0.018185  │ 0.012439  │ 5.31955e7 │ 3.00634e5 │\n",
       "│ 6   │ 1945-06-30 │ 0.004676  │ 0.001087  │ 5.32806e7 │ 1.90919e5 │\n",
       "\n",
       "│ Row │ year       │ month    │\n",
       "├─────┼────────────┼──────────┤\n",
       "│ 1   │ 1945 years │ 1 month  │\n",
       "│ 2   │ 1945 years │ 2 months │\n",
       "│ 3   │ 1945 years │ 3 months │\n",
       "│ 4   │ 1945 years │ 4 months │\n",
       "│ 5   │ 1945 years │ 5 months │\n",
       "│ 6   │ 1945 years │ 6 months │"
      ]
     },
     "execution_count": 4,
     "metadata": {},
     "output_type": "execute_result"
    }
   ],
   "source": [
    "head(df)"
   ]
  },
  {
   "cell_type": "markdown",
   "metadata": {},
   "source": [
    "### (c)"
   ]
  },
  {
   "cell_type": "code",
   "execution_count": 36,
   "metadata": {},
   "outputs": [],
   "source": [
    "yearly_data = by(df, [:year], df -> sum(df[:div]))\n",
    "yearly_data[:year] = Dates.value.(yearly_data[:year])\n",
    "\n",
    "yearly_data[:mkt_div] = zeros(floor(Int64, size(df, 1)/12))\n",
    "\n",
    "for t in 1:size(df, 1)   \n",
    "    if ((t-1)%12 == 0) #January\n",
    "        yearly_data[:mkt_div][1+floor(Int64, (t-1)/12)] = df[:div][t]\n",
    "        else #other months\n",
    "        yearly_data[:mkt_div][1+floor(Int64, (t-1)/12)] = \n",
    "            yearly_data[:mkt_div][1+floor(Int64, (t-1)/12)]*(1+df[:vwretd][t-1]) + df[:div][t]\n",
    "    end\n",
    "end\n",
    "\n",
    "names!(yearly_data, [:year, :cash_div, :mkt_div]);\n"
   ]
  },
  {
   "cell_type": "code",
   "execution_count": 37,
   "metadata": {},
   "outputs": [
    {
     "data": {
      "text/html": [
       "<?xml version=\"1.0\" encoding=\"utf-8\"?>\n",
       "<svg xmlns=\"http://www.w3.org/2000/svg\" xmlns:xlink=\"http://www.w3.org/1999/xlink\" width=\"600\" height=\"400\" viewBox=\"0 0 600 400\">\n",
       "<defs>\n",
       "  <clipPath id=\"clip1700\">\n",
       "    <rect x=\"0\" y=\"0\" width=\"600\" height=\"400\"/>\n",
       "  </clipPath>\n",
       "</defs>\n",
       "<polygon clip-path=\"url(#clip1700)\" points=\"\n",
       "0,400 600,400 600,0 0,0 \n",
       "  \" fill=\"#ffffff\" fill-opacity=\"1\"/>\n",
       "<defs>\n",
       "  <clipPath id=\"clip1701\">\n",
       "    <rect x=\"120\" y=\"0\" width=\"421\" height=\"400\"/>\n",
       "  </clipPath>\n",
       "</defs>\n",
       "<polygon clip-path=\"url(#clip1700)\" points=\"\n",
       "75.0547,375.813 580.315,375.813 580.315,31.4961 75.0547,31.4961 \n",
       "  \" fill=\"#ffffff\" fill-opacity=\"1\"/>\n",
       "<defs>\n",
       "  <clipPath id=\"clip1702\">\n",
       "    <rect x=\"75\" y=\"31\" width=\"506\" height=\"345\"/>\n",
       "  </clipPath>\n",
       "</defs>\n",
       "<polyline clip-path=\"url(#clip1702)\" style=\"stroke:#000000; stroke-width:0.5; stroke-opacity:0.1; fill:none\" points=\"\n",
       "  110.636,375.813 110.636,31.4961 \n",
       "  \"/>\n",
       "<polyline clip-path=\"url(#clip1702)\" style=\"stroke:#000000; stroke-width:0.5; stroke-opacity:0.1; fill:none\" points=\"\n",
       "  181.8,375.813 181.8,31.4961 \n",
       "  \"/>\n",
       "<polyline clip-path=\"url(#clip1702)\" style=\"stroke:#000000; stroke-width:0.5; stroke-opacity:0.1; fill:none\" points=\"\n",
       "  252.963,375.813 252.963,31.4961 \n",
       "  \"/>\n",
       "<polyline clip-path=\"url(#clip1702)\" style=\"stroke:#000000; stroke-width:0.5; stroke-opacity:0.1; fill:none\" points=\"\n",
       "  324.127,375.813 324.127,31.4961 \n",
       "  \"/>\n",
       "<polyline clip-path=\"url(#clip1702)\" style=\"stroke:#000000; stroke-width:0.5; stroke-opacity:0.1; fill:none\" points=\"\n",
       "  395.29,375.813 395.29,31.4961 \n",
       "  \"/>\n",
       "<polyline clip-path=\"url(#clip1702)\" style=\"stroke:#000000; stroke-width:0.5; stroke-opacity:0.1; fill:none\" points=\"\n",
       "  466.453,375.813 466.453,31.4961 \n",
       "  \"/>\n",
       "<polyline clip-path=\"url(#clip1702)\" style=\"stroke:#000000; stroke-width:0.5; stroke-opacity:0.1; fill:none\" points=\"\n",
       "  537.617,375.813 537.617,31.4961 \n",
       "  \"/>\n",
       "<polyline clip-path=\"url(#clip1702)\" style=\"stroke:#000000; stroke-width:0.5; stroke-opacity:0.1; fill:none\" points=\"\n",
       "  75.0547,326.612 580.315,326.612 \n",
       "  \"/>\n",
       "<polyline clip-path=\"url(#clip1702)\" style=\"stroke:#000000; stroke-width:0.5; stroke-opacity:0.1; fill:none\" points=\"\n",
       "  75.0547,276.278 580.315,276.278 \n",
       "  \"/>\n",
       "<polyline clip-path=\"url(#clip1702)\" style=\"stroke:#000000; stroke-width:0.5; stroke-opacity:0.1; fill:none\" points=\"\n",
       "  75.0547,225.945 580.315,225.945 \n",
       "  \"/>\n",
       "<polyline clip-path=\"url(#clip1702)\" style=\"stroke:#000000; stroke-width:0.5; stroke-opacity:0.1; fill:none\" points=\"\n",
       "  75.0547,175.611 580.315,175.611 \n",
       "  \"/>\n",
       "<polyline clip-path=\"url(#clip1702)\" style=\"stroke:#000000; stroke-width:0.5; stroke-opacity:0.1; fill:none\" points=\"\n",
       "  75.0547,125.277 580.315,125.277 \n",
       "  \"/>\n",
       "<polyline clip-path=\"url(#clip1702)\" style=\"stroke:#000000; stroke-width:0.5; stroke-opacity:0.1; fill:none\" points=\"\n",
       "  75.0547,74.9432 580.315,74.9432 \n",
       "  \"/>\n",
       "<polyline clip-path=\"url(#clip1700)\" style=\"stroke:#000000; stroke-width:1; stroke-opacity:1; fill:none\" points=\"\n",
       "  75.0547,375.813 580.315,375.813 \n",
       "  \"/>\n",
       "<polyline clip-path=\"url(#clip1700)\" style=\"stroke:#000000; stroke-width:1; stroke-opacity:1; fill:none\" points=\"\n",
       "  75.0547,375.813 75.0547,31.4961 \n",
       "  \"/>\n",
       "<polyline clip-path=\"url(#clip1700)\" style=\"stroke:#000000; stroke-width:1; stroke-opacity:1; fill:none\" points=\"\n",
       "  110.636,375.813 110.636,370.649 \n",
       "  \"/>\n",
       "<polyline clip-path=\"url(#clip1700)\" style=\"stroke:#000000; stroke-width:1; stroke-opacity:1; fill:none\" points=\"\n",
       "  181.8,375.813 181.8,370.649 \n",
       "  \"/>\n",
       "<polyline clip-path=\"url(#clip1700)\" style=\"stroke:#000000; stroke-width:1; stroke-opacity:1; fill:none\" points=\"\n",
       "  252.963,375.813 252.963,370.649 \n",
       "  \"/>\n",
       "<polyline clip-path=\"url(#clip1700)\" style=\"stroke:#000000; stroke-width:1; stroke-opacity:1; fill:none\" points=\"\n",
       "  324.127,375.813 324.127,370.649 \n",
       "  \"/>\n",
       "<polyline clip-path=\"url(#clip1700)\" style=\"stroke:#000000; stroke-width:1; stroke-opacity:1; fill:none\" points=\"\n",
       "  395.29,375.813 395.29,370.649 \n",
       "  \"/>\n",
       "<polyline clip-path=\"url(#clip1700)\" style=\"stroke:#000000; stroke-width:1; stroke-opacity:1; fill:none\" points=\"\n",
       "  466.453,375.813 466.453,370.649 \n",
       "  \"/>\n",
       "<polyline clip-path=\"url(#clip1700)\" style=\"stroke:#000000; stroke-width:1; stroke-opacity:1; fill:none\" points=\"\n",
       "  537.617,375.813 537.617,370.649 \n",
       "  \"/>\n",
       "<polyline clip-path=\"url(#clip1700)\" style=\"stroke:#000000; stroke-width:1; stroke-opacity:1; fill:none\" points=\"\n",
       "  75.0547,326.612 82.6336,326.612 \n",
       "  \"/>\n",
       "<polyline clip-path=\"url(#clip1700)\" style=\"stroke:#000000; stroke-width:1; stroke-opacity:1; fill:none\" points=\"\n",
       "  75.0547,276.278 82.6336,276.278 \n",
       "  \"/>\n",
       "<polyline clip-path=\"url(#clip1700)\" style=\"stroke:#000000; stroke-width:1; stroke-opacity:1; fill:none\" points=\"\n",
       "  75.0547,225.945 82.6336,225.945 \n",
       "  \"/>\n",
       "<polyline clip-path=\"url(#clip1700)\" style=\"stroke:#000000; stroke-width:1; stroke-opacity:1; fill:none\" points=\"\n",
       "  75.0547,175.611 82.6336,175.611 \n",
       "  \"/>\n",
       "<polyline clip-path=\"url(#clip1700)\" style=\"stroke:#000000; stroke-width:1; stroke-opacity:1; fill:none\" points=\"\n",
       "  75.0547,125.277 82.6336,125.277 \n",
       "  \"/>\n",
       "<polyline clip-path=\"url(#clip1700)\" style=\"stroke:#000000; stroke-width:1; stroke-opacity:1; fill:none\" points=\"\n",
       "  75.0547,74.9432 82.6336,74.9432 \n",
       "  \"/>\n",
       "<g clip-path=\"url(#clip1700)\">\n",
       "<text style=\"fill:#000000; fill-opacity:1; font-family:Arial,Helvetica Neue,Helvetica,sans-serif; font-size:12; text-anchor:middle;\" transform=\"rotate(0, 110.636, 389.613)\" x=\"110.636\" y=\"389.613\">1950</text>\n",
       "</g>\n",
       "<g clip-path=\"url(#clip1700)\">\n",
       "<text style=\"fill:#000000; fill-opacity:1; font-family:Arial,Helvetica Neue,Helvetica,sans-serif; font-size:12; text-anchor:middle;\" transform=\"rotate(0, 181.8, 389.613)\" x=\"181.8\" y=\"389.613\">1960</text>\n",
       "</g>\n",
       "<g clip-path=\"url(#clip1700)\">\n",
       "<text style=\"fill:#000000; fill-opacity:1; font-family:Arial,Helvetica Neue,Helvetica,sans-serif; font-size:12; text-anchor:middle;\" transform=\"rotate(0, 252.963, 389.613)\" x=\"252.963\" y=\"389.613\">1970</text>\n",
       "</g>\n",
       "<g clip-path=\"url(#clip1700)\">\n",
       "<text style=\"fill:#000000; fill-opacity:1; font-family:Arial,Helvetica Neue,Helvetica,sans-serif; font-size:12; text-anchor:middle;\" transform=\"rotate(0, 324.127, 389.613)\" x=\"324.127\" y=\"389.613\">1980</text>\n",
       "</g>\n",
       "<g clip-path=\"url(#clip1700)\">\n",
       "<text style=\"fill:#000000; fill-opacity:1; font-family:Arial,Helvetica Neue,Helvetica,sans-serif; font-size:12; text-anchor:middle;\" transform=\"rotate(0, 395.29, 389.613)\" x=\"395.29\" y=\"389.613\">1990</text>\n",
       "</g>\n",
       "<g clip-path=\"url(#clip1700)\">\n",
       "<text style=\"fill:#000000; fill-opacity:1; font-family:Arial,Helvetica Neue,Helvetica,sans-serif; font-size:12; text-anchor:middle;\" transform=\"rotate(0, 466.453, 389.613)\" x=\"466.453\" y=\"389.613\">2000</text>\n",
       "</g>\n",
       "<g clip-path=\"url(#clip1700)\">\n",
       "<text style=\"fill:#000000; fill-opacity:1; font-family:Arial,Helvetica Neue,Helvetica,sans-serif; font-size:12; text-anchor:middle;\" transform=\"rotate(0, 537.617, 389.613)\" x=\"537.617\" y=\"389.613\">2010</text>\n",
       "</g>\n",
       "<g clip-path=\"url(#clip1700)\">\n",
       "<text style=\"fill:#000000; fill-opacity:1; font-family:Arial,Helvetica Neue,Helvetica,sans-serif; font-size:12; text-anchor:end;\" transform=\"rotate(0, 69.0547, 331.112)\" x=\"69.0547\" y=\"331.112\">100000000</text>\n",
       "</g>\n",
       "<g clip-path=\"url(#clip1700)\">\n",
       "<text style=\"fill:#000000; fill-opacity:1; font-family:Arial,Helvetica Neue,Helvetica,sans-serif; font-size:12; text-anchor:end;\" transform=\"rotate(0, 69.0547, 280.778)\" x=\"69.0547\" y=\"280.778\">200000000</text>\n",
       "</g>\n",
       "<g clip-path=\"url(#clip1700)\">\n",
       "<text style=\"fill:#000000; fill-opacity:1; font-family:Arial,Helvetica Neue,Helvetica,sans-serif; font-size:12; text-anchor:end;\" transform=\"rotate(0, 69.0547, 230.445)\" x=\"69.0547\" y=\"230.445\">300000000</text>\n",
       "</g>\n",
       "<g clip-path=\"url(#clip1700)\">\n",
       "<text style=\"fill:#000000; fill-opacity:1; font-family:Arial,Helvetica Neue,Helvetica,sans-serif; font-size:12; text-anchor:end;\" transform=\"rotate(0, 69.0547, 180.111)\" x=\"69.0547\" y=\"180.111\">400000000</text>\n",
       "</g>\n",
       "<g clip-path=\"url(#clip1700)\">\n",
       "<text style=\"fill:#000000; fill-opacity:1; font-family:Arial,Helvetica Neue,Helvetica,sans-serif; font-size:12; text-anchor:end;\" transform=\"rotate(0, 69.0547, 129.777)\" x=\"69.0547\" y=\"129.777\">500000000</text>\n",
       "</g>\n",
       "<g clip-path=\"url(#clip1700)\">\n",
       "<text style=\"fill:#000000; fill-opacity:1; font-family:Arial,Helvetica Neue,Helvetica,sans-serif; font-size:12; text-anchor:end;\" transform=\"rotate(0, 69.0547, 79.4432)\" x=\"69.0547\" y=\"79.4432\">600000000</text>\n",
       "</g>\n",
       "<g clip-path=\"url(#clip1700)\">\n",
       "<text style=\"fill:#000000; fill-opacity:1; font-family:Arial,Helvetica Neue,Helvetica,sans-serif; font-size:21; text-anchor:middle;\" transform=\"rotate(0, 327.685, 18)\" x=\"327.685\" y=\"18\">Annual Dividends invested in ...</text>\n",
       "</g>\n",
       "<polyline clip-path=\"url(#clip1702)\" style=\"stroke:#009af9; stroke-width:1; stroke-opacity:1; fill:none\" points=\"\n",
       "  75.0547,375.813 82.171,375.638 89.2874,375.319 96.4037,375.055 103.52,374.862 110.636,374.296 117.753,374.26 124.869,374.142 131.985,374 139.102,373.753 \n",
       "  146.218,373.263 153.334,372.877 160.451,372.6 167.567,372.646 174.683,372.32 181.8,372.077 188.916,371.783 196.033,371.158 203.149,370.503 210.265,369.835 \n",
       "  217.382,369.043 224.498,368.447 231.614,368.105 238.731,367.502 245.847,366.713 252.963,366.811 260.08,366.582 267.196,365.998 274.312,363.679 281.429,362.592 \n",
       "  288.545,361.984 295.661,359.999 302.778,357.139 309.894,354.756 317.01,351.789 324.127,348.743 331.243,345.716 338.359,344.246 345.476,342.166 352.592,339.79 \n",
       "  359.708,338.203 366.825,335.185 373.941,331.088 381.057,322.849 388.174,322.201 395.29,321.813 402.406,322.476 409.523,320.581 416.639,316.72 423.755,311.915 \n",
       "  430.872,306.171 437.988,300.58 445.104,295.657 452.221,290.418 459.337,282.009 466.453,282.718 473.57,282.775 480.686,279.3 487.803,265.251 494.919,229.719 \n",
       "  502.035,225.3 509.152,202.309 516.268,180.694 523.384,185.025 530.501,217.041 537.617,202.49 544.733,182.179 551.85,129.838 558.966,123.316 566.082,87.5039 \n",
       "  573.199,65.5228 580.315,54.5885 \n",
       "  \"/>\n",
       "<polyline clip-path=\"url(#clip1702)\" style=\"stroke:#e26f46; stroke-width:1; stroke-opacity:1; fill:none\" points=\"\n",
       "  75.0547,375.613 82.171,375.778 89.2874,375.303 96.4037,375.129 103.52,374.664 110.636,374.034 117.753,374.13 124.869,373.964 131.985,373.91 139.102,373.17 \n",
       "  146.218,372.867 153.334,372.883 160.451,372.825 167.567,371.88 174.683,372.197 181.8,371.96 188.916,371.266 196.033,371.022 203.149,370.122 210.265,369.417 \n",
       "  217.382,368.582 224.498,368.803 231.614,367.607 238.731,366.193 245.847,367.067 252.963,366.174 260.08,366.788 267.196,365.128 274.312,365.106 281.429,364.51 \n",
       "  288.545,360.734 295.661,359.508 302.778,356.913 309.894,354.255 317.01,349.63 324.127,341.943 331.243,345.425 338.359,337.237 345.476,339.896 352.592,338.371 \n",
       "  359.708,334.094 366.825,332.981 373.941,339.469 381.057,320.824 388.174,317.347 395.29,323.6 402.406,320.57 409.523,317.402 416.639,314.345 423.755,312.774 \n",
       "  430.872,295.836 437.988,290.934 445.104,285.777 452.221,284.506 459.337,274.501 466.453,292.972 473.57,286.332 480.686,284.129 487.803,248.41 494.919,220.649 \n",
       "  502.035,216.302 509.152,188.509 516.268,177.511 523.384,239.902 530.501,182.54 537.617,189.366 544.733,188.621 551.85,120.814 558.966,94.3218 566.082,69.8774 \n",
       "  573.199,64.8239 580.315,31.4961 \n",
       "  \"/>\n",
       "<polygon clip-path=\"url(#clip1700)\" points=\"\n",
       "466.096,97.7361 562.315,97.7361 562.315,52.3761 466.096,52.3761 \n",
       "  \" fill=\"#ffffff\" fill-opacity=\"1\"/>\n",
       "<polyline clip-path=\"url(#clip1700)\" style=\"stroke:#000000; stroke-width:1; stroke-opacity:1; fill:none\" points=\"\n",
       "  466.096,97.7361 562.315,97.7361 562.315,52.3761 466.096,52.3761 466.096,97.7361 \n",
       "  \"/>\n",
       "<polyline clip-path=\"url(#clip1700)\" style=\"stroke:#009af9; stroke-width:1; stroke-opacity:1; fill:none\" points=\"\n",
       "  472.096,67.4961 508.096,67.4961 \n",
       "  \"/>\n",
       "<g clip-path=\"url(#clip1700)\">\n",
       "<text style=\"fill:#000000; fill-opacity:1; font-family:Arial,Helvetica Neue,Helvetica,sans-serif; font-size:12; text-anchor:start;\" transform=\"rotate(0, 514.096, 71.9961)\" x=\"514.096\" y=\"71.9961\">Cash</text>\n",
       "</g>\n",
       "<polyline clip-path=\"url(#clip1700)\" style=\"stroke:#e26f46; stroke-width:1; stroke-opacity:1; fill:none\" points=\"\n",
       "  472.096,82.6161 508.096,82.6161 \n",
       "  \"/>\n",
       "<g clip-path=\"url(#clip1700)\">\n",
       "<text style=\"fill:#000000; fill-opacity:1; font-family:Arial,Helvetica Neue,Helvetica,sans-serif; font-size:12; text-anchor:start;\" transform=\"rotate(0, 514.096, 87.1161)\" x=\"514.096\" y=\"87.1161\">Market</text>\n",
       "</g>\n",
       "</svg>\n"
      ]
     },
     "execution_count": 37,
     "metadata": {},
     "output_type": "execute_result"
    }
   ],
   "source": [
    "plot(yearly_data[:year], yearly_data[:cash_div], label=\"Cash\", title=\"Annual Dividends invested in ...\")\n",
    "plot!(yearly_data[:year], yearly_data[:mkt_div], label=\"Market\")"
   ]
  },
  {
   "cell_type": "markdown",
   "metadata": {},
   "source": [
    "### (d)"
   ]
  },
  {
   "cell_type": "code",
   "execution_count": 39,
   "metadata": {},
   "outputs": [],
   "source": [
    "yearly_data[:ret] = log.(1 .+ by(df, [:year], df -> prod(1 .+ df[:vwretd])-1)[:x1]);"
   ]
  },
  {
   "cell_type": "code",
   "execution_count": 40,
   "metadata": {},
   "outputs": [],
   "source": [
    "yearly_data[:cash_div_growth] = \n",
    "    log.(1 .+ vcat(0, (yearly_data[:cash_div][2:end] - yearly_data[:cash_div][1:end-1])./yearly_data[:cash_div][1:end-1]))\n",
    "\n",
    "yearly_data[:mkt_div_growth] = \n",
    "    log.(1 .+ vcat(0, (yearly_data[:mkt_div][2:end] - yearly_data[:mkt_div][1:end-1])./yearly_data[:mkt_div][1:end-1]));"
   ]
  },
  {
   "cell_type": "code",
   "execution_count": 41,
   "metadata": {},
   "outputs": [],
   "source": [
    "yearly_data[:totval] = by(df, [:year], df -> df[:totval][12])[:x1]\n",
    "yearly_data[:cash_logPD] = vcat(df[:totval][1], yearly_data[:totval][1:end-1]) ./ yearly_data[:cash_div]\n",
    "yearly_data[:mkt_logPD] = vcat(df[:totval][1], yearly_data[:totval][1:end-1]) ./ yearly_data[:mkt_div];"
   ]
  },
  {
   "cell_type": "code",
   "execution_count": 48,
   "metadata": {},
   "outputs": [
    {
     "data": {
      "text/html": [
       "<table class=\"data-frame\"><thead><tr><th></th><th>year</th><th>cash_div</th><th>mkt_div</th><th>ret</th><th>cash_div_growth</th><th>mkt_div_growth</th><th>totval</th><th>cash_logPD</th><th>mkt_logPD</th></tr></thead><tbody><tr><th>1</th><td>1945</td><td>2.2498955541939e6</td><td>2.6477090784431132e6</td><td>0.3297315675814011</td><td>0.0</td><td>0.0</td><td>6.43306221e7</td><td>21.27297429908836</td><td>18.07674819325069</td></tr><tr><th>2</th><td>1946</td><td>2.599129628707599e6</td><td>2.319925542087249e6</td><td>-0.06636631210115301</td><td>0.144292836013417</td><td>-0.1321596761676265</td><td>5.96843836e7</td><td>24.750832505413747</td><td>27.729606374401744</td></tr><tr><th>3</th><td>1947</td><td>3.231865534292101e6</td><td>3.2636809326087963e6</td><td>0.032401138228775835</td><td>0.21788290451050718</td><td>0.3413205875984371</td><td>5.98853607e7</td><td>18.467471176232927</td><td>18.28744440170865</td></tr><tr><th>4</th><td>1948</td><td>3.757383750905099e6</td><td>3.6104193620426296e6</td><td>0.021089536329669166</td><td>0.15066336897900365</td><td>0.10096825353503949</td><td>5.83012582e7</td><td>15.938047500624469</td><td>16.5868157393548</td></tr><tr><th>5</th><td>1949</td><td>4.139718261552899e6</td><td>4.534289215466398e6</td><td>0.1832323109661117</td><td>0.0969048284729966</td><td>0.2278444058309379</td><td>6.73444034e7</td><td>14.083387930397448</td><td>12.857860500193771</td></tr><tr><th>6</th><td>1950</td><td>5.265457501587398e6</td><td>5.784492814004975e6</td><td>0.26599950371588965</td><td>0.24054030394266318</td><td>0.24351234600177502</td><td>8.48339739e7</td><td>12.789848437613905</td><td>11.64223131835359</td></tr></tbody></table>"
      ],
      "text/plain": [
       "6×9 DataFrames.DataFrame\n",
       "│ Row │ year │ cash_div  │ mkt_div   │ ret        │ cash_div_growth │\n",
       "├─────┼──────┼───────────┼───────────┼────────────┼─────────────────┤\n",
       "│ 1   │ 1945 │ 2.2499e6  │ 2.64771e6 │ 0.329732   │ 0.0             │\n",
       "│ 2   │ 1946 │ 2.59913e6 │ 2.31993e6 │ -0.0663663 │ 0.144293        │\n",
       "│ 3   │ 1947 │ 3.23187e6 │ 3.26368e6 │ 0.0324011  │ 0.217883        │\n",
       "│ 4   │ 1948 │ 3.75738e6 │ 3.61042e6 │ 0.0210895  │ 0.150663        │\n",
       "│ 5   │ 1949 │ 4.13972e6 │ 4.53429e6 │ 0.183232   │ 0.0969048       │\n",
       "│ 6   │ 1950 │ 5.26546e6 │ 5.78449e6 │ 0.266      │ 0.24054         │\n",
       "\n",
       "│ Row │ mkt_div_growth │ totval    │ cash_logPD │ mkt_logPD │\n",
       "├─────┼────────────────┼───────────┼────────────┼───────────┤\n",
       "│ 1   │ 0.0            │ 6.43306e7 │ 21.273     │ 18.0767   │\n",
       "│ 2   │ -0.13216       │ 5.96844e7 │ 24.7508    │ 27.7296   │\n",
       "│ 3   │ 0.341321       │ 5.98854e7 │ 18.4675    │ 18.2874   │\n",
       "│ 4   │ 0.100968       │ 5.83013e7 │ 15.938     │ 16.5868   │\n",
       "│ 5   │ 0.227844       │ 6.73444e7 │ 14.0834    │ 12.8579   │\n",
       "│ 6   │ 0.243512       │ 8.4834e7  │ 12.7898    │ 11.6422   │"
      ]
     },
     "execution_count": 48,
     "metadata": {},
     "output_type": "execute_result"
    }
   ],
   "source": [
    "head(yearly_data)"
   ]
  },
  {
   "cell_type": "markdown",
   "metadata": {},
   "source": [
    "Mean and standard deviation of the cash- and market-invested dividends growth is:"
   ]
  },
  {
   "cell_type": "code",
   "execution_count": 55,
   "metadata": {},
   "outputs": [
    {
     "data": {
      "text/plain": [
       "2-element Array{Any,1}:\n",
       " [0.0784899]\n",
       " [0.0771895]"
      ]
     },
     "execution_count": 55,
     "metadata": {},
     "output_type": "execute_result"
    }
   ],
   "source": [
    "colwise(mean, yearly_data[[:cash_div_growth, :mkt_div_growth]])"
   ]
  },
  {
   "cell_type": "code",
   "execution_count": 53,
   "metadata": {},
   "outputs": [
    {
     "data": {
      "text/plain": [
       "2-element Array{Any,1}:\n",
       " [0.0686968]\n",
       " [0.133035] "
      ]
     },
     "execution_count": 53,
     "metadata": {},
     "output_type": "execute_result"
    }
   ],
   "source": [
    "colwise(std, yearly_data[[:cash_div_growth, :mkt_div_growth]])"
   ]
  },
  {
   "cell_type": "markdown",
   "metadata": {},
   "source": [
    "Investing the dividends in the market portfolio does not yield a higher average dividend growth, due to the [January effect](https://en.wikipedia.org/wiki/January_effect effect). The standard deviation of the market-invested dividend growth is also much higher, due to stock market fluctuations."
   ]
  },
  {
   "cell_type": "markdown",
   "metadata": {},
   "source": [
    "### (e)"
   ]
  },
  {
   "cell_type": "code",
   "execution_count": 116,
   "metadata": {},
   "outputs": [],
   "source": [
    "using GLM"
   ]
  },
  {
   "cell_type": "code",
   "execution_count": 147,
   "metadata": {},
   "outputs": [],
   "source": [
    "data_prep = yearly_data[2:end, [:year, :ret, :cash_logPD, :cash_div_growth]]\n",
    "data_prep[:lagged_cash_logPD] = yearly_data[:cash_logPD][1:end-1];"
   ]
  },
  {
   "cell_type": "markdown",
   "metadata": {},
   "source": [
    "Full Sample:"
   ]
  },
  {
   "cell_type": "code",
   "execution_count": 157,
   "metadata": {},
   "outputs": [
    {
     "data": {
      "text/plain": [
       "([0.191574, -0.00269006], 0.06832085028334156)"
      ]
     },
     "execution_count": 157,
     "metadata": {},
     "output_type": "execute_result"
    }
   ],
   "source": [
    "model = lm(@formula(ret ~ lagged_cash_logPD), data_prep)\n",
    "(coef(model), r2(model))"
   ]
  },
  {
   "cell_type": "code",
   "execution_count": 169,
   "metadata": {},
   "outputs": [
    {
     "data": {
      "text/plain": [
       "([0.104894, -0.000749277], 0.030536559580662814)"
      ]
     },
     "execution_count": 169,
     "metadata": {},
     "output_type": "execute_result"
    }
   ],
   "source": [
    "model_d = lm(@formula(cash_div_growth ~ lagged_cash_logPD), data_prep)\n",
    "(coef(model_d), r2(model_d))"
   ]
  },
  {
   "cell_type": "markdown",
   "metadata": {},
   "source": [
    "First part of the sample:"
   ]
  },
  {
   "cell_type": "code",
   "execution_count": 155,
   "metadata": {},
   "outputs": [
    {
     "data": {
      "text/plain": [
       "([0.351448, -0.00987252], 0.15883175616789458)"
      ]
     },
     "execution_count": 155,
     "metadata": {},
     "output_type": "execute_result"
    }
   ],
   "source": [
    "model_early = lm(@formula(ret ~ lagged_cash_logPD), data_prep[data_prep[:year] .< 1990, :])\n",
    "(coef(model_early), r2(model_early))"
   ]
  },
  {
   "cell_type": "code",
   "execution_count": 160,
   "metadata": {},
   "outputs": [
    {
     "data": {
      "text/plain": [
       "([0.129921, -0.00169597], 0.03722907640564743)"
      ]
     },
     "execution_count": 160,
     "metadata": {},
     "output_type": "execute_result"
    }
   ],
   "source": [
    "model_d_early = lm(@formula(cash_div_growth ~ lagged_cash_logPD), data_prep[data_prep[:year] .< 1990, :])\n",
    "(coef(model_d_early), r2(model_d_early))"
   ]
  },
  {
   "cell_type": "markdown",
   "metadata": {},
   "source": [
    "Second part:"
   ]
  },
  {
   "cell_type": "code",
   "execution_count": 156,
   "metadata": {},
   "outputs": [
    {
     "data": {
      "text/plain": [
       "([0.262903, -0.00358505], 0.09909725264158065)"
      ]
     },
     "execution_count": 156,
     "metadata": {},
     "output_type": "execute_result"
    }
   ],
   "source": [
    "model_late = lm(@formula(ret ~ lagged_cash_logPD), data_prep[data_prep[:year] .>= 1990, :])\n",
    "(coef(model_late), r2(model_late))"
   ]
  },
  {
   "cell_type": "code",
   "execution_count": 161,
   "metadata": {},
   "outputs": [
    {
     "data": {
      "text/plain": [
       "([0.076808, -0.000229055], 0.001811657396571964)"
      ]
     },
     "execution_count": 161,
     "metadata": {},
     "output_type": "execute_result"
    }
   ],
   "source": [
    "model_d_late = lm(@formula(cash_div_growth ~ lagged_cash_logPD), data_prep[data_prep[:year] .>= 1990, :])\n",
    "(coef(model_d_late), r2(model_d_late))"
   ]
  },
  {
   "cell_type": "markdown",
   "metadata": {},
   "source": [
    "In the 90s the price dividend ratio increased dramatically, but stocks performed well. This seems like a structural break, so splitting up the sample benefits the $R^2$ in both."
   ]
  },
  {
   "cell_type": "markdown",
   "metadata": {},
   "source": [
    "### (f)"
   ]
  },
  {
   "cell_type": "code",
   "execution_count": 146,
   "metadata": {},
   "outputs": [
    {
     "data": {
      "text/plain": [
       "DataFrames.DataFrameRegressionModel{GLM.LinearModel{GLM.LmResp{Array{Float64,1}},GLM.DensePredChol{Float64,Base.LinAlg.Cholesky{Float64,Array{Float64,2}}}},Array{Float64,2}}\n",
       "\n",
       "Formula: cash_logPD ~ 1 + lagged_cash_logPD\n",
       "\n",
       "Coefficients:\n",
       "                   Estimate Std.Error t value Pr(>|t|)\n",
       "(Intercept)         2.87185   1.69207 1.69724   0.0942\n",
       "lagged_cash_logPD  0.924086 0.0453533 20.3753   <1e-30\n"
      ]
     },
     "execution_count": 146,
     "metadata": {},
     "output_type": "execute_result"
    }
   ],
   "source": [
    "model_pd = lm(@formula(cash_logPD ~ lagged_cash_logPD), data_prep)"
   ]
  },
  {
   "cell_type": "markdown",
   "metadata": {},
   "source": [
    "$$\\mathbb{V}\\Big[pd_t\\Big]=\\mathbb{C}\\Big[\\sum_{s=1}^\\infty \\rho^{s-1} \\mathbb{E}_t\\big[\\Delta d_{t+s}\\big], pd_t\\Big] + \\mathbb{C}\\Big[-\\sum_{s=0}^\\infty \\rho^{s-1} \\mathbb{E}_t\\big[r_{t+s}\\big], pd_t\\Big]$$\n",
    "\n",
    "$$1=\\frac{\\mathbb{C}\\Big[\\sum_{s=1}^\\infty \\rho^{s-1} \\mathbb{E}_t\\big[\\Delta d_{t+s}\\big], pd_t\\Big]}{\\mathbb{V}\\Big[pd_t\\Big]} + \\frac{\\mathbb{C}\\Big[-\\sum_{s=0}^\\infty \\rho^{s-1} \\mathbb{E}_t\\big[r_{t+s}\\big], pd_t\\Big]}{\\mathbb{V}\\Big[pd_t\\Big]}$$\n",
    "\n",
    "The first term on the right-hand-side is (mind that all constants in the first argument of the covariance disappear):\n",
    "\n",
    "$$\\frac{\\sum_{s=1}^{\\infty}\\rho^{s-1}\\mathbb{C}\\Big[\\mathbb{E}_{t}\\big[\\Delta d_{t+s}\\big],pd_{t}\\Big]}{\\mathbb{V}\\Big[pd_{t}\\Big]}=\\frac{\\sum_{s=1}^{\\infty}\\rho^{s-1}\\mathbb{C}\\Big[a_{d}+b_{d}\\mathbb{E}_{t}\\big[pd_{t+s-1}\\big],pd_{t}\\Big]}{\\mathbb{V}\\Big[pd_{t}\\Big]}=\\frac{b_{d}\\sum_{s=0}^{\\infty}\\big(\\rho\\phi\\big)^{s}\\mathbb{V}\\Big[pd_{t}\\Big]}{\\mathbb{V}\\Big[pd_{t}\\Big]}=b_{d}\\frac{1}{1-\\rho\\phi} $$"
   ]
  },
  {
   "cell_type": "code",
   "execution_count": 164,
   "metadata": {},
   "outputs": [
    {
     "data": {
      "text/plain": [
       "-0.009870054256329563"
      ]
     },
     "execution_count": 164,
     "metadata": {},
     "output_type": "execute_result"
    }
   ],
   "source": [
    "ρ = 1\n",
    "coef(model_d)[2] / (1 - coef(model_pd)[2]*ρ)"
   ]
  },
  {
   "cell_type": "code",
   "execution_count": null,
   "metadata": {},
   "outputs": [],
   "source": []
  }
 ],
 "metadata": {
  "kernelspec": {
   "display_name": "Julia 0.6.2",
   "language": "julia",
   "name": "julia-0.6"
  },
  "language_info": {
   "file_extension": ".jl",
   "mimetype": "application/julia",
   "name": "julia",
   "version": "0.6.2"
  }
 },
 "nbformat": 4,
 "nbformat_minor": 2
}
