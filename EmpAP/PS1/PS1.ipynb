{
 "cells": [
  {
   "cell_type": "markdown",
   "metadata": {},
   "source": [
    "\n",
    "# Empirical Asset Pricing - PS1\n",
    "## Task 1"
   ]
  },
  {
   "cell_type": "code",
   "execution_count": 5,
   "metadata": {},
   "outputs": [],
   "source": [
    "using CSV, DataFrames, NullableArrays, Plots; gr();"
   ]
  },
  {
   "cell_type": "code",
   "execution_count": 6,
   "metadata": {},
   "outputs": [],
   "source": [
    "df = CSV.read(\"./Data/a5986cc31aad4a02.csv\", delim=',', \n",
    "        types=[Date, Float64, Float64, Float64], \n",
    "        dateformat = DateFormat(\"yyyymmdd\"), nullable=false);"
   ]
  },
  {
   "cell_type": "markdown",
   "metadata": {},
   "source": [
    "### (b)"
   ]
  },
  {
   "cell_type": "code",
   "execution_count": 9,
   "metadata": {},
   "outputs": [],
   "source": [
    "df[:div] = collect((df[:vwretd]-df[:vwretx])[1:end].*df[:totval][vcat(1, 1:(size(df, 1)-1))])\n",
    "df[:year] = Dates.value.(Dates.Year.(df[:DATE]))\n",
    "df[:month] = Dates.value.(Dates.Month.(df[:DATE]));"
   ]
  },
  {
   "cell_type": "code",
   "execution_count": 10,
   "metadata": {},
   "outputs": [
    {
     "data": {
      "text/html": [
       "<table class=\"data-frame\"><thead><tr><th></th><th>DATE</th><th>vwretd</th><th>vwretx</th><th>totval</th><th>div</th><th>year</th><th>month</th></tr></thead><tbody><tr><th>1</th><td>1945-01-31</td><td>0.020218</td><td>0.018951</td><td>4.78619703e7</td><td>60641.11637010003</td><td>1945</td><td>1</td></tr><tr><th>2</th><td>1945-02-28</td><td>0.064477</td><td>0.059894</td><td>5.07251836e7</td><td>219351.40988490017</td><td>1945</td><td>2</td></tr><tr><th>3</th><td>1945-03-31</td><td>-0.039177</td><td>-0.043164</td><td>4.85517438e7</td><td>202241.30701320022</td><td>1945</td><td>3</td></tr><tr><th>4</th><td>1945-04-30</td><td>0.078232</td><td>0.076981</td><td>5.23206432e7</td><td>60738.2314938001</td><td>1945</td><td>4</td></tr><tr><th>5</th><td>1945-05-31</td><td>0.018185</td><td>0.012439</td><td>5.31954659e7</td><td>300634.4158272</td><td>1945</td><td>5</td></tr><tr><th>6</th><td>1945-06-30</td><td>0.004676</td><td>0.001087</td><td>5.32805822e7</td><td>190918.52711509995</td><td>1945</td><td>6</td></tr></tbody></table>"
      ],
      "text/plain": [
       "6×7 DataFrames.DataFrame\n",
       "│ Row │ DATE       │ vwretd    │ vwretx    │ totval    │ div       │ year │\n",
       "├─────┼────────────┼───────────┼───────────┼───────────┼───────────┼──────┤\n",
       "│ 1   │ 1945-01-31 │ 0.020218  │ 0.018951  │ 4.7862e7  │ 60641.1   │ 1945 │\n",
       "│ 2   │ 1945-02-28 │ 0.064477  │ 0.059894  │ 5.07252e7 │ 2.19351e5 │ 1945 │\n",
       "│ 3   │ 1945-03-31 │ -0.039177 │ -0.043164 │ 4.85517e7 │ 2.02241e5 │ 1945 │\n",
       "│ 4   │ 1945-04-30 │ 0.078232  │ 0.076981  │ 5.23206e7 │ 60738.2   │ 1945 │\n",
       "│ 5   │ 1945-05-31 │ 0.018185  │ 0.012439  │ 5.31955e7 │ 3.00634e5 │ 1945 │\n",
       "│ 6   │ 1945-06-30 │ 0.004676  │ 0.001087  │ 5.32806e7 │ 1.90919e5 │ 1945 │\n",
       "\n",
       "│ Row │ month │\n",
       "├─────┼───────┤\n",
       "│ 1   │ 1     │\n",
       "│ 2   │ 2     │\n",
       "│ 3   │ 3     │\n",
       "│ 4   │ 4     │\n",
       "│ 5   │ 5     │\n",
       "│ 6   │ 6     │"
      ]
     },
     "execution_count": 10,
     "metadata": {},
     "output_type": "execute_result"
    }
   ],
   "source": [
    "head(df)"
   ]
  },
  {
   "cell_type": "markdown",
   "metadata": {},
   "source": [
    "### (c)"
   ]
  },
  {
   "cell_type": "code",
   "execution_count": 11,
   "metadata": {},
   "outputs": [],
   "source": [
    "yearly_data = by(df, [:year], df -> sum(df[:div]))\n",
    "\n",
    "yearly_data[:mkt_div] = zeros(floor(Int64, size(df, 1)/12))\n",
    "\n",
    "for t in 1:size(df, 1)   \n",
    "    if ((t-1)%12 == 0) #January\n",
    "        yearly_data[:mkt_div][1+floor(Int64, (t-1)/12)] = df[:div][t]\n",
    "        else #other months\n",
    "        yearly_data[:mkt_div][1+floor(Int64, (t-1)/12)] = \n",
    "            yearly_data[:mkt_div][1+floor(Int64, (t-1)/12)]*(1+df[:vwretd][t-1]) + df[:div][t]\n",
    "    end\n",
    "end\n",
    "\n",
    "names!(yearly_data, [:year, :cash_div, :mkt_div]);\n"
   ]
  },
  {
   "cell_type": "code",
   "execution_count": 13,
   "metadata": {
    "scrolled": false
   },
   "outputs": [
    {
     "data": {
      "text/html": [
       "<?xml version=\"1.0\" encoding=\"utf-8\"?>\n",
       "<svg xmlns=\"http://www.w3.org/2000/svg\" xmlns:xlink=\"http://www.w3.org/1999/xlink\" width=\"600\" height=\"400\" viewBox=\"0 0 600 400\">\n",
       "<defs>\n",
       "  <clipPath id=\"clip2100\">\n",
       "    <rect x=\"0\" y=\"0\" width=\"600\" height=\"400\"/>\n",
       "  </clipPath>\n",
       "</defs>\n",
       "<polygon clip-path=\"url(#clip2100)\" points=\"\n",
       "0,400 600,400 600,0 0,0 \n",
       "  \" fill=\"#ffffff\" fill-opacity=\"1\"/>\n",
       "<defs>\n",
       "  <clipPath id=\"clip2101\">\n",
       "    <rect x=\"120\" y=\"0\" width=\"421\" height=\"400\"/>\n",
       "  </clipPath>\n",
       "</defs>\n",
       "<polygon clip-path=\"url(#clip2100)\" points=\"\n",
       "75.0547,375.813 580.315,375.813 580.315,31.4961 75.0547,31.4961 \n",
       "  \" fill=\"#ffffff\" fill-opacity=\"1\"/>\n",
       "<defs>\n",
       "  <clipPath id=\"clip2102\">\n",
       "    <rect x=\"75\" y=\"31\" width=\"506\" height=\"345\"/>\n",
       "  </clipPath>\n",
       "</defs>\n",
       "<polyline clip-path=\"url(#clip2102)\" style=\"stroke:#000000; stroke-width:0.5; stroke-opacity:0.1; fill:none\" points=\"\n",
       "  110.636,375.813 110.636,31.4961 \n",
       "  \"/>\n",
       "<polyline clip-path=\"url(#clip2102)\" style=\"stroke:#000000; stroke-width:0.5; stroke-opacity:0.1; fill:none\" points=\"\n",
       "  181.8,375.813 181.8,31.4961 \n",
       "  \"/>\n",
       "<polyline clip-path=\"url(#clip2102)\" style=\"stroke:#000000; stroke-width:0.5; stroke-opacity:0.1; fill:none\" points=\"\n",
       "  252.963,375.813 252.963,31.4961 \n",
       "  \"/>\n",
       "<polyline clip-path=\"url(#clip2102)\" style=\"stroke:#000000; stroke-width:0.5; stroke-opacity:0.1; fill:none\" points=\"\n",
       "  324.127,375.813 324.127,31.4961 \n",
       "  \"/>\n",
       "<polyline clip-path=\"url(#clip2102)\" style=\"stroke:#000000; stroke-width:0.5; stroke-opacity:0.1; fill:none\" points=\"\n",
       "  395.29,375.813 395.29,31.4961 \n",
       "  \"/>\n",
       "<polyline clip-path=\"url(#clip2102)\" style=\"stroke:#000000; stroke-width:0.5; stroke-opacity:0.1; fill:none\" points=\"\n",
       "  466.453,375.813 466.453,31.4961 \n",
       "  \"/>\n",
       "<polyline clip-path=\"url(#clip2102)\" style=\"stroke:#000000; stroke-width:0.5; stroke-opacity:0.1; fill:none\" points=\"\n",
       "  537.617,375.813 537.617,31.4961 \n",
       "  \"/>\n",
       "<polyline clip-path=\"url(#clip2102)\" style=\"stroke:#000000; stroke-width:0.5; stroke-opacity:0.1; fill:none\" points=\"\n",
       "  75.0547,326.612 580.315,326.612 \n",
       "  \"/>\n",
       "<polyline clip-path=\"url(#clip2102)\" style=\"stroke:#000000; stroke-width:0.5; stroke-opacity:0.1; fill:none\" points=\"\n",
       "  75.0547,276.278 580.315,276.278 \n",
       "  \"/>\n",
       "<polyline clip-path=\"url(#clip2102)\" style=\"stroke:#000000; stroke-width:0.5; stroke-opacity:0.1; fill:none\" points=\"\n",
       "  75.0547,225.945 580.315,225.945 \n",
       "  \"/>\n",
       "<polyline clip-path=\"url(#clip2102)\" style=\"stroke:#000000; stroke-width:0.5; stroke-opacity:0.1; fill:none\" points=\"\n",
       "  75.0547,175.611 580.315,175.611 \n",
       "  \"/>\n",
       "<polyline clip-path=\"url(#clip2102)\" style=\"stroke:#000000; stroke-width:0.5; stroke-opacity:0.1; fill:none\" points=\"\n",
       "  75.0547,125.277 580.315,125.277 \n",
       "  \"/>\n",
       "<polyline clip-path=\"url(#clip2102)\" style=\"stroke:#000000; stroke-width:0.5; stroke-opacity:0.1; fill:none\" points=\"\n",
       "  75.0547,74.9432 580.315,74.9432 \n",
       "  \"/>\n",
       "<polyline clip-path=\"url(#clip2100)\" style=\"stroke:#000000; stroke-width:1; stroke-opacity:1; fill:none\" points=\"\n",
       "  75.0547,375.813 580.315,375.813 \n",
       "  \"/>\n",
       "<polyline clip-path=\"url(#clip2100)\" style=\"stroke:#000000; stroke-width:1; stroke-opacity:1; fill:none\" points=\"\n",
       "  75.0547,375.813 75.0547,31.4961 \n",
       "  \"/>\n",
       "<polyline clip-path=\"url(#clip2100)\" style=\"stroke:#000000; stroke-width:1; stroke-opacity:1; fill:none\" points=\"\n",
       "  110.636,375.813 110.636,370.649 \n",
       "  \"/>\n",
       "<polyline clip-path=\"url(#clip2100)\" style=\"stroke:#000000; stroke-width:1; stroke-opacity:1; fill:none\" points=\"\n",
       "  181.8,375.813 181.8,370.649 \n",
       "  \"/>\n",
       "<polyline clip-path=\"url(#clip2100)\" style=\"stroke:#000000; stroke-width:1; stroke-opacity:1; fill:none\" points=\"\n",
       "  252.963,375.813 252.963,370.649 \n",
       "  \"/>\n",
       "<polyline clip-path=\"url(#clip2100)\" style=\"stroke:#000000; stroke-width:1; stroke-opacity:1; fill:none\" points=\"\n",
       "  324.127,375.813 324.127,370.649 \n",
       "  \"/>\n",
       "<polyline clip-path=\"url(#clip2100)\" style=\"stroke:#000000; stroke-width:1; stroke-opacity:1; fill:none\" points=\"\n",
       "  395.29,375.813 395.29,370.649 \n",
       "  \"/>\n",
       "<polyline clip-path=\"url(#clip2100)\" style=\"stroke:#000000; stroke-width:1; stroke-opacity:1; fill:none\" points=\"\n",
       "  466.453,375.813 466.453,370.649 \n",
       "  \"/>\n",
       "<polyline clip-path=\"url(#clip2100)\" style=\"stroke:#000000; stroke-width:1; stroke-opacity:1; fill:none\" points=\"\n",
       "  537.617,375.813 537.617,370.649 \n",
       "  \"/>\n",
       "<polyline clip-path=\"url(#clip2100)\" style=\"stroke:#000000; stroke-width:1; stroke-opacity:1; fill:none\" points=\"\n",
       "  75.0547,326.612 82.6336,326.612 \n",
       "  \"/>\n",
       "<polyline clip-path=\"url(#clip2100)\" style=\"stroke:#000000; stroke-width:1; stroke-opacity:1; fill:none\" points=\"\n",
       "  75.0547,276.278 82.6336,276.278 \n",
       "  \"/>\n",
       "<polyline clip-path=\"url(#clip2100)\" style=\"stroke:#000000; stroke-width:1; stroke-opacity:1; fill:none\" points=\"\n",
       "  75.0547,225.945 82.6336,225.945 \n",
       "  \"/>\n",
       "<polyline clip-path=\"url(#clip2100)\" style=\"stroke:#000000; stroke-width:1; stroke-opacity:1; fill:none\" points=\"\n",
       "  75.0547,175.611 82.6336,175.611 \n",
       "  \"/>\n",
       "<polyline clip-path=\"url(#clip2100)\" style=\"stroke:#000000; stroke-width:1; stroke-opacity:1; fill:none\" points=\"\n",
       "  75.0547,125.277 82.6336,125.277 \n",
       "  \"/>\n",
       "<polyline clip-path=\"url(#clip2100)\" style=\"stroke:#000000; stroke-width:1; stroke-opacity:1; fill:none\" points=\"\n",
       "  75.0547,74.9432 82.6336,74.9432 \n",
       "  \"/>\n",
       "<g clip-path=\"url(#clip2100)\">\n",
       "<text style=\"fill:#000000; fill-opacity:1; font-family:Arial,Helvetica Neue,Helvetica,sans-serif; font-size:12; text-anchor:middle;\" transform=\"rotate(0, 110.636, 389.613)\" x=\"110.636\" y=\"389.613\">1950</text>\n",
       "</g>\n",
       "<g clip-path=\"url(#clip2100)\">\n",
       "<text style=\"fill:#000000; fill-opacity:1; font-family:Arial,Helvetica Neue,Helvetica,sans-serif; font-size:12; text-anchor:middle;\" transform=\"rotate(0, 181.8, 389.613)\" x=\"181.8\" y=\"389.613\">1960</text>\n",
       "</g>\n",
       "<g clip-path=\"url(#clip2100)\">\n",
       "<text style=\"fill:#000000; fill-opacity:1; font-family:Arial,Helvetica Neue,Helvetica,sans-serif; font-size:12; text-anchor:middle;\" transform=\"rotate(0, 252.963, 389.613)\" x=\"252.963\" y=\"389.613\">1970</text>\n",
       "</g>\n",
       "<g clip-path=\"url(#clip2100)\">\n",
       "<text style=\"fill:#000000; fill-opacity:1; font-family:Arial,Helvetica Neue,Helvetica,sans-serif; font-size:12; text-anchor:middle;\" transform=\"rotate(0, 324.127, 389.613)\" x=\"324.127\" y=\"389.613\">1980</text>\n",
       "</g>\n",
       "<g clip-path=\"url(#clip2100)\">\n",
       "<text style=\"fill:#000000; fill-opacity:1; font-family:Arial,Helvetica Neue,Helvetica,sans-serif; font-size:12; text-anchor:middle;\" transform=\"rotate(0, 395.29, 389.613)\" x=\"395.29\" y=\"389.613\">1990</text>\n",
       "</g>\n",
       "<g clip-path=\"url(#clip2100)\">\n",
       "<text style=\"fill:#000000; fill-opacity:1; font-family:Arial,Helvetica Neue,Helvetica,sans-serif; font-size:12; text-anchor:middle;\" transform=\"rotate(0, 466.453, 389.613)\" x=\"466.453\" y=\"389.613\">2000</text>\n",
       "</g>\n",
       "<g clip-path=\"url(#clip2100)\">\n",
       "<text style=\"fill:#000000; fill-opacity:1; font-family:Arial,Helvetica Neue,Helvetica,sans-serif; font-size:12; text-anchor:middle;\" transform=\"rotate(0, 537.617, 389.613)\" x=\"537.617\" y=\"389.613\">2010</text>\n",
       "</g>\n",
       "<g clip-path=\"url(#clip2100)\">\n",
       "<text style=\"fill:#000000; fill-opacity:1; font-family:Arial,Helvetica Neue,Helvetica,sans-serif; font-size:12; text-anchor:end;\" transform=\"rotate(0, 69.0547, 331.112)\" x=\"69.0547\" y=\"331.112\">100000000</text>\n",
       "</g>\n",
       "<g clip-path=\"url(#clip2100)\">\n",
       "<text style=\"fill:#000000; fill-opacity:1; font-family:Arial,Helvetica Neue,Helvetica,sans-serif; font-size:12; text-anchor:end;\" transform=\"rotate(0, 69.0547, 280.778)\" x=\"69.0547\" y=\"280.778\">200000000</text>\n",
       "</g>\n",
       "<g clip-path=\"url(#clip2100)\">\n",
       "<text style=\"fill:#000000; fill-opacity:1; font-family:Arial,Helvetica Neue,Helvetica,sans-serif; font-size:12; text-anchor:end;\" transform=\"rotate(0, 69.0547, 230.445)\" x=\"69.0547\" y=\"230.445\">300000000</text>\n",
       "</g>\n",
       "<g clip-path=\"url(#clip2100)\">\n",
       "<text style=\"fill:#000000; fill-opacity:1; font-family:Arial,Helvetica Neue,Helvetica,sans-serif; font-size:12; text-anchor:end;\" transform=\"rotate(0, 69.0547, 180.111)\" x=\"69.0547\" y=\"180.111\">400000000</text>\n",
       "</g>\n",
       "<g clip-path=\"url(#clip2100)\">\n",
       "<text style=\"fill:#000000; fill-opacity:1; font-family:Arial,Helvetica Neue,Helvetica,sans-serif; font-size:12; text-anchor:end;\" transform=\"rotate(0, 69.0547, 129.777)\" x=\"69.0547\" y=\"129.777\">500000000</text>\n",
       "</g>\n",
       "<g clip-path=\"url(#clip2100)\">\n",
       "<text style=\"fill:#000000; fill-opacity:1; font-family:Arial,Helvetica Neue,Helvetica,sans-serif; font-size:12; text-anchor:end;\" transform=\"rotate(0, 69.0547, 79.4432)\" x=\"69.0547\" y=\"79.4432\">600000000</text>\n",
       "</g>\n",
       "<g clip-path=\"url(#clip2100)\">\n",
       "<text style=\"fill:#000000; fill-opacity:1; font-family:Arial,Helvetica Neue,Helvetica,sans-serif; font-size:21; text-anchor:middle;\" transform=\"rotate(0, 327.685, 18)\" x=\"327.685\" y=\"18\">Annual Dividends invested in ...</text>\n",
       "</g>\n",
       "<polyline clip-path=\"url(#clip2102)\" style=\"stroke:#009af9; stroke-width:1; stroke-opacity:1; fill:none\" points=\"\n",
       "  75.0547,375.813 82.171,375.638 89.2874,375.319 96.4037,375.055 103.52,374.862 110.636,374.296 117.753,374.26 124.869,374.142 131.985,374 139.102,373.753 \n",
       "  146.218,373.263 153.334,372.877 160.451,372.6 167.567,372.646 174.683,372.32 181.8,372.077 188.916,371.783 196.033,371.158 203.149,370.503 210.265,369.835 \n",
       "  217.382,369.043 224.498,368.447 231.614,368.105 238.731,367.502 245.847,366.713 252.963,366.811 260.08,366.582 267.196,365.998 274.312,363.679 281.429,362.592 \n",
       "  288.545,361.984 295.661,359.999 302.778,357.139 309.894,354.756 317.01,351.789 324.127,348.743 331.243,345.716 338.359,344.246 345.476,342.166 352.592,339.79 \n",
       "  359.708,338.203 366.825,335.185 373.941,331.088 381.057,322.849 388.174,322.201 395.29,321.813 402.406,322.476 409.523,320.581 416.639,316.72 423.755,311.915 \n",
       "  430.872,306.171 437.988,300.58 445.104,295.657 452.221,290.418 459.337,282.009 466.453,282.718 473.57,282.775 480.686,279.3 487.803,265.251 494.919,229.719 \n",
       "  502.035,225.3 509.152,202.309 516.268,180.694 523.384,185.025 530.501,217.041 537.617,202.49 544.733,182.179 551.85,129.838 558.966,123.316 566.082,87.5039 \n",
       "  573.199,65.5228 580.315,54.5885 \n",
       "  \"/>\n",
       "<polyline clip-path=\"url(#clip2102)\" style=\"stroke:#e26f46; stroke-width:1; stroke-opacity:1; fill:none\" points=\"\n",
       "  75.0547,375.613 82.171,375.778 89.2874,375.303 96.4037,375.129 103.52,374.664 110.636,374.034 117.753,374.13 124.869,373.964 131.985,373.91 139.102,373.17 \n",
       "  146.218,372.867 153.334,372.883 160.451,372.825 167.567,371.88 174.683,372.197 181.8,371.96 188.916,371.266 196.033,371.022 203.149,370.122 210.265,369.417 \n",
       "  217.382,368.582 224.498,368.803 231.614,367.607 238.731,366.193 245.847,367.067 252.963,366.174 260.08,366.788 267.196,365.128 274.312,365.106 281.429,364.51 \n",
       "  288.545,360.734 295.661,359.508 302.778,356.913 309.894,354.255 317.01,349.63 324.127,341.943 331.243,345.425 338.359,337.237 345.476,339.896 352.592,338.371 \n",
       "  359.708,334.094 366.825,332.981 373.941,339.469 381.057,320.824 388.174,317.347 395.29,323.6 402.406,320.57 409.523,317.402 416.639,314.345 423.755,312.774 \n",
       "  430.872,295.836 437.988,290.934 445.104,285.777 452.221,284.506 459.337,274.501 466.453,292.972 473.57,286.332 480.686,284.129 487.803,248.41 494.919,220.649 \n",
       "  502.035,216.302 509.152,188.509 516.268,177.511 523.384,239.902 530.501,182.54 537.617,189.366 544.733,188.621 551.85,120.814 558.966,94.3218 566.082,69.8774 \n",
       "  573.199,64.8239 580.315,31.4961 \n",
       "  \"/>\n",
       "<polygon clip-path=\"url(#clip2100)\" points=\"\n",
       "466.096,97.7361 562.315,97.7361 562.315,52.3761 466.096,52.3761 \n",
       "  \" fill=\"#ffffff\" fill-opacity=\"1\"/>\n",
       "<polyline clip-path=\"url(#clip2100)\" style=\"stroke:#000000; stroke-width:1; stroke-opacity:1; fill:none\" points=\"\n",
       "  466.096,97.7361 562.315,97.7361 562.315,52.3761 466.096,52.3761 466.096,97.7361 \n",
       "  \"/>\n",
       "<polyline clip-path=\"url(#clip2100)\" style=\"stroke:#009af9; stroke-width:1; stroke-opacity:1; fill:none\" points=\"\n",
       "  472.096,67.4961 508.096,67.4961 \n",
       "  \"/>\n",
       "<g clip-path=\"url(#clip2100)\">\n",
       "<text style=\"fill:#000000; fill-opacity:1; font-family:Arial,Helvetica Neue,Helvetica,sans-serif; font-size:12; text-anchor:start;\" transform=\"rotate(0, 514.096, 71.9961)\" x=\"514.096\" y=\"71.9961\">Cash</text>\n",
       "</g>\n",
       "<polyline clip-path=\"url(#clip2100)\" style=\"stroke:#e26f46; stroke-width:1; stroke-opacity:1; fill:none\" points=\"\n",
       "  472.096,82.6161 508.096,82.6161 \n",
       "  \"/>\n",
       "<g clip-path=\"url(#clip2100)\">\n",
       "<text style=\"fill:#000000; fill-opacity:1; font-family:Arial,Helvetica Neue,Helvetica,sans-serif; font-size:12; text-anchor:start;\" transform=\"rotate(0, 514.096, 87.1161)\" x=\"514.096\" y=\"87.1161\">Market</text>\n",
       "</g>\n",
       "</svg>\n"
      ]
     },
     "execution_count": 13,
     "metadata": {},
     "output_type": "execute_result"
    }
   ],
   "source": [
    "plot(yearly_data[:year], yearly_data[:cash_div], label=\"Cash\", title=\"Annual Dividends invested in ...\")\n",
    "plot!(yearly_data[:year], yearly_data[:mkt_div], label=\"Market\")"
   ]
  },
  {
   "cell_type": "markdown",
   "metadata": {},
   "source": [
    "### (d)"
   ]
  },
  {
   "cell_type": "code",
   "execution_count": 39,
   "metadata": {},
   "outputs": [],
   "source": [
    "yearly_data[:ret] = log.(1 .+ by(df, [:year], df -> prod(1 .+ df[:vwretd])-1)[:x1]);"
   ]
  },
  {
   "cell_type": "code",
   "execution_count": 44,
   "metadata": {},
   "outputs": [],
   "source": [
    "yearly_data[:cash_div_growth] = \n",
    "    vcat(0, log.(yearly_data[:cash_div][2:end]./yearly_data[:cash_div][1:end-1]))\n",
    "\n",
    "yearly_data[:mkt_div_growth] = \n",
    "    vcat(0, log.(yearly_data[:mkt_div][2:end]./yearly_data[:mkt_div][1:end-1]));"
   ]
  },
  {
   "cell_type": "code",
   "execution_count": 45,
   "metadata": {},
   "outputs": [],
   "source": [
    "yearly_data[:totval] = by(df, [:year], df -> df[:totval][12])[:x1]\n",
    "yearly_data[:cash_logPD] = log.(vcat(df[:totval][1], yearly_data[:totval][1:end-1]) ./ yearly_data[:cash_div])\n",
    "yearly_data[:mkt_logPD] = log.(vcat(df[:totval][1], yearly_data[:totval][1:end-1]) ./ yearly_data[:mkt_div]);"
   ]
  },
  {
   "cell_type": "code",
   "execution_count": 46,
   "metadata": {},
   "outputs": [
    {
     "data": {
      "text/html": [
       "<table class=\"data-frame\"><thead><tr><th></th><th>year</th><th>cash_div</th><th>mkt_div</th><th>ret</th><th>totval</th><th>cash_logPD</th><th>mkt_logPD</th><th>cash_div_growth</th><th>mkt_div_growth</th></tr></thead><tbody><tr><th>1</th><td>1945</td><td>2.2498955541939e6</td><td>2.6477090784431132e6</td><td>0.3297315675814011</td><td>6.43306221e7</td><td>3.0574374548422156</td><td>2.8946264822199055</td><td>0.0</td><td>0.0</td></tr><tr><th>2</th><td>1946</td><td>2.599129628707599e6</td><td>2.319925542087249e6</td><td>-0.06636631210115301</td><td>5.96843836e7</td><td>3.208859125031376</td><td>3.322500664590109</td><td>0.144292836013417</td><td>-0.1321596761676265</td></tr><tr><th>3</th><td>1947</td><td>3.231865534292101e6</td><td>3.2636809326087963e6</td><td>0.032401138228775835</td><td>5.98853607e7</td><td>2.9160108696361577</td><td>2.906214726106961</td><td>0.21788290451050718</td><td>0.3413205875984371</td></tr><tr><th>4</th><td>1948</td><td>3.757383750905099e6</td><td>3.6104193620426296e6</td><td>0.021089536329669166</td><td>5.83012582e7</td><td>2.7687091753089534</td><td>2.808608147223721</td><td>0.15066336897900384</td><td>0.10096825353503949</td></tr><tr><th>5</th><td>1949</td><td>4.139718261552899e6</td><td>4.534289215466398e6</td><td>0.1832323109661117</td><td>6.73444034e7</td><td>2.6449959418421702</td><td>2.5539553363989964</td><td>0.0969048284729966</td><td>0.2278444058309379</td></tr><tr><th>6</th><td>1950</td><td>5.265457501587398e6</td><td>5.784492814004975e6</td><td>0.26599950371588965</td><td>8.48339739e7</td><td>2.5486517654512584</td><td>2.4546391179489726</td><td>0.24054030394266318</td><td>0.24351234600177502</td></tr></tbody></table>"
      ],
      "text/plain": [
       "6×9 DataFrames.DataFrame\n",
       "│ Row │ year │ cash_div  │ mkt_div   │ ret        │ totval    │ cash_logPD │\n",
       "├─────┼──────┼───────────┼───────────┼────────────┼───────────┼────────────┤\n",
       "│ 1   │ 1945 │ 2.2499e6  │ 2.64771e6 │ 0.329732   │ 6.43306e7 │ 3.05744    │\n",
       "│ 2   │ 1946 │ 2.59913e6 │ 2.31993e6 │ -0.0663663 │ 5.96844e7 │ 3.20886    │\n",
       "│ 3   │ 1947 │ 3.23187e6 │ 3.26368e6 │ 0.0324011  │ 5.98854e7 │ 2.91601    │\n",
       "│ 4   │ 1948 │ 3.75738e6 │ 3.61042e6 │ 0.0210895  │ 5.83013e7 │ 2.76871    │\n",
       "│ 5   │ 1949 │ 4.13972e6 │ 4.53429e6 │ 0.183232   │ 6.73444e7 │ 2.645      │\n",
       "│ 6   │ 1950 │ 5.26546e6 │ 5.78449e6 │ 0.266      │ 8.4834e7  │ 2.54865    │\n",
       "\n",
       "│ Row │ mkt_logPD │ cash_div_growth │ mkt_div_growth │\n",
       "├─────┼───────────┼─────────────────┼────────────────┤\n",
       "│ 1   │ 2.89463   │ 0.0             │ 0.0            │\n",
       "│ 2   │ 3.3225    │ 0.144293        │ -0.13216       │\n",
       "│ 3   │ 2.90621   │ 0.217883        │ 0.341321       │\n",
       "│ 4   │ 2.80861   │ 0.150663        │ 0.100968       │\n",
       "│ 5   │ 2.55396   │ 0.0969048       │ 0.227844       │\n",
       "│ 6   │ 2.45464   │ 0.24054         │ 0.243512       │"
      ]
     },
     "execution_count": 46,
     "metadata": {},
     "output_type": "execute_result"
    }
   ],
   "source": [
    "head(yearly_data)"
   ]
  },
  {
   "cell_type": "markdown",
   "metadata": {},
   "source": [
    "Mean and standard deviation of the cash- and market-invested dividends growth is:"
   ]
  },
  {
   "cell_type": "code",
   "execution_count": 47,
   "metadata": {},
   "outputs": [
    {
     "data": {
      "text/plain": [
       "2-element Array{Any,1}:\n",
       " [0.0784899]\n",
       " [0.0771895]"
      ]
     },
     "execution_count": 47,
     "metadata": {},
     "output_type": "execute_result"
    }
   ],
   "source": [
    "colwise(mean, yearly_data[[:cash_div_growth, :mkt_div_growth]])"
   ]
  },
  {
   "cell_type": "code",
   "execution_count": 48,
   "metadata": {},
   "outputs": [
    {
     "data": {
      "text/plain": [
       "2-element Array{Any,1}:\n",
       " [0.0686968]\n",
       " [0.133035] "
      ]
     },
     "execution_count": 48,
     "metadata": {},
     "output_type": "execute_result"
    }
   ],
   "source": [
    "colwise(std, yearly_data[[:cash_div_growth, :mkt_div_growth]])"
   ]
  },
  {
   "cell_type": "markdown",
   "metadata": {},
   "source": [
    "Investing the dividends in the market portfolio does not yield a higher average dividend growth, due to the [January effect](https://en.wikipedia.org/wiki/January_effect effect). The standard deviation of the market-invested dividend growth is also much higher, due to stock market fluctuations."
   ]
  },
  {
   "cell_type": "markdown",
   "metadata": {},
   "source": [
    "### (e)"
   ]
  },
  {
   "cell_type": "code",
   "execution_count": 49,
   "metadata": {},
   "outputs": [],
   "source": [
    "using GLM"
   ]
  },
  {
   "cell_type": "code",
   "execution_count": 50,
   "metadata": {},
   "outputs": [],
   "source": [
    "data_prep = yearly_data[2:end, [:year, :ret, :cash_logPD, :cash_div_growth]]\n",
    "data_prep[:lagged_cash_logPD] = yearly_data[:cash_logPD][1:end-1];"
   ]
  },
  {
   "cell_type": "markdown",
   "metadata": {},
   "source": [
    "Full Sample:"
   ]
  },
  {
   "cell_type": "code",
   "execution_count": 63,
   "metadata": {},
   "outputs": [
    {
     "data": {
      "text/plain": [
       "DataFrames.DataFrameRegressionModel{GLM.LinearModel{GLM.LmResp{Array{Float64,1}},GLM.DensePredChol{Float64,Base.LinAlg.Cholesky{Float64,Array{Float64,2}}}},Array{Float64,2}}\n",
       "\n",
       "Formula: ret ~ 1 + lagged_cash_logPD\n",
       "\n",
       "Coefficients:\n",
       "                     Estimate Std.Error  t value Pr(>|t|)\n",
       "(Intercept)          0.436997  0.153741  2.84242   0.0059\n",
       "lagged_cash_logPD  -0.0981936 0.0445517 -2.20404   0.0309\n"
      ]
     },
     "execution_count": 63,
     "metadata": {},
     "output_type": "execute_result"
    }
   ],
   "source": [
    "model = lm(@formula(ret ~ lagged_cash_logPD), data_prep)"
   ]
  },
  {
   "cell_type": "code",
   "execution_count": 60,
   "metadata": {},
   "outputs": [
    {
     "data": {
      "text/plain": [
       "0.06577203374640761"
      ]
     },
     "execution_count": 60,
     "metadata": {},
     "output_type": "execute_result"
    }
   ],
   "source": [
    "r2(model)"
   ]
  },
  {
   "cell_type": "code",
   "execution_count": 64,
   "metadata": {},
   "outputs": [
    {
     "data": {
      "text/plain": [
       "DataFrames.DataFrameRegressionModel{GLM.LinearModel{GLM.LmResp{Array{Float64,1}},GLM.DensePredChol{Float64,Base.LinAlg.Cholesky{Float64,Array{Float64,2}}}},Array{Float64,2}}\n",
       "\n",
       "Formula: cash_div_growth ~ 1 + lagged_cash_logPD\n",
       "\n",
       "Coefficients:\n",
       "                    Estimate Std.Error  t value Pr(>|t|)\n",
       "(Intercept)         0.174844 0.0652539  2.67945   0.0092\n",
       "lagged_cash_logPD  -0.027815 0.0189095 -1.47095   0.1459\n"
      ]
     },
     "execution_count": 64,
     "metadata": {},
     "output_type": "execute_result"
    }
   ],
   "source": [
    "model_d = lm(@formula(cash_div_growth ~ lagged_cash_logPD), data_prep)"
   ]
  },
  {
   "cell_type": "code",
   "execution_count": 65,
   "metadata": {},
   "outputs": [
    {
     "data": {
      "text/plain": [
       "0.030404515012109612"
      ]
     },
     "execution_count": 65,
     "metadata": {},
     "output_type": "execute_result"
    }
   ],
   "source": [
    "r2(model_d)"
   ]
  },
  {
   "cell_type": "markdown",
   "metadata": {},
   "source": [
    "First part of the sample:"
   ]
  },
  {
   "cell_type": "code",
   "execution_count": 66,
   "metadata": {},
   "outputs": [
    {
     "data": {
      "text/plain": [
       "DataFrames.DataFrameRegressionModel{GLM.LinearModel{GLM.LmResp{Array{Float64,1}},GLM.DensePredChol{Float64,Base.LinAlg.Cholesky{Float64,Array{Float64,2}}}},Array{Float64,2}}\n",
       "\n",
       "Formula: ret ~ 1 + lagged_cash_logPD\n",
       "\n",
       "Coefficients:\n",
       "                    Estimate Std.Error  t value Pr(>|t|)\n",
       "(Intercept)         0.807472  0.268359  3.00893   0.0044\n",
       "lagged_cash_logPD  -0.220499 0.0843424 -2.61433   0.0124\n"
      ]
     },
     "execution_count": 66,
     "metadata": {},
     "output_type": "execute_result"
    }
   ],
   "source": [
    "model_early = lm(@formula(ret ~ lagged_cash_logPD), data_prep[data_prep[:year] .< 1990, :])"
   ]
  },
  {
   "cell_type": "code",
   "execution_count": 67,
   "metadata": {},
   "outputs": [
    {
     "data": {
      "text/plain": [
       "0.13995594376153286"
      ]
     },
     "execution_count": 67,
     "metadata": {},
     "output_type": "execute_result"
    }
   ],
   "source": [
    "r2(model_early)"
   ]
  },
  {
   "cell_type": "code",
   "execution_count": 68,
   "metadata": {},
   "outputs": [
    {
     "data": {
      "text/plain": [
       "DataFrames.DataFrameRegressionModel{GLM.LinearModel{GLM.LmResp{Array{Float64,1}},GLM.DensePredChol{Float64,Base.LinAlg.Cholesky{Float64,Array{Float64,2}}}},Array{Float64,2}}\n",
       "\n",
       "Formula: cash_div_growth ~ 1 + lagged_cash_logPD\n",
       "\n",
       "Coefficients:\n",
       "                     Estimate Std.Error  t value Pr(>|t|)\n",
       "(Intercept)          0.215028   0.10078  2.13363   0.0388\n",
       "lagged_cash_logPD  -0.0400131 0.0316742 -1.26327   0.2135\n"
      ]
     },
     "execution_count": 68,
     "metadata": {},
     "output_type": "execute_result"
    }
   ],
   "source": [
    "model_d_early = lm(@formula(cash_div_growth ~ lagged_cash_logPD), data_prep[data_prep[:year] .< 1990, :])"
   ]
  },
  {
   "cell_type": "code",
   "execution_count": 69,
   "metadata": {},
   "outputs": [
    {
     "data": {
      "text/plain": [
       "0.03660555444847213"
      ]
     },
     "execution_count": 69,
     "metadata": {},
     "output_type": "execute_result"
    }
   ],
   "source": [
    "r2(model_d_early)"
   ]
  },
  {
   "cell_type": "markdown",
   "metadata": {},
   "source": [
    "Second part:"
   ]
  },
  {
   "cell_type": "code",
   "execution_count": 70,
   "metadata": {},
   "outputs": [
    {
     "data": {
      "text/plain": [
       "DataFrames.DataFrameRegressionModel{GLM.LinearModel{GLM.LmResp{Array{Float64,1}},GLM.DensePredChol{Float64,Base.LinAlg.Cholesky{Float64,Array{Float64,2}}}},Array{Float64,2}}\n",
       "\n",
       "Formula: ret ~ 1 + lagged_cash_logPD\n",
       "\n",
       "Coefficients:\n",
       "                    Estimate Std.Error  t value Pr(>|t|)\n",
       "(Intercept)         0.684272  0.431627  1.58533   0.1255\n",
       "lagged_cash_logPD  -0.155261  0.112133 -1.38462   0.1784\n"
      ]
     },
     "execution_count": 70,
     "metadata": {},
     "output_type": "execute_result"
    }
   ],
   "source": [
    "model_late = lm(@formula(ret ~ lagged_cash_logPD), data_prep[data_prep[:year] .>= 1990, :])"
   ]
  },
  {
   "cell_type": "code",
   "execution_count": 71,
   "metadata": {},
   "outputs": [
    {
     "data": {
      "text/plain": [
       "0.07122453918614935"
      ]
     },
     "execution_count": 71,
     "metadata": {},
     "output_type": "execute_result"
    }
   ],
   "source": [
    "r2(model_late)"
   ]
  },
  {
   "cell_type": "code",
   "execution_count": 73,
   "metadata": {},
   "outputs": [
    {
     "data": {
      "text/plain": [
       "DataFrames.DataFrameRegressionModel{GLM.LinearModel{GLM.LmResp{Array{Float64,1}},GLM.DensePredChol{Float64,Base.LinAlg.Cholesky{Float64,Array{Float64,2}}}},Array{Float64,2}}\n",
       "\n",
       "Formula: cash_div_growth ~ 1 + lagged_cash_logPD\n",
       "\n",
       "Coefficients:\n",
       "                     Estimate Std.Error  t value Pr(>|t|)\n",
       "(Intercept)         0.0492419  0.211611   0.2327   0.8179\n",
       "lagged_cash_logPD  0.00428022 0.0549748 0.077858   0.9386\n"
      ]
     },
     "execution_count": 73,
     "metadata": {},
     "output_type": "execute_result"
    }
   ],
   "source": [
    "model_d_late = lm(@formula(cash_div_growth ~ lagged_cash_logPD), data_prep[data_prep[:year] .>= 1990, :])"
   ]
  },
  {
   "cell_type": "code",
   "execution_count": 74,
   "metadata": {},
   "outputs": [
    {
     "data": {
      "text/plain": [
       "0.00024241566390370561"
      ]
     },
     "execution_count": 74,
     "metadata": {},
     "output_type": "execute_result"
    }
   ],
   "source": [
    "r2(model_d_late)"
   ]
  },
  {
   "cell_type": "markdown",
   "metadata": {},
   "source": [
    "In the 90s the price dividend ratio increased dramatically, but stocks performed well. This seems like a structural break, so splitting up the sample benefits the $R^2$ in both.\n",
    "\n",
    "Dividend growth is hardly predictable."
   ]
  },
  {
   "cell_type": "markdown",
   "metadata": {},
   "source": [
    "### (f) Preliminaries\n",
    "The [Campbell Shiller decomposition](http://onlinelibrary.wiley.com/doi/10.1111/j.1540-6261.1988.tb04598.x/abstract) starts out from the defininition of the return on a stock: $R_{t+1}=\\frac{P_{t+1}+D_{t+1}}{P_{t}}$.\n",
    "\n",
    "Taking logs:\n",
    "\n",
    "$$r_{t+1}=p_{t+1}-p_{t}+\\log\\Big(1+\\exp(\\underset{dp_{t+1}}{\\underbrace{d_{t+1}-p_{t+1}}})\\Big)$$\n",
    "\n",
    "The Taylor approximation of the last term around $\\bar{dp}$ is:\n",
    "\n",
    "$$\\log\\Big(1+\\exp(dp_{t+1})\\Big)\\approx\\underset{\\kappa}{\\underbrace{\\log\\Big(1+\\exp(\\bar{dp})\\Big)}}+\\underset{1-\\rho}{\\underbrace{\\frac{\\exp(\\bar{dp})}{1+\\exp(\\bar{dp})}}}\\Big(dp_{t+1}-\\bar{dp}\\Big)+\\frac{1}{2}\\frac{\\exp(\\tilde{dp})}{\\Big(1+\\exp(\\tilde{dp})\\Big)^{2}}\\Big(dp_{t+1}-\\bar{dp}\\Big)^{2}$$\n",
    "\n",
    "where $\\tilde{dp}$ is between $dp_{t+1}$ and $\\bar{dp}$ (this is the [Lagrange form](https://en.wikipedia.org/wiki/Taylor%27s_theorem#Explicit_formulas_for_the_remainder) of the remainder).\n",
    "\n",
    "Mind also that the remainder coefficient is a decreasing function for all $\\tilde{dp} \\geq 0$."
   ]
  },
  {
   "cell_type": "code",
   "execution_count": 151,
   "metadata": {},
   "outputs": [
    {
     "data": {
      "text/plain": [
       "0.4265101603511565"
      ]
     },
     "execution_count": 151,
     "metadata": {},
     "output_type": "execute_result"
    }
   ],
   "source": [
    "dp = 1 ./ yearly_data[:cash_logPD]\n",
    "dp_bar = mean(dp)\n",
    "κ = log(1 + exp(dp_bar))\n",
    "ρ = 1 - exp(dp_bar)/(1 + exp(dp_bar))"
   ]
  },
  {
   "cell_type": "code",
   "execution_count": 152,
   "metadata": {
    "scrolled": false
   },
   "outputs": [
    {
     "data": {
      "text/html": [
       "<?xml version=\"1.0\" encoding=\"utf-8\"?>\n",
       "<svg xmlns=\"http://www.w3.org/2000/svg\" xmlns:xlink=\"http://www.w3.org/1999/xlink\" width=\"600\" height=\"400\" viewBox=\"0 0 600 400\">\n",
       "<defs>\n",
       "  <clipPath id=\"clip5700\">\n",
       "    <rect x=\"0\" y=\"0\" width=\"600\" height=\"400\"/>\n",
       "  </clipPath>\n",
       "</defs>\n",
       "<polygon clip-path=\"url(#clip5700)\" points=\"\n",
       "0,400 600,400 600,0 0,0 \n",
       "  \" fill=\"#ffffff\" fill-opacity=\"1\"/>\n",
       "<defs>\n",
       "  <clipPath id=\"clip5701\">\n",
       "    <rect x=\"120\" y=\"0\" width=\"421\" height=\"400\"/>\n",
       "  </clipPath>\n",
       "</defs>\n",
       "<polygon clip-path=\"url(#clip5700)\" points=\"\n",
       "51.991,375.813 580.315,375.813 580.315,11.811 51.991,11.811 \n",
       "  \" fill=\"#ffffff\" fill-opacity=\"1\"/>\n",
       "<defs>\n",
       "  <clipPath id=\"clip5702\">\n",
       "    <rect x=\"51\" y=\"11\" width=\"529\" height=\"365\"/>\n",
       "  </clipPath>\n",
       "</defs>\n",
       "<polyline clip-path=\"url(#clip5702)\" style=\"stroke:#000000; stroke-width:0.5; stroke-opacity:0.1; fill:none\" points=\"\n",
       "  108.524,375.813 108.524,11.811 \n",
       "  \"/>\n",
       "<polyline clip-path=\"url(#clip5702)\" style=\"stroke:#000000; stroke-width:0.5; stroke-opacity:0.1; fill:none\" points=\"\n",
       "  170.453,375.813 170.453,11.811 \n",
       "  \"/>\n",
       "<polyline clip-path=\"url(#clip5702)\" style=\"stroke:#000000; stroke-width:0.5; stroke-opacity:0.1; fill:none\" points=\"\n",
       "  232.383,375.813 232.383,11.811 \n",
       "  \"/>\n",
       "<polyline clip-path=\"url(#clip5702)\" style=\"stroke:#000000; stroke-width:0.5; stroke-opacity:0.1; fill:none\" points=\"\n",
       "  294.312,375.813 294.312,11.811 \n",
       "  \"/>\n",
       "<polyline clip-path=\"url(#clip5702)\" style=\"stroke:#000000; stroke-width:0.5; stroke-opacity:0.1; fill:none\" points=\"\n",
       "  356.241,375.813 356.241,11.811 \n",
       "  \"/>\n",
       "<polyline clip-path=\"url(#clip5702)\" style=\"stroke:#000000; stroke-width:0.5; stroke-opacity:0.1; fill:none\" points=\"\n",
       "  418.171,375.813 418.171,11.811 \n",
       "  \"/>\n",
       "<polyline clip-path=\"url(#clip5702)\" style=\"stroke:#000000; stroke-width:0.5; stroke-opacity:0.1; fill:none\" points=\"\n",
       "  480.1,375.813 480.1,11.811 \n",
       "  \"/>\n",
       "<polyline clip-path=\"url(#clip5702)\" style=\"stroke:#000000; stroke-width:0.5; stroke-opacity:0.1; fill:none\" points=\"\n",
       "  542.029,375.813 542.029,11.811 \n",
       "  \"/>\n",
       "<polyline clip-path=\"url(#clip5702)\" style=\"stroke:#000000; stroke-width:0.5; stroke-opacity:0.1; fill:none\" points=\"\n",
       "  51.991,311.574 580.315,311.574 \n",
       "  \"/>\n",
       "<polyline clip-path=\"url(#clip5702)\" style=\"stroke:#000000; stroke-width:0.5; stroke-opacity:0.1; fill:none\" points=\"\n",
       "  51.991,247.332 580.315,247.332 \n",
       "  \"/>\n",
       "<polyline clip-path=\"url(#clip5702)\" style=\"stroke:#000000; stroke-width:0.5; stroke-opacity:0.1; fill:none\" points=\"\n",
       "  51.991,183.09 580.315,183.09 \n",
       "  \"/>\n",
       "<polyline clip-path=\"url(#clip5702)\" style=\"stroke:#000000; stroke-width:0.5; stroke-opacity:0.1; fill:none\" points=\"\n",
       "  51.991,118.849 580.315,118.849 \n",
       "  \"/>\n",
       "<polyline clip-path=\"url(#clip5702)\" style=\"stroke:#000000; stroke-width:0.5; stroke-opacity:0.1; fill:none\" points=\"\n",
       "  51.991,54.6068 580.315,54.6068 \n",
       "  \"/>\n",
       "<polyline clip-path=\"url(#clip5700)\" style=\"stroke:#000000; stroke-width:1; stroke-opacity:1; fill:none\" points=\"\n",
       "  51.991,375.813 580.315,375.813 \n",
       "  \"/>\n",
       "<polyline clip-path=\"url(#clip5700)\" style=\"stroke:#000000; stroke-width:1; stroke-opacity:1; fill:none\" points=\"\n",
       "  51.991,375.813 51.991,11.811 \n",
       "  \"/>\n",
       "<polyline clip-path=\"url(#clip5700)\" style=\"stroke:#000000; stroke-width:1; stroke-opacity:1; fill:none\" points=\"\n",
       "  108.524,375.813 108.524,370.353 \n",
       "  \"/>\n",
       "<polyline clip-path=\"url(#clip5700)\" style=\"stroke:#000000; stroke-width:1; stroke-opacity:1; fill:none\" points=\"\n",
       "  170.453,375.813 170.453,370.353 \n",
       "  \"/>\n",
       "<polyline clip-path=\"url(#clip5700)\" style=\"stroke:#000000; stroke-width:1; stroke-opacity:1; fill:none\" points=\"\n",
       "  232.383,375.813 232.383,370.353 \n",
       "  \"/>\n",
       "<polyline clip-path=\"url(#clip5700)\" style=\"stroke:#000000; stroke-width:1; stroke-opacity:1; fill:none\" points=\"\n",
       "  294.312,375.813 294.312,370.353 \n",
       "  \"/>\n",
       "<polyline clip-path=\"url(#clip5700)\" style=\"stroke:#000000; stroke-width:1; stroke-opacity:1; fill:none\" points=\"\n",
       "  356.241,375.813 356.241,370.353 \n",
       "  \"/>\n",
       "<polyline clip-path=\"url(#clip5700)\" style=\"stroke:#000000; stroke-width:1; stroke-opacity:1; fill:none\" points=\"\n",
       "  418.171,375.813 418.171,370.353 \n",
       "  \"/>\n",
       "<polyline clip-path=\"url(#clip5700)\" style=\"stroke:#000000; stroke-width:1; stroke-opacity:1; fill:none\" points=\"\n",
       "  480.1,375.813 480.1,370.353 \n",
       "  \"/>\n",
       "<polyline clip-path=\"url(#clip5700)\" style=\"stroke:#000000; stroke-width:1; stroke-opacity:1; fill:none\" points=\"\n",
       "  542.029,375.813 542.029,370.353 \n",
       "  \"/>\n",
       "<polyline clip-path=\"url(#clip5700)\" style=\"stroke:#000000; stroke-width:1; stroke-opacity:1; fill:none\" points=\"\n",
       "  51.991,311.574 59.9159,311.574 \n",
       "  \"/>\n",
       "<polyline clip-path=\"url(#clip5700)\" style=\"stroke:#000000; stroke-width:1; stroke-opacity:1; fill:none\" points=\"\n",
       "  51.991,247.332 59.9159,247.332 \n",
       "  \"/>\n",
       "<polyline clip-path=\"url(#clip5700)\" style=\"stroke:#000000; stroke-width:1; stroke-opacity:1; fill:none\" points=\"\n",
       "  51.991,183.09 59.9159,183.09 \n",
       "  \"/>\n",
       "<polyline clip-path=\"url(#clip5700)\" style=\"stroke:#000000; stroke-width:1; stroke-opacity:1; fill:none\" points=\"\n",
       "  51.991,118.849 59.9159,118.849 \n",
       "  \"/>\n",
       "<polyline clip-path=\"url(#clip5700)\" style=\"stroke:#000000; stroke-width:1; stroke-opacity:1; fill:none\" points=\"\n",
       "  51.991,54.6068 59.9159,54.6068 \n",
       "  \"/>\n",
       "<g clip-path=\"url(#clip5700)\">\n",
       "<text style=\"fill:#000000; fill-opacity:1; font-family:Arial,Helvetica Neue,Helvetica,sans-serif; font-size:12; text-anchor:middle;\" transform=\"rotate(0, 108.524, 389.613)\" x=\"108.524\" y=\"389.613\">0.24</text>\n",
       "</g>\n",
       "<g clip-path=\"url(#clip5700)\">\n",
       "<text style=\"fill:#000000; fill-opacity:1; font-family:Arial,Helvetica Neue,Helvetica,sans-serif; font-size:12; text-anchor:middle;\" transform=\"rotate(0, 170.453, 389.613)\" x=\"170.453\" y=\"389.613\">0.26</text>\n",
       "</g>\n",
       "<g clip-path=\"url(#clip5700)\">\n",
       "<text style=\"fill:#000000; fill-opacity:1; font-family:Arial,Helvetica Neue,Helvetica,sans-serif; font-size:12; text-anchor:middle;\" transform=\"rotate(0, 232.383, 389.613)\" x=\"232.383\" y=\"389.613\">0.28</text>\n",
       "</g>\n",
       "<g clip-path=\"url(#clip5700)\">\n",
       "<text style=\"fill:#000000; fill-opacity:1; font-family:Arial,Helvetica Neue,Helvetica,sans-serif; font-size:12; text-anchor:middle;\" transform=\"rotate(0, 294.312, 389.613)\" x=\"294.312\" y=\"389.613\">0.30</text>\n",
       "</g>\n",
       "<g clip-path=\"url(#clip5700)\">\n",
       "<text style=\"fill:#000000; fill-opacity:1; font-family:Arial,Helvetica Neue,Helvetica,sans-serif; font-size:12; text-anchor:middle;\" transform=\"rotate(0, 356.241, 389.613)\" x=\"356.241\" y=\"389.613\">0.32</text>\n",
       "</g>\n",
       "<g clip-path=\"url(#clip5700)\">\n",
       "<text style=\"fill:#000000; fill-opacity:1; font-family:Arial,Helvetica Neue,Helvetica,sans-serif; font-size:12; text-anchor:middle;\" transform=\"rotate(0, 418.171, 389.613)\" x=\"418.171\" y=\"389.613\">0.34</text>\n",
       "</g>\n",
       "<g clip-path=\"url(#clip5700)\">\n",
       "<text style=\"fill:#000000; fill-opacity:1; font-family:Arial,Helvetica Neue,Helvetica,sans-serif; font-size:12; text-anchor:middle;\" transform=\"rotate(0, 480.1, 389.613)\" x=\"480.1\" y=\"389.613\">0.36</text>\n",
       "</g>\n",
       "<g clip-path=\"url(#clip5700)\">\n",
       "<text style=\"fill:#000000; fill-opacity:1; font-family:Arial,Helvetica Neue,Helvetica,sans-serif; font-size:12; text-anchor:middle;\" transform=\"rotate(0, 542.029, 389.613)\" x=\"542.029\" y=\"389.613\">0.38</text>\n",
       "</g>\n",
       "<g clip-path=\"url(#clip5700)\">\n",
       "<text style=\"fill:#000000; fill-opacity:1; font-family:Arial,Helvetica Neue,Helvetica,sans-serif; font-size:12; text-anchor:end;\" transform=\"rotate(0, 45.991, 316.074)\" x=\"45.991\" y=\"316.074\">0.0002</text>\n",
       "</g>\n",
       "<g clip-path=\"url(#clip5700)\">\n",
       "<text style=\"fill:#000000; fill-opacity:1; font-family:Arial,Helvetica Neue,Helvetica,sans-serif; font-size:12; text-anchor:end;\" transform=\"rotate(0, 45.991, 251.832)\" x=\"45.991\" y=\"251.832\">0.0004</text>\n",
       "</g>\n",
       "<g clip-path=\"url(#clip5700)\">\n",
       "<text style=\"fill:#000000; fill-opacity:1; font-family:Arial,Helvetica Neue,Helvetica,sans-serif; font-size:12; text-anchor:end;\" transform=\"rotate(0, 45.991, 187.59)\" x=\"45.991\" y=\"187.59\">0.0006</text>\n",
       "</g>\n",
       "<g clip-path=\"url(#clip5700)\">\n",
       "<text style=\"fill:#000000; fill-opacity:1; font-family:Arial,Helvetica Neue,Helvetica,sans-serif; font-size:12; text-anchor:end;\" transform=\"rotate(0, 45.991, 123.349)\" x=\"45.991\" y=\"123.349\">0.0008</text>\n",
       "</g>\n",
       "<g clip-path=\"url(#clip5700)\">\n",
       "<text style=\"fill:#000000; fill-opacity:1; font-family:Arial,Helvetica Neue,Helvetica,sans-serif; font-size:12; text-anchor:end;\" transform=\"rotate(0, 45.991, 59.1068)\" x=\"45.991\" y=\"59.1068\">0.0010</text>\n",
       "</g>\n",
       "<polyline clip-path=\"url(#clip5702)\" style=\"stroke:#009af9; stroke-width:1; stroke-opacity:1; fill:none\" points=\"\n",
       "  51.991,157.848 57.3276,167.85 62.6642,177.617 68.0008,187.147 73.3374,196.443 78.674,205.503 84.0106,214.327 89.3472,222.916 94.6838,231.27 100.02,239.389 \n",
       "  105.357,247.272 110.694,254.921 116.03,262.334 121.367,269.512 126.703,276.455 132.04,283.163 137.377,289.637 142.713,295.875 148.05,301.879 153.387,307.648 \n",
       "  158.723,313.182 164.06,318.481 169.396,323.546 174.733,328.377 180.07,332.973 185.406,337.334 190.743,341.461 196.079,345.354 201.416,349.012 206.753,352.437 \n",
       "  212.089,355.627 217.426,358.583 222.762,361.305 228.099,363.792 233.436,366.046 238.772,368.066 244.109,369.853 249.445,371.405 254.782,372.724 260.119,373.809 \n",
       "  265.455,374.66 270.792,375.278 276.128,375.663 281.465,375.813 286.802,375.731 292.138,375.415 297.475,374.866 302.811,374.084 308.148,373.069 313.485,371.82 \n",
       "  318.821,370.339 324.158,368.624 329.494,366.677 334.831,364.497 340.168,362.084 345.504,359.439 350.841,356.56 356.178,353.45 361.514,350.106 366.851,346.53 \n",
       "  372.187,342.722 377.524,338.682 382.861,334.409 388.197,329.904 393.534,325.167 398.87,320.198 404.207,314.997 409.544,309.564 414.88,303.899 420.217,298.002 \n",
       "  425.553,291.873 430.89,285.513 436.227,278.922 441.563,272.098 446.9,265.044 452.236,257.757 457.573,250.24 462.91,242.491 468.246,234.511 473.583,226.3 \n",
       "  478.919,217.858 484.256,209.185 489.593,200.281 494.929,191.147 500.266,181.781 505.602,172.185 510.939,162.358 516.276,152.301 521.612,142.013 526.949,131.495 \n",
       "  532.286,120.746 537.622,109.768 542.959,98.5587 548.295,87.1197 553.632,75.4506 558.969,63.5516 564.305,51.4227 569.642,39.064 574.978,26.4756 580.315,13.6575 \n",
       "  \n",
       "  \"/>\n",
       "<polyline clip-path=\"url(#clip5702)\" style=\"stroke:#e26f46; stroke-width:1; stroke-opacity:1; fill:none\" points=\"\n",
       "  51.991,156.503 57.3276,166.591 62.6642,176.44 68.0008,186.05 73.3374,195.421 78.674,204.554 84.0106,213.447 89.3472,222.102 94.6838,230.519 100.02,238.697 \n",
       "  105.357,246.637 110.694,254.339 116.03,261.803 121.367,269.028 126.703,276.016 132.04,282.767 137.377,289.279 142.713,295.555 148.05,301.593 153.387,307.393 \n",
       "  158.723,312.957 164.06,318.284 169.396,323.374 174.733,328.227 180.07,332.843 185.406,337.224 190.743,341.368 196.079,345.276 201.416,348.947 206.753,352.384 \n",
       "  212.089,355.584 217.426,358.549 222.762,361.278 228.099,363.773 233.436,366.032 238.772,368.056 244.109,369.846 249.445,371.401 254.782,372.721 260.119,373.807 \n",
       "  265.455,374.66 270.792,375.278 276.128,375.662 281.465,375.813 286.802,375.731 292.138,375.415 297.475,374.866 302.811,374.083 308.148,373.068 313.485,371.818 \n",
       "  318.821,370.336 324.158,368.62 329.494,366.67 334.831,364.488 340.168,362.071 345.504,359.422 350.841,356.539 356.178,353.423 361.514,350.073 366.851,346.49 \n",
       "  372.187,342.674 377.524,338.624 382.861,334.341 388.197,329.825 393.534,325.075 398.87,320.092 404.207,314.875 409.544,309.426 414.88,303.742 420.217,297.826 \n",
       "  425.553,291.676 430.89,285.292 436.227,278.676 441.563,271.825 446.9,264.742 452.236,257.425 457.573,249.875 462.91,242.091 468.246,234.074 473.583,225.824 \n",
       "  478.919,217.341 484.256,208.623 489.593,199.673 494.929,190.489 500.266,181.072 505.602,171.422 510.939,161.538 516.276,151.421 521.612,141.07 526.949,130.486 \n",
       "  532.286,119.669 537.622,108.618 542.959,97.3339 548.295,85.8164 553.632,74.0656 558.969,62.0814 564.305,49.8639 569.642,37.413 574.978,24.7287 580.315,11.811 \n",
       "  \n",
       "  \"/>\n",
       "<polyline clip-path=\"url(#clip5702)\" style=\"stroke:#3da44d; stroke-width:1; stroke-opacity:1; fill:none\" points=\"\n",
       "  51.991,158.593 57.3276,168.545 62.6642,178.264 68.0008,187.75 73.3374,197.002 78.674,206.021 84.0106,214.806 89.3472,223.358 94.6838,231.677 100.02,239.763 \n",
       "  105.357,247.615 110.694,255.233 116.03,262.619 121.367,269.771 126.703,276.689 132.04,283.374 137.377,289.826 142.713,296.045 148.05,302.03 153.387,307.782 \n",
       "  158.723,313.3 164.06,318.585 169.396,323.637 174.733,328.455 180.07,333.04 185.406,337.391 190.743,341.51 196.079,345.394 201.416,349.046 206.753,352.464 \n",
       "  212.089,355.649 217.426,358.6 222.762,361.318 228.099,363.803 233.436,366.054 238.772,368.072 244.109,369.856 249.445,371.407 254.782,372.725 260.119,373.81 \n",
       "  265.455,374.661 270.792,375.278 276.128,375.663 281.465,375.813 286.802,375.731 292.138,375.415 297.475,374.867 302.811,374.085 308.148,373.071 313.485,371.824 \n",
       "  318.821,370.345 324.158,368.634 329.494,366.691 334.831,364.517 340.168,362.11 345.504,359.473 350.841,356.604 356.178,353.504 361.514,350.174 366.851,346.613 \n",
       "  372.187,342.822 377.524,338.801 382.861,334.55 388.197,330.069 393.534,325.358 398.87,320.419 404.207,315.25 409.544,309.853 414.88,304.227 420.217,298.372 \n",
       "  425.553,292.29 430.89,285.979 436.227,279.441 441.563,272.676 446.9,265.683 452.236,258.463 457.573,251.016 462.91,243.343 468.246,235.444 473.583,227.319 \n",
       "  478.919,218.967 484.256,210.391 489.593,201.589 494.929,192.562 500.266,183.31 505.602,173.833 510.939,164.133 516.276,154.208 521.612,144.06 526.949,133.688 \n",
       "  532.286,123.092 537.622,112.274 542.959,101.233 548.295,89.9699 553.632,78.4843 558.969,66.7768 564.305,54.8477 569.642,42.6972 574.978,30.3256 580.315,17.7332 \n",
       "  \n",
       "  \"/>\n",
       "<polygon clip-path=\"url(#clip5700)\" points=\"\n",
       "439.749,93.171 562.315,93.171 562.315,32.691 439.749,32.691 \n",
       "  \" fill=\"#ffffff\" fill-opacity=\"1\"/>\n",
       "<polyline clip-path=\"url(#clip5700)\" style=\"stroke:#000000; stroke-width:1; stroke-opacity:1; fill:none\" points=\"\n",
       "  439.749,93.171 562.315,93.171 562.315,32.691 439.749,32.691 439.749,93.171 \n",
       "  \"/>\n",
       "<polyline clip-path=\"url(#clip5700)\" style=\"stroke:#009af9; stroke-width:1; stroke-opacity:1; fill:none\" points=\"\n",
       "  445.749,47.811 481.749,47.811 \n",
       "  \"/>\n",
       "<g clip-path=\"url(#clip5700)\">\n",
       "<text style=\"fill:#000000; fill-opacity:1; font-family:Arial,Helvetica Neue,Helvetica,sans-serif; font-size:12; text-anchor:start;\" transform=\"rotate(0, 487.749, 52.311)\" x=\"487.749\" y=\"52.311\">Actual Error</text>\n",
       "</g>\n",
       "<polyline clip-path=\"url(#clip5700)\" style=\"stroke:#e26f46; stroke-width:1; stroke-opacity:1; fill:none\" points=\"\n",
       "  445.749,62.931 481.749,62.931 \n",
       "  \"/>\n",
       "<g clip-path=\"url(#clip5700)\">\n",
       "<text style=\"fill:#000000; fill-opacity:1; font-family:Arial,Helvetica Neue,Helvetica,sans-serif; font-size:12; text-anchor:start;\" transform=\"rotate(0, 487.749, 67.431)\" x=\"487.749\" y=\"67.431\">Max Error</text>\n",
       "</g>\n",
       "<polyline clip-path=\"url(#clip5700)\" style=\"stroke:#3da44d; stroke-width:1; stroke-opacity:1; fill:none\" points=\"\n",
       "  445.749,78.051 481.749,78.051 \n",
       "  \"/>\n",
       "<g clip-path=\"url(#clip5700)\">\n",
       "<text style=\"fill:#000000; fill-opacity:1; font-family:Arial,Helvetica Neue,Helvetica,sans-serif; font-size:12; text-anchor:start;\" transform=\"rotate(0, 487.749, 82.551)\" x=\"487.749\" y=\"82.551\">Min Error</text>\n",
       "</g>\n",
       "</svg>\n"
      ]
     },
     "execution_count": 152,
     "metadata": {},
     "output_type": "execute_result"
    }
   ],
   "source": [
    "dp_sample = linspace(minimum(dp), maximum(dp), 100)\n",
    "f(dp) = log(1 + exp(dp))\n",
    "f_approx(dp) = κ + exp(dp_bar)/(1 + exp(dp_bar))*(dp-dp_bar)\n",
    "local_max_remainder(dp) = 1/2 * exp(min(dp, dp_bar))/(1 + exp(min(dp, dp_bar)))^2 * (dp - dp_bar)^2\n",
    "local_min_remainder(dp) = 1/2 * exp(max(dp, dp_bar))/(1 + exp(max(dp, dp_bar)))^2 * (dp - dp_bar)^2\n",
    "\n",
    "plot(dp_sample, f.(dp_sample) .- f_approx.(dp_sample), label=\"Actual Error\")\n",
    "plot!(dp_sample, local_max_remainder.(dp_sample), label=\"Max Error\")\n",
    "plot!(dp_sample, local_min_remainder.(dp_sample), label=\"Min Error\")"
   ]
  },
  {
   "cell_type": "code",
   "execution_count": 153,
   "metadata": {},
   "outputs": [
    {
     "data": {
      "text/plain": [
       "0.0001632431683759039"
      ]
     },
     "execution_count": 153,
     "metadata": {},
     "output_type": "execute_result"
    }
   ],
   "source": [
    "(f.(dp_sample) .- f_approx.(dp_sample))' * fit(Histogram, dp, vcat(0, dp_sample), closed=:right).weights/length(dp)"
   ]
  },
  {
   "cell_type": "markdown",
   "metadata": {},
   "source": [
    "The approximation understates the true return by 0.0011 maximally and by 0.00016 on average (over the observed sample)."
   ]
  },
  {
   "cell_type": "code",
   "execution_count": 154,
   "metadata": {},
   "outputs": [
    {
     "data": {
      "text/plain": [
       "Summary Stats:\n",
       "Mean:           0.103926\n",
       "Minimum:        -0.481478\n",
       "1st Quartile:   0.003057\n",
       "Median:         0.133459\n",
       "3rd Quartile:   0.225562\n",
       "Maximum:        0.408210\n"
      ]
     },
     "execution_count": 154,
     "metadata": {},
     "output_type": "execute_result"
    }
   ],
   "source": [
    "summarystats(yearly_data[:ret])"
   ]
  },
  {
   "cell_type": "markdown",
   "metadata": {},
   "source": [
    "Given that the mean return is around 0.1, this approximation is fine!"
   ]
  },
  {
   "cell_type": "markdown",
   "metadata": {},
   "source": [
    "Hence,\n",
    "\n",
    "$$pd_t=\\rho pd_{t+1}+\\kappa+\\Delta d_{t+1} - r_{t+1}$$\n",
    "\n",
    "and hence:\n",
    "\n",
    "$$pd_t=\\frac{\\kappa}{1-\\rho}+\\sum_{j=0}^{\\infty}\\rho^{j}\\Big(\\Delta d_{t+j+1}-r_{t+j+1}\\Big)$$\n",
    "\n",
    "The approximation error accumulates to maximally:"
   ]
  },
  {
   "cell_type": "code",
   "execution_count": 155,
   "metadata": {},
   "outputs": [
    {
     "data": {
      "text/plain": [
       "0.0019180810608145154"
      ]
     },
     "execution_count": 155,
     "metadata": {},
     "output_type": "execute_result"
    }
   ],
   "source": [
    "1/(1-ρ)*0.0011"
   ]
  },
  {
   "cell_type": "code",
   "execution_count": 156,
   "metadata": {
    "scrolled": true
   },
   "outputs": [
    {
     "data": {
      "text/plain": [
       "Summary Stats:\n",
       "Mean:           3.429117\n",
       "Minimum:        2.548652\n",
       "1st Quartile:   3.103161\n",
       "Median:         3.405137\n",
       "3rd Quartile:   3.715336\n",
       "Maximum:        4.509730\n"
      ]
     },
     "execution_count": 156,
     "metadata": {},
     "output_type": "execute_result"
    }
   ],
   "source": [
    "summarystats(yearly_data[:cash_logPD])"
   ]
  },
  {
   "cell_type": "markdown",
   "metadata": {},
   "source": [
    "Given that the mean log price dividend ratio is around 3.4, this error is acceptable."
   ]
  },
  {
   "cell_type": "markdown",
   "metadata": {},
   "source": [
    "### (f)"
   ]
  },
  {
   "cell_type": "code",
   "execution_count": 157,
   "metadata": {},
   "outputs": [
    {
     "data": {
      "text/plain": [
       "DataFrames.DataFrameRegressionModel{GLM.LinearModel{GLM.LmResp{Array{Float64,1}},GLM.DensePredChol{Float64,Base.LinAlg.Cholesky{Float64,Array{Float64,2}}}},Array{Float64,2}}\n",
       "\n",
       "Formula: cash_logPD ~ 1 + lagged_cash_logPD\n",
       "\n",
       "Coefficients:\n",
       "                   Estimate Std.Error t value Pr(>|t|)\n",
       "(Intercept)         0.24459  0.150002 1.63058   0.1075\n",
       "lagged_cash_logPD  0.931486 0.0434682 21.4292   <1e-31\n"
      ]
     },
     "execution_count": 157,
     "metadata": {},
     "output_type": "execute_result"
    }
   ],
   "source": [
    "model_pd = lm(@formula(cash_logPD ~ lagged_cash_logPD), data_prep)"
   ]
  },
  {
   "cell_type": "markdown",
   "metadata": {},
   "source": [
    "$$\\mathbb{V}\\Big[pd_t\\Big]=\\mathbb{C}\\Big[\\sum_{s=1}^\\infty \\rho^{s-1} \\mathbb{E}_t\\big[\\Delta d_{t+s}\\big], pd_t\\Big] + \\mathbb{C}\\Big[-\\sum_{s=0}^\\infty \\rho^{s-1} \\mathbb{E}_t\\big[r_{t+s}\\big], pd_t\\Big]$$\n",
    "\n",
    "$$1=\\frac{\\mathbb{C}\\Big[\\sum_{s=1}^\\infty \\rho^{s-1} \\mathbb{E}_t\\big[\\Delta d_{t+s}\\big], pd_t\\Big]}{\\mathbb{V}\\Big[pd_t\\Big]} + \\frac{\\mathbb{C}\\Big[-\\sum_{s=0}^\\infty \\rho^{s-1} \\mathbb{E}_t\\big[r_{t+s}\\big], pd_t\\Big]}{\\mathbb{V}\\Big[pd_t\\Big]}$$\n",
    "\n",
    "The first term on the right-hand-side is (mind that all constants in the first argument of the covariance disappear):\n",
    "\n",
    "$$\\frac{\\sum_{s=1}^{\\infty}\\rho^{s-1}\\mathbb{C}\\Big[\\mathbb{E}_{t}\\big[\\Delta d_{t+s}\\big],pd_{t}\\Big]}{\\mathbb{V}\\Big[pd_{t}\\Big]}=\\frac{\\sum_{s=1}^{\\infty}\\rho^{s-1}\\mathbb{C}\\Big[a_{d}+b_{d}\\mathbb{E}_{t}\\big[pd_{t+s-1}\\big],pd_{t}\\Big]}{\\mathbb{V}\\Big[pd_{t}\\Big]}=\\frac{b_{d}\\sum_{s=0}^{\\infty}\\big(\\rho\\phi\\big)^{s}\\mathbb{V}\\Big[pd_{t}\\Big]}{\\mathbb{V}\\Big[pd_{t}\\Big]}=b_{d}\\frac{1}{1-\\rho\\phi} $$"
   ]
  },
  {
   "cell_type": "code",
   "execution_count": 158,
   "metadata": {},
   "outputs": [
    {
     "data": {
      "text/plain": [
       "-0.40597717209627926"
      ]
     },
     "execution_count": 158,
     "metadata": {},
     "output_type": "execute_result"
    }
   ],
   "source": [
    "ρ = 1\n",
    "coef(model_d)[2] / (1 - coef(model_pd)[2]*ρ)"
   ]
  },
  {
   "cell_type": "code",
   "execution_count": null,
   "metadata": {},
   "outputs": [],
   "source": []
  }
 ],
 "metadata": {
  "kernelspec": {
   "display_name": "Julia 0.6.2",
   "language": "julia",
   "name": "julia-0.6"
  },
  "language_info": {
   "file_extension": ".jl",
   "mimetype": "application/julia",
   "name": "julia",
   "version": "0.6.2"
  }
 },
 "nbformat": 4,
 "nbformat_minor": 2
}
