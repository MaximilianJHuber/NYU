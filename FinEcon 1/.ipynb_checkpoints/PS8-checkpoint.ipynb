{
 "cells": [
  {
   "cell_type": "markdown",
   "metadata": {},
   "source": [
    "# Financial Economics PS 8\n",
    "## Maximilian Huber\n",
    "This code is stored at https://github.com/MaximilianJHuber/NYU/blob/master/FinEcon%201/PS8.ipynb\n",
    "\n",
    "## 5\n"
   ]
  },
  {
   "cell_type": "code",
   "execution_count": 19,
   "metadata": {},
   "outputs": [
    {
     "name": "stdout",
     "output_type": "stream",
     "text": [
      "API key loaded.\n"
     ]
    }
   ],
   "source": [
    "using FredData\n",
    "using Plots; pyplot();\n",
    "f = Fred();"
   ]
  },
  {
   "cell_type": "code",
   "execution_count": 13,
   "metadata": {},
   "outputs": [],
   "source": [
    "recessions = get_data(f, \"USREC\", observation_start=\"1947-01-01\", frequency = \"q\");"
   ]
  },
  {
   "cell_type": "code",
   "execution_count": 14,
   "metadata": {},
   "outputs": [],
   "source": [
    "GDP = get_data(f, \"GDPC1\", observation_start=\"1947-01-01\", frequency = \"q\");"
   ]
  },
  {
   "cell_type": "markdown",
   "metadata": {},
   "source": [
    "### 5.1"
   ]
  },
  {
   "cell_type": "code",
   "execution_count": 33,
   "metadata": {},
   "outputs": [
    {
     "data": {
      "text/plain": [
       "2×2 Array{Float64,2}:\n",
       " 0.954167  0.0458333\n",
       " 0.261905  0.738095 "
      ]
     },
     "execution_count": 33,
     "metadata": {},
     "output_type": "execute_result"
    }
   ],
   "source": [
    "P = [sum((recessions.df[:value][2:end] .== sprime) .* (recessions.df[:value][1:end-1] .== s)) \n",
    "    for s in [0., 1.], sprime in [0., 1.]]\n",
    "\n",
    "P = P ./ sum(P,2)"
   ]
  },
  {
   "cell_type": "code",
   "execution_count": 39,
   "metadata": {},
   "outputs": [
    {
     "data": {
      "text/plain": [
       "2×2 Array{Float64,2}:\n",
       " -0.0547774   0.0547774\n",
       "  0.313014   -0.313014 "
      ]
     },
     "execution_count": 39,
     "metadata": {},
     "output_type": "execute_result"
    }
   ],
   "source": [
    "A = convert(Array{Float64, 2}, logm(P))"
   ]
  },
  {
   "cell_type": "markdown",
   "metadata": {},
   "source": [
    "### 5.2"
   ]
  },
  {
   "cell_type": "code",
   "execution_count": 57,
   "metadata": {},
   "outputs": [
    {
     "data": {
      "text/html": [
       "<img src=\"data:image/png;base64,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\" />"
      ]
     },
     "execution_count": 57,
     "metadata": {},
     "output_type": "execute_result"
    }
   ],
   "source": [
    "growth = diff(log.(GDP.df[:value]))\n",
    "histogram(growth, label=\"GDP Growth\")"
   ]
  },
  {
   "cell_type": "code",
   "execution_count": 241,
   "metadata": {},
   "outputs": [
    {
     "data": {
      "text/plain": [
       "([1.0, 0.692262], [0.98503 -0.707107; 0.17238 0.707107])"
      ]
     },
     "execution_count": 241,
     "metadata": {},
     "output_type": "execute_result"
    }
   ],
   "source": [
    "(D, V) = eig(P')"
   ]
  },
  {
   "cell_type": "code",
   "execution_count": 244,
   "metadata": {},
   "outputs": [
    {
     "data": {
      "text/plain": [
       "2-element Array{Float64,1}:\n",
       " 0.851064\n",
       " 0.148936"
      ]
     },
     "execution_count": 244,
     "metadata": {},
     "output_type": "execute_result"
    }
   ],
   "source": [
    "π = V[:, 1] / sum(V[:, 1])"
   ]
  },
  {
   "cell_type": "markdown",
   "metadata": {},
   "source": [
    "$$\\pi \\cdot \\kappa = \\hat{\\text{g}}$$"
   ]
  },
  {
   "cell_type": "code",
   "execution_count": 246,
   "metadata": {},
   "outputs": [
    {
     "data": {
      "text/plain": [
       "(0.00997214258465658, -0.005)"
      ]
     },
     "execution_count": 246,
     "metadata": {},
     "output_type": "execute_result"
    }
   ],
   "source": [
    "κ2 = -0.005\n",
    "κ1 = (mean(growth) - π[2] * κ2) / π[1]\n",
    "(κ1, κ2)"
   ]
  },
  {
   "cell_type": "code",
   "execution_count": null,
   "metadata": {},
   "outputs": [],
   "source": []
  }
 ],
 "metadata": {
  "kernelspec": {
   "display_name": "Julia 0.6.0",
   "language": "julia",
   "name": "julia-0.6"
  },
  "language_info": {
   "file_extension": ".jl",
   "mimetype": "application/julia",
   "name": "julia",
   "version": "0.6.0"
  }
 },
 "nbformat": 4,
 "nbformat_minor": 2
}
