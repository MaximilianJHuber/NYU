{
 "cells": [
  {
   "cell_type": "markdown",
   "metadata": {},
   "source": [
    "# Financial Economics PS 6\n",
    "## Maximilian Huber\n",
    "This code is stored at https://github.com/MaximilianJHuber/NYU/blob/master/FinEcon%201/PS6.ipynb\n",
    "\n",
    "## 2\n",
    "We solve the PDE\n",
    "$$0=-r\\,g(Q,t) + g_t(Q,t) + g_Q(Q,t)\\,r\\,Q + \\frac{1}{2}g_{QQ}(Q,t)\\,\\sigma^2\\,Q^2$$\n",
    "\n",
    "by replacing the derivatives with finite differences on a grid $i, j \\in [Q_0, Q_I] \\times [t_0,t_J]$. Using forward differentiation in the time direction is particularily convenient, because the resulting linear system of equations is small."
   ]
  },
  {
   "cell_type": "code",
   "execution_count": 8,
   "metadata": {},
   "outputs": [
    {
     "data": {
      "text/plain": [
       "call (generic function with 1 method)"
      ]
     },
     "execution_count": 8,
     "metadata": {},
     "output_type": "execute_result"
    }
   ],
   "source": [
    "using Parameters\n",
    "using Plots; pyplot()\n",
    "\n",
    "@with_kw mutable struct BS\n",
    "    T            # t ∈ [0, T]\n",
    "    J            # t ∈ [t0, tJ]\n",
    "    Δt           # step size\n",
    "    Tgrid        # J + 1 grid\n",
    "\n",
    "    Q0           # lower bound\n",
    "    QI           # upper bound\n",
    "    I            # Q ∈ [Q0, QI]\n",
    "    Qgrid        # I + 1 grid\n",
    "\n",
    "    σ\n",
    "    r\n",
    "    K\n",
    "end\n",
    "\n",
    "function BS(; T = 1., J = 500, Q0 = 50, QI = 150, I = 1000, σ = 0.16, r = 0.01, K = 100.)\n",
    "    BS(T, J, T/J, linspace(0,T,J+1), Q0, QI, I, exp.(linspace(log(Q0), log(QI), I+1)), σ, r, K)\n",
    "end\n",
    "\n",
    "function call(q, model::BS)\n",
    "    max(q - BS.K, 0)\n",
    "end"
   ]
  },
  {
   "cell_type": "markdown",
   "metadata": {},
   "source": [
    "Let me try backward $g_Q$ and forward $g_{QQ}$:\n",
    "\n",
    "$$0=-r\\,g(i,j) + \\frac{g(i,j+1) - g(i,j)}{\\Delta t} + \\frac{g(i,j)-g(i-1,j)}{Q_{i}-Q_{i-1}}\\,r\\,Q_i + \\frac{1}{2}\\frac{1}{Q_{i+1}-Q_i}\\Big[\\frac{g(i+1,j)-g(i,j)}{Q_{i+1}-Q_i} - \\frac{g(i,j)-g(i-1,j)}{Q_{i}-Q_{i-1}}\\Big]\\,\\sigma^2\\,Q_i^2$$\n",
    "\n",
    "For interior $i$:\n",
    "\n",
    "$$g(i,j)\\Big(r + \\frac{1}{\\Delta t} - \\frac{r\\,Q_i}{Q_{i}-Q_{i-1}} + \\frac{1}{2}\\frac{1}{Q_{i+1}-Q_i}\\frac{\\sigma^2\\,Q_i^2}{Q_{i+1}-Q_i} + \\frac{1}{2}\\frac{1}{Q_{i+1}-Q_i}\\frac{\\sigma^2\\,Q_i^2}{Q_{i}-Q_{i-1}}\\Big) + g(i-1,j)\\Big(\\frac{1}{Q_{i}-Q_{i-1}}\\,r\\,Q_i - \\frac{1}{2}\\frac{1}{Q_{i+1}-Q_i}\\frac{\\sigma^2\\,Q_i^2}{Q_{i}-Q_{i-1}}\\Big) + g(i+1,j)\\frac{-1}{2}\\frac{1}{Q_{i+1}-Q_i}\\frac{\\sigma^2\\,Q_i^2}{Q_{i+1}-Q_i} = \\frac{g(i,j+1)}{\\Delta t}$$\n",
    "\n",
    "and for $i=0$ we must do forward differences and replace $g_{QQ}(0,j)$ with $g_{QQ}(1,j)$:\n",
    "\n",
    "$$g(0,j)\\Big(r + \\frac{1}{\\Delta t} + \\frac{r\\,Q_0}{Q_{1}-Q_{0}} - \\frac{1}{2}\\frac{1}{Q_2-Q_1}\\frac{\\sigma^2\\,Q_1^2}{Q_1-Q_0}\\Big) + g(1,j)\\Big(\\frac{- r\\,Q_0}{Q_{1}-Q_{0}} + \\frac{1}{2}\\frac{1}{Q_2-Q_1}\\frac{\\sigma^2\\,Q_1^2}{Q_2-Q_1} + \\frac{1}{2}\\frac{1}{Q_2-Q_1}\\frac{\\sigma^2\\,Q_1^2}{Q_1-Q_0}\\Big) + g(2,j)\\frac{-1}{2}\\frac{1}{Q_2-Q_1}\\frac{\\sigma^2\\,Q_1^2}{Q_2-Q_1}= \\frac{g(0,j+1)}{\\Delta t}$$\n",
    "\n",
    "and for $i=I$ we replace $g_{QQ}(I,j)$ with $g_{QQ}(I-1,j)$:\n",
    "\n",
    "$$g(I,j)\\Big(r + \\frac{1}{\\Delta t} - \\frac{r\\,Q_I}{Q_{I}-Q_{I-1}} - \\frac{1}{2}\\frac{1}{Q_{I}-Q_{I-1}}\\frac{\\sigma^2\\,Q_{I-1}^2}{Q_{I}-Q_{I-1}}\\Big) + g(I-1,j)\\Big(\\frac{r\\,Q_I}{Q_{I}-Q_{I-1}} + \\frac{1}{2}\\frac{1}{Q_{I}-Q_{I-1}}\\frac{\\sigma^2\\,Q_{I-1}^2}{Q_{I}-Q_{I-1}} + \\frac{1}{2}\\frac{1}{Q_{I}-Q_{I-1}}\\frac{\\sigma^2\\,Q_{I-1}^2}{Q_{I-1}-Q_{I-2}}\\Big) + g(I-2,j)\\frac{-1}{2}\\frac{1}{Q_{I}-Q_{I-1}}\\frac{\\sigma^2\\,Q_{I-1}^2}{Q_{I-1}-Q_{I-2}}\\sigma^2\\,Q_{I-1}^2 = \\frac{g(I,j+1)}{\\Delta t}$$"
   ]
  },
  {
   "cell_type": "code",
   "execution_count": 9,
   "metadata": {},
   "outputs": [],
   "source": [
    "G = call\n",
    "model = BS();"
   ]
  },
  {
   "cell_type": "code",
   "execution_count": 11,
   "metadata": {},
   "outputs": [],
   "source": [
    "@unpack T, J, Δt, Tgrid, Q0, QI, I, Qgrid, σ, r, K = model\n",
    "g = zeros(length(Qgrid), length(Tgrid));"
   ]
  },
  {
   "cell_type": "code",
   "execution_count": null,
   "metadata": {},
   "outputs": [],
   "source": []
  }
 ],
 "metadata": {
  "kernelspec": {
   "display_name": "Julia 0.6.0",
   "language": "julia",
   "name": "julia-0.6"
  },
  "language_info": {
   "file_extension": ".jl",
   "mimetype": "application/julia",
   "name": "julia",
   "version": "0.6.0"
  }
 },
 "nbformat": 4,
 "nbformat_minor": 2
}
