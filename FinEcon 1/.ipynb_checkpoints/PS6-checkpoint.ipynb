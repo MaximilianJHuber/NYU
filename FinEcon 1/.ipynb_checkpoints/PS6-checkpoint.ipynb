{
 "cells": [
  {
   "cell_type": "markdown",
   "metadata": {},
   "source": [
    "# Financial Economics PS 6\n",
    "## Maximilian Huber\n",
    "This code is stored at https://github.com/MaximilianJHuber/NYU/blob/master/FinEcon%201/PS6.ipynb\n",
    "\n",
    "## 2\n",
    "We solve the PDE\n",
    "$$0=-r\\,g(Q,t) + g_t(Q,t) + g_Q(Q,t)\\,r\\,Q + \\frac{1}{2}g_{QQ}(Q,t)\\,\\sigma^2\\,Q^2$$\n",
    "\n",
    "by replacing the derivatives with finite differences on a grid $i, j \\in [Q_0, Q_I] \\times [t_0,t_J]$. Using forward differentiation in the time direction is particularily convenient, because the resulting linear system of equations is small."
   ]
  },
  {
   "cell_type": "code",
   "execution_count": 25,
   "metadata": {},
   "outputs": [
    {
     "data": {
      "text/plain": [
       "call (generic function with 1 method)"
      ]
     },
     "execution_count": 25,
     "metadata": {},
     "output_type": "execute_result"
    }
   ],
   "source": [
    "using Parameters\n",
    "using Plots; pyplot()\n",
    "\n",
    "@with_kw mutable struct BS\n",
    "    T            # t ∈ [0, T]\n",
    "    J            # t ∈ [t0, tJ]\n",
    "    Δt           # step size\n",
    "    Tgrid        # J + 1 grid\n",
    "\n",
    "    Q0           # lower bound\n",
    "    QI           # upper bound\n",
    "    I            # Q ∈ [Q0, QI]\n",
    "    Qgrid        # I + 1 grid\n",
    "\n",
    "    σ\n",
    "    r\n",
    "    K\n",
    "end\n",
    "\n",
    "function BS(; T = 1., J = 500, Q0 = 50, QI = 150, I = 500, σ = 0.16, r = 0.01, K = 100.)\n",
    "    BS(T, J, T/J, linspace(0,T,J+1), Q0, QI, I, exp.(linspace(log(Q0), log(QI), I+1)), σ, r, K)\n",
    "end\n",
    "\n",
    "function call(model::BS, Q)\n",
    "    max.(Q .- model.K, 0)\n",
    "end"
   ]
  },
  {
   "cell_type": "markdown",
   "metadata": {},
   "source": [
    "The general scheme is FTBS, forward time backward space:\n",
    "\n",
    "$$0=-r\\,g(i,j) + \\frac{g(i,j+1) - g(i,j)}{\\Delta t} + \\frac{g(i,j)-g(i-1,j)}{Q_{i}-Q_{i-1}}\\,r\\,Q_i + \\frac{1}{2}\\frac{1}{Q_{i+1}-Q_i}\\Big[\\frac{g(i+1,j)-g(i,j)}{Q_{i+1}-Q_i} - \\frac{g(i,j)-g(i-1,j)}{Q_{i}-Q_{i-1}}\\Big]\\,\\sigma^2\\,Q_i^2$$\n",
    "\n",
    "For interior $i$:\n",
    "\n",
    "$$g(i,j)\\Big(r + \\frac{1}{\\Delta t} - \\frac{r\\,Q_i}{Q_{i}-Q_{i-1}} + \\frac{1}{2}\\frac{1}{Q_{i+1}-Q_i}\\frac{\\sigma^2\\,Q_i^2}{Q_{i+1}-Q_i} + \\frac{1}{2}\\frac{1}{Q_{i+1}-Q_i}\\frac{\\sigma^2\\,Q_i^2}{Q_{i}-Q_{i-1}}\\Big) + g(i-1,j)\\Big(\\frac{r\\,Q_i}{Q_{i}-Q_{i-1}} - \\frac{1}{2}\\frac{1}{Q_{i+1}-Q_i}\\frac{\\sigma^2\\,Q_i^2}{Q_{i}-Q_{i-1}}\\Big) + g(i+1,j)\\frac{-1}{2}\\frac{1}{Q_{i+1}-Q_i}\\frac{\\sigma^2\\,Q_i^2}{Q_{i+1}-Q_i} = \\frac{g(i,j+1)}{\\Delta t}$$\n",
    "\n",
    "and for $i=0$ we must do forward differences and replace $g_{QQ}(0,j)$ with $g_{QQ}(1,j)$:\n",
    "\n",
    "$$g(0,j)\\Big(r + \\frac{1}{\\Delta t} + \\frac{r\\,Q_0}{Q_{1}-Q_{0}} - \\frac{1}{2}\\frac{1}{Q_2-Q_1}\\frac{\\sigma^2\\,Q_0^2}{Q_1-Q_0}\\Big) + g(1,j)\\Big(\\frac{- r\\,Q_0}{Q_{1}-Q_{0}} + \\frac{1}{2}\\frac{1}{Q_2-Q_1}\\frac{\\sigma^2\\,Q_0^2}{Q_2-Q_1} + \\frac{1}{2}\\frac{1}{Q_2-Q_1}\\frac{\\sigma^2\\,Q_0^2}{Q_1-Q_0}\\Big) + g(2,j)\\frac{-1}{2}\\frac{1}{Q_2-Q_1}\\frac{\\sigma^2\\,Q_0^2}{Q_2-Q_1}= \\frac{g(0,j+1)}{\\Delta t}$$\n",
    "\n",
    "and for $i=I$ we replace $g_{QQ}(I,j)$ with $g_{QQ}(I-1,j)$:\n",
    "\n",
    "$$g(I,j)\\Big(r + \\frac{1}{\\Delta t} - \\frac{r\\,Q_I}{Q_{I}-Q_{I-1}} - \\frac{1}{2}\\frac{1}{Q_{I}-Q_{I-1}}\\frac{\\sigma^2\\,Q_{I}^2}{Q_{I}-Q_{I-1}}\\Big) + g(I-1,j)\\Big(\\frac{r\\,Q_I}{Q_{I}-Q_{I-1}} + \\frac{1}{2}\\frac{1}{Q_{I}-Q_{I-1}}\\frac{\\sigma^2\\,Q_{I}^2}{Q_{I}-Q_{I-1}} + \\frac{1}{2}\\frac{1}{Q_{I}-Q_{I-1}}\\frac{\\sigma^2\\,Q_{I}^2}{Q_{I-1}-Q_{I-2}}\\Big) + g(I-2,j)\\frac{-1}{2}\\frac{1}{Q_{I}-Q_{I-1}}\\frac{\\sigma^2\\,Q_{I}^2}{Q_{I-1}-Q_{I-2}} = \\frac{g(I,j+1)}{\\Delta t}$$"
   ]
  },
  {
   "cell_type": "code",
   "execution_count": 26,
   "metadata": {},
   "outputs": [],
   "source": [
    "G = call\n",
    "model = BS();"
   ]
  },
  {
   "cell_type": "code",
   "execution_count": 27,
   "metadata": {},
   "outputs": [
    {
     "data": {
      "text/plain": [
       "solve_BS_FTBS (generic function with 1 method)"
      ]
     },
     "execution_count": 27,
     "metadata": {},
     "output_type": "execute_result"
    }
   ],
   "source": [
    "function solve_BS_FTBS(model::BS, G)\n",
    "    @unpack T, J, Δt, Tgrid, Q0, QI, I, Qgrid, σ, r, K = model\n",
    "    g = zeros(I+1, J+1)\n",
    "    g[:, J+1] = G(model, Qgrid)\n",
    "    \n",
    "    for j in J:-1:1\n",
    "        A = spzeros(I+1, I+1)\n",
    "\n",
    "        A[1, 1:3] = [r + 1/Δt + (r * Qgrid[1])/(Qgrid[2] - Qgrid[1]) - \n",
    "                    1/2 * 1 / (Qgrid[3] - Qgrid[2]) * (σ^2 * Qgrid[1]^2) / (Qgrid[2] - Qgrid[1]), \n",
    "                    (-r * Qgrid[1]) / (Qgrid[2] - Qgrid[1]) + 1/2 * (σ^2 * Qgrid[1]^2) / (Qgrid[3] - Qgrid[2])^2 + \n",
    "                    1/2 * 1 / (Qgrid[3] - Qgrid[2]) * (σ^2 * Qgrid[1]^2) / (Qgrid[2] - Qgrid[1]),\n",
    "                    -1/2 * 1 / (Qgrid[3] - Qgrid[2]) * (σ^2 * Qgrid[1]^2) / (Qgrid[3] - Qgrid[2])]\n",
    "\n",
    "        for i = 2:I\n",
    "            A[i, (i-1):(i+1)] = [(r * Qgrid[i]) / (Qgrid[i] - Qgrid[i-1]) - \n",
    "                                1/2 * 1 / (Qgrid[i+1] - Qgrid[i]) * (σ^2 * Qgrid[i]^2) / (Qgrid[i] - Qgrid[i-1]),\n",
    "                                r + 1/Δt - (r * Qgrid[i]) / (Qgrid[i] - Qgrid[i-1]) + \n",
    "                                1/2 * (σ^2 * Qgrid[i]^2) / (Qgrid[i+1] - Qgrid[i])^2 + \n",
    "                                1/2 * 1 / (Qgrid[i+1] - Qgrid[i]) * (σ^2 * Qgrid[i]^2) / (Qgrid[i] - Qgrid[i-1]),\n",
    "                                -1/2 * 1 / (Qgrid[i+1] - Qgrid[i]) * (σ^2 * Qgrid[i]^2) / (Qgrid[i+1] - Qgrid[i])]\n",
    "        end\n",
    "\n",
    "        A[I+1, (I-1):(I+1)] = [-1/2 * 1 / (Qgrid[I+1] - Qgrid[I]) * (σ^2 * Qgrid[I+1]^2) / (Qgrid[I] - Qgrid[I-1]),\n",
    "                              (r * Qgrid[I+1]) / (Qgrid[I+1] - Qgrid[I]) + \n",
    "                              1/2 * 1 / (Qgrid[I+1] - Qgrid[I]) * (r * Qgrid[I+1]^2) / (Qgrid[I+1] - Qgrid[I]) + \n",
    "                              1/2 * 1 / (Qgrid[I+1] - Qgrid[I]) * (r * Qgrid[I+1]^2) / (Qgrid[I] - Qgrid[I-1]),\n",
    "                              r + 1/Δt - (r * Qgrid[I+1]) / (Qgrid[I+1] - Qgrid[I]) - \n",
    "                              1/2 * 1 / (Qgrid[I+1] - Qgrid[I]) * (σ^2 * Qgrid[I+1]^2) / (Qgrid[I+1] - Qgrid[I])]\n",
    "\n",
    "        g[:, j] = A \\ g[:, j+1]\n",
    "    end\n",
    "    \n",
    "    return g[:,1]\n",
    "end"
   ]
  },
  {
   "cell_type": "code",
   "execution_count": 28,
   "metadata": {},
   "outputs": [
    {
     "data": {
      "text/html": [
       "<img src=\"data:image/png;base64,iVBORw0KGgoAAAANSUhEUgAAAlgAAAGQCAYAAAByNR6YAAAABHNCSVQICAgIfAhkiAAAAAlwSFlzAAAPYQAAD2EBqD+naQAAGy5JREFUeJzt3X9sneV99/GPE4P50TjBJCEhtsmC4y00a0IgVRYYP8VAVRumhlWdlm1GCglsCG35oxS0bkTqSDRVTNXWNWFi0VAG67MkQ9HaqSujYtAJNZkorKEVcZ4YmxLInjn1KeowMbmfP1jP6oaEAVdi+/j1kizlPlzH57K/3Mlb9zk+bqqqqkqSu+66K7t3785LL72UZ599NkuXLs07eeihh7J58+YcO3Ys1113Xf7iL/4iZ5xxxjuuBQCYjKb85A+33HJLnn766Vx00UUnXHzw4MF87nOfy1NPPZXe3t689tprefDBB0/LRgEAJop6YF111VVpb28/6eIdO3Zk1apVmTNnTpqamnL77bfn0UcfPeWbBACYSJrfy+L+/v5RV7jmz5+f/v7+E64fHh7O8PBw/biqqrz55puZOXNmmpqa3sd2AQDGv/cUWO/Vpk2bsnHjxuNuP3jwYFpbW0/lQ4+pWq3W0F/fZGCGjcEcG4M5TnyTYYZtbW2jjt9TYHV2dubAgQP1476+vnR2dp5w/T333JMNGzbUj2u1Wjo6OtLW1jbpvtFMPGbYGMyxMZjjxDfZZjjl3Zf8j9WrV2f37t159dVXU1VVtmzZkk9/+tMnXN/S0pLW1tZRHwAAja4eWOvXr097e3tefvnl3Hjjjenq6kqSrF27Nrt3706SLFiwIBs3bswVV1yRrq6uzJo1K+vXrx+bnQMAjFNNP3kfrNOhVqtl+vTpGRoaauirWYODg5PuUmijMcPGYI6NwRwnvsk4w1P6IncAYHJ7/fXX09vbO+EvrEyZMiUzZszIzJkzM2XKu7/CSmABAKfEM888kw0bNuSNN974X0XJRHDZZZflD//wDzNv3ryTrhNYAEBxr7/+ejZs2JDLL788t956a84+++yx3tIH8tZbb+Xll1/Ol770pfz6r/96Hn/88Zx55pknXC+wAIDiXnnllbz55pu57bbbsmjRojQ3T/zk+PCHP5wLLrgga9euTX9/f/0HAt9JY1yvAwDGlWPHjiVJzjjjjDHeSVlnnXVWkmRkZOSk6wQWADCp9fX15Zprrsn06dOzdOnSIp9TYAEAk1pra2s+//nP55FHHin2OQUWADApfOELX8i6devqxz/84Q8zc+bMJMmVV16Zc889t9hjCSwAYFJYu3ZtHnvssfzwhz9Mkmzbti0333zzKXkT1In/kn4AYEL4v7UqP3zz1HzuGWcmC1qbTr5mxozccsst+au/+qv8/u//fr785S/nK1/5yinZj8ACAE65//dGlYX/ZyTHTtEv6JvalLy6pjkzzzp5ZN11111ZtWpVFi1alFmzZuXSSy89JfsRWADAKTfzrKbs/1TzKb2C9W5xlSS/8Au/kAULFmTdunX5kz/5k1OzmQgsAOA0eben8E6X2267LXfeeWduueWWJMmPf/zjdHd3Z3h4OENDQ2lvb89v/uZvZtOmTe/7MQQWADCpfPOb38zv/M7v1N8E9ZxzzsnLL79c9DEEFgAwKbzyyiu57rrr0tbWlq9//eun9LEEFgAwKVx44YX5/ve/f1oey/tgAQAUJrAAAAoTWABAcVOmvJ0YR48eHeOdlPXGG28kSZqbT/4qK6/BAgCKu/DCC3PmmWfmL//yL3Prrbfm7LPPHustfSBvvfVWXn755fz5n/95zjnnnHR2dp50vcACAIr70Ic+lAceeCAbNmzI008/Xb+iNdFddtll2bJlS84888yTrhNYAMApsWLFivzTP/1TXnjhhbS2to71dj6QKVOm5Lzzzsv555//v4pFgQUAnDIf+tCH0tXVlba2trHeymnVGNfrAADGEYEFAFCYwAIAKExgAQAUJrAAAAoTWAAAhQksAIDCBBYAQGECCwCgMIEFAFCYwAIAKExgAQAUJrAAAAoTWAAAhQksAIDCBBYAQGECCwCgMIEFAFCYwAIAKExgAQAUJrAAAAoTWAAAhQksAIDCBBYAQGECCwCgMIEFAFCYwAIAKExgAQAUJrAAAAoTWAAAhQksAIDCBBYAQGECCwCgMIEFAFCYwAIAKExgAQAUJrAAAAoTWAAAhQksAIDCBBYAQGECCwCgMIEFAFCYwAIAKExgAQAUVg+s/fv3Z+XKlenu7s7y5cuzb9++4xYfO3YsGzZsyCWXXJKPfOQjufbaa9Pb23taNwwAMN7VA2v9+vVZt25dXnzxxdx9993p6ek5bvHu3bvzrW99K88991yef/75XH/99bn33ntP534BAMa9KUly+PDh7N27N2vWrEmSrF69OgMDA8ddnWpqasrw8HDeeOONVFWVWq2W9vb2079rAIBxrDlJBgYGMnfu3DQ3Nyd5O6Q6OzvT39+frq6u+uJPfOIT+eY3v5k5c+Zk2rRpmTdvXp588skTfvLh4eEMDw/Xj2u12qn6OgAAxo3m97J47969+e53v5sf/OAHaW1tzWc/+9ncfvvt2b59+zuu37RpUzZu3Hjc7YODgxkZGXl/O54Ajhw5MtZb4AMyw8Zgjo3BHCe+yTDDtra2UcfNSdLR0ZFDhw5lZGQkzc3Nqaoq/f396ezsHLX44YcfznXXXZcZM2YkSX77t387v/Irv3LCB7vnnnuyYcOG+nGtVktHR0fa2trS2tpa7Isaj372G83EY4aNwRwbgzlOfJNthlOSZPbs2Vm2bFn9StTOnTvT3t4+6unBJFmwYEGeeOKJvPnmm0mSf/iHf8jixYtP+MlbWlrS2to66gMAoNHVnyLcunVrenp6cv/996e1tTXbtm1LkqxduzarVq3KqlWr8ru/+7v53ve+lyVLluSMM87InDlzsmXLljHbPADAeNRUVVV1uh6sVqtl+vTpGRoaauirWYODg5PuUmijMcPGYI6NwRwnvsk4Q+/kDgBQmMACAChMYAEAFCawAAAKE1gAAIUJLACAwgQWAEBhAgsAoDCBBQBQmMACAChMYAEAFCawAAAKE1gAAIUJLACAwgQWAEBhAgsAoDCBBQBQmMACAChMYAEAFCawAAAKE1gAAIUJLACAwgQWAEBhAgsAoDCBBQBQmMACAChMYAEAFCawAAAKE1gAAIUJLACAwgQWAEBhAgsAoDCBBQBQmMACAChMYAEAFCawAAAKE1gAAIUJLACAwgQWAEBhAgsAoDCBBQBQmMACAChMYAEAFCawAAAKE1gAAIUJLACAwgQWAEBhAgsAoDCBBQBQmMACAChMYAEAFCawAAAKE1gAAIUJLACAwgQWAEBhAgsAoDCBBQBQmMACAChMYAEAFCawAAAKE1gAAIUJLACAwgQWAEBhAgsAoDCBBQBQmMACACisHlj79+/PypUr093dneXLl2ffvn3veId///d/zzXXXJNFixZl0aJF2bVr12nbLADARND8kz+sX78+69atS09PT3bs2JGenp7s2bNn1OIf//jHufnmm/Pwww/nyiuvzFtvvZXBwcHTvmkAgPFsSpIcPnw4e/fuzZo1a5Ikq1evzsDAQHp7e0ctfuSRR7JixYpceeWVSZKpU6dm1qxZp3nLAADj25QkGRgYyNy5c9Pc/PYFraampnR2dqa/v3/U4hdeeCEtLS35+Mc/nqVLl+a3fuu38h//8R8n/OTDw8Op1WqjPgAAGl3zuy/5HyMjI3n88cfzzDPP5MILL8y9996bO+64Izt27HjH9Zs2bcrGjRuPu31wcDAjIyPvb8cTwJEjR8Z6C3xAZtgYzLExmOPENxlm2NbWNuq4OUk6Ojpy6NChjIyMpLm5OVVVpb+/P52dnaMWd3Z25tprr828efOSJGvWrMmNN954wge75557smHDhvpxrVZLR0dH2tra0traWuyLGo9+9hvNxGOGjcEcG4M5TnyTbYZTkmT27NlZtmxZtm/fniTZuXNn2tvb09XVNWrxpz71qezZs6f+VN/Xvva1LFmy5ISfvKWlJa2traM+AAAaXf0pwq1bt6anpyf3339/Wltbs23btiTJ2rVrs2rVqqxatSqdnZ259957s3LlykyZMiXz5s3Lgw8+OGabBwAYj5qqqqpO14PVarVMnz49Q0NDDX01a3BwcNJdCm00ZtgYzLExmOPENxln6J3cAQAKE1gAAIUJLACAwgQWAEBhAgsAoDCBBQBQmMACAChMYAEAFCawAAAKE1gAAIUJLACAwgQWAEBhAgsAoDCBBQBQmMACAChMYAEAFCawAAAKE1gAAIUJLACAwgQWAEBhAgsAoDCBBQBQmMACAChMYAEAFCawAAAKE1gAAIUJLACAwgQWAEBhAgsAoDCBBQBQmMACAChMYAEAFCawAAAKE1gAAIUJLACAwgQWAEBhAgsAoDCBBQBQmMACAChMYAEAFCawAAAKE1gAAIUJLACAwgQWAEBhAgsAoDCBBQBQmMACAChMYAEAFCawAAAKE1gAAIUJLACAwgQWAEBhAgsAoDCBBQBQmMACAChMYAEAFCawAAAKE1gAAIUJLACAwgQWAEBhAgsAoDCBBQBQmMACAChMYAEAFCawAAAKE1gAAIXVA2v//v1ZuXJluru7s3z58uzbt++Ed6qqKtddd11mzJhxWjYJADCR1ANr/fr1WbduXV588cXcfffd6enpOeGd/vRP/zQXX3zx6dgfAMCEMyVJDh8+nL1792bNmjVJktWrV2dgYCC9vb3H3WHfvn157LHH8tnPfvb07hQAYIJoTpKBgYHMnTs3zc3NSZKmpqZ0dnamv78/XV1d9cVHjx7NbbfdloceeihTp059108+PDyc4eHh+nGtViu9fwCAcaf5vSzeuHFjPvnJT2bRokXp6+t71/WbNm3Kxo0bj7t9cHAwIyMj7+WhJ5QjR46M9Rb4gMywMZhjYzDHiW8yzLCtrW3UcVNVVdXhw4fT1dWVwcHBNDc3p6qqzJ07N08//fSoK1i//Mu/nP7+/jQ1NWVkZCSvvPJKOjs7s2fPnsyaNeu4B3unK1gdHR0ZGhpKa2vrqfsqx9jg4OBx32gmFjNsDObYGMxx4puMM2xOktmzZ2fZsmXZvn17enp6snPnzrS3t4+KqyR56qmn6n/u6+vL0qVLT3olq6WlJS0tLadm5wAA41T9pwi3bt2arVu3pru7O5s3b862bduSJGvXrs3u3bvHbIMAABNNU1VV1el6sFqtlunTp3uKkHHPDBuDOTYGc5z4JuMMvZM7AEBhAgsAoDCBBQBQmMACAChMYAEAFCawAAAKE1gAAIUJLACAwgQWAEBhAgsAoDCBBQBQmMACAChMYAEAFCawAAAKE1gAAIUJLACAwgQWAEBhAgsAoDCBBQBQmMACAChMYAEAFCawAAAKE1gAAIUJLACAwgQWAEBhAgsAoDCBBQBQmMACAChMYAEAFCawAAAKE1gAAIUJLACAwgQWAEBhAgsAoDCBBQBQmMACAChMYAEAFCawAAAKE1gAAIUJLACAwgQWAEBhAgsAoDCBBQBQmMACAChMYAEAFCawAAAKE1gAAIUJLACAwgQWAEBhAgsAoDCBBQBQmMACAChMYAEAFCawAAAKE1gAAIUJLACAwgQWAEBhAgsAoDCBBQBQmMACAChMYAEAFCawAAAKE1gAAIUJLACAwgQWAEBhAgsAoLB6YO3fvz8rV65Md3d3li9fnn379h23+IknnshHP/rRXHLJJfnwhz+cz3zmMzl27Nhp3TAAwHhXD6z169dn3bp1efHFF3P33Xenp6fnuMXnnXde/vZv/zYvvPBC/u3f/i3/+q//mocffvh07hcAYNybkiSHDx/O3r17s2bNmiTJ6tWrMzAwkN7e3lGLL7300ixYsCBJctZZZ2Xp0qXp6+s7vTsGABjnpiTJwMBA5s6dm+bm5iRJU1NTOjs709/ff8I7vvrqq9mxY0c+/vGPn3DN8PBwarXaqA8AgEbX/H7uVKvV8olPfCKf+cxncvnll59w3aZNm7Jx48bjbh8cHMzIyMj7eegJ4ciRI2O9BT4gM2wM5tgYzHHimwwzbGtrG3XcVFVVdfjw4XR1dWVwcDDNzc2pqipz587N008/na6urlF3+NGPfpQbb7wxH/vYx/IHf/AHJ32w4eHhDA8P149rtVo6OjoyNDSU1tbWcl/VODM4OHjcN5qJxQwbgzk2BnOc+CbjDKckyezZs7Ns2bJs3749SbJz5860t7cfF1evv/56brrpptx0003vGldJ0tLSktbW1lEfAACNrv5ThFu3bs3WrVvT3d2dzZs3Z9u2bUmStWvXZvfu3UmSL37xi/n2t7+dXbt2ZenSpVm6dGn++I//eGx2DgAwTjVVVVWdrger1WqZPn26pwgZ98ywMZhjYzDHiW8yztA7uQMAFCawAAAKE1gAAIUJLACAwgQWAEBhAgsAoDCBBQBQmMACAChMYAEAFCawAAAKE1gAAIUJLACAwgQWAEBhAgsAoDCBBQBQmMACAChMYAEAFCawAAAKE1gAAIUJLACAwgQWAEBhAgsAoDCBBQBQmMACAChMYAEAFCawAAAKE1gAAIUJLACAwgQWAEBhAgsAoDCBBQBQmMACAChMYAEAFCawAAAKE1gAAIUJLACAwgQWAEBhAgsAoDCBBQBQmMACAChMYAEAFCawAAAKE1gAAIUJLACAwgQWAEBhAgsAoDCBBQBQmMACAChMYAEAFCawAAAKE1gAAIUJLACAwgQWAEBhAgsAoDCBBQBQmMACAChMYAEAFCawAAAKE1gAAIUJLACAwgQWAEBhAgsAoDCBBQBQmMACAChMYAEAFCawAAAKqwfW/v37s3LlynR3d2f58uXZt2/fO97hoYceysKFC3PxxRfntttuy9GjR0/bZgEAJoJ6YK1fvz7r1q3Liy++mLvvvjs9PT3HLT548GA+97nP5amnnkpvb29ee+21PPjgg6dzvwAA496UJDl8+HD27t2bNWvWJElWr16dgYGB9Pb2jlq8Y8eOrFq1KnPmzElTU1Nuv/32PProo6d/1wAA41hzkgwMDGTu3Llpbm5OkjQ1NaWzszP9/f3p6uqqL+7v789FF11UP54/f376+/tP+MmHh4czPDxcPx4aGkqSfKtvKOdOq8p+JeNIbej1tA5NHett8AGYYWMwx8ZgjhPfZJjh0vObMm3atDQ1NSX578A6VTZt2pSNGzced/vHlnSeyocFADjthoaG0tramuS/A6ujoyOHDh3KyMhImpubU1VV+vv709k5OoQ6Oztz4MCB+nFfX99xa37aPffckw0bNtSPjx07lsHBwZx//vn1wms0tVotHR0dGRgYqH+TmVjMsDGYY2Mwx4lvMs1w2rRp9T83J8ns2bOzbNmybN++PT09Pdm5c2fa29tHPT2YvP3arCuvvDL33XdfLrjggmzZsiWf/vSnT/hALS0taWlpGXXbjBkzSn4t41Zra2vD/4/U6MywMZhjYzDHiW+yzbD+U4Rbt27N1q1b093dnc2bN2fbtm1JkrVr12b37t1JkgULFmTjxo254oor0tXVlVmzZmX9+vVjs3MAgHGqqaqqxn21+Rio1WqZPn36qOdhmVjMsDGYY2Mwx4lvss5w6n333XffWG+i0UydOjXXXHNN/acymXjMsDGYY2Mwx4lvMs7QFSwAgML8LkIAgMIEFgBAYQILAKAwgfUBDA8P584778zChQvzi7/4i/Xf5bh///6sXLky3d3dWb58efbt2zfGO+Vkvva1r2XZsmVZunRpFi9enL/+679O8vbv6LzpppuycOHCLF68OP/yL/8yxjvlp911112ZP39+mpqa8p3vfKd++8nOP+fm+PJOM3zjjTfyq7/6q+nu7s6SJUtyww03jPq9uM7L8edE5+JPbNu2LU1NTXnsscfqt02KOVa8b7/3e79X3XnnndWxY8eqqqqqQ4cOVVVVVddee221bdu2qqqq6u/+7u+qyy+/fKy2yLs4duxYdd5551XPPfdcVVVVdfDgwaqlpaWq1WrVrbfeWv3RH/1RVVVV9e1vf7uaN29e9eabb47hbvlpTz75ZDUwMFBddNFF1bPPPlu//WTnn3NzfHmnGf7Xf/1X9dWvfrX+9+qf/dmfVVdffXX9Ps7L8edE52JVvf136i/90i9VK1asqP7+7/++fvtkmKPAep9ef/31atq0adXQ0NCo21977bVq2rRp1dGjR6uqevsf8AsuuKDav3//WGyTd3Hs2LGqra2tevLJJ6uqqqrnnnuuuvDCC6vh4eHq3HPPrUdzVVXV8uXLq2984xtjtVVO4Kf/Uj/Z+efcHL/e6R/mn9izZ0910UUX1Y+dl+PXz87xrbfeqq6//vpq79691dVXXz0qsCbDHCfPG1IUduDAgbS1teX+++/P448/nrPPPjv33XdfZsyYkblz59bf66OpqSmdnZ3p7+8/7lcPMfaampryla98JZ/85Cdz7rnn5siRI9m1a1d+9KMf5ejRo5kzZ0597fz589Pf3z+Gu+XdDAwMnPD8mz59unNzAvriF7+Ym2++OUnyn//5n87LCeSBBx7IFVdckcsuu2zU7ZNljgLrfRoZGclLL72USy65JJs3b86zzz6bG264IV/96lfHemu8ByMjI/n85z+fXbt25aqrrsqePXuyatWqd3wdAXB63X///ent7c0///M/j/VWeI+++93vZufOnY352qr/JS9yf586OzszZcqU/MZv/EaS5NJLL83P/dzP5aWXXsqhQ4cyMjKSJKmqKv39/ens7BzL7XIC3/nOd/LKK6/kqquuSpIsX7487e3tef7559Pc3JxXX321vravr88cx7mOjo4Tnn8n+2+MP1/4wheya9eu/OM//mPOOeecJMn555/vvJwgnnrqqfT19WXhwoWZP39+nnnmmaxbty5f/vKXJ80cBdb7NHPmzFx//fX5+te/niQ5ePBgDh48mCuuuCLLli3L9u3bkyQ7d+5Me3u7pyDGqZ/8o/u9730vSdLb25sDBw7k53/+5/Nrv/Zr2bJlS5Jkz549+cEPfpCrr756LLfLu5g9e/YJz7+T/TfGlwceeCCPPvpovvGNb2TGjBmj/pvzcmK44447cujQofT19aWvry8rVqzIgw8+mDvuuCPJJJnjGL8GbEI7cOBAdc0111SLFy+uPvKRj1Q7duyoqqqqvv/971crVqyoFi5cWF122WXV888/P8Y75WQeeeSR+gwXL15c/c3f/E1VVVX16quvVjfccEPV1dVVXXLJJdUTTzwxxjvlp61bt66aN29eNXXq1Gr27NnVxRdfXFXVyc8/5+b48k4zHBgYqJJUCxYsqJYsWVItWbKk+uhHP1q/j/Ny/DnRufjTfvZF7pNhjn4XIQBAYZ4iBAAo7P8D0Aef7b+jpc4AAAAASUVORK5CYII=\" />"
      ]
     },
     "execution_count": 28,
     "metadata": {},
     "output_type": "execute_result"
    }
   ],
   "source": [
    "plot(Qgrid, solve_BS_FTBS(model, G))"
   ]
  },
  {
   "cell_type": "markdown",
   "metadata": {},
   "source": [
    "An explicit scheme:\n",
    "$$r\\,g(i,j) = \\frac{g(i,j)-g(i,j-1)}{\\Delta t} + g_Q(i,j)\\,r\\,Q_i + \\frac{1}{2}\\,g_{QQ}(i,j)\\,\\sigma^2\\,Q_i^2$$\n",
    "$$g(i,j)-\\Delta t\\cdot\\Big(r\\,g(i,j) - g_Q(i,j)\\,r\\,Q_i - \\frac{1}{2}\\,g_{QQ}(i,j)\\,\\sigma^2\\,Q_i^2\\Big) = g(i,j-1)$$"
   ]
  },
  {
   "cell_type": "code",
   "execution_count": 29,
   "metadata": {},
   "outputs": [
    {
     "data": {
      "text/plain": [
       "forward_difference (generic function with 1 method)"
      ]
     },
     "execution_count": 29,
     "metadata": {},
     "output_type": "execute_result"
    }
   ],
   "source": [
    "function backward_difference(g, Q)\n",
    "    vcat((g[2] - g[1]) ./ (Q[2] - Q[1]), (g[2:(end)] - g[1:(end-1)]) ./ (Q[2:(end)] - Q[1:(end-1)])) \n",
    "end\n",
    "\n",
    "function forward_difference(g, Q)\n",
    "    vcat((g[2:(end)] - g[1:(end-1)]) ./ (Q[2:(end)] - Q[1:(end-1)]), (g[end] - g[end-1]) ./ (Q[end] - Q[end-1])) \n",
    "end"
   ]
  },
  {
   "cell_type": "code",
   "execution_count": 33,
   "metadata": {},
   "outputs": [
    {
     "data": {
      "text/html": [
       "<img src=\"data:image/png;base64,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\" />"
      ]
     },
     "execution_count": 33,
     "metadata": {},
     "output_type": "execute_result"
    }
   ],
   "source": [
    "@unpack T, J, Δt, Tgrid, Q0, QI, I, Qgrid, σ, r, K = model\n",
    "\n",
    "\n",
    "\n",
    "g = zeros(I+1, J+1)\n",
    "g[:, J+1] = G(model, Qgrid)\n",
    "\n",
    "for j in J:-1:1\n",
    "    gQ = backward_difference(g[:, J+1], Qgrid)\n",
    "    gQQ = forward_difference(gQ, Qgrid)\n",
    "    g[:, j] = g[:, j+1] .- Δt * (r * g[:, j+1] - r * gQ .* Qgrid - 1/2 * σ^2 * gQQ .* (Qgrid.^2))\n",
    "end\n",
    "\n",
    "plot(Qgrid, g[:, 1], ylim=(0, 60))"
   ]
  },
  {
   "cell_type": "code",
   "execution_count": null,
   "metadata": {},
   "outputs": [],
   "source": []
  }
 ],
 "metadata": {
  "kernelspec": {
   "display_name": "Julia 0.6.0",
   "language": "julia",
   "name": "julia-0.6"
  },
  "language_info": {
   "file_extension": ".jl",
   "mimetype": "application/julia",
   "name": "julia",
   "version": "0.6.0"
  }
 },
 "nbformat": 4,
 "nbformat_minor": 2
}
