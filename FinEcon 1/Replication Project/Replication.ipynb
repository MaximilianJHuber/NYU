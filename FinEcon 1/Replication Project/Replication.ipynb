{
 "cells": [
  {
   "cell_type": "markdown",
   "metadata": {},
   "source": [
    "# Replication: Young, Old, Conservative, and Bold\n",
    "This notebook replicates key aspects of [Young, Old, Conservative, and Bold](https://www.journals.uchicago.edu/doi/abs/10.1086/680996) by Gârleanu and Panageas published in the Journal of Political Economy in 2015.\n",
    "\n",
    "---\n",
    "\n",
    "First, the equilibrium equations are discussed, and auxiliary functions and (calibrated) constants are defined. Then, the finite difference method is implemented and executed."
   ]
  },
  {
   "cell_type": "markdown",
   "metadata": {},
   "source": [
    "## Equilibrium Conditions"
   ]
  },
  {
   "cell_type": "markdown",
   "metadata": {},
   "source": [
    "The equilibrium is described by the process for the consumption share of type-A households, $X_t$:\n",
    "\n",
    "$$dX_t = \\mu_X(X_t) dt + \\sigma_X(X_t)dB_t$$"
   ]
  },
  {
   "cell_type": "markdown",
   "metadata": {},
   "source": [
    "### Two coupled ODEs\n",
    "Drift and volatility are functions of the solution to the following system of second-order ODEs:"
   ]
  },
  {
   "cell_type": "markdown",
   "metadata": {},
   "source": [
    "\\begin{equation}\n",
    "0=\\frac{\\sigma_X^2}{2}\\frac{d^2\\phi^j}{dX_t^2}+\\frac{d\\phi^j}{dX_t}\\big(\\mu_X + \\sigma_X(\\sigma_Y-\\kappa)\\big) + \\phi^j ( \\mu_Y - r - \\pi - \\delta_j -\\sigma_Y \\kappa) + B_j \\omega\n",
    "\\end{equation}"
   ]
  },
  {
   "cell_type": "markdown",
   "metadata": {},
   "source": [
    "\\begin{equation}\n",
    "0=\\frac{\\sigma_X^2}{2} M_1^i  \\Biggm ((M_1^i-1) \\biggm(\\frac{\\frac{dg^i}{dX_t}}{g^i} \\biggm)^2+\\frac{\\frac{d^2g^i}{dX_t^2}}{g^i}  \\Biggm ) + M_1^i\\frac{\\frac{dg^i}{dX_t}}{g^i}\\big(\\mu_X-M_2^i\\sigma_X\\kappa\\big) + \\\\\n",
    "\\Biggm ( \\frac{\\kappa^2(X_t)}{2}M_2^i(M_2^i-1)-M_2^i\\big(r(X_t)+\\pi\\big)-M_1^ig^i+\\frac{\\Xi_3^i}{\\gamma^i}\\Biggm)\n",
    "\\end{equation}"
   ]
  },
  {
   "cell_type": "markdown",
   "metadata": {},
   "source": [
    "Mind: Equation (A.22) has a typo at the second derivative of $g^i$."
   ]
  },
  {
   "cell_type": "markdown",
   "metadata": {},
   "source": [
    "The boundary conditions are, for $X_t = 0$ or $X_t = 1$:\n",
    "$$0 = \\frac{d\\phi^j}{dX_t} \\mu_X + \\phi^j\\big(\\mu_Y - r - \\pi - \\delta_j - \\sigma_Y\\kappa\\big) + B_j \\omega$$\n",
    "\n",
    "$$0 = M_1^i \\frac{1}{g^i}\\frac{dg^i}{dX_t}\\mu_X + \\Big(\\frac{\\kappa(X_t)^2}{2}M_2^i(M_2^i - 1) - M_2^i(r(X_t) + \\pi) - M_1^i g^i + \\frac{\\Xi_3^i}{\\gamma^i}\\Big)$$"
   ]
  },
  {
   "cell_type": "markdown",
   "metadata": {},
   "source": [
    "### Auxiliary Functions"
   ]
  },
  {
   "cell_type": "markdown",
   "metadata": {},
   "source": [
    "The auxiliary functions that appear in the ODEs are defined the following way:"
   ]
  },
  {
   "cell_type": "markdown",
   "metadata": {},
   "source": [
    "$$\\sigma_{X}(X_{t})=\\frac{X_{t}\\big(\\Gamma(X_{t})-\\gamma^{A}\\big)}{\\frac{\\Gamma(X_{t})}{\\gamma^{B}}X_{t}(1-X_{t})\\Big[\\frac{1-\\gamma^{A}-\\alpha^{A}}{\\alpha^{A}}\\frac{g^{A'}}{g^{A}}-\\frac{1-\\gamma^{B}-\\alpha^{B}}{\\alpha^{B}}\\frac{g^{B'}}{g^{B}}\\Big]+\\gamma^{A}}\\sigma_{Y}$$"
   ]
  },
  {
   "cell_type": "code",
   "execution_count": null,
   "metadata": {},
   "outputs": [],
   "source": [
    "σ_X(X_t, gA, gAprime, gB, gBprime) = σ_Y * X_t * (Γ(X_t) - γA) / \n",
    "    (Γ(X_t)/γB * X_t * (1 - X_t) * \n",
    "        ((1 - γA - αA) / αA * gAprime / gA - (1 - γB - αB) / αB * gBprime / gB) \n",
    "    + γA);"
   ]
  },
  {
   "cell_type": "markdown",
   "metadata": {},
   "source": [
    "$$\\mu_X(X_t) = X_t\\Big[\\frac{r(X_t)-\\rho}{1-\\alpha^A} + n^A(X_t)-\\pi-\\mu_Y\\Big] + v^A\\pi\\beta^A(X_t)-\\sigma_Y \\sigma_X(X_t)$$"
   ]
  },
  {
   "cell_type": "code",
   "execution_count": null,
   "metadata": {},
   "outputs": [],
   "source": [
    "μ_X(X_t, gA, gAprime, gB, gBprime, ϕ1, ϕ2) =  X_t * \n",
    "    ((r(X_t, gA, gAprime, gB, gBprime, ϕ1, ϕ2) - ρ) / (1 - αA) + nA(X_t, gA, gAprime, gB, gBprime) - π - μ_Y) +\n",
    "    vA * π * β(gA, ϕ1, ϕ2) - σ_Y * σ_X(X_t, gA, gAprime, gB, gBprime);"
   ]
  },
  {
   "cell_type": "markdown",
   "metadata": {},
   "source": [
    "$$\\kappa(X_t) = \\Gamma(X_t)\\sigma_Y + \\sum_i\\omega^i(X_t)\\Big(\\frac{1-\\gamma^i-\\alpha^i}{\\alpha^i}\\Big) \\frac{g^{i'}}{g^i}\\sigma_X(X_t)$$"
   ]
  },
  {
   "cell_type": "code",
   "execution_count": null,
   "metadata": {},
   "outputs": [],
   "source": [
    "κ(X_t, gA, gAprime, gB, gBprime) =  Γ(X_t) * σ_Y + \n",
    "    ωA(X_t) * (1-γA-αA) / αA * gAprime / gA * σ_X(X_t, gA, gAprime, gB, gBprime) +\n",
    "    ωB(X_t) * (1-γB-αB) / αB * gBprime / gB * σ_X(X_t, gA, gAprime, gB, gBprime);"
   ]
  },
  {
   "cell_type": "markdown",
   "metadata": {},
   "source": [
    "$$r(X_{t})=\\rho+\\frac{1}{\\Theta(X_{t})}\\left\\{ \\mu_{Y}-\\pi\\Big(\\sum_{i}v^{i}\\beta^{i}(X_{t})-1\\Big)\\right\\} -\\frac{1}{\\Theta(X_{t})}\\sum_{i}X_{t}^{i}n^{i}(X_{t})$$"
   ]
  },
  {
   "cell_type": "code",
   "execution_count": null,
   "metadata": {},
   "outputs": [],
   "source": [
    "r(X_t, gA, gAprime, gB, gBprime, ϕ1, ϕ2) = ρ + \n",
    "    1 / Θ(X_t) * (μ_Y - π * (vA * β(gA, ϕ1, ϕ2) + vB * β(gB, ϕ1, ϕ2) - 1)) -\n",
    "    1 / Θ(X_t) * (X_t * nA(X_t, gA, gAprime, gB, gBprime) + (1 - X_t) * nB(X_t, gA, gAprime, gB, gBprime));"
   ]
  },
  {
   "cell_type": "markdown",
   "metadata": {},
   "source": [
    "<font color=\"red\"><b>Mind: the second line in equation A.16 is not correct!</b></font>\n",
    "\n",
    "Properly derived the definition of `nA` and `nB` is:\n",
    "\n",
    "$$n^{i}(X_{t})=\\frac{2-\\alpha^{i}}{2\\gamma^{i}(1-\\alpha^{i})}\\kappa^{2}(X_{t})+\\frac{\\alpha^{i}+\\gamma^{i}-1}{2\\gamma^{i}\\alpha^{i}}\\Bigg(\\frac{g^{i'}}{g^{i}}\\sigma_{X}(X_{t})\\Bigg)^{2}+\\frac{\\alpha^{i}+\\gamma^{i}-1}{\\alpha^{i}\\gamma^{i}}\\Big(\\frac{g^{i'}}{g^{i}}\\sigma_{X}(X_{t})\\Big)\\kappa(X_{t})\n",
    "$$"
   ]
  },
  {
   "cell_type": "code",
   "execution_count": null,
   "metadata": {},
   "outputs": [],
   "source": [
    "nA(X_t, gA, gAprime, gB, gBprime) =  (2 - αA) / (2 * γA * (1-αA)) * κ(X_t, gA, gAprime, gB, gBprime)^2 + \n",
    "    (αA + γA - 1) / (2 * γA * αA) * (gAprime / gA * σ_X(X_t, gA, gAprime, gB, gBprime))^2 +\n",
    "    (αA + γA - 1) / (γA * αA) * (gAprime / gA * σ_X(X_t, gA, gAprime, gB, gBprime)) * κ(X_t, gA, gAprime, gB, gBprime)\n",
    "        \n",
    "\n",
    "nB(X_t, gA, gAprime, gB, gBprime) =  (2 - αB) / (2 * γB * (1-αB)) * κ(X_t, gA, gAprime, gB, gBprime)^2 + \n",
    "    (αB + γB - 1) / (2 * γB * αB) * (gBprime / gB * σ_X(X_t, gA, gAprime, gB, gBprime))^2 +\n",
    "    (αB + γB - 1) / (γB * αB) * (gBprime / gB * σ_X(X_t, gA, gAprime, gB, gBprime)) * κ(X_t, gA, gAprime, gB, gBprime)"
   ]
  },
  {
   "cell_type": "markdown",
   "metadata": {},
   "source": [
    "$$\\beta^i(X_t)=g^i(X_t)\\underset{\\phi^2(X_t) + \\phi^2(X_t)}{\\underbrace{\\phi(X_t)}}$$"
   ]
  },
  {
   "cell_type": "code",
   "execution_count": null,
   "metadata": {},
   "outputs": [],
   "source": [
    "β(g, ϕ1, ϕ2) =  g * (ϕ1 + ϕ2);"
   ]
  },
  {
   "cell_type": "markdown",
   "metadata": {},
   "source": [
    "$$X_t^A = X_t\\quad\\text{and}\\quad X_t^B = 1-X_t$$"
   ]
  },
  {
   "cell_type": "markdown",
   "metadata": {},
   "source": [
    "$$\\Gamma(X_t) = \\frac{1}{\\sum_i \\frac{X_t^i}{\\gamma^i}}$$"
   ]
  },
  {
   "cell_type": "code",
   "execution_count": null,
   "metadata": {},
   "outputs": [],
   "source": [
    "Γ(X_t) =  1 / (X_t / γA + (1 - X_t) / γB);"
   ]
  },
  {
   "cell_type": "markdown",
   "metadata": {},
   "source": [
    "$$\\Theta(X_t) = \\sum_i \\frac{X_t^i}{1-\\alpha^i}$$"
   ]
  },
  {
   "cell_type": "code",
   "execution_count": null,
   "metadata": {},
   "outputs": [],
   "source": [
    "Θ(X_t) =  X_t / (1 - αA) + (1 - X_t) / (1 - αB);"
   ]
  },
  {
   "cell_type": "markdown",
   "metadata": {},
   "source": [
    "$$\\omega^i(X_t) = X_t^i \\frac{\\Gamma(X_t)}{\\gamma^i}$$"
   ]
  },
  {
   "cell_type": "code",
   "execution_count": null,
   "metadata": {},
   "outputs": [],
   "source": [
    "ωA(X_t) = X_t * Γ(X_t) / γA\n",
    "ωB(X_t) = (1 - X_t) * Γ(X_t) / γB;"
   ]
  },
  {
   "cell_type": "markdown",
   "metadata": {},
   "source": [
    "$$\\Delta(X_t) = \\sum_i \\omega^i(X_t)\\frac{\\gamma^i + 1}{\\gamma^i}$$"
   ]
  },
  {
   "cell_type": "code",
   "execution_count": null,
   "metadata": {},
   "outputs": [],
   "source": [
    "Δ(X_t) =  ωA(X_t) * (γA + 1) / γA + ωB(X_t) * (γB + 1) / γB;"
   ]
  },
  {
   "cell_type": "markdown",
   "metadata": {},
   "source": [
    "### Constants"
   ]
  },
  {
   "cell_type": "markdown",
   "metadata": {},
   "source": [
    "The primitive constants of the model are:"
   ]
  },
  {
   "cell_type": "code",
   "execution_count": null,
   "metadata": {},
   "outputs": [],
   "source": [
    "const vA = 0.01; const vB = 1 - vA; \n",
    "const νA = 0.01; const νB = 1 - νA; \n",
    "const ρ = 0.001\n",
    "const δ1 = 0.0525; const δ2 = 0.0611\n",
    "const ω = 1 - 0.08\n",
    "const ψA = 0.70; const ψB = 0.05;\n",
    "const γA = 1.5; const αA = 1 - 1/ψA\n",
    "const γB = 10.; const αB = 1 - 1/ψB\n",
    "const μ_Y = 0.02; const σ_Y = 0.041\n",
    "const μ = 0.02; const σ = 0.041\n",
    "const π = 0.02; const δ = 0.02;\n",
    "\n",
    "const B1 = 30.72 / (π / (π + δ1) * 30.72 + π / (π + δ2) * -30.29); \n",
    "const B2 = -30.29 / (π / (π + δ1) * 30.72 + π / (π + δ2) * -30.29);"
   ]
  },
  {
   "cell_type": "markdown",
   "metadata": {},
   "source": [
    "The auxiliary constants are defined by:"
   ]
  },
  {
   "cell_type": "markdown",
   "metadata": {},
   "source": [
    "$M_1^i = - 1 - \\frac{\\Xi_1^i}{\\gamma^i}$, $M_2^i = \\frac{\\gamma^i - 1}{\\gamma^i}$, $\\Xi_1^i = -\\frac{\\alpha^i+\\gamma^i-1}{\\alpha^i}$, $\\Xi_2^i = \\frac{\\alpha^i}{(1-\\alpha^i)(1-\\gamma^i)}$, $\\Xi_3^i = -\\frac{\\rho + \\pi}{\\alpha^i}(1-\\gamma^i)$, $\\Xi_4^i = - \\frac{\\alpha^i + \\gamma^i - 1}{(1-\\alpha^i)(1-\\gamma^i)}$"
   ]
  },
  {
   "cell_type": "code",
   "execution_count": null,
   "metadata": {},
   "outputs": [],
   "source": [
    "const ΞA_1 = - (αA + γA - 1) / αA; const ΞB_1 = - (αB + γB - 1) / αB\n",
    "const ΞA_2 = αA / ((1-αA) * (1-γA)); const ΞB_2 = αB / ((1-αB) * (1-γB))\n",
    "const ΞA_3 = - (ρ + π) / αA * (1 - γA); const ΞB_3 = - (ρ + π) / αB * (1 - γB)\n",
    "const ΞA_4 = - (αA + γA - 1) / ((1-αA) * (1-γA)); const ΞB_4 = - (αB + γB - 1) / ((1-αB) * (1-γB))\n",
    "const MA_1 = - 1 - ΞA_1 / γA; const MB_1 = - 1 - ΞB_1 / γB\n",
    "const MA_2 = (γA - 1) / γA; const MB_2 = (γB - 1) / γB;"
   ]
  },
  {
   "cell_type": "markdown",
   "metadata": {},
   "source": [
    "## Numerical Solution - Finite Differences"
   ]
  },
  {
   "cell_type": "code",
   "execution_count": null,
   "metadata": {
    "code_folding": []
   },
   "outputs": [],
   "source": [
    "#finite differences\n",
    "function diff!(f, fx, fxx, wind, N)\n",
    "    for i in 1:N\n",
    "        #fx via upwinding\n",
    "        if wind[i] >= 0\n",
    "            fx[i] = (f[min(i + 1, N)] - f[i]) * (N - 1)\n",
    "        else\n",
    "            fx[i] = (f[i] - f[max(i - 1, 1)]) * (N - 1)\n",
    "        end\n",
    "        \n",
    "        #fxx not via upwinding\n",
    "        fxx[i] = (f[min(i + 1, N)] * (N - 1)^2 + f[max(i - 1, 1)] * (N - 1)^2 - 2 * f[i] * (N - 1)^2)\n",
    "    end\n",
    "end\n",
    "\n",
    "function diff_robust!(f, fx, fxx, wind, N)\n",
    "    for i in 1:N\n",
    "        #fx via upwinding\n",
    "        if wind[i] >= 0\n",
    "            fx[i] = - (f[min(i + 1, N)] - f[i]) * (N - 1) * (1/f[i])^2\n",
    "        else\n",
    "            fx[i] = - (f[i] - f[max(i - 1, 1)]) * (N - 1) * (1/f[i])^2\n",
    "        end\n",
    "        \n",
    "        #fxx not via upwinding\n",
    "        fxx[i] = 2 * fx[i]^2 * f[i] - (1/f[i])^2 * (f[min(i + 1, N)] * (N - 1)^2 + f[max(i - 1, 1)] * (N - 1)^2 - 2 * f[i] * (N - 1)^2)\n",
    "    end\n",
    "end"
   ]
  },
  {
   "cell_type": "code",
   "execution_count": null,
   "metadata": {},
   "outputs": [],
   "source": [
    "function F(Y)\n",
    "    #unstack the input into the four solution functions\n",
    "    N = round(Int64, length(Y)/4)\n",
    "    x = collect(linspace(0, 1, N))\n",
    "    ϕ1 = Y[1:N]\n",
    "    ϕ2 = Y[N+1:2*N]\n",
    "    gA = Y[2*N+1:3*N]\n",
    "    gB = Y[3*N+1:4*N]\n",
    "    \n",
    "    #setup derivatives\n",
    "    ϕ1x = similar(ϕ1)\n",
    "    ϕ1xx = similar(ϕ1)\n",
    "    ϕ2x = similar(ϕ2)\n",
    "    ϕ2xx = similar(ϕ2)\n",
    "    gAx = similar(gA)\n",
    "    gAxx = similar(gA)\n",
    "    gBx = similar(gB)\n",
    "    gBxx = similar(gB)\n",
    "\n",
    "    #finite differences without upwinding\n",
    "    diff!(ϕ1, ϕ1x, ϕ1xx, zeros(200), N)\n",
    "    diff!(ϕ2, ϕ2x, ϕ2xx, zeros(200), N)\n",
    "    diff!(gA, gAx, gAxx, zeros(200), N)\n",
    "    diff!(gB, gBx, gBxx, zeros(200), N)\n",
    "\n",
    "    #update the wind \n",
    "    wind = μ_X.(x, gA, gAx, gB, gBx, ϕ1, ϕ2)\n",
    "    diff!(ϕ1, ϕ1x, ϕ1xx, wind, N)\n",
    "    diff!(ϕ2, ϕ2x, ϕ2xx, wind, N)\n",
    "    diff!(gA, gAx, gAxx, wind, N)\n",
    "    diff!(gB, gBx, gBxx, wind, N)\n",
    "    \n",
    "    vcat(\n",
    "        1/2 * ϕ1xx .* σ_X.(x, gA, gAx, gB, gBx).^2 + \n",
    "            ϕ1x .* (μ_X.(x, gA, gAx, gB, gBx, ϕ1, ϕ2) + σ_X.(x, gA, gAx, gB, gBx) .* (σ_Y - κ.(x, gA, gAx, gB, gBx))) +\n",
    "            ϕ1 .* (μ_Y - r.(x, gA, gAx, gB, gBx, ϕ1, ϕ2) - π - δ1 - σ_Y .* κ.(x, gA, gAx, gB, gBx)) +\n",
    "            B1 * ω,\n",
    "        1/2 * ϕ2xx .* σ_X.(x, gA, gAx, gB, gBx).^2 + \n",
    "            ϕ2x .* (μ_X.(x, gA, gAx, gB, gBx, ϕ1, ϕ2) + σ_X.(x, gA, gAx, gB, gBx) .* (σ_Y - κ.(x, gA, gAx, gB, gBx))) +\n",
    "            ϕ2 .* (μ_Y - r.(x, gA, gAx, gB, gBx, ϕ1, ϕ2) - π - δ2 - σ_Y .* κ.(x, gA, gAx, gB, gBx)) +\n",
    "            B2 * ω,\n",
    "        (1 ./ gA) .* (gA + \n",
    "            ψA * (r.(x, gA, gAx, gB, gBx, ϕ1, ϕ2) - ρ) + κ.(x, gA, gAx, gB, gBx).^2 * (1 + ψA) / (2 * γA) + (1 - ψA * γA) / (γA * (ψA - 1)) * κ.(x, gA, gAx, gB, gBx) .* (-gAx ./ gA .* σ_X.(x, gA, gAx, gB, gBx)) - \n",
    "            (1 - γA * ψA) / (2 * γA * (ψA - 1)) * (-gAx ./ gA .* σ_X.(x, gA, gAx, gB, gBx)).^2 - π + (-gAx ./ gA) .* μ_X.(x, gA, gAx, gB, gBx, ϕ1, ϕ2) + 0.5 * (2 * (gAx ./ gA).^2 - gAxx ./ gA) .* σ_X.(x, gA, gAx, gB, gBx).^2 + \n",
    "            (κ.(x, gA, gAx, gB, gBx) / γA + (1 - γA * ψA) / (γA * (ψA - 1)) * ((-gAx ./ gA) .* σ_X.(x, gA, gAx, gB, gBx))) .* ((-gAx ./ gA) .* σ_X.(x, gA, gAx, gB, gBx)) - r.(x, gA, gAx, gB, gBx, ϕ1, ϕ2) - κ.(x, gA, gAx, gB, gBx) .* (((-gAx ./ gA) .* σ_X.(x, gA, gAx, gB, gBx)) + (κ.(x, gA, gAx, gB, gBx) / γA + (1 - γA * ψA) / (γA * (ψA - 1)) * ((-gAx ./ gA) .* σ_X.(x, gA, gAx, gB, gBx))))),\n",
    "        (1 ./ gB) .* (gB + \n",
    "            ψB * (r.(x, gA, gAx, gB, gBx, ϕ1, ϕ2) - ρ) + κ.(x, gA, gAx, gB, gBx).^2 * (1 + ψB) / (2 * γB) + (1 - ψB * γB) / (γB * (ψB - 1)) * κ.(x, gA, gAx, gB, gBx) .* (-gBx ./ gB .* σ_X.(x, gA, gAx, gB, gBx)) - \n",
    "            (1 - γB * ψB) / (2 * γB * (ψB - 1)) * (-gBx ./ gB .* σ_X.(x, gA, gAx, gB, gBx)).^2 - π + (-gBx ./ gB) .* μ_X.(x, gA, gAx, gB, gBx, ϕ1, ϕ2) + 0.5 * (2 * (gBx ./ gB).^2 - gBxx ./ gB) .* σ_X.(x, gA, gAx, gB, gBx).^2 + \n",
    "            (κ.(x, gA, gAx, gB, gBx) / γB + (1 - γB * ψB) / (γB * (ψB - 1)) * ((-gBx ./ gB) .* σ_X.(x, gA, gAx, gB, gBx))) .* ((-gBx ./ gB) .* σ_X.(x, gA, gAx, gB, gBx)) - r.(x, gA, gAx, gB, gBx, ϕ1, ϕ2) - κ.(x, gA, gAx, gB, gBx) .* (((-gBx ./ gB) .* σ_X.(x, gA, gAx, gB, gBx)) + (κ.(x, gA, gAx, gB, gBx) / γB + (1 - γB * ψB) / (γB * (ψB - 1)) * ((-gBx ./ gB) .* σ_X.(x, gA, gAx, gB, gBx))))),\n",
    "    )\n",
    "\n",
    "end"
   ]
  },
  {
   "cell_type": "markdown",
   "metadata": {},
   "source": [
    "### Expicit Scheme: Newton-Ralphson\n",
    "\n",
    "One approach is to solve $F(Y) = 0$ by means of guessing an initial value for $Y$ and finding $T_{t+1}$ from:\n",
    "\n",
    "$$0=F(Y_t) + J_F(Y_t)\\Big(Y_{t+1} - Y_t\\Big)$$"
   ]
  },
  {
   "cell_type": "markdown",
   "metadata": {},
   "source": [
    "This needs a good starting value, though:"
   ]
  },
  {
   "cell_type": "code",
   "execution_count": null,
   "metadata": {
    "scrolled": true
   },
   "outputs": [],
   "source": [
    "using ForwardDiff\n",
    "\n",
    "function NewtonRalphson(;initial_Y = ones(800))\n",
    "\n",
    "    Yold = initial_Y\n",
    "    Ynew = zeros(Yold)\n",
    "\n",
    "    error = 0.1\n",
    "    iteration = 0\n",
    "\n",
    "    while (error > 1e-14) && (iteration < 20)\n",
    "        Ynew .= -ForwardDiff.jacobian(F, Yold)^-1 * F(Yold) + Yold\n",
    "\n",
    "        error = maximum(abs.(Yold .- Ynew))\n",
    "        Yold = copy(Ynew)\n",
    "        iteration += 1\n",
    "        if (iteration % 1 == 0)\n",
    "            println(\"Iteration $iteration with error $error\")\n",
    "        end\n",
    "    end\n",
    "    \n",
    "    return Ynew\n",
    "end"
   ]
  },
  {
   "cell_type": "code",
   "execution_count": null,
   "metadata": {
    "scrolled": true
   },
   "outputs": [],
   "source": [
    "NewtonRalphson();"
   ]
  },
  {
   "cell_type": "markdown",
   "metadata": {},
   "source": [
    "This is highly unstable. My starting value is not good enough!"
   ]
  },
  {
   "cell_type": "markdown",
   "metadata": {},
   "source": [
    "### Implicit Scheme: Time-Stepping\n",
    "\n",
    "Another approach is to solve $F(Y) = 0$ by means of guessing an initial value for $Y$ and finding $T_{t+1}$ from:\n",
    "\n",
    "$$0=F(Y_{t+1}) + \\frac{1}{\\Delta}\\Big(Y_{t+1} - Y_t\\Big)$$ \n",
    "\n",
    "where $\\Delta$ is the step size.\n",
    "\n",
    "Then $Y_t$ is updated and the equation is solved for the next $Y_{t+1}$."
   ]
  },
  {
   "cell_type": "code",
   "execution_count": null,
   "metadata": {},
   "outputs": [],
   "source": [
    "#enclose the old Y value\n",
    "function error_wrapper(Y, stepsize = 1.)\n",
    "    return function error(error, Yprime)\n",
    "        error .= F(Yprime) - 1/stepsize * (Yprime - Y)\n",
    "    end\n",
    "end"
   ]
  },
  {
   "cell_type": "code",
   "execution_count": null,
   "metadata": {},
   "outputs": [],
   "source": [
    "using NLsolve\n",
    "\n",
    "function ImpicitTimeStepping(;initial_Y = ones(800))\n",
    "    \n",
    "    Yold = initial_Y\n",
    "    Ynew = zeros(Yold)\n",
    "\n",
    "    distance = 0.1\n",
    "    distanceold = 0.1\n",
    "    iteration = 0\n",
    "    stepsize = 1.\n",
    "\n",
    "    while (distance > 1e-12) && (iteration < 200) && (stepsize  >= 1e-12)\n",
    "        iteration += 1\n",
    "        \n",
    "        result = nlsolve(error_wrapper(Yold, stepsize), Yold, iterations = 25, \n",
    "            autodiff=:forward, method = :newton, ftol = 1e-9)\n",
    "        Ynew .= result.zero\n",
    "        \n",
    "        if any(isnan.(Ynew))\n",
    "            println(\"Iteration $iteration bad solution with step size $stepsize\")\n",
    "            stepsize = stepsize / 10\n",
    "            continue\n",
    "        end\n",
    "        \n",
    "        if !result.f_converged\n",
    "            println(\"Iteration $iteration no convergence with step size $stepsize\")\n",
    "            stepsize = stepsize / 10\n",
    "            continue\n",
    "        end\n",
    "        \n",
    "        distance, distanceold = vecnorm(F(Ynew)) / length(Ynew), distance\n",
    "        Yold = copy(Ynew)\n",
    "        if (distance <= distanceold)\n",
    "            stepsize = stepsize * 2\n",
    "        end\n",
    "        \n",
    "        if (iteration % 1 == 0)\n",
    "            println(\"Iteration $iteration with distance $distance\")\n",
    "        end\n",
    "    end\n",
    "    \n",
    "    return Ynew\n",
    "end"
   ]
  },
  {
   "cell_type": "code",
   "execution_count": null,
   "metadata": {
    "scrolled": true
   },
   "outputs": [],
   "source": [
    "Y = ImpicitTimeStepping()"
   ]
  },
  {
   "cell_type": "markdown",
   "metadata": {},
   "source": [
    "Other formulation:"
   ]
  },
  {
   "cell_type": "code",
   "execution_count": null,
   "metadata": {},
   "outputs": [],
   "source": [
    "function F(Y)\n",
    "    #unpack constants, state, current solution\n",
    "    \n",
    "    N = round(Int64, length(Y)/4)\n",
    "    x = collect(linspace(0, 1, N))\n",
    "    ϕ1 = Y[1:N]\n",
    "    ϕ2 = Y[N+1:2*N]\n",
    "    pA = Y[2*N+1:3*N]\n",
    "    pB = Y[3*N+1:4*N]\n",
    "    \n",
    "    #setup derivatives\n",
    "    ϕ1x = similar(ϕ1)\n",
    "    ϕ1xx = similar(ϕ1)\n",
    "    ϕ2x = similar(ϕ2)\n",
    "    ϕ2xx = similar(ϕ2)\n",
    "    pAx = similar(pA)\n",
    "    pAxx = similar(pA)\n",
    "    pBx = similar(pB)\n",
    "    pBxx = similar(pB)\n",
    "    \n",
    "    diff!(ϕ1, ϕ1x, ϕ1xx, zeros(200), N)\n",
    "    diff!(ϕ2, ϕ2x, ϕ2xx, zeros(200), N)\n",
    "    diff!(pA, pAx, pAxx, zeros(200), N)\n",
    "    diff!(pB, pBx, pBxx, zeros(200), N)\n",
    "    \n",
    "    # volatility of X, pA, pB, ϕ1, ϕ2, CA, CB and market price of risk κ\n",
    "    Γ = @. 1 / (x / γA + (1 - x) / γB) #check\n",
    "    p = @.x * pA + (1 - x) * pB \n",
    "    σx = @.σ * x * (Γ / γA - 1) / (1 + Γ * x * (1 - x) / (γA * γB) * ((1 - γB * ψB) / (ψB - 1) * (pBx / pB) - (1 - γA * ψA) / (ψA - 1) * (pAx / pA)))\n",
    "    σpA = @.pAx / pA * σx\n",
    "    σpB = @.pBx / pB * σx\n",
    "    σϕ1 = @.ϕ1x / ϕ1 * σx\n",
    "    σϕ2 = @.ϕ2x / ϕ2 * σx\n",
    "    κ = @.Γ * (σ - x * (1 - γA * ψA) / (γA * (ψA - 1)) * σpA - (1 - x) * (1 - γB * ψB) / (γB * (ψB - 1)) * σpB)\n",
    "    σCA = @.κ / γA + (1 - γA * ψA) / (γA * (ψA - 1)) * σpA\n",
    "    σCB = @.κ / γB + (1 - γB * ψB) / (γB * (ψB - 1)) * σpB\n",
    "\n",
    "    # drift of X, pA, pB, ϕ1, ϕ2, CA, CB and interest rate r\n",
    "    mcA = @.κ^2 * (1 + ψA) / (2 * γA) + (1 - ψA * γA) / (γA * (ψA - 1)) * κ * σpA - (1 - γA * ψA) / (2 * γA * (ψA - 1)) * σpA^2\n",
    "    mcB = @.κ^2 * (1 + ψB) / (2 * γB) + (1 - ψB * γB) / (γB * (ψB - 1)) * κ * σpB - (1 - γB * ψB) / (2 * γB * (ψB - 1)) * σpB^2\n",
    "    r =  @.ρ + 1 / (ψA * x  + ψB * (1 - x))  * (μ - x * mcA - (1 - x) * mcB - π * ((νA / pA + (1 - νA) / pB) * (ϕ1 + ϕ2) - 1))\n",
    "    μCA = @.ψA * (r - ρ) + mcA\n",
    "    μCB = @.ψB * (r - ρ) + mcB\n",
    "    \n",
    "    #update the wind \n",
    "    wind = @.x * (μCA - π - μ) + π * νA / pA * (ϕ1 + ϕ2) - σ * σx\n",
    "    diff!(ϕ1, ϕ1x, ϕ1xx, wind, N)\n",
    "    diff!(ϕ2, ϕ2x, ϕ2xx, wind, N)\n",
    "    diff!(pA, pAx, pAxx, wind, N)\n",
    "    diff!(pB, pBx, pBxx, wind, N)\n",
    "    \n",
    "    # volatility of X, pA, pB, ϕ1, ϕ2, CA, CB and market price of risk κ\n",
    "    Γ = @. 1 / (x / γA + (1 - x) / γB) #check\n",
    "    p = @.x * pA + (1 - x) * pB \n",
    "    σx = @.σ * x * (Γ / γA - 1) / (1 + Γ * x * (1 - x) / (γA * γB) * ((1 - γB * ψB) / (ψB - 1) * (pBx / pB) - (1 - γA * ψA) / (ψA - 1) * (pAx / pA)))\n",
    "    σpA = @.pAx / pA * σx\n",
    "    σpB = @.pBx / pB * σx\n",
    "    σϕ1 = @.ϕ1x / ϕ1 * σx\n",
    "    σϕ2 = @.ϕ2x / ϕ2 * σx\n",
    "    κ = @.Γ * (σ - x * (1 - γA * ψA) / (γA * (ψA - 1)) * σpA - (1 - x) * (1 - γB * ψB) / (γB * (ψB - 1)) * σpB)\n",
    "    σCA = @.κ / γA + (1 - γA * ψA) / (γA * (ψA - 1)) * σpA\n",
    "    σCB = @.κ / γB + (1 - γB * ψB) / (γB * (ψB - 1)) * σpB\n",
    "\n",
    "    # drift of X, pA, pB, ϕ1, ϕ2, CA, CB and interest rate r\n",
    "    mcA = @.κ^2 * (1 + ψA) / (2 * γA) + (1 - ψA * γA) / (γA * (ψA - 1)) * κ * σpA - (1 - γA * ψA) / (2 * γA * (ψA - 1)) * σpA^2\n",
    "    mcB = @.κ^2 * (1 + ψB) / (2 * γB) + (1 - ψB * γB) / (γB * (ψB - 1)) * κ * σpB - (1 - γB * ψB) / (2 * γB * (ψB - 1)) * σpB^2\n",
    "    r =  @.ρ + 1 / (ψA * x  + ψB * (1 - x))  * (μ - x * mcA - (1 - x) * mcB - π * ((νA / pA + (1 - νA) / pB) * (ϕ1 + ϕ2) - 1))\n",
    "    μCA = @.ψA * (r - ρ) + mcA\n",
    "    μCB = @.ψB * (r - ρ) + mcB\n",
    "    μx = @.x * (μCA - π - μ) + π * νA / pA * (ϕ1 + ϕ2) - σ * σx\n",
    "    μpA = @.pAx / pA * μx + 0.5 * pAxx / pA * σx^2\n",
    "    μpB = @.pBx / pB * μx + 0.5 * pBxx / pB * σx^2\n",
    "    μϕ1 = @.ϕ1x / ϕ1 * μx + 0.5 * ϕ1xx / ϕ1 * σx^2\n",
    "    μϕ2 = @.ϕ2x / ϕ2 * μx + 0.5 * ϕ2xx / ϕ2 * σx^2\n",
    "\n",
    "    # PDE\n",
    "    vcat(\n",
    "        @.(ϕ1 * (B1 * ω / ϕ1 + (μ - π - δ1) + μϕ1 + σ * σϕ1 - r - κ * (σϕ1 + σ))),\n",
    "        @.(ϕ2 * (B2 * ω / ϕ2 + (μ - π - δ2) + μϕ2 + σ * σϕ2 - r - κ * (σϕ2 + σ))),\n",
    "        @.(pA * (1 / pA + (μCA - π) + μpA + σCA * σpA - r - κ * (σpA + σCA))),\n",
    "        @.(pB * (1 / pB + (μCB - π) + μpB + σCB * σpB - r - κ * (σpB + σCB)))\n",
    "        )\n",
    "end"
   ]
  },
  {
   "cell_type": "code",
   "execution_count": null,
   "metadata": {},
   "outputs": [],
   "source": [
    "Y = ImpicitTimeStepping()"
   ]
  },
  {
   "cell_type": "code",
   "execution_count": null,
   "metadata": {
    "code_folding": [
     0
    ],
    "scrolled": false
   },
   "outputs": [],
   "source": [
    "# load good staring value\n",
    "using JLD\n",
    "using Plots; gr();\n",
    "\n",
    "N = 200\n",
    "X = collect(linspace(0, 1, N))\n",
    "u = [ones(N) for i in 1:8]\n",
    "loaded = load(pwd() * \"\\\\save.jld\")\n",
    "\n",
    "u[1] = loaded[\"ϕ1\"]\n",
    "u[3] = loaded[\"ϕ2\"]\n",
    "u[5] = loaded[\"gA\"]\n",
    "u[7] = loaded[\"gB\"]\n",
    "\n",
    "u[2] = vcat(u[1][2] - u[1][1], u[1][2:end] - u[1][1:end-1]) ./ (1/(N-1))\n",
    "u[4] = vcat(u[3][2] - u[3][1], u[3][2:end] - u[3][1:end-1]) ./ (1/(N-1))\n",
    "u[6] = vcat(u[5][2] - u[5][1], u[5][2:end] - u[5][1:end-1]) ./ (1/(N-1))\n",
    "u[8] = vcat(u[7][2] - u[7][1], u[7][2:end] - u[7][1:end-1]) ./ (1/(N-1))\n",
    "\n",
    "u = [[u[j][i] for j in 1:8] for i in 1:N]\n",
    "\n",
    "u = hcat(u...)\n",
    "wind = loaded[\"μx\"]\n",
    "y = u[[1, 3, 5, 7], :]'; #phi, g"
   ]
  },
  {
   "cell_type": "markdown",
   "metadata": {},
   "source": [
    "Solution object:"
   ]
  },
  {
   "cell_type": "code",
   "execution_count": null,
   "metadata": {
    "code_folding": []
   },
   "outputs": [],
   "source": [
    "function upwinding(f, wind, N)\n",
    "    ifelse.(wind .>= 0, \n",
    "        vcat(f[2:end] - f[1:end-1], f[end] - f[end-1]),\n",
    "        vcat(f[2] - f[1], f[2:end] - f[1:end-1]))*(N-1)\n",
    "end\n",
    "\n",
    "#using a robust transformation before taking the difference and transforming it back\n",
    "function upwinding_robust(f, wind, N)\n",
    "    - upwinding(1 ./ f, wind, N) .* (f .^ 2)\n",
    "end\n",
    "\n",
    "function backward(f, wind, N)\n",
    "    vcat((vcat(f[2] - f[1], f[2:end] - f[1:end-1]) * (N-1))[vcat(collect(1:findfirst(wind .< 0)-1), collect(findfirst(wind .< 0)+1:N))], (f[end] - f[end-1])*(N-1))\n",
    "end\n",
    "\n",
    "function backwardupwinding(f, wind, N)\n",
    "    2 .* (upwinding_robust(f, wind, N).^2) ./ f - backward(upwinding(1 ./ f, wind, N), wind, N) .* f.^2\n",
    "end"
   ]
  },
  {
   "cell_type": "code",
   "execution_count": null,
   "metadata": {},
   "outputs": [],
   "source": [
    "function wrap_F(initial_wind::Vector{Float64})\n",
    "    wind = initial_wind\n",
    "    x = collect(linspace(0, 1, length(wind)))\n",
    "    \n",
    "    return Y -> begin\n",
    "        N = round(Int64, length(Y)/4)\n",
    "        ϕ1 = Y[1:N]\n",
    "        ϕ2 = Y[N+1:2*N]\n",
    "        gA = Y[2*N+1:3*N]\n",
    "        gB = Y[3*N+1:4*N]\n",
    "        \n",
    "        ϕ1x = upwinding(ϕ1, wind, N)\n",
    "        ϕ2x = upwinding(ϕ2, wind, N)\n",
    "        ϕ1xx = backward(ϕ1x, wind, N)\n",
    "        ϕ2xx = backward(ϕ2x, wind, N)\n",
    "        gAx = upwinding_robust(gA, wind, N)\n",
    "        gBx = upwinding_robust(gB, wind, N)\n",
    "        gAxx = backwardupwinding(gA, wind, N)\n",
    "        gBxx = backwardupwinding(gB, wind, N)\n",
    "\n",
    "        #update the wind \n",
    "        wind = μ_X.(x, gA, gAx, gB, gBx, ϕ1, ϕ2)\n",
    "\n",
    "        #the ODEs\n",
    "        vcat(\n",
    "            1/2 * ϕ1xx .* σ_X.(x, gA, gAx, gB, gBx).^2 + \n",
    "                ϕ1x .* (μ_X.(x, gA, gAx, gB, gBx, ϕ1, ϕ2) + σ_X.(x, gA, gAx, gB, gBx) .* (σ_Y - κ.(x, gA, gAx, gB, gBx))) +\n",
    "                ϕ1 .* (μ_Y - r.(x, gA, gAx, gB, gBx, ϕ1, ϕ2) - π - δ1 - σ_Y .* κ.(x, gA, gAx, gB, gBx)) +\n",
    "                B1 * ω,\n",
    "            1/2 * ϕ2xx .* σ_X.(x, gA, gAx, gB, gBx).^2 + \n",
    "                ϕ2x .* (μ_X.(x, gA, gAx, gB, gBx, ϕ1, ϕ2) + σ_X.(x, gA, gAx, gB, gBx) .* (σ_Y - κ.(x, gA, gAx, gB, gBx))) +\n",
    "                ϕ2 .* (μ_Y - r.(x, gA, gAx, gB, gBx, ϕ1, ϕ2) - π - δ2 - σ_Y .* κ.(x, gA, gAx, gB, gBx)) +\n",
    "                B2 * ω,\n",
    "            1/2 .* σ_X.(x, gA, gAx, gB, gBx).^2 .* MA_1 .* ((MA_1 - 1) .* (gAx./gA).^2 + gAxx./gA) +\n",
    "                MA_1 .* gAx./gA .* (μ_X.(x, gA, gAx, gB, gBx, ϕ1, ϕ2) - MA_2 .* σ_X.(x, gA, gAx, gB, gBx) .* κ.(x, gA, gAx, gB, gBx)) +\n",
    "                (1/2 .* κ.(x, gA, gAx, gB, gBx).^2 .* MA_2 .* (MA_2 - 1) - MA_2 .* (r.(x, gA, gAx, gB, gBx, ϕ1, ϕ2) + π) - MA_1 .* gA + ΞA_3/γA),\n",
    "            1/2 .* σ_X.(x, gA, gAx, gB, gBx).^2 .* MB_1 .* ((MB_1 - 1) .* (gBx./gB).^2 + gBxx./gB) +\n",
    "                MB_1 .* gBx./gB .* (μ_X.(x, gA, gAx, gB, gBx, ϕ1, ϕ2) - MB_2 .* σ_X.(x, gA, gAx, gB, gBx) .* κ.(x, gA, gAx, gB, gBx)) +\n",
    "                (1/2 .* κ.(x, gA, gAx, gB, gBx).^2 .* MB_2 .* (MB_2 - 1) - MB_2 .* (r.(x, gA, gAx, gB, gBx, ϕ1, ϕ2) + π) - MB_1 .* gB + ΞB_3/γB))\n",
    "\n",
    "    end\n",
    "end\n"
   ]
  },
  {
   "cell_type": "markdown",
   "metadata": {},
   "source": [
    "rewrite "
   ]
  },
  {
   "cell_type": "code",
   "execution_count": null,
   "metadata": {},
   "outputs": [],
   "source": []
  },
  {
   "cell_type": "code",
   "execution_count": null,
   "metadata": {},
   "outputs": [],
   "source": [
    "F = wrap_F2(loaded[\"μx\"])\n",
    "Y = vcat(loaded[\"ϕ1\"], loaded[\"ϕ2\"], loaded[\"gA\"], loaded[\"gB\"]);\n",
    "reshape(F(Y), 200, 4)"
   ]
  },
  {
   "cell_type": "code",
   "execution_count": null,
   "metadata": {},
   "outputs": [],
   "source": [
    "F = wrap_F2(zeros(200))"
   ]
  },
  {
   "cell_type": "code",
   "execution_count": null,
   "metadata": {},
   "outputs": [],
   "source": [
    "Y = vcat(ones(800));\n",
    "F(Y)"
   ]
  },
  {
   "cell_type": "code",
   "execution_count": null,
   "metadata": {
    "scrolled": false
   },
   "outputs": [],
   "source": [
    "#Y = ones(800)\n",
    "#Ynew = similar(Y)\n",
    "\n",
    "F = wrap_F2(loaded[\"μx\"])\n",
    "Y = vcat(loaded[\"ϕ1\"], loaded[\"ϕ2\"], loaded[\"gA\"], loaded[\"gB\"]);\n",
    "\n",
    "Y = Y .+ 0.001*(rand(800) - 0.5)\n",
    "\n",
    "scale = 0.0000001\n",
    "error = 0.1\n",
    "iteration = 0\n",
    "\n",
    "while (error > 1e-14) && (iteration < 0)\n",
    "    Ynew = scale .* F(Y) .+ Y\n",
    "    \n",
    "    error = maximum(abs.(Y .- Ynew))\n",
    "    Y = copy(Ynew)\n",
    "    iteration += 1\n",
    "end\n",
    "reshape(Y, 200, 4)"
   ]
  },
  {
   "cell_type": "code",
   "execution_count": null,
   "metadata": {},
   "outputs": [],
   "source": [
    "using NLsolve\n",
    "F = wrap_F2(loaded[\"μx\"])\n",
    "Y = vcat(loaded[\"ϕ1\"], loaded[\"ϕ2\"], loaded[\"gA\"], loaded[\"gB\"])\n",
    "function error_wrapper(Y; stepsize = 100000.)\n",
    "    return Yprime -> F(Yprime) - 1 / stepsize * (Yprime .- Y)\n",
    "end\n",
    "nlsolve(error_wrapper(Y), Y)"
   ]
  },
  {
   "cell_type": "code",
   "execution_count": null,
   "metadata": {},
   "outputs": [],
   "source": [
    "Ynew = scale .* F(Y) .+ Y\n",
    "Y = copy(Ynew)\n",
    "reshape(Y, 200, 4)"
   ]
  },
  {
   "cell_type": "code",
   "execution_count": null,
   "metadata": {},
   "outputs": [],
   "source": [
    "iteration"
   ]
  },
  {
   "cell_type": "code",
   "execution_count": null,
   "metadata": {},
   "outputs": [],
   "source": [
    "reshape(Y, 200, 4)"
   ]
  },
  {
   "cell_type": "code",
   "execution_count": null,
   "metadata": {},
   "outputs": [],
   "source": []
  },
  {
   "cell_type": "code",
   "execution_count": null,
   "metadata": {},
   "outputs": [],
   "source": []
  },
  {
   "cell_type": "code",
   "execution_count": null,
   "metadata": {},
   "outputs": [],
   "source": [
    "mutable struct Candidate\n",
    "    N::Int32\n",
    "    ϕ1::Vector{Float64}\n",
    "    ϕ2::Vector{Float64}\n",
    "    gA::Vector{Float64}\n",
    "    gB::Vector{Float64}\n",
    "    x::Vector{Float64}\n",
    "    wind::Vector{Float64}\n",
    "\n",
    "    ϕ1x::Vector{Float64}\n",
    "    ϕ1xx::Vector{Float64}\n",
    "    ϕ2x::Vector{Float64}\n",
    "    ϕ2xx::Vector{Float64}\n",
    "    gAx::Vector{Float64}\n",
    "    gBx::Vector{Float64}\n",
    "    gAxx::Vector{Float64}\n",
    "    gBxx::Vector{Float64}\n",
    "end\n",
    "\n",
    "function Candidate(N, y)\n",
    "    Candidate(N, y[:, 1], y[:, 2], y[:, 3], y[:, 4], collect(linspace(0, 1, N)), wind,\n",
    "        zeros(N), zeros(N), zeros(N), zeros(N), zeros(N), zeros(N), zeros(N), zeros(N))\n",
    "end\n",
    "    \n",
    "y = Candidate(200, y);"
   ]
  },
  {
   "cell_type": "code",
   "execution_count": null,
   "metadata": {},
   "outputs": [],
   "source": [
    "function F!(y)\n",
    "    #leaning against the wind: positive wind = backward diff TODO check direction\n",
    "    \n",
    "    y.ϕ1x = upwinding(y.ϕ1, y.wind, y.N)\n",
    "    y.ϕ2x = upwinding(y.ϕ2, y.wind, y.N)\n",
    "    y.ϕ1xx = backward(y.ϕ1x, y.wind, y.N)\n",
    "    y.ϕ2xx = backward(y.ϕ2x, y.wind, y.N)\n",
    "    y.gAx = upwinding_robust(y.gA, y.wind, y.N)\n",
    "    y.gBx = upwinding_robust(y.gB, y.wind, y.N)\n",
    "    y.gAxx = backwardupwinding(y.gA, y.wind, y.N)\n",
    "    y.gBxx = backwardupwinding(y.gB, y.wind, y.N)\n",
    "    \n",
    "    #update the wind \n",
    "    y.wind = μ_X.(y.x, y.gA, y.gAx, y.gB, y.gBx, y.ϕ1, y.ϕ2)\n",
    "    \n",
    "    #the ODEs\n",
    "    vcat(\n",
    "        1/2 * y.ϕ1xx .* σ_X.(y.x, y.gA, y.gAx, y.gB, y.gBx).^2 + \n",
    "            y.ϕ1x .* (μ_X.(y.x, y.gA, y.gAx, y.gB, y.gBx, y.ϕ1, y.ϕ2) + σ_X.(y.x, y.gA, y.gAx, y.gB, y.gBx) .* (σ_Y - κ.(y.x, y.gA, y.gAx, y.gB, y.gBx))) +\n",
    "            y.ϕ1 .* (μ_Y - r.(y.x, y.gA, y.gAx, y.gB, y.gBx, y.ϕ1, y.ϕ2) - π - δ1 - σ_Y .* κ.(y.x, y.gA, y.gAx, y.gB, y.gBx)) +\n",
    "            B1 * ω,\n",
    "        1/2 * y.ϕ2xx .* σ_X.(y.x, y.gA, y.gAx, y.gB, y.gBx).^2 + \n",
    "            y.ϕ2x .* (μ_X.(y.x, y.gA, y.gAx, y.gB, y.gBx, y.ϕ1, y.ϕ2) + σ_X.(y.x, y.gA, y.gAx, y.gB, y.gBx) .* (σ_Y - κ.(y.x, y.gA, y.gAx, y.gB, y.gBx))) +\n",
    "            y.ϕ2 .* (μ_Y - r.(y.x, y.gA, y.gAx, y.gB, y.gBx, y.ϕ1, y.ϕ2) - π - δ2 - σ_Y .* κ.(y.x, y.gA, y.gAx, y.gB, y.gBx)) +\n",
    "            B2 * ω,\n",
    "        1/2 .* σ_X.(y.x, y.gA, y.gAx, y.gB, y.gBx).^2 .* MA_1 .* ((MA_1 - 1) .* (y.gAx./y.gA).^2 + y.gAxx./y.gA) +\n",
    "            MA_1 .* y.gAx./y.gA .* (μ_X.(y.x, y.gA, y.gAx, y.gB, y.gBx, y.ϕ1, y.ϕ2) - MA_2 .* σ_X.(y.x, y.gA, y.gAx, y.gB, y.gBx) .* κ.(y.x, y.gA, y.gAx, y.gB, y.gBx)) +\n",
    "            (1/2 .* κ.(y.x, y.gA, y.gAx, y.gB, y.gBx).^2 .* MA_2 .* (MA_2 - 1) - MA_2 .* (r.(y.x, y.gA, y.gAx, y.gB, y.gBx, y.ϕ1, y.ϕ2) + π) - MA_1 .* y.gA + ΞA_3/γA),\n",
    "        1/2 .* σ_X.(y.x, y.gA, y.gAx, y.gB, y.gBx).^2 .* MB_1 .* ((MB_1 - 1) .* (y.gBx./y.gB).^2 + y.gBxx./y.gB) +\n",
    "            MB_1 .* y.gBx./y.gB .* (μ_X.(y.x, y.gA, y.gAx, y.gB, y.gBx, y.ϕ1, y.ϕ2) - MB_2 .* σ_X.(y.x, y.gA, y.gAx, y.gB, y.gBx) .* κ.(y.x, y.gA, y.gAx, y.gB, y.gBx)) +\n",
    "            (1/2 .* κ.(y.x, y.gA, y.gAx, y.gB, y.gBx).^2 .* MB_2 .* (MB_2 - 1) - MB_2 .* (r.(y.x, y.gA, y.gAx, y.gB, y.gBx, y.ϕ1, y.ϕ2) + π) - MB_1 .* y.gB + ΞB_3/γB))\n",
    "end"
   ]
  },
  {
   "cell_type": "code",
   "execution_count": null,
   "metadata": {},
   "outputs": [],
   "source": [
    "upwinding_robust(y.gA, y.wind, y.N)"
   ]
  },
  {
   "cell_type": "code",
   "execution_count": null,
   "metadata": {
    "scrolled": true
   },
   "outputs": [],
   "source": [
    "function wrapper(y)\n",
    "    return Y -> begin\n",
    "        Z = reshape(Y, Int64(y.N), 4)\n",
    "        y.ϕ1 = Z[:, 1]\n",
    "        y.ϕ2 = Z[:, 2]\n",
    "        y.gA = Z[:, 3]\n",
    "        y.gB = Z[:, 4]\n",
    "        \n",
    "        return F!(y)\n",
    "    end\n",
    "end "
   ]
  },
  {
   "cell_type": "code",
   "execution_count": null,
   "metadata": {},
   "outputs": [],
   "source": [
    "F = wrapper(y)"
   ]
  },
  {
   "cell_type": "code",
   "execution_count": null,
   "metadata": {},
   "outputs": [],
   "source": [
    "Y = vcat(100 * ones(200), -10 * ones(200), 0.1 * ones(400));\n",
    "#Y = ones(800)"
   ]
  },
  {
   "cell_type": "code",
   "execution_count": null,
   "metadata": {},
   "outputs": [],
   "source": [
    "Y = ones(800)\n",
    "Ynew = similar(Y)\n",
    "scale = 0.0001\n",
    "error = 0.1\n",
    "iteration = 0\n",
    "\n",
    "while (error > 1e-14) && (iteration < 10000)\n",
    "    Ynew = scale .* F(Y) .+ Y\n",
    "    \n",
    "    error = maximum(abs.(Y .- Ynew))\n",
    "    Y = copy(Ynew)\n",
    "    iteration += 1\n",
    "end"
   ]
  },
  {
   "cell_type": "code",
   "execution_count": null,
   "metadata": {},
   "outputs": [],
   "source": [
    "y"
   ]
  },
  {
   "cell_type": "code",
   "execution_count": null,
   "metadata": {
    "scrolled": false
   },
   "outputs": [],
   "source": [
    "plot(y.x, reshape(F!(y), 200, 4)[:, [1, 2, 3, 4]])"
   ]
  },
  {
   "cell_type": "markdown",
   "metadata": {},
   "source": [
    "## Numerical Solution - JuMP"
   ]
  },
  {
   "cell_type": "markdown",
   "metadata": {},
   "source": [
    "## Numerical Solution - DifferentialEquations.jl"
   ]
  },
  {
   "cell_type": "markdown",
   "metadata": {},
   "source": [
    "My first pass in solving this ODE is with [DifferentialEquations.jl](https://github.com/JuliaDiffEq/DifferentialEquations.jl). The ODE should be on the boarder of what is possible to code up with this package. The solution algorithm is likely going to be MIRK4."
   ]
  },
  {
   "cell_type": "markdown",
   "metadata": {},
   "source": [
    "The package demand the following format of the ODE:\n",
    "$$u^{\\prime} = \\frac{du}{dt} = f(u, p, t)$$\n",
    "with $u(t_0) = a$ and $u(t_f) = b$.\n",
    "\n",
    "$t$ is in the domain of $f$, $p$ are constants, and $u$ is the solution function to the ODE."
   ]
  },
  {
   "cell_type": "markdown",
   "metadata": {},
   "source": [
    "Translating this to the ODE at hand means $t = X_t$ and u is:"
   ]
  },
  {
   "cell_type": "code",
   "execution_count": null,
   "metadata": {},
   "outputs": [],
   "source": [
    "using DifferentialEquations, BoundaryValueDiffEq, Plots; gr();"
   ]
  },
  {
   "cell_type": "markdown",
   "metadata": {},
   "source": [
    "\\begin{equation}\n",
    "u_1^{\\prime}(t) = u_2(t)\n",
    "\\end{equation}"
   ]
  },
  {
   "cell_type": "markdown",
   "metadata": {},
   "source": [
    "\\begin{equation}\n",
    "\\underset{\\frac{d^{2}\\phi^{1}}{dX_{t}^{2}}}{\\underbrace{u_{2}^{\\prime}(t)}}=\\frac{2}{\\sigma_{X}^{2}}\\Big(-\\underset{\\frac{d\\phi^{1}}{dX_{t}}}{\\underbrace{u_{2}(t)}}\\big(\\mu_{X}+\\sigma_{X}(\\sigma_{Y}-\\kappa)\\big)-\\underset{\\phi^{1}}{\\underbrace{u_{1}(t)}}(\\mu_{Y}-r-\\pi-\\delta_{1}-\\sigma_{Y}\\kappa)-B_{1}\\omega\\Big)\n",
    "\\end{equation}"
   ]
  },
  {
   "cell_type": "markdown",
   "metadata": {},
   "source": [
    "\\begin{equation}\n",
    "u_3^{\\prime}(t) = u_4(t)\n",
    "\\end{equation}"
   ]
  },
  {
   "cell_type": "markdown",
   "metadata": {},
   "source": [
    "\\begin{equation}\n",
    "\\underset{\\frac{d^{2}\\phi^{2}}{dX_{t}^{2}}}{\\underbrace{u_{4}^{\\prime}(t)}}=\\frac{2}{\\sigma_{X}^{2}}\\Big(-\\underset{\\frac{d\\phi^{2}}{dX_{t}}}{\\underbrace{u_{4}(t)}}\\big(\\mu_{X}+\\sigma_{X}(\\sigma_{Y}-\\kappa)\\big)-\\underset{\\phi^{2}}{\\underbrace{u_{3}(t)}}(\\mu_{Y}-r-\\pi-\\delta_{2}-\\sigma_{Y}\\kappa)-B_{2}\\omega\\Big)\n",
    "\\end{equation}"
   ]
  },
  {
   "cell_type": "markdown",
   "metadata": {},
   "source": [
    "\\begin{equation}\n",
    "u_5^{\\prime}(t) = u_6(t)\n",
    "\\end{equation}"
   ]
  },
  {
   "cell_type": "markdown",
   "metadata": {},
   "source": [
    "\\begin{equation}\n",
    "\\underset{\\frac{d^{2}g^{A}}{dX_{t}^{2}}}{\\underbrace{u_{6}^{\\prime}(t)}}=\\frac{2g^{A}}{M_{1}^{A}\\sigma_{X}^{2}}\\Bigg(-M_{1}^{A}\\frac{\\overset{\\frac{dg^{A}}{dX_{t}}}{\\overbrace{u_{6}(t)}}}{\\underset{g^{A}}{\\underbrace{u_{5}(t)}}}\\big(\\mu_{X}-M_{2}^{A}\\sigma_{X}\\kappa\\big)-\\Big(\\frac{\\kappa^{2}}{2}M_{2}^{A}(M_{2}^{A}-1)-M_{2}^{A}\\big(r+\\pi\\big)-M_{1}^{A}u_{5}(t)+\\frac{\\Xi_{3}^{A}}{\\gamma^{A}}\\Big)\\Bigg)-u_{5}(t)(M_{1}^{A}-1)\\biggm(\\frac{u_{6}(t)}{u_{5}(t)}\\biggm)^{2}\n",
    "\\end{equation}"
   ]
  },
  {
   "cell_type": "markdown",
   "metadata": {},
   "source": [
    "\\begin{equation}\n",
    "u_7^{\\prime}(t) = u_8(t)\n",
    "\\end{equation}"
   ]
  },
  {
   "cell_type": "markdown",
   "metadata": {},
   "source": [
    "\\begin{equation}\n",
    "\\underset{\\frac{d^{2}g^{B}}{dX_{t}^{2}}}{\\underbrace{u_{8}^{\\prime}(t)}}=\\frac{2g^{B}}{M_{1}^{B}\\sigma_{X}^{2}}\\Bigg(-M_{1}^{B}\\frac{\\overset{\\frac{dg^{B}}{dX_{t}}}{\\overbrace{u_{8}(t)}}}{\\underset{g^{B}}{\\underbrace{u_{7}(t)}}}\\big(\\mu_{X}-M_{2}^{B}\\sigma_{X}\\kappa\\big)-\\Big(\\frac{\\kappa^{2}}{2}M_{2}^{B}(M_{2}^{B}-1)-M_{2}^{B}\\big(r+\\pi\\big)-M_{1}^{B}u_{7}(t)+\\frac{\\Xi_{3}^{B}}{\\gamma^{B}}\\Big)\\Bigg)-u_{7}(t)(M_{1}^{B}-1)\\biggm(\\frac{u_{8}(t)}{u_{7}(t)}\\biggm)^{2}\n",
    "\\end{equation}"
   ]
  },
  {
   "cell_type": "code",
   "execution_count": null,
   "metadata": {},
   "outputs": [],
   "source": [
    "function GarleanuPanageas!(du, u, p, t)\n",
    "    du[1] = u[2]\n",
    "    du[2] = 2/σ_X(t, u[5], u[6], u[7], u[8])^2 * (\n",
    "        - u[2] * (μ_X(t, u[5], u[6], u[7], u[8], u[1], u[3]) + σ_X(t, u[5], u[6], u[7], u[8]) * (σ_Y - κ(t, u[5], u[6], u[7], u[8])))\n",
    "        - u[1] * (μ_Y - r(t, u[5], u[6], u[7], u[8], u[1], u[3]) - π - δ1 - σ_Y * κ(t, u[5], u[6], u[7], u[8]))\n",
    "        - B1 * ω\n",
    "        )\n",
    "    du[3] = u[4]\n",
    "    du[4] = 2/σ_X(t, u[5], u[6], u[7], u[8])^2 * (\n",
    "        - u[4] * (μ_X(t, u[5], u[6], u[7], u[8], u[1], u[3]) + σ_X(t, u[5], u[6], u[7], u[8]) * (σ_Y - κ(t, u[5], u[6], u[7], u[8])))\n",
    "        - u[3] * (μ_Y - r(t, u[5], u[6], u[7], u[8], u[1], u[3]) - π - δ2 - σ_Y * κ(t, u[5], u[6], u[7], u[8]))\n",
    "        - B2 * ω\n",
    "        )\n",
    "    du[5] = u[6]\n",
    "    du[6] = 2 * u[5] / (MA_1 * σ_X(t, u[5], u[6], u[7], u[8])^2) * (\n",
    "        - MA_1 * (u[6]/u[5]) * (μ_X(t, u[5], u[6], u[7], u[8], u[1], u[3]) - MA_2 * σ_X(t, u[5], u[6], u[7], u[8]) * κ(t, u[5], u[6], u[7], u[8]))\n",
    "        - (κ(t, u[5], u[6], u[7], u[8])^2 / 2 * MA_2 * (MA_2 - 1) - MA_2 * (r(t, u[5], u[6], u[7], u[8], u[1], u[3]) + π)\n",
    "            - MA_1 * u[5] + ΞA_3 / γA)\n",
    "        ) - u[5] * (MA_1 - 1) * (u[6]/u[5])^2\n",
    "    du[7] = u[8]\n",
    "    du[8] = 2 * u[7] / (MB_1 * σ_X(t, u[5], u[6], u[7], u[8])^2) * (\n",
    "        - MB_1 * (u[8]/u[7]) * (μ_X(t, u[5], u[6], u[7], u[8], u[1], u[3]) - MB_2 * σ_X(t, u[5], u[6], u[7], u[8]) * κ(t, u[5], u[6], u[7], u[8]))\n",
    "        - (κ(t, u[5], u[6], u[7], u[8])^2 / 2 * MB_2 * (MB_2 - 1) - MB_2 * (r(t, u[5], u[6], u[7], u[8], u[1], u[3]) + π)\n",
    "            - MB_1 * u[7] + ΞB_3 / γB)\n",
    "        ) - u[7] * (MB_1 - 1) * (u[8]/u[7])^2\n",
    "end"
   ]
  },
  {
   "cell_type": "markdown",
   "metadata": {},
   "source": [
    "The boundary conditions are, for $t = 0$ and $t = 1$:"
   ]
  },
  {
   "cell_type": "markdown",
   "metadata": {},
   "source": [
    "\\begin{equation}\n",
    "0=\\underset{\\frac{d\\phi^{1}}{dX_{t}}}{\\underbrace{u_{2}(t)}}\\mu_{X}+\\underset{\\phi^{1}}{\\underbrace{u_{1}(t)}}\\big(\\mu_{Y}-r-\\pi-\\delta_{1}-\\sigma_{Y}\\kappa\\big)+B_{1}\\omega\n",
    "\\end{equation}"
   ]
  },
  {
   "cell_type": "markdown",
   "metadata": {},
   "source": [
    "\\begin{equation}\n",
    "0=\\underset{\\frac{d\\phi^{2}}{dX_{t}}}{\\underbrace{u_{4}(t)}}\\mu_{X}+\\underset{\\phi^{2}}{\\underbrace{u_{3}(t)}}\\big(\\mu_{Y}-r-\\pi-\\delta_{2}-\\sigma_{Y}\\kappa\\big)+B_{2}\\omega\n",
    "\\end{equation}"
   ]
  },
  {
   "cell_type": "markdown",
   "metadata": {},
   "source": [
    "\\begin{equation}\n",
    "0=M_{1}^{A}\\frac{1}{\\underset{g^{A}}{\\underbrace{u_{5}(t)}}}\\underset{\\frac{dg^{A}}{dX_{t}}}{\\underbrace{u_{6}(t)}}\\mu_{X}+\\Big(\\frac{\\kappa^{2}}{2}M_{2}^{A}(M_{2}^{A}-1)-M_{2}^{A}(r+\\pi)-M_{1}^{A}u_{5}(t)+\\frac{\\Xi_{3}^{A}}{\\gamma^{A}}\\Big)\n",
    "\\end{equation}"
   ]
  },
  {
   "cell_type": "markdown",
   "metadata": {},
   "source": [
    "\\begin{equation}\n",
    "0=M_{1}^{B}\\frac{1}{\\underset{g^{B}}{\\underbrace{u_{7}(t)}}}\\underset{\\frac{dg^{B}}{dX_{t}}}{\\underbrace{u_{8}(t)}}\\mu_{X}+\\Big(\\frac{\\kappa^{2}}{2}M_{2}^{B}(M_{2}^{B}-1)-M_{2}^{B}(r+\\pi)-M_{1}^{B}u_{7}(t)+\\frac{\\Xi_{3}^{B}}{\\gamma^{B}}\\Big)\n",
    "\\end{equation}"
   ]
  },
  {
   "cell_type": "code",
   "execution_count": null,
   "metadata": {},
   "outputs": [],
   "source": [
    "function bc!(residual, u, p, t)\n",
    "    #at t = 0\n",
    "    residual[1] = u[1][2] * μ_X(t[1], u[1][5], u[1][6], u[1][7], u[1][8], u[1][1], u[1][3]) + \n",
    "        u[1][1] * (μ_Y - r(t[1], u[1][5], u[1][6], u[1][7], u[1][8], u[1][1], u[1][3]) - π - δ1 - σ_Y * κ(t[1], u[1][5], u[1][6], u[1][7], u[1][8])) + B1 * ω\n",
    "\n",
    "    residual[2] = u[1][4] * μ_X(t[1], u[1][5], u[1][6], u[1][7], u[1][8], u[1][1], u[1][3]) +\n",
    "        u[1][3] * (μ_Y - r(t[1], u[1][5], u[1][6], u[1][7], u[1][8], u[1][1], u[1][3]) - π - δ2 - σ_Y * κ(t[1], u[1][5], u[1][6], u[1][7], u[1][8])) + B2 * ω\n",
    "\n",
    "    residual[3] = MA_1 * u[1][6]/u[1][5] * μ_X(t[1], u[1][5], u[1][6], u[1][7], u[1][8], u[1][1], u[1][3]) +\n",
    "        (κ(t[1], u[1][5], u[1][6], u[1][7], u[1][8])^2 / 2 * MA_2 * (MA_2 - 1) - MA_2 * (r(t[1], u[1][5], u[1][6], u[1][7], u[1][8], u[1][1], u[1][3]) + π)\n",
    "            - MA_1 * u[1][5] + ΞA_3 / γA)\n",
    "\n",
    "    residual[4] = MB_1 * u[1][8]/u[1][7] * μ_X(t[1], u[1][5], u[1][6], u[1][7], u[1][8], u[1][1], u[1][3]) +\n",
    "        (κ(t[1], u[1][5], u[1][6], u[1][7], u[1][8])^2 / 2 * MB_2 * (MB_2 - 1) - MB_2 * (r(t[1], u[1][5], u[1][6], u[1][7], u[1][8], u[1][1], u[1][3]) + π)\n",
    "            - MB_1 * u[1][7] + ΞB_3 / γB)\n",
    "    \n",
    "    #at t = 1\n",
    "    residual[1] = u[1][2] * μ_X(t[2], u[1][5], u[1][6], u[1][7], u[1][8], u[1][1], u[1][3]) + \n",
    "    u[1][1] * (μ_Y - r(t[2], u[1][5], u[1][6], u[1][7], u[1][8], u[1][1], u[1][3]) - π - δ1 - σ_Y * κ(t[2], u[1][5], u[1][6], u[1][7], u[1][8])) + B1 * ω\n",
    "\n",
    "    residual[2] = u[1][4] * μ_X(t[2], u[1][5], u[1][6], u[1][7], u[1][8], u[1][1], u[1][3]) +\n",
    "        u[1][3] * (μ_Y - r(t[2], u[1][5], u[1][6], u[1][7], u[1][8], u[1][1], u[1][3]) - π - δ2 - σ_Y * κ(t[2], u[1][5], u[1][6], u[1][7], u[1][8])) + B2 * ω\n",
    "\n",
    "    residual[3] = MA_1 * u[1][6]/u[1][5] * μ_X(t[2], u[1][5], u[1][6], u[1][7], u[1][8], u[1][1], u[1][3]) +\n",
    "        (κ(t[2], u[1][5], u[1][6], u[1][7], u[1][8])^2 / 2 * MA_2 * (MA_2 - 1) - MA_2 * (r(t[2], u[1][5], u[1][6], u[1][7], u[1][8], u[1][1], u[1][3]) + π)\n",
    "            - MA_1 * u[1][5] + ΞA_3 / γA)\n",
    "\n",
    "    residual[4] = MB_1 * u[1][8]/u[1][7] * μ_X(t[2], u[1][5], u[1][6], u[1][7], u[1][8], u[1][1], u[1][3]) +\n",
    "        (κ(t[2], u[1][5], u[1][6], u[1][7], u[1][8])^2 / 2 * MB_2 * (MB_2 - 1) - MB_2 * (r(t[2], u[1][5], u[1][6], u[1][7], u[1][8], u[1][1], u[1][3]) + π)\n",
    "            - MB_1 * u[1][7] + ΞB_3 / γB)\n",
    "end"
   ]
  },
  {
   "cell_type": "code",
   "execution_count": null,
   "metadata": {
    "scrolled": true
   },
   "outputs": [],
   "source": [
    "u_0 = ones(8)\n",
    "bvp = TwoPointBVProblem(GarleanuPanageas!, bc!, u_0, (0., 1.))\n",
    "sol = solve(bvp, MIRK4(), dt=0.05)"
   ]
  },
  {
   "cell_type": "code",
   "execution_count": null,
   "metadata": {
    "scrolled": false
   },
   "outputs": [],
   "source": [
    "N = 200\n",
    "u = [ones(8) for i in 1:200]\n",
    "unew = [ones(8) for i in 1:200]\n",
    "du = [zeros(8) for i in 1:200]\n",
    "t = collect(linspace(0, 1, N))\n",
    "\n",
    "stepsize = 0.0000001\n",
    "error = 0.1\n",
    "iter = 0\n",
    "\n",
    "@time while (error >= 1e-6) && (iter <= 10000)\n",
    "    GarleanuPanageas!.(du, u, t)\n",
    "    unew .= stepsize .* du .+ u\n",
    "    \n",
    "    error = maximum(maximum.(abs.((u .- unew)[2:end-1])))\n",
    "    iter += 1\n",
    "    u .= unew\n",
    "end"
   ]
  },
  {
   "cell_type": "code",
   "execution_count": null,
   "metadata": {},
   "outputs": [],
   "source": [
    "using Plots; gr()\n",
    "\n",
    "p1 = plot(t, [u[i][5] for i in 1:N], label = \"gA\", xlab = \"X\")\n",
    "plot!(p1, t, [u[i][7] for i in 1:N], label = \"gB\")\n",
    "\n",
    "p2 = plot(t, [u[i][1] for i in 1:N] .+ [u[i][3] for i in 1:N], label = \"Phi\", xlab = \"X\")\n",
    "\n",
    "plot(p1, p2, size = (780, 300))"
   ]
  },
  {
   "cell_type": "markdown",
   "metadata": {},
   "source": [
    "## Newton-Ralphson"
   ]
  },
  {
   "cell_type": "code",
   "execution_count": null,
   "metadata": {
    "scrolled": false
   },
   "outputs": [],
   "source": [
    "using JLD\n",
    "\n",
    "N = 200\n",
    "X = collect(linspace(0, 1, N))\n",
    "u = [ones(N) for i in 1:8]\n",
    "loaded = load(pwd() * \"\\\\save.jld\")\n",
    "\n",
    "u[1] = loaded[\"ϕ1\"]\n",
    "u[3] = loaded[\"ϕ2\"]\n",
    "u[5] = loaded[\"gA\"]\n",
    "u[7] = loaded[\"gB\"]\n",
    "\n",
    "u[2] = vcat(u[1][2] - u[1][1], u[1][2:end] - u[1][1:end-1]) ./ (1/(N-1))\n",
    "u[4] = vcat(u[3][2] - u[3][1], u[3][2:end] - u[3][1:end-1]) ./ (1/(N-1))\n",
    "u[6] = vcat(u[5][2] - u[5][1], u[5][2:end] - u[5][1:end-1]) ./ (1/(N-1))\n",
    "u[8] = vcat(u[7][2] - u[7][1], u[7][2:end] - u[7][1:end-1]) ./ (1/(N-1))\n",
    "\n",
    "u = [[u[j][i] for j in 1:8] for i in 1:N]\n",
    "\n",
    "u = hcat(u...)\n",
    "Y = u[[1, 3, 5, 7], :] #phi, g"
   ]
  },
  {
   "cell_type": "code",
   "execution_count": null,
   "metadata": {
    "scrolled": true
   },
   "outputs": [],
   "source": [
    "using ApproxFun"
   ]
  },
  {
   "cell_type": "code",
   "execution_count": null,
   "metadata": {},
   "outputs": [],
   "source": [
    "x = Chebyshev(0..1)\n",
    "\n",
    "ϕ1 = Fun(x, ApproxFun.transform(x, reverse(Y[1, :])))\n",
    "ϕ2 = Fun(x, ApproxFun.transform(x, reverse(Y[2, :])))\n",
    "gA = Fun(x, ApproxFun.transform(x, reverse(Y[3, :])))\n",
    "gB = Fun(x, ApproxFun.transform(x, reverse(Y[4, :])))\n",
    "\n",
    "ϕ1 = Fun(x, ones(200))\n",
    "ϕ2 = Fun(x, ones(200))\n",
    "gA = Fun(x, ones(200))\n",
    "gB = Fun(x, ones(200))\n",
    "\n",
    "y = Fun([ϕ1, ϕ2, gA, gB])"
   ]
  },
  {
   "cell_type": "code",
   "execution_count": null,
   "metadata": {},
   "outputs": [],
   "source": [
    "x = Fun(x)"
   ]
  },
  {
   "cell_type": "code",
   "execution_count": null,
   "metadata": {},
   "outputs": [],
   "source": [
    "bc1 = ϕ1' * μ_X(x, gA, gA', gB, gA', ϕ1, ϕ2) +\n",
    "        ϕ1 * (μ_Y - r(x, gA, gA', gB, gA', ϕ1, ϕ2) - π - δ1 - σ_Y * κ(x, gA, gA', gB, gA')) +\n",
    "        B1 * ω\n",
    "\n",
    "bc2 = ϕ2' * μ_X(x, gA, gA', gB, gA', ϕ1, ϕ2) +\n",
    "        ϕ2 * (μ_Y - r(x, gA, gA', gB, gA', ϕ1, ϕ2) - π - δ2 - σ_Y * κ(x, gA, gA', gB, gA')) +\n",
    "        B2 * ω\n",
    "\n",
    "bc3 = MA_1 * gA'/gA * μ_X(x, gA, gA', gB, gA', ϕ1, ϕ2) +\n",
    "        (1/2 * κ(x, gA, gA', gB, gA')^2 * MA_2 * (MA_2 - 1) - MA_2 * (r(x, gA, gA', gB, gA', ϕ1, ϕ2) + π) - MA_1 * gA + ΞA_3/γA)\n",
    "\n",
    "bc4 = MB_1 * gB'/gB * μ_X(x, gA, gA', gB, gA', ϕ1, ϕ2) +\n",
    "        (1/2 * κ(x, gA, gA', gB, gA')^2 * MB_2 * (MB_2 - 1) - MB_2 * (r(x, gA, gA', gB, gA', ϕ1, ϕ2) + π) - MB_1 * gB + ΞB_3/γB)"
   ]
  },
  {
   "cell_type": "code",
   "execution_count": null,
   "metadata": {},
   "outputs": [],
   "source": [
    " μ_X(0, y[3](0), y[3](0)', y[4](0), y[3](0)', y[1](0), y[2](0))"
   ]
  },
  {
   "cell_type": "code",
   "execution_count": null,
   "metadata": {},
   "outputs": [],
   "source": [
    "WRONG!"
   ]
  },
  {
   "cell_type": "code",
   "execution_count": null,
   "metadata": {},
   "outputs": [],
   "source": [
    "function F(y)\n",
    "    ϕ1, ϕ2, gA, gB = components(y)\n",
    "    \n",
    "    [ϕ1' * μ_X(x, gA, gA', gB, gA', ϕ1, ϕ2) +\n",
    "        ϕ1 * (μ_Y - r(x, gA, gA', gB, gA', ϕ1, ϕ2) - π - δ1 - σ_Y * κ(x, gA, gA', gB, gA')) +\n",
    "        B1 * ω, \n",
    "        ϕ1' * μ_X(x, gA, gA', gB, gA', ϕ1, ϕ2) +\n",
    "        ϕ1 * (μ_Y - r(x, gA, gA', gB, gA', ϕ1, ϕ2) - π - δ1 - σ_Y * κ(x, gA, gA', gB, gA')) +\n",
    "        B1 * ω,\n",
    "        ϕ2' * μ_X(x, gA, gA', gB, gA', ϕ1, ϕ2) +\n",
    "        ϕ2 * (μ_Y - r(x, gA, gA', gB, gA', ϕ1, ϕ2) - π - δ2 - σ_Y * κ(x, gA, gA', gB, gA')) +\n",
    "        B2 * ω, \n",
    "        ϕ2' * μ_X(x, gA, gA', gB, gA', ϕ1, ϕ2) +\n",
    "        ϕ2 * (μ_Y - r(x, gA, gA', gB, gA', ϕ1, ϕ2) - π - δ2 - σ_Y * κ(x, gA, gA', gB, gA')) +\n",
    "        B2 * ω,\n",
    "        MA_1 * gA'/gA * μ_X(x, gA, gA', gB, gA', ϕ1, ϕ2) +\n",
    "            (1/2 * κ(x, gA, gA', gB, gA')^2 * MA_2 * (MA_2 - 1) - MA_2 * (r(x, gA, gA', gB, gA', ϕ1, ϕ2) + π) - MA_1 * gA + ΞA_3/γA),\n",
    "        MA_1 * gA'/gA * μ_X(x, gA, gA', gB, gA', ϕ1, ϕ2) +\n",
    "            (1/2 * κ(x, gA, gA', gB, gA')^2 * MA_2 * (MA_2 - 1) - MA_2 * (r(x, gA, gA', gB, gA', ϕ1, ϕ2) + π) - MA_1 * gA + ΞA_3/γA),\n",
    "        MB_1 * gB'/gB * μ_X(x, gA, gA', gB, gA', ϕ1, ϕ2) +\n",
    "            (1/2 * κ(x, gA, gA', gB, gA')^2 * MB_2 * (MB_2 - 1) - MB_2 * (r(x, gA, gA', gB, gA', ϕ1, ϕ2) + π) - MB_1 * gB + ΞB_3/γB),\n",
    "        MB_1 * gB'/gB * μ_X(x, gA, gA', gB, gA', ϕ1, ϕ2) +\n",
    "            (1/2 * κ(x, gA, gA', gB, gA')^2 * MB_2 * (MB_2 - 1) - MB_2 * (r(x, gA, gA', gB, gA', ϕ1, ϕ2) + π) - MB_1 * gB + ΞB_3/γB),\n",
    "    \n",
    "        ϕ1''/2 * σ_X(x, gA, gA', gB, gA')^2 + \n",
    "            ϕ1' * (μ_X(x, gA, gA', gB, gA', ϕ1, ϕ2) + σ_X(x, gA, gA', gB, gA') * (σ_Y - κ(x, gA, gA', gB, gA'))) +\n",
    "            ϕ1 * (μ_Y - r(t, gA, gA', gB, gA', ϕ1, ϕ2) - π - δ1 - σ_Y * κ(x, gA, gA', gB, gA')) +\n",
    "            B1 * ω,\n",
    "\n",
    "        ϕ2''/2 * σ_X(x, gA, gA', gB, gA')^2 + \n",
    "            ϕ2' * (μ_X(x, gA, gA', gB, gA', ϕ1, ϕ2) + σ_X(x, gA, gA', gB, gA') * (σ_Y - κ(x, gA, gA', gB, gA'))) +\n",
    "            ϕ2 * (μ_Y - r(t, gA, gA', gB, gA', ϕ1, ϕ2) - π - δ2 - σ_Y * κ(x, gA, gA', gB, gA')) +\n",
    "            B2 * ω,\n",
    "\n",
    "        1/2 * σ_X(x, gA, gA', gB, gA')^2 * MA_1 * ((MA_1 - 1) * (gA'/gA)^2 + gA''/gA) +\n",
    "            MA_1 * gA'/gA * (μ_X(x, gA, gA', gB, gA', ϕ1, ϕ2) - MA_2 * σ_X(x, gA, gA', gB, gA') * κ(x, gA, gA', gB, gA')) +\n",
    "            (1/2 * κ(x, gA, gA', gB, gA')^2 * MA_2 * (MA_2 - 1) - MA_2 * (r(t, gA, gA', gB, gA', ϕ1, ϕ2) + π) - MA_1 * gA + ΞA_3/γA),\n",
    "\n",
    "        1/2 * σ_X(x, gA, gA', gB, gA')^2 * MB_1 * ((MB_1 - 1) * (gB'/gB)^2 + gB''/gB) +\n",
    "            MB_1 * gB'/gB * (μ_X(x, gA, gA', gB, gA', ϕ1, ϕ2) - MB_2 * σ_X(x, gA, gA', gB, gA') * κ(x, gA, gA', gB, gA')) +\n",
    "            (1/2 * κ(x, gA, gA', gB, gA')^2 * MB_2 * (MB_2 - 1) - MB_2 * (r(t, gA, gA', gB, gA', ϕ1, ϕ2) + π) - MB_1 * gB + ΞB_3/γB)\n",
    "    ]\n",
    "    \n",
    "end"
   ]
  },
  {
   "cell_type": "code",
   "execution_count": null,
   "metadata": {},
   "outputs": [],
   "source": [
    "ODE1 = ϕ1''/2 * σ_X(x, gA, gA', gB, gA')^2 + \n",
    "        ϕ1' * (μ_X(x, gA, gA', gB, gA', ϕ1, ϕ2) + σ_X(x, gA, gA', gB, gA') * (σ_Y - κ(x, gA, gA', gB, gA'))) +\n",
    "        ϕ1 * (μ_Y - r(x, gA, gA', gB, gA', ϕ1, ϕ2) - π - δ1 - σ_Y * κ(x, gA, gA', gB, gA')) +\n",
    "        B1 * ω"
   ]
  },
  {
   "cell_type": "code",
   "execution_count": null,
   "metadata": {},
   "outputs": [],
   "source": [
    "ODE2 = ϕ2''/2 * σ_X(x, gA, gA', gB, gA')^2 + \n",
    "        ϕ2' * (μ_X(x, gA, gA', gB, gA', ϕ1, ϕ2) + σ_X(x, gA, gA', gB, gA') * (σ_Y - κ(x, gA, gA', gB, gA'))) +\n",
    "        ϕ2 * (μ_Y - r(x, gA, gA', gB, gA', ϕ1, ϕ2) - π - δ2 - σ_Y * κ(x, gA, gA', gB, gA')) +\n",
    "        B2 * ω"
   ]
  },
  {
   "cell_type": "code",
   "execution_count": null,
   "metadata": {},
   "outputs": [],
   "source": [
    "ODE3 = 1/2 * σ_X(x, gA, gA', gB, gA')^2 * MA_1 * ((MA_1 - 1) * (gA'/gA)^2 + gA''/gA) +\n",
    "        MA_1 * gA'/gA * (μ_X(x, gA, gA', gB, gA', ϕ1, ϕ2) - MA_2 * σ_X(x, gA, gA', gB, gA') * κ(x, gA, gA', gB, gA')) +\n",
    "        (1/2 * κ(x, gA, gA', gB, gA')^2 * MA_2 * (MA_2 - 1) - MA_2 * (r(x, gA, gA', gB, gA', ϕ1, ϕ2) + π) - MA_1 * gA + ΞA_3/γA)"
   ]
  },
  {
   "cell_type": "code",
   "execution_count": null,
   "metadata": {},
   "outputs": [],
   "source": [
    "ODE4 = 1/2 * σ_X(x, gA, gA', gB, gA')^2 * MB_1 * ((MB_1 - 1) * (gB'/gB)^2 + gB''/gB) +\n",
    "        MB_1 * gB'/gB * (μ_X(x, gA, gA', gB, gA', ϕ1, ϕ2) - MB_2 * σ_X(x, gA, gA', gB, gA') * κ(x, gA, gA', gB, gA')) +\n",
    "        (1/2 * κ(x, gA, gA', gB, gA')^2 * MB_2 * (MB_2 - 1) - MB_2 * (r(x, gA, gA', gB, gA', ϕ1, ϕ2) + π) - MB_1 * gB + ΞB_3/γB)"
   ]
  },
  {
   "cell_type": "code",
   "execution_count": null,
   "metadata": {},
   "outputs": [],
   "source": [
    "system = Fun([bc1(0.), bc1(1.),\n",
    "    bc2(0.), bc2(1.),\n",
    "    bc3(0.), bc3(1.),\n",
    "    bc4(0.), bc4(1.),\n",
    "    ODE1, ODE2, ODE3, ODE4])"
   ]
  },
  {
   "cell_type": "code",
   "execution_count": null,
   "metadata": {},
   "outputs": [],
   "source": [
    "system(1)"
   ]
  },
  {
   "cell_type": "code",
   "execution_count": null,
   "metadata": {},
   "outputs": [],
   "source": [
    "@time ysol=newton(F, y)"
   ]
  },
  {
   "cell_type": "code",
   "execution_count": null,
   "metadata": {},
   "outputs": [],
   "source": []
  }
 ],
 "metadata": {
  "kernelspec": {
   "display_name": "Julia 0.6.2",
   "language": "julia",
   "name": "julia-0.6"
  },
  "language_info": {
   "file_extension": ".jl",
   "mimetype": "application/julia",
   "name": "julia",
   "version": "0.6.2"
  }
 },
 "nbformat": 4,
 "nbformat_minor": 2
}
