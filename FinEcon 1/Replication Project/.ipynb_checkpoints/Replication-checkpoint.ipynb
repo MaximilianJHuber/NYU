{
 "cells": [
  {
   "cell_type": "markdown",
   "metadata": {},
   "source": [
    "The equilibrium is described by the process for the consumption share of type-A households, $X_t$:\n",
    "\n",
    "$$dX_t = \\mu_X(X_t) dt + \\sigma_X(X_t)dB_t$$\n",
    "\n",
    "Drift and volatility are functions of the solution to the following system of second-order ODEs:"
   ]
  },
  {
   "cell_type": "markdown",
   "metadata": {},
   "source": [
    "\\begin{equation}\n",
    "0=\\frac{\\sigma_X^2}{2}\\frac{d^2\\phi^j}{dX_t^2}+\\frac{d\\phi^j}{dX_t}\\big(\\mu_X + \\sigma_X(\\sigma_Y-\\kappa)\\big) + \\phi^j ( \\mu_Y - r - \\pi - \\delta_j -\\sigma_Y \\kappa) + B_j \\omega\n",
    "\\end{equation}"
   ]
  },
  {
   "cell_type": "markdown",
   "metadata": {},
   "source": [
    "\\begin{equation}\n",
    "0=\\frac{\\sigma_X^2}{2} M_1^i  \\Biggm ((M_1^i-1) \\biggm(\\frac{\\frac{dg^i}{dX_t}}{g^i} \\biggm)^2+\\frac{\\frac{d^2g^i}{dX_t^2}}{g^i}  \\Biggm ) + M_1^i\\frac{\\frac{dg^i}{dX_t}}{g^i}\\big(\\mu_X-M_2^i\\sigma_X\\kappa\\big) + \\\\\n",
    "\\Biggm ( \\frac{\\kappa^2(X_t)}{2}M_2^i(M_2^i-1)-M_2^i\\big(r(X_t)+\\pi\\big)-M_1^ig^i+\\frac{\\Xi_3^i}{\\gamma^i}\\Biggm)\n",
    "\\end{equation}"
   ]
  },
  {
   "cell_type": "markdown",
   "metadata": {},
   "source": [
    "The boundary conditions are, for $X_t = 0$ or $X_t = 1$:\n",
    "$$0 = \\frac{d\\phi^j}{dX_t} \\mu_X + \\phi^j\\big(\\mu_Y - r - \\pi - \\delta_j - \\sigma_Y\\kappa\\big) + B_j \\omega$$\n",
    "\n",
    "$$0 = M_1^i \\frac{1}{g^i}\\frac{dg^i}{dX_t}\\mu_X + \\Big(\\frac{\\kappa(X_t)^2}{2}M_2^i(M_2^i - 1) - M_2^i(r(X_t) + \\pi) - M_1^i g^i + \\frac{\\Xi_3^i}{\\gamma^i}\\Big)$$"
   ]
  },
  {
   "cell_type": "markdown",
   "metadata": {},
   "source": [
    "Mind: (A.22) has a typo at the second derivative of $g^i$."
   ]
  },
  {
   "cell_type": "markdown",
   "metadata": {},
   "source": [
    "The auxiliary functions that appear in the ODEs are defined the following way:"
   ]
  },
  {
   "cell_type": "markdown",
   "metadata": {},
   "source": [
    "$$\\sigma_{X}(X_{t})=\\frac{X_{t}\\big(\\Gamma(X_{t})-\\gamma^{A}\\big)}{\\frac{\\Gamma(X_{t})}{\\gamma^{B}}X_{t}(1-X_{t})\\Big[\\frac{1-\\gamma^{A}-\\alpha^{A}}{\\alpha^{A}}\\frac{g^{A'}}{g^{A}}-\\frac{1-\\gamma^{B}-\\alpha^{B}}{\\alpha^{B}}\\frac{g^{B'}}{g^{B}}\\Big]+\\gamma^{A}}\\sigma_{Y}$$"
   ]
  },
  {
   "cell_type": "code",
   "execution_count": 1,
   "metadata": {},
   "outputs": [],
   "source": [
    "σ_X(X_t, gA, gAprime, gB, gBprime) = X_t * (Γ(X_t) - γA) / \n",
    "    (Γ(X_t)/γB * X_t * (1 - X_t) * \n",
    "        ((1 - γA - αA) / αA * gAprime / gA - (1 - γB - αB) / αB * gBprime / gB) \n",
    "    + γA);"
   ]
  },
  {
   "cell_type": "markdown",
   "metadata": {},
   "source": [
    "$$\\mu_X(X_t) = X_t\\Big[\\frac{r(X_t)-\\rho}{1-\\alpha^A} + n^A(X_t)-\\pi-\\mu_Y\\Big] + v^A\\pi\\beta^A(X_t)-\\sigma_Y \\sigma_X(X_t)$$"
   ]
  },
  {
   "cell_type": "code",
   "execution_count": 2,
   "metadata": {},
   "outputs": [],
   "source": [
    "μ_X(X_t, gA, gAprime, gB, gBprime, ϕ1, ϕ2) =  X_t * \n",
    "    ((r(X_t, gA, gAprime, gB, gBprime, ϕ1, ϕ2) - ρ) / (1 - αA) + nA(X_t, gA, gAprime, gB, gBprime) - π - μ_Y) +\n",
    "    vA * π * β(gA, ϕ1, ϕ2) - σ_Y * σ_X(X_t, gA, gAprime, gB, gBprime);"
   ]
  },
  {
   "cell_type": "markdown",
   "metadata": {},
   "source": [
    "$$\\kappa(X_t) = \\Gamma(X_t)\\sigma_Y + \\sum_i\\omega^i(X_t)\\Big(\\frac{1-\\gamma^i-\\alpha^i}{\\alpha^i}\\Big) \\frac{g^{i'}}{g^i}\\sigma_X(X_t)$$"
   ]
  },
  {
   "cell_type": "code",
   "execution_count": 3,
   "metadata": {},
   "outputs": [],
   "source": [
    "κ(X_t, gA, gAprime, gB, gBprime) =  Γ(X_t) * σ_Y + \n",
    "    ωA(X_t) * (1-γA-αA) / αA * gAprime / gA * σ_X(X_t, gA, gAprime, gB, gBprime) +\n",
    "    ωB(X_t) * (1-γB-αB) / αB * gBprime / gB * σ_X(X_t, gA, gAprime, gB, gBprime);"
   ]
  },
  {
   "cell_type": "markdown",
   "metadata": {},
   "source": [
    "$$r(X_{t})=\\rho+\\frac{1}{\\Theta(X_{t})}\\left\\{ \\mu_{Y}-\\pi\\Big(\\sum_{i}v^{i}\\beta^{i}(X_{t})-1\\Big)\\right\\} -\\frac{1}{\\Theta(X_{t})}\\sum_{i}X_{t}^{i}n^{i}(X_{t})$$\n",
    "TODO: check meaning of parenthesis!"
   ]
  },
  {
   "cell_type": "code",
   "execution_count": 4,
   "metadata": {},
   "outputs": [],
   "source": [
    "r(X_t, gA, gAprime, gB, gBprime, ϕ1, ϕ2) = ρ + \n",
    "    1 / Θ(X_t) * (μ_Y - π * (vA * β(gA, ϕ1, ϕ2) + vB * β(gB, ϕ1, ϕ2) - 1)) -\n",
    "    1 / Θ(X_t) * (X_t * nA(X_t, gA, gAprime, gB, gBprime) + (1 - X_t) * nB(X_t, gA, gAprime, gB, gBprime));"
   ]
  },
  {
   "cell_type": "markdown",
   "metadata": {},
   "source": [
    "$$n^i(X_t) = \\frac{2-\\alpha^i}{2\\gamma^i(1-\\alpha^i)}\\kappa^2(X_t) + \\frac{\\alpha^i + \\gamma^i - 1}{2\\gamma^i\\alpha^i}\\Bigg(\\frac{g^{i'}}{g^i}\\sigma_X(X_t)\\Bigg)^2\\\\\n",
    "-\\frac{\\gamma^i -\\alpha^i(1-\\gamma^i)}{\\gamma^i(1-\\gamma^i)} \\frac{\\alpha^i+\\gamma^i-1}{\\alpha^i(1-\\alpha^i)}\\Big(\\frac{g^{i'}}{g^i}\\sigma_X(X_t)\\Big)\\kappa(X_t)\n",
    "$$"
   ]
  },
  {
   "cell_type": "code",
   "execution_count": 5,
   "metadata": {},
   "outputs": [],
   "source": [
    "nA(X_t, gA, gAprime, gB, gBprime) =  (2 - αA) / (2 * γA * (1-αA)) * κ(X_t, gA, gAprime, gB, gBprime)^2 + \n",
    "    (αA + γA - 1) / (2 * γA * αA) * (gAprime / gA * σ_X(X_t, gA, gAprime, gB, gBprime))^2 -\n",
    "    (γA - αA * (1 - γA)) / (γA * (1 - γA)) * (αA + γA - 1) / (αA * (1 - αA)) * \n",
    "        (gAprime / gA * σ_X(X_t, gA, gAprime, gB, gBprime)) * κ(X_t, gA, gAprime, gB, gBprime)\n",
    "\n",
    "nB(X_t, gA, gAprime, gB, gBprime) =  (2 - αB) / (2 * γB * (1-αB)) * κ(X_t, gA, gAprime, gB, gBprime)^2 + \n",
    "    (αB + γB - 1) / (2 * γB * αB) * (gBprime / gB * σ_X(X_t, gA, gAprime, gB, gBprime))^2 -\n",
    "    (γB - αB * (1 - γB)) / (γB * (1 - γB)) * (αB + γB - 1) / (αB * (1 - αB)) * \n",
    "        (gBprime / gB * σ_X(X_t, gA, gAprime, gB, gBprime)) * κ(X_t, gA, gAprime, gB, gBprime);"
   ]
  },
  {
   "cell_type": "markdown",
   "metadata": {},
   "source": [
    "$$\\beta^i(X_t)=g^i(X_t)\\underset{\\phi^2(X_t) + \\phi^2(X_t)}{\\underbrace{\\phi(X_t)}}$$"
   ]
  },
  {
   "cell_type": "code",
   "execution_count": 6,
   "metadata": {},
   "outputs": [],
   "source": [
    "β(g, ϕ1, ϕ2) =  g * (ϕ1 + ϕ2);"
   ]
  },
  {
   "cell_type": "markdown",
   "metadata": {},
   "source": [
    "$$X_t^A = X_t\\quad\\text{and}\\quad X_t^B = 1-X_t$$"
   ]
  },
  {
   "cell_type": "markdown",
   "metadata": {},
   "source": [
    "$$\\Gamma(X_t) = \\frac{1}{\\sum_i \\frac{X_t^i}{\\gamma^i}}$$"
   ]
  },
  {
   "cell_type": "code",
   "execution_count": 7,
   "metadata": {},
   "outputs": [],
   "source": [
    "Γ(X_t) =  1 / (X_t / γA + (1 - X_t) / γB);"
   ]
  },
  {
   "cell_type": "markdown",
   "metadata": {},
   "source": [
    "$$\\Theta(X_t) = \\sum_i \\frac{X_t^i}{1-\\alpha^i}$$"
   ]
  },
  {
   "cell_type": "code",
   "execution_count": 8,
   "metadata": {},
   "outputs": [],
   "source": [
    "Θ(X_t) =  X_t / (1 - αA) + (1 - X_t) / (1 - αB);"
   ]
  },
  {
   "cell_type": "markdown",
   "metadata": {},
   "source": [
    "$$\\omega^i(X_t) = X_t^i \\frac{\\Gamma(X_t)}{\\gamma^i}$$"
   ]
  },
  {
   "cell_type": "code",
   "execution_count": 9,
   "metadata": {},
   "outputs": [],
   "source": [
    "ωA(X_t) = X_t * Γ(X_t) / γA\n",
    "ωB(X_t) = (1 - X_t) * Γ(X_t) / γB;"
   ]
  },
  {
   "cell_type": "markdown",
   "metadata": {},
   "source": [
    "$$\\Delta(X_t) = \\sum_i \\omega^i(X_t)\\frac{\\gamma^i + 1}{\\gamma^i}$$"
   ]
  },
  {
   "cell_type": "code",
   "execution_count": 10,
   "metadata": {},
   "outputs": [],
   "source": [
    "Δ(X_t) =  ωA(X_t) * (γA + 1) / γA + ωB(X_t) * (γB + 1) / γB;"
   ]
  },
  {
   "cell_type": "markdown",
   "metadata": {},
   "source": [
    "The primitive constants of the model are:"
   ]
  },
  {
   "cell_type": "code",
   "execution_count": 11,
   "metadata": {},
   "outputs": [],
   "source": [
    "const vA = 0.01; const vB = 1 - vA; \n",
    "const ρ = 0.001\n",
    "const B1 = 30.72; const B2 = -30.29\n",
    "const δ1 = 0.0525; const δ2 = -0.0611\n",
    "const ω = 1 - 0.08\n",
    "const γA = 1.5; const αA = 1 - 1/0.70\n",
    "const γB = 10.; const αB = 1 - 1/0.05\n",
    "const μ_Y = 0.02; const σ_Y = 0.041\n",
    "const π = 0.02;"
   ]
  },
  {
   "cell_type": "markdown",
   "metadata": {},
   "source": [
    "The auxiliary constants are defined by:"
   ]
  },
  {
   "cell_type": "markdown",
   "metadata": {},
   "source": [
    "$M_1^i = - 1 - \\frac{\\Xi_1^i}{\\gamma^i}$, $M_2^i = \\frac{\\gamma^i - 1}{\\gamma^i}$, $\\Xi_1^i = -\\frac{\\alpha^i+\\gamma^i-1}{\\alpha^i}$, $\\Xi_2^i = \\frac{\\alpha^i}{(1-\\alpha^i)(1-\\gamma^i)}$, $\\Xi_3^i = -\\frac{\\rho + \\pi}{\\alpha^i}(1-\\gamma^i)$, $\\Xi_4^i = - \\frac{\\alpha^i + \\gamma^i - 1}{(1-\\alpha^i)(1-\\gamma^i)}$"
   ]
  },
  {
   "cell_type": "code",
   "execution_count": 12,
   "metadata": {},
   "outputs": [],
   "source": [
    "const ΞA_1 = - (αA + γA - 1) / αA; const ΞB_1 = - (αB + γB - 1) / αB\n",
    "const ΞA_2 = αA / ((1-αA) * (1-γA)); const ΞB_2 = αB / ((1-αB) * (1-γB))\n",
    "const ΞA_3 = - (ρ + π) / αA * (1 - γA); const ΞB_3 = - (ρ + π) / αB * (1 - γB)\n",
    "const ΞA_4 = - (αA + γA - 1) / ((1-αA) * (1-γA)); const ΞB_4 = - (αB + γB - 1) / ((1-αB) * (1-γB))\n",
    "const MA_1 = - 1 - ΞA_1 / γA; const MB_1 = - 1 - ΞB_1 / γB\n",
    "const MA_2 = (γA - 1) / γA; const MB_2 = (γB - 1) / γB;"
   ]
  },
  {
   "cell_type": "markdown",
   "metadata": {},
   "source": [
    "## Numerical Solution - DifferentialEquations.jl"
   ]
  },
  {
   "cell_type": "markdown",
   "metadata": {},
   "source": [
    "My first pass in solving this ODE is with [DifferentialEquations.jl](https://github.com/JuliaDiffEq/DifferentialEquations.jl). The ODE should be on the boarder of what is possible to code up with this package. The solution algorithm is likely going to be MIRK4."
   ]
  },
  {
   "cell_type": "markdown",
   "metadata": {},
   "source": [
    "The package demand the following format of the ODE:\n",
    "$$u^{\\prime} = \\frac{du}{dt} = f(u, p, t)$$\n",
    "with $u(t_0) = a$ and $u(t_f) = b$.\n",
    "\n",
    "$t$ is in the domain of $f$, $p$ are constants, and $u$ is the solution function to the ODE."
   ]
  },
  {
   "cell_type": "markdown",
   "metadata": {},
   "source": [
    "Translating this to the ODE at hand means $t = X_t$ and u is:"
   ]
  },
  {
   "cell_type": "code",
   "execution_count": 13,
   "metadata": {},
   "outputs": [],
   "source": [
    "using DifferentialEquations, BoundaryValueDiffEq, Plots; gr();"
   ]
  },
  {
   "cell_type": "markdown",
   "metadata": {},
   "source": [
    "\\begin{equation}\n",
    "u_1^{\\prime}(t) = u_2(t)\n",
    "\\end{equation}"
   ]
  },
  {
   "cell_type": "markdown",
   "metadata": {},
   "source": [
    "\\begin{equation}\n",
    "\\underset{\\frac{d^{2}\\phi^{1}}{dX_{t}^{2}}}{\\underbrace{u_{2}^{\\prime}(t)}}=\\frac{2}{\\sigma_{X}^{2}}\\Big(-\\underset{\\frac{d\\phi^{1}}{dX_{t}}}{\\underbrace{u_{2}(t)}}\\big(\\mu_{X}+\\sigma_{X}(\\sigma_{Y}-\\kappa)\\big)-\\underset{\\phi^{1}}{\\underbrace{u_{1}(t)}}(\\mu_{Y}-r-\\pi-\\delta_{1}-\\sigma_{Y}\\kappa)-B_{1}\\omega\\Big)\n",
    "\\end{equation}"
   ]
  },
  {
   "cell_type": "markdown",
   "metadata": {},
   "source": [
    "\\begin{equation}\n",
    "u_3^{\\prime}(t) = u_4(t)\n",
    "\\end{equation}"
   ]
  },
  {
   "cell_type": "markdown",
   "metadata": {},
   "source": [
    "\\begin{equation}\n",
    "\\underset{\\frac{d^{2}\\phi^{2}}{dX_{t}^{2}}}{\\underbrace{u_{4}^{\\prime}(t)}}=\\frac{2}{\\sigma_{X}^{2}}\\Big(-\\underset{\\frac{d\\phi^{2}}{dX_{t}}}{\\underbrace{u_{4}(t)}}\\big(\\mu_{X}+\\sigma_{X}(\\sigma_{Y}-\\kappa)\\big)-\\underset{\\phi^{2}}{\\underbrace{u_{3}(t)}}(\\mu_{Y}-r-\\pi-\\delta_{2}-\\sigma_{Y}\\kappa)-B_{2}\\omega\\Big)\n",
    "\\end{equation}"
   ]
  },
  {
   "cell_type": "markdown",
   "metadata": {},
   "source": [
    "\\begin{equation}\n",
    "u_5^{\\prime}(t) = u_6(t)\n",
    "\\end{equation}"
   ]
  },
  {
   "cell_type": "markdown",
   "metadata": {},
   "source": [
    "\\begin{equation}\n",
    "\\underset{\\frac{d^{2}g^{A}}{dX_{t}^{2}}}{\\underbrace{u_{6}^{\\prime}(t)}}=\\frac{2g^{A}}{M_{1}^{A}\\sigma_{X}^{2}}\\Bigg(-M_{1}^{A}\\frac{\\overset{\\frac{dg^{A}}{dX_{t}}}{\\overbrace{u_{6}(t)}}}{\\underset{g^{A}}{\\underbrace{u_{5}(t)}}}\\big(\\mu_{X}-M_{2}^{A}\\sigma_{X}\\kappa\\big)-\\Big(\\frac{\\kappa^{2}}{2}M_{2}^{A}(M_{2}^{A}-1)-M_{2}^{A}\\big(r+\\pi\\big)-M_{1}^{A}u_{5}(t)+\\frac{\\Xi_{3}^{A}}{\\gamma^{A}}\\Big)\\Bigg)-u_{5}(t)(M_{1}^{A}-1)\\biggm(\\frac{u_{6}(t)}{u_{5}(t)}\\biggm)^{2}\n",
    "\\end{equation}"
   ]
  },
  {
   "cell_type": "markdown",
   "metadata": {},
   "source": [
    "\\begin{equation}\n",
    "u_7^{\\prime}(t) = u_8(t)\n",
    "\\end{equation}"
   ]
  },
  {
   "cell_type": "markdown",
   "metadata": {},
   "source": [
    "\\begin{equation}\n",
    "\\underset{\\frac{d^{2}g^{B}}{dX_{t}^{2}}}{\\underbrace{u_{8}^{\\prime}(t)}}=\\frac{2g^{B}}{M_{1}^{B}\\sigma_{X}^{2}}\\Bigg(-M_{1}^{B}\\frac{\\overset{\\frac{dg^{B}}{dX_{t}}}{\\overbrace{u_{8}(t)}}}{\\underset{g^{B}}{\\underbrace{u_{7}(t)}}}\\big(\\mu_{X}-M_{2}^{B}\\sigma_{X}\\kappa\\big)-\\Big(\\frac{\\kappa^{2}}{2}M_{2}^{B}(M_{2}^{B}-1)-M_{2}^{B}\\big(r+\\pi\\big)-M_{1}^{B}u_{7}(t)+\\frac{\\Xi_{3}^{B}}{\\gamma^{B}}\\Big)\\Bigg)-u_{7}(t)(M_{1}^{B}-1)\\biggm(\\frac{u_{8}(t)}{u_{7}(t)}\\biggm)^{2}\n",
    "\\end{equation}"
   ]
  },
  {
   "cell_type": "code",
   "execution_count": 14,
   "metadata": {},
   "outputs": [
    {
     "data": {
      "text/plain": [
       "GarleanuPanageas! (generic function with 1 method)"
      ]
     },
     "execution_count": 14,
     "metadata": {},
     "output_type": "execute_result"
    }
   ],
   "source": [
    "function GarleanuPanageas!(du,u,p,t)\n",
    "    du[1] = u[2]\n",
    "    du[2] = 2/σ_X(t, u[5], u[6], u[7], u[8])^2 * (\n",
    "        - u[2] * (μ_X(t, u[5], u[6], u[7], u[8], u[1], u[3]) + σ_X(t, u[5], u[6], u[7], u[8]) * (σ_Y - κ(t, u[5], u[6], u[7], u[8])))\n",
    "        - u[1] * (μ_Y - r(t, u[5], u[6], u[7], u[8], u[1], u[3]) - π - δ1 - σ_Y * κ(t, u[5], u[6], u[7], u[8]))\n",
    "        - B1 * ω\n",
    "        )\n",
    "    du[3] = u[4]\n",
    "    du[4] = 2/σ_X(t, u[5], u[6], u[7], u[8])^2 * (\n",
    "        - u[4] * (μ_X(t, u[5], u[6], u[7], u[8], u[1], u[3]) + σ_X(t, u[5], u[6], u[7], u[8]) * (σ_Y - κ(t, u[5], u[6], u[7], u[8])))\n",
    "        - u[3] * (μ_Y - r(t, u[5], u[6], u[7], u[8], u[1], u[3]) - π - δ2 - σ_Y * κ(t, u[5], u[6], u[7], u[8]))\n",
    "        - B2 * ω\n",
    "        )\n",
    "    du[5] = u[6]\n",
    "    du[6] = 2 * u[5] / (MA_1 * σ_X(t, u[5], u[6], u[7], u[8])^2) * (\n",
    "        - MA_1 * (u[6]/u[5]) * (μ_X(t, u[5], u[6], u[7], u[8], u[1], u[3]) - MA_2 * σ_X(t, u[5], u[6], u[7], u[8]) * κ(t, u[5], u[6], u[7], u[8]))\n",
    "        - (κ(t, u[5], u[6], u[7], u[8])^2 / 2 * MA_2 * (MA_2 - 1) - MA_2 * (r(t, u[5], u[6], u[7], u[8], u[1], u[3]) + π)\n",
    "            - MA_1 * u[5] + ΞA_3 / γA)\n",
    "        ) - u[5] * (MA_1 - 1) * (u[6]/u[5])^2\n",
    "    du[7] = u[8]\n",
    "    du[8] = 2 * u[7] / (MB_1 * σ_X(t, u[5], u[6], u[7], u[8])^2) * (\n",
    "        - MB_1 * (u[8]/u[7]) * (μ_X(t, u[5], u[6], u[7], u[8], u[1], u[3]) - MB_2 * σ_X(t, u[5], u[6], u[7], u[8]) * κ(t, u[5], u[6], u[7], u[8]))\n",
    "        - (κ(t, u[5], u[6], u[7], u[8])^2 / 2 * MB_2 * (MB_2 - 1) - MB_2 * (r(t, u[5], u[6], u[7], u[8], u[1], u[3]) + π)\n",
    "            - MB_1 * u[7] + ΞB_3 / γB)\n",
    "        ) - u[7] * (MB_1 - 1) * (u[8]/u[7])^2\n",
    "end"
   ]
  },
  {
   "cell_type": "markdown",
   "metadata": {},
   "source": [
    "The boundary conditions are, for $t = 0$ and $t = 1$:"
   ]
  },
  {
   "cell_type": "markdown",
   "metadata": {},
   "source": [
    "\\begin{equation}\n",
    "0=\\underset{\\frac{d\\phi^{1}}{dX_{t}}}{\\underbrace{u_{2}(t)}}\\mu_{X}+\\underset{\\phi^{1}}{\\underbrace{u_{1}(t)}}\\big(\\mu_{Y}-r-\\pi-\\delta_{1}-\\sigma_{Y}\\kappa\\big)+B_{1}\\omega\n",
    "\\end{equation}"
   ]
  },
  {
   "cell_type": "markdown",
   "metadata": {},
   "source": [
    "\\begin{equation}\n",
    "0=\\underset{\\frac{d\\phi^{2}}{dX_{t}}}{\\underbrace{u_{4}(t)}}\\mu_{X}+\\underset{\\phi^{2}}{\\underbrace{u_{3}(t)}}\\big(\\mu_{Y}-r-\\pi-\\delta_{2}-\\sigma_{Y}\\kappa\\big)+B_{2}\\omega\n",
    "\\end{equation}"
   ]
  },
  {
   "cell_type": "markdown",
   "metadata": {},
   "source": [
    "\\begin{equation}\n",
    "0=M_{1}^{A}\\frac{1}{\\underset{g^{A}}{\\underbrace{u_{5}(t)}}}\\underset{\\frac{dg^{A}}{dX_{t}}}{\\underbrace{u_{6}(t)}}\\mu_{X}+\\Big(\\frac{\\kappa^{2}}{2}M_{2}^{A}(M_{2}^{A}-1)-M_{2}^{A}(r+\\pi)-M_{1}^{A}u_{5}(t)+\\frac{\\Xi_{3}^{A}}{\\gamma^{A}}\\Big)\n",
    "\\end{equation}"
   ]
  },
  {
   "cell_type": "markdown",
   "metadata": {},
   "source": [
    "\\begin{equation}\n",
    "0=M_{1}^{B}\\frac{1}{\\underset{g^{B}}{\\underbrace{u_{7}(t)}}}\\underset{\\frac{dg^{B}}{dX_{t}}}{\\underbrace{u_{8}(t)}}\\mu_{X}+\\Big(\\frac{\\kappa^{2}}{2}M_{2}^{B}(M_{2}^{B}-1)-M_{2}^{B}(r+\\pi)-M_{1}^{B}u_{7}(t)+\\frac{\\Xi_{3}^{B}}{\\gamma^{B}}\\Big)\n",
    "\\end{equation}"
   ]
  },
  {
   "cell_type": "code",
   "execution_count": 15,
   "metadata": {},
   "outputs": [
    {
     "data": {
      "text/plain": [
       "bc! (generic function with 1 method)"
      ]
     },
     "execution_count": 15,
     "metadata": {},
     "output_type": "execute_result"
    }
   ],
   "source": [
    "function bc!(residual, u, p, t)\n",
    "    #at t = 0\n",
    "    residual[1] = u[1][2] * μ_X(t[1], u[1][5], u[1][6], u[1][7], u[1][8], u[1][1], u[1][3]) + \n",
    "        u[1][1] * (μ_Y - r(t[1], u[1][5], u[1][6], u[1][7], u[1][8], u[1][1], u[1][3]) - π - δ1 - σ_Y * κ(t[1], u[1][5], u[1][6], u[1][7], u[1][8])) + B1 * ω\n",
    "\n",
    "    residual[2] = u[1][4] * μ_X(t[1], u[1][5], u[1][6], u[1][7], u[1][8], u[1][1], u[1][3]) +\n",
    "        u[1][3] * (μ_Y - r(t[1], u[1][5], u[1][6], u[1][7], u[1][8], u[1][1], u[1][3]) - π - δ2 - σ_Y * κ(t[1], u[1][5], u[1][6], u[1][7], u[1][8])) + B2 * ω\n",
    "\n",
    "    residual[3] = MA_1 * u[1][6]/u[1][5] * μ_X(t[1], u[1][5], u[1][6], u[1][7], u[1][8], u[1][1], u[1][3]) +\n",
    "        (κ(t[1], u[1][5], u[1][6], u[1][7], u[1][8])^2 / 2 * MA_2 * (MA_2 - 1) - MA_2 * (r(t[1], u[1][5], u[1][6], u[1][7], u[1][8], u[1][1], u[1][3]) + π)\n",
    "            - MA_1 * u[1][5] + ΞA_3 / γA)\n",
    "\n",
    "    residual[4] = MB_1 * u[1][8]/u[1][7] * μ_X(t[1], u[1][5], u[1][6], u[1][7], u[1][8], u[1][1], u[1][3]) +\n",
    "        (κ(t[1], u[1][5], u[1][6], u[1][7], u[1][8])^2 / 2 * MB_2 * (MB_2 - 1) - MB_2 * (r(t[1], u[1][5], u[1][6], u[1][7], u[1][8], u[1][1], u[1][3]) + π)\n",
    "            - MB_1 * u[1][7] + ΞB_3 / γB)\n",
    "    \n",
    "    #at t = 1\n",
    "    residual[1] = u[1][2] * μ_X(t[2], u[1][5], u[1][6], u[1][7], u[1][8], u[1][1], u[1][3]) + \n",
    "    u[1][1] * (μ_Y - r(t[2], u[1][5], u[1][6], u[1][7], u[1][8], u[1][1], u[1][3]) - π - δ1 - σ_Y * κ(t[2], u[1][5], u[1][6], u[1][7], u[1][8])) + B1 * ω\n",
    "\n",
    "    residual[2] = u[1][4] * μ_X(t[2], u[1][5], u[1][6], u[1][7], u[1][8], u[1][1], u[1][3]) +\n",
    "        u[1][3] * (μ_Y - r(t[2], u[1][5], u[1][6], u[1][7], u[1][8], u[1][1], u[1][3]) - π - δ2 - σ_Y * κ(t[2], u[1][5], u[1][6], u[1][7], u[1][8])) + B2 * ω\n",
    "\n",
    "    residual[3] = MA_1 * u[1][6]/u[1][5] * μ_X(t[2], u[1][5], u[1][6], u[1][7], u[1][8], u[1][1], u[1][3]) +\n",
    "        (κ(t[2], u[1][5], u[1][6], u[1][7], u[1][8])^2 / 2 * MA_2 * (MA_2 - 1) - MA_2 * (r(t[2], u[1][5], u[1][6], u[1][7], u[1][8], u[1][1], u[1][3]) + π)\n",
    "            - MA_1 * u[1][5] + ΞA_3 / γA)\n",
    "\n",
    "    residual[4] = MB_1 * u[1][8]/u[1][7] * μ_X(t[2], u[1][5], u[1][6], u[1][7], u[1][8], u[1][1], u[1][3]) +\n",
    "        (κ(t[2], u[1][5], u[1][6], u[1][7], u[1][8])^2 / 2 * MB_2 * (MB_2 - 1) - MB_2 * (r(t[2], u[1][5], u[1][6], u[1][7], u[1][8], u[1][1], u[1][3]) + π)\n",
    "            - MB_1 * u[1][7] + ΞB_3 / γB)\n",
    "end"
   ]
  },
  {
   "cell_type": "code",
   "execution_count": 16,
   "metadata": {},
   "outputs": [
    {
     "data": {
      "text/plain": [
       "DiffEqBase.BVProblem with uType Array{Float64,1} and tType Float64. In-place: true\n",
       "timespan: (0.0, 1.0)\n",
       "u0: [400.0, 75.0, -350.0, -60.0, 0.8, 0.01, 0.95, -0.01]"
      ]
     },
     "execution_count": 16,
     "metadata": {},
     "output_type": "execute_result"
    }
   ],
   "source": [
    "u_0 = [400, 75, -350, -60, 0.8, 0.01, 0.95, -0.01]\n",
    "\n",
    "bvp = TwoPointBVProblem(GarleanuPanageas!, bc!, u_0, (0., 1.))"
   ]
  },
  {
   "cell_type": "code",
   "execution_count": 17,
   "metadata": {},
   "outputs": [
    {
     "data": {
      "text/plain": [
       "DiffEqBase.BVProblem with uType Array{Array{Float64,1},1} and tType Float64. In-place: true\n",
       "timespan: (0.0, 1.0)\n",
       "u0: Array{Float64,1}[[0.0, 75.0, -350.0, -60.0, 0.8, 0.01, 0.95, -0.01], [20.0, 75.0, -350.0, -60.0, 0.8, 0.01, 0.95, -0.01], [40.0, 75.0, -350.0, -60.0, 0.8, 0.01, 0.95, -0.01], [60.0, 75.0, -350.0, -60.0, 0.8, 0.01, 0.95, -0.01], [80.0, 75.0, -350.0, -60.0, 0.8, 0.01, 0.95, -0.01], [100.0, 75.0, -350.0, -60.0, 0.8, 0.01, 0.95, -0.01], [120.0, 75.0, -350.0, -60.0, 0.8, 0.01, 0.95, -0.01], [140.0, 75.0, -350.0, -60.0, 0.8, 0.01, 0.95, -0.01], [160.0, 75.0, -350.0, -60.0, 0.8, 0.01, 0.95, -0.01], [180.0, 75.0, -350.0, -60.0, 0.8, 0.01, 0.95, -0.01]  …  [220.0, 75.0, -350.0, -60.0, 0.8, 0.01, 0.95, -0.01], [240.0, 75.0, -350.0, -60.0, 0.8, 0.01, 0.95, -0.01], [260.0, 75.0, -350.0, -60.0, 0.8, 0.01, 0.95, -0.01], [280.0, 75.0, -350.0, -60.0, 0.8, 0.01, 0.95, -0.01], [300.0, 75.0, -350.0, -60.0, 0.8, 0.01, 0.95, -0.01], [320.0, 75.0, -350.0, -60.0, 0.8, 0.01, 0.95, -0.01], [340.0, 75.0, -350.0, -60.0, 0.8, 0.01, 0.95, -0.01], [360.0, 75.0, -350.0, -60.0, 0.8, 0.01, 0.95, -0.01], [380.0, 75.0, -350.0, -60.0, 0.8, 0.01, 0.95, -0.01], [400.0, 75.0, -350.0, -60.0, 0.8, 0.01, 0.95, -0.01]]"
      ]
     },
     "execution_count": 17,
     "metadata": {},
     "output_type": "execute_result"
    }
   ],
   "source": [
    "tspan = 0:0.05:1\n",
    "initial_u(t) = [400*t, 75, -350, -60, 0.8, 0.01, 0.95, -0.01]\n",
    "u0 = [initial_u( i ) for i in tspan]\n",
    "\n",
    "bvp = BVProblem(GarleanuPanageas!, bc!, u0, (tspan[1],tspan[end]), nothing)"
   ]
  },
  {
   "cell_type": "code",
   "execution_count": 18,
   "metadata": {},
   "outputs": [
    {
     "name": "stderr",
     "output_type": "stream",
     "text": [
      "\u001b[1m\u001b[33mWARNING: \u001b[39m\u001b[22m\u001b[33mbzeros(::Type{T}, n::Integer, m::Integer, a::Integer, b::Integer) where T is deprecated, use BandedMatrix(Zeros{T}(n, m), (a, b)) instead.\u001b[39m\n",
      "Stacktrace:\n",
      " [1] \u001b[1mdepwarn\u001b[22m\u001b[22m\u001b[1m(\u001b[22m\u001b[22m::String, ::Symbol\u001b[1m)\u001b[22m\u001b[22m at \u001b[1m.\\deprecated.jl:70\u001b[22m\u001b[22m\n",
      " [2] \u001b[1mbzeros\u001b[22m\u001b[22m\u001b[1m(\u001b[22m\u001b[22m::Type{Float64}, ::Int64, ::Int64, ::Int64, ::Int64\u001b[1m)\u001b[22m\u001b[22m at \u001b[1m.\\deprecated.jl:57\u001b[22m\u001b[22m\n",
      " [3] \u001b[1mConstructJacobian\u001b[22m\u001b[22m\u001b[1m(\u001b[22m\u001b[22m::BoundaryValueDiffEq.BVPJacobianWrapper{BoundaryValueDiffEq.##22#24{DiffEqBase.BVProblem{Array{Array{Float64,1},1},Float64,true,Void,Void,#GarleanuPanageas!,#bc!,DiffEqBase.StandardBVProblem,Void,UniformScaling{Int64}}}}, ::BoundaryValueDiffEq.BVPSystem{Float64,Array{Float64,1},Void}, ::Array{Float64,1}\u001b[1m)\u001b[22m\u001b[22m at \u001b[1mC:\\Users\\Max\\AppData\\Local\\JuliaPro-0.6.2.1\\pkgs-0.6.2.1\\v0.6\\BoundaryValueDiffEq\\src\\jacobian.jl:17\u001b[22m\u001b[22m\n",
      " [4] \u001b[1m#solve#20\u001b[22m\u001b[22m\u001b[1m(\u001b[22m\u001b[22m::Float64, ::Array{Any,1}, ::Function, ::DiffEqBase.BVProblem{Array{Array{Float64,1},1},Float64,true,Void,Void,#GarleanuPanageas!,#bc!,DiffEqBase.StandardBVProblem,Void,UniformScaling{Int64}}, ::BoundaryValueDiffEq.MIRK4\u001b[1m)\u001b[22m\u001b[22m at \u001b[1mC:\\Users\\Max\\AppData\\Local\\JuliaPro-0.6.2.1\\pkgs-0.6.2.1\\v0.6\\BoundaryValueDiffEq\\src\\solve.jl:65\u001b[22m\u001b[22m\n",
      " [5] \u001b[1m(::DiffEqBase.#kw##solve)\u001b[22m\u001b[22m\u001b[1m(\u001b[22m\u001b[22m::Array{Any,1}, ::DiffEqBase.#solve, ::DiffEqBase.BVProblem{Array{Array{Float64,1},1},Float64,true,Void,Void,#GarleanuPanageas!,#bc!,DiffEqBase.StandardBVProblem,Void,UniformScaling{Int64}}, ::BoundaryValueDiffEq.MIRK4\u001b[1m)\u001b[22m\u001b[22m at \u001b[1m.\\<missing>:0\u001b[22m\u001b[22m\n",
      " [6] \u001b[1minclude_string\u001b[22m\u001b[22m\u001b[1m(\u001b[22m\u001b[22m::String, ::String\u001b[1m)\u001b[22m\u001b[22m at \u001b[1m.\\loading.jl:522\u001b[22m\u001b[22m\n",
      " [7] \u001b[1mexecute_request\u001b[22m\u001b[22m\u001b[1m(\u001b[22m\u001b[22m::ZMQ.Socket, ::IJulia.Msg\u001b[1m)\u001b[22m\u001b[22m at \u001b[1mC:\\Users\\Max\\AppData\\Local\\JuliaPro-0.6.2.1\\pkgs-0.6.2.1\\v0.6\\IJulia\\src\\execute_request.jl:158\u001b[22m\u001b[22m\n",
      " [8] \u001b[1m(::Compat.#inner#17{Array{Any,1},IJulia.#execute_request,Tuple{ZMQ.Socket,IJulia.Msg}})\u001b[22m\u001b[22m\u001b[1m(\u001b[22m\u001b[22m\u001b[1m)\u001b[22m\u001b[22m at \u001b[1mC:\\Users\\Max\\AppData\\Local\\JuliaPro-0.6.2.1\\pkgs-0.6.2.1\\v0.6\\Compat\\src\\Compat.jl:385\u001b[22m\u001b[22m\n",
      " [9] \u001b[1meventloop\u001b[22m\u001b[22m\u001b[1m(\u001b[22m\u001b[22m::ZMQ.Socket\u001b[1m)\u001b[22m\u001b[22m at \u001b[1mC:\\Users\\Max\\AppData\\Local\\JuliaPro-0.6.2.1\\pkgs-0.6.2.1\\v0.6\\IJulia\\src\\eventloop.jl:8\u001b[22m\u001b[22m\n",
      " [10] \u001b[1m(::IJulia.##14#17)\u001b[22m\u001b[22m\u001b[1m(\u001b[22m\u001b[22m\u001b[1m)\u001b[22m\u001b[22m at \u001b[1m.\\task.jl:335\u001b[22m\u001b[22m\n",
      "while loading In[18], in expression starting on line 1\n"
     ]
    },
    {
     "ename": "LoadError",
     "evalue": "\u001b[91mDimensionMismatch(\"dimensions must match\")\u001b[39m",
     "output_type": "error",
     "traceback": [
      "\u001b[91mDimensionMismatch(\"dimensions must match\")\u001b[39m",
      "",
      "Stacktrace:",
      " [1] \u001b[1mpromote_shape\u001b[22m\u001b[22m\u001b[1m(\u001b[22m\u001b[22m::Tuple{Base.OneTo{Int64}}, ::Tuple{Base.OneTo{Int64}}\u001b[1m)\u001b[22m\u001b[22m at \u001b[1m.\\indices.jl:79\u001b[22m\u001b[22m",
      " [2] \u001b[1m+\u001b[22m\u001b[22m\u001b[1m(\u001b[22m\u001b[22m::Array{Float64,1}, ::Array{Float64,1}\u001b[1m)\u001b[22m\u001b[22m at \u001b[1m.\\arraymath.jl:38\u001b[22m\u001b[22m",
      " [3] \u001b[1m(::BoundaryValueDiffEq.#Kᵣ!#9{BoundaryValueDiffEq.BVPSystem{Float64,Array{Float64,1},Void},Int64,Float64,Array{Float64,1},#GarleanuPanageas!,Array{Array{Float64,1},1},Array{Float64,1},Array{Float64,1},Array{Float64,2}})\u001b[22m\u001b[22m\u001b[1m(\u001b[22m\u001b[22m::Array{Float64,1}, ::Array{Float64,1}, ::Array{Float64,1}, ::Int64\u001b[1m)\u001b[22m\u001b[22m at \u001b[1mC:\\Users\\Max\\AppData\\Local\\JuliaPro-0.6.2.1\\pkgs-0.6.2.1\\v0.6\\BoundaryValueDiffEq\\src\\collocation.jl:96\u001b[22m\u001b[22m",
      " [4] \u001b[1mupdate_K!\u001b[22m\u001b[22m at \u001b[1mC:\\Users\\Max\\AppData\\Local\\JuliaPro-0.6.2.1\\pkgs-0.6.2.1\\v0.6\\BoundaryValueDiffEq\\src\\collocation.jl:102\u001b[22m\u001b[22m [inlined]",
      " [5] \u001b[1mΦ!\u001b[22m\u001b[22m\u001b[1m(\u001b[22m\u001b[22m::BoundaryValueDiffEq.BVPSystem{Float64,Array{Float64,1},Void}, ::BoundaryValueDiffEq.MIRKTableau{Float64}, ::BoundaryValueDiffEq.MIRK4GeneralCache{Array{Array{Float64,1},1}}\u001b[1m)\u001b[22m\u001b[22m at \u001b[1mC:\\Users\\Max\\AppData\\Local\\JuliaPro-0.6.2.1\\pkgs-0.6.2.1\\v0.6\\BoundaryValueDiffEq\\src\\collocation.jl:113\u001b[22m\u001b[22m",
      " [6] \u001b[1m(::BoundaryValueDiffEq.##22#24{DiffEqBase.BVProblem{Array{Array{Float64,1},1},Float64,true,Void,Void,#GarleanuPanageas!,#bc!,DiffEqBase.StandardBVProblem,Void,UniformScaling{Int64}}})\u001b[22m\u001b[22m\u001b[1m(\u001b[22m\u001b[22m::Array{Float64,1}, ::Array{Float64,1}\u001b[1m)\u001b[22m\u001b[22m at \u001b[1mC:\\Users\\Max\\AppData\\Local\\JuliaPro-0.6.2.1\\pkgs-0.6.2.1\\v0.6\\BoundaryValueDiffEq\\src\\solve.jl:55\u001b[22m\u001b[22m",
      " [7] \u001b[1mfinite_difference_jacobian!\u001b[22m\u001b[22m\u001b[1m(\u001b[22m\u001b[22m::SparseMatrixCSC{Float64,Int64}, ::BoundaryValueDiffEq.BVPJacobianWrapper{BoundaryValueDiffEq.##22#24{DiffEqBase.BVProblem{Array{Array{Float64,1},1},Float64,true,Void,Void,#GarleanuPanageas!,#bc!,DiffEqBase.StandardBVProblem,Void,UniformScaling{Int64}}}}, ::Array{Float64,1}, ::DiffEqDiffTools.JacobianCache{Array{Float64,1},Array{Float64,1},Array{Float64,1},Val{:central},Float64,Val{true}}\u001b[1m)\u001b[22m\u001b[22m at \u001b[1mC:\\Users\\Max\\AppData\\Local\\JuliaPro-0.6.2.1\\pkgs-0.6.2.1\\v0.6\\DiffEqDiffTools\\src\\jacobians.jl:138\u001b[22m\u001b[22m",
      " [8] \u001b[1m(::BoundaryValueDiffEq.#fj!#13{BoundaryValueDiffEq.BVPJacobianWrapper{BoundaryValueDiffEq.##22#24{DiffEqBase.BVProblem{Array{Array{Float64,1},1},Float64,true,Void,Void,#GarleanuPanageas!,#bc!,DiffEqBase.StandardBVProblem,Void,UniformScaling{Int64}}}},DiffEqDiffTools.JacobianCache{Array{Float64,1},Array{Float64,1},Array{Float64,1},Val{:central},Float64,Val{true}}})\u001b[22m\u001b[22m\u001b[1m(\u001b[22m\u001b[22m::Array{Float64,1}, ::SparseMatrixCSC{Float64,Int64}, ::Array{Float64,1}\u001b[1m)\u001b[22m\u001b[22m at \u001b[1mC:\\Users\\Max\\AppData\\Local\\JuliaPro-0.6.2.1\\pkgs-0.6.2.1\\v0.6\\BoundaryValueDiffEq\\src\\jacobian.jl:13\u001b[22m\u001b[22m",
      " [9] \u001b[1mvalue_jacobian!!\u001b[22m\u001b[22m\u001b[1m(\u001b[22m\u001b[22m::NLSolversBase.OnceDifferentiable{Array{Float64,1},SparseMatrixCSC{Float64,Int64},Array{Float64,1},Val{false}}, ::Array{Float64,1}, ::SparseMatrixCSC{Float64,Int64}, ::Array{Float64,1}\u001b[1m)\u001b[22m\u001b[22m at \u001b[1mC:\\Users\\Max\\AppData\\Local\\JuliaPro-0.6.2.1\\pkgs-0.6.2.1\\v0.6\\NLSolversBase\\src\\interface.jl:124\u001b[22m\u001b[22m",
      " [10] \u001b[1mtrust_region_\u001b[22m\u001b[22m\u001b[1m(\u001b[22m\u001b[22m::NLSolversBase.OnceDifferentiable{Array{Float64,1},SparseMatrixCSC{Float64,Int64},Array{Float64,1},Val{false}}, ::Array{Float64,1}, ::Float64, ::Float64, ::Int64, ::Bool, ::Bool, ::Bool, ::Float64, ::Bool, ::NLsolve.NewtonTrustRegionCache{Array{Float64,1}}\u001b[1m)\u001b[22m\u001b[22m at \u001b[1mC:\\Users\\Max\\AppData\\Local\\JuliaPro-0.6.2.1\\pkgs-0.6.2.1\\v0.6\\NLsolve\\src\\solvers\\trust_region.jl:118\u001b[22m\u001b[22m",
      " [11] \u001b[1m#nlsolve#38\u001b[22m\u001b[22m\u001b[1m(\u001b[22m\u001b[22m::Symbol, ::Float64, ::Float64, ::Int64, ::Bool, ::Bool, ::Bool, ::LineSearches.Static{Float64}, ::Float64, ::Bool, ::Int64, ::Float64, ::NLsolve.#nlsolve, ::NLSolversBase.OnceDifferentiable{Array{Float64,1},SparseMatrixCSC{Float64,Int64},Array{Float64,1},Val{false}}, ::Array{Float64,1}\u001b[1m)\u001b[22m\u001b[22m at \u001b[1mC:\\Users\\Max\\AppData\\Local\\JuliaPro-0.6.2.1\\pkgs-0.6.2.1\\v0.6\\NLsolve\\src\\nlsolve\\nlsolve.jl:26\u001b[22m\u001b[22m",
      " [12] \u001b[1m(::BoundaryValueDiffEq.##1#2)\u001b[22m\u001b[22m\u001b[1m(\u001b[22m\u001b[22m::NLSolversBase.OnceDifferentiable{Array{Float64,1},SparseMatrixCSC{Float64,Int64},Array{Float64,1},Val{false}}, ::Array{Float64,1}\u001b[1m)\u001b[22m\u001b[22m at \u001b[1mC:\\Users\\Max\\AppData\\Local\\JuliaPro-0.6.2.1\\pkgs-0.6.2.1\\v0.6\\BoundaryValueDiffEq\\src\\algorithms.jl:11\u001b[22m\u001b[22m",
      " [13] \u001b[1m#solve#20\u001b[22m\u001b[22m\u001b[1m(\u001b[22m\u001b[22m::Float64, ::Array{Any,1}, ::Function, ::DiffEqBase.BVProblem{Array{Array{Float64,1},1},Float64,true,Void,Void,#GarleanuPanageas!,#bc!,DiffEqBase.StandardBVProblem,Void,UniformScaling{Int64}}, ::BoundaryValueDiffEq.MIRK4\u001b[1m)\u001b[22m\u001b[22m at \u001b[1mC:\\Users\\Max\\AppData\\Local\\JuliaPro-0.6.2.1\\pkgs-0.6.2.1\\v0.6\\BoundaryValueDiffEq\\src\\solve.jl:65\u001b[22m\u001b[22m",
      " [14] \u001b[1m(::DiffEqBase.#kw##solve)\u001b[22m\u001b[22m\u001b[1m(\u001b[22m\u001b[22m::Array{Any,1}, ::DiffEqBase.#solve, ::DiffEqBase.BVProblem{Array{Array{Float64,1},1},Float64,true,Void,Void,#GarleanuPanageas!,#bc!,DiffEqBase.StandardBVProblem,Void,UniformScaling{Int64}}, ::BoundaryValueDiffEq.MIRK4\u001b[1m)\u001b[22m\u001b[22m at \u001b[1m.\\<missing>:0\u001b[22m\u001b[22m"
     ]
    }
   ],
   "source": [
    "sol = solve(bvp, MIRK4(), dt=0.05)"
   ]
  },
  {
   "cell_type": "code",
   "execution_count": 78,
   "metadata": {},
   "outputs": [
    {
     "name": "stderr",
     "output_type": "stream",
     "text": [
      "\u001b[1m\u001b[33mWARNING: \u001b[39m\u001b[22m\u001b[33mbzeros(::Type{T}, n::Integer, m::Integer, a::Integer, b::Integer) where T is deprecated, use BandedMatrix(Zeros{T}(n, m), (a, b)) instead.\u001b[39m\n",
      "Stacktrace:\n",
      " [1] \u001b[1mdepwarn\u001b[22m\u001b[22m\u001b[1m(\u001b[22m\u001b[22m::String, ::Symbol\u001b[1m)\u001b[22m\u001b[22m at \u001b[1m.\\deprecated.jl:70\u001b[22m\u001b[22m\n",
      " [2] \u001b[1mbzeros\u001b[22m\u001b[22m\u001b[1m(\u001b[22m\u001b[22m::Type{Float64}, ::Int64, ::Int64, ::Int64, ::Int64\u001b[1m)\u001b[22m\u001b[22m at \u001b[1m.\\deprecated.jl:57\u001b[22m\u001b[22m\n",
      " [3] \u001b[1mConstructJacobian\u001b[22m\u001b[22m\u001b[1m(\u001b[22m\u001b[22m::BoundaryValueDiffEq.BVPJacobianWrapper{BoundaryValueDiffEq.##22#24{DiffEqBase.BVProblem{Array{Float64,1},Float64,true,Void,Void,#GarleanuPanageas!,DiffEqBase.TwoPointBVPFunction{#bc!},DiffEqBase.StandardBVProblem,Void,UniformScaling{Int64}}}}, ::BoundaryValueDiffEq.BVPSystem{Float64,Array{Float64,1},Void}, ::Array{Float64,1}\u001b[1m)\u001b[22m\u001b[22m at \u001b[1mC:\\Users\\Max\\AppData\\Local\\JuliaPro-0.6.2.1\\pkgs-0.6.2.1\\v0.6\\BoundaryValueDiffEq\\src\\jacobian.jl:17\u001b[22m\u001b[22m\n",
      " [4] \u001b[1m#solve#20\u001b[22m\u001b[22m\u001b[1m(\u001b[22m\u001b[22m::Float64, ::Array{Any,1}, ::Function, ::DiffEqBase.BVProblem{Array{Float64,1},Float64,true,Void,Void,#GarleanuPanageas!,DiffEqBase.TwoPointBVPFunction{#bc!},DiffEqBase.StandardBVProblem,Void,UniformScaling{Int64}}, ::BoundaryValueDiffEq.MIRK4\u001b[1m)\u001b[22m\u001b[22m at \u001b[1mC:\\Users\\Max\\AppData\\Local\\JuliaPro-0.6.2.1\\pkgs-0.6.2.1\\v0.6\\BoundaryValueDiffEq\\src\\solve.jl:65\u001b[22m\u001b[22m\n",
      " [5] \u001b[1m(::DiffEqBase.#kw##solve)\u001b[22m\u001b[22m\u001b[1m(\u001b[22m\u001b[22m::Array{Any,1}, ::DiffEqBase.#solve, ::DiffEqBase.BVProblem{Array{Float64,1},Float64,true,Void,Void,#GarleanuPanageas!,DiffEqBase.TwoPointBVPFunction{#bc!},DiffEqBase.StandardBVProblem,Void,UniformScaling{Int64}}, ::BoundaryValueDiffEq.MIRK4\u001b[1m)\u001b[22m\u001b[22m at \u001b[1m.\\<missing>:0\u001b[22m\u001b[22m\n",
      " [6] \u001b[1minclude_string\u001b[22m\u001b[22m\u001b[1m(\u001b[22m\u001b[22m::String, ::String\u001b[1m)\u001b[22m\u001b[22m at \u001b[1m.\\loading.jl:522\u001b[22m\u001b[22m\n",
      " [7] \u001b[1mexecute_request\u001b[22m\u001b[22m\u001b[1m(\u001b[22m\u001b[22m::ZMQ.Socket, ::IJulia.Msg\u001b[1m)\u001b[22m\u001b[22m at \u001b[1mC:\\Users\\Max\\AppData\\Local\\JuliaPro-0.6.2.1\\pkgs-0.6.2.1\\v0.6\\IJulia\\src\\execute_request.jl:158\u001b[22m\u001b[22m\n",
      " [8] \u001b[1m(::Compat.#inner#17{Array{Any,1},IJulia.#execute_request,Tuple{ZMQ.Socket,IJulia.Msg}})\u001b[22m\u001b[22m\u001b[1m(\u001b[22m\u001b[22m\u001b[1m)\u001b[22m\u001b[22m at \u001b[1mC:\\Users\\Max\\AppData\\Local\\JuliaPro-0.6.2.1\\pkgs-0.6.2.1\\v0.6\\Compat\\src\\Compat.jl:385\u001b[22m\u001b[22m\n",
      " [9] \u001b[1meventloop\u001b[22m\u001b[22m\u001b[1m(\u001b[22m\u001b[22m::ZMQ.Socket\u001b[1m)\u001b[22m\u001b[22m at \u001b[1mC:\\Users\\Max\\AppData\\Local\\JuliaPro-0.6.2.1\\pkgs-0.6.2.1\\v0.6\\IJulia\\src\\eventloop.jl:8\u001b[22m\u001b[22m\n",
      " [10] \u001b[1m(::IJulia.##14#17)\u001b[22m\u001b[22m\u001b[1m(\u001b[22m\u001b[22m\u001b[1m)\u001b[22m\u001b[22m at \u001b[1m.\\task.jl:335\u001b[22m\u001b[22m\n",
      "while loading In[78], in expression starting on line 5\n"
     ]
    },
    {
     "ename": "LoadError",
     "evalue": "\u001b[91mDuring the resolution of the non-linear system, the evaluation of the following equation(s) resulted in a non-finite number: [2, 3, 4, 5, 6, 7, 8, 9, 10, 11, 12, 13, 14, 15, 16, 17, 18, 19, 20, 21, 22, 23, 24, 25, 26, 27, 28, 29, 30, 31, 32, 33, 34, 35, 36, 37, 38, 39, 40, 41, 42, 43, 44, 45, 46, 47, 48, 49, 50, 51, 52, 53, 54, 55, 56, 57, 58, 59, 60, 61, 62, 63, 64, 65, 66, 67, 68, 69, 70, 71, 72, 73, 74, 75, 76, 77, 78, 79, 80, 81, 82, 83, 84, 85, 86, 87, 88, 89, 90, 91, 92, 93, 94, 95, 96, 97, 98, 99, 100, 101, 102, 103, 104, 105, 106, 107, 108, 109, 110, 111, 112, 113, 114, 115, 116, 117, 118, 119, 120, 121, 122, 123, 124, 125, 126, 127, 128, 129, 130, 131, 132, 133, 134, 135, 136, 137, 138, 139, 140, 141, 142, 143, 144, 145, 146, 147, 148, 149, 150, 151, 152, 153, 154, 155, 156, 157, 158, 159, 160, 161]\u001b[39m",
     "output_type": "error",
     "traceback": [
      "\u001b[91mDuring the resolution of the non-linear system, the evaluation of the following equation(s) resulted in a non-finite number: [2, 3, 4, 5, 6, 7, 8, 9, 10, 11, 12, 13, 14, 15, 16, 17, 18, 19, 20, 21, 22, 23, 24, 25, 26, 27, 28, 29, 30, 31, 32, 33, 34, 35, 36, 37, 38, 39, 40, 41, 42, 43, 44, 45, 46, 47, 48, 49, 50, 51, 52, 53, 54, 55, 56, 57, 58, 59, 60, 61, 62, 63, 64, 65, 66, 67, 68, 69, 70, 71, 72, 73, 74, 75, 76, 77, 78, 79, 80, 81, 82, 83, 84, 85, 86, 87, 88, 89, 90, 91, 92, 93, 94, 95, 96, 97, 98, 99, 100, 101, 102, 103, 104, 105, 106, 107, 108, 109, 110, 111, 112, 113, 114, 115, 116, 117, 118, 119, 120, 121, 122, 123, 124, 125, 126, 127, 128, 129, 130, 131, 132, 133, 134, 135, 136, 137, 138, 139, 140, 141, 142, 143, 144, 145, 146, 147, 148, 149, 150, 151, 152, 153, 154, 155, 156, 157, 158, 159, 160, 161]\u001b[39m",
      "",
      "Stacktrace:",
      " [1] \u001b[1mcheck_isfinite\u001b[22m\u001b[22m\u001b[1m(\u001b[22m\u001b[22m::Array{Float64,1}\u001b[1m)\u001b[22m\u001b[22m at \u001b[1mC:\\Users\\Max\\AppData\\Local\\JuliaPro-0.6.2.1\\pkgs-0.6.2.1\\v0.6\\NLsolve\\src\\nlsolve\\utils.jl:35\u001b[22m\u001b[22m",
      " [2] \u001b[1mtrust_region_\u001b[22m\u001b[22m\u001b[1m(\u001b[22m\u001b[22m::NLSolversBase.OnceDifferentiable{Array{Float64,1},SparseMatrixCSC{Float64,Int64},Array{Float64,1},Val{false}}, ::Array{Float64,1}, ::Float64, ::Float64, ::Int64, ::Bool, ::Bool, ::Bool, ::Float64, ::Bool, ::NLsolve.NewtonTrustRegionCache{Array{Float64,1}}\u001b[1m)\u001b[22m\u001b[22m at \u001b[1mC:\\Users\\Max\\AppData\\Local\\JuliaPro-0.6.2.1\\pkgs-0.6.2.1\\v0.6\\NLsolve\\src\\solvers\\trust_region.jl:120\u001b[22m\u001b[22m",
      " [3] \u001b[1m#nlsolve#38\u001b[22m\u001b[22m\u001b[1m(\u001b[22m\u001b[22m::Symbol, ::Float64, ::Float64, ::Int64, ::Bool, ::Bool, ::Bool, ::LineSearches.Static{Float64}, ::Float64, ::Bool, ::Int64, ::Float64, ::NLsolve.#nlsolve, ::NLSolversBase.OnceDifferentiable{Array{Float64,1},SparseMatrixCSC{Float64,Int64},Array{Float64,1},Val{false}}, ::Array{Float64,1}\u001b[1m)\u001b[22m\u001b[22m at \u001b[1mC:\\Users\\Max\\AppData\\Local\\JuliaPro-0.6.2.1\\pkgs-0.6.2.1\\v0.6\\NLsolve\\src\\nlsolve\\nlsolve.jl:26\u001b[22m\u001b[22m",
      " [4] \u001b[1m(::BoundaryValueDiffEq.##1#2)\u001b[22m\u001b[22m\u001b[1m(\u001b[22m\u001b[22m::NLSolversBase.OnceDifferentiable{Array{Float64,1},SparseMatrixCSC{Float64,Int64},Array{Float64,1},Val{false}}, ::Array{Float64,1}\u001b[1m)\u001b[22m\u001b[22m at \u001b[1mC:\\Users\\Max\\AppData\\Local\\JuliaPro-0.6.2.1\\pkgs-0.6.2.1\\v0.6\\BoundaryValueDiffEq\\src\\algorithms.jl:11\u001b[22m\u001b[22m",
      " [5] \u001b[1m#solve#20\u001b[22m\u001b[22m\u001b[1m(\u001b[22m\u001b[22m::Float64, ::Array{Any,1}, ::Function, ::DiffEqBase.BVProblem{Array{Float64,1},Float64,true,Void,Void,#GarleanuPanageas!,DiffEqBase.TwoPointBVPFunction{#bc!},DiffEqBase.StandardBVProblem,Void,UniformScaling{Int64}}, ::BoundaryValueDiffEq.MIRK4\u001b[1m)\u001b[22m\u001b[22m at \u001b[1mC:\\Users\\Max\\AppData\\Local\\JuliaPro-0.6.2.1\\pkgs-0.6.2.1\\v0.6\\BoundaryValueDiffEq\\src\\solve.jl:65\u001b[22m\u001b[22m",
      " [6] \u001b[1m(::DiffEqBase.#kw##solve)\u001b[22m\u001b[22m\u001b[1m(\u001b[22m\u001b[22m::Array{Any,1}, ::DiffEqBase.#solve, ::DiffEqBase.BVProblem{Array{Float64,1},Float64,true,Void,Void,#GarleanuPanageas!,DiffEqBase.TwoPointBVPFunction{#bc!},DiffEqBase.StandardBVProblem,Void,UniformScaling{Int64}}, ::BoundaryValueDiffEq.MIRK4\u001b[1m)\u001b[22m\u001b[22m at \u001b[1m.\\<missing>:0\u001b[22m\u001b[22m"
     ]
    }
   ],
   "source": [
    "using Distributions\n",
    "\n",
    "u_0 = rand(MvNormal(zeros(8), 100 .* eye(8)))\n",
    "bvp = TwoPointBVProblem(GarleanuPanageas!, bc!, u_0, (0., 1.))\n",
    "sol = solve(bvp, verbose = false, MIRK4(), dt=0.05)\n",
    "\n",
    "while sol.retcode == :Unstable\n",
    "    u_0 = rand(MvNormal(20 .* ones(8), 10 .* eye(8)))\n",
    "    bvp = TwoPointBVProblem(GarleanuPanageas!, bc!, u_0, (0., 1.))\n",
    "    sol = solve(bvp, verbose = false, MIRK4(), dt=0.05)\n",
    "end\n",
    "\n",
    "sol"
   ]
  },
  {
   "cell_type": "markdown",
   "metadata": {},
   "source": [
    "TODO: is there a scale I did not implement?"
   ]
  }
 ],
 "metadata": {
  "kernelspec": {
   "display_name": "Julia 0.6.2",
   "language": "julia",
   "name": "julia-0.6"
  },
  "language_info": {
   "file_extension": ".jl",
   "mimetype": "application/julia",
   "name": "julia",
   "version": "0.6.2"
  }
 },
 "nbformat": 4,
 "nbformat_minor": 2
}
