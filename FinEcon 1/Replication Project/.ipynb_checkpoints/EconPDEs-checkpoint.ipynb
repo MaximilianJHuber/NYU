{
 "cells": [
  {
   "cell_type": "code",
   "execution_count": 10,
   "metadata": {},
   "outputs": [],
   "source": [
    "using EconPDEs"
   ]
  },
  {
   "cell_type": "code",
   "execution_count": 11,
   "metadata": {
    "code_folding": []
   },
   "outputs": [],
   "source": [
    "#\n",
    "mutable struct GarleanuPanageasModel\n",
    "\n",
    "  # utility function\n",
    "  γA::Float64\n",
    "  ψA::Float64\n",
    "  γB::Float64\n",
    "  ψB::Float64\n",
    "  ρ::Float64\n",
    "  δ::Float64\n",
    "\n",
    "  # proportion a\n",
    "  νA::Float64\n",
    "\n",
    "  # consumption\n",
    "  μ::Float64\n",
    "  σ::Float64\n",
    "\n",
    "  # earning function\n",
    "  B1::Float64\n",
    "  δ1::Float64\n",
    "  B2::Float64\n",
    "  δ2::Float64\n",
    "  ω::Float64\n",
    "end\n",
    "\n",
    "#δ = π\n",
    "#B's are scaled?!\n",
    "\n",
    "function GarleanuPanageasModel(;γA  = 1.5, ψA = 0.7, γB = 10.0, ψB = 0.05, ρ = 0.001, δ = 0.02, νA = 0.01, μ = 0.02, σ = 0.041, B1 = 30.72, δ1 = 0.0525, B2 = -30.29, δ2 = 0.0611, ω = 0.92)\n",
    "  scale = δ / (δ + δ1) * B1 + δ / (δ + δ2) * B2\n",
    "    println(scale)\n",
    "  B1 = B1 / scale #ineffective!\n",
    "  B2 = B2 / scale\n",
    "  GarleanuPanageasModel(γA , ψA, γB, ψB, ρ, δ, νA, μ, σ, B1, δ1, B2, δ2, ω)\n",
    "end\n",
    "\n",
    "function initialize_state(m::GarleanuPanageasModel; n = 200)\n",
    "  OrderedDict(:x => linspace(0.0, 1.0, n))\n",
    "end\n",
    "\n",
    "function initialize_y(m::GarleanuPanageasModel, state)\n",
    "    x = fill(1.0, length(state[:x]))\n",
    "    OrderedDict(:pA => x, :pB => x, :ϕ1 => x, :ϕ2 => x)\n",
    "end\n",
    "\n",
    "function (m::GarleanuPanageasModel)(state, y)\n",
    "    #unpack constants, state, current solution\n",
    "    γA = m.γA ; ψA = m.ψA ; γB = m.γB ; ψB = m.ψB ; ρ = m.ρ ; δ = m.δ ; νA = m.νA ; μ = m.μ ; σ = m.σ; B1 = m.B1 ; δ1 = m.δ1 ; B2 = m.B2 ; δ2 = m.δ2 ; ω = m.ω\n",
    "    x = state.x\n",
    "    pA = y.pA ; pAx = y.pAx ; pAxx = y.pAxx ; pB = y.pB ; pBx = y.pBx ; pBxx = y.pBxx ; ϕ1 = y.ϕ1 ; ϕ1x = y.ϕ1x ; ϕ1xx = y.ϕ1xx ; ϕ2 = y.ϕ2 ; ϕ2x = y.ϕ2x ; ϕ2xx = y.ϕ2xx\n",
    "\n",
    "    # volatility of X, pA, pB, ϕ1, ϕ2, CA, CB and market price of risk κ\n",
    "    Γ = 1 / (x / γA + (1 - x) / γB) #check\n",
    "    p = x * pA + (1 - x) * pB \n",
    "    σx = σ * x * (Γ / γA - 1) / (1 + Γ * x * (1 - x) / (γA * γB) * ((1 - γB * ψB) / (ψB - 1) * (pBx / pB) - (1 - γA * ψA) / (ψA - 1) * (pAx / pA)))\n",
    "    σpA = pAx / pA * σx\n",
    "    σpB = pBx / pB * σx\n",
    "    σϕ1 = ϕ1x / ϕ1 * σx\n",
    "    σϕ2 = ϕ2x / ϕ2 * σx\n",
    "    κ = Γ * (σ - x * (1 - γA * ψA) / (γA * (ψA - 1)) * σpA - (1 - x) * (1 - γB * ψB) / (γB * (ψB - 1)) * σpB)\n",
    "    σCA = κ / γA + (1 - γA * ψA) / (γA * (ψA - 1)) * σpA\n",
    "    σCB = κ / γB + (1 - γB * ψB) / (γB * (ψB - 1)) * σpB\n",
    "\n",
    "    # drift of X, pA, pB, ϕ1, ϕ2, CA, CB and interest rate r\n",
    "    mcA = κ^2 * (1 + ψA) / (2 * γA) + (1 - ψA * γA) / (γA * (ψA - 1)) * κ * σpA - (1 - γA * ψA) / (2 * γA * (ψA - 1)) * σpA^2\n",
    "    mcB = κ^2 * (1 + ψB) / (2 * γB) + (1 - ψB * γB) / (γB * (ψB - 1)) * κ * σpB - (1 - γB * ψB) / (2 * γB * (ψB - 1)) * σpB^2\n",
    "    r =  ρ + 1 / (ψA * x  + ψB * (1 - x))  * (μ - x * mcA - (1 - x) * mcB - δ * ((νA / pA + (1 - νA) / pB) * (ϕ1 + ϕ2) - 1))\n",
    "    μCA = ψA * (r - ρ) + mcA\n",
    "    μCB = ψB * (r - ρ) + mcB\n",
    "    μx = x * (μCA - δ - μ) + δ * νA / pA * (ϕ1 + ϕ2) - σ * σx\n",
    "    μpA = pAx / pA * μx + 0.5 * pAxx / pA * σx^2\n",
    "    μpB = pBx / pB * μx + 0.5 * pBxx / pB * σx^2\n",
    "    μϕ1 = ϕ1x / ϕ1 * μx + 0.5 * ϕ1xx / ϕ1 * σx^2\n",
    "    μϕ2 = ϕ2x / ϕ2 * μx + 0.5 * ϕ2xx / ϕ2 * σx^2\n",
    "\n",
    "    # PDE\n",
    "    pAt = pA * (1 / pA + (μCA - δ) + μpA + σCA * σpA - r - κ * (σpA + σCA))\n",
    "    pBt = pB * (1 / pB + (μCB - δ) + μpB + σCB * σpB - r - κ * (σpB + σCB))\n",
    "    ϕ1t = ϕ1 * (B1 * ω / ϕ1 + (μ - δ - δ1) + μϕ1 + σ * σϕ1 - r - κ * (σϕ1 + σ))\n",
    "    ϕ2t = ϕ2 * (B2 * ω / ϕ2 + (μ - δ - δ2) + μϕ2 + σ * σϕ2 - r - κ * (σϕ2 + σ))\n",
    "\n",
    "    return (pAt, pBt, ϕ1t, ϕ2t), μx, tuple(:p => p, :pA => pA, :pB => pB, :κ => κ, :r => r, :μx => μx, :σx => σx, :pAx => pAx, :pBx => pBx, :ϕ1x => ϕ1x, :ϕ2x => ϕ2x,\n",
    "        :Γ => Γ, :mcA => mcA, :ϕ1xx => ϕ1xx, :ϕ2xx => ϕ2xx, :pAxx => pAxx, :pBxx => pBxx)\n",
    "end"
   ]
  },
  {
   "cell_type": "code",
   "execution_count": 15,
   "metadata": {},
   "outputs": [
    {
     "name": "stdout",
     "output_type": "stream",
     "text": [
      "1.004692376376549\n",
      "(iter, Δ, distance) = (1, 1.0, 0.6347390975001165)\n",
      "(iter, Δ, distance) = (2, 2.2021549419600386, 0.4975381580037612)\n",
      "(iter, Δ, distance) = (3, 11.237681515913554, 0.2578239537364737)\n",
      "(iter, Δ, distance) = (4, 173.48815827641465, 0.025367064318181122)\n",
      "(iter, Δ, distance) = (5, 28212.584527552655, 1.0921715683163799e-5)\n",
      "(iter, Δ, distance) = (6, 2.0968733251923938e9, 2.6637160776884095e-13)\n"
     ]
    },
    {
     "data": {
      "text/plain": [
       "(DataStructures.OrderedDict(:pA=>[10.6276, 16.5922, 19.2036, 20.906, 22.1784, 23.1956, 24.0417, 24.7642, 25.3928, 25.9476  …  37.9107, 37.9291, 37.9473, 37.9655, 37.9835, 38.0015, 38.0193, 38.0371, 38.0547, 38.0722],:pB=>[4.46648, 8.02355, 10.2493, 11.9789, 13.4141, 14.6429, 15.7142, 16.6595, 17.5007, 18.2542  …  31.3236, 31.3468, 31.3699, 31.3929, 31.4159, 31.4387, 31.4615, 31.4841, 31.5067, 31.5291],:ϕ1=>[100.608, 160.507, 194.956, 220.335, 240.513, 257.149, 271.159, 283.124, 293.444, 302.411  …  425.59, 425.833, 426.075, 426.316, 426.556, 426.795, 427.032, 427.268, 427.503, 427.737],:ϕ2=>[-96.0701, -150.385, -181.113, -203.521, -221.19, -235.654, -247.756, -258.027, -266.833, -274.44  …  -373.019, -373.212, -373.404, -373.596, -373.786, -373.975, -374.163, -374.35, -374.537, -374.722]), DataStructures.OrderedDict(:pA=>[10.6276, 16.5922, 19.2036, 20.906, 22.1784, 23.1956, 24.0417, 24.7642, 25.3928, 25.9476  …  37.9107, 37.9291, 37.9473, 37.9655, 37.9835, 38.0015, 38.0193, 38.0371, 38.0547, 38.0722],:pB=>[4.46648, 8.02355, 10.2493, 11.9789, 13.4141, 14.6429, 15.7142, 16.6595, 17.5007, 18.2542  …  31.3236, 31.3468, 31.3699, 31.3929, 31.4159, 31.4387, 31.4615, 31.4841, 31.5067, 31.5291],:ϕ1=>[100.608, 160.507, 194.956, 220.335, 240.513, 257.149, 271.159, 283.124, 293.444, 302.411  …  425.59, 425.833, 426.075, 426.316, 426.556, 426.795, 427.032, 427.268, 427.503, 427.737],:ϕ2=>[-96.0701, -150.385, -181.113, -203.521, -221.19, -235.654, -247.756, -258.027, -266.833, -274.44  …  -373.019, -373.212, -373.404, -373.596, -373.786, -373.975, -374.163, -374.35, -374.537, -374.722],:p=>[4.46648, 8.06661, 10.3393, 12.1134, 13.5903, 14.8578, 15.9653, 16.9446, 17.818, 18.6021  …  37.6128, 37.6645, 37.716, 37.7673, 37.8185, 37.8696, 37.9205, 37.9712, 38.0218, 38.0722],:κ=>[0.41, 0.434146, 0.429023, 0.418783, 0.407111, 0.395195, 0.383511, 0.372264, 0.361539, 0.351359  …  0.0639345, 0.0636543, 0.0633767, 0.0631014, 0.0628287, 0.0625583, 0.0622902, 0.0620245, 0.0617611, 0.0615],:r=>[0.220412, 0.113117, 0.0749461, 0.0536597, 0.040173, 0.0310948, 0.024773, 0.0202819, 0.0170561, 0.0147298  …  0.00736717, 0.00733902, 0.00731109, 0.00728338, 0.00725589, 0.00722862, 0.00720157, 0.00717472, 0.00714809, 0.00712166],:μx=>[8.54075e-5, 0.000809223, 0.00122777, 0.00149098, 0.00165255, 0.00174265, 0.00178067, 0.00177984, 0.00174956, 0.00169665  …  -0.0315098, -0.031708, -0.0319062, -0.0321044, -0.0323025, -0.0325007, -0.0326988, -0.0328969, -0.033095, -0.0332931],:σx=>[0.0, 0.00127062, 0.00251195, 0.00366514, 0.00472768, 0.00570514, 0.0066049, 0.00743439, 0.0082005, 0.00890945  …  0.00156567, 0.00139278, 0.00121961, 0.00104617, 0.000872457, 0.000698482, 0.000524245, 0.000349751, 0.000175001, 0.0],:pAx=>[1186.95, 519.678, 338.767, 253.222, 202.424, 168.37, 143.775, 125.099, 110.398, 98.5107  …  3.67617, 3.65456, 3.63316, 3.61198, 3.591, 3.57023, 3.54966, 3.52928, 3.50911, 3.48913]…), 2.6637160776884095e-13)"
      ]
     },
     "execution_count": 15,
     "metadata": {},
     "output_type": "execute_result"
    }
   ],
   "source": [
    "m = GarleanuPanageasModel()\n",
    "state = initialize_state(m)\n",
    "y0 = initialize_y(m, state)\n",
    "y, result, distance = pdesolve(m, state, y0)"
   ]
  },
  {
   "cell_type": "code",
   "execution_count": 16,
   "metadata": {
    "code_folding": []
   },
   "outputs": [
    {
     "data": {
      "image/svg+xml": [
       "<?xml version=\"1.0\" encoding=\"utf-8\"?>\n",
       "<svg xmlns=\"http://www.w3.org/2000/svg\" xmlns:xlink=\"http://www.w3.org/1999/xlink\" width=\"780\" height=\"500\" viewBox=\"0 0 780 500\">\n",
       "<defs>\n",
       "  <clipPath id=\"clip5800\">\n",
       "    <rect x=\"0\" y=\"0\" width=\"780\" height=\"500\"/>\n",
       "  </clipPath>\n",
       "</defs>\n",
       "<polygon clip-path=\"url(#clip5800)\" points=\"\n",
       "0,500 780,500 780,5.68434e-014 0,5.68434e-014 \n",
       "  \" fill=\"#ffffff\" fill-opacity=\"1\"/>\n",
       "<defs>\n",
       "  <clipPath id=\"clip5801\">\n",
       "    <rect x=\"156\" y=\"0\" width=\"547\" height=\"500\"/>\n",
       "  </clipPath>\n",
       "</defs>\n",
       "<polygon clip-path=\"url(#clip5800)\" points=\"\n",
       "39.1651,210.443 370.315,210.443 370.315,11.811 39.1651,11.811 \n",
       "  \" fill=\"#ffffff\" fill-opacity=\"1\"/>\n",
       "<defs>\n",
       "  <clipPath id=\"clip5802\">\n",
       "    <rect x=\"39\" y=\"11\" width=\"332\" height=\"200\"/>\n",
       "  </clipPath>\n",
       "</defs>\n",
       "<polyline clip-path=\"url(#clip5802)\" style=\"stroke:#000000; stroke-width:0.5; stroke-opacity:0.1; fill:none\" points=\"\n",
       "  39.1651,210.443 39.1651,11.811 \n",
       "  \"/>\n",
       "<polyline clip-path=\"url(#clip5802)\" style=\"stroke:#000000; stroke-width:0.5; stroke-opacity:0.1; fill:none\" points=\"\n",
       "  145.988,210.443 145.988,11.811 \n",
       "  \"/>\n",
       "<polyline clip-path=\"url(#clip5802)\" style=\"stroke:#000000; stroke-width:0.5; stroke-opacity:0.1; fill:none\" points=\"\n",
       "  252.81,210.443 252.81,11.811 \n",
       "  \"/>\n",
       "<polyline clip-path=\"url(#clip5802)\" style=\"stroke:#000000; stroke-width:0.5; stroke-opacity:0.1; fill:none\" points=\"\n",
       "  359.633,210.443 359.633,11.811 \n",
       "  \"/>\n",
       "<polyline clip-path=\"url(#clip5802)\" style=\"stroke:#000000; stroke-width:0.5; stroke-opacity:0.1; fill:none\" points=\"\n",
       "  39.1651,190.911 370.315,190.911 \n",
       "  \"/>\n",
       "<polyline clip-path=\"url(#clip5802)\" style=\"stroke:#000000; stroke-width:0.5; stroke-opacity:0.1; fill:none\" points=\"\n",
       "  39.1651,164.793 370.315,164.793 \n",
       "  \"/>\n",
       "<polyline clip-path=\"url(#clip5802)\" style=\"stroke:#000000; stroke-width:0.5; stroke-opacity:0.1; fill:none\" points=\"\n",
       "  39.1651,138.675 370.315,138.675 \n",
       "  \"/>\n",
       "<polyline clip-path=\"url(#clip5802)\" style=\"stroke:#000000; stroke-width:0.5; stroke-opacity:0.1; fill:none\" points=\"\n",
       "  39.1651,112.558 370.315,112.558 \n",
       "  \"/>\n",
       "<polyline clip-path=\"url(#clip5802)\" style=\"stroke:#000000; stroke-width:0.5; stroke-opacity:0.1; fill:none\" points=\"\n",
       "  39.1651,86.4399 370.315,86.4399 \n",
       "  \"/>\n",
       "<polyline clip-path=\"url(#clip5802)\" style=\"stroke:#000000; stroke-width:0.5; stroke-opacity:0.1; fill:none\" points=\"\n",
       "  39.1651,60.3221 370.315,60.3221 \n",
       "  \"/>\n",
       "<polyline clip-path=\"url(#clip5802)\" style=\"stroke:#000000; stroke-width:0.5; stroke-opacity:0.1; fill:none\" points=\"\n",
       "  39.1651,34.2043 370.315,34.2043 \n",
       "  \"/>\n",
       "<polyline clip-path=\"url(#clip5800)\" style=\"stroke:#000000; stroke-width:1; stroke-opacity:1; fill:none\" points=\"\n",
       "  39.1651,210.443 370.315,210.443 \n",
       "  \"/>\n",
       "<polyline clip-path=\"url(#clip5800)\" style=\"stroke:#000000; stroke-width:1; stroke-opacity:1; fill:none\" points=\"\n",
       "  39.1651,210.443 39.1651,11.811 \n",
       "  \"/>\n",
       "<polyline clip-path=\"url(#clip5800)\" style=\"stroke:#000000; stroke-width:1; stroke-opacity:1; fill:none\" points=\"\n",
       "  39.1651,210.443 39.1651,207.464 \n",
       "  \"/>\n",
       "<polyline clip-path=\"url(#clip5800)\" style=\"stroke:#000000; stroke-width:1; stroke-opacity:1; fill:none\" points=\"\n",
       "  145.988,210.443 145.988,207.464 \n",
       "  \"/>\n",
       "<polyline clip-path=\"url(#clip5800)\" style=\"stroke:#000000; stroke-width:1; stroke-opacity:1; fill:none\" points=\"\n",
       "  252.81,210.443 252.81,207.464 \n",
       "  \"/>\n",
       "<polyline clip-path=\"url(#clip5800)\" style=\"stroke:#000000; stroke-width:1; stroke-opacity:1; fill:none\" points=\"\n",
       "  359.633,210.443 359.633,207.464 \n",
       "  \"/>\n",
       "<polyline clip-path=\"url(#clip5800)\" style=\"stroke:#000000; stroke-width:1; stroke-opacity:1; fill:none\" points=\"\n",
       "  39.1651,190.911 44.1323,190.911 \n",
       "  \"/>\n",
       "<polyline clip-path=\"url(#clip5800)\" style=\"stroke:#000000; stroke-width:1; stroke-opacity:1; fill:none\" points=\"\n",
       "  39.1651,164.793 44.1323,164.793 \n",
       "  \"/>\n",
       "<polyline clip-path=\"url(#clip5800)\" style=\"stroke:#000000; stroke-width:1; stroke-opacity:1; fill:none\" points=\"\n",
       "  39.1651,138.675 44.1323,138.675 \n",
       "  \"/>\n",
       "<polyline clip-path=\"url(#clip5800)\" style=\"stroke:#000000; stroke-width:1; stroke-opacity:1; fill:none\" points=\"\n",
       "  39.1651,112.558 44.1323,112.558 \n",
       "  \"/>\n",
       "<polyline clip-path=\"url(#clip5800)\" style=\"stroke:#000000; stroke-width:1; stroke-opacity:1; fill:none\" points=\"\n",
       "  39.1651,86.4399 44.1323,86.4399 \n",
       "  \"/>\n",
       "<polyline clip-path=\"url(#clip5800)\" style=\"stroke:#000000; stroke-width:1; stroke-opacity:1; fill:none\" points=\"\n",
       "  39.1651,60.3221 44.1323,60.3221 \n",
       "  \"/>\n",
       "<polyline clip-path=\"url(#clip5800)\" style=\"stroke:#000000; stroke-width:1; stroke-opacity:1; fill:none\" points=\"\n",
       "  39.1651,34.2043 44.1323,34.2043 \n",
       "  \"/>\n",
       "<g clip-path=\"url(#clip5800)\">\n",
       "<text style=\"fill:#000000; fill-opacity:1; font-family:Arial,Helvetica Neue,Helvetica,sans-serif; font-size:12; text-anchor:middle;\" transform=\"rotate(0, 39.1651, 225.143)\" x=\"39.1651\" y=\"225.143\">0.0</text>\n",
       "</g>\n",
       "<g clip-path=\"url(#clip5800)\">\n",
       "<text style=\"fill:#000000; fill-opacity:1; font-family:Arial,Helvetica Neue,Helvetica,sans-serif; font-size:12; text-anchor:middle;\" transform=\"rotate(0, 145.988, 225.143)\" x=\"145.988\" y=\"225.143\">0.1</text>\n",
       "</g>\n",
       "<g clip-path=\"url(#clip5800)\">\n",
       "<text style=\"fill:#000000; fill-opacity:1; font-family:Arial,Helvetica Neue,Helvetica,sans-serif; font-size:12; text-anchor:middle;\" transform=\"rotate(0, 252.81, 225.143)\" x=\"252.81\" y=\"225.143\">0.2</text>\n",
       "</g>\n",
       "<g clip-path=\"url(#clip5800)\">\n",
       "<text style=\"fill:#000000; fill-opacity:1; font-family:Arial,Helvetica Neue,Helvetica,sans-serif; font-size:12; text-anchor:middle;\" transform=\"rotate(0, 359.633, 225.143)\" x=\"359.633\" y=\"225.143\">0.3</text>\n",
       "</g>\n",
       "<g clip-path=\"url(#clip5800)\">\n",
       "<text style=\"fill:#000000; fill-opacity:1; font-family:Arial,Helvetica Neue,Helvetica,sans-serif; font-size:12; text-anchor:end;\" transform=\"rotate(0, 31.3651, 195.411)\" x=\"31.3651\" y=\"195.411\">0.01</text>\n",
       "</g>\n",
       "<g clip-path=\"url(#clip5800)\">\n",
       "<text style=\"fill:#000000; fill-opacity:1; font-family:Arial,Helvetica Neue,Helvetica,sans-serif; font-size:12; text-anchor:end;\" transform=\"rotate(0, 31.3651, 169.293)\" x=\"31.3651\" y=\"169.293\">0.02</text>\n",
       "</g>\n",
       "<g clip-path=\"url(#clip5800)\">\n",
       "<text style=\"fill:#000000; fill-opacity:1; font-family:Arial,Helvetica Neue,Helvetica,sans-serif; font-size:12; text-anchor:end;\" transform=\"rotate(0, 31.3651, 143.175)\" x=\"31.3651\" y=\"143.175\">0.03</text>\n",
       "</g>\n",
       "<g clip-path=\"url(#clip5800)\">\n",
       "<text style=\"fill:#000000; fill-opacity:1; font-family:Arial,Helvetica Neue,Helvetica,sans-serif; font-size:12; text-anchor:end;\" transform=\"rotate(0, 31.3651, 117.058)\" x=\"31.3651\" y=\"117.058\">0.04</text>\n",
       "</g>\n",
       "<g clip-path=\"url(#clip5800)\">\n",
       "<text style=\"fill:#000000; fill-opacity:1; font-family:Arial,Helvetica Neue,Helvetica,sans-serif; font-size:12; text-anchor:end;\" transform=\"rotate(0, 31.3651, 90.9399)\" x=\"31.3651\" y=\"90.9399\">0.05</text>\n",
       "</g>\n",
       "<g clip-path=\"url(#clip5800)\">\n",
       "<text style=\"fill:#000000; fill-opacity:1; font-family:Arial,Helvetica Neue,Helvetica,sans-serif; font-size:12; text-anchor:end;\" transform=\"rotate(0, 31.3651, 64.8221)\" x=\"31.3651\" y=\"64.8221\">0.06</text>\n",
       "</g>\n",
       "<g clip-path=\"url(#clip5800)\">\n",
       "<text style=\"fill:#000000; fill-opacity:1; font-family:Arial,Helvetica Neue,Helvetica,sans-serif; font-size:12; text-anchor:end;\" transform=\"rotate(0, 31.3651, 38.7043)\" x=\"31.3651\" y=\"38.7043\">0.07</text>\n",
       "</g>\n",
       "<g clip-path=\"url(#clip5800)\">\n",
       "<text style=\"fill:#000000; fill-opacity:1; font-family:Arial,Helvetica Neue,Helvetica,sans-serif; font-size:16; text-anchor:middle;\" transform=\"rotate(0, 204.74, 247.6)\" x=\"204.74\" y=\"247.6\">X</text>\n",
       "</g>\n",
       "<polyline clip-path=\"url(#clip5802)\" style=\"stroke:#009af9; stroke-width:1; stroke-opacity:1; fill:none\" points=\"\n",
       "  39.1651,173.125 44.533,16.2746 49.901,11.811 55.269,15.5277 60.6369,23.6051 66.0049,33.4804 71.3729,43.869 76.7408,54.1303 82.1088,63.9494 87.4768,73.1825 \n",
       "  92.8447,81.7775 98.2127,89.7316 103.581,97.0682 108.949,103.824 114.317,110.041 119.685,115.763 125.053,121.033 130.421,125.892 135.788,130.379 141.156,134.529 \n",
       "  146.524,138.374 151.892,141.945 157.26,145.269 162.628,148.372 167.996,151.014 173.364,153.536 178.732,155.887 184.1,158.082 189.468,160.135 194.836,162.058 \n",
       "  200.204,163.861 205.572,165.555 210.94,167.148 216.308,168.649 221.676,170.065 227.044,171.403 232.412,172.668 237.78,173.866 243.148,175.003 248.516,176.082 \n",
       "  253.884,177.108 259.252,178.085 264.62,179.015 269.988,179.903 275.356,180.752 280.724,181.563 286.092,182.339 291.46,183.083 296.827,183.796 302.195,184.481 \n",
       "  307.563,185.139 312.931,185.772 318.299,186.381 323.667,186.968 329.035,187.534 334.403,188.08 339.771,188.607 345.139,189.117 350.507,189.61 355.875,190.086 \n",
       "  361.243,190.548 366.611,190.995 371.979,191.429 377.347,191.849 382.715,192.257 388.083,192.653 393.451,193.038 398.819,193.413 404.187,193.776 409.555,194.131 \n",
       "  414.923,194.475 420.291,194.811 425.659,195.137 431.027,195.456 436.395,195.766 441.763,196.069 447.131,196.364 452.499,196.653 457.867,196.934 463.234,197.209 \n",
       "  468.602,197.477 473.97,197.739 479.338,197.996 484.706,198.246 490.074,198.491 495.442,198.731 500.81,198.965 506.178,199.194 511.546,199.419 516.914,199.638 \n",
       "  522.282,199.854 527.65,200.064 533.018,200.271 538.386,200.473 543.754,200.671 549.122,200.865 554.49,201.056 559.858,201.242 565.226,201.425 570.594,201.605 \n",
       "  575.962,201.781 581.33,201.954 586.698,202.124 592.066,202.29 597.434,202.453 602.802,202.614 608.17,202.771 613.538,202.926 618.906,203.077 624.273,203.227 \n",
       "  629.641,203.373 635.009,203.517 640.377,203.658 645.745,203.797 651.113,203.934 656.481,204.068 661.849,204.2 667.217,204.33 672.585,204.457 677.953,204.583 \n",
       "  683.321,204.706 688.689,204.828 694.057,204.947 699.425,205.064 704.793,205.18 710.161,205.294 715.529,205.406 720.897,205.516 726.265,205.624 731.633,205.731 \n",
       "  737.001,205.836 742.369,205.939 747.737,206.041 753.105,206.141 758.473,206.24 763.841,206.337 769.209,206.433 774.577,206.527 779.945,206.62 785.312,206.711 \n",
       "  790.68,206.802 796.048,206.89 801.416,206.978 806.784,207.064 812.152,207.149 817.52,207.233 822.888,207.316 828.256,207.397 833.624,207.478 838.992,207.557 \n",
       "  844.36,207.635 849.728,207.712 855.096,207.788 860.464,207.863 865.832,207.937 871.2,208.009 876.568,208.081 881.936,208.152 887.304,208.222 892.672,208.291 \n",
       "  898.04,208.359 903.408,208.426 908.776,208.493 914.144,208.558 919.512,208.623 924.88,208.686 930.248,208.749 935.616,208.811 940.984,208.873 946.351,208.933 \n",
       "  951.719,208.993 957.087,209.052 962.455,209.11 967.823,209.168 973.191,209.224 978.559,209.28 983.927,209.336 989.295,209.391 994.663,209.445 1000.03,209.498 \n",
       "  1005.4,209.551 1010.77,209.603 1016.14,209.654 1021.5,209.705 1026.87,209.756 1032.24,209.805 1037.61,209.854 1042.97,209.903 1048.34,209.951 1053.71,209.998 \n",
       "  1059.08,210.045 1064.45,210.091 1069.81,210.137 1075.18,210.182 1080.55,210.227 1085.92,210.271 1091.29,210.315 1096.65,210.358 1102.02,210.401 1107.39,210.443 \n",
       "  \n",
       "  \"/>\n",
       "<polygon clip-path=\"url(#clip5800)\" points=\"\n",
       "183.995,73.731 346.915,73.731 346.915,43.491 183.995,43.491 \n",
       "  \" fill=\"#ffffff\" fill-opacity=\"1\"/>\n",
       "<polyline clip-path=\"url(#clip5800)\" style=\"stroke:#000000; stroke-width:1; stroke-opacity:1; fill:none\" points=\"\n",
       "  183.995,73.731 346.915,73.731 346.915,43.491 183.995,43.491 183.995,73.731 \n",
       "  \"/>\n",
       "<polyline clip-path=\"url(#clip5800)\" style=\"stroke:#009af9; stroke-width:1; stroke-opacity:1; fill:none\" points=\"\n",
       "  191.795,58.611 238.595,58.611 \n",
       "  \"/>\n",
       "<g clip-path=\"url(#clip5800)\">\n",
       "<text style=\"fill:#000000; fill-opacity:1; font-family:Arial,Helvetica Neue,Helvetica,sans-serif; font-size:12; text-anchor:start;\" transform=\"rotate(0, 246.395, 63.111)\" x=\"246.395\" y=\"63.111\">Equity Premium</text>\n",
       "</g>\n",
       "<polygon clip-path=\"url(#clip5800)\" points=\"\n",
       "422.474,210.443 760.315,210.443 760.315,11.811 422.474,11.811 \n",
       "  \" fill=\"#ffffff\" fill-opacity=\"1\"/>\n",
       "<defs>\n",
       "  <clipPath id=\"clip5803\">\n",
       "    <rect x=\"422\" y=\"11\" width=\"339\" height=\"200\"/>\n",
       "  </clipPath>\n",
       "</defs>\n",
       "<polyline clip-path=\"url(#clip5803)\" style=\"stroke:#000000; stroke-width:0.5; stroke-opacity:0.1; fill:none\" points=\"\n",
       "  422.474,210.443 422.474,11.811 \n",
       "  \"/>\n",
       "<polyline clip-path=\"url(#clip5803)\" style=\"stroke:#000000; stroke-width:0.5; stroke-opacity:0.1; fill:none\" points=\"\n",
       "  531.455,210.443 531.455,11.811 \n",
       "  \"/>\n",
       "<polyline clip-path=\"url(#clip5803)\" style=\"stroke:#000000; stroke-width:0.5; stroke-opacity:0.1; fill:none\" points=\"\n",
       "  640.436,210.443 640.436,11.811 \n",
       "  \"/>\n",
       "<polyline clip-path=\"url(#clip5803)\" style=\"stroke:#000000; stroke-width:0.5; stroke-opacity:0.1; fill:none\" points=\"\n",
       "  749.417,210.443 749.417,11.811 \n",
       "  \"/>\n",
       "<polyline clip-path=\"url(#clip5803)\" style=\"stroke:#000000; stroke-width:0.5; stroke-opacity:0.1; fill:none\" points=\"\n",
       "  422.474,189.921 760.315,189.921 \n",
       "  \"/>\n",
       "<polyline clip-path=\"url(#clip5803)\" style=\"stroke:#000000; stroke-width:0.5; stroke-opacity:0.1; fill:none\" points=\"\n",
       "  422.474,136.618 760.315,136.618 \n",
       "  \"/>\n",
       "<polyline clip-path=\"url(#clip5803)\" style=\"stroke:#000000; stroke-width:0.5; stroke-opacity:0.1; fill:none\" points=\"\n",
       "  422.474,83.3151 760.315,83.3151 \n",
       "  \"/>\n",
       "<polyline clip-path=\"url(#clip5803)\" style=\"stroke:#000000; stroke-width:0.5; stroke-opacity:0.1; fill:none\" points=\"\n",
       "  422.474,30.012 760.315,30.012 \n",
       "  \"/>\n",
       "<polyline clip-path=\"url(#clip5800)\" style=\"stroke:#000000; stroke-width:1; stroke-opacity:1; fill:none\" points=\"\n",
       "  422.474,210.443 760.315,210.443 \n",
       "  \"/>\n",
       "<polyline clip-path=\"url(#clip5800)\" style=\"stroke:#000000; stroke-width:1; stroke-opacity:1; fill:none\" points=\"\n",
       "  422.474,210.443 422.474,11.811 \n",
       "  \"/>\n",
       "<polyline clip-path=\"url(#clip5800)\" style=\"stroke:#000000; stroke-width:1; stroke-opacity:1; fill:none\" points=\"\n",
       "  422.474,210.443 422.474,207.464 \n",
       "  \"/>\n",
       "<polyline clip-path=\"url(#clip5800)\" style=\"stroke:#000000; stroke-width:1; stroke-opacity:1; fill:none\" points=\"\n",
       "  531.455,210.443 531.455,207.464 \n",
       "  \"/>\n",
       "<polyline clip-path=\"url(#clip5800)\" style=\"stroke:#000000; stroke-width:1; stroke-opacity:1; fill:none\" points=\"\n",
       "  640.436,210.443 640.436,207.464 \n",
       "  \"/>\n",
       "<polyline clip-path=\"url(#clip5800)\" style=\"stroke:#000000; stroke-width:1; stroke-opacity:1; fill:none\" points=\"\n",
       "  749.417,210.443 749.417,207.464 \n",
       "  \"/>\n",
       "<polyline clip-path=\"url(#clip5800)\" style=\"stroke:#000000; stroke-width:1; stroke-opacity:1; fill:none\" points=\"\n",
       "  422.474,189.921 427.542,189.921 \n",
       "  \"/>\n",
       "<polyline clip-path=\"url(#clip5800)\" style=\"stroke:#000000; stroke-width:1; stroke-opacity:1; fill:none\" points=\"\n",
       "  422.474,136.618 427.542,136.618 \n",
       "  \"/>\n",
       "<polyline clip-path=\"url(#clip5800)\" style=\"stroke:#000000; stroke-width:1; stroke-opacity:1; fill:none\" points=\"\n",
       "  422.474,83.3151 427.542,83.3151 \n",
       "  \"/>\n",
       "<polyline clip-path=\"url(#clip5800)\" style=\"stroke:#000000; stroke-width:1; stroke-opacity:1; fill:none\" points=\"\n",
       "  422.474,30.012 427.542,30.012 \n",
       "  \"/>\n",
       "<g clip-path=\"url(#clip5800)\">\n",
       "<text style=\"fill:#000000; fill-opacity:1; font-family:Arial,Helvetica Neue,Helvetica,sans-serif; font-size:12; text-anchor:middle;\" transform=\"rotate(0, 422.474, 225.143)\" x=\"422.474\" y=\"225.143\">0.0</text>\n",
       "</g>\n",
       "<g clip-path=\"url(#clip5800)\">\n",
       "<text style=\"fill:#000000; fill-opacity:1; font-family:Arial,Helvetica Neue,Helvetica,sans-serif; font-size:12; text-anchor:middle;\" transform=\"rotate(0, 531.455, 225.143)\" x=\"531.455\" y=\"225.143\">0.1</text>\n",
       "</g>\n",
       "<g clip-path=\"url(#clip5800)\">\n",
       "<text style=\"fill:#000000; fill-opacity:1; font-family:Arial,Helvetica Neue,Helvetica,sans-serif; font-size:12; text-anchor:middle;\" transform=\"rotate(0, 640.436, 225.143)\" x=\"640.436\" y=\"225.143\">0.2</text>\n",
       "</g>\n",
       "<g clip-path=\"url(#clip5800)\">\n",
       "<text style=\"fill:#000000; fill-opacity:1; font-family:Arial,Helvetica Neue,Helvetica,sans-serif; font-size:12; text-anchor:middle;\" transform=\"rotate(0, 749.417, 225.143)\" x=\"749.417\" y=\"225.143\">0.3</text>\n",
       "</g>\n",
       "<g clip-path=\"url(#clip5800)\">\n",
       "<text style=\"fill:#000000; fill-opacity:1; font-family:Arial,Helvetica Neue,Helvetica,sans-serif; font-size:12; text-anchor:end;\" transform=\"rotate(0, 414.674, 194.421)\" x=\"414.674\" y=\"194.421\">0.1</text>\n",
       "</g>\n",
       "<g clip-path=\"url(#clip5800)\">\n",
       "<text style=\"fill:#000000; fill-opacity:1; font-family:Arial,Helvetica Neue,Helvetica,sans-serif; font-size:12; text-anchor:end;\" transform=\"rotate(0, 414.674, 141.118)\" x=\"414.674\" y=\"141.118\">0.2</text>\n",
       "</g>\n",
       "<g clip-path=\"url(#clip5800)\">\n",
       "<text style=\"fill:#000000; fill-opacity:1; font-family:Arial,Helvetica Neue,Helvetica,sans-serif; font-size:12; text-anchor:end;\" transform=\"rotate(0, 414.674, 87.8151)\" x=\"414.674\" y=\"87.8151\">0.3</text>\n",
       "</g>\n",
       "<g clip-path=\"url(#clip5800)\">\n",
       "<text style=\"fill:#000000; fill-opacity:1; font-family:Arial,Helvetica Neue,Helvetica,sans-serif; font-size:12; text-anchor:end;\" transform=\"rotate(0, 414.674, 34.512)\" x=\"414.674\" y=\"34.512\">0.4</text>\n",
       "</g>\n",
       "<g clip-path=\"url(#clip5800)\">\n",
       "<text style=\"fill:#000000; fill-opacity:1; font-family:Arial,Helvetica Neue,Helvetica,sans-serif; font-size:16; text-anchor:middle;\" transform=\"rotate(0, 591.395, 247.6)\" x=\"591.395\" y=\"247.6\">X</text>\n",
       "</g>\n",
       "<polyline clip-path=\"url(#clip5803)\" style=\"stroke:#009af9; stroke-width:1; stroke-opacity:1; fill:none\" points=\"\n",
       "  422.474,24.6817 427.951,11.811 433.427,14.5419 438.904,20.0003 444.38,26.2215 449.857,32.5733 455.333,38.8013 460.809,44.796 466.286,50.5129 471.762,55.939 \n",
       "  477.239,61.0771 482.715,65.938 488.192,70.5364 493.668,74.8885 499.144,79.0106 504.621,82.9189 510.097,86.6287 515.574,90.1543 521.05,93.5092 526.527,96.7059 \n",
       "  532.003,99.7558 537.479,102.67 542.956,105.457 548.432,108.128 553.909,110.431 559.385,112.876 564.861,115.222 570.338,117.476 575.814,119.643 581.291,121.728 \n",
       "  586.767,123.738 592.244,125.675 597.72,127.544 603.196,129.35 608.673,131.095 614.149,132.782 619.626,134.416 625.102,135.998 630.579,137.531 636.055,139.017 \n",
       "  641.531,140.46 647.008,141.861 652.484,143.221 657.961,144.544 663.437,145.829 668.913,147.08 674.39,148.298 679.866,149.484 685.343,150.639 690.819,151.764 \n",
       "  696.296,152.862 701.772,153.933 707.248,154.977 712.725,155.997 718.201,156.992 723.678,157.965 729.154,158.915 734.631,159.843 740.107,160.751 745.583,161.639 \n",
       "  751.06,162.507 756.536,163.357 762.013,164.189 767.489,165.003 772.965,165.801 778.442,166.582 783.918,167.347 789.395,168.097 794.871,168.832 800.348,169.552 \n",
       "  805.824,170.259 811.3,170.952 816.777,171.632 822.253,172.298 827.73,172.953 833.206,173.595 838.683,174.226 844.159,174.845 849.635,175.454 855.112,176.051 \n",
       "  860.588,176.638 866.065,177.214 871.541,177.781 877.018,178.338 882.494,178.885 887.97,179.423 893.447,179.953 898.923,180.473 904.4,180.985 909.876,181.489 \n",
       "  915.352,181.984 920.829,182.471 926.305,182.951 931.782,183.423 937.258,183.888 942.735,184.346 948.211,184.796 953.687,185.24 959.164,185.677 964.64,186.107 \n",
       "  970.117,186.531 975.593,186.948 981.07,187.36 986.546,187.765 992.022,188.164 997.499,188.558 1002.98,188.946 1008.45,189.329 1013.93,189.706 1019.4,190.078 \n",
       "  1024.88,190.445 1030.36,190.806 1035.83,191.163 1041.31,191.515 1046.79,191.862 1052.26,192.204 1057.74,192.542 1063.22,192.875 1068.69,193.204 1074.17,193.529 \n",
       "  1079.65,193.849 1085.12,194.165 1090.6,194.477 1096.07,194.786 1101.55,195.09 1107.03,195.39 1112.5,195.687 1117.98,195.98 1123.46,196.269 1128.93,196.555 \n",
       "  1134.41,196.837 1139.89,197.116 1145.36,197.391 1150.84,197.664 1156.32,197.932 1161.79,198.198 1167.27,198.461 1172.74,198.72 1178.22,198.977 1183.7,199.23 \n",
       "  1189.17,199.481 1194.65,199.728 1200.13,199.973 1205.6,200.215 1211.08,200.455 1216.56,200.691 1222.03,200.925 1227.51,201.157 1232.98,201.385 1238.46,201.612 \n",
       "  1243.94,201.836 1249.41,202.057 1254.89,202.276 1260.37,202.493 1265.84,202.707 1271.32,202.919 1276.8,203.129 1282.27,203.337 1287.75,203.542 1293.23,203.746 \n",
       "  1298.7,203.947 1304.18,204.146 1309.65,204.343 1315.13,204.538 1320.61,204.731 1326.08,204.923 1331.56,205.112 1337.04,205.299 1342.51,205.485 1347.99,205.668 \n",
       "  1353.47,205.85 1358.94,206.03 1364.42,206.209 1369.9,206.385 1375.37,206.56 1380.85,206.733 1386.32,206.905 1391.8,207.075 1397.28,207.243 1402.75,207.41 \n",
       "  1408.23,207.575 1413.71,207.739 1419.18,207.901 1424.66,208.061 1430.14,208.221 1435.61,208.378 1441.09,208.535 1446.57,208.689 1452.04,208.843 1457.52,208.995 \n",
       "  1462.99,209.145 1468.47,209.295 1473.95,209.443 1479.42,209.589 1484.9,209.735 1490.38,209.879 1495.85,210.022 1501.33,210.163 1506.81,210.304 1512.28,210.443 \n",
       "  \n",
       "  \"/>\n",
       "<polygon clip-path=\"url(#clip5800)\" points=\"\n",
       "551.264,73.731 736.915,73.731 736.915,43.491 551.264,43.491 \n",
       "  \" fill=\"#ffffff\" fill-opacity=\"1\"/>\n",
       "<polyline clip-path=\"url(#clip5800)\" style=\"stroke:#000000; stroke-width:1; stroke-opacity:1; fill:none\" points=\"\n",
       "  551.264,73.731 736.915,73.731 736.915,43.491 551.264,43.491 551.264,73.731 \n",
       "  \"/>\n",
       "<polyline clip-path=\"url(#clip5800)\" style=\"stroke:#009af9; stroke-width:1; stroke-opacity:1; fill:none\" points=\"\n",
       "  559.064,58.611 605.864,58.611 \n",
       "  \"/>\n",
       "<g clip-path=\"url(#clip5800)\">\n",
       "<text style=\"fill:#000000; fill-opacity:1; font-family:Arial,Helvetica Neue,Helvetica,sans-serif; font-size:12; text-anchor:start;\" transform=\"rotate(0, 613.664, 63.111)\" x=\"613.664\" y=\"63.111\">Market Price of Risk</text>\n",
       "</g>\n",
       "<polygon clip-path=\"url(#clip5800)\" points=\"\n",
       "39.1651,460.443 370.315,460.443 370.315,261.811 39.1651,261.811 \n",
       "  \" fill=\"#ffffff\" fill-opacity=\"1\"/>\n",
       "<defs>\n",
       "  <clipPath id=\"clip5804\">\n",
       "    <rect x=\"39\" y=\"261\" width=\"332\" height=\"200\"/>\n",
       "  </clipPath>\n",
       "</defs>\n",
       "<polyline clip-path=\"url(#clip5804)\" style=\"stroke:#000000; stroke-width:0.5; stroke-opacity:0.1; fill:none\" points=\"\n",
       "  39.1651,460.443 39.1651,261.811 \n",
       "  \"/>\n",
       "<polyline clip-path=\"url(#clip5804)\" style=\"stroke:#000000; stroke-width:0.5; stroke-opacity:0.1; fill:none\" points=\"\n",
       "  145.988,460.443 145.988,261.811 \n",
       "  \"/>\n",
       "<polyline clip-path=\"url(#clip5804)\" style=\"stroke:#000000; stroke-width:0.5; stroke-opacity:0.1; fill:none\" points=\"\n",
       "  252.81,460.443 252.81,261.811 \n",
       "  \"/>\n",
       "<polyline clip-path=\"url(#clip5804)\" style=\"stroke:#000000; stroke-width:0.5; stroke-opacity:0.1; fill:none\" points=\"\n",
       "  359.633,460.443 359.633,261.811 \n",
       "  \"/>\n",
       "<polyline clip-path=\"url(#clip5804)\" style=\"stroke:#000000; stroke-width:0.5; stroke-opacity:0.1; fill:none\" points=\"\n",
       "  39.1651,460.443 370.315,460.443 \n",
       "  \"/>\n",
       "<polyline clip-path=\"url(#clip5804)\" style=\"stroke:#000000; stroke-width:0.5; stroke-opacity:0.1; fill:none\" points=\"\n",
       "  39.1651,410.785 370.315,410.785 \n",
       "  \"/>\n",
       "<polyline clip-path=\"url(#clip5804)\" style=\"stroke:#000000; stroke-width:0.5; stroke-opacity:0.1; fill:none\" points=\"\n",
       "  39.1651,361.127 370.315,361.127 \n",
       "  \"/>\n",
       "<polyline clip-path=\"url(#clip5804)\" style=\"stroke:#000000; stroke-width:0.5; stroke-opacity:0.1; fill:none\" points=\"\n",
       "  39.1651,311.469 370.315,311.469 \n",
       "  \"/>\n",
       "<polyline clip-path=\"url(#clip5804)\" style=\"stroke:#000000; stroke-width:0.5; stroke-opacity:0.1; fill:none\" points=\"\n",
       "  39.1651,261.811 370.315,261.811 \n",
       "  \"/>\n",
       "<polyline clip-path=\"url(#clip5800)\" style=\"stroke:#000000; stroke-width:1; stroke-opacity:1; fill:none\" points=\"\n",
       "  39.1651,460.443 370.315,460.443 \n",
       "  \"/>\n",
       "<polyline clip-path=\"url(#clip5800)\" style=\"stroke:#000000; stroke-width:1; stroke-opacity:1; fill:none\" points=\"\n",
       "  39.1651,460.443 39.1651,261.811 \n",
       "  \"/>\n",
       "<polyline clip-path=\"url(#clip5800)\" style=\"stroke:#000000; stroke-width:1; stroke-opacity:1; fill:none\" points=\"\n",
       "  39.1651,460.443 39.1651,457.464 \n",
       "  \"/>\n",
       "<polyline clip-path=\"url(#clip5800)\" style=\"stroke:#000000; stroke-width:1; stroke-opacity:1; fill:none\" points=\"\n",
       "  145.988,460.443 145.988,457.464 \n",
       "  \"/>\n",
       "<polyline clip-path=\"url(#clip5800)\" style=\"stroke:#000000; stroke-width:1; stroke-opacity:1; fill:none\" points=\"\n",
       "  252.81,460.443 252.81,457.464 \n",
       "  \"/>\n",
       "<polyline clip-path=\"url(#clip5800)\" style=\"stroke:#000000; stroke-width:1; stroke-opacity:1; fill:none\" points=\"\n",
       "  359.633,460.443 359.633,457.464 \n",
       "  \"/>\n",
       "<polyline clip-path=\"url(#clip5800)\" style=\"stroke:#000000; stroke-width:1; stroke-opacity:1; fill:none\" points=\"\n",
       "  39.1651,460.443 44.1323,460.443 \n",
       "  \"/>\n",
       "<polyline clip-path=\"url(#clip5800)\" style=\"stroke:#000000; stroke-width:1; stroke-opacity:1; fill:none\" points=\"\n",
       "  39.1651,410.785 44.1323,410.785 \n",
       "  \"/>\n",
       "<polyline clip-path=\"url(#clip5800)\" style=\"stroke:#000000; stroke-width:1; stroke-opacity:1; fill:none\" points=\"\n",
       "  39.1651,361.127 44.1323,361.127 \n",
       "  \"/>\n",
       "<polyline clip-path=\"url(#clip5800)\" style=\"stroke:#000000; stroke-width:1; stroke-opacity:1; fill:none\" points=\"\n",
       "  39.1651,311.469 44.1323,311.469 \n",
       "  \"/>\n",
       "<polyline clip-path=\"url(#clip5800)\" style=\"stroke:#000000; stroke-width:1; stroke-opacity:1; fill:none\" points=\"\n",
       "  39.1651,261.811 44.1323,261.811 \n",
       "  \"/>\n",
       "<g clip-path=\"url(#clip5800)\">\n",
       "<text style=\"fill:#000000; fill-opacity:1; font-family:Arial,Helvetica Neue,Helvetica,sans-serif; font-size:12; text-anchor:middle;\" transform=\"rotate(0, 39.1651, 475.143)\" x=\"39.1651\" y=\"475.143\">0.0</text>\n",
       "</g>\n",
       "<g clip-path=\"url(#clip5800)\">\n",
       "<text style=\"fill:#000000; fill-opacity:1; font-family:Arial,Helvetica Neue,Helvetica,sans-serif; font-size:12; text-anchor:middle;\" transform=\"rotate(0, 145.988, 475.143)\" x=\"145.988\" y=\"475.143\">0.1</text>\n",
       "</g>\n",
       "<g clip-path=\"url(#clip5800)\">\n",
       "<text style=\"fill:#000000; fill-opacity:1; font-family:Arial,Helvetica Neue,Helvetica,sans-serif; font-size:12; text-anchor:middle;\" transform=\"rotate(0, 252.81, 475.143)\" x=\"252.81\" y=\"475.143\">0.2</text>\n",
       "</g>\n",
       "<g clip-path=\"url(#clip5800)\">\n",
       "<text style=\"fill:#000000; fill-opacity:1; font-family:Arial,Helvetica Neue,Helvetica,sans-serif; font-size:12; text-anchor:middle;\" transform=\"rotate(0, 359.633, 475.143)\" x=\"359.633\" y=\"475.143\">0.3</text>\n",
       "</g>\n",
       "<g clip-path=\"url(#clip5800)\">\n",
       "<text style=\"fill:#000000; fill-opacity:1; font-family:Arial,Helvetica Neue,Helvetica,sans-serif; font-size:12; text-anchor:end;\" transform=\"rotate(0, 31.3651, 464.943)\" x=\"31.3651\" y=\"464.943\">0.00</text>\n",
       "</g>\n",
       "<g clip-path=\"url(#clip5800)\">\n",
       "<text style=\"fill:#000000; fill-opacity:1; font-family:Arial,Helvetica Neue,Helvetica,sans-serif; font-size:12; text-anchor:end;\" transform=\"rotate(0, 31.3651, 415.285)\" x=\"31.3651\" y=\"415.285\">0.02</text>\n",
       "</g>\n",
       "<g clip-path=\"url(#clip5800)\">\n",
       "<text style=\"fill:#000000; fill-opacity:1; font-family:Arial,Helvetica Neue,Helvetica,sans-serif; font-size:12; text-anchor:end;\" transform=\"rotate(0, 31.3651, 365.627)\" x=\"31.3651\" y=\"365.627\">0.04</text>\n",
       "</g>\n",
       "<g clip-path=\"url(#clip5800)\">\n",
       "<text style=\"fill:#000000; fill-opacity:1; font-family:Arial,Helvetica Neue,Helvetica,sans-serif; font-size:12; text-anchor:end;\" transform=\"rotate(0, 31.3651, 315.969)\" x=\"31.3651\" y=\"315.969\">0.06</text>\n",
       "</g>\n",
       "<g clip-path=\"url(#clip5800)\">\n",
       "<text style=\"fill:#000000; fill-opacity:1; font-family:Arial,Helvetica Neue,Helvetica,sans-serif; font-size:12; text-anchor:end;\" transform=\"rotate(0, 31.3651, 266.311)\" x=\"31.3651\" y=\"266.311\">0.08</text>\n",
       "</g>\n",
       "<g clip-path=\"url(#clip5800)\">\n",
       "<text style=\"fill:#000000; fill-opacity:1; font-family:Arial,Helvetica Neue,Helvetica,sans-serif; font-size:16; text-anchor:middle;\" transform=\"rotate(0, 204.74, 497.6)\" x=\"204.74\" y=\"497.6\">X</text>\n",
       "</g>\n",
       "<polyline clip-path=\"url(#clip5804)\" style=\"stroke:#009af9; stroke-width:1; stroke-opacity:1; fill:none\" points=\"\n",
       "  39.1651,-86.8171 44.533,179.585 49.901,274.359 55.269,327.211 60.6369,360.698 66.0049,383.238 71.3729,398.934 76.7408,410.085 82.1088,418.094 87.4768,423.87 \n",
       "  92.8447,428.026 98.2127,430.989 103.581,433.064 108.949,434.472 114.317,435.378 119.685,435.904 125.053,436.143 130.421,436.166 135.788,436.028 141.156,435.771 \n",
       "  146.524,435.427 151.892,435.022 157.26,434.575 162.628,434.102 167.996,433.789 173.364,433.308 178.732,432.836 184.1,432.377 189.468,431.935 194.836,431.511 \n",
       "  200.204,431.109 205.572,430.729 210.94,430.371 216.308,430.037 221.676,429.726 227.044,429.439 232.412,429.174 237.78,428.931 243.148,428.71 248.516,428.51 \n",
       "  253.884,428.33 259.252,428.17 264.62,428.028 269.988,427.904 275.356,427.798 280.724,427.707 286.092,427.632 291.46,427.572 296.827,427.526 302.195,427.492 \n",
       "  307.563,427.472 312.931,427.463 318.299,427.465 323.667,427.477 329.035,427.5 334.403,427.531 339.771,427.572 345.139,427.62 350.507,427.677 355.875,427.74 \n",
       "  361.243,427.81 366.611,427.886 371.979,427.969 377.347,428.056 382.715,428.149 388.083,428.247 393.451,428.348 398.819,428.454 404.187,428.564 409.555,428.677 \n",
       "  414.923,428.793 420.291,428.913 425.659,429.034 431.027,429.159 436.395,429.286 441.763,429.414 447.131,429.545 452.499,429.677 457.867,429.811 463.234,429.946 \n",
       "  468.602,430.082 473.97,430.219 479.338,430.358 484.706,430.497 490.074,430.636 495.442,430.777 500.81,430.917 506.178,431.058 511.546,431.2 516.914,431.341 \n",
       "  522.282,431.483 527.65,431.624 533.018,431.766 538.386,431.907 543.754,432.048 549.122,432.189 554.49,432.33 559.858,432.47 565.226,432.61 570.594,432.75 \n",
       "  575.962,432.888 581.33,433.027 586.698,433.165 592.066,433.302 597.434,433.439 602.802,433.575 608.17,433.71 613.538,433.845 618.906,433.979 624.273,434.112 \n",
       "  629.641,434.244 635.009,434.376 640.377,434.506 645.745,434.636 651.113,434.766 656.481,434.894 661.849,435.021 667.217,435.148 672.585,435.274 677.953,435.399 \n",
       "  683.321,435.523 688.689,435.646 694.057,435.768 699.425,435.889 704.793,436.01 710.161,436.129 715.529,436.248 720.897,436.366 726.265,436.483 731.633,436.599 \n",
       "  737.001,436.714 742.369,436.828 747.737,436.941 753.105,437.054 758.473,437.165 763.841,437.276 769.209,437.386 774.577,437.495 779.945,437.603 785.312,437.71 \n",
       "  790.68,437.816 796.048,437.921 801.416,438.026 806.784,438.13 812.152,438.232 817.52,438.334 822.888,438.436 828.256,438.536 833.624,438.635 838.992,438.734 \n",
       "  844.36,438.832 849.728,438.929 855.096,439.025 860.464,439.121 865.832,439.215 871.2,439.309 876.568,439.402 881.936,439.495 887.304,439.586 892.672,439.677 \n",
       "  898.04,439.767 903.408,439.856 908.776,439.945 914.144,440.033 919.512,440.12 924.88,440.206 930.248,440.292 935.616,440.377 940.984,440.461 946.351,440.545 \n",
       "  951.719,440.628 957.087,440.71 962.455,440.792 967.823,440.872 973.191,440.953 978.559,441.032 983.927,441.111 989.295,441.189 994.663,441.267 1000.03,441.344 \n",
       "  1005.4,441.42 1010.77,441.496 1016.14,441.571 1021.5,441.646 1026.87,441.72 1032.24,441.793 1037.61,441.866 1042.97,441.938 1048.34,442.01 1053.71,442.081 \n",
       "  1059.08,442.151 1064.45,442.221 1069.81,442.29 1075.18,442.359 1080.55,442.427 1085.92,442.495 1091.29,442.562 1096.65,442.629 1102.02,442.695 1107.39,442.761 \n",
       "  \n",
       "  \"/>\n",
       "<polygon clip-path=\"url(#clip5800)\" points=\"\n",
       "200.024,323.731 346.915,323.731 346.915,293.491 200.024,293.491 \n",
       "  \" fill=\"#ffffff\" fill-opacity=\"1\"/>\n",
       "<polyline clip-path=\"url(#clip5800)\" style=\"stroke:#000000; stroke-width:1; stroke-opacity:1; fill:none\" points=\"\n",
       "  200.024,323.731 346.915,323.731 346.915,293.491 200.024,293.491 200.024,323.731 \n",
       "  \"/>\n",
       "<polyline clip-path=\"url(#clip5800)\" style=\"stroke:#009af9; stroke-width:1; stroke-opacity:1; fill:none\" points=\"\n",
       "  207.824,308.611 254.624,308.611 \n",
       "  \"/>\n",
       "<g clip-path=\"url(#clip5800)\">\n",
       "<text style=\"fill:#000000; fill-opacity:1; font-family:Arial,Helvetica Neue,Helvetica,sans-serif; font-size:12; text-anchor:start;\" transform=\"rotate(0, 262.424, 313.111)\" x=\"262.424\" y=\"313.111\">Interest Rate</text>\n",
       "</g>\n",
       "<polygon clip-path=\"url(#clip5800)\" points=\"\n",
       "429.165,460.443 760.315,460.443 760.315,261.811 429.165,261.811 \n",
       "  \" fill=\"#ffffff\" fill-opacity=\"1\"/>\n",
       "<defs>\n",
       "  <clipPath id=\"clip5805\">\n",
       "    <rect x=\"429\" y=\"261\" width=\"332\" height=\"200\"/>\n",
       "  </clipPath>\n",
       "</defs>\n",
       "<polyline clip-path=\"url(#clip5805)\" style=\"stroke:#000000; stroke-width:0.5; stroke-opacity:0.1; fill:none\" points=\"\n",
       "  429.165,460.443 429.165,261.811 \n",
       "  \"/>\n",
       "<polyline clip-path=\"url(#clip5805)\" style=\"stroke:#000000; stroke-width:0.5; stroke-opacity:0.1; fill:none\" points=\"\n",
       "  535.988,460.443 535.988,261.811 \n",
       "  \"/>\n",
       "<polyline clip-path=\"url(#clip5805)\" style=\"stroke:#000000; stroke-width:0.5; stroke-opacity:0.1; fill:none\" points=\"\n",
       "  642.81,460.443 642.81,261.811 \n",
       "  \"/>\n",
       "<polyline clip-path=\"url(#clip5805)\" style=\"stroke:#000000; stroke-width:0.5; stroke-opacity:0.1; fill:none\" points=\"\n",
       "  749.633,460.443 749.633,261.811 \n",
       "  \"/>\n",
       "<polyline clip-path=\"url(#clip5805)\" style=\"stroke:#000000; stroke-width:0.5; stroke-opacity:0.1; fill:none\" points=\"\n",
       "  429.165,434.093 760.315,434.093 \n",
       "  \"/>\n",
       "<polyline clip-path=\"url(#clip5805)\" style=\"stroke:#000000; stroke-width:0.5; stroke-opacity:0.1; fill:none\" points=\"\n",
       "  429.165,406.356 760.315,406.356 \n",
       "  \"/>\n",
       "<polyline clip-path=\"url(#clip5805)\" style=\"stroke:#000000; stroke-width:0.5; stroke-opacity:0.1; fill:none\" points=\"\n",
       "  429.165,378.62 760.315,378.62 \n",
       "  \"/>\n",
       "<polyline clip-path=\"url(#clip5805)\" style=\"stroke:#000000; stroke-width:0.5; stroke-opacity:0.1; fill:none\" points=\"\n",
       "  429.165,350.883 760.315,350.883 \n",
       "  \"/>\n",
       "<polyline clip-path=\"url(#clip5805)\" style=\"stroke:#000000; stroke-width:0.5; stroke-opacity:0.1; fill:none\" points=\"\n",
       "  429.165,323.146 760.315,323.146 \n",
       "  \"/>\n",
       "<polyline clip-path=\"url(#clip5805)\" style=\"stroke:#000000; stroke-width:0.5; stroke-opacity:0.1; fill:none\" points=\"\n",
       "  429.165,295.409 760.315,295.409 \n",
       "  \"/>\n",
       "<polyline clip-path=\"url(#clip5805)\" style=\"stroke:#000000; stroke-width:0.5; stroke-opacity:0.1; fill:none\" points=\"\n",
       "  429.165,267.673 760.315,267.673 \n",
       "  \"/>\n",
       "<polyline clip-path=\"url(#clip5800)\" style=\"stroke:#000000; stroke-width:1; stroke-opacity:1; fill:none\" points=\"\n",
       "  429.165,460.443 760.315,460.443 \n",
       "  \"/>\n",
       "<polyline clip-path=\"url(#clip5800)\" style=\"stroke:#000000; stroke-width:1; stroke-opacity:1; fill:none\" points=\"\n",
       "  429.165,460.443 429.165,261.811 \n",
       "  \"/>\n",
       "<polyline clip-path=\"url(#clip5800)\" style=\"stroke:#000000; stroke-width:1; stroke-opacity:1; fill:none\" points=\"\n",
       "  429.165,460.443 429.165,457.464 \n",
       "  \"/>\n",
       "<polyline clip-path=\"url(#clip5800)\" style=\"stroke:#000000; stroke-width:1; stroke-opacity:1; fill:none\" points=\"\n",
       "  535.988,460.443 535.988,457.464 \n",
       "  \"/>\n",
       "<polyline clip-path=\"url(#clip5800)\" style=\"stroke:#000000; stroke-width:1; stroke-opacity:1; fill:none\" points=\"\n",
       "  642.81,460.443 642.81,457.464 \n",
       "  \"/>\n",
       "<polyline clip-path=\"url(#clip5800)\" style=\"stroke:#000000; stroke-width:1; stroke-opacity:1; fill:none\" points=\"\n",
       "  749.633,460.443 749.633,457.464 \n",
       "  \"/>\n",
       "<polyline clip-path=\"url(#clip5800)\" style=\"stroke:#000000; stroke-width:1; stroke-opacity:1; fill:none\" points=\"\n",
       "  429.165,434.093 434.132,434.093 \n",
       "  \"/>\n",
       "<polyline clip-path=\"url(#clip5800)\" style=\"stroke:#000000; stroke-width:1; stroke-opacity:1; fill:none\" points=\"\n",
       "  429.165,406.356 434.132,406.356 \n",
       "  \"/>\n",
       "<polyline clip-path=\"url(#clip5800)\" style=\"stroke:#000000; stroke-width:1; stroke-opacity:1; fill:none\" points=\"\n",
       "  429.165,378.62 434.132,378.62 \n",
       "  \"/>\n",
       "<polyline clip-path=\"url(#clip5800)\" style=\"stroke:#000000; stroke-width:1; stroke-opacity:1; fill:none\" points=\"\n",
       "  429.165,350.883 434.132,350.883 \n",
       "  \"/>\n",
       "<polyline clip-path=\"url(#clip5800)\" style=\"stroke:#000000; stroke-width:1; stroke-opacity:1; fill:none\" points=\"\n",
       "  429.165,323.146 434.132,323.146 \n",
       "  \"/>\n",
       "<polyline clip-path=\"url(#clip5800)\" style=\"stroke:#000000; stroke-width:1; stroke-opacity:1; fill:none\" points=\"\n",
       "  429.165,295.409 434.132,295.409 \n",
       "  \"/>\n",
       "<polyline clip-path=\"url(#clip5800)\" style=\"stroke:#000000; stroke-width:1; stroke-opacity:1; fill:none\" points=\"\n",
       "  429.165,267.673 434.132,267.673 \n",
       "  \"/>\n",
       "<g clip-path=\"url(#clip5800)\">\n",
       "<text style=\"fill:#000000; fill-opacity:1; font-family:Arial,Helvetica Neue,Helvetica,sans-serif; font-size:12; text-anchor:middle;\" transform=\"rotate(0, 429.165, 475.143)\" x=\"429.165\" y=\"475.143\">0.0</text>\n",
       "</g>\n",
       "<g clip-path=\"url(#clip5800)\">\n",
       "<text style=\"fill:#000000; fill-opacity:1; font-family:Arial,Helvetica Neue,Helvetica,sans-serif; font-size:12; text-anchor:middle;\" transform=\"rotate(0, 535.988, 475.143)\" x=\"535.988\" y=\"475.143\">0.1</text>\n",
       "</g>\n",
       "<g clip-path=\"url(#clip5800)\">\n",
       "<text style=\"fill:#000000; fill-opacity:1; font-family:Arial,Helvetica Neue,Helvetica,sans-serif; font-size:12; text-anchor:middle;\" transform=\"rotate(0, 642.81, 475.143)\" x=\"642.81\" y=\"475.143\">0.2</text>\n",
       "</g>\n",
       "<g clip-path=\"url(#clip5800)\">\n",
       "<text style=\"fill:#000000; fill-opacity:1; font-family:Arial,Helvetica Neue,Helvetica,sans-serif; font-size:12; text-anchor:middle;\" transform=\"rotate(0, 749.633, 475.143)\" x=\"749.633\" y=\"475.143\">0.3</text>\n",
       "</g>\n",
       "<g clip-path=\"url(#clip5800)\">\n",
       "<text style=\"fill:#000000; fill-opacity:1; font-family:Arial,Helvetica Neue,Helvetica,sans-serif; font-size:12; text-anchor:end;\" transform=\"rotate(0, 421.365, 438.593)\" x=\"421.365\" y=\"438.593\">0.06</text>\n",
       "</g>\n",
       "<g clip-path=\"url(#clip5800)\">\n",
       "<text style=\"fill:#000000; fill-opacity:1; font-family:Arial,Helvetica Neue,Helvetica,sans-serif; font-size:12; text-anchor:end;\" transform=\"rotate(0, 421.365, 410.856)\" x=\"421.365\" y=\"410.856\">0.08</text>\n",
       "</g>\n",
       "<g clip-path=\"url(#clip5800)\">\n",
       "<text style=\"fill:#000000; fill-opacity:1; font-family:Arial,Helvetica Neue,Helvetica,sans-serif; font-size:12; text-anchor:end;\" transform=\"rotate(0, 421.365, 383.12)\" x=\"421.365\" y=\"383.12\">0.10</text>\n",
       "</g>\n",
       "<g clip-path=\"url(#clip5800)\">\n",
       "<text style=\"fill:#000000; fill-opacity:1; font-family:Arial,Helvetica Neue,Helvetica,sans-serif; font-size:12; text-anchor:end;\" transform=\"rotate(0, 421.365, 355.383)\" x=\"421.365\" y=\"355.383\">0.12</text>\n",
       "</g>\n",
       "<g clip-path=\"url(#clip5800)\">\n",
       "<text style=\"fill:#000000; fill-opacity:1; font-family:Arial,Helvetica Neue,Helvetica,sans-serif; font-size:12; text-anchor:end;\" transform=\"rotate(0, 421.365, 327.646)\" x=\"421.365\" y=\"327.646\">0.14</text>\n",
       "</g>\n",
       "<g clip-path=\"url(#clip5800)\">\n",
       "<text style=\"fill:#000000; fill-opacity:1; font-family:Arial,Helvetica Neue,Helvetica,sans-serif; font-size:12; text-anchor:end;\" transform=\"rotate(0, 421.365, 299.909)\" x=\"421.365\" y=\"299.909\">0.16</text>\n",
       "</g>\n",
       "<g clip-path=\"url(#clip5800)\">\n",
       "<text style=\"fill:#000000; fill-opacity:1; font-family:Arial,Helvetica Neue,Helvetica,sans-serif; font-size:12; text-anchor:end;\" transform=\"rotate(0, 421.365, 272.173)\" x=\"421.365\" y=\"272.173\">0.18</text>\n",
       "</g>\n",
       "<g clip-path=\"url(#clip5800)\">\n",
       "<text style=\"fill:#000000; fill-opacity:1; font-family:Arial,Helvetica Neue,Helvetica,sans-serif; font-size:16; text-anchor:middle;\" transform=\"rotate(0, 594.74, 497.6)\" x=\"594.74\" y=\"497.6\">X</text>\n",
       "</g>\n",
       "<polyline clip-path=\"url(#clip5805)\" style=\"stroke:#009af9; stroke-width:1; stroke-opacity:1; fill:none\" points=\"\n",
       "  429.165,460.443 434.533,271.766 439.901,263.309 445.269,261.811 450.637,265.022 456.005,270.683 461.373,277.553 466.741,284.947 472.109,292.475 477.477,299.915 \n",
       "  482.845,307.139 488.213,314.075 493.581,320.688 498.949,326.963 504.317,332.901 509.685,338.508 515.053,343.798 520.421,348.787 525.788,353.493 531.156,357.935 \n",
       "  536.524,362.133 541.892,366.107 547.26,369.877 552.628,373.463 557.996,376.6 563.364,379.437 568.732,382.109 574.1,384.627 579.468,387.002 584.836,389.244 \n",
       "  590.204,391.362 595.572,393.364 600.94,395.26 606.308,397.056 611.676,398.759 617.044,400.375 622.412,401.911 627.78,403.372 633.148,404.762 638.516,406.088 \n",
       "  643.884,407.353 649.252,408.561 654.62,409.715 659.988,410.821 665.356,411.88 670.724,412.896 676.092,413.871 681.46,414.809 686.827,415.711 692.195,416.58 \n",
       "  697.563,417.418 702.931,418.227 708.299,419.008 713.667,419.763 719.035,420.495 724.403,421.203 729.771,421.89 735.139,422.557 740.507,423.205 745.875,423.835 \n",
       "  751.243,424.448 756.611,425.044 761.979,425.626 767.347,426.193 772.715,426.747 778.083,427.287 783.451,427.816 788.819,428.332 794.187,428.838 799.555,429.333 \n",
       "  804.923,429.817 810.291,430.292 815.659,430.758 821.027,431.215 826.395,431.664 831.763,432.105 837.131,432.537 842.499,432.963 847.867,433.381 853.234,433.792 \n",
       "  858.602,434.197 863.97,434.595 869.338,434.987 874.706,435.373 880.074,435.754 885.442,436.128 890.81,436.498 896.178,436.862 901.546,437.221 906.914,437.575 \n",
       "  912.282,437.925 917.65,438.269 923.018,438.61 928.386,438.945 933.754,439.277 939.122,439.604 944.49,439.928 949.858,440.247 955.226,440.563 960.594,440.874 \n",
       "  965.962,441.182 971.33,441.486 976.698,441.787 982.066,442.085 987.434,442.378 992.802,442.669 998.17,442.956 1003.54,443.24 1008.91,443.521 1014.27,443.799 \n",
       "  1019.64,444.074 1025.01,444.346 1030.38,444.615 1035.75,444.881 1041.11,445.144 1046.48,445.405 1051.85,445.663 1057.22,445.918 1062.59,446.17 1067.95,446.42 \n",
       "  1073.32,446.667 1078.69,446.912 1084.06,447.154 1089.43,447.394 1094.79,447.632 1100.16,447.867 1105.53,448.1 1110.9,448.33 1116.26,448.558 1121.63,448.784 \n",
       "  1127,449.008 1132.37,449.23 1137.74,449.449 1143.1,449.667 1148.47,449.882 1153.84,450.095 1159.21,450.306 1164.58,450.515 1169.94,450.723 1175.31,450.928 \n",
       "  1180.68,451.131 1186.05,451.333 1191.42,451.532 1196.78,451.73 1202.15,451.926 1207.52,452.12 1212.89,452.312 1218.26,452.503 1223.62,452.692 1228.99,452.879 \n",
       "  1234.36,453.064 1239.73,453.248 1245.1,453.43 1250.46,453.611 1255.83,453.789 1261.2,453.967 1266.57,454.142 1271.94,454.317 1277.3,454.489 1282.67,454.66 \n",
       "  1288.04,454.83 1293.41,454.998 1298.78,455.165 1304.14,455.33 1309.51,455.494 1314.88,455.656 1320.25,455.817 1325.62,455.977 1330.98,456.135 1336.35,456.292 \n",
       "  1341.72,456.447 1347.09,456.602 1352.46,456.755 1357.82,456.906 1363.19,457.057 1368.56,457.206 1373.93,457.354 1379.3,457.501 1384.66,457.646 1390.03,457.79 \n",
       "  1395.4,457.933 1400.77,458.075 1406.14,458.216 1411.5,458.356 1416.87,458.494 1422.24,458.631 1427.61,458.768 1432.97,458.903 1438.34,459.037 1443.71,459.17 \n",
       "  1449.08,459.302 1454.45,459.433 1459.81,459.562 1465.18,459.691 1470.55,459.819 1475.92,459.946 1481.29,460.072 1486.65,460.196 1492.02,460.32 1497.39,460.443 \n",
       "  \n",
       "  \"/>\n",
       "<polygon clip-path=\"url(#clip5800)\" points=\"\n",
       "614.115,323.731 736.915,323.731 736.915,293.491 614.115,293.491 \n",
       "  \" fill=\"#ffffff\" fill-opacity=\"1\"/>\n",
       "<polyline clip-path=\"url(#clip5800)\" style=\"stroke:#000000; stroke-width:1; stroke-opacity:1; fill:none\" points=\"\n",
       "  614.115,323.731 736.915,323.731 736.915,293.491 614.115,293.491 614.115,323.731 \n",
       "  \"/>\n",
       "<polyline clip-path=\"url(#clip5800)\" style=\"stroke:#009af9; stroke-width:1; stroke-opacity:1; fill:none\" points=\"\n",
       "  621.915,308.611 668.715,308.611 \n",
       "  \"/>\n",
       "<g clip-path=\"url(#clip5800)\">\n",
       "<text style=\"fill:#000000; fill-opacity:1; font-family:Arial,Helvetica Neue,Helvetica,sans-serif; font-size:12; text-anchor:start;\" transform=\"rotate(0, 676.515, 313.111)\" x=\"676.515\" y=\"313.111\">Volatility</text>\n",
       "</g>\n",
       "</svg>\n"
      ]
     },
     "execution_count": 16,
     "metadata": {},
     "output_type": "execute_result"
    }
   ],
   "source": [
    "#\n",
    "using Plots; gr()\n",
    "\n",
    "s = state[:x] .* result[:pA] + (1 .- state[:x]) .* result[:pB] .- \n",
    "    (δ / (δ + δ1) * result[:ϕ1] .+ δ / (δ + δ2) * result[:ϕ2])\n",
    "\n",
    "vola = vcat(s[2] - s[1], s[2:end] - s[1:end-1]) ./ (state[:x].step.hi) ./ s .* result[:σx] .+ m.σ\n",
    "\n",
    "p1 = plot(state[:x], result[:κ] .* vola, \n",
    "    label = \"Equity Premium\", xlab = \"X\", xlim = (0.0, 0.31))\n",
    "\n",
    "#p1 = plot(state[:x], 1 ./ result[:pA], label = \"gA\", xlab = \"X\", xlim = (0.01, 0.3))\n",
    "#plot!(p1, state[:x], 1 ./ result[:pB], label = \"gB\")\n",
    "\n",
    "#p2 = plot(state[:x], result[:ϕ1] .+ result[:ϕ2], label = \"Phi\", xlab = \"X\", xlim = (0.01, 0.3))\n",
    "\n",
    "p2 = plot(state[:x], result[:κ], label = \"Market Price of Risk\", xlab = \"X\", xlim = (0.0, 0.31))\n",
    "p3 = plot(state[:x], result[:r], label = \"Interest Rate\", xlab = \"X\", xlim = (0.0, 0.31), ylim = (0, 0.08))\n",
    "\n",
    "p4 = plot(state[:x], vola, label = \"Volatility\", xlab = \"X\", xlim = (0.0, 0.31))\n",
    "\n",
    "#p4 = plot(state[:x], result[:μx], label = \"Drift\", xlab = \"X\", xlim = (0.01, 0.3))\n",
    "#p4 = plot!(p5, state[:x], result[:σx], label = \"Volatility\", xlab = \"X\")\n",
    "\n",
    "plot(p1, p2, p3, p4, size = (780, 500))"
   ]
  },
  {
   "cell_type": "code",
   "execution_count": 14,
   "metadata": {},
   "outputs": [],
   "source": [
    "using JLD\n",
    "save(pwd() * \"\\\\save.jld\", \"gA\", 1 ./ result[:pA], \"gB\", 1 ./ result[:pB], \"ϕ1\", result[:ϕ1], \"ϕ2\", result[:ϕ2], \"μx\", result[:μx])"
   ]
  },
  {
   "cell_type": "code",
   "execution_count": 111,
   "metadata": {},
   "outputs": [
    {
     "data": {
      "image/svg+xml": [
       "<?xml version=\"1.0\" encoding=\"utf-8\"?>\n",
       "<svg xmlns=\"http://www.w3.org/2000/svg\" xmlns:xlink=\"http://www.w3.org/1999/xlink\" width=\"600\" height=\"400\" viewBox=\"0 0 600 400\">\n",
       "<defs>\n",
       "  <clipPath id=\"clip5700\">\n",
       "    <rect x=\"0\" y=\"0\" width=\"600\" height=\"400\"/>\n",
       "  </clipPath>\n",
       "</defs>\n",
       "<polygon clip-path=\"url(#clip5700)\" points=\"\n",
       "0,400 600,400 600,0 0,0 \n",
       "  \" fill=\"#ffffff\" fill-opacity=\"1\"/>\n",
       "<defs>\n",
       "  <clipPath id=\"clip5701\">\n",
       "    <rect x=\"120\" y=\"0\" width=\"421\" height=\"400\"/>\n",
       "  </clipPath>\n",
       "</defs>\n",
       "<polygon clip-path=\"url(#clip5700)\" points=\"\n",
       "46.1926,376.191 580.315,376.191 580.315,11.811 46.1926,11.811 \n",
       "  \" fill=\"#ffffff\" fill-opacity=\"1\"/>\n",
       "<defs>\n",
       "  <clipPath id=\"clip5702\">\n",
       "    <rect x=\"46\" y=\"11\" width=\"535\" height=\"365\"/>\n",
       "  </clipPath>\n",
       "</defs>\n",
       "<polyline clip-path=\"url(#clip5702)\" style=\"stroke:#000000; stroke-width:0.5; stroke-opacity:0.1; fill:none\" points=\"\n",
       "  46.1926,376.191 46.1926,11.811 \n",
       "  \"/>\n",
       "<polyline clip-path=\"url(#clip5702)\" style=\"stroke:#000000; stroke-width:0.5; stroke-opacity:0.1; fill:none\" points=\"\n",
       "  153.017,376.191 153.017,11.811 \n",
       "  \"/>\n",
       "<polyline clip-path=\"url(#clip5702)\" style=\"stroke:#000000; stroke-width:0.5; stroke-opacity:0.1; fill:none\" points=\"\n",
       "  259.842,376.191 259.842,11.811 \n",
       "  \"/>\n",
       "<polyline clip-path=\"url(#clip5702)\" style=\"stroke:#000000; stroke-width:0.5; stroke-opacity:0.1; fill:none\" points=\"\n",
       "  366.666,376.191 366.666,11.811 \n",
       "  \"/>\n",
       "<polyline clip-path=\"url(#clip5702)\" style=\"stroke:#000000; stroke-width:0.5; stroke-opacity:0.1; fill:none\" points=\"\n",
       "  473.49,376.191 473.49,11.811 \n",
       "  \"/>\n",
       "<polyline clip-path=\"url(#clip5702)\" style=\"stroke:#000000; stroke-width:0.5; stroke-opacity:0.1; fill:none\" points=\"\n",
       "  580.315,376.191 580.315,11.811 \n",
       "  \"/>\n",
       "<polyline clip-path=\"url(#clip5702)\" style=\"stroke:#000000; stroke-width:0.5; stroke-opacity:0.1; fill:none\" points=\"\n",
       "  46.1926,341.98 580.315,341.98 \n",
       "  \"/>\n",
       "<polyline clip-path=\"url(#clip5702)\" style=\"stroke:#000000; stroke-width:0.5; stroke-opacity:0.1; fill:none\" points=\"\n",
       "  46.1926,238.09 580.315,238.09 \n",
       "  \"/>\n",
       "<polyline clip-path=\"url(#clip5702)\" style=\"stroke:#000000; stroke-width:0.5; stroke-opacity:0.1; fill:none\" points=\"\n",
       "  46.1926,134.2 580.315,134.2 \n",
       "  \"/>\n",
       "<polyline clip-path=\"url(#clip5702)\" style=\"stroke:#000000; stroke-width:0.5; stroke-opacity:0.1; fill:none\" points=\"\n",
       "  46.1926,30.3104 580.315,30.3104 \n",
       "  \"/>\n",
       "<polyline clip-path=\"url(#clip5700)\" style=\"stroke:#000000; stroke-width:1; stroke-opacity:1; fill:none\" points=\"\n",
       "  46.1926,376.191 580.315,376.191 \n",
       "  \"/>\n",
       "<polyline clip-path=\"url(#clip5700)\" style=\"stroke:#000000; stroke-width:1; stroke-opacity:1; fill:none\" points=\"\n",
       "  46.1926,376.191 46.1926,11.811 \n",
       "  \"/>\n",
       "<polyline clip-path=\"url(#clip5700)\" style=\"stroke:#000000; stroke-width:1; stroke-opacity:1; fill:none\" points=\"\n",
       "  46.1926,376.191 46.1926,370.725 \n",
       "  \"/>\n",
       "<polyline clip-path=\"url(#clip5700)\" style=\"stroke:#000000; stroke-width:1; stroke-opacity:1; fill:none\" points=\"\n",
       "  153.017,376.191 153.017,370.725 \n",
       "  \"/>\n",
       "<polyline clip-path=\"url(#clip5700)\" style=\"stroke:#000000; stroke-width:1; stroke-opacity:1; fill:none\" points=\"\n",
       "  259.842,376.191 259.842,370.725 \n",
       "  \"/>\n",
       "<polyline clip-path=\"url(#clip5700)\" style=\"stroke:#000000; stroke-width:1; stroke-opacity:1; fill:none\" points=\"\n",
       "  366.666,376.191 366.666,370.725 \n",
       "  \"/>\n",
       "<polyline clip-path=\"url(#clip5700)\" style=\"stroke:#000000; stroke-width:1; stroke-opacity:1; fill:none\" points=\"\n",
       "  473.49,376.191 473.49,370.725 \n",
       "  \"/>\n",
       "<polyline clip-path=\"url(#clip5700)\" style=\"stroke:#000000; stroke-width:1; stroke-opacity:1; fill:none\" points=\"\n",
       "  580.315,376.191 580.315,370.725 \n",
       "  \"/>\n",
       "<polyline clip-path=\"url(#clip5700)\" style=\"stroke:#000000; stroke-width:1; stroke-opacity:1; fill:none\" points=\"\n",
       "  46.1926,341.98 54.2044,341.98 \n",
       "  \"/>\n",
       "<polyline clip-path=\"url(#clip5700)\" style=\"stroke:#000000; stroke-width:1; stroke-opacity:1; fill:none\" points=\"\n",
       "  46.1926,238.09 54.2044,238.09 \n",
       "  \"/>\n",
       "<polyline clip-path=\"url(#clip5700)\" style=\"stroke:#000000; stroke-width:1; stroke-opacity:1; fill:none\" points=\"\n",
       "  46.1926,134.2 54.2044,134.2 \n",
       "  \"/>\n",
       "<polyline clip-path=\"url(#clip5700)\" style=\"stroke:#000000; stroke-width:1; stroke-opacity:1; fill:none\" points=\"\n",
       "  46.1926,30.3104 54.2044,30.3104 \n",
       "  \"/>\n",
       "<g clip-path=\"url(#clip5700)\">\n",
       "<text style=\"fill:#000000; fill-opacity:1; font-family:Arial,Helvetica Neue,Helvetica,sans-serif; font-size:12; text-anchor:middle;\" transform=\"rotate(0, 46.1926, 389.991)\" x=\"46.1926\" y=\"389.991\">0.0</text>\n",
       "</g>\n",
       "<g clip-path=\"url(#clip5700)\">\n",
       "<text style=\"fill:#000000; fill-opacity:1; font-family:Arial,Helvetica Neue,Helvetica,sans-serif; font-size:12; text-anchor:middle;\" transform=\"rotate(0, 153.017, 389.991)\" x=\"153.017\" y=\"389.991\">0.2</text>\n",
       "</g>\n",
       "<g clip-path=\"url(#clip5700)\">\n",
       "<text style=\"fill:#000000; fill-opacity:1; font-family:Arial,Helvetica Neue,Helvetica,sans-serif; font-size:12; text-anchor:middle;\" transform=\"rotate(0, 259.842, 389.991)\" x=\"259.842\" y=\"389.991\">0.4</text>\n",
       "</g>\n",
       "<g clip-path=\"url(#clip5700)\">\n",
       "<text style=\"fill:#000000; fill-opacity:1; font-family:Arial,Helvetica Neue,Helvetica,sans-serif; font-size:12; text-anchor:middle;\" transform=\"rotate(0, 366.666, 389.991)\" x=\"366.666\" y=\"389.991\">0.6</text>\n",
       "</g>\n",
       "<g clip-path=\"url(#clip5700)\">\n",
       "<text style=\"fill:#000000; fill-opacity:1; font-family:Arial,Helvetica Neue,Helvetica,sans-serif; font-size:12; text-anchor:middle;\" transform=\"rotate(0, 473.49, 389.991)\" x=\"473.49\" y=\"389.991\">0.8</text>\n",
       "</g>\n",
       "<g clip-path=\"url(#clip5700)\">\n",
       "<text style=\"fill:#000000; fill-opacity:1; font-family:Arial,Helvetica Neue,Helvetica,sans-serif; font-size:12; text-anchor:middle;\" transform=\"rotate(0, 580.315, 389.991)\" x=\"580.315\" y=\"389.991\">1.0</text>\n",
       "</g>\n",
       "<g clip-path=\"url(#clip5700)\">\n",
       "<text style=\"fill:#000000; fill-opacity:1; font-family:Arial,Helvetica Neue,Helvetica,sans-serif; font-size:12; text-anchor:end;\" transform=\"rotate(0, 40.1926, 346.48)\" x=\"40.1926\" y=\"346.48\">-0.03</text>\n",
       "</g>\n",
       "<g clip-path=\"url(#clip5700)\">\n",
       "<text style=\"fill:#000000; fill-opacity:1; font-family:Arial,Helvetica Neue,Helvetica,sans-serif; font-size:12; text-anchor:end;\" transform=\"rotate(0, 40.1926, 242.59)\" x=\"40.1926\" y=\"242.59\">-0.02</text>\n",
       "</g>\n",
       "<g clip-path=\"url(#clip5700)\">\n",
       "<text style=\"fill:#000000; fill-opacity:1; font-family:Arial,Helvetica Neue,Helvetica,sans-serif; font-size:12; text-anchor:end;\" transform=\"rotate(0, 40.1926, 138.7)\" x=\"40.1926\" y=\"138.7\">-0.01</text>\n",
       "</g>\n",
       "<g clip-path=\"url(#clip5700)\">\n",
       "<text style=\"fill:#000000; fill-opacity:1; font-family:Arial,Helvetica Neue,Helvetica,sans-serif; font-size:12; text-anchor:end;\" transform=\"rotate(0, 40.1926, 34.8104)\" x=\"40.1926\" y=\"34.8104\">0.00</text>\n",
       "</g>\n",
       "<polyline clip-path=\"url(#clip5702)\" style=\"stroke:#009af9; stroke-width:1; stroke-opacity:1; fill:none\" points=\"\n",
       "  46.1926,29.4231 48.8766,21.9034 51.5607,17.5551 54.2447,14.8206 56.9287,13.1421 59.6128,12.206 62.2968,11.811 64.9808,11.8196 67.6649,12.1342 70.3489,12.6839 \n",
       "  73.0329,13.4163 75.717,14.2921 78.401,15.2818 81.085,16.3626 83.769,17.5173 86.4531,18.7324 89.1371,19.9976 91.8211,21.3049 94.5052,22.6481 97.1892,24.0223 \n",
       "  99.8732,25.4238 102.557,26.8498 105.241,28.2981 107.925,29.7671 110.609,31.1348 113.293,32.6349 115.977,34.1518 118.661,35.6847 121.345,37.2331 124.03,38.7962 \n",
       "  126.714,40.3736 129.398,41.965 132.082,43.57 134.766,45.1882 137.45,46.8194 140.134,48.4634 142.818,50.1199 145.502,51.7886 148.186,53.4693 150.87,55.1618 \n",
       "  153.554,56.8659 156.238,58.5814 158.922,60.308 161.606,62.0456 164.29,63.7938 166.974,65.5524 169.658,67.3213 172.342,69.1002 175.026,70.8889 177.71,72.6871 \n",
       "  180.394,74.4946 183.078,76.3111 185.762,78.1365 188.446,79.9705 191.13,81.8129 193.814,83.6634 196.498,85.5218 199.182,87.3879 201.866,89.2615 204.55,91.1423 \n",
       "  207.235,93.0301 209.919,94.9247 212.603,96.826 215.287,98.7336 217.971,100.647 220.655,102.567 223.339,104.493 226.023,106.424 228.707,108.361 231.391,110.303 \n",
       "  234.075,112.25 236.759,114.202 239.443,116.158 242.127,118.119 244.811,120.085 247.495,122.055 250.179,124.029 252.863,126.006 255.547,127.988 258.231,129.973 \n",
       "  260.915,131.962 263.599,133.954 266.283,135.95 268.967,137.949 271.651,139.95 274.335,141.955 277.019,143.962 279.703,145.972 282.387,147.985 285.071,150 \n",
       "  287.755,152.018 290.44,154.038 293.124,156.06 295.808,158.084 298.492,160.11 301.176,162.139 303.86,164.169 306.544,166.201 309.228,168.234 311.912,170.27 \n",
       "  314.596,172.307 317.28,174.345 319.964,176.385 322.648,178.426 325.332,180.469 328.016,182.512 330.7,184.557 333.384,186.604 336.068,188.651 338.752,190.699 \n",
       "  341.436,192.749 344.12,194.799 346.804,196.85 349.488,198.903 352.172,200.955 354.856,203.009 357.54,205.064 360.224,207.119 362.908,209.175 365.592,211.231 \n",
       "  368.276,213.289 370.96,215.346 373.644,217.405 376.329,219.463 379.013,221.523 381.697,223.582 384.381,225.643 387.065,227.703 389.749,229.764 392.433,231.826 \n",
       "  395.117,233.887 397.801,235.949 400.485,238.011 403.169,240.074 405.853,242.137 408.537,244.2 411.221,246.263 413.905,248.326 416.589,250.39 419.273,252.453 \n",
       "  421.957,254.517 424.641,256.581 427.325,258.645 430.009,260.71 432.693,262.774 435.377,264.838 438.061,266.903 440.745,268.967 443.429,271.032 446.113,273.096 \n",
       "  448.797,275.161 451.481,277.225 454.165,279.29 456.849,281.354 459.534,283.419 462.218,285.483 464.902,287.547 467.586,289.612 470.27,291.676 472.954,293.74 \n",
       "  475.638,295.804 478.322,297.868 481.006,299.932 483.69,301.996 486.374,304.06 489.058,306.123 491.742,308.187 494.426,310.25 497.11,312.313 499.794,314.376 \n",
       "  502.478,316.439 505.162,318.502 507.846,320.565 510.53,322.628 513.214,324.69 515.898,326.752 518.582,328.814 521.266,330.876 523.95,332.938 526.634,334.999 \n",
       "  529.318,337.061 532.002,339.122 534.686,341.183 537.37,343.244 540.054,345.305 542.739,347.365 545.423,349.425 548.107,351.485 550.791,353.545 553.475,355.605 \n",
       "  556.159,357.665 558.843,359.724 561.527,361.783 564.211,363.842 566.895,365.901 569.579,367.959 572.263,370.017 574.947,372.076 577.631,374.133 580.315,376.191 \n",
       "  \n",
       "  \"/>\n",
       "<polygon clip-path=\"url(#clip5700)\" points=\"\n",
       "489.608,62.931 562.315,62.931 562.315,32.691 489.608,32.691 \n",
       "  \" fill=\"#ffffff\" fill-opacity=\"1\"/>\n",
       "<polyline clip-path=\"url(#clip5700)\" style=\"stroke:#000000; stroke-width:1; stroke-opacity:1; fill:none\" points=\"\n",
       "  489.608,62.931 562.315,62.931 562.315,32.691 489.608,32.691 489.608,62.931 \n",
       "  \"/>\n",
       "<polyline clip-path=\"url(#clip5700)\" style=\"stroke:#009af9; stroke-width:1; stroke-opacity:1; fill:none\" points=\"\n",
       "  495.608,47.811 531.608,47.811 \n",
       "  \"/>\n",
       "<g clip-path=\"url(#clip5700)\">\n",
       "<text style=\"fill:#000000; fill-opacity:1; font-family:Arial,Helvetica Neue,Helvetica,sans-serif; font-size:12; text-anchor:start;\" transform=\"rotate(0, 537.608, 52.311)\" x=\"537.608\" y=\"52.311\">y1</text>\n",
       "</g>\n",
       "</svg>\n"
      ]
     },
     "execution_count": 111,
     "metadata": {},
     "output_type": "execute_result"
    }
   ],
   "source": [
    "plot(state[:x], result[:μx])"
   ]
  },
  {
   "cell_type": "code",
   "execution_count": 128,
   "metadata": {},
   "outputs": [
    {
     "data": {
      "image/svg+xml": [
       "<?xml version=\"1.0\" encoding=\"utf-8\"?>\n",
       "<svg xmlns=\"http://www.w3.org/2000/svg\" xmlns:xlink=\"http://www.w3.org/1999/xlink\" width=\"600\" height=\"400\" viewBox=\"0 0 600 400\">\n",
       "<defs>\n",
       "  <clipPath id=\"clip6100\">\n",
       "    <rect x=\"0\" y=\"0\" width=\"600\" height=\"400\"/>\n",
       "  </clipPath>\n",
       "</defs>\n",
       "<polygon clip-path=\"url(#clip6100)\" points=\"\n",
       "0,400 600,400 600,0 0,0 \n",
       "  \" fill=\"#ffffff\" fill-opacity=\"1\"/>\n",
       "<defs>\n",
       "  <clipPath id=\"clip6101\">\n",
       "    <rect x=\"120\" y=\"0\" width=\"421\" height=\"400\"/>\n",
       "  </clipPath>\n",
       "</defs>\n",
       "<polygon clip-path=\"url(#clip6100)\" points=\"\n",
       "39.1651,375.869 580.315,375.869 580.315,11.811 39.1651,11.811 \n",
       "  \" fill=\"#ffffff\" fill-opacity=\"1\"/>\n",
       "<defs>\n",
       "  <clipPath id=\"clip6102\">\n",
       "    <rect x=\"39\" y=\"11\" width=\"542\" height=\"365\"/>\n",
       "  </clipPath>\n",
       "</defs>\n",
       "<polyline clip-path=\"url(#clip6102)\" style=\"stroke:#000000; stroke-width:0.5; stroke-opacity:0.1; fill:none\" points=\"\n",
       "  39.1651,375.869 39.1651,11.811 \n",
       "  \"/>\n",
       "<polyline clip-path=\"url(#clip6102)\" style=\"stroke:#000000; stroke-width:0.5; stroke-opacity:0.1; fill:none\" points=\"\n",
       "  147.395,375.869 147.395,11.811 \n",
       "  \"/>\n",
       "<polyline clip-path=\"url(#clip6102)\" style=\"stroke:#000000; stroke-width:0.5; stroke-opacity:0.1; fill:none\" points=\"\n",
       "  255.625,375.869 255.625,11.811 \n",
       "  \"/>\n",
       "<polyline clip-path=\"url(#clip6102)\" style=\"stroke:#000000; stroke-width:0.5; stroke-opacity:0.1; fill:none\" points=\"\n",
       "  363.855,375.869 363.855,11.811 \n",
       "  \"/>\n",
       "<polyline clip-path=\"url(#clip6102)\" style=\"stroke:#000000; stroke-width:0.5; stroke-opacity:0.1; fill:none\" points=\"\n",
       "  472.085,375.869 472.085,11.811 \n",
       "  \"/>\n",
       "<polyline clip-path=\"url(#clip6102)\" style=\"stroke:#000000; stroke-width:0.5; stroke-opacity:0.1; fill:none\" points=\"\n",
       "  580.315,375.869 580.315,11.811 \n",
       "  \"/>\n",
       "<polyline clip-path=\"url(#clip6102)\" style=\"stroke:#000000; stroke-width:0.5; stroke-opacity:0.1; fill:none\" points=\"\n",
       "  39.1651,375.869 580.315,375.869 \n",
       "  \"/>\n",
       "<polyline clip-path=\"url(#clip6102)\" style=\"stroke:#000000; stroke-width:0.5; stroke-opacity:0.1; fill:none\" points=\"\n",
       "  39.1651,273.261 580.315,273.261 \n",
       "  \"/>\n",
       "<polyline clip-path=\"url(#clip6102)\" style=\"stroke:#000000; stroke-width:0.5; stroke-opacity:0.1; fill:none\" points=\"\n",
       "  39.1651,170.654 580.315,170.654 \n",
       "  \"/>\n",
       "<polyline clip-path=\"url(#clip6102)\" style=\"stroke:#000000; stroke-width:0.5; stroke-opacity:0.1; fill:none\" points=\"\n",
       "  39.1651,68.0464 580.315,68.0464 \n",
       "  \"/>\n",
       "<polyline clip-path=\"url(#clip6100)\" style=\"stroke:#000000; stroke-width:1; stroke-opacity:1; fill:none\" points=\"\n",
       "  39.1651,375.869 580.315,375.869 \n",
       "  \"/>\n",
       "<polyline clip-path=\"url(#clip6100)\" style=\"stroke:#000000; stroke-width:1; stroke-opacity:1; fill:none\" points=\"\n",
       "  39.1651,375.869 39.1651,11.811 \n",
       "  \"/>\n",
       "<polyline clip-path=\"url(#clip6100)\" style=\"stroke:#000000; stroke-width:1; stroke-opacity:1; fill:none\" points=\"\n",
       "  39.1651,375.869 39.1651,370.408 \n",
       "  \"/>\n",
       "<polyline clip-path=\"url(#clip6100)\" style=\"stroke:#000000; stroke-width:1; stroke-opacity:1; fill:none\" points=\"\n",
       "  147.395,375.869 147.395,370.408 \n",
       "  \"/>\n",
       "<polyline clip-path=\"url(#clip6100)\" style=\"stroke:#000000; stroke-width:1; stroke-opacity:1; fill:none\" points=\"\n",
       "  255.625,375.869 255.625,370.408 \n",
       "  \"/>\n",
       "<polyline clip-path=\"url(#clip6100)\" style=\"stroke:#000000; stroke-width:1; stroke-opacity:1; fill:none\" points=\"\n",
       "  363.855,375.869 363.855,370.408 \n",
       "  \"/>\n",
       "<polyline clip-path=\"url(#clip6100)\" style=\"stroke:#000000; stroke-width:1; stroke-opacity:1; fill:none\" points=\"\n",
       "  472.085,375.869 472.085,370.408 \n",
       "  \"/>\n",
       "<polyline clip-path=\"url(#clip6100)\" style=\"stroke:#000000; stroke-width:1; stroke-opacity:1; fill:none\" points=\"\n",
       "  580.315,375.869 580.315,370.408 \n",
       "  \"/>\n",
       "<polyline clip-path=\"url(#clip6100)\" style=\"stroke:#000000; stroke-width:1; stroke-opacity:1; fill:none\" points=\"\n",
       "  39.1651,375.869 47.2823,375.869 \n",
       "  \"/>\n",
       "<polyline clip-path=\"url(#clip6100)\" style=\"stroke:#000000; stroke-width:1; stroke-opacity:1; fill:none\" points=\"\n",
       "  39.1651,273.261 47.2823,273.261 \n",
       "  \"/>\n",
       "<polyline clip-path=\"url(#clip6100)\" style=\"stroke:#000000; stroke-width:1; stroke-opacity:1; fill:none\" points=\"\n",
       "  39.1651,170.654 47.2823,170.654 \n",
       "  \"/>\n",
       "<polyline clip-path=\"url(#clip6100)\" style=\"stroke:#000000; stroke-width:1; stroke-opacity:1; fill:none\" points=\"\n",
       "  39.1651,68.0464 47.2823,68.0464 \n",
       "  \"/>\n",
       "<g clip-path=\"url(#clip6100)\">\n",
       "<text style=\"fill:#000000; fill-opacity:1; font-family:Arial,Helvetica Neue,Helvetica,sans-serif; font-size:12; text-anchor:middle;\" transform=\"rotate(0, 39.1651, 389.669)\" x=\"39.1651\" y=\"389.669\">0.0</text>\n",
       "</g>\n",
       "<g clip-path=\"url(#clip6100)\">\n",
       "<text style=\"fill:#000000; fill-opacity:1; font-family:Arial,Helvetica Neue,Helvetica,sans-serif; font-size:12; text-anchor:middle;\" transform=\"rotate(0, 147.395, 389.669)\" x=\"147.395\" y=\"389.669\">0.2</text>\n",
       "</g>\n",
       "<g clip-path=\"url(#clip6100)\">\n",
       "<text style=\"fill:#000000; fill-opacity:1; font-family:Arial,Helvetica Neue,Helvetica,sans-serif; font-size:12; text-anchor:middle;\" transform=\"rotate(0, 255.625, 389.669)\" x=\"255.625\" y=\"389.669\">0.4</text>\n",
       "</g>\n",
       "<g clip-path=\"url(#clip6100)\">\n",
       "<text style=\"fill:#000000; fill-opacity:1; font-family:Arial,Helvetica Neue,Helvetica,sans-serif; font-size:12; text-anchor:middle;\" transform=\"rotate(0, 363.855, 389.669)\" x=\"363.855\" y=\"389.669\">0.6</text>\n",
       "</g>\n",
       "<g clip-path=\"url(#clip6100)\">\n",
       "<text style=\"fill:#000000; fill-opacity:1; font-family:Arial,Helvetica Neue,Helvetica,sans-serif; font-size:12; text-anchor:middle;\" transform=\"rotate(0, 472.085, 389.669)\" x=\"472.085\" y=\"389.669\">0.8</text>\n",
       "</g>\n",
       "<g clip-path=\"url(#clip6100)\">\n",
       "<text style=\"fill:#000000; fill-opacity:1; font-family:Arial,Helvetica Neue,Helvetica,sans-serif; font-size:12; text-anchor:middle;\" transform=\"rotate(0, 580.315, 389.669)\" x=\"580.315\" y=\"389.669\">1.0</text>\n",
       "</g>\n",
       "<g clip-path=\"url(#clip6100)\">\n",
       "<text style=\"fill:#000000; fill-opacity:1; font-family:Arial,Helvetica Neue,Helvetica,sans-serif; font-size:12; text-anchor:end;\" transform=\"rotate(0, 33.1651, 380.369)\" x=\"33.1651\" y=\"380.369\">0.00</text>\n",
       "</g>\n",
       "<g clip-path=\"url(#clip6100)\">\n",
       "<text style=\"fill:#000000; fill-opacity:1; font-family:Arial,Helvetica Neue,Helvetica,sans-serif; font-size:12; text-anchor:end;\" transform=\"rotate(0, 33.1651, 277.761)\" x=\"33.1651\" y=\"277.761\">0.05</text>\n",
       "</g>\n",
       "<g clip-path=\"url(#clip6100)\">\n",
       "<text style=\"fill:#000000; fill-opacity:1; font-family:Arial,Helvetica Neue,Helvetica,sans-serif; font-size:12; text-anchor:end;\" transform=\"rotate(0, 33.1651, 175.154)\" x=\"33.1651\" y=\"175.154\">0.10</text>\n",
       "</g>\n",
       "<g clip-path=\"url(#clip6100)\">\n",
       "<text style=\"fill:#000000; fill-opacity:1; font-family:Arial,Helvetica Neue,Helvetica,sans-serif; font-size:12; text-anchor:end;\" transform=\"rotate(0, 33.1651, 72.5464)\" x=\"33.1651\" y=\"72.5464\">0.15</text>\n",
       "</g>\n",
       "<polyline clip-path=\"url(#clip6102)\" style=\"stroke:#009af9; stroke-width:1; stroke-opacity:1; fill:none\" points=\"\n",
       "  39.1651,375.869 41.8844,375.869 44.6038,375.869 47.3231,375.869 50.0425,375.869 52.7618,375.869 55.4812,375.869 58.2005,375.869 60.9198,375.869 63.6392,375.869 \n",
       "  66.3585,375.869 69.0779,375.869 71.7972,375.869 74.5166,375.869 77.2359,375.869 79.9553,375.869 82.6746,375.869 85.394,375.869 88.1133,375.869 90.8327,375.869 \n",
       "  93.552,375.869 96.2713,375.869 98.9907,375.869 101.71,375.869 104.429,375.869 107.149,348.56 109.868,323.686 112.587,301.006 115.307,280.307 118.026,261.398 \n",
       "  120.745,244.109 123.465,228.291 126.184,213.806 128.904,200.533 131.623,188.362 134.342,177.194 137.062,166.941 139.781,157.521 142.5,148.861 145.22,140.897 \n",
       "  147.939,133.566 150.658,126.816 153.378,120.595 156.097,114.861 158.816,109.57 161.536,104.687 164.255,100.176 166.974,96.0073 169.694,92.1518 172.413,88.5836 \n",
       "  175.132,85.2792 177.852,82.2167 180.571,79.3764 183.29,76.7402 186.01,74.2913 188.729,72.0145 191.448,69.896 194.168,67.9228 196.887,66.0833 199.607,64.3667 \n",
       "  202.326,62.7631 205.045,61.2635 207.765,59.8595 210.484,58.5435 213.203,57.3084 215.923,56.1479 218.642,55.056 221.361,54.0272 224.081,53.0566 226.8,52.1395 \n",
       "  229.519,51.2716 232.239,50.4492 234.958,49.6687 237.677,48.9266 240.397,48.2201 243.116,47.5462 245.835,46.9026 248.555,46.2867 251.274,45.6964 253.993,45.1297 \n",
       "  256.713,44.5849 259.432,44.0601 262.151,43.5538 264.871,43.0646 267.59,42.5912 270.31,42.1324 273.029,41.687 275.748,41.254 278.468,40.8324 281.187,40.4215 \n",
       "  283.906,40.0204 286.626,39.6283 289.345,39.2447 292.064,38.8688 294.784,38.5001 297.503,38.138 300.222,37.7822 302.942,37.4321 305.661,37.0873 308.38,36.7475 \n",
       "  311.1,36.4124 313.819,36.0815 316.538,35.7547 319.258,35.4316 321.977,35.112 324.696,34.7957 327.416,34.4826 330.135,34.1723 332.854,33.8648 335.574,33.5599 \n",
       "  338.293,33.2574 341.013,32.9572 343.732,32.6592 346.451,32.3633 349.171,32.0694 351.89,31.7775 354.609,31.4873 357.329,31.1989 360.048,30.9122 362.767,30.6271 \n",
       "  365.487,30.3436 368.206,30.0616 370.925,29.7811 373.645,29.5021 376.364,29.2245 379.083,28.9482 381.803,28.6733 384.522,28.3997 387.241,28.1274 389.961,27.8564 \n",
       "  392.68,27.5867 395.399,27.3182 398.119,27.0509 400.838,26.7849 403.557,26.5201 406.277,26.2565 408.996,25.9941 411.715,25.7329 414.435,25.4729 417.154,25.214 \n",
       "  419.874,24.9563 422.593,24.6998 425.312,24.4445 428.032,24.1904 430.751,23.9374 433.47,23.6856 436.19,23.4349 438.909,23.1854 441.628,22.9371 444.348,22.6899 \n",
       "  447.067,22.4439 449.786,22.1991 452.506,21.9555 455.225,21.713 457.944,21.4717 460.664,21.2315 463.383,20.9925 466.102,20.7547 468.822,20.518 471.541,20.2826 \n",
       "  474.26,20.0483 476.98,19.8151 479.699,19.5831 482.418,19.3523 485.138,19.1227 487.857,18.8942 490.577,18.667 493.296,18.4408 496.015,18.2159 498.735,17.9921 \n",
       "  501.454,17.7694 504.173,17.548 506.893,17.3277 509.612,17.1085 512.331,16.8906 515.051,16.6738 517.77,16.4581 520.489,16.2436 523.209,16.0302 525.928,15.818 \n",
       "  528.647,15.607 531.367,15.3971 534.086,15.1883 536.805,14.9807 539.525,14.7742 542.244,14.5688 544.963,14.3646 547.683,14.1615 550.402,13.9595 553.121,13.7587 \n",
       "  555.841,13.559 558.56,13.3603 561.28,13.1628 563.999,12.9664 566.718,12.7711 569.438,12.5769 572.157,12.3838 574.876,12.1918 577.596,12.0009 580.315,11.811 \n",
       "  \n",
       "  \"/>\n",
       "<polygon clip-path=\"url(#clip6100)\" points=\"\n",
       "489.608,62.931 562.315,62.931 562.315,32.691 489.608,32.691 \n",
       "  \" fill=\"#ffffff\" fill-opacity=\"1\"/>\n",
       "<polyline clip-path=\"url(#clip6100)\" style=\"stroke:#000000; stroke-width:1; stroke-opacity:1; fill:none\" points=\"\n",
       "  489.608,62.931 562.315,62.931 562.315,32.691 489.608,32.691 489.608,62.931 \n",
       "  \"/>\n",
       "<polyline clip-path=\"url(#clip6100)\" style=\"stroke:#009af9; stroke-width:1; stroke-opacity:1; fill:none\" points=\"\n",
       "  495.608,47.811 531.608,47.811 \n",
       "  \"/>\n",
       "<g clip-path=\"url(#clip6100)\">\n",
       "<text style=\"fill:#000000; fill-opacity:1; font-family:Arial,Helvetica Neue,Helvetica,sans-serif; font-size:12; text-anchor:start;\" transform=\"rotate(0, 537.608, 52.311)\" x=\"537.608\" y=\"52.311\">y1</text>\n",
       "</g>\n",
       "</svg>\n"
      ]
     },
     "execution_count": 128,
     "metadata": {},
     "output_type": "execute_result"
    }
   ],
   "source": [
    "plot(state[:x], vcat(result[:pB][1], result[:pB][1] .+ cumsum(result[:pBx][1:end-1]/199)) .- result[:pB])"
   ]
  },
  {
   "cell_type": "code",
   "execution_count": 130,
   "metadata": {},
   "outputs": [
    {
     "data": {
      "text/plain": [
       "200-element BitArray{1}:\n",
       "  true\n",
       "  true\n",
       "  true\n",
       "  true\n",
       "  true\n",
       "  true\n",
       " false\n",
       "  true\n",
       "  true\n",
       "  true\n",
       "  true\n",
       "  true\n",
       "  true\n",
       "     ⋮\n",
       " false\n",
       " false\n",
       " false\n",
       " false\n",
       " false\n",
       " false\n",
       " false\n",
       " false\n",
       " false\n",
       " false\n",
       " false\n",
       " false"
      ]
     },
     "execution_count": 130,
     "metadata": {},
     "output_type": "execute_result"
    }
   ],
   "source": [
    "(vcat(result[:pB][1], result[:pB][1] .+ cumsum(result[:pBx][1:end-1]/199)) .- result[:pB]) .≈ 0"
   ]
  },
  {
   "cell_type": "code",
   "execution_count": null,
   "metadata": {},
   "outputs": [],
   "source": [
    "gAx = ifelse.(y.wind .>= 0, \n",
    "    vcat(y.gA[2:end] - y.gA[1:end-1], y.gA[end] - y.gA[end-1]), \n",
    "    vcat(y.gA[2] - y.gA[1], y.gA[2:end] - y.gA[1:end-1]))*(N-1)"
   ]
  },
  {
   "cell_type": "code",
   "execution_count": 165,
   "metadata": {},
   "outputs": [
    {
     "ename": "LoadError",
     "evalue": "\u001b[91mtype OrderedDict has no field x\u001b[39m",
     "output_type": "error",
     "traceback": [
      "\u001b[91mtype OrderedDict has no field x\u001b[39m",
      "",
      "Stacktrace:",
      " [1] \u001b[1m(::GarleanuPanageasModel)\u001b[22m\u001b[22m\u001b[1m(\u001b[22m\u001b[22m::DataStructures.OrderedDict{Symbol,StepRangeLen{Float64,Base.TwicePrecision{Float64},Base.TwicePrecision{Float64}}}, ::DataStructures.OrderedDict{Symbol,Array{Float64,1}}\u001b[1m)\u001b[22m\u001b[22m at \u001b[1m.\\In[158]:49\u001b[22m\u001b[22m"
     ]
    }
   ],
   "source": [
    "m(state, y)"
   ]
  },
  {
   "cell_type": "code",
   "execution_count": 186,
   "metadata": {},
   "outputs": [
    {
     "data": {
      "text/html": [
       "1.7160177552375753e-11"
      ],
      "text/plain": [
       "1.7160177552375753e-11"
      ]
     },
     "execution_count": 186,
     "metadata": {},
     "output_type": "execute_result"
    }
   ],
   "source": [
    "γA = m.γA ; ψA = m.ψA ; γB = m.γB ; ψB = m.ψB ; ρ = m.ρ ; δ = m.δ ; νA = m.νA ; μ = m.μ ; σ = m.σ; B1 = m.B1 ; δ1 = m.δ1 ; B2 = m.B2 ; δ2 = m.δ2 ; ω = m.ω\n",
    "x = state[:x]\n",
    "y = result\n",
    "pA = y[:pA] ; pAx = y[:pAx] ; pAxx = y[:pAxx] ; pB = y[:pB] ; pBx = y[:pBx] ; \n",
    "pBxx = y[:pBxx] ; ϕ1 = y[:ϕ1] ; ϕ1x = y[:ϕ1x] ; ϕ1xx = y[:ϕ1xx] ; \n",
    "ϕ2 = y[:ϕ2] ; ϕ2x = y[:ϕ2x] ; ϕ2xx = y[:ϕ2xx]\n",
    "\n",
    "# volatility of X, pA, pB, ϕ1, ϕ2, CA, CB and market price of risk κ\n",
    "Γ = @. 1 / (x / γA + (1 - x) / γB) #check\n",
    "p = @. x * pA + (1 - x) * pB \n",
    "σx = @. σ * x * (Γ / γA - 1) / (1 + Γ * x * (1 - x) / (γA * γB) * ((1 - γB * ψB) / (ψB - 1) * (pBx / pB) - (1 - γA * ψA) / (ψA - 1) * (pAx / pA)))\n",
    "σpA = @. pAx / pA * σx\n",
    "σpB = @. pBx / pB * σx\n",
    "σϕ1 = @. ϕ1x / ϕ1 * σx\n",
    "σϕ2 = @. ϕ2x / ϕ2 * σx\n",
    "κ = @. Γ * (σ - x * (1 - γA * ψA) / (γA * (ψA - 1)) * σpA - (1 - x) * (1 - γB * ψB) / (γB * (ψB - 1)) * σpB)\n",
    "σCA = @. κ / γA + (1 - γA * ψA) / (γA * (ψA - 1)) * σpA\n",
    "σCB = @. κ / γB + (1 - γB * ψB) / (γB * (ψB - 1)) * σpB\n",
    "\n",
    "# drift of X, pA, pB, ϕ1, ϕ2, CA, CB and interest rate r\n",
    "mcA = @. κ^2 * (1 + ψA) / (2 * γA) + (1 - ψA * γA) / (γA * (ψA - 1)) * κ * σpA - (1 - γA * ψA) / (2 * γA * (ψA - 1)) * σpA^2\n",
    "mcB = @. κ^2 * (1 + ψB) / (2 * γB) + (1 - ψB * γB) / (γB * (ψB - 1)) * κ * σpB - (1 - γB * ψB) / (2 * γB * (ψB - 1)) * σpB^2\n",
    "r =  @. ρ + 1 / (ψA * x  + ψB * (1 - x))  * (μ - x * mcA - (1 - x) * mcB - δ * ((νA / pA + (1 - νA) / pB) * (ϕ1 + ϕ2) - 1))\n",
    "μCA = @. ψA * (r - ρ) + mcA\n",
    "μCB = @. ψB * (r - ρ) + mcB\n",
    "μx = @. x * (μCA - δ - μ) + δ * νA / pA * (ϕ1 + ϕ2) - σ * σx\n",
    "μpA = @. pAx / pA * μx + 0.5 * pAxx / pA * σx^2\n",
    "μpB = @. pBx / pB * μx + 0.5 * pBxx / pB * σx^2\n",
    "μϕ1 = @. ϕ1x / ϕ1 * μx + 0.5 * ϕ1xx / ϕ1 * σx^2\n",
    "μϕ2 = @. ϕ2x / ϕ2 * μx + 0.5 * ϕ2xx / ϕ2 * σx^2\n",
    "\n",
    "# PDE\n",
    "pAt = @. pA * (1 / pA + (μCA - δ) + μpA + σCA * σpA - r - κ * (σpA + σCA))\n",
    "pBt = @. pB * (1 / pB + (μCB - δ) + μpB + σCB * σpB - r - κ * (σpB + σCB))\n",
    "ϕ1t = @. ϕ1 * (B1 * ω / ϕ1 + (μ - δ - δ1) + μϕ1 + σ * σϕ1 - r - κ * (σϕ1 + σ))\n",
    "ϕ2t = @. ϕ2 * (B2 * ω / ϕ2 + (μ - δ - δ2) + μϕ2 + σ * σϕ2 - r - κ * (σϕ2 + σ))\n",
    "\n",
    "maximum(vcat(pAt, pBt, ϕ1t, ϕ2t))"
   ]
  },
  {
   "cell_type": "code",
   "execution_count": 178,
   "metadata": {},
   "outputs": [
    {
     "data": {
      "text/plain": [
       "200-element Array{Float64,1}:\n",
       " 0.0940947\n",
       " 0.0602694\n",
       " 0.0520736\n",
       " 0.0478333\n",
       " 0.0450889\n",
       " 0.0431116\n",
       " 0.0415944\n",
       " 0.0403809\n",
       " 0.0393812\n",
       " 0.0385392\n",
       " 0.0378177\n",
       " 0.0371909\n",
       " 0.0366399\n",
       " ⋮        \n",
       " 0.0264036\n",
       " 0.0263906\n",
       " 0.0263778\n",
       " 0.026365 \n",
       " 0.0263523\n",
       " 0.0263397\n",
       " 0.0263272\n",
       " 0.0263148\n",
       " 0.0263024\n",
       " 0.0262902\n",
       " 0.026278 \n",
       " 0.0262659"
      ]
     },
     "execution_count": 178,
     "metadata": {},
     "output_type": "execute_result"
    }
   ],
   "source": [
    "1./pA"
   ]
  },
  {
   "cell_type": "code",
   "execution_count": 181,
   "metadata": {},
   "outputs": [
    {
     "data": {
      "text/plain": [
       "diff! (generic function with 1 method)"
      ]
     },
     "execution_count": 181,
     "metadata": {},
     "output_type": "execute_result"
    }
   ],
   "source": [
    "function diff!(f, fx, fxx, wind, N)\n",
    "    for i in 1:N\n",
    "        #fx via upwinding\n",
    "        if wind[i] >= 0\n",
    "            fx[i] = (f[min(i + 1, N)] - f[i]) * (N - 1)\n",
    "        else\n",
    "            fx[i] = (f[i] - f[max(i - 1, 1)]) * (N - 1)\n",
    "        end\n",
    "        \n",
    "        #fxx not via upwinding\n",
    "        fxx[i] = (f[min(i + 1, N)] * (N - 1)^2 + f[max(i - 1, 1)] * (N - 1)^2 - 2 * f[i] * (N - 1)^2)\n",
    "    end\n",
    "end"
   ]
  },
  {
   "cell_type": "code",
   "execution_count": 191,
   "metadata": {},
   "outputs": [
    {
     "data": {
      "text/plain": [
       "200-element Array{Float64,1}:\n",
       "      2.37205e6\n",
       "     -1.00787e6\n",
       "     -3.59126e5\n",
       "     -2.05991e5\n",
       "     -1.40267e5\n",
       "     -1.0398e5 \n",
       " -80997.9      \n",
       " -65147.3      \n",
       " -53570.0      \n",
       " -44762.2      \n",
       " -37856.8      \n",
       " -32317.6      \n",
       " -27794.6      \n",
       "      ⋮        \n",
       "    -49.2301   \n",
       "    -48.9398   \n",
       "    -48.6496   \n",
       "    -48.3595   \n",
       "    -48.0695   \n",
       "    -47.7798   \n",
       "    -47.4904   \n",
       "    -47.2015   \n",
       "    -46.913    \n",
       "    -46.6251   \n",
       "    -46.3377   \n",
       "  -9261.47     "
      ]
     },
     "execution_count": 191,
     "metadata": {},
     "output_type": "execute_result"
    }
   ],
   "source": [
    "ϕ1xx"
   ]
  },
  {
   "cell_type": "code",
   "execution_count": 185,
   "metadata": {},
   "outputs": [
    {
     "data": {
      "text/plain": [
       "200-element Array{Float64,1}:\n",
       " 1186.95   \n",
       "  519.678  \n",
       "  338.767  \n",
       "  253.222  \n",
       "  202.424  \n",
       "  168.37   \n",
       "  143.775  \n",
       "  125.099  \n",
       "  110.398  \n",
       "   98.5107 \n",
       "   88.6956 \n",
       "   80.4549 \n",
       "   73.4411 \n",
       "    ⋮      \n",
       "    3.72005\n",
       "    3.698  \n",
       "    3.67617\n",
       "    3.65456\n",
       "    3.63316\n",
       "    3.61198\n",
       "    3.591  \n",
       "    3.57023\n",
       "    3.54966\n",
       "    3.52928\n",
       "    3.50911\n",
       "    3.48913"
      ]
     },
     "execution_count": 185,
     "metadata": {},
     "output_type": "execute_result"
    }
   ],
   "source": [
    "pAx = zeros(pA)\n",
    "pAxx = zeros(pA)\n",
    "diff!(pA, pAx, pAxx, μx, 200)\n",
    "pAx"
   ]
  },
  {
   "cell_type": "code",
   "execution_count": 188,
   "metadata": {},
   "outputs": [
    {
     "data": {
      "text/plain": [
       "200-element Array{Float64,1}:\n",
       " -10.509     \n",
       "  -1.88768   \n",
       "  -0.91862   \n",
       "  -0.579378  \n",
       "  -0.411529  \n",
       "  -0.312933  \n",
       "  -0.248744  \n",
       "  -0.203988  \n",
       "  -0.171214  \n",
       "  -0.146315  \n",
       "  -0.126851  \n",
       "  -0.111282  \n",
       "  -0.0985936 \n",
       "   ⋮         \n",
       "  -0.00259343\n",
       "  -0.00257553\n",
       "  -0.00255783\n",
       "  -0.00254033\n",
       "  -0.00252303\n",
       "  -0.00250592\n",
       "  -0.002489  \n",
       "  -0.00247226\n",
       "  -0.00245571\n",
       "  -0.00243934\n",
       "  -0.00242315\n",
       "  -0.00240714"
      ]
     },
     "execution_count": 188,
     "metadata": {},
     "output_type": "execute_result"
    }
   ],
   "source": [
    "- pAx .* (1./pA).^2"
   ]
  },
  {
   "cell_type": "code",
   "execution_count": 193,
   "metadata": {},
   "outputs": [
    {
     "data": {
      "text/plain": [
       "200-element Array{Float64,1}:\n",
       " 4185.71      \n",
       " 1578.56      \n",
       "  407.099     \n",
       "  176.142     \n",
       "   94.9934    \n",
       "   58.0354    \n",
       "   38.4478    \n",
       "   26.9674    \n",
       "   19.7356    \n",
       "   14.9256    \n",
       "   11.5872    \n",
       "    9.18952   \n",
       "    7.4183    \n",
       "    ⋮         \n",
       "    0.00539357\n",
       "    0.00535055\n",
       "    0.00530791\n",
       "    0.00526562\n",
       "    0.0052237 \n",
       "    0.00518214\n",
       "    0.00514094\n",
       "    0.00510009\n",
       "    0.0050596 \n",
       "    0.00501946\n",
       "    0.00497968\n",
       "    0.896357  "
      ]
     },
     "execution_count": 193,
     "metadata": {},
     "output_type": "execute_result"
    }
   ],
   "source": [
    "#- pAx .* (1./pA).^2\n",
    "2 * (- pBx .* (1./pB).^2).^2 .* pB  - pBxx .* (1./pB).^2"
   ]
  },
  {
   "cell_type": "code",
   "execution_count": 262,
   "metadata": {},
   "outputs": [
    {
     "data": {
      "text/html": [
       "30.57652344371571"
      ],
      "text/plain": [
       "30.57652344371571"
      ]
     },
     "execution_count": 262,
     "metadata": {},
     "output_type": "execute_result"
    }
   ],
   "source": [
    "B1"
   ]
  },
  {
   "cell_type": "code",
   "execution_count": 13,
   "metadata": {},
   "outputs": [
    {
     "data": {
      "text/plain": [
       "0.0:0.005025125628140704:1.0"
      ]
     },
     "execution_count": 13,
     "metadata": {},
     "output_type": "execute_result"
    }
   ],
   "source": [
    "mutable struct State\n",
    "    x\n",
    "end\n",
    "\n"
   ]
  },
  {
   "cell_type": "code",
   "execution_count": 8,
   "metadata": {},
   "outputs": [
    {
     "ename": "LoadError",
     "evalue": "\u001b[91mtype OrderedDict has no field x\u001b[39m",
     "output_type": "error",
     "traceback": [
      "\u001b[91mtype OrderedDict has no field x\u001b[39m",
      "",
      "Stacktrace:",
      " [1] \u001b[1m(::GarleanuPanageasModel)\u001b[22m\u001b[22m\u001b[1m(\u001b[22m\u001b[22m::DataStructures.OrderedDict{Symbol,StepRangeLen{Float64,Base.TwicePrecision{Float64},Base.TwicePrecision{Float64}}}, ::DataStructures.OrderedDict{Symbol,Array{Float64,1}}\u001b[1m)\u001b[22m\u001b[22m at \u001b[1m.\\In[2]:50\u001b[22m\u001b[22m"
     ]
    }
   ],
   "source": [
    "state = initialize_state(m)\n",
    "y0 = initialize_y(m, state)\n",
    "m(State(initialize_state(m)[:x]), y0)"
   ]
  },
  {
   "cell_type": "code",
   "execution_count": 15,
   "metadata": {
    "scrolled": true
   },
   "outputs": [
    {
     "name": "stdout",
     "output_type": "stream",
     "text": [
      "search: \u001b[1mf\u001b[22m\u001b[1mi\u001b[22m\u001b[1mn\u001b[22m\u001b[1mi\u001b[22m\u001b[1mt\u001b[22m\u001b[1me\u001b[22m\u001b[1ms\u001b[22m\u001b[1mc\u001b[22m\u001b[1mh\u001b[22m\u001b[1me\u001b[22m\u001b[1mm\u001b[22m\u001b[1me\u001b[22m\u001b[1ms\u001b[22m\u001b[1mo\u001b[22m\u001b[1ml\u001b[22m\u001b[1mv\u001b[22m\u001b[1me\u001b[22m\n",
      "\n"
     ]
    },
    {
     "data": {
      "text/markdown": [
       "No documentation found.\n",
       "\n",
       "`EconPDEs.finiteschemesolve` is a `Function`.\n",
       "\n",
       "```\n",
       "# 1 method for generic function \"finiteschemesolve\":\n",
       "finiteschemesolve(F!, y0; Δ, is_algebraic, iterations, inner_iterations, verbose, inner_verbose, method, autodiff, maxdist, scale) in EconPDEs at C:\\Users\\Max\\AppData\\Local\\JuliaPro-0.6.2.1\\pkgs-0.6.2.1\\v0.6\\EconPDEs\\src\\finiteschemesolve.jl:35\n",
       "```\n"
      ],
      "text/plain": [
       "No documentation found.\n",
       "\n",
       "`EconPDEs.finiteschemesolve` is a `Function`.\n",
       "\n",
       "```\n",
       "# 1 method for generic function \"finiteschemesolve\":\n",
       "finiteschemesolve(F!, y0; Δ, is_algebraic, iterations, inner_iterations, verbose, inner_verbose, method, autodiff, maxdist, scale) in EconPDEs at C:\\Users\\Max\\AppData\\Local\\JuliaPro-0.6.2.1\\pkgs-0.6.2.1\\v0.6\\EconPDEs\\src\\finiteschemesolve.jl:35\n",
       "```\n"
      ]
     },
     "execution_count": 15,
     "metadata": {},
     "output_type": "execute_result"
    }
   ],
   "source": [
    "?finiteschemesolve"
   ]
  },
  {
   "cell_type": "code",
   "execution_count": 25,
   "metadata": {},
   "outputs": [],
   "source": [
    "using NamedTuples, Combinatorics"
   ]
  },
  {
   "cell_type": "code",
   "execution_count": 27,
   "metadata": {},
   "outputs": [
    {
     "data": {
      "text/plain": [
       "all_symbol (generic function with 1 method)"
      ]
     },
     "execution_count": 27,
     "metadata": {},
     "output_type": "execute_result"
    }
   ],
   "source": [
    "function all_symbol(sols, states)\n",
    "    all_derivatives = vcat((map(x -> Symbol(x...), with_replacement_combinations(states, k)) for k in 0:2)...)\n",
    "    out = vec([Symbol(a, s) for s in all_derivatives, a in sols])\n",
    "    if length(out) != length(unique(out))\n",
    "        throw(\"Naming for spaces and solutions lead to ambiguous derivative names. Use different letters for spaces and for solutions\")\n",
    "    end\n",
    "    return out\n",
    "end"
   ]
  },
  {
   "cell_type": "code",
   "execution_count": 28,
   "metadata": {},
   "outputs": [
    {
     "data": {
      "text/plain": [
       "_NT (generic function with 1 method)"
      ]
     },
     "execution_count": 28,
     "metadata": {},
     "output_type": "execute_result"
    }
   ],
   "source": [
    "_NT(names) =  eval(Expr(:macrocall, Symbol(\"@NT\"), (x for x in names)...))"
   ]
  },
  {
   "cell_type": "code",
   "execution_count": 49,
   "metadata": {
    "code_folding": [
     0
    ]
   },
   "outputs": [
    {
     "data": {
      "text/plain": [
       "_concatenate (generic function with 1 method)"
      ]
     },
     "execution_count": 49,
     "metadata": {},
     "output_type": "execute_result"
    }
   ],
   "source": [
    "#\n",
    "immutable StateGrid{N}\n",
    "    x::NTuple{N, Vector{Float64}}\n",
    "    invΔx::NTuple{N, Vector{Float64}}\n",
    "    invΔxm::NTuple{N, Vector{Float64}}\n",
    "    invΔxp::NTuple{N, Vector{Float64}}\n",
    "    name::NTuple{N, Symbol}\n",
    "end\n",
    "function StateGrid(x)\n",
    "    names = tuple(keys(x)...)\n",
    "    StateGrid{length(x)}(\n",
    "        map(i -> map(v -> make_Δ(v)[i], tuple(values(x)...)), 1:4)...,\n",
    "        names\n",
    "    )\n",
    "end\n",
    "function make_Δ(x)\n",
    "    n = length(x)\n",
    "    Δxm = zeros(x)\n",
    "    Δxm[1] = x[2] - x[1]\n",
    "    for i in 2:n\n",
    "        Δxm[i] = x[i] - x[i-1]\n",
    "    end\n",
    "    Δxp = zeros(x)\n",
    "    for i in 1:(n-1)\n",
    "        Δxp[i] = x[i+1] - x[i]\n",
    "    end\n",
    "    Δxp[end] = x[n] - x[n-1]\n",
    "    Δx = (Δxm .+ Δxp) / 2\n",
    "    return x, 1./Δx, 1./Δxm, 1./Δxp\n",
    "end\n",
    "function _concatenate(y)\n",
    "    k1 = collect(keys(y))[1]\n",
    "    if length(y) == 1\n",
    "        y[k1]\n",
    "    else\n",
    "        cat(ndims(y[k1]) + 1, values(y)...)\n",
    "    end\n",
    "end"
   ]
  },
  {
   "cell_type": "code",
   "execution_count": 62,
   "metadata": {
    "code_folding": [
     0
    ]
   },
   "outputs": [
    {
     "data": {
      "text/plain": [
       "_setindex! (generic function with 2 methods)"
      ]
     },
     "execution_count": 62,
     "metadata": {},
     "output_type": "execute_result"
    }
   ],
   "source": [
    "#\n",
    "function helper!(F!, y, ydot, ypost, Δ, is_algebraic, ysize)\n",
    "    y = reshape(y, ysize...)\n",
    "    ypost = reshape(ypost, ysize...)\n",
    "    ydot = reshape(ydot, ysize...)\n",
    "    F!(y, ydot)\n",
    "    for i in eachindex(ydot)\n",
    "        if !is_algebraic[i]\n",
    "            ydot[i] = ydot[i] + (ypost[i] - y[i]) / Δ\n",
    "        end\n",
    "    end\n",
    "    ydot = reshape(ydot, length(ydot))\n",
    "    return ydot\n",
    "end\n",
    "\n",
    "# Implicit time step\n",
    "function implicit_time_step(F!, ypost, Δ; is_algebraic = fill(false, size(ypost)...), verbose = true, iterations = 100, method = :newton, autodiff = true, maxdist = 1e-9)\n",
    "    ysize = size(ypost)\n",
    "    ypost = reshape(ypost, prod(ysize))\n",
    "    result = nlsolve((ydot, y) -> helper!(F!, y, ydot, ypost, Δ, is_algebraic, ysize), ypost; iterations = iterations, show_trace = verbose, ftol = maxdist, method = method, autodiff = autodiff)\n",
    "    y = reshape(result.zero, ysize...)\n",
    "    distance = result.residual_norm\n",
    "    return y, distance\n",
    "end\n",
    "function hjb!(apm, grid::StateGrid{Ngrid}, ::Type{Tstate}, ::Type{Tsolution}, y, ydot) where {Ngrid, Tstate, Tsolution}\n",
    "    for i in eachindex(grid)\n",
    "        state = getindex(grid, Tstate, i)\n",
    "        solution = derive(Tsolution, grid, y, i)\n",
    "        drifti = apm(state, solution)[2]\n",
    "        #upwind\n",
    "        solution = derive(Tsolution, grid, y, i, drifti)\n",
    "        outi = apm(state, solution)[1]\n",
    "        _setindex!(ydot, outi, i)\n",
    "    end\n",
    "    return ydot\n",
    "end\n",
    "Base.size(grid::StateGrid) = map(length, grid.x)\n",
    "Base.eachindex(grid::StateGrid) = CartesianRange(size(grid))\n",
    "@generated function Base.getindex(grid::StateGrid{N}, ::Type{T}, args::CartesianIndex) where {T, N}\n",
    "    quote\n",
    "        $(Expr(:meta, :inline))\n",
    "        $(Expr(:call, T, [:(getindex(grid.x[$i], args[$i])) for i in 1:N]...))\n",
    "    end\n",
    "end\n",
    "Base.getindex(grid::StateGrid, x::Symbol) = grid.x[find(collect(grid.name) .== x)[1]]\n",
    "@generated function derive(::Type{Tsolution}, grid::StateGrid{1}, y::AbstractArray, icar, drift = (0.0,)) where {Tsolution}\n",
    "    N = div(length(fieldnames(Tsolution)), 3)\n",
    "    expr = Expr[]\n",
    "    for k in 1:N\n",
    "        push!(expr, :(y[i, $k]))\n",
    "        push!(expr, :(μx >= 0.0 ? (y[min(i + 1, size(y, 1)), $k] - y[i, $k]) * invΔxp[i] : (y[i, $k] - y[max(i - 1, 1), $k]) * invΔxm[i]))\n",
    "        push!(expr, :(y[min(i + 1, size(y, 1)), $k] * invΔxp[i] * invΔx[i] + y[max(i - 1, 1), $k] * invΔxm[i] * invΔx[i] - 2 * y[i, $k] * invΔxp[i] * invΔxm[i]))\n",
    "    end\n",
    "    out = Expr(:call, Tsolution, expr...)\n",
    "    quote\n",
    "        $(Expr(:meta, :inline))\n",
    "        i = icar[1]\n",
    "        μx = drift[1]\n",
    "        invΔx = grid.invΔx[1]\n",
    "        invΔxm = grid.invΔxm[1]\n",
    "        invΔxp = grid.invΔxp[1]\n",
    "        $out\n",
    "    end\n",
    "end\n",
    "@generated function _setindex!(ydot, outi::NTuple{N, T}, i) where {N, T}\n",
    "    quote\n",
    "        $(Expr(:meta, :inline))\n",
    "        $(Expr(:block, [:(setindex!(ydot, outi[$k], i, $k)) for k in 1:N]...))\n",
    "    end\n",
    "end\n",
    "@inline _setindex!(ydot, outi, i) = setindex!(ydot, outi, i)"
   ]
  },
  {
   "cell_type": "code",
   "execution_count": 63,
   "metadata": {
    "scrolled": true
   },
   "outputs": [
    {
     "data": {
      "text/plain": [
       "(pA = Bool[false, false, false, false, false, false, false, false, false, false  …  false, false, false, false, false, false, false, false, false, false], pB = Bool[false, false, false, false, false, false, false, false, false, false  …  false, false, false, false, false, false, false, false, false, false], ϕ1 = Bool[false, false, false, false, false, false, false, false, false, false  …  false, false, false, false, false, false, false, false, false, false], ϕ2 = Bool[false, false, false, false, false, false, false, false, false, false  …  false, false, false, false, false, false, false, false, false, false])"
      ]
     },
     "execution_count": 63,
     "metadata": {},
     "output_type": "execute_result"
    }
   ],
   "source": [
    "apm = m\n",
    "grid = state\n",
    "y0 = y0\n",
    "Tstate = _NT(keys(grid))\n",
    "Tsolution = _NT(all_symbol(collect(keys(y0)), collect(keys(grid))))\n",
    "stategrid = StateGrid(grid)\n",
    "is_algebraic = Dict(k => false for k in keys(y0))\n",
    "is_algebraic = _NT(keys(y0))((fill(is_algebraic[k], size(y0[k])) for k in keys(y0))...)"
   ]
  },
  {
   "cell_type": "code",
   "execution_count": 64,
   "metadata": {},
   "outputs": [
    {
     "data": {
      "text/plain": [
       "F! (generic function with 1 method)"
      ]
     },
     "execution_count": 64,
     "metadata": {},
     "output_type": "execute_result"
    }
   ],
   "source": [
    "F!(y, ydot) = hjb!(apm, stategrid, Tstate, Tsolution, y, ydot)"
   ]
  },
  {
   "cell_type": "code",
   "execution_count": 65,
   "metadata": {},
   "outputs": [
    {
     "name": "stdout",
     "output_type": "stream",
     "text": [
      "(iter, Δ, distance) = (1, 1.0, 0.6347390975001165)\n",
      "(iter, Δ, distance) = (2, 2.2021549419600386, 0.4975381580037612)\n",
      "(iter, Δ, distance) = (3, 11.237681515913554, 0.2578239537364737)\n",
      "(iter, Δ, distance) = (4, 173.48815827641465, 0.025367064318181122)\n",
      "(iter, Δ, distance) = (5, 28212.584527552655, 1.0921715683163799e-5)\n",
      "(iter, Δ, distance) = (6, 2.0968733251923938e9, 2.6637160776884095e-13)\n"
     ]
    },
    {
     "data": {
      "text/plain": [
       "([10.6276 4.46648 100.608 -96.0701; 16.5922 8.02355 160.507 -150.385; … ; 38.0547 31.5067 427.503 -374.537; 38.0722 31.5291 427.737 -374.722], 2.6637160776884095e-13)"
      ]
     },
     "execution_count": 65,
     "metadata": {},
     "output_type": "execute_result"
    }
   ],
   "source": [
    "y, distance = finiteschemesolve((y, ydot) -> hjb!(apm, stategrid, Tstate, Tsolution, y, ydot), _concatenate(y0); is_algebraic = _concatenate(is_algebraic))"
   ]
  },
  {
   "cell_type": "code",
   "execution_count": 68,
   "metadata": {},
   "outputs": [
    {
     "data": {
      "text/plain": [
       "12-element Array{Symbol,1}:\n",
       " :pA  \n",
       " :pAx \n",
       " :pAxx\n",
       " :pB  \n",
       " :pBx \n",
       " :pBxx\n",
       " :ϕ1  \n",
       " :ϕ1x \n",
       " :ϕ1xx\n",
       " :ϕ2  \n",
       " :ϕ2x \n",
       " :ϕ2xx"
      ]
     },
     "execution_count": 68,
     "metadata": {},
     "output_type": "execute_result"
    }
   ],
   "source": [
    "fieldnames(Tsolution)"
   ]
  },
  {
   "cell_type": "code",
   "execution_count": 75,
   "metadata": {},
   "outputs": [
    {
     "data": {
      "text/plain": [
       "derive (generic function with 2 methods)"
      ]
     },
     "execution_count": 75,
     "metadata": {},
     "output_type": "execute_result"
    }
   ],
   "source": [
    "@generated function derive(::Type{Tsolution}, grid::StateGrid{1}, y::AbstractArray, icar, drift = (0.0,)) where {Tsolution}\n",
    "    N = div(length(fieldnames(Tsolution)), 3)\n",
    "    expr = Expr[]\n",
    "    for k in 1:N\n",
    "        push!(expr, :(y[i, $k]))\n",
    "        push!(expr, :(μx >= 0.0 ? (y[min(i + 1, size(y, 1)), $k] - y[i, $k]) * invΔxp[i] : (y[i, $k] - y[max(i - 1, 1), $k]) * invΔxm[i]))\n",
    "        push!(expr, :(y[min(i + 1, size(y, 1)), $k] * invΔxp[i] * invΔx[i] + y[max(i - 1, 1), $k] * invΔxm[i] * invΔx[i] - 2 * y[i, $k] * invΔxp[i] * invΔxm[i]))\n",
    "    end\n",
    "    out = Expr(:call, Tsolution, expr...)\n",
    "    quote\n",
    "        $(Expr(:meta, :inline))\n",
    "        i = icar[1]\n",
    "        μx = drift[1]\n",
    "        invΔx = grid.invΔx[1]\n",
    "        invΔxm = grid.invΔxm[1]\n",
    "        invΔxp = grid.invΔxp[1]\n",
    "        $out\n",
    "    end\n",
    "end"
   ]
  },
  {
   "cell_type": "code",
   "execution_count": 89,
   "metadata": {},
   "outputs": [
    {
     "data": {
      "text/plain": [
       "NamedTuples._NT_pA_pAx_pAxx_pB_pBx_pBxx_ϕ1_ϕ1x_ϕ1xx_ϕ2_ϕ2x_ϕ2xx{Float64,Float64,Float64,Float64,Float64,Float64,Float64,Float64,Float64,Float64,Float64,Float64}"
      ]
     },
     "execution_count": 89,
     "metadata": {},
     "output_type": "execute_result"
    }
   ],
   "source": [
    "typeof(derive(Tsolution, stategrid, y, (:1,)))"
   ]
  },
  {
   "cell_type": "code",
   "execution_count": 95,
   "metadata": {},
   "outputs": [],
   "source": [
    "i = 1\n",
    "for i in eachindex(stategrid)\n",
    "end"
   ]
  },
  {
   "cell_type": "code",
   "execution_count": 117,
   "metadata": {},
   "outputs": [
    {
     "data": {
      "text/plain": [
       "200×4 Array{Float64,2}:\n",
       " 1.01514   1.1387    28.2366  -27.6391\n",
       " 1.01241   1.12758   28.2249  -27.6508\n",
       " 1.01      1.11767   28.2145  -27.6612\n",
       " 1.00786   1.10879   28.2052  -27.6705\n",
       " 1.00595   1.1008    28.1968  -27.6789\n",
       " 1.00423   1.09357   28.1892  -27.6864\n",
       " 1.00268   1.08699   28.1824  -27.6933\n",
       " 1.00128   1.081     28.1761  -27.6996\n",
       " 1.0       1.07552   28.1704  -27.7053\n",
       " 0.998836  1.07048   28.1651  -27.7105\n",
       " 0.99777   1.06585   28.1603  -27.7153\n",
       " 0.99679   1.06157   28.1559  -27.7198\n",
       " 0.995889  1.05761   28.1518  -27.7239\n",
       " ⋮                                    \n",
       " 0.979596  0.982009  28.0776  -27.798 \n",
       " 0.979591  0.981982  28.0776  -27.798 \n",
       " 0.979585  0.981955  28.0776  -27.7981\n",
       " 0.97958   0.981928  28.0776  -27.7981\n",
       " 0.979575  0.981902  28.0776  -27.7981\n",
       " 0.97957   0.981877  28.0775  -27.7981\n",
       " 0.979565  0.981851  28.0775  -27.7981\n",
       " 0.97956   0.981826  28.0775  -27.7981\n",
       " 0.979555  0.981801  28.0775  -27.7982\n",
       " 0.97955   0.981777  28.0775  -27.7982\n",
       " 0.979545  0.981753  28.0775  -27.7982\n",
       " 0.97954   0.981729  28.0774  -27.7982"
      ]
     },
     "execution_count": 117,
     "metadata": {},
     "output_type": "execute_result"
    }
   ],
   "source": [
    "ydot = zeros(_concatenate(y0))\n",
    "_concatenate(F!(_concatenate(y0), ydot))\n",
    "ydot"
   ]
  },
  {
   "cell_type": "code",
   "execution_count": 137,
   "metadata": {},
   "outputs": [],
   "source": [
    "grid = stategrid\n",
    "y = _concatenate(y0)\n",
    "pAx = zeros(_concatenate(y0))\n",
    "\n",
    "for i in eachindex(grid)\n",
    "        state = getindex(grid, Tstate, i)\n",
    "        solution = derive(Tsolution, grid, y, i)\n",
    "        outi = apm(state, solution)[1]\n",
    "        _setindex!(ydot, outi, i)\n",
    "        _setindex!(pAx, derive(Tsolution, grid, y, i).pAx, i)\n",
    "    end"
   ]
  },
  {
   "cell_type": "code",
   "execution_count": 141,
   "metadata": {},
   "outputs": [
    {
     "data": {
      "text/plain": [
       "(pA = 1.0, pAx = 0.0, pAxx = 0.0, pB = 1.0, pBx = 0.0, pBxx = 0.0, ϕ1 = 1.0, ϕ1x = 0.0, ϕ1xx = 0.0, ϕ2 = 1.0, ϕ2x = 0.0, ϕ2xx = 0.0)"
      ]
     },
     "execution_count": 141,
     "metadata": {},
     "output_type": "execute_result"
    }
   ],
   "source": [
    "derive(Tsolution, grid, y, 2)"
   ]
  },
  {
   "cell_type": "code",
   "execution_count": 144,
   "metadata": {},
   "outputs": [
    {
     "data": {
      "text/plain": [
       "(0.9795403214285715, 0.981729073482143, 28.07744188964703, -27.798208881088907)"
      ]
     },
     "execution_count": 144,
     "metadata": {},
     "output_type": "execute_result"
    }
   ],
   "source": [
    "apm(state, derive(Tsolution, grid, y, 1))[1]"
   ]
  },
  {
   "cell_type": "code",
   "execution_count": 5,
   "metadata": {},
   "outputs": [
    {
     "data": {
      "text/html": [
       "28.23659656821846"
      ],
      "text/plain": [
       "28.23659656821846"
      ]
     },
     "execution_count": 5,
     "metadata": {},
     "output_type": "execute_result"
    }
   ],
   "source": [
    "γA = m.γA ; ψA = m.ψA ; γB = m.γB ; ψB = m.ψB ; ρ = m.ρ ; δ = m.δ ; νA = m.νA ; μ = m.μ ; σ = m.σ; B1 = m.B1 ; δ1 = m.δ1 ; B2 = m.B2 ; δ2 = m.δ2 ; ω = m.ω\n",
    "x = collect(linspace(0, 1, 200))\n",
    "pA = ones(200) ; pAx =  zeros(200) ; pAxx = zeros(200) ; pB =  ones(200) ; pBx = zeros(200) ; \n",
    "pBxx =zeros(200) ; ϕ1 =  ones(200) ; ϕ1x = zeros(200) ; ϕ1xx =zeros(200) ; \n",
    "ϕ2 =  ones(200) ; ϕ2x = zeros(200) ; ϕ2xx =zeros(200)\n",
    "\n",
    "# volatility of X, pA, pB, ϕ1, ϕ2, CA, CB and market price of risk κ\n",
    "Γ = @. 1 / (x / γA + (1 - x) / γB) #check\n",
    "p = @. x * pA + (1 - x) * pB \n",
    "σx = @. σ * x * (Γ / γA - 1) / (1 + Γ * x * (1 - x) / (γA * γB) * ((1 - γB * ψB) / (ψB - 1) * (pBx / pB) - (1 - γA * ψA) / (ψA - 1) * (pAx / pA)))\n",
    "σpA = @. pAx / pA * σx\n",
    "σpB = @. pBx / pB * σx\n",
    "σϕ1 = @. ϕ1x / ϕ1 * σx\n",
    "σϕ2 = @. ϕ2x / ϕ2 * σx\n",
    "κ = @. Γ * (σ - x * (1 - γA * ψA) / (γA * (ψA - 1)) * σpA - (1 - x) * (1 - γB * ψB) / (γB * (ψB - 1)) * σpB)\n",
    "σCA = @. κ / γA + (1 - γA * ψA) / (γA * (ψA - 1)) * σpA\n",
    "σCB = @. κ / γB + (1 - γB * ψB) / (γB * (ψB - 1)) * σpB\n",
    "\n",
    "# drift of X, pA, pB, ϕ1, ϕ2, CA, CB and interest rate r\n",
    "mcA = @. κ^2 * (1 + ψA) / (2 * γA) + (1 - ψA * γA) / (γA * (ψA - 1)) * κ * σpA - (1 - γA * ψA) / (2 * γA * (ψA - 1)) * σpA^2\n",
    "mcB = @. κ^2 * (1 + ψB) / (2 * γB) + (1 - ψB * γB) / (γB * (ψB - 1)) * κ * σpB - (1 - γB * ψB) / (2 * γB * (ψB - 1)) * σpB^2\n",
    "r =  @. ρ + 1 / (ψA * x  + ψB * (1 - x))  * (μ - x * mcA - (1 - x) * mcB - δ * ((νA / pA + (1 - νA) / pB) * (ϕ1 + ϕ2) - 1))\n",
    "μCA = @. ψA * (r - ρ) + mcA\n",
    "μCB = @. ψB * (r - ρ) + mcB\n",
    "μx = @. x * (μCA - δ - μ) + δ * νA / pA * (ϕ1 + ϕ2) - σ * σx\n",
    "μpA = @. pAx / pA * μx + 0.5 * pAxx / pA * σx^2\n",
    "μpB = @. pBx / pB * μx + 0.5 * pBxx / pB * σx^2\n",
    "μϕ1 = @. ϕ1x / ϕ1 * μx + 0.5 * ϕ1xx / ϕ1 * σx^2\n",
    "μϕ2 = @. ϕ2x / ϕ2 * μx + 0.5 * ϕ2xx / ϕ2 * σx^2\n",
    "\n",
    "# PDE\n",
    "pAt = @. pA * (1 / pA + (μCA - δ) + μpA + σCA * σpA - r - κ * (σpA + σCA))\n",
    "pBt = @. pB * (1 / pB + (μCB - δ) + μpB + σCB * σpB - r - κ * (σpB + σCB))\n",
    "ϕ1t = @. ϕ1 * (B1 * ω / ϕ1 + (μ - δ - δ1) + μϕ1 + σ * σϕ1 - r - κ * (σϕ1 + σ))\n",
    "ϕ2t = @. ϕ2 * (B2 * ω / ϕ2 + (μ - δ - δ2) + μϕ2 + σ * σϕ2 - r - κ * (σϕ2 + σ))\n",
    "\n",
    "maximum(vcat(pAt, pBt, ϕ1t, ϕ2t))"
   ]
  },
  {
   "cell_type": "code",
   "execution_count": 7,
   "metadata": {},
   "outputs": [
    {
     "data": {
      "text/plain": [
       "200-element Array{Float64,1}:\n",
       " 1.1387  \n",
       " 1.12758 \n",
       " 1.11767 \n",
       " 1.10879 \n",
       " 1.1008  \n",
       " 1.09357 \n",
       " 1.08699 \n",
       " 1.081   \n",
       " 1.07552 \n",
       " 1.07048 \n",
       " 1.06585 \n",
       " 1.06157 \n",
       " 1.05761 \n",
       " ⋮       \n",
       " 0.982009\n",
       " 0.981982\n",
       " 0.981955\n",
       " 0.981928\n",
       " 0.981902\n",
       " 0.981877\n",
       " 0.981851\n",
       " 0.981826\n",
       " 0.981801\n",
       " 0.981777\n",
       " 0.981753\n",
       " 0.981729"
      ]
     },
     "execution_count": 7,
     "metadata": {},
     "output_type": "execute_result"
    }
   ],
   "source": [
    "pBt"
   ]
  },
  {
   "cell_type": "code",
   "execution_count": 8,
   "metadata": {},
   "outputs": [
    {
     "data": {
      "text/plain": [
       "200-element Array{Float64,1}:\n",
       " 1.0\n",
       " 1.0\n",
       " 1.0\n",
       " 1.0\n",
       " 1.0\n",
       " 1.0\n",
       " 1.0\n",
       " 1.0\n",
       " 1.0\n",
       " 1.0\n",
       " 1.0\n",
       " 1.0\n",
       " 1.0\n",
       " ⋮  \n",
       " 1.0\n",
       " 1.0\n",
       " 1.0\n",
       " 1.0\n",
       " 1.0\n",
       " 1.0\n",
       " 1.0\n",
       " 1.0\n",
       " 1.0\n",
       " 1.0\n",
       " 1.0\n",
       " 1.0"
      ]
     },
     "execution_count": 8,
     "metadata": {},
     "output_type": "execute_result"
    }
   ],
   "source": [
    "pA"
   ]
  },
  {
   "cell_type": "code",
   "execution_count": 9,
   "metadata": {},
   "outputs": [
    {
     "data": {
      "text/plain": [
       "200×4 Array{Float64,2}:\n",
       " 24.3253  -22.1671  0.537965  0.57492 \n",
       " 24.4766  -22.304   0.536406  0.571404\n",
       " 24.6085  -22.4233  0.535056  0.568383\n",
       " 24.7249  -22.5286  0.533871  0.565752\n",
       " 24.8286  -22.6224  0.532819  0.563434\n",
       " 24.9218  -22.7068  0.531877  0.561372\n",
       " 25.0063  -22.7832  0.531027  0.559522\n",
       " 25.0833  -22.8528  0.530254  0.557851\n",
       " 25.154   -22.9167  0.529549  0.556332\n",
       " 25.2191  -22.9756  0.528901  0.554942\n",
       " 25.2795  -23.0302  0.528303  0.553664\n",
       " 25.3356  -23.081   0.52775   0.552483\n",
       " 25.3881  -23.1285  0.527236  0.551387\n",
       "  ⋮                                   \n",
       " 27.0862  -24.6632  0.51361   0.519765\n",
       " 27.0885  -24.6653  0.513597  0.519726\n",
       " 27.0907  -24.6674  0.513583  0.519688\n",
       " 27.093   -24.6694  0.513569  0.51965 \n",
       " 27.0952  -24.6715  0.513556  0.519612\n",
       " 27.0975  -24.6735  0.513543  0.519575\n",
       " 27.0997  -24.6755  0.513529  0.519538\n",
       " 27.1019  -24.6774  0.513516  0.519501\n",
       " 27.1041  -24.6794  0.513503  0.519464\n",
       " 27.1062  -24.6814  0.51349   0.519428\n",
       " 27.1083  -24.6833  0.513478  0.519392\n",
       " 27.1105  -24.6852  0.513465  0.519356"
      ]
     },
     "execution_count": 9,
     "metadata": {},
     "output_type": "execute_result"
    }
   ],
   "source": [
    "hcat(result[:ϕ1], result[:ϕ2], 1./result[:pA], 1./result[:pB])"
   ]
  },
  {
   "cell_type": "code",
   "execution_count": null,
   "metadata": {},
   "outputs": [],
   "source": []
  },
  {
   "cell_type": "code",
   "execution_count": null,
   "metadata": {},
   "outputs": [],
   "source": []
  }
 ],
 "metadata": {
  "kernelspec": {
   "display_name": "Julia 0.6.2",
   "language": "julia",
   "name": "julia-0.6"
  },
  "language_info": {
   "file_extension": ".jl",
   "mimetype": "application/julia",
   "name": "julia",
   "version": "0.6.2"
  }
 },
 "nbformat": 4,
 "nbformat_minor": 2
}
