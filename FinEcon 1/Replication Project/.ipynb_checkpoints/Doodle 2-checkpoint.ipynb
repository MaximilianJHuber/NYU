{
 "cells": [
  {
   "cell_type": "code",
   "execution_count": 1,
   "metadata": {},
   "outputs": [],
   "source": [
    "mutable struct StackmanModel\n",
    "    \n",
    "    # utility function \n",
    "    β::Float64\n",
    "    γ::Float64\n",
    "\n",
    "    # stochastic process\n",
    "    μ::Float64\n",
    "    σ::Float64\n",
    "    \n",
    "end"
   ]
  },
  {
   "cell_type": "code",
   "execution_count": 2,
   "metadata": {},
   "outputs": [
    {
     "data": {
      "text/plain": [
       "StackmanModel"
      ]
     },
     "execution_count": 2,
     "metadata": {},
     "output_type": "execute_result"
    }
   ],
   "source": [
    "function StackmanModel(;μ = 0.2, γ = 2., σ = 0.36, β = 0.95)\n",
    "    StackmanModel(β, γ, μ, σ)\n",
    "end"
   ]
  },
  {
   "cell_type": "code",
   "execution_count": 10,
   "metadata": {},
   "outputs": [
    {
     "data": {
      "text/plain": [
       "initialize_y (generic function with 1 method)"
      ]
     },
     "execution_count": 10,
     "metadata": {},
     "output_type": "execute_result"
    }
   ],
   "source": [
    "function initialize_state(m::StackmanModel; m_gird_length = 100, λ_gird_length = 100)\n",
    "    OrderedDict(:m => linspace(-1., 2., m_gird_length), \n",
    "        :λ => linspace(0., 1., λ_gird_length))\n",
    "end\n",
    "\n",
    "function initialize_y(m::StackmanModel, state)\n",
    "    OrderedDict(:v => fill(100.0, length(state[:m]), length(state[:λ])))\n",
    "end"
   ]
  },
  {
   "cell_type": "code",
   "execution_count": 11,
   "metadata": {},
   "outputs": [],
   "source": [
    "function (m::StackmanModel)(state, y)\n",
    "    #unpack constants, state, current solution\n",
    "    β = m.β; γ = m.γ; μ = m.μ; σ = m.σ\n",
    "    m = state.m; λ = state.λ\n",
    "    v = y.v; vm = y.vm; vmm = y.vmm; vλ = y.vλ; vλλ = y.vλλ; vmλ = y.vmλ\n",
    "    \n",
    "    # drift\n",
    "    μm = λ * (μ - m)\n",
    "    μλ = - λ^2\n",
    "    \n",
    "    # PDE\n",
    "    vt = μ + σ^2 / 2 * (1 - γ) \n",
    "        - β * v - vλ * λ^2\n",
    "        + vm * λ * (μ - m + (1 + γ) * σ^2)\n",
    "        + vm^2 * λ^2 * σ^2 / 2 * (1 - γ)\n",
    "        + vmm * λ^2 * σ^2 / 2\n",
    "    \n",
    "    return vt, (μm, μλ), tuple(:v => v)\n",
    "end"
   ]
  },
  {
   "cell_type": "code",
   "execution_count": 12,
   "metadata": {},
   "outputs": [],
   "source": [
    "using EconPDEs # install: Pkg.clone(\"https://github.com/matthieugomez/EconPDEs.jl\")\n",
    "m = StackmanModel()\n",
    "state = initialize_state(m)\n",
    "y0 = initialize_y(m, state);"
   ]
  },
  {
   "cell_type": "code",
   "execution_count": null,
   "metadata": {},
   "outputs": [
    {
     "name": "stdout",
     "output_type": "stream",
     "text": [
      "(iter, Δ, distance) = (1, 1.0, 0.0013520000000000001)\n",
      "(iter, Δ, distance) = (2, 2.0, 0.0013520000000000001)\n"
     ]
    }
   ],
   "source": [
    "y, result, distance = pdesolve(m, state, y0; iterations = 2)"
   ]
  },
  {
   "cell_type": "code",
   "execution_count": null,
   "metadata": {},
   "outputs": [],
   "source": [
    "y[:v]"
   ]
  },
  {
   "cell_type": "code",
   "execution_count": null,
   "metadata": {},
   "outputs": [],
   "source": []
  }
 ],
 "metadata": {
  "kernelspec": {
   "display_name": "Julia 0.6.2",
   "language": "julia",
   "name": "julia-0.6"
  },
  "language_info": {
   "file_extension": ".jl",
   "mimetype": "application/julia",
   "name": "julia",
   "version": "0.6.2"
  }
 },
 "nbformat": 4,
 "nbformat_minor": 2
}
